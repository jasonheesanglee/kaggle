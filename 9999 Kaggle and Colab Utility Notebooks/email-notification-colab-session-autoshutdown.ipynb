{
 "cells": [
  {
   "cell_type": "markdown",
   "id": "3e4b45ec",
   "metadata": {
    "papermill": {
     "duration": 0.014531,
     "end_time": "2023-09-27T05:55:52.592558",
     "exception": false,
     "start_time": "2023-09-27T05:55:52.578027",
     "status": "completed"
    },
    "tags": []
   },
   "source": [
    "# How to work on Colab\n",
    "## Email Notification & Session Auto Shutdown\n",
    "\n",
    "![email](data:image/png;base64,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)![colab](data:image/png;base64,iVBORw0KGgoAAAANSUhEUgAAAOAAAADgCAMAAAAt85rTAAABAlBMVEX////5qwDocQr5qQDobwD5rAD5pwDnagDnbADnbgrnaAD7x1rsggv///35pQD3pQj+8tr//ffmYwDuixLqgDj/+u/6vkf6szb//PX6vE/0waj95rj+9uHzmQn7w27+9ub5siv7zIP64tL3z7TshSbzupP97ML825D803z5swD947j8znL83aX+7s/7zXv6uTT0wZ787N7++uvtlFb0vIv83ZzytpbsjUj64sz92Ij95a/7wUD7yl/6vCr7w0z+6sz70ZD7wmDvoGnxpGTpeBv2yqnsiz/3vXH2won2y6XsiDHumV/wpXf7yYDrhDrvpHn308DumU/1v5PysHj527/62K2S7IuEAAAL8klEQVR4nO2d+Vca2RLHpW9vgWmmOxECgREURYEGbJeIJiq4zdP4TFze//+vvN5Qlr51l25z3ptTn1+SOWeoU9+uu9ate7OygiAIgiAIgiAIgiAIgiAIgiAIgiAIgiAIgiAIgiAIgiAIgiAIIodd2z4uxPS2D9t7Ke1Z/ZPt7djejm+vnomXMo44lf72t06xWNR1nUT4f/P/u/P9sFFxhA06lUZt51QLDc7bK2zbFcd6Bw2AMw3bPdOKviO5ZXy/ip1e1y4JGCzVz3unJNlgaK/g2o3fprF0Pi7nksXNOOVr7HPG0e4OTv2wQfaIrlXdc5FvJo3trnVAca8ayXC9xnbJqo3LGqjuVWNnzX33Llnn82aqsTk5rID2KidrTZ7PFdvTquv2e8qrHDdzvN7En10bHgIGa2WNW15kMNfcSTtQU3F2+IM345LeaScPD5b9De7JyfYIOX6X4abSPi2Ky4tc6tnLLln1HXF1kT292YUbvgRWfyDWOOddarqL7apUG0o0h6m93CDjrmi5ZcnPPfVo0p8zaA+0VPb0sptlO3V6zTTuhC4NZz2qVVN9r8CeNshuVqynC1/sUfOtVW2nCl9sjxT6gM8itFOHL0DvTe1Vehl8r1zwyWpZyLPcDD530KSm67b6RM/AXmiz44ov6t9JX06fzvf9aib2QkjuMO1QY4072egrxzNXv5xV/AKINk4p8OmTlo0j7Vjf5yz15bQ//9hNpe9WUf/KQqE+iDpLo5q1PlVJo3BXURUlA4VkGI3oe5Ps+l8u1PdBSaPw5cHXp3z4K70rbmivlNn4GRLqUxT1qiWpb+PIVJRQYcoYkmq4T3XG2QiLifUpink3ktJXuYj0pVZItHBCtk6ymXBiXvUpirEvs2qztlTllVQKSSEcYexMFkRTZvT5Cu8lBI7UGYFpFBItXIRamU6Ac/p8hRLdUJnVl0ZhvAg95tcXp0WBgPv65rxTVz1RfZeGonAqJATyiHTCNYzNt18OrGia1vTx/6CJXIhfoPBCUN/LQgBpCoOEpdashnxuJnlETgJ7ToFHn2+sPBlsuzXb5+TkeDAZJqWBlvX5c8W1kL7K/pK+JIWBQ+vuSduuB/Rr7nhtSOY90gthAHmW7IQM1935ZLHTdteX0ooJ+vy5Yl+oke5eLetbUkj0odteSCft9bu9zoxE0gkXoXX2FoKQM7efsDewzhfSJYn6/BjuCmwsvH0zwcS8QqKXu/UkmyV73HkdUPT1IICWywyffnpCO3ywGu7p2whF0aeoNwIhbCU00HmFRO+cUDebVqMXZxjjRahdZgSQ6D3o/Mja25mmLBfHzzcM/hB6R8kBfFNIcsewif63sFlp4TbXcouwPDJkZgH7UVekxS8I4R+8IbRai1PEgkJCym2Wkcqxv3Ah1TAd2jgFA0i0XoPtVf27P04B+hQl/8QpsEIPYKiQzyGrOyRaOEWs1MA53t+Vc502lNa1HKTPnyo42+gLEMBAYYczI3neLER/AQNICG8KtzQG9fkh5FywXUIB9D/U37xr9/Nom9sHA6jzp6gr/8rDnt1wmbFgK8alaCKrBwks9gQyf9YN2LjUqw0eK7egQJPvK83gQIsYcia0lbPuwNalHvAYuaFNgqG+B+GDqxrUAdnzwzzeFeSdus9hogGZUK/EswM9egCJ5goas3ZBgasvbBO3UBswt4QzyRVgGUomwrkG7wfYSDkybBfAJxJcsocARzdSpyctqIWZ98whq3IEtVCJFOQhPRVACuLmVpwLIITqETMCL6t0gTIBXPk3MElIHX/dJm7lYoGbzE4I/VzZEnenQU9mk6GMvhULbGNfWD/fov9afZAIYH9IFahvy+hbWTkABBpfGaOg9ZPewoUTOwE1+hijSx6yb0CjzAXDKDQKq2J5nQj6Xl6yhfpsAq2MNUxsAOsYVab6xqWOMTpjz0wH2A2om4zl6OiOKlC9k/ClNKAKLDI3zTSu6atl5nq7RR9EjWcJX0rAVoJj15yM95HqpJL/Bf8WEJiX6YJ1asKXnMoX8gCbJpbAL/QumOfabC1Az6cJbpRmsYBRJn8NzxNf6M37o0xNCiCw8C4CjS3YzS/06H+UKUn5vxIo4wsKlOEfLxBayvwPCSzLC1w+vMxCYF5iLwEJ7EhP9A4w0bOOYFr0n/Lmjeewz+ibCWmBIyCxmWIlY3AlHRco0XNqRely1qcUAl/o/ZczMT4PsNh+KwEW5RHKyrB2E/TtkqrIOEPfLpGOZDGrBYwxzO2Sl1R9MP0xR1Z1CZeeFS1K3n24hnIyrINs6x7YTMrsl2r0imHZNgpmbi9YYz2UdDqSmLnAvK9UG/UeoKQTYxoMamDpAgWLbUKgAhICXUyjskX30I8gM20IDKN+/MWzMtYAEFiVaBK0EpcIdnFsCUirStXWjoEqPk0iM7oF6VOP2LtyuAuLf3IgMeqHUHgg3YB6oGLes9vYE3gAx0gIJNAAi4COBRu9A4zygX8chwvgGapM9h6qtCdaV+yL3UKfn+fsZQXcbAUHTMICD4EA+lOF0L1qD1jEKLwT2TNYySCeHd0DS2GFFmwl8ISe9/SkBJeR5G9FFRbgOplv3Nm60g1cwaMofBUEsBlVueX1qBE1mDZcrc19UA+tkyPXHvgMQbV4ivLhU5Pz1p5d2An/tMALbNqff/zgSilvsPRxV+N50DDz4RMhzW2ewb1fnd45OwSqKYP6QfWIsUsNaIElgiEG55xj7dJ7oa9P8wf37+xWVRsGrS8cQRr0EEb1kerqAaNROM9XbH3c498G9Qwt1Be+4MA6++oFY2dc6ONQ70xM63dVFb5/9HKjstqnb4R7jq5Q13uRvkCiXgDed3FqJJIUX8uyKQWVM/Wtav5xgxJFZ/RosOUpBqsVzEA7533V56Nr68lv4liNbvm17p6Mg8/gjBMFztfvmurjL2+pF1W8X48ms3UGX2hTZJGVuO39MKsvrEsfdPuLHjXO3fJMeSFphjWj/c8JCpfqk03j7uevkff62UreqHV/l+eRF1SZiZx+eQmbpgV9ueheyMCt9ePVlmO33fGkOX8xhPTCewUJm6ak+mvVMDf3779+3b2+3v369WJ/0+RpnOEvOTZKsyxv7Jf1hf4TrVmuroVMqsPluz3+cjoM7NKegnr/QTWNYCL2/zA5RpbXn4kWKS0uZ5L1RRoJdD2LnIb2Dpfv53A7z6NPOF/kLSxnqPqYFKP1zPe5qQK8HyCh70o8pfk0F0J5fX4jDQ8hKrM7+4z1KXmJYwVrpmyR3j65FPbCGbP2Nrhmrc88Etc3e8Ennb5p3av1egk7a33MfD0lhK140Z1SX7AkDRvpXnzSlLk+VfYiffgQQnp9r7XndvjQQ8bjp+DNwXme1Sz0BcfVUXowWNBkHT9F5UgV0hUaacbPN4rjaB1Va5Ls9aV5NMf6kYk+v5HG7y/VSMb6DIlc9CyNtWyeL9CnBfb/YSTGBMnL1MnPK0zzYNyswpPYYIu9NefH+JlWn78CGWTyhhbpTLvKywN8P5EfNX+fxdtq1nEmr4i8nedusNNHfPpUoS0gwEkW74jMPBxXuRDYB1Ex72QqdJPpp36pzx9H12ea00Hqjqga+3LP5CTTWG+meiyFkOH8RbrWvpkqiKaSwfAyi9NN874h0QaL7xB6B0qKIBpHrYy63xsl2fdO/fGlWVteTTmjG/iUBwifepBt+CLkXqwNHmTZoSwWnwyZdqrmRV6tEEP4zeHg0eEe/RmA0vOq4Hjq/+832Q2ey1TctabAy7Uk95nxVq13cKTyh1E1r35cZ9755rFq64tv4tDU6dpkzH7j1Nv9cZXnkaiaxt1WK/PXixMk9t1Jh9Ubia6fDrp85+/er61HlZXgNY2ryy+j3/XcfcnuUt/yD4eV4ulOt86/TnS8jYO7fJ7WVlUjr1xee1msO/lxSufH33Iz/3bC9F9QKBa1s8NSRfRbW453e7n5MZ83TFOdYpqGkf9o3hyMfve/xzBlr729Uyh/nnJWOD5cOo4RYnR7cHn5sBqzf/n8NPoNvQ5BEARBEARBEARBEARBEARBEARBEARBEARBEARBEARBEARBkH8i/wUykis/56qvcAAAAABJRU5ErkJggg==)\n",
    "\n",
    "This was supposed to be my baseline to work on [Predict Health Outcomes of Horses (playground-series-s3e22)](https://www.kaggle.com/competitions/playground-series-s3e22) with optuna.<br>\n",
    "However, I gave too much of `n_trials`, and the Kaggle notebook crashed...<br>\n",
    "To prevent that to happen again, I decided to move to Colab.<br>\n",
    "\n",
    "Below is the code to enable email notification & Session Auto Shutdown.<br>\n",
    "<br>\n",
    "### Email Notification\n",
    "You have to search the config for your own email provider.<br>\n",
    "For gmail users, simply `ctrl` / `cmd` + `f` change `email` to `gmail`.<br><br>\n",
    "Once you get your App Passwords from<br>`Security` - `2-step verification` setting, enter that password for email_pw,<br> it will work fine for you.<br>\n",
    "```\n",
    "import smtplib\n",
    "from smtplib import SMTPException\n",
    "from getpass import getpass\n",
    "\n",
    "email_user = 'your_@email.com'\n",
    "email_pw = getpass('Enter your Password : ')\n",
    "\n",
    "mail_from = email_user\n",
    "mail_to = 'maybe_another_@email.com'\n",
    "\n",
    "mail_subject = 'TEST'\n",
    "mail_message_body = 'test_message_body'\n",
    "\n",
    "mail_message = f'From: {mail_from}\\nTo: {mail_to}\\nSubject: {mail_subject}\\n\\n{mail_message_body}'\n",
    "try:\n",
    "    server = smtplib.SMTP_SSL('smtp.email.com', 465)\n",
    "    server.login(email_user, email_pw)\n",
    "    server.sendmail(mail_from, mail_to, mail_message)\n",
    "    server.close()\n",
    "    print(\"Successfully sent email\")\n",
    "except SMTPException:\n",
    "    print(\"Error: unable to send email\")\n",
    "```\n",
    "<br>\n",
    "\n",
    "### Session Auto Shutdown:\n",
    "I believe this is essential for `Pro` & `Pro+` users.<br>\n",
    "You can place the code below, into `try` & `except` phrase 😊\n",
    "<br>\n",
    "```\n",
    "from google.colab import runtime\n",
    "runtime.unassign()\n",
    "```\n",
    "<br>\n",
    "\n",
    "Now the baseline starts, you will be able to see the implementations of above functions when you download this and bring it to your colab."
   ]
  },
  {
   "cell_type": "code",
   "execution_count": 1,
   "id": "f4ea9a63",
   "metadata": {
    "execution": {
     "iopub.execute_input": "2023-09-27T05:55:52.622167Z",
     "iopub.status.busy": "2023-09-27T05:55:52.621281Z",
     "iopub.status.idle": "2023-09-27T05:55:52.626278Z",
     "shell.execute_reply": "2023-09-27T05:55:52.625561Z"
    },
    "papermill": {
     "duration": 0.022156,
     "end_time": "2023-09-27T05:55:52.628334",
     "exception": false,
     "start_time": "2023-09-27T05:55:52.606178",
     "status": "completed"
    },
    "tags": []
   },
   "outputs": [],
   "source": [
    "## Use below in Colab\n",
    "# !pip install -q optuna tensorflow catboost"
   ]
  },
  {
   "cell_type": "code",
   "execution_count": 2,
   "id": "10b34caa",
   "metadata": {
    "execution": {
     "iopub.execute_input": "2023-09-27T05:55:52.657247Z",
     "iopub.status.busy": "2023-09-27T05:55:52.656881Z",
     "iopub.status.idle": "2023-09-27T05:56:07.025359Z",
     "shell.execute_reply": "2023-09-27T05:56:07.024439Z"
    },
    "papermill": {
     "duration": 14.386044,
     "end_time": "2023-09-27T05:56:07.027884",
     "exception": false,
     "start_time": "2023-09-27T05:55:52.641840",
     "status": "completed"
    },
    "tags": []
   },
   "outputs": [],
   "source": [
    "import warnings\n",
    "warnings.filterwarnings(\"ignore\")\n",
    "warnings.simplefilter(\"ignore\")\n",
    "import logging\n",
    "logging.disable(logging.ERROR)\n",
    "import os\n",
    "os.environ['TRANSFORMERS_NO_ADVISORY_WARNINGS'] = 'true'\n",
    "os.environ[\"TOKENIZERS_PARALLELISM\"] = \"false\"\n",
    "os.environ['TF_CPP_MIN_LOG_LEVEL'] = '3'\n",
    "\n",
    "## Use below in Colab\n",
    "# import shutil\n",
    "# from getpass import getpass\n",
    "\n",
    "import os\n",
    "import optuna\n",
    "import pickle\n",
    "import random\n",
    "import numpy as np\n",
    "import pandas as pd\n",
    "import tensorflow as tf\n",
    "from tqdm.auto import tqdm\n",
    "from sklearn.svm import SVC\n",
    "from functools import partial\n",
    "from sklearn.metrics import auc\n",
    "from sklearn.impute import KNNImputer\n",
    "from tensorflow.keras import Sequential\n",
    "from xgboost.sklearn import XGBClassifier\n",
    "from lightgbm import LGBMClassifier as lgb\n",
    "from catboost import CatBoostClassifier as cat\n",
    "from tensorflow.keras.optimizers import SGD, Adam\n",
    "from sklearn.ensemble import RandomForestClassifier\n",
    "from sklearn.linear_model import LogisticRegression\n",
    "from sklearn.model_selection import train_test_split\n",
    "from sklearn.model_selection import KFold, StratifiedKFold\n",
    "from tensorflow.keras.callbacks import ReduceLROnPlateau, EarlyStopping\n",
    "from tensorflow.keras.layers import Input, Dense, ReLU, Softmax, Dropout\n",
    "from statsmodels.stats.outliers_influence import variance_inflation_factor\n",
    "from sklearn.metrics import roc_auc_score, roc_curve, make_scorer, f1_score\n",
    "from sklearn.metrics import confusion_matrix, classification_report, accuracy_score\n"
   ]
  },
  {
   "cell_type": "code",
   "execution_count": 3,
   "id": "98c34ec0",
   "metadata": {
    "execution": {
     "iopub.execute_input": "2023-09-27T05:56:07.057051Z",
     "iopub.status.busy": "2023-09-27T05:56:07.056755Z",
     "iopub.status.idle": "2023-09-27T05:56:07.065178Z",
     "shell.execute_reply": "2023-09-27T05:56:07.063951Z"
    },
    "papermill": {
     "duration": 0.0256,
     "end_time": "2023-09-27T05:56:07.067399",
     "exception": false,
     "start_time": "2023-09-27T05:56:07.041799",
     "status": "completed"
    },
    "tags": []
   },
   "outputs": [
    {
     "data": {
      "text/plain": [
       "\"\\nsecret = getpass('Enter the secret value: ')\\nos.environ['KAGGLE_USERNAME'] = 'your_kaggle_username'\\nos.environ['KAGGLE_KEY'] = secret\\n\""
      ]
     },
     "execution_count": 3,
     "metadata": {},
     "output_type": "execute_result"
    }
   ],
   "source": [
    "## Use below in Colab\n",
    "'''\n",
    "secret = getpass('Enter the secret value: ')\n",
    "os.environ['KAGGLE_USERNAME'] = 'your_kaggle_username'\n",
    "os.environ['KAGGLE_KEY'] = secret\n",
    "'''"
   ]
  },
  {
   "cell_type": "code",
   "execution_count": 4,
   "id": "1c84be80",
   "metadata": {
    "execution": {
     "iopub.execute_input": "2023-09-27T05:56:07.100458Z",
     "iopub.status.busy": "2023-09-27T05:56:07.099846Z",
     "iopub.status.idle": "2023-09-27T05:56:07.103625Z",
     "shell.execute_reply": "2023-09-27T05:56:07.102679Z"
    },
    "papermill": {
     "duration": 0.023769,
     "end_time": "2023-09-27T05:56:07.105636",
     "exception": false,
     "start_time": "2023-09-27T05:56:07.081867",
     "status": "completed"
    },
    "tags": []
   },
   "outputs": [],
   "source": [
    "## Use below in Colab\n",
    "# !kaggle competitions download -c playground-series-s3e22"
   ]
  },
  {
   "cell_type": "code",
   "execution_count": 5,
   "id": "f84123c3",
   "metadata": {
    "execution": {
     "iopub.execute_input": "2023-09-27T05:56:07.136076Z",
     "iopub.status.busy": "2023-09-27T05:56:07.135464Z",
     "iopub.status.idle": "2023-09-27T05:56:07.141141Z",
     "shell.execute_reply": "2023-09-27T05:56:07.140195Z"
    },
    "papermill": {
     "duration": 0.023763,
     "end_time": "2023-09-27T05:56:07.143568",
     "exception": false,
     "start_time": "2023-09-27T05:56:07.119805",
     "status": "completed"
    },
    "tags": []
   },
   "outputs": [
    {
     "data": {
      "text/plain": [
       "\"\\nfrom zipfile import ZipFile\\nt = '/content/playground-series-s3e22.zip'\\n\\nwith ZipFile(t, 'r') as Zobject:\\n    Zobject.extractall(path='/content/')\\n\""
      ]
     },
     "execution_count": 5,
     "metadata": {},
     "output_type": "execute_result"
    }
   ],
   "source": [
    "## Use below in Colab\n",
    "'''\n",
    "from zipfile import ZipFile\n",
    "t = '/content/playground-series-s3e22.zip'\n",
    "\n",
    "with ZipFile(t, 'r') as Zobject:\n",
    "    Zobject.extractall(path='/content/')\n",
    "'''"
   ]
  },
  {
   "cell_type": "code",
   "execution_count": 6,
   "id": "cc06a36d",
   "metadata": {
    "_kg_hide-input": true,
    "_kg_hide-output": true,
    "execution": {
     "iopub.execute_input": "2023-09-27T05:56:07.174556Z",
     "iopub.status.busy": "2023-09-27T05:56:07.173884Z",
     "iopub.status.idle": "2023-09-27T05:56:07.179954Z",
     "shell.execute_reply": "2023-09-27T05:56:07.178835Z"
    },
    "papermill": {
     "duration": 0.023905,
     "end_time": "2023-09-27T05:56:07.182372",
     "exception": false,
     "start_time": "2023-09-27T05:56:07.158467",
     "status": "completed"
    },
    "tags": []
   },
   "outputs": [],
   "source": [
    "# set configs\n",
    "is_tuning = True\n",
    "is_scaling = True\n",
    "is_pca = False\n",
    "if is_tuning:\n",
    "    n_trials=1\n",
    "\n",
    "# Keras model compile\n",
    "learning_rate = 1e-3\n",
    "batch_size = 64\n",
    "epochs = 20"
   ]
  },
  {
   "cell_type": "code",
   "execution_count": 7,
   "id": "05bacd50",
   "metadata": {
    "_kg_hide-input": true,
    "_kg_hide-output": true,
    "execution": {
     "iopub.execute_input": "2023-09-27T05:56:07.213281Z",
     "iopub.status.busy": "2023-09-27T05:56:07.212958Z",
     "iopub.status.idle": "2023-09-27T05:56:07.218732Z",
     "shell.execute_reply": "2023-09-27T05:56:07.217668Z"
    },
    "papermill": {
     "duration": 0.023991,
     "end_time": "2023-09-27T05:56:07.221013",
     "exception": false,
     "start_time": "2023-09-27T05:56:07.197022",
     "status": "completed"
    },
    "tags": []
   },
   "outputs": [],
   "source": [
    "def seed_everything(seed: int = 42):\n",
    "    random.seed(seed)\n",
    "    np.random.seed(seed)\n",
    "    os.environ[\"PYTHONHASHSEED\"] = str(seed)\n",
    "    tf.random.set_seed(seed)\n",
    "\n",
    "seed_everything()"
   ]
  },
  {
   "cell_type": "code",
   "execution_count": 8,
   "id": "aeca2a86",
   "metadata": {
    "_kg_hide-input": true,
    "_kg_hide-output": true,
    "execution": {
     "iopub.execute_input": "2023-09-27T05:56:07.252210Z",
     "iopub.status.busy": "2023-09-27T05:56:07.251666Z",
     "iopub.status.idle": "2023-09-27T05:56:07.256192Z",
     "shell.execute_reply": "2023-09-27T05:56:07.255470Z"
    },
    "papermill": {
     "duration": 0.022569,
     "end_time": "2023-09-27T05:56:07.258203",
     "exception": false,
     "start_time": "2023-09-27T05:56:07.235634",
     "status": "completed"
    },
    "tags": []
   },
   "outputs": [],
   "source": [
    "def calculate_f1(y_true, y_pred):\n",
    "    f1 = f1_score(y_true, y_pred, average='micro')\n",
    "    return tf.constant(f1, dtype=tf.float32)"
   ]
  },
  {
   "cell_type": "code",
   "execution_count": 9,
   "id": "e1672329",
   "metadata": {
    "execution": {
     "iopub.execute_input": "2023-09-27T05:56:07.288228Z",
     "iopub.status.busy": "2023-09-27T05:56:07.287709Z",
     "iopub.status.idle": "2023-09-27T05:56:07.334466Z",
     "shell.execute_reply": "2023-09-27T05:56:07.333355Z"
    },
    "papermill": {
     "duration": 0.064875,
     "end_time": "2023-09-27T05:56:07.337130",
     "exception": false,
     "start_time": "2023-09-27T05:56:07.272255",
     "status": "completed"
    },
    "tags": []
   },
   "outputs": [
    {
     "data": {
      "text/plain": [
       "\"\\ntrain = pd.read_csv('/content/train.csv')\\ntest = pd.read_csv('/content/test.csv')\\nsubmission = pd.read_csv('/content/sample_submission.csv')\\n\""
      ]
     },
     "execution_count": 9,
     "metadata": {},
     "output_type": "execute_result"
    }
   ],
   "source": [
    "train = pd.read_csv('/kaggle/input/playground-series-s3e22/train.csv')\n",
    "test = pd.read_csv('/kaggle/input/playground-series-s3e22/test.csv')\n",
    "submission = pd.read_csv('/kaggle/input/playground-series-s3e22/sample_submission.csv')\n",
    "\n",
    "## Use below in Colab\n",
    "'''\n",
    "train = pd.read_csv('/content/train.csv')\n",
    "test = pd.read_csv('/content/test.csv')\n",
    "submission = pd.read_csv('/content/sample_submission.csv')\n",
    "'''"
   ]
  },
  {
   "cell_type": "code",
   "execution_count": 10,
   "id": "ca8ad560",
   "metadata": {
    "execution": {
     "iopub.execute_input": "2023-09-27T05:56:07.368009Z",
     "iopub.status.busy": "2023-09-27T05:56:07.367396Z",
     "iopub.status.idle": "2023-09-27T05:56:07.406688Z",
     "shell.execute_reply": "2023-09-27T05:56:07.405633Z"
    },
    "papermill": {
     "duration": 0.057678,
     "end_time": "2023-09-27T05:56:07.409336",
     "exception": false,
     "start_time": "2023-09-27T05:56:07.351658",
     "status": "completed"
    },
    "tags": []
   },
   "outputs": [
    {
     "data": {
      "text/html": [
       "<div>\n",
       "<style scoped>\n",
       "    .dataframe tbody tr th:only-of-type {\n",
       "        vertical-align: middle;\n",
       "    }\n",
       "\n",
       "    .dataframe tbody tr th {\n",
       "        vertical-align: top;\n",
       "    }\n",
       "\n",
       "    .dataframe thead th {\n",
       "        text-align: right;\n",
       "    }\n",
       "</style>\n",
       "<table border=\"1\" class=\"dataframe\">\n",
       "  <thead>\n",
       "    <tr style=\"text-align: right;\">\n",
       "      <th></th>\n",
       "      <th>id</th>\n",
       "      <th>surgery</th>\n",
       "      <th>age</th>\n",
       "      <th>hospital_number</th>\n",
       "      <th>rectal_temp</th>\n",
       "      <th>pulse</th>\n",
       "      <th>respiratory_rate</th>\n",
       "      <th>temp_of_extremities</th>\n",
       "      <th>peripheral_pulse</th>\n",
       "      <th>mucous_membrane</th>\n",
       "      <th>...</th>\n",
       "      <th>packed_cell_volume</th>\n",
       "      <th>total_protein</th>\n",
       "      <th>abdomo_appearance</th>\n",
       "      <th>abdomo_protein</th>\n",
       "      <th>surgical_lesion</th>\n",
       "      <th>lesion_1</th>\n",
       "      <th>lesion_2</th>\n",
       "      <th>lesion_3</th>\n",
       "      <th>cp_data</th>\n",
       "      <th>outcome</th>\n",
       "    </tr>\n",
       "  </thead>\n",
       "  <tbody>\n",
       "    <tr>\n",
       "      <th>0</th>\n",
       "      <td>0</td>\n",
       "      <td>yes</td>\n",
       "      <td>adult</td>\n",
       "      <td>530001</td>\n",
       "      <td>38.1</td>\n",
       "      <td>132.0</td>\n",
       "      <td>24.0</td>\n",
       "      <td>cool</td>\n",
       "      <td>reduced</td>\n",
       "      <td>dark_cyanotic</td>\n",
       "      <td>...</td>\n",
       "      <td>57.0</td>\n",
       "      <td>8.5</td>\n",
       "      <td>serosanguious</td>\n",
       "      <td>3.4</td>\n",
       "      <td>yes</td>\n",
       "      <td>2209</td>\n",
       "      <td>0</td>\n",
       "      <td>0</td>\n",
       "      <td>no</td>\n",
       "      <td>died</td>\n",
       "    </tr>\n",
       "    <tr>\n",
       "      <th>1</th>\n",
       "      <td>1</td>\n",
       "      <td>yes</td>\n",
       "      <td>adult</td>\n",
       "      <td>533836</td>\n",
       "      <td>37.5</td>\n",
       "      <td>88.0</td>\n",
       "      <td>12.0</td>\n",
       "      <td>cool</td>\n",
       "      <td>normal</td>\n",
       "      <td>pale_cyanotic</td>\n",
       "      <td>...</td>\n",
       "      <td>33.0</td>\n",
       "      <td>64.0</td>\n",
       "      <td>serosanguious</td>\n",
       "      <td>2.0</td>\n",
       "      <td>yes</td>\n",
       "      <td>2208</td>\n",
       "      <td>0</td>\n",
       "      <td>0</td>\n",
       "      <td>no</td>\n",
       "      <td>euthanized</td>\n",
       "    </tr>\n",
       "    <tr>\n",
       "      <th>2</th>\n",
       "      <td>2</td>\n",
       "      <td>yes</td>\n",
       "      <td>adult</td>\n",
       "      <td>529812</td>\n",
       "      <td>38.3</td>\n",
       "      <td>120.0</td>\n",
       "      <td>28.0</td>\n",
       "      <td>cool</td>\n",
       "      <td>reduced</td>\n",
       "      <td>pale_pink</td>\n",
       "      <td>...</td>\n",
       "      <td>37.0</td>\n",
       "      <td>6.4</td>\n",
       "      <td>serosanguious</td>\n",
       "      <td>3.4</td>\n",
       "      <td>yes</td>\n",
       "      <td>5124</td>\n",
       "      <td>0</td>\n",
       "      <td>0</td>\n",
       "      <td>no</td>\n",
       "      <td>lived</td>\n",
       "    </tr>\n",
       "    <tr>\n",
       "      <th>3</th>\n",
       "      <td>3</td>\n",
       "      <td>yes</td>\n",
       "      <td>adult</td>\n",
       "      <td>5262541</td>\n",
       "      <td>37.1</td>\n",
       "      <td>72.0</td>\n",
       "      <td>30.0</td>\n",
       "      <td>cold</td>\n",
       "      <td>reduced</td>\n",
       "      <td>pale_pink</td>\n",
       "      <td>...</td>\n",
       "      <td>53.0</td>\n",
       "      <td>7.0</td>\n",
       "      <td>cloudy</td>\n",
       "      <td>3.9</td>\n",
       "      <td>yes</td>\n",
       "      <td>2208</td>\n",
       "      <td>0</td>\n",
       "      <td>0</td>\n",
       "      <td>yes</td>\n",
       "      <td>lived</td>\n",
       "    </tr>\n",
       "    <tr>\n",
       "      <th>4</th>\n",
       "      <td>4</td>\n",
       "      <td>no</td>\n",
       "      <td>adult</td>\n",
       "      <td>5299629</td>\n",
       "      <td>38.0</td>\n",
       "      <td>52.0</td>\n",
       "      <td>48.0</td>\n",
       "      <td>normal</td>\n",
       "      <td>normal</td>\n",
       "      <td>normal_pink</td>\n",
       "      <td>...</td>\n",
       "      <td>47.0</td>\n",
       "      <td>7.3</td>\n",
       "      <td>cloudy</td>\n",
       "      <td>2.6</td>\n",
       "      <td>no</td>\n",
       "      <td>0</td>\n",
       "      <td>0</td>\n",
       "      <td>0</td>\n",
       "      <td>yes</td>\n",
       "      <td>lived</td>\n",
       "    </tr>\n",
       "  </tbody>\n",
       "</table>\n",
       "<p>5 rows × 29 columns</p>\n",
       "</div>"
      ],
      "text/plain": [
       "   id surgery    age  hospital_number  rectal_temp  pulse  respiratory_rate  \\\n",
       "0   0     yes  adult           530001         38.1  132.0              24.0   \n",
       "1   1     yes  adult           533836         37.5   88.0              12.0   \n",
       "2   2     yes  adult           529812         38.3  120.0              28.0   \n",
       "3   3     yes  adult          5262541         37.1   72.0              30.0   \n",
       "4   4      no  adult          5299629         38.0   52.0              48.0   \n",
       "\n",
       "  temp_of_extremities peripheral_pulse mucous_membrane  ...  \\\n",
       "0                cool          reduced   dark_cyanotic  ...   \n",
       "1                cool           normal   pale_cyanotic  ...   \n",
       "2                cool          reduced       pale_pink  ...   \n",
       "3                cold          reduced       pale_pink  ...   \n",
       "4              normal           normal     normal_pink  ...   \n",
       "\n",
       "  packed_cell_volume total_protein abdomo_appearance abdomo_protein  \\\n",
       "0               57.0           8.5     serosanguious            3.4   \n",
       "1               33.0          64.0     serosanguious            2.0   \n",
       "2               37.0           6.4     serosanguious            3.4   \n",
       "3               53.0           7.0            cloudy            3.9   \n",
       "4               47.0           7.3            cloudy            2.6   \n",
       "\n",
       "  surgical_lesion lesion_1  lesion_2 lesion_3 cp_data     outcome  \n",
       "0             yes     2209         0        0      no        died  \n",
       "1             yes     2208         0        0      no  euthanized  \n",
       "2             yes     5124         0        0      no       lived  \n",
       "3             yes     2208         0        0     yes       lived  \n",
       "4              no        0         0        0     yes       lived  \n",
       "\n",
       "[5 rows x 29 columns]"
      ]
     },
     "execution_count": 10,
     "metadata": {},
     "output_type": "execute_result"
    }
   ],
   "source": [
    "train.head(5)"
   ]
  },
  {
   "cell_type": "code",
   "execution_count": 11,
   "id": "37e250d8",
   "metadata": {
    "execution": {
     "iopub.execute_input": "2023-09-27T05:56:07.503391Z",
     "iopub.status.busy": "2023-09-27T05:56:07.502631Z",
     "iopub.status.idle": "2023-09-27T05:56:07.534686Z",
     "shell.execute_reply": "2023-09-27T05:56:07.533345Z"
    },
    "papermill": {
     "duration": 0.052164,
     "end_time": "2023-09-27T05:56:07.538444",
     "exception": false,
     "start_time": "2023-09-27T05:56:07.486280",
     "status": "completed"
    },
    "tags": []
   },
   "outputs": [
    {
     "name": "stdout",
     "output_type": "stream",
     "text": [
      "<class 'pandas.core.frame.DataFrame'>\n",
      "RangeIndex: 1235 entries, 0 to 1234\n",
      "Data columns (total 29 columns):\n",
      " #   Column                 Non-Null Count  Dtype  \n",
      "---  ------                 --------------  -----  \n",
      " 0   id                     1235 non-null   int64  \n",
      " 1   surgery                1235 non-null   object \n",
      " 2   age                    1235 non-null   object \n",
      " 3   hospital_number        1235 non-null   int64  \n",
      " 4   rectal_temp            1235 non-null   float64\n",
      " 5   pulse                  1235 non-null   float64\n",
      " 6   respiratory_rate       1235 non-null   float64\n",
      " 7   temp_of_extremities    1196 non-null   object \n",
      " 8   peripheral_pulse       1175 non-null   object \n",
      " 9   mucous_membrane        1214 non-null   object \n",
      " 10  capillary_refill_time  1229 non-null   object \n",
      " 11  pain                   1191 non-null   object \n",
      " 12  peristalsis            1215 non-null   object \n",
      " 13  abdominal_distention   1212 non-null   object \n",
      " 14  nasogastric_tube       1155 non-null   object \n",
      " 15  nasogastric_reflux     1214 non-null   object \n",
      " 16  nasogastric_reflux_ph  1235 non-null   float64\n",
      " 17  rectal_exam_feces      1045 non-null   object \n",
      " 18  abdomen                1022 non-null   object \n",
      " 19  packed_cell_volume     1235 non-null   float64\n",
      " 20  total_protein          1235 non-null   float64\n",
      " 21  abdomo_appearance      1187 non-null   object \n",
      " 22  abdomo_protein         1235 non-null   float64\n",
      " 23  surgical_lesion        1235 non-null   object \n",
      " 24  lesion_1               1235 non-null   int64  \n",
      " 25  lesion_2               1235 non-null   int64  \n",
      " 26  lesion_3               1235 non-null   int64  \n",
      " 27  cp_data                1235 non-null   object \n",
      " 28  outcome                1235 non-null   object \n",
      "dtypes: float64(7), int64(5), object(17)\n",
      "memory usage: 279.9+ KB\n"
     ]
    }
   ],
   "source": [
    "train.info()"
   ]
  },
  {
   "cell_type": "code",
   "execution_count": 12,
   "id": "cf93f6fa",
   "metadata": {
    "execution": {
     "iopub.execute_input": "2023-09-27T05:56:07.572483Z",
     "iopub.status.busy": "2023-09-27T05:56:07.572145Z",
     "iopub.status.idle": "2023-09-27T05:56:07.625352Z",
     "shell.execute_reply": "2023-09-27T05:56:07.624265Z"
    },
    "papermill": {
     "duration": 0.073044,
     "end_time": "2023-09-27T05:56:07.628041",
     "exception": false,
     "start_time": "2023-09-27T05:56:07.554997",
     "status": "completed"
    },
    "tags": []
   },
   "outputs": [],
   "source": [
    "mapping = {'yes' : 0, 'no' : 1}\n",
    "train.surgery = train.surgery.map(mapping)\n",
    "test.surgery = test.surgery.map(mapping)\n",
    "train.surgical_lesion = train.surgical_lesion.map(mapping)\n",
    "test.surgical_lesion = test.surgical_lesion.map(mapping)\n",
    "train.cp_data = train.cp_data.map(mapping)\n",
    "test.cp_data = test.cp_data.map(mapping)\n",
    "mapping = {'adult' : 1, 'young' : 0}\n",
    "train.age = train.age.map(mapping)\n",
    "test.age = test.age.map(mapping)\n",
    "mapping = {'cool' : 0, 'cold' : 1, 'normal' : 2, 'warm' : 3}\n",
    "train.temp_of_extremities = train.temp_of_extremities.map(mapping)\n",
    "test.temp_of_extremities = test.temp_of_extremities.map(mapping)\n",
    "mapping = {'absent' : 0, 'reduced' : 1, 'normal' : 2, 'increased' : 3}\n",
    "train.peripheral_pulse = train.peripheral_pulse.map(mapping)\n",
    "test.peripheral_pulse = test.peripheral_pulse.map(mapping)\n",
    "mapping = {'dark_cyanotic' : 0, 'pale_cyanotic' : 1, 'pale_pink' : 2, 'normal_pink' : 3, 'bright_pink' : 4, 'bright_red' : 5}\n",
    "train.mucous_membrane = train.mucous_membrane.map(mapping)\n",
    "test.mucous_membrane = test.mucous_membrane.map(mapping)\n",
    "mapping = {'less_3_sec' : 0, 'more_3_sec' : 1, '3' : 3}\n",
    "train.capillary_refill_time = train.capillary_refill_time.map(mapping)\n",
    "test.capillary_refill_time = test.capillary_refill_time.map(mapping)\n",
    "mapping = {'depressed' : 0, 'mild_pain' : 1, 'extreme_pain' : 2, 'alert': 3, 'severe_pain' : 4, 'slight' : 5}\n",
    "train.pain = train.pain.map(mapping)\n",
    "test.pain = test.pain.map(mapping)\n",
    "mapping = {'absent' : 0, 'hypomotile' : 1, 'normal' : 2, 'hypermotile': 3, 'distend_small' : 4}\n",
    "train.peristalsis = train.peristalsis.map(mapping)\n",
    "test.peristalsis = test.peristalsis.map(mapping)\n",
    "mapping = {'slight' : 0, 'moderate' : 1, 'none' : 2, 'severe': 3}\n",
    "train.abdominal_distention = train.abdominal_distention.map(mapping)\n",
    "test.abdominal_distention = test.abdominal_distention.map(mapping)\n",
    "mapping = {'slight' : 0, 'significant' : 1, 'none' : 2}\n",
    "train.nasogastric_tube = train.nasogastric_tube.map(mapping)\n",
    "test.nasogastric_tube = test.nasogastric_tube.map(mapping)\n",
    "mapping = {'less_1_liter' : 0, 'more_1_liter' : 1, 'none' : 2, 'slight' : 3}\n",
    "train.nasogastric_reflux = train.nasogastric_reflux.map(mapping)\n",
    "test.nasogastric_reflux = test.nasogastric_reflux.map(mapping)\n",
    "mapping = {'decreased' : 0, 'absent' : 1, 'normal' : 2, 'increased' : 3, 'serosanguious' : 4}\n",
    "train.rectal_exam_feces = train.rectal_exam_feces.map(mapping)\n",
    "test.rectal_exam_feces = test.rectal_exam_feces.map(mapping)\n",
    "mapping = {'distend_small' : 0, 'distend_large' : 1, 'normal' : 2, 'firm' : 3, 'other' : 4}\n",
    "train.abdomen = train.abdomen.map(mapping)\n",
    "test.abdomen = test.abdomen.map(mapping)\n",
    "mapping = {'serosanguious' : 0, 'cloudy' : 1, 'clear' : 2}\n",
    "train.abdomo_appearance = train.abdomo_appearance.map(mapping)\n",
    "test.abdomo_appearance = test.abdomo_appearance.map(mapping)\n",
    "mapping = {'lived' : 0, 'died' : 1, 'euthanized': 2}\n",
    "train.outcome = train.outcome.map(mapping)"
   ]
  },
  {
   "cell_type": "code",
   "execution_count": 13,
   "id": "39684f4b",
   "metadata": {
    "execution": {
     "iopub.execute_input": "2023-09-27T05:56:07.659893Z",
     "iopub.status.busy": "2023-09-27T05:56:07.659617Z",
     "iopub.status.idle": "2023-09-27T05:56:07.674252Z",
     "shell.execute_reply": "2023-09-27T05:56:07.673268Z"
    },
    "papermill": {
     "duration": 0.033544,
     "end_time": "2023-09-27T05:56:07.676979",
     "exception": false,
     "start_time": "2023-09-27T05:56:07.643435",
     "status": "completed"
    },
    "tags": []
   },
   "outputs": [
    {
     "name": "stdout",
     "output_type": "stream",
     "text": [
      "<class 'pandas.core.frame.DataFrame'>\n",
      "RangeIndex: 1235 entries, 0 to 1234\n",
      "Data columns (total 29 columns):\n",
      " #   Column                 Non-Null Count  Dtype  \n",
      "---  ------                 --------------  -----  \n",
      " 0   id                     1235 non-null   int64  \n",
      " 1   surgery                1235 non-null   int64  \n",
      " 2   age                    1235 non-null   int64  \n",
      " 3   hospital_number        1235 non-null   int64  \n",
      " 4   rectal_temp            1235 non-null   float64\n",
      " 5   pulse                  1235 non-null   float64\n",
      " 6   respiratory_rate       1235 non-null   float64\n",
      " 7   temp_of_extremities    1196 non-null   float64\n",
      " 8   peripheral_pulse       1175 non-null   float64\n",
      " 9   mucous_membrane        1214 non-null   float64\n",
      " 10  capillary_refill_time  1229 non-null   float64\n",
      " 11  pain                   1191 non-null   float64\n",
      " 12  peristalsis            1215 non-null   float64\n",
      " 13  abdominal_distention   1212 non-null   float64\n",
      " 14  nasogastric_tube       1155 non-null   float64\n",
      " 15  nasogastric_reflux     1214 non-null   float64\n",
      " 16  nasogastric_reflux_ph  1235 non-null   float64\n",
      " 17  rectal_exam_feces      1045 non-null   float64\n",
      " 18  abdomen                1022 non-null   float64\n",
      " 19  packed_cell_volume     1235 non-null   float64\n",
      " 20  total_protein          1235 non-null   float64\n",
      " 21  abdomo_appearance      1187 non-null   float64\n",
      " 22  abdomo_protein         1235 non-null   float64\n",
      " 23  surgical_lesion        1235 non-null   int64  \n",
      " 24  lesion_1               1235 non-null   int64  \n",
      " 25  lesion_2               1235 non-null   int64  \n",
      " 26  lesion_3               1235 non-null   int64  \n",
      " 27  cp_data                1235 non-null   int64  \n",
      " 28  outcome                1235 non-null   int64  \n",
      "dtypes: float64(19), int64(10)\n",
      "memory usage: 279.9 KB\n"
     ]
    }
   ],
   "source": [
    "train.info()"
   ]
  },
  {
   "cell_type": "code",
   "execution_count": 14,
   "id": "29a8e1cd",
   "metadata": {
    "execution": {
     "iopub.execute_input": "2023-09-27T05:56:07.709190Z",
     "iopub.status.busy": "2023-09-27T05:56:07.708886Z",
     "iopub.status.idle": "2023-09-27T05:56:07.789886Z",
     "shell.execute_reply": "2023-09-27T05:56:07.788759Z"
    },
    "papermill": {
     "duration": 0.100566,
     "end_time": "2023-09-27T05:56:07.792422",
     "exception": false,
     "start_time": "2023-09-27T05:56:07.691856",
     "status": "completed"
    },
    "tags": []
   },
   "outputs": [
    {
     "data": {
      "text/html": [
       "<div>\n",
       "<style scoped>\n",
       "    .dataframe tbody tr th:only-of-type {\n",
       "        vertical-align: middle;\n",
       "    }\n",
       "\n",
       "    .dataframe tbody tr th {\n",
       "        vertical-align: top;\n",
       "    }\n",
       "\n",
       "    .dataframe thead th {\n",
       "        text-align: right;\n",
       "    }\n",
       "</style>\n",
       "<table border=\"1\" class=\"dataframe\">\n",
       "  <thead>\n",
       "    <tr style=\"text-align: right;\">\n",
       "      <th></th>\n",
       "      <th>id</th>\n",
       "      <th>surgery</th>\n",
       "      <th>age</th>\n",
       "      <th>hospital_number</th>\n",
       "      <th>rectal_temp</th>\n",
       "      <th>pulse</th>\n",
       "      <th>respiratory_rate</th>\n",
       "      <th>temp_of_extremities</th>\n",
       "      <th>peripheral_pulse</th>\n",
       "      <th>mucous_membrane</th>\n",
       "      <th>...</th>\n",
       "      <th>packed_cell_volume</th>\n",
       "      <th>total_protein</th>\n",
       "      <th>abdomo_appearance</th>\n",
       "      <th>abdomo_protein</th>\n",
       "      <th>surgical_lesion</th>\n",
       "      <th>lesion_1</th>\n",
       "      <th>lesion_2</th>\n",
       "      <th>lesion_3</th>\n",
       "      <th>cp_data</th>\n",
       "      <th>outcome</th>\n",
       "    </tr>\n",
       "  </thead>\n",
       "  <tbody>\n",
       "    <tr>\n",
       "      <th>count</th>\n",
       "      <td>1235.0000</td>\n",
       "      <td>1235.000000</td>\n",
       "      <td>1235.000000</td>\n",
       "      <td>1.235000e+03</td>\n",
       "      <td>1235.000000</td>\n",
       "      <td>1235.000000</td>\n",
       "      <td>1235.000000</td>\n",
       "      <td>1196.000000</td>\n",
       "      <td>1175.000000</td>\n",
       "      <td>1214.000000</td>\n",
       "      <td>...</td>\n",
       "      <td>1235.000000</td>\n",
       "      <td>1235.000000</td>\n",
       "      <td>1187.000000</td>\n",
       "      <td>1235.000000</td>\n",
       "      <td>1235.000000</td>\n",
       "      <td>1235.000000</td>\n",
       "      <td>1235.000000</td>\n",
       "      <td>1235.000000</td>\n",
       "      <td>1235.000000</td>\n",
       "      <td>1235.000000</td>\n",
       "    </tr>\n",
       "    <tr>\n",
       "      <th>mean</th>\n",
       "      <td>617.0000</td>\n",
       "      <td>0.281781</td>\n",
       "      <td>0.939271</td>\n",
       "      <td>9.545004e+05</td>\n",
       "      <td>38.202186</td>\n",
       "      <td>79.574089</td>\n",
       "      <td>30.054251</td>\n",
       "      <td>0.770903</td>\n",
       "      <td>1.356596</td>\n",
       "      <td>2.475288</td>\n",
       "      <td>...</td>\n",
       "      <td>49.602429</td>\n",
       "      <td>21.388016</td>\n",
       "      <td>0.737152</td>\n",
       "      <td>3.290931</td>\n",
       "      <td>0.247773</td>\n",
       "      <td>3832.496356</td>\n",
       "      <td>14.612146</td>\n",
       "      <td>3.577328</td>\n",
       "      <td>0.459109</td>\n",
       "      <td>0.738462</td>\n",
       "    </tr>\n",
       "    <tr>\n",
       "      <th>std</th>\n",
       "      <td>356.6581</td>\n",
       "      <td>0.450050</td>\n",
       "      <td>0.238929</td>\n",
       "      <td>1.356403e+06</td>\n",
       "      <td>0.788668</td>\n",
       "      <td>29.108638</td>\n",
       "      <td>16.452066</td>\n",
       "      <td>0.987464</td>\n",
       "      <td>0.516826</td>\n",
       "      <td>1.564960</td>\n",
       "      <td>...</td>\n",
       "      <td>10.535800</td>\n",
       "      <td>26.676453</td>\n",
       "      <td>0.793094</td>\n",
       "      <td>1.589195</td>\n",
       "      <td>0.431894</td>\n",
       "      <td>5436.733774</td>\n",
       "      <td>193.705735</td>\n",
       "      <td>88.858953</td>\n",
       "      <td>0.498527</td>\n",
       "      <td>0.774661</td>\n",
       "    </tr>\n",
       "    <tr>\n",
       "      <th>min</th>\n",
       "      <td>0.0000</td>\n",
       "      <td>0.000000</td>\n",
       "      <td>0.000000</td>\n",
       "      <td>5.213990e+05</td>\n",
       "      <td>35.400000</td>\n",
       "      <td>30.000000</td>\n",
       "      <td>8.000000</td>\n",
       "      <td>0.000000</td>\n",
       "      <td>0.000000</td>\n",
       "      <td>0.000000</td>\n",
       "      <td>...</td>\n",
       "      <td>23.000000</td>\n",
       "      <td>3.500000</td>\n",
       "      <td>0.000000</td>\n",
       "      <td>0.100000</td>\n",
       "      <td>0.000000</td>\n",
       "      <td>0.000000</td>\n",
       "      <td>0.000000</td>\n",
       "      <td>0.000000</td>\n",
       "      <td>0.000000</td>\n",
       "      <td>0.000000</td>\n",
       "    </tr>\n",
       "    <tr>\n",
       "      <th>25%</th>\n",
       "      <td>308.5000</td>\n",
       "      <td>0.000000</td>\n",
       "      <td>1.000000</td>\n",
       "      <td>5.288000e+05</td>\n",
       "      <td>37.800000</td>\n",
       "      <td>53.000000</td>\n",
       "      <td>18.000000</td>\n",
       "      <td>0.000000</td>\n",
       "      <td>1.000000</td>\n",
       "      <td>1.000000</td>\n",
       "      <td>...</td>\n",
       "      <td>43.000000</td>\n",
       "      <td>6.600000</td>\n",
       "      <td>0.000000</td>\n",
       "      <td>2.000000</td>\n",
       "      <td>0.000000</td>\n",
       "      <td>2205.000000</td>\n",
       "      <td>0.000000</td>\n",
       "      <td>0.000000</td>\n",
       "      <td>0.000000</td>\n",
       "      <td>0.000000</td>\n",
       "    </tr>\n",
       "    <tr>\n",
       "      <th>50%</th>\n",
       "      <td>617.0000</td>\n",
       "      <td>0.000000</td>\n",
       "      <td>1.000000</td>\n",
       "      <td>5.297770e+05</td>\n",
       "      <td>38.200000</td>\n",
       "      <td>76.000000</td>\n",
       "      <td>28.000000</td>\n",
       "      <td>0.000000</td>\n",
       "      <td>1.000000</td>\n",
       "      <td>2.000000</td>\n",
       "      <td>...</td>\n",
       "      <td>48.000000</td>\n",
       "      <td>7.500000</td>\n",
       "      <td>1.000000</td>\n",
       "      <td>3.000000</td>\n",
       "      <td>0.000000</td>\n",
       "      <td>2209.000000</td>\n",
       "      <td>0.000000</td>\n",
       "      <td>0.000000</td>\n",
       "      <td>0.000000</td>\n",
       "      <td>1.000000</td>\n",
       "    </tr>\n",
       "    <tr>\n",
       "      <th>75%</th>\n",
       "      <td>925.5000</td>\n",
       "      <td>1.000000</td>\n",
       "      <td>1.000000</td>\n",
       "      <td>5.341450e+05</td>\n",
       "      <td>38.600000</td>\n",
       "      <td>100.000000</td>\n",
       "      <td>36.000000</td>\n",
       "      <td>2.000000</td>\n",
       "      <td>2.000000</td>\n",
       "      <td>3.000000</td>\n",
       "      <td>...</td>\n",
       "      <td>57.000000</td>\n",
       "      <td>9.100000</td>\n",
       "      <td>1.000000</td>\n",
       "      <td>4.300000</td>\n",
       "      <td>0.000000</td>\n",
       "      <td>3205.000000</td>\n",
       "      <td>0.000000</td>\n",
       "      <td>0.000000</td>\n",
       "      <td>1.000000</td>\n",
       "      <td>1.000000</td>\n",
       "    </tr>\n",
       "    <tr>\n",
       "      <th>max</th>\n",
       "      <td>1234.0000</td>\n",
       "      <td>1.000000</td>\n",
       "      <td>1.000000</td>\n",
       "      <td>5.305129e+06</td>\n",
       "      <td>40.800000</td>\n",
       "      <td>184.000000</td>\n",
       "      <td>96.000000</td>\n",
       "      <td>3.000000</td>\n",
       "      <td>3.000000</td>\n",
       "      <td>5.000000</td>\n",
       "      <td>...</td>\n",
       "      <td>75.000000</td>\n",
       "      <td>89.000000</td>\n",
       "      <td>2.000000</td>\n",
       "      <td>10.100000</td>\n",
       "      <td>1.000000</td>\n",
       "      <td>41110.000000</td>\n",
       "      <td>3112.000000</td>\n",
       "      <td>2209.000000</td>\n",
       "      <td>1.000000</td>\n",
       "      <td>2.000000</td>\n",
       "    </tr>\n",
       "  </tbody>\n",
       "</table>\n",
       "<p>8 rows × 29 columns</p>\n",
       "</div>"
      ],
      "text/plain": [
       "              id      surgery          age  hospital_number  rectal_temp  \\\n",
       "count  1235.0000  1235.000000  1235.000000     1.235000e+03  1235.000000   \n",
       "mean    617.0000     0.281781     0.939271     9.545004e+05    38.202186   \n",
       "std     356.6581     0.450050     0.238929     1.356403e+06     0.788668   \n",
       "min       0.0000     0.000000     0.000000     5.213990e+05    35.400000   \n",
       "25%     308.5000     0.000000     1.000000     5.288000e+05    37.800000   \n",
       "50%     617.0000     0.000000     1.000000     5.297770e+05    38.200000   \n",
       "75%     925.5000     1.000000     1.000000     5.341450e+05    38.600000   \n",
       "max    1234.0000     1.000000     1.000000     5.305129e+06    40.800000   \n",
       "\n",
       "             pulse  respiratory_rate  temp_of_extremities  peripheral_pulse  \\\n",
       "count  1235.000000       1235.000000          1196.000000       1175.000000   \n",
       "mean     79.574089         30.054251             0.770903          1.356596   \n",
       "std      29.108638         16.452066             0.987464          0.516826   \n",
       "min      30.000000          8.000000             0.000000          0.000000   \n",
       "25%      53.000000         18.000000             0.000000          1.000000   \n",
       "50%      76.000000         28.000000             0.000000          1.000000   \n",
       "75%     100.000000         36.000000             2.000000          2.000000   \n",
       "max     184.000000         96.000000             3.000000          3.000000   \n",
       "\n",
       "       mucous_membrane  ...  packed_cell_volume  total_protein  \\\n",
       "count      1214.000000  ...         1235.000000    1235.000000   \n",
       "mean          2.475288  ...           49.602429      21.388016   \n",
       "std           1.564960  ...           10.535800      26.676453   \n",
       "min           0.000000  ...           23.000000       3.500000   \n",
       "25%           1.000000  ...           43.000000       6.600000   \n",
       "50%           2.000000  ...           48.000000       7.500000   \n",
       "75%           3.000000  ...           57.000000       9.100000   \n",
       "max           5.000000  ...           75.000000      89.000000   \n",
       "\n",
       "       abdomo_appearance  abdomo_protein  surgical_lesion      lesion_1  \\\n",
       "count        1187.000000     1235.000000      1235.000000   1235.000000   \n",
       "mean            0.737152        3.290931         0.247773   3832.496356   \n",
       "std             0.793094        1.589195         0.431894   5436.733774   \n",
       "min             0.000000        0.100000         0.000000      0.000000   \n",
       "25%             0.000000        2.000000         0.000000   2205.000000   \n",
       "50%             1.000000        3.000000         0.000000   2209.000000   \n",
       "75%             1.000000        4.300000         0.000000   3205.000000   \n",
       "max             2.000000       10.100000         1.000000  41110.000000   \n",
       "\n",
       "          lesion_2     lesion_3      cp_data      outcome  \n",
       "count  1235.000000  1235.000000  1235.000000  1235.000000  \n",
       "mean     14.612146     3.577328     0.459109     0.738462  \n",
       "std     193.705735    88.858953     0.498527     0.774661  \n",
       "min       0.000000     0.000000     0.000000     0.000000  \n",
       "25%       0.000000     0.000000     0.000000     0.000000  \n",
       "50%       0.000000     0.000000     0.000000     1.000000  \n",
       "75%       0.000000     0.000000     1.000000     1.000000  \n",
       "max    3112.000000  2209.000000     1.000000     2.000000  \n",
       "\n",
       "[8 rows x 29 columns]"
      ]
     },
     "execution_count": 14,
     "metadata": {},
     "output_type": "execute_result"
    }
   ],
   "source": [
    "train.describe()"
   ]
  },
  {
   "cell_type": "code",
   "execution_count": 15,
   "id": "ca2dbe20",
   "metadata": {
    "execution": {
     "iopub.execute_input": "2023-09-27T05:56:07.824836Z",
     "iopub.status.busy": "2023-09-27T05:56:07.824556Z",
     "iopub.status.idle": "2023-09-27T05:56:07.990164Z",
     "shell.execute_reply": "2023-09-27T05:56:07.989087Z"
    },
    "papermill": {
     "duration": 0.185739,
     "end_time": "2023-09-27T05:56:07.993530",
     "exception": false,
     "start_time": "2023-09-27T05:56:07.807791",
     "status": "completed"
    },
    "tags": []
   },
   "outputs": [],
   "source": [
    "imputer =  KNNImputer(n_neighbors=3,)\n",
    "tr_columns = list(train.columns)\n",
    "te_columns = list(test.columns)\n",
    "train[tr_columns] = imputer.fit_transform(train[tr_columns])\n",
    "test[te_columns] = imputer.fit_transform(test[te_columns])"
   ]
  },
  {
   "cell_type": "code",
   "execution_count": 16,
   "id": "34b26710",
   "metadata": {
    "execution": {
     "iopub.execute_input": "2023-09-27T05:56:08.048198Z",
     "iopub.status.busy": "2023-09-27T05:56:08.047823Z",
     "iopub.status.idle": "2023-09-27T05:56:08.073568Z",
     "shell.execute_reply": "2023-09-27T05:56:08.072693Z"
    },
    "papermill": {
     "duration": 0.056447,
     "end_time": "2023-09-27T05:56:08.076173",
     "exception": false,
     "start_time": "2023-09-27T05:56:08.019726",
     "status": "completed"
    },
    "tags": []
   },
   "outputs": [
    {
     "name": "stdout",
     "output_type": "stream",
     "text": [
      "<class 'pandas.core.frame.DataFrame'>\n",
      "RangeIndex: 1235 entries, 0 to 1234\n",
      "Data columns (total 29 columns):\n",
      " #   Column                 Non-Null Count  Dtype  \n",
      "---  ------                 --------------  -----  \n",
      " 0   id                     1235 non-null   float64\n",
      " 1   surgery                1235 non-null   float64\n",
      " 2   age                    1235 non-null   float64\n",
      " 3   hospital_number        1235 non-null   float64\n",
      " 4   rectal_temp            1235 non-null   float64\n",
      " 5   pulse                  1235 non-null   float64\n",
      " 6   respiratory_rate       1235 non-null   float64\n",
      " 7   temp_of_extremities    1235 non-null   float64\n",
      " 8   peripheral_pulse       1235 non-null   float64\n",
      " 9   mucous_membrane        1235 non-null   float64\n",
      " 10  capillary_refill_time  1235 non-null   float64\n",
      " 11  pain                   1235 non-null   float64\n",
      " 12  peristalsis            1235 non-null   float64\n",
      " 13  abdominal_distention   1235 non-null   float64\n",
      " 14  nasogastric_tube       1235 non-null   float64\n",
      " 15  nasogastric_reflux     1235 non-null   float64\n",
      " 16  nasogastric_reflux_ph  1235 non-null   float64\n",
      " 17  rectal_exam_feces      1235 non-null   float64\n",
      " 18  abdomen                1235 non-null   float64\n",
      " 19  packed_cell_volume     1235 non-null   float64\n",
      " 20  total_protein          1235 non-null   float64\n",
      " 21  abdomo_appearance      1235 non-null   float64\n",
      " 22  abdomo_protein         1235 non-null   float64\n",
      " 23  surgical_lesion        1235 non-null   float64\n",
      " 24  lesion_1               1235 non-null   float64\n",
      " 25  lesion_2               1235 non-null   float64\n",
      " 26  lesion_3               1235 non-null   float64\n",
      " 27  cp_data                1235 non-null   float64\n",
      " 28  outcome                1235 non-null   float64\n",
      "dtypes: float64(29)\n",
      "memory usage: 279.9 KB\n"
     ]
    }
   ],
   "source": [
    "train.info()"
   ]
  },
  {
   "cell_type": "code",
   "execution_count": 17,
   "id": "8eef38fc",
   "metadata": {
    "_kg_hide-input": true,
    "_kg_hide-output": true,
    "execution": {
     "iopub.execute_input": "2023-09-27T05:56:08.111059Z",
     "iopub.status.busy": "2023-09-27T05:56:08.110437Z",
     "iopub.status.idle": "2023-09-27T05:56:08.270816Z",
     "shell.execute_reply": "2023-09-27T05:56:08.269763Z"
    },
    "papermill": {
     "duration": 0.180156,
     "end_time": "2023-09-27T05:56:08.273806",
     "exception": false,
     "start_time": "2023-09-27T05:56:08.093650",
     "status": "completed"
    },
    "tags": []
   },
   "outputs": [
    {
     "data": {
      "text/plain": [
       "[4.1073550030007135,\n",
       " 2.138448501878949,\n",
       " 19.321764137144374,\n",
       " 1.6349520651926368,\n",
       " 112.47517384293073,\n",
       " 17.393664115315744,\n",
       " 5.425299956358476,\n",
       " 2.3172880764225137,\n",
       " 14.411550654725982,\n",
       " 4.420279574200808,\n",
       " 2.1172141363893515,\n",
       " 2.1467028479068184,\n",
       " 3.3198106716847637,\n",
       " 2.804563038361543,\n",
       " 1.6455688232983743,\n",
       " 3.496362457161719,\n",
       " 11.023121844179625,\n",
       " 3.1900864518303096,\n",
       " 2.466265981172211,\n",
       " 36.72102688436795,\n",
       " 3.141441717426641,\n",
       " 2.81271776279272,\n",
       " 7.669245604416013,\n",
       " 2.2223306901003967,\n",
       " 1.6001029082753033,\n",
       " 1.7716805335633306,\n",
       " 1.7427767496211881,\n",
       " 2.479962662413029,\n",
       " 2.5722560168450257]"
      ]
     },
     "execution_count": 17,
     "metadata": {},
     "output_type": "execute_result"
    }
   ],
   "source": [
    "[variance_inflation_factor(train, i) for i in range (train.shape[1])]\n"
   ]
  },
  {
   "cell_type": "code",
   "execution_count": 18,
   "id": "181c4439",
   "metadata": {
    "_kg_hide-input": true,
    "_kg_hide-output": true,
    "execution": {
     "iopub.execute_input": "2023-09-27T05:56:08.328344Z",
     "iopub.status.busy": "2023-09-27T05:56:08.327739Z",
     "iopub.status.idle": "2023-09-27T05:56:08.338833Z",
     "shell.execute_reply": "2023-09-27T05:56:08.337750Z"
    },
    "papermill": {
     "duration": 0.042392,
     "end_time": "2023-09-27T05:56:08.342494",
     "exception": false,
     "start_time": "2023-09-27T05:56:08.300102",
     "status": "completed"
    },
    "tags": []
   },
   "outputs": [],
   "source": [
    "def check_vif(df):\n",
    "    vifs = [variance_inflation_factor(df, i) for i in range(df.shape[1])]\n",
    "    vif_df = pd.DataFrame({\"features\":df.columns, \"VIF\" : vifs})\n",
    "    vif_df = vif_df.sort_values(by=\"VIF\", ascending=False)\n",
    "    remove_col = vif_df.iloc[0, 0]\n",
    "    top_vif = vif_df.iloc[0, 1]\n",
    "    return vif_df, remove_col, top_vif"
   ]
  },
  {
   "cell_type": "code",
   "execution_count": 19,
   "id": "1f5e1a81",
   "metadata": {
    "_kg_hide-input": true,
    "_kg_hide-output": true,
    "execution": {
     "iopub.execute_input": "2023-09-27T05:56:08.393487Z",
     "iopub.status.busy": "2023-09-27T05:56:08.392820Z",
     "iopub.status.idle": "2023-09-27T05:56:09.539213Z",
     "shell.execute_reply": "2023-09-27T05:56:09.538185Z"
    },
    "papermill": {
     "duration": 1.172443,
     "end_time": "2023-09-27T05:56:09.541767",
     "exception": false,
     "start_time": "2023-09-27T05:56:08.369324",
     "status": "completed"
    },
    "tags": []
   },
   "outputs": [
    {
     "name": "stdout",
     "output_type": "stream",
     "text": [
      "rectal_temp 112.47517384293073\n",
      "packed_cell_volume 29.90095536463861\n",
      "age 12.482531626339773\n",
      "pulse 12.302053640157709\n",
      "peripheral_pulse 11.566121925292439\n",
      "nasogastric_reflux_ph 8.671301679003673\n",
      "abdomo_protein 5.5139227106207604\n",
      "mucous_membrane 4.037298104590689\n"
     ]
    },
    {
     "data": {
      "text/html": [
       "<div>\n",
       "<style scoped>\n",
       "    .dataframe tbody tr th:only-of-type {\n",
       "        vertical-align: middle;\n",
       "    }\n",
       "\n",
       "    .dataframe tbody tr th {\n",
       "        vertical-align: top;\n",
       "    }\n",
       "\n",
       "    .dataframe thead th {\n",
       "        text-align: right;\n",
       "    }\n",
       "</style>\n",
       "<table border=\"1\" class=\"dataframe\">\n",
       "  <thead>\n",
       "    <tr style=\"text-align: right;\">\n",
       "      <th></th>\n",
       "      <th>id</th>\n",
       "      <th>surgery</th>\n",
       "      <th>hospital_number</th>\n",
       "      <th>respiratory_rate</th>\n",
       "      <th>temp_of_extremities</th>\n",
       "      <th>mucous_membrane</th>\n",
       "      <th>capillary_refill_time</th>\n",
       "      <th>pain</th>\n",
       "      <th>peristalsis</th>\n",
       "      <th>abdominal_distention</th>\n",
       "      <th>...</th>\n",
       "      <th>rectal_exam_feces</th>\n",
       "      <th>abdomen</th>\n",
       "      <th>total_protein</th>\n",
       "      <th>abdomo_appearance</th>\n",
       "      <th>surgical_lesion</th>\n",
       "      <th>lesion_1</th>\n",
       "      <th>lesion_2</th>\n",
       "      <th>lesion_3</th>\n",
       "      <th>cp_data</th>\n",
       "      <th>outcome</th>\n",
       "    </tr>\n",
       "  </thead>\n",
       "  <tbody>\n",
       "    <tr>\n",
       "      <th>0</th>\n",
       "      <td>0.0</td>\n",
       "      <td>0.0</td>\n",
       "      <td>530001.0</td>\n",
       "      <td>24.0</td>\n",
       "      <td>0.0</td>\n",
       "      <td>0.0</td>\n",
       "      <td>1.0</td>\n",
       "      <td>0.0</td>\n",
       "      <td>0.0</td>\n",
       "      <td>0.0</td>\n",
       "      <td>...</td>\n",
       "      <td>0.000000</td>\n",
       "      <td>0.0</td>\n",
       "      <td>8.5</td>\n",
       "      <td>0.0</td>\n",
       "      <td>0.0</td>\n",
       "      <td>2209.0</td>\n",
       "      <td>0.0</td>\n",
       "      <td>0.0</td>\n",
       "      <td>1.0</td>\n",
       "      <td>1.0</td>\n",
       "    </tr>\n",
       "    <tr>\n",
       "      <th>1</th>\n",
       "      <td>1.0</td>\n",
       "      <td>0.0</td>\n",
       "      <td>533836.0</td>\n",
       "      <td>12.0</td>\n",
       "      <td>0.0</td>\n",
       "      <td>1.0</td>\n",
       "      <td>1.0</td>\n",
       "      <td>1.0</td>\n",
       "      <td>0.0</td>\n",
       "      <td>1.0</td>\n",
       "      <td>...</td>\n",
       "      <td>1.000000</td>\n",
       "      <td>0.0</td>\n",
       "      <td>64.0</td>\n",
       "      <td>0.0</td>\n",
       "      <td>0.0</td>\n",
       "      <td>2208.0</td>\n",
       "      <td>0.0</td>\n",
       "      <td>0.0</td>\n",
       "      <td>1.0</td>\n",
       "      <td>2.0</td>\n",
       "    </tr>\n",
       "    <tr>\n",
       "      <th>2</th>\n",
       "      <td>2.0</td>\n",
       "      <td>0.0</td>\n",
       "      <td>529812.0</td>\n",
       "      <td>28.0</td>\n",
       "      <td>0.0</td>\n",
       "      <td>2.0</td>\n",
       "      <td>0.0</td>\n",
       "      <td>2.0</td>\n",
       "      <td>1.0</td>\n",
       "      <td>1.0</td>\n",
       "      <td>...</td>\n",
       "      <td>1.000000</td>\n",
       "      <td>1.0</td>\n",
       "      <td>6.4</td>\n",
       "      <td>0.0</td>\n",
       "      <td>0.0</td>\n",
       "      <td>5124.0</td>\n",
       "      <td>0.0</td>\n",
       "      <td>0.0</td>\n",
       "      <td>1.0</td>\n",
       "      <td>0.0</td>\n",
       "    </tr>\n",
       "    <tr>\n",
       "      <th>3</th>\n",
       "      <td>3.0</td>\n",
       "      <td>0.0</td>\n",
       "      <td>5262541.0</td>\n",
       "      <td>30.0</td>\n",
       "      <td>1.0</td>\n",
       "      <td>2.0</td>\n",
       "      <td>1.0</td>\n",
       "      <td>1.0</td>\n",
       "      <td>1.0</td>\n",
       "      <td>1.0</td>\n",
       "      <td>...</td>\n",
       "      <td>0.000000</td>\n",
       "      <td>0.0</td>\n",
       "      <td>7.0</td>\n",
       "      <td>1.0</td>\n",
       "      <td>0.0</td>\n",
       "      <td>2208.0</td>\n",
       "      <td>0.0</td>\n",
       "      <td>0.0</td>\n",
       "      <td>0.0</td>\n",
       "      <td>0.0</td>\n",
       "    </tr>\n",
       "    <tr>\n",
       "      <th>4</th>\n",
       "      <td>4.0</td>\n",
       "      <td>1.0</td>\n",
       "      <td>5299629.0</td>\n",
       "      <td>48.0</td>\n",
       "      <td>2.0</td>\n",
       "      <td>3.0</td>\n",
       "      <td>0.0</td>\n",
       "      <td>3.0</td>\n",
       "      <td>1.0</td>\n",
       "      <td>2.0</td>\n",
       "      <td>...</td>\n",
       "      <td>2.000000</td>\n",
       "      <td>2.0</td>\n",
       "      <td>7.3</td>\n",
       "      <td>1.0</td>\n",
       "      <td>1.0</td>\n",
       "      <td>0.0</td>\n",
       "      <td>0.0</td>\n",
       "      <td>0.0</td>\n",
       "      <td>0.0</td>\n",
       "      <td>0.0</td>\n",
       "    </tr>\n",
       "    <tr>\n",
       "      <th>...</th>\n",
       "      <td>...</td>\n",
       "      <td>...</td>\n",
       "      <td>...</td>\n",
       "      <td>...</td>\n",
       "      <td>...</td>\n",
       "      <td>...</td>\n",
       "      <td>...</td>\n",
       "      <td>...</td>\n",
       "      <td>...</td>\n",
       "      <td>...</td>\n",
       "      <td>...</td>\n",
       "      <td>...</td>\n",
       "      <td>...</td>\n",
       "      <td>...</td>\n",
       "      <td>...</td>\n",
       "      <td>...</td>\n",
       "      <td>...</td>\n",
       "      <td>...</td>\n",
       "      <td>...</td>\n",
       "      <td>...</td>\n",
       "      <td>...</td>\n",
       "    </tr>\n",
       "    <tr>\n",
       "      <th>1230</th>\n",
       "      <td>1230.0</td>\n",
       "      <td>0.0</td>\n",
       "      <td>535246.0</td>\n",
       "      <td>48.0</td>\n",
       "      <td>0.0</td>\n",
       "      <td>2.0</td>\n",
       "      <td>1.0</td>\n",
       "      <td>0.0</td>\n",
       "      <td>0.0</td>\n",
       "      <td>1.0</td>\n",
       "      <td>...</td>\n",
       "      <td>0.666667</td>\n",
       "      <td>1.0</td>\n",
       "      <td>66.0</td>\n",
       "      <td>0.0</td>\n",
       "      <td>0.0</td>\n",
       "      <td>2206.0</td>\n",
       "      <td>0.0</td>\n",
       "      <td>0.0</td>\n",
       "      <td>1.0</td>\n",
       "      <td>0.0</td>\n",
       "    </tr>\n",
       "    <tr>\n",
       "      <th>1231</th>\n",
       "      <td>1231.0</td>\n",
       "      <td>0.0</td>\n",
       "      <td>528570.0</td>\n",
       "      <td>50.0</td>\n",
       "      <td>0.0</td>\n",
       "      <td>1.0</td>\n",
       "      <td>0.0</td>\n",
       "      <td>1.0</td>\n",
       "      <td>1.0</td>\n",
       "      <td>0.0</td>\n",
       "      <td>...</td>\n",
       "      <td>0.000000</td>\n",
       "      <td>0.0</td>\n",
       "      <td>6.4</td>\n",
       "      <td>0.0</td>\n",
       "      <td>0.0</td>\n",
       "      <td>2209.0</td>\n",
       "      <td>0.0</td>\n",
       "      <td>0.0</td>\n",
       "      <td>0.0</td>\n",
       "      <td>1.0</td>\n",
       "    </tr>\n",
       "    <tr>\n",
       "      <th>1232</th>\n",
       "      <td>1232.0</td>\n",
       "      <td>0.0</td>\n",
       "      <td>529685.0</td>\n",
       "      <td>40.0</td>\n",
       "      <td>2.0</td>\n",
       "      <td>3.0</td>\n",
       "      <td>0.0</td>\n",
       "      <td>1.0</td>\n",
       "      <td>1.0</td>\n",
       "      <td>0.0</td>\n",
       "      <td>...</td>\n",
       "      <td>3.000000</td>\n",
       "      <td>3.0</td>\n",
       "      <td>5.9</td>\n",
       "      <td>1.0</td>\n",
       "      <td>0.0</td>\n",
       "      <td>400.0</td>\n",
       "      <td>0.0</td>\n",
       "      <td>0.0</td>\n",
       "      <td>0.0</td>\n",
       "      <td>0.0</td>\n",
       "    </tr>\n",
       "    <tr>\n",
       "      <th>1233</th>\n",
       "      <td>1233.0</td>\n",
       "      <td>0.0</td>\n",
       "      <td>534784.0</td>\n",
       "      <td>16.0</td>\n",
       "      <td>2.0</td>\n",
       "      <td>5.0</td>\n",
       "      <td>0.0</td>\n",
       "      <td>1.0</td>\n",
       "      <td>1.0</td>\n",
       "      <td>0.0</td>\n",
       "      <td>...</td>\n",
       "      <td>1.000000</td>\n",
       "      <td>0.0</td>\n",
       "      <td>74.0</td>\n",
       "      <td>1.0</td>\n",
       "      <td>0.0</td>\n",
       "      <td>2209.0</td>\n",
       "      <td>0.0</td>\n",
       "      <td>0.0</td>\n",
       "      <td>1.0</td>\n",
       "      <td>0.0</td>\n",
       "    </tr>\n",
       "    <tr>\n",
       "      <th>1234</th>\n",
       "      <td>1234.0</td>\n",
       "      <td>0.0</td>\n",
       "      <td>528548.0</td>\n",
       "      <td>36.0</td>\n",
       "      <td>2.0</td>\n",
       "      <td>2.0</td>\n",
       "      <td>0.0</td>\n",
       "      <td>1.0</td>\n",
       "      <td>0.0</td>\n",
       "      <td>2.0</td>\n",
       "      <td>...</td>\n",
       "      <td>1.666667</td>\n",
       "      <td>0.0</td>\n",
       "      <td>6.0</td>\n",
       "      <td>2.0</td>\n",
       "      <td>0.0</td>\n",
       "      <td>2124.0</td>\n",
       "      <td>0.0</td>\n",
       "      <td>0.0</td>\n",
       "      <td>0.0</td>\n",
       "      <td>0.0</td>\n",
       "    </tr>\n",
       "  </tbody>\n",
       "</table>\n",
       "<p>1235 rows × 22 columns</p>\n",
       "</div>"
      ],
      "text/plain": [
       "          id  surgery  hospital_number  respiratory_rate  temp_of_extremities  \\\n",
       "0        0.0      0.0         530001.0              24.0                  0.0   \n",
       "1        1.0      0.0         533836.0              12.0                  0.0   \n",
       "2        2.0      0.0         529812.0              28.0                  0.0   \n",
       "3        3.0      0.0        5262541.0              30.0                  1.0   \n",
       "4        4.0      1.0        5299629.0              48.0                  2.0   \n",
       "...      ...      ...              ...               ...                  ...   \n",
       "1230  1230.0      0.0         535246.0              48.0                  0.0   \n",
       "1231  1231.0      0.0         528570.0              50.0                  0.0   \n",
       "1232  1232.0      0.0         529685.0              40.0                  2.0   \n",
       "1233  1233.0      0.0         534784.0              16.0                  2.0   \n",
       "1234  1234.0      0.0         528548.0              36.0                  2.0   \n",
       "\n",
       "      mucous_membrane  capillary_refill_time  pain  peristalsis  \\\n",
       "0                 0.0                    1.0   0.0          0.0   \n",
       "1                 1.0                    1.0   1.0          0.0   \n",
       "2                 2.0                    0.0   2.0          1.0   \n",
       "3                 2.0                    1.0   1.0          1.0   \n",
       "4                 3.0                    0.0   3.0          1.0   \n",
       "...               ...                    ...   ...          ...   \n",
       "1230              2.0                    1.0   0.0          0.0   \n",
       "1231              1.0                    0.0   1.0          1.0   \n",
       "1232              3.0                    0.0   1.0          1.0   \n",
       "1233              5.0                    0.0   1.0          1.0   \n",
       "1234              2.0                    0.0   1.0          0.0   \n",
       "\n",
       "      abdominal_distention  ...  rectal_exam_feces  abdomen  total_protein  \\\n",
       "0                      0.0  ...           0.000000      0.0            8.5   \n",
       "1                      1.0  ...           1.000000      0.0           64.0   \n",
       "2                      1.0  ...           1.000000      1.0            6.4   \n",
       "3                      1.0  ...           0.000000      0.0            7.0   \n",
       "4                      2.0  ...           2.000000      2.0            7.3   \n",
       "...                    ...  ...                ...      ...            ...   \n",
       "1230                   1.0  ...           0.666667      1.0           66.0   \n",
       "1231                   0.0  ...           0.000000      0.0            6.4   \n",
       "1232                   0.0  ...           3.000000      3.0            5.9   \n",
       "1233                   0.0  ...           1.000000      0.0           74.0   \n",
       "1234                   2.0  ...           1.666667      0.0            6.0   \n",
       "\n",
       "      abdomo_appearance  surgical_lesion  lesion_1  lesion_2  lesion_3  \\\n",
       "0                   0.0              0.0    2209.0       0.0       0.0   \n",
       "1                   0.0              0.0    2208.0       0.0       0.0   \n",
       "2                   0.0              0.0    5124.0       0.0       0.0   \n",
       "3                   1.0              0.0    2208.0       0.0       0.0   \n",
       "4                   1.0              1.0       0.0       0.0       0.0   \n",
       "...                 ...              ...       ...       ...       ...   \n",
       "1230                0.0              0.0    2206.0       0.0       0.0   \n",
       "1231                0.0              0.0    2209.0       0.0       0.0   \n",
       "1232                1.0              0.0     400.0       0.0       0.0   \n",
       "1233                1.0              0.0    2209.0       0.0       0.0   \n",
       "1234                2.0              0.0    2124.0       0.0       0.0   \n",
       "\n",
       "      cp_data  outcome  \n",
       "0         1.0      1.0  \n",
       "1         1.0      2.0  \n",
       "2         1.0      0.0  \n",
       "3         0.0      0.0  \n",
       "4         0.0      0.0  \n",
       "...       ...      ...  \n",
       "1230      1.0      0.0  \n",
       "1231      0.0      1.0  \n",
       "1232      0.0      0.0  \n",
       "1233      1.0      0.0  \n",
       "1234      0.0      0.0  \n",
       "\n",
       "[1235 rows x 22 columns]"
      ]
     },
     "execution_count": 19,
     "metadata": {},
     "output_type": "execute_result"
    }
   ],
   "source": [
    "top_vif = 100\n",
    "\n",
    "while(top_vif > 5):\n",
    "    vif_df, remove_col, top_vif = check_vif(train)\n",
    "    print(remove_col, top_vif)\n",
    "    if top_vif < 5:\n",
    "        break\n",
    "    train = train.drop(columns=remove_col)\n",
    "\n",
    "train"
   ]
  },
  {
   "cell_type": "code",
   "execution_count": 20,
   "id": "725839d3",
   "metadata": {
    "_kg_hide-input": true,
    "_kg_hide-output": true,
    "execution": {
     "iopub.execute_input": "2023-09-27T05:56:09.599722Z",
     "iopub.status.busy": "2023-09-27T05:56:09.599453Z",
     "iopub.status.idle": "2023-09-27T05:56:10.326090Z",
     "shell.execute_reply": "2023-09-27T05:56:10.324931Z"
    },
    "papermill": {
     "duration": 0.758708,
     "end_time": "2023-09-27T05:56:10.328633",
     "exception": false,
     "start_time": "2023-09-27T05:56:09.569925",
     "status": "completed"
    },
    "tags": []
   },
   "outputs": [
    {
     "data": {
      "text/plain": [
       "<Axes: >"
      ]
     },
     "execution_count": 20,
     "metadata": {},
     "output_type": "execute_result"
    },
    {
     "data": {
      "image/png": "[encoded data removed]",
      "text/plain": [
       "<Figure size 640x480 with 1 Axes>"
      ]
     },
     "metadata": {},
     "output_type": "display_data"
    }
   ],
   "source": [
    "X = train.drop(columns=['outcome', 'id'])\n",
    "y = train['outcome']\n",
    "\n",
    "rf = RandomForestClassifier()\n",
    "rf.fit(X, y)\n",
    "# [(col, fi) for col, fi in zip(X.columns, rf.feature_importances_)]\n",
    "fi_df = pd.DataFrame({'feature': X.columns, 'importance' : rf.feature_importances_})\n",
    "\n",
    "fi_df.sort_values(by='importance', ascending=False).plot(kind='bar')"
   ]
  },
  {
   "cell_type": "code",
   "execution_count": 21,
   "id": "dcc74d36",
   "metadata": {
    "_kg_hide-input": true,
    "_kg_hide-output": true,
    "execution": {
     "iopub.execute_input": "2023-09-27T05:56:10.363962Z",
     "iopub.status.busy": "2023-09-27T05:56:10.363700Z",
     "iopub.status.idle": "2023-09-27T05:56:10.371383Z",
     "shell.execute_reply": "2023-09-27T05:56:10.370394Z"
    },
    "papermill": {
     "duration": 0.027849,
     "end_time": "2023-09-27T05:56:10.373478",
     "exception": false,
     "start_time": "2023-09-27T05:56:10.345629",
     "status": "completed"
    },
    "tags": []
   },
   "outputs": [
    {
     "data": {
      "text/plain": [
       "array(['total_protein', 'hospital_number', 'lesion_1', 'respiratory_rate',\n",
       "       'pain', 'abdomo_appearance', 'mucous_membrane',\n",
       "       'temp_of_extremities', 'abdomen', 'rectal_exam_feces'],\n",
       "      dtype=object)"
      ]
     },
     "execution_count": 21,
     "metadata": {},
     "output_type": "execute_result"
    }
   ],
   "source": [
    "selected_cols = fi_df.sort_values(by='importance', ascending=False)[:10]['feature'].values\n",
    "selected_cols"
   ]
  },
  {
   "cell_type": "code",
   "execution_count": 22,
   "id": "861cc5f8",
   "metadata": {
    "_kg_hide-input": true,
    "_kg_hide-output": true,
    "execution": {
     "iopub.execute_input": "2023-09-27T05:56:10.409209Z",
     "iopub.status.busy": "2023-09-27T05:56:10.408707Z",
     "iopub.status.idle": "2023-09-27T05:56:10.418648Z",
     "shell.execute_reply": "2023-09-27T05:56:10.417360Z"
    },
    "papermill": {
     "duration": 0.03075,
     "end_time": "2023-09-27T05:56:10.421000",
     "exception": false,
     "start_time": "2023-09-27T05:56:10.390250",
     "status": "completed"
    },
    "tags": []
   },
   "outputs": [
    {
     "name": "stdout",
     "output_type": "stream",
     "text": [
      "(574, 22) (410, 22) (251, 22)\n"
     ]
    }
   ],
   "source": [
    "# class imbalance handling\n",
    "\n",
    "## 1. undersampling\n",
    "c0 = train[train.outcome==0]\n",
    "c1 = train[train.outcome==1]\n",
    "c2 = train[train.outcome==2]\n",
    "\n",
    "print(c0.shape, c1.shape, c2.shape)\n",
    "# c0 = c0.sample(n=c1.shape[0])\n",
    "# train = pd.concat([c0, c1])\n",
    "# train.shape"
   ]
  },
  {
   "cell_type": "code",
   "execution_count": 23,
   "id": "751fe309",
   "metadata": {
    "_kg_hide-input": true,
    "_kg_hide-output": true,
    "execution": {
     "iopub.execute_input": "2023-09-27T05:56:10.457197Z",
     "iopub.status.busy": "2023-09-27T05:56:10.456190Z",
     "iopub.status.idle": "2023-09-27T05:56:10.676377Z",
     "shell.execute_reply": "2023-09-27T05:56:10.675375Z"
    },
    "papermill": {
     "duration": 0.24064,
     "end_time": "2023-09-27T05:56:10.678721",
     "exception": false,
     "start_time": "2023-09-27T05:56:10.438081",
     "status": "completed"
    },
    "tags": []
   },
   "outputs": [
    {
     "name": "stdout",
     "output_type": "stream",
     "text": [
      "(1722, 10) (1722,)\n"
     ]
    }
   ],
   "source": [
    "from imblearn.over_sampling import SMOTE\n",
    "\n",
    "X = train[selected_cols]\n",
    "y = train['outcome']\n",
    "\n",
    "smote = SMOTE(k_neighbors=5)\n",
    "X_resampled, y_resampled = smote.fit_resample(X, y)\n",
    "print(X_resampled.shape, y_resampled.shape)"
   ]
  },
  {
   "cell_type": "code",
   "execution_count": 24,
   "id": "0486662e",
   "metadata": {
    "_kg_hide-input": true,
    "_kg_hide-output": true,
    "execution": {
     "iopub.execute_input": "2023-09-27T05:56:10.716640Z",
     "iopub.status.busy": "2023-09-27T05:56:10.715513Z",
     "iopub.status.idle": "2023-09-27T05:56:10.725273Z",
     "shell.execute_reply": "2023-09-27T05:56:10.724170Z"
    },
    "papermill": {
     "duration": 0.031293,
     "end_time": "2023-09-27T05:56:10.727416",
     "exception": false,
     "start_time": "2023-09-27T05:56:10.696123",
     "status": "completed"
    },
    "tags": []
   },
   "outputs": [
    {
     "name": "stdout",
     "output_type": "stream",
     "text": [
      "(1463, 10) (259, 10) (1463,) (259,)\n"
     ]
    }
   ],
   "source": [
    "X_train, X_val, y_train, y_val = train_test_split(X_resampled, y_resampled, test_size=0.15, stratify=y_resampled, random_state=42)\n",
    "print(X_train.shape, X_val.shape, y_train.shape, y_val.shape)\n"
   ]
  },
  {
   "cell_type": "code",
   "execution_count": 25,
   "id": "4d16b2db",
   "metadata": {
    "_kg_hide-input": true,
    "_kg_hide-output": true,
    "execution": {
     "iopub.execute_input": "2023-09-27T05:56:10.763567Z",
     "iopub.status.busy": "2023-09-27T05:56:10.763035Z",
     "iopub.status.idle": "2023-09-27T05:56:10.790001Z",
     "shell.execute_reply": "2023-09-27T05:56:10.789021Z"
    },
    "papermill": {
     "duration": 0.047955,
     "end_time": "2023-09-27T05:56:10.792500",
     "exception": false,
     "start_time": "2023-09-27T05:56:10.744545",
     "status": "completed"
    },
    "tags": []
   },
   "outputs": [
    {
     "data": {
      "text/html": [
       "<div>\n",
       "<style scoped>\n",
       "    .dataframe tbody tr th:only-of-type {\n",
       "        vertical-align: middle;\n",
       "    }\n",
       "\n",
       "    .dataframe tbody tr th {\n",
       "        vertical-align: top;\n",
       "    }\n",
       "\n",
       "    .dataframe thead th {\n",
       "        text-align: right;\n",
       "    }\n",
       "</style>\n",
       "<table border=\"1\" class=\"dataframe\">\n",
       "  <thead>\n",
       "    <tr style=\"text-align: right;\">\n",
       "      <th></th>\n",
       "      <th>total_protein</th>\n",
       "      <th>hospital_number</th>\n",
       "      <th>lesion_1</th>\n",
       "      <th>respiratory_rate</th>\n",
       "      <th>pain</th>\n",
       "      <th>abdomo_appearance</th>\n",
       "      <th>mucous_membrane</th>\n",
       "      <th>temp_of_extremities</th>\n",
       "      <th>abdomen</th>\n",
       "      <th>rectal_exam_feces</th>\n",
       "    </tr>\n",
       "  </thead>\n",
       "  <tbody>\n",
       "    <tr>\n",
       "      <th>0</th>\n",
       "      <td>-0.593239</td>\n",
       "      <td>-0.308563</td>\n",
       "      <td>-0.737374</td>\n",
       "      <td>-0.182586</td>\n",
       "      <td>1.305084</td>\n",
       "      <td>0.467881</td>\n",
       "      <td>0.407235</td>\n",
       "      <td>1.501310</td>\n",
       "      <td>2.423875</td>\n",
       "      <td>1.337503</td>\n",
       "    </tr>\n",
       "    <tr>\n",
       "      <th>1</th>\n",
       "      <td>-0.603869</td>\n",
       "      <td>-0.308241</td>\n",
       "      <td>5.295398</td>\n",
       "      <td>0.701236</td>\n",
       "      <td>-0.981831</td>\n",
       "      <td>0.467881</td>\n",
       "      <td>-0.919924</td>\n",
       "      <td>-0.734212</td>\n",
       "      <td>1.330465</td>\n",
       "      <td>-1.429371</td>\n",
       "    </tr>\n",
       "    <tr>\n",
       "      <th>2</th>\n",
       "      <td>-0.610956</td>\n",
       "      <td>-0.308052</td>\n",
       "      <td>-0.737374</td>\n",
       "      <td>-0.182586</td>\n",
       "      <td>-0.219526</td>\n",
       "      <td>1.830208</td>\n",
       "      <td>0.407235</td>\n",
       "      <td>1.501310</td>\n",
       "      <td>2.059405</td>\n",
       "      <td>1.337503</td>\n",
       "    </tr>\n",
       "    <tr>\n",
       "      <th>3</th>\n",
       "      <td>-0.575523</td>\n",
       "      <td>-0.308608</td>\n",
       "      <td>-0.115869</td>\n",
       "      <td>-0.056325</td>\n",
       "      <td>-0.981831</td>\n",
       "      <td>1.830208</td>\n",
       "      <td>-0.919924</td>\n",
       "      <td>-0.734212</td>\n",
       "      <td>0.237054</td>\n",
       "      <td>-0.045934</td>\n",
       "    </tr>\n",
       "    <tr>\n",
       "      <th>4</th>\n",
       "      <td>2.046536</td>\n",
       "      <td>-0.304406</td>\n",
       "      <td>-0.309010</td>\n",
       "      <td>1.080017</td>\n",
       "      <td>-0.981831</td>\n",
       "      <td>0.467881</td>\n",
       "      <td>-0.919924</td>\n",
       "      <td>0.383549</td>\n",
       "      <td>-0.491886</td>\n",
       "      <td>-0.507080</td>\n",
       "    </tr>\n",
       "    <tr>\n",
       "      <th>...</th>\n",
       "      <td>...</td>\n",
       "      <td>...</td>\n",
       "      <td>...</td>\n",
       "      <td>...</td>\n",
       "      <td>...</td>\n",
       "      <td>...</td>\n",
       "      <td>...</td>\n",
       "      <td>...</td>\n",
       "      <td>...</td>\n",
       "      <td>...</td>\n",
       "    </tr>\n",
       "    <tr>\n",
       "      <th>1458</th>\n",
       "      <td>-0.628672</td>\n",
       "      <td>-0.308708</td>\n",
       "      <td>-0.325493</td>\n",
       "      <td>-0.940148</td>\n",
       "      <td>-0.219526</td>\n",
       "      <td>1.830208</td>\n",
       "      <td>1.734394</td>\n",
       "      <td>-0.734212</td>\n",
       "      <td>0.237054</td>\n",
       "      <td>2.720940</td>\n",
       "    </tr>\n",
       "    <tr>\n",
       "      <th>1459</th>\n",
       "      <td>2.037920</td>\n",
       "      <td>-0.304030</td>\n",
       "      <td>-0.465890</td>\n",
       "      <td>0.383861</td>\n",
       "      <td>-0.611088</td>\n",
       "      <td>-0.231886</td>\n",
       "      <td>-1.081288</td>\n",
       "      <td>-0.734212</td>\n",
       "      <td>0.237054</td>\n",
       "      <td>-1.092958</td>\n",
       "    </tr>\n",
       "    <tr>\n",
       "      <th>1460</th>\n",
       "      <td>-0.593239</td>\n",
       "      <td>-0.307843</td>\n",
       "      <td>0.232213</td>\n",
       "      <td>0.574976</td>\n",
       "      <td>-0.219526</td>\n",
       "      <td>0.467881</td>\n",
       "      <td>-0.256344</td>\n",
       "      <td>1.501310</td>\n",
       "      <td>2.423875</td>\n",
       "      <td>1.337503</td>\n",
       "    </tr>\n",
       "    <tr>\n",
       "      <th>1461</th>\n",
       "      <td>-0.575523</td>\n",
       "      <td>-0.308421</td>\n",
       "      <td>-0.134097</td>\n",
       "      <td>0.322455</td>\n",
       "      <td>-0.981831</td>\n",
       "      <td>-0.894446</td>\n",
       "      <td>1.734394</td>\n",
       "      <td>-0.734212</td>\n",
       "      <td>0.237054</td>\n",
       "      <td>-0.045934</td>\n",
       "    </tr>\n",
       "    <tr>\n",
       "      <th>1462</th>\n",
       "      <td>1.585904</td>\n",
       "      <td>-0.303697</td>\n",
       "      <td>-0.115869</td>\n",
       "      <td>0.322455</td>\n",
       "      <td>0.542779</td>\n",
       "      <td>-0.894446</td>\n",
       "      <td>-0.919924</td>\n",
       "      <td>-0.734212</td>\n",
       "      <td>0.237054</td>\n",
       "      <td>-0.045934</td>\n",
       "    </tr>\n",
       "  </tbody>\n",
       "</table>\n",
       "<p>1463 rows × 10 columns</p>\n",
       "</div>"
      ],
      "text/plain": [
       "      total_protein  hospital_number  lesion_1  respiratory_rate      pain  \\\n",
       "0         -0.593239        -0.308563 -0.737374         -0.182586  1.305084   \n",
       "1         -0.603869        -0.308241  5.295398          0.701236 -0.981831   \n",
       "2         -0.610956        -0.308052 -0.737374         -0.182586 -0.219526   \n",
       "3         -0.575523        -0.308608 -0.115869         -0.056325 -0.981831   \n",
       "4          2.046536        -0.304406 -0.309010          1.080017 -0.981831   \n",
       "...             ...              ...       ...               ...       ...   \n",
       "1458      -0.628672        -0.308708 -0.325493         -0.940148 -0.219526   \n",
       "1459       2.037920        -0.304030 -0.465890          0.383861 -0.611088   \n",
       "1460      -0.593239        -0.307843  0.232213          0.574976 -0.219526   \n",
       "1461      -0.575523        -0.308421 -0.134097          0.322455 -0.981831   \n",
       "1462       1.585904        -0.303697 -0.115869          0.322455  0.542779   \n",
       "\n",
       "      abdomo_appearance  mucous_membrane  temp_of_extremities   abdomen  \\\n",
       "0              0.467881         0.407235             1.501310  2.423875   \n",
       "1              0.467881        -0.919924            -0.734212  1.330465   \n",
       "2              1.830208         0.407235             1.501310  2.059405   \n",
       "3              1.830208        -0.919924            -0.734212  0.237054   \n",
       "4              0.467881        -0.919924             0.383549 -0.491886   \n",
       "...                 ...              ...                  ...       ...   \n",
       "1458           1.830208         1.734394            -0.734212  0.237054   \n",
       "1459          -0.231886        -1.081288            -0.734212  0.237054   \n",
       "1460           0.467881        -0.256344             1.501310  2.423875   \n",
       "1461          -0.894446         1.734394            -0.734212  0.237054   \n",
       "1462          -0.894446        -0.919924            -0.734212  0.237054   \n",
       "\n",
       "      rectal_exam_feces  \n",
       "0              1.337503  \n",
       "1             -1.429371  \n",
       "2              1.337503  \n",
       "3             -0.045934  \n",
       "4             -0.507080  \n",
       "...                 ...  \n",
       "1458           2.720940  \n",
       "1459          -1.092958  \n",
       "1460           1.337503  \n",
       "1461          -0.045934  \n",
       "1462          -0.045934  \n",
       "\n",
       "[1463 rows x 10 columns]"
      ]
     },
     "metadata": {},
     "output_type": "display_data"
    }
   ],
   "source": [
    "from sklearn.preprocessing import StandardScaler\n",
    "\n",
    "if is_scaling:\n",
    "    scaler = StandardScaler()\n",
    "    data_ = scaler.fit_transform(X_train)\n",
    "    X_train = pd.DataFrame(data=data_, columns=X_train.columns)\n",
    "    data_ = scaler.transform(X_val)\n",
    "    X_val = pd.DataFrame(data=data_, columns=X_val.columns)\n",
    "    display(X_train)"
   ]
  },
  {
   "cell_type": "code",
   "execution_count": 26,
   "id": "794dddfb",
   "metadata": {
    "_kg_hide-input": true,
    "_kg_hide-output": true,
    "execution": {
     "iopub.execute_input": "2023-09-27T05:56:10.830433Z",
     "iopub.status.busy": "2023-09-27T05:56:10.829539Z",
     "iopub.status.idle": "2023-09-27T05:56:10.836440Z",
     "shell.execute_reply": "2023-09-27T05:56:10.835402Z"
    },
    "papermill": {
     "duration": 0.02868,
     "end_time": "2023-09-27T05:56:10.838942",
     "exception": false,
     "start_time": "2023-09-27T05:56:10.810262",
     "status": "completed"
    },
    "tags": []
   },
   "outputs": [],
   "source": [
    "if is_pca:\n",
    "    from sklearn.decomposition import PCA\n",
    "\n",
    "    pca = PCA(n_components=0.90, random_state=42)\n",
    "    data_ = pca.fit_transform(X_train)\n",
    "    X_train = pd.DataFrame(data=data_, columns=[f\"PC{i}\" for i in range(1, data_.shape[1]+1)])\n",
    "    data_ = pca.transform(X_val)\n",
    "    X_val = pd.DataFrame(data=data_, columns=[f\"PC{i}\" for i in range(1, data_.shape[1]+1)])\n",
    "\n",
    "    display(X_train)"
   ]
  },
  {
   "cell_type": "code",
   "execution_count": 27,
   "id": "8bc5a002",
   "metadata": {
    "_kg_hide-input": true,
    "_kg_hide-output": true,
    "execution": {
     "iopub.execute_input": "2023-09-27T05:56:10.876596Z",
     "iopub.status.busy": "2023-09-27T05:56:10.875667Z",
     "iopub.status.idle": "2023-09-27T05:56:11.427458Z",
     "shell.execute_reply": "2023-09-27T05:56:11.426354Z"
    },
    "papermill": {
     "duration": 0.57891,
     "end_time": "2023-09-27T05:56:11.435729",
     "exception": false,
     "start_time": "2023-09-27T05:56:10.856819",
     "status": "completed"
    },
    "tags": []
   },
   "outputs": [
    {
     "name": "stdout",
     "output_type": "stream",
     "text": [
      "Model: \"sequential\"\n",
      "_________________________________________________________________\n",
      " Layer (type)                Output Shape              Param #   \n",
      "=================================================================\n",
      " dense (Dense)               (None, 20)                220       \n",
      "                                                                 \n",
      " re_lu (ReLU)                (None, 20)                0         \n",
      "                                                                 \n",
      " dropout (Dropout)           (None, 20)                0         \n",
      "                                                                 \n",
      " dense_1 (Dense)             (None, 20)                420       \n",
      "                                                                 \n",
      " re_lu_1 (ReLU)              (None, 20)                0         \n",
      "                                                                 \n",
      " dropout_1 (Dropout)         (None, 20)                0         \n",
      "                                                                 \n",
      " dense_2 (Dense)             (None, 10)                210       \n",
      "                                                                 \n",
      " re_lu_2 (ReLU)              (None, 10)                0         \n",
      "                                                                 \n",
      " dropout_2 (Dropout)         (None, 10)                0         \n",
      "                                                                 \n",
      " dense_3 (Dense)             (None, 20)                220       \n",
      "                                                                 \n",
      " re_lu_3 (ReLU)              (None, 20)                0         \n",
      "                                                                 \n",
      " dropout_3 (Dropout)         (None, 20)                0         \n",
      "                                                                 \n",
      " dense_4 (Dense)             (None, 20)                420       \n",
      "                                                                 \n",
      " re_lu_4 (ReLU)              (None, 20)                0         \n",
      "                                                                 \n",
      " dropout_4 (Dropout)         (None, 20)                0         \n",
      "                                                                 \n",
      " dense_5 (Dense)             (None, 3)                 63        \n",
      "                                                                 \n",
      " softmax (Softmax)           (None, 3)                 0         \n",
      "                                                                 \n",
      "=================================================================\n",
      "Total params: 1,553\n",
      "Trainable params: 1,553\n",
      "Non-trainable params: 0\n",
      "_________________________________________________________________\n"
     ]
    }
   ],
   "source": [
    "svm = SVC(random_state=42)\n",
    "lr = LogisticRegression(multi_class='multinomial', random_state=42, max_iter=300)\n",
    "xgb = XGBClassifier(max_depth=3, colsample_bytree=0.8, reg_lambda=1, objective='multi:softmax', num_class=3, random_state=42)\n",
    "rf = RandomForestClassifier(max_depth=3, max_features=0.8, criterion='gini', random_state=42)\n",
    "catb = cat(iterations=300, depth=3, od_type='Iter', od_wait=15, bootstrap_type='Bayesian', random_state=42)\n",
    "lgbm = lgb(boosting_type='gbdt', min_child_samples=20, min_child_weight=0.001, n_estimators=20, random_state=42)\n",
    "\n",
    "nn = Sequential([\n",
    "    Input(shape=(X_train.shape[1],)),\n",
    "    Dense(20), ReLU(), Dropout(0.2),\n",
    "    Dense(20), ReLU(), Dropout(0.2),\n",
    "    Dense(10), ReLU(), Dropout(0.1),\n",
    "    Dense(20), ReLU(), Dropout(0.2),\n",
    "    Dense(20), ReLU(), Dropout(0.2),\n",
    "    Dense(3), Softmax()\n",
    "])\n",
    "nn.summary()\n"
   ]
  },
  {
   "cell_type": "code",
   "execution_count": 28,
   "id": "e800d7aa",
   "metadata": {
    "_kg_hide-input": true,
    "_kg_hide-output": true,
    "execution": {
     "iopub.execute_input": "2023-09-27T05:56:11.477651Z",
     "iopub.status.busy": "2023-09-27T05:56:11.476989Z",
     "iopub.status.idle": "2023-09-27T05:56:11.498183Z",
     "shell.execute_reply": "2023-09-27T05:56:11.497116Z"
    },
    "papermill": {
     "duration": 0.045166,
     "end_time": "2023-09-27T05:56:11.500809",
     "exception": false,
     "start_time": "2023-09-27T05:56:11.455643",
     "status": "completed"
    },
    "tags": []
   },
   "outputs": [],
   "source": [
    "optimizer = Adam(learning_rate=learning_rate)\n",
    "loss_fn = tf.keras.losses.CategoricalCrossentropy(label_smoothing=0.8)   # [0.8, 0.2] <--> [0.9, 0] // [0, 0.9]\n",
    "scheduler = ReduceLROnPlateau(monitor='val_loss',\n",
    "                              factor=0.5,\n",
    "                              patience=10,\n",
    "                              min_lr=1e-6)\n",
    "earlystopper = EarlyStopping(monitor='val_loss',\n",
    "                             patience=20,\n",
    "                             min_delta=1e-2)\n",
    "\n",
    "\n",
    "nn.compile(optimizer=optimizer, loss=loss_fn, metrics=[calculate_f1])\n",
    "\n",
    "nn_y_train = tf.keras.utils.to_categorical(y_train, num_classes=3)\n",
    "nn_y_val = tf.keras.utils.to_categorical(y_val, num_classes=3)"
   ]
  },
  {
   "cell_type": "code",
   "execution_count": 29,
   "id": "710e99dc",
   "metadata": {
    "_kg_hide-input": true,
    "_kg_hide-output": true,
    "collapsed": true,
    "execution": {
     "iopub.execute_input": "2023-09-27T05:56:11.543942Z",
     "iopub.status.busy": "2023-09-27T05:56:11.543660Z",
     "iopub.status.idle": "2023-09-27T05:56:13.096480Z",
     "shell.execute_reply": "2023-09-27T05:56:13.095645Z"
    },
    "jupyter": {
     "outputs_hidden": true
    },
    "papermill": {
     "duration": 1.576762,
     "end_time": "2023-09-27T05:56:13.098728",
     "exception": false,
     "start_time": "2023-09-27T05:56:11.521966",
     "status": "completed"
    },
    "tags": []
   },
   "outputs": [
    {
     "name": "stdout",
     "output_type": "stream",
     "text": [
      "\n",
      "Fitting LogisticRegression...\n",
      "\n",
      "Fitting SVM...\n",
      "\n",
      "Fitting RandomForest...\n",
      "\n",
      "Fitting XGBoost...\n",
      "\n",
      "Fitting CatBoost...\n",
      "Learning rate set to 0.223143\n",
      "0:\tlearn: 1.0135371\ttotal: 56ms\tremaining: 16.8s\n",
      "1:\tlearn: 0.9481199\ttotal: 57.6ms\tremaining: 8.58s\n",
      "2:\tlearn: 0.9107264\ttotal: 59.1ms\tremaining: 5.85s\n",
      "3:\tlearn: 0.8804978\ttotal: 60.5ms\tremaining: 4.47s\n",
      "4:\tlearn: 0.8636394\ttotal: 61.8ms\tremaining: 3.65s\n",
      "5:\tlearn: 0.8447333\ttotal: 63ms\tremaining: 3.08s\n",
      "6:\tlearn: 0.8255463\ttotal: 64.1ms\tremaining: 2.68s\n",
      "7:\tlearn: 0.8119520\ttotal: 65.2ms\tremaining: 2.38s\n",
      "8:\tlearn: 0.7949491\ttotal: 66.3ms\tremaining: 2.14s\n",
      "9:\tlearn: 0.7815603\ttotal: 67.4ms\tremaining: 1.96s\n",
      "10:\tlearn: 0.7682546\ttotal: 68.6ms\tremaining: 1.8s\n",
      "11:\tlearn: 0.7603655\ttotal: 69.9ms\tremaining: 1.68s\n",
      "12:\tlearn: 0.7561771\ttotal: 71ms\tremaining: 1.57s\n",
      "13:\tlearn: 0.7498425\ttotal: 72.1ms\tremaining: 1.47s\n",
      "14:\tlearn: 0.7424006\ttotal: 73.2ms\tremaining: 1.39s\n",
      "15:\tlearn: 0.7359106\ttotal: 74.3ms\tremaining: 1.32s\n",
      "16:\tlearn: 0.7307284\ttotal: 75.6ms\tremaining: 1.26s\n",
      "17:\tlearn: 0.7242210\ttotal: 76.8ms\tremaining: 1.2s\n",
      "18:\tlearn: 0.7203754\ttotal: 77.8ms\tremaining: 1.15s\n",
      "19:\tlearn: 0.7140492\ttotal: 79ms\tremaining: 1.1s\n",
      "20:\tlearn: 0.7108145\ttotal: 80.1ms\tremaining: 1.06s\n",
      "21:\tlearn: 0.7075663\ttotal: 81.4ms\tremaining: 1.03s\n",
      "22:\tlearn: 0.7024366\ttotal: 82.6ms\tremaining: 994ms\n",
      "23:\tlearn: 0.6982900\ttotal: 83.7ms\tremaining: 962ms\n",
      "24:\tlearn: 0.6939628\ttotal: 84.8ms\tremaining: 933ms\n",
      "25:\tlearn: 0.6907205\ttotal: 86.2ms\tremaining: 908ms\n",
      "26:\tlearn: 0.6889407\ttotal: 87.5ms\tremaining: 885ms\n",
      "27:\tlearn: 0.6851466\ttotal: 88.7ms\tremaining: 862ms\n",
      "28:\tlearn: 0.6819393\ttotal: 89.9ms\tremaining: 840ms\n",
      "29:\tlearn: 0.6786410\ttotal: 91ms\tremaining: 819ms\n",
      "30:\tlearn: 0.6748846\ttotal: 92.1ms\tremaining: 799ms\n",
      "31:\tlearn: 0.6715905\ttotal: 93.3ms\tremaining: 781ms\n",
      "32:\tlearn: 0.6701371\ttotal: 94.6ms\tremaining: 765ms\n",
      "33:\tlearn: 0.6672423\ttotal: 95.8ms\tremaining: 750ms\n",
      "34:\tlearn: 0.6649635\ttotal: 97.1ms\tremaining: 735ms\n",
      "35:\tlearn: 0.6623344\ttotal: 98.5ms\tremaining: 722ms\n",
      "36:\tlearn: 0.6594245\ttotal: 99.6ms\tremaining: 708ms\n",
      "37:\tlearn: 0.6544061\ttotal: 101ms\tremaining: 695ms\n",
      "38:\tlearn: 0.6531277\ttotal: 102ms\tremaining: 682ms\n",
      "39:\tlearn: 0.6483619\ttotal: 103ms\tremaining: 670ms\n",
      "40:\tlearn: 0.6431587\ttotal: 104ms\tremaining: 659ms\n",
      "41:\tlearn: 0.6401997\ttotal: 105ms\tremaining: 648ms\n",
      "42:\tlearn: 0.6380122\ttotal: 106ms\tremaining: 636ms\n",
      "43:\tlearn: 0.6346747\ttotal: 108ms\tremaining: 626ms\n",
      "44:\tlearn: 0.6321661\ttotal: 109ms\tremaining: 616ms\n",
      "45:\tlearn: 0.6287721\ttotal: 110ms\tremaining: 607ms\n",
      "46:\tlearn: 0.6252372\ttotal: 111ms\tremaining: 598ms\n",
      "47:\tlearn: 0.6224823\ttotal: 112ms\tremaining: 589ms\n",
      "48:\tlearn: 0.6185805\ttotal: 113ms\tremaining: 581ms\n",
      "49:\tlearn: 0.6167355\ttotal: 115ms\tremaining: 573ms\n",
      "50:\tlearn: 0.6152337\ttotal: 116ms\tremaining: 565ms\n",
      "51:\tlearn: 0.6118773\ttotal: 117ms\tremaining: 557ms\n",
      "52:\tlearn: 0.6101500\ttotal: 118ms\tremaining: 550ms\n",
      "53:\tlearn: 0.6094783\ttotal: 119ms\tremaining: 543ms\n",
      "54:\tlearn: 0.6067822\ttotal: 120ms\tremaining: 535ms\n",
      "55:\tlearn: 0.6048421\ttotal: 121ms\tremaining: 529ms\n",
      "56:\tlearn: 0.6021762\ttotal: 122ms\tremaining: 522ms\n",
      "57:\tlearn: 0.5979017\ttotal: 123ms\tremaining: 515ms\n",
      "58:\tlearn: 0.5965419\ttotal: 125ms\tremaining: 509ms\n",
      "59:\tlearn: 0.5944405\ttotal: 126ms\tremaining: 503ms\n",
      "60:\tlearn: 0.5907285\ttotal: 127ms\tremaining: 497ms\n",
      "61:\tlearn: 0.5887699\ttotal: 128ms\tremaining: 492ms\n",
      "62:\tlearn: 0.5838143\ttotal: 129ms\tremaining: 486ms\n",
      "63:\tlearn: 0.5811914\ttotal: 130ms\tremaining: 480ms\n",
      "64:\tlearn: 0.5791709\ttotal: 131ms\tremaining: 475ms\n",
      "65:\tlearn: 0.5778405\ttotal: 133ms\tremaining: 471ms\n",
      "66:\tlearn: 0.5734395\ttotal: 134ms\tremaining: 466ms\n",
      "67:\tlearn: 0.5710007\ttotal: 135ms\tremaining: 461ms\n",
      "68:\tlearn: 0.5705724\ttotal: 136ms\tremaining: 457ms\n",
      "69:\tlearn: 0.5689330\ttotal: 138ms\tremaining: 455ms\n",
      "70:\tlearn: 0.5663637\ttotal: 140ms\tremaining: 451ms\n",
      "71:\tlearn: 0.5639384\ttotal: 141ms\tremaining: 448ms\n",
      "72:\tlearn: 0.5635607\ttotal: 143ms\tremaining: 445ms\n",
      "73:\tlearn: 0.5613316\ttotal: 144ms\tremaining: 440ms\n",
      "74:\tlearn: 0.5596452\ttotal: 145ms\tremaining: 436ms\n",
      "75:\tlearn: 0.5588656\ttotal: 146ms\tremaining: 432ms\n",
      "76:\tlearn: 0.5568486\ttotal: 148ms\tremaining: 427ms\n",
      "77:\tlearn: 0.5555903\ttotal: 149ms\tremaining: 423ms\n",
      "78:\tlearn: 0.5547042\ttotal: 150ms\tremaining: 419ms\n",
      "79:\tlearn: 0.5538765\ttotal: 151ms\tremaining: 415ms\n",
      "80:\tlearn: 0.5520480\ttotal: 152ms\tremaining: 411ms\n",
      "81:\tlearn: 0.5502536\ttotal: 153ms\tremaining: 407ms\n",
      "82:\tlearn: 0.5485151\ttotal: 154ms\tremaining: 403ms\n",
      "83:\tlearn: 0.5466789\ttotal: 155ms\tremaining: 400ms\n",
      "84:\tlearn: 0.5441211\ttotal: 157ms\tremaining: 396ms\n",
      "85:\tlearn: 0.5414285\ttotal: 158ms\tremaining: 392ms\n",
      "86:\tlearn: 0.5398291\ttotal: 159ms\tremaining: 389ms\n",
      "87:\tlearn: 0.5385238\ttotal: 160ms\tremaining: 386ms\n",
      "88:\tlearn: 0.5370238\ttotal: 161ms\tremaining: 382ms\n",
      "89:\tlearn: 0.5358849\ttotal: 162ms\tremaining: 379ms\n",
      "90:\tlearn: 0.5342405\ttotal: 164ms\tremaining: 376ms\n",
      "91:\tlearn: 0.5335326\ttotal: 165ms\tremaining: 372ms\n",
      "92:\tlearn: 0.5323163\ttotal: 166ms\tremaining: 369ms\n",
      "93:\tlearn: 0.5317635\ttotal: 167ms\tremaining: 366ms\n",
      "94:\tlearn: 0.5306714\ttotal: 168ms\tremaining: 363ms\n",
      "95:\tlearn: 0.5296614\ttotal: 169ms\tremaining: 359ms\n",
      "96:\tlearn: 0.5288844\ttotal: 170ms\tremaining: 357ms\n",
      "97:\tlearn: 0.5260421\ttotal: 172ms\tremaining: 354ms\n",
      "98:\tlearn: 0.5242745\ttotal: 173ms\tremaining: 351ms\n",
      "99:\tlearn: 0.5228532\ttotal: 174ms\tremaining: 348ms\n",
      "100:\tlearn: 0.5211158\ttotal: 175ms\tremaining: 345ms\n",
      "101:\tlearn: 0.5206141\ttotal: 176ms\tremaining: 342ms\n",
      "102:\tlearn: 0.5193523\ttotal: 177ms\tremaining: 339ms\n",
      "103:\tlearn: 0.5180738\ttotal: 178ms\tremaining: 336ms\n",
      "104:\tlearn: 0.5159754\ttotal: 179ms\tremaining: 333ms\n",
      "105:\tlearn: 0.5153301\ttotal: 180ms\tremaining: 330ms\n",
      "106:\tlearn: 0.5146343\ttotal: 182ms\tremaining: 328ms\n",
      "107:\tlearn: 0.5128137\ttotal: 183ms\tremaining: 325ms\n",
      "108:\tlearn: 0.5122661\ttotal: 184ms\tremaining: 323ms\n",
      "109:\tlearn: 0.5116768\ttotal: 186ms\tremaining: 321ms\n",
      "110:\tlearn: 0.5103304\ttotal: 187ms\tremaining: 318ms\n",
      "111:\tlearn: 0.5090461\ttotal: 188ms\tremaining: 315ms\n",
      "112:\tlearn: 0.5081417\ttotal: 189ms\tremaining: 313ms\n",
      "113:\tlearn: 0.5068054\ttotal: 190ms\tremaining: 310ms\n",
      "114:\tlearn: 0.5059390\ttotal: 191ms\tremaining: 308ms\n",
      "115:\tlearn: 0.5043461\ttotal: 192ms\tremaining: 305ms\n",
      "116:\tlearn: 0.5028913\ttotal: 194ms\tremaining: 303ms\n",
      "117:\tlearn: 0.5017160\ttotal: 195ms\tremaining: 301ms\n",
      "118:\tlearn: 0.5003303\ttotal: 196ms\tremaining: 298ms\n",
      "119:\tlearn: 0.5000111\ttotal: 197ms\tremaining: 296ms\n",
      "120:\tlearn: 0.4992258\ttotal: 198ms\tremaining: 293ms\n",
      "121:\tlearn: 0.4983731\ttotal: 199ms\tremaining: 291ms\n",
      "122:\tlearn: 0.4964510\ttotal: 201ms\tremaining: 289ms\n",
      "123:\tlearn: 0.4957080\ttotal: 202ms\tremaining: 286ms\n",
      "124:\tlearn: 0.4947711\ttotal: 203ms\tremaining: 284ms\n",
      "125:\tlearn: 0.4930563\ttotal: 204ms\tremaining: 282ms\n",
      "126:\tlearn: 0.4923388\ttotal: 205ms\tremaining: 279ms\n",
      "127:\tlearn: 0.4915994\ttotal: 206ms\tremaining: 277ms\n",
      "128:\tlearn: 0.4907771\ttotal: 207ms\tremaining: 275ms\n",
      "129:\tlearn: 0.4901238\ttotal: 208ms\tremaining: 272ms\n",
      "130:\tlearn: 0.4892550\ttotal: 209ms\tremaining: 270ms\n",
      "131:\tlearn: 0.4876445\ttotal: 210ms\tremaining: 268ms\n",
      "132:\tlearn: 0.4856799\ttotal: 212ms\tremaining: 266ms\n",
      "133:\tlearn: 0.4846160\ttotal: 213ms\tremaining: 264ms\n",
      "134:\tlearn: 0.4833282\ttotal: 214ms\tremaining: 261ms\n",
      "135:\tlearn: 0.4827579\ttotal: 215ms\tremaining: 259ms\n",
      "136:\tlearn: 0.4817140\ttotal: 216ms\tremaining: 257ms\n",
      "137:\tlearn: 0.4813563\ttotal: 217ms\tremaining: 255ms\n",
      "138:\tlearn: 0.4803295\ttotal: 218ms\tremaining: 253ms\n",
      "139:\tlearn: 0.4800269\ttotal: 219ms\tremaining: 251ms\n",
      "140:\tlearn: 0.4793131\ttotal: 220ms\tremaining: 249ms\n",
      "141:\tlearn: 0.4777819\ttotal: 222ms\tremaining: 247ms\n",
      "142:\tlearn: 0.4774198\ttotal: 223ms\tremaining: 244ms\n",
      "143:\tlearn: 0.4765572\ttotal: 224ms\tremaining: 242ms\n",
      "144:\tlearn: 0.4763510\ttotal: 225ms\tremaining: 240ms\n",
      "145:\tlearn: 0.4758635\ttotal: 226ms\tremaining: 238ms\n",
      "146:\tlearn: 0.4755949\ttotal: 227ms\tremaining: 236ms\n",
      "147:\tlearn: 0.4745097\ttotal: 228ms\tremaining: 234ms\n",
      "148:\tlearn: 0.4737111\ttotal: 229ms\tremaining: 232ms\n",
      "149:\tlearn: 0.4734229\ttotal: 230ms\tremaining: 230ms\n",
      "150:\tlearn: 0.4730403\ttotal: 232ms\tremaining: 229ms\n",
      "151:\tlearn: 0.4703890\ttotal: 233ms\tremaining: 227ms\n",
      "152:\tlearn: 0.4695848\ttotal: 234ms\tremaining: 225ms\n",
      "153:\tlearn: 0.4680850\ttotal: 235ms\tremaining: 223ms\n",
      "154:\tlearn: 0.4679064\ttotal: 236ms\tremaining: 221ms\n",
      "155:\tlearn: 0.4673872\ttotal: 238ms\tremaining: 219ms\n",
      "156:\tlearn: 0.4662287\ttotal: 239ms\tremaining: 218ms\n",
      "157:\tlearn: 0.4653685\ttotal: 240ms\tremaining: 216ms\n",
      "158:\tlearn: 0.4647517\ttotal: 241ms\tremaining: 214ms\n",
      "159:\tlearn: 0.4637632\ttotal: 242ms\tremaining: 212ms\n",
      "160:\tlearn: 0.4628940\ttotal: 243ms\tremaining: 210ms\n",
      "161:\tlearn: 0.4615390\ttotal: 245ms\tremaining: 208ms\n",
      "162:\tlearn: 0.4610248\ttotal: 246ms\tremaining: 206ms\n",
      "163:\tlearn: 0.4607508\ttotal: 247ms\tremaining: 205ms\n",
      "164:\tlearn: 0.4602678\ttotal: 248ms\tremaining: 203ms\n",
      "165:\tlearn: 0.4593025\ttotal: 249ms\tremaining: 201ms\n",
      "166:\tlearn: 0.4583431\ttotal: 250ms\tremaining: 199ms\n",
      "167:\tlearn: 0.4579168\ttotal: 251ms\tremaining: 197ms\n",
      "168:\tlearn: 0.4577557\ttotal: 252ms\tremaining: 196ms\n",
      "169:\tlearn: 0.4566773\ttotal: 253ms\tremaining: 194ms\n",
      "170:\tlearn: 0.4555092\ttotal: 254ms\tremaining: 192ms\n",
      "171:\tlearn: 0.4549558\ttotal: 256ms\tremaining: 190ms\n",
      "172:\tlearn: 0.4541317\ttotal: 257ms\tremaining: 188ms\n",
      "173:\tlearn: 0.4532633\ttotal: 258ms\tremaining: 187ms\n",
      "174:\tlearn: 0.4525924\ttotal: 259ms\tremaining: 185ms\n",
      "175:\tlearn: 0.4516501\ttotal: 260ms\tremaining: 183ms\n",
      "176:\tlearn: 0.4502850\ttotal: 261ms\tremaining: 182ms\n",
      "177:\tlearn: 0.4497475\ttotal: 262ms\tremaining: 180ms\n",
      "178:\tlearn: 0.4482917\ttotal: 263ms\tremaining: 178ms\n",
      "179:\tlearn: 0.4466628\ttotal: 265ms\tremaining: 176ms\n",
      "180:\tlearn: 0.4450593\ttotal: 266ms\tremaining: 175ms\n",
      "181:\tlearn: 0.4441602\ttotal: 267ms\tremaining: 173ms\n",
      "182:\tlearn: 0.4437740\ttotal: 268ms\tremaining: 171ms\n",
      "183:\tlearn: 0.4427899\ttotal: 269ms\tremaining: 170ms\n",
      "184:\tlearn: 0.4425391\ttotal: 270ms\tremaining: 168ms\n",
      "185:\tlearn: 0.4413294\ttotal: 271ms\tremaining: 166ms\n",
      "186:\tlearn: 0.4408269\ttotal: 273ms\tremaining: 165ms\n",
      "187:\tlearn: 0.4402201\ttotal: 274ms\tremaining: 163ms\n",
      "188:\tlearn: 0.4395761\ttotal: 275ms\tremaining: 161ms\n",
      "189:\tlearn: 0.4383653\ttotal: 276ms\tremaining: 160ms\n",
      "190:\tlearn: 0.4380068\ttotal: 277ms\tremaining: 158ms\n",
      "191:\tlearn: 0.4369090\ttotal: 278ms\tremaining: 156ms\n",
      "192:\tlearn: 0.4361756\ttotal: 279ms\tremaining: 155ms\n",
      "193:\tlearn: 0.4347219\ttotal: 280ms\tremaining: 153ms\n",
      "194:\tlearn: 0.4345681\ttotal: 281ms\tremaining: 152ms\n",
      "195:\tlearn: 0.4342794\ttotal: 282ms\tremaining: 150ms\n",
      "196:\tlearn: 0.4332968\ttotal: 284ms\tremaining: 148ms\n",
      "197:\tlearn: 0.4329923\ttotal: 285ms\tremaining: 147ms\n",
      "198:\tlearn: 0.4325162\ttotal: 286ms\tremaining: 145ms\n",
      "199:\tlearn: 0.4320265\ttotal: 287ms\tremaining: 143ms\n",
      "200:\tlearn: 0.4317821\ttotal: 288ms\tremaining: 142ms\n",
      "201:\tlearn: 0.4312604\ttotal: 289ms\tremaining: 140ms\n",
      "202:\tlearn: 0.4310426\ttotal: 290ms\tremaining: 139ms\n",
      "203:\tlearn: 0.4299335\ttotal: 291ms\tremaining: 137ms\n",
      "204:\tlearn: 0.4293029\ttotal: 293ms\tremaining: 136ms\n",
      "205:\tlearn: 0.4278932\ttotal: 294ms\tremaining: 134ms\n",
      "206:\tlearn: 0.4274170\ttotal: 295ms\tremaining: 132ms\n",
      "207:\tlearn: 0.4269721\ttotal: 296ms\tremaining: 131ms\n",
      "208:\tlearn: 0.4266923\ttotal: 297ms\tremaining: 129ms\n",
      "209:\tlearn: 0.4263052\ttotal: 298ms\tremaining: 128ms\n",
      "210:\tlearn: 0.4261141\ttotal: 299ms\tremaining: 126ms\n",
      "211:\tlearn: 0.4251458\ttotal: 300ms\tremaining: 125ms\n",
      "212:\tlearn: 0.4243506\ttotal: 302ms\tremaining: 123ms\n",
      "213:\tlearn: 0.4233324\ttotal: 303ms\tremaining: 122ms\n",
      "214:\tlearn: 0.4228172\ttotal: 304ms\tremaining: 120ms\n",
      "215:\tlearn: 0.4223361\ttotal: 305ms\tremaining: 119ms\n",
      "216:\tlearn: 0.4211914\ttotal: 306ms\tremaining: 117ms\n",
      "217:\tlearn: 0.4207965\ttotal: 307ms\tremaining: 116ms\n",
      "218:\tlearn: 0.4201241\ttotal: 308ms\tremaining: 114ms\n",
      "219:\tlearn: 0.4198184\ttotal: 309ms\tremaining: 113ms\n",
      "220:\tlearn: 0.4189587\ttotal: 311ms\tremaining: 111ms\n",
      "221:\tlearn: 0.4182278\ttotal: 312ms\tremaining: 110ms\n",
      "222:\tlearn: 0.4170986\ttotal: 313ms\tremaining: 108ms\n",
      "223:\tlearn: 0.4167891\ttotal: 314ms\tremaining: 107ms\n",
      "224:\tlearn: 0.4159493\ttotal: 315ms\tremaining: 105ms\n",
      "225:\tlearn: 0.4147184\ttotal: 316ms\tremaining: 104ms\n",
      "226:\tlearn: 0.4142749\ttotal: 317ms\tremaining: 102ms\n",
      "227:\tlearn: 0.4136790\ttotal: 318ms\tremaining: 101ms\n",
      "228:\tlearn: 0.4125993\ttotal: 320ms\tremaining: 99.1ms\n",
      "229:\tlearn: 0.4116701\ttotal: 321ms\tremaining: 97.6ms\n",
      "230:\tlearn: 0.4109254\ttotal: 322ms\tremaining: 96.2ms\n",
      "231:\tlearn: 0.4104900\ttotal: 323ms\tremaining: 94.7ms\n",
      "232:\tlearn: 0.4102309\ttotal: 324ms\tremaining: 93.2ms\n",
      "233:\tlearn: 0.4092851\ttotal: 325ms\tremaining: 91.7ms\n",
      "234:\tlearn: 0.4087717\ttotal: 326ms\tremaining: 90.3ms\n",
      "235:\tlearn: 0.4080981\ttotal: 327ms\tremaining: 88.8ms\n",
      "236:\tlearn: 0.4075830\ttotal: 330ms\tremaining: 87.6ms\n",
      "237:\tlearn: 0.4068297\ttotal: 331ms\tremaining: 86.3ms\n",
      "238:\tlearn: 0.4062110\ttotal: 333ms\tremaining: 85ms\n",
      "239:\tlearn: 0.4058558\ttotal: 335ms\tremaining: 83.7ms\n",
      "240:\tlearn: 0.4053402\ttotal: 336ms\tremaining: 82.3ms\n",
      "241:\tlearn: 0.4049204\ttotal: 338ms\tremaining: 80.9ms\n",
      "242:\tlearn: 0.4043006\ttotal: 339ms\tremaining: 79.5ms\n",
      "243:\tlearn: 0.4038182\ttotal: 340ms\tremaining: 78.1ms\n",
      "244:\tlearn: 0.4035995\ttotal: 341ms\tremaining: 76.6ms\n",
      "245:\tlearn: 0.4030383\ttotal: 342ms\tremaining: 75.2ms\n",
      "246:\tlearn: 0.4026419\ttotal: 344ms\tremaining: 73.7ms\n",
      "247:\tlearn: 0.4015953\ttotal: 345ms\tremaining: 72.3ms\n",
      "248:\tlearn: 0.4012694\ttotal: 346ms\tremaining: 70.8ms\n",
      "249:\tlearn: 0.4007076\ttotal: 347ms\tremaining: 69.4ms\n",
      "250:\tlearn: 0.4000273\ttotal: 348ms\tremaining: 68ms\n",
      "251:\tlearn: 0.3992784\ttotal: 349ms\tremaining: 66.5ms\n",
      "252:\tlearn: 0.3986425\ttotal: 351ms\tremaining: 65.1ms\n",
      "253:\tlearn: 0.3982705\ttotal: 352ms\tremaining: 63.7ms\n",
      "254:\tlearn: 0.3962931\ttotal: 353ms\tremaining: 62.2ms\n",
      "255:\tlearn: 0.3960042\ttotal: 354ms\tremaining: 60.8ms\n",
      "256:\tlearn: 0.3957683\ttotal: 355ms\tremaining: 59.4ms\n",
      "257:\tlearn: 0.3946643\ttotal: 356ms\tremaining: 58ms\n",
      "258:\tlearn: 0.3941194\ttotal: 357ms\tremaining: 56.6ms\n",
      "259:\tlearn: 0.3936105\ttotal: 359ms\tremaining: 55.2ms\n",
      "260:\tlearn: 0.3932243\ttotal: 360ms\tremaining: 53.8ms\n",
      "261:\tlearn: 0.3921005\ttotal: 361ms\tremaining: 52.4ms\n",
      "262:\tlearn: 0.3912957\ttotal: 362ms\tremaining: 51ms\n",
      "263:\tlearn: 0.3902056\ttotal: 363ms\tremaining: 49.5ms\n",
      "264:\tlearn: 0.3900164\ttotal: 364ms\tremaining: 48.1ms\n",
      "265:\tlearn: 0.3891338\ttotal: 365ms\tremaining: 46.7ms\n",
      "266:\tlearn: 0.3884790\ttotal: 367ms\tremaining: 45.3ms\n",
      "267:\tlearn: 0.3880029\ttotal: 368ms\tremaining: 43.9ms\n",
      "268:\tlearn: 0.3869699\ttotal: 369ms\tremaining: 42.5ms\n",
      "269:\tlearn: 0.3862436\ttotal: 370ms\tremaining: 41.1ms\n",
      "270:\tlearn: 0.3845906\ttotal: 372ms\tremaining: 39.8ms\n",
      "271:\tlearn: 0.3841713\ttotal: 373ms\tremaining: 38.4ms\n",
      "272:\tlearn: 0.3834296\ttotal: 375ms\tremaining: 37.1ms\n",
      "273:\tlearn: 0.3829127\ttotal: 376ms\tremaining: 35.7ms\n",
      "274:\tlearn: 0.3826710\ttotal: 378ms\tremaining: 34.3ms\n",
      "275:\tlearn: 0.3821500\ttotal: 379ms\tremaining: 33ms\n",
      "276:\tlearn: 0.3814129\ttotal: 380ms\tremaining: 31.6ms\n",
      "277:\tlearn: 0.3809803\ttotal: 382ms\tremaining: 30.2ms\n",
      "278:\tlearn: 0.3803892\ttotal: 383ms\tremaining: 28.8ms\n",
      "279:\tlearn: 0.3800407\ttotal: 385ms\tremaining: 27.5ms\n",
      "280:\tlearn: 0.3797176\ttotal: 386ms\tremaining: 26.1ms\n",
      "281:\tlearn: 0.3793500\ttotal: 387ms\tremaining: 24.7ms\n",
      "282:\tlearn: 0.3790473\ttotal: 389ms\tremaining: 23.3ms\n",
      "283:\tlearn: 0.3785362\ttotal: 390ms\tremaining: 22ms\n",
      "284:\tlearn: 0.3778544\ttotal: 391ms\tremaining: 20.6ms\n",
      "285:\tlearn: 0.3774275\ttotal: 392ms\tremaining: 19.2ms\n",
      "286:\tlearn: 0.3767586\ttotal: 393ms\tremaining: 17.8ms\n",
      "287:\tlearn: 0.3762315\ttotal: 394ms\tremaining: 16.4ms\n",
      "288:\tlearn: 0.3753362\ttotal: 396ms\tremaining: 15.1ms\n",
      "289:\tlearn: 0.3750828\ttotal: 397ms\tremaining: 13.7ms\n",
      "290:\tlearn: 0.3745054\ttotal: 398ms\tremaining: 12.3ms\n",
      "291:\tlearn: 0.3738434\ttotal: 399ms\tremaining: 10.9ms\n",
      "292:\tlearn: 0.3734998\ttotal: 400ms\tremaining: 9.55ms\n",
      "293:\tlearn: 0.3732214\ttotal: 401ms\tremaining: 8.18ms\n",
      "294:\tlearn: 0.3728249\ttotal: 402ms\tremaining: 6.82ms\n",
      "295:\tlearn: 0.3721229\ttotal: 403ms\tremaining: 5.45ms\n",
      "296:\tlearn: 0.3720322\ttotal: 404ms\tremaining: 4.08ms\n",
      "297:\tlearn: 0.3716359\ttotal: 406ms\tremaining: 2.72ms\n",
      "298:\tlearn: 0.3713313\ttotal: 407ms\tremaining: 1.36ms\n",
      "299:\tlearn: 0.3709682\ttotal: 408ms\tremaining: 0us\n",
      "\n",
      "Fitting Light GBM...\n"
     ]
    },
    {
     "data": {
      "text/html": [
       "<style>#sk-container-id-1 {color: black;background-color: white;}#sk-container-id-1 pre{padding: 0;}#sk-container-id-1 div.sk-toggleable {background-color: white;}#sk-container-id-1 label.sk-toggleable__label {cursor: pointer;display: block;width: 100%;margin-bottom: 0;padding: 0.3em;box-sizing: border-box;text-align: center;}#sk-container-id-1 label.sk-toggleable__label-arrow:before {content: \"▸\";float: left;margin-right: 0.25em;color: #696969;}#sk-container-id-1 label.sk-toggleable__label-arrow:hover:before {color: black;}#sk-container-id-1 div.sk-estimator:hover label.sk-toggleable__label-arrow:before {color: black;}#sk-container-id-1 div.sk-toggleable__content {max-height: 0;max-width: 0;overflow: hidden;text-align: left;background-color: #f0f8ff;}#sk-container-id-1 div.sk-toggleable__content pre {margin: 0.2em;color: black;border-radius: 0.25em;background-color: #f0f8ff;}#sk-container-id-1 input.sk-toggleable__control:checked~div.sk-toggleable__content {max-height: 200px;max-width: 100%;overflow: auto;}#sk-container-id-1 input.sk-toggleable__control:checked~label.sk-toggleable__label-arrow:before {content: \"▾\";}#sk-container-id-1 div.sk-estimator input.sk-toggleable__control:checked~label.sk-toggleable__label {background-color: #d4ebff;}#sk-container-id-1 div.sk-label input.sk-toggleable__control:checked~label.sk-toggleable__label {background-color: #d4ebff;}#sk-container-id-1 input.sk-hidden--visually {border: 0;clip: rect(1px 1px 1px 1px);clip: rect(1px, 1px, 1px, 1px);height: 1px;margin: -1px;overflow: hidden;padding: 0;position: absolute;width: 1px;}#sk-container-id-1 div.sk-estimator {font-family: monospace;background-color: #f0f8ff;border: 1px dotted black;border-radius: 0.25em;box-sizing: border-box;margin-bottom: 0.5em;}#sk-container-id-1 div.sk-estimator:hover {background-color: #d4ebff;}#sk-container-id-1 div.sk-parallel-item::after {content: \"\";width: 100%;border-bottom: 1px solid gray;flex-grow: 1;}#sk-container-id-1 div.sk-label:hover label.sk-toggleable__label {background-color: #d4ebff;}#sk-container-id-1 div.sk-serial::before {content: \"\";position: absolute;border-left: 1px solid gray;box-sizing: border-box;top: 0;bottom: 0;left: 50%;z-index: 0;}#sk-container-id-1 div.sk-serial {display: flex;flex-direction: column;align-items: center;background-color: white;padding-right: 0.2em;padding-left: 0.2em;position: relative;}#sk-container-id-1 div.sk-item {position: relative;z-index: 1;}#sk-container-id-1 div.sk-parallel {display: flex;align-items: stretch;justify-content: center;background-color: white;position: relative;}#sk-container-id-1 div.sk-item::before, #sk-container-id-1 div.sk-parallel-item::before {content: \"\";position: absolute;border-left: 1px solid gray;box-sizing: border-box;top: 0;bottom: 0;left: 50%;z-index: -1;}#sk-container-id-1 div.sk-parallel-item {display: flex;flex-direction: column;z-index: 1;position: relative;background-color: white;}#sk-container-id-1 div.sk-parallel-item:first-child::after {align-self: flex-end;width: 50%;}#sk-container-id-1 div.sk-parallel-item:last-child::after {align-self: flex-start;width: 50%;}#sk-container-id-1 div.sk-parallel-item:only-child::after {width: 0;}#sk-container-id-1 div.sk-dashed-wrapped {border: 1px dashed gray;margin: 0 0.4em 0.5em 0.4em;box-sizing: border-box;padding-bottom: 0.4em;background-color: white;}#sk-container-id-1 div.sk-label label {font-family: monospace;font-weight: bold;display: inline-block;line-height: 1.2em;}#sk-container-id-1 div.sk-label-container {text-align: center;}#sk-container-id-1 div.sk-container {/* jupyter's `normalize.less` sets `[hidden] { display: none; }` but bootstrap.min.css set `[hidden] { display: none !important; }` so we also need the `!important` here to be able to override the default hidden behavior on the sphinx rendered scikit-learn.org. See: https://github.com/scikit-learn/scikit-learn/issues/21755 */display: inline-block !important;position: relative;}#sk-container-id-1 div.sk-text-repr-fallback {display: none;}</style><div id=\"sk-container-id-1\" class=\"sk-top-container\"><div class=\"sk-text-repr-fallback\"><pre>LGBMClassifier(n_estimators=20, random_state=42)</pre><b>In a Jupyter environment, please rerun this cell to show the HTML representation or trust the notebook. <br />On GitHub, the HTML representation is unable to render, please try loading this page with nbviewer.org.</b></div><div class=\"sk-container\" hidden><div class=\"sk-item\"><div class=\"sk-estimator sk-toggleable\"><input class=\"sk-toggleable__control sk-hidden--visually\" id=\"sk-estimator-id-1\" type=\"checkbox\" checked><label for=\"sk-estimator-id-1\" class=\"sk-toggleable__label sk-toggleable__label-arrow\">LGBMClassifier</label><div class=\"sk-toggleable__content\"><pre>LGBMClassifier(n_estimators=20, random_state=42)</pre></div></div></div></div></div>"
      ],
      "text/plain": [
       "LGBMClassifier(n_estimators=20, random_state=42)"
      ]
     },
     "execution_count": 29,
     "metadata": {},
     "output_type": "execute_result"
    }
   ],
   "source": [
    "print(\"\\nFitting LogisticRegression...\")\n",
    "lr.fit(X_train, y_train)\n",
    "print(\"\\nFitting SVM...\")\n",
    "svm.fit(X_train, y_train)\n",
    "print(\"\\nFitting RandomForest...\")\n",
    "rf.fit(X_train, y_train)\n",
    "print(\"\\nFitting XGBoost...\")\n",
    "xgb.fit(X_train, y_train)\n",
    "print(\"\\nFitting CatBoost...\")\n",
    "catb.fit(X_train, y_train)\n",
    "print(\"\\nFitting Light GBM...\")\n",
    "lgbm.fit(X_train, y_train)\n",
    "# print(\"\\nFitting MLP...\")\n",
    "# history = nn.fit(X_train, nn_y_train,\n",
    "#                 batch_size=batch_size,\n",
    "#                 epochs=epochs,\n",
    "#                 validation_data=[X_val, nn_y_val],\n",
    "#                 callbacks=[scheduler, earlystopper])\n"
   ]
  },
  {
   "cell_type": "code",
   "execution_count": 30,
   "id": "ae93757d",
   "metadata": {
    "_kg_hide-input": true,
    "_kg_hide-output": true,
    "execution": {
     "iopub.execute_input": "2023-09-27T05:56:13.150405Z",
     "iopub.status.busy": "2023-09-27T05:56:13.149602Z",
     "iopub.status.idle": "2023-09-27T05:56:13.153675Z",
     "shell.execute_reply": "2023-09-27T05:56:13.152996Z"
    },
    "papermill": {
     "duration": 0.030492,
     "end_time": "2023-09-27T05:56:13.155712",
     "exception": false,
     "start_time": "2023-09-27T05:56:13.125220",
     "status": "completed"
    },
    "tags": []
   },
   "outputs": [],
   "source": [
    "evaluation_metric = calculate_f1"
   ]
  },
  {
   "cell_type": "code",
   "execution_count": 31,
   "id": "734da925",
   "metadata": {
    "_kg_hide-input": true,
    "_kg_hide-output": true,
    "execution": {
     "iopub.execute_input": "2023-09-27T05:56:13.199741Z",
     "iopub.status.busy": "2023-09-27T05:56:13.199120Z",
     "iopub.status.idle": "2023-09-27T05:56:13.396228Z",
     "shell.execute_reply": "2023-09-27T05:56:13.395396Z"
    },
    "papermill": {
     "duration": 0.221563,
     "end_time": "2023-09-27T05:56:13.398475",
     "exception": false,
     "start_time": "2023-09-27T05:56:13.176912",
     "status": "completed"
    },
    "tags": []
   },
   "outputs": [
    {
     "name": "stdout",
     "output_type": "stream",
     "text": [
      "--- Prediction with LR ---\n",
      "Train Score : 0.6254\n",
      "Test Score : 0.6448\n",
      "--- Prediction with SVM ---\n",
      "Train Score : 0.7211\n",
      "Test Score : 0.6680\n",
      "--- Prediction with RF ---\n",
      "Train Score : 0.6671\n",
      "Test Score : 0.6718\n",
      "--- Prediction with CAT ---\n",
      "Train Score : 0.8865\n",
      "Test Score : 0.7568\n",
      "--- Prediction with LGBM ---\n",
      "Train Score : 0.8913\n",
      "Test Score : 0.7683\n"
     ]
    }
   ],
   "source": [
    "print(\"--- Prediction with LR ---\")\n",
    "lr_pred_train = lr.predict(X_train)\n",
    "lr_pred_val = lr.predict(X_val)\n",
    "\n",
    "lr_train_score = evaluation_metric(y_train, lr_pred_train)\n",
    "lr_val_score = evaluation_metric(y_val, lr_pred_val)\n",
    "\n",
    "print(\"Train Score : %.4f\" % lr_train_score)\n",
    "print(\"Test Score : %.4f\" % lr_val_score)\n",
    "\n",
    "print(\"--- Prediction with SVM ---\")\n",
    "svm_pred_train = svm.predict(X_train)\n",
    "svm_pred_val = svm.predict(X_val)\n",
    "\n",
    "svm_train_score = evaluation_metric(y_train, svm_pred_train)\n",
    "svm_val_score = evaluation_metric(y_val, svm_pred_val)\n",
    "\n",
    "print(\"Train Score : %.4f\" % svm_train_score)\n",
    "print(\"Test Score : %.4f\" % svm_val_score)\n",
    "\n",
    "print(\"--- Prediction with RF ---\")\n",
    "rf_pred_train = rf.predict(X_train)\n",
    "rf_pred_val = rf.predict(X_val)\n",
    "\n",
    "rf_train_score = evaluation_metric(y_train, rf_pred_train)\n",
    "rf_val_score = evaluation_metric(y_val, rf_pred_val)\n",
    "\n",
    "print(\"Train Score : %.4f\" % rf_train_score)\n",
    "print(\"Test Score : %.4f\" % rf_val_score)\n",
    "\n",
    "print(\"--- Prediction with CAT ---\")\n",
    "cat_pred_train = catb.predict(X_train)\n",
    "cat_pred_val = catb.predict(X_val)\n",
    "\n",
    "cat_train_score = evaluation_metric(y_train, cat_pred_train)\n",
    "cat_val_score = evaluation_metric(y_val, cat_pred_val)\n",
    "\n",
    "print(\"Train Score : %.4f\" % cat_train_score)\n",
    "print(\"Test Score : %.4f\" % cat_val_score)\n",
    "\n",
    "print(\"--- Prediction with LGBM ---\")\n",
    "lgb_pred_train = lgbm.predict(X_train)\n",
    "lgb_pred_val = lgbm.predict(X_val)\n",
    "\n",
    "lgb_train_score = evaluation_metric(y_train, lgb_pred_train)\n",
    "lgb_val_score = evaluation_metric(y_val, lgb_pred_val)\n",
    "\n",
    "print(\"Train Score : %.4f\" % lgb_train_score)\n",
    "print(\"Test Score : %.4f\" % lgb_val_score)"
   ]
  },
  {
   "cell_type": "code",
   "execution_count": 32,
   "id": "4a75d8d4",
   "metadata": {
    "execution": {
     "iopub.execute_input": "2023-09-27T05:56:13.442201Z",
     "iopub.status.busy": "2023-09-27T05:56:13.441448Z",
     "iopub.status.idle": "2023-09-27T05:56:13.450162Z",
     "shell.execute_reply": "2023-09-27T05:56:13.449329Z"
    },
    "papermill": {
     "duration": 0.032947,
     "end_time": "2023-09-27T05:56:13.452410",
     "exception": false,
     "start_time": "2023-09-27T05:56:13.419463",
     "status": "completed"
    },
    "tags": []
   },
   "outputs": [
    {
     "data": {
      "text/plain": [
       "'\\nimport smtplib\\nfrom smtplib import SMTPException\\nfrom getpass import getpass\\n\\nemail_user = \\'your_@email.com\\'\\nemail_pw = getpass(\\'Enter your Password :\\')\\n\\nmail_from = email_user\\nmail_to = \\'maybe_another_@email.com\\'\\n\\nmail_subject = \\'TEST\\'\\nmail_message_body = \\'test_message_body\\'\\n\\nmail_message = f\\'From: {mail_from}\\nTo: {mail_to}\\nSubject: {mail_subject}\\n\\n{mail_message_body}\\'\\ntry:\\n    server = smtplib.SMTP_SSL(\\'smtp.email.com\\', 465)\\n    server.login(email_user, email_pw)\\n    server.sendmail(mail_from, mail_to, mail_message)\\n    server.close()\\n    print(\"Successfully sent email\")\\nexcept SMTPException:\\n    print(\"Error: unable to send email\")\\n'"
      ]
     },
     "execution_count": 32,
     "metadata": {},
     "output_type": "execute_result"
    }
   ],
   "source": [
    "'''\n",
    "import smtplib\n",
    "from smtplib import SMTPException\n",
    "from getpass import getpass\n",
    "\n",
    "email_user = 'your_@email.com'\n",
    "email_pw = getpass('Enter your Password :')\n",
    "\n",
    "mail_from = email_user\n",
    "mail_to = 'maybe_another_@email.com'\n",
    "\n",
    "mail_subject = 'TEST'\n",
    "mail_message_body = 'test_message_body'\n",
    "\n",
    "mail_message = f'From: {mail_from}\\nTo: {mail_to}\\nSubject: {mail_subject}\\n\\n{mail_message_body}'\n",
    "try:\n",
    "    server = smtplib.SMTP_SSL('smtp.email.com', 465)\n",
    "    server.login(email_user, email_pw)\n",
    "    server.sendmail(mail_from, mail_to, mail_message)\n",
    "    server.close()\n",
    "    print(\"Successfully sent email\")\n",
    "except SMTPException:\n",
    "    print(\"Error: unable to send email\")\n",
    "'''"
   ]
  },
  {
   "cell_type": "code",
   "execution_count": 33,
   "id": "0a7418b7",
   "metadata": {
    "execution": {
     "iopub.execute_input": "2023-09-27T05:56:13.497286Z",
     "iopub.status.busy": "2023-09-27T05:56:13.496729Z",
     "iopub.status.idle": "2023-09-27T05:56:13.504074Z",
     "shell.execute_reply": "2023-09-27T05:56:13.503139Z"
    },
    "papermill": {
     "duration": 0.032474,
     "end_time": "2023-09-27T05:56:13.506552",
     "exception": false,
     "start_time": "2023-09-27T05:56:13.474078",
     "status": "completed"
    },
    "tags": []
   },
   "outputs": [
    {
     "data": {
      "text/plain": [
       "\"\\ndef lr_optimizer(trial, X, y, K):\\n\\n    C = trial.suggest_int('C', 5, 100)\\n    solver = trial.suggest_categorical('solver', ['newton-cg', 'sag', 'lbfgs', 'saga'])\\n\\n\\n    model = LogisticRegression(C=C,\\n                               solver=solver,\\n                               max_iter=500,\\n                               multi_class='multinomial',\\n                               class_weight='balanced',\\n                               random_state=42,\\n                               n_jobs=-1)\\n\\n\\n    kf = StratifiedKFold(n_splits=K, shuffle=True, random_state=42)\\n    f1_scores = []\\n\\n    for train_idx, val_idx in kf.split(X, y):\\n        X_train = X.iloc[train_idx, :]\\n        y_train = y.iloc[train_idx]\\n\\n        X_val = X.iloc[val_idx, :]\\n        y_val = y.iloc[val_idx]\\n\\n        model.fit(X_train, y_train)\\n        preds = model.predict(X_val)\\n        f1 = f1_score(y_val, preds, average='micro')\\n        f1_scores.append(f1)\\n\\n\\n    return -np.mean(f1_scores)\\n\""
      ]
     },
     "execution_count": 33,
     "metadata": {},
     "output_type": "execute_result"
    }
   ],
   "source": [
    "'''\n",
    "def lr_optimizer(trial, X, y, K):\n",
    "\n",
    "    C = trial.suggest_int('C', 5, 100)\n",
    "    solver = trial.suggest_categorical('solver', ['newton-cg', 'sag', 'lbfgs', 'saga'])\n",
    "\n",
    "\n",
    "    model = LogisticRegression(C=C,\n",
    "                               solver=solver,\n",
    "                               max_iter=500,\n",
    "                               multi_class='multinomial',\n",
    "                               class_weight='balanced',\n",
    "                               random_state=42,\n",
    "                               n_jobs=-1)\n",
    "\n",
    "\n",
    "    kf = StratifiedKFold(n_splits=K, shuffle=True, random_state=42)\n",
    "    f1_scores = []\n",
    "\n",
    "    for train_idx, val_idx in kf.split(X, y):\n",
    "        X_train = X.iloc[train_idx, :]\n",
    "        y_train = y.iloc[train_idx]\n",
    "\n",
    "        X_val = X.iloc[val_idx, :]\n",
    "        y_val = y.iloc[val_idx]\n",
    "\n",
    "        model.fit(X_train, y_train)\n",
    "        preds = model.predict(X_val)\n",
    "        f1 = f1_score(y_val, preds, average='micro')\n",
    "        f1_scores.append(f1)\n",
    "\n",
    "\n",
    "    return -np.mean(f1_scores)\n",
    "'''"
   ]
  },
  {
   "cell_type": "code",
   "execution_count": 34,
   "id": "c3229599",
   "metadata": {
    "execution": {
     "iopub.execute_input": "2023-09-27T05:56:13.552233Z",
     "iopub.status.busy": "2023-09-27T05:56:13.551930Z",
     "iopub.status.idle": "2023-09-27T05:56:13.558965Z",
     "shell.execute_reply": "2023-09-27T05:56:13.558230Z"
    },
    "papermill": {
     "duration": 0.03225,
     "end_time": "2023-09-27T05:56:13.561294",
     "exception": false,
     "start_time": "2023-09-27T05:56:13.529044",
     "status": "completed"
    },
    "tags": []
   },
   "outputs": [
    {
     "data": {
      "text/plain": [
       "'\\n%%time\\ntry:\\n    K = 6 # set K of K-Fold\\n    opt_func = partial(lr_optimizer, X=X_train, y=y_train, K=K)\\n\\n    if is_tuning:\\n        lr_study = optuna.create_study(direction=\"maximize\") # determine minimize or maximize sth\\n        lr_study.optimize(opt_func, n_trials=n_trials)\\n        mail_subject = \\'Logistic Regression Finished\\'\\n        mail_message_body = \\'Logistic Regression Finished.        Starting Random Forest.\\'\\n\\n        mail_message = f\\'From: {mail_from}\\nTo: {mail_to}\\nSubject: {mail_subject}\\n\\n{mail_message_body}\\'\\n\\n        try:\\n            server = smtplib.SMTP_SSL(\\'smtp.email.com\\', 465)\\n            server.login(email_user, email_pw)\\n            server.sendmail(mail_from, mail_to, msg=mail_message)\\n            server.close()\\n            print(\"Successfully sent email\")\\n        except SMTPException:\\n            print(\"Error: unable to send email\")\\nexcept:\\n    mail_subject = \\'Logistic Regression Failed\\'\\n    mail_message_body = \\'Logistic Regression Failed.    Shutting Colab off.\\'\\n\\n    mail_message = f\\'From: {mail_from}\\nTo: {mail_to}\\nSubject: {mail_subject}\\n\\n{mail_message_body}\\'\\n\\n    try:\\n        server = smtplib.SMTP_SSL(\\'smtp.email.com\\', 465)\\n        server.login(email_user, email_pw)\\n        server.sendmail(mail_from, mail_to, mail_message)\\n        server.close()\\n        print(\"Successfully sent email\")\\n    except SMTPException:\\n        print(\"Error: unable to send email\")\\n\\n    from google.colab import runtime\\n    runtime.unassign()\\n'"
      ]
     },
     "execution_count": 34,
     "metadata": {},
     "output_type": "execute_result"
    }
   ],
   "source": [
    "'''\n",
    "%%time\n",
    "try:\n",
    "    K = 6 # set K of K-Fold\n",
    "    opt_func = partial(lr_optimizer, X=X_train, y=y_train, K=K)\n",
    "\n",
    "    if is_tuning:\n",
    "        lr_study = optuna.create_study(direction=\"maximize\") # determine minimize or maximize sth\n",
    "        lr_study.optimize(opt_func, n_trials=n_trials)\n",
    "        mail_subject = 'Logistic Regression Finished'\n",
    "        mail_message_body = 'Logistic Regression Finished.\\\n",
    "        Starting Random Forest.'\n",
    "\n",
    "        mail_message = f'From: {mail_from}\\nTo: {mail_to}\\nSubject: {mail_subject}\\n\\n{mail_message_body}'\n",
    "\n",
    "        try:\n",
    "            server = smtplib.SMTP_SSL('smtp.email.com', 465)\n",
    "            server.login(email_user, email_pw)\n",
    "            server.sendmail(mail_from, mail_to, msg=mail_message)\n",
    "            server.close()\n",
    "            print(\"Successfully sent email\")\n",
    "        except SMTPException:\n",
    "            print(\"Error: unable to send email\")\n",
    "except:\n",
    "    mail_subject = 'Logistic Regression Failed'\n",
    "    mail_message_body = 'Logistic Regression Failed.\\\n",
    "    Shutting Colab off.'\n",
    "\n",
    "    mail_message = f'From: {mail_from}\\nTo: {mail_to}\\nSubject: {mail_subject}\\n\\n{mail_message_body}'\n",
    "\n",
    "    try:\n",
    "        server = smtplib.SMTP_SSL('smtp.email.com', 465)\n",
    "        server.login(email_user, email_pw)\n",
    "        server.sendmail(mail_from, mail_to, mail_message)\n",
    "        server.close()\n",
    "        print(\"Successfully sent email\")\n",
    "    except SMTPException:\n",
    "        print(\"Error: unable to send email\")\n",
    "\n",
    "    from google.colab import runtime\n",
    "    runtime.unassign()\n",
    "'''"
   ]
  },
  {
   "cell_type": "code",
   "execution_count": 35,
   "id": "1b961a8f",
   "metadata": {
    "execution": {
     "iopub.execute_input": "2023-09-27T05:56:13.606142Z",
     "iopub.status.busy": "2023-09-27T05:56:13.605866Z",
     "iopub.status.idle": "2023-09-27T05:56:13.615228Z",
     "shell.execute_reply": "2023-09-27T05:56:13.614334Z"
    },
    "papermill": {
     "duration": 0.034138,
     "end_time": "2023-09-27T05:56:13.617420",
     "exception": false,
     "start_time": "2023-09-27T05:56:13.583282",
     "status": "completed"
    },
    "tags": []
   },
   "outputs": [
    {
     "data": {
      "text/plain": [
       "\"\\ndef rf_optimizer(trial, X, y, K):\\n    # define parameter to tune\\n    n_estimators = trial.suggest_int('n_estimators', 50, 500)\\n    max_depth = trial.suggest_int('max_depth', 4, 20)\\n    max_features = trial.suggest_float('max_features', 0.6, 0.8, log=True)\\n\\n    model = RandomForestClassifier(n_estimators=n_estimators,\\n                                       max_depth=max_depth,\\n                                       max_features=max_features,\\n                                       criterion='gini',\\n                                       class_weight='balanced',\\n                                       random_state=42\\n                                      )\\n    kf = StratifiedKFold(n_splits=K, shuffle=True, random_state=42)\\n    f1_scores = []\\n\\n    for train_idx, val_idx in kf.split(X, y):\\n        X_train, X_val = X.iloc[train_idx, :], X.iloc[val_idx, :]\\n        y_train, y_val = y.iloc[train_idx], y.iloc[val_idx]\\n\\n        model.fit(X_train, y_train)\\n        preds = model.predict(X_val)\\n        f1 = f1_score(y_val, preds, average='micro')\\n        f1_scores.append(f1)\\n#         print(f1)\\n\\n    return -np.mean(f1_scores)\\n\""
      ]
     },
     "execution_count": 35,
     "metadata": {},
     "output_type": "execute_result"
    }
   ],
   "source": [
    "'''\n",
    "def rf_optimizer(trial, X, y, K):\n",
    "    # define parameter to tune\n",
    "    n_estimators = trial.suggest_int('n_estimators', 50, 500)\n",
    "    max_depth = trial.suggest_int('max_depth', 4, 20)\n",
    "    max_features = trial.suggest_float('max_features', 0.6, 0.8, log=True)\n",
    "\n",
    "    model = RandomForestClassifier(n_estimators=n_estimators,\n",
    "                                       max_depth=max_depth,\n",
    "                                       max_features=max_features,\n",
    "                                       criterion='gini',\n",
    "                                       class_weight='balanced',\n",
    "                                       random_state=42\n",
    "                                      )\n",
    "    kf = StratifiedKFold(n_splits=K, shuffle=True, random_state=42)\n",
    "    f1_scores = []\n",
    "\n",
    "    for train_idx, val_idx in kf.split(X, y):\n",
    "        X_train, X_val = X.iloc[train_idx, :], X.iloc[val_idx, :]\n",
    "        y_train, y_val = y.iloc[train_idx], y.iloc[val_idx]\n",
    "\n",
    "        model.fit(X_train, y_train)\n",
    "        preds = model.predict(X_val)\n",
    "        f1 = f1_score(y_val, preds, average='micro')\n",
    "        f1_scores.append(f1)\n",
    "#         print(f1)\n",
    "\n",
    "    return -np.mean(f1_scores)\n",
    "'''"
   ]
  },
  {
   "cell_type": "code",
   "execution_count": 36,
   "id": "b0a03376",
   "metadata": {
    "execution": {
     "iopub.execute_input": "2023-09-27T05:56:13.663629Z",
     "iopub.status.busy": "2023-09-27T05:56:13.663377Z",
     "iopub.status.idle": "2023-09-27T05:56:13.670682Z",
     "shell.execute_reply": "2023-09-27T05:56:13.669656Z"
    },
    "papermill": {
     "duration": 0.032229,
     "end_time": "2023-09-27T05:56:13.672748",
     "exception": false,
     "start_time": "2023-09-27T05:56:13.640519",
     "status": "completed"
    },
    "tags": []
   },
   "outputs": [
    {
     "data": {
      "text/plain": [
       "'\\n%%time\\n\\nK = 6 # set K of K-Fold\\nopt_func = partial(rf_optimizer, X=X_train, y=y_train, K=K)\\ntry:\\n    if is_tuning:\\n        rf_study = optuna.create_study(direction=\"maximize\") # determine minimize or maximize sth\\n        rf_study.optimize(opt_func, n_trials=n_trials)\\n        mail_subject = \\'Random Forest Finished\\'\\n        mail_message_body = \\'Random Forest Finished.        Starting Support Vector Machine.\\'\\n        \\n        mail_message = f\\'From: {mail_from}\\nTo: {mail_to}\\nSubject: {mail_subject}\\n\\n{mail_message_body}\\'\\n        \\n        try:\\n            server = smtplib.SMTP_SSL(\\'smtp.email.com\\', 465)\\n            server.login(email_user, email_pw)\\n            server.sendmail(mail_from, mail_to, mail_message)\\n            server.close()\\n            print(\"Successfully sent email\")\\n        except SMTPException:\\n            print(\"Error: unable to send email\")\\nexcept:\\n    mail_subject = \\'Random Forest Failed\\'\\n    mail_message_body = \\'Random Forest Failed.    Shutting Colab off.\\'\\n\\n    mail_message = f\\'From: {mail_from}\\nTo: {mail_to}\\nSubject: {mail_subject}\\n\\n{mail_message_body}\\'\\n\\n    try:\\n        server = smtplib.SMTP_SSL(\\'smtp.email.com\\', 465)\\n        server.login(email_user, email_pw)\\n        server.sendmail(mail_from, mail_to, mail_message)\\n        server.close()\\n        print(\"Successfully sent email\")\\n    except SMTPException:\\n        print(\"Error: unable to send email\")\\n\\n    from google.colab import runtime\\n    runtime.unassign()\\n'"
      ]
     },
     "execution_count": 36,
     "metadata": {},
     "output_type": "execute_result"
    }
   ],
   "source": [
    "'''\n",
    "%%time\n",
    "\n",
    "K = 6 # set K of K-Fold\n",
    "opt_func = partial(rf_optimizer, X=X_train, y=y_train, K=K)\n",
    "try:\n",
    "    if is_tuning:\n",
    "        rf_study = optuna.create_study(direction=\"maximize\") # determine minimize or maximize sth\n",
    "        rf_study.optimize(opt_func, n_trials=n_trials)\n",
    "        mail_subject = 'Random Forest Finished'\n",
    "        mail_message_body = 'Random Forest Finished.\\\n",
    "        Starting Support Vector Machine.'\n",
    "        \n",
    "        mail_message = f'From: {mail_from}\\nTo: {mail_to}\\nSubject: {mail_subject}\\n\\n{mail_message_body}'\n",
    "        \n",
    "        try:\n",
    "            server = smtplib.SMTP_SSL('smtp.email.com', 465)\n",
    "            server.login(email_user, email_pw)\n",
    "            server.sendmail(mail_from, mail_to, mail_message)\n",
    "            server.close()\n",
    "            print(\"Successfully sent email\")\n",
    "        except SMTPException:\n",
    "            print(\"Error: unable to send email\")\n",
    "except:\n",
    "    mail_subject = 'Random Forest Failed'\n",
    "    mail_message_body = 'Random Forest Failed.\\\n",
    "    Shutting Colab off.'\n",
    "\n",
    "    mail_message = f'From: {mail_from}\\nTo: {mail_to}\\nSubject: {mail_subject}\\n\\n{mail_message_body}'\n",
    "\n",
    "    try:\n",
    "        server = smtplib.SMTP_SSL('smtp.email.com', 465)\n",
    "        server.login(email_user, email_pw)\n",
    "        server.sendmail(mail_from, mail_to, mail_message)\n",
    "        server.close()\n",
    "        print(\"Successfully sent email\")\n",
    "    except SMTPException:\n",
    "        print(\"Error: unable to send email\")\n",
    "\n",
    "    from google.colab import runtime\n",
    "    runtime.unassign()\n",
    "'''"
   ]
  },
  {
   "cell_type": "code",
   "execution_count": 37,
   "id": "7bfdefa9",
   "metadata": {
    "execution": {
     "iopub.execute_input": "2023-09-27T05:56:13.718002Z",
     "iopub.status.busy": "2023-09-27T05:56:13.717084Z",
     "iopub.status.idle": "2023-09-27T05:56:13.723026Z",
     "shell.execute_reply": "2023-09-27T05:56:13.722411Z"
    },
    "papermill": {
     "duration": 0.030467,
     "end_time": "2023-09-27T05:56:13.724848",
     "exception": false,
     "start_time": "2023-09-27T05:56:13.694381",
     "status": "completed"
    },
    "tags": []
   },
   "outputs": [
    {
     "data": {
      "text/plain": [
       "\"\\ndef svm_optimizer(trial, X, y, K):\\n    C = trial.suggest_int('C', 1, 100)\\n\\n    model = SVC(C=C,\\n                kernel='rbf',\\n                class_weight='balanced', # if class imbalanced\\n                gamma='auto',\\n                decision_function_shape='ovo',\\n                probability=True,\\n                cache_size=1000,\\n                random_state=42\\n               )\\n\\n    kf = StratifiedKFold(n_splits=K, shuffle=True, random_state=42)\\n    f1_scores = []\\n\\n    for train_idx, val_idx in kf.split(X, y):\\n        X_train = X.iloc[train_idx, :]\\n        y_train = y.iloc[train_idx]\\n\\n        X_val = X.iloc[val_idx, :]\\n        y_val = y.iloc[val_idx]\\n\\n        model.fit(X_train, y_train)\\n        preds = model.predict(X_val)\\n        f1 = f1_score(y_val, preds, average='micro')\\n        f1_scores.append(f1)\\n\\n\\n    return -np.mean(f1_scores)\\n\""
      ]
     },
     "execution_count": 37,
     "metadata": {},
     "output_type": "execute_result"
    }
   ],
   "source": [
    "'''\n",
    "def svm_optimizer(trial, X, y, K):\n",
    "    C = trial.suggest_int('C', 1, 100)\n",
    "\n",
    "    model = SVC(C=C,\n",
    "                kernel='rbf',\n",
    "                class_weight='balanced', # if class imbalanced\n",
    "                gamma='auto',\n",
    "                decision_function_shape='ovo',\n",
    "                probability=True,\n",
    "                cache_size=1000,\n",
    "                random_state=42\n",
    "               )\n",
    "\n",
    "    kf = StratifiedKFold(n_splits=K, shuffle=True, random_state=42)\n",
    "    f1_scores = []\n",
    "\n",
    "    for train_idx, val_idx in kf.split(X, y):\n",
    "        X_train = X.iloc[train_idx, :]\n",
    "        y_train = y.iloc[train_idx]\n",
    "\n",
    "        X_val = X.iloc[val_idx, :]\n",
    "        y_val = y.iloc[val_idx]\n",
    "\n",
    "        model.fit(X_train, y_train)\n",
    "        preds = model.predict(X_val)\n",
    "        f1 = f1_score(y_val, preds, average='micro')\n",
    "        f1_scores.append(f1)\n",
    "\n",
    "\n",
    "    return -np.mean(f1_scores)\n",
    "'''"
   ]
  },
  {
   "cell_type": "code",
   "execution_count": 38,
   "id": "e359b5be",
   "metadata": {
    "execution": {
     "iopub.execute_input": "2023-09-27T05:56:13.770178Z",
     "iopub.status.busy": "2023-09-27T05:56:13.769267Z",
     "iopub.status.idle": "2023-09-27T05:56:13.776169Z",
     "shell.execute_reply": "2023-09-27T05:56:13.775241Z"
    },
    "papermill": {
     "duration": 0.03171,
     "end_time": "2023-09-27T05:56:13.778180",
     "exception": false,
     "start_time": "2023-09-27T05:56:13.746470",
     "status": "completed"
    },
    "tags": []
   },
   "outputs": [
    {
     "data": {
      "text/plain": [
       "'\\n%%time\\n\\nK = 6\\nopt_func = partial(svm_optimizer, X=X_train, y=y_train, K=K)\\n\\ntry:\\n    if is_tuning:\\n        svm_study = optuna.create_study(direction=\"maximize\")\\n        svm_study.optimize(opt_func, n_trials=n_trials)\\n        mail_subject = \\'Support Vector Machine Finished\\'\\n        mail_message_body = \\'Support Vector Machine Finished.        Starting XG Boost.\\'\\n\\n        mail_message = f\\'From: {mail_from}\\nTo: {mail_to}\\nSubject: {mail_subject}\\n\\n{mail_message_body}\\'\\n\\n        try:\\n            server = smtplib.SMTP_SSL(\\'smtp.email.com\\', 465)\\n            server.login(email_user, email_pw)\\n            server.sendmail(mail_from, mail_to, mail_message)\\n            server.close()\\n            print(\"Successfully sent email\")\\n        except SMTPException:\\n            print(\"Error: unable to send email\")\\nexcept:\\n    mail_subject = \\'Support Vector Machine Failed\\'\\n    mail_message_body = \\'Support Vector Machine Failed.    Shutting Colab off.\\'\\n\\n    mail_message = f\\'From: {mail_from}\\nTo: {mail_to}\\nSubject: {mail_subject}\\n\\n{mail_message_body}\\'\\n\\n    try:\\n        server = smtplib.SMTP_SSL(\\'smtp.email.com\\', 465)\\n        server.login(email_user, email_pw)\\n        server.sendmail(mail_from, mail_to, mail_message)\\n        server.close()\\n        print(\"Successfully sent email\")\\n    except SMTPException:\\n        print(\"Error: unable to send email\")\\n\\n    from google.colab import runtime\\n    runtime.unassign()\\n'"
      ]
     },
     "execution_count": 38,
     "metadata": {},
     "output_type": "execute_result"
    }
   ],
   "source": [
    "'''\n",
    "%%time\n",
    "\n",
    "K = 6\n",
    "opt_func = partial(svm_optimizer, X=X_train, y=y_train, K=K)\n",
    "\n",
    "try:\n",
    "    if is_tuning:\n",
    "        svm_study = optuna.create_study(direction=\"maximize\")\n",
    "        svm_study.optimize(opt_func, n_trials=n_trials)\n",
    "        mail_subject = 'Support Vector Machine Finished'\n",
    "        mail_message_body = 'Support Vector Machine Finished.\\\n",
    "        Starting XG Boost.'\n",
    "\n",
    "        mail_message = f'From: {mail_from}\\nTo: {mail_to}\\nSubject: {mail_subject}\\n\\n{mail_message_body}'\n",
    "\n",
    "        try:\n",
    "            server = smtplib.SMTP_SSL('smtp.email.com', 465)\n",
    "            server.login(email_user, email_pw)\n",
    "            server.sendmail(mail_from, mail_to, mail_message)\n",
    "            server.close()\n",
    "            print(\"Successfully sent email\")\n",
    "        except SMTPException:\n",
    "            print(\"Error: unable to send email\")\n",
    "except:\n",
    "    mail_subject = 'Support Vector Machine Failed'\n",
    "    mail_message_body = 'Support Vector Machine Failed.\\\n",
    "    Shutting Colab off.'\n",
    "\n",
    "    mail_message = f'From: {mail_from}\\nTo: {mail_to}\\nSubject: {mail_subject}\\n\\n{mail_message_body}'\n",
    "\n",
    "    try:\n",
    "        server = smtplib.SMTP_SSL('smtp.email.com', 465)\n",
    "        server.login(email_user, email_pw)\n",
    "        server.sendmail(mail_from, mail_to, mail_message)\n",
    "        server.close()\n",
    "        print(\"Successfully sent email\")\n",
    "    except SMTPException:\n",
    "        print(\"Error: unable to send email\")\n",
    "\n",
    "    from google.colab import runtime\n",
    "    runtime.unassign()\n",
    "'''"
   ]
  },
  {
   "cell_type": "code",
   "execution_count": 39,
   "id": "576faf4f",
   "metadata": {
    "execution": {
     "iopub.execute_input": "2023-09-27T05:56:13.824651Z",
     "iopub.status.busy": "2023-09-27T05:56:13.823648Z",
     "iopub.status.idle": "2023-09-27T05:56:13.830392Z",
     "shell.execute_reply": "2023-09-27T05:56:13.829715Z"
    },
    "papermill": {
     "duration": 0.032117,
     "end_time": "2023-09-27T05:56:13.832265",
     "exception": false,
     "start_time": "2023-09-27T05:56:13.800148",
     "status": "completed"
    },
    "tags": []
   },
   "outputs": [
    {
     "data": {
      "text/plain": [
       "\"\\ndef xgb_optimizer(trial, X, y, K):\\n    n_estimators = trial.suggest_int('n_estimators', 50, 500)\\n    max_depth = trial.suggest_int('max_depth', 4, 20)\\n    colsample_bytree = trial.suggest_float('colsample_bytree', 0.5, 0.8, log=True)\\n    learning_rate = trial.suggest_float('learning_rate', 1e-3, 1e-2, log=True)\\n    num_class = trial.suggest_int('num_class', 2, 10)\\n    reg_lambda = trial.suggest_float('reg_lambda', 0.1, 2, log=True)\\n    booster = trial.suggest_categorical('booster', ['gbtree', 'dart'])\\n\\n\\n    model = XGBClassifier(objective='multi:softmax',\\n                          n_estimators=n_estimators,\\n                          max_depth=max_depth,\\n                          colsample_bytree=colsample_bytree,\\n                          num_class=num_class,\\n                          eta=learning_rate,\\n                          reg_lambda=reg_lambda,\\n                          random_state=42\\n                         )\\n\\n\\n    kf = StratifiedKFold(n_splits=K, shuffle=True, random_state=42)\\n    f1_scores = []\\n\\n    for train_idx, val_idx in kf.split(X, y):\\n        X_train = X.iloc[train_idx, :]\\n        y_train = y.iloc[train_idx]\\n\\n        X_val = X.iloc[val_idx, :]\\n        y_val = y.iloc[val_idx]\\n\\n        model.fit(X_train, y_train)\\n        preds = model.predict(X_val)\\n        f1 = f1_score(y_val, preds, average='micro')\\n        f1_scores.append(f1)\\n\\n\\n    return -np.mean(f1_scores)\\n\""
      ]
     },
     "execution_count": 39,
     "metadata": {},
     "output_type": "execute_result"
    }
   ],
   "source": [
    "'''\n",
    "def xgb_optimizer(trial, X, y, K):\n",
    "    n_estimators = trial.suggest_int('n_estimators', 50, 500)\n",
    "    max_depth = trial.suggest_int('max_depth', 4, 20)\n",
    "    colsample_bytree = trial.suggest_float('colsample_bytree', 0.5, 0.8, log=True)\n",
    "    learning_rate = trial.suggest_float('learning_rate', 1e-3, 1e-2, log=True)\n",
    "    num_class = trial.suggest_int('num_class', 2, 10)\n",
    "    reg_lambda = trial.suggest_float('reg_lambda', 0.1, 2, log=True)\n",
    "    booster = trial.suggest_categorical('booster', ['gbtree', 'dart'])\n",
    "\n",
    "\n",
    "    model = XGBClassifier(objective='multi:softmax',\n",
    "                          n_estimators=n_estimators,\n",
    "                          max_depth=max_depth,\n",
    "                          colsample_bytree=colsample_bytree,\n",
    "                          num_class=num_class,\n",
    "                          eta=learning_rate,\n",
    "                          reg_lambda=reg_lambda,\n",
    "                          random_state=42\n",
    "                         )\n",
    "\n",
    "\n",
    "    kf = StratifiedKFold(n_splits=K, shuffle=True, random_state=42)\n",
    "    f1_scores = []\n",
    "\n",
    "    for train_idx, val_idx in kf.split(X, y):\n",
    "        X_train = X.iloc[train_idx, :]\n",
    "        y_train = y.iloc[train_idx]\n",
    "\n",
    "        X_val = X.iloc[val_idx, :]\n",
    "        y_val = y.iloc[val_idx]\n",
    "\n",
    "        model.fit(X_train, y_train)\n",
    "        preds = model.predict(X_val)\n",
    "        f1 = f1_score(y_val, preds, average='micro')\n",
    "        f1_scores.append(f1)\n",
    "\n",
    "\n",
    "    return -np.mean(f1_scores)\n",
    "'''"
   ]
  },
  {
   "cell_type": "code",
   "execution_count": 40,
   "id": "091f3253",
   "metadata": {
    "execution": {
     "iopub.execute_input": "2023-09-27T05:56:13.879279Z",
     "iopub.status.busy": "2023-09-27T05:56:13.878256Z",
     "iopub.status.idle": "2023-09-27T05:56:13.885478Z",
     "shell.execute_reply": "2023-09-27T05:56:13.884744Z"
    },
    "papermill": {
     "duration": 0.033156,
     "end_time": "2023-09-27T05:56:13.887568",
     "exception": false,
     "start_time": "2023-09-27T05:56:13.854412",
     "status": "completed"
    },
    "tags": []
   },
   "outputs": [
    {
     "data": {
      "text/plain": [
       "'\\n%%time\\n\\nK = 6\\nopt_func = partial(xgb_optimizer, X=X_train, y=y_train, K=K)\\ntry:\\n    if is_tuning:\\n        xgb_study = optuna.create_study(direction=\"maximize\")\\n        xgb_study.optimize(opt_func, n_trials=n_trials)\\n        mail_subject = \\'XG Boost Finished\\'\\n        mail_message_body = \\'XG Boost Finished.        Starting Cat Boost.\\'\\n\\n        mail_message = f\\'From: {mail_from}\\nTo: {mail_to}\\nSubject: {mail_subject}\\n\\n{mail_message_body}\\'\\n\\n        try:\\n            server = smtplib.SMTP_SSL(\\'smtp.email.com\\', 465)\\n            server.login(email_user, email_pw)\\n            server.sendmail(mail_from, mail_to, mail_message)\\n            server.close()\\n            print(\"Successfully sent email\")\\n        except SMTPException:\\n            print(\"Error: unable to send email\")\\nexcept:\\n    mail_subject = \\'XG Boost Failed\\'\\n    mail_message_body = \\'XG Boost Failed.    Shutting Colab off.\\'\\n\\n    mail_message = f\\'From: {mail_from}\\nTo: {mail_to}\\nSubject: {mail_subject}\\n\\n{mail_message_body}\\'\\n\\n    try:\\n        server = smtplib.SMTP_SSL(\\'smtp.email.com\\', 465)\\n        server.login(email_user, email_pw)\\n        server.sendmail(mail_from, mail_to, mail_message)\\n        server.close()\\n        print(\"Failed, Successfully sent email\")\\n    except SMTPException:\\n        print(\"Error: unable to send email\")\\n\\n    from google.colab import runtime\\n    runtime.unassign()\\n'"
      ]
     },
     "execution_count": 40,
     "metadata": {},
     "output_type": "execute_result"
    }
   ],
   "source": [
    "'''\n",
    "%%time\n",
    "\n",
    "K = 6\n",
    "opt_func = partial(xgb_optimizer, X=X_train, y=y_train, K=K)\n",
    "try:\n",
    "    if is_tuning:\n",
    "        xgb_study = optuna.create_study(direction=\"maximize\")\n",
    "        xgb_study.optimize(opt_func, n_trials=n_trials)\n",
    "        mail_subject = 'XG Boost Finished'\n",
    "        mail_message_body = 'XG Boost Finished.\\\n",
    "        Starting Cat Boost.'\n",
    "\n",
    "        mail_message = f'From: {mail_from}\\nTo: {mail_to}\\nSubject: {mail_subject}\\n\\n{mail_message_body}'\n",
    "\n",
    "        try:\n",
    "            server = smtplib.SMTP_SSL('smtp.email.com', 465)\n",
    "            server.login(email_user, email_pw)\n",
    "            server.sendmail(mail_from, mail_to, mail_message)\n",
    "            server.close()\n",
    "            print(\"Successfully sent email\")\n",
    "        except SMTPException:\n",
    "            print(\"Error: unable to send email\")\n",
    "except:\n",
    "    mail_subject = 'XG Boost Failed'\n",
    "    mail_message_body = 'XG Boost Failed.\\\n",
    "    Shutting Colab off.'\n",
    "\n",
    "    mail_message = f'From: {mail_from}\\nTo: {mail_to}\\nSubject: {mail_subject}\\n\\n{mail_message_body}'\n",
    "\n",
    "    try:\n",
    "        server = smtplib.SMTP_SSL('smtp.email.com', 465)\n",
    "        server.login(email_user, email_pw)\n",
    "        server.sendmail(mail_from, mail_to, mail_message)\n",
    "        server.close()\n",
    "        print(\"Failed, Successfully sent email\")\n",
    "    except SMTPException:\n",
    "        print(\"Error: unable to send email\")\n",
    "\n",
    "    from google.colab import runtime\n",
    "    runtime.unassign()\n",
    "'''"
   ]
  },
  {
   "cell_type": "code",
   "execution_count": 41,
   "id": "b4542acb",
   "metadata": {
    "execution": {
     "iopub.execute_input": "2023-09-27T05:56:13.934480Z",
     "iopub.status.busy": "2023-09-27T05:56:13.933522Z",
     "iopub.status.idle": "2023-09-27T05:56:13.940625Z",
     "shell.execute_reply": "2023-09-27T05:56:13.939690Z"
    },
    "papermill": {
     "duration": 0.033155,
     "end_time": "2023-09-27T05:56:13.943276",
     "exception": false,
     "start_time": "2023-09-27T05:56:13.910121",
     "status": "completed"
    },
    "tags": []
   },
   "outputs": [
    {
     "data": {
      "text/plain": [
       "\"\\ndef cat_optimizer(trial, X, y, K):\\n    iterations = trial.suggest_int('iterations', 50, 200)\\n    depth = trial.suggest_int('depth', 4, 16)\\n    bootstrap_type = trial.suggest_categorical('bootstrap_type', ['Bayesian'])\\n    learning_rate = trial.suggest_float('learning_rate', 1e-3, 1e-2, log=True)\\n    l2_leaf_reg = trial.suggest_float('l2_leaf_reg', 1e-8, 100.0, log=True)\\n    bagging_temperature = trial.suggest_float('bagging_temperature', 0, 10, log=False)\\n\\n    model = cat(iterations=iterations,\\n                depth=depth,\\n                bootstrap_type=bootstrap_type,\\n                l2_leaf_reg=l2_leaf_reg,\\n                learning_rate=learning_rate,\\n                bagging_temperature=bagging_temperature,\\n                random_state=42\\n               )\\n\\n\\n    kf = StratifiedKFold(n_splits=K, shuffle=True, random_state=42)\\n    f1_scores = []\\n\\n    for train_idx, val_idx in kf.split(X, y):\\n        X_train = X.iloc[train_idx, :]\\n        y_train = y.iloc[train_idx]\\n\\n        X_val = X.iloc[val_idx, :]\\n        y_val = y.iloc[val_idx]\\n\\n        model.fit(X_train, y_train)\\n        preds = model.predict(X_val)\\n        f1 = f1_score(y_val, preds, average='micro')\\n        f1_scores.append(f1)\\n\\n\\n    return -np.mean(f1_scores)\\n\""
      ]
     },
     "execution_count": 41,
     "metadata": {},
     "output_type": "execute_result"
    }
   ],
   "source": [
    "'''\n",
    "def cat_optimizer(trial, X, y, K):\n",
    "    iterations = trial.suggest_int('iterations', 50, 200)\n",
    "    depth = trial.suggest_int('depth', 4, 16)\n",
    "    bootstrap_type = trial.suggest_categorical('bootstrap_type', ['Bayesian'])\n",
    "    learning_rate = trial.suggest_float('learning_rate', 1e-3, 1e-2, log=True)\n",
    "    l2_leaf_reg = trial.suggest_float('l2_leaf_reg', 1e-8, 100.0, log=True)\n",
    "    bagging_temperature = trial.suggest_float('bagging_temperature', 0, 10, log=False)\n",
    "\n",
    "    model = cat(iterations=iterations,\n",
    "                depth=depth,\n",
    "                bootstrap_type=bootstrap_type,\n",
    "                l2_leaf_reg=l2_leaf_reg,\n",
    "                learning_rate=learning_rate,\n",
    "                bagging_temperature=bagging_temperature,\n",
    "                random_state=42\n",
    "               )\n",
    "\n",
    "\n",
    "    kf = StratifiedKFold(n_splits=K, shuffle=True, random_state=42)\n",
    "    f1_scores = []\n",
    "\n",
    "    for train_idx, val_idx in kf.split(X, y):\n",
    "        X_train = X.iloc[train_idx, :]\n",
    "        y_train = y.iloc[train_idx]\n",
    "\n",
    "        X_val = X.iloc[val_idx, :]\n",
    "        y_val = y.iloc[val_idx]\n",
    "\n",
    "        model.fit(X_train, y_train)\n",
    "        preds = model.predict(X_val)\n",
    "        f1 = f1_score(y_val, preds, average='micro')\n",
    "        f1_scores.append(f1)\n",
    "\n",
    "\n",
    "    return -np.mean(f1_scores)\n",
    "'''"
   ]
  },
  {
   "cell_type": "code",
   "execution_count": 42,
   "id": "57413871",
   "metadata": {
    "collapsed": true,
    "execution": {
     "iopub.execute_input": "2023-09-27T05:56:13.990641Z",
     "iopub.status.busy": "2023-09-27T05:56:13.990357Z",
     "iopub.status.idle": "2023-09-27T05:56:13.997754Z",
     "shell.execute_reply": "2023-09-27T05:56:13.996798Z"
    },
    "jupyter": {
     "outputs_hidden": true
    },
    "papermill": {
     "duration": 0.033018,
     "end_time": "2023-09-27T05:56:13.999882",
     "exception": false,
     "start_time": "2023-09-27T05:56:13.966864",
     "status": "completed"
    },
    "tags": []
   },
   "outputs": [
    {
     "data": {
      "text/plain": [
       "'\\n%%time\\n\\nK = 6\\nopt_func = partial(cat_optimizer, X=X_train, y=y_train, K=K)\\ntry:\\n    if is_tuning:\\n        cat_study = optuna.create_study(direction=\"maximize\")\\n        cat_study.optimize(opt_func, n_trials=n_trials)\\n        mail_subject = \\'Cat Boost Finished\\'\\n        mail_message_body = \\'Cat Boost Finished.        Starting Light GBM.\\'\\n\\n        mail_message = f\\'From: {mail_from}\\nTo: {mail_to}\\nSubject: {mail_subject}\\n\\n{mail_message_body}\\'\\n\\n        try:\\n            server = smtplib.SMTP_SSL(\\'smtp.email.com\\', 465)\\n            server.login(email_user, email_pw)\\n            server.sendmail(mail_from, mail_to, mail_message)\\n            server.close()\\n            print(\"Successfully sent email\")\\n        except SMTPException:\\n            print(\"Error: unable to send email\")\\nexcept:\\n    mail_subject = \\'Cat Boost Failed\\'\\n    mail_message_body = \\'Cat Boost Failed.    Shutting Colab off.\\'\\n\\n    mail_message = f\\'From: {mail_from}\\nTo: {mail_to}\\nSubject: {mail_subject}\\n\\n{mail_message_body}\\'\\n\\n    try:\\n        server = smtplib.SMTP_SSL(\\'smtp.email.com\\', 465)\\n        server.login(email_user, email_pw)\\n        server.sendmail(mail_from, mail_to, mail_message)\\n        server.close()\\n        print(\"Successfully sent email\")\\n    except SMTPException:\\n        print(\"Error: unable to send email\")\\n\\n    from google.colab import runtime\\n    runtime.unassign()\\n'"
      ]
     },
     "execution_count": 42,
     "metadata": {},
     "output_type": "execute_result"
    }
   ],
   "source": [
    "'''\n",
    "%%time\n",
    "\n",
    "K = 6\n",
    "opt_func = partial(cat_optimizer, X=X_train, y=y_train, K=K)\n",
    "try:\n",
    "    if is_tuning:\n",
    "        cat_study = optuna.create_study(direction=\"maximize\")\n",
    "        cat_study.optimize(opt_func, n_trials=n_trials)\n",
    "        mail_subject = 'Cat Boost Finished'\n",
    "        mail_message_body = 'Cat Boost Finished.\\\n",
    "        Starting Light GBM.'\n",
    "\n",
    "        mail_message = f'From: {mail_from}\\nTo: {mail_to}\\nSubject: {mail_subject}\\n\\n{mail_message_body}'\n",
    "\n",
    "        try:\n",
    "            server = smtplib.SMTP_SSL('smtp.email.com', 465)\n",
    "            server.login(email_user, email_pw)\n",
    "            server.sendmail(mail_from, mail_to, mail_message)\n",
    "            server.close()\n",
    "            print(\"Successfully sent email\")\n",
    "        except SMTPException:\n",
    "            print(\"Error: unable to send email\")\n",
    "except:\n",
    "    mail_subject = 'Cat Boost Failed'\n",
    "    mail_message_body = 'Cat Boost Failed.\\\n",
    "    Shutting Colab off.'\n",
    "\n",
    "    mail_message = f'From: {mail_from}\\nTo: {mail_to}\\nSubject: {mail_subject}\\n\\n{mail_message_body}'\n",
    "\n",
    "    try:\n",
    "        server = smtplib.SMTP_SSL('smtp.email.com', 465)\n",
    "        server.login(email_user, email_pw)\n",
    "        server.sendmail(mail_from, mail_to, mail_message)\n",
    "        server.close()\n",
    "        print(\"Successfully sent email\")\n",
    "    except SMTPException:\n",
    "        print(\"Error: unable to send email\")\n",
    "\n",
    "    from google.colab import runtime\n",
    "    runtime.unassign()\n",
    "'''"
   ]
  },
  {
   "cell_type": "code",
   "execution_count": 43,
   "id": "2aa2553b",
   "metadata": {
    "execution": {
     "iopub.execute_input": "2023-09-27T05:56:14.046981Z",
     "iopub.status.busy": "2023-09-27T05:56:14.046701Z",
     "iopub.status.idle": "2023-09-27T05:56:14.053520Z",
     "shell.execute_reply": "2023-09-27T05:56:14.052604Z"
    },
    "papermill": {
     "duration": 0.033131,
     "end_time": "2023-09-27T05:56:14.055784",
     "exception": false,
     "start_time": "2023-09-27T05:56:14.022653",
     "status": "completed"
    },
    "tags": []
   },
   "outputs": [
    {
     "data": {
      "text/plain": [
       "\"\\ndef lgbm_optimizer(trial, X, y, K):\\n    num_leaves = trial.suggest_int('num_leaves', 100, 500)\\n    max_depth = trial.suggest_int('max_depth', 4, 20)\\n    boosting_type = trial.suggest_categorical('boosting_type', ['gbdt', 'dart', 'rf'])\\n    learning_rate = trial.suggest_float('learning_rate', 1e-3, 1e-2, log=True)\\n\\n\\n    model = lgb(max_depth=max_depth,\\n                objective='multiclass',\\n                metric='multi_logloss',\\n                num_leaves=num_leaves,\\n                boosting_type=boosting_type,\\n                learning_rate=learning_rate,\\n                random_state=42\\n               )\\n\\n\\n    kf = StratifiedKFold(n_splits=K, shuffle=True, random_state=42)\\n    f1_scores = []\\n\\n    for train_idx, val_idx in kf.split(X, y):\\n        X_train = X.iloc[train_idx, :]\\n        y_train = y.iloc[train_idx]\\n\\n        X_val = X.iloc[val_idx, :]\\n        y_val = y.iloc[val_idx]\\n\\n        model.fit(X_train, y_train)\\n        preds = model.predict(X_val)\\n        f1 = f1_score(y_val, preds, average='micro')\\n        f1_scores.append(f1)\\n\\n\\n    return -np.mean(f1_scores)\\n\""
      ]
     },
     "execution_count": 43,
     "metadata": {},
     "output_type": "execute_result"
    }
   ],
   "source": [
    "'''\n",
    "def lgbm_optimizer(trial, X, y, K):\n",
    "    num_leaves = trial.suggest_int('num_leaves', 100, 500)\n",
    "    max_depth = trial.suggest_int('max_depth', 4, 20)\n",
    "    boosting_type = trial.suggest_categorical('boosting_type', ['gbdt', 'dart', 'rf'])\n",
    "    learning_rate = trial.suggest_float('learning_rate', 1e-3, 1e-2, log=True)\n",
    "\n",
    "\n",
    "    model = lgb(max_depth=max_depth,\n",
    "                objective='multiclass',\n",
    "                metric='multi_logloss',\n",
    "                num_leaves=num_leaves,\n",
    "                boosting_type=boosting_type,\n",
    "                learning_rate=learning_rate,\n",
    "                random_state=42\n",
    "               )\n",
    "\n",
    "\n",
    "    kf = StratifiedKFold(n_splits=K, shuffle=True, random_state=42)\n",
    "    f1_scores = []\n",
    "\n",
    "    for train_idx, val_idx in kf.split(X, y):\n",
    "        X_train = X.iloc[train_idx, :]\n",
    "        y_train = y.iloc[train_idx]\n",
    "\n",
    "        X_val = X.iloc[val_idx, :]\n",
    "        y_val = y.iloc[val_idx]\n",
    "\n",
    "        model.fit(X_train, y_train)\n",
    "        preds = model.predict(X_val)\n",
    "        f1 = f1_score(y_val, preds, average='micro')\n",
    "        f1_scores.append(f1)\n",
    "\n",
    "\n",
    "    return -np.mean(f1_scores)\n",
    "'''"
   ]
  },
  {
   "cell_type": "code",
   "execution_count": 44,
   "id": "e65dca0f",
   "metadata": {
    "execution": {
     "iopub.execute_input": "2023-09-27T05:56:14.104823Z",
     "iopub.status.busy": "2023-09-27T05:56:14.104535Z",
     "iopub.status.idle": "2023-09-27T05:56:14.111240Z",
     "shell.execute_reply": "2023-09-27T05:56:14.110353Z"
    },
    "papermill": {
     "duration": 0.033342,
     "end_time": "2023-09-27T05:56:14.113249",
     "exception": false,
     "start_time": "2023-09-27T05:56:14.079907",
     "status": "completed"
    },
    "tags": []
   },
   "outputs": [
    {
     "data": {
      "text/plain": [
       "'\\n%%time\\n\\nK = 6\\nopt_func = partial(lgbm_optimizer, X=X_train, y=y_train, K=K)\\ntry:\\n    if is_tuning:\\n        lgbm_study = optuna.create_study(direction=\"maximize\")\\n        lgbm_study.optimize(opt_func, n_trials=n_trials)\\n        mail_subject = \\'Light GBM Finished\\'\\n        mail_message_body = \\'Light GBM Finished.        Starting Training Done.\\'\\n\\n        mail_message = f\\'From: {mail_from}\\nTo: {mail_to}\\nSubject: {mail_subject}\\n\\n{mail_message_body}\\'\\n\\n        try:\\n            server = smtplib.SMTP_SSL(\\'smtp.email.com\\', 465)\\n            server.login(email_user, email_pw)\\n            server.sendmail(mail_from, mail_to, mail_message)\\n            server.close()\\n            print(\"Successfully sent email\")\\n        except SMTPException:\\n            print(\"Error: unable to send email\")\\nexcept:\\n    mail_subject = \\'Light GBM Failed\\'\\n    mail_message_body = \\'Light GBM Failed.    Shutting Colab off.\\'\\n\\n    mail_message = f\\'From: {mail_from}\\nTo: {mail_to}\\nSubject: {mail_subject}\\n\\n{mail_message_body}\\'\\n\\n    try:\\n        server = smtplib.SMTP_SSL(\\'smtp.email.com\\', 465)\\n        server.login(email_user, email_pw)\\n        server.sendmail(mail_from, mail_to, mail_message)\\n        server.close()\\n        print(\"Successfully sent email\")\\n    except SMTPException:\\n        print(\"Error: unable to send email\")\\n\\n    from google.colab import runtime\\n    runtime.unassign()\\n'"
      ]
     },
     "execution_count": 44,
     "metadata": {},
     "output_type": "execute_result"
    }
   ],
   "source": [
    "'''\n",
    "%%time\n",
    "\n",
    "K = 6\n",
    "opt_func = partial(lgbm_optimizer, X=X_train, y=y_train, K=K)\n",
    "try:\n",
    "    if is_tuning:\n",
    "        lgbm_study = optuna.create_study(direction=\"maximize\")\n",
    "        lgbm_study.optimize(opt_func, n_trials=n_trials)\n",
    "        mail_subject = 'Light GBM Finished'\n",
    "        mail_message_body = 'Light GBM Finished.\\\n",
    "        Starting Training Done.'\n",
    "\n",
    "        mail_message = f'From: {mail_from}\\nTo: {mail_to}\\nSubject: {mail_subject}\\n\\n{mail_message_body}'\n",
    "\n",
    "        try:\n",
    "            server = smtplib.SMTP_SSL('smtp.email.com', 465)\n",
    "            server.login(email_user, email_pw)\n",
    "            server.sendmail(mail_from, mail_to, mail_message)\n",
    "            server.close()\n",
    "            print(\"Successfully sent email\")\n",
    "        except SMTPException:\n",
    "            print(\"Error: unable to send email\")\n",
    "except:\n",
    "    mail_subject = 'Light GBM Failed'\n",
    "    mail_message_body = 'Light GBM Failed.\\\n",
    "    Shutting Colab off.'\n",
    "\n",
    "    mail_message = f'From: {mail_from}\\nTo: {mail_to}\\nSubject: {mail_subject}\\n\\n{mail_message_body}'\n",
    "\n",
    "    try:\n",
    "        server = smtplib.SMTP_SSL('smtp.email.com', 465)\n",
    "        server.login(email_user, email_pw)\n",
    "        server.sendmail(mail_from, mail_to, mail_message)\n",
    "        server.close()\n",
    "        print(\"Successfully sent email\")\n",
    "    except SMTPException:\n",
    "        print(\"Error: unable to send email\")\n",
    "\n",
    "    from google.colab import runtime\n",
    "    runtime.unassign()\n",
    "'''"
   ]
  },
  {
   "cell_type": "code",
   "execution_count": 45,
   "id": "9287d769",
   "metadata": {
    "execution": {
     "iopub.execute_input": "2023-09-27T05:56:14.162254Z",
     "iopub.status.busy": "2023-09-27T05:56:14.161958Z",
     "iopub.status.idle": "2023-09-27T05:56:14.167474Z",
     "shell.execute_reply": "2023-09-27T05:56:14.166764Z"
    },
    "papermill": {
     "duration": 0.031655,
     "end_time": "2023-09-27T05:56:14.169239",
     "exception": false,
     "start_time": "2023-09-27T05:56:14.137584",
     "status": "completed"
    },
    "tags": []
   },
   "outputs": [
    {
     "data": {
      "text/plain": [
       "'\\n# save all studies\\nif is_tuning:\\n    with open(\"rf_study.pk\", \\'wb\\') as f:\\n        pickle.dump(rf_study, f)\\n    with open(\"lr_study.pk\", \\'wb\\') as f:\\n        pickle.dump(lr_study, f)\\n    with open(\"svm_study.pk\", \\'wb\\') as f:\\n        pickle.dump(svm_study, f)\\n    with open(\"xgb_study.pk\", \\'wb\\') as f:\\n        pickle.dump(xgb_study, f)\\n    with open(\"cat_study.pk\", \\'wb\\') as f:\\n        pickle.dump(cat_study, f)\\n    with open(\"lgbm_study.pk\", \\'wb\\') as f:\\n        pickle.dump(lgbm_study, f)\\n\\n#     nn.save(\"./simple_nn_model.keras\")\\n'"
      ]
     },
     "execution_count": 45,
     "metadata": {},
     "output_type": "execute_result"
    }
   ],
   "source": [
    "'''\n",
    "# save all studies\n",
    "if is_tuning:\n",
    "    with open(\"rf_study.pk\", 'wb') as f:\n",
    "        pickle.dump(rf_study, f)\n",
    "    with open(\"lr_study.pk\", 'wb') as f:\n",
    "        pickle.dump(lr_study, f)\n",
    "    with open(\"svm_study.pk\", 'wb') as f:\n",
    "        pickle.dump(svm_study, f)\n",
    "    with open(\"xgb_study.pk\", 'wb') as f:\n",
    "        pickle.dump(xgb_study, f)\n",
    "    with open(\"cat_study.pk\", 'wb') as f:\n",
    "        pickle.dump(cat_study, f)\n",
    "    with open(\"lgbm_study.pk\", 'wb') as f:\n",
    "        pickle.dump(lgbm_study, f)\n",
    "\n",
    "#     nn.save(\"./simple_nn_model.keras\")\n",
    "'''"
   ]
  },
  {
   "cell_type": "code",
   "execution_count": 46,
   "id": "faa41223",
   "metadata": {
    "execution": {
     "iopub.execute_input": "2023-09-27T05:56:14.217869Z",
     "iopub.status.busy": "2023-09-27T05:56:14.217558Z",
     "iopub.status.idle": "2023-09-27T05:56:14.223007Z",
     "shell.execute_reply": "2023-09-27T05:56:14.222356Z"
    },
    "papermill": {
     "duration": 0.031743,
     "end_time": "2023-09-27T05:56:14.224857",
     "exception": false,
     "start_time": "2023-09-27T05:56:14.193114",
     "status": "completed"
    },
    "tags": []
   },
   "outputs": [
    {
     "data": {
      "text/plain": [
       "'\\n# visualize experiment logs\\ndef display_experiment_log(study):\\n    display(study.trials_dataframe())\\n    print(\"Best Score: %.4f\" % study.best_value)\\n    print(\"Best params: \", study.best_trial.params)\\n    history = study.trials_dataframe()\\n    display(history[history.value == study.best_value])\\n    optuna.visualization.plot_optimization_history(study).show()\\n    optuna.visualization.plot_param_importances(study).show()\\n'"
      ]
     },
     "execution_count": 46,
     "metadata": {},
     "output_type": "execute_result"
    }
   ],
   "source": [
    "'''\n",
    "# visualize experiment logs\n",
    "def display_experiment_log(study):\n",
    "    display(study.trials_dataframe())\n",
    "    print(\"Best Score: %.4f\" % study.best_value)\n",
    "    print(\"Best params: \", study.best_trial.params)\n",
    "    history = study.trials_dataframe()\n",
    "    display(history[history.value == study.best_value])\n",
    "    optuna.visualization.plot_optimization_history(study).show()\n",
    "    optuna.visualization.plot_param_importances(study).show()\n",
    "'''"
   ]
  },
  {
   "cell_type": "code",
   "execution_count": 47,
   "id": "9d25d2c1",
   "metadata": {
    "execution": {
     "iopub.execute_input": "2023-09-27T05:56:14.273159Z",
     "iopub.status.busy": "2023-09-27T05:56:14.272905Z",
     "iopub.status.idle": "2023-09-27T05:56:14.278728Z",
     "shell.execute_reply": "2023-09-27T05:56:14.277705Z"
    },
    "papermill": {
     "duration": 0.032364,
     "end_time": "2023-09-27T05:56:14.280646",
     "exception": false,
     "start_time": "2023-09-27T05:56:14.248282",
     "status": "completed"
    },
    "tags": []
   },
   "outputs": [
    {
     "data": {
      "text/plain": [
       "'\\nif is_tuning:\\n    display_experiment_log(rf_study)\\n'"
      ]
     },
     "execution_count": 47,
     "metadata": {},
     "output_type": "execute_result"
    }
   ],
   "source": [
    "'''\n",
    "if is_tuning:\n",
    "    display_experiment_log(rf_study)\n",
    "'''"
   ]
  },
  {
   "cell_type": "code",
   "execution_count": 48,
   "id": "b499c2c8",
   "metadata": {
    "execution": {
     "iopub.execute_input": "2023-09-27T05:56:14.329421Z",
     "iopub.status.busy": "2023-09-27T05:56:14.329123Z",
     "iopub.status.idle": "2023-09-27T05:56:14.334895Z",
     "shell.execute_reply": "2023-09-27T05:56:14.334070Z"
    },
    "papermill": {
     "duration": 0.032552,
     "end_time": "2023-09-27T05:56:14.336766",
     "exception": false,
     "start_time": "2023-09-27T05:56:14.304214",
     "status": "completed"
    },
    "tags": []
   },
   "outputs": [
    {
     "data": {
      "text/plain": [
       "'\\nif is_tuning:\\n    display_experiment_log(lr_study)\\n'"
      ]
     },
     "execution_count": 48,
     "metadata": {},
     "output_type": "execute_result"
    }
   ],
   "source": [
    "'''\n",
    "if is_tuning:\n",
    "    display_experiment_log(lr_study)\n",
    "'''"
   ]
  },
  {
   "cell_type": "code",
   "execution_count": 49,
   "id": "f7a73100",
   "metadata": {
    "execution": {
     "iopub.execute_input": "2023-09-27T05:56:14.385479Z",
     "iopub.status.busy": "2023-09-27T05:56:14.385206Z",
     "iopub.status.idle": "2023-09-27T05:56:14.391182Z",
     "shell.execute_reply": "2023-09-27T05:56:14.390195Z"
    },
    "papermill": {
     "duration": 0.032892,
     "end_time": "2023-09-27T05:56:14.393158",
     "exception": false,
     "start_time": "2023-09-27T05:56:14.360266",
     "status": "completed"
    },
    "tags": []
   },
   "outputs": [
    {
     "data": {
      "text/plain": [
       "'\\nif is_tuning:\\n    display_experiment_log(svm_study)\\n'"
      ]
     },
     "execution_count": 49,
     "metadata": {},
     "output_type": "execute_result"
    }
   ],
   "source": [
    "'''\n",
    "if is_tuning:\n",
    "    display_experiment_log(svm_study)\n",
    "'''"
   ]
  },
  {
   "cell_type": "code",
   "execution_count": 50,
   "id": "c3eeb937",
   "metadata": {
    "execution": {
     "iopub.execute_input": "2023-09-27T05:56:14.442899Z",
     "iopub.status.busy": "2023-09-27T05:56:14.442623Z",
     "iopub.status.idle": "2023-09-27T05:56:14.447498Z",
     "shell.execute_reply": "2023-09-27T05:56:14.446815Z"
    },
    "papermill": {
     "duration": 0.03196,
     "end_time": "2023-09-27T05:56:14.449318",
     "exception": false,
     "start_time": "2023-09-27T05:56:14.417358",
     "status": "completed"
    },
    "tags": []
   },
   "outputs": [
    {
     "data": {
      "text/plain": [
       "'\\nif is_tuning:\\n    display_experiment_log(xgb_study)\\n'"
      ]
     },
     "execution_count": 50,
     "metadata": {},
     "output_type": "execute_result"
    }
   ],
   "source": [
    "'''\n",
    "if is_tuning:\n",
    "    display_experiment_log(xgb_study)\n",
    "'''"
   ]
  },
  {
   "cell_type": "code",
   "execution_count": 51,
   "id": "e92fec37",
   "metadata": {
    "execution": {
     "iopub.execute_input": "2023-09-27T05:56:14.498756Z",
     "iopub.status.busy": "2023-09-27T05:56:14.498469Z",
     "iopub.status.idle": "2023-09-27T05:56:14.507478Z",
     "shell.execute_reply": "2023-09-27T05:56:14.506480Z"
    },
    "papermill": {
     "duration": 0.036512,
     "end_time": "2023-09-27T05:56:14.509569",
     "exception": false,
     "start_time": "2023-09-27T05:56:14.473057",
     "status": "completed"
    },
    "tags": []
   },
   "outputs": [
    {
     "data": {
      "text/plain": [
       "'\\nif is_tuning:\\n    display_experiment_log(cat_study)\\n'"
      ]
     },
     "execution_count": 51,
     "metadata": {},
     "output_type": "execute_result"
    }
   ],
   "source": [
    "'''\n",
    "if is_tuning:\n",
    "    display_experiment_log(cat_study)\n",
    "'''"
   ]
  },
  {
   "cell_type": "code",
   "execution_count": 52,
   "id": "3ead02cb",
   "metadata": {
    "execution": {
     "iopub.execute_input": "2023-09-27T05:56:14.559989Z",
     "iopub.status.busy": "2023-09-27T05:56:14.559706Z",
     "iopub.status.idle": "2023-09-27T05:56:14.565068Z",
     "shell.execute_reply": "2023-09-27T05:56:14.564317Z"
    },
    "papermill": {
     "duration": 0.033163,
     "end_time": "2023-09-27T05:56:14.567052",
     "exception": false,
     "start_time": "2023-09-27T05:56:14.533889",
     "status": "completed"
    },
    "tags": []
   },
   "outputs": [
    {
     "data": {
      "text/plain": [
       "'\\nif is_tuning:\\n    display_experiment_log(lgbm_study)\\n'"
      ]
     },
     "execution_count": 52,
     "metadata": {},
     "output_type": "execute_result"
    }
   ],
   "source": [
    "'''\n",
    "if is_tuning:\n",
    "    display_experiment_log(lgbm_study)\n",
    "'''"
   ]
  },
  {
   "cell_type": "code",
   "execution_count": 53,
   "id": "fb179aeb",
   "metadata": {
    "execution": {
     "iopub.execute_input": "2023-09-27T05:56:14.617531Z",
     "iopub.status.busy": "2023-09-27T05:56:14.617234Z",
     "iopub.status.idle": "2023-09-27T05:56:14.623047Z",
     "shell.execute_reply": "2023-09-27T05:56:14.622047Z"
    },
    "papermill": {
     "duration": 0.033628,
     "end_time": "2023-09-27T05:56:14.625082",
     "exception": false,
     "start_time": "2023-09-27T05:56:14.591454",
     "status": "completed"
    },
    "tags": []
   },
   "outputs": [
    {
     "data": {
      "text/plain": [
       "'\\n## preprocessing in same way\\nX_test = test[train.columns.drop(\"Class\")].fillna(test.mean())\\nif is_scaling:\\n    X_test = scaler.transform(X_test)\\n\\nif is_pca:\\n    data_ = pca.transform(X_test)\\n    X_test = pd.DataFrame(data=data_, columns=[f\"PC{i}\" for i in range(1, data_.shape[1]+1)])\\n\\nX_test\\n'"
      ]
     },
     "execution_count": 53,
     "metadata": {},
     "output_type": "execute_result"
    }
   ],
   "source": [
    "'''\n",
    "## preprocessing in same way\n",
    "X_test = test[train.columns.drop(\"Class\")].fillna(test.mean())\n",
    "if is_scaling:\n",
    "    X_test = scaler.transform(X_test)\n",
    "\n",
    "if is_pca:\n",
    "    data_ = pca.transform(X_test)\n",
    "    X_test = pd.DataFrame(data=data_, columns=[f\"PC{i}\" for i in range(1, data_.shape[1]+1)])\n",
    "\n",
    "X_test\n",
    "'''"
   ]
  },
  {
   "cell_type": "code",
   "execution_count": 54,
   "id": "88999912",
   "metadata": {
    "execution": {
     "iopub.execute_input": "2023-09-27T05:56:14.676662Z",
     "iopub.status.busy": "2023-09-27T05:56:14.676395Z",
     "iopub.status.idle": "2023-09-27T05:56:14.682153Z",
     "shell.execute_reply": "2023-09-27T05:56:14.681075Z"
    },
    "papermill": {
     "duration": 0.034615,
     "end_time": "2023-09-27T05:56:14.684484",
     "exception": false,
     "start_time": "2023-09-27T05:56:14.649869",
     "status": "completed"
    },
    "tags": []
   },
   "outputs": [],
   "source": [
    "\n",
    "# # Finalize Models\n",
    "# if is_tuning:\n",
    "#     rf_best_params = rf_study.best_params\n",
    "#     lr_best_params = lr_study.best_params\n",
    "#     xgb_best_params = xgb_study.best_params\n",
    "#     svm_best_params = svm_study.best_params\n",
    "#     lgbm_best_params = lgbm_study.best_params\n",
    "#     cat_best_params = cat_study.best_params\n",
    "\n",
    "#     best_rf = RandomForestClassifier(**rf_best_params)\n",
    "#     best_lr = LogisticRegression(**lr_best_params)\n",
    "#     best_xgb = XGBClassifier(**xgb_best_params)\n",
    "#     best_svm = SVC(**svm_best_params, probability=True)\n",
    "#     best_lgbm = lgb(**lgbm_best_params)\n",
    "#     best_cat = cat(**cat_best_params)\n",
    "\n",
    "#     try:\n",
    "#         mail_subject = 'Best Parameters'\n",
    "\n",
    "#         mail_message_body = f'''Random Forest : Best Params {rf_best_params}, Best_RF : {best_rf} \\n\\r\\\n",
    "#         Logistic Regression : Best Params {lr_best_params}, Best_LR : {best_lr} \\n\\r\\\n",
    "#         XGB : Best Params {xgb_best_params}, Best_xgb : {best_xgb} \\n\\r\\\n",
    "#         SVM : Best Params {svm_best_params}, Best_svm : {best_svm} \\n\\r\\\n",
    "#         LGBM : Best Params {lgbm_best_params}, Best_LGBM : {best_lgbm} \\n\\r\\\n",
    "#         CatBoost : Best Params {cat_best_params}, Best_RF : {best_cat} \\n\\r\\\n",
    "#         '''\n",
    "\n",
    "#         mail_message = f'From: {mail_from}\\nTo: {mail_to}\\nSubject: {mail_subject}\\n\\n{mail_message_body}'\n",
    "\n",
    "#         try:\n",
    "#             server = smtplib.SMTP_SSL('smtp.email.com', 465)\n",
    "#             server.login(email_user, email_pw)\n",
    "#             server.sendmail(mail_from, mail_to, mail_message)\n",
    "#             server.close()\n",
    "#             print(\"Successfully sent email\")\n",
    "#         except SMTPException:\n",
    "#             print(\"Error: unable to send email\")\n",
    "#     except:\n",
    "#         mail_subject = 'Best Parameters... Supposed to be...'\n",
    "#         mail_message_body = f'Something Wrong...'\n",
    "\n",
    "#         mail_message = f'From: {mail_from}\\nTo: {mail_to}\\nSubject: {mail_subject}\\n\\n{mail_message_body}'\n",
    "\n",
    "#         try:\n",
    "#             server = smtplib.SMTP_SSL('smtp.email.com', 465)\n",
    "#             server.login(email_user, email_pw)\n",
    "#             server.sendmail(mail_from, mail_to, mail_message)\n",
    "#             server.close()\n",
    "#             print(\"Successfully sent email\")\n",
    "#         except SMTPException:\n",
    "#             print(\"Error: unable to send email\")\n",
    "#         from google.colab import runtime\n",
    "#         runtime.unassign()\n"
   ]
  },
  {
   "cell_type": "code",
   "execution_count": 55,
   "id": "4514f0ec",
   "metadata": {
    "execution": {
     "iopub.execute_input": "2023-09-27T05:56:14.735587Z",
     "iopub.status.busy": "2023-09-27T05:56:14.735336Z",
     "iopub.status.idle": "2023-09-27T05:56:14.740024Z",
     "shell.execute_reply": "2023-09-27T05:56:14.739360Z"
    },
    "papermill": {
     "duration": 0.032906,
     "end_time": "2023-09-27T05:56:14.742039",
     "exception": false,
     "start_time": "2023-09-27T05:56:14.709133",
     "status": "completed"
    },
    "tags": []
   },
   "outputs": [
    {
     "data": {
      "text/plain": [
       "'\\nprint(rf_best_params)\\n# print(rf_study.best_trial)\\nprint(rf_study.best_value)\\n'"
      ]
     },
     "execution_count": 55,
     "metadata": {},
     "output_type": "execute_result"
    }
   ],
   "source": [
    "'''\n",
    "print(rf_best_params)\n",
    "# print(rf_study.best_trial)\n",
    "print(rf_study.best_value)\n",
    "'''"
   ]
  },
  {
   "cell_type": "code",
   "execution_count": 56,
   "id": "029e5ee6",
   "metadata": {
    "execution": {
     "iopub.execute_input": "2023-09-27T05:56:14.793468Z",
     "iopub.status.busy": "2023-09-27T05:56:14.792888Z",
     "iopub.status.idle": "2023-09-27T05:56:14.799523Z",
     "shell.execute_reply": "2023-09-27T05:56:14.798548Z"
    },
    "papermill": {
     "duration": 0.034796,
     "end_time": "2023-09-27T05:56:14.801567",
     "exception": false,
     "start_time": "2023-09-27T05:56:14.766771",
     "status": "completed"
    },
    "tags": []
   },
   "outputs": [
    {
     "data": {
      "text/plain": [
       "'\\nprint(lr_best_params)\\n# print(lr_study.best_trial)\\nprint(lr_study.best_value)\\n'"
      ]
     },
     "execution_count": 56,
     "metadata": {},
     "output_type": "execute_result"
    }
   ],
   "source": [
    "'''\n",
    "print(lr_best_params)\n",
    "# print(lr_study.best_trial)\n",
    "print(lr_study.best_value)\n",
    "'''"
   ]
  },
  {
   "cell_type": "code",
   "execution_count": 57,
   "id": "f3b52a2c",
   "metadata": {
    "execution": {
     "iopub.execute_input": "2023-09-27T05:56:14.853689Z",
     "iopub.status.busy": "2023-09-27T05:56:14.853407Z",
     "iopub.status.idle": "2023-09-27T05:56:14.859565Z",
     "shell.execute_reply": "2023-09-27T05:56:14.858618Z"
    },
    "papermill": {
     "duration": 0.035055,
     "end_time": "2023-09-27T05:56:14.861728",
     "exception": false,
     "start_time": "2023-09-27T05:56:14.826673",
     "status": "completed"
    },
    "tags": []
   },
   "outputs": [
    {
     "data": {
      "text/plain": [
       "'\\nprint(xgb_best_params)\\n# print(xgb_study.best_trial)\\nprint(xgb_study.best_value)\\n'"
      ]
     },
     "execution_count": 57,
     "metadata": {},
     "output_type": "execute_result"
    }
   ],
   "source": [
    "'''\n",
    "print(xgb_best_params)\n",
    "# print(xgb_study.best_trial)\n",
    "print(xgb_study.best_value)\n",
    "'''"
   ]
  },
  {
   "cell_type": "code",
   "execution_count": 58,
   "id": "ac267a1a",
   "metadata": {
    "execution": {
     "iopub.execute_input": "2023-09-27T05:56:14.913685Z",
     "iopub.status.busy": "2023-09-27T05:56:14.913397Z",
     "iopub.status.idle": "2023-09-27T05:56:14.918612Z",
     "shell.execute_reply": "2023-09-27T05:56:14.917941Z"
    },
    "papermill": {
     "duration": 0.033292,
     "end_time": "2023-09-27T05:56:14.920498",
     "exception": false,
     "start_time": "2023-09-27T05:56:14.887206",
     "status": "completed"
    },
    "tags": []
   },
   "outputs": [
    {
     "data": {
      "text/plain": [
       "'\\nprint(svm_best_params)\\n# print(svm_study.best_trial)\\nprint(svm_study.best_value)\\n'"
      ]
     },
     "execution_count": 58,
     "metadata": {},
     "output_type": "execute_result"
    }
   ],
   "source": [
    "'''\n",
    "print(svm_best_params)\n",
    "# print(svm_study.best_trial)\n",
    "print(svm_study.best_value)\n",
    "'''"
   ]
  },
  {
   "cell_type": "code",
   "execution_count": 59,
   "id": "e1e12fb8",
   "metadata": {
    "execution": {
     "iopub.execute_input": "2023-09-27T05:56:14.972042Z",
     "iopub.status.busy": "2023-09-27T05:56:14.971758Z",
     "iopub.status.idle": "2023-09-27T05:56:14.978009Z",
     "shell.execute_reply": "2023-09-27T05:56:14.977011Z"
    },
    "papermill": {
     "duration": 0.034946,
     "end_time": "2023-09-27T05:56:14.980394",
     "exception": false,
     "start_time": "2023-09-27T05:56:14.945448",
     "status": "completed"
    },
    "tags": []
   },
   "outputs": [
    {
     "data": {
      "text/plain": [
       "'\\nprint(lgbm_best_params)\\n# print(lgbm_study.best_trial)\\nprint(lgbm_study.best_value)\\n'"
      ]
     },
     "execution_count": 59,
     "metadata": {},
     "output_type": "execute_result"
    }
   ],
   "source": [
    "'''\n",
    "print(lgbm_best_params)\n",
    "# print(lgbm_study.best_trial)\n",
    "print(lgbm_study.best_value)\n",
    "'''"
   ]
  },
  {
   "cell_type": "code",
   "execution_count": 60,
   "id": "b945c0d2",
   "metadata": {
    "execution": {
     "iopub.execute_input": "2023-09-27T05:56:15.033416Z",
     "iopub.status.busy": "2023-09-27T05:56:15.033109Z",
     "iopub.status.idle": "2023-09-27T05:56:15.039409Z",
     "shell.execute_reply": "2023-09-27T05:56:15.038315Z"
    },
    "papermill": {
     "duration": 0.035624,
     "end_time": "2023-09-27T05:56:15.041753",
     "exception": false,
     "start_time": "2023-09-27T05:56:15.006129",
     "status": "completed"
    },
    "tags": []
   },
   "outputs": [
    {
     "data": {
      "text/plain": [
       "'\\nprint(cat_best_params)\\n# print(cat_study.best_trial)\\nprint(cat_study.best_value)\\n'"
      ]
     },
     "execution_count": 60,
     "metadata": {},
     "output_type": "execute_result"
    }
   ],
   "source": [
    "'''\n",
    "print(cat_best_params)\n",
    "# print(cat_study.best_trial)\n",
    "print(cat_study.best_value)\n",
    "'''"
   ]
  },
  {
   "cell_type": "code",
   "execution_count": 61,
   "id": "af12d96d",
   "metadata": {
    "execution": {
     "iopub.execute_input": "2023-09-27T05:56:15.096219Z",
     "iopub.status.busy": "2023-09-27T05:56:15.095937Z",
     "iopub.status.idle": "2023-09-27T05:56:15.102131Z",
     "shell.execute_reply": "2023-09-27T05:56:15.101094Z"
    },
    "papermill": {
     "duration": 0.035703,
     "end_time": "2023-09-27T05:56:15.104321",
     "exception": false,
     "start_time": "2023-09-27T05:56:15.068618",
     "status": "completed"
    },
    "tags": []
   },
   "outputs": [],
   "source": [
    "# try:\n",
    "#     # first ensebmle model, then check it.\n",
    "#     best_rf.fit(X_train, y_train)\n",
    "#     best_lr.fit(X_train, y_train)\n",
    "#     best_xgb.fit(X_train, y_train)\n",
    "#     best_svm.fit(X_train, y_train)\n",
    "#     best_lgbm.fit(X_train, y_train)\n",
    "#     best_cat.fit(X_train, y_train)\n",
    "\n",
    "#     # OOF-prediction\n",
    "#     v_rf = best_rf.predict(X_val)\n",
    "#     v_lr = best_lr.predict(X_val)\n",
    "#     v_xgb = best_xgb.predict(X_val)\n",
    "#     v_svm = best_svm.predict(X_val)\n",
    "#     v_lgbm = best_lgbm.predict(X_val)\n",
    "#     v_cat = best_cat.predict(X_val)\n",
    "\n",
    "#     print(v_rf.shape, v_lr.shape, v_xgb.shape, v_svm.shape, v_lgbm.shape, v_cat.shape)\n",
    "\n",
    "#     preds_rf = best_rf.predict(X_test)\n",
    "#     preds_lr = best_lr.predict(X_test)\n",
    "#     preds_xgb = best_xgb.predict(X_test)\n",
    "#     preds_svm = best_svm.predict(X_test)\n",
    "#     preds_lgbm = best_lgbm.predict(X_test)\n",
    "#     preds_cat = best_cat.predict(X_test)\n",
    "#     print(preds_rf.shape, preds_lr.shape, preds_xgb.shape, preds_svm.shape, preds_lgbm.shape, preds_cat.shape)\n",
    "\n",
    "\n",
    "#     mail_subject = 'Best Parameters'\n",
    "#     mail_message_body = f'''Random Forest : Best Params {rf_best_params}, Best_RF : {best_rf} \\n\\\n",
    "#     Logistic Regression : Best Params {lr_best_params}, Best_LR : {best_lr} \\n\\\n",
    "#     XGB : Best Params {xgb_best_params}, Best_xgb : {best_xgb} \\n\\\n",
    "#     SVM : Best Params {svm_best_params}, Best_svm : {best_svm} \\n\\\n",
    "#     LGBM : Best Params {lgbm_best_params}, Best_LGBM : {best_lgbm} \\n\\\n",
    "#     CatBoost : Best Params {cat_best_params}, Best_RF : {best_cat} \\n\\\n",
    "#     '''\n",
    "\n",
    "#     mail_message = f'From: {mail_from}\\nTo: {mail_to}\\nSubject: {mail_subject}\\n\\n{mail_message_body}'\n",
    "\n",
    "#     try:\n",
    "#         server = smtplib.SMTP_SSL('smtp.email.com', 465)\n",
    "#         server.login(email_user, email_pw)\n",
    "#         server.sendmail(mail_from, mail_to, mail_message)\n",
    "#         server.close()\n",
    "#         print(\"Successfully sent email\")\n",
    "#     except SMTPException:\n",
    "#         print(\"Error: unable to send email\")\n",
    "# except:\n",
    "#     mail_subject = 'Best Parameters... Supposed to be...'\n",
    "#     mail_message_body = f'Something Wrong...'\n",
    "\n",
    "#     mail_message = f'From: {mail_from}\\nTo: {mail_to}\\nSubject: {mail_subject}\\n\\n{mail_message_body}'\n",
    "\n",
    "#     try:\n",
    "#         server = smtplib.SMTP_SSL('smtp.email.com', 465)\n",
    "#         server.login(email_user, email_pw)\n",
    "#         server.sendmail(mail_from, mail_to, mail_message)\n",
    "#         server.close()\n",
    "#         print(\"Successfully sent email\")\n",
    "#     except SMTPException:\n",
    "#         print(\"Error: unable to send email\")\n",
    "#     from google.colab import runtime\n",
    "#     runtime.unassign()\n"
   ]
  },
  {
   "cell_type": "code",
   "execution_count": 62,
   "id": "c5f74857",
   "metadata": {
    "execution": {
     "iopub.execute_input": "2023-09-27T05:56:15.158207Z",
     "iopub.status.busy": "2023-09-27T05:56:15.157877Z",
     "iopub.status.idle": "2023-09-27T05:56:15.162186Z",
     "shell.execute_reply": "2023-09-27T05:56:15.161202Z"
    },
    "papermill": {
     "duration": 0.032783,
     "end_time": "2023-09-27T05:56:15.164116",
     "exception": false,
     "start_time": "2023-09-27T05:56:15.131333",
     "status": "completed"
    },
    "tags": []
   },
   "outputs": [],
   "source": [
    "# # MLP predictions\n",
    "# v_nn = nn.predict(X_val)\n",
    "# preds_nn = nn.predict(X_test)\n",
    "# print(v_nn.shape, preds_nn.shape)\n"
   ]
  },
  {
   "cell_type": "code",
   "execution_count": 63,
   "id": "1c12b700",
   "metadata": {
    "execution": {
     "iopub.execute_input": "2023-09-27T05:56:15.216907Z",
     "iopub.status.busy": "2023-09-27T05:56:15.216211Z",
     "iopub.status.idle": "2023-09-27T05:56:15.222820Z",
     "shell.execute_reply": "2023-09-27T05:56:15.221865Z"
    },
    "papermill": {
     "duration": 0.035352,
     "end_time": "2023-09-27T05:56:15.224929",
     "exception": false,
     "start_time": "2023-09-27T05:56:15.189577",
     "status": "completed"
    },
    "tags": []
   },
   "outputs": [
    {
     "data": {
      "text/plain": [
       "'\\n# OOF prediction\\nensembles = np.mean([v_rf, v_lr, v_xgb, v_svm, v_lgbm, v_cat], axis=0)\\nprint(\"OOF prediction logloss : %.4f\" % evaluation_metric(y_val, ensembles))\\n'"
      ]
     },
     "execution_count": 63,
     "metadata": {},
     "output_type": "execute_result"
    }
   ],
   "source": [
    "'''\n",
    "# OOF prediction\n",
    "ensembles = np.mean([v_rf, v_lr, v_xgb, v_svm, v_lgbm, v_cat], axis=0)\n",
    "print(\"OOF prediction logloss : %.4f\" % evaluation_metric(y_val, ensembles))\n",
    "'''"
   ]
  },
  {
   "cell_type": "code",
   "execution_count": 64,
   "id": "3eea38c6",
   "metadata": {
    "execution": {
     "iopub.execute_input": "2023-09-27T05:56:15.279275Z",
     "iopub.status.busy": "2023-09-27T05:56:15.278157Z",
     "iopub.status.idle": "2023-09-27T05:56:15.282608Z",
     "shell.execute_reply": "2023-09-27T05:56:15.281789Z"
    },
    "papermill": {
     "duration": 0.033406,
     "end_time": "2023-09-27T05:56:15.284551",
     "exception": false,
     "start_time": "2023-09-27T05:56:15.251145",
     "status": "completed"
    },
    "tags": []
   },
   "outputs": [],
   "source": [
    "# submission"
   ]
  },
  {
   "cell_type": "code",
   "execution_count": 65,
   "id": "e2c64b13",
   "metadata": {
    "execution": {
     "iopub.execute_input": "2023-09-27T05:56:15.338356Z",
     "iopub.status.busy": "2023-09-27T05:56:15.338067Z",
     "iopub.status.idle": "2023-09-27T05:56:15.344053Z",
     "shell.execute_reply": "2023-09-27T05:56:15.343378Z"
    },
    "papermill": {
     "duration": 0.038483,
     "end_time": "2023-09-27T05:56:15.348945",
     "exception": false,
     "start_time": "2023-09-27T05:56:15.310462",
     "status": "completed"
    },
    "tags": []
   },
   "outputs": [
    {
     "data": {
      "text/plain": [
       "\"\\nvoting_weights = [0.10, 0.10, 0.10, 0.20, 0.20, 0.30]\\nsubmission['class_0'] = voting_weights[0]*preds_nn[:, 0] + voting_weights[1]*preds_nn[:, 0] + voting_weights[2]*preds_nn[:, 0] + voting_weights[3]*preds_nn[:, 0] + voting_weights[4]*preds_nn[:, 0] + voting_weights[5]*preds_rf[:, 0] # + voting_weights[6]*preds_rf[:, 0]\\nsubmission['class_1'] = voting_weights[0]*preds_nn[:, 1] + voting_weights[1]*preds_nn[:, 1] + voting_weights[2]*preds_nn[:, 1] + voting_weights[3]*preds_nn[:, 1] + voting_weights[4]*preds_nn[:, 1] + voting_weights[5]*preds_rf[:, 1] # + voting_weights[6]*preds_rf[:, 1]\\nsubmission\\n\""
      ]
     },
     "execution_count": 65,
     "metadata": {},
     "output_type": "execute_result"
    }
   ],
   "source": [
    "# voting_weights = [0.1, 0.1, 0.25, 0.25, 0.3]\n",
    "# voting_weights = [0.2, 0.2, 0.2, 0.2, 0.2]\n",
    "'''\n",
    "voting_weights = [0.10, 0.10, 0.10, 0.20, 0.20, 0.30]\n",
    "submission['class_0'] = voting_weights[0]*preds_nn[:, 0] + voting_weights[1]*preds_nn[:, 0] + voting_weights[2]*preds_nn[:, 0] + voting_weights[3]*preds_nn[:, 0] + voting_weights[4]*preds_nn[:, 0] + voting_weights[5]*preds_rf[:, 0] # + voting_weights[6]*preds_rf[:, 0]\n",
    "submission['class_1'] = voting_weights[0]*preds_nn[:, 1] + voting_weights[1]*preds_nn[:, 1] + voting_weights[2]*preds_nn[:, 1] + voting_weights[3]*preds_nn[:, 1] + voting_weights[4]*preds_nn[:, 1] + voting_weights[5]*preds_rf[:, 1] # + voting_weights[6]*preds_rf[:, 1]\n",
    "submission\n",
    "'''"
   ]
  },
  {
   "cell_type": "code",
   "execution_count": 66,
   "id": "45542e42",
   "metadata": {
    "execution": {
     "iopub.execute_input": "2023-09-27T05:56:15.404847Z",
     "iopub.status.busy": "2023-09-27T05:56:15.403727Z",
     "iopub.status.idle": "2023-09-27T05:56:15.410408Z",
     "shell.execute_reply": "2023-09-27T05:56:15.409446Z"
    },
    "papermill": {
     "duration": 0.035962,
     "end_time": "2023-09-27T05:56:15.412686",
     "exception": false,
     "start_time": "2023-09-27T05:56:15.376724",
     "status": "completed"
    },
    "tags": []
   },
   "outputs": [
    {
     "data": {
      "text/plain": [
       "'\\nsubmission.to_csv(\"submission.csv\", index=False)\\n'"
      ]
     },
     "execution_count": 66,
     "metadata": {},
     "output_type": "execute_result"
    }
   ],
   "source": [
    "'''\n",
    "submission.to_csv(\"submission.csv\", index=False)\n",
    "'''"
   ]
  }
 ],
 "metadata": {
  "kernelspec": {
   "display_name": "Python 3",
   "language": "python",
   "name": "python3"
  },
  "language_info": {
   "codemirror_mode": {
    "name": "ipython",
    "version": 3
   },
   "file_extension": ".py",
   "mimetype": "text/x-python",
   "name": "python",
   "nbconvert_exporter": "python",
   "pygments_lexer": "ipython3",
   "version": "3.10.12"
  },
  "papermill": {
   "default_parameters": {},
   "duration": 28.006679,
   "end_time": "2023-09-27T05:56:17.264205",
   "environment_variables": {},
   "exception": null,
   "input_path": "__notebook__.ipynb",
   "output_path": "__notebook__.ipynb",
   "parameters": {},
   "start_time": "2023-09-27T05:55:49.257526",
   "version": "2.4.0"
  }
 },
 "nbformat": 4,
 "nbformat_minor": 5
}
