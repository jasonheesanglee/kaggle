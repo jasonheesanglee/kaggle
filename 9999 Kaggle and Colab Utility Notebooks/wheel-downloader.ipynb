{
 "cells": [
  {
   "cell_type": "markdown",
   "id": "1b5ecb6e",
   "metadata": {
    "papermill": {
     "duration": 0.005506,
     "end_time": "2023-10-06T07:06:41.900660",
     "exception": false,
     "start_time": "2023-10-06T07:06:41.895154",
     "status": "completed"
    },
    "tags": []
   },
   "source": [
    "<h1><center>☸️ Wheel Downloader</center></h1>"
   ]
  },
  {
   "cell_type": "code",
   "execution_count": 1,
   "id": "1edddefe",
   "metadata": {
    "_kg_hide-input": true,
    "execution": {
     "iopub.execute_input": "2023-10-06T07:06:41.912667Z",
     "iopub.status.busy": "2023-10-06T07:06:41.912137Z",
     "iopub.status.idle": "2023-10-06T07:06:41.924611Z",
     "shell.execute_reply": "2023-10-06T07:06:41.923408Z"
    },
    "papermill": {
     "duration": 0.021267,
     "end_time": "2023-10-06T07:06:41.926931",
     "exception": false,
     "start_time": "2023-10-06T07:06:41.905664",
     "status": "completed"
    },
    "tags": []
   },
   "outputs": [
    {
     "data": {
      "text/html": [
       "\n",
       "<style>\n",
       "    .button0 {\n",
       "        background-color: #3c3b6e;\n",
       "        border: none;\n",
       "        color: white;\n",
       "        padding: 8px 22px;\n",
       "        text-align: center;\n",
       "        text-decoration: none;\n",
       "        display: inline-block;\n",
       "        font-size: 16px;\n",
       "        margin: 0;\n",
       "        cursor: pointer;\n",
       "    }\n",
       "</style>\n",
       "<script>\n",
       "    function toggleInput0() {\n",
       "        var i;\n",
       "        var textCellsToHide0 = [1];\n",
       "        for (i = 0; i < document.getElementsByClassName(\"input\").length; i++) {\n",
       "            var divTag = document.getElementsByClassName(\"input\")[0]\n",
       "            var displaySetting = divTag.style.display;\n",
       "            if (displaySetting == 'none') { \n",
       "                divTag.style.display = '';\n",
       "            }\n",
       "            else { \n",
       "                divTag.style.display = 'none';\n",
       "            }\n",
       "        }\n",
       "        for (i = 0; i < document.getElementsByClassName(\"text_cell\").length; i++) {\n",
       "            var divTag = document.getElementsByClassName(\"text_cell\")[i];\n",
       "            var displaySetting = divTag.style.display;\n",
       "            if (textCellsToHide0.includes(i)) {\n",
       "                if (displaySetting == 'none') {\n",
       "                    divTag.style.display = '';\n",
       "                } else {\n",
       "                    divTag.style.display = 'none';\n",
       "                }\n",
       "            }\n",
       "        }\n",
       "        \n",
       "    }\n",
       "    function setInitialDisplay0() {\n",
       "        var textCells0 = document.getElementsByClassName(\"text_cell\");\n",
       "        {\n",
       "            textCells0[1].style.display = 'none';\n",
       "        }\n",
       "    }\n",
       "</script>\n",
       "<button onclick=\"javascript:toggleInput0()\" class=\"button0\"> Click here for the explanation </button>\n"
      ],
      "text/plain": [
       "<IPython.core.display.HTML object>"
      ]
     },
     "execution_count": 1,
     "metadata": {},
     "output_type": "execute_result"
    }
   ],
   "source": [
    "from IPython.display import HTML\n",
    "htmlCodeHIDE = \"\"\"\n",
    "<style>\n",
    "    .button0 {\n",
    "        background-color: #3c3b6e;\n",
    "        border: none;\n",
    "        color: white;\n",
    "        padding: 8px 22px;\n",
    "        text-align: center;\n",
    "        text-decoration: none;\n",
    "        display: inline-block;\n",
    "        font-size: 16px;\n",
    "        margin: 0;\n",
    "        cursor: pointer;\n",
    "    }\n",
    "</style>\n",
    "<script>\n",
    "    function toggleInput0() {\n",
    "        var i;\n",
    "        var textCellsToHide0 = [1];\n",
    "        for (i = 0; i < document.getElementsByClassName(\"input\").length; i++) {\n",
    "            var divTag = document.getElementsByClassName(\"input\")[0]\n",
    "            var displaySetting = divTag.style.display;\n",
    "            if (displaySetting == 'none') { \n",
    "                divTag.style.display = '';\n",
    "            }\n",
    "            else { \n",
    "                divTag.style.display = 'none';\n",
    "            }\n",
    "        }\n",
    "        for (i = 0; i < document.getElementsByClassName(\"text_cell\").length; i++) {\n",
    "            var divTag = document.getElementsByClassName(\"text_cell\")[i];\n",
    "            var displaySetting = divTag.style.display;\n",
    "            if (textCellsToHide0.includes(i)) {\n",
    "                if (displaySetting == 'none') {\n",
    "                    divTag.style.display = '';\n",
    "                } else {\n",
    "                    divTag.style.display = 'none';\n",
    "                }\n",
    "            }\n",
    "        }\n",
    "        \n",
    "    }\n",
    "    function setInitialDisplay0() {\n",
    "        var textCells0 = document.getElementsByClassName(\"text_cell\");\n",
    "        {\n",
    "            textCells0[1].style.display = 'none';\n",
    "        }\n",
    "    }\n",
    "</script>\n",
    "<button onclick=\"javascript:toggleInput0()\" class=\"button0\"> Click here for the explanation </button>\n",
    "\"\"\"\n",
    "HTML(htmlCodeHIDE)"
   ]
  },
  {
   "cell_type": "markdown",
   "id": "c7b9886d",
   "metadata": {
    "_kg_hide-input": false,
    "_kg_hide-output": false,
    "papermill": {
     "duration": 0.004319,
     "end_time": "2023-10-06T07:06:41.936190",
     "exception": false,
     "start_time": "2023-10-06T07:06:41.931871",
     "status": "completed"
    },
    "tags": []
   },
   "source": [
    "When you are working for a competition that doesn't allow you to use the internet, you will run in a trouble finding for a method to download the essential libraries for the competition.<br>\n",
    "I had to search for few hours to find the one right method that works.<br>\n",
    "Below is the accumulation of my search.<br><br>\n",
    "***Simply copy paste below code at the bottom cell and run all***<br> \n",
    "```\n",
    "!echo 'desired_library_name' > requirements.txt<br>\n",
    "!pip download -r requirements.txt -d wheelhouse<br>\n",
    "```\n",
    "\n",
    "If this method doesn't work because it will download `.tar.gz` file, you can either use `gzip` to unzip it or you can simply use below method to install.<br>\n",
    "First, perform the usual pip install `!pip install a-library-that-doesn't-work-with-the-method-above`.<br>\n",
    "Then find the temporary directory path from the output code, concatenate with the file name.<br>\n",
    "I will take `torch-scatter` for example.<br>\n",
    "Input code as below: <br>\n",
    "```\n",
    "!pip install torch-scatter\n",
    "```\n",
    "The output is as below: <br>\n",
    "```\n",
    "Collecting torch-scatter\n",
    "Using cached torch_scatter-2.1.1.tar.gz (107 kB)\n",
    "Preparing metadata (setup.py) ... done\n",
    "Building wheels for collected packages: torch-scatter\n",
    "Building wheel for torch-scatter (setup.py) ... done\n",
    "Created wheel for torch-scatter: filename=torch_scatter-2.1.1-cp310-cp310-linux_x86_64.whl size=492589 sha256=30bf4c5e645c34cdb201e3be99f59ad9726f51769dbba5bc6b4552e1b44075e7\n",
    "Stored in directory: /root/.cache/pip/wheels/ef/67/58/6566a3b61c6ec0f2ca0c2c324cd035ef2955601f0fb3197d5f\n",
    "Successfully built torch-scatter\n",
    "Installing collected packages: torch-scatter\n",
    "Successfully installed torch-scatter-2.1.1\n",
    "```\n",
    "From above, you will take<br>Stored in directory:<br>`/root/.cache/pip/wheels/ef/67/58/6566a3b61c6ec0f2ca0c2c324cd035ef2955601f0fb3197d5f`<br>*filename=*<br>`torch_scatter-2.1.1-cp310-cp310-linux_x86_64.whl`<br>\n",
    "<br>\n",
    "Then add `!cp` infront of all these copied location and file name, and add a space ` `, add `/kaggle/working` to specify the output directory.<br>\n",
    "As below :<br>\n",
    "\n",
    "`!cp /root/.cache/pip/wheels/ef/67/58/6566a3b61c6ec0f2ca0c2c324cd035ef2955601f0fb3197d5f/torch_scatter-2.1.1-cp310-cp310-linux_x86_64.whl /kaggle/working`\n",
    "<br>\n",
    "#### Save version, nothing more to do here.<br>\n",
    "### Go to your working notebook\n",
    "Press `Add Data` <br>\n",
    "Type \"Wheel Downloader\" or whatever name you give to this notebook and add the outputs to your notebook<br>\n",
    "<br>\n",
    "Then simply copy paste the code below:<br>\n",
    "`!pip install -q /kaggle/input/wheel-downloader/wheelhouse/whatever-version-of-your-desired-library.whl`\n",
    "<br>\n",
    "## Done\n"
   ]
  },
  {
   "cell_type": "code",
   "execution_count": 2,
   "id": "ea16343f",
   "metadata": {
    "_kg_hide-input": true,
    "execution": {
     "iopub.execute_input": "2023-10-06T07:06:41.947751Z",
     "iopub.status.busy": "2023-10-06T07:06:41.947044Z",
     "iopub.status.idle": "2023-10-06T07:06:41.955851Z",
     "shell.execute_reply": "2023-10-06T07:06:41.954535Z"
    },
    "papermill": {
     "duration": 0.017356,
     "end_time": "2023-10-06T07:06:41.958000",
     "exception": false,
     "start_time": "2023-10-06T07:06:41.940644",
     "status": "completed"
    },
    "tags": []
   },
   "outputs": [
    {
     "data": {
      "text/html": [
       "\n",
       "<style>\n",
       "    .button1 {\n",
       "        background: #CD2E3A;\n",
       "        background: -moz-linear-gradient(-45deg, #CD2E3A 0%, #CD2E3A 50%, #0F64CD 51%, #0F64CD 100%);\n",
       "        background: -webkit-linear-gradient(-45deg, #CD2E3A 0%,#CD2E3A 50%,#0F64CD 51%,#0F64CD 100%);\n",
       "        background: linear-gradient(135deg, #CD2E3A 0%,#CD2E3A 50%,#0F64CD 51%,#0F64CD 100%);\n",
       "        filter: progid:DXImageTransform.Microsoft.gradient( startColorstr='#CD2E3A', endColorstr='#0F64CD',GradientType=1 );\n",
       "        border: none;\n",
       "        color: white;\n",
       "        padding: 8px 22px;\n",
       "        text-align: center;\n",
       "        text-decoration: none;\n",
       "        display: inline-block;\n",
       "        font-size: 16px;\n",
       "        margin: 0;\n",
       "        cursor: pointer;\n",
       "    }\n",
       "\n",
       "</style>\n",
       "<script>\n",
       "    function toggleInput1() {\n",
       "        var i;\n",
       "        var textCellsToHide1 = [2];\n",
       "        for (i = 0; i < document.getElementsByClassName(\"input\").length; i++) {\n",
       "            var divTag = document.getElementsByClassName(\"input\")[1]\n",
       "            var displaySetting = divTag.style.display;\n",
       "            if (displaySetting == 'none') { \n",
       "                divTag.style.display = '';\n",
       "            }\n",
       "            else { \n",
       "                divTag.style.display = 'none';\n",
       "            }\n",
       "        }\n",
       "        for (i = 0; i < document.getElementsByClassName(\"text_cell\").length; i++) {\n",
       "            var divTag = document.getElementsByClassName(\"text_cell\")[i];\n",
       "            var displaySetting = divTag.style.display;\n",
       "            if (textCellsToHide1.includes(i)) {\n",
       "                if (displaySetting == 'none') {\n",
       "                    divTag.style.display = '';\n",
       "                } else {\n",
       "                    divTag.style.display = 'none';\n",
       "                }\n",
       "            }\n",
       "        }\n",
       "    }\n",
       "    function setInitialDisplay1() {\n",
       "        var textCells1 = document.getElementsByClassName(\"text_cell\");\n",
       "        {\n",
       "            textCells1[2].style.display = 'none';\n",
       "        }\n",
       "    }    \n",
       "</script>\n",
       "<button onclick=\"javascript:toggleInput1()\" class=\"button1\">한국어로 설명을 읽고 싶으시다면 여기를 눌러주세요</button>\n"
      ],
      "text/plain": [
       "<IPython.core.display.HTML object>"
      ]
     },
     "execution_count": 2,
     "metadata": {},
     "output_type": "execute_result"
    }
   ],
   "source": [
    "from IPython.display import HTML\n",
    "htmlCodeHide = \"\"\"\n",
    "<style>\n",
    "    .button1 {\n",
    "        background: #CD2E3A;\n",
    "        background: -moz-linear-gradient(-45deg, #CD2E3A 0%, #CD2E3A 50%, #0F64CD 51%, #0F64CD 100%);\n",
    "        background: -webkit-linear-gradient(-45deg, #CD2E3A 0%,#CD2E3A 50%,#0F64CD 51%,#0F64CD 100%);\n",
    "        background: linear-gradient(135deg, #CD2E3A 0%,#CD2E3A 50%,#0F64CD 51%,#0F64CD 100%);\n",
    "        filter: progid:DXImageTransform.Microsoft.gradient( startColorstr='#CD2E3A', endColorstr='#0F64CD',GradientType=1 );\n",
    "        border: none;\n",
    "        color: white;\n",
    "        padding: 8px 22px;\n",
    "        text-align: center;\n",
    "        text-decoration: none;\n",
    "        display: inline-block;\n",
    "        font-size: 16px;\n",
    "        margin: 0;\n",
    "        cursor: pointer;\n",
    "    }\n",
    "\n",
    "</style>\n",
    "<script>\n",
    "    function toggleInput1() {\n",
    "        var i;\n",
    "        var textCellsToHide1 = [2];\n",
    "        for (i = 0; i < document.getElementsByClassName(\"input\").length; i++) {\n",
    "            var divTag = document.getElementsByClassName(\"input\")[1]\n",
    "            var displaySetting = divTag.style.display;\n",
    "            if (displaySetting == 'none') { \n",
    "                divTag.style.display = '';\n",
    "            }\n",
    "            else { \n",
    "                divTag.style.display = 'none';\n",
    "            }\n",
    "        }\n",
    "        for (i = 0; i < document.getElementsByClassName(\"text_cell\").length; i++) {\n",
    "            var divTag = document.getElementsByClassName(\"text_cell\")[i];\n",
    "            var displaySetting = divTag.style.display;\n",
    "            if (textCellsToHide1.includes(i)) {\n",
    "                if (displaySetting == 'none') {\n",
    "                    divTag.style.display = '';\n",
    "                } else {\n",
    "                    divTag.style.display = 'none';\n",
    "                }\n",
    "            }\n",
    "        }\n",
    "    }\n",
    "    function setInitialDisplay1() {\n",
    "        var textCells1 = document.getElementsByClassName(\"text_cell\");\n",
    "        {\n",
    "            textCells1[2].style.display = 'none';\n",
    "        }\n",
    "    }    \n",
    "</script>\n",
    "<button onclick=\"javascript:toggleInput1()\" class=\"button1\">한국어로 설명을 읽고 싶으시다면 여기를 눌러주세요</button>\n",
    "\"\"\"\n",
    "HTML(htmlCodeHide)"
   ]
  },
  {
   "cell_type": "markdown",
   "id": "261a8767",
   "metadata": {
    "_kg_hide-input": false,
    "_kg_hide-output": false,
    "papermill": {
     "duration": 0.004637,
     "end_time": "2023-10-06T07:06:41.967561",
     "exception": false,
     "start_time": "2023-10-06T07:06:41.962924",
     "status": "completed"
    },
    "tags": []
   },
   "source": [
    "\n",
    "인터넷 사용이 허용되지 않는 대부분의 대회에 참가할 때, 작업에 필요한 라이브러리를 다운로드하는 방법을 찾는 데 어려움을 겪게 됩니다.<br>\n",
    "저 또한 이 부분에서 어려움을 느꼈고, 제대로 된 방법을 찾기 위해 몇 시간 동안이나 검색해봐야 했습니다.<br>\n",
    "정보가 너무 산개되어 있기에 본 노트북에 모두 정리하여 두었으니 캐글 대회를 처음 해보시는 분들께서는 참고하시면 될 것 같습니다!<br>\n",
    "***내용을 숙지하신 후 필요하신 라이브러리 추가 후 Run All을 누르시면 바로 사용 가능하실 겁니다!***\n",
    "\n",
    "먼저, 가장 간단한 방법은 아래의 코드를 복사하셔서 라이브러리 이름만 바꿔서 복붙해주시는 겁니다!\n",
    "```\n",
    "!echo '다운받으실 라이브러리' > requirements.txt\n",
    "!pip download -r requirements.txt -d wheelhouse\n",
    "```\n",
    "\n",
    "`.tar.gz` 파일을 다운로드하기 때문에 위 방법이 작동하지 않는 경우, `gzip`을 활용하여 압축을 풀어서 사용하셔도 되고, 아래 방법을 사용하여 간단히 설치하실 수도 있습니다.<br>\n",
    "먼저, 일반적인 pip 설치 방법인 `!pip install a-library-that-does-work-with-the-method-as-a-method`를 수행합니다.<br>\n",
    "그런 다음 출력 코드에서 임시 디렉토리 경로를 찾아 파일 이름과 연결합니다.\n",
    "`torch-scatter`를 예로 들어보겠습니다.<br>\n",
    "아래와 같이 입력하여 `torch-scatter`를 다운받습니다.: \n",
    "```\n",
    "!pip install torch-scatter\n",
    "```\n",
    "출력은 아래와 같이 나올겁니다!: <br>\n",
    "```\n",
    "Collecting torch-scatter\n",
    "Using cached torch_scatter-2.1.1.tar.gz (107 kB)\n",
    "Preparing metadata (setup.py) ... done\n",
    "Building wheels for collected packages: torch-scatter\n",
    "Building wheel for torch-scatter (setup.py) ... done\n",
    "Created wheel for torch-scatter: filename=torch_scatter-2.1.1-cp310-cp310-linux_x86_64.whl size=492589 sha256=30bf4c5e645c34cdb201e3be99f59ad9726f51769dbba5bc6b4552e1b44075e7\n",
    "Stored in directory: /root/.cache/pip/wheels/ef/67/58/6566a3b61c6ec0f2ca0c2c324cd035ef2955601f0fb3197d5f\n",
    "Successfully built torch-scatter\n",
    "Installing collected packages: torch-scatter\n",
    "Successfully installed torch-scatter-2.1.1\n",
    "```\n",
    "여기서 <br>\n",
    "Stored in directory: <br>\n",
    "`/root/.cache/pip/wheels/ef/67/58/6566a3b61c6ec0f2ca0c2c324cd035ef2955601f0fb3197d5f` 경로를 먼저 복사하신 후<br>\n",
    "파일 이름인 `torch_scatter-2.1.1-cp310-cp310-linux_x86_64.whl`을 복사하셔서 아래와 같이 만들어줍니다.<br>\n",
    "`/root/.cache/pip/wheels/ef/67/58/6566a3b61c6ec0f2ca0c2c324cd035ef2955601f0fb3197d5f/torch_scatter-2.1.1-cp310-cp310-linux_x86_64.whl`<br><br>\n",
    "그런 후 맨 앞에 `!cp`를 추가 후 한칸 `스페이스`, 맨 뒤에 한 칸 `스페이스` 후 `/kaggle/working/wheelhouse`를 추가하여 주시면 됩니다!<br><br>최종적으로는 아래와 같이 나오게 붙여넣어 주시면 됩니다.<br>\n",
    "`!cp /root/.cache/pip/wheels/ef/67/58/6566a3b61c6ec0f2ca0c2c324cd035ef2955601f0fb3197d5f/torch_scatter-2.1.1-cp310-cp310-linux_x86_64.whl /kaggle/working`\n",
    "\n",
    "#### 더이상 여기에서는 하실 게 없습니다. Output도 함께 저장이 되도록 Save Version을 눌러주세요.<br>\n",
    "### 작업하실 / 하고 계신 노트북으로 이동해 주세요!\n",
    "`Add Data`를 눌러주세요.<br>\n",
    "이 노트북의 제목인 \"Wheel Downloader\" 혹은 설정하신 제목을 입력해주세요.<br>\n",
    "그 후 `+` 버튼을 눌러 노트북을 `Input`에 추가하여 주세요.\n",
    "<br>\n",
    "그런 다음 다운 받아두신 라이브러리를 아래와 같은 간단한 명령어로 불러오실 수 있습니다.<br>\n",
    "`!pip install -q /kaggle/input/wheel-downloader/wheelhouse/whatever-version-of-your-desired-library.whl`\n",
    "<br>\n",
    "## 끝! \n",
    "내용이 도움이 되셨다면 저어어어어 위에 숫자 옆에 있는 ***Upvote*** (좋아요) 버튼 한번 부탁드리겠습니당ㅎㅎㅎㅎ"
   ]
  },
  {
   "cell_type": "code",
   "execution_count": 3,
   "id": "0a087ce1",
   "metadata": {
    "_kg_hide-input": true,
    "_kg_hide-output": false,
    "execution": {
     "iopub.execute_input": "2023-10-06T07:06:41.979669Z",
     "iopub.status.busy": "2023-10-06T07:06:41.978988Z",
     "iopub.status.idle": "2023-10-06T07:06:41.985926Z",
     "shell.execute_reply": "2023-10-06T07:06:41.985181Z"
    },
    "papermill": {
     "duration": 0.015411,
     "end_time": "2023-10-06T07:06:41.987783",
     "exception": false,
     "start_time": "2023-10-06T07:06:41.972372",
     "status": "completed"
    },
    "tags": []
   },
   "outputs": [
    {
     "data": {
      "text/html": [
       "\n",
       "<style>\n",
       "    .button2 {\n",
       "        background-color: #EE1C25;\n",
       "        border: none;\n",
       "        color: white;\n",
       "        padding: 8px 22px;\n",
       "        text-align: center;\n",
       "        text-decoration: none;\n",
       "        display: inline-block;\n",
       "        font-size: 16px;\n",
       "        margin: 0;\n",
       "        cursor: pointer;\n",
       "    }\n",
       "</style>\n",
       "<script>\n",
       "    function toggleInput2() {\n",
       "        var i;\n",
       "        var textCellsToHide2 = [3];\n",
       "        for (i = 0; i < document.getElementsByClassName(\"input\").length; i++) {\n",
       "            var divTag = document.getElementsByClassName(\"input\")[2]\n",
       "            var displaySetting = divTag.style.display;\n",
       "            if (displaySetting == 'none') { \n",
       "                divTag.style.display = '';\n",
       "            }\n",
       "            else { \n",
       "                divTag.style.display = 'none';\n",
       "            }\n",
       "        }\n",
       "        for (i = 0; i < document.getElementsByClassName(\"text_cell\").length; i++) {\n",
       "            var divTag = document.getElementsByClassName(\"text_cell\")[i];\n",
       "            var displaySetting = divTag.style.display;\n",
       "            if (textCellsToHide2.includes(i)) {\n",
       "                if (displaySetting == 'none') {\n",
       "                    divTag.style.display = '';\n",
       "                } else {\n",
       "                    divTag.style.display = 'none';\n",
       "                }\n",
       "            }\n",
       "        }\n",
       "        \n",
       "    }\n",
       "    function setInitialDisplay2() {\n",
       "        var textCells2 = document.getElementsByClassName(\"text_cell\");\n",
       "        {\n",
       "            textCells2[3].style.display = 'none';\n",
       "        }\n",
       "    }\n",
       "    window.onload = () => {\n",
       "    setInitialDisplay0();\n",
       "    setInitialDisplay1();\n",
       "    setInitialDisplay2();\n",
       "    }\n",
       "</script>\n",
       "<button onclick=\"javascript:toggleInput2()\" class=\"button2\"> 请按这里看中文解释 </button>\n"
      ],
      "text/plain": [
       "<IPython.core.display.HTML object>"
      ]
     },
     "execution_count": 3,
     "metadata": {},
     "output_type": "execute_result"
    }
   ],
   "source": [
    "from IPython.display import HTML\n",
    "htmlCodeHIDE = \"\"\"\n",
    "<style>\n",
    "    .button2 {\n",
    "        background-color: #EE1C25;\n",
    "        border: none;\n",
    "        color: white;\n",
    "        padding: 8px 22px;\n",
    "        text-align: center;\n",
    "        text-decoration: none;\n",
    "        display: inline-block;\n",
    "        font-size: 16px;\n",
    "        margin: 0;\n",
    "        cursor: pointer;\n",
    "    }\n",
    "</style>\n",
    "<script>\n",
    "    function toggleInput2() {\n",
    "        var i;\n",
    "        var textCellsToHide2 = [3];\n",
    "        for (i = 0; i < document.getElementsByClassName(\"input\").length; i++) {\n",
    "            var divTag = document.getElementsByClassName(\"input\")[2]\n",
    "            var displaySetting = divTag.style.display;\n",
    "            if (displaySetting == 'none') { \n",
    "                divTag.style.display = '';\n",
    "            }\n",
    "            else { \n",
    "                divTag.style.display = 'none';\n",
    "            }\n",
    "        }\n",
    "        for (i = 0; i < document.getElementsByClassName(\"text_cell\").length; i++) {\n",
    "            var divTag = document.getElementsByClassName(\"text_cell\")[i];\n",
    "            var displaySetting = divTag.style.display;\n",
    "            if (textCellsToHide2.includes(i)) {\n",
    "                if (displaySetting == 'none') {\n",
    "                    divTag.style.display = '';\n",
    "                } else {\n",
    "                    divTag.style.display = 'none';\n",
    "                }\n",
    "            }\n",
    "        }\n",
    "        \n",
    "    }\n",
    "    function setInitialDisplay2() {\n",
    "        var textCells2 = document.getElementsByClassName(\"text_cell\");\n",
    "        {\n",
    "            textCells2[3].style.display = 'none';\n",
    "        }\n",
    "    }\n",
    "    window.onload = () => {\n",
    "    setInitialDisplay0();\n",
    "    setInitialDisplay1();\n",
    "    setInitialDisplay2();\n",
    "    }\n",
    "</script>\n",
    "<button onclick=\"javascript:toggleInput2()\" class=\"button2\"> 请按这里看中文解释 </button>\n",
    "\"\"\"\n",
    "HTML(htmlCodeHIDE)"
   ]
  },
  {
   "cell_type": "markdown",
   "id": "1eed4515",
   "metadata": {
    "papermill": {
     "duration": 0.004674,
     "end_time": "2023-10-06T07:06:41.999153",
     "exception": false,
     "start_time": "2023-10-06T07:06:41.994479",
     "status": "completed"
    },
    "tags": []
   },
   "source": [
    "当你为一个不允许你使用互联网的比赛工作时，你会在寻找下载比赛必备Library的方法时遇到麻烦。<br>\n",
    "我搜索了几个小时，才找到一个正确有效的方法。\n",
    "<br>\n",
    "以下是我的搜索结果。<br><br>\n",
    "***只需将下面的Code复制粘贴到底部Cell并全部运行即可***<br> \n",
    "```\n",
    "!echo 'desired_library_name' > requirements.txt<br>\n",
    "!pip download -r requirements.txt -d wheelhouse<br>\n",
    "```\n",
    "\n",
    "如果此方法无法正常工作，因为它会下载 `.tar.gz` 文件，你可以使用 `gzip` 解压缩，或者直接使用下面的方法安装。<br>\n",
    "首先，执行常规的`!pip install a-library-that-doesn't-work-with-the-method-above`.<br>\n",
    "然后从输出代码中找到临时目录路径，与文件名连接。<br>\n",
    "我以 `torch-scatter` 为例。<br>\n",
    "输入Code如下：<br>\n",
    "```\n",
    "!pip install torch-scatter\n",
    "```\n",
    "输出结果如下: <br>\n",
    "```\n",
    "Collecting torch-scatter\n",
    "Using cached torch_scatter-2.1.1.tar.gz (107 kB)\n",
    "Preparing metadata (setup.py) ... done\n",
    "Building wheels for collected packages: torch-scatter\n",
    "Building wheel for torch-scatter (setup.py) ... done\n",
    "Created wheel for torch-scatter: filename=torch_scatter-2.1.1-cp310-cp310-linux_x86_64.whl size=492589 sha256=30bf4c5e645c34cdb201e3be99f59ad9726f51769dbba5bc6b4552e1b44075e7\n",
    "Stored in directory: /root/.cache/pip/wheels/ef/67/58/6566a3b61c6ec0f2ca0c2c324cd035ef2955601f0fb3197d5f\n",
    "Successfully built torch-scatter\n",
    "Installing collected packages: torch-scatter\n",
    "Successfully installed torch-scatter-2.1.1\n",
    "```\n",
    "从上Code中，您将看到<br>*Stored in directory:*<br>`/root/.cache/pip/wheels/ef/67/58/6566a3b61c6ec0f2ca0c2c324cd035ef2955601f0fb3197d5f`<br>*filename=*<br>`torch_scatter-2.1.1-cp310-cp310-linux_x86_64.whl`<br>\n",
    "<br>\n",
    "然后在所有这些复制的位置和文件名前添加`!cp`，并添加空格 ` `，添加`/kaggle/working`指定输出 directory。\n",
    "<br>\n",
    "如下所示：<br>\n",
    "\n",
    "`!cp /root/.cache/pip/wheels/ef/67/58/6566a3b61c6ec0f2ca0c2c324cd035ef2955601f0fb3197d5f/torch_scatter-2.1.1-cp310-cp310-linux_x86_64.whl /kaggle/working`\n",
    "<br>\n",
    "#### Save version, 这里无需再做其他操作。<br>\n",
    "### 回到您的工作笔记本\n",
    "请按 `Add Data` <br>\n",
    "键入 \"Wheel Downloader\" 或您为该Notebook起的任何名称，然后将输出添加到您的工作Notebook中。<br>\n",
    "<br>\n",
    "然后只需复制粘贴下面的Code:<br>\n",
    "`!pip install -q /kaggle/input/wheel-downloader/wheelhouse/whatever-version-of-your-desired-library.whl`\n",
    "<br>\n",
    "## 结束\n"
   ]
  },
  {
   "cell_type": "markdown",
   "id": "37d1110e",
   "metadata": {
    "papermill": {
     "duration": 0.005833,
     "end_time": "2023-10-06T07:06:42.010249",
     "exception": false,
     "start_time": "2023-10-06T07:06:42.004416",
     "status": "completed"
    },
    "tags": []
   },
   "source": [
    "<div id=\"English\"></div>\n",
    "\n",
    "## Find my other notebooks!\n",
    "### Individual Research\n",
    "[🀄 Ideogram-based vs. Phonogram-based Language](https://www.kaggle.com/code/jasonheesanglee/ideogram-based-vs-phonogram-based-language) <br>\n",
    "-> Research on processing different types of languages.\n",
    "<br>\n",
    "\n",
    "### Competition Notebooks\n",
    "***ICR***<br>-> [EDA on Greeks](https://www.kaggle.com/code/jasonheesanglee/updated-beginner-eda-on-greeks)<br>\n",
    "*This was my first in depth notebook which I tried something others didn't try.<br>\n",
    "I later found out that there were reasons why other people didn't try.*<br>\n",
    "\n",
    "***RSNA***<br>-> [RSNA23 | scale_h implementation](https://www.kaggle.com/code/jasonheesanglee/rsna23-scale-h-implementation)<br>\n",
    "*Implemented scale_h and played with numbers based on [Jake S. Brusca's notebook](https://www.kaggle.com/code/jakebrusca/rsna23-weighted-mean-baseline)*<br>\n",
    "\n",
    "***CommonLit***<br>\n",
    "-> [SpellCheck Tool Comparison](https://www.kaggle.com/code/jasonheesanglee/spellcheck-tool-comparison)<br>\n",
    "*In the beginning of this competition, I thought finding the best SpellCheck tool will be crucial to get better score.<br>\n",
    "I later found out this [discussion](https://www.kaggle.com/competitions/commonlit-evaluate-student-summaries/discussion/431432), competition host saying spelling and grammar mistakes are not part of the rubric...<br>\n",
    "Well... At least I tried.*\n",
    "\n",
    "-> [MobileBERT Implementation](https://www.kaggle.com/code/jasonheesanglee/en-mobilebert-implementation?scriptVersionId=143760569)<br>\n",
    "*In this notebook, I tried to implement MobileBERT to match the purpose of the competition; Making teachers' job easier.<br>\n",
    "However, I failed for the first attempt, and currently buidling the teacher model on my other working station.<br>\n",
    "I will update the notebook with the teacher model once completed*"
   ]
  },
  {
   "cell_type": "markdown",
   "id": "2b7aca49",
   "metadata": {
    "papermill": {
     "duration": 0.004906,
     "end_time": "2023-10-06T07:06:42.020251",
     "exception": false,
     "start_time": "2023-10-06T07:06:42.015345",
     "status": "completed"
    },
    "tags": []
   },
   "source": [
    "# wheelhouse method\n",
    "We can create more folders inside for classification :)"
   ]
  },
  {
   "cell_type": "code",
   "execution_count": 4,
   "id": "4ae5e2e6",
   "metadata": {
    "execution": {
     "iopub.execute_input": "2023-10-06T07:06:42.032778Z",
     "iopub.status.busy": "2023-10-06T07:06:42.032078Z",
     "iopub.status.idle": "2023-10-06T07:06:47.612270Z",
     "shell.execute_reply": "2023-10-06T07:06:47.610494Z"
    },
    "papermill": {
     "duration": 5.589915,
     "end_time": "2023-10-06T07:06:47.615209",
     "exception": false,
     "start_time": "2023-10-06T07:06:42.025294",
     "status": "completed"
    },
    "tags": []
   },
   "outputs": [],
   "source": [
    "###################################################\n",
    "####### Unless you know what you are doing ########\n",
    "############ do not modify this cell ##############\n",
    "############ 뭔가 알고 하시는게 아니라면  ################\n",
    "############ 이 부분은 건드리지 말아주세요 ###############\n",
    "############# 除非您知道自己在做什么 #################\n",
    "############### 请不要改这个 Cell ###################\n",
    "###################################################\n",
    "\n",
    "!mkdir wheelhouse\n",
    "!mkdir wheelhouse/ML\n",
    "!mkdir wheelhouse/DL\n",
    "!mkdir wheelhouse/NLP\n",
    "!mkdir wheelhouse/CV"
   ]
  },
  {
   "cell_type": "code",
   "execution_count": 5,
   "id": "569daf3d",
   "metadata": {
    "execution": {
     "iopub.execute_input": "2023-10-06T07:06:47.629710Z",
     "iopub.status.busy": "2023-10-06T07:06:47.628902Z",
     "iopub.status.idle": "2023-10-06T07:06:58.124756Z",
     "shell.execute_reply": "2023-10-06T07:06:58.123303Z"
    },
    "papermill": {
     "duration": 10.50606,
     "end_time": "2023-10-06T07:06:58.127661",
     "exception": false,
     "start_time": "2023-10-06T07:06:47.621601",
     "status": "completed"
    },
    "tags": []
   },
   "outputs": [
    {
     "name": "stdout",
     "output_type": "stream",
     "text": [
      "python_gdcm\r\n",
      "Collecting python_gdcm (from -r requirements.txt (line 1))\r\n",
      "  Downloading python_gdcm-3.0.22-cp310-cp310-manylinux_2_17_x86_64.manylinux2014_x86_64.whl (13.0 MB)\r\n",
      "\u001b[2K     \u001b[90m━━━━━━━━━━━━━━━━━━━━━━━━━━━━━━━━━━━━━━━━\u001b[0m \u001b[32m13.0/13.0 MB\u001b[0m \u001b[31m37.3 MB/s\u001b[0m eta \u001b[36m0:00:00\u001b[0m\r\n",
      "\u001b[?25hSaved ./wheelhouse/CV/python_gdcm-3.0.22-cp310-cp310-manylinux_2_17_x86_64.manylinux2014_x86_64.whl\r\n",
      "Successfully downloaded python_gdcm\r\n"
     ]
    }
   ],
   "source": [
    "!echo 'python_gdcm' > requirements.txt\n",
    "!cat requirements.txt\n",
    "!pip download -r requirements.txt -d wheelhouse/CV"
   ]
  },
  {
   "cell_type": "code",
   "execution_count": 6,
   "id": "da4b94bb",
   "metadata": {
    "execution": {
     "iopub.execute_input": "2023-10-06T07:06:58.142074Z",
     "iopub.status.busy": "2023-10-06T07:06:58.141644Z",
     "iopub.status.idle": "2023-10-06T07:07:02.567729Z",
     "shell.execute_reply": "2023-10-06T07:07:02.566200Z"
    },
    "papermill": {
     "duration": 4.436711,
     "end_time": "2023-10-06T07:07:02.570402",
     "exception": false,
     "start_time": "2023-10-06T07:06:58.133691",
     "status": "completed"
    },
    "tags": []
   },
   "outputs": [
    {
     "name": "stdout",
     "output_type": "stream",
     "text": [
      "Collecting pylibjpeg (from -r requirements.txt (line 1))\r\n",
      "  Downloading pylibjpeg-1.4.0-py3-none-any.whl (28 kB)\r\n",
      "Collecting numpy (from pylibjpeg->-r requirements.txt (line 1))\r\n",
      "  Downloading numpy-1.26.0-cp310-cp310-manylinux_2_17_x86_64.manylinux2014_x86_64.whl (18.2 MB)\r\n",
      "\u001b[2K     \u001b[90m━━━━━━━━━━━━━━━━━━━━━━━━━━━━━━━━━━━━━━━━\u001b[0m \u001b[32m18.2/18.2 MB\u001b[0m \u001b[31m38.9 MB/s\u001b[0m eta \u001b[36m0:00:00\u001b[0m\r\n",
      "\u001b[?25hSaved ./wheelhouse/CV/pylibjpeg-1.4.0-py3-none-any.whl\r\n",
      "Saved ./wheelhouse/CV/numpy-1.26.0-cp310-cp310-manylinux_2_17_x86_64.manylinux2014_x86_64.whl\r\n",
      "Successfully downloaded pylibjpeg numpy\r\n"
     ]
    }
   ],
   "source": [
    "!echo 'pylibjpeg' > requirements.txt\n",
    "!pip download -r requirements.txt -d wheelhouse/CV"
   ]
  },
  {
   "cell_type": "code",
   "execution_count": 7,
   "id": "2700edb8",
   "metadata": {
    "execution": {
     "iopub.execute_input": "2023-10-06T07:07:02.585766Z",
     "iopub.status.busy": "2023-10-06T07:07:02.585381Z",
     "iopub.status.idle": "2023-10-06T07:07:20.868658Z",
     "shell.execute_reply": "2023-10-06T07:07:20.866933Z"
    },
    "papermill": {
     "duration": 18.294364,
     "end_time": "2023-10-06T07:07:20.871394",
     "exception": false,
     "start_time": "2023-10-06T07:07:02.577030",
     "status": "completed"
    },
    "tags": []
   },
   "outputs": [
    {
     "name": "stdout",
     "output_type": "stream",
     "text": [
      "Collecting symspellpy (from -r requirements.txt (line 1))\r\n",
      "  Downloading symspellpy-6.7.7-py3-none-any.whl (2.6 MB)\r\n",
      "\u001b[2K     \u001b[90m━━━━━━━━━━━━━━━━━━━━━━━━━━━━━━━━━━━━━━━━\u001b[0m \u001b[32m2.6/2.6 MB\u001b[0m \u001b[31m18.8 MB/s\u001b[0m eta \u001b[36m0:00:00\u001b[0m\r\n",
      "\u001b[?25hCollecting editdistpy>=0.1.3 (from symspellpy->-r requirements.txt (line 1))\r\n",
      "  Downloading editdistpy-0.1.3.tar.gz (57 kB)\r\n",
      "\u001b[2K     \u001b[90m━━━━━━━━━━━━━━━━━━━━━━━━━━━━━━━━━━━━━━━━\u001b[0m \u001b[32m57.2/57.2 kB\u001b[0m \u001b[31m3.7 MB/s\u001b[0m eta \u001b[36m0:00:00\u001b[0m\r\n",
      "\u001b[?25h  Installing build dependencies ... \u001b[?25l-\b \b\\\b \b|\b \b/\b \b-\b \bdone\r\n",
      "\u001b[?25h  Getting requirements to build wheel ... \u001b[?25l-\b \b\\\b \b|\b \bdone\r\n",
      "\u001b[?25h  Preparing metadata (pyproject.toml) ... \u001b[?25l-\b \b\\\b \bdone\r\n",
      "\u001b[?25hSaved ./wheelhouse/NLP/symspellpy-6.7.7-py3-none-any.whl\r\n",
      "Saved ./wheelhouse/NLP/editdistpy-0.1.3.tar.gz\r\n",
      "Successfully downloaded symspellpy editdistpy\r\n"
     ]
    }
   ],
   "source": [
    "!echo 'symspellpy' > requirements.txt\n",
    "!pip download -r requirements.txt -d wheelhouse/NLP"
   ]
  },
  {
   "cell_type": "code",
   "execution_count": 8,
   "id": "393d22ec",
   "metadata": {
    "execution": {
     "iopub.execute_input": "2023-10-06T07:07:20.888476Z",
     "iopub.status.busy": "2023-10-06T07:07:20.888014Z",
     "iopub.status.idle": "2023-10-06T07:07:28.383398Z",
     "shell.execute_reply": "2023-10-06T07:07:28.382325Z"
    },
    "papermill": {
     "duration": 7.507187,
     "end_time": "2023-10-06T07:07:28.386115",
     "exception": false,
     "start_time": "2023-10-06T07:07:20.878928",
     "status": "completed"
    },
    "tags": []
   },
   "outputs": [
    {
     "name": "stdout",
     "output_type": "stream",
     "text": [
      "Collecting pyspellchecker (from -r requirements.txt (line 1))\r\n",
      "  Downloading pyspellchecker-0.7.2-py3-none-any.whl (3.4 MB)\r\n",
      "\u001b[2K     \u001b[90m━━━━━━━━━━━━━━━━━━━━━━━━━━━━━━━━━━━━━━━━\u001b[0m \u001b[32m3.4/3.4 MB\u001b[0m \u001b[31m37.4 MB/s\u001b[0m eta \u001b[36m0:00:00\u001b[0m\r\n",
      "\u001b[?25hSaved ./wheelhouse/NLP/pyspellchecker-0.7.2-py3-none-any.whl\r\n",
      "Successfully downloaded pyspellchecker\r\n"
     ]
    }
   ],
   "source": [
    "!echo 'pyspellchecker' > requirements.txt\n",
    "!pip download -r requirements.txt -d wheelhouse/NLP"
   ]
  },
  {
   "cell_type": "code",
   "execution_count": 9,
   "id": "1655872b",
   "metadata": {
    "execution": {
     "iopub.execute_input": "2023-10-06T07:07:28.404329Z",
     "iopub.status.busy": "2023-10-06T07:07:28.403561Z",
     "iopub.status.idle": "2023-10-06T07:07:31.970756Z",
     "shell.execute_reply": "2023-10-06T07:07:31.969183Z"
    },
    "papermill": {
     "duration": 3.579612,
     "end_time": "2023-10-06T07:07:31.973626",
     "exception": false,
     "start_time": "2023-10-06T07:07:28.394014",
     "status": "completed"
    },
    "tags": []
   },
   "outputs": [
    {
     "name": "stdout",
     "output_type": "stream",
     "text": [
      "Collecting dicomsdl (from -r requirements.txt (line 1))\r\n",
      "  Downloading dicomsdl-0.109.2-cp310-cp310-manylinux_2_12_x86_64.manylinux2010_x86_64.whl (1.4 MB)\r\n",
      "\u001b[2K     \u001b[90m━━━━━━━━━━━━━━━━━━━━━━━━━━━━━━━━━━━━━━━━\u001b[0m \u001b[32m1.4/1.4 MB\u001b[0m \u001b[31m23.9 MB/s\u001b[0m eta \u001b[36m0:00:00\u001b[0m\r\n",
      "\u001b[?25hSaved ./wheelhouse/CV/dicomsdl-0.109.2-cp310-cp310-manylinux_2_12_x86_64.manylinux2010_x86_64.whl\r\n",
      "Successfully downloaded dicomsdl\r\n"
     ]
    }
   ],
   "source": [
    "!echo 'dicomsdl' > requirements.txt\n",
    "!pip download -r requirements.txt -d wheelhouse/CV"
   ]
  },
  {
   "cell_type": "markdown",
   "id": "a8958def",
   "metadata": {
    "papermill": {
     "duration": 0.007755,
     "end_time": "2023-10-06T07:07:31.989357",
     "exception": false,
     "start_time": "2023-10-06T07:07:31.981602",
     "status": "completed"
    },
    "tags": []
   },
   "source": [
    "# !pip install method\n",
    "\n",
    "***Note***: You will need to `!pip install ~~~` in a single cell to check the path and the file name.<br>\n",
    "Then move on to the next cell and do `!cp`"
   ]
  },
  {
   "cell_type": "code",
   "execution_count": 10,
   "id": "5763dde0",
   "metadata": {
    "execution": {
     "iopub.execute_input": "2023-10-06T07:07:32.008121Z",
     "iopub.status.busy": "2023-10-06T07:07:32.007541Z",
     "iopub.status.idle": "2023-10-06T07:07:57.013827Z",
     "shell.execute_reply": "2023-10-06T07:07:57.011647Z"
    },
    "papermill": {
     "duration": 25.019956,
     "end_time": "2023-10-06T07:07:57.017101",
     "exception": false,
     "start_time": "2023-10-06T07:07:31.997145",
     "status": "completed"
    },
    "tags": []
   },
   "outputs": [
    {
     "name": "stdout",
     "output_type": "stream",
     "text": [
      "Collecting torch-geometric\r\n",
      "  Downloading torch_geometric-2.3.1.tar.gz (661 kB)\r\n",
      "\u001b[2K     \u001b[90m━━━━━━━━━━━━━━━━━━━━━━━━━━━━━━━━━━━━━━\u001b[0m \u001b[32m661.6/661.6 kB\u001b[0m \u001b[31m12.4 MB/s\u001b[0m eta \u001b[36m0:00:00\u001b[0m\r\n",
      "\u001b[?25h  Installing build dependencies ... \u001b[?25l-\b \b\\\b \b|\b \bdone\r\n",
      "\u001b[?25h  Getting requirements to build wheel ... \u001b[?25l-\b \bdone\r\n",
      "\u001b[?25h  Preparing metadata (pyproject.toml) ... \u001b[?25l-\b \bdone\r\n",
      "\u001b[?25hRequirement already satisfied: tqdm in /opt/conda/lib/python3.10/site-packages (from torch-geometric) (4.65.0)\r\n",
      "Requirement already satisfied: numpy in /opt/conda/lib/python3.10/site-packages (from torch-geometric) (1.23.5)\r\n",
      "Requirement already satisfied: scipy in /opt/conda/lib/python3.10/site-packages (from torch-geometric) (1.11.1)\r\n",
      "Requirement already satisfied: jinja2 in /opt/conda/lib/python3.10/site-packages (from torch-geometric) (3.1.2)\r\n",
      "Requirement already satisfied: requests in /opt/conda/lib/python3.10/site-packages (from torch-geometric) (2.31.0)\r\n",
      "Requirement already satisfied: pyparsing in /opt/conda/lib/python3.10/site-packages (from torch-geometric) (3.0.9)\r\n",
      "Requirement already satisfied: scikit-learn in /opt/conda/lib/python3.10/site-packages (from torch-geometric) (1.2.2)\r\n",
      "Requirement already satisfied: psutil>=5.8.0 in /opt/conda/lib/python3.10/site-packages (from torch-geometric) (5.9.3)\r\n",
      "Requirement already satisfied: MarkupSafe>=2.0 in /opt/conda/lib/python3.10/site-packages (from jinja2->torch-geometric) (2.1.3)\r\n",
      "Requirement already satisfied: charset-normalizer<4,>=2 in /opt/conda/lib/python3.10/site-packages (from requests->torch-geometric) (3.1.0)\r\n",
      "Requirement already satisfied: idna<4,>=2.5 in /opt/conda/lib/python3.10/site-packages (from requests->torch-geometric) (3.4)\r\n",
      "Requirement already satisfied: urllib3<3,>=1.21.1 in /opt/conda/lib/python3.10/site-packages (from requests->torch-geometric) (1.26.15)\r\n",
      "Requirement already satisfied: certifi>=2017.4.17 in /opt/conda/lib/python3.10/site-packages (from requests->torch-geometric) (2023.5.7)\r\n",
      "Requirement already satisfied: joblib>=1.1.1 in /opt/conda/lib/python3.10/site-packages (from scikit-learn->torch-geometric) (1.2.0)\r\n",
      "Requirement already satisfied: threadpoolctl>=2.0.0 in /opt/conda/lib/python3.10/site-packages (from scikit-learn->torch-geometric) (3.1.0)\r\n",
      "Building wheels for collected packages: torch-geometric\r\n",
      "  Building wheel for torch-geometric (pyproject.toml) ... \u001b[?25l-\b \b\\\b \b|\b \b/\b \b-\b \b\\\b \bdone\r\n",
      "\u001b[?25h  Created wheel for torch-geometric: filename=torch_geometric-2.3.1-py3-none-any.whl size=910454 sha256=91666bd37ea6cad7e599b12aa42fc74d3901e201ebd7081fedc481135fd23322\r\n",
      "  Stored in directory: /root/.cache/pip/wheels/ac/dc/30/e2874821ff308ee67dcd7a66dbde912411e19e35a1addda028\r\n",
      "Successfully built torch-geometric\r\n",
      "Installing collected packages: torch-geometric\r\n",
      "Successfully installed torch-geometric-2.3.1\r\n"
     ]
    }
   ],
   "source": [
    "!pip install torch-geometric\n",
    "!cp /root/.cache/pip/wheels/ac/dc/30/e2874821ff308ee67dcd7a66dbde912411e19e35a1addda028/torch_geometric-2.3.1-py3-none-any.whl /kaggle/working/wheelhouse/DL"
   ]
  },
  {
   "cell_type": "code",
   "execution_count": 11,
   "id": "901f1341",
   "metadata": {
    "execution": {
     "iopub.execute_input": "2023-10-06T07:07:57.038164Z",
     "iopub.status.busy": "2023-10-06T07:07:57.037713Z",
     "iopub.status.idle": "2023-10-06T07:12:48.638479Z",
     "shell.execute_reply": "2023-10-06T07:12:48.636993Z"
    },
    "papermill": {
     "duration": 291.614545,
     "end_time": "2023-10-06T07:12:48.641028",
     "exception": false,
     "start_time": "2023-10-06T07:07:57.026483",
     "status": "completed"
    },
    "tags": []
   },
   "outputs": [
    {
     "name": "stdout",
     "output_type": "stream",
     "text": [
      "Collecting torch-scatter\r\n",
      "  Downloading torch_scatter-2.1.1.tar.gz (107 kB)\r\n",
      "\u001b[2K     \u001b[90m━━━━━━━━━━━━━━━━━━━━━━━━━━━━━━━━━━━━━━━\u001b[0m \u001b[32m107.6/107.6 kB\u001b[0m \u001b[31m4.2 MB/s\u001b[0m eta \u001b[36m0:00:00\u001b[0m\r\n",
      "\u001b[?25h  Preparing metadata (setup.py) ... \u001b[?25l-\b \b\\\b \bdone\r\n",
      "\u001b[?25hBuilding wheels for collected packages: torch-scatter\r\n",
      "  Building wheel for torch-scatter (setup.py) ... \u001b[?25l-\b \b\\\b \b|\b \b/\b \b-\b \b\\\b \b|\b \b/\b \b-\b \b\\\b \b|\b \b/\b \b-\b \bdone\r\n",
      "\u001b[?25h  Created wheel for torch-scatter: filename=torch_scatter-2.1.1-cp310-cp310-linux_x86_64.whl size=492589 sha256=c712cd8adc76696331cfe734af98b1bdf6d9c9aa5acccbba5a634f66cdf7d0d4\r\n",
      "  Stored in directory: /root/.cache/pip/wheels/ef/67/58/6566a3b61c6ec0f2ca0c2c324cd035ef2955601f0fb3197d5f\r\n",
      "Successfully built torch-scatter\r\n",
      "Installing collected packages: torch-scatter\r\n",
      "Successfully installed torch-scatter-2.1.1\r\n"
     ]
    }
   ],
   "source": [
    "!pip install torch-scatter\n",
    "!cp /root/.cache/pip/wheels/ef/67/58/6566a3b61c6ec0f2ca0c2c324cd035ef2955601f0fb3197d5f/torch_scatter-2.1.1-cp310-cp310-linux_x86_64.whl /kaggle/working/wheelhouse/DL"
   ]
  },
  {
   "cell_type": "code",
   "execution_count": 12,
   "id": "26efbda1",
   "metadata": {
    "execution": {
     "iopub.execute_input": "2023-10-06T07:12:48.664398Z",
     "iopub.status.busy": "2023-10-06T07:12:48.663659Z",
     "iopub.status.idle": "2023-10-06T07:13:18.382653Z",
     "shell.execute_reply": "2023-10-06T07:13:18.380582Z"
    },
    "papermill": {
     "duration": 29.734033,
     "end_time": "2023-10-06T07:13:18.385648",
     "exception": false,
     "start_time": "2023-10-06T07:12:48.651615",
     "status": "completed"
    },
    "tags": []
   },
   "outputs": [
    {
     "name": "stdout",
     "output_type": "stream",
     "text": [
      "Collecting editdistpy\r\n",
      "  Using cached editdistpy-0.1.3.tar.gz (57 kB)\r\n",
      "  Installing build dependencies ... \u001b[?25l-\b \b\\\b \b|\b \b/\b \bdone\r\n",
      "\u001b[?25h  Getting requirements to build wheel ... \u001b[?25l-\b \b\\\b \b|\b \bdone\r\n",
      "\u001b[?25h  Preparing metadata (pyproject.toml) ... \u001b[?25l-\b \b\\\b \bdone\r\n",
      "\u001b[?25hBuilding wheels for collected packages: editdistpy\r\n",
      "  Building wheel for editdistpy (pyproject.toml) ... \u001b[?25l-\b \b\\\b \b|\b \b/\b \b-\b \b\\\b \b|\b \bdone\r\n",
      "\u001b[?25h  Created wheel for editdistpy: filename=editdistpy-0.1.3-cp310-cp310-linux_x86_64.whl size=50409 sha256=9d2c551877fad34ecf3c9efbcf777dc390165c5d26276643df65a414d7a950c2\r\n",
      "  Stored in directory: /root/.cache/pip/wheels/88/6a/a6/a1283cc145323a1fb3d475bd158ee60b248ab1985230d266fc\r\n",
      "Successfully built editdistpy\r\n",
      "Installing collected packages: editdistpy\r\n",
      "Successfully installed editdistpy-0.1.3\r\n"
     ]
    }
   ],
   "source": [
    "!pip install editdistpy\n",
    "!cp /root/.cache/pip/wheels/88/6a/a6/a1283cc145323a1fb3d475bd158ee60b248ab1985230d266fc/editdistpy-0.1.3-cp310-cp310-linux_x86_64.whl /kaggle/working/wheelhouse/NLP"
   ]
  },
  {
   "cell_type": "code",
   "execution_count": null,
   "id": "9f69ae74",
   "metadata": {
    "papermill": {
     "duration": 0.011206,
     "end_time": "2023-10-06T07:13:18.408671",
     "exception": false,
     "start_time": "2023-10-06T07:13:18.397465",
     "status": "completed"
    },
    "tags": []
   },
   "outputs": [],
   "source": []
  }
 ],
 "metadata": {
  "kernelspec": {
   "display_name": "Python 3",
   "language": "python",
   "name": "python3"
  },
  "language_info": {
   "codemirror_mode": {
    "name": "ipython",
    "version": 3
   },
   "file_extension": ".py",
   "mimetype": "text/x-python",
   "name": "python",
   "nbconvert_exporter": "python",
   "pygments_lexer": "ipython3",
   "version": "3.10.12"
  },
  "papermill": {
   "default_parameters": {},
   "duration": 413.024682,
   "end_time": "2023-10-06T07:13:19.647633",
   "environment_variables": {},
   "exception": null,
   "input_path": "__notebook__.ipynb",
   "output_path": "__notebook__.ipynb",
   "parameters": {},
   "start_time": "2023-10-06T07:06:26.622951",
   "version": "2.4.0"
  }
 },
 "nbformat": 4,
 "nbformat_minor": 5
}
