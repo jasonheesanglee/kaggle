{
 "cells": [
  {
   "cell_type": "markdown",
   "id": "9e769e61",
   "metadata": {
    "papermill": {
     "duration": 0.005761,
     "end_time": "2023-10-06T16:17:53.048955",
     "exception": false,
     "start_time": "2023-10-06T16:17:53.043194",
     "status": "completed"
    },
    "tags": []
   },
   "source": [
    "**If you find this notebook useful, please give an upvote xD**<br>\n",
    "**Thanks!**"
   ]
  },
  {
   "cell_type": "markdown",
   "id": "07d6409b",
   "metadata": {
    "papermill": {
     "duration": 0.004168,
     "end_time": "2023-10-06T16:17:53.057985",
     "exception": false,
     "start_time": "2023-10-06T16:17:53.053817",
     "status": "completed"
    },
    "tags": []
   },
   "source": [
    "# Weighted Mean Baseline\n",
    "\n",
    "**Goal:** Create a simple baseline using a constant prediction for all test sample. This will come from the mean value of each target variable scaled by proposed sample weights: \n",
    "\n",
    "- 1 for all healthy labels.\n",
    "- 2 for low grade solid organ injuries (liver, spleen, kidney).\n",
    "- 4 for high grade solid organ injuries.\n",
    "- 2 for bowel injuries.\n",
    "- 6 for extravasation.\n",
    "- 6 for the auto-generated any_injury label.\n",
    "\n",
    "In addition, we provide a method to evaluate the score for the training data and investigate alternative scale factors. This will be used to highlight the challenges of unbalanced data and weighted scoring metrics. "
   ]
  },
  {
   "cell_type": "markdown",
   "id": "8cf4dc94",
   "metadata": {
    "papermill": {
     "duration": 0.004142,
     "end_time": "2023-10-06T16:17:53.067064",
     "exception": false,
     "start_time": "2023-10-06T16:17:53.062922",
     "status": "completed"
    },
    "tags": []
   },
   "source": [
    "# Imports"
   ]
  },
  {
   "cell_type": "code",
   "execution_count": 1,
   "id": "2f3d72eb",
   "metadata": {
    "_cell_guid": "b1076dfc-b9ad-4769-8c92-a6c4dae69d19",
    "_uuid": "8f2839f25d086af736a60e9eeb907d3b93b6e0e5",
    "execution": {
     "iopub.execute_input": "2023-10-06T16:17:53.077706Z",
     "iopub.status.busy": "2023-10-06T16:17:53.077308Z",
     "iopub.status.idle": "2023-10-06T16:17:54.454094Z",
     "shell.execute_reply": "2023-10-06T16:17:54.453143Z"
    },
    "papermill": {
     "duration": 1.38495,
     "end_time": "2023-10-06T16:17:54.456472",
     "exception": false,
     "start_time": "2023-10-06T16:17:53.071522",
     "status": "completed"
    },
    "tags": []
   },
   "outputs": [
    {
     "name": "stderr",
     "output_type": "stream",
     "text": [
      "/opt/conda/lib/python3.10/site-packages/scipy/__init__.py:146: UserWarning: A NumPy version >=1.16.5 and <1.23.0 is required for this version of SciPy (detected version 1.23.5\n",
      "  warnings.warn(f\"A NumPy version >={np_minversion} and <{np_maxversion}\"\n"
     ]
    }
   ],
   "source": [
    "import numpy as np\n",
    "import pandas as pd\n",
    "import pandas.api.types\n",
    "import sklearn.metrics"
   ]
  },
  {
   "cell_type": "markdown",
   "id": "3249874d",
   "metadata": {
    "papermill": {
     "duration": 0.004247,
     "end_time": "2023-10-06T16:17:54.465408",
     "exception": false,
     "start_time": "2023-10-06T16:17:54.461161",
     "status": "completed"
    },
    "tags": []
   },
   "source": [
    "# Load Data"
   ]
  },
  {
   "cell_type": "code",
   "execution_count": 2,
   "id": "6dce69a9",
   "metadata": {
    "execution": {
     "iopub.execute_input": "2023-10-06T16:17:54.478338Z",
     "iopub.status.busy": "2023-10-06T16:17:54.477538Z",
     "iopub.status.idle": "2023-10-06T16:17:54.523143Z",
     "shell.execute_reply": "2023-10-06T16:17:54.521980Z"
    },
    "papermill": {
     "duration": 0.053839,
     "end_time": "2023-10-06T16:17:54.525259",
     "exception": false,
     "start_time": "2023-10-06T16:17:54.471420",
     "status": "completed"
    },
    "tags": []
   },
   "outputs": [
    {
     "data": {
      "text/html": [
       "<div>\n",
       "<style scoped>\n",
       "    .dataframe tbody tr th:only-of-type {\n",
       "        vertical-align: middle;\n",
       "    }\n",
       "\n",
       "    .dataframe tbody tr th {\n",
       "        vertical-align: top;\n",
       "    }\n",
       "\n",
       "    .dataframe thead th {\n",
       "        text-align: right;\n",
       "    }\n",
       "</style>\n",
       "<table border=\"1\" class=\"dataframe\">\n",
       "  <thead>\n",
       "    <tr style=\"text-align: right;\">\n",
       "      <th></th>\n",
       "      <th>patient_id</th>\n",
       "      <th>bowel_healthy</th>\n",
       "      <th>bowel_injury</th>\n",
       "      <th>extravasation_healthy</th>\n",
       "      <th>extravasation_injury</th>\n",
       "      <th>kidney_healthy</th>\n",
       "      <th>kidney_low</th>\n",
       "      <th>kidney_high</th>\n",
       "      <th>liver_healthy</th>\n",
       "      <th>liver_low</th>\n",
       "      <th>liver_high</th>\n",
       "      <th>spleen_healthy</th>\n",
       "      <th>spleen_low</th>\n",
       "      <th>spleen_high</th>\n",
       "      <th>any_injury</th>\n",
       "    </tr>\n",
       "  </thead>\n",
       "  <tbody>\n",
       "    <tr>\n",
       "      <th>0</th>\n",
       "      <td>10004</td>\n",
       "      <td>1</td>\n",
       "      <td>0</td>\n",
       "      <td>0</td>\n",
       "      <td>1</td>\n",
       "      <td>0</td>\n",
       "      <td>1</td>\n",
       "      <td>0</td>\n",
       "      <td>1</td>\n",
       "      <td>0</td>\n",
       "      <td>0</td>\n",
       "      <td>0</td>\n",
       "      <td>0</td>\n",
       "      <td>1</td>\n",
       "      <td>1</td>\n",
       "    </tr>\n",
       "    <tr>\n",
       "      <th>1</th>\n",
       "      <td>10005</td>\n",
       "      <td>1</td>\n",
       "      <td>0</td>\n",
       "      <td>1</td>\n",
       "      <td>0</td>\n",
       "      <td>1</td>\n",
       "      <td>0</td>\n",
       "      <td>0</td>\n",
       "      <td>1</td>\n",
       "      <td>0</td>\n",
       "      <td>0</td>\n",
       "      <td>1</td>\n",
       "      <td>0</td>\n",
       "      <td>0</td>\n",
       "      <td>0</td>\n",
       "    </tr>\n",
       "    <tr>\n",
       "      <th>2</th>\n",
       "      <td>10007</td>\n",
       "      <td>1</td>\n",
       "      <td>0</td>\n",
       "      <td>1</td>\n",
       "      <td>0</td>\n",
       "      <td>1</td>\n",
       "      <td>0</td>\n",
       "      <td>0</td>\n",
       "      <td>1</td>\n",
       "      <td>0</td>\n",
       "      <td>0</td>\n",
       "      <td>1</td>\n",
       "      <td>0</td>\n",
       "      <td>0</td>\n",
       "      <td>0</td>\n",
       "    </tr>\n",
       "    <tr>\n",
       "      <th>3</th>\n",
       "      <td>10026</td>\n",
       "      <td>1</td>\n",
       "      <td>0</td>\n",
       "      <td>1</td>\n",
       "      <td>0</td>\n",
       "      <td>1</td>\n",
       "      <td>0</td>\n",
       "      <td>0</td>\n",
       "      <td>1</td>\n",
       "      <td>0</td>\n",
       "      <td>0</td>\n",
       "      <td>1</td>\n",
       "      <td>0</td>\n",
       "      <td>0</td>\n",
       "      <td>0</td>\n",
       "    </tr>\n",
       "    <tr>\n",
       "      <th>4</th>\n",
       "      <td>10051</td>\n",
       "      <td>1</td>\n",
       "      <td>0</td>\n",
       "      <td>1</td>\n",
       "      <td>0</td>\n",
       "      <td>1</td>\n",
       "      <td>0</td>\n",
       "      <td>0</td>\n",
       "      <td>1</td>\n",
       "      <td>0</td>\n",
       "      <td>0</td>\n",
       "      <td>0</td>\n",
       "      <td>1</td>\n",
       "      <td>0</td>\n",
       "      <td>1</td>\n",
       "    </tr>\n",
       "  </tbody>\n",
       "</table>\n",
       "</div>"
      ],
      "text/plain": [
       "   patient_id  bowel_healthy  bowel_injury  extravasation_healthy  \\\n",
       "0       10004              1             0                      0   \n",
       "1       10005              1             0                      1   \n",
       "2       10007              1             0                      1   \n",
       "3       10026              1             0                      1   \n",
       "4       10051              1             0                      1   \n",
       "\n",
       "   extravasation_injury  kidney_healthy  kidney_low  kidney_high  \\\n",
       "0                     1               0           1            0   \n",
       "1                     0               1           0            0   \n",
       "2                     0               1           0            0   \n",
       "3                     0               1           0            0   \n",
       "4                     0               1           0            0   \n",
       "\n",
       "   liver_healthy  liver_low  liver_high  spleen_healthy  spleen_low  \\\n",
       "0              1          0           0               0           0   \n",
       "1              1          0           0               1           0   \n",
       "2              1          0           0               1           0   \n",
       "3              1          0           0               1           0   \n",
       "4              1          0           0               0           1   \n",
       "\n",
       "   spleen_high  any_injury  \n",
       "0            1           1  \n",
       "1            0           0  \n",
       "2            0           0  \n",
       "3            0           0  \n",
       "4            0           1  "
      ]
     },
     "execution_count": 2,
     "metadata": {},
     "output_type": "execute_result"
    }
   ],
   "source": [
    "# Only requires the training target data. \n",
    "y_train = pd.read_csv('/kaggle/input/rsna-2023-abdominal-trauma-detection/train.csv')\n",
    "\n",
    "y_train.head()"
   ]
  },
  {
   "cell_type": "code",
   "execution_count": 3,
   "id": "25bb2443",
   "metadata": {
    "execution": {
     "iopub.execute_input": "2023-10-06T16:17:54.537024Z",
     "iopub.status.busy": "2023-10-06T16:17:54.536655Z",
     "iopub.status.idle": "2023-10-06T16:17:54.543211Z",
     "shell.execute_reply": "2023-10-06T16:17:54.541633Z"
    },
    "papermill": {
     "duration": 0.016233,
     "end_time": "2023-10-06T16:17:54.546343",
     "exception": false,
     "start_time": "2023-10-06T16:17:54.530110",
     "status": "completed"
    },
    "tags": []
   },
   "outputs": [],
   "source": [
    "# List of Targets\n",
    "Injuries = ['bowel_healthy', 'bowel_injury', \n",
    "            'extravasation_healthy', 'extravasation_injury', \n",
    "            'kidney_healthy', 'kidney_low', 'kidney_high', \n",
    "            'liver_healthy', 'liver_low', 'liver_high', \n",
    "            'spleen_healthy', 'spleen_low', 'spleen_high', \n",
    "            'any_injury']"
   ]
  },
  {
   "cell_type": "markdown",
   "id": "5a1d26f4",
   "metadata": {
    "papermill": {
     "duration": 0.004555,
     "end_time": "2023-10-06T16:17:54.556656",
     "exception": false,
     "start_time": "2023-10-06T16:17:54.552101",
     "status": "completed"
    },
    "tags": []
   },
   "source": [
    "# Target EDA"
   ]
  },
  {
   "cell_type": "code",
   "execution_count": 4,
   "id": "84b0da96",
   "metadata": {
    "execution": {
     "iopub.execute_input": "2023-10-06T16:17:54.567919Z",
     "iopub.status.busy": "2023-10-06T16:17:54.567550Z",
     "iopub.status.idle": "2023-10-06T16:17:54.626691Z",
     "shell.execute_reply": "2023-10-06T16:17:54.625640Z"
    },
    "papermill": {
     "duration": 0.067505,
     "end_time": "2023-10-06T16:17:54.629045",
     "exception": false,
     "start_time": "2023-10-06T16:17:54.561540",
     "status": "completed"
    },
    "tags": []
   },
   "outputs": [
    {
     "data": {
      "text/html": [
       "<div>\n",
       "<style scoped>\n",
       "    .dataframe tbody tr th:only-of-type {\n",
       "        vertical-align: middle;\n",
       "    }\n",
       "\n",
       "    .dataframe tbody tr th {\n",
       "        vertical-align: top;\n",
       "    }\n",
       "\n",
       "    .dataframe thead th {\n",
       "        text-align: right;\n",
       "    }\n",
       "</style>\n",
       "<table border=\"1\" class=\"dataframe\">\n",
       "  <thead>\n",
       "    <tr style=\"text-align: right;\">\n",
       "      <th></th>\n",
       "      <th>bowel_healthy</th>\n",
       "      <th>bowel_injury</th>\n",
       "      <th>extravasation_healthy</th>\n",
       "      <th>extravasation_injury</th>\n",
       "      <th>kidney_healthy</th>\n",
       "      <th>kidney_low</th>\n",
       "      <th>kidney_high</th>\n",
       "      <th>liver_healthy</th>\n",
       "      <th>liver_low</th>\n",
       "      <th>liver_high</th>\n",
       "      <th>spleen_healthy</th>\n",
       "      <th>spleen_low</th>\n",
       "      <th>spleen_high</th>\n",
       "      <th>any_injury</th>\n",
       "    </tr>\n",
       "  </thead>\n",
       "  <tbody>\n",
       "    <tr>\n",
       "      <th>count</th>\n",
       "      <td>3147.000000</td>\n",
       "      <td>3147.000000</td>\n",
       "      <td>3147.000000</td>\n",
       "      <td>3147.000000</td>\n",
       "      <td>3147.000000</td>\n",
       "      <td>3147.000000</td>\n",
       "      <td>3147.000000</td>\n",
       "      <td>3147.000000</td>\n",
       "      <td>3147.000000</td>\n",
       "      <td>3147.000000</td>\n",
       "      <td>3147.000000</td>\n",
       "      <td>3147.000000</td>\n",
       "      <td>3147.000000</td>\n",
       "      <td>3147.000000</td>\n",
       "    </tr>\n",
       "    <tr>\n",
       "      <th>mean</th>\n",
       "      <td>0.979663</td>\n",
       "      <td>0.020337</td>\n",
       "      <td>0.936447</td>\n",
       "      <td>0.063553</td>\n",
       "      <td>0.942167</td>\n",
       "      <td>0.036543</td>\n",
       "      <td>0.021290</td>\n",
       "      <td>0.897998</td>\n",
       "      <td>0.082301</td>\n",
       "      <td>0.019701</td>\n",
       "      <td>0.887512</td>\n",
       "      <td>0.063235</td>\n",
       "      <td>0.049253</td>\n",
       "      <td>0.271687</td>\n",
       "    </tr>\n",
       "    <tr>\n",
       "      <th>std</th>\n",
       "      <td>0.141172</td>\n",
       "      <td>0.141172</td>\n",
       "      <td>0.243993</td>\n",
       "      <td>0.243993</td>\n",
       "      <td>0.233464</td>\n",
       "      <td>0.187666</td>\n",
       "      <td>0.144373</td>\n",
       "      <td>0.302699</td>\n",
       "      <td>0.274866</td>\n",
       "      <td>0.138994</td>\n",
       "      <td>0.316016</td>\n",
       "      <td>0.243424</td>\n",
       "      <td>0.216431</td>\n",
       "      <td>0.444900</td>\n",
       "    </tr>\n",
       "    <tr>\n",
       "      <th>min</th>\n",
       "      <td>0.000000</td>\n",
       "      <td>0.000000</td>\n",
       "      <td>0.000000</td>\n",
       "      <td>0.000000</td>\n",
       "      <td>0.000000</td>\n",
       "      <td>0.000000</td>\n",
       "      <td>0.000000</td>\n",
       "      <td>0.000000</td>\n",
       "      <td>0.000000</td>\n",
       "      <td>0.000000</td>\n",
       "      <td>0.000000</td>\n",
       "      <td>0.000000</td>\n",
       "      <td>0.000000</td>\n",
       "      <td>0.000000</td>\n",
       "    </tr>\n",
       "    <tr>\n",
       "      <th>25%</th>\n",
       "      <td>1.000000</td>\n",
       "      <td>0.000000</td>\n",
       "      <td>1.000000</td>\n",
       "      <td>0.000000</td>\n",
       "      <td>1.000000</td>\n",
       "      <td>0.000000</td>\n",
       "      <td>0.000000</td>\n",
       "      <td>1.000000</td>\n",
       "      <td>0.000000</td>\n",
       "      <td>0.000000</td>\n",
       "      <td>1.000000</td>\n",
       "      <td>0.000000</td>\n",
       "      <td>0.000000</td>\n",
       "      <td>0.000000</td>\n",
       "    </tr>\n",
       "    <tr>\n",
       "      <th>50%</th>\n",
       "      <td>1.000000</td>\n",
       "      <td>0.000000</td>\n",
       "      <td>1.000000</td>\n",
       "      <td>0.000000</td>\n",
       "      <td>1.000000</td>\n",
       "      <td>0.000000</td>\n",
       "      <td>0.000000</td>\n",
       "      <td>1.000000</td>\n",
       "      <td>0.000000</td>\n",
       "      <td>0.000000</td>\n",
       "      <td>1.000000</td>\n",
       "      <td>0.000000</td>\n",
       "      <td>0.000000</td>\n",
       "      <td>0.000000</td>\n",
       "    </tr>\n",
       "    <tr>\n",
       "      <th>75%</th>\n",
       "      <td>1.000000</td>\n",
       "      <td>0.000000</td>\n",
       "      <td>1.000000</td>\n",
       "      <td>0.000000</td>\n",
       "      <td>1.000000</td>\n",
       "      <td>0.000000</td>\n",
       "      <td>0.000000</td>\n",
       "      <td>1.000000</td>\n",
       "      <td>0.000000</td>\n",
       "      <td>0.000000</td>\n",
       "      <td>1.000000</td>\n",
       "      <td>0.000000</td>\n",
       "      <td>0.000000</td>\n",
       "      <td>1.000000</td>\n",
       "    </tr>\n",
       "    <tr>\n",
       "      <th>max</th>\n",
       "      <td>1.000000</td>\n",
       "      <td>1.000000</td>\n",
       "      <td>1.000000</td>\n",
       "      <td>1.000000</td>\n",
       "      <td>1.000000</td>\n",
       "      <td>1.000000</td>\n",
       "      <td>1.000000</td>\n",
       "      <td>1.000000</td>\n",
       "      <td>1.000000</td>\n",
       "      <td>1.000000</td>\n",
       "      <td>1.000000</td>\n",
       "      <td>1.000000</td>\n",
       "      <td>1.000000</td>\n",
       "      <td>1.000000</td>\n",
       "    </tr>\n",
       "  </tbody>\n",
       "</table>\n",
       "</div>"
      ],
      "text/plain": [
       "       bowel_healthy  bowel_injury  extravasation_healthy  \\\n",
       "count    3147.000000   3147.000000            3147.000000   \n",
       "mean        0.979663      0.020337               0.936447   \n",
       "std         0.141172      0.141172               0.243993   \n",
       "min         0.000000      0.000000               0.000000   \n",
       "25%         1.000000      0.000000               1.000000   \n",
       "50%         1.000000      0.000000               1.000000   \n",
       "75%         1.000000      0.000000               1.000000   \n",
       "max         1.000000      1.000000               1.000000   \n",
       "\n",
       "       extravasation_injury  kidney_healthy   kidney_low  kidney_high  \\\n",
       "count           3147.000000     3147.000000  3147.000000  3147.000000   \n",
       "mean               0.063553        0.942167     0.036543     0.021290   \n",
       "std                0.243993        0.233464     0.187666     0.144373   \n",
       "min                0.000000        0.000000     0.000000     0.000000   \n",
       "25%                0.000000        1.000000     0.000000     0.000000   \n",
       "50%                0.000000        1.000000     0.000000     0.000000   \n",
       "75%                0.000000        1.000000     0.000000     0.000000   \n",
       "max                1.000000        1.000000     1.000000     1.000000   \n",
       "\n",
       "       liver_healthy    liver_low   liver_high  spleen_healthy   spleen_low  \\\n",
       "count    3147.000000  3147.000000  3147.000000     3147.000000  3147.000000   \n",
       "mean        0.897998     0.082301     0.019701        0.887512     0.063235   \n",
       "std         0.302699     0.274866     0.138994        0.316016     0.243424   \n",
       "min         0.000000     0.000000     0.000000        0.000000     0.000000   \n",
       "25%         1.000000     0.000000     0.000000        1.000000     0.000000   \n",
       "50%         1.000000     0.000000     0.000000        1.000000     0.000000   \n",
       "75%         1.000000     0.000000     0.000000        1.000000     0.000000   \n",
       "max         1.000000     1.000000     1.000000        1.000000     1.000000   \n",
       "\n",
       "       spleen_high   any_injury  \n",
       "count  3147.000000  3147.000000  \n",
       "mean      0.049253     0.271687  \n",
       "std       0.216431     0.444900  \n",
       "min       0.000000     0.000000  \n",
       "25%       0.000000     0.000000  \n",
       "50%       0.000000     0.000000  \n",
       "75%       0.000000     1.000000  \n",
       "max       1.000000     1.000000  "
      ]
     },
     "execution_count": 4,
     "metadata": {},
     "output_type": "execute_result"
    }
   ],
   "source": [
    "y_train[Injuries].describe()"
   ]
  },
  {
   "cell_type": "markdown",
   "id": "84acda9a",
   "metadata": {
    "papermill": {
     "duration": 0.004874,
     "end_time": "2023-10-06T16:17:54.639134",
     "exception": false,
     "start_time": "2023-10-06T16:17:54.634260",
     "status": "completed"
    },
    "tags": []
   },
   "source": [
    "# [Score](https://www.kaggle.com/code/metric/rsna-trauma-metric/notebook)"
   ]
  },
  {
   "cell_type": "code",
   "execution_count": 5,
   "id": "acaed6b3",
   "metadata": {
    "execution": {
     "iopub.execute_input": "2023-10-06T16:17:54.651227Z",
     "iopub.status.busy": "2023-10-06T16:17:54.650888Z",
     "iopub.status.idle": "2023-10-06T16:17:54.663036Z",
     "shell.execute_reply": "2023-10-06T16:17:54.661971Z"
    },
    "papermill": {
     "duration": 0.020803,
     "end_time": "2023-10-06T16:17:54.664934",
     "exception": false,
     "start_time": "2023-10-06T16:17:54.644131",
     "status": "completed"
    },
    "tags": []
   },
   "outputs": [],
   "source": [
    "# I'm not sure if this is needed!\n",
    "# class ParticipantVisibleError(Exception):\n",
    "#     pass\n",
    "\n",
    "def normalize_probabilities_to_one(df: pd.DataFrame, group_columns: list) -> pd.DataFrame:\n",
    "    # Normalize the sum of each row's probabilities to 100%.\n",
    "    # 0.75, 0.75 => 0.5, 0.5\n",
    "    # 0.1, 0.1 => 0.5, 0.5\n",
    "    row_totals = df[group_columns].sum(axis=1)\n",
    "    if row_totals.min() == 0:\n",
    "        raise ParticipantVisibleError('All rows must contain at least one non-zero prediction')\n",
    "    for col in group_columns:\n",
    "        df[col] /= row_totals\n",
    "    return df\n",
    "\n",
    "\n",
    "def score(solution: pd.DataFrame, submission: pd.DataFrame, row_id_column_name: str) -> float:\n",
    "    '''\n",
    "    Pseudocode:\n",
    "    1. For every label group (liver, bowel, etc):\n",
    "        - Normalize the sum of each row's probabilities to 100%.\n",
    "        - Calculate the sample weighted log loss.\n",
    "    2. Derive a new any_injury label by taking the max of 1 - p(healthy) for each label group\n",
    "    3. Calculate the sample weighted log loss for the new label group\n",
    "    4. Return the average of all of the label group log losses as the final score.\n",
    "    '''\n",
    "    del solution[row_id_column_name]\n",
    "    del submission[row_id_column_name]\n",
    "\n",
    "    # Run basic QC checks on the inputs\n",
    "    if not pandas.api.types.is_numeric_dtype(submission.values):\n",
    "        raise ParticipantVisibleError('All submission values must be numeric')\n",
    "\n",
    "    if not np.isfinite(submission.values).all():\n",
    "        raise ParticipantVisibleError('All submission values must be finite')\n",
    "\n",
    "    if solution.min().min() < 0:\n",
    "        raise ParticipantVisibleError('All labels must be at least zero')\n",
    "    if submission.min().min() < 0:\n",
    "        raise ParticipantVisibleError('All predictions must be at least zero')\n",
    "\n",
    "    # Calculate the label group log losses\n",
    "    binary_targets = ['bowel', 'extravasation']\n",
    "    triple_level_targets = ['kidney', 'liver', 'spleen']\n",
    "    all_target_categories = binary_targets + triple_level_targets\n",
    "\n",
    "    label_group_losses = []\n",
    "    for category in all_target_categories:\n",
    "        if category in binary_targets:\n",
    "            col_group = [f'{category}_healthy', f'{category}_injury']\n",
    "        else:\n",
    "            col_group = [f'{category}_healthy', f'{category}_low', f'{category}_high']\n",
    "\n",
    "        solution = normalize_probabilities_to_one(solution, col_group)\n",
    "\n",
    "        for col in col_group:\n",
    "            if col not in submission.columns:\n",
    "                raise ParticipantVisibleError(f'Missing submission column {col}')\n",
    "        submission = normalize_probabilities_to_one(submission, col_group)\n",
    "        label_group_losses.append(\n",
    "            sklearn.metrics.log_loss(\n",
    "                y_true=solution[col_group].values,\n",
    "                y_pred=submission[col_group].values,\n",
    "                sample_weight=solution[f'{category}_weight'].values\n",
    "            )\n",
    "        )\n",
    "\n",
    "    # Derive a new any_injury label by taking the max of 1 - p(healthy) for each label group\n",
    "    healthy_cols = [x + '_healthy' for x in all_target_categories]\n",
    "    any_injury_labels = (1 - solution[healthy_cols]).max(axis=1)\n",
    "    any_injury_predictions = (1 - submission[healthy_cols]).max(axis=1)\n",
    "    any_injury_loss = sklearn.metrics.log_loss(\n",
    "        y_true=any_injury_labels.values,\n",
    "        y_pred=any_injury_predictions.values,\n",
    "        sample_weight=solution['any_injury_weight'].values\n",
    "    )\n",
    "\n",
    "    label_group_losses.append(any_injury_loss)\n",
    "    return np.mean(label_group_losses)"
   ]
  },
  {
   "cell_type": "markdown",
   "id": "31c77fac",
   "metadata": {
    "papermill": {
     "duration": 0.004857,
     "end_time": "2023-10-06T16:17:54.675274",
     "exception": false,
     "start_time": "2023-10-06T16:17:54.670417",
     "status": "completed"
    },
    "tags": []
   },
   "source": [
    "In order to evaluate the score, the appropriate weights need to be assigned. The score function defined above expects sample weights for each category of injury (bowel, extravasation, kidney, liver, spleen, any). The sample weight is assigned based on the true target for a given category. For example, if a sample has a low grade kidney injury, then \n",
    "\n",
    "    [kidney_healthy, kidney_low, kidney_high] = [0,1,0]\n",
    "\n",
    "and we would set kidney_weight = 2 for for that sample."
   ]
  },
  {
   "cell_type": "code",
   "execution_count": 6,
   "id": "020d3eb8",
   "metadata": {
    "execution": {
     "iopub.execute_input": "2023-10-06T16:17:54.687212Z",
     "iopub.status.busy": "2023-10-06T16:17:54.686868Z",
     "iopub.status.idle": "2023-10-06T16:17:54.693883Z",
     "shell.execute_reply": "2023-10-06T16:17:54.692784Z"
    },
    "papermill": {
     "duration": 0.015551,
     "end_time": "2023-10-06T16:17:54.695932",
     "exception": false,
     "start_time": "2023-10-06T16:17:54.680381",
     "status": "completed"
    },
    "tags": []
   },
   "outputs": [],
   "source": [
    "# Assign the appropriate weights to each category\n",
    "def create_training_solution(y_train):\n",
    "    sol_train = y_train.copy()\n",
    "    \n",
    "    # bowel healthy|injury sample weight = 1|2\n",
    "    sol_train['bowel_weight'] = np.where(sol_train['bowel_injury'] == 1, 2, 1)\n",
    "    \n",
    "    # extravasation healthy/injury sample weight = 1|6\n",
    "    sol_train['extravasation_weight'] = np.where(sol_train['extravasation_injury'] == 1, 6, 1)\n",
    "    \n",
    "    # kidney healthy|low|high sample weight = 1|2|4\n",
    "    sol_train['kidney_weight'] = np.where(sol_train['kidney_low'] == 1, 2, np.where(sol_train['kidney_high'] == 1, 4, 1))\n",
    "    \n",
    "    # liver healthy|low|high sample weight = 1|2|4\n",
    "    sol_train['liver_weight'] = np.where(sol_train['liver_low'] == 1, 2, np.where(sol_train['liver_high'] == 1, 4, 1))\n",
    "    \n",
    "    # spleen healthy|low|high sample weight = 1|2|4\n",
    "    sol_train['spleen_weight'] = np.where(sol_train['spleen_low'] == 1, 2, np.where(sol_train['spleen_high'] == 1, 4, 1))\n",
    "    \n",
    "    # any healthy|injury sample weight = 1|6\n",
    "    sol_train['any_injury_weight'] = np.where(sol_train['any_injury'] == 1, 6, 1)\n",
    "    return sol_train"
   ]
  },
  {
   "cell_type": "code",
   "execution_count": 7,
   "id": "99fc3215",
   "metadata": {
    "execution": {
     "iopub.execute_input": "2023-10-06T16:17:54.708589Z",
     "iopub.status.busy": "2023-10-06T16:17:54.708167Z",
     "iopub.status.idle": "2023-10-06T16:17:54.788795Z",
     "shell.execute_reply": "2023-10-06T16:17:54.787606Z"
    },
    "papermill": {
     "duration": 0.090186,
     "end_time": "2023-10-06T16:17:54.791251",
     "exception": false,
     "start_time": "2023-10-06T16:17:54.701065",
     "status": "completed"
    },
    "tags": []
   },
   "outputs": [
    {
     "name": "stdout",
     "output_type": "stream",
     "text": [
      "Training score without scaling: 0.7860663285561644\n"
     ]
    }
   ],
   "source": [
    "solution_train = create_training_solution(y_train)\n",
    "\n",
    "# predict a constant using the mean of the training data\n",
    "y_pred = y_train.copy()\n",
    "y_pred[Injuries] = y_train[Injuries].mean().tolist()\n",
    "\n",
    "no_scale_score = score(solution_train,y_pred,'patient_id')\n",
    "print(f'Training score without scaling: {no_scale_score}')"
   ]
  },
  {
   "cell_type": "markdown",
   "id": "123edaca",
   "metadata": {
    "papermill": {
     "duration": 0.004929,
     "end_time": "2023-10-06T16:17:54.801636",
     "exception": false,
     "start_time": "2023-10-06T16:17:54.796707",
     "status": "completed"
    },
    "tags": []
   },
   "source": [
    "Because the score weighs each target differently, we expect that the score can be improved by scaling by each target by their respective weight. "
   ]
  },
  {
   "cell_type": "code",
   "execution_count": 8,
   "id": "4c978973",
   "metadata": {
    "execution": {
     "iopub.execute_input": "2023-10-06T16:17:54.814096Z",
     "iopub.status.busy": "2023-10-06T16:17:54.813756Z",
     "iopub.status.idle": "2023-10-06T16:17:54.890332Z",
     "shell.execute_reply": "2023-10-06T16:17:54.889151Z"
    },
    "papermill": {
     "duration": 0.085486,
     "end_time": "2023-10-06T16:17:54.892722",
     "exception": false,
     "start_time": "2023-10-06T16:17:54.807236",
     "status": "completed"
    },
    "tags": []
   },
   "outputs": [
    {
     "name": "stdout",
     "output_type": "stream",
     "text": [
      "Training score with weight scaling: 0.6134849721304003\n"
     ]
    }
   ],
   "source": [
    "# Group by different sample weights\n",
    "scale_by_2 = ['liver_low','spleen_low','kidney_low','spleen_high'] # \n",
    "scale_by_4 = ['bowel_injury', 'kidney_high', 'liver_high'] # \n",
    "scale_by_6 = ['extravasation_injury'] # ,'any_injury'\n",
    "scale_healthy = ['kidney_healthy', 'bowel_healthy'] # ', 'extravasation_healthy','liver_healthy', 'spleen_healthy'\n",
    "\n",
    "# Scale factors based on described metric \n",
    "\n",
    "MULTIPLIER = 0.9859079\n",
    "\n",
    "# MULTIPLIER NEXT = 0.0.995908001\n",
    "# MULTIPLIER BEST = 0.995908\n",
    "# MULTIPLIER DONE = 0.985908, 0.99590805, 0.995908001, 0.9959080000000001, 0.995907999999999, 0.99590799, 0.99590801, 0.9959079, 0.9959081, 0.9959082, 0.9959087, 0.995906, 0.995907, 0.995909, 0.9959085, 0.995913, 0.995905, 0.995915, 0.99999999, 0.98989999, 0.978645131, 0.998856151, 0.999153158, 1.015196, 1.005318, 0.97453, 0.987543, 0.99591\n",
    "\n",
    "sf_2 = 2.753135 * MULTIPLIER\n",
    "sf_4 = 6.7531358 * MULTIPLIER\n",
    "sf_6 = 28.78613121 * MULTIPLIER\n",
    "scale_h = 0.995215 * MULTIPLIER\n",
    "\n",
    "\n",
    "# The score function deletes the ID column so we remake it\n",
    "solution_train = create_training_solution(y_train)\n",
    "\n",
    "# Reset the prediction\n",
    "y_pred = y_train.copy()\n",
    "y_pred[Injuries] = y_train[Injuries].mean().tolist()\n",
    "\n",
    "# Scale each target \n",
    "y_pred[scale_by_2] *=sf_2\n",
    "y_pred[scale_by_4] *=sf_4\n",
    "y_pred[scale_by_6] *=sf_6\n",
    "y_pred[scale_healthy] *=scale_h\n",
    "\n",
    "weight_scale_score = score(solution_train,y_pred,'patient_id')\n",
    "print(f'Training score with weight scaling: {weight_scale_score}')"
   ]
  },
  {
   "cell_type": "markdown",
   "id": "df34255a",
   "metadata": {
    "papermill": {
     "duration": 0.004941,
     "end_time": "2023-10-06T16:17:54.903043",
     "exception": false,
     "start_time": "2023-10-06T16:17:54.898102",
     "status": "completed"
    },
    "tags": []
   },
   "source": [
    "We can do even better by increasing the scale factors. We will investigate one alternative option. The goal is to highlight that the most accurate prediction doesn't necessarily give the highest score!"
   ]
  },
  {
   "cell_type": "code",
   "execution_count": 9,
   "id": "9fbf387d",
   "metadata": {
    "execution": {
     "iopub.execute_input": "2023-10-06T16:17:54.915869Z",
     "iopub.status.busy": "2023-10-06T16:17:54.914777Z",
     "iopub.status.idle": "2023-10-06T16:17:54.989468Z",
     "shell.execute_reply": "2023-10-06T16:17:54.988383Z"
    },
    "papermill": {
     "duration": 0.083317,
     "end_time": "2023-10-06T16:17:54.991597",
     "exception": false,
     "start_time": "2023-10-06T16:17:54.908280",
     "status": "completed"
    },
    "tags": []
   },
   "outputs": [
    {
     "name": "stdout",
     "output_type": "stream",
     "text": [
      "Training score with better scaling: 0.6134849721304003\n"
     ]
    }
   ],
   "source": [
    "# Update scale factors to improve score\n",
    "# sf_2 = 2\n",
    "# sf_4 = 4\n",
    "# sf_6 = 14\n",
    "\n",
    "# The score function deletes the ID column so we remake it\n",
    "solution_train = create_training_solution(y_train)\n",
    "\n",
    "# Reset the prediction, again\n",
    "y_pred = y_train.copy()\n",
    "y_pred[Injuries] = y_train[Injuries].mean().tolist()\n",
    "\n",
    "# Scale each target \n",
    "y_pred[scale_by_2] *=sf_2\n",
    "y_pred[scale_by_4] *=sf_4\n",
    "y_pred[scale_by_6] *=sf_6\n",
    "y_pred[scale_healthy] *=scale_h\n",
    "\n",
    "improved_scale_score = score(solution_train,y_pred,'patient_id')\n",
    "print(f'Training score with better scaling: {improved_scale_score}')"
   ]
  },
  {
   "cell_type": "markdown",
   "id": "84450c95",
   "metadata": {
    "papermill": {
     "duration": 0.005214,
     "end_time": "2023-10-06T16:17:55.002136",
     "exception": false,
     "start_time": "2023-10-06T16:17:54.996922",
     "status": "completed"
    },
    "tags": []
   },
   "source": [
    "We will stick with this choice of scale factors as it appears to be better. Note, this appears to be near the optimal choice of scale factors for the mean, it is not necessarily the optimal choice of constant solution even for the training data. The optimal choice may given equal scaling to each injury which should have the same weight!\n",
    "\n",
    "When producing proper predictions, a constant scale factor may not be the optimal choice!"
   ]
  },
  {
   "cell_type": "markdown",
   "id": "c4e5dc98",
   "metadata": {
    "papermill": {
     "duration": 0.004975,
     "end_time": "2023-10-06T16:17:55.012480",
     "exception": false,
     "start_time": "2023-10-06T16:17:55.007505",
     "status": "completed"
    },
    "tags": []
   },
   "source": [
    "# Submission"
   ]
  },
  {
   "cell_type": "code",
   "execution_count": 10,
   "id": "c78ae97b",
   "metadata": {
    "execution": {
     "iopub.execute_input": "2023-10-06T16:17:55.024933Z",
     "iopub.status.busy": "2023-10-06T16:17:55.024166Z",
     "iopub.status.idle": "2023-10-06T16:17:55.051207Z",
     "shell.execute_reply": "2023-10-06T16:17:55.049719Z"
    },
    "papermill": {
     "duration": 0.036525,
     "end_time": "2023-10-06T16:17:55.054202",
     "exception": false,
     "start_time": "2023-10-06T16:17:55.017677",
     "status": "completed"
    },
    "tags": []
   },
   "outputs": [],
   "source": [
    "# Load submission template \n",
    "submission = pd.read_csv('/kaggle/input/rsna-2023-abdominal-trauma-detection/sample_submission.csv')\n",
    "\n",
    "# Set output to mean of training data\n",
    "submission[Injuries] = y_train[Injuries].mean().tolist()\n",
    "\n",
    "# Scale each category by desired scale factor\n",
    "submission[scale_by_2] *=sf_2\n",
    "submission[scale_by_4] *=sf_4\n",
    "submission[scale_by_6] *=sf_6\n",
    "submission[scale_healthy] *=scale_h\n",
    "\n",
    "# Save Submission!\n",
    "submission.to_csv('submission.csv', index=False)"
   ]
  },
  {
   "cell_type": "code",
   "execution_count": 11,
   "id": "c72a4dc5",
   "metadata": {
    "execution": {
     "iopub.execute_input": "2023-10-06T16:17:55.067307Z",
     "iopub.status.busy": "2023-10-06T16:17:55.066732Z",
     "iopub.status.idle": "2023-10-06T16:17:55.083307Z",
     "shell.execute_reply": "2023-10-06T16:17:55.082188Z"
    },
    "papermill": {
     "duration": 0.025816,
     "end_time": "2023-10-06T16:17:55.085695",
     "exception": false,
     "start_time": "2023-10-06T16:17:55.059879",
     "status": "completed"
    },
    "tags": []
   },
   "outputs": [
    {
     "data": {
      "text/html": [
       "<div>\n",
       "<style scoped>\n",
       "    .dataframe tbody tr th:only-of-type {\n",
       "        vertical-align: middle;\n",
       "    }\n",
       "\n",
       "    .dataframe tbody tr th {\n",
       "        vertical-align: top;\n",
       "    }\n",
       "\n",
       "    .dataframe thead th {\n",
       "        text-align: right;\n",
       "    }\n",
       "</style>\n",
       "<table border=\"1\" class=\"dataframe\">\n",
       "  <thead>\n",
       "    <tr style=\"text-align: right;\">\n",
       "      <th></th>\n",
       "      <th>patient_id</th>\n",
       "      <th>bowel_healthy</th>\n",
       "      <th>bowel_injury</th>\n",
       "      <th>extravasation_healthy</th>\n",
       "      <th>extravasation_injury</th>\n",
       "      <th>kidney_healthy</th>\n",
       "      <th>kidney_low</th>\n",
       "      <th>kidney_high</th>\n",
       "      <th>liver_healthy</th>\n",
       "      <th>liver_low</th>\n",
       "      <th>liver_high</th>\n",
       "      <th>spleen_healthy</th>\n",
       "      <th>spleen_low</th>\n",
       "      <th>spleen_high</th>\n",
       "      <th>any_injury</th>\n",
       "    </tr>\n",
       "  </thead>\n",
       "  <tbody>\n",
       "    <tr>\n",
       "      <th>0</th>\n",
       "      <td>48843</td>\n",
       "      <td>0.961236</td>\n",
       "      <td>0.135402</td>\n",
       "      <td>0.936447</td>\n",
       "      <td>1.803653</td>\n",
       "      <td>0.924445</td>\n",
       "      <td>0.099189</td>\n",
       "      <td>0.141749</td>\n",
       "      <td>0.897998</td>\n",
       "      <td>0.223392</td>\n",
       "      <td>0.131171</td>\n",
       "      <td>0.887512</td>\n",
       "      <td>0.171641</td>\n",
       "      <td>0.13369</td>\n",
       "      <td>0.271687</td>\n",
       "    </tr>\n",
       "    <tr>\n",
       "      <th>1</th>\n",
       "      <td>50046</td>\n",
       "      <td>0.961236</td>\n",
       "      <td>0.135402</td>\n",
       "      <td>0.936447</td>\n",
       "      <td>1.803653</td>\n",
       "      <td>0.924445</td>\n",
       "      <td>0.099189</td>\n",
       "      <td>0.141749</td>\n",
       "      <td>0.897998</td>\n",
       "      <td>0.223392</td>\n",
       "      <td>0.131171</td>\n",
       "      <td>0.887512</td>\n",
       "      <td>0.171641</td>\n",
       "      <td>0.13369</td>\n",
       "      <td>0.271687</td>\n",
       "    </tr>\n",
       "    <tr>\n",
       "      <th>2</th>\n",
       "      <td>63706</td>\n",
       "      <td>0.961236</td>\n",
       "      <td>0.135402</td>\n",
       "      <td>0.936447</td>\n",
       "      <td>1.803653</td>\n",
       "      <td>0.924445</td>\n",
       "      <td>0.099189</td>\n",
       "      <td>0.141749</td>\n",
       "      <td>0.897998</td>\n",
       "      <td>0.223392</td>\n",
       "      <td>0.131171</td>\n",
       "      <td>0.887512</td>\n",
       "      <td>0.171641</td>\n",
       "      <td>0.13369</td>\n",
       "      <td>0.271687</td>\n",
       "    </tr>\n",
       "  </tbody>\n",
       "</table>\n",
       "</div>"
      ],
      "text/plain": [
       "   patient_id  bowel_healthy  bowel_injury  extravasation_healthy  \\\n",
       "0       48843       0.961236      0.135402               0.936447   \n",
       "1       50046       0.961236      0.135402               0.936447   \n",
       "2       63706       0.961236      0.135402               0.936447   \n",
       "\n",
       "   extravasation_injury  kidney_healthy  kidney_low  kidney_high  \\\n",
       "0              1.803653        0.924445    0.099189     0.141749   \n",
       "1              1.803653        0.924445    0.099189     0.141749   \n",
       "2              1.803653        0.924445    0.099189     0.141749   \n",
       "\n",
       "   liver_healthy  liver_low  liver_high  spleen_healthy  spleen_low  \\\n",
       "0       0.897998   0.223392    0.131171        0.887512    0.171641   \n",
       "1       0.897998   0.223392    0.131171        0.887512    0.171641   \n",
       "2       0.897998   0.223392    0.131171        0.887512    0.171641   \n",
       "\n",
       "   spleen_high  any_injury  \n",
       "0      0.13369    0.271687  \n",
       "1      0.13369    0.271687  \n",
       "2      0.13369    0.271687  "
      ]
     },
     "execution_count": 11,
     "metadata": {},
     "output_type": "execute_result"
    }
   ],
   "source": [
    "submission"
   ]
  },
  {
   "cell_type": "code",
   "execution_count": null,
   "id": "26d6553d",
   "metadata": {
    "papermill": {
     "duration": 0.005205,
     "end_time": "2023-10-06T16:17:55.096464",
     "exception": false,
     "start_time": "2023-10-06T16:17:55.091259",
     "status": "completed"
    },
    "tags": []
   },
   "outputs": [],
   "source": []
  }
 ],
 "metadata": {
  "kernelspec": {
   "display_name": "Python 3",
   "language": "python",
   "name": "python3"
  },
  "language_info": {
   "codemirror_mode": {
    "name": "ipython",
    "version": 3
   },
   "file_extension": ".py",
   "mimetype": "text/x-python",
   "name": "python",
   "nbconvert_exporter": "python",
   "pygments_lexer": "ipython3",
   "version": "3.10.12"
  },
  "papermill": {
   "default_parameters": {},
   "duration": 13.142732,
   "end_time": "2023-10-06T16:17:56.023833",
   "environment_variables": {},
   "exception": null,
   "input_path": "__notebook__.ipynb",
   "output_path": "__notebook__.ipynb",
   "parameters": {},
   "start_time": "2023-10-06T16:17:42.881101",
   "version": "2.4.0"
  }
 },
 "nbformat": 4,
 "nbformat_minor": 5
}
