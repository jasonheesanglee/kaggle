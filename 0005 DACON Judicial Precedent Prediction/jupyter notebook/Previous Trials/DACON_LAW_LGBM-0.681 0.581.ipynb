{
 "cells": [
  {
   "cell_type": "code",
   "execution_count": 1,
   "id": "adc258d5",
   "metadata": {
    "scrolled": true
   },
   "outputs": [
    {
     "name": "stdout",
     "output_type": "stream",
     "text": [
      " ___________________________\n",
      "|                           |\n",
      "|======== YearDream ========|\n",
      "|===========================|\n",
      "|==== DLC Well Imported ====|\n",
      "|===========================|\n",
      "|========= BYJASON =========|\n",
      "|___________________________|\n",
      "\n"
     ]
    }
   ],
   "source": [
    "import pandas as pd\n",
    "import numpy as np\n",
    "import optuna\n",
    "import dacon_law_class as dlc\n",
    "from dacon_law_class import SimpleOps as so\n",
    "\n",
    "import lightgbm as lgb\n",
    "import re\n",
    "from sentence_transformers import SentenceTransformer\n",
    "from sklearn.model_selection import train_test_split\n",
    "from sklearn.metrics import accuracy_score, classification_report\n",
    "from sklearn.preprocessing import LabelEncoder, StandardScaler\n",
    "import torch\n",
    "import torch.nn.functional as F\n",
    "from transformers import AutoTokenizer, AutoModel\n",
    "from tqdm import tqdm\n",
    "from xgboost.sklearn import XGBClassifier as xgb\n",
    "# import xgboost as xgb\n",
    "import warnings\n",
    "warnings.filterwarnings('ignore')\n",
    "\n",
    "\n",
    "from pytorch_transformers import BertTokenizer, BertForSequenceClassification, BertConfig\n",
    "from torch.optim import Adam\n",
    "from torch.utils.data import Dataset, DataLoader"
   ]
  },
  {
   "cell_type": "code",
   "execution_count": 4,
   "id": "247af21d",
   "metadata": {},
   "outputs": [],
   "source": [
    "train = pd.read_csv('../train.csv')\n",
    "test = pd.read_csv('../test.csv')\n",
    "sample_submission = pd.read_csv('../sample_submission.csv')\n",
    "# model = SentenceTransformer('paraphrase-MiniLM-L6-v2')"
   ]
  },
  {
   "cell_type": "code",
   "execution_count": 5,
   "id": "8011b50f",
   "metadata": {},
   "outputs": [
    {
     "data": {
      "text/html": [
       "<div>\n",
       "<style scoped>\n",
       "    .dataframe tbody tr th:only-of-type {\n",
       "        vertical-align: middle;\n",
       "    }\n",
       "\n",
       "    .dataframe tbody tr th {\n",
       "        vertical-align: top;\n",
       "    }\n",
       "\n",
       "    .dataframe thead th {\n",
       "        text-align: right;\n",
       "    }\n",
       "</style>\n",
       "<table border=\"1\" class=\"dataframe\">\n",
       "  <thead>\n",
       "    <tr style=\"text-align: right;\">\n",
       "      <th></th>\n",
       "      <th>ID</th>\n",
       "      <th>first_party_winner</th>\n",
       "    </tr>\n",
       "  </thead>\n",
       "  <tbody>\n",
       "    <tr>\n",
       "      <th>0</th>\n",
       "      <td>TEST_0000</td>\n",
       "      <td>0</td>\n",
       "    </tr>\n",
       "    <tr>\n",
       "      <th>1</th>\n",
       "      <td>TEST_0001</td>\n",
       "      <td>0</td>\n",
       "    </tr>\n",
       "    <tr>\n",
       "      <th>2</th>\n",
       "      <td>TEST_0002</td>\n",
       "      <td>0</td>\n",
       "    </tr>\n",
       "    <tr>\n",
       "      <th>3</th>\n",
       "      <td>TEST_0003</td>\n",
       "      <td>0</td>\n",
       "    </tr>\n",
       "    <tr>\n",
       "      <th>4</th>\n",
       "      <td>TEST_0004</td>\n",
       "      <td>0</td>\n",
       "    </tr>\n",
       "    <tr>\n",
       "      <th>...</th>\n",
       "      <td>...</td>\n",
       "      <td>...</td>\n",
       "    </tr>\n",
       "    <tr>\n",
       "      <th>1235</th>\n",
       "      <td>TEST_1235</td>\n",
       "      <td>0</td>\n",
       "    </tr>\n",
       "    <tr>\n",
       "      <th>1236</th>\n",
       "      <td>TEST_1236</td>\n",
       "      <td>0</td>\n",
       "    </tr>\n",
       "    <tr>\n",
       "      <th>1237</th>\n",
       "      <td>TEST_1237</td>\n",
       "      <td>0</td>\n",
       "    </tr>\n",
       "    <tr>\n",
       "      <th>1238</th>\n",
       "      <td>TEST_1238</td>\n",
       "      <td>0</td>\n",
       "    </tr>\n",
       "    <tr>\n",
       "      <th>1239</th>\n",
       "      <td>TEST_1239</td>\n",
       "      <td>0</td>\n",
       "    </tr>\n",
       "  </tbody>\n",
       "</table>\n",
       "<p>1240 rows × 2 columns</p>\n",
       "</div>"
      ],
      "text/plain": [
       "             ID  first_party_winner\n",
       "0     TEST_0000                   0\n",
       "1     TEST_0001                   0\n",
       "2     TEST_0002                   0\n",
       "3     TEST_0003                   0\n",
       "4     TEST_0004                   0\n",
       "...         ...                 ...\n",
       "1235  TEST_1235                   0\n",
       "1236  TEST_1236                   0\n",
       "1237  TEST_1237                   0\n",
       "1238  TEST_1238                   0\n",
       "1239  TEST_1239                   0\n",
       "\n",
       "[1240 rows x 2 columns]"
      ]
     },
     "execution_count": 5,
     "metadata": {},
     "output_type": "execute_result"
    }
   ],
   "source": [
    "# train\n",
    "# test\n",
    "sample_submission"
   ]
  },
  {
   "cell_type": "code",
   "execution_count": 6,
   "id": "eb2ef6ca",
   "metadata": {
    "scrolled": true
   },
   "outputs": [
    {
     "name": "stdout",
     "output_type": "stream",
     "text": [
      "<class 'pandas.core.frame.DataFrame'>\n",
      "RangeIndex: 2478 entries, 0 to 2477\n",
      "Data columns (total 5 columns):\n",
      " #   Column              Non-Null Count  Dtype \n",
      "---  ------              --------------  ----- \n",
      " 0   ID                  2478 non-null   object\n",
      " 1   first_party         2478 non-null   object\n",
      " 2   second_party        2478 non-null   object\n",
      " 3   facts               2478 non-null   object\n",
      " 4   first_party_winner  2478 non-null   int64 \n",
      "dtypes: int64(1), object(4)\n",
      "memory usage: 96.9+ KB\n",
      "\n",
      "\n",
      "\n",
      "\n"
     ]
    }
   ],
   "source": [
    "train.info()\n",
    "print('\\n\\n\\n')\n",
    "# test.info()"
   ]
  },
  {
   "cell_type": "code",
   "execution_count": 7,
   "id": "9b052690",
   "metadata": {
    "scrolled": true
   },
   "outputs": [
    {
     "data": {
      "text/html": [
       "<div>\n",
       "<style scoped>\n",
       "    .dataframe tbody tr th:only-of-type {\n",
       "        vertical-align: middle;\n",
       "    }\n",
       "\n",
       "    .dataframe tbody tr th {\n",
       "        vertical-align: top;\n",
       "    }\n",
       "\n",
       "    .dataframe thead th {\n",
       "        text-align: right;\n",
       "    }\n",
       "</style>\n",
       "<table border=\"1\" class=\"dataframe\">\n",
       "  <thead>\n",
       "    <tr style=\"text-align: right;\">\n",
       "      <th></th>\n",
       "      <th>first_party</th>\n",
       "      <th>second_party</th>\n",
       "      <th>facts</th>\n",
       "      <th>first_party_winner</th>\n",
       "    </tr>\n",
       "  </thead>\n",
       "  <tbody>\n",
       "    <tr>\n",
       "      <th>0</th>\n",
       "      <td>phil amant</td>\n",
       "      <td>herman ompson</td>\n",
       "      <td>phil amant caidate for public office made tele...</td>\n",
       "      <td>1</td>\n",
       "    </tr>\n",
       "    <tr>\n",
       "      <th>1</th>\n",
       "      <td>ephen duncan</td>\n",
       "      <td>lawrence owens</td>\n",
       "      <td>ramon nelson was ridin his bike when he suffer...</td>\n",
       "      <td>0</td>\n",
       "    </tr>\n",
       "    <tr>\n",
       "      <th>2</th>\n",
       "      <td>billy joe mawood</td>\n",
       "      <td>tony patterson waen et al</td>\n",
       "      <td>an alabama ate court convicted billy joe mawoo...</td>\n",
       "      <td>1</td>\n",
       "    </tr>\n",
       "    <tr>\n",
       "      <th>3</th>\n",
       "      <td>linkletter</td>\n",
       "      <td>walker</td>\n",
       "      <td>victor linkletter was convicted in ate court o...</td>\n",
       "      <td>0</td>\n",
       "    </tr>\n",
       "    <tr>\n",
       "      <th>4</th>\n",
       "      <td>william earl fikes</td>\n",
       "      <td>alabama</td>\n",
       "      <td>in selma alabama an intruder broke into apartm...</td>\n",
       "      <td>1</td>\n",
       "    </tr>\n",
       "    <tr>\n",
       "      <th>...</th>\n",
       "      <td>...</td>\n",
       "      <td>...</td>\n",
       "      <td>...</td>\n",
       "      <td>...</td>\n",
       "    </tr>\n",
       "    <tr>\n",
       "      <th>2473</th>\n",
       "      <td>hollyfrontier cheyenne refinin llc et al</td>\n",
       "      <td>renewable fuels association et al</td>\n",
       "      <td>conress ameed clean air act rouh enery policy ...</td>\n",
       "      <td>1</td>\n",
       "    </tr>\n",
       "    <tr>\n",
       "      <th>2474</th>\n",
       "      <td>rupo mexicano de desarrollo</td>\n",
       "      <td>alliance bo fu inc</td>\n",
       "      <td>alliance bo fu inc an invement fu purchased ap...</td>\n",
       "      <td>1</td>\n",
       "    </tr>\n",
       "    <tr>\n",
       "      <th>2475</th>\n",
       "      <td>peuero</td>\n",
       "      <td>united ates</td>\n",
       "      <td>in dirict court sentenced manuel peuero to mon...</td>\n",
       "      <td>0</td>\n",
       "    </tr>\n",
       "    <tr>\n",
       "      <th>2476</th>\n",
       "      <td>iiration naturalization service</td>\n",
       "      <td>cyr</td>\n",
       "      <td>enrico cyr lawful permanent resident pled uilt...</td>\n",
       "      <td>0</td>\n",
       "    </tr>\n",
       "    <tr>\n",
       "      <th>2477</th>\n",
       "      <td>an</td>\n",
       "      <td>weview inruments inc</td>\n",
       "      <td>herbert an owns patent to syem at tracks cloin...</td>\n",
       "      <td>0</td>\n",
       "    </tr>\n",
       "  </tbody>\n",
       "</table>\n",
       "<p>2478 rows × 4 columns</p>\n",
       "</div>"
      ],
      "text/plain": [
       "                                   first_party  \\\n",
       "0                                   phil amant   \n",
       "1                                 ephen duncan   \n",
       "2                             billy joe mawood   \n",
       "3                                   linkletter   \n",
       "4                           william earl fikes   \n",
       "...                                        ...   \n",
       "2473  hollyfrontier cheyenne refinin llc et al   \n",
       "2474               rupo mexicano de desarrollo   \n",
       "2475                                    peuero   \n",
       "2476           iiration naturalization service   \n",
       "2477                                        an   \n",
       "\n",
       "                           second_party  \\\n",
       "0                         herman ompson   \n",
       "1                        lawrence owens   \n",
       "2             tony patterson waen et al   \n",
       "3                                walker   \n",
       "4                               alabama   \n",
       "...                                 ...   \n",
       "2473  renewable fuels association et al   \n",
       "2474                 alliance bo fu inc   \n",
       "2475                        united ates   \n",
       "2476                                cyr   \n",
       "2477               weview inruments inc   \n",
       "\n",
       "                                                  facts  first_party_winner  \n",
       "0     phil amant caidate for public office made tele...                   1  \n",
       "1     ramon nelson was ridin his bike when he suffer...                   0  \n",
       "2     an alabama ate court convicted billy joe mawoo...                   1  \n",
       "3     victor linkletter was convicted in ate court o...                   0  \n",
       "4     in selma alabama an intruder broke into apartm...                   1  \n",
       "...                                                 ...                 ...  \n",
       "2473  conress ameed clean air act rouh enery policy ...                   1  \n",
       "2474  alliance bo fu inc an invement fu purchased ap...                   1  \n",
       "2475  in dirict court sentenced manuel peuero to mon...                   0  \n",
       "2476  enrico cyr lawful permanent resident pled uilt...                   0  \n",
       "2477  herbert an owns patent to syem at tracks cloin...                   0  \n",
       "\n",
       "[2478 rows x 4 columns]"
      ]
     },
     "execution_count": 7,
     "metadata": {},
     "output_type": "execute_result"
    }
   ],
   "source": [
    "df = pd.DataFrame(train['facts'])\n",
    "df = dlc.law_preprocessor(df, 'facts')\n",
    "train['facts'] = df['facts']\n",
    "df = pd.DataFrame(train['first_party'])\n",
    "df = dlc.law_preprocessor(df, 'first_party')\n",
    "train['first_party'] = df['first_party']\n",
    "df = pd.DataFrame(train['second_party'])\n",
    "df = dlc.law_preprocessor(df, 'second_party')\n",
    "train['second_party'] = df['second_party']\n",
    "train_cleansed = train.drop(columns='ID')\n",
    "train_cleansed\n"
   ]
  },
  {
   "cell_type": "code",
   "execution_count": 8,
   "id": "c42f6a9e",
   "metadata": {
    "scrolled": true
   },
   "outputs": [
    {
     "data": {
      "text/html": [
       "<div>\n",
       "<style scoped>\n",
       "    .dataframe tbody tr th:only-of-type {\n",
       "        vertical-align: middle;\n",
       "    }\n",
       "\n",
       "    .dataframe tbody tr th {\n",
       "        vertical-align: top;\n",
       "    }\n",
       "\n",
       "    .dataframe thead th {\n",
       "        text-align: right;\n",
       "    }\n",
       "</style>\n",
       "<table border=\"1\" class=\"dataframe\">\n",
       "  <thead>\n",
       "    <tr style=\"text-align: right;\">\n",
       "      <th></th>\n",
       "      <th>first_party</th>\n",
       "      <th>second_party</th>\n",
       "      <th>facts</th>\n",
       "    </tr>\n",
       "  </thead>\n",
       "  <tbody>\n",
       "    <tr>\n",
       "      <th>0</th>\n",
       "      <td>salerno</td>\n",
       "      <td>united ates</td>\n",
       "      <td>bail reform act allowed federal courts to deta...</td>\n",
       "    </tr>\n",
       "    <tr>\n",
       "      <th>1</th>\n",
       "      <td>milber weiss bershad hynes lerach</td>\n",
       "      <td>lexecon inc</td>\n",
       "      <td>lexecon inc was defeant in class action lawsui...</td>\n",
       "    </tr>\n",
       "    <tr>\n",
       "      <th>2</th>\n",
       "      <td>no title federal counications coission et al</td>\n",
       "      <td>fox television ations inc et al</td>\n",
       "      <td>in fox television ations broadca billboa music...</td>\n",
       "    </tr>\n",
       "    <tr>\n",
       "      <th>3</th>\n",
       "      <td>harold kaufman</td>\n",
       "      <td>united ates</td>\n",
       "      <td>durin his trial for armed robbery of federally...</td>\n",
       "    </tr>\n",
       "    <tr>\n",
       "      <th>4</th>\n",
       "      <td>berer</td>\n",
       "      <td>hanlon</td>\n",
       "      <td>in mairate jude issued warrant auorizin search...</td>\n",
       "    </tr>\n",
       "    <tr>\n",
       "      <th>...</th>\n",
       "      <td>...</td>\n",
       "      <td>...</td>\n",
       "      <td>...</td>\n",
       "    </tr>\n",
       "    <tr>\n",
       "      <th>1235</th>\n",
       "      <td>haitian centers council inc et al</td>\n",
       "      <td>chris sale actin coissioner iiration naturaliz...</td>\n",
       "      <td>accoin to executive oer no sined by president ...</td>\n",
       "    </tr>\n",
       "    <tr>\n",
       "      <th>1236</th>\n",
       "      <td>whitman</td>\n",
       "      <td>american truckin associations inc</td>\n",
       "      <td>section of clean air act requires environmenta...</td>\n",
       "    </tr>\n",
       "    <tr>\n",
       "      <th>1237</th>\n",
       "      <td>lia matteo john madian</td>\n",
       "      <td>william barr</td>\n",
       "      <td>lia matteo john madian created plan for utiliz...</td>\n",
       "    </tr>\n",
       "    <tr>\n",
       "      <th>1238</th>\n",
       "      <td>washinton ate apple advertisin coission</td>\n",
       "      <td>hunt</td>\n",
       "      <td>in nor carolina boa of ariculture adopted reul...</td>\n",
       "    </tr>\n",
       "    <tr>\n",
       "      <th>1239</th>\n",
       "      <td>eodore ovall</td>\n",
       "      <td>wilfred denno waen</td>\n",
       "      <td>dr paul berheldt was abbed to dea in kitchen o...</td>\n",
       "    </tr>\n",
       "  </tbody>\n",
       "</table>\n",
       "<p>1240 rows × 3 columns</p>\n",
       "</div>"
      ],
      "text/plain": [
       "                                       first_party  \\\n",
       "0                                          salerno   \n",
       "1                milber weiss bershad hynes lerach   \n",
       "2     no title federal counications coission et al   \n",
       "3                                   harold kaufman   \n",
       "4                                            berer   \n",
       "...                                            ...   \n",
       "1235             haitian centers council inc et al   \n",
       "1236                                       whitman   \n",
       "1237                        lia matteo john madian   \n",
       "1238       washinton ate apple advertisin coission   \n",
       "1239                                  eodore ovall   \n",
       "\n",
       "                                           second_party  \\\n",
       "0                                           united ates   \n",
       "1                                           lexecon inc   \n",
       "2                       fox television ations inc et al   \n",
       "3                                           united ates   \n",
       "4                                                hanlon   \n",
       "...                                                 ...   \n",
       "1235  chris sale actin coissioner iiration naturaliz...   \n",
       "1236                  american truckin associations inc   \n",
       "1237                                       william barr   \n",
       "1238                                               hunt   \n",
       "1239                                 wilfred denno waen   \n",
       "\n",
       "                                                  facts  \n",
       "0     bail reform act allowed federal courts to deta...  \n",
       "1     lexecon inc was defeant in class action lawsui...  \n",
       "2     in fox television ations broadca billboa music...  \n",
       "3     durin his trial for armed robbery of federally...  \n",
       "4     in mairate jude issued warrant auorizin search...  \n",
       "...                                                 ...  \n",
       "1235  accoin to executive oer no sined by president ...  \n",
       "1236  section of clean air act requires environmenta...  \n",
       "1237  lia matteo john madian created plan for utiliz...  \n",
       "1238  in nor carolina boa of ariculture adopted reul...  \n",
       "1239  dr paul berheldt was abbed to dea in kitchen o...  \n",
       "\n",
       "[1240 rows x 3 columns]"
      ]
     },
     "execution_count": 8,
     "metadata": {},
     "output_type": "execute_result"
    }
   ],
   "source": [
    "df = pd.DataFrame(test['facts'])\n",
    "df = dlc.law_preprocessor(df, 'facts')\n",
    "test['facts'] = df['facts']\n",
    "df = pd.DataFrame(test['first_party'])\n",
    "df = dlc.law_preprocessor(df, 'first_party')\n",
    "test['first_party'] = df['first_party']\n",
    "df = pd.DataFrame(test['second_party'])\n",
    "df = dlc.law_preprocessor(df, 'second_party')\n",
    "test['second_party'] = df['second_party']\n",
    "test_cleansed = test.drop(columns='ID')\n",
    "test_cleansed"
   ]
  },
  {
   "cell_type": "markdown",
   "id": "01a8f896",
   "metadata": {},
   "source": [
    "## BERT\n",
    "\n",
    "@article{turc2019,\n",
    "  title={Well-Read Students Learn Better: On the Importance of Pre-training Compact Models},\n",
    "  author={Turc, Iulia and Chang, Ming-Wei and Lee, Kenton and Toutanova, Kristina},\n",
    "  journal={arXiv preprint arXiv:1908.08962v2 },\n",
    "  year={2019}\n",
    "}\n"
   ]
  },
  {
   "cell_type": "code",
   "execution_count": null,
   "id": "82f4953b",
   "metadata": {},
   "outputs": [],
   "source": [
    "train_facts = pd.DataFrame(test_cleansed['facts'])\n",
    "train_facts"
   ]
  },
  {
   "cell_type": "code",
   "execution_count": null,
   "id": "275c3443",
   "metadata": {},
   "outputs": [],
   "source": [
    "test_fact = pd.DataFrame(test_cleansed['facts'])\n",
    "test_fact"
   ]
  },
  {
   "cell_type": "markdown",
   "id": "48a9d178",
   "metadata": {},
   "source": [
    "model_input_df = dlc.bert_tokenizer(train_facts, 'facts')"
   ]
  },
  {
   "cell_type": "markdown",
   "id": "383af38c",
   "metadata": {
    "scrolled": true
   },
   "source": [
    "model_input_df.info()"
   ]
  },
  {
   "cell_type": "markdown",
   "id": "0d47a66c",
   "metadata": {},
   "source": [
    "df_part_1, df_part_2, df_part_3, df_part_4, df_part_5, df_part_6, df_part_7, df_part_8, df_part_9, df_part_10, df_part_11, df_part_12, df_part_13, df_part_14, df_part_15, df_part_16, df_part_17, df_part_18, df_part_19, df_part_20, df_part_21, df_part_22, df_part_23, df_part_24, df_part_25, df_part_26 = so.df_divider(train_cleansed, 'facts')\n",
    "df_part_1 = pd.DataFrame(df_part_1)\n",
    "df_part_2 = pd.DataFrame(df_part_2)\n",
    "df_part_3 = pd.DataFrame(df_part_3)\n",
    "df_part_4 = pd.DataFrame(df_part_4)\n",
    "df_part_5 = pd.DataFrame(df_part_5)\n",
    "df_part_6 = pd.DataFrame(df_part_6)\n",
    "df_part_7 = pd.DataFrame(df_part_7)\n",
    "df_part_8 = pd.DataFrame(df_part_8)\n",
    "df_part_9 = pd.DataFrame(df_part_9)\n",
    "df_part_10 = pd.DataFrame(df_part_10)\n",
    "df_part_11 = pd.DataFrame(df_part_11)\n",
    "df_part_12 = pd.DataFrame(df_part_12)\n",
    "df_part_13 = pd.DataFrame(df_part_13)\n",
    "df_part_14 = pd.DataFrame(df_part_14)\n",
    "df_part_15 = pd.DataFrame(df_part_15)\n",
    "df_part_16 = pd.DataFrame(df_part_16)\n",
    "df_part_17 = pd.DataFrame(df_part_17)\n",
    "df_part_18 = pd.DataFrame(df_part_18)\n",
    "df_part_19 = pd.DataFrame(df_part_19)\n",
    "df_part_20 = pd.DataFrame(df_part_20)\n",
    "df_part_21 = pd.DataFrame(df_part_21)\n",
    "df_part_22 = pd.DataFrame(df_part_22)\n",
    "df_part_23 = pd.DataFrame(df_part_23)\n",
    "df_part_24 = pd.DataFrame(df_part_24)\n",
    "df_part_25 = pd.DataFrame(df_part_25)\n",
    "df_part_26 = pd.DataFrame(df_part_26)\n",
    "print(df_part_1)"
   ]
  },
  {
   "cell_type": "markdown",
   "id": "370bf34c",
   "metadata": {},
   "source": [
    "embedded_df_1 = dlc.auto_tokenizer(train_cleansed, 'facts')\n",
    "embedded_df_1"
   ]
  },
  {
   "cell_type": "markdown",
   "id": "b83cfc76",
   "metadata": {},
   "source": [
    "embedded_df_1 = embedded_df_1.rename(columns={0:'facts_berted'})"
   ]
  },
  {
   "cell_type": "markdown",
   "id": "4fab2385",
   "metadata": {},
   "source": [
    "embedded_df_1.to_csv('./embeddings/facts_embedded.csv', index=False)"
   ]
  },
  {
   "cell_type": "code",
   "execution_count": null,
   "id": "790ce9a5",
   "metadata": {},
   "outputs": [],
   "source": [
    "first_party_berted = dlc.auto_tokenizer(train_cleansed, 'first_party')\n",
    "first_party_berted = first_party_berted.rename(columns={0:'first_party_berted'})\n",
    "first_party_berted.to_csv('./embeddings/first_party_berted.csv', index=False)"
   ]
  },
  {
   "cell_type": "code",
   "execution_count": null,
   "id": "4763d3d1",
   "metadata": {},
   "outputs": [],
   "source": [
    "second_party_berted = dlc.auto_tokenizer(train_cleansed, 'second_party')\n",
    "second_party_berted = second_party_berted.rename(columns={0:'second_party_berted'})\n",
    "second_party_berted.to_csv('./embeddings/second_party_berted.csv', index=False)"
   ]
  },
  {
   "cell_type": "code",
   "execution_count": null,
   "id": "18cc4abe",
   "metadata": {},
   "outputs": [],
   "source": [
    "facts_berted = dlc.auto_tokenizer(train_cleansed, 'facts')"
   ]
  },
  {
   "cell_type": "code",
   "execution_count": null,
   "id": "5ecee19e",
   "metadata": {},
   "outputs": [],
   "source": [
    "facts_berted = facts_berted.rename(columns={0:'facts_berted'})\n",
    "facts_berted.to_csv('./embeddings/facts_berted.csv', index=False)"
   ]
  },
  {
   "cell_type": "code",
   "execution_count": null,
   "id": "9361f281",
   "metadata": {},
   "outputs": [],
   "source": [
    "first_party_berted = pd.read_csv('./embeddings/first_party_berted.csv')\n",
    "second_party_berted = pd.read_csv('./embeddings/second_party_berted.csv')\n",
    "facts_berted = pd.read_csv('./embeddings/facts_berted.csv')"
   ]
  },
  {
   "cell_type": "code",
   "execution_count": null,
   "id": "715db0c3",
   "metadata": {
    "scrolled": false
   },
   "outputs": [],
   "source": [
    "all_ready_to_ml = pd.concat([first_party_berted['first_party_berted'], second_party_berted['second_party_berted'], facts_berted['facts_berted'], train_cleansed['first_party_winner']], axis=1)\n",
    "all_ready_to_ml.to_csv('./embeddings/1_train_ready_to_ml.csv', index=False)\n"
   ]
  },
  {
   "cell_type": "code",
   "execution_count": null,
   "id": "2a083bfa",
   "metadata": {},
   "outputs": [],
   "source": [
    "test_first_party_berted = dlc.auto_tokenizer(test_cleansed, 'first_party')\n",
    "test_first_party_berted = test_first_party_berted.rename(columns={0:'first_party_berted'})\n",
    "test_first_party_berted.to_csv('./embeddings/test_first_party_berted.csv', index=False)"
   ]
  },
  {
   "cell_type": "code",
   "execution_count": null,
   "id": "3529a2d1",
   "metadata": {},
   "outputs": [],
   "source": [
    "test_second_party_berted = dlc.auto_tokenizer(test_cleansed, 'second_party')\n",
    "test_second_party_berted = test_second_party_berted.rename(columns={0:'second_party_berted'})\n",
    "test_second_party_berted.to_csv('./embeddings/test_second_party_berted.csv', index=False)"
   ]
  },
  {
   "cell_type": "code",
   "execution_count": null,
   "id": "96bb4213",
   "metadata": {},
   "outputs": [],
   "source": [
    "test_facts_berted = dlc.auto_tokenizer(test_cleansed, 'facts')\n",
    "test_facts_berted = test_facts_berted.rename(columns={0:'facts_berted'})\n",
    "test_facts_berted.to_csv('./embeddings/test_facts_berted.csv', index=False)"
   ]
  },
  {
   "cell_type": "code",
   "execution_count": null,
   "id": "a9a83617",
   "metadata": {},
   "outputs": [],
   "source": [
    "test_first_party_berted = pd.read_csv('./embeddings/test_first_party_berted.csv')\n",
    "test_second_party_berted = pd.read_csv('./embeddings/test_second_party_berted.csv')\n",
    "test_facts_berted = pd.read_csv('./embeddings/test_facts_berted.csv')"
   ]
  },
  {
   "cell_type": "code",
   "execution_count": null,
   "id": "c1fdbcd9",
   "metadata": {},
   "outputs": [],
   "source": [
    "test_ready_to_ml = pd.concat([test_first_party_berted['first_party_berted'], test_second_party_berted['second_party_berted'], test_facts_berted['facts_berted']], axis=1)\n",
    "test_ready_to_ml.to_csv('./embeddings/2_test_ready_to_ml.csv', index=False)"
   ]
  },
  {
   "cell_type": "markdown",
   "id": "dc587a16",
   "metadata": {},
   "source": [
    "# 여기"
   ]
  },
  {
   "cell_type": "code",
   "execution_count": 9,
   "id": "53010b94",
   "metadata": {},
   "outputs": [],
   "source": [
    "train_to_ml = pd.read_csv('../embeddings/1_train_ready_to_ml.csv')\n",
    "test_ready_to_ml = pd.read_csv('../embeddings/2_test_ready_to_ml.csv')"
   ]
  },
  {
   "cell_type": "code",
   "execution_count": 10,
   "id": "78df3a1c",
   "metadata": {},
   "outputs": [
    {
     "name": "stderr",
     "output_type": "stream",
     "text": [
      "100%|██████████████████████| 2478/2478 [00:01<00:00, 2199.23it/s]\n",
      "100%|██████████████████████| 2478/2478 [00:01<00:00, 2235.95it/s]\n",
      "100%|██████████████████████| 2478/2478 [00:01<00:00, 2230.76it/s]\n"
     ]
    }
   ],
   "source": [
    "train_to_ml_fp_pr = dlc.tensor_separator(train_to_ml, 'first_party_berted')\n",
    "train_to_ml_sp_pr = dlc.tensor_separator(train_to_ml, 'second_party_berted')\n",
    "train_to_ml_facts_pr = dlc.tensor_separator(train_to_ml, 'facts_berted')"
   ]
  },
  {
   "cell_type": "code",
   "execution_count": 11,
   "id": "15661563",
   "metadata": {},
   "outputs": [
    {
     "data": {
      "text/html": [
       "<div>\n",
       "<style scoped>\n",
       "    .dataframe tbody tr th:only-of-type {\n",
       "        vertical-align: middle;\n",
       "    }\n",
       "\n",
       "    .dataframe tbody tr th {\n",
       "        vertical-align: top;\n",
       "    }\n",
       "\n",
       "    .dataframe thead th {\n",
       "        text-align: right;\n",
       "    }\n",
       "</style>\n",
       "<table border=\"1\" class=\"dataframe\">\n",
       "  <thead>\n",
       "    <tr style=\"text-align: right;\">\n",
       "      <th></th>\n",
       "      <th>0</th>\n",
       "      <th>1</th>\n",
       "      <th>2</th>\n",
       "      <th>3</th>\n",
       "      <th>4</th>\n",
       "      <th>5</th>\n",
       "      <th>6</th>\n",
       "      <th>7</th>\n",
       "      <th>8</th>\n",
       "      <th>9</th>\n",
       "      <th>...</th>\n",
       "      <th>758</th>\n",
       "      <th>759</th>\n",
       "      <th>760</th>\n",
       "      <th>761</th>\n",
       "      <th>762</th>\n",
       "      <th>763</th>\n",
       "      <th>764</th>\n",
       "      <th>765</th>\n",
       "      <th>766</th>\n",
       "      <th>767</th>\n",
       "    </tr>\n",
       "  </thead>\n",
       "  <tbody>\n",
       "    <tr>\n",
       "      <th>0</th>\n",
       "      <td>5.0364e-03</td>\n",
       "      <td>6.4395e-03</td>\n",
       "      <td>-1.2888e-02</td>\n",
       "      <td>-7.3032e-03</td>\n",
       "      <td>-1.7571e-02</td>\n",
       "      <td>\\n-2.9552e-02</td>\n",
       "      <td>-6.3181e-03</td>\n",
       "      <td>2.5047e-02</td>\n",
       "      <td>-9.3935e-03</td>\n",
       "      <td>-1.5124e-02</td>\n",
       "      <td>...</td>\n",
       "      <td>-1.4542e-02</td>\n",
       "      <td>-1.0145e-02</td>\n",
       "      <td>\\n-1.7571e-02</td>\n",
       "      <td>-1.0507e-02</td>\n",
       "      <td>8.9357e-03</td>\n",
       "      <td>-8.1772e-03</td>\n",
       "      <td>6.5935e-03</td>\n",
       "      <td>\\n-5.3478e-03</td>\n",
       "      <td>-9.0537e-04</td>\n",
       "      <td>-1.7567e-02</td>\n",
       "    </tr>\n",
       "    <tr>\n",
       "      <th>1</th>\n",
       "      <td>-3.9016e-03</td>\n",
       "      <td>2.6781e-02</td>\n",
       "      <td>-4.4628e-02</td>\n",
       "      <td>-3.2344e-02</td>\n",
       "      <td>-1.7295e-03</td>\n",
       "      <td>\\n-1.8735e-02</td>\n",
       "      <td>2.1107e-03</td>\n",
       "      <td>-1.8207e-02</td>\n",
       "      <td>-9.9187e-03</td>\n",
       "      <td>-7.5807e-02</td>\n",
       "      <td>...</td>\n",
       "      <td>2.9344e-02</td>\n",
       "      <td>-1.4786e-03</td>\n",
       "      <td>\\n-1.7004e-02</td>\n",
       "      <td>-9.6405e-03</td>\n",
       "      <td>1.8711e-02</td>\n",
       "      <td>-4.1981e-02</td>\n",
       "      <td>-8.4402e-03</td>\n",
       "      <td>\\n6.6602e-03</td>\n",
       "      <td>4.1784e-02</td>\n",
       "      <td>-3.1456e-02</td>\n",
       "    </tr>\n",
       "    <tr>\n",
       "      <th>2</th>\n",
       "      <td>3.0499e-03</td>\n",
       "      <td>9.2587e-03</td>\n",
       "      <td>-1.7064e-02</td>\n",
       "      <td>-1.9458e-02</td>\n",
       "      <td>-6.2003e-03</td>\n",
       "      <td>\\n-8.5528e-03</td>\n",
       "      <td>5.0010e-02</td>\n",
       "      <td>3.5903e-02</td>\n",
       "      <td>-3.0393e-02</td>\n",
       "      <td>-2.0106e-02</td>\n",
       "      <td>...</td>\n",
       "      <td>-4.1979e-02</td>\n",
       "      <td>8.1220e-03</td>\n",
       "      <td>\\n5.7186e-03</td>\n",
       "      <td>-3.7114e-02</td>\n",
       "      <td>-7.5840e-03</td>\n",
       "      <td>-3.0844e-02</td>\n",
       "      <td>-4.1313e-03</td>\n",
       "      <td>\\n7.7285e-03</td>\n",
       "      <td>-3.1081e-02</td>\n",
       "      <td>-4.4574e-02</td>\n",
       "    </tr>\n",
       "    <tr>\n",
       "      <th>3</th>\n",
       "      <td>-1.5234e-02</td>\n",
       "      <td>-8.7536e-04</td>\n",
       "      <td>1.5897e-02</td>\n",
       "      <td>-1.8534e-02</td>\n",
       "      <td>5.4608e-02</td>\n",
       "      <td>\\n-3.0493e-02</td>\n",
       "      <td>4.1842e-02</td>\n",
       "      <td>5.7857e-02</td>\n",
       "      <td>-1.3273e-02</td>\n",
       "      <td>-1.9490e-02</td>\n",
       "      <td>...</td>\n",
       "      <td>6.1164e-02</td>\n",
       "      <td>-2.3714e-02</td>\n",
       "      <td>\\n-8.1452e-03</td>\n",
       "      <td>-5.4743e-02</td>\n",
       "      <td>-4.1889e-03</td>\n",
       "      <td>1.3648e-02</td>\n",
       "      <td>-2.9430e-02</td>\n",
       "      <td>\\n-3.1257e-02</td>\n",
       "      <td>1.7675e-02</td>\n",
       "      <td>-1.1772e-02</td>\n",
       "    </tr>\n",
       "    <tr>\n",
       "      <th>4</th>\n",
       "      <td>-1.1956e-02</td>\n",
       "      <td>-9.9873e-03</td>\n",
       "      <td>2.0198e-02</td>\n",
       "      <td>9.5077e-03</td>\n",
       "      <td>2.4592e-02</td>\n",
       "      <td>\\n-3.7784e-02</td>\n",
       "      <td>2.0635e-02</td>\n",
       "      <td>-2.3835e-02</td>\n",
       "      <td>-2.9138e-02</td>\n",
       "      <td>-3.1670e-02</td>\n",
       "      <td>...</td>\n",
       "      <td>1.9298e-02</td>\n",
       "      <td>-5.3003e-04</td>\n",
       "      <td>\\n4.8818e-03</td>\n",
       "      <td>-5.0081e-02</td>\n",
       "      <td>3.0314e-02</td>\n",
       "      <td>-6.4117e-02</td>\n",
       "      <td>-1.6162e-02</td>\n",
       "      <td>\\n-2.5506e-02</td>\n",
       "      <td>-1.0574e-02</td>\n",
       "      <td>1.2554e-02</td>\n",
       "    </tr>\n",
       "    <tr>\n",
       "      <th>...</th>\n",
       "      <td>...</td>\n",
       "      <td>...</td>\n",
       "      <td>...</td>\n",
       "      <td>...</td>\n",
       "      <td>...</td>\n",
       "      <td>...</td>\n",
       "      <td>...</td>\n",
       "      <td>...</td>\n",
       "      <td>...</td>\n",
       "      <td>...</td>\n",
       "      <td>...</td>\n",
       "      <td>...</td>\n",
       "      <td>...</td>\n",
       "      <td>...</td>\n",
       "      <td>...</td>\n",
       "      <td>...</td>\n",
       "      <td>...</td>\n",
       "      <td>...</td>\n",
       "      <td>...</td>\n",
       "      <td>...</td>\n",
       "      <td>...</td>\n",
       "    </tr>\n",
       "    <tr>\n",
       "      <th>2473</th>\n",
       "      <td>-2.0591e-02</td>\n",
       "      <td>-5.6972e-02</td>\n",
       "      <td>-3.3879e-02</td>\n",
       "      <td>3.1382e-02</td>\n",
       "      <td>7.9985e-02</td>\n",
       "      <td>\\n2.5763e-02</td>\n",
       "      <td>-6.5687e-03</td>\n",
       "      <td>4.4251e-02</td>\n",
       "      <td>-8.7967e-03</td>\n",
       "      <td>-6.0979e-02</td>\n",
       "      <td>...</td>\n",
       "      <td>-1.9980e-02</td>\n",
       "      <td>1.3039e-02</td>\n",
       "      <td>\\n-4.5310e-02</td>\n",
       "      <td>-3.0027e-02</td>\n",
       "      <td>6.4195e-03</td>\n",
       "      <td>-3.8386e-02</td>\n",
       "      <td>-1.8423e-02</td>\n",
       "      <td>\\n-9.4091e-03</td>\n",
       "      <td>-3.5115e-03</td>\n",
       "      <td>-3.4010e-02</td>\n",
       "    </tr>\n",
       "    <tr>\n",
       "      <th>2474</th>\n",
       "      <td>-2.3678e-02</td>\n",
       "      <td>-2.2937e-02</td>\n",
       "      <td>-2.2214e-02</td>\n",
       "      <td>1.3166e-02</td>\n",
       "      <td>5.4840e-02</td>\n",
       "      <td>\\n1.1287e-02</td>\n",
       "      <td>1.6339e-02</td>\n",
       "      <td>9.0016e-02</td>\n",
       "      <td>3.1381e-04</td>\n",
       "      <td>1.4739e-03</td>\n",
       "      <td>...</td>\n",
       "      <td>5.4709e-02</td>\n",
       "      <td>1.0245e-02</td>\n",
       "      <td>\\n1.9659e-02</td>\n",
       "      <td>6.0086e-03</td>\n",
       "      <td>-3.6355e-04</td>\n",
       "      <td>-2.0725e-02</td>\n",
       "      <td>7.7193e-03</td>\n",
       "      <td>\\n-5.1536e-02</td>\n",
       "      <td>1.7156e-02</td>\n",
       "      <td>-1.5856e-03</td>\n",
       "    </tr>\n",
       "    <tr>\n",
       "      <th>2475</th>\n",
       "      <td>-4.2952e-03</td>\n",
       "      <td>-2.9256e-02</td>\n",
       "      <td>-1.5316e-02</td>\n",
       "      <td>-1.0641e-02</td>\n",
       "      <td>7.1409e-03</td>\n",
       "      <td>\\n2.1234e-02</td>\n",
       "      <td>5.1800e-03</td>\n",
       "      <td>6.4935e-02</td>\n",
       "      <td>-2.2453e-02</td>\n",
       "      <td>-3.4121e-02</td>\n",
       "      <td>...</td>\n",
       "      <td>1.6813e-02</td>\n",
       "      <td>2.4257e-02</td>\n",
       "      <td>\\n-9.5996e-03</td>\n",
       "      <td>-2.8923e-02</td>\n",
       "      <td>-8.4691e-03</td>\n",
       "      <td>-2.4868e-02</td>\n",
       "      <td>1.1474e-02</td>\n",
       "      <td>\\n-1.0654e-02</td>\n",
       "      <td>3.5777e-03</td>\n",
       "      <td>-1.7218e-02</td>\n",
       "    </tr>\n",
       "    <tr>\n",
       "      <th>2476</th>\n",
       "      <td>2.1019e-02</td>\n",
       "      <td>-3.1200e-03</td>\n",
       "      <td>-7.0313e-03</td>\n",
       "      <td>7.9619e-03</td>\n",
       "      <td>4.5658e-02</td>\n",
       "      <td>\\n1.4659e-02</td>\n",
       "      <td>2.4269e-02</td>\n",
       "      <td>-2.1894e-02</td>\n",
       "      <td>-3.2928e-02</td>\n",
       "      <td>-2.9230e-02</td>\n",
       "      <td>...</td>\n",
       "      <td>3.2089e-02</td>\n",
       "      <td>-1.2351e-02</td>\n",
       "      <td>\\n1.0574e-02</td>\n",
       "      <td>-2.2969e-02</td>\n",
       "      <td>-2.5865e-02</td>\n",
       "      <td>-4.5488e-02</td>\n",
       "      <td>-2.5494e-02</td>\n",
       "      <td>\\n-2.7117e-02</td>\n",
       "      <td>-1.5894e-02</td>\n",
       "      <td>-8.8320e-03</td>\n",
       "    </tr>\n",
       "    <tr>\n",
       "      <th>2477</th>\n",
       "      <td>-6.3555e-03</td>\n",
       "      <td>-1.1619e-02</td>\n",
       "      <td>-7.4391e-03</td>\n",
       "      <td>-1.2634e-02</td>\n",
       "      <td>-8.0101e-03</td>\n",
       "      <td>\\n-5.9471e-03</td>\n",
       "      <td>3.2153e-02</td>\n",
       "      <td>-1.6714e-02</td>\n",
       "      <td>3.9917e-02</td>\n",
       "      <td>-4.6451e-02</td>\n",
       "      <td>...</td>\n",
       "      <td>5.6200e-02</td>\n",
       "      <td>-7.7531e-03</td>\n",
       "      <td>\\n-5.5107e-04</td>\n",
       "      <td>-9.0997e-03</td>\n",
       "      <td>-7.3817e-03</td>\n",
       "      <td>-5.4165e-02</td>\n",
       "      <td>1.2765e-02</td>\n",
       "      <td>\\n1.3144e-02</td>\n",
       "      <td>-1.4591e-02</td>\n",
       "      <td>1.1292e-02</td>\n",
       "    </tr>\n",
       "  </tbody>\n",
       "</table>\n",
       "<p>2478 rows × 768 columns</p>\n",
       "</div>"
      ],
      "text/plain": [
       "              0            1            2            3            4    \\\n",
       "0      5.0364e-03   6.4395e-03  -1.2888e-02  -7.3032e-03  -1.7571e-02   \n",
       "1     -3.9016e-03   2.6781e-02  -4.4628e-02  -3.2344e-02  -1.7295e-03   \n",
       "2      3.0499e-03   9.2587e-03  -1.7064e-02  -1.9458e-02  -6.2003e-03   \n",
       "3     -1.5234e-02  -8.7536e-04   1.5897e-02  -1.8534e-02   5.4608e-02   \n",
       "4     -1.1956e-02  -9.9873e-03   2.0198e-02   9.5077e-03   2.4592e-02   \n",
       "...           ...          ...          ...          ...          ...   \n",
       "2473  -2.0591e-02  -5.6972e-02  -3.3879e-02   3.1382e-02   7.9985e-02   \n",
       "2474  -2.3678e-02  -2.2937e-02  -2.2214e-02   1.3166e-02   5.4840e-02   \n",
       "2475  -4.2952e-03  -2.9256e-02  -1.5316e-02  -1.0641e-02   7.1409e-03   \n",
       "2476   2.1019e-02  -3.1200e-03  -7.0313e-03   7.9619e-03   4.5658e-02   \n",
       "2477  -6.3555e-03  -1.1619e-02  -7.4391e-03  -1.2634e-02  -8.0101e-03   \n",
       "\n",
       "                5            6            7            8            9    ...  \\\n",
       "0     \\n-2.9552e-02  -6.3181e-03   2.5047e-02  -9.3935e-03  -1.5124e-02  ...   \n",
       "1     \\n-1.8735e-02   2.1107e-03  -1.8207e-02  -9.9187e-03  -7.5807e-02  ...   \n",
       "2     \\n-8.5528e-03   5.0010e-02   3.5903e-02  -3.0393e-02  -2.0106e-02  ...   \n",
       "3     \\n-3.0493e-02   4.1842e-02   5.7857e-02  -1.3273e-02  -1.9490e-02  ...   \n",
       "4     \\n-3.7784e-02   2.0635e-02  -2.3835e-02  -2.9138e-02  -3.1670e-02  ...   \n",
       "...             ...          ...          ...          ...          ...  ...   \n",
       "2473   \\n2.5763e-02  -6.5687e-03   4.4251e-02  -8.7967e-03  -6.0979e-02  ...   \n",
       "2474   \\n1.1287e-02   1.6339e-02   9.0016e-02   3.1381e-04   1.4739e-03  ...   \n",
       "2475   \\n2.1234e-02   5.1800e-03   6.4935e-02  -2.2453e-02  -3.4121e-02  ...   \n",
       "2476   \\n1.4659e-02   2.4269e-02  -2.1894e-02  -3.2928e-02  -2.9230e-02  ...   \n",
       "2477  \\n-5.9471e-03   3.2153e-02  -1.6714e-02   3.9917e-02  -4.6451e-02  ...   \n",
       "\n",
       "              758          759            760          761          762  \\\n",
       "0     -1.4542e-02  -1.0145e-02  \\n-1.7571e-02  -1.0507e-02   8.9357e-03   \n",
       "1      2.9344e-02  -1.4786e-03  \\n-1.7004e-02  -9.6405e-03   1.8711e-02   \n",
       "2     -4.1979e-02   8.1220e-03   \\n5.7186e-03  -3.7114e-02  -7.5840e-03   \n",
       "3      6.1164e-02  -2.3714e-02  \\n-8.1452e-03  -5.4743e-02  -4.1889e-03   \n",
       "4      1.9298e-02  -5.3003e-04   \\n4.8818e-03  -5.0081e-02   3.0314e-02   \n",
       "...           ...          ...            ...          ...          ...   \n",
       "2473  -1.9980e-02   1.3039e-02  \\n-4.5310e-02  -3.0027e-02   6.4195e-03   \n",
       "2474   5.4709e-02   1.0245e-02   \\n1.9659e-02   6.0086e-03  -3.6355e-04   \n",
       "2475   1.6813e-02   2.4257e-02  \\n-9.5996e-03  -2.8923e-02  -8.4691e-03   \n",
       "2476   3.2089e-02  -1.2351e-02   \\n1.0574e-02  -2.2969e-02  -2.5865e-02   \n",
       "2477   5.6200e-02  -7.7531e-03  \\n-5.5107e-04  -9.0997e-03  -7.3817e-03   \n",
       "\n",
       "              763          764            765          766          767  \n",
       "0     -8.1772e-03   6.5935e-03  \\n-5.3478e-03  -9.0537e-04  -1.7567e-02  \n",
       "1     -4.1981e-02  -8.4402e-03   \\n6.6602e-03   4.1784e-02  -3.1456e-02  \n",
       "2     -3.0844e-02  -4.1313e-03   \\n7.7285e-03  -3.1081e-02  -4.4574e-02  \n",
       "3      1.3648e-02  -2.9430e-02  \\n-3.1257e-02   1.7675e-02  -1.1772e-02  \n",
       "4     -6.4117e-02  -1.6162e-02  \\n-2.5506e-02  -1.0574e-02   1.2554e-02  \n",
       "...           ...          ...            ...          ...          ...  \n",
       "2473  -3.8386e-02  -1.8423e-02  \\n-9.4091e-03  -3.5115e-03  -3.4010e-02  \n",
       "2474  -2.0725e-02   7.7193e-03  \\n-5.1536e-02   1.7156e-02  -1.5856e-03  \n",
       "2475  -2.4868e-02   1.1474e-02  \\n-1.0654e-02   3.5777e-03  -1.7218e-02  \n",
       "2476  -4.5488e-02  -2.5494e-02  \\n-2.7117e-02  -1.5894e-02  -8.8320e-03  \n",
       "2477  -5.4165e-02   1.2765e-02   \\n1.3144e-02  -1.4591e-02   1.1292e-02  \n",
       "\n",
       "[2478 rows x 768 columns]"
      ]
     },
     "execution_count": 11,
     "metadata": {},
     "output_type": "execute_result"
    }
   ],
   "source": [
    "train_to_ml_fp_pr"
   ]
  },
  {
   "cell_type": "code",
   "execution_count": 9,
   "id": "f984f01a",
   "metadata": {},
   "outputs": [],
   "source": [
    "train_to_ml_fp_pr = train_to_ml_fp_pr.astype('float64')\n",
    "train_to_ml_sp_pr = train_to_ml_sp_pr.astype('float64') \n",
    "train_to_ml_facts_pr = train_to_ml_facts_pr.astype('float64')\n"
   ]
  },
  {
   "cell_type": "code",
   "execution_count": 10,
   "id": "e83aa986",
   "metadata": {},
   "outputs": [
    {
     "name": "stdout",
     "output_type": "stream",
     "text": [
      "<class 'pandas.core.frame.DataFrame'>\n",
      "RangeIndex: 2478 entries, 0 to 2477\n",
      "Columns: 768 entries, 0 to 767\n",
      "dtypes: float64(768)\n",
      "memory usage: 14.5 MB\n"
     ]
    }
   ],
   "source": [
    "train_to_ml_fp_pr.info()"
   ]
  },
  {
   "cell_type": "code",
   "execution_count": 11,
   "id": "1b0b2091",
   "metadata": {},
   "outputs": [
    {
     "name": "stderr",
     "output_type": "stream",
     "text": [
      "100%|██████████████████████| 1240/1240 [00:00<00:00, 2263.22it/s]\n",
      "100%|██████████████████████| 1240/1240 [00:00<00:00, 2265.55it/s]\n",
      "100%|██████████████████████| 1240/1240 [00:00<00:00, 2250.22it/s]\n"
     ]
    }
   ],
   "source": [
    "test_to_ml_fp_pr = dlc.tensor_separator(test_ready_to_ml, 'first_party_berted')\n",
    "test_to_ml_sp_pr = dlc.tensor_separator(test_ready_to_ml, 'second_party_berted')\n",
    "test_to_ml_facts_pr = dlc.tensor_separator(test_ready_to_ml, 'facts_berted')"
   ]
  },
  {
   "cell_type": "code",
   "execution_count": 12,
   "id": "56114c0b",
   "metadata": {},
   "outputs": [],
   "source": [
    "test_to_ml_fp_pr = test_to_ml_fp_pr.astype('float64')\n",
    "test_to_ml_sp_pr = test_to_ml_sp_pr.astype('float64')\n",
    "test_to_ml_facts_pr = test_to_ml_facts_pr.astype('float64')"
   ]
  },
  {
   "cell_type": "code",
   "execution_count": 13,
   "id": "90c241ba",
   "metadata": {},
   "outputs": [],
   "source": [
    "to_be_X = pd.concat([train_to_ml_fp_pr, train_to_ml_facts_pr], axis=1)\n",
    "to_be_test_x = pd.concat([test_to_ml_fp_pr, test_to_ml_facts_pr], axis=1)\n"
   ]
  },
  {
   "cell_type": "code",
   "execution_count": 14,
   "id": "9e5e68ee",
   "metadata": {
    "scrolled": false
   },
   "outputs": [
    {
     "data": {
      "text/html": [
       "<div>\n",
       "<style scoped>\n",
       "    .dataframe tbody tr th:only-of-type {\n",
       "        vertical-align: middle;\n",
       "    }\n",
       "\n",
       "    .dataframe tbody tr th {\n",
       "        vertical-align: top;\n",
       "    }\n",
       "\n",
       "    .dataframe thead th {\n",
       "        text-align: right;\n",
       "    }\n",
       "</style>\n",
       "<table border=\"1\" class=\"dataframe\">\n",
       "  <thead>\n",
       "    <tr style=\"text-align: right;\">\n",
       "      <th></th>\n",
       "      <th>0</th>\n",
       "      <th>1</th>\n",
       "      <th>2</th>\n",
       "      <th>3</th>\n",
       "      <th>4</th>\n",
       "      <th>5</th>\n",
       "      <th>6</th>\n",
       "      <th>7</th>\n",
       "      <th>8</th>\n",
       "      <th>9</th>\n",
       "      <th>...</th>\n",
       "      <th>1527</th>\n",
       "      <th>1528</th>\n",
       "      <th>1529</th>\n",
       "      <th>1530</th>\n",
       "      <th>1531</th>\n",
       "      <th>1532</th>\n",
       "      <th>1533</th>\n",
       "      <th>1534</th>\n",
       "      <th>1535</th>\n",
       "      <th>first_party_winner</th>\n",
       "    </tr>\n",
       "  </thead>\n",
       "  <tbody>\n",
       "    <tr>\n",
       "      <th>0</th>\n",
       "      <td>0.005036</td>\n",
       "      <td>0.006439</td>\n",
       "      <td>-0.012888</td>\n",
       "      <td>-0.007303</td>\n",
       "      <td>-0.017571</td>\n",
       "      <td>-0.029552</td>\n",
       "      <td>-0.006318</td>\n",
       "      <td>0.025047</td>\n",
       "      <td>-0.009394</td>\n",
       "      <td>-0.015124</td>\n",
       "      <td>...</td>\n",
       "      <td>-0.018174</td>\n",
       "      <td>0.001737</td>\n",
       "      <td>0.003518</td>\n",
       "      <td>-0.010968</td>\n",
       "      <td>-0.030724</td>\n",
       "      <td>-0.035971</td>\n",
       "      <td>-0.038689</td>\n",
       "      <td>-0.006275</td>\n",
       "      <td>-0.010507</td>\n",
       "      <td>1</td>\n",
       "    </tr>\n",
       "    <tr>\n",
       "      <th>1</th>\n",
       "      <td>-0.003902</td>\n",
       "      <td>0.026781</td>\n",
       "      <td>-0.044628</td>\n",
       "      <td>-0.032344</td>\n",
       "      <td>-0.001729</td>\n",
       "      <td>-0.018735</td>\n",
       "      <td>0.002111</td>\n",
       "      <td>-0.018207</td>\n",
       "      <td>-0.009919</td>\n",
       "      <td>-0.075807</td>\n",
       "      <td>...</td>\n",
       "      <td>-0.010969</td>\n",
       "      <td>0.006232</td>\n",
       "      <td>-0.012417</td>\n",
       "      <td>-0.020754</td>\n",
       "      <td>-0.016356</td>\n",
       "      <td>-0.039208</td>\n",
       "      <td>-0.031188</td>\n",
       "      <td>-0.014293</td>\n",
       "      <td>-0.026212</td>\n",
       "      <td>0</td>\n",
       "    </tr>\n",
       "    <tr>\n",
       "      <th>2</th>\n",
       "      <td>0.003050</td>\n",
       "      <td>0.009259</td>\n",
       "      <td>-0.017064</td>\n",
       "      <td>-0.019458</td>\n",
       "      <td>-0.006200</td>\n",
       "      <td>-0.008553</td>\n",
       "      <td>0.050010</td>\n",
       "      <td>0.035903</td>\n",
       "      <td>-0.030393</td>\n",
       "      <td>-0.020106</td>\n",
       "      <td>...</td>\n",
       "      <td>-0.011412</td>\n",
       "      <td>-0.006155</td>\n",
       "      <td>-0.010546</td>\n",
       "      <td>-0.024606</td>\n",
       "      <td>-0.025278</td>\n",
       "      <td>-0.054787</td>\n",
       "      <td>-0.016296</td>\n",
       "      <td>-0.009530</td>\n",
       "      <td>-0.012053</td>\n",
       "      <td>1</td>\n",
       "    </tr>\n",
       "    <tr>\n",
       "      <th>3</th>\n",
       "      <td>-0.015234</td>\n",
       "      <td>-0.000875</td>\n",
       "      <td>0.015897</td>\n",
       "      <td>-0.018534</td>\n",
       "      <td>0.054608</td>\n",
       "      <td>-0.030493</td>\n",
       "      <td>0.041842</td>\n",
       "      <td>0.057857</td>\n",
       "      <td>-0.013273</td>\n",
       "      <td>-0.019490</td>\n",
       "      <td>...</td>\n",
       "      <td>-0.019637</td>\n",
       "      <td>-0.005936</td>\n",
       "      <td>-0.003335</td>\n",
       "      <td>-0.026111</td>\n",
       "      <td>-0.015403</td>\n",
       "      <td>0.000960</td>\n",
       "      <td>-0.027738</td>\n",
       "      <td>0.005133</td>\n",
       "      <td>-0.012935</td>\n",
       "      <td>0</td>\n",
       "    </tr>\n",
       "    <tr>\n",
       "      <th>4</th>\n",
       "      <td>-0.011956</td>\n",
       "      <td>-0.009987</td>\n",
       "      <td>0.020198</td>\n",
       "      <td>0.009508</td>\n",
       "      <td>0.024592</td>\n",
       "      <td>-0.037784</td>\n",
       "      <td>0.020635</td>\n",
       "      <td>-0.023835</td>\n",
       "      <td>-0.029138</td>\n",
       "      <td>-0.031670</td>\n",
       "      <td>...</td>\n",
       "      <td>-0.033741</td>\n",
       "      <td>0.007560</td>\n",
       "      <td>-0.023639</td>\n",
       "      <td>-0.028438</td>\n",
       "      <td>-0.010833</td>\n",
       "      <td>-0.030627</td>\n",
       "      <td>-0.035033</td>\n",
       "      <td>-0.000732</td>\n",
       "      <td>-0.024343</td>\n",
       "      <td>1</td>\n",
       "    </tr>\n",
       "    <tr>\n",
       "      <th>...</th>\n",
       "      <td>...</td>\n",
       "      <td>...</td>\n",
       "      <td>...</td>\n",
       "      <td>...</td>\n",
       "      <td>...</td>\n",
       "      <td>...</td>\n",
       "      <td>...</td>\n",
       "      <td>...</td>\n",
       "      <td>...</td>\n",
       "      <td>...</td>\n",
       "      <td>...</td>\n",
       "      <td>...</td>\n",
       "      <td>...</td>\n",
       "      <td>...</td>\n",
       "      <td>...</td>\n",
       "      <td>...</td>\n",
       "      <td>...</td>\n",
       "      <td>...</td>\n",
       "      <td>...</td>\n",
       "      <td>...</td>\n",
       "      <td>...</td>\n",
       "    </tr>\n",
       "    <tr>\n",
       "      <th>2473</th>\n",
       "      <td>-0.020591</td>\n",
       "      <td>-0.056972</td>\n",
       "      <td>-0.033879</td>\n",
       "      <td>0.031382</td>\n",
       "      <td>0.079985</td>\n",
       "      <td>0.025763</td>\n",
       "      <td>-0.006569</td>\n",
       "      <td>0.044251</td>\n",
       "      <td>-0.008797</td>\n",
       "      <td>-0.060979</td>\n",
       "      <td>...</td>\n",
       "      <td>-0.027422</td>\n",
       "      <td>0.000112</td>\n",
       "      <td>0.015122</td>\n",
       "      <td>0.009355</td>\n",
       "      <td>-0.046905</td>\n",
       "      <td>-0.002683</td>\n",
       "      <td>-0.008214</td>\n",
       "      <td>-0.000282</td>\n",
       "      <td>-0.009470</td>\n",
       "      <td>1</td>\n",
       "    </tr>\n",
       "    <tr>\n",
       "      <th>2474</th>\n",
       "      <td>-0.023678</td>\n",
       "      <td>-0.022937</td>\n",
       "      <td>-0.022214</td>\n",
       "      <td>0.013166</td>\n",
       "      <td>0.054840</td>\n",
       "      <td>0.011287</td>\n",
       "      <td>0.016339</td>\n",
       "      <td>0.090016</td>\n",
       "      <td>0.000314</td>\n",
       "      <td>0.001474</td>\n",
       "      <td>...</td>\n",
       "      <td>-0.017667</td>\n",
       "      <td>0.015822</td>\n",
       "      <td>-0.002527</td>\n",
       "      <td>0.004892</td>\n",
       "      <td>-0.039568</td>\n",
       "      <td>-0.052614</td>\n",
       "      <td>-0.034712</td>\n",
       "      <td>-0.004466</td>\n",
       "      <td>0.008349</td>\n",
       "      <td>1</td>\n",
       "    </tr>\n",
       "    <tr>\n",
       "      <th>2475</th>\n",
       "      <td>-0.004295</td>\n",
       "      <td>-0.029256</td>\n",
       "      <td>-0.015316</td>\n",
       "      <td>-0.010641</td>\n",
       "      <td>0.007141</td>\n",
       "      <td>0.021234</td>\n",
       "      <td>0.005180</td>\n",
       "      <td>0.064935</td>\n",
       "      <td>-0.022453</td>\n",
       "      <td>-0.034121</td>\n",
       "      <td>...</td>\n",
       "      <td>-0.011819</td>\n",
       "      <td>0.019265</td>\n",
       "      <td>-0.019696</td>\n",
       "      <td>-0.024496</td>\n",
       "      <td>-0.042203</td>\n",
       "      <td>-0.044682</td>\n",
       "      <td>-0.023756</td>\n",
       "      <td>-0.004682</td>\n",
       "      <td>0.003538</td>\n",
       "      <td>0</td>\n",
       "    </tr>\n",
       "    <tr>\n",
       "      <th>2476</th>\n",
       "      <td>0.021019</td>\n",
       "      <td>-0.003120</td>\n",
       "      <td>-0.007031</td>\n",
       "      <td>0.007962</td>\n",
       "      <td>0.045658</td>\n",
       "      <td>0.014659</td>\n",
       "      <td>0.024269</td>\n",
       "      <td>-0.021894</td>\n",
       "      <td>-0.032928</td>\n",
       "      <td>-0.029230</td>\n",
       "      <td>...</td>\n",
       "      <td>-0.023799</td>\n",
       "      <td>0.002132</td>\n",
       "      <td>-0.011824</td>\n",
       "      <td>-0.020932</td>\n",
       "      <td>-0.033988</td>\n",
       "      <td>-0.028924</td>\n",
       "      <td>-0.045331</td>\n",
       "      <td>-0.013245</td>\n",
       "      <td>-0.016124</td>\n",
       "      <td>0</td>\n",
       "    </tr>\n",
       "    <tr>\n",
       "      <th>2477</th>\n",
       "      <td>-0.006356</td>\n",
       "      <td>-0.011619</td>\n",
       "      <td>-0.007439</td>\n",
       "      <td>-0.012634</td>\n",
       "      <td>-0.008010</td>\n",
       "      <td>-0.005947</td>\n",
       "      <td>0.032153</td>\n",
       "      <td>-0.016714</td>\n",
       "      <td>0.039917</td>\n",
       "      <td>-0.046451</td>\n",
       "      <td>...</td>\n",
       "      <td>-0.031149</td>\n",
       "      <td>-0.003120</td>\n",
       "      <td>0.002196</td>\n",
       "      <td>-0.010829</td>\n",
       "      <td>-0.016647</td>\n",
       "      <td>-0.037060</td>\n",
       "      <td>-0.035695</td>\n",
       "      <td>-0.007506</td>\n",
       "      <td>0.002923</td>\n",
       "      <td>0</td>\n",
       "    </tr>\n",
       "  </tbody>\n",
       "</table>\n",
       "<p>2478 rows × 1537 columns</p>\n",
       "</div>"
      ],
      "text/plain": [
       "             0         1         2         3         4         5         6  \\\n",
       "0     0.005036  0.006439 -0.012888 -0.007303 -0.017571 -0.029552 -0.006318   \n",
       "1    -0.003902  0.026781 -0.044628 -0.032344 -0.001729 -0.018735  0.002111   \n",
       "2     0.003050  0.009259 -0.017064 -0.019458 -0.006200 -0.008553  0.050010   \n",
       "3    -0.015234 -0.000875  0.015897 -0.018534  0.054608 -0.030493  0.041842   \n",
       "4    -0.011956 -0.009987  0.020198  0.009508  0.024592 -0.037784  0.020635   \n",
       "...        ...       ...       ...       ...       ...       ...       ...   \n",
       "2473 -0.020591 -0.056972 -0.033879  0.031382  0.079985  0.025763 -0.006569   \n",
       "2474 -0.023678 -0.022937 -0.022214  0.013166  0.054840  0.011287  0.016339   \n",
       "2475 -0.004295 -0.029256 -0.015316 -0.010641  0.007141  0.021234  0.005180   \n",
       "2476  0.021019 -0.003120 -0.007031  0.007962  0.045658  0.014659  0.024269   \n",
       "2477 -0.006356 -0.011619 -0.007439 -0.012634 -0.008010 -0.005947  0.032153   \n",
       "\n",
       "             7         8         9  ...      1527      1528      1529  \\\n",
       "0     0.025047 -0.009394 -0.015124  ... -0.018174  0.001737  0.003518   \n",
       "1    -0.018207 -0.009919 -0.075807  ... -0.010969  0.006232 -0.012417   \n",
       "2     0.035903 -0.030393 -0.020106  ... -0.011412 -0.006155 -0.010546   \n",
       "3     0.057857 -0.013273 -0.019490  ... -0.019637 -0.005936 -0.003335   \n",
       "4    -0.023835 -0.029138 -0.031670  ... -0.033741  0.007560 -0.023639   \n",
       "...        ...       ...       ...  ...       ...       ...       ...   \n",
       "2473  0.044251 -0.008797 -0.060979  ... -0.027422  0.000112  0.015122   \n",
       "2474  0.090016  0.000314  0.001474  ... -0.017667  0.015822 -0.002527   \n",
       "2475  0.064935 -0.022453 -0.034121  ... -0.011819  0.019265 -0.019696   \n",
       "2476 -0.021894 -0.032928 -0.029230  ... -0.023799  0.002132 -0.011824   \n",
       "2477 -0.016714  0.039917 -0.046451  ... -0.031149 -0.003120  0.002196   \n",
       "\n",
       "          1530      1531      1532      1533      1534      1535  \\\n",
       "0    -0.010968 -0.030724 -0.035971 -0.038689 -0.006275 -0.010507   \n",
       "1    -0.020754 -0.016356 -0.039208 -0.031188 -0.014293 -0.026212   \n",
       "2    -0.024606 -0.025278 -0.054787 -0.016296 -0.009530 -0.012053   \n",
       "3    -0.026111 -0.015403  0.000960 -0.027738  0.005133 -0.012935   \n",
       "4    -0.028438 -0.010833 -0.030627 -0.035033 -0.000732 -0.024343   \n",
       "...        ...       ...       ...       ...       ...       ...   \n",
       "2473  0.009355 -0.046905 -0.002683 -0.008214 -0.000282 -0.009470   \n",
       "2474  0.004892 -0.039568 -0.052614 -0.034712 -0.004466  0.008349   \n",
       "2475 -0.024496 -0.042203 -0.044682 -0.023756 -0.004682  0.003538   \n",
       "2476 -0.020932 -0.033988 -0.028924 -0.045331 -0.013245 -0.016124   \n",
       "2477 -0.010829 -0.016647 -0.037060 -0.035695 -0.007506  0.002923   \n",
       "\n",
       "      first_party_winner  \n",
       "0                      1  \n",
       "1                      0  \n",
       "2                      1  \n",
       "3                      0  \n",
       "4                      1  \n",
       "...                  ...  \n",
       "2473                   1  \n",
       "2474                   1  \n",
       "2475                   0  \n",
       "2476                   0  \n",
       "2477                   0  \n",
       "\n",
       "[2478 rows x 1537 columns]"
      ]
     },
     "execution_count": 14,
     "metadata": {},
     "output_type": "execute_result"
    }
   ],
   "source": [
    "to_be_X.columns = np.arange(len(to_be_X.columns))\n",
    "to_be_X = pd.concat([to_be_X, train_to_ml['first_party_winner']], axis =1)\n",
    "to_be_X"
   ]
  },
  {
   "cell_type": "code",
   "execution_count": 15,
   "id": "1a86385b",
   "metadata": {},
   "outputs": [
    {
     "data": {
      "text/html": [
       "<div>\n",
       "<style scoped>\n",
       "    .dataframe tbody tr th:only-of-type {\n",
       "        vertical-align: middle;\n",
       "    }\n",
       "\n",
       "    .dataframe tbody tr th {\n",
       "        vertical-align: top;\n",
       "    }\n",
       "\n",
       "    .dataframe thead th {\n",
       "        text-align: right;\n",
       "    }\n",
       "</style>\n",
       "<table border=\"1\" class=\"dataframe\">\n",
       "  <thead>\n",
       "    <tr style=\"text-align: right;\">\n",
       "      <th></th>\n",
       "      <th>0</th>\n",
       "      <th>1</th>\n",
       "      <th>2</th>\n",
       "      <th>3</th>\n",
       "      <th>4</th>\n",
       "      <th>5</th>\n",
       "      <th>6</th>\n",
       "      <th>7</th>\n",
       "      <th>8</th>\n",
       "      <th>9</th>\n",
       "      <th>...</th>\n",
       "      <th>1526</th>\n",
       "      <th>1527</th>\n",
       "      <th>1528</th>\n",
       "      <th>1529</th>\n",
       "      <th>1530</th>\n",
       "      <th>1531</th>\n",
       "      <th>1532</th>\n",
       "      <th>1533</th>\n",
       "      <th>1534</th>\n",
       "      <th>1535</th>\n",
       "    </tr>\n",
       "  </thead>\n",
       "  <tbody>\n",
       "    <tr>\n",
       "      <th>0</th>\n",
       "      <td>-0.006672</td>\n",
       "      <td>-0.080011</td>\n",
       "      <td>-0.014580</td>\n",
       "      <td>-0.038840</td>\n",
       "      <td>0.048455</td>\n",
       "      <td>-0.040639</td>\n",
       "      <td>0.039663</td>\n",
       "      <td>0.068547</td>\n",
       "      <td>0.002239</td>\n",
       "      <td>-0.029425</td>\n",
       "      <td>...</td>\n",
       "      <td>-0.012600</td>\n",
       "      <td>-0.023597</td>\n",
       "      <td>-0.003138</td>\n",
       "      <td>-0.008353</td>\n",
       "      <td>-0.034796</td>\n",
       "      <td>-0.020804</td>\n",
       "      <td>-0.006913</td>\n",
       "      <td>-0.038063</td>\n",
       "      <td>0.008657</td>\n",
       "      <td>-0.021999</td>\n",
       "    </tr>\n",
       "    <tr>\n",
       "      <th>1</th>\n",
       "      <td>-0.003053</td>\n",
       "      <td>-0.011769</td>\n",
       "      <td>-0.034803</td>\n",
       "      <td>-0.041324</td>\n",
       "      <td>-0.026498</td>\n",
       "      <td>-0.014561</td>\n",
       "      <td>0.012917</td>\n",
       "      <td>-0.009658</td>\n",
       "      <td>-0.000563</td>\n",
       "      <td>-0.018914</td>\n",
       "      <td>...</td>\n",
       "      <td>-0.018383</td>\n",
       "      <td>-0.027521</td>\n",
       "      <td>0.004810</td>\n",
       "      <td>-0.006279</td>\n",
       "      <td>-0.019910</td>\n",
       "      <td>-0.044318</td>\n",
       "      <td>-0.049594</td>\n",
       "      <td>-0.022413</td>\n",
       "      <td>0.012250</td>\n",
       "      <td>0.003738</td>\n",
       "    </tr>\n",
       "    <tr>\n",
       "      <th>2</th>\n",
       "      <td>-0.025638</td>\n",
       "      <td>-0.016005</td>\n",
       "      <td>-0.021478</td>\n",
       "      <td>0.014413</td>\n",
       "      <td>0.048054</td>\n",
       "      <td>-0.036683</td>\n",
       "      <td>-0.034054</td>\n",
       "      <td>0.043429</td>\n",
       "      <td>-0.017806</td>\n",
       "      <td>-0.045973</td>\n",
       "      <td>...</td>\n",
       "      <td>-0.023804</td>\n",
       "      <td>-0.017397</td>\n",
       "      <td>0.008190</td>\n",
       "      <td>-0.010989</td>\n",
       "      <td>-0.014011</td>\n",
       "      <td>-0.041264</td>\n",
       "      <td>-0.009615</td>\n",
       "      <td>-0.012293</td>\n",
       "      <td>-0.000732</td>\n",
       "      <td>0.010219</td>\n",
       "    </tr>\n",
       "    <tr>\n",
       "      <th>3</th>\n",
       "      <td>0.028991</td>\n",
       "      <td>0.036599</td>\n",
       "      <td>-0.059128</td>\n",
       "      <td>-0.030722</td>\n",
       "      <td>-0.017587</td>\n",
       "      <td>-0.028222</td>\n",
       "      <td>0.052064</td>\n",
       "      <td>-0.009327</td>\n",
       "      <td>0.006705</td>\n",
       "      <td>-0.008745</td>\n",
       "      <td>...</td>\n",
       "      <td>-0.021711</td>\n",
       "      <td>-0.015069</td>\n",
       "      <td>-0.001111</td>\n",
       "      <td>-0.014473</td>\n",
       "      <td>-0.025876</td>\n",
       "      <td>-0.006428</td>\n",
       "      <td>-0.018803</td>\n",
       "      <td>-0.028281</td>\n",
       "      <td>-0.004001</td>\n",
       "      <td>-0.012030</td>\n",
       "    </tr>\n",
       "    <tr>\n",
       "      <th>4</th>\n",
       "      <td>0.036941</td>\n",
       "      <td>-0.039247</td>\n",
       "      <td>-0.026675</td>\n",
       "      <td>-0.006587</td>\n",
       "      <td>-0.022472</td>\n",
       "      <td>-0.016113</td>\n",
       "      <td>0.046348</td>\n",
       "      <td>-0.012971</td>\n",
       "      <td>0.029547</td>\n",
       "      <td>-0.051456</td>\n",
       "      <td>...</td>\n",
       "      <td>-0.016862</td>\n",
       "      <td>-0.034918</td>\n",
       "      <td>0.005033</td>\n",
       "      <td>0.000040</td>\n",
       "      <td>-0.037341</td>\n",
       "      <td>-0.040531</td>\n",
       "      <td>-0.014745</td>\n",
       "      <td>-0.042890</td>\n",
       "      <td>-0.000467</td>\n",
       "      <td>-0.010147</td>\n",
       "    </tr>\n",
       "    <tr>\n",
       "      <th>...</th>\n",
       "      <td>...</td>\n",
       "      <td>...</td>\n",
       "      <td>...</td>\n",
       "      <td>...</td>\n",
       "      <td>...</td>\n",
       "      <td>...</td>\n",
       "      <td>...</td>\n",
       "      <td>...</td>\n",
       "      <td>...</td>\n",
       "      <td>...</td>\n",
       "      <td>...</td>\n",
       "      <td>...</td>\n",
       "      <td>...</td>\n",
       "      <td>...</td>\n",
       "      <td>...</td>\n",
       "      <td>...</td>\n",
       "      <td>...</td>\n",
       "      <td>...</td>\n",
       "      <td>...</td>\n",
       "      <td>...</td>\n",
       "      <td>...</td>\n",
       "    </tr>\n",
       "    <tr>\n",
       "      <th>1235</th>\n",
       "      <td>-0.017606</td>\n",
       "      <td>-0.026507</td>\n",
       "      <td>-0.038503</td>\n",
       "      <td>-0.013017</td>\n",
       "      <td>0.036128</td>\n",
       "      <td>-0.006750</td>\n",
       "      <td>-0.023582</td>\n",
       "      <td>0.004234</td>\n",
       "      <td>-0.010011</td>\n",
       "      <td>-0.024067</td>\n",
       "      <td>...</td>\n",
       "      <td>-0.010572</td>\n",
       "      <td>-0.034447</td>\n",
       "      <td>-0.002972</td>\n",
       "      <td>-0.012302</td>\n",
       "      <td>-0.004949</td>\n",
       "      <td>-0.046846</td>\n",
       "      <td>-0.039191</td>\n",
       "      <td>-0.034175</td>\n",
       "      <td>-0.013973</td>\n",
       "      <td>0.006327</td>\n",
       "    </tr>\n",
       "    <tr>\n",
       "      <th>1236</th>\n",
       "      <td>-0.001220</td>\n",
       "      <td>-0.002364</td>\n",
       "      <td>-0.025906</td>\n",
       "      <td>-0.023937</td>\n",
       "      <td>0.002847</td>\n",
       "      <td>-0.021732</td>\n",
       "      <td>0.076602</td>\n",
       "      <td>-0.014772</td>\n",
       "      <td>-0.012813</td>\n",
       "      <td>-0.014318</td>\n",
       "      <td>...</td>\n",
       "      <td>-0.000953</td>\n",
       "      <td>-0.013990</td>\n",
       "      <td>0.002872</td>\n",
       "      <td>-0.030309</td>\n",
       "      <td>-0.013520</td>\n",
       "      <td>-0.053392</td>\n",
       "      <td>-0.012986</td>\n",
       "      <td>-0.014506</td>\n",
       "      <td>-0.011636</td>\n",
       "      <td>0.024630</td>\n",
       "    </tr>\n",
       "    <tr>\n",
       "      <th>1237</th>\n",
       "      <td>0.001026</td>\n",
       "      <td>0.023440</td>\n",
       "      <td>0.013377</td>\n",
       "      <td>0.016586</td>\n",
       "      <td>0.024960</td>\n",
       "      <td>-0.001395</td>\n",
       "      <td>0.063505</td>\n",
       "      <td>-0.017101</td>\n",
       "      <td>-0.032935</td>\n",
       "      <td>-0.016052</td>\n",
       "      <td>...</td>\n",
       "      <td>-0.018592</td>\n",
       "      <td>-0.016234</td>\n",
       "      <td>0.018842</td>\n",
       "      <td>-0.002355</td>\n",
       "      <td>-0.015415</td>\n",
       "      <td>-0.033917</td>\n",
       "      <td>-0.057270</td>\n",
       "      <td>-0.028927</td>\n",
       "      <td>-0.005387</td>\n",
       "      <td>0.000249</td>\n",
       "    </tr>\n",
       "    <tr>\n",
       "      <th>1238</th>\n",
       "      <td>0.001634</td>\n",
       "      <td>-0.000814</td>\n",
       "      <td>-0.014695</td>\n",
       "      <td>0.003300</td>\n",
       "      <td>0.001420</td>\n",
       "      <td>0.028769</td>\n",
       "      <td>-0.025222</td>\n",
       "      <td>0.065449</td>\n",
       "      <td>-0.011581</td>\n",
       "      <td>-0.044858</td>\n",
       "      <td>...</td>\n",
       "      <td>0.004752</td>\n",
       "      <td>0.003640</td>\n",
       "      <td>0.013376</td>\n",
       "      <td>-0.006307</td>\n",
       "      <td>-0.005089</td>\n",
       "      <td>-0.044533</td>\n",
       "      <td>-0.016824</td>\n",
       "      <td>-0.018459</td>\n",
       "      <td>-0.004400</td>\n",
       "      <td>0.022938</td>\n",
       "    </tr>\n",
       "    <tr>\n",
       "      <th>1239</th>\n",
       "      <td>-0.058938</td>\n",
       "      <td>0.010668</td>\n",
       "      <td>0.004917</td>\n",
       "      <td>-0.051615</td>\n",
       "      <td>0.033669</td>\n",
       "      <td>0.037903</td>\n",
       "      <td>0.019593</td>\n",
       "      <td>0.016298</td>\n",
       "      <td>-0.019234</td>\n",
       "      <td>-0.045782</td>\n",
       "      <td>...</td>\n",
       "      <td>-0.027754</td>\n",
       "      <td>-0.020528</td>\n",
       "      <td>0.022163</td>\n",
       "      <td>-0.013797</td>\n",
       "      <td>-0.022734</td>\n",
       "      <td>-0.028132</td>\n",
       "      <td>-0.043650</td>\n",
       "      <td>-0.025505</td>\n",
       "      <td>-0.002197</td>\n",
       "      <td>-0.011266</td>\n",
       "    </tr>\n",
       "  </tbody>\n",
       "</table>\n",
       "<p>1240 rows × 1536 columns</p>\n",
       "</div>"
      ],
      "text/plain": [
       "          0         1         2         3         4         5         6     \\\n",
       "0    -0.006672 -0.080011 -0.014580 -0.038840  0.048455 -0.040639  0.039663   \n",
       "1    -0.003053 -0.011769 -0.034803 -0.041324 -0.026498 -0.014561  0.012917   \n",
       "2    -0.025638 -0.016005 -0.021478  0.014413  0.048054 -0.036683 -0.034054   \n",
       "3     0.028991  0.036599 -0.059128 -0.030722 -0.017587 -0.028222  0.052064   \n",
       "4     0.036941 -0.039247 -0.026675 -0.006587 -0.022472 -0.016113  0.046348   \n",
       "...        ...       ...       ...       ...       ...       ...       ...   \n",
       "1235 -0.017606 -0.026507 -0.038503 -0.013017  0.036128 -0.006750 -0.023582   \n",
       "1236 -0.001220 -0.002364 -0.025906 -0.023937  0.002847 -0.021732  0.076602   \n",
       "1237  0.001026  0.023440  0.013377  0.016586  0.024960 -0.001395  0.063505   \n",
       "1238  0.001634 -0.000814 -0.014695  0.003300  0.001420  0.028769 -0.025222   \n",
       "1239 -0.058938  0.010668  0.004917 -0.051615  0.033669  0.037903  0.019593   \n",
       "\n",
       "          7         8         9     ...      1526      1527      1528  \\\n",
       "0     0.068547  0.002239 -0.029425  ... -0.012600 -0.023597 -0.003138   \n",
       "1    -0.009658 -0.000563 -0.018914  ... -0.018383 -0.027521  0.004810   \n",
       "2     0.043429 -0.017806 -0.045973  ... -0.023804 -0.017397  0.008190   \n",
       "3    -0.009327  0.006705 -0.008745  ... -0.021711 -0.015069 -0.001111   \n",
       "4    -0.012971  0.029547 -0.051456  ... -0.016862 -0.034918  0.005033   \n",
       "...        ...       ...       ...  ...       ...       ...       ...   \n",
       "1235  0.004234 -0.010011 -0.024067  ... -0.010572 -0.034447 -0.002972   \n",
       "1236 -0.014772 -0.012813 -0.014318  ... -0.000953 -0.013990  0.002872   \n",
       "1237 -0.017101 -0.032935 -0.016052  ... -0.018592 -0.016234  0.018842   \n",
       "1238  0.065449 -0.011581 -0.044858  ...  0.004752  0.003640  0.013376   \n",
       "1239  0.016298 -0.019234 -0.045782  ... -0.027754 -0.020528  0.022163   \n",
       "\n",
       "          1529      1530      1531      1532      1533      1534      1535  \n",
       "0    -0.008353 -0.034796 -0.020804 -0.006913 -0.038063  0.008657 -0.021999  \n",
       "1    -0.006279 -0.019910 -0.044318 -0.049594 -0.022413  0.012250  0.003738  \n",
       "2    -0.010989 -0.014011 -0.041264 -0.009615 -0.012293 -0.000732  0.010219  \n",
       "3    -0.014473 -0.025876 -0.006428 -0.018803 -0.028281 -0.004001 -0.012030  \n",
       "4     0.000040 -0.037341 -0.040531 -0.014745 -0.042890 -0.000467 -0.010147  \n",
       "...        ...       ...       ...       ...       ...       ...       ...  \n",
       "1235 -0.012302 -0.004949 -0.046846 -0.039191 -0.034175 -0.013973  0.006327  \n",
       "1236 -0.030309 -0.013520 -0.053392 -0.012986 -0.014506 -0.011636  0.024630  \n",
       "1237 -0.002355 -0.015415 -0.033917 -0.057270 -0.028927 -0.005387  0.000249  \n",
       "1238 -0.006307 -0.005089 -0.044533 -0.016824 -0.018459 -0.004400  0.022938  \n",
       "1239 -0.013797 -0.022734 -0.028132 -0.043650 -0.025505 -0.002197 -0.011266  \n",
       "\n",
       "[1240 rows x 1536 columns]"
      ]
     },
     "execution_count": 15,
     "metadata": {},
     "output_type": "execute_result"
    }
   ],
   "source": [
    "to_be_test_x.columns = np.arange(len(to_be_test_x.columns))\n",
    "to_be_test_x"
   ]
  },
  {
   "cell_type": "code",
   "execution_count": 16,
   "id": "672d6193",
   "metadata": {},
   "outputs": [],
   "source": [
    "X = to_be_X.drop(columns='first_party_winner')\n",
    "y = pd.DataFrame(to_be_X['first_party_winner'])"
   ]
  },
  {
   "cell_type": "code",
   "execution_count": 17,
   "id": "955f8d27",
   "metadata": {},
   "outputs": [],
   "source": [
    "test_x = to_be_test_x"
   ]
  },
  {
   "cell_type": "code",
   "execution_count": 18,
   "id": "d75a4d28",
   "metadata": {
    "scrolled": true
   },
   "outputs": [
    {
     "name": "stdout",
     "output_type": "stream",
     "text": [
      "<class 'pandas.core.frame.DataFrame'>\n",
      "RangeIndex: 2478 entries, 0 to 2477\n",
      "Columns: 1536 entries, 0 to 1535\n",
      "dtypes: float64(1536)\n",
      "memory usage: 29.0 MB\n",
      "\n",
      " --------------------------------------- \n",
      "\n",
      "<class 'pandas.core.frame.DataFrame'>\n",
      "RangeIndex: 2478 entries, 0 to 2477\n",
      "Data columns (total 1 columns):\n",
      " #   Column              Non-Null Count  Dtype\n",
      "---  ------              --------------  -----\n",
      " 0   first_party_winner  2478 non-null   int64\n",
      "dtypes: int64(1)\n",
      "memory usage: 19.5 KB\n",
      "\n",
      " --------------------------------------- \n",
      "\n",
      "<class 'pandas.core.frame.DataFrame'>\n",
      "RangeIndex: 1240 entries, 0 to 1239\n",
      "Columns: 1536 entries, 0 to 1535\n",
      "dtypes: float64(1536)\n",
      "memory usage: 14.5 MB\n"
     ]
    }
   ],
   "source": [
    "X.info()\n",
    "\n",
    "print('\\n --------------------------------------- \\n')\n",
    "\n",
    "y.info()\n",
    "\n",
    "print('\\n --------------------------------------- \\n')\n",
    "\n",
    "test_x.info()"
   ]
  },
  {
   "cell_type": "code",
   "execution_count": 19,
   "id": "bcb14756",
   "metadata": {},
   "outputs": [
    {
     "name": "stdout",
     "output_type": "stream",
     "text": [
      "(1734, 1536) (744, 1536) (1734, 1) (744, 1)\n"
     ]
    }
   ],
   "source": [
    "X_train, X_val, y_train, y_val = train_test_split(X, y, test_size=0.3, random_state=42)\n",
    "print(X_train.shape, X_val.shape, y_train.shape, y_val.shape)"
   ]
  },
  {
   "cell_type": "code",
   "execution_count": null,
   "id": "bc5577c0",
   "metadata": {},
   "outputs": [],
   "source": []
  },
  {
   "cell_type": "code",
   "execution_count": null,
   "id": "1dc7225a",
   "metadata": {},
   "outputs": [],
   "source": [
    "def xgb_objective(trial):\n",
    "    xgb_params = {\n",
    "        'objective': 'binary:logistic',\n",
    "        'eval_metric': 'error',\n",
    "        'booster': 'gbtree',\n",
    "        'nthread': trial.suggest_int('nthread', 1, 15),\n",
    "        'n_estimators' : trial.suggest_int('n_estimators', 25, 1000),\n",
    "        'max_depth': trial.suggest_int('max_depth', 4, 15),\n",
    "        'subsample': trial.suggest_uniform('subsample', 0.1, 0.3),\n",
    "        'learning_rate': trial.suggest_loguniform('learning_rate', 0.01, 0.5),\n",
    "        'colsample_bytree': trial.suggest_uniform('colsample_bytree', 0.5, 0.7),\n",
    "        'lambda': trial.suggest_loguniform('lambda', 0.2, 200),\n",
    "        'random_state': 42,\n",
    "        'min_child_weight': trial.suggest_int('min_child_weight', 1, 3)\n",
    "    }\n",
    "    \n",
    "\n",
    "\n",
    "    xgb_model = xgb(**xgb_params)\n",
    "    xgb_model.fit(X_train, y_train)\n",
    "    xgb_preds = xgb_model.predict(X_val)\n",
    "    \n",
    "    return accuracy_score(y_val, xgb_preds)\n"
   ]
  },
  {
   "cell_type": "code",
   "execution_count": null,
   "id": "c61094c4",
   "metadata": {},
   "outputs": [],
   "source": [
    "def lgb_objective(trial):\n",
    "    lgb_params = {\n",
    "        'application': 'binary',\n",
    "        'max_depth': -1,\n",
    "        'metric': 'binary_logloss',\n",
    "        'boosting_type': trial.suggest_categorical('boosting_type', ['gbdt',  'dart']),\n",
    "        'num_leaves': trial.suggest_int('num_leaves', 10, 2000),\n",
    "        'lambda' : trial.suggest_float('lambda', 0.01, 0.5),\n",
    "        'num_iteration': 500,\n",
    "        'n_jobs': -1,\n",
    "        'learning_rate': trial.suggest_float('learning_rate', 0.05, 0.1),\n",
    "        'feature_fraction': trial.suggest_uniform('feature_fraction', 0.7, 0.9),\n",
    "        'bagging_fraction': trial.suggest_uniform('bagging_fraction', 0.1, 0.8),\n",
    "        'random_state': 42\n",
    "    }\n",
    "    \n",
    "    lgb_model = lgb.LGBMClassifier(**lgb_params)\n",
    "    lgb_model.fit(X_train, y_train)\n",
    "    lgb_preds = lgb_model.predict(X_val)\n",
    "    \n",
    "    return accuracy_score(y_val, lgb_preds)\n"
   ]
  },
  {
   "cell_type": "code",
   "execution_count": null,
   "id": "b6fb04d5",
   "metadata": {},
   "outputs": [],
   "source": [
    "def cat_objective(trial):\n",
    "    params = {\n",
    "            'loss_function': 'Logloss',\n",
    "            'learning_rate': learning_rate,\n",
    "            'depth': trial.suggest_int('depth', 3, 10),\n",
    "            'random_state': 42\n",
    "        }\n",
    "\n",
    "\n",
    "    model = cat.CatBoostClassifier(**params)\n",
    "    model.fit(X_train, y_train)\n",
    "    pred = model.predict(X_val)\n",
    "    \n",
    "    return accuracy_score(y_val, pred)"
   ]
  },
  {
   "cell_type": "code",
   "execution_count": 100,
   "id": "04034ecc",
   "metadata": {},
   "outputs": [],
   "source": [
    "def model_selector(trial):\n",
    "    model_type = trial.suggest_categorical('model_type', ['xgb', 'lgbm'])\n",
    "    random_state = 42\n",
    "\n",
    "\n",
    "    if model_type == 'xgb':\n",
    "        eval_metric = 'error'\n",
    "        objective = 'binary:logistic'\n",
    "        tree_method = trial.suggest_categorical('tree_method', ['exact', 'approx', 'hist'])\n",
    "\n",
    "        if tree_method == 'exact':\n",
    "            sampling_method = 'uniform'\n",
    "            subsample = 0.5\n",
    "            booster = trial.suggest_categorical('booster', ['dart', 'gbtree'])\n",
    "            if booster == 'gbtree':\n",
    "                max_depth = trial.suggest_int('max_depth', 1, 300)\n",
    "                n_estimators = trial.suggest_int('n_estimators', 1, 1000)\n",
    "                if n_estimators < 500:\n",
    "                    colsample_bytree = trial.suggest_loguniform('colsample_bytree', 0.3, 0.9)\n",
    "                    learning_rate = trial.suggest_categorical('learning_rate', [1e-4, 5e-4, 1e-3, 5e-3, 1e-2, 5e-2,\n",
    "                                                                                1e-1])  # aka eta, from 0 to 1, loguniform\n",
    "                    if learning_rate in [1e-4, 5e-4]:\n",
    "                        min_split_loss = trial.suggest_loguniform('min_split_loss', 0.1,\n",
    "                                                                  500)  # aka gamma, from 0 to 1, loguniform\n",
    "                        min_child_weight = trial.suggest_int('min_child_weight', 1, 20)  # from 0 to infinite, int\n",
    "                        alpha = trial.suggest_loguniform('alpha', 0.1, 20)  # from 0 to infinite, loguniform\n",
    "                        reg_lambda = trial.suggest_loguniform('reg_lambda', 0.01, 20)  # from 0 to infinite, loguniform\n",
    "                        model = xgb(\n",
    "                            eval_metric=eval_metric,\n",
    "                            objective=objective,\n",
    "                            learning_rate=learning_rate,\n",
    "                            sampling_method=sampling_method,\n",
    "                            subsample=subsample,\n",
    "                            colsample_bytree=colsample_bytree,\n",
    "                            max_depth=max_depth,\n",
    "                            tree_method=tree_method,\n",
    "                            booster=booster,\n",
    "                            min_split_loss=min_split_loss,\n",
    "                            min_child_weight=min_child_weight,\n",
    "                            alpha=alpha,\n",
    "                            reg_lambda=reg_lambda,\n",
    "                            random_state=random_state\n",
    "                        )\n",
    "\n",
    "                        model.fit(X_train, y_train)\n",
    "                        preds = model.predict(X_val)\n",
    "\n",
    "                        return accuracy_score(y_val, preds)\n",
    "\n",
    "                    elif learning_rate in [1e-3, 5e-3, 1e-2]:\n",
    "                        min_split_loss = trial.suggest_loguniform('min_split_loss', 200,\n",
    "                                                                  700)  # aka gamma, from 0 to 1, loguniform\n",
    "                        min_child_weight = trial.suggest_int('min_child_weight', 10, 30)  # from 0 to infinite, int\n",
    "                        alpha = trial.suggest_loguniform('alpha', 10, 30)  # from 0 to infinite, loguniform\n",
    "                        reg_lambda = trial.suggest_loguniform('reg_lambda', 10, 30)  # from 0 to infinite, loguniform\n",
    "                        model = xgb(\n",
    "                            eval_metric=eval_metric,\n",
    "                            objective=objective,\n",
    "                            learning_rate=learning_rate,\n",
    "                            sampling_method=sampling_method,\n",
    "                            subsample=subsample,\n",
    "                            colsample_bytree=colsample_bytree,\n",
    "                            max_depth=max_depth,\n",
    "                            tree_method=tree_method,\n",
    "                            booster=booster,\n",
    "                            min_split_loss=min_split_loss,\n",
    "                            min_child_weight=min_child_weight,\n",
    "                            alpha=alpha,\n",
    "                            reg_lambda=reg_lambda,\n",
    "                            random_state=random_state\n",
    "                        )\n",
    "\n",
    "                        model.fit(X_train, y_train)\n",
    "                        preds = model.predict(X_val)\n",
    "\n",
    "                        return accuracy_score(y_val, preds)\n",
    "\n",
    "                    elif learning_rate in [5e-2, 1e-1]:\n",
    "                        min_split_loss = trial.suggest_loguniform('min_split_loss', 500,\n",
    "                                                                  1000)  # aka gamma, from 0 to 1, loguniform\n",
    "                        min_child_weight = trial.suggest_int('min_child_weight', 20, 40)  # from 0 to infinite, int\n",
    "                        alpha = trial.suggest_loguniform('alpha', 20, 40)  # from 0 to infinite, loguniform\n",
    "                        reg_lambda = trial.suggest_loguniform('reg_lambda', 20, 40)  # from 0 to infinite, loguniform\n",
    "                        model = xgb(\n",
    "                            eval_metric=eval_metric,\n",
    "                            objective=objective,\n",
    "                            learning_rate=learning_rate,\n",
    "                            sampling_method=sampling_method,\n",
    "                            subsample=subsample,\n",
    "                            colsample_bytree=colsample_bytree,\n",
    "                            max_depth=max_depth,\n",
    "                            tree_method=tree_method,\n",
    "                            booster=booster,\n",
    "                            min_split_loss=min_split_loss,\n",
    "                            min_child_weight=min_child_weight,\n",
    "                            alpha=alpha,\n",
    "                            reg_lambda=reg_lambda,\n",
    "                            random_state=random_state\n",
    "                        )\n",
    "                        model.fit(X_train, y_train)\n",
    "                        preds = model.predict(X_val)\n",
    "\n",
    "                        return accuracy_score(y_val, preds)\n",
    "\n",
    "                elif n_estimators > 500:\n",
    "                    colsample_bytree = trial.suggest_loguniform('colsample_bytree', 0.1, 0.7)\n",
    "                    learning_rate = trial.suggest_categorical('learning_rate', [1e-4, 5e-4, 1e-3, 5e-3, 1e-2, 5e-2,\n",
    "                                                                            1e-1])  # aka eta, from 0 to 1, loguniform\n",
    "                    if learning_rate in [1e-4, 5e-4]:\n",
    "                        min_split_loss = trial.suggest_loguniform('min_split_loss', 0.1,\n",
    "                                                                  500)  # aka gamma, from 0 to 1, loguniform\n",
    "                        min_child_weight = trial.suggest_int('min_child_weight', 1, 20)  # from 0 to infinite, int\n",
    "                        alpha = trial.suggest_loguniform('alpha', 0.1, 20)  # from 0 to infinite, loguniform\n",
    "                        reg_lambda = trial.suggest_loguniform('reg_lambda', 0.01, 20)  # from 0 to infinite, loguniform\n",
    "                        model = xgb(\n",
    "                            eval_metric=eval_metric,\n",
    "                            objective=objective,\n",
    "                            learning_rate=learning_rate,\n",
    "                            sampling_method=sampling_method,\n",
    "                            subsample=subsample,\n",
    "                            colsample_bytree=colsample_bytree,\n",
    "                            max_depth=max_depth,\n",
    "                            tree_method=tree_method,\n",
    "                            booster=booster,\n",
    "                            min_split_loss=min_split_loss,\n",
    "                            min_child_weight=min_child_weight,\n",
    "                            alpha=alpha,\n",
    "                            reg_lambda=reg_lambda,\n",
    "                            random_state=random_state\n",
    "                        )\n",
    "\n",
    "                        model.fit(X_train, y_train)\n",
    "                        preds = model.predict(X_val)\n",
    "\n",
    "                        return accuracy_score(y_val, preds)\n",
    "\n",
    "                    elif learning_rate in [1e-3, 5e-3, 1e-2]:\n",
    "                        min_split_loss = trial.suggest_loguniform('min_split_loss', 200,\n",
    "                                                                  700)  # aka gamma, from 0 to 1, loguniform\n",
    "                        min_child_weight = trial.suggest_int('min_child_weight', 10, 30)  # from 0 to infinite, int\n",
    "                        alpha = trial.suggest_loguniform('alpha', 10, 30)  # from 0 to infinite, loguniform\n",
    "                        reg_lambda = trial.suggest_loguniform('reg_lambda', 10, 30)  # from 0 to infinite, loguniform\n",
    "                        model = xgb(\n",
    "                            eval_metric=eval_metric,\n",
    "                            objective=objective,\n",
    "                            learning_rate=learning_rate,\n",
    "                            sampling_method=sampling_method,\n",
    "                            subsample=subsample,\n",
    "                            colsample_bytree=colsample_bytree,\n",
    "                            max_depth=max_depth,\n",
    "                            tree_method=tree_method,\n",
    "                            booster=booster,\n",
    "                            min_split_loss=min_split_loss,\n",
    "                            min_child_weight=min_child_weight,\n",
    "                            alpha=alpha,\n",
    "                            reg_lambda=reg_lambda,\n",
    "                            random_state=random_state\n",
    "                        )\n",
    "\n",
    "                        model.fit(X_train, y_train)\n",
    "                        preds = model.predict(X_val)\n",
    "\n",
    "                        return accuracy_score(y_val, preds)\n",
    "\n",
    "                    elif learning_rate in [5e-2, 1e-1]:\n",
    "                        min_split_loss = trial.suggest_loguniform('min_split_loss', 500,\n",
    "                                                                  1000)  # aka gamma, from 0 to 1, loguniform\n",
    "                        min_child_weight = trial.suggest_int('min_child_weight', 20, 40)  # from 0 to infinite, int\n",
    "                        alpha = trial.suggest_loguniform('alpha', 20, 40)  # from 0 to infinite, loguniform\n",
    "                        reg_lambda = trial.suggest_loguniform('reg_lambda', 20, 40)  # from 0 to infinite, loguniform\n",
    "                        model = xgb(\n",
    "                            eval_metric=eval_metric,\n",
    "                            objective=objective,\n",
    "                            learning_rate=learning_rate,\n",
    "                            sampling_method=sampling_method,\n",
    "                            subsample=subsample,\n",
    "                            colsample_bytree=colsample_bytree,\n",
    "                            max_depth=max_depth,\n",
    "                            tree_method=tree_method,\n",
    "                            booster=booster,\n",
    "                            min_split_loss=min_split_loss,\n",
    "                            min_child_weight=min_child_weight,\n",
    "                            alpha=alpha,\n",
    "                            reg_lambda=reg_lambda,\n",
    "                            random_state=random_state\n",
    "                        )\n",
    "\n",
    "                        model.fit(X_train, y_train)\n",
    "                        preds = model.predict(X_val)\n",
    "\n",
    "                        return accuracy_score(y_val, preds)\n",
    "\n",
    "            elif booster == 'dart':\n",
    "                max_depth = trial.suggest_int('max_depth', 1, 300)\n",
    "                colsample_bytree = trial.suggest_loguniform('colsample_bytree', 0.5, 0.9)\n",
    "                learning_rate = trial.suggest_categorical('learning_rate', [1e-4, 5e-4, 1e-3, 5e-3, 1e-2, 5e-2,\n",
    "                                                                            1e-1])  # aka eta, from 0 to 1, loguniform\n",
    "                if learning_rate in [1e-4, 5e-4]:\n",
    "                    rate_drop = trial.suggest_loguniform('rate_drop', 0.01, 0.5)\n",
    "                    min_child_weight = trial.suggest_int('min_child_weight', 1, 20)  # from 0 to infinite, int\n",
    "                    model = xgb(\n",
    "                        eval_metric=eval_metric,\n",
    "                        objective=objective,\n",
    "                        learning_rate=learning_rate,\n",
    "                        sampling_method=sampling_method,\n",
    "                        subsample=subsample,\n",
    "                        colsample_bytree=colsample_bytree,\n",
    "                        rate_drop=rate_drop,\n",
    "                        max_depth=max_depth,\n",
    "                        tree_method=tree_method,\n",
    "                        booster=booster,\n",
    "                        min_child_weight=min_child_weight,\n",
    "                        random_state=random_state\n",
    "                    )\n",
    "\n",
    "                    model.fit(X_train, y_train)\n",
    "                    preds = model.predict(X_val)\n",
    "\n",
    "                    return accuracy_score(y_val, preds)\n",
    "\n",
    "                elif learning_rate in [1e-3, 5e-3, 1e-2]:\n",
    "                    rate_drop = trial.suggest_loguniform('rate_drop', 0.3, 0.7)\n",
    "                    min_child_weight = trial.suggest_int('min_child_weight', 10, 30)  # from 0 to infinite, int\n",
    "                    model = xgb(\n",
    "                        eval_metric=eval_metric,\n",
    "                        objective=objective,\n",
    "                        learning_rate=learning_rate,\n",
    "                        sampling_method=sampling_method,\n",
    "                        subsample=subsample,\n",
    "                        colsample_bytree=colsample_bytree,\n",
    "                        rate_drop=rate_drop,\n",
    "                        max_depth=max_depth,\n",
    "                        tree_method=tree_method,\n",
    "                        booster=booster,\n",
    "                        min_child_weight=min_child_weight,\n",
    "                        random_state=random_state\n",
    "                    )\n",
    "\n",
    "                    model.fit(X_train, y_train)\n",
    "                    preds = model.predict(X_val)\n",
    "\n",
    "                    return accuracy_score(y_val, preds)\n",
    "\n",
    "                elif learning_rate in [5e-2, 1e-1]:\n",
    "                    rate_drop = trial.suggest_loguniform('rate_drop', 0.5, 1.0)\n",
    "                    min_child_weight = trial.suggest_int('min_child_weight', 20, 40)  # from 0 to infinite, int\n",
    "                    model = xgb(\n",
    "                        eval_metric=eval_metric,\n",
    "                        objective=objective,\n",
    "                        learning_rate=learning_rate,\n",
    "                        sampling_method=sampling_method,\n",
    "                        subsample=subsample,\n",
    "                        colsample_bytree=colsample_bytree,\n",
    "                        rate_drop=rate_drop,\n",
    "                        max_depth=max_depth,\n",
    "                        tree_method=tree_method,\n",
    "                        booster=booster,\n",
    "                        min_child_weight=min_child_weight,\n",
    "                        random_state=random_state\n",
    "                    )\n",
    "\n",
    "                    model.fit(X_train, y_train)\n",
    "                    preds = model.predict(X_val)\n",
    "\n",
    "                    return accuracy_score(y_val, preds)\n",
    "\n",
    "            # elif booster == 'gblinear':\n",
    "            #     learning_rate = trial.suggest_categorical('learning_rate', [1e-4, 5e-4, 1e-3, 5e-3, 1e-2, 5e-2,\n",
    "            #                                                                 1e-1])  # aka eta, from 0 to 1, loguniform\n",
    "            #     if learning_rate in [1e-4, 5e-4]:\n",
    "            #         alpha = trial.suggest_loguniform('alpha', 0.1, 20)  # from 0 to infinite, loguniform\n",
    "            #         reg_lambda = trial.suggest_loguniform('reg_lambda', 0.01, 20)  # from 0 to infinite, loguniform\n",
    "            #         model = xgb(\n",
    "            #             eval_metric=eval_metric,\n",
    "            #             objective=objective,\n",
    "            #             learning_rate=learning_rate,\n",
    "            #             sampling_method=sampling_method,\n",
    "            #             subsample=subsample,\n",
    "            #             tree_method=tree_method,\n",
    "            #             booster=booster,\n",
    "            #             alpha=alpha,\n",
    "            #             reg_lambda=reg_lambda,\n",
    "            #             random_state=random_state\n",
    "            #         )\n",
    "            #\n",
    "            #         model.fit(X_train, y_train)\n",
    "            #         preds = model.predict(X_val)\n",
    "            #\n",
    "            #         return accuracy_score(y_val, preds)\n",
    "            #\n",
    "            #     elif learning_rate in [1e-3, 5e-3, 1e-2]:\n",
    "            #         alpha = trial.suggest_loguniform('alpha', 10, 30)  # from 0 to infinite, loguniform\n",
    "            #         reg_lambda = trial.suggest_loguniform('reg_lambda', 10, 30)  # from 0 to infinite, loguniform\n",
    "            #         model = xgb(\n",
    "            #             eval_metric=eval_metric,\n",
    "            #             objective=objective,\n",
    "            #             learning_rate=learning_rate,\n",
    "            #             sampling_method=sampling_method,\n",
    "            #             subsample=subsample,\n",
    "            #             tree_method=tree_method,\n",
    "            #             booster=booster,\n",
    "            #             alpha=alpha,\n",
    "            #             reg_lambda=reg_lambda,\n",
    "            #             random_state=random_state\n",
    "            #         )\n",
    "            #\n",
    "            #         model.fit(X_train, y_train)\n",
    "            #         preds = model.predict(X_val)\n",
    "            #\n",
    "            #         return accuracy_score(y_val, preds)\n",
    "            #\n",
    "            #     elif learning_rate in [5e-2, 1e-1]:\n",
    "            #         alpha = trial.suggest_loguniform('alpha', 20, 40)  # from 0 to infinite, loguniform\n",
    "            #         reg_lambda = trial.suggest_loguniform('reg_lambda', 20, 40)  # from 0 to infinite, loguniform\n",
    "            #         model = xgb(\n",
    "            #             eval_metric=eval_metric,\n",
    "            #             objective=objective,\n",
    "            #             learning_rate=learning_rate,\n",
    "            #             sampling_method=sampling_method,\n",
    "            #             subsample=subsample,\n",
    "            #             tree_method=tree_method,\n",
    "            #             booster=booster,\n",
    "            #             alpha=alpha,\n",
    "            #             reg_lambda=reg_lambda,\n",
    "            #             random_state=random_state\n",
    "            #         )\n",
    "            #\n",
    "            #         model.fit(X_train, y_train)\n",
    "            #         preds = model.predict(X_val)\n",
    "            #\n",
    "            #         return accuracy_score(y_val, preds)\n",
    "\n",
    "        else:\n",
    "            sampling_method = 'uniform'\n",
    "            booster = trial.suggest_categorical('booster', ['dart', 'gbtree'])\n",
    "            if booster == 'gbtree':\n",
    "                subsample = trial.suggest_loguniform('subsample', 0.1, 0.5)\n",
    "                max_depth = 0\n",
    "                n_estimators = trial.suggest_int('n_estimators', 1, 1000)\n",
    "                if n_estimators < 500:\n",
    "                    colsample_bytree = trial.suggest_loguniform('colsample_bytree', 0.3, 0.9)\n",
    "                    learning_rate = trial.suggest_categorical('learning_rate', [1e-4, 5e-4, 1e-3, 5e-3, 1e-2, 5e-2,\n",
    "                                                                                1e-1])  # aka eta, from 0 to 1, loguniform\n",
    "                    if learning_rate in [1e-4, 5e-4]:\n",
    "                        min_split_loss = trial.suggest_loguniform('min_split_loss', 0.1,\n",
    "                                                                  400)  # aka gamma, from 0 to 1, loguniform\n",
    "                        min_child_weight = trial.suggest_int('min_child_weight', 1, 20)  # from 0 to infinite, int\n",
    "                        alpha = trial.suggest_loguniform('alpha', 0.1, 20)  # from 0 to infinite, loguniform\n",
    "                        reg_lambda = trial.suggest_loguniform('reg_lambda', 0.01, 20)  # from 0 to infinite, loguniform\n",
    "                        model = xgb(\n",
    "                            eval_metric=eval_metric,\n",
    "                            objective=objective,\n",
    "                            learning_rate=learning_rate,\n",
    "                            sampling_method=sampling_method,\n",
    "                            subsample=subsample,\n",
    "                            colsample_bytree=colsample_bytree,\n",
    "                            max_depth=max_depth,\n",
    "                            tree_method=tree_method,\n",
    "                            booster=booster,\n",
    "                            min_split_loss=min_split_loss,\n",
    "                            min_child_weight=min_child_weight,\n",
    "                            alpha=alpha,\n",
    "                            reg_lambda=reg_lambda,\n",
    "                            random_state=random_state\n",
    "                        )\n",
    "\n",
    "                        model.fit(X_train, y_train)\n",
    "                        preds = model.predict(X_val)\n",
    "\n",
    "                        return accuracy_score(y_val, preds)\n",
    "\n",
    "                    elif learning_rate in [1e-3, 5e-3, 1e-2]:\n",
    "                        min_split_loss = trial.suggest_loguniform('min_split_loss', 200,\n",
    "                                                                  700)  # aka gamma, from 0 to 1, loguniform\n",
    "                        min_child_weight = trial.suggest_int('min_child_weight', 10, 30)  # from 0 to infinite, int\n",
    "                        alpha = trial.suggest_loguniform('alpha', 10, 30)  # from 0 to infinite, loguniform\n",
    "                        reg_lambda = trial.suggest_loguniform('reg_lambda', 10, 30)  # from 0 to infinite, loguniform\n",
    "                        model = xgb(\n",
    "                            eval_metric=eval_metric,\n",
    "                            objective=objective,\n",
    "                            learning_rate=learning_rate,\n",
    "                            sampling_method=sampling_method,\n",
    "                            subsample=subsample,\n",
    "                            colsample_bytree=colsample_bytree,\n",
    "                            max_depth=max_depth,\n",
    "                            tree_method=tree_method,\n",
    "                            booster=booster,\n",
    "                            min_split_loss=min_split_loss,\n",
    "                            min_child_weight=min_child_weight,\n",
    "                            alpha=alpha,\n",
    "                            reg_lambda=reg_lambda,\n",
    "                            random_state=random_state\n",
    "                        )\n",
    "\n",
    "                        model.fit(X_train, y_train)\n",
    "                        preds = model.predict(X_val)\n",
    "\n",
    "                        return accuracy_score(y_val, preds)\n",
    "\n",
    "                    elif learning_rate in [5e-2, 1e-1]:\n",
    "                        min_split_loss = trial.suggest_loguniform('min_split_loss', 400,\n",
    "                                                                  1000)  # aka gamma, from 0 to 1, loguniform\n",
    "                        min_child_weight = trial.suggest_int('min_child_weight', 20, 40)  # from 0 to infinite, int\n",
    "                        alpha = trial.suggest_loguniform('alpha', 20, 40)  # from 0 to infinite, loguniform\n",
    "                        reg_lambda = trial.suggest_loguniform('reg_lambda', 20, 40)  # from 0 to infinite, loguniform\n",
    "                        model = xgb(\n",
    "                            eval_metric=eval_metric,\n",
    "                            objective=objective,\n",
    "                            learning_rate=learning_rate,\n",
    "                            sampling_method=sampling_method,\n",
    "                            subsample=subsample,\n",
    "                            colsample_bytree=colsample_bytree,\n",
    "                            max_depth=max_depth,\n",
    "                            tree_method=tree_method,\n",
    "                            booster=booster,\n",
    "                            min_split_loss=min_split_loss,\n",
    "                            min_child_weight=min_child_weight,\n",
    "                            alpha=alpha,\n",
    "                            reg_lambda=reg_lambda,\n",
    "                            random_state=random_state\n",
    "                        )\n",
    "\n",
    "                        model.fit(X_train, y_train)\n",
    "                        preds = model.predict(X_val)\n",
    "\n",
    "                        return accuracy_score(y_val, preds)\n",
    "\n",
    "                elif n_estimators > 500:\n",
    "                    colsample_bytree = trial.suggest_loguniform('colsample_bytree', 0.1, 0.7)\n",
    "                    learning_rate = trial.suggest_categorical('learning_rate', [1e-4, 5e-4, 1e-3, 5e-3, 1e-2, 5e-2,\n",
    "                                                                                1e-1])  # aka eta, from 0 to 1, loguniform\n",
    "                    if learning_rate in [1e-4, 5e-4]:\n",
    "                        min_split_loss = trial.suggest_loguniform('min_split_loss', 0.1,\n",
    "                                                                  400)  # aka gamma, from 0 to 1, loguniform\n",
    "                        min_child_weight = trial.suggest_int('min_child_weight', 1, 20)  # from 0 to infinite, int\n",
    "                        alpha = trial.suggest_loguniform('alpha', 0.1, 20)  # from 0 to infinite, loguniform\n",
    "                        reg_lambda = trial.suggest_loguniform('reg_lambda', 0.01, 20)  # from 0 to infinite, loguniform\n",
    "                        model = xgb(\n",
    "                            eval_metric=eval_metric,\n",
    "                            objective=objective,\n",
    "                            learning_rate=learning_rate,\n",
    "                            sampling_method=sampling_method,\n",
    "                            subsample=subsample,\n",
    "                            colsample_bytree=colsample_bytree,\n",
    "                            max_depth=max_depth,\n",
    "                            tree_method=tree_method,\n",
    "                            booster=booster,\n",
    "                            min_split_loss=min_split_loss,\n",
    "                            min_child_weight=min_child_weight,\n",
    "                            alpha=alpha,\n",
    "                            reg_lambda=reg_lambda,\n",
    "                            random_state=random_state\n",
    "                        )\n",
    "\n",
    "                        model.fit(X_train, y_train)\n",
    "                        preds = model.predict(X_val)\n",
    "\n",
    "                        return accuracy_score(y_val, preds)\n",
    "\n",
    "                    elif learning_rate in [1e-3, 5e-3, 1e-2]:\n",
    "                        min_split_loss = trial.suggest_loguniform('min_split_loss', 200,\n",
    "                                                                  700)  # aka gamma, from 0 to 1, loguniform\n",
    "                        min_child_weight = trial.suggest_int('min_child_weight', 10, 30)  # from 0 to infinite, int\n",
    "                        alpha = trial.suggest_loguniform('alpha', 10, 30)  # from 0 to infinite, loguniform\n",
    "                        reg_lambda = trial.suggest_loguniform('reg_lambda', 10, 30)  # from 0 to infinite, loguniform\n",
    "                        model = xgb(\n",
    "                            eval_metric=eval_metric,\n",
    "                            objective=objective,\n",
    "                            learning_rate=learning_rate,\n",
    "                            sampling_method=sampling_method,\n",
    "                            subsample=subsample,\n",
    "                            colsample_bytree=colsample_bytree,\n",
    "                            max_depth=max_depth,\n",
    "                            tree_method=tree_method,\n",
    "                            booster=booster,\n",
    "                            min_split_loss=min_split_loss,\n",
    "                            min_child_weight=min_child_weight,\n",
    "                            alpha=alpha,\n",
    "                            reg_lambda=reg_lambda,\n",
    "                            random_state=random_state\n",
    "                        )\n",
    "\n",
    "                        model.fit(X_train, y_train)\n",
    "                        preds = model.predict(X_val)\n",
    "\n",
    "                        return accuracy_score(y_val, preds)\n",
    "\n",
    "                    elif learning_rate in [5e-2, 1e-1]:\n",
    "                        min_split_loss = trial.suggest_loguniform('min_split_loss', 400,\n",
    "                                                                  1000)  # aka gamma, from 0 to 1, loguniform\n",
    "                        min_child_weight = trial.suggest_int('min_child_weight', 20, 40)  # from 0 to infinite, int\n",
    "                        alpha = trial.suggest_loguniform('alpha', 20, 40)  # from 0 to infinite, loguniform\n",
    "                        reg_lambda = trial.suggest_loguniform('reg_lambda', 20, 40)  # from 0 to infinite, loguniform\n",
    "                        model = xgb(\n",
    "                            eval_metric=eval_metric,\n",
    "                            objective=objective,\n",
    "                            learning_rate=learning_rate,\n",
    "                            sampling_method=sampling_method,\n",
    "                            subsample=subsample,\n",
    "                            colsample_bytree=colsample_bytree,\n",
    "                            max_depth=max_depth,\n",
    "                            tree_method=tree_method,\n",
    "                            booster=booster,\n",
    "                            min_split_loss=min_split_loss,\n",
    "                            min_child_weight=min_child_weight,\n",
    "                            alpha=alpha,\n",
    "                            reg_lambda=reg_lambda,\n",
    "                            random_state=random_state\n",
    "                        )\n",
    "\n",
    "                        model.fit(X_train, y_train)\n",
    "                        preds = model.predict(X_val)\n",
    "\n",
    "                        return accuracy_score(y_val, preds)\n",
    "\n",
    "            elif booster == 'dart':\n",
    "                subsample = 0.5\n",
    "                max_depth = 0\n",
    "                colsample_bytree = trial.suggest_loguniform('colsample_bytree', 0.5, 0.9)\n",
    "                learning_rate = trial.suggest_categorical('learning_rate', [1e-4, 5e-4, 1e-3, 5e-3, 1e-2, 5e-2,\n",
    "                                                                            1e-1])  # aka eta, from 0 to 1, loguniform\n",
    "                if learning_rate in [1e-4, 5e-4]:\n",
    "                    rate_drop = trial.suggest_loguniform('rate_drop', 0.01, 0.5)\n",
    "                    min_child_weight = trial.suggest_int('min_child_weight', 1, 20)  # from 0 to infinite, int\n",
    "                    model = xgb(\n",
    "                        eval_metric=eval_metric,\n",
    "                        objective=objective,\n",
    "                        learning_rate=learning_rate,\n",
    "                        sampling_method=sampling_method,\n",
    "                        subsample=subsample,\n",
    "                        colsample_bytree=colsample_bytree,\n",
    "                        max_depth=max_depth,\n",
    "                        tree_method=tree_method,\n",
    "                        booster=booster,\n",
    "                        rate_drop=rate_drop,\n",
    "                        min_child_weight=min_child_weight,\n",
    "                        random_state=random_state\n",
    "                    )\n",
    "\n",
    "                    model.fit(X_train, y_train)\n",
    "                    preds = model.predict(X_val)\n",
    "\n",
    "                    return accuracy_score(y_val, preds)\n",
    "\n",
    "\n",
    "                elif learning_rate in [1e-3, 5e-3, 1e-2]:\n",
    "                    rate_drop = trial.suggest_loguniform('rate_drop', 0.3, 0.7)\n",
    "                    min_child_weight = trial.suggest_int('min_child_weight', 10, 30)  # from 0 to infinite, int\n",
    "                    model = xgb(\n",
    "                        eval_metric=eval_metric,\n",
    "                        objective=objective,\n",
    "                        learning_rate=learning_rate,\n",
    "                        sampling_method=sampling_method,\n",
    "                        subsample=subsample,\n",
    "                        colsample_bytree=colsample_bytree,\n",
    "                        max_depth=max_depth,\n",
    "                        tree_method=tree_method,\n",
    "                        booster=booster,\n",
    "                        rate_drop=rate_drop,\n",
    "                        min_child_weight=min_child_weight,\n",
    "                        random_state=random_state\n",
    "                    )\n",
    "\n",
    "                    model.fit(X_train, y_train)\n",
    "                    preds = model.predict(X_val)\n",
    "\n",
    "                    return accuracy_score(y_val, preds)\n",
    "\n",
    "                elif learning_rate in [5e-2, 1e-1]:\n",
    "                    rate_drop = trial.suggest_loguniform('rate_drop', 0.5, 1.0)\n",
    "                    min_child_weight = trial.suggest_int('min_child_weight', 20, 40)  # from 0 to infinite, int\n",
    "                    model = xgb(\n",
    "                        eval_metric=eval_metric,\n",
    "                        objective=objective,\n",
    "                        learning_rate=learning_rate,\n",
    "                        sampling_method=sampling_method,\n",
    "                        subsample=subsample,\n",
    "                        colsample_bytree=colsample_bytree,\n",
    "                        max_depth=max_depth,\n",
    "                        tree_method=tree_method,\n",
    "                        booster=booster,\n",
    "                        rate_drop=rate_drop,\n",
    "                        min_child_weight=min_child_weight,\n",
    "                        random_state=random_state\n",
    "                    )\n",
    "\n",
    "                    model.fit(X_train, y_train)\n",
    "                    preds = model.predict(X_val)\n",
    "\n",
    "                    return accuracy_score(y_val, preds)\n",
    "\n",
    "\n",
    "            # elif booster == 'gblinear':\n",
    "            #     learning_rate = trial.suggest_categorical('learning_rate', [1e-4, 5e-4, 1e-3, 5e-3, 1e-2, 5e-2,\n",
    "            #                                                                 1e-1])  # aka eta, from 0 to 1, loguniform\n",
    "            #     if learning_rate in [1e-4, 5e-4]:\n",
    "            #         alpha = trial.suggest_loguniform('alpha', 0.1, 20)  # from 0 to infinite, loguniform\n",
    "            #         reg_lambda = trial.suggest_loguniform('reg_lambda', 0.01, 20)  # from 0 to infinite, loguniform\n",
    "            #         model = xgb(\n",
    "            #             eval_metric=eval_metric,\n",
    "            #             objective=objective,\n",
    "            #             learning_rate=learning_rate,\n",
    "            #             sampling_method=sampling_method,\n",
    "            #             tree_method=tree_method,\n",
    "            #             booster=booster,\n",
    "            #             alpha=alpha,\n",
    "            #             reg_lambda=reg_lambda,\n",
    "            #             random_state=random_state\n",
    "            #         )\n",
    "            #         model.fit(X_train, y_train)\n",
    "            #         preds = model.predict(X_val)\n",
    "            #\n",
    "            #         return accuracy_score(y_val, preds)\n",
    "            #\n",
    "            #     elif learning_rate in [1e-3, 5e-3, 1e-2]:\n",
    "            #         alpha = trial.suggest_loguniform('alpha', 10, 30)  # from 0 to infinite, loguniform\n",
    "            #         reg_lambda = trial.suggest_loguniform('reg_lambda', 10, 30)  # from 0 to infinite, loguniform\n",
    "            #         model = xgb(\n",
    "            #             eval_metric=eval_metric,\n",
    "            #             objective=objective,\n",
    "            #             learning_rate=learning_rate,\n",
    "            #             sampling_method=sampling_method,\n",
    "            #             tree_method=tree_method,\n",
    "            #             booster=booster,\n",
    "            #             alpha=alpha,\n",
    "            #             reg_lambda=reg_lambda,\n",
    "            #             random_state=random_state\n",
    "            #         )\n",
    "            #         model.fit(X_train, y_train)\n",
    "            #         preds = model.predict(X_val)\n",
    "            #\n",
    "            #         return accuracy_score(y_val, preds)\n",
    "            #\n",
    "            #     elif learning_rate in [5e-2, 1e-1]:\n",
    "            #         alpha = trial.suggest_loguniform('alpha', 20, 40)  # from 0 to infinite, loguniform\n",
    "            #         reg_lambda = trial.suggest_loguniform('reg_lambda', 20, 40)  # from 0 to infinite, loguniform\n",
    "            #         model = xgb(\n",
    "            #             eval_metric=eval_metric,\n",
    "            #             objective=objective,\n",
    "            #             learning_rate=learning_rate,\n",
    "            #             sampling_method=sampling_method,\n",
    "            #             tree_method=tree_method,\n",
    "            #             booster=booster,\n",
    "            #             alpha=alpha,\n",
    "            #             reg_lambda=reg_lambda,\n",
    "            #             random_state=random_state\n",
    "            #         )\n",
    "            #         model.fit(X_train, y_train)\n",
    "            #         preds = model.predict(X_val)\n",
    "            #\n",
    "            #         return accuracy_score(y_val, preds)\n",
    "\n",
    "    elif model_type == 'lgbm':\n",
    "        objective = 'binary'\n",
    "        metric = 'accuracy'\n",
    "        num_threads = 0\n",
    "        max_depth = -1\n",
    "\n",
    "        num_leaves = trial.suggest_int('num_leaves', 1, 1000)\n",
    "        boosting_type = trial.suggest_categorical('boosting_type', ['gbdt', 'dart', 'rf', 'goss'])\n",
    "        if boosting_type == 'gbdt':\n",
    "            n_estimators = trial.suggest_int('n_estimators', 1, 500)\n",
    "            learning_rate = trial.suggest_categorical('learning_rate', [1e-4, 5e-4, 1e-3, 5e-3, 1e-2, 5e-2,\n",
    "                                                                        1e-1])  # aka eta, from 0 to 1, loguniform\n",
    "            if learning_rate in [1e-4, 5e-4]:\n",
    "                min_data_in_leaf = trial.suggest_int('min_data_in_leaf', 1, 20)\n",
    "                feature_fraction = trial.suggest_uniform('feature_fraction', 0.5, 0.999)\n",
    "                bagging_fraction = trial.suggest_uniform('bagging_fraction', 0.5, 0.999)\n",
    "                bagging_freq = trial.suggest_int('bagging_freq', 1, n_estimators)\n",
    "                alpha = trial.suggest_loguniform('alpha', 0.1, 20)  # from 0 to infinite, loguniform\n",
    "                reg_lambda = trial.suggest_loguniform('reg_lambda', 0.01, 20)  # from 0 to infinite, loguniform\n",
    "                model = lgb.LGBMClassifier(\n",
    "                    learning_rate=learning_rate,\n",
    "                    boosting_type=boosting_type,\n",
    "                    num_leaves=num_leaves,\n",
    "                    num_threads=num_threads,\n",
    "                    objective=objective,\n",
    "                    metric=metric,\n",
    "                    n_estimators=n_estimators,\n",
    "                    min_data_in_leaf=min_data_in_leaf,\n",
    "                    feature_fraction=feature_fraction,\n",
    "                    bagging_fraction=bagging_fraction,\n",
    "                    bagging_freq=bagging_freq,\n",
    "                    max_depth=max_depth,\n",
    "                    alpha=alpha,\n",
    "                    reg_lambda=reg_lambda,\n",
    "                    random_state=random_state\n",
    "                )\n",
    "                model.fit(X_train, y_train)\n",
    "                preds = model.predict(X_val)\n",
    "\n",
    "                return accuracy_score(y_val, preds)\n",
    "\n",
    "            elif learning_rate in [1e-3, 5e-3, 1e-2]:\n",
    "                min_data_in_leaf = trial.suggest_int('min_data_in_leaf', 10, 30)\n",
    "                feature_fraction = trial.suggest_uniform('feature_fraction', 0.3, 0.7)\n",
    "                bagging_fraction = trial.suggest_uniform('bagging_fraction', 0.3, 0.7)\n",
    "                bagging_freq = trial.suggest_int('bagging_freq', 1, n_estimators)\n",
    "                alpha = trial.suggest_loguniform('alpha', 10, 30)  # from 0 to infinite, loguniform\n",
    "                reg_lambda = trial.suggest_loguniform('reg_lambda', 10, 30)  # from 0 to infinite, loguniform\n",
    "                model = lgb.LGBMClassifier(\n",
    "                    learning_rate=learning_rate,\n",
    "                    boosting_type=boosting_type,\n",
    "                    num_leaves=num_leaves,\n",
    "                    num_threads=num_threads,\n",
    "                    objective=objective,\n",
    "                    metric=metric,\n",
    "                    n_estimators=n_estimators,\n",
    "                    min_data_in_leaf=min_data_in_leaf,\n",
    "                    feature_fraction=feature_fraction,\n",
    "                    bagging_fraction=bagging_fraction,\n",
    "                    bagging_freq=bagging_freq,\n",
    "                    max_depth=max_depth,\n",
    "                    alpha=alpha,\n",
    "                    reg_lambda=reg_lambda,\n",
    "                    random_state=random_state\n",
    "                )\n",
    "                model.fit(X_train, y_train)\n",
    "                preds = model.predict(X_val)\n",
    "\n",
    "                return accuracy_score(y_val, preds)\n",
    "\n",
    "            elif learning_rate in [5e-2, 1e-1]:\n",
    "                min_data_in_leaf = trial.suggest_int('min_data_in_leaf', 20, 40)\n",
    "                feature_fraction = trial.suggest_uniform('feature_fraction', 0.1, 0.5)\n",
    "                bagging_fraction = trial.suggest_uniform('bagging_fraction', 0.1, 0.5)\n",
    "                bagging_freq = trial.suggest_int('bagging_freq', 1, n_estimators)\n",
    "                alpha = trial.suggest_loguniform('alpha', 20, 40)  # from 0 to infinite, loguniform\n",
    "                reg_lambda = trial.suggest_loguniform('reg_lambda', 20, 40)  # from 0 to infinite, loguniform\n",
    "                model = lgb.LGBMClassifier(\n",
    "                    learning_rate=learning_rate,\n",
    "                    boosting_type=boosting_type,\n",
    "                    num_leaves=num_leaves,\n",
    "                    num_threads=num_threads,\n",
    "                    objective=objective,\n",
    "                    metric=metric,\n",
    "                    n_estimators=n_estimators,\n",
    "                    min_data_in_leaf=min_data_in_leaf,\n",
    "                    feature_fraction=feature_fraction,\n",
    "                    bagging_fraction=bagging_fraction,\n",
    "                    bagging_freq=bagging_freq,\n",
    "                    max_depth=max_depth,\n",
    "                    alpha=alpha,\n",
    "                    reg_lambda=reg_lambda,\n",
    "                    random_state=random_state\n",
    "                )\n",
    "                model.fit(X_train, y_train)\n",
    "                preds = model.predict(X_val)\n",
    "\n",
    "                return accuracy_score(y_val, preds)\n",
    "\n",
    "        elif boosting_type == 'dart':\n",
    "            n_estimators = trial.suggest_int('n_estimators', 1, 500)\n",
    "            learning_rate = trial.suggest_categorical('learning_rate', [1e-4, 5e-4, 1e-3, 5e-3, 1e-2, 5e-2,\n",
    "                                                                        1e-1])  # aka eta, from 0 to 1, loguniform\n",
    "            if learning_rate in [1e-4, 5e-4]:\n",
    "                min_data_in_leaf = trial.suggest_int('min_data_in_leaf', 1, 20)\n",
    "                feature_fraction = trial.suggest_uniform('feature_fraction', 0.5, 0.999)\n",
    "                bagging_fraction = trial.suggest_uniform('bagging_fraction', 0.5, 0.999)\n",
    "                bagging_freq = trial.suggest_int('bagging_freq', 1, n_estimators)\n",
    "                drop_rate = trial.suggest_loguniform('drop_rate', 0.01, 0.5)\n",
    "                model = lgb.LGBMClassifier(\n",
    "                    learning_rate=learning_rate,\n",
    "                    boosting_type=boosting_type,\n",
    "                    num_leaves=num_leaves,\n",
    "                    num_threads=num_threads,\n",
    "                    n_estimators=n_estimators,\n",
    "                    objective=objective,\n",
    "                    metric=metric,\n",
    "                    min_data_in_leaf=min_data_in_leaf,\n",
    "                    feature_fraction=feature_fraction,\n",
    "                    bagging_fraction=bagging_fraction,\n",
    "                    bagging_freq=bagging_freq,\n",
    "                    max_depth=max_depth,\n",
    "                    drop_rate=drop_rate,\n",
    "                    random_state=random_state\n",
    "                )\n",
    "                model.fit(X_train, y_train)\n",
    "                preds = model.predict(X_val)\n",
    "\n",
    "                return accuracy_score(y_val, preds)\n",
    "\n",
    "            elif learning_rate in [1e-3, 5e-3, 1e-2]:\n",
    "                min_data_in_leaf = trial.suggest_int('min_data_in_leaf', 10, 30)\n",
    "                feature_fraction = trial.suggest_uniform('feature_fraction', 0.3, 0.7)\n",
    "                bagging_fraction = trial.suggest_uniform('bagging_fraction', 0.3, 0.7)\n",
    "                bagging_freq = trial.suggest_int('bagging_freq', 1, n_estimators)\n",
    "                drop_rate = trial.suggest_loguniform('drop_rate', 0.3, 0.7)\n",
    "                model = lgb.LGBMClassifier(\n",
    "                    learning_rate=learning_rate,\n",
    "                    boosting_type=boosting_type,\n",
    "                    num_leaves=num_leaves,\n",
    "                    num_threads=num_threads,\n",
    "                    n_estimators=n_estimators,\n",
    "                    objective=objective,\n",
    "                    metric=metric,\n",
    "                    min_data_in_leaf=min_data_in_leaf,\n",
    "                    feature_fraction=feature_fraction,\n",
    "                    bagging_fraction=bagging_fraction,\n",
    "                    bagging_freq=bagging_freq,\n",
    "                    max_depth=max_depth,\n",
    "                    drop_rate=drop_rate,\n",
    "                    random_state=random_state\n",
    "                )\n",
    "                model.fit(X_train, y_train)\n",
    "                preds = model.predict(X_val)\n",
    "\n",
    "                return accuracy_score(y_val, preds)\n",
    "\n",
    "            elif learning_rate in [5e-2, 1e-1]:\n",
    "                min_data_in_leaf = trial.suggest_int('min_data_in_leaf', 20, 40)\n",
    "                feature_fraction = trial.suggest_uniform('feature_fraction', 0.5, 0.999)\n",
    "                bagging_fraction = trial.suggest_uniform('bagging_fraction', 0.5, 0.999)\n",
    "                bagging_freq = trial.suggest_int('bagging_freq', 1, n_estimators)\n",
    "                drop_rate = trial.suggest_loguniform('drop_rate', 0.5, 1)\n",
    "                model = lgb.LGBMClassifier(\n",
    "                    learning_rate=learning_rate,\n",
    "                    boosting_type=boosting_type,\n",
    "                    num_leaves=num_leaves,\n",
    "                    num_threads=num_threads,\n",
    "                    n_estimators=n_estimators,\n",
    "                    objective=objective,\n",
    "                    metric=metric,\n",
    "                    min_data_in_leaf=min_data_in_leaf,\n",
    "                    feature_fraction=feature_fraction,\n",
    "                    bagging_fraction=bagging_fraction,\n",
    "                    bagging_freq=bagging_freq,\n",
    "                    max_depth=max_depth,\n",
    "                    drop_rate=drop_rate,\n",
    "                    random_state=random_state\n",
    "                )\n",
    "                model.fit(X_train, y_train)\n",
    "                preds = model.predict(X_val)\n",
    "\n",
    "                return accuracy_score(y_val, preds)\n",
    "\n",
    "        elif boosting_type == 'rf':\n",
    "            n_estimators = trial.suggest_int('n_estimators', 1, 500)\n",
    "            feature_fraction_bynode = trial.suggest_loguniform('feature_fraction_bynode', 0.01, 0.999)\n",
    "            if feature_fraction_bynode < 0.33:\n",
    "                bagging_fraction = trial.suggest_uniform('bagging_fraction', 0.5, 0.999)\n",
    "                bagging_freq = trial.suggest_int('bagging_freq', 1, n_estimators)\n",
    "                min_data_in_leaf = trial.suggest_int('min_data_in_leaf', 0, 20)\n",
    "                alpha = trial.suggest_loguniform('alpha', 0.1, 20)  # from 0 to infinite, loguniform\n",
    "                reg_lambda = trial.suggest_loguniform('reg_lambda', 0.01, 20)  # from 0 to infinite, loguniform\n",
    "                model = lgb.LGBMClassifier(\n",
    "                    boosting_type=boosting_type,\n",
    "                    num_leaves=num_leaves,\n",
    "                    num_threads=num_threads,\n",
    "                    feature_fraction_bynode=feature_fraction_bynode,\n",
    "                    bagging_fraction=bagging_fraction,\n",
    "                    bagging_freq=bagging_freq,\n",
    "                    objective=objective,\n",
    "                    metric=metric,\n",
    "                    n_estimators=n_estimators,\n",
    "                    min_data_in_leaf=min_data_in_leaf,\n",
    "                    max_depth=max_depth,\n",
    "                    alpha=alpha,\n",
    "                    reg_lambda=reg_lambda,\n",
    "                    random_state=random_state\n",
    "                )\n",
    "                model.fit(X_train, y_train)\n",
    "                preds = model.predict(X_val)\n",
    "\n",
    "                return accuracy_score(y_val, preds)\n",
    "\n",
    "            elif feature_fraction_bynode > 0.33 and feature_fraction_bynode < 0.66:\n",
    "                min_data_in_leaf = trial.suggest_int('min_data_in_leaf', 10, 30)\n",
    "                alpha = trial.suggest_loguniform('alpha', 10, 30)  # from 0 to infinite, loguniform\n",
    "                bagging_fraction = trial.suggest_uniform('bagging_fraction', 0.5, 0.999)\n",
    "                bagging_freq = trial.suggest_int('bagging_freq', 1, n_estimators)\n",
    "                reg_lambda = trial.suggest_loguniform('reg_lambda', 10, 30)  # from 0 to infinite, loguniform\n",
    "                model = lgb.LGBMClassifier(\n",
    "                    boosting_type=boosting_type,\n",
    "                    num_leaves=num_leaves,\n",
    "                    num_threads=num_threads,\n",
    "                    feature_fraction_bynode=feature_fraction_bynode,\n",
    "                    bagging_fraction=bagging_fraction,\n",
    "                    bagging_freq=bagging_freq,\n",
    "                    objective=objective,\n",
    "                    metric=metric,\n",
    "                    n_estimators=n_estimators,\n",
    "                    min_data_in_leaf=min_data_in_leaf,\n",
    "                    max_depth=max_depth,\n",
    "                    alpha=alpha,\n",
    "                    reg_lambda=reg_lambda,\n",
    "                    random_state=random_state\n",
    "                )\n",
    "\n",
    "                model.fit(X_train, y_train)\n",
    "                preds = model.predict(X_val)\n",
    "\n",
    "                return accuracy_score(y_val, preds)\n",
    "\n",
    "            elif feature_fraction_bynode > 0.66:\n",
    "                min_data_in_leaf = trial.suggest_int('min_data_in_leaf', 20, 40)\n",
    "                alpha = trial.suggest_loguniform('alpha', 20, 40)  # from 0 to infinite, loguniform\n",
    "                reg_lambda = trial.suggest_loguniform('reg_lambda', 20, 40)  # from 0 to infinite, loguniform\n",
    "                bagging_fraction = trial.suggest_uniform('bagging_fraction', 0.5, 0.999)\n",
    "                bagging_freq = trial.suggest_int('bagging_freq', 1, n_estimators)\n",
    "                model = lgb.LGBMClassifier(\n",
    "                    boosting_type=boosting_type,\n",
    "                    num_leaves=num_leaves,\n",
    "                    num_threads=num_threads,\n",
    "                    feature_fraction_bynode=feature_fraction_bynode,\n",
    "                    objective=objective,\n",
    "                    metric=metric,\n",
    "                    bagging_freq=bagging_freq,\n",
    "                    bagging_fraction=bagging_fraction,\n",
    "                    n_estimators=n_estimators,\n",
    "                    min_data_in_leaf=min_data_in_leaf,\n",
    "                    max_depth=max_depth,\n",
    "                    alpha=alpha,\n",
    "                    reg_lambda=reg_lambda,\n",
    "                    random_state=random_state\n",
    "                )\n",
    "\n",
    "                model.fit(X_train, y_train)\n",
    "                preds = model.predict(X_val)\n",
    "\n",
    "                return accuracy_score(y_val, preds)\n",
    "\n",
    "        elif boosting_type == 'goss':\n",
    "            learning_rate = trial.suggest_categorical('learning_rate', [1e-4, 5e-4, 1e-3, 5e-3, 1e-2, 5e-2,\n",
    "                                                                        1e-1])  # aka eta, from 0 to 1, loguniform\n",
    "            if learning_rate in [1e-4, 5e-4]:\n",
    "                min_data_in_leaf = trial.suggest_int('min_data_in_leaf', 0, 20)\n",
    "                top_rate = trial.suggest_float('top_rate', 0.1, 0.5)\n",
    "                model = lgb.LGBMClassifier(\n",
    "                    learning_rate=learning_rate,\n",
    "                    boosting_type=boosting_type,\n",
    "                    num_leaves=num_leaves,\n",
    "                    num_threads=num_threads,\n",
    "                    objective=objective,\n",
    "                    metric=metric,\n",
    "                    top_rate=top_rate,\n",
    "                    min_data_in_leaf=min_data_in_leaf,\n",
    "                    max_depth=max_depth,\n",
    "                    random_state=random_state\n",
    "                )\n",
    "                model.fit(X_train, y_train)\n",
    "                preds = model.predict(X_val)\n",
    "\n",
    "                return accuracy_score(y_val, preds)\n",
    "\n",
    "            elif learning_rate in [1e-3, 5e-3, 1e-2]:\n",
    "                min_data_in_leaf = trial.suggest_int('min_data_in_leaf', 10, 30)\n",
    "                top_rate = trial.suggest_float('top_rate', 0.3, 0.7)\n",
    "                model = lgb.LGBMClassifier(\n",
    "                    learning_rate=learning_rate,\n",
    "                    boosting_type=boosting_type,\n",
    "                    num_leaves=num_leaves,\n",
    "                    num_threads=num_threads,\n",
    "                    objective=objective,\n",
    "                    metric=metric,\n",
    "                    top_rate=top_rate,\n",
    "                    min_data_in_leaf=min_data_in_leaf,\n",
    "                    max_depth=max_depth,\n",
    "                    random_state=random_state\n",
    "                )\n",
    "                model.fit(X_train, y_train)\n",
    "                preds = model.predict(X_val)\n",
    "\n",
    "                return accuracy_score(y_val, preds)\n",
    "\n",
    "            elif learning_rate in [5e-2, 1e-1]:\n",
    "                min_data_in_leaf = trial.suggest_int('min_data_in_leaf', 2, 40)\n",
    "                top_rate = trial.suggest_float('top_rate', 0.5, 0.9)\n",
    "                model = lgb.LGBMClassifier(\n",
    "                    learning_rate=learning_rate,\n",
    "                    boosting_type=boosting_type,\n",
    "                    num_leaves=num_leaves,\n",
    "                    num_threads=num_threads,\n",
    "                    objective=objective,\n",
    "                    top_rate=top_rate,\n",
    "                    min_data_in_leaf=min_data_in_leaf,\n",
    "                    max_depth=max_depth,\n",
    "                    random_state=random_state\n",
    "                )\n",
    "\n",
    "                model.fit(X_train, y_train)\n",
    "                preds = model.predict(X_val)\n",
    "\n",
    "                return accuracy_score(y_val, preds)"
   ]
  },
  {
   "cell_type": "code",
   "execution_count": null,
   "id": "af1a0b81",
   "metadata": {},
   "outputs": [],
   "source": []
  },
  {
   "cell_type": "code",
   "execution_count": 101,
   "id": "e56beb28",
   "metadata": {
    "scrolled": true
   },
   "outputs": [
    {
     "name": "stderr",
     "output_type": "stream",
     "text": [
      "[I 2023-06-11 01:26:45,854] A new study created in memory with name: no-name-1f95a971-9c94-43ee-9022-b1d4192e8cc1\n",
      "[I 2023-06-11 01:26:47,244] Trial 0 finished with value: 0.6706989247311828 and parameters: {'model_type': 'xgb', 'tree_method': 'exact', 'booster': 'gbtree', 'max_depth': 48, 'n_estimators': 26, 'colsample_bytree': 0.4969226896343486, 'learning_rate': 0.001, 'min_split_loss': 200.92541963567132, 'min_child_weight': 27, 'alpha': 16.09316771990133, 'reg_lambda': 19.97199426192669}. Best is trial 0 with value: 0.6706989247311828.\n",
      "[I 2023-06-11 01:26:57,546] Trial 1 finished with value: 0.6706989247311828 and parameters: {'model_type': 'xgb', 'tree_method': 'approx', 'booster': 'dart', 'colsample_bytree': 0.5507382556118601, 'learning_rate': 0.05, 'rate_drop': 0.5255220550893528, 'min_child_weight': 39}. Best is trial 0 with value: 0.6706989247311828.\n",
      "[I 2023-06-11 01:27:03,502] Trial 2 finished with value: 0.6706989247311828 and parameters: {'model_type': 'xgb', 'tree_method': 'exact', 'booster': 'dart', 'max_depth': 99, 'colsample_bytree': 0.6688500752501598, 'learning_rate': 0.01, 'rate_drop': 0.399199335584903, 'min_child_weight': 27}. Best is trial 0 with value: 0.6706989247311828.\n",
      "[I 2023-06-11 01:27:04,255] Trial 3 finished with value: 0.6706989247311828 and parameters: {'model_type': 'xgb', 'tree_method': 'exact', 'booster': 'gbtree', 'max_depth': 189, 'n_estimators': 881, 'colsample_bytree': 0.16534390158173545, 'learning_rate': 0.001, 'min_split_loss': 300.3154548009037, 'min_child_weight': 23, 'alpha': 27.047073059314393, 'reg_lambda': 21.737150614704916}. Best is trial 0 with value: 0.6706989247311828.\n"
     ]
    },
    {
     "name": "stdout",
     "output_type": "stream",
     "text": [
      "[LightGBM] [Warning] bagging_freq is set=158, subsample_freq=0 will be ignored. Current value: bagging_freq=158\n",
      "[LightGBM] [Warning] feature_fraction is set=0.5960577872873, colsample_bytree=1.0 will be ignored. Current value: feature_fraction=0.5960577872873\n",
      "[LightGBM] [Warning] bagging_fraction is set=0.6501106865147556, subsample=1.0 will be ignored. Current value: bagging_fraction=0.6501106865147556\n",
      "[LightGBM] [Warning] min_data_in_leaf is set=18, min_child_samples=20 will be ignored. Current value: min_data_in_leaf=18\n",
      "[LightGBM] [Warning] num_threads is set=0, n_jobs=-1 will be ignored. Current value: num_threads=0\n"
     ]
    },
    {
     "name": "stderr",
     "output_type": "stream",
     "text": [
      "[I 2023-06-11 01:27:13,217] Trial 4 finished with value: 0.6706989247311828 and parameters: {'model_type': 'lgbm', 'num_leaves': 314, 'boosting_type': 'dart', 'n_estimators': 321, 'learning_rate': 0.0001, 'min_data_in_leaf': 18, 'feature_fraction': 0.5960577872873, 'bagging_fraction': 0.6501106865147556, 'bagging_freq': 158, 'drop_rate': 0.015962399221290727}. Best is trial 0 with value: 0.6706989247311828.\n"
     ]
    },
    {
     "name": "stdout",
     "output_type": "stream",
     "text": [
      "[LightGBM] [Warning] bagging_freq is set=250, subsample_freq=0 will be ignored. Current value: bagging_freq=250\n",
      "[LightGBM] [Warning] feature_fraction is set=0.49783029139135965, colsample_bytree=1.0 will be ignored. Current value: feature_fraction=0.49783029139135965\n",
      "[LightGBM] [Warning] bagging_fraction is set=0.6487568904971628, subsample=1.0 will be ignored. Current value: bagging_fraction=0.6487568904971628\n",
      "[LightGBM] [Warning] min_data_in_leaf is set=30, min_child_samples=20 will be ignored. Current value: min_data_in_leaf=30\n",
      "[LightGBM] [Warning] num_threads is set=0, n_jobs=-1 will be ignored. Current value: num_threads=0\n"
     ]
    },
    {
     "name": "stderr",
     "output_type": "stream",
     "text": [
      "[I 2023-06-11 01:27:21,148] Trial 5 finished with value: 0.6733870967741935 and parameters: {'model_type': 'lgbm', 'num_leaves': 927, 'boosting_type': 'dart', 'n_estimators': 410, 'learning_rate': 0.005, 'min_data_in_leaf': 30, 'feature_fraction': 0.49783029139135965, 'bagging_fraction': 0.6487568904971628, 'bagging_freq': 250, 'drop_rate': 0.48976721940350326}. Best is trial 0 with value: 0.6706989247311828.\n"
     ]
    },
    {
     "name": "stdout",
     "output_type": "stream",
     "text": [
      "[LightGBM] [Warning] bagging_fraction is set=0.9200634521794219, subsample=1.0 will be ignored. Current value: bagging_fraction=0.9200634521794219\n",
      "[LightGBM] [Warning] bagging_freq is set=392, subsample_freq=0 will be ignored. Current value: bagging_freq=392\n",
      "[LightGBM] [Warning] min_data_in_leaf is set=12, min_child_samples=20 will be ignored. Current value: min_data_in_leaf=12\n",
      "[LightGBM] [Warning] num_threads is set=0, n_jobs=-1 will be ignored. Current value: num_threads=0\n"
     ]
    },
    {
     "name": "stderr",
     "output_type": "stream",
     "text": [
      "[I 2023-06-11 01:27:40,518] Trial 6 finished with value: 0.6706989247311828 and parameters: {'model_type': 'lgbm', 'num_leaves': 936, 'boosting_type': 'rf', 'n_estimators': 487, 'feature_fraction_bynode': 0.08041178394877402, 'bagging_fraction': 0.9200634521794219, 'bagging_freq': 392, 'min_data_in_leaf': 12, 'alpha': 0.16990801658797242, 'reg_lambda': 10.795656751704437}. Best is trial 0 with value: 0.6706989247311828.\n",
      "[I 2023-06-11 01:27:44,059] Trial 7 finished with value: 0.6706989247311828 and parameters: {'model_type': 'xgb', 'tree_method': 'hist', 'booster': 'dart', 'colsample_bytree': 0.5587289971262686, 'learning_rate': 0.1, 'rate_drop': 0.9735647257273783, 'min_child_weight': 33}. Best is trial 0 with value: 0.6706989247311828.\n"
     ]
    },
    {
     "name": "stdout",
     "output_type": "stream",
     "text": [
      "[LightGBM] [Warning] bagging_fraction is set=0.630100253219216, subsample=1.0 will be ignored. Current value: bagging_fraction=0.630100253219216\n",
      "[LightGBM] [Warning] feature_fraction is set=0.4387727466467477, colsample_bytree=1.0 will be ignored. Current value: feature_fraction=0.4387727466467477\n",
      "[LightGBM] [Warning] bagging_freq is set=8, subsample_freq=0 will be ignored. Current value: bagging_freq=8\n",
      "[LightGBM] [Warning] min_data_in_leaf is set=23, min_child_samples=20 will be ignored. Current value: min_data_in_leaf=23\n",
      "[LightGBM] [Warning] num_threads is set=0, n_jobs=-1 will be ignored. Current value: num_threads=0\n"
     ]
    },
    {
     "name": "stderr",
     "output_type": "stream",
     "text": [
      "[I 2023-06-11 01:27:44,793] Trial 8 finished with value: 0.6706989247311828 and parameters: {'model_type': 'lgbm', 'num_leaves': 203, 'boosting_type': 'gbdt', 'n_estimators': 48, 'learning_rate': 0.001, 'min_data_in_leaf': 23, 'feature_fraction': 0.4387727466467477, 'bagging_fraction': 0.630100253219216, 'bagging_freq': 8, 'alpha': 26.206104132944283, 'reg_lambda': 19.130197345903163}. Best is trial 0 with value: 0.6706989247311828.\n",
      "[I 2023-06-11 01:27:54,448] Trial 9 finished with value: 0.6720430107526881 and parameters: {'model_type': 'xgb', 'tree_method': 'exact', 'booster': 'dart', 'max_depth': 197, 'colsample_bytree': 0.7295261182741017, 'learning_rate': 0.0005, 'rate_drop': 0.1315660457100507, 'min_child_weight': 9}. Best is trial 0 with value: 0.6706989247311828.\n",
      "[I 2023-06-11 01:27:59,321] Trial 10 finished with value: 0.6706989247311828 and parameters: {'model_type': 'xgb', 'tree_method': 'approx', 'booster': 'gbtree', 'subsample': 0.2945036817812655, 'n_estimators': 37, 'colsample_bytree': 0.4098483374698077, 'learning_rate': 0.001, 'min_split_loss': 202.30308170697725, 'min_child_weight': 18, 'alpha': 17.39051476000052, 'reg_lambda': 28.181864970358713}. Best is trial 0 with value: 0.6706989247311828.\n",
      "[I 2023-06-11 01:28:04,081] Trial 11 finished with value: 0.6706989247311828 and parameters: {'model_type': 'xgb', 'tree_method': 'approx', 'booster': 'gbtree', 'subsample': 0.11111268788609731, 'n_estimators': 848, 'colsample_bytree': 0.33373028725110027, 'learning_rate': 0.05, 'min_split_loss': 991.1348235498647, 'min_child_weight': 40, 'alpha': 35.126389018779015, 'reg_lambda': 39.09045791022829}. Best is trial 0 with value: 0.6706989247311828.\n",
      "[I 2023-06-11 01:28:13,442] Trial 12 finished with value: 0.6706989247311828 and parameters: {'model_type': 'xgb', 'tree_method': 'approx', 'booster': 'dart', 'colsample_bytree': 0.8588860373652424, 'learning_rate': 0.05, 'rate_drop': 0.6575956672466186, 'min_child_weight': 39}. Best is trial 0 with value: 0.6706989247311828.\n",
      "[I 2023-06-11 01:28:14,300] Trial 13 finished with value: 0.6706989247311828 and parameters: {'model_type': 'xgb', 'tree_method': 'hist', 'booster': 'gbtree', 'subsample': 0.46682118162506653, 'n_estimators': 232, 'colsample_bytree': 0.5151995944419351, 'learning_rate': 0.05, 'min_split_loss': 599.5641582758307, 'min_child_weight': 33, 'alpha': 33.097292138429346, 'reg_lambda': 24.390946131250143}. Best is trial 0 with value: 0.6706989247311828.\n",
      "[I 2023-06-11 01:28:23,372] Trial 14 finished with value: 0.6706989247311828 and parameters: {'model_type': 'xgb', 'tree_method': 'approx', 'booster': 'gbtree', 'subsample': 0.10756471494401908, 'n_estimators': 677, 'colsample_bytree': 0.27111303364940953, 'learning_rate': 0.0001, 'min_split_loss': 0.11358244439071262, 'min_child_weight': 2, 'alpha': 3.2907237754899086, 'reg_lambda': 0.0673264200534319}. Best is trial 0 with value: 0.6706989247311828.\n",
      "[I 2023-06-11 01:28:27,866] Trial 15 finished with value: 0.6706989247311828 and parameters: {'model_type': 'xgb', 'tree_method': 'exact', 'booster': 'dart', 'max_depth': 5, 'colsample_bytree': 0.7402907246436883, 'learning_rate': 0.1, 'rate_drop': 0.664636404069082, 'min_child_weight': 29}. Best is trial 0 with value: 0.6706989247311828.\n",
      "[I 2023-06-11 01:28:32,655] Trial 16 finished with value: 0.6706989247311828 and parameters: {'model_type': 'xgb', 'tree_method': 'approx', 'booster': 'gbtree', 'subsample': 0.19217246326637444, 'n_estimators': 653, 'colsample_bytree': 0.42044574654421313, 'learning_rate': 0.01, 'min_split_loss': 357.99311326971747, 'min_child_weight': 18, 'alpha': 17.629270205832782, 'reg_lambda': 16.401501660657374}. Best is trial 0 with value: 0.6706989247311828.\n",
      "[I 2023-06-11 01:28:38,838] Trial 17 finished with value: 0.6706989247311828 and parameters: {'model_type': 'xgb', 'tree_method': 'exact', 'booster': 'dart', 'max_depth': 43, 'colsample_bytree': 0.6388482909209969, 'learning_rate': 0.005, 'rate_drop': 0.4515884643252587, 'min_child_weight': 22}. Best is trial 0 with value: 0.6706989247311828.\n"
     ]
    },
    {
     "name": "stdout",
     "output_type": "stream",
     "text": [
      "[LightGBM] [Warning] min_data_in_leaf is set=0, min_child_samples=20 will be ignored. Current value: min_data_in_leaf=0\n",
      "[LightGBM] [Warning] num_threads is set=0, n_jobs=-1 will be ignored. Current value: num_threads=0\n"
     ]
    },
    {
     "name": "stderr",
     "output_type": "stream",
     "text": [
      "[I 2023-06-11 01:29:03,721] Trial 18 finished with value: 0.6706989247311828 and parameters: {'model_type': 'lgbm', 'num_leaves': 573, 'boosting_type': 'goss', 'learning_rate': 0.0005, 'min_data_in_leaf': 0, 'top_rate': 0.4228500120577262}. Best is trial 0 with value: 0.6706989247311828.\n",
      "[I 2023-06-11 01:29:35,768] Trial 19 finished with value: 0.6693548387096774 and parameters: {'model_type': 'xgb', 'tree_method': 'hist', 'booster': 'dart', 'colsample_bytree': 0.8993529548013325, 'learning_rate': 0.001, 'rate_drop': 0.5025321599969503, 'min_child_weight': 14}. Best is trial 19 with value: 0.6693548387096774.\n",
      "[I 2023-06-11 01:29:36,659] Trial 20 finished with value: 0.6706989247311828 and parameters: {'model_type': 'xgb', 'tree_method': 'hist', 'booster': 'gbtree', 'subsample': 0.4718590455966514, 'n_estimators': 205, 'colsample_bytree': 0.8939331763008068, 'learning_rate': 0.001, 'min_split_loss': 298.4942075652477, 'min_child_weight': 14, 'alpha': 20.769498879306038, 'reg_lambda': 16.748971434074374}. Best is trial 19 with value: 0.6693548387096774.\n",
      "[I 2023-06-11 01:30:09,560] Trial 21 finished with value: 0.6693548387096774 and parameters: {'model_type': 'xgb', 'tree_method': 'hist', 'booster': 'dart', 'colsample_bytree': 0.8238200933012565, 'learning_rate': 0.001, 'rate_drop': 0.4908803162161275, 'min_child_weight': 14}. Best is trial 19 with value: 0.6693548387096774.\n",
      "[I 2023-06-11 01:30:42,456] Trial 22 finished with value: 0.6693548387096774 and parameters: {'model_type': 'xgb', 'tree_method': 'hist', 'booster': 'dart', 'colsample_bytree': 0.8465899983458447, 'learning_rate': 0.001, 'rate_drop': 0.4822900337087707, 'min_child_weight': 14}. Best is trial 19 with value: 0.6693548387096774.\n",
      "[I 2023-06-11 01:31:15,319] Trial 23 finished with value: 0.6693548387096774 and parameters: {'model_type': 'xgb', 'tree_method': 'hist', 'booster': 'dart', 'colsample_bytree': 0.8294365914591474, 'learning_rate': 0.001, 'rate_drop': 0.4827992505156514, 'min_child_weight': 14}. Best is trial 19 with value: 0.6693548387096774.\n",
      "[I 2023-06-11 01:31:48,734] Trial 24 finished with value: 0.6693548387096774 and parameters: {'model_type': 'xgb', 'tree_method': 'hist', 'booster': 'dart', 'colsample_bytree': 0.8314401737662526, 'learning_rate': 0.001, 'rate_drop': 0.4762898444391661, 'min_child_weight': 14}. Best is trial 19 with value: 0.6693548387096774.\n",
      "[I 2023-06-11 01:32:24,084] Trial 25 finished with value: 0.668010752688172 and parameters: {'model_type': 'xgb', 'tree_method': 'hist', 'booster': 'dart', 'colsample_bytree': 0.8984049915807611, 'learning_rate': 0.001, 'rate_drop': 0.44357818837331103, 'min_child_weight': 12}. Best is trial 25 with value: 0.668010752688172.\n"
     ]
    },
    {
     "name": "stdout",
     "output_type": "stream",
     "text": [
      "[LightGBM] [Warning] bagging_fraction is set=0.9792116606005735, subsample=1.0 will be ignored. Current value: bagging_fraction=0.9792116606005735\n",
      "[LightGBM] [Warning] bagging_freq is set=4, subsample_freq=0 will be ignored. Current value: bagging_freq=4\n",
      "[LightGBM] [Warning] min_data_in_leaf is set=40, min_child_samples=20 will be ignored. Current value: min_data_in_leaf=40\n",
      "[LightGBM] [Warning] num_threads is set=0, n_jobs=-1 will be ignored. Current value: num_threads=0\n"
     ]
    },
    {
     "name": "stderr",
     "output_type": "stream",
     "text": [
      "[I 2023-06-11 01:32:26,021] Trial 26 finished with value: 0.6693548387096774 and parameters: {'model_type': 'lgbm', 'num_leaves': 59, 'boosting_type': 'rf', 'n_estimators': 139, 'feature_fraction_bynode': 0.68151208604968, 'min_data_in_leaf': 40, 'alpha': 39.747804993715775, 'reg_lambda': 37.85934498769383, 'bagging_fraction': 0.9792116606005735, 'bagging_freq': 4}. Best is trial 25 with value: 0.668010752688172.\n",
      "[I 2023-06-11 01:33:03,779] Trial 27 finished with value: 0.6666666666666666 and parameters: {'model_type': 'xgb', 'tree_method': 'hist', 'booster': 'dart', 'colsample_bytree': 0.8961961376638973, 'learning_rate': 0.001, 'rate_drop': 0.41622191255264385, 'min_child_weight': 10}. Best is trial 27 with value: 0.6666666666666666.\n",
      "[I 2023-06-11 01:33:42,066] Trial 28 finished with value: 0.6639784946236559 and parameters: {'model_type': 'xgb', 'tree_method': 'hist', 'booster': 'dart', 'colsample_bytree': 0.8978108191283539, 'learning_rate': 0.001, 'rate_drop': 0.4048223497805339, 'min_child_weight': 10}. Best is trial 28 with value: 0.6639784946236559.\n",
      "[I 2023-06-11 01:34:20,738] Trial 29 finished with value: 0.6666666666666666 and parameters: {'model_type': 'xgb', 'tree_method': 'hist', 'booster': 'dart', 'colsample_bytree': 0.8952631588780027, 'learning_rate': 0.001, 'rate_drop': 0.39764893500383053, 'min_child_weight': 10}. Best is trial 28 with value: 0.6639784946236559.\n",
      "[I 2023-06-11 01:35:11,474] Trial 30 finished with value: 0.6733870967741935 and parameters: {'model_type': 'xgb', 'tree_method': 'hist', 'booster': 'dart', 'colsample_bytree': 0.7827522455505868, 'learning_rate': 0.0001, 'rate_drop': 0.21063006929540498, 'min_child_weight': 7}. Best is trial 28 with value: 0.6639784946236559.\n",
      "[I 2023-06-11 01:35:49,164] Trial 31 finished with value: 0.668010752688172 and parameters: {'model_type': 'xgb', 'tree_method': 'hist', 'booster': 'dart', 'colsample_bytree': 0.8983905654571797, 'learning_rate': 0.001, 'rate_drop': 0.41582668727114835, 'min_child_weight': 11}. Best is trial 28 with value: 0.6639784946236559.\n",
      "[I 2023-06-11 01:36:27,030] Trial 32 finished with value: 0.668010752688172 and parameters: {'model_type': 'xgb', 'tree_method': 'hist', 'booster': 'dart', 'colsample_bytree': 0.8720765406733131, 'learning_rate': 0.001, 'rate_drop': 0.4003649119629131, 'min_child_weight': 12}. Best is trial 28 with value: 0.6639784946236559.\n",
      "[I 2023-06-11 01:37:04,417] Trial 33 finished with value: 0.6693548387096774 and parameters: {'model_type': 'xgb', 'tree_method': 'hist', 'booster': 'dart', 'colsample_bytree': 0.8546460966670671, 'learning_rate': 0.001, 'rate_drop': 0.4193946841633511, 'min_child_weight': 11}. Best is trial 28 with value: 0.6639784946236559.\n",
      "[I 2023-06-11 01:37:43,994] Trial 34 finished with value: 0.668010752688172 and parameters: {'model_type': 'xgb', 'tree_method': 'hist', 'booster': 'dart', 'colsample_bytree': 0.8987566368721275, 'learning_rate': 0.001, 'rate_drop': 0.38197522082248936, 'min_child_weight': 10}. Best is trial 28 with value: 0.6639784946236559.\n",
      "[I 2023-06-11 01:38:23,293] Trial 35 finished with value: 0.6693548387096774 and parameters: {'model_type': 'xgb', 'tree_method': 'hist', 'booster': 'dart', 'colsample_bytree': 0.8007668266747937, 'learning_rate': 0.01, 'rate_drop': 0.37517584844515, 'min_child_weight': 12}. Best is trial 28 with value: 0.6639784946236559.\n",
      "[I 2023-06-11 01:38:28,227] Trial 36 finished with value: 0.6706989247311828 and parameters: {'model_type': 'xgb', 'tree_method': 'hist', 'booster': 'dart', 'colsample_bytree': 0.8646184890561296, 'learning_rate': 0.1, 'rate_drop': 0.9628241517032541, 'min_child_weight': 21}. Best is trial 28 with value: 0.6639784946236559.\n"
     ]
    },
    {
     "name": "stdout",
     "output_type": "stream",
     "text": [
      "[LightGBM] [Warning] bagging_fraction is set=0.3199543066023827, subsample=1.0 will be ignored. Current value: bagging_fraction=0.3199543066023827\n",
      "[LightGBM] [Warning] feature_fraction is set=0.3028270069019788, colsample_bytree=1.0 will be ignored. Current value: feature_fraction=0.3028270069019788\n",
      "[LightGBM] [Warning] bagging_freq is set=39, subsample_freq=0 will be ignored. Current value: bagging_freq=39\n",
      "[LightGBM] [Warning] min_data_in_leaf is set=12, min_child_samples=20 will be ignored. Current value: min_data_in_leaf=12\n",
      "[LightGBM] [Warning] num_threads is set=0, n_jobs=-1 will be ignored. Current value: num_threads=0\n"
     ]
    },
    {
     "name": "stderr",
     "output_type": "stream",
     "text": [
      "[I 2023-06-11 01:38:29,518] Trial 37 finished with value: 0.6706989247311828 and parameters: {'model_type': 'lgbm', 'num_leaves': 610, 'boosting_type': 'gbdt', 'n_estimators': 101, 'learning_rate': 0.001, 'min_data_in_leaf': 12, 'feature_fraction': 0.3028270069019788, 'bagging_fraction': 0.3199543066023827, 'bagging_freq': 39, 'alpha': 21.661037737602502, 'reg_lambda': 15.742312713491938}. Best is trial 28 with value: 0.6639784946236559.\n",
      "[I 2023-06-11 01:39:04,508] Trial 38 finished with value: 0.6706989247311828 and parameters: {'model_type': 'xgb', 'tree_method': 'hist', 'booster': 'dart', 'colsample_bytree': 0.867353700348101, 'learning_rate': 0.005, 'rate_drop': 0.43568710115824233, 'min_child_weight': 16}. Best is trial 28 with value: 0.6639784946236559.\n"
     ]
    },
    {
     "name": "stdout",
     "output_type": "stream",
     "text": [
      "[LightGBM] [Warning] min_data_in_leaf is set=2, min_child_samples=20 will be ignored. Current value: min_data_in_leaf=2\n",
      "[LightGBM] [Warning] num_threads is set=0, n_jobs=-1 will be ignored. Current value: num_threads=0\n"
     ]
    },
    {
     "name": "stderr",
     "output_type": "stream",
     "text": [
      "[I 2023-06-11 01:39:42,220] Trial 39 finished with value: 0.6706989247311828 and parameters: {'model_type': 'lgbm', 'num_leaves': 710, 'boosting_type': 'goss', 'learning_rate': 0.0005, 'min_data_in_leaf': 2, 'top_rate': 0.10289448754092617}. Best is trial 28 with value: 0.6639784946236559.\n",
      "[I 2023-06-11 01:40:18,271] Trial 40 finished with value: 0.6693548387096774 and parameters: {'model_type': 'xgb', 'tree_method': 'hist', 'booster': 'dart', 'colsample_bytree': 0.8102344237511531, 'learning_rate': 0.001, 'rate_drop': 0.4340806663045623, 'min_child_weight': 10}. Best is trial 28 with value: 0.6639784946236559.\n",
      "[I 2023-06-11 01:40:56,401] Trial 41 finished with value: 0.668010752688172 and parameters: {'model_type': 'xgb', 'tree_method': 'hist', 'booster': 'dart', 'colsample_bytree': 0.8990488393114946, 'learning_rate': 0.001, 'rate_drop': 0.40786517038254066, 'min_child_weight': 12}. Best is trial 28 with value: 0.6639784946236559.\n",
      "[I 2023-06-11 01:41:33,514] Trial 42 finished with value: 0.668010752688172 and parameters: {'model_type': 'xgb', 'tree_method': 'hist', 'booster': 'dart', 'colsample_bytree': 0.8703361799566898, 'learning_rate': 0.001, 'rate_drop': 0.4156669288502064, 'min_child_weight': 10}. Best is trial 28 with value: 0.6639784946236559.\n",
      "[I 2023-06-11 01:42:12,355] Trial 43 finished with value: 0.668010752688172 and parameters: {'model_type': 'xgb', 'tree_method': 'hist', 'booster': 'dart', 'colsample_bytree': 0.8970966176604167, 'learning_rate': 0.001, 'rate_drop': 0.38471430489002184, 'min_child_weight': 12}. Best is trial 28 with value: 0.6639784946236559.\n",
      "[I 2023-06-11 01:42:48,046] Trial 44 finished with value: 0.6693548387096774 and parameters: {'model_type': 'xgb', 'tree_method': 'hist', 'booster': 'dart', 'colsample_bytree': 0.8466896653912664, 'learning_rate': 0.001, 'rate_drop': 0.43193627327994755, 'min_child_weight': 11}. Best is trial 28 with value: 0.6639784946236559.\n",
      "[I 2023-06-11 01:43:26,279] Trial 45 finished with value: 0.6706989247311828 and parameters: {'model_type': 'xgb', 'tree_method': 'hist', 'booster': 'dart', 'colsample_bytree': 0.8696718636162455, 'learning_rate': 0.01, 'rate_drop': 0.376522340992755, 'min_child_weight': 16}. Best is trial 28 with value: 0.6639784946236559.\n",
      "[I 2023-06-11 01:44:01,015] Trial 46 finished with value: 0.6693548387096774 and parameters: {'model_type': 'xgb', 'tree_method': 'hist', 'booster': 'dart', 'colsample_bytree': 0.8354667216941715, 'learning_rate': 0.001, 'rate_drop': 0.44835612985354717, 'min_child_weight': 11}. Best is trial 28 with value: 0.6639784946236559.\n"
     ]
    },
    {
     "name": "stdout",
     "output_type": "stream",
     "text": [
      "[LightGBM] [Warning] bagging_fraction is set=0.8536224172110028, subsample=1.0 will be ignored. Current value: bagging_fraction=0.8536224172110028\n",
      "[LightGBM] [Warning] bagging_freq is set=119, subsample_freq=0 will be ignored. Current value: bagging_freq=119\n",
      "[LightGBM] [Warning] min_data_in_leaf is set=5, min_child_samples=20 will be ignored. Current value: min_data_in_leaf=5\n",
      "[LightGBM] [Warning] num_threads is set=0, n_jobs=-1 will be ignored. Current value: num_threads=0\n"
     ]
    },
    {
     "name": "stderr",
     "output_type": "stream",
     "text": [
      "[I 2023-06-11 01:44:36,256] Trial 47 finished with value: 0.6720430107526881 and parameters: {'model_type': 'lgbm', 'num_leaves': 359, 'boosting_type': 'rf', 'n_estimators': 306, 'feature_fraction_bynode': 0.01214661335798784, 'bagging_fraction': 0.8536224172110028, 'bagging_freq': 119, 'min_data_in_leaf': 5, 'alpha': 0.10693176113942975, 'reg_lambda': 0.01940828914141181}. Best is trial 28 with value: 0.6639784946236559.\n",
      "[I 2023-06-11 01:44:45,156] Trial 48 finished with value: 0.668010752688172 and parameters: {'model_type': 'xgb', 'tree_method': 'exact', 'booster': 'dart', 'max_depth': 299, 'colsample_bytree': 0.8769520966043887, 'learning_rate': 0.0001, 'rate_drop': 0.2727874996773063, 'min_child_weight': 8}. Best is trial 28 with value: 0.6639784946236559.\n",
      "[I 2023-06-11 01:44:53,226] Trial 49 finished with value: 0.6706989247311828 and parameters: {'model_type': 'xgb', 'tree_method': 'hist', 'booster': 'dart', 'colsample_bytree': 0.8038363373559733, 'learning_rate': 0.05, 'rate_drop': 0.8975750696232074, 'min_child_weight': 21}. Best is trial 28 with value: 0.6639784946236559.\n",
      "[I 2023-06-11 01:45:23,286] Trial 50 finished with value: 0.6706989247311828 and parameters: {'model_type': 'xgb', 'tree_method': 'hist', 'booster': 'dart', 'colsample_bytree': 0.8492092332499244, 'learning_rate': 0.1, 'rate_drop': 0.514974625731401, 'min_child_weight': 21}. Best is trial 28 with value: 0.6639784946236559.\n",
      "[I 2023-06-11 01:46:00,407] Trial 51 finished with value: 0.668010752688172 and parameters: {'model_type': 'xgb', 'tree_method': 'hist', 'booster': 'dart', 'colsample_bytree': 0.8703295153126838, 'learning_rate': 0.001, 'rate_drop': 0.4053390940884176, 'min_child_weight': 12}. Best is trial 28 with value: 0.6639784946236559.\n",
      "[I 2023-06-11 01:46:37,049] Trial 52 finished with value: 0.668010752688172 and parameters: {'model_type': 'xgb', 'tree_method': 'hist', 'booster': 'dart', 'colsample_bytree': 0.8854519465796156, 'learning_rate': 0.001, 'rate_drop': 0.4079394806512135, 'min_child_weight': 13}. Best is trial 28 with value: 0.6639784946236559.\n",
      "[I 2023-06-11 01:47:15,075] Trial 53 finished with value: 0.6706989247311828 and parameters: {'model_type': 'xgb', 'tree_method': 'hist', 'booster': 'dart', 'colsample_bytree': 0.8769046474340979, 'learning_rate': 0.001, 'rate_drop': 0.39470689527819586, 'min_child_weight': 11}. Best is trial 28 with value: 0.6639784946236559.\n",
      "[I 2023-06-11 01:47:29,286] Trial 54 finished with value: 0.6733870967741935 and parameters: {'model_type': 'xgb', 'tree_method': 'approx', 'booster': 'dart', 'colsample_bytree': 0.8524017883810617, 'learning_rate': 0.005, 'rate_drop': 0.41976491895367307, 'min_child_weight': 13}. Best is trial 28 with value: 0.6639784946236559.\n",
      "[I 2023-06-11 01:47:31,516] Trial 55 finished with value: 0.6706989247311828 and parameters: {'model_type': 'xgb', 'tree_method': 'exact', 'booster': 'gbtree', 'max_depth': 294, 'n_estimators': 656, 'colsample_bytree': 0.6422440469552609, 'learning_rate': 0.001, 'min_split_loss': 527.317088194915, 'min_child_weight': 16, 'alpha': 14.552095051712024, 'reg_lambda': 24.83433350130243}. Best is trial 28 with value: 0.6639784946236559.\n",
      "[I 2023-06-11 01:48:09,086] Trial 56 finished with value: 0.668010752688172 and parameters: {'model_type': 'xgb', 'tree_method': 'hist', 'booster': 'dart', 'colsample_bytree': 0.8813519818058617, 'learning_rate': 0.001, 'rate_drop': 0.393660923671806, 'min_child_weight': 13}. Best is trial 28 with value: 0.6639784946236559.\n",
      "[I 2023-06-11 01:48:56,002] Trial 57 finished with value: 0.6706989247311828 and parameters: {'model_type': 'xgb', 'tree_method': 'hist', 'booster': 'dart', 'colsample_bytree': 0.8531520006626205, 'learning_rate': 0.0005, 'rate_drop': 0.2589112609213861, 'min_child_weight': 6}. Best is trial 28 with value: 0.6639784946236559.\n"
     ]
    },
    {
     "name": "stdout",
     "output_type": "stream",
     "text": [
      "[LightGBM] [Warning] bagging_fraction is set=0.30166154295548897, subsample=1.0 will be ignored. Current value: bagging_fraction=0.30166154295548897\n",
      "[LightGBM] [Warning] feature_fraction is set=0.6864492517504935, colsample_bytree=1.0 will be ignored. Current value: feature_fraction=0.6864492517504935\n",
      "[LightGBM] [Warning] bagging_freq is set=74, subsample_freq=0 will be ignored. Current value: bagging_freq=74\n",
      "[LightGBM] [Warning] min_data_in_leaf is set=25, min_child_samples=20 will be ignored. Current value: min_data_in_leaf=25\n",
      "[LightGBM] [Warning] num_threads is set=0, n_jobs=-1 will be ignored. Current value: num_threads=0\n"
     ]
    },
    {
     "name": "stderr",
     "output_type": "stream",
     "text": [
      "[I 2023-06-11 01:48:57,520] Trial 58 finished with value: 0.6706989247311828 and parameters: {'model_type': 'lgbm', 'num_leaves': 790, 'boosting_type': 'gbdt', 'n_estimators': 163, 'learning_rate': 0.001, 'min_data_in_leaf': 25, 'feature_fraction': 0.6864492517504935, 'bagging_fraction': 0.30166154295548897, 'bagging_freq': 74, 'alpha': 20.32535347890725, 'reg_lambda': 18.254954915455194}. Best is trial 28 with value: 0.6639784946236559.\n",
      "[I 2023-06-11 01:49:02,268] Trial 59 finished with value: 0.6706989247311828 and parameters: {'model_type': 'xgb', 'tree_method': 'approx', 'booster': 'gbtree', 'subsample': 0.18221817325277673, 'n_estimators': 988, 'colsample_bytree': 0.6479161310826567, 'learning_rate': 0.05, 'min_split_loss': 979.8445354731142, 'min_child_weight': 25, 'alpha': 39.59578665741258, 'reg_lambda': 35.61971202423559}. Best is trial 28 with value: 0.6639784946236559.\n",
      "[I 2023-06-11 01:49:36,595] Trial 60 finished with value: 0.6706989247311828 and parameters: {'model_type': 'xgb', 'tree_method': 'hist', 'booster': 'dart', 'colsample_bytree': 0.8834376936023945, 'learning_rate': 0.001, 'rate_drop': 0.4546639815544444, 'min_child_weight': 11}. Best is trial 28 with value: 0.6639784946236559.\n",
      "[I 2023-06-11 01:50:15,089] Trial 61 finished with value: 0.6666666666666666 and parameters: {'model_type': 'xgb', 'tree_method': 'hist', 'booster': 'dart', 'colsample_bytree': 0.895362190036079, 'learning_rate': 0.001, 'rate_drop': 0.3942676634727302, 'min_child_weight': 10}. Best is trial 28 with value: 0.6639784946236559.\n",
      "[I 2023-06-11 01:50:51,190] Trial 62 finished with value: 0.668010752688172 and parameters: {'model_type': 'xgb', 'tree_method': 'hist', 'booster': 'dart', 'colsample_bytree': 0.894918933243517, 'learning_rate': 0.001, 'rate_drop': 0.42402335259958995, 'min_child_weight': 12}. Best is trial 28 with value: 0.6639784946236559.\n",
      "[I 2023-06-11 01:51:29,119] Trial 63 finished with value: 0.6653225806451613 and parameters: {'model_type': 'xgb', 'tree_method': 'hist', 'booster': 'dart', 'colsample_bytree': 0.8988650825594348, 'learning_rate': 0.001, 'rate_drop': 0.4028055195666746, 'min_child_weight': 10}. Best is trial 28 with value: 0.6639784946236559.\n",
      "[I 2023-06-11 01:52:04,967] Trial 64 finished with value: 0.6639784946236559 and parameters: {'model_type': 'xgb', 'tree_method': 'hist', 'booster': 'dart', 'colsample_bytree': 0.8978770136959938, 'learning_rate': 0.001, 'rate_drop': 0.4379922325902252, 'min_child_weight': 10}. Best is trial 28 with value: 0.6639784946236559.\n",
      "[I 2023-06-11 01:52:13,683] Trial 65 finished with value: 0.6733870967741935 and parameters: {'model_type': 'xgb', 'tree_method': 'exact', 'booster': 'dart', 'max_depth': 232, 'colsample_bytree': 0.83280213815928, 'learning_rate': 0.0001, 'rate_drop': 0.2886189945006407, 'min_child_weight': 9}. Best is trial 28 with value: 0.6639784946236559.\n",
      "[I 2023-06-11 01:52:48,856] Trial 66 finished with value: 0.6666666666666666 and parameters: {'model_type': 'xgb', 'tree_method': 'hist', 'booster': 'dart', 'colsample_bytree': 0.8595901901848343, 'learning_rate': 0.001, 'rate_drop': 0.4457601014112251, 'min_child_weight': 10}. Best is trial 28 with value: 0.6639784946236559.\n",
      "[I 2023-06-11 01:52:49,708] Trial 67 finished with value: 0.6706989247311828 and parameters: {'model_type': 'xgb', 'tree_method': 'hist', 'booster': 'gbtree', 'subsample': 0.3070204325426084, 'n_estimators': 556, 'colsample_bytree': 0.6554092808486691, 'learning_rate': 0.01, 'min_split_loss': 500.1149318585533, 'min_child_weight': 10, 'alpha': 23.305354484170486, 'reg_lambda': 20.83952596188904}. Best is trial 28 with value: 0.6639784946236559.\n",
      "[I 2023-06-11 01:53:06,068] Trial 68 finished with value: 0.6733870967741935 and parameters: {'model_type': 'xgb', 'tree_method': 'approx', 'booster': 'dart', 'colsample_bytree': 0.8596968560205406, 'learning_rate': 0.001, 'rate_drop': 0.46203132627163584, 'min_child_weight': 10}. Best is trial 28 with value: 0.6639784946236559.\n",
      "[I 2023-06-11 01:53:35,877] Trial 69 finished with value: 0.6706989247311828 and parameters: {'model_type': 'xgb', 'tree_method': 'hist', 'booster': 'dart', 'colsample_bytree': 0.8204349168806632, 'learning_rate': 0.1, 'rate_drop': 0.5075723786706329, 'min_child_weight': 36}. Best is trial 28 with value: 0.6639784946236559.\n"
     ]
    },
    {
     "name": "stdout",
     "output_type": "stream",
     "text": [
      "[LightGBM] [Warning] min_data_in_leaf is set=30, min_child_samples=20 will be ignored. Current value: min_data_in_leaf=30\n",
      "[LightGBM] [Warning] num_threads is set=0, n_jobs=-1 will be ignored. Current value: num_threads=0\n"
     ]
    },
    {
     "name": "stderr",
     "output_type": "stream",
     "text": [
      "[I 2023-06-11 01:53:36,624] Trial 70 finished with value: 0.6706989247311828 and parameters: {'model_type': 'lgbm', 'num_leaves': 7, 'boosting_type': 'goss', 'learning_rate': 0.005, 'min_data_in_leaf': 30, 'top_rate': 0.6933567716299975}. Best is trial 28 with value: 0.6639784946236559.\n",
      "[I 2023-06-11 01:54:12,247] Trial 71 finished with value: 0.668010752688172 and parameters: {'model_type': 'xgb', 'tree_method': 'hist', 'booster': 'dart', 'colsample_bytree': 0.8812602373781182, 'learning_rate': 0.001, 'rate_drop': 0.4396761610868933, 'min_child_weight': 11}. Best is trial 28 with value: 0.6639784946236559.\n",
      "[I 2023-06-11 01:54:48,448] Trial 72 finished with value: 0.668010752688172 and parameters: {'model_type': 'xgb', 'tree_method': 'hist', 'booster': 'dart', 'colsample_bytree': 0.8843453727003445, 'learning_rate': 0.001, 'rate_drop': 0.430817649573248, 'min_child_weight': 10}. Best is trial 28 with value: 0.6639784946236559.\n",
      "[I 2023-06-11 01:55:23,331] Trial 73 finished with value: 0.668010752688172 and parameters: {'model_type': 'xgb', 'tree_method': 'hist', 'booster': 'dart', 'colsample_bytree': 0.8981020399914696, 'learning_rate': 0.001, 'rate_drop': 0.4540316066711842, 'min_child_weight': 11}. Best is trial 28 with value: 0.6639784946236559.\n",
      "[I 2023-06-11 01:55:59,562] Trial 74 finished with value: 0.6693548387096774 and parameters: {'model_type': 'xgb', 'tree_method': 'hist', 'booster': 'dart', 'colsample_bytree': 0.8424422026279567, 'learning_rate': 0.001, 'rate_drop': 0.41744154944040435, 'min_child_weight': 13}. Best is trial 28 with value: 0.6639784946236559.\n",
      "[I 2023-06-11 01:56:35,671] Trial 75 finished with value: 0.668010752688172 and parameters: {'model_type': 'xgb', 'tree_method': 'hist', 'booster': 'dart', 'colsample_bytree': 0.8611087123471954, 'learning_rate': 0.001, 'rate_drop': 0.44310803459906717, 'min_child_weight': 10}. Best is trial 28 with value: 0.6639784946236559.\n",
      "[I 2023-06-11 01:57:18,620] Trial 76 finished with value: 0.6706989247311828 and parameters: {'model_type': 'xgb', 'tree_method': 'hist', 'booster': 'dart', 'colsample_bytree': 0.8805079708849604, 'learning_rate': 0.0005, 'rate_drop': 0.3207367117732447, 'min_child_weight': 8}. Best is trial 28 with value: 0.6639784946236559.\n",
      "[I 2023-06-11 01:57:52,430] Trial 77 finished with value: 0.6666666666666666 and parameters: {'model_type': 'xgb', 'tree_method': 'hist', 'booster': 'dart', 'colsample_bytree': 0.8625825759581781, 'learning_rate': 0.001, 'rate_drop': 0.46998612201343054, 'min_child_weight': 12}. Best is trial 28 with value: 0.6639784946236559.\n",
      "[I 2023-06-11 01:58:26,767] Trial 78 finished with value: 0.6706989247311828 and parameters: {'model_type': 'xgb', 'tree_method': 'hist', 'booster': 'dart', 'colsample_bytree': 0.8431277428239355, 'learning_rate': 0.001, 'rate_drop': 0.4640923205138985, 'min_child_weight': 11}. Best is trial 28 with value: 0.6639784946236559.\n",
      "[I 2023-06-11 01:58:59,511] Trial 79 finished with value: 0.6706989247311828 and parameters: {'model_type': 'xgb', 'tree_method': 'hist', 'booster': 'dart', 'colsample_bytree': 0.8210836835677124, 'learning_rate': 0.001, 'rate_drop': 0.4735896072459582, 'min_child_weight': 15}. Best is trial 28 with value: 0.6639784946236559.\n",
      "[I 2023-06-11 01:59:01,616] Trial 80 finished with value: 0.6706989247311828 and parameters: {'model_type': 'xgb', 'tree_method': 'exact', 'booster': 'gbtree', 'max_depth': 120, 'n_estimators': 788, 'colsample_bytree': 0.6780032241075888, 'learning_rate': 0.001, 'min_split_loss': 413.3388530714923, 'min_child_weight': 19, 'alpha': 19.309237350373788, 'reg_lambda': 15.571860234475352}. Best is trial 28 with value: 0.6639784946236559.\n",
      "[I 2023-06-11 01:59:36,665] Trial 81 finished with value: 0.668010752688172 and parameters: {'model_type': 'xgb', 'tree_method': 'hist', 'booster': 'dart', 'colsample_bytree': 0.8657549680153195, 'learning_rate': 0.001, 'rate_drop': 0.4449654516338027, 'min_child_weight': 12}. Best is trial 28 with value: 0.6639784946236559.\n",
      "[I 2023-06-11 02:00:12,584] Trial 82 finished with value: 0.668010752688172 and parameters: {'model_type': 'xgb', 'tree_method': 'hist', 'booster': 'dart', 'colsample_bytree': 0.8974238111890179, 'learning_rate': 0.001, 'rate_drop': 0.4267060048609387, 'min_child_weight': 12}. Best is trial 28 with value: 0.6639784946236559.\n",
      "[I 2023-06-11 02:00:50,142] Trial 83 finished with value: 0.6693548387096774 and parameters: {'model_type': 'xgb', 'tree_method': 'hist', 'booster': 'dart', 'colsample_bytree': 0.8618724022246095, 'learning_rate': 0.001, 'rate_drop': 0.4010208889085319, 'min_child_weight': 11}. Best is trial 28 with value: 0.6639784946236559.\n",
      "[I 2023-06-11 02:01:20,297] Trial 84 finished with value: 0.6706989247311828 and parameters: {'model_type': 'xgb', 'tree_method': 'hist', 'booster': 'dart', 'colsample_bytree': 0.8847937444680742, 'learning_rate': 0.05, 'rate_drop': 0.5062990851972586, 'min_child_weight': 29}. Best is trial 28 with value: 0.6639784946236559.\n",
      "[I 2023-06-11 02:01:57,656] Trial 85 finished with value: 0.668010752688172 and parameters: {'model_type': 'xgb', 'tree_method': 'hist', 'booster': 'dart', 'colsample_bytree': 0.8708003258206011, 'learning_rate': 0.001, 'rate_drop': 0.4105828345714699, 'min_child_weight': 10}. Best is trial 28 with value: 0.6639784946236559.\n",
      "[I 2023-06-11 02:02:40,341] Trial 86 finished with value: 0.6693548387096774 and parameters: {'model_type': 'xgb', 'tree_method': 'hist', 'booster': 'dart', 'colsample_bytree': 0.8985691382481957, 'learning_rate': 0.0001, 'rate_drop': 0.3201738368048637, 'min_child_weight': 9}. Best is trial 28 with value: 0.6639784946236559.\n"
     ]
    },
    {
     "name": "stdout",
     "output_type": "stream",
     "text": [
      "[LightGBM] [Warning] bagging_freq is set=252, subsample_freq=0 will be ignored. Current value: bagging_freq=252\n",
      "[LightGBM] [Warning] feature_fraction is set=0.3095874194273187, colsample_bytree=1.0 will be ignored. Current value: feature_fraction=0.3095874194273187\n",
      "[LightGBM] [Warning] bagging_fraction is set=0.4059650345630578, subsample=1.0 will be ignored. Current value: bagging_fraction=0.4059650345630578\n",
      "[LightGBM] [Warning] min_data_in_leaf is set=17, min_child_samples=20 will be ignored. Current value: min_data_in_leaf=17\n",
      "[LightGBM] [Warning] num_threads is set=0, n_jobs=-1 will be ignored. Current value: num_threads=0\n"
     ]
    },
    {
     "name": "stderr",
     "output_type": "stream",
     "text": [
      "[I 2023-06-11 02:02:45,459] Trial 87 finished with value: 0.6693548387096774 and parameters: {'model_type': 'lgbm', 'num_leaves': 417, 'boosting_type': 'dart', 'n_estimators': 325, 'learning_rate': 0.01, 'min_data_in_leaf': 17, 'feature_fraction': 0.3095874194273187, 'bagging_fraction': 0.4059650345630578, 'bagging_freq': 252, 'drop_rate': 0.664727392166436}. Best is trial 28 with value: 0.6639784946236559.\n",
      "[I 2023-06-11 02:03:20,566] Trial 88 finished with value: 0.6693548387096774 and parameters: {'model_type': 'xgb', 'tree_method': 'hist', 'booster': 'dart', 'colsample_bytree': 0.8551442581404336, 'learning_rate': 0.001, 'rate_drop': 0.43026362457402056, 'min_child_weight': 13}. Best is trial 28 with value: 0.6639784946236559.\n",
      "[I 2023-06-11 02:03:54,529] Trial 89 finished with value: 0.6720430107526881 and parameters: {'model_type': 'xgb', 'tree_method': 'hist', 'booster': 'dart', 'colsample_bytree': 0.883791741346168, 'learning_rate': 0.001, 'rate_drop': 0.468619066209142, 'min_child_weight': 11}. Best is trial 28 with value: 0.6639784946236559.\n",
      "[I 2023-06-11 02:04:04,744] Trial 90 finished with value: 0.6706989247311828 and parameters: {'model_type': 'xgb', 'tree_method': 'approx', 'booster': 'dart', 'colsample_bytree': 0.8336749960078382, 'learning_rate': 0.1, 'rate_drop': 0.506118110257288, 'min_child_weight': 33}. Best is trial 28 with value: 0.6639784946236559.\n",
      "[I 2023-06-11 02:04:41,059] Trial 91 finished with value: 0.668010752688172 and parameters: {'model_type': 'xgb', 'tree_method': 'hist', 'booster': 'dart', 'colsample_bytree': 0.8990570589921726, 'learning_rate': 0.001, 'rate_drop': 0.4201302510292463, 'min_child_weight': 11}. Best is trial 28 with value: 0.6639784946236559.\n",
      "[I 2023-06-11 02:05:16,028] Trial 92 finished with value: 0.668010752688172 and parameters: {'model_type': 'xgb', 'tree_method': 'hist', 'booster': 'dart', 'colsample_bytree': 0.871180036392863, 'learning_rate': 0.001, 'rate_drop': 0.4446261014008246, 'min_child_weight': 10}. Best is trial 28 with value: 0.6639784946236559.\n",
      "[I 2023-06-11 02:05:52,829] Trial 93 finished with value: 0.668010752688172 and parameters: {'model_type': 'xgb', 'tree_method': 'hist', 'booster': 'dart', 'colsample_bytree': 0.8854143733353086, 'learning_rate': 0.001, 'rate_drop': 0.4112912495009017, 'min_child_weight': 12}. Best is trial 28 with value: 0.6639784946236559.\n",
      "[I 2023-06-11 02:06:30,453] Trial 94 finished with value: 0.6693548387096774 and parameters: {'model_type': 'xgb', 'tree_method': 'hist', 'booster': 'dart', 'colsample_bytree': 0.8455810125076143, 'learning_rate': 0.001, 'rate_drop': 0.40052902595149686, 'min_child_weight': 11}. Best is trial 28 with value: 0.6639784946236559.\n",
      "[I 2023-06-11 02:07:09,645] Trial 95 finished with value: 0.668010752688172 and parameters: {'model_type': 'xgb', 'tree_method': 'hist', 'booster': 'dart', 'colsample_bytree': 0.8602009208855681, 'learning_rate': 0.001, 'rate_drop': 0.3884689999805648, 'min_child_weight': 12}. Best is trial 28 with value: 0.6639784946236559.\n",
      "[I 2023-06-11 02:07:45,207] Trial 96 finished with value: 0.668010752688172 and parameters: {'model_type': 'xgb', 'tree_method': 'hist', 'booster': 'dart', 'colsample_bytree': 0.8735307517610478, 'learning_rate': 0.001, 'rate_drop': 0.43729912949883226, 'min_child_weight': 10}. Best is trial 28 with value: 0.6639784946236559.\n",
      "[I 2023-06-11 02:08:17,873] Trial 97 finished with value: 0.668010752688172 and parameters: {'model_type': 'xgb', 'tree_method': 'hist', 'booster': 'dart', 'colsample_bytree': 0.8898534498370942, 'learning_rate': 0.005, 'rate_drop': 0.48456298508574086, 'min_child_weight': 13}. Best is trial 28 with value: 0.6639784946236559.\n",
      "[I 2023-06-11 02:08:59,884] Trial 98 finished with value: 0.6760752688172043 and parameters: {'model_type': 'xgb', 'tree_method': 'hist', 'booster': 'dart', 'colsample_bytree': 0.8756543832952501, 'learning_rate': 0.0005, 'rate_drop': 0.33583377836811773, 'min_child_weight': 8}. Best is trial 28 with value: 0.6639784946236559.\n"
     ]
    },
    {
     "name": "stdout",
     "output_type": "stream",
     "text": [
      "[LightGBM] [Warning] min_data_in_leaf is set=14, min_child_samples=20 will be ignored. Current value: min_data_in_leaf=14\n",
      "[LightGBM] [Warning] num_threads is set=0, n_jobs=-1 will be ignored. Current value: num_threads=0\n"
     ]
    },
    {
     "name": "stderr",
     "output_type": "stream",
     "text": [
      "[I 2023-06-11 02:09:06,809] Trial 99 finished with value: 0.6706989247311828 and parameters: {'model_type': 'lgbm', 'num_leaves': 224, 'boosting_type': 'goss', 'learning_rate': 0.001, 'min_data_in_leaf': 14, 'top_rate': 0.6878204129206987}. Best is trial 28 with value: 0.6639784946236559.\n",
      "[I 2023-06-11 02:09:07,623] Trial 100 finished with value: 0.6706989247311828 and parameters: {'model_type': 'xgb', 'tree_method': 'hist', 'booster': 'gbtree', 'subsample': 0.13818235963135916, 'n_estimators': 999, 'colsample_bytree': 0.6784914886681073, 'learning_rate': 0.001, 'min_split_loss': 631.098855437197, 'min_child_weight': 11, 'alpha': 14.933585071886274, 'reg_lambda': 17.45613157402157}. Best is trial 28 with value: 0.6639784946236559.\n",
      "[I 2023-06-11 02:09:44,860] Trial 101 finished with value: 0.668010752688172 and parameters: {'model_type': 'xgb', 'tree_method': 'hist', 'booster': 'dart', 'colsample_bytree': 0.8993554342111759, 'learning_rate': 0.001, 'rate_drop': 0.40184135486700917, 'min_child_weight': 12}. Best is trial 28 with value: 0.6639784946236559.\n",
      "[I 2023-06-11 02:10:21,760] Trial 102 finished with value: 0.668010752688172 and parameters: {'model_type': 'xgb', 'tree_method': 'hist', 'booster': 'dart', 'colsample_bytree': 0.8669505009337722, 'learning_rate': 0.001, 'rate_drop': 0.41270795669196103, 'min_child_weight': 12}. Best is trial 28 with value: 0.6639784946236559.\n",
      "[I 2023-06-11 02:10:58,121] Trial 103 finished with value: 0.668010752688172 and parameters: {'model_type': 'xgb', 'tree_method': 'hist', 'booster': 'dart', 'colsample_bytree': 0.8878660998267776, 'learning_rate': 0.001, 'rate_drop': 0.4243110867976807, 'min_child_weight': 11}. Best is trial 28 with value: 0.6639784946236559.\n",
      "[I 2023-06-11 02:11:05,658] Trial 104 finished with value: 0.6706989247311828 and parameters: {'model_type': 'xgb', 'tree_method': 'exact', 'booster': 'dart', 'max_depth': 141, 'colsample_bytree': 0.856456029503144, 'learning_rate': 0.001, 'rate_drop': 0.39240414950287594, 'min_child_weight': 10}. Best is trial 28 with value: 0.6639784946236559.\n",
      "[I 2023-06-11 02:11:36,267] Trial 105 finished with value: 0.6706989247311828 and parameters: {'model_type': 'xgb', 'tree_method': 'hist', 'booster': 'dart', 'colsample_bytree': 0.8748383619604312, 'learning_rate': 0.05, 'rate_drop': 0.5041054540457244, 'min_child_weight': 27}. Best is trial 28 with value: 0.6639784946236559.\n",
      "[I 2023-06-11 02:12:10,172] Trial 106 finished with value: 0.6693548387096774 and parameters: {'model_type': 'xgb', 'tree_method': 'hist', 'booster': 'dart', 'colsample_bytree': 0.8431588708445775, 'learning_rate': 0.001, 'rate_drop': 0.4551744121185885, 'min_child_weight': 13}. Best is trial 28 with value: 0.6639784946236559.\n",
      "[I 2023-06-11 02:12:47,657] Trial 107 finished with value: 0.668010752688172 and parameters: {'model_type': 'xgb', 'tree_method': 'hist', 'booster': 'dart', 'colsample_bytree': 0.889320994486965, 'learning_rate': 0.001, 'rate_drop': 0.4054326315958302, 'min_child_weight': 11}. Best is trial 28 with value: 0.6639784946236559.\n",
      "[I 2023-06-11 02:13:01,344] Trial 108 finished with value: 0.6706989247311828 and parameters: {'model_type': 'xgb', 'tree_method': 'approx', 'booster': 'dart', 'colsample_bytree': 0.853669238759048, 'learning_rate': 0.01, 'rate_drop': 0.38491764560724945, 'min_child_weight': 15}. Best is trial 28 with value: 0.6639784946236559.\n",
      "[I 2023-06-11 02:13:42,250] Trial 109 finished with value: 0.6706989247311828 and parameters: {'model_type': 'xgb', 'tree_method': 'hist', 'booster': 'dart', 'colsample_bytree': 0.8747884728271111, 'learning_rate': 0.0001, 'rate_drop': 0.3460963752095384, 'min_child_weight': 9}. Best is trial 28 with value: 0.6639784946236559.\n",
      "[I 2023-06-11 02:14:18,868] Trial 110 finished with value: 0.668010752688172 and parameters: {'model_type': 'xgb', 'tree_method': 'hist', 'booster': 'dart', 'colsample_bytree': 0.8842804057840028, 'learning_rate': 0.001, 'rate_drop': 0.4154368232151048, 'min_child_weight': 12}. Best is trial 28 with value: 0.6639784946236559.\n",
      "[I 2023-06-11 02:14:57,309] Trial 111 finished with value: 0.6666666666666666 and parameters: {'model_type': 'xgb', 'tree_method': 'hist', 'booster': 'dart', 'colsample_bytree': 0.8946782463860244, 'learning_rate': 0.001, 'rate_drop': 0.3948159451310914, 'min_child_weight': 10}. Best is trial 28 with value: 0.6639784946236559.\n",
      "[I 2023-06-11 02:15:33,174] Trial 112 finished with value: 0.6653225806451613 and parameters: {'model_type': 'xgb', 'tree_method': 'hist', 'booster': 'dart', 'colsample_bytree': 0.8994208341774963, 'learning_rate': 0.001, 'rate_drop': 0.4328694484786091, 'min_child_weight': 10}. Best is trial 28 with value: 0.6639784946236559.\n",
      "[I 2023-06-11 02:16:08,821] Trial 113 finished with value: 0.6666666666666666 and parameters: {'model_type': 'xgb', 'tree_method': 'hist', 'booster': 'dart', 'colsample_bytree': 0.899943896192285, 'learning_rate': 0.001, 'rate_drop': 0.4365877243535216, 'min_child_weight': 10}. Best is trial 28 with value: 0.6639784946236559.\n",
      "[I 2023-06-11 02:16:44,922] Trial 114 finished with value: 0.668010752688172 and parameters: {'model_type': 'xgb', 'tree_method': 'hist', 'booster': 'dart', 'colsample_bytree': 0.8905027314044973, 'learning_rate': 0.001, 'rate_drop': 0.4320932291156644, 'min_child_weight': 10}. Best is trial 28 with value: 0.6639784946236559.\n",
      "[I 2023-06-11 02:17:19,498] Trial 115 finished with value: 0.668010752688172 and parameters: {'model_type': 'xgb', 'tree_method': 'hist', 'booster': 'dart', 'colsample_bytree': 0.8644845523722143, 'learning_rate': 0.001, 'rate_drop': 0.4529705740678782, 'min_child_weight': 10}. Best is trial 28 with value: 0.6639784946236559.\n",
      "[I 2023-06-11 02:17:55,248] Trial 116 finished with value: 0.668010752688172 and parameters: {'model_type': 'xgb', 'tree_method': 'hist', 'booster': 'dart', 'colsample_bytree': 0.8883018898197339, 'learning_rate': 0.001, 'rate_drop': 0.43749488439343204, 'min_child_weight': 10}. Best is trial 28 with value: 0.6639784946236559.\n",
      "[I 2023-06-11 02:18:31,408] Trial 117 finished with value: 0.6653225806451613 and parameters: {'model_type': 'xgb', 'tree_method': 'hist', 'booster': 'dart', 'colsample_bytree': 0.8991791266592503, 'learning_rate': 0.001, 'rate_drop': 0.42704038661758154, 'min_child_weight': 10}. Best is trial 28 with value: 0.6639784946236559.\n",
      "[I 2023-06-11 02:18:32,238] Trial 118 finished with value: 0.6706989247311828 and parameters: {'model_type': 'xgb', 'tree_method': 'hist', 'booster': 'gbtree', 'subsample': 0.14774887424970973, 'n_estimators': 513, 'colsample_bytree': 0.687046344717882, 'learning_rate': 0.001, 'min_split_loss': 422.4636601243056, 'min_child_weight': 11, 'alpha': 23.764406156086636, 'reg_lambda': 22.98942332639678}. Best is trial 28 with value: 0.6639784946236559.\n"
     ]
    },
    {
     "name": "stdout",
     "output_type": "stream",
     "text": [
      "[LightGBM] [Warning] bagging_freq is set=195, subsample_freq=0 will be ignored. Current value: bagging_freq=195\n",
      "[LightGBM] [Warning] feature_fraction is set=0.6862806801623905, colsample_bytree=1.0 will be ignored. Current value: feature_fraction=0.6862806801623905\n",
      "[LightGBM] [Warning] bagging_fraction is set=0.445886027115617, subsample=1.0 will be ignored. Current value: bagging_fraction=0.445886027115617\n",
      "[LightGBM] [Warning] min_data_in_leaf is set=22, min_child_samples=20 will be ignored. Current value: min_data_in_leaf=22\n",
      "[LightGBM] [Warning] num_threads is set=0, n_jobs=-1 will be ignored. Current value: num_threads=0\n"
     ]
    },
    {
     "name": "stderr",
     "output_type": "stream",
     "text": [
      "[I 2023-06-11 02:18:38,088] Trial 119 finished with value: 0.6545698924731183 and parameters: {'model_type': 'lgbm', 'num_leaves': 792, 'boosting_type': 'dart', 'n_estimators': 280, 'learning_rate': 0.005, 'min_data_in_leaf': 22, 'feature_fraction': 0.6862806801623905, 'bagging_fraction': 0.445886027115617, 'bagging_freq': 195, 'drop_rate': 0.6831879706790852}. Best is trial 119 with value: 0.6545698924731183.\n"
     ]
    },
    {
     "name": "stdout",
     "output_type": "stream",
     "text": [
      "[LightGBM] [Warning] bagging_freq is set=190, subsample_freq=0 will be ignored. Current value: bagging_freq=190\n",
      "[LightGBM] [Warning] feature_fraction is set=0.6813134751835662, colsample_bytree=1.0 will be ignored. Current value: feature_fraction=0.6813134751835662\n",
      "[LightGBM] [Warning] bagging_fraction is set=0.43321954081734715, subsample=1.0 will be ignored. Current value: bagging_fraction=0.43321954081734715\n",
      "[LightGBM] [Warning] min_data_in_leaf is set=22, min_child_samples=20 will be ignored. Current value: min_data_in_leaf=22\n",
      "[LightGBM] [Warning] num_threads is set=0, n_jobs=-1 will be ignored. Current value: num_threads=0\n"
     ]
    },
    {
     "name": "stderr",
     "output_type": "stream",
     "text": [
      "[I 2023-06-11 02:18:43,854] Trial 120 finished with value: 0.6639784946236559 and parameters: {'model_type': 'lgbm', 'num_leaves': 746, 'boosting_type': 'dart', 'n_estimators': 283, 'learning_rate': 0.005, 'min_data_in_leaf': 22, 'feature_fraction': 0.6813134751835662, 'bagging_fraction': 0.43321954081734715, 'bagging_freq': 190, 'drop_rate': 0.6773461964294396}. Best is trial 119 with value: 0.6545698924731183.\n"
     ]
    },
    {
     "name": "stdout",
     "output_type": "stream",
     "text": [
      "[LightGBM] [Warning] bagging_freq is set=200, subsample_freq=0 will be ignored. Current value: bagging_freq=200\n",
      "[LightGBM] [Warning] feature_fraction is set=0.6956291914088873, colsample_bytree=1.0 will be ignored. Current value: feature_fraction=0.6956291914088873\n",
      "[LightGBM] [Warning] bagging_fraction is set=0.4215958171053842, subsample=1.0 will be ignored. Current value: bagging_fraction=0.4215958171053842\n",
      "[LightGBM] [Warning] min_data_in_leaf is set=22, min_child_samples=20 will be ignored. Current value: min_data_in_leaf=22\n",
      "[LightGBM] [Warning] num_threads is set=0, n_jobs=-1 will be ignored. Current value: num_threads=0\n"
     ]
    },
    {
     "name": "stderr",
     "output_type": "stream",
     "text": [
      "[I 2023-06-11 02:18:49,688] Trial 121 finished with value: 0.668010752688172 and parameters: {'model_type': 'lgbm', 'num_leaves': 777, 'boosting_type': 'dart', 'n_estimators': 289, 'learning_rate': 0.005, 'min_data_in_leaf': 22, 'feature_fraction': 0.6956291914088873, 'bagging_fraction': 0.4215958171053842, 'bagging_freq': 200, 'drop_rate': 0.6998337730224767}. Best is trial 119 with value: 0.6545698924731183.\n"
     ]
    },
    {
     "name": "stdout",
     "output_type": "stream",
     "text": [
      "[LightGBM] [Warning] bagging_freq is set=239, subsample_freq=0 will be ignored. Current value: bagging_freq=239\n",
      "[LightGBM] [Warning] feature_fraction is set=0.6151414876056159, colsample_bytree=1.0 will be ignored. Current value: feature_fraction=0.6151414876056159\n",
      "[LightGBM] [Warning] bagging_fraction is set=0.4555874863382854, subsample=1.0 will be ignored. Current value: bagging_fraction=0.4555874863382854\n",
      "[LightGBM] [Warning] min_data_in_leaf is set=26, min_child_samples=20 will be ignored. Current value: min_data_in_leaf=26\n",
      "[LightGBM] [Warning] num_threads is set=0, n_jobs=-1 will be ignored. Current value: num_threads=0\n"
     ]
    },
    {
     "name": "stderr",
     "output_type": "stream",
     "text": [
      "[I 2023-06-11 02:18:56,047] Trial 122 finished with value: 0.668010752688172 and parameters: {'model_type': 'lgbm', 'num_leaves': 997, 'boosting_type': 'dart', 'n_estimators': 360, 'learning_rate': 0.005, 'min_data_in_leaf': 26, 'feature_fraction': 0.6151414876056159, 'bagging_fraction': 0.4555874863382854, 'bagging_freq': 239, 'drop_rate': 0.6900865814190774}. Best is trial 119 with value: 0.6545698924731183.\n"
     ]
    },
    {
     "name": "stdout",
     "output_type": "stream",
     "text": [
      "[LightGBM] [Warning] bagging_freq is set=181, subsample_freq=0 will be ignored. Current value: bagging_freq=181\n",
      "[LightGBM] [Warning] feature_fraction is set=0.6282297146049564, colsample_bytree=1.0 will be ignored. Current value: feature_fraction=0.6282297146049564\n",
      "[LightGBM] [Warning] bagging_fraction is set=0.37539494471745055, subsample=1.0 will be ignored. Current value: bagging_fraction=0.37539494471745055\n",
      "[LightGBM] [Warning] min_data_in_leaf is set=20, min_child_samples=20 will be ignored. Current value: min_data_in_leaf=20\n",
      "[LightGBM] [Warning] num_threads is set=0, n_jobs=-1 will be ignored. Current value: num_threads=0\n"
     ]
    },
    {
     "name": "stderr",
     "output_type": "stream",
     "text": [
      "[I 2023-06-11 02:19:01,157] Trial 123 finished with value: 0.6653225806451613 and parameters: {'model_type': 'lgbm', 'num_leaves': 679, 'boosting_type': 'dart', 'n_estimators': 269, 'learning_rate': 0.005, 'min_data_in_leaf': 20, 'feature_fraction': 0.6282297146049564, 'bagging_fraction': 0.37539494471745055, 'bagging_freq': 181, 'drop_rate': 0.5563432945570987}. Best is trial 119 with value: 0.6545698924731183.\n"
     ]
    },
    {
     "name": "stdout",
     "output_type": "stream",
     "text": [
      "[LightGBM] [Warning] bagging_freq is set=177, subsample_freq=0 will be ignored. Current value: bagging_freq=177\n",
      "[LightGBM] [Warning] feature_fraction is set=0.6400214719773749, colsample_bytree=1.0 will be ignored. Current value: feature_fraction=0.6400214719773749\n",
      "[LightGBM] [Warning] bagging_fraction is set=0.3726236807560859, subsample=1.0 will be ignored. Current value: bagging_fraction=0.3726236807560859\n",
      "[LightGBM] [Warning] min_data_in_leaf is set=20, min_child_samples=20 will be ignored. Current value: min_data_in_leaf=20\n",
      "[LightGBM] [Warning] num_threads is set=0, n_jobs=-1 will be ignored. Current value: num_threads=0\n"
     ]
    },
    {
     "name": "stderr",
     "output_type": "stream",
     "text": [
      "[I 2023-06-11 02:19:06,418] Trial 124 finished with value: 0.6653225806451613 and parameters: {'model_type': 'lgbm', 'num_leaves': 674, 'boosting_type': 'dart', 'n_estimators': 262, 'learning_rate': 0.005, 'min_data_in_leaf': 20, 'feature_fraction': 0.6400214719773749, 'bagging_fraction': 0.3726236807560859, 'bagging_freq': 177, 'drop_rate': 0.5775500558928621}. Best is trial 119 with value: 0.6545698924731183.\n"
     ]
    },
    {
     "name": "stdout",
     "output_type": "stream",
     "text": [
      "[LightGBM] [Warning] bagging_freq is set=180, subsample_freq=0 will be ignored. Current value: bagging_freq=180\n",
      "[LightGBM] [Warning] feature_fraction is set=0.6474904071243858, colsample_bytree=1.0 will be ignored. Current value: feature_fraction=0.6474904071243858\n",
      "[LightGBM] [Warning] bagging_fraction is set=0.3783697806775621, subsample=1.0 will be ignored. Current value: bagging_fraction=0.3783697806775621\n",
      "[LightGBM] [Warning] min_data_in_leaf is set=20, min_child_samples=20 will be ignored. Current value: min_data_in_leaf=20\n",
      "[LightGBM] [Warning] num_threads is set=0, n_jobs=-1 will be ignored. Current value: num_threads=0\n"
     ]
    },
    {
     "name": "stderr",
     "output_type": "stream",
     "text": [
      "[I 2023-06-11 02:19:11,390] Trial 125 finished with value: 0.6653225806451613 and parameters: {'model_type': 'lgbm', 'num_leaves': 683, 'boosting_type': 'dart', 'n_estimators': 269, 'learning_rate': 0.005, 'min_data_in_leaf': 20, 'feature_fraction': 0.6474904071243858, 'bagging_fraction': 0.3783697806775621, 'bagging_freq': 180, 'drop_rate': 0.5836002843964068}. Best is trial 119 with value: 0.6545698924731183.\n"
     ]
    },
    {
     "name": "stdout",
     "output_type": "stream",
     "text": [
      "[LightGBM] [Warning] bagging_freq is set=183, subsample_freq=0 will be ignored. Current value: bagging_freq=183\n",
      "[LightGBM] [Warning] feature_fraction is set=0.64407778433293, colsample_bytree=1.0 will be ignored. Current value: feature_fraction=0.64407778433293\n",
      "[LightGBM] [Warning] bagging_fraction is set=0.37422493811740404, subsample=1.0 will be ignored. Current value: bagging_fraction=0.37422493811740404\n",
      "[LightGBM] [Warning] min_data_in_leaf is set=20, min_child_samples=20 will be ignored. Current value: min_data_in_leaf=20\n",
      "[LightGBM] [Warning] num_threads is set=0, n_jobs=-1 will be ignored. Current value: num_threads=0\n"
     ]
    },
    {
     "name": "stderr",
     "output_type": "stream",
     "text": [
      "[I 2023-06-11 02:19:16,449] Trial 126 finished with value: 0.668010752688172 and parameters: {'model_type': 'lgbm', 'num_leaves': 706, 'boosting_type': 'dart', 'n_estimators': 270, 'learning_rate': 0.005, 'min_data_in_leaf': 20, 'feature_fraction': 0.64407778433293, 'bagging_fraction': 0.37422493811740404, 'bagging_freq': 183, 'drop_rate': 0.5750566748865988}. Best is trial 119 with value: 0.6545698924731183.\n"
     ]
    },
    {
     "name": "stdout",
     "output_type": "stream",
     "text": [
      "[LightGBM] [Warning] bagging_freq is set=175, subsample_freq=0 will be ignored. Current value: bagging_freq=175\n",
      "[LightGBM] [Warning] feature_fraction is set=0.6523811446447269, colsample_bytree=1.0 will be ignored. Current value: feature_fraction=0.6523811446447269\n",
      "[LightGBM] [Warning] bagging_fraction is set=0.3747393529342668, subsample=1.0 will be ignored. Current value: bagging_fraction=0.3747393529342668\n",
      "[LightGBM] [Warning] min_data_in_leaf is set=20, min_child_samples=20 will be ignored. Current value: min_data_in_leaf=20\n",
      "[LightGBM] [Warning] num_threads is set=0, n_jobs=-1 will be ignored. Current value: num_threads=0\n"
     ]
    },
    {
     "name": "stderr",
     "output_type": "stream",
     "text": [
      "[I 2023-06-11 02:19:21,008] Trial 127 finished with value: 0.6706989247311828 and parameters: {'model_type': 'lgbm', 'num_leaves': 639, 'boosting_type': 'dart', 'n_estimators': 237, 'learning_rate': 0.005, 'min_data_in_leaf': 20, 'feature_fraction': 0.6523811446447269, 'bagging_fraction': 0.3747393529342668, 'bagging_freq': 175, 'drop_rate': 0.5742609014482974}. Best is trial 119 with value: 0.6545698924731183.\n"
     ]
    },
    {
     "name": "stdout",
     "output_type": "stream",
     "text": [
      "[LightGBM] [Warning] bagging_freq is set=163, subsample_freq=0 will be ignored. Current value: bagging_freq=163\n",
      "[LightGBM] [Warning] feature_fraction is set=0.6971840540784997, colsample_bytree=1.0 will be ignored. Current value: feature_fraction=0.6971840540784997\n",
      "[LightGBM] [Warning] bagging_fraction is set=0.36797211479015934, subsample=1.0 will be ignored. Current value: bagging_fraction=0.36797211479015934\n",
      "[LightGBM] [Warning] min_data_in_leaf is set=22, min_child_samples=20 will be ignored. Current value: min_data_in_leaf=22\n",
      "[LightGBM] [Warning] num_threads is set=0, n_jobs=-1 will be ignored. Current value: num_threads=0\n"
     ]
    },
    {
     "name": "stderr",
     "output_type": "stream",
     "text": [
      "[I 2023-06-11 02:19:24,887] Trial 128 finished with value: 0.6693548387096774 and parameters: {'model_type': 'lgbm', 'num_leaves': 823, 'boosting_type': 'dart', 'n_estimators': 206, 'learning_rate': 0.005, 'min_data_in_leaf': 22, 'feature_fraction': 0.6971840540784997, 'bagging_fraction': 0.36797211479015934, 'bagging_freq': 163, 'drop_rate': 0.5813395828896629}. Best is trial 119 with value: 0.6545698924731183.\n"
     ]
    },
    {
     "name": "stdout",
     "output_type": "stream",
     "text": [
      "[LightGBM] [Warning] bagging_freq is set=220, subsample_freq=0 will be ignored. Current value: bagging_freq=220\n",
      "[LightGBM] [Warning] feature_fraction is set=0.6143289863960549, colsample_bytree=1.0 will be ignored. Current value: feature_fraction=0.6143289863960549\n",
      "[LightGBM] [Warning] bagging_fraction is set=0.42673125823666547, subsample=1.0 will be ignored. Current value: bagging_fraction=0.42673125823666547\n",
      "[LightGBM] [Warning] min_data_in_leaf is set=18, min_child_samples=20 will be ignored. Current value: min_data_in_leaf=18\n",
      "[LightGBM] [Warning] num_threads is set=0, n_jobs=-1 will be ignored. Current value: num_threads=0\n"
     ]
    },
    {
     "name": "stderr",
     "output_type": "stream",
     "text": [
      "[I 2023-06-11 02:19:30,814] Trial 129 finished with value: 0.6693548387096774 and parameters: {'model_type': 'lgbm', 'num_leaves': 558, 'boosting_type': 'dart', 'n_estimators': 273, 'learning_rate': 0.005, 'min_data_in_leaf': 18, 'feature_fraction': 0.6143289863960549, 'bagging_fraction': 0.42673125823666547, 'bagging_freq': 220, 'drop_rate': 0.6089712298397327}. Best is trial 119 with value: 0.6545698924731183.\n"
     ]
    },
    {
     "name": "stdout",
     "output_type": "stream",
     "text": [
      "[LightGBM] [Warning] bagging_freq is set=129, subsample_freq=0 will be ignored. Current value: bagging_freq=129\n",
      "[LightGBM] [Warning] feature_fraction is set=0.6466358888843241, colsample_bytree=1.0 will be ignored. Current value: feature_fraction=0.6466358888843241\n",
      "[LightGBM] [Warning] bagging_fraction is set=0.3506039700440952, subsample=1.0 will be ignored. Current value: bagging_fraction=0.3506039700440952\n",
      "[LightGBM] [Warning] min_data_in_leaf is set=20, min_child_samples=20 will be ignored. Current value: min_data_in_leaf=20\n",
      "[LightGBM] [Warning] num_threads is set=0, n_jobs=-1 will be ignored. Current value: num_threads=0\n"
     ]
    },
    {
     "name": "stderr",
     "output_type": "stream",
     "text": [
      "[I 2023-06-11 02:19:37,059] Trial 130 finished with value: 0.6612903225806451 and parameters: {'model_type': 'lgbm', 'num_leaves': 705, 'boosting_type': 'dart', 'n_estimators': 370, 'learning_rate': 0.005, 'min_data_in_leaf': 20, 'feature_fraction': 0.6466358888843241, 'bagging_fraction': 0.3506039700440952, 'bagging_freq': 129, 'drop_rate': 0.6120778701996837}. Best is trial 119 with value: 0.6545698924731183.\n"
     ]
    },
    {
     "name": "stdout",
     "output_type": "stream",
     "text": [
      "[LightGBM] [Warning] bagging_freq is set=130, subsample_freq=0 will be ignored. Current value: bagging_freq=130\n",
      "[LightGBM] [Warning] feature_fraction is set=0.650202675875196, colsample_bytree=1.0 will be ignored. Current value: feature_fraction=0.650202675875196\n",
      "[LightGBM] [Warning] bagging_fraction is set=0.35377214033858356, subsample=1.0 will be ignored. Current value: bagging_fraction=0.35377214033858356\n",
      "[LightGBM] [Warning] min_data_in_leaf is set=21, min_child_samples=20 will be ignored. Current value: min_data_in_leaf=21\n",
      "[LightGBM] [Warning] num_threads is set=0, n_jobs=-1 will be ignored. Current value: num_threads=0\n"
     ]
    },
    {
     "name": "stderr",
     "output_type": "stream",
     "text": [
      "[I 2023-06-11 02:19:42,694] Trial 131 finished with value: 0.6545698924731183 and parameters: {'model_type': 'lgbm', 'num_leaves': 685, 'boosting_type': 'dart', 'n_estimators': 350, 'learning_rate': 0.005, 'min_data_in_leaf': 21, 'feature_fraction': 0.650202675875196, 'bagging_fraction': 0.35377214033858356, 'bagging_freq': 130, 'drop_rate': 0.6150751932949964}. Best is trial 119 with value: 0.6545698924731183.\n"
     ]
    },
    {
     "name": "stdout",
     "output_type": "stream",
     "text": [
      "[LightGBM] [Warning] bagging_freq is set=126, subsample_freq=0 will be ignored. Current value: bagging_freq=126\n",
      "[LightGBM] [Warning] feature_fraction is set=0.6463487914206282, colsample_bytree=1.0 will be ignored. Current value: feature_fraction=0.6463487914206282\n",
      "[LightGBM] [Warning] bagging_fraction is set=0.35264294360024884, subsample=1.0 will be ignored. Current value: bagging_fraction=0.35264294360024884\n",
      "[LightGBM] [Warning] min_data_in_leaf is set=21, min_child_samples=20 will be ignored. Current value: min_data_in_leaf=21\n",
      "[LightGBM] [Warning] num_threads is set=0, n_jobs=-1 will be ignored. Current value: num_threads=0\n"
     ]
    },
    {
     "name": "stderr",
     "output_type": "stream",
     "text": [
      "[I 2023-06-11 02:19:48,266] Trial 132 finished with value: 0.6505376344086021 and parameters: {'model_type': 'lgbm', 'num_leaves': 699, 'boosting_type': 'dart', 'n_estimators': 355, 'learning_rate': 0.005, 'min_data_in_leaf': 21, 'feature_fraction': 0.6463487914206282, 'bagging_fraction': 0.35264294360024884, 'bagging_freq': 126, 'drop_rate': 0.6141399816707438}. Best is trial 132 with value: 0.6505376344086021.\n"
     ]
    },
    {
     "name": "stdout",
     "output_type": "stream",
     "text": [
      "[LightGBM] [Warning] bagging_freq is set=119, subsample_freq=0 will be ignored. Current value: bagging_freq=119\n",
      "[LightGBM] [Warning] feature_fraction is set=0.6579513320745848, colsample_bytree=1.0 will be ignored. Current value: feature_fraction=0.6579513320745848\n",
      "[LightGBM] [Warning] bagging_fraction is set=0.3521762063064757, subsample=1.0 will be ignored. Current value: bagging_fraction=0.3521762063064757\n",
      "[LightGBM] [Warning] min_data_in_leaf is set=21, min_child_samples=20 will be ignored. Current value: min_data_in_leaf=21\n",
      "[LightGBM] [Warning] num_threads is set=0, n_jobs=-1 will be ignored. Current value: num_threads=0\n"
     ]
    },
    {
     "name": "stderr",
     "output_type": "stream",
     "text": [
      "[I 2023-06-11 02:19:53,975] Trial 133 finished with value: 0.6559139784946236 and parameters: {'model_type': 'lgbm', 'num_leaves': 694, 'boosting_type': 'dart', 'n_estimators': 356, 'learning_rate': 0.005, 'min_data_in_leaf': 21, 'feature_fraction': 0.6579513320745848, 'bagging_fraction': 0.3521762063064757, 'bagging_freq': 119, 'drop_rate': 0.6234159508684874}. Best is trial 132 with value: 0.6505376344086021.\n"
     ]
    },
    {
     "name": "stdout",
     "output_type": "stream",
     "text": [
      "[LightGBM] [Warning] bagging_freq is set=125, subsample_freq=0 will be ignored. Current value: bagging_freq=125\n",
      "[LightGBM] [Warning] feature_fraction is set=0.6501919049861349, colsample_bytree=1.0 will be ignored. Current value: feature_fraction=0.6501919049861349\n",
      "[LightGBM] [Warning] bagging_fraction is set=0.3496526198422849, subsample=1.0 will be ignored. Current value: bagging_fraction=0.3496526198422849\n",
      "[LightGBM] [Warning] min_data_in_leaf is set=21, min_child_samples=20 will be ignored. Current value: min_data_in_leaf=21\n",
      "[LightGBM] [Warning] num_threads is set=0, n_jobs=-1 will be ignored. Current value: num_threads=0\n"
     ]
    },
    {
     "name": "stderr",
     "output_type": "stream",
     "text": [
      "[I 2023-06-11 02:19:59,673] Trial 134 finished with value: 0.6639784946236559 and parameters: {'model_type': 'lgbm', 'num_leaves': 701, 'boosting_type': 'dart', 'n_estimators': 358, 'learning_rate': 0.005, 'min_data_in_leaf': 21, 'feature_fraction': 0.6501919049861349, 'bagging_fraction': 0.3496526198422849, 'bagging_freq': 125, 'drop_rate': 0.6016670311312409}. Best is trial 132 with value: 0.6505376344086021.\n"
     ]
    },
    {
     "name": "stdout",
     "output_type": "stream",
     "text": [
      "[LightGBM] [Warning] bagging_freq is set=120, subsample_freq=0 will be ignored. Current value: bagging_freq=120\n",
      "[LightGBM] [Warning] feature_fraction is set=0.6495334802853089, colsample_bytree=1.0 will be ignored. Current value: feature_fraction=0.6495334802853089\n",
      "[LightGBM] [Warning] bagging_fraction is set=0.3345942222682362, subsample=1.0 will be ignored. Current value: bagging_fraction=0.3345942222682362\n",
      "[LightGBM] [Warning] min_data_in_leaf is set=22, min_child_samples=20 will be ignored. Current value: min_data_in_leaf=22\n",
      "[LightGBM] [Warning] num_threads is set=0, n_jobs=-1 will be ignored. Current value: num_threads=0\n"
     ]
    },
    {
     "name": "stderr",
     "output_type": "stream",
     "text": [
      "[I 2023-06-11 02:20:05,113] Trial 135 finished with value: 0.6559139784946236 and parameters: {'model_type': 'lgbm', 'num_leaves': 738, 'boosting_type': 'dart', 'n_estimators': 356, 'learning_rate': 0.005, 'min_data_in_leaf': 22, 'feature_fraction': 0.6495334802853089, 'bagging_fraction': 0.3345942222682362, 'bagging_freq': 120, 'drop_rate': 0.6236928315032018}. Best is trial 132 with value: 0.6505376344086021.\n"
     ]
    },
    {
     "name": "stdout",
     "output_type": "stream",
     "text": [
      "[LightGBM] [Warning] bagging_freq is set=116, subsample_freq=0 will be ignored. Current value: bagging_freq=116\n",
      "[LightGBM] [Warning] feature_fraction is set=0.6600646199554333, colsample_bytree=1.0 will be ignored. Current value: feature_fraction=0.6600646199554333\n",
      "[LightGBM] [Warning] bagging_fraction is set=0.33575789650866844, subsample=1.0 will be ignored. Current value: bagging_fraction=0.33575789650866844\n",
      "[LightGBM] [Warning] min_data_in_leaf is set=22, min_child_samples=20 will be ignored. Current value: min_data_in_leaf=22\n",
      "[LightGBM] [Warning] num_threads is set=0, n_jobs=-1 will be ignored. Current value: num_threads=0\n"
     ]
    },
    {
     "name": "stderr",
     "output_type": "stream",
     "text": [
      "[I 2023-06-11 02:20:10,599] Trial 136 finished with value: 0.6478494623655914 and parameters: {'model_type': 'lgbm', 'num_leaves': 770, 'boosting_type': 'dart', 'n_estimators': 360, 'learning_rate': 0.005, 'min_data_in_leaf': 22, 'feature_fraction': 0.6600646199554333, 'bagging_fraction': 0.33575789650866844, 'bagging_freq': 116, 'drop_rate': 0.6292222575857286}. Best is trial 136 with value: 0.6478494623655914.\n"
     ]
    },
    {
     "name": "stdout",
     "output_type": "stream",
     "text": [
      "[LightGBM] [Warning] bagging_freq is set=120, subsample_freq=0 will be ignored. Current value: bagging_freq=120\n",
      "[LightGBM] [Warning] feature_fraction is set=0.6719217966680662, colsample_bytree=1.0 will be ignored. Current value: feature_fraction=0.6719217966680662\n",
      "[LightGBM] [Warning] bagging_fraction is set=0.3358033569698203, subsample=1.0 will be ignored. Current value: bagging_fraction=0.3358033569698203\n",
      "[LightGBM] [Warning] min_data_in_leaf is set=22, min_child_samples=20 will be ignored. Current value: min_data_in_leaf=22\n",
      "[LightGBM] [Warning] num_threads is set=0, n_jobs=-1 will be ignored. Current value: num_threads=0\n"
     ]
    },
    {
     "name": "stderr",
     "output_type": "stream",
     "text": [
      "[I 2023-06-11 02:20:16,261] Trial 137 finished with value: 0.6478494623655914 and parameters: {'model_type': 'lgbm', 'num_leaves': 780, 'boosting_type': 'dart', 'n_estimators': 363, 'learning_rate': 0.005, 'min_data_in_leaf': 22, 'feature_fraction': 0.6719217966680662, 'bagging_fraction': 0.3358033569698203, 'bagging_freq': 120, 'drop_rate': 0.6352992100371107}. Best is trial 136 with value: 0.6478494623655914.\n"
     ]
    },
    {
     "name": "stdout",
     "output_type": "stream",
     "text": [
      "[LightGBM] [Warning] bagging_freq is set=116, subsample_freq=0 will be ignored. Current value: bagging_freq=116\n",
      "[LightGBM] [Warning] feature_fraction is set=0.6673631370966298, colsample_bytree=1.0 will be ignored. Current value: feature_fraction=0.6673631370966298\n",
      "[LightGBM] [Warning] bagging_fraction is set=0.33404621596370787, subsample=1.0 will be ignored. Current value: bagging_fraction=0.33404621596370787\n",
      "[LightGBM] [Warning] min_data_in_leaf is set=22, min_child_samples=20 will be ignored. Current value: min_data_in_leaf=22\n",
      "[LightGBM] [Warning] num_threads is set=0, n_jobs=-1 will be ignored. Current value: num_threads=0\n"
     ]
    },
    {
     "name": "stderr",
     "output_type": "stream",
     "text": [
      "[I 2023-06-11 02:20:21,903] Trial 138 finished with value: 0.657258064516129 and parameters: {'model_type': 'lgbm', 'num_leaves': 773, 'boosting_type': 'dart', 'n_estimators': 367, 'learning_rate': 0.005, 'min_data_in_leaf': 22, 'feature_fraction': 0.6673631370966298, 'bagging_fraction': 0.33404621596370787, 'bagging_freq': 116, 'drop_rate': 0.641948227270583}. Best is trial 136 with value: 0.6478494623655914.\n"
     ]
    },
    {
     "name": "stdout",
     "output_type": "stream",
     "text": [
      "[LightGBM] [Warning] bagging_freq is set=122, subsample_freq=0 will be ignored. Current value: bagging_freq=122\n",
      "[LightGBM] [Warning] feature_fraction is set=0.6725416404229325, colsample_bytree=1.0 will be ignored. Current value: feature_fraction=0.6725416404229325\n",
      "[LightGBM] [Warning] bagging_fraction is set=0.33276491621210125, subsample=1.0 will be ignored. Current value: bagging_fraction=0.33276491621210125\n",
      "[LightGBM] [Warning] min_data_in_leaf is set=22, min_child_samples=20 will be ignored. Current value: min_data_in_leaf=22\n",
      "[LightGBM] [Warning] num_threads is set=0, n_jobs=-1 will be ignored. Current value: num_threads=0\n"
     ]
    },
    {
     "name": "stderr",
     "output_type": "stream",
     "text": [
      "[I 2023-06-11 02:20:27,328] Trial 139 finished with value: 0.6532258064516129 and parameters: {'model_type': 'lgbm', 'num_leaves': 755, 'boosting_type': 'dart', 'n_estimators': 362, 'learning_rate': 0.005, 'min_data_in_leaf': 22, 'feature_fraction': 0.6725416404229325, 'bagging_fraction': 0.33276491621210125, 'bagging_freq': 122, 'drop_rate': 0.6407344428948579}. Best is trial 136 with value: 0.6478494623655914.\n"
     ]
    },
    {
     "name": "stdout",
     "output_type": "stream",
     "text": [
      "[LightGBM] [Warning] bagging_freq is set=115, subsample_freq=0 will be ignored. Current value: bagging_freq=115\n",
      "[LightGBM] [Warning] feature_fraction is set=0.673530813224431, colsample_bytree=1.0 will be ignored. Current value: feature_fraction=0.673530813224431\n",
      "[LightGBM] [Warning] bagging_fraction is set=0.33412857432396503, subsample=1.0 will be ignored. Current value: bagging_fraction=0.33412857432396503\n",
      "[LightGBM] [Warning] min_data_in_leaf is set=22, min_child_samples=20 will be ignored. Current value: min_data_in_leaf=22\n",
      "[LightGBM] [Warning] num_threads is set=0, n_jobs=-1 will be ignored. Current value: num_threads=0\n"
     ]
    },
    {
     "name": "stderr",
     "output_type": "stream",
     "text": [
      "[I 2023-06-11 02:20:32,818] Trial 140 finished with value: 0.6491935483870968 and parameters: {'model_type': 'lgbm', 'num_leaves': 772, 'boosting_type': 'dart', 'n_estimators': 360, 'learning_rate': 0.005, 'min_data_in_leaf': 22, 'feature_fraction': 0.673530813224431, 'bagging_fraction': 0.33412857432396503, 'bagging_freq': 115, 'drop_rate': 0.6407132332321481}. Best is trial 136 with value: 0.6478494623655914.\n"
     ]
    },
    {
     "name": "stdout",
     "output_type": "stream",
     "text": [
      "[LightGBM] [Warning] bagging_freq is set=117, subsample_freq=0 will be ignored. Current value: bagging_freq=117\n",
      "[LightGBM] [Warning] feature_fraction is set=0.6670736161330836, colsample_bytree=1.0 will be ignored. Current value: feature_fraction=0.6670736161330836\n",
      "[LightGBM] [Warning] bagging_fraction is set=0.33445196967886504, subsample=1.0 will be ignored. Current value: bagging_fraction=0.33445196967886504\n",
      "[LightGBM] [Warning] min_data_in_leaf is set=22, min_child_samples=20 will be ignored. Current value: min_data_in_leaf=22\n",
      "[LightGBM] [Warning] num_threads is set=0, n_jobs=-1 will be ignored. Current value: num_threads=0\n"
     ]
    },
    {
     "name": "stderr",
     "output_type": "stream",
     "text": [
      "[I 2023-06-11 02:20:38,396] Trial 141 finished with value: 0.6532258064516129 and parameters: {'model_type': 'lgbm', 'num_leaves': 780, 'boosting_type': 'dart', 'n_estimators': 363, 'learning_rate': 0.005, 'min_data_in_leaf': 22, 'feature_fraction': 0.6670736161330836, 'bagging_fraction': 0.33445196967886504, 'bagging_freq': 117, 'drop_rate': 0.640090115466141}. Best is trial 136 with value: 0.6478494623655914.\n"
     ]
    },
    {
     "name": "stdout",
     "output_type": "stream",
     "text": [
      "[LightGBM] [Warning] bagging_freq is set=112, subsample_freq=0 will be ignored. Current value: bagging_freq=112\n",
      "[LightGBM] [Warning] feature_fraction is set=0.6726224280595672, colsample_bytree=1.0 will be ignored. Current value: feature_fraction=0.6726224280595672\n",
      "[LightGBM] [Warning] bagging_fraction is set=0.33198740822359185, subsample=1.0 will be ignored. Current value: bagging_fraction=0.33198740822359185\n",
      "[LightGBM] [Warning] min_data_in_leaf is set=23, min_child_samples=20 will be ignored. Current value: min_data_in_leaf=23\n",
      "[LightGBM] [Warning] num_threads is set=0, n_jobs=-1 will be ignored. Current value: num_threads=0\n"
     ]
    },
    {
     "name": "stderr",
     "output_type": "stream",
     "text": [
      "[I 2023-06-11 02:20:43,913] Trial 142 finished with value: 0.657258064516129 and parameters: {'model_type': 'lgbm', 'num_leaves': 790, 'boosting_type': 'dart', 'n_estimators': 370, 'learning_rate': 0.005, 'min_data_in_leaf': 23, 'feature_fraction': 0.6726224280595672, 'bagging_fraction': 0.33198740822359185, 'bagging_freq': 112, 'drop_rate': 0.6443765104073946}. Best is trial 136 with value: 0.6478494623655914.\n"
     ]
    },
    {
     "name": "stdout",
     "output_type": "stream",
     "text": [
      "[LightGBM] [Warning] bagging_freq is set=118, subsample_freq=0 will be ignored. Current value: bagging_freq=118\n",
      "[LightGBM] [Warning] feature_fraction is set=0.6691369627636703, colsample_bytree=1.0 will be ignored. Current value: feature_fraction=0.6691369627636703\n",
      "[LightGBM] [Warning] bagging_fraction is set=0.3330970461187788, subsample=1.0 will be ignored. Current value: bagging_fraction=0.3330970461187788\n",
      "[LightGBM] [Warning] min_data_in_leaf is set=22, min_child_samples=20 will be ignored. Current value: min_data_in_leaf=22\n",
      "[LightGBM] [Warning] num_threads is set=0, n_jobs=-1 will be ignored. Current value: num_threads=0\n"
     ]
    },
    {
     "name": "stderr",
     "output_type": "stream",
     "text": [
      "[I 2023-06-11 02:20:49,676] Trial 143 finished with value: 0.6491935483870968 and parameters: {'model_type': 'lgbm', 'num_leaves': 840, 'boosting_type': 'dart', 'n_estimators': 368, 'learning_rate': 0.005, 'min_data_in_leaf': 22, 'feature_fraction': 0.6691369627636703, 'bagging_fraction': 0.3330970461187788, 'bagging_freq': 118, 'drop_rate': 0.6371400427465825}. Best is trial 136 with value: 0.6478494623655914.\n"
     ]
    },
    {
     "name": "stdout",
     "output_type": "stream",
     "text": [
      "[LightGBM] [Warning] bagging_freq is set=117, subsample_freq=0 will be ignored. Current value: bagging_freq=117\n",
      "[LightGBM] [Warning] feature_fraction is set=0.6661143541513597, colsample_bytree=1.0 will be ignored. Current value: feature_fraction=0.6661143541513597\n",
      "[LightGBM] [Warning] bagging_fraction is set=0.3348394317277195, subsample=1.0 will be ignored. Current value: bagging_fraction=0.3348394317277195\n",
      "[LightGBM] [Warning] min_data_in_leaf is set=23, min_child_samples=20 will be ignored. Current value: min_data_in_leaf=23\n",
      "[LightGBM] [Warning] num_threads is set=0, n_jobs=-1 will be ignored. Current value: num_threads=0\n"
     ]
    },
    {
     "name": "stderr",
     "output_type": "stream",
     "text": [
      "[I 2023-06-11 02:20:55,159] Trial 144 finished with value: 0.6518817204301075 and parameters: {'model_type': 'lgbm', 'num_leaves': 827, 'boosting_type': 'dart', 'n_estimators': 364, 'learning_rate': 0.005, 'min_data_in_leaf': 23, 'feature_fraction': 0.6661143541513597, 'bagging_fraction': 0.3348394317277195, 'bagging_freq': 117, 'drop_rate': 0.6345442121836657}. Best is trial 136 with value: 0.6478494623655914.\n"
     ]
    },
    {
     "name": "stdout",
     "output_type": "stream",
     "text": [
      "[LightGBM] [Warning] bagging_freq is set=113, subsample_freq=0 will be ignored. Current value: bagging_freq=113\n",
      "[LightGBM] [Warning] feature_fraction is set=0.669099820776378, colsample_bytree=1.0 will be ignored. Current value: feature_fraction=0.669099820776378\n",
      "[LightGBM] [Warning] bagging_fraction is set=0.33258962901997474, subsample=1.0 will be ignored. Current value: bagging_fraction=0.33258962901997474\n",
      "[LightGBM] [Warning] min_data_in_leaf is set=22, min_child_samples=20 will be ignored. Current value: min_data_in_leaf=22\n",
      "[LightGBM] [Warning] num_threads is set=0, n_jobs=-1 will be ignored. Current value: num_threads=0\n"
     ]
    },
    {
     "name": "stderr",
     "output_type": "stream",
     "text": [
      "[I 2023-06-11 02:21:00,906] Trial 145 finished with value: 0.6505376344086021 and parameters: {'model_type': 'lgbm', 'num_leaves': 810, 'boosting_type': 'dart', 'n_estimators': 368, 'learning_rate': 0.005, 'min_data_in_leaf': 22, 'feature_fraction': 0.669099820776378, 'bagging_fraction': 0.33258962901997474, 'bagging_freq': 113, 'drop_rate': 0.6376803708744904}. Best is trial 136 with value: 0.6478494623655914.\n"
     ]
    },
    {
     "name": "stdout",
     "output_type": "stream",
     "text": [
      "[LightGBM] [Warning] bagging_freq is set=105, subsample_freq=0 will be ignored. Current value: bagging_freq=105\n",
      "[LightGBM] [Warning] feature_fraction is set=0.6702011668458139, colsample_bytree=1.0 will be ignored. Current value: feature_fraction=0.6702011668458139\n",
      "[LightGBM] [Warning] bagging_fraction is set=0.3307692448881888, subsample=1.0 will be ignored. Current value: bagging_fraction=0.3307692448881888\n",
      "[LightGBM] [Warning] min_data_in_leaf is set=23, min_child_samples=20 will be ignored. Current value: min_data_in_leaf=23\n",
      "[LightGBM] [Warning] num_threads is set=0, n_jobs=-1 will be ignored. Current value: num_threads=0\n"
     ]
    },
    {
     "name": "stderr",
     "output_type": "stream",
     "text": [
      "[I 2023-06-11 02:21:06,637] Trial 146 finished with value: 0.6545698924731183 and parameters: {'model_type': 'lgbm', 'num_leaves': 836, 'boosting_type': 'dart', 'n_estimators': 383, 'learning_rate': 0.005, 'min_data_in_leaf': 23, 'feature_fraction': 0.6702011668458139, 'bagging_fraction': 0.3307692448881888, 'bagging_freq': 105, 'drop_rate': 0.6459460206423819}. Best is trial 136 with value: 0.6478494623655914.\n"
     ]
    },
    {
     "name": "stdout",
     "output_type": "stream",
     "text": [
      "[LightGBM] [Warning] bagging_freq is set=101, subsample_freq=0 will be ignored. Current value: bagging_freq=101\n",
      "[LightGBM] [Warning] feature_fraction is set=0.6697077584738896, colsample_bytree=1.0 will be ignored. Current value: feature_fraction=0.6697077584738896\n",
      "[LightGBM] [Warning] bagging_fraction is set=0.3307836971142828, subsample=1.0 will be ignored. Current value: bagging_fraction=0.3307836971142828\n",
      "[LightGBM] [Warning] min_data_in_leaf is set=23, min_child_samples=20 will be ignored. Current value: min_data_in_leaf=23\n",
      "[LightGBM] [Warning] num_threads is set=0, n_jobs=-1 will be ignored. Current value: num_threads=0\n"
     ]
    },
    {
     "name": "stderr",
     "output_type": "stream",
     "text": [
      "[I 2023-06-11 02:21:12,521] Trial 147 finished with value: 0.6639784946236559 and parameters: {'model_type': 'lgbm', 'num_leaves': 846, 'boosting_type': 'dart', 'n_estimators': 392, 'learning_rate': 0.005, 'min_data_in_leaf': 23, 'feature_fraction': 0.6697077584738896, 'bagging_fraction': 0.3307836971142828, 'bagging_freq': 101, 'drop_rate': 0.6396757389687954}. Best is trial 136 with value: 0.6478494623655914.\n"
     ]
    },
    {
     "name": "stdout",
     "output_type": "stream",
     "text": [
      "[LightGBM] [Warning] bagging_freq is set=98, subsample_freq=0 will be ignored. Current value: bagging_freq=98\n",
      "[LightGBM] [Warning] feature_fraction is set=0.670435664260593, colsample_bytree=1.0 will be ignored. Current value: feature_fraction=0.670435664260593\n",
      "[LightGBM] [Warning] bagging_fraction is set=0.33368871969439734, subsample=1.0 will be ignored. Current value: bagging_fraction=0.33368871969439734\n",
      "[LightGBM] [Warning] min_data_in_leaf is set=22, min_child_samples=20 will be ignored. Current value: min_data_in_leaf=22\n",
      "[LightGBM] [Warning] num_threads is set=0, n_jobs=-1 will be ignored. Current value: num_threads=0\n"
     ]
    },
    {
     "name": "stderr",
     "output_type": "stream",
     "text": [
      "[I 2023-06-11 02:21:17,825] Trial 148 finished with value: 0.6626344086021505 and parameters: {'model_type': 'lgbm', 'num_leaves': 855, 'boosting_type': 'dart', 'n_estimators': 338, 'learning_rate': 0.005, 'min_data_in_leaf': 22, 'feature_fraction': 0.670435664260593, 'bagging_fraction': 0.33368871969439734, 'bagging_freq': 98, 'drop_rate': 0.6380183906872748}. Best is trial 136 with value: 0.6478494623655914.\n"
     ]
    },
    {
     "name": "stdout",
     "output_type": "stream",
     "text": [
      "[LightGBM] [Warning] bagging_freq is set=134, subsample_freq=0 will be ignored. Current value: bagging_freq=134\n",
      "[LightGBM] [Warning] feature_fraction is set=0.6696517113424767, colsample_bytree=1.0 will be ignored. Current value: feature_fraction=0.6696517113424767\n",
      "[LightGBM] [Warning] bagging_fraction is set=0.33096272278936567, subsample=1.0 will be ignored. Current value: bagging_fraction=0.33096272278936567\n",
      "[LightGBM] [Warning] min_data_in_leaf is set=22, min_child_samples=20 will be ignored. Current value: min_data_in_leaf=22\n",
      "[LightGBM] [Warning] num_threads is set=0, n_jobs=-1 will be ignored. Current value: num_threads=0\n"
     ]
    },
    {
     "name": "stderr",
     "output_type": "stream",
     "text": [
      "[I 2023-06-11 02:21:23,733] Trial 149 finished with value: 0.6411290322580645 and parameters: {'model_type': 'lgbm', 'num_leaves': 775, 'boosting_type': 'dart', 'n_estimators': 397, 'learning_rate': 0.005, 'min_data_in_leaf': 22, 'feature_fraction': 0.6696517113424767, 'bagging_fraction': 0.33096272278936567, 'bagging_freq': 134, 'drop_rate': 0.6358158492247631}. Best is trial 149 with value: 0.6411290322580645.\n"
     ]
    },
    {
     "name": "stdout",
     "output_type": "stream",
     "text": [
      "[LightGBM] [Warning] bagging_freq is set=138, subsample_freq=0 will be ignored. Current value: bagging_freq=138\n",
      "[LightGBM] [Warning] feature_fraction is set=0.6667727360092566, colsample_bytree=1.0 will be ignored. Current value: feature_fraction=0.6667727360092566\n",
      "[LightGBM] [Warning] bagging_fraction is set=0.325470045433829, subsample=1.0 will be ignored. Current value: bagging_fraction=0.325470045433829\n",
      "[LightGBM] [Warning] min_data_in_leaf is set=23, min_child_samples=20 will be ignored. Current value: min_data_in_leaf=23\n",
      "[LightGBM] [Warning] num_threads is set=0, n_jobs=-1 will be ignored. Current value: num_threads=0\n"
     ]
    },
    {
     "name": "stderr",
     "output_type": "stream",
     "text": [
      "[I 2023-06-11 02:21:29,723] Trial 150 finished with value: 0.6720430107526881 and parameters: {'model_type': 'lgbm', 'num_leaves': 863, 'boosting_type': 'dart', 'n_estimators': 403, 'learning_rate': 0.005, 'min_data_in_leaf': 23, 'feature_fraction': 0.6667727360092566, 'bagging_fraction': 0.325470045433829, 'bagging_freq': 138, 'drop_rate': 0.6379443140377881}. Best is trial 149 with value: 0.6411290322580645.\n"
     ]
    },
    {
     "name": "stdout",
     "output_type": "stream",
     "text": [
      "[LightGBM] [Warning] bagging_freq is set=104, subsample_freq=0 will be ignored. Current value: bagging_freq=104\n",
      "[LightGBM] [Warning] feature_fraction is set=0.6683774916957053, colsample_bytree=1.0 will be ignored. Current value: feature_fraction=0.6683774916957053\n",
      "[LightGBM] [Warning] bagging_fraction is set=0.33686779219810287, subsample=1.0 will be ignored. Current value: bagging_fraction=0.33686779219810287\n",
      "[LightGBM] [Warning] min_data_in_leaf is set=22, min_child_samples=20 will be ignored. Current value: min_data_in_leaf=22\n",
      "[LightGBM] [Warning] num_threads is set=0, n_jobs=-1 will be ignored. Current value: num_threads=0\n"
     ]
    },
    {
     "name": "stderr",
     "output_type": "stream",
     "text": [
      "[I 2023-06-11 02:21:35,683] Trial 151 finished with value: 0.6626344086021505 and parameters: {'model_type': 'lgbm', 'num_leaves': 773, 'boosting_type': 'dart', 'n_estimators': 384, 'learning_rate': 0.005, 'min_data_in_leaf': 22, 'feature_fraction': 0.6683774916957053, 'bagging_fraction': 0.33686779219810287, 'bagging_freq': 104, 'drop_rate': 0.642475453950014}. Best is trial 149 with value: 0.6411290322580645.\n"
     ]
    },
    {
     "name": "stdout",
     "output_type": "stream",
     "text": [
      "[LightGBM] [Warning] bagging_freq is set=135, subsample_freq=0 will be ignored. Current value: bagging_freq=135\n",
      "[LightGBM] [Warning] feature_fraction is set=0.6681573240267694, colsample_bytree=1.0 will be ignored. Current value: feature_fraction=0.6681573240267694\n",
      "[LightGBM] [Warning] bagging_fraction is set=0.33694460415592487, subsample=1.0 will be ignored. Current value: bagging_fraction=0.33694460415592487\n",
      "[LightGBM] [Warning] min_data_in_leaf is set=22, min_child_samples=20 will be ignored. Current value: min_data_in_leaf=22\n",
      "[LightGBM] [Warning] num_threads is set=0, n_jobs=-1 will be ignored. Current value: num_threads=0\n"
     ]
    },
    {
     "name": "stderr",
     "output_type": "stream",
     "text": [
      "[I 2023-06-11 02:21:41,055] Trial 152 finished with value: 0.6532258064516129 and parameters: {'model_type': 'lgbm', 'num_leaves': 761, 'boosting_type': 'dart', 'n_estimators': 343, 'learning_rate': 0.005, 'min_data_in_leaf': 22, 'feature_fraction': 0.6681573240267694, 'bagging_fraction': 0.33694460415592487, 'bagging_freq': 135, 'drop_rate': 0.6321802798069335}. Best is trial 149 with value: 0.6411290322580645.\n"
     ]
    },
    {
     "name": "stdout",
     "output_type": "stream",
     "text": [
      "[LightGBM] [Warning] bagging_freq is set=142, subsample_freq=0 will be ignored. Current value: bagging_freq=142\n",
      "[LightGBM] [Warning] feature_fraction is set=0.6713874729261334, colsample_bytree=1.0 will be ignored. Current value: feature_fraction=0.6713874729261334\n",
      "[LightGBM] [Warning] bagging_fraction is set=0.34497143618690224, subsample=1.0 will be ignored. Current value: bagging_fraction=0.34497143618690224\n",
      "[LightGBM] [Warning] min_data_in_leaf is set=21, min_child_samples=20 will be ignored. Current value: min_data_in_leaf=21\n",
      "[LightGBM] [Warning] num_threads is set=0, n_jobs=-1 will be ignored. Current value: num_threads=0\n"
     ]
    },
    {
     "name": "stderr",
     "output_type": "stream",
     "text": [
      "[I 2023-06-11 02:21:46,672] Trial 153 finished with value: 0.6666666666666666 and parameters: {'model_type': 'lgbm', 'num_leaves': 819, 'boosting_type': 'dart', 'n_estimators': 342, 'learning_rate': 0.005, 'min_data_in_leaf': 21, 'feature_fraction': 0.6713874729261334, 'bagging_fraction': 0.34497143618690224, 'bagging_freq': 142, 'drop_rate': 0.6329589088144191}. Best is trial 149 with value: 0.6411290322580645.\n"
     ]
    },
    {
     "name": "stdout",
     "output_type": "stream",
     "text": [
      "[LightGBM] [Warning] bagging_freq is set=137, subsample_freq=0 will be ignored. Current value: bagging_freq=137\n",
      "[LightGBM] [Warning] feature_fraction is set=0.672600067911974, colsample_bytree=1.0 will be ignored. Current value: feature_fraction=0.672600067911974\n",
      "[LightGBM] [Warning] bagging_fraction is set=0.3111121846720954, subsample=1.0 will be ignored. Current value: bagging_fraction=0.3111121846720954\n",
      "[LightGBM] [Warning] min_data_in_leaf is set=24, min_child_samples=20 will be ignored. Current value: min_data_in_leaf=24\n",
      "[LightGBM] [Warning] num_threads is set=0, n_jobs=-1 will be ignored. Current value: num_threads=0\n"
     ]
    },
    {
     "name": "stderr",
     "output_type": "stream",
     "text": [
      "[I 2023-06-11 02:21:51,482] Trial 154 finished with value: 0.6626344086021505 and parameters: {'model_type': 'lgbm', 'num_leaves': 755, 'boosting_type': 'dart', 'n_estimators': 345, 'learning_rate': 0.005, 'min_data_in_leaf': 24, 'feature_fraction': 0.672600067911974, 'bagging_fraction': 0.3111121846720954, 'bagging_freq': 137, 'drop_rate': 0.6280740514798807}. Best is trial 149 with value: 0.6411290322580645.\n"
     ]
    },
    {
     "name": "stdout",
     "output_type": "stream",
     "text": [
      "[LightGBM] [Warning] bagging_freq is set=86, subsample_freq=0 will be ignored. Current value: bagging_freq=86\n",
      "[LightGBM] [Warning] feature_fraction is set=0.658799799378243, colsample_bytree=1.0 will be ignored. Current value: feature_fraction=0.658799799378243\n",
      "[LightGBM] [Warning] bagging_fraction is set=0.34412734489701113, subsample=1.0 will be ignored. Current value: bagging_fraction=0.34412734489701113\n",
      "[LightGBM] [Warning] min_data_in_leaf is set=21, min_child_samples=20 will be ignored. Current value: min_data_in_leaf=21\n",
      "[LightGBM] [Warning] num_threads is set=0, n_jobs=-1 will be ignored. Current value: num_threads=0\n"
     ]
    },
    {
     "name": "stderr",
     "output_type": "stream",
     "text": [
      "[I 2023-06-11 02:21:57,780] Trial 155 finished with value: 0.6666666666666666 and parameters: {'model_type': 'lgbm', 'num_leaves': 886, 'boosting_type': 'dart', 'n_estimators': 379, 'learning_rate': 0.005, 'min_data_in_leaf': 21, 'feature_fraction': 0.658799799378243, 'bagging_fraction': 0.34412734489701113, 'bagging_freq': 86, 'drop_rate': 0.6354414914906839}. Best is trial 149 with value: 0.6411290322580645.\n"
     ]
    },
    {
     "name": "stdout",
     "output_type": "stream",
     "text": [
      "[LightGBM] [Warning] bagging_freq is set=118, subsample_freq=0 will be ignored. Current value: bagging_freq=118\n",
      "[LightGBM] [Warning] feature_fraction is set=0.6755121700887687, colsample_bytree=1.0 will be ignored. Current value: feature_fraction=0.6755121700887687\n",
      "[LightGBM] [Warning] bagging_fraction is set=0.317051965387422, subsample=1.0 will be ignored. Current value: bagging_fraction=0.317051965387422\n",
      "[LightGBM] [Warning] min_data_in_leaf is set=23, min_child_samples=20 will be ignored. Current value: min_data_in_leaf=23\n",
      "[LightGBM] [Warning] num_threads is set=0, n_jobs=-1 will be ignored. Current value: num_threads=0\n"
     ]
    },
    {
     "name": "stderr",
     "output_type": "stream",
     "text": [
      "[I 2023-06-11 02:22:02,881] Trial 156 finished with value: 0.6451612903225806 and parameters: {'model_type': 'lgbm', 'num_leaves': 747, 'boosting_type': 'dart', 'n_estimators': 349, 'learning_rate': 0.005, 'min_data_in_leaf': 23, 'feature_fraction': 0.6755121700887687, 'bagging_fraction': 0.317051965387422, 'bagging_freq': 118, 'drop_rate': 0.6567240995980556}. Best is trial 149 with value: 0.6411290322580645.\n"
     ]
    },
    {
     "name": "stdout",
     "output_type": "stream",
     "text": [
      "[LightGBM] [Warning] bagging_freq is set=140, subsample_freq=0 will be ignored. Current value: bagging_freq=140\n",
      "[LightGBM] [Warning] feature_fraction is set=0.6867679874566708, colsample_bytree=1.0 will be ignored. Current value: feature_fraction=0.6867679874566708\n",
      "[LightGBM] [Warning] bagging_fraction is set=0.31447096286846027, subsample=1.0 will be ignored. Current value: bagging_fraction=0.31447096286846027\n",
      "[LightGBM] [Warning] min_data_in_leaf is set=23, min_child_samples=20 will be ignored. Current value: min_data_in_leaf=23\n",
      "[LightGBM] [Warning] num_threads is set=0, n_jobs=-1 will be ignored. Current value: num_threads=0\n"
     ]
    },
    {
     "name": "stderr",
     "output_type": "stream",
     "text": [
      "[I 2023-06-11 02:22:08,731] Trial 157 finished with value: 0.6438172043010753 and parameters: {'model_type': 'lgbm', 'num_leaves': 808, 'boosting_type': 'dart', 'n_estimators': 416, 'learning_rate': 0.005, 'min_data_in_leaf': 23, 'feature_fraction': 0.6867679874566708, 'bagging_fraction': 0.31447096286846027, 'bagging_freq': 140, 'drop_rate': 0.6629605882781664}. Best is trial 149 with value: 0.6411290322580645.\n"
     ]
    },
    {
     "name": "stdout",
     "output_type": "stream",
     "text": [
      "[LightGBM] [Warning] bagging_freq is set=148, subsample_freq=0 will be ignored. Current value: bagging_freq=148\n",
      "[LightGBM] [Warning] feature_fraction is set=0.6913624128708649, colsample_bytree=1.0 will be ignored. Current value: feature_fraction=0.6913624128708649\n",
      "[LightGBM] [Warning] bagging_fraction is set=0.31081708515106554, subsample=1.0 will be ignored. Current value: bagging_fraction=0.31081708515106554\n",
      "[LightGBM] [Warning] min_data_in_leaf is set=24, min_child_samples=20 will be ignored. Current value: min_data_in_leaf=24\n",
      "[LightGBM] [Warning] num_threads is set=0, n_jobs=-1 will be ignored. Current value: num_threads=0\n"
     ]
    },
    {
     "name": "stderr",
     "output_type": "stream",
     "text": [
      "[I 2023-06-11 02:22:14,576] Trial 158 finished with value: 0.6545698924731183 and parameters: {'model_type': 'lgbm', 'num_leaves': 810, 'boosting_type': 'dart', 'n_estimators': 422, 'learning_rate': 0.005, 'min_data_in_leaf': 24, 'feature_fraction': 0.6913624128708649, 'bagging_fraction': 0.31081708515106554, 'bagging_freq': 148, 'drop_rate': 0.666495265850382}. Best is trial 149 with value: 0.6411290322580645.\n"
     ]
    },
    {
     "name": "stdout",
     "output_type": "stream",
     "text": [
      "[LightGBM] [Warning] bagging_freq is set=88, subsample_freq=0 will be ignored. Current value: bagging_freq=88\n",
      "[LightGBM] [Warning] feature_fraction is set=0.682697675384947, colsample_bytree=1.0 will be ignored. Current value: feature_fraction=0.682697675384947\n",
      "[LightGBM] [Warning] bagging_fraction is set=0.3176831783537053, subsample=1.0 will be ignored. Current value: bagging_fraction=0.3176831783537053\n",
      "[LightGBM] [Warning] min_data_in_leaf is set=23, min_child_samples=20 will be ignored. Current value: min_data_in_leaf=23\n",
      "[LightGBM] [Warning] num_threads is set=0, n_jobs=-1 will be ignored. Current value: num_threads=0\n"
     ]
    },
    {
     "name": "stderr",
     "output_type": "stream",
     "text": [
      "[I 2023-06-11 02:22:20,811] Trial 159 finished with value: 0.6626344086021505 and parameters: {'model_type': 'lgbm', 'num_leaves': 809, 'boosting_type': 'dart', 'n_estimators': 419, 'learning_rate': 0.005, 'min_data_in_leaf': 23, 'feature_fraction': 0.682697675384947, 'bagging_fraction': 0.3176831783537053, 'bagging_freq': 88, 'drop_rate': 0.6656986281113181}. Best is trial 149 with value: 0.6411290322580645.\n"
     ]
    },
    {
     "name": "stdout",
     "output_type": "stream",
     "text": [
      "[LightGBM] [Warning] bagging_freq is set=127, subsample_freq=0 will be ignored. Current value: bagging_freq=127\n",
      "[LightGBM] [Warning] feature_fraction is set=0.6992183114272772, colsample_bytree=1.0 will be ignored. Current value: feature_fraction=0.6992183114272772\n",
      "[LightGBM] [Warning] bagging_fraction is set=0.3177797995292625, subsample=1.0 will be ignored. Current value: bagging_fraction=0.3177797995292625\n",
      "[LightGBM] [Warning] min_data_in_leaf is set=24, min_child_samples=20 will be ignored. Current value: min_data_in_leaf=24\n",
      "[LightGBM] [Warning] num_threads is set=0, n_jobs=-1 will be ignored. Current value: num_threads=0\n"
     ]
    },
    {
     "name": "stderr",
     "output_type": "stream",
     "text": [
      "[I 2023-06-11 02:22:25,515] Trial 160 finished with value: 0.6491935483870968 and parameters: {'model_type': 'lgbm', 'num_leaves': 750, 'boosting_type': 'dart', 'n_estimators': 322, 'learning_rate': 0.005, 'min_data_in_leaf': 24, 'feature_fraction': 0.6992183114272772, 'bagging_fraction': 0.3177797995292625, 'bagging_freq': 127, 'drop_rate': 0.6611825788252391}. Best is trial 149 with value: 0.6411290322580645.\n"
     ]
    },
    {
     "name": "stdout",
     "output_type": "stream",
     "text": [
      "[LightGBM] [Warning] bagging_freq is set=126, subsample_freq=0 will be ignored. Current value: bagging_freq=126\n",
      "[LightGBM] [Warning] feature_fraction is set=0.6979385126316863, colsample_bytree=1.0 will be ignored. Current value: feature_fraction=0.6979385126316863\n",
      "[LightGBM] [Warning] bagging_fraction is set=0.3176685917266376, subsample=1.0 will be ignored. Current value: bagging_fraction=0.3176685917266376\n",
      "[LightGBM] [Warning] min_data_in_leaf is set=24, min_child_samples=20 will be ignored. Current value: min_data_in_leaf=24\n",
      "[LightGBM] [Warning] num_threads is set=0, n_jobs=-1 will be ignored. Current value: num_threads=0\n"
     ]
    },
    {
     "name": "stderr",
     "output_type": "stream",
     "text": [
      "[I 2023-06-11 02:22:30,199] Trial 161 finished with value: 0.6505376344086021 and parameters: {'model_type': 'lgbm', 'num_leaves': 757, 'boosting_type': 'dart', 'n_estimators': 324, 'learning_rate': 0.005, 'min_data_in_leaf': 24, 'feature_fraction': 0.6979385126316863, 'bagging_fraction': 0.3176685917266376, 'bagging_freq': 126, 'drop_rate': 0.6638036759310418}. Best is trial 149 with value: 0.6411290322580645.\n"
     ]
    },
    {
     "name": "stdout",
     "output_type": "stream",
     "text": [
      "[LightGBM] [Warning] bagging_freq is set=130, subsample_freq=0 will be ignored. Current value: bagging_freq=130\n",
      "[LightGBM] [Warning] feature_fraction is set=0.6979448498864179, colsample_bytree=1.0 will be ignored. Current value: feature_fraction=0.6979448498864179\n",
      "[LightGBM] [Warning] bagging_fraction is set=0.30409558077421, subsample=1.0 will be ignored. Current value: bagging_fraction=0.30409558077421\n",
      "[LightGBM] [Warning] min_data_in_leaf is set=24, min_child_samples=20 will be ignored. Current value: min_data_in_leaf=24\n",
      "[LightGBM] [Warning] num_threads is set=0, n_jobs=-1 will be ignored. Current value: num_threads=0\n"
     ]
    },
    {
     "name": "stderr",
     "output_type": "stream",
     "text": [
      "[I 2023-06-11 02:22:34,670] Trial 162 finished with value: 0.668010752688172 and parameters: {'model_type': 'lgbm', 'num_leaves': 751, 'boosting_type': 'dart', 'n_estimators': 326, 'learning_rate': 0.005, 'min_data_in_leaf': 24, 'feature_fraction': 0.6979448498864179, 'bagging_fraction': 0.30409558077421, 'bagging_freq': 130, 'drop_rate': 0.6685544451449376}. Best is trial 149 with value: 0.6411290322580645.\n"
     ]
    },
    {
     "name": "stdout",
     "output_type": "stream",
     "text": [
      "[LightGBM] [Warning] bagging_freq is set=128, subsample_freq=0 will be ignored. Current value: bagging_freq=128\n",
      "[LightGBM] [Warning] feature_fraction is set=0.6963558671699827, colsample_bytree=1.0 will be ignored. Current value: feature_fraction=0.6963558671699827\n",
      "[LightGBM] [Warning] bagging_fraction is set=0.31449943927828544, subsample=1.0 will be ignored. Current value: bagging_fraction=0.31449943927828544\n",
      "[LightGBM] [Warning] min_data_in_leaf is set=22, min_child_samples=20 will be ignored. Current value: min_data_in_leaf=22\n",
      "[LightGBM] [Warning] num_threads is set=0, n_jobs=-1 will be ignored. Current value: num_threads=0\n"
     ]
    },
    {
     "name": "stderr",
     "output_type": "stream",
     "text": [
      "[I 2023-06-11 02:22:39,285] Trial 163 finished with value: 0.657258064516129 and parameters: {'model_type': 'lgbm', 'num_leaves': 747, 'boosting_type': 'dart', 'n_estimators': 308, 'learning_rate': 0.005, 'min_data_in_leaf': 22, 'feature_fraction': 0.6963558671699827, 'bagging_fraction': 0.31449943927828544, 'bagging_freq': 128, 'drop_rate': 0.6631816499077078}. Best is trial 149 with value: 0.6411290322580645.\n"
     ]
    },
    {
     "name": "stdout",
     "output_type": "stream",
     "text": [
      "[LightGBM] [Warning] bagging_freq is set=151, subsample_freq=0 will be ignored. Current value: bagging_freq=151\n",
      "[LightGBM] [Warning] feature_fraction is set=0.684748295977498, colsample_bytree=1.0 will be ignored. Current value: feature_fraction=0.684748295977498\n",
      "[LightGBM] [Warning] bagging_fraction is set=0.3241204363244256, subsample=1.0 will be ignored. Current value: bagging_fraction=0.3241204363244256\n",
      "[LightGBM] [Warning] min_data_in_leaf is set=23, min_child_samples=20 will be ignored. Current value: min_data_in_leaf=23\n",
      "[LightGBM] [Warning] num_threads is set=0, n_jobs=-1 will be ignored. Current value: num_threads=0\n"
     ]
    },
    {
     "name": "stderr",
     "output_type": "stream",
     "text": [
      "[I 2023-06-11 02:22:44,264] Trial 164 finished with value: 0.6626344086021505 and parameters: {'model_type': 'lgbm', 'num_leaves': 786, 'boosting_type': 'dart', 'n_estimators': 335, 'learning_rate': 0.005, 'min_data_in_leaf': 23, 'feature_fraction': 0.684748295977498, 'bagging_fraction': 0.3241204363244256, 'bagging_freq': 151, 'drop_rate': 0.6720116078695578}. Best is trial 149 with value: 0.6411290322580645.\n"
     ]
    },
    {
     "name": "stdout",
     "output_type": "stream",
     "text": [
      "[LightGBM] [Warning] bagging_freq is set=119, subsample_freq=0 will be ignored. Current value: bagging_freq=119\n",
      "[LightGBM] [Warning] feature_fraction is set=0.6841403550206689, colsample_bytree=1.0 will be ignored. Current value: feature_fraction=0.6841403550206689\n",
      "[LightGBM] [Warning] bagging_fraction is set=0.317691764824208, subsample=1.0 will be ignored. Current value: bagging_fraction=0.317691764824208\n",
      "[LightGBM] [Warning] min_data_in_leaf is set=24, min_child_samples=20 will be ignored. Current value: min_data_in_leaf=24\n",
      "[LightGBM] [Warning] num_threads is set=0, n_jobs=-1 will be ignored. Current value: num_threads=0\n"
     ]
    },
    {
     "name": "stderr",
     "output_type": "stream",
     "text": [
      "[I 2023-06-11 02:22:48,750] Trial 165 finished with value: 0.6478494623655914 and parameters: {'model_type': 'lgbm', 'num_leaves': 742, 'boosting_type': 'dart', 'n_estimators': 314, 'learning_rate': 0.005, 'min_data_in_leaf': 24, 'feature_fraction': 0.6841403550206689, 'bagging_fraction': 0.317691764824208, 'bagging_freq': 119, 'drop_rate': 0.6651523052673552}. Best is trial 149 with value: 0.6411290322580645.\n"
     ]
    },
    {
     "name": "stdout",
     "output_type": "stream",
     "text": [
      "[LightGBM] [Warning] bagging_fraction is set=0.506198321285669, subsample=1.0 will be ignored. Current value: bagging_fraction=0.506198321285669\n",
      "[LightGBM] [Warning] bagging_freq is set=114, subsample_freq=0 will be ignored. Current value: bagging_freq=114\n",
      "[LightGBM] [Warning] min_data_in_leaf is set=24, min_child_samples=20 will be ignored. Current value: min_data_in_leaf=24\n",
      "[LightGBM] [Warning] num_threads is set=0, n_jobs=-1 will be ignored. Current value: num_threads=0\n"
     ]
    },
    {
     "name": "stderr",
     "output_type": "stream",
     "text": [
      "[I 2023-06-11 02:22:52,681] Trial 166 finished with value: 0.6706989247311828 and parameters: {'model_type': 'lgbm', 'num_leaves': 745, 'boosting_type': 'rf', 'n_estimators': 314, 'feature_fraction_bynode': 0.4771149143274892, 'min_data_in_leaf': 24, 'alpha': 18.08745268051114, 'bagging_fraction': 0.506198321285669, 'bagging_freq': 114, 'reg_lambda': 19.096426383935572}. Best is trial 149 with value: 0.6411290322580645.\n"
     ]
    },
    {
     "name": "stdout",
     "output_type": "stream",
     "text": [
      "[LightGBM] [Warning] bagging_freq is set=113, subsample_freq=0 will be ignored. Current value: bagging_freq=113\n",
      "[LightGBM] [Warning] feature_fraction is set=0.6835571949585768, colsample_bytree=1.0 will be ignored. Current value: feature_fraction=0.6835571949585768\n",
      "[LightGBM] [Warning] bagging_fraction is set=0.3172312288435466, subsample=1.0 will be ignored. Current value: bagging_fraction=0.3172312288435466\n",
      "[LightGBM] [Warning] min_data_in_leaf is set=24, min_child_samples=20 will be ignored. Current value: min_data_in_leaf=24\n",
      "[LightGBM] [Warning] num_threads is set=0, n_jobs=-1 will be ignored. Current value: num_threads=0\n"
     ]
    },
    {
     "name": "stderr",
     "output_type": "stream",
     "text": [
      "[I 2023-06-11 02:22:58,345] Trial 167 finished with value: 0.6518817204301075 and parameters: {'model_type': 'lgbm', 'num_leaves': 793, 'boosting_type': 'dart', 'n_estimators': 399, 'learning_rate': 0.005, 'min_data_in_leaf': 24, 'feature_fraction': 0.6835571949585768, 'bagging_fraction': 0.3172312288435466, 'bagging_freq': 113, 'drop_rate': 0.6934774099146263}. Best is trial 149 with value: 0.6411290322580645.\n"
     ]
    },
    {
     "name": "stdout",
     "output_type": "stream",
     "text": [
      "[LightGBM] [Warning] bagging_fraction is set=0.3001484998259291, subsample=1.0 will be ignored. Current value: bagging_fraction=0.3001484998259291\n",
      "[LightGBM] [Warning] feature_fraction is set=0.6814573279287716, colsample_bytree=1.0 will be ignored. Current value: feature_fraction=0.6814573279287716\n",
      "[LightGBM] [Warning] bagging_freq is set=109, subsample_freq=0 will be ignored. Current value: bagging_freq=109\n",
      "[LightGBM] [Warning] min_data_in_leaf is set=25, min_child_samples=20 will be ignored. Current value: min_data_in_leaf=25\n",
      "[LightGBM] [Warning] num_threads is set=0, n_jobs=-1 will be ignored. Current value: num_threads=0\n"
     ]
    },
    {
     "name": "stderr",
     "output_type": "stream",
     "text": [
      "[I 2023-06-11 02:23:00,905] Trial 168 finished with value: 0.6693548387096774 and parameters: {'model_type': 'lgbm', 'num_leaves': 798, 'boosting_type': 'gbdt', 'n_estimators': 405, 'learning_rate': 0.005, 'min_data_in_leaf': 25, 'feature_fraction': 0.6814573279287716, 'bagging_fraction': 0.3001484998259291, 'bagging_freq': 109, 'alpha': 19.10344829190538, 'reg_lambda': 25.552133982497903}. Best is trial 149 with value: 0.6411290322580645.\n"
     ]
    },
    {
     "name": "stdout",
     "output_type": "stream",
     "text": [
      "[LightGBM] [Warning] bagging_freq is set=121, subsample_freq=0 will be ignored. Current value: bagging_freq=121\n",
      "[LightGBM] [Warning] feature_fraction is set=0.699996122690247, colsample_bytree=1.0 will be ignored. Current value: feature_fraction=0.699996122690247\n",
      "[LightGBM] [Warning] bagging_fraction is set=0.3191448785352101, subsample=1.0 will be ignored. Current value: bagging_fraction=0.3191448785352101\n",
      "[LightGBM] [Warning] min_data_in_leaf is set=25, min_child_samples=20 will be ignored. Current value: min_data_in_leaf=25\n",
      "[LightGBM] [Warning] num_threads is set=0, n_jobs=-1 will be ignored. Current value: num_threads=0\n"
     ]
    },
    {
     "name": "stderr",
     "output_type": "stream",
     "text": [
      "[I 2023-06-11 02:23:06,266] Trial 169 finished with value: 0.6545698924731183 and parameters: {'model_type': 'lgbm', 'num_leaves': 738, 'boosting_type': 'dart', 'n_estimators': 394, 'learning_rate': 0.005, 'min_data_in_leaf': 25, 'feature_fraction': 0.699996122690247, 'bagging_fraction': 0.3191448785352101, 'bagging_freq': 121, 'drop_rate': 0.6978286474743549}. Best is trial 149 with value: 0.6411290322580645.\n"
     ]
    },
    {
     "name": "stdout",
     "output_type": "stream",
     "text": [
      "[LightGBM] [Warning] bagging_freq is set=138, subsample_freq=0 will be ignored. Current value: bagging_freq=138\n",
      "[LightGBM] [Warning] feature_fraction is set=0.6816021738928207, colsample_bytree=1.0 will be ignored. Current value: feature_fraction=0.6816021738928207\n",
      "[LightGBM] [Warning] bagging_fraction is set=0.31910742695327604, subsample=1.0 will be ignored. Current value: bagging_fraction=0.31910742695327604\n",
      "[LightGBM] [Warning] min_data_in_leaf is set=24, min_child_samples=20 will be ignored. Current value: min_data_in_leaf=24\n",
      "[LightGBM] [Warning] num_threads is set=0, n_jobs=-1 will be ignored. Current value: num_threads=0\n"
     ]
    },
    {
     "name": "stderr",
     "output_type": "stream",
     "text": [
      "[I 2023-06-11 02:23:11,004] Trial 170 finished with value: 0.6478494623655914 and parameters: {'model_type': 'lgbm', 'num_leaves': 907, 'boosting_type': 'dart', 'n_estimators': 329, 'learning_rate': 0.005, 'min_data_in_leaf': 24, 'feature_fraction': 0.6816021738928207, 'bagging_fraction': 0.31910742695327604, 'bagging_freq': 138, 'drop_rate': 0.6633310174715475}. Best is trial 149 with value: 0.6411290322580645.\n"
     ]
    },
    {
     "name": "stdout",
     "output_type": "stream",
     "text": [
      "[LightGBM] [Warning] bagging_freq is set=137, subsample_freq=0 will be ignored. Current value: bagging_freq=137\n",
      "[LightGBM] [Warning] feature_fraction is set=0.6830732233999646, colsample_bytree=1.0 will be ignored. Current value: feature_fraction=0.6830732233999646\n",
      "[LightGBM] [Warning] bagging_fraction is set=0.31968995590585436, subsample=1.0 will be ignored. Current value: bagging_fraction=0.31968995590585436\n",
      "[LightGBM] [Warning] min_data_in_leaf is set=24, min_child_samples=20 will be ignored. Current value: min_data_in_leaf=24\n",
      "[LightGBM] [Warning] num_threads is set=0, n_jobs=-1 will be ignored. Current value: num_threads=0\n"
     ]
    },
    {
     "name": "stderr",
     "output_type": "stream",
     "text": [
      "[I 2023-06-11 02:23:15,891] Trial 171 finished with value: 0.6545698924731183 and parameters: {'model_type': 'lgbm', 'num_leaves': 903, 'boosting_type': 'dart', 'n_estimators': 334, 'learning_rate': 0.005, 'min_data_in_leaf': 24, 'feature_fraction': 0.6830732233999646, 'bagging_fraction': 0.31968995590585436, 'bagging_freq': 137, 'drop_rate': 0.6600435673604302}. Best is trial 149 with value: 0.6411290322580645.\n"
     ]
    },
    {
     "name": "stdout",
     "output_type": "stream",
     "text": [
      "[LightGBM] [Warning] bagging_freq is set=117, subsample_freq=0 will be ignored. Current value: bagging_freq=117\n",
      "[LightGBM] [Warning] feature_fraction is set=0.6803835656629058, colsample_bytree=1.0 will be ignored. Current value: feature_fraction=0.6803835656629058\n",
      "[LightGBM] [Warning] bagging_fraction is set=0.31989497108579046, subsample=1.0 will be ignored. Current value: bagging_fraction=0.31989497108579046\n",
      "[LightGBM] [Warning] min_data_in_leaf is set=23, min_child_samples=20 will be ignored. Current value: min_data_in_leaf=23\n",
      "[LightGBM] [Warning] num_threads is set=0, n_jobs=-1 will be ignored. Current value: num_threads=0\n"
     ]
    },
    {
     "name": "stderr",
     "output_type": "stream",
     "text": [
      "[I 2023-06-11 02:23:21,284] Trial 172 finished with value: 0.6559139784946236 and parameters: {'model_type': 'lgbm', 'num_leaves': 777, 'boosting_type': 'dart', 'n_estimators': 376, 'learning_rate': 0.005, 'min_data_in_leaf': 23, 'feature_fraction': 0.6803835656629058, 'bagging_fraction': 0.31989497108579046, 'bagging_freq': 117, 'drop_rate': 0.6648284949568256}. Best is trial 149 with value: 0.6411290322580645.\n"
     ]
    },
    {
     "name": "stdout",
     "output_type": "stream",
     "text": [
      "[LightGBM] [Warning] bagging_freq is set=80, subsample_freq=0 will be ignored. Current value: bagging_freq=80\n",
      "[LightGBM] [Warning] feature_fraction is set=0.6793923001343305, colsample_bytree=1.0 will be ignored. Current value: feature_fraction=0.6793923001343305\n",
      "[LightGBM] [Warning] bagging_fraction is set=0.3232353607583319, subsample=1.0 will be ignored. Current value: bagging_fraction=0.3232353607583319\n",
      "[LightGBM] [Warning] min_data_in_leaf is set=24, min_child_samples=20 will be ignored. Current value: min_data_in_leaf=24\n",
      "[LightGBM] [Warning] num_threads is set=0, n_jobs=-1 will be ignored. Current value: num_threads=0\n"
     ]
    },
    {
     "name": "stderr",
     "output_type": "stream",
     "text": [
      "[I 2023-06-11 02:23:27,535] Trial 173 finished with value: 0.6599462365591398 and parameters: {'model_type': 'lgbm', 'num_leaves': 933, 'boosting_type': 'dart', 'n_estimators': 441, 'learning_rate': 0.005, 'min_data_in_leaf': 24, 'feature_fraction': 0.6793923001343305, 'bagging_fraction': 0.3232353607583319, 'bagging_freq': 80, 'drop_rate': 0.6754143551356006}. Best is trial 149 with value: 0.6411290322580645.\n"
     ]
    },
    {
     "name": "stdout",
     "output_type": "stream",
     "text": [
      "[LightGBM] [Warning] bagging_freq is set=130, subsample_freq=0 will be ignored. Current value: bagging_freq=130\n",
      "[LightGBM] [Warning] feature_fraction is set=0.6824390911287295, colsample_bytree=1.0 will be ignored. Current value: feature_fraction=0.6824390911287295\n",
      "[LightGBM] [Warning] bagging_fraction is set=0.3006414015765599, subsample=1.0 will be ignored. Current value: bagging_fraction=0.3006414015765599\n",
      "[LightGBM] [Warning] min_data_in_leaf is set=25, min_child_samples=20 will be ignored. Current value: min_data_in_leaf=25\n",
      "[LightGBM] [Warning] num_threads is set=0, n_jobs=-1 will be ignored. Current value: num_threads=0\n"
     ]
    },
    {
     "name": "stderr",
     "output_type": "stream",
     "text": [
      "[I 2023-06-11 02:23:32,171] Trial 174 finished with value: 0.6666666666666666 and parameters: {'model_type': 'lgbm', 'num_leaves': 731, 'boosting_type': 'dart', 'n_estimators': 352, 'learning_rate': 0.005, 'min_data_in_leaf': 25, 'feature_fraction': 0.6824390911287295, 'bagging_fraction': 0.3006414015765599, 'bagging_freq': 130, 'drop_rate': 0.6590877597401282}. Best is trial 149 with value: 0.6411290322580645.\n"
     ]
    },
    {
     "name": "stdout",
     "output_type": "stream",
     "text": [
      "[LightGBM] [Warning] bagging_freq is set=111, subsample_freq=0 will be ignored. Current value: bagging_freq=111\n",
      "[LightGBM] [Warning] feature_fraction is set=0.6612314523989973, colsample_bytree=1.0 will be ignored. Current value: feature_fraction=0.6612314523989973\n",
      "[LightGBM] [Warning] bagging_fraction is set=0.338674680784963, subsample=1.0 will be ignored. Current value: bagging_fraction=0.338674680784963\n",
      "[LightGBM] [Warning] min_data_in_leaf is set=22, min_child_samples=20 will be ignored. Current value: min_data_in_leaf=22\n",
      "[LightGBM] [Warning] num_threads is set=0, n_jobs=-1 will be ignored. Current value: num_threads=0\n"
     ]
    },
    {
     "name": "stderr",
     "output_type": "stream",
     "text": [
      "[I 2023-06-11 02:23:37,136] Trial 175 finished with value: 0.6626344086021505 and parameters: {'model_type': 'lgbm', 'num_leaves': 816, 'boosting_type': 'dart', 'n_estimators': 322, 'learning_rate': 0.005, 'min_data_in_leaf': 22, 'feature_fraction': 0.6612314523989973, 'bagging_fraction': 0.338674680784963, 'bagging_freq': 111, 'drop_rate': 0.6929370117183545}. Best is trial 149 with value: 0.6411290322580645.\n"
     ]
    },
    {
     "name": "stdout",
     "output_type": "stream",
     "text": [
      "[LightGBM] [Warning] bagging_freq is set=150, subsample_freq=0 will be ignored. Current value: bagging_freq=150\n",
      "[LightGBM] [Warning] feature_fraction is set=0.567889757407863, colsample_bytree=1.0 will be ignored. Current value: feature_fraction=0.567889757407863\n",
      "[LightGBM] [Warning] bagging_fraction is set=0.3200951722518096, subsample=1.0 will be ignored. Current value: bagging_fraction=0.3200951722518096\n",
      "[LightGBM] [Warning] min_data_in_leaf is set=23, min_child_samples=20 will be ignored. Current value: min_data_in_leaf=23\n",
      "[LightGBM] [Warning] num_threads is set=0, n_jobs=-1 will be ignored. Current value: num_threads=0\n"
     ]
    },
    {
     "name": "stderr",
     "output_type": "stream",
     "text": [
      "[I 2023-06-11 02:23:42,097] Trial 176 finished with value: 0.6586021505376344 and parameters: {'model_type': 'lgbm', 'num_leaves': 774, 'boosting_type': 'dart', 'n_estimators': 366, 'learning_rate': 0.005, 'min_data_in_leaf': 23, 'feature_fraction': 0.567889757407863, 'bagging_fraction': 0.3200951722518096, 'bagging_freq': 150, 'drop_rate': 0.6516506348145583}. Best is trial 149 with value: 0.6411290322580645.\n"
     ]
    },
    {
     "name": "stdout",
     "output_type": "stream",
     "text": [
      "[LightGBM] [Warning] bagging_freq is set=125, subsample_freq=0 will be ignored. Current value: bagging_freq=125\n",
      "[LightGBM] [Warning] feature_fraction is set=0.6851558633006612, colsample_bytree=1.0 will be ignored. Current value: feature_fraction=0.6851558633006612\n",
      "[LightGBM] [Warning] bagging_fraction is set=0.33888636737480254, subsample=1.0 will be ignored. Current value: bagging_fraction=0.33888636737480254\n",
      "[LightGBM] [Warning] min_data_in_leaf is set=21, min_child_samples=20 will be ignored. Current value: min_data_in_leaf=21\n",
      "[LightGBM] [Warning] num_threads is set=0, n_jobs=-1 will be ignored. Current value: num_threads=0\n"
     ]
    },
    {
     "name": "stderr",
     "output_type": "stream",
     "text": [
      "[I 2023-06-11 02:23:47,063] Trial 177 finished with value: 0.6586021505376344 and parameters: {'model_type': 'lgbm', 'num_leaves': 869, 'boosting_type': 'dart', 'n_estimators': 296, 'learning_rate': 0.005, 'min_data_in_leaf': 21, 'feature_fraction': 0.6851558633006612, 'bagging_fraction': 0.33888636737480254, 'bagging_freq': 125, 'drop_rate': 0.6510795273382587}. Best is trial 149 with value: 0.6411290322580645.\n"
     ]
    },
    {
     "name": "stdout",
     "output_type": "stream",
     "text": [
      "[LightGBM] [Warning] min_data_in_leaf is set=24, min_child_samples=20 will be ignored. Current value: min_data_in_leaf=24\n",
      "[LightGBM] [Warning] num_threads is set=0, n_jobs=-1 will be ignored. Current value: num_threads=0\n"
     ]
    },
    {
     "name": "stderr",
     "output_type": "stream",
     "text": [
      "[I 2023-06-11 02:23:51,688] Trial 178 finished with value: 0.6706989247311828 and parameters: {'model_type': 'lgbm', 'num_leaves': 970, 'boosting_type': 'goss', 'learning_rate': 0.005, 'min_data_in_leaf': 24, 'top_rate': 0.5340757874937281}. Best is trial 149 with value: 0.6411290322580645.\n"
     ]
    },
    {
     "name": "stdout",
     "output_type": "stream",
     "text": [
      "[LightGBM] [Warning] bagging_freq is set=94, subsample_freq=0 will be ignored. Current value: bagging_freq=94\n",
      "[LightGBM] [Warning] feature_fraction is set=0.6991024712706032, colsample_bytree=1.0 will be ignored. Current value: feature_fraction=0.6991024712706032\n",
      "[LightGBM] [Warning] bagging_fraction is set=0.3087848554247047, subsample=1.0 will be ignored. Current value: bagging_fraction=0.3087848554247047\n",
      "[LightGBM] [Warning] min_data_in_leaf is set=22, min_child_samples=20 will be ignored. Current value: min_data_in_leaf=22\n",
      "[LightGBM] [Warning] num_threads is set=0, n_jobs=-1 will be ignored. Current value: num_threads=0\n"
     ]
    },
    {
     "name": "stderr",
     "output_type": "stream",
     "text": [
      "[I 2023-06-11 02:23:56,889] Trial 179 finished with value: 0.6532258064516129 and parameters: {'model_type': 'lgbm', 'num_leaves': 818, 'boosting_type': 'dart', 'n_estimators': 346, 'learning_rate': 0.005, 'min_data_in_leaf': 22, 'feature_fraction': 0.6991024712706032, 'bagging_fraction': 0.3087848554247047, 'bagging_freq': 94, 'drop_rate': 0.6161748162397351}. Best is trial 149 with value: 0.6411290322580645.\n"
     ]
    },
    {
     "name": "stdout",
     "output_type": "stream",
     "text": [
      "[LightGBM] [Warning] bagging_freq is set=139, subsample_freq=0 will be ignored. Current value: bagging_freq=139\n",
      "[LightGBM] [Warning] feature_fraction is set=0.6619452375948711, colsample_bytree=1.0 will be ignored. Current value: feature_fraction=0.6619452375948711\n",
      "[LightGBM] [Warning] bagging_fraction is set=0.3263442380396984, subsample=1.0 will be ignored. Current value: bagging_fraction=0.3263442380396984\n",
      "[LightGBM] [Warning] min_data_in_leaf is set=23, min_child_samples=20 will be ignored. Current value: min_data_in_leaf=23\n",
      "[LightGBM] [Warning] num_threads is set=0, n_jobs=-1 will be ignored. Current value: num_threads=0\n"
     ]
    },
    {
     "name": "stderr",
     "output_type": "stream",
     "text": [
      "[I 2023-06-11 02:24:01,767] Trial 180 finished with value: 0.6626344086021505 and parameters: {'model_type': 'lgbm', 'num_leaves': 769, 'boosting_type': 'dart', 'n_estimators': 328, 'learning_rate': 0.005, 'min_data_in_leaf': 23, 'feature_fraction': 0.6619452375948711, 'bagging_fraction': 0.3263442380396984, 'bagging_freq': 139, 'drop_rate': 0.6915648860947493}. Best is trial 149 with value: 0.6411290322580645.\n"
     ]
    },
    {
     "name": "stdout",
     "output_type": "stream",
     "text": [
      "[LightGBM] [Warning] bagging_freq is set=58, subsample_freq=0 will be ignored. Current value: bagging_freq=58\n",
      "[LightGBM] [Warning] feature_fraction is set=0.6907300236614556, colsample_bytree=1.0 will be ignored. Current value: feature_fraction=0.6907300236614556\n",
      "[LightGBM] [Warning] bagging_fraction is set=0.31139228174849004, subsample=1.0 will be ignored. Current value: bagging_fraction=0.31139228174849004\n",
      "[LightGBM] [Warning] min_data_in_leaf is set=22, min_child_samples=20 will be ignored. Current value: min_data_in_leaf=22\n",
      "[LightGBM] [Warning] num_threads is set=0, n_jobs=-1 will be ignored. Current value: num_threads=0\n"
     ]
    },
    {
     "name": "stderr",
     "output_type": "stream",
     "text": [
      "[I 2023-06-11 02:24:07,042] Trial 181 finished with value: 0.6693548387096774 and parameters: {'model_type': 'lgbm', 'num_leaves': 828, 'boosting_type': 'dart', 'n_estimators': 346, 'learning_rate': 0.005, 'min_data_in_leaf': 22, 'feature_fraction': 0.6907300236614556, 'bagging_fraction': 0.31139228174849004, 'bagging_freq': 58, 'drop_rate': 0.6146146813342662}. Best is trial 149 with value: 0.6411290322580645.\n"
     ]
    },
    {
     "name": "stdout",
     "output_type": "stream",
     "text": [
      "[LightGBM] [Warning] bagging_freq is set=92, subsample_freq=0 will be ignored. Current value: bagging_freq=92\n",
      "[LightGBM] [Warning] feature_fraction is set=0.6994707659642754, colsample_bytree=1.0 will be ignored. Current value: feature_fraction=0.6994707659642754\n",
      "[LightGBM] [Warning] bagging_fraction is set=0.31010148837347484, subsample=1.0 will be ignored. Current value: bagging_fraction=0.31010148837347484\n",
      "[LightGBM] [Warning] min_data_in_leaf is set=22, min_child_samples=20 will be ignored. Current value: min_data_in_leaf=22\n",
      "[LightGBM] [Warning] num_threads is set=0, n_jobs=-1 will be ignored. Current value: num_threads=0\n"
     ]
    },
    {
     "name": "stderr",
     "output_type": "stream",
     "text": [
      "[I 2023-06-11 02:24:12,523] Trial 182 finished with value: 0.6612903225806451 and parameters: {'model_type': 'lgbm', 'num_leaves': 724, 'boosting_type': 'dart', 'n_estimators': 360, 'learning_rate': 0.005, 'min_data_in_leaf': 22, 'feature_fraction': 0.6994707659642754, 'bagging_fraction': 0.31010148837347484, 'bagging_freq': 92, 'drop_rate': 0.6228407430073875}. Best is trial 149 with value: 0.6411290322580645.\n"
     ]
    },
    {
     "name": "stdout",
     "output_type": "stream",
     "text": [
      "[LightGBM] [Warning] bagging_freq is set=102, subsample_freq=0 will be ignored. Current value: bagging_freq=102\n",
      "[LightGBM] [Warning] feature_fraction is set=0.6809448836971936, colsample_bytree=1.0 will be ignored. Current value: feature_fraction=0.6809448836971936\n",
      "[LightGBM] [Warning] bagging_fraction is set=0.34426888230059627, subsample=1.0 will be ignored. Current value: bagging_fraction=0.34426888230059627\n",
      "[LightGBM] [Warning] min_data_in_leaf is set=21, min_child_samples=20 will be ignored. Current value: min_data_in_leaf=21\n",
      "[LightGBM] [Warning] num_threads is set=0, n_jobs=-1 will be ignored. Current value: num_threads=0\n"
     ]
    },
    {
     "name": "stderr",
     "output_type": "stream",
     "text": [
      "[I 2023-06-11 02:24:18,889] Trial 183 finished with value: 0.6612903225806451 and parameters: {'model_type': 'lgbm', 'num_leaves': 801, 'boosting_type': 'dart', 'n_estimators': 392, 'learning_rate': 0.005, 'min_data_in_leaf': 21, 'feature_fraction': 0.6809448836971936, 'bagging_fraction': 0.34426888230059627, 'bagging_freq': 102, 'drop_rate': 0.6078705961478043}. Best is trial 149 with value: 0.6411290322580645.\n"
     ]
    },
    {
     "name": "stdout",
     "output_type": "stream",
     "text": [
      "[LightGBM] [Warning] bagging_freq is set=114, subsample_freq=0 will be ignored. Current value: bagging_freq=114\n",
      "[LightGBM] [Warning] feature_fraction is set=0.6613967734761559, colsample_bytree=1.0 will be ignored. Current value: feature_fraction=0.6613967734761559\n",
      "[LightGBM] [Warning] bagging_fraction is set=0.3253246192651201, subsample=1.0 will be ignored. Current value: bagging_fraction=0.3253246192651201\n",
      "[LightGBM] [Warning] min_data_in_leaf is set=23, min_child_samples=20 will be ignored. Current value: min_data_in_leaf=23\n",
      "[LightGBM] [Warning] num_threads is set=0, n_jobs=-1 will be ignored. Current value: num_threads=0\n"
     ]
    },
    {
     "name": "stderr",
     "output_type": "stream",
     "text": [
      "[I 2023-06-11 02:24:24,435] Trial 184 finished with value: 0.6518817204301075 and parameters: {'model_type': 'lgbm', 'num_leaves': 838, 'boosting_type': 'dart', 'n_estimators': 372, 'learning_rate': 0.005, 'min_data_in_leaf': 23, 'feature_fraction': 0.6613967734761559, 'bagging_fraction': 0.3253246192651201, 'bagging_freq': 114, 'drop_rate': 0.6520018153416944}. Best is trial 149 with value: 0.6411290322580645.\n"
     ]
    },
    {
     "name": "stdout",
     "output_type": "stream",
     "text": [
      "[LightGBM] [Warning] bagging_freq is set=119, subsample_freq=0 will be ignored. Current value: bagging_freq=119\n",
      "[LightGBM] [Warning] feature_fraction is set=0.6621435091526523, colsample_bytree=1.0 will be ignored. Current value: feature_fraction=0.6621435091526523\n",
      "[LightGBM] [Warning] bagging_fraction is set=0.3292796703479277, subsample=1.0 will be ignored. Current value: bagging_fraction=0.3292796703479277\n",
      "[LightGBM] [Warning] min_data_in_leaf is set=23, min_child_samples=20 will be ignored. Current value: min_data_in_leaf=23\n",
      "[LightGBM] [Warning] num_threads is set=0, n_jobs=-1 will be ignored. Current value: num_threads=0\n"
     ]
    },
    {
     "name": "stderr",
     "output_type": "stream",
     "text": [
      "[I 2023-06-11 02:24:29,987] Trial 185 finished with value: 0.6559139784946236 and parameters: {'model_type': 'lgbm', 'num_leaves': 776, 'boosting_type': 'dart', 'n_estimators': 376, 'learning_rate': 0.005, 'min_data_in_leaf': 23, 'feature_fraction': 0.6621435091526523, 'bagging_fraction': 0.3292796703479277, 'bagging_freq': 119, 'drop_rate': 0.6517274605664631}. Best is trial 149 with value: 0.6411290322580645.\n"
     ]
    },
    {
     "name": "stdout",
     "output_type": "stream",
     "text": [
      "[LightGBM] [Warning] bagging_freq is set=160, subsample_freq=0 will be ignored. Current value: bagging_freq=160\n",
      "[LightGBM] [Warning] feature_fraction is set=0.63792013270287, colsample_bytree=1.0 will be ignored. Current value: feature_fraction=0.63792013270287\n",
      "[LightGBM] [Warning] bagging_fraction is set=0.5031831610127986, subsample=1.0 will be ignored. Current value: bagging_fraction=0.5031831610127986\n",
      "[LightGBM] [Warning] min_data_in_leaf is set=31, min_child_samples=20 will be ignored. Current value: min_data_in_leaf=31\n",
      "[LightGBM] [Warning] num_threads is set=0, n_jobs=-1 will be ignored. Current value: num_threads=0\n"
     ]
    },
    {
     "name": "stderr",
     "output_type": "stream",
     "text": [
      "[I 2023-06-11 02:24:36,698] Trial 186 finished with value: 0.6317204301075269 and parameters: {'model_type': 'lgbm', 'num_leaves': 723, 'boosting_type': 'dart', 'n_estimators': 431, 'learning_rate': 0.1, 'min_data_in_leaf': 31, 'feature_fraction': 0.63792013270287, 'bagging_fraction': 0.5031831610127986, 'bagging_freq': 160, 'drop_rate': 0.647637920710175}. Best is trial 186 with value: 0.6317204301075269.\n"
     ]
    },
    {
     "name": "stdout",
     "output_type": "stream",
     "text": [
      "[LightGBM] [Warning] bagging_fraction is set=0.5039532566215819, subsample=1.0 will be ignored. Current value: bagging_fraction=0.5039532566215819\n",
      "[LightGBM] [Warning] bagging_freq is set=163, subsample_freq=0 will be ignored. Current value: bagging_freq=163\n",
      "[LightGBM] [Warning] min_data_in_leaf is set=14, min_child_samples=20 will be ignored. Current value: min_data_in_leaf=14\n",
      "[LightGBM] [Warning] num_threads is set=0, n_jobs=-1 will be ignored. Current value: num_threads=0\n"
     ]
    },
    {
     "name": "stderr",
     "output_type": "stream",
     "text": [
      "[I 2023-06-11 02:24:48,635] Trial 187 finished with value: 0.6706989247311828 and parameters: {'model_type': 'lgbm', 'num_leaves': 713, 'boosting_type': 'rf', 'n_estimators': 430, 'feature_fraction_bynode': 0.011423229045546431, 'bagging_fraction': 0.5039532566215819, 'bagging_freq': 163, 'min_data_in_leaf': 14, 'alpha': 0.41767533008183194, 'reg_lambda': 1.3295776586194414}. Best is trial 186 with value: 0.6317204301075269.\n"
     ]
    },
    {
     "name": "stdout",
     "output_type": "stream",
     "text": [
      "[LightGBM] [Warning] bagging_freq is set=161, subsample_freq=0 will be ignored. Current value: bagging_freq=161\n",
      "[LightGBM] [Warning] feature_fraction is set=0.7202437319380354, colsample_bytree=1.0 will be ignored. Current value: feature_fraction=0.7202437319380354\n",
      "[LightGBM] [Warning] bagging_fraction is set=0.5032523774430442, subsample=1.0 will be ignored. Current value: bagging_fraction=0.5032523774430442\n",
      "[LightGBM] [Warning] min_data_in_leaf is set=16, min_child_samples=20 will be ignored. Current value: min_data_in_leaf=16\n",
      "[LightGBM] [Warning] num_threads is set=0, n_jobs=-1 will be ignored. Current value: num_threads=0\n"
     ]
    },
    {
     "name": "stderr",
     "output_type": "stream",
     "text": [
      "[I 2023-06-11 02:25:01,371] Trial 188 finished with value: 0.6706989247311828 and parameters: {'model_type': 'lgbm', 'num_leaves': 637, 'boosting_type': 'dart', 'n_estimators': 443, 'learning_rate': 0.0005, 'min_data_in_leaf': 16, 'feature_fraction': 0.7202437319380354, 'bagging_fraction': 0.5032523774430442, 'bagging_freq': 161, 'drop_rate': 0.4323000909397783}. Best is trial 186 with value: 0.6317204301075269.\n"
     ]
    },
    {
     "name": "stdout",
     "output_type": "stream",
     "text": [
      "[LightGBM] [Warning] bagging_freq is set=112, subsample_freq=0 will be ignored. Current value: bagging_freq=112\n",
      "[LightGBM] [Warning] feature_fraction is set=0.6373883365098065, colsample_bytree=1.0 will be ignored. Current value: feature_fraction=0.6373883365098065\n",
      "[LightGBM] [Warning] bagging_fraction is set=0.5030841319107602, subsample=1.0 will be ignored. Current value: bagging_fraction=0.5030841319107602\n",
      "[LightGBM] [Warning] min_data_in_leaf is set=35, min_child_samples=20 will be ignored. Current value: min_data_in_leaf=35\n",
      "[LightGBM] [Warning] num_threads is set=0, n_jobs=-1 will be ignored. Current value: num_threads=0\n"
     ]
    },
    {
     "name": "stderr",
     "output_type": "stream",
     "text": [
      "[I 2023-06-11 02:25:06,886] Trial 189 finished with value: 0.6424731182795699 and parameters: {'model_type': 'lgbm', 'num_leaves': 849, 'boosting_type': 'dart', 'n_estimators': 366, 'learning_rate': 0.1, 'min_data_in_leaf': 35, 'feature_fraction': 0.6373883365098065, 'bagging_fraction': 0.5030841319107602, 'bagging_freq': 112, 'drop_rate': 0.6536819910510366}. Best is trial 186 with value: 0.6317204301075269.\n"
     ]
    },
    {
     "name": "stdout",
     "output_type": "stream",
     "text": [
      "[LightGBM] [Warning] bagging_fraction is set=0.2972545257909963, subsample=1.0 will be ignored. Current value: bagging_fraction=0.2972545257909963\n",
      "[LightGBM] [Warning] feature_fraction is set=0.49716785232705163, colsample_bytree=1.0 will be ignored. Current value: feature_fraction=0.49716785232705163\n",
      "[LightGBM] [Warning] bagging_freq is set=329, subsample_freq=0 will be ignored. Current value: bagging_freq=329\n",
      "[LightGBM] [Warning] min_data_in_leaf is set=38, min_child_samples=20 will be ignored. Current value: min_data_in_leaf=38\n",
      "[LightGBM] [Warning] num_threads is set=0, n_jobs=-1 will be ignored. Current value: num_threads=0\n"
     ]
    },
    {
     "name": "stderr",
     "output_type": "stream",
     "text": [
      "[I 2023-06-11 02:25:08,900] Trial 190 finished with value: 0.635752688172043 and parameters: {'model_type': 'lgbm', 'num_leaves': 899, 'boosting_type': 'gbdt', 'n_estimators': 398, 'learning_rate': 0.1, 'min_data_in_leaf': 38, 'feature_fraction': 0.49716785232705163, 'bagging_fraction': 0.2972545257909963, 'bagging_freq': 329, 'alpha': 32.835202167070186, 'reg_lambda': 34.30567878297305}. Best is trial 186 with value: 0.6317204301075269.\n"
     ]
    },
    {
     "name": "stdout",
     "output_type": "stream",
     "text": [
      "[LightGBM] [Warning] bagging_freq is set=322, subsample_freq=0 will be ignored. Current value: bagging_freq=322\n",
      "[LightGBM] [Warning] feature_fraction is set=0.6315021583200477, colsample_bytree=1.0 will be ignored. Current value: feature_fraction=0.6315021583200477\n",
      "[LightGBM] [Warning] bagging_fraction is set=0.5035145870839879, subsample=1.0 will be ignored. Current value: bagging_fraction=0.5035145870839879\n",
      "[LightGBM] [Warning] min_data_in_leaf is set=37, min_child_samples=20 will be ignored. Current value: min_data_in_leaf=37\n",
      "[LightGBM] [Warning] num_threads is set=0, n_jobs=-1 will be ignored. Current value: num_threads=0\n"
     ]
    },
    {
     "name": "stderr",
     "output_type": "stream",
     "text": [
      "[I 2023-06-11 02:25:14,618] Trial 191 finished with value: 0.6290322580645161 and parameters: {'model_type': 'lgbm', 'num_leaves': 905, 'boosting_type': 'dart', 'n_estimators': 406, 'learning_rate': 0.1, 'min_data_in_leaf': 37, 'feature_fraction': 0.6315021583200477, 'bagging_fraction': 0.5035145870839879, 'bagging_freq': 322, 'drop_rate': 0.6542515394640036}. Best is trial 191 with value: 0.6290322580645161.\n"
     ]
    },
    {
     "name": "stdout",
     "output_type": "stream",
     "text": [
      "[LightGBM] [Warning] bagging_fraction is set=0.28590469363145415, subsample=1.0 will be ignored. Current value: bagging_fraction=0.28590469363145415\n",
      "[LightGBM] [Warning] feature_fraction is set=0.49776175302631886, colsample_bytree=1.0 will be ignored. Current value: feature_fraction=0.49776175302631886\n",
      "[LightGBM] [Warning] bagging_freq is set=357, subsample_freq=0 will be ignored. Current value: bagging_freq=357\n",
      "[LightGBM] [Warning] min_data_in_leaf is set=38, min_child_samples=20 will be ignored. Current value: min_data_in_leaf=38\n",
      "[LightGBM] [Warning] num_threads is set=0, n_jobs=-1 will be ignored. Current value: num_threads=0\n"
     ]
    },
    {
     "name": "stderr",
     "output_type": "stream",
     "text": [
      "[I 2023-06-11 02:25:16,685] Trial 192 finished with value: 0.6236559139784946 and parameters: {'model_type': 'lgbm', 'num_leaves': 905, 'boosting_type': 'gbdt', 'n_estimators': 413, 'learning_rate': 0.1, 'min_data_in_leaf': 38, 'feature_fraction': 0.49776175302631886, 'bagging_fraction': 0.28590469363145415, 'bagging_freq': 357, 'alpha': 32.43940459447857, 'reg_lambda': 34.13626920939483}. Best is trial 192 with value: 0.6236559139784946.\n"
     ]
    },
    {
     "name": "stdout",
     "output_type": "stream",
     "text": [
      "[LightGBM] [Warning] bagging_fraction is set=0.275065326474494, subsample=1.0 will be ignored. Current value: bagging_fraction=0.275065326474494\n",
      "[LightGBM] [Warning] feature_fraction is set=0.49761917693800295, colsample_bytree=1.0 will be ignored. Current value: feature_fraction=0.49761917693800295\n",
      "[LightGBM] [Warning] bagging_freq is set=345, subsample_freq=0 will be ignored. Current value: bagging_freq=345\n",
      "[LightGBM] [Warning] min_data_in_leaf is set=38, min_child_samples=20 will be ignored. Current value: min_data_in_leaf=38\n",
      "[LightGBM] [Warning] num_threads is set=0, n_jobs=-1 will be ignored. Current value: num_threads=0\n"
     ]
    },
    {
     "name": "stderr",
     "output_type": "stream",
     "text": [
      "[I 2023-06-11 02:25:18,645] Trial 193 finished with value: 0.6303763440860215 and parameters: {'model_type': 'lgbm', 'num_leaves': 910, 'boosting_type': 'gbdt', 'n_estimators': 402, 'learning_rate': 0.1, 'min_data_in_leaf': 38, 'feature_fraction': 0.49761917693800295, 'bagging_fraction': 0.275065326474494, 'bagging_freq': 345, 'alpha': 32.77304964204947, 'reg_lambda': 34.3435850206381}. Best is trial 192 with value: 0.6236559139784946.\n"
     ]
    },
    {
     "name": "stdout",
     "output_type": "stream",
     "text": [
      "[LightGBM] [Warning] bagging_fraction is set=0.2856865094794496, subsample=1.0 will be ignored. Current value: bagging_fraction=0.2856865094794496\n",
      "[LightGBM] [Warning] feature_fraction is set=0.4978617210909948, colsample_bytree=1.0 will be ignored. Current value: feature_fraction=0.4978617210909948\n",
      "[LightGBM] [Warning] bagging_freq is set=320, subsample_freq=0 will be ignored. Current value: bagging_freq=320\n",
      "[LightGBM] [Warning] min_data_in_leaf is set=38, min_child_samples=20 will be ignored. Current value: min_data_in_leaf=38\n",
      "[LightGBM] [Warning] num_threads is set=0, n_jobs=-1 will be ignored. Current value: num_threads=0\n"
     ]
    },
    {
     "name": "stderr",
     "output_type": "stream",
     "text": [
      "[I 2023-06-11 02:25:20,703] Trial 194 finished with value: 0.6209677419354839 and parameters: {'model_type': 'lgbm', 'num_leaves': 907, 'boosting_type': 'gbdt', 'n_estimators': 426, 'learning_rate': 0.1, 'min_data_in_leaf': 38, 'feature_fraction': 0.4978617210909948, 'bagging_fraction': 0.2856865094794496, 'bagging_freq': 320, 'alpha': 32.75648308519558, 'reg_lambda': 34.68396645575847}. Best is trial 194 with value: 0.6209677419354839.\n"
     ]
    },
    {
     "name": "stdout",
     "output_type": "stream",
     "text": [
      "[LightGBM] [Warning] bagging_fraction is set=0.2878172692554166, subsample=1.0 will be ignored. Current value: bagging_fraction=0.2878172692554166\n",
      "[LightGBM] [Warning] feature_fraction is set=0.4973025730583195, colsample_bytree=1.0 will be ignored. Current value: feature_fraction=0.4973025730583195\n",
      "[LightGBM] [Warning] bagging_freq is set=340, subsample_freq=0 will be ignored. Current value: bagging_freq=340\n",
      "[LightGBM] [Warning] min_data_in_leaf is set=38, min_child_samples=20 will be ignored. Current value: min_data_in_leaf=38\n",
      "[LightGBM] [Warning] num_threads is set=0, n_jobs=-1 will be ignored. Current value: num_threads=0\n"
     ]
    },
    {
     "name": "stderr",
     "output_type": "stream",
     "text": [
      "[I 2023-06-11 02:25:22,710] Trial 195 finished with value: 0.6088709677419355 and parameters: {'model_type': 'lgbm', 'num_leaves': 904, 'boosting_type': 'gbdt', 'n_estimators': 410, 'learning_rate': 0.1, 'min_data_in_leaf': 38, 'feature_fraction': 0.4973025730583195, 'bagging_fraction': 0.2878172692554166, 'bagging_freq': 340, 'alpha': 32.676239381398815, 'reg_lambda': 34.98343123567121}. Best is trial 195 with value: 0.6088709677419355.\n"
     ]
    },
    {
     "name": "stdout",
     "output_type": "stream",
     "text": [
      "[LightGBM] [Warning] bagging_fraction is set=0.28563652213969737, subsample=1.0 will be ignored. Current value: bagging_fraction=0.28563652213969737\n",
      "[LightGBM] [Warning] feature_fraction is set=0.49754445834408223, colsample_bytree=1.0 will be ignored. Current value: feature_fraction=0.49754445834408223\n",
      "[LightGBM] [Warning] bagging_freq is set=341, subsample_freq=0 will be ignored. Current value: bagging_freq=341\n",
      "[LightGBM] [Warning] min_data_in_leaf is set=38, min_child_samples=20 will be ignored. Current value: min_data_in_leaf=38\n",
      "[LightGBM] [Warning] num_threads is set=0, n_jobs=-1 will be ignored. Current value: num_threads=0\n"
     ]
    },
    {
     "name": "stderr",
     "output_type": "stream",
     "text": [
      "[I 2023-06-11 02:25:24,710] Trial 196 finished with value: 0.6169354838709677 and parameters: {'model_type': 'lgbm', 'num_leaves': 902, 'boosting_type': 'gbdt', 'n_estimators': 414, 'learning_rate': 0.1, 'min_data_in_leaf': 38, 'feature_fraction': 0.49754445834408223, 'bagging_fraction': 0.28563652213969737, 'bagging_freq': 341, 'alpha': 32.780418744022704, 'reg_lambda': 35.00942645385772}. Best is trial 195 with value: 0.6088709677419355.\n"
     ]
    },
    {
     "name": "stdout",
     "output_type": "stream",
     "text": [
      "[LightGBM] [Warning] bagging_fraction is set=0.2918539577516923, subsample=1.0 will be ignored. Current value: bagging_fraction=0.2918539577516923\n",
      "[LightGBM] [Warning] feature_fraction is set=0.49759004479752633, colsample_bytree=1.0 will be ignored. Current value: feature_fraction=0.49759004479752633\n",
      "[LightGBM] [Warning] bagging_freq is set=339, subsample_freq=0 will be ignored. Current value: bagging_freq=339\n",
      "[LightGBM] [Warning] min_data_in_leaf is set=38, min_child_samples=20 will be ignored. Current value: min_data_in_leaf=38\n",
      "[LightGBM] [Warning] num_threads is set=0, n_jobs=-1 will be ignored. Current value: num_threads=0\n"
     ]
    },
    {
     "name": "stderr",
     "output_type": "stream",
     "text": [
      "[I 2023-06-11 02:25:26,761] Trial 197 finished with value: 0.6370967741935484 and parameters: {'model_type': 'lgbm', 'num_leaves': 909, 'boosting_type': 'gbdt', 'n_estimators': 416, 'learning_rate': 0.1, 'min_data_in_leaf': 38, 'feature_fraction': 0.49759004479752633, 'bagging_fraction': 0.2918539577516923, 'bagging_freq': 339, 'alpha': 32.913176280524866, 'reg_lambda': 34.75136918823534}. Best is trial 195 with value: 0.6088709677419355.\n"
     ]
    },
    {
     "name": "stdout",
     "output_type": "stream",
     "text": [
      "[LightGBM] [Warning] bagging_fraction is set=0.28757890502071837, subsample=1.0 will be ignored. Current value: bagging_fraction=0.28757890502071837\n",
      "[LightGBM] [Warning] feature_fraction is set=0.49670062871525134, colsample_bytree=1.0 will be ignored. Current value: feature_fraction=0.49670062871525134\n",
      "[LightGBM] [Warning] bagging_freq is set=336, subsample_freq=0 will be ignored. Current value: bagging_freq=336\n",
      "[LightGBM] [Warning] min_data_in_leaf is set=38, min_child_samples=20 will be ignored. Current value: min_data_in_leaf=38\n",
      "[LightGBM] [Warning] num_threads is set=0, n_jobs=-1 will be ignored. Current value: num_threads=0\n"
     ]
    },
    {
     "name": "stderr",
     "output_type": "stream",
     "text": [
      "[I 2023-06-11 02:25:28,769] Trial 198 finished with value: 0.6209677419354839 and parameters: {'model_type': 'lgbm', 'num_leaves': 911, 'boosting_type': 'gbdt', 'n_estimators': 418, 'learning_rate': 0.1, 'min_data_in_leaf': 38, 'feature_fraction': 0.49670062871525134, 'bagging_fraction': 0.28757890502071837, 'bagging_freq': 336, 'alpha': 32.63486646445218, 'reg_lambda': 34.52584124684117}. Best is trial 195 with value: 0.6088709677419355.\n"
     ]
    },
    {
     "name": "stdout",
     "output_type": "stream",
     "text": [
      "[LightGBM] [Warning] bagging_fraction is set=0.28168432612019145, subsample=1.0 will be ignored. Current value: bagging_fraction=0.28168432612019145\n",
      "[LightGBM] [Warning] feature_fraction is set=0.4965380654652206, colsample_bytree=1.0 will be ignored. Current value: feature_fraction=0.4965380654652206\n",
      "[LightGBM] [Warning] bagging_freq is set=334, subsample_freq=0 will be ignored. Current value: bagging_freq=334\n",
      "[LightGBM] [Warning] min_data_in_leaf is set=38, min_child_samples=20 will be ignored. Current value: min_data_in_leaf=38\n",
      "[LightGBM] [Warning] num_threads is set=0, n_jobs=-1 will be ignored. Current value: num_threads=0\n"
     ]
    },
    {
     "name": "stderr",
     "output_type": "stream",
     "text": [
      "[I 2023-06-11 02:25:30,763] Trial 199 finished with value: 0.6048387096774194 and parameters: {'model_type': 'lgbm', 'num_leaves': 910, 'boosting_type': 'gbdt', 'n_estimators': 416, 'learning_rate': 0.1, 'min_data_in_leaf': 38, 'feature_fraction': 0.4965380654652206, 'bagging_fraction': 0.28168432612019145, 'bagging_freq': 334, 'alpha': 33.06305860224145, 'reg_lambda': 34.902256620222886}. Best is trial 199 with value: 0.6048387096774194.\n"
     ]
    },
    {
     "name": "stdout",
     "output_type": "stream",
     "text": [
      "[LightGBM] [Warning] bagging_fraction is set=0.28497627351500227, subsample=1.0 will be ignored. Current value: bagging_fraction=0.28497627351500227\n",
      "[LightGBM] [Warning] feature_fraction is set=0.4910281485775182, colsample_bytree=1.0 will be ignored. Current value: feature_fraction=0.4910281485775182\n",
      "[LightGBM] [Warning] bagging_freq is set=338, subsample_freq=0 will be ignored. Current value: bagging_freq=338\n",
      "[LightGBM] [Warning] min_data_in_leaf is set=38, min_child_samples=20 will be ignored. Current value: min_data_in_leaf=38\n",
      "[LightGBM] [Warning] num_threads is set=0, n_jobs=-1 will be ignored. Current value: num_threads=0\n"
     ]
    },
    {
     "name": "stderr",
     "output_type": "stream",
     "text": [
      "[I 2023-06-11 02:25:32,763] Trial 200 finished with value: 0.6236559139784946 and parameters: {'model_type': 'lgbm', 'num_leaves': 921, 'boosting_type': 'gbdt', 'n_estimators': 415, 'learning_rate': 0.1, 'min_data_in_leaf': 38, 'feature_fraction': 0.4910281485775182, 'bagging_fraction': 0.28497627351500227, 'bagging_freq': 338, 'alpha': 32.676633189315304, 'reg_lambda': 34.616947049441414}. Best is trial 199 with value: 0.6048387096774194.\n"
     ]
    },
    {
     "name": "stdout",
     "output_type": "stream",
     "text": [
      "[LightGBM] [Warning] bagging_fraction is set=0.2824816924323217, subsample=1.0 will be ignored. Current value: bagging_fraction=0.2824816924323217\n",
      "[LightGBM] [Warning] feature_fraction is set=0.492111783970347, colsample_bytree=1.0 will be ignored. Current value: feature_fraction=0.492111783970347\n",
      "[LightGBM] [Warning] bagging_freq is set=334, subsample_freq=0 will be ignored. Current value: bagging_freq=334\n",
      "[LightGBM] [Warning] min_data_in_leaf is set=38, min_child_samples=20 will be ignored. Current value: min_data_in_leaf=38\n",
      "[LightGBM] [Warning] num_threads is set=0, n_jobs=-1 will be ignored. Current value: num_threads=0\n"
     ]
    },
    {
     "name": "stderr",
     "output_type": "stream",
     "text": [
      "[I 2023-06-11 02:25:34,736] Trial 201 finished with value: 0.6303763440860215 and parameters: {'model_type': 'lgbm', 'num_leaves': 909, 'boosting_type': 'gbdt', 'n_estimators': 412, 'learning_rate': 0.1, 'min_data_in_leaf': 38, 'feature_fraction': 0.492111783970347, 'bagging_fraction': 0.2824816924323217, 'bagging_freq': 334, 'alpha': 32.958041643078026, 'reg_lambda': 34.69482929512001}. Best is trial 199 with value: 0.6048387096774194.\n"
     ]
    },
    {
     "name": "stdout",
     "output_type": "stream",
     "text": [
      "[LightGBM] [Warning] bagging_fraction is set=0.28494269520882587, subsample=1.0 will be ignored. Current value: bagging_fraction=0.28494269520882587\n",
      "[LightGBM] [Warning] feature_fraction is set=0.48638973762001586, colsample_bytree=1.0 will be ignored. Current value: feature_fraction=0.48638973762001586\n",
      "[LightGBM] [Warning] bagging_freq is set=338, subsample_freq=0 will be ignored. Current value: bagging_freq=338\n",
      "[LightGBM] [Warning] min_data_in_leaf is set=38, min_child_samples=20 will be ignored. Current value: min_data_in_leaf=38\n",
      "[LightGBM] [Warning] num_threads is set=0, n_jobs=-1 will be ignored. Current value: num_threads=0\n"
     ]
    },
    {
     "name": "stderr",
     "output_type": "stream",
     "text": [
      "[I 2023-06-11 02:25:36,776] Trial 202 finished with value: 0.6182795698924731 and parameters: {'model_type': 'lgbm', 'num_leaves': 904, 'boosting_type': 'gbdt', 'n_estimators': 420, 'learning_rate': 0.1, 'min_data_in_leaf': 38, 'feature_fraction': 0.48638973762001586, 'bagging_fraction': 0.28494269520882587, 'bagging_freq': 338, 'alpha': 32.722101921495444, 'reg_lambda': 34.78616921524522}. Best is trial 199 with value: 0.6048387096774194.\n"
     ]
    },
    {
     "name": "stdout",
     "output_type": "stream",
     "text": [
      "[LightGBM] [Warning] bagging_fraction is set=0.28200846319341105, subsample=1.0 will be ignored. Current value: bagging_fraction=0.28200846319341105\n",
      "[LightGBM] [Warning] feature_fraction is set=0.4901759039994383, colsample_bytree=1.0 will be ignored. Current value: feature_fraction=0.4901759039994383\n",
      "[LightGBM] [Warning] bagging_freq is set=336, subsample_freq=0 will be ignored. Current value: bagging_freq=336\n",
      "[LightGBM] [Warning] min_data_in_leaf is set=38, min_child_samples=20 will be ignored. Current value: min_data_in_leaf=38\n",
      "[LightGBM] [Warning] num_threads is set=0, n_jobs=-1 will be ignored. Current value: num_threads=0\n"
     ]
    },
    {
     "name": "stderr",
     "output_type": "stream",
     "text": [
      "[I 2023-06-11 02:25:38,793] Trial 203 finished with value: 0.6303763440860215 and parameters: {'model_type': 'lgbm', 'num_leaves': 957, 'boosting_type': 'gbdt', 'n_estimators': 412, 'learning_rate': 0.1, 'min_data_in_leaf': 38, 'feature_fraction': 0.4901759039994383, 'bagging_fraction': 0.28200846319341105, 'bagging_freq': 336, 'alpha': 32.77586780297404, 'reg_lambda': 34.62795957818099}. Best is trial 199 with value: 0.6048387096774194.\n"
     ]
    },
    {
     "name": "stdout",
     "output_type": "stream",
     "text": [
      "[LightGBM] [Warning] bagging_fraction is set=0.2827995688408093, subsample=1.0 will be ignored. Current value: bagging_fraction=0.2827995688408093\n",
      "[LightGBM] [Warning] feature_fraction is set=0.4881455972649833, colsample_bytree=1.0 will be ignored. Current value: feature_fraction=0.4881455972649833\n",
      "[LightGBM] [Warning] bagging_freq is set=337, subsample_freq=0 will be ignored. Current value: bagging_freq=337\n",
      "[LightGBM] [Warning] min_data_in_leaf is set=38, min_child_samples=20 will be ignored. Current value: min_data_in_leaf=38\n",
      "[LightGBM] [Warning] num_threads is set=0, n_jobs=-1 will be ignored. Current value: num_threads=0\n"
     ]
    },
    {
     "name": "stderr",
     "output_type": "stream",
     "text": [
      "[I 2023-06-11 02:25:40,821] Trial 204 finished with value: 0.6236559139784946 and parameters: {'model_type': 'lgbm', 'num_leaves': 963, 'boosting_type': 'gbdt', 'n_estimators': 416, 'learning_rate': 0.1, 'min_data_in_leaf': 38, 'feature_fraction': 0.4881455972649833, 'bagging_fraction': 0.2827995688408093, 'bagging_freq': 337, 'alpha': 32.770320063773305, 'reg_lambda': 34.64365462422794}. Best is trial 199 with value: 0.6048387096774194.\n"
     ]
    },
    {
     "name": "stdout",
     "output_type": "stream",
     "text": [
      "[LightGBM] [Warning] bagging_fraction is set=0.28502478565764955, subsample=1.0 will be ignored. Current value: bagging_fraction=0.28502478565764955\n",
      "[LightGBM] [Warning] feature_fraction is set=0.48799950085697474, colsample_bytree=1.0 will be ignored. Current value: feature_fraction=0.48799950085697474\n",
      "[LightGBM] [Warning] bagging_freq is set=338, subsample_freq=0 will be ignored. Current value: bagging_freq=338\n",
      "[LightGBM] [Warning] min_data_in_leaf is set=38, min_child_samples=20 will be ignored. Current value: min_data_in_leaf=38\n",
      "[LightGBM] [Warning] num_threads is set=0, n_jobs=-1 will be ignored. Current value: num_threads=0\n"
     ]
    },
    {
     "name": "stderr",
     "output_type": "stream",
     "text": [
      "[I 2023-06-11 02:25:42,830] Trial 205 finished with value: 0.6290322580645161 and parameters: {'model_type': 'lgbm', 'num_leaves': 959, 'boosting_type': 'gbdt', 'n_estimators': 412, 'learning_rate': 0.1, 'min_data_in_leaf': 38, 'feature_fraction': 0.48799950085697474, 'bagging_fraction': 0.28502478565764955, 'bagging_freq': 338, 'alpha': 32.9162126680134, 'reg_lambda': 34.63369245203378}. Best is trial 199 with value: 0.6048387096774194.\n"
     ]
    },
    {
     "name": "stdout",
     "output_type": "stream",
     "text": [
      "[LightGBM] [Warning] bagging_fraction is set=0.2789415429701861, subsample=1.0 will be ignored. Current value: bagging_fraction=0.2789415429701861\n",
      "[LightGBM] [Warning] feature_fraction is set=0.4916297685214757, colsample_bytree=1.0 will be ignored. Current value: feature_fraction=0.4916297685214757\n",
      "[LightGBM] [Warning] bagging_freq is set=338, subsample_freq=0 will be ignored. Current value: bagging_freq=338\n",
      "[LightGBM] [Warning] min_data_in_leaf is set=38, min_child_samples=20 will be ignored. Current value: min_data_in_leaf=38\n",
      "[LightGBM] [Warning] num_threads is set=0, n_jobs=-1 will be ignored. Current value: num_threads=0\n"
     ]
    },
    {
     "name": "stderr",
     "output_type": "stream",
     "text": [
      "[I 2023-06-11 02:25:44,840] Trial 206 finished with value: 0.6276881720430108 and parameters: {'model_type': 'lgbm', 'num_leaves': 962, 'boosting_type': 'gbdt', 'n_estimators': 412, 'learning_rate': 0.1, 'min_data_in_leaf': 38, 'feature_fraction': 0.4916297685214757, 'bagging_fraction': 0.2789415429701861, 'bagging_freq': 338, 'alpha': 33.00107144455551, 'reg_lambda': 34.687055472111616}. Best is trial 199 with value: 0.6048387096774194.\n"
     ]
    },
    {
     "name": "stdout",
     "output_type": "stream",
     "text": [
      "[LightGBM] [Warning] bagging_fraction is set=0.2822619903923586, subsample=1.0 will be ignored. Current value: bagging_fraction=0.2822619903923586\n",
      "[LightGBM] [Warning] feature_fraction is set=0.48886586893422124, colsample_bytree=1.0 will be ignored. Current value: feature_fraction=0.48886586893422124\n",
      "[LightGBM] [Warning] bagging_freq is set=338, subsample_freq=0 will be ignored. Current value: bagging_freq=338\n",
      "[LightGBM] [Warning] min_data_in_leaf is set=38, min_child_samples=20 will be ignored. Current value: min_data_in_leaf=38\n",
      "[LightGBM] [Warning] num_threads is set=0, n_jobs=-1 will be ignored. Current value: num_threads=0\n"
     ]
    },
    {
     "name": "stderr",
     "output_type": "stream",
     "text": [
      "[I 2023-06-11 02:25:46,873] Trial 207 finished with value: 0.614247311827957 and parameters: {'model_type': 'lgbm', 'num_leaves': 960, 'boosting_type': 'gbdt', 'n_estimators': 416, 'learning_rate': 0.1, 'min_data_in_leaf': 38, 'feature_fraction': 0.48886586893422124, 'bagging_fraction': 0.2822619903923586, 'bagging_freq': 338, 'alpha': 32.78359307590658, 'reg_lambda': 34.72541281978125}. Best is trial 199 with value: 0.6048387096774194.\n"
     ]
    },
    {
     "name": "stdout",
     "output_type": "stream",
     "text": [
      "[LightGBM] [Warning] bagging_fraction is set=0.28505020160562056, subsample=1.0 will be ignored. Current value: bagging_fraction=0.28505020160562056\n",
      "[LightGBM] [Warning] feature_fraction is set=0.4891351998925508, colsample_bytree=1.0 will be ignored. Current value: feature_fraction=0.4891351998925508\n",
      "[LightGBM] [Warning] bagging_freq is set=337, subsample_freq=0 will be ignored. Current value: bagging_freq=337\n",
      "[LightGBM] [Warning] min_data_in_leaf is set=38, min_child_samples=20 will be ignored. Current value: min_data_in_leaf=38\n",
      "[LightGBM] [Warning] num_threads is set=0, n_jobs=-1 will be ignored. Current value: num_threads=0\n"
     ]
    },
    {
     "name": "stderr",
     "output_type": "stream",
     "text": [
      "[I 2023-06-11 02:25:48,992] Trial 208 finished with value: 0.6115591397849462 and parameters: {'model_type': 'lgbm', 'num_leaves': 983, 'boosting_type': 'gbdt', 'n_estimators': 439, 'learning_rate': 0.1, 'min_data_in_leaf': 38, 'feature_fraction': 0.4891351998925508, 'bagging_fraction': 0.28505020160562056, 'bagging_freq': 337, 'alpha': 32.81195827989437, 'reg_lambda': 34.65463352567608}. Best is trial 199 with value: 0.6048387096774194.\n"
     ]
    },
    {
     "name": "stdout",
     "output_type": "stream",
     "text": [
      "[LightGBM] [Warning] bagging_fraction is set=0.2829464471586267, subsample=1.0 will be ignored. Current value: bagging_fraction=0.2829464471586267\n",
      "[LightGBM] [Warning] feature_fraction is set=0.48800109002125036, colsample_bytree=1.0 will be ignored. Current value: feature_fraction=0.48800109002125036\n",
      "[LightGBM] [Warning] bagging_freq is set=337, subsample_freq=0 will be ignored. Current value: bagging_freq=337\n",
      "[LightGBM] [Warning] min_data_in_leaf is set=38, min_child_samples=20 will be ignored. Current value: min_data_in_leaf=38\n",
      "[LightGBM] [Warning] num_threads is set=0, n_jobs=-1 will be ignored. Current value: num_threads=0\n"
     ]
    },
    {
     "name": "stderr",
     "output_type": "stream",
     "text": [
      "[I 2023-06-11 02:25:51,070] Trial 209 finished with value: 0.6115591397849462 and parameters: {'model_type': 'lgbm', 'num_leaves': 961, 'boosting_type': 'gbdt', 'n_estimators': 435, 'learning_rate': 0.1, 'min_data_in_leaf': 38, 'feature_fraction': 0.48800109002125036, 'bagging_fraction': 0.2829464471586267, 'bagging_freq': 337, 'alpha': 32.7696337350555, 'reg_lambda': 34.71599229083829}. Best is trial 199 with value: 0.6048387096774194.\n"
     ]
    },
    {
     "name": "stdout",
     "output_type": "stream",
     "text": [
      "[LightGBM] [Warning] bagging_fraction is set=0.28617236902768656, subsample=1.0 will be ignored. Current value: bagging_fraction=0.28617236902768656\n",
      "[LightGBM] [Warning] feature_fraction is set=0.48607398368790466, colsample_bytree=1.0 will be ignored. Current value: feature_fraction=0.48607398368790466\n",
      "[LightGBM] [Warning] bagging_freq is set=338, subsample_freq=0 will be ignored. Current value: bagging_freq=338\n",
      "[LightGBM] [Warning] min_data_in_leaf is set=38, min_child_samples=20 will be ignored. Current value: min_data_in_leaf=38\n",
      "[LightGBM] [Warning] num_threads is set=0, n_jobs=-1 will be ignored. Current value: num_threads=0\n"
     ]
    },
    {
     "name": "stderr",
     "output_type": "stream",
     "text": [
      "[I 2023-06-11 02:25:53,161] Trial 210 finished with value: 0.6155913978494624 and parameters: {'model_type': 'lgbm', 'num_leaves': 961, 'boosting_type': 'gbdt', 'n_estimators': 434, 'learning_rate': 0.1, 'min_data_in_leaf': 38, 'feature_fraction': 0.48607398368790466, 'bagging_fraction': 0.28617236902768656, 'bagging_freq': 338, 'alpha': 32.75541100077591, 'reg_lambda': 34.65873806518404}. Best is trial 199 with value: 0.6048387096774194.\n"
     ]
    },
    {
     "name": "stdout",
     "output_type": "stream",
     "text": [
      "[LightGBM] [Warning] bagging_fraction is set=0.2835582856806711, subsample=1.0 will be ignored. Current value: bagging_fraction=0.2835582856806711\n",
      "[LightGBM] [Warning] feature_fraction is set=0.48613859947277105, colsample_bytree=1.0 will be ignored. Current value: feature_fraction=0.48613859947277105\n",
      "[LightGBM] [Warning] bagging_freq is set=336, subsample_freq=0 will be ignored. Current value: bagging_freq=336\n",
      "[LightGBM] [Warning] min_data_in_leaf is set=38, min_child_samples=20 will be ignored. Current value: min_data_in_leaf=38\n",
      "[LightGBM] [Warning] num_threads is set=0, n_jobs=-1 will be ignored. Current value: num_threads=0\n"
     ]
    },
    {
     "name": "stderr",
     "output_type": "stream",
     "text": [
      "[I 2023-06-11 02:25:55,235] Trial 211 finished with value: 0.6370967741935484 and parameters: {'model_type': 'lgbm', 'num_leaves': 955, 'boosting_type': 'gbdt', 'n_estimators': 431, 'learning_rate': 0.1, 'min_data_in_leaf': 38, 'feature_fraction': 0.48613859947277105, 'bagging_fraction': 0.2835582856806711, 'bagging_freq': 336, 'alpha': 32.814624834117346, 'reg_lambda': 34.69069939814046}. Best is trial 199 with value: 0.6048387096774194.\n"
     ]
    },
    {
     "name": "stdout",
     "output_type": "stream",
     "text": [
      "[LightGBM] [Warning] bagging_fraction is set=0.28342443820193597, subsample=1.0 will be ignored. Current value: bagging_fraction=0.28342443820193597\n",
      "[LightGBM] [Warning] feature_fraction is set=0.48796840058708957, colsample_bytree=1.0 will be ignored. Current value: feature_fraction=0.48796840058708957\n",
      "[LightGBM] [Warning] bagging_freq is set=341, subsample_freq=0 will be ignored. Current value: bagging_freq=341\n",
      "[LightGBM] [Warning] min_data_in_leaf is set=38, min_child_samples=20 will be ignored. Current value: min_data_in_leaf=38\n",
      "[LightGBM] [Warning] num_threads is set=0, n_jobs=-1 will be ignored. Current value: num_threads=0\n"
     ]
    },
    {
     "name": "stderr",
     "output_type": "stream",
     "text": [
      "[I 2023-06-11 02:25:57,387] Trial 212 finished with value: 0.6397849462365591 and parameters: {'model_type': 'lgbm', 'num_leaves': 989, 'boosting_type': 'gbdt', 'n_estimators': 456, 'learning_rate': 0.1, 'min_data_in_leaf': 38, 'feature_fraction': 0.48796840058708957, 'bagging_fraction': 0.28342443820193597, 'bagging_freq': 341, 'alpha': 32.77738482771017, 'reg_lambda': 34.61335442231882}. Best is trial 199 with value: 0.6048387096774194.\n"
     ]
    },
    {
     "name": "stdout",
     "output_type": "stream",
     "text": [
      "[LightGBM] [Warning] bagging_fraction is set=0.2746135187028066, subsample=1.0 will be ignored. Current value: bagging_fraction=0.2746135187028066\n",
      "[LightGBM] [Warning] feature_fraction is set=0.4884526701537453, colsample_bytree=1.0 will be ignored. Current value: feature_fraction=0.4884526701537453\n",
      "[LightGBM] [Warning] bagging_freq is set=338, subsample_freq=0 will be ignored. Current value: bagging_freq=338\n",
      "[LightGBM] [Warning] min_data_in_leaf is set=38, min_child_samples=20 will be ignored. Current value: min_data_in_leaf=38\n",
      "[LightGBM] [Warning] num_threads is set=0, n_jobs=-1 will be ignored. Current value: num_threads=0\n"
     ]
    },
    {
     "name": "stderr",
     "output_type": "stream",
     "text": [
      "[I 2023-06-11 02:25:59,384] Trial 213 finished with value: 0.6276881720430108 and parameters: {'model_type': 'lgbm', 'num_leaves': 951, 'boosting_type': 'gbdt', 'n_estimators': 416, 'learning_rate': 0.1, 'min_data_in_leaf': 38, 'feature_fraction': 0.4884526701537453, 'bagging_fraction': 0.2746135187028066, 'bagging_freq': 338, 'alpha': 32.824500944814446, 'reg_lambda': 34.59035487060938}. Best is trial 199 with value: 0.6048387096774194.\n"
     ]
    },
    {
     "name": "stdout",
     "output_type": "stream",
     "text": [
      "[LightGBM] [Warning] bagging_fraction is set=0.27350883084558836, subsample=1.0 will be ignored. Current value: bagging_fraction=0.27350883084558836\n",
      "[LightGBM] [Warning] feature_fraction is set=0.4833641698527444, colsample_bytree=1.0 will be ignored. Current value: feature_fraction=0.4833641698527444\n",
      "[LightGBM] [Warning] bagging_freq is set=325, subsample_freq=0 will be ignored. Current value: bagging_freq=325\n",
      "[LightGBM] [Warning] min_data_in_leaf is set=39, min_child_samples=20 will be ignored. Current value: min_data_in_leaf=39\n",
      "[LightGBM] [Warning] num_threads is set=0, n_jobs=-1 will be ignored. Current value: num_threads=0\n"
     ]
    },
    {
     "name": "stderr",
     "output_type": "stream",
     "text": [
      "[I 2023-06-11 02:26:01,395] Trial 214 finished with value: 0.6370967741935484 and parameters: {'model_type': 'lgbm', 'num_leaves': 954, 'boosting_type': 'gbdt', 'n_estimators': 430, 'learning_rate': 0.1, 'min_data_in_leaf': 39, 'feature_fraction': 0.4833641698527444, 'bagging_fraction': 0.27350883084558836, 'bagging_freq': 325, 'alpha': 32.85233770542862, 'reg_lambda': 34.65192803198547}. Best is trial 199 with value: 0.6048387096774194.\n"
     ]
    },
    {
     "name": "stdout",
     "output_type": "stream",
     "text": [
      "[LightGBM] [Warning] bagging_fraction is set=0.2717248512089805, subsample=1.0 will be ignored. Current value: bagging_fraction=0.2717248512089805\n",
      "[LightGBM] [Warning] feature_fraction is set=0.47782665901351123, colsample_bytree=1.0 will be ignored. Current value: feature_fraction=0.47782665901351123\n",
      "[LightGBM] [Warning] bagging_freq is set=358, subsample_freq=0 will be ignored. Current value: bagging_freq=358\n",
      "[LightGBM] [Warning] min_data_in_leaf is set=37, min_child_samples=20 will be ignored. Current value: min_data_in_leaf=37\n",
      "[LightGBM] [Warning] num_threads is set=0, n_jobs=-1 will be ignored. Current value: num_threads=0\n"
     ]
    },
    {
     "name": "stderr",
     "output_type": "stream",
     "text": [
      "[I 2023-06-11 02:26:03,389] Trial 215 finished with value: 0.625 and parameters: {'model_type': 'lgbm', 'num_leaves': 927, 'boosting_type': 'gbdt', 'n_estimators': 410, 'learning_rate': 0.1, 'min_data_in_leaf': 37, 'feature_fraction': 0.47782665901351123, 'bagging_fraction': 0.2717248512089805, 'bagging_freq': 358, 'alpha': 32.70583618273604, 'reg_lambda': 34.578799532973036}. Best is trial 199 with value: 0.6048387096774194.\n"
     ]
    },
    {
     "name": "stdout",
     "output_type": "stream",
     "text": [
      "[LightGBM] [Warning] bagging_fraction is set=0.2685026639384023, subsample=1.0 will be ignored. Current value: bagging_fraction=0.2685026639384023\n",
      "[LightGBM] [Warning] feature_fraction is set=0.4779066046559384, colsample_bytree=1.0 will be ignored. Current value: feature_fraction=0.4779066046559384\n",
      "[LightGBM] [Warning] bagging_freq is set=357, subsample_freq=0 will be ignored. Current value: bagging_freq=357\n",
      "[LightGBM] [Warning] min_data_in_leaf is set=37, min_child_samples=20 will be ignored. Current value: min_data_in_leaf=37\n",
      "[LightGBM] [Warning] num_threads is set=0, n_jobs=-1 will be ignored. Current value: num_threads=0\n"
     ]
    },
    {
     "name": "stderr",
     "output_type": "stream",
     "text": [
      "[I 2023-06-11 02:26:05,377] Trial 216 finished with value: 0.6317204301075269 and parameters: {'model_type': 'lgbm', 'num_leaves': 936, 'boosting_type': 'gbdt', 'n_estimators': 411, 'learning_rate': 0.1, 'min_data_in_leaf': 37, 'feature_fraction': 0.4779066046559384, 'bagging_fraction': 0.2685026639384023, 'bagging_freq': 357, 'alpha': 32.55546300336106, 'reg_lambda': 34.74649993441733}. Best is trial 199 with value: 0.6048387096774194.\n"
     ]
    },
    {
     "name": "stdout",
     "output_type": "stream",
     "text": [
      "[LightGBM] [Warning] bagging_fraction is set=0.27759435977676444, subsample=1.0 will be ignored. Current value: bagging_fraction=0.27759435977676444\n",
      "[LightGBM] [Warning] feature_fraction is set=0.4754353132835015, colsample_bytree=1.0 will be ignored. Current value: feature_fraction=0.4754353132835015\n",
      "[LightGBM] [Warning] bagging_freq is set=312, subsample_freq=0 will be ignored. Current value: bagging_freq=312\n",
      "[LightGBM] [Warning] min_data_in_leaf is set=37, min_child_samples=20 will be ignored. Current value: min_data_in_leaf=37\n",
      "[LightGBM] [Warning] num_threads is set=0, n_jobs=-1 will be ignored. Current value: num_threads=0\n"
     ]
    },
    {
     "name": "stderr",
     "output_type": "stream",
     "text": [
      "[I 2023-06-11 02:26:07,479] Trial 217 finished with value: 0.6330645161290323 and parameters: {'model_type': 'lgbm', 'num_leaves': 972, 'boosting_type': 'gbdt', 'n_estimators': 453, 'learning_rate': 0.1, 'min_data_in_leaf': 37, 'feature_fraction': 0.4754353132835015, 'bagging_fraction': 0.27759435977676444, 'bagging_freq': 312, 'alpha': 32.67002646731445, 'reg_lambda': 34.36262114850916}. Best is trial 199 with value: 0.6048387096774194.\n"
     ]
    },
    {
     "name": "stdout",
     "output_type": "stream",
     "text": [
      "[LightGBM] [Warning] bagging_fraction is set=0.287694367030943, subsample=1.0 will be ignored. Current value: bagging_fraction=0.287694367030943\n",
      "[LightGBM] [Warning] feature_fraction is set=0.4894428398899779, colsample_bytree=1.0 will be ignored. Current value: feature_fraction=0.4894428398899779\n",
      "[LightGBM] [Warning] bagging_freq is set=356, subsample_freq=0 will be ignored. Current value: bagging_freq=356\n",
      "[LightGBM] [Warning] min_data_in_leaf is set=37, min_child_samples=20 will be ignored. Current value: min_data_in_leaf=37\n",
      "[LightGBM] [Warning] num_threads is set=0, n_jobs=-1 will be ignored. Current value: num_threads=0\n"
     ]
    },
    {
     "name": "stderr",
     "output_type": "stream",
     "text": [
      "[I 2023-06-11 02:26:09,590] Trial 218 finished with value: 0.625 and parameters: {'model_type': 'lgbm', 'num_leaves': 951, 'boosting_type': 'gbdt', 'n_estimators': 425, 'learning_rate': 0.1, 'min_data_in_leaf': 37, 'feature_fraction': 0.4894428398899779, 'bagging_fraction': 0.287694367030943, 'bagging_freq': 356, 'alpha': 32.51185201820746, 'reg_lambda': 35.28531765122899}. Best is trial 199 with value: 0.6048387096774194.\n"
     ]
    },
    {
     "name": "stdout",
     "output_type": "stream",
     "text": [
      "[LightGBM] [Warning] bagging_fraction is set=0.2872079025411168, subsample=1.0 will be ignored. Current value: bagging_fraction=0.2872079025411168\n",
      "[LightGBM] [Warning] feature_fraction is set=0.4890159962599158, colsample_bytree=1.0 will be ignored. Current value: feature_fraction=0.4890159962599158\n",
      "[LightGBM] [Warning] bagging_freq is set=354, subsample_freq=0 will be ignored. Current value: bagging_freq=354\n",
      "[LightGBM] [Warning] min_data_in_leaf is set=37, min_child_samples=20 will be ignored. Current value: min_data_in_leaf=37\n",
      "[LightGBM] [Warning] num_threads is set=0, n_jobs=-1 will be ignored. Current value: num_threads=0\n"
     ]
    },
    {
     "name": "stderr",
     "output_type": "stream",
     "text": [
      "[I 2023-06-11 02:26:11,644] Trial 219 finished with value: 0.6169354838709677 and parameters: {'model_type': 'lgbm', 'num_leaves': 935, 'boosting_type': 'gbdt', 'n_estimators': 410, 'learning_rate': 0.1, 'min_data_in_leaf': 37, 'feature_fraction': 0.4890159962599158, 'bagging_fraction': 0.2872079025411168, 'bagging_freq': 354, 'alpha': 32.56907965910284, 'reg_lambda': 35.23337554520824}. Best is trial 199 with value: 0.6048387096774194.\n"
     ]
    },
    {
     "name": "stdout",
     "output_type": "stream",
     "text": [
      "[LightGBM] [Warning] bagging_fraction is set=0.26382558582032223, subsample=1.0 will be ignored. Current value: bagging_fraction=0.26382558582032223\n",
      "[LightGBM] [Warning] feature_fraction is set=0.4764999198145198, colsample_bytree=1.0 will be ignored. Current value: feature_fraction=0.4764999198145198\n",
      "[LightGBM] [Warning] bagging_freq is set=358, subsample_freq=0 will be ignored. Current value: bagging_freq=358\n",
      "[LightGBM] [Warning] min_data_in_leaf is set=37, min_child_samples=20 will be ignored. Current value: min_data_in_leaf=37\n",
      "[LightGBM] [Warning] num_threads is set=0, n_jobs=-1 will be ignored. Current value: num_threads=0\n"
     ]
    },
    {
     "name": "stderr",
     "output_type": "stream",
     "text": [
      "[I 2023-06-11 02:26:13,648] Trial 220 finished with value: 0.6021505376344086 and parameters: {'model_type': 'lgbm', 'num_leaves': 923, 'boosting_type': 'gbdt', 'n_estimators': 444, 'learning_rate': 0.1, 'min_data_in_leaf': 37, 'feature_fraction': 0.4764999198145198, 'bagging_fraction': 0.26382558582032223, 'bagging_freq': 358, 'alpha': 32.259596949502445, 'reg_lambda': 35.49410833596198}. Best is trial 220 with value: 0.6021505376344086.\n"
     ]
    },
    {
     "name": "stdout",
     "output_type": "stream",
     "text": [
      "[LightGBM] [Warning] bagging_fraction is set=0.26613541340299635, subsample=1.0 will be ignored. Current value: bagging_fraction=0.26613541340299635\n",
      "[LightGBM] [Warning] feature_fraction is set=0.47558290316113633, colsample_bytree=1.0 will be ignored. Current value: feature_fraction=0.47558290316113633\n",
      "[LightGBM] [Warning] bagging_freq is set=358, subsample_freq=0 will be ignored. Current value: bagging_freq=358\n",
      "[LightGBM] [Warning] min_data_in_leaf is set=37, min_child_samples=20 will be ignored. Current value: min_data_in_leaf=37\n",
      "[LightGBM] [Warning] num_threads is set=0, n_jobs=-1 will be ignored. Current value: num_threads=0\n"
     ]
    },
    {
     "name": "stderr",
     "output_type": "stream",
     "text": [
      "[I 2023-06-11 02:26:15,654] Trial 221 finished with value: 0.6075268817204301 and parameters: {'model_type': 'lgbm', 'num_leaves': 924, 'boosting_type': 'gbdt', 'n_estimators': 440, 'learning_rate': 0.1, 'min_data_in_leaf': 37, 'feature_fraction': 0.47558290316113633, 'bagging_fraction': 0.26613541340299635, 'bagging_freq': 358, 'alpha': 32.420166366875705, 'reg_lambda': 35.23964280450507}. Best is trial 220 with value: 0.6021505376344086.\n"
     ]
    },
    {
     "name": "stdout",
     "output_type": "stream",
     "text": [
      "[LightGBM] [Warning] bagging_fraction is set=0.2607098730900891, subsample=1.0 will be ignored. Current value: bagging_fraction=0.2607098730900891\n",
      "[LightGBM] [Warning] feature_fraction is set=0.4746110460956012, colsample_bytree=1.0 will be ignored. Current value: feature_fraction=0.4746110460956012\n",
      "[LightGBM] [Warning] bagging_freq is set=367, subsample_freq=0 will be ignored. Current value: bagging_freq=367\n",
      "[LightGBM] [Warning] min_data_in_leaf is set=37, min_child_samples=20 will be ignored. Current value: min_data_in_leaf=37\n",
      "[LightGBM] [Warning] num_threads is set=0, n_jobs=-1 will be ignored. Current value: num_threads=0\n"
     ]
    },
    {
     "name": "stderr",
     "output_type": "stream",
     "text": [
      "[I 2023-06-11 02:26:17,645] Trial 222 finished with value: 0.6317204301075269 and parameters: {'model_type': 'lgbm', 'num_leaves': 924, 'boosting_type': 'gbdt', 'n_estimators': 442, 'learning_rate': 0.1, 'min_data_in_leaf': 37, 'feature_fraction': 0.4746110460956012, 'bagging_fraction': 0.2607098730900891, 'bagging_freq': 367, 'alpha': 32.19865729053604, 'reg_lambda': 35.65184033050208}. Best is trial 220 with value: 0.6021505376344086.\n"
     ]
    },
    {
     "name": "stdout",
     "output_type": "stream",
     "text": [
      "[LightGBM] [Warning] bagging_fraction is set=0.2897532226479631, subsample=1.0 will be ignored. Current value: bagging_fraction=0.2897532226479631\n",
      "[LightGBM] [Warning] feature_fraction is set=0.46958013571226054, colsample_bytree=1.0 will be ignored. Current value: feature_fraction=0.46958013571226054\n",
      "[LightGBM] [Warning] bagging_freq is set=352, subsample_freq=0 will be ignored. Current value: bagging_freq=352\n",
      "[LightGBM] [Warning] min_data_in_leaf is set=39, min_child_samples=20 will be ignored. Current value: min_data_in_leaf=39\n",
      "[LightGBM] [Warning] num_threads is set=0, n_jobs=-1 will be ignored. Current value: num_threads=0\n"
     ]
    },
    {
     "name": "stderr",
     "output_type": "stream",
     "text": [
      "[I 2023-06-11 02:26:19,719] Trial 223 finished with value: 0.6209677419354839 and parameters: {'model_type': 'lgbm', 'num_leaves': 881, 'boosting_type': 'gbdt', 'n_estimators': 459, 'learning_rate': 0.1, 'min_data_in_leaf': 39, 'feature_fraction': 0.46958013571226054, 'bagging_fraction': 0.2897532226479631, 'bagging_freq': 352, 'alpha': 32.227176278929214, 'reg_lambda': 35.32634213181449}. Best is trial 220 with value: 0.6021505376344086.\n"
     ]
    },
    {
     "name": "stdout",
     "output_type": "stream",
     "text": [
      "[LightGBM] [Warning] bagging_fraction is set=0.29124461111981165, subsample=1.0 will be ignored. Current value: bagging_fraction=0.29124461111981165\n",
      "[LightGBM] [Warning] feature_fraction is set=0.48015800462187475, colsample_bytree=1.0 will be ignored. Current value: feature_fraction=0.48015800462187475\n",
      "[LightGBM] [Warning] bagging_freq is set=304, subsample_freq=0 will be ignored. Current value: bagging_freq=304\n",
      "[LightGBM] [Warning] min_data_in_leaf is set=39, min_child_samples=20 will be ignored. Current value: min_data_in_leaf=39\n",
      "[LightGBM] [Warning] num_threads is set=0, n_jobs=-1 will be ignored. Current value: num_threads=0\n"
     ]
    },
    {
     "name": "stderr",
     "output_type": "stream",
     "text": [
      "[I 2023-06-11 02:26:21,847] Trial 224 finished with value: 0.625 and parameters: {'model_type': 'lgbm', 'num_leaves': 880, 'boosting_type': 'gbdt', 'n_estimators': 468, 'learning_rate': 0.1, 'min_data_in_leaf': 39, 'feature_fraction': 0.48015800462187475, 'bagging_fraction': 0.29124461111981165, 'bagging_freq': 304, 'alpha': 32.00587892429663, 'reg_lambda': 35.60999676892547}. Best is trial 220 with value: 0.6021505376344086.\n"
     ]
    },
    {
     "name": "stdout",
     "output_type": "stream",
     "text": [
      "[LightGBM] [Warning] bagging_fraction is set=0.28936422516020593, subsample=1.0 will be ignored. Current value: bagging_fraction=0.28936422516020593\n",
      "[LightGBM] [Warning] feature_fraction is set=0.46764513341075875, colsample_bytree=1.0 will be ignored. Current value: feature_fraction=0.46764513341075875\n",
      "[LightGBM] [Warning] bagging_freq is set=308, subsample_freq=0 will be ignored. Current value: bagging_freq=308\n",
      "[LightGBM] [Warning] min_data_in_leaf is set=39, min_child_samples=20 will be ignored. Current value: min_data_in_leaf=39\n",
      "[LightGBM] [Warning] num_threads is set=0, n_jobs=-1 will be ignored. Current value: num_threads=0\n"
     ]
    },
    {
     "name": "stderr",
     "output_type": "stream",
     "text": [
      "[I 2023-06-11 02:26:23,965] Trial 225 finished with value: 0.6223118279569892 and parameters: {'model_type': 'lgbm', 'num_leaves': 882, 'boosting_type': 'gbdt', 'n_estimators': 474, 'learning_rate': 0.1, 'min_data_in_leaf': 39, 'feature_fraction': 0.46764513341075875, 'bagging_fraction': 0.28936422516020593, 'bagging_freq': 308, 'alpha': 31.883108137018414, 'reg_lambda': 35.772413529878975}. Best is trial 220 with value: 0.6021505376344086.\n"
     ]
    },
    {
     "name": "stdout",
     "output_type": "stream",
     "text": [
      "[LightGBM] [Warning] bagging_fraction is set=0.2919126809476532, subsample=1.0 will be ignored. Current value: bagging_fraction=0.2919126809476532\n",
      "[LightGBM] [Warning] feature_fraction is set=0.47765050028881084, colsample_bytree=1.0 will be ignored. Current value: feature_fraction=0.47765050028881084\n",
      "[LightGBM] [Warning] bagging_freq is set=304, subsample_freq=0 will be ignored. Current value: bagging_freq=304\n",
      "[LightGBM] [Warning] min_data_in_leaf is set=39, min_child_samples=20 will be ignored. Current value: min_data_in_leaf=39\n",
      "[LightGBM] [Warning] num_threads is set=0, n_jobs=-1 will be ignored. Current value: num_threads=0\n"
     ]
    },
    {
     "name": "stderr",
     "output_type": "stream",
     "text": [
      "[I 2023-06-11 02:26:26,071] Trial 226 finished with value: 0.6236559139784946 and parameters: {'model_type': 'lgbm', 'num_leaves': 884, 'boosting_type': 'gbdt', 'n_estimators': 472, 'learning_rate': 0.1, 'min_data_in_leaf': 39, 'feature_fraction': 0.47765050028881084, 'bagging_fraction': 0.2919126809476532, 'bagging_freq': 304, 'alpha': 31.803742947356252, 'reg_lambda': 35.482536068458366}. Best is trial 220 with value: 0.6021505376344086.\n"
     ]
    },
    {
     "name": "stdout",
     "output_type": "stream",
     "text": [
      "[LightGBM] [Warning] bagging_fraction is set=0.2919995336588173, subsample=1.0 will be ignored. Current value: bagging_fraction=0.2919995336588173\n",
      "[LightGBM] [Warning] feature_fraction is set=0.4784946639854598, colsample_bytree=1.0 will be ignored. Current value: feature_fraction=0.4784946639854598\n",
      "[LightGBM] [Warning] bagging_freq is set=301, subsample_freq=0 will be ignored. Current value: bagging_freq=301\n",
      "[LightGBM] [Warning] min_data_in_leaf is set=39, min_child_samples=20 will be ignored. Current value: min_data_in_leaf=39\n",
      "[LightGBM] [Warning] num_threads is set=0, n_jobs=-1 will be ignored. Current value: num_threads=0\n"
     ]
    },
    {
     "name": "stderr",
     "output_type": "stream",
     "text": [
      "[I 2023-06-11 02:26:28,198] Trial 227 finished with value: 0.6236559139784946 and parameters: {'model_type': 'lgbm', 'num_leaves': 885, 'boosting_type': 'gbdt', 'n_estimators': 465, 'learning_rate': 0.1, 'min_data_in_leaf': 39, 'feature_fraction': 0.4784946639854598, 'bagging_fraction': 0.2919995336588173, 'bagging_freq': 301, 'alpha': 31.78720413861961, 'reg_lambda': 35.80307387339402}. Best is trial 220 with value: 0.6021505376344086.\n"
     ]
    },
    {
     "name": "stdout",
     "output_type": "stream",
     "text": [
      "[LightGBM] [Warning] bagging_fraction is set=0.29313191481303386, subsample=1.0 will be ignored. Current value: bagging_fraction=0.29313191481303386\n",
      "[LightGBM] [Warning] feature_fraction is set=0.4718361527901279, colsample_bytree=1.0 will be ignored. Current value: feature_fraction=0.4718361527901279\n",
      "[LightGBM] [Warning] bagging_freq is set=287, subsample_freq=0 will be ignored. Current value: bagging_freq=287\n",
      "[LightGBM] [Warning] min_data_in_leaf is set=39, min_child_samples=20 will be ignored. Current value: min_data_in_leaf=39\n",
      "[LightGBM] [Warning] num_threads is set=0, n_jobs=-1 will be ignored. Current value: num_threads=0\n"
     ]
    },
    {
     "name": "stderr",
     "output_type": "stream",
     "text": [
      "[I 2023-06-11 02:26:30,314] Trial 228 finished with value: 0.6276881720430108 and parameters: {'model_type': 'lgbm', 'num_leaves': 868, 'boosting_type': 'gbdt', 'n_estimators': 472, 'learning_rate': 0.1, 'min_data_in_leaf': 39, 'feature_fraction': 0.4718361527901279, 'bagging_fraction': 0.29313191481303386, 'bagging_freq': 287, 'alpha': 31.589954573598376, 'reg_lambda': 35.81649530578811}. Best is trial 220 with value: 0.6021505376344086.\n"
     ]
    },
    {
     "name": "stdout",
     "output_type": "stream",
     "text": [
      "[LightGBM] [Warning] bagging_fraction is set=0.2889027469525815, subsample=1.0 will be ignored. Current value: bagging_fraction=0.2889027469525815\n",
      "[LightGBM] [Warning] feature_fraction is set=0.46788455506274584, colsample_bytree=1.0 will be ignored. Current value: feature_fraction=0.46788455506274584\n",
      "[LightGBM] [Warning] bagging_freq is set=370, subsample_freq=0 will be ignored. Current value: bagging_freq=370\n",
      "[LightGBM] [Warning] min_data_in_leaf is set=39, min_child_samples=20 will be ignored. Current value: min_data_in_leaf=39\n",
      "[LightGBM] [Warning] num_threads is set=0, n_jobs=-1 will be ignored. Current value: num_threads=0\n"
     ]
    },
    {
     "name": "stderr",
     "output_type": "stream",
     "text": [
      "[I 2023-06-11 02:26:32,420] Trial 229 finished with value: 0.6236559139784946 and parameters: {'model_type': 'lgbm', 'num_leaves': 876, 'boosting_type': 'gbdt', 'n_estimators': 475, 'learning_rate': 0.1, 'min_data_in_leaf': 39, 'feature_fraction': 0.46788455506274584, 'bagging_fraction': 0.2889027469525815, 'bagging_freq': 370, 'alpha': 31.685995129366358, 'reg_lambda': 35.82600173066959}. Best is trial 220 with value: 0.6021505376344086.\n"
     ]
    },
    {
     "name": "stdout",
     "output_type": "stream",
     "text": [
      "[LightGBM] [Warning] bagging_fraction is set=0.28964351878526184, subsample=1.0 will be ignored. Current value: bagging_fraction=0.28964351878526184\n",
      "[LightGBM] [Warning] feature_fraction is set=0.465210265472635, colsample_bytree=1.0 will be ignored. Current value: feature_fraction=0.465210265472635\n",
      "[LightGBM] [Warning] bagging_freq is set=374, subsample_freq=0 will be ignored. Current value: bagging_freq=374\n",
      "[LightGBM] [Warning] min_data_in_leaf is set=40, min_child_samples=20 will be ignored. Current value: min_data_in_leaf=40\n",
      "[LightGBM] [Warning] num_threads is set=0, n_jobs=-1 will be ignored. Current value: num_threads=0\n"
     ]
    },
    {
     "name": "stderr",
     "output_type": "stream",
     "text": [
      "[I 2023-06-11 02:26:34,555] Trial 230 finished with value: 0.6196236559139785 and parameters: {'model_type': 'lgbm', 'num_leaves': 929, 'boosting_type': 'gbdt', 'n_estimators': 477, 'learning_rate': 0.1, 'min_data_in_leaf': 40, 'feature_fraction': 0.465210265472635, 'bagging_fraction': 0.28964351878526184, 'bagging_freq': 374, 'alpha': 31.356430618075926, 'reg_lambda': 35.84379099029427}. Best is trial 220 with value: 0.6021505376344086.\n"
     ]
    },
    {
     "name": "stdout",
     "output_type": "stream",
     "text": [
      "[LightGBM] [Warning] bagging_fraction is set=0.289403032731135, subsample=1.0 will be ignored. Current value: bagging_fraction=0.289403032731135\n",
      "[LightGBM] [Warning] feature_fraction is set=0.46762679758974285, colsample_bytree=1.0 will be ignored. Current value: feature_fraction=0.46762679758974285\n",
      "[LightGBM] [Warning] bagging_freq is set=379, subsample_freq=0 will be ignored. Current value: bagging_freq=379\n",
      "[LightGBM] [Warning] min_data_in_leaf is set=40, min_child_samples=20 will be ignored. Current value: min_data_in_leaf=40\n",
      "[LightGBM] [Warning] num_threads is set=0, n_jobs=-1 will be ignored. Current value: num_threads=0\n"
     ]
    },
    {
     "name": "stderr",
     "output_type": "stream",
     "text": [
      "[I 2023-06-11 02:26:36,750] Trial 231 finished with value: 0.6317204301075269 and parameters: {'model_type': 'lgbm', 'num_leaves': 929, 'boosting_type': 'gbdt', 'n_estimators': 490, 'learning_rate': 0.1, 'min_data_in_leaf': 40, 'feature_fraction': 0.46762679758974285, 'bagging_fraction': 0.289403032731135, 'bagging_freq': 379, 'alpha': 31.567866877917663, 'reg_lambda': 35.936753252612725}. Best is trial 220 with value: 0.6021505376344086.\n"
     ]
    },
    {
     "name": "stdout",
     "output_type": "stream",
     "text": [
      "[LightGBM] [Warning] bagging_fraction is set=0.2891493950504029, subsample=1.0 will be ignored. Current value: bagging_fraction=0.2891493950504029\n",
      "[LightGBM] [Warning] feature_fraction is set=0.4640427475978618, colsample_bytree=1.0 will be ignored. Current value: feature_fraction=0.4640427475978618\n",
      "[LightGBM] [Warning] bagging_freq is set=353, subsample_freq=0 will be ignored. Current value: bagging_freq=353\n",
      "[LightGBM] [Warning] min_data_in_leaf is set=39, min_child_samples=20 will be ignored. Current value: min_data_in_leaf=39\n",
      "[LightGBM] [Warning] num_threads is set=0, n_jobs=-1 will be ignored. Current value: num_threads=0\n"
     ]
    },
    {
     "name": "stderr",
     "output_type": "stream",
     "text": [
      "[I 2023-06-11 02:26:38,954] Trial 232 finished with value: 0.6276881720430108 and parameters: {'model_type': 'lgbm', 'num_leaves': 992, 'boosting_type': 'gbdt', 'n_estimators': 475, 'learning_rate': 0.1, 'min_data_in_leaf': 39, 'feature_fraction': 0.4640427475978618, 'bagging_fraction': 0.2891493950504029, 'bagging_freq': 353, 'alpha': 31.763488608743316, 'reg_lambda': 35.902248303689746}. Best is trial 220 with value: 0.6021505376344086.\n"
     ]
    },
    {
     "name": "stdout",
     "output_type": "stream",
     "text": [
      "[LightGBM] [Warning] bagging_fraction is set=0.267155353372209, subsample=1.0 will be ignored. Current value: bagging_fraction=0.267155353372209\n",
      "[LightGBM] [Warning] feature_fraction is set=0.4807022438811754, colsample_bytree=1.0 will be ignored. Current value: feature_fraction=0.4807022438811754\n",
      "[LightGBM] [Warning] bagging_freq is set=369, subsample_freq=0 will be ignored. Current value: bagging_freq=369\n",
      "[LightGBM] [Warning] min_data_in_leaf is set=36, min_child_samples=20 will be ignored. Current value: min_data_in_leaf=36\n",
      "[LightGBM] [Warning] num_threads is set=0, n_jobs=-1 will be ignored. Current value: num_threads=0\n"
     ]
    },
    {
     "name": "stderr",
     "output_type": "stream",
     "text": [
      "[I 2023-06-11 02:26:41,000] Trial 233 finished with value: 0.6209677419354839 and parameters: {'model_type': 'lgbm', 'num_leaves': 887, 'boosting_type': 'gbdt', 'n_estimators': 456, 'learning_rate': 0.1, 'min_data_in_leaf': 36, 'feature_fraction': 0.4807022438811754, 'bagging_fraction': 0.267155353372209, 'bagging_freq': 369, 'alpha': 31.82870925981083, 'reg_lambda': 35.60069317323718}. Best is trial 220 with value: 0.6021505376344086.\n"
     ]
    },
    {
     "name": "stdout",
     "output_type": "stream",
     "text": [
      "[LightGBM] [Warning] bagging_fraction is set=0.26683536887068826, subsample=1.0 will be ignored. Current value: bagging_fraction=0.26683536887068826\n",
      "[LightGBM] [Warning] feature_fraction is set=0.47995207158688463, colsample_bytree=1.0 will be ignored. Current value: feature_fraction=0.47995207158688463\n",
      "[LightGBM] [Warning] bagging_freq is set=369, subsample_freq=0 will be ignored. Current value: bagging_freq=369\n",
      "[LightGBM] [Warning] min_data_in_leaf is set=40, min_child_samples=20 will be ignored. Current value: min_data_in_leaf=40\n",
      "[LightGBM] [Warning] num_threads is set=0, n_jobs=-1 will be ignored. Current value: num_threads=0\n"
     ]
    },
    {
     "name": "stderr",
     "output_type": "stream",
     "text": [
      "[I 2023-06-11 02:26:43,009] Trial 234 finished with value: 0.6169354838709677 and parameters: {'model_type': 'lgbm', 'num_leaves': 885, 'boosting_type': 'gbdt', 'n_estimators': 458, 'learning_rate': 0.1, 'min_data_in_leaf': 40, 'feature_fraction': 0.47995207158688463, 'bagging_fraction': 0.26683536887068826, 'bagging_freq': 369, 'alpha': 31.59777498564861, 'reg_lambda': 36.068307320472684}. Best is trial 220 with value: 0.6021505376344086.\n"
     ]
    },
    {
     "name": "stdout",
     "output_type": "stream",
     "text": [
      "[LightGBM] [Warning] bagging_fraction is set=0.2652441509191605, subsample=1.0 will be ignored. Current value: bagging_fraction=0.2652441509191605\n",
      "[LightGBM] [Warning] feature_fraction is set=0.482085463280588, colsample_bytree=1.0 will be ignored. Current value: feature_fraction=0.482085463280588\n",
      "[LightGBM] [Warning] bagging_freq is set=378, subsample_freq=0 will be ignored. Current value: bagging_freq=378\n",
      "[LightGBM] [Warning] min_data_in_leaf is set=40, min_child_samples=20 will be ignored. Current value: min_data_in_leaf=40\n",
      "[LightGBM] [Warning] num_threads is set=0, n_jobs=-1 will be ignored. Current value: num_threads=0\n"
     ]
    },
    {
     "name": "stderr",
     "output_type": "stream",
     "text": [
      "[I 2023-06-11 02:26:45,022] Trial 235 finished with value: 0.6196236559139785 and parameters: {'model_type': 'lgbm', 'num_leaves': 881, 'boosting_type': 'gbdt', 'n_estimators': 456, 'learning_rate': 0.1, 'min_data_in_leaf': 40, 'feature_fraction': 0.482085463280588, 'bagging_fraction': 0.2652441509191605, 'bagging_freq': 378, 'alpha': 31.626046467764485, 'reg_lambda': 36.08132397417564}. Best is trial 220 with value: 0.6021505376344086.\n"
     ]
    },
    {
     "name": "stdout",
     "output_type": "stream",
     "text": [
      "[LightGBM] [Warning] bagging_fraction is set=0.2657957512867317, subsample=1.0 will be ignored. Current value: bagging_fraction=0.2657957512867317\n",
      "[LightGBM] [Warning] feature_fraction is set=0.48184876367303026, colsample_bytree=1.0 will be ignored. Current value: feature_fraction=0.48184876367303026\n",
      "[LightGBM] [Warning] bagging_freq is set=382, subsample_freq=0 will be ignored. Current value: bagging_freq=382\n",
      "[LightGBM] [Warning] min_data_in_leaf is set=40, min_child_samples=20 will be ignored. Current value: min_data_in_leaf=40\n",
      "[LightGBM] [Warning] num_threads is set=0, n_jobs=-1 will be ignored. Current value: num_threads=0\n"
     ]
    },
    {
     "name": "stderr",
     "output_type": "stream",
     "text": [
      "[I 2023-06-11 02:26:46,983] Trial 236 finished with value: 0.6129032258064516 and parameters: {'model_type': 'lgbm', 'num_leaves': 887, 'boosting_type': 'gbdt', 'n_estimators': 453, 'learning_rate': 0.1, 'min_data_in_leaf': 40, 'feature_fraction': 0.48184876367303026, 'bagging_fraction': 0.2657957512867317, 'bagging_freq': 382, 'alpha': 31.803628011981292, 'reg_lambda': 36.10745508472404}. Best is trial 220 with value: 0.6021505376344086.\n"
     ]
    },
    {
     "name": "stdout",
     "output_type": "stream",
     "text": [
      "[LightGBM] [Warning] bagging_fraction is set=0.2648269879226667, subsample=1.0 will be ignored. Current value: bagging_fraction=0.2648269879226667\n",
      "[LightGBM] [Warning] feature_fraction is set=0.48290550851790753, colsample_bytree=1.0 will be ignored. Current value: feature_fraction=0.48290550851790753\n",
      "[LightGBM] [Warning] bagging_freq is set=381, subsample_freq=0 will be ignored. Current value: bagging_freq=381\n",
      "[LightGBM] [Warning] min_data_in_leaf is set=40, min_child_samples=20 will be ignored. Current value: min_data_in_leaf=40\n",
      "[LightGBM] [Warning] num_threads is set=0, n_jobs=-1 will be ignored. Current value: num_threads=0\n"
     ]
    },
    {
     "name": "stderr",
     "output_type": "stream",
     "text": [
      "[I 2023-06-11 02:26:48,962] Trial 237 finished with value: 0.6115591397849462 and parameters: {'model_type': 'lgbm', 'num_leaves': 896, 'boosting_type': 'gbdt', 'n_estimators': 453, 'learning_rate': 0.1, 'min_data_in_leaf': 40, 'feature_fraction': 0.48290550851790753, 'bagging_fraction': 0.2648269879226667, 'bagging_freq': 381, 'alpha': 31.760070155636356, 'reg_lambda': 36.6862590891081}. Best is trial 220 with value: 0.6021505376344086.\n"
     ]
    },
    {
     "name": "stdout",
     "output_type": "stream",
     "text": [
      "[LightGBM] [Warning] bagging_fraction is set=0.2609832137914896, subsample=1.0 will be ignored. Current value: bagging_fraction=0.2609832137914896\n",
      "[LightGBM] [Warning] feature_fraction is set=0.48346970456798777, colsample_bytree=1.0 will be ignored. Current value: feature_fraction=0.48346970456798777\n",
      "[LightGBM] [Warning] bagging_freq is set=398, subsample_freq=0 will be ignored. Current value: bagging_freq=398\n",
      "[LightGBM] [Warning] min_data_in_leaf is set=40, min_child_samples=20 will be ignored. Current value: min_data_in_leaf=40\n",
      "[LightGBM] [Warning] num_threads is set=0, n_jobs=-1 will be ignored. Current value: num_threads=0\n"
     ]
    },
    {
     "name": "stderr",
     "output_type": "stream",
     "text": [
      "[I 2023-06-11 02:26:50,930] Trial 238 finished with value: 0.6209677419354839 and parameters: {'model_type': 'lgbm', 'num_leaves': 927, 'boosting_type': 'gbdt', 'n_estimators': 450, 'learning_rate': 0.1, 'min_data_in_leaf': 40, 'feature_fraction': 0.48346970456798777, 'bagging_fraction': 0.2609832137914896, 'bagging_freq': 398, 'alpha': 33.83367452667019, 'reg_lambda': 36.65632849321706}. Best is trial 220 with value: 0.6021505376344086.\n"
     ]
    },
    {
     "name": "stdout",
     "output_type": "stream",
     "text": [
      "[LightGBM] [Warning] bagging_fraction is set=0.26261385518054775, subsample=1.0 will be ignored. Current value: bagging_fraction=0.26261385518054775\n",
      "[LightGBM] [Warning] feature_fraction is set=0.48291219533911783, colsample_bytree=1.0 will be ignored. Current value: feature_fraction=0.48291219533911783\n",
      "[LightGBM] [Warning] bagging_freq is set=394, subsample_freq=0 will be ignored. Current value: bagging_freq=394\n",
      "[LightGBM] [Warning] min_data_in_leaf is set=40, min_child_samples=20 will be ignored. Current value: min_data_in_leaf=40\n",
      "[LightGBM] [Warning] num_threads is set=0, n_jobs=-1 will be ignored. Current value: num_threads=0\n"
     ]
    },
    {
     "name": "stderr",
     "output_type": "stream",
     "text": [
      "[I 2023-06-11 02:26:52,945] Trial 239 finished with value: 0.6196236559139785 and parameters: {'model_type': 'lgbm', 'num_leaves': 923, 'boosting_type': 'gbdt', 'n_estimators': 452, 'learning_rate': 0.1, 'min_data_in_leaf': 40, 'feature_fraction': 0.48291219533911783, 'bagging_fraction': 0.26261385518054775, 'bagging_freq': 394, 'alpha': 33.667241167683514, 'reg_lambda': 36.70100139309925}. Best is trial 220 with value: 0.6021505376344086.\n"
     ]
    },
    {
     "name": "stdout",
     "output_type": "stream",
     "text": [
      "[LightGBM] [Warning] bagging_fraction is set=0.26273994687558655, subsample=1.0 will be ignored. Current value: bagging_fraction=0.26273994687558655\n",
      "[LightGBM] [Warning] feature_fraction is set=0.48305183110494876, colsample_bytree=1.0 will be ignored. Current value: feature_fraction=0.48305183110494876\n",
      "[LightGBM] [Warning] bagging_freq is set=398, subsample_freq=0 will be ignored. Current value: bagging_freq=398\n",
      "[LightGBM] [Warning] min_data_in_leaf is set=40, min_child_samples=20 will be ignored. Current value: min_data_in_leaf=40\n",
      "[LightGBM] [Warning] num_threads is set=0, n_jobs=-1 will be ignored. Current value: num_threads=0\n"
     ]
    },
    {
     "name": "stderr",
     "output_type": "stream",
     "text": [
      "[I 2023-06-11 02:26:54,955] Trial 240 finished with value: 0.6155913978494624 and parameters: {'model_type': 'lgbm', 'num_leaves': 936, 'boosting_type': 'gbdt', 'n_estimators': 450, 'learning_rate': 0.1, 'min_data_in_leaf': 40, 'feature_fraction': 0.48305183110494876, 'bagging_fraction': 0.26273994687558655, 'bagging_freq': 398, 'alpha': 33.64558258168751, 'reg_lambda': 36.693208559445964}. Best is trial 220 with value: 0.6021505376344086.\n"
     ]
    },
    {
     "name": "stdout",
     "output_type": "stream",
     "text": [
      "[LightGBM] [Warning] bagging_fraction is set=0.2635878242612665, subsample=1.0 will be ignored. Current value: bagging_fraction=0.2635878242612665\n",
      "[LightGBM] [Warning] feature_fraction is set=0.48367847116256263, colsample_bytree=1.0 will be ignored. Current value: feature_fraction=0.48367847116256263\n",
      "[LightGBM] [Warning] bagging_freq is set=392, subsample_freq=0 will be ignored. Current value: bagging_freq=392\n",
      "[LightGBM] [Warning] min_data_in_leaf is set=40, min_child_samples=20 will be ignored. Current value: min_data_in_leaf=40\n",
      "[LightGBM] [Warning] num_threads is set=0, n_jobs=-1 will be ignored. Current value: num_threads=0\n"
     ]
    },
    {
     "name": "stderr",
     "output_type": "stream",
     "text": [
      "[I 2023-06-11 02:26:56,918] Trial 241 finished with value: 0.6155913978494624 and parameters: {'model_type': 'lgbm', 'num_leaves': 895, 'boosting_type': 'gbdt', 'n_estimators': 449, 'learning_rate': 0.1, 'min_data_in_leaf': 40, 'feature_fraction': 0.48367847116256263, 'bagging_fraction': 0.2635878242612665, 'bagging_freq': 392, 'alpha': 33.488226966401314, 'reg_lambda': 36.78914304621288}. Best is trial 220 with value: 0.6021505376344086.\n"
     ]
    },
    {
     "name": "stdout",
     "output_type": "stream",
     "text": [
      "[LightGBM] [Warning] bagging_fraction is set=0.26192439489100783, subsample=1.0 will be ignored. Current value: bagging_fraction=0.26192439489100783\n",
      "[LightGBM] [Warning] feature_fraction is set=0.48143235109149946, colsample_bytree=1.0 will be ignored. Current value: feature_fraction=0.48143235109149946\n",
      "[LightGBM] [Warning] bagging_freq is set=407, subsample_freq=0 will be ignored. Current value: bagging_freq=407\n",
      "[LightGBM] [Warning] min_data_in_leaf is set=40, min_child_samples=20 will be ignored. Current value: min_data_in_leaf=40\n",
      "[LightGBM] [Warning] num_threads is set=0, n_jobs=-1 will be ignored. Current value: num_threads=0\n"
     ]
    },
    {
     "name": "stderr",
     "output_type": "stream",
     "text": [
      "[I 2023-06-11 02:26:58,907] Trial 242 finished with value: 0.6155913978494624 and parameters: {'model_type': 'lgbm', 'num_leaves': 938, 'boosting_type': 'gbdt', 'n_estimators': 453, 'learning_rate': 0.1, 'min_data_in_leaf': 40, 'feature_fraction': 0.48143235109149946, 'bagging_fraction': 0.26192439489100783, 'bagging_freq': 407, 'alpha': 33.88237420522033, 'reg_lambda': 36.69059845429811}. Best is trial 220 with value: 0.6021505376344086.\n"
     ]
    },
    {
     "name": "stdout",
     "output_type": "stream",
     "text": [
      "[LightGBM] [Warning] bagging_fraction is set=0.2619368764059292, subsample=1.0 will be ignored. Current value: bagging_fraction=0.2619368764059292\n",
      "[LightGBM] [Warning] feature_fraction is set=0.48317825976618584, colsample_bytree=1.0 will be ignored. Current value: feature_fraction=0.48317825976618584\n",
      "[LightGBM] [Warning] bagging_freq is set=409, subsample_freq=0 will be ignored. Current value: bagging_freq=409\n",
      "[LightGBM] [Warning] min_data_in_leaf is set=40, min_child_samples=20 will be ignored. Current value: min_data_in_leaf=40\n",
      "[LightGBM] [Warning] num_threads is set=0, n_jobs=-1 will be ignored. Current value: num_threads=0\n"
     ]
    },
    {
     "name": "stderr",
     "output_type": "stream",
     "text": [
      "[I 2023-06-11 02:27:00,910] Trial 243 finished with value: 0.625 and parameters: {'model_type': 'lgbm', 'num_leaves': 934, 'boosting_type': 'gbdt', 'n_estimators': 452, 'learning_rate': 0.1, 'min_data_in_leaf': 40, 'feature_fraction': 0.48317825976618584, 'bagging_fraction': 0.2619368764059292, 'bagging_freq': 409, 'alpha': 33.94908860689303, 'reg_lambda': 36.88416813585494}. Best is trial 220 with value: 0.6021505376344086.\n"
     ]
    },
    {
     "name": "stdout",
     "output_type": "stream",
     "text": [
      "[LightGBM] [Warning] bagging_fraction is set=0.2656183665921474, subsample=1.0 will be ignored. Current value: bagging_fraction=0.2656183665921474\n",
      "[LightGBM] [Warning] feature_fraction is set=0.4819120642759821, colsample_bytree=1.0 will be ignored. Current value: feature_fraction=0.4819120642759821\n",
      "[LightGBM] [Warning] bagging_freq is set=394, subsample_freq=0 will be ignored. Current value: bagging_freq=394\n",
      "[LightGBM] [Warning] min_data_in_leaf is set=40, min_child_samples=20 will be ignored. Current value: min_data_in_leaf=40\n",
      "[LightGBM] [Warning] num_threads is set=0, n_jobs=-1 will be ignored. Current value: num_threads=0\n"
     ]
    },
    {
     "name": "stderr",
     "output_type": "stream",
     "text": [
      "[I 2023-06-11 02:27:02,938] Trial 244 finished with value: 0.6169354838709677 and parameters: {'model_type': 'lgbm', 'num_leaves': 980, 'boosting_type': 'gbdt', 'n_estimators': 444, 'learning_rate': 0.1, 'min_data_in_leaf': 40, 'feature_fraction': 0.4819120642759821, 'bagging_fraction': 0.2656183665921474, 'bagging_freq': 394, 'alpha': 33.93838776618693, 'reg_lambda': 36.974069390634206}. Best is trial 220 with value: 0.6021505376344086.\n"
     ]
    },
    {
     "name": "stdout",
     "output_type": "stream",
     "text": [
      "[LightGBM] [Warning] bagging_fraction is set=0.26687197755712916, subsample=1.0 will be ignored. Current value: bagging_fraction=0.26687197755712916\n",
      "[LightGBM] [Warning] feature_fraction is set=0.48110808998733057, colsample_bytree=1.0 will be ignored. Current value: feature_fraction=0.48110808998733057\n",
      "[LightGBM] [Warning] bagging_freq is set=439, subsample_freq=0 will be ignored. Current value: bagging_freq=439\n",
      "[LightGBM] [Warning] min_data_in_leaf is set=40, min_child_samples=20 will be ignored. Current value: min_data_in_leaf=40\n",
      "[LightGBM] [Warning] num_threads is set=0, n_jobs=-1 will be ignored. Current value: num_threads=0\n"
     ]
    },
    {
     "name": "stderr",
     "output_type": "stream",
     "text": [
      "[I 2023-06-11 02:27:04,970] Trial 245 finished with value: 0.6384408602150538 and parameters: {'model_type': 'lgbm', 'num_leaves': 984, 'boosting_type': 'gbdt', 'n_estimators': 440, 'learning_rate': 0.1, 'min_data_in_leaf': 40, 'feature_fraction': 0.48110808998733057, 'bagging_fraction': 0.26687197755712916, 'bagging_freq': 439, 'alpha': 33.96684768814312, 'reg_lambda': 36.72786153866809}. Best is trial 220 with value: 0.6021505376344086.\n"
     ]
    },
    {
     "name": "stdout",
     "output_type": "stream",
     "text": [
      "[LightGBM] [Warning] bagging_fraction is set=0.25269477677148733, subsample=1.0 will be ignored. Current value: bagging_fraction=0.25269477677148733\n",
      "[LightGBM] [Warning] feature_fraction is set=0.46065352165138096, colsample_bytree=1.0 will be ignored. Current value: feature_fraction=0.46065352165138096\n",
      "[LightGBM] [Warning] bagging_freq is set=387, subsample_freq=0 will be ignored. Current value: bagging_freq=387\n",
      "[LightGBM] [Warning] min_data_in_leaf is set=40, min_child_samples=20 will be ignored. Current value: min_data_in_leaf=40\n",
      "[LightGBM] [Warning] num_threads is set=0, n_jobs=-1 will be ignored. Current value: num_threads=0\n"
     ]
    },
    {
     "name": "stderr",
     "output_type": "stream",
     "text": [
      "[I 2023-06-11 02:27:06,853] Trial 246 finished with value: 0.6263440860215054 and parameters: {'model_type': 'lgbm', 'num_leaves': 894, 'boosting_type': 'gbdt', 'n_estimators': 455, 'learning_rate': 0.1, 'min_data_in_leaf': 40, 'feature_fraction': 0.46065352165138096, 'bagging_fraction': 0.25269477677148733, 'bagging_freq': 387, 'alpha': 33.37998826559732, 'reg_lambda': 36.64304625311962}. Best is trial 220 with value: 0.6021505376344086.\n"
     ]
    },
    {
     "name": "stdout",
     "output_type": "stream",
     "text": [
      "[LightGBM] [Warning] bagging_fraction is set=0.25276904913184717, subsample=1.0 will be ignored. Current value: bagging_fraction=0.25276904913184717\n",
      "[LightGBM] [Warning] feature_fraction is set=0.4732704384816536, colsample_bytree=1.0 will be ignored. Current value: feature_fraction=0.4732704384816536\n",
      "[LightGBM] [Warning] bagging_freq is set=403, subsample_freq=0 will be ignored. Current value: bagging_freq=403\n",
      "[LightGBM] [Warning] min_data_in_leaf is set=36, min_child_samples=20 will be ignored. Current value: min_data_in_leaf=36\n",
      "[LightGBM] [Warning] num_threads is set=0, n_jobs=-1 will be ignored. Current value: num_threads=0\n"
     ]
    },
    {
     "name": "stderr",
     "output_type": "stream",
     "text": [
      "[I 2023-06-11 02:27:08,403] Trial 247 finished with value: 0.6129032258064516 and parameters: {'model_type': 'lgbm', 'num_leaves': 390, 'boosting_type': 'gbdt', 'n_estimators': 438, 'learning_rate': 0.1, 'min_data_in_leaf': 36, 'feature_fraction': 0.4732704384816536, 'bagging_fraction': 0.25276904913184717, 'bagging_freq': 403, 'alpha': 33.66346771425408, 'reg_lambda': 36.90035388591725}. Best is trial 220 with value: 0.6021505376344086.\n"
     ]
    },
    {
     "name": "stdout",
     "output_type": "stream",
     "text": [
      "[LightGBM] [Warning] bagging_fraction is set=0.2530870883897184, subsample=1.0 will be ignored. Current value: bagging_fraction=0.2530870883897184\n",
      "[LightGBM] [Warning] feature_fraction is set=0.4727278461339313, colsample_bytree=1.0 will be ignored. Current value: feature_fraction=0.4727278461339313\n",
      "[LightGBM] [Warning] bagging_freq is set=402, subsample_freq=0 will be ignored. Current value: bagging_freq=402\n",
      "[LightGBM] [Warning] min_data_in_leaf is set=40, min_child_samples=20 will be ignored. Current value: min_data_in_leaf=40\n",
      "[LightGBM] [Warning] num_threads is set=0, n_jobs=-1 will be ignored. Current value: num_threads=0\n"
     ]
    },
    {
     "name": "stderr",
     "output_type": "stream",
     "text": [
      "[I 2023-06-11 02:27:09,897] Trial 248 finished with value: 0.6129032258064516 and parameters: {'model_type': 'lgbm', 'num_leaves': 426, 'boosting_type': 'gbdt', 'n_estimators': 439, 'learning_rate': 0.1, 'min_data_in_leaf': 40, 'feature_fraction': 0.4727278461339313, 'bagging_fraction': 0.2530870883897184, 'bagging_freq': 402, 'alpha': 33.840734321723325, 'reg_lambda': 37.40450127989188}. Best is trial 220 with value: 0.6021505376344086.\n"
     ]
    },
    {
     "name": "stdout",
     "output_type": "stream",
     "text": [
      "[LightGBM] [Warning] bagging_fraction is set=0.25266974314524876, subsample=1.0 will be ignored. Current value: bagging_fraction=0.25266974314524876\n",
      "[LightGBM] [Warning] feature_fraction is set=0.4600517415559846, colsample_bytree=1.0 will be ignored. Current value: feature_fraction=0.4600517415559846\n",
      "[LightGBM] [Warning] bagging_freq is set=406, subsample_freq=0 will be ignored. Current value: bagging_freq=406\n",
      "[LightGBM] [Warning] min_data_in_leaf is set=40, min_child_samples=20 will be ignored. Current value: min_data_in_leaf=40\n",
      "[LightGBM] [Warning] num_threads is set=0, n_jobs=-1 will be ignored. Current value: num_threads=0\n"
     ]
    },
    {
     "name": "stderr",
     "output_type": "stream",
     "text": [
      "[I 2023-06-11 02:27:11,816] Trial 249 finished with value: 0.6303763440860215 and parameters: {'model_type': 'lgbm', 'num_leaves': 939, 'boosting_type': 'gbdt', 'n_estimators': 441, 'learning_rate': 0.1, 'min_data_in_leaf': 40, 'feature_fraction': 0.4600517415559846, 'bagging_fraction': 0.25266974314524876, 'bagging_freq': 406, 'alpha': 33.798129554651574, 'reg_lambda': 37.31803427285925}. Best is trial 220 with value: 0.6021505376344086.\n"
     ]
    },
    {
     "name": "stdout",
     "output_type": "stream",
     "text": [
      "[LightGBM] [Warning] bagging_fraction is set=0.2435712705841045, subsample=1.0 will be ignored. Current value: bagging_fraction=0.2435712705841045\n",
      "[LightGBM] [Warning] feature_fraction is set=0.47345654905020124, colsample_bytree=1.0 will be ignored. Current value: feature_fraction=0.47345654905020124\n",
      "[LightGBM] [Warning] bagging_freq is set=392, subsample_freq=0 will be ignored. Current value: bagging_freq=392\n",
      "[LightGBM] [Warning] min_data_in_leaf is set=40, min_child_samples=20 will be ignored. Current value: min_data_in_leaf=40\n",
      "[LightGBM] [Warning] num_threads is set=0, n_jobs=-1 will be ignored. Current value: num_threads=0\n"
     ]
    },
    {
     "name": "stderr",
     "output_type": "stream",
     "text": [
      "[I 2023-06-11 02:27:13,267] Trial 250 finished with value: 0.6196236559139785 and parameters: {'model_type': 'lgbm', 'num_leaves': 391, 'boosting_type': 'gbdt', 'n_estimators': 436, 'learning_rate': 0.1, 'min_data_in_leaf': 40, 'feature_fraction': 0.47345654905020124, 'bagging_fraction': 0.2435712705841045, 'bagging_freq': 392, 'alpha': 33.57190421948487, 'reg_lambda': 37.28160188740687}. Best is trial 220 with value: 0.6021505376344086.\n"
     ]
    },
    {
     "name": "stdout",
     "output_type": "stream",
     "text": [
      "[LightGBM] [Warning] bagging_fraction is set=0.25115503888872087, subsample=1.0 will be ignored. Current value: bagging_fraction=0.25115503888872087\n",
      "[LightGBM] [Warning] feature_fraction is set=0.4729961106953581, colsample_bytree=1.0 will be ignored. Current value: feature_fraction=0.4729961106953581\n",
      "[LightGBM] [Warning] bagging_freq is set=389, subsample_freq=0 will be ignored. Current value: bagging_freq=389\n",
      "[LightGBM] [Warning] min_data_in_leaf is set=40, min_child_samples=20 will be ignored. Current value: min_data_in_leaf=40\n",
      "[LightGBM] [Warning] num_threads is set=0, n_jobs=-1 will be ignored. Current value: num_threads=0\n"
     ]
    },
    {
     "name": "stderr",
     "output_type": "stream",
     "text": [
      "[I 2023-06-11 02:27:14,728] Trial 251 finished with value: 0.6196236559139785 and parameters: {'model_type': 'lgbm', 'num_leaves': 384, 'boosting_type': 'gbdt', 'n_estimators': 439, 'learning_rate': 0.1, 'min_data_in_leaf': 40, 'feature_fraction': 0.4729961106953581, 'bagging_fraction': 0.25115503888872087, 'bagging_freq': 389, 'alpha': 33.672063429692884, 'reg_lambda': 37.73371170354484}. Best is trial 220 with value: 0.6021505376344086.\n"
     ]
    },
    {
     "name": "stdout",
     "output_type": "stream",
     "text": [
      "[LightGBM] [Warning] bagging_fraction is set=0.24406734157288873, subsample=1.0 will be ignored. Current value: bagging_fraction=0.24406734157288873\n",
      "[LightGBM] [Warning] feature_fraction is set=0.4758545156918211, colsample_bytree=1.0 will be ignored. Current value: feature_fraction=0.4758545156918211\n",
      "[LightGBM] [Warning] bagging_freq is set=389, subsample_freq=0 will be ignored. Current value: bagging_freq=389\n",
      "[LightGBM] [Warning] min_data_in_leaf is set=40, min_child_samples=20 will be ignored. Current value: min_data_in_leaf=40\n",
      "[LightGBM] [Warning] num_threads is set=0, n_jobs=-1 will be ignored. Current value: num_threads=0\n"
     ]
    },
    {
     "name": "stderr",
     "output_type": "stream",
     "text": [
      "[I 2023-06-11 02:27:16,098] Trial 252 finished with value: 0.6263440860215054 and parameters: {'model_type': 'lgbm', 'num_leaves': 312, 'boosting_type': 'gbdt', 'n_estimators': 437, 'learning_rate': 0.1, 'min_data_in_leaf': 40, 'feature_fraction': 0.4758545156918211, 'bagging_fraction': 0.24406734157288873, 'bagging_freq': 389, 'alpha': 33.64350464882476, 'reg_lambda': 37.56977112896955}. Best is trial 220 with value: 0.6021505376344086.\n"
     ]
    },
    {
     "name": "stdout",
     "output_type": "stream",
     "text": [
      "[LightGBM] [Warning] bagging_fraction is set=0.253507275012388, subsample=1.0 will be ignored. Current value: bagging_fraction=0.253507275012388\n",
      "[LightGBM] [Warning] feature_fraction is set=0.47299857559712943, colsample_bytree=1.0 will be ignored. Current value: feature_fraction=0.47299857559712943\n",
      "[LightGBM] [Warning] bagging_freq is set=412, subsample_freq=0 will be ignored. Current value: bagging_freq=412\n",
      "[LightGBM] [Warning] min_data_in_leaf is set=40, min_child_samples=20 will be ignored. Current value: min_data_in_leaf=40\n",
      "[LightGBM] [Warning] num_threads is set=0, n_jobs=-1 will be ignored. Current value: num_threads=0\n"
     ]
    },
    {
     "name": "stderr",
     "output_type": "stream",
     "text": [
      "[I 2023-06-11 02:27:17,617] Trial 253 finished with value: 0.625 and parameters: {'model_type': 'lgbm', 'num_leaves': 429, 'boosting_type': 'gbdt', 'n_estimators': 445, 'learning_rate': 0.1, 'min_data_in_leaf': 40, 'feature_fraction': 0.47299857559712943, 'bagging_fraction': 0.253507275012388, 'bagging_freq': 412, 'alpha': 34.227979369614985, 'reg_lambda': 37.621417431556054}. Best is trial 220 with value: 0.6021505376344086.\n"
     ]
    },
    {
     "name": "stdout",
     "output_type": "stream",
     "text": [
      "[LightGBM] [Warning] bagging_fraction is set=0.2606251646394099, subsample=1.0 will be ignored. Current value: bagging_fraction=0.2606251646394099\n",
      "[LightGBM] [Warning] feature_fraction is set=0.4852706542969008, colsample_bytree=1.0 will be ignored. Current value: feature_fraction=0.4852706542969008\n",
      "[LightGBM] [Warning] bagging_freq is set=381, subsample_freq=0 will be ignored. Current value: bagging_freq=381\n",
      "[LightGBM] [Warning] min_data_in_leaf is set=40, min_child_samples=20 will be ignored. Current value: min_data_in_leaf=40\n",
      "[LightGBM] [Warning] num_threads is set=0, n_jobs=-1 will be ignored. Current value: num_threads=0\n"
     ]
    },
    {
     "name": "stderr",
     "output_type": "stream",
     "text": [
      "[I 2023-06-11 02:27:19,182] Trial 254 finished with value: 0.6182795698924731 and parameters: {'model_type': 'lgbm', 'num_leaves': 423, 'boosting_type': 'gbdt', 'n_estimators': 434, 'learning_rate': 0.1, 'min_data_in_leaf': 40, 'feature_fraction': 0.4852706542969008, 'bagging_fraction': 0.2606251646394099, 'bagging_freq': 381, 'alpha': 34.46736735862234, 'reg_lambda': 36.491914002865535}. Best is trial 220 with value: 0.6021505376344086.\n"
     ]
    },
    {
     "name": "stdout",
     "output_type": "stream",
     "text": [
      "[LightGBM] [Warning] bagging_fraction is set=0.26552323397629185, subsample=1.0 will be ignored. Current value: bagging_fraction=0.26552323397629185\n",
      "[LightGBM] [Warning] feature_fraction is set=0.48483025156381226, colsample_bytree=1.0 will be ignored. Current value: feature_fraction=0.48483025156381226\n",
      "[LightGBM] [Warning] bagging_freq is set=381, subsample_freq=0 will be ignored. Current value: bagging_freq=381\n",
      "[LightGBM] [Warning] min_data_in_leaf is set=40, min_child_samples=20 will be ignored. Current value: min_data_in_leaf=40\n",
      "[LightGBM] [Warning] num_threads is set=0, n_jobs=-1 will be ignored. Current value: num_threads=0\n"
     ]
    },
    {
     "name": "stderr",
     "output_type": "stream",
     "text": [
      "[I 2023-06-11 02:27:20,737] Trial 255 finished with value: 0.6155913978494624 and parameters: {'model_type': 'lgbm', 'num_leaves': 415, 'boosting_type': 'gbdt', 'n_estimators': 430, 'learning_rate': 0.1, 'min_data_in_leaf': 40, 'feature_fraction': 0.48483025156381226, 'bagging_fraction': 0.26552323397629185, 'bagging_freq': 381, 'alpha': 34.66581764543774, 'reg_lambda': 36.587638011444994}. Best is trial 220 with value: 0.6021505376344086.\n"
     ]
    },
    {
     "name": "stdout",
     "output_type": "stream",
     "text": [
      "[LightGBM] [Warning] bagging_fraction is set=0.26397525986146886, subsample=1.0 will be ignored. Current value: bagging_fraction=0.26397525986146886\n",
      "[LightGBM] [Warning] feature_fraction is set=0.4839122595126855, colsample_bytree=1.0 will be ignored. Current value: feature_fraction=0.4839122595126855\n",
      "[LightGBM] [Warning] bagging_freq is set=378, subsample_freq=0 will be ignored. Current value: bagging_freq=378\n",
      "[LightGBM] [Warning] min_data_in_leaf is set=40, min_child_samples=20 will be ignored. Current value: min_data_in_leaf=40\n",
      "[LightGBM] [Warning] num_threads is set=0, n_jobs=-1 will be ignored. Current value: num_threads=0\n"
     ]
    },
    {
     "name": "stderr",
     "output_type": "stream",
     "text": [
      "[I 2023-06-11 02:27:22,301] Trial 256 finished with value: 0.6155913978494624 and parameters: {'model_type': 'lgbm', 'num_leaves': 399, 'boosting_type': 'gbdt', 'n_estimators': 450, 'learning_rate': 0.1, 'min_data_in_leaf': 40, 'feature_fraction': 0.4839122595126855, 'bagging_fraction': 0.26397525986146886, 'bagging_freq': 378, 'alpha': 34.44647696426804, 'reg_lambda': 36.493949189904136}. Best is trial 220 with value: 0.6021505376344086.\n"
     ]
    },
    {
     "name": "stdout",
     "output_type": "stream",
     "text": [
      "[LightGBM] [Warning] min_data_in_leaf is set=35, min_child_samples=20 will be ignored. Current value: min_data_in_leaf=35\n",
      "[LightGBM] [Warning] num_threads is set=0, n_jobs=-1 will be ignored. Current value: num_threads=0\n"
     ]
    },
    {
     "name": "stderr",
     "output_type": "stream",
     "text": [
      "[I 2023-06-11 02:27:24,967] Trial 257 finished with value: 0.646505376344086 and parameters: {'model_type': 'lgbm', 'num_leaves': 402, 'boosting_type': 'goss', 'learning_rate': 0.1, 'min_data_in_leaf': 35, 'top_rate': 0.8508158898620426}. Best is trial 220 with value: 0.6021505376344086.\n"
     ]
    },
    {
     "name": "stdout",
     "output_type": "stream",
     "text": [
      "[LightGBM] [Warning] bagging_fraction is set=0.269336756179157, subsample=1.0 will be ignored. Current value: bagging_fraction=0.269336756179157\n",
      "[LightGBM] [Warning] feature_fraction is set=0.48607910258666537, colsample_bytree=1.0 will be ignored. Current value: feature_fraction=0.48607910258666537\n",
      "[LightGBM] [Warning] bagging_freq is set=426, subsample_freq=0 will be ignored. Current value: bagging_freq=426\n",
      "[LightGBM] [Warning] min_data_in_leaf is set=36, min_child_samples=20 will be ignored. Current value: min_data_in_leaf=36\n",
      "[LightGBM] [Warning] num_threads is set=0, n_jobs=-1 will be ignored. Current value: num_threads=0\n"
     ]
    },
    {
     "name": "stderr",
     "output_type": "stream",
     "text": [
      "[I 2023-06-11 02:27:26,802] Trial 258 finished with value: 0.6169354838709677 and parameters: {'model_type': 'lgbm', 'num_leaves': 439, 'boosting_type': 'gbdt', 'n_estimators': 488, 'learning_rate': 0.1, 'min_data_in_leaf': 36, 'feature_fraction': 0.48607910258666537, 'bagging_fraction': 0.269336756179157, 'bagging_freq': 426, 'alpha': 34.63328619798784, 'reg_lambda': 36.68930761187212}. Best is trial 220 with value: 0.6021505376344086.\n"
     ]
    },
    {
     "name": "stdout",
     "output_type": "stream",
     "text": [
      "[LightGBM] [Warning] bagging_fraction is set=0.27183274919582123, subsample=1.0 will be ignored. Current value: bagging_fraction=0.27183274919582123\n",
      "[LightGBM] [Warning] feature_fraction is set=0.49006912807735437, colsample_bytree=1.0 will be ignored. Current value: feature_fraction=0.49006912807735437\n",
      "[LightGBM] [Warning] bagging_freq is set=423, subsample_freq=0 will be ignored. Current value: bagging_freq=423\n",
      "[LightGBM] [Warning] min_data_in_leaf is set=36, min_child_samples=20 will be ignored. Current value: min_data_in_leaf=36\n",
      "[LightGBM] [Warning] num_threads is set=0, n_jobs=-1 will be ignored. Current value: num_threads=0\n"
     ]
    },
    {
     "name": "stderr",
     "output_type": "stream",
     "text": [
      "[I 2023-06-11 02:27:28,584] Trial 259 finished with value: 0.625 and parameters: {'model_type': 'lgbm', 'num_leaves': 441, 'boosting_type': 'gbdt', 'n_estimators': 481, 'learning_rate': 0.1, 'min_data_in_leaf': 36, 'feature_fraction': 0.49006912807735437, 'bagging_fraction': 0.27183274919582123, 'bagging_freq': 423, 'alpha': 34.77016587291435, 'reg_lambda': 36.527783554932526}. Best is trial 220 with value: 0.6021505376344086.\n"
     ]
    },
    {
     "name": "stdout",
     "output_type": "stream",
     "text": [
      "[LightGBM] [Warning] bagging_fraction is set=0.2574519768127327, subsample=1.0 will be ignored. Current value: bagging_fraction=0.2574519768127327\n",
      "[LightGBM] [Warning] feature_fraction is set=0.4911854419194705, colsample_bytree=1.0 will be ignored. Current value: feature_fraction=0.4911854419194705\n",
      "[LightGBM] [Warning] bagging_freq is set=425, subsample_freq=0 will be ignored. Current value: bagging_freq=425\n",
      "[LightGBM] [Warning] min_data_in_leaf is set=36, min_child_samples=20 will be ignored. Current value: min_data_in_leaf=36\n",
      "[LightGBM] [Warning] num_threads is set=0, n_jobs=-1 will be ignored. Current value: num_threads=0\n"
     ]
    },
    {
     "name": "stderr",
     "output_type": "stream",
     "text": [
      "[I 2023-06-11 02:27:30,314] Trial 260 finished with value: 0.625 and parameters: {'model_type': 'lgbm', 'num_leaves': 472, 'boosting_type': 'gbdt', 'n_estimators': 485, 'learning_rate': 0.1, 'min_data_in_leaf': 36, 'feature_fraction': 0.4911854419194705, 'bagging_fraction': 0.2574519768127327, 'bagging_freq': 425, 'alpha': 34.590517596289054, 'reg_lambda': 36.67103519956421}. Best is trial 220 with value: 0.6021505376344086.\n"
     ]
    },
    {
     "name": "stdout",
     "output_type": "stream",
     "text": [
      "[LightGBM] [Warning] bagging_fraction is set=0.2726416735532495, subsample=1.0 will be ignored. Current value: bagging_fraction=0.2726416735532495\n",
      "[LightGBM] [Warning] feature_fraction is set=0.4836581881582489, colsample_bytree=1.0 will be ignored. Current value: feature_fraction=0.4836581881582489\n",
      "[LightGBM] [Warning] bagging_freq is set=375, subsample_freq=0 will be ignored. Current value: bagging_freq=375\n",
      "[LightGBM] [Warning] min_data_in_leaf is set=39, min_child_samples=20 will be ignored. Current value: min_data_in_leaf=39\n",
      "[LightGBM] [Warning] num_threads is set=0, n_jobs=-1 will be ignored. Current value: num_threads=0\n"
     ]
    },
    {
     "name": "stderr",
     "output_type": "stream",
     "text": [
      "[I 2023-06-11 02:27:32,012] Trial 261 finished with value: 0.6344086021505376 and parameters: {'model_type': 'lgbm', 'num_leaves': 353, 'boosting_type': 'gbdt', 'n_estimators': 492, 'learning_rate': 0.1, 'min_data_in_leaf': 39, 'feature_fraction': 0.4836581881582489, 'bagging_fraction': 0.2726416735532495, 'bagging_freq': 375, 'alpha': 34.568555020044165, 'reg_lambda': 36.35391160647911}. Best is trial 220 with value: 0.6021505376344086.\n"
     ]
    },
    {
     "name": "stdout",
     "output_type": "stream",
     "text": [
      "[LightGBM] [Warning] bagging_fraction is set=0.2656315555827943, subsample=1.0 will be ignored. Current value: bagging_fraction=0.2656315555827943\n",
      "[LightGBM] [Warning] feature_fraction is set=0.4906712412743102, colsample_bytree=1.0 will be ignored. Current value: feature_fraction=0.4906712412743102\n",
      "[LightGBM] [Warning] bagging_freq is set=383, subsample_freq=0 will be ignored. Current value: bagging_freq=383\n",
      "[LightGBM] [Warning] min_data_in_leaf is set=40, min_child_samples=20 will be ignored. Current value: min_data_in_leaf=40\n",
      "[LightGBM] [Warning] num_threads is set=0, n_jobs=-1 will be ignored. Current value: num_threads=0\n"
     ]
    },
    {
     "name": "stderr",
     "output_type": "stream",
     "text": [
      "[I 2023-06-11 02:27:33,545] Trial 262 finished with value: 0.6021505376344086 and parameters: {'model_type': 'lgbm', 'num_leaves': 452, 'boosting_type': 'gbdt', 'n_estimators': 429, 'learning_rate': 0.1, 'min_data_in_leaf': 40, 'feature_fraction': 0.4906712412743102, 'bagging_fraction': 0.2656315555827943, 'bagging_freq': 383, 'alpha': 35.01102262707278, 'reg_lambda': 33.77787917892691}. Best is trial 220 with value: 0.6021505376344086.\n"
     ]
    },
    {
     "name": "stdout",
     "output_type": "stream",
     "text": [
      "[LightGBM] [Warning] bagging_fraction is set=0.2668182805857515, subsample=1.0 will be ignored. Current value: bagging_fraction=0.2668182805857515\n",
      "[LightGBM] [Warning] feature_fraction is set=0.4908567579875873, colsample_bytree=1.0 will be ignored. Current value: feature_fraction=0.4908567579875873\n",
      "[LightGBM] [Warning] bagging_freq is set=401, subsample_freq=0 will be ignored. Current value: bagging_freq=401\n",
      "[LightGBM] [Warning] min_data_in_leaf is set=37, min_child_samples=20 will be ignored. Current value: min_data_in_leaf=37\n",
      "[LightGBM] [Warning] num_threads is set=0, n_jobs=-1 will be ignored. Current value: num_threads=0\n"
     ]
    },
    {
     "name": "stderr",
     "output_type": "stream",
     "text": [
      "[I 2023-06-11 02:27:35,173] Trial 263 finished with value: 0.6169354838709677 and parameters: {'model_type': 'lgbm', 'num_leaves': 472, 'boosting_type': 'gbdt', 'n_estimators': 430, 'learning_rate': 0.1, 'min_data_in_leaf': 37, 'feature_fraction': 0.4908567579875873, 'bagging_fraction': 0.2668182805857515, 'bagging_freq': 401, 'alpha': 34.51218447692658, 'reg_lambda': 38.43288835022011}. Best is trial 220 with value: 0.6021505376344086.\n"
     ]
    },
    {
     "name": "stdout",
     "output_type": "stream",
     "text": [
      "[LightGBM] [Warning] bagging_fraction is set=0.26776344269276686, subsample=1.0 will be ignored. Current value: bagging_fraction=0.26776344269276686\n",
      "[LightGBM] [Warning] feature_fraction is set=0.4925974903299787, colsample_bytree=1.0 will be ignored. Current value: feature_fraction=0.4925974903299787\n",
      "[LightGBM] [Warning] bagging_freq is set=402, subsample_freq=0 will be ignored. Current value: bagging_freq=402\n",
      "[LightGBM] [Warning] min_data_in_leaf is set=37, min_child_samples=20 will be ignored. Current value: min_data_in_leaf=37\n",
      "[LightGBM] [Warning] num_threads is set=0, n_jobs=-1 will be ignored. Current value: num_threads=0\n"
     ]
    },
    {
     "name": "stderr",
     "output_type": "stream",
     "text": [
      "[I 2023-06-11 02:27:36,814] Trial 264 finished with value: 0.6223118279569892 and parameters: {'model_type': 'lgbm', 'num_leaves': 473, 'boosting_type': 'gbdt', 'n_estimators': 430, 'learning_rate': 0.1, 'min_data_in_leaf': 37, 'feature_fraction': 0.4925974903299787, 'bagging_fraction': 0.26776344269276686, 'bagging_freq': 402, 'alpha': 35.10785728651377, 'reg_lambda': 38.317553824015064}. Best is trial 220 with value: 0.6021505376344086.\n"
     ]
    },
    {
     "name": "stdout",
     "output_type": "stream",
     "text": [
      "[LightGBM] [Warning] bagging_fraction is set=0.27800509951085695, subsample=1.0 will be ignored. Current value: bagging_fraction=0.27800509951085695\n",
      "[LightGBM] [Warning] feature_fraction is set=0.49084780115881466, colsample_bytree=1.0 will be ignored. Current value: feature_fraction=0.49084780115881466\n",
      "[LightGBM] [Warning] bagging_freq is set=365, subsample_freq=0 will be ignored. Current value: bagging_freq=365\n",
      "[LightGBM] [Warning] min_data_in_leaf is set=36, min_child_samples=20 will be ignored. Current value: min_data_in_leaf=36\n",
      "[LightGBM] [Warning] num_threads is set=0, n_jobs=-1 will be ignored. Current value: num_threads=0\n"
     ]
    },
    {
     "name": "stderr",
     "output_type": "stream",
     "text": [
      "[I 2023-06-11 02:27:38,526] Trial 265 finished with value: 0.6438172043010753 and parameters: {'model_type': 'lgbm', 'num_leaves': 461, 'boosting_type': 'gbdt', 'n_estimators': 426, 'learning_rate': 0.05, 'min_data_in_leaf': 36, 'feature_fraction': 0.49084780115881466, 'bagging_fraction': 0.27800509951085695, 'bagging_freq': 365, 'alpha': 33.35603964888215, 'reg_lambda': 38.25269076264912}. Best is trial 220 with value: 0.6021505376344086.\n"
     ]
    },
    {
     "name": "stdout",
     "output_type": "stream",
     "text": [
      "[LightGBM] [Warning] bagging_fraction is set=0.271716828049961, subsample=1.0 will be ignored. Current value: bagging_fraction=0.271716828049961\n",
      "[LightGBM] [Warning] feature_fraction is set=0.49204917373525814, colsample_bytree=1.0 will be ignored. Current value: feature_fraction=0.49204917373525814\n",
      "[LightGBM] [Warning] bagging_freq is set=1, subsample_freq=0 will be ignored. Current value: bagging_freq=1\n",
      "[LightGBM] [Warning] min_data_in_leaf is set=37, min_child_samples=20 will be ignored. Current value: min_data_in_leaf=37\n",
      "[LightGBM] [Warning] num_threads is set=0, n_jobs=-1 will be ignored. Current value: num_threads=0\n"
     ]
    },
    {
     "name": "stderr",
     "output_type": "stream",
     "text": [
      "[I 2023-06-11 02:27:38,883] Trial 266 finished with value: 0.6706989247311828 and parameters: {'model_type': 'lgbm', 'num_leaves': 361, 'boosting_type': 'gbdt', 'n_estimators': 6, 'learning_rate': 0.1, 'min_data_in_leaf': 37, 'feature_fraction': 0.49204917373525814, 'bagging_fraction': 0.271716828049961, 'bagging_freq': 1, 'alpha': 35.62245524807671, 'reg_lambda': 33.917889536315094}. Best is trial 220 with value: 0.6021505376344086.\n"
     ]
    },
    {
     "name": "stdout",
     "output_type": "stream",
     "text": [
      "[LightGBM] [Warning] bagging_fraction is set=0.25707352277982354, subsample=1.0 will be ignored. Current value: bagging_fraction=0.25707352277982354\n",
      "[LightGBM] [Warning] feature_fraction is set=0.4847662504870991, colsample_bytree=1.0 will be ignored. Current value: feature_fraction=0.4847662504870991\n",
      "[LightGBM] [Warning] bagging_freq is set=420, subsample_freq=0 will be ignored. Current value: bagging_freq=420\n",
      "[LightGBM] [Warning] min_data_in_leaf is set=39, min_child_samples=20 will be ignored. Current value: min_data_in_leaf=39\n",
      "[LightGBM] [Warning] num_threads is set=0, n_jobs=-1 will be ignored. Current value: num_threads=0\n"
     ]
    },
    {
     "name": "stderr",
     "output_type": "stream",
     "text": [
      "[I 2023-06-11 02:27:40,498] Trial 267 finished with value: 0.6061827956989247 and parameters: {'model_type': 'lgbm', 'num_leaves': 493, 'boosting_type': 'gbdt', 'n_estimators': 463, 'learning_rate': 0.1, 'min_data_in_leaf': 39, 'feature_fraction': 0.4847662504870991, 'bagging_fraction': 0.25707352277982354, 'bagging_freq': 420, 'alpha': 33.30657806106399, 'reg_lambda': 33.744292205362065}. Best is trial 220 with value: 0.6021505376344086.\n"
     ]
    },
    {
     "name": "stdout",
     "output_type": "stream",
     "text": [
      "[LightGBM] [Warning] bagging_fraction is set=0.5012138793605636, subsample=1.0 will be ignored. Current value: bagging_fraction=0.5012138793605636\n",
      "[LightGBM] [Warning] bagging_freq is set=415, subsample_freq=0 will be ignored. Current value: bagging_freq=415\n",
      "[LightGBM] [Warning] min_data_in_leaf is set=12, min_child_samples=20 will be ignored. Current value: min_data_in_leaf=12\n",
      "[LightGBM] [Warning] num_threads is set=0, n_jobs=-1 will be ignored. Current value: num_threads=0\n"
     ]
    },
    {
     "name": "stderr",
     "output_type": "stream",
     "text": [
      "[I 2023-06-11 02:27:48,957] Trial 268 finished with value: 0.6706989247311828 and parameters: {'model_type': 'lgbm', 'num_leaves': 508, 'boosting_type': 'rf', 'n_estimators': 446, 'feature_fraction_bynode': 0.11214726292827905, 'bagging_fraction': 0.5012138793605636, 'bagging_freq': 415, 'min_data_in_leaf': 12, 'alpha': 18.50101206355464, 'reg_lambda': 17.905580173883592}. Best is trial 220 with value: 0.6021505376344086.\n"
     ]
    },
    {
     "name": "stdout",
     "output_type": "stream",
     "text": [
      "[LightGBM] [Warning] bagging_fraction is set=0.3053574262039468, subsample=1.0 will be ignored. Current value: bagging_fraction=0.3053574262039468\n",
      "[LightGBM] [Warning] feature_fraction is set=0.5070875862328349, colsample_bytree=1.0 will be ignored. Current value: feature_fraction=0.5070875862328349\n",
      "[LightGBM] [Warning] bagging_freq is set=421, subsample_freq=0 will be ignored. Current value: bagging_freq=421\n",
      "[LightGBM] [Warning] min_data_in_leaf is set=30, min_child_samples=20 will be ignored. Current value: min_data_in_leaf=30\n",
      "[LightGBM] [Warning] num_threads is set=0, n_jobs=-1 will be ignored. Current value: num_threads=0\n"
     ]
    },
    {
     "name": "stderr",
     "output_type": "stream",
     "text": [
      "[I 2023-06-11 02:27:51,075] Trial 269 finished with value: 0.6612903225806451 and parameters: {'model_type': 'lgbm', 'num_leaves': 490, 'boosting_type': 'gbdt', 'n_estimators': 460, 'learning_rate': 0.01, 'min_data_in_leaf': 30, 'feature_fraction': 0.5070875862328349, 'bagging_fraction': 0.3053574262039468, 'bagging_freq': 421, 'alpha': 29.59293310748098, 'reg_lambda': 29.750052897025085}. Best is trial 220 with value: 0.6021505376344086.\n"
     ]
    },
    {
     "name": "stdout",
     "output_type": "stream",
     "text": [
      "[LightGBM] [Warning] bagging_fraction is set=0.25537820790215054, subsample=1.0 will be ignored. Current value: bagging_fraction=0.25537820790215054\n",
      "[LightGBM] [Warning] feature_fraction is set=0.3239518177128739, colsample_bytree=1.0 will be ignored. Current value: feature_fraction=0.3239518177128739\n",
      "[LightGBM] [Warning] bagging_freq is set=402, subsample_freq=0 will be ignored. Current value: bagging_freq=402\n",
      "[LightGBM] [Warning] min_data_in_leaf is set=39, min_child_samples=20 will be ignored. Current value: min_data_in_leaf=39\n",
      "[LightGBM] [Warning] num_threads is set=0, n_jobs=-1 will be ignored. Current value: num_threads=0\n"
     ]
    },
    {
     "name": "stderr",
     "output_type": "stream",
     "text": [
      "[I 2023-06-11 02:27:52,376] Trial 270 finished with value: 0.6169354838709677 and parameters: {'model_type': 'lgbm', 'num_leaves': 518, 'boosting_type': 'gbdt', 'n_estimators': 447, 'learning_rate': 0.1, 'min_data_in_leaf': 39, 'feature_fraction': 0.3239518177128739, 'bagging_fraction': 0.25537820790215054, 'bagging_freq': 402, 'alpha': 34.24895126528948, 'reg_lambda': 36.98428771195601}. Best is trial 220 with value: 0.6021505376344086.\n"
     ]
    },
    {
     "name": "stdout",
     "output_type": "stream",
     "text": [
      "[LightGBM] [Warning] bagging_fraction is set=0.26309895036956, subsample=1.0 will be ignored. Current value: bagging_fraction=0.26309895036956\n",
      "[LightGBM] [Warning] feature_fraction is set=0.47899695146873217, colsample_bytree=1.0 will be ignored. Current value: feature_fraction=0.47899695146873217\n",
      "[LightGBM] [Warning] bagging_freq is set=383, subsample_freq=0 will be ignored. Current value: bagging_freq=383\n",
      "[LightGBM] [Warning] min_data_in_leaf is set=39, min_child_samples=20 will be ignored. Current value: min_data_in_leaf=39\n",
      "[LightGBM] [Warning] num_threads is set=0, n_jobs=-1 will be ignored. Current value: num_threads=0\n"
     ]
    },
    {
     "name": "stderr",
     "output_type": "stream",
     "text": [
      "[I 2023-06-11 02:27:54,009] Trial 271 finished with value: 0.614247311827957 and parameters: {'model_type': 'lgbm', 'num_leaves': 456, 'boosting_type': 'gbdt', 'n_estimators': 465, 'learning_rate': 0.1, 'min_data_in_leaf': 39, 'feature_fraction': 0.47899695146873217, 'bagging_fraction': 0.26309895036956, 'bagging_freq': 383, 'alpha': 33.350472656096095, 'reg_lambda': 33.83479382373762}. Best is trial 220 with value: 0.6021505376344086.\n"
     ]
    },
    {
     "name": "stdout",
     "output_type": "stream",
     "text": [
      "[LightGBM] [Warning] bagging_fraction is set=0.5012896797511928, subsample=1.0 will be ignored. Current value: bagging_fraction=0.5012896797511928\n",
      "[LightGBM] [Warning] feature_fraction is set=0.5115983342055748, colsample_bytree=1.0 will be ignored. Current value: feature_fraction=0.5115983342055748\n",
      "[LightGBM] [Warning] bagging_freq is set=349, subsample_freq=0 will be ignored. Current value: bagging_freq=349\n",
      "[LightGBM] [Warning] min_data_in_leaf is set=7, min_child_samples=20 will be ignored. Current value: min_data_in_leaf=7\n",
      "[LightGBM] [Warning] num_threads is set=0, n_jobs=-1 will be ignored. Current value: num_threads=0\n"
     ]
    },
    {
     "name": "stderr",
     "output_type": "stream",
     "text": [
      "[I 2023-06-11 02:28:01,218] Trial 272 finished with value: 0.6706989247311828 and parameters: {'model_type': 'lgbm', 'num_leaves': 446, 'boosting_type': 'gbdt', 'n_estimators': 446, 'learning_rate': 0.0001, 'min_data_in_leaf': 7, 'feature_fraction': 0.5115983342055748, 'bagging_fraction': 0.5012896797511928, 'bagging_freq': 349, 'alpha': 18.672554398620203, 'reg_lambda': 17.928142144343607}. Best is trial 220 with value: 0.6021505376344086.\n"
     ]
    },
    {
     "name": "stdout",
     "output_type": "stream",
     "text": [
      "[LightGBM] [Warning] bagging_fraction is set=0.247285790634347, subsample=1.0 will be ignored. Current value: bagging_fraction=0.247285790634347\n",
      "[LightGBM] [Warning] feature_fraction is set=0.476807360520403, colsample_bytree=1.0 will be ignored. Current value: feature_fraction=0.476807360520403\n",
      "[LightGBM] [Warning] bagging_freq is set=383, subsample_freq=0 will be ignored. Current value: bagging_freq=383\n",
      "[LightGBM] [Warning] min_data_in_leaf is set=39, min_child_samples=20 will be ignored. Current value: min_data_in_leaf=39\n",
      "[LightGBM] [Warning] num_threads is set=0, n_jobs=-1 will be ignored. Current value: num_threads=0\n"
     ]
    },
    {
     "name": "stderr",
     "output_type": "stream",
     "text": [
      "[I 2023-06-11 02:28:02,754] Trial 273 finished with value: 0.6008064516129032 and parameters: {'model_type': 'lgbm', 'num_leaves': 417, 'boosting_type': 'gbdt', 'n_estimators': 466, 'learning_rate': 0.1, 'min_data_in_leaf': 39, 'feature_fraction': 0.476807360520403, 'bagging_fraction': 0.247285790634347, 'bagging_freq': 383, 'alpha': 33.20445525576653, 'reg_lambda': 35.173676773254655}. Best is trial 273 with value: 0.6008064516129032.\n"
     ]
    },
    {
     "name": "stdout",
     "output_type": "stream",
     "text": [
      "[LightGBM] [Warning] bagging_fraction is set=0.24890771960214403, subsample=1.0 will be ignored. Current value: bagging_fraction=0.24890771960214403\n",
      "[LightGBM] [Warning] feature_fraction is set=0.4756805328285037, colsample_bytree=1.0 will be ignored. Current value: feature_fraction=0.4756805328285037\n",
      "[LightGBM] [Warning] bagging_freq is set=41, subsample_freq=0 will be ignored. Current value: bagging_freq=41\n",
      "[LightGBM] [Warning] min_data_in_leaf is set=39, min_child_samples=20 will be ignored. Current value: min_data_in_leaf=39\n",
      "[LightGBM] [Warning] num_threads is set=0, n_jobs=-1 will be ignored. Current value: num_threads=0\n"
     ]
    },
    {
     "name": "stderr",
     "output_type": "stream",
     "text": [
      "[I 2023-06-11 02:28:03,351] Trial 274 finished with value: 0.6545698924731183 and parameters: {'model_type': 'lgbm', 'num_leaves': 396, 'boosting_type': 'gbdt', 'n_estimators': 82, 'learning_rate': 0.1, 'min_data_in_leaf': 39, 'feature_fraction': 0.4756805328285037, 'bagging_fraction': 0.24890771960214403, 'bagging_freq': 41, 'alpha': 33.27413388668362, 'reg_lambda': 33.938870649677895}. Best is trial 273 with value: 0.6008064516129032.\n"
     ]
    },
    {
     "name": "stdout",
     "output_type": "stream",
     "text": [
      "[LightGBM] [Warning] bagging_fraction is set=0.25888093424077, subsample=1.0 will be ignored. Current value: bagging_fraction=0.25888093424077\n",
      "[LightGBM] [Warning] feature_fraction is set=0.4591166878038754, colsample_bytree=1.0 will be ignored. Current value: feature_fraction=0.4591166878038754\n",
      "[LightGBM] [Warning] bagging_freq is set=385, subsample_freq=0 will be ignored. Current value: bagging_freq=385\n",
      "[LightGBM] [Warning] min_data_in_leaf is set=39, min_child_samples=20 will be ignored. Current value: min_data_in_leaf=39\n",
      "[LightGBM] [Warning] num_threads is set=0, n_jobs=-1 will be ignored. Current value: num_threads=0\n"
     ]
    },
    {
     "name": "stderr",
     "output_type": "stream",
     "text": [
      "[I 2023-06-11 02:28:04,796] Trial 275 finished with value: 0.6182795698924731 and parameters: {'model_type': 'lgbm', 'num_leaves': 415, 'boosting_type': 'gbdt', 'n_estimators': 439, 'learning_rate': 0.1, 'min_data_in_leaf': 39, 'feature_fraction': 0.4591166878038754, 'bagging_fraction': 0.25888093424077, 'bagging_freq': 385, 'alpha': 33.29934399837829, 'reg_lambda': 35.125726897603286}. Best is trial 273 with value: 0.6008064516129032.\n"
     ]
    },
    {
     "name": "stdout",
     "output_type": "stream",
     "text": [
      "[LightGBM] [Warning] bagging_fraction is set=0.24313105090510387, subsample=1.0 will be ignored. Current value: bagging_fraction=0.24313105090510387\n",
      "[LightGBM] [Warning] feature_fraction is set=0.47852637480149646, colsample_bytree=1.0 will be ignored. Current value: feature_fraction=0.47852637480149646\n",
      "[LightGBM] [Warning] bagging_freq is set=363, subsample_freq=0 will be ignored. Current value: bagging_freq=363\n",
      "[LightGBM] [Warning] min_data_in_leaf is set=39, min_child_samples=20 will be ignored. Current value: min_data_in_leaf=39\n",
      "[LightGBM] [Warning] num_threads is set=0, n_jobs=-1 will be ignored. Current value: num_threads=0\n"
     ]
    },
    {
     "name": "stderr",
     "output_type": "stream",
     "text": [
      "[I 2023-06-11 02:28:06,262] Trial 276 finished with value: 0.6344086021505376 and parameters: {'model_type': 'lgbm', 'num_leaves': 366, 'boosting_type': 'gbdt', 'n_estimators': 462, 'learning_rate': 0.1, 'min_data_in_leaf': 39, 'feature_fraction': 0.47852637480149646, 'bagging_fraction': 0.24313105090510387, 'bagging_freq': 363, 'alpha': 33.309842577837436, 'reg_lambda': 33.63294060665096}. Best is trial 273 with value: 0.6008064516129032.\n"
     ]
    },
    {
     "name": "stdout",
     "output_type": "stream",
     "text": [
      "[LightGBM] [Warning] bagging_fraction is set=0.25864997295864023, subsample=1.0 will be ignored. Current value: bagging_fraction=0.25864997295864023\n",
      "[LightGBM] [Warning] feature_fraction is set=0.46982506133520124, colsample_bytree=1.0 will be ignored. Current value: feature_fraction=0.46982506133520124\n",
      "[LightGBM] [Warning] bagging_freq is set=382, subsample_freq=0 will be ignored. Current value: bagging_freq=382\n",
      "[LightGBM] [Warning] min_data_in_leaf is set=40, min_child_samples=20 will be ignored. Current value: min_data_in_leaf=40\n",
      "[LightGBM] [Warning] num_threads is set=0, n_jobs=-1 will be ignored. Current value: num_threads=0\n"
     ]
    },
    {
     "name": "stderr",
     "output_type": "stream",
     "text": [
      "[I 2023-06-11 02:28:07,879] Trial 277 finished with value: 0.6276881720430108 and parameters: {'model_type': 'lgbm', 'num_leaves': 538, 'boosting_type': 'gbdt', 'n_estimators': 465, 'learning_rate': 0.1, 'min_data_in_leaf': 40, 'feature_fraction': 0.46982506133520124, 'bagging_fraction': 0.25864997295864023, 'bagging_freq': 382, 'alpha': 32.31230494354548, 'reg_lambda': 33.659382739576934}. Best is trial 273 with value: 0.6008064516129032.\n"
     ]
    },
    {
     "name": "stdout",
     "output_type": "stream",
     "text": [
      "[LightGBM] [Warning] bagging_fraction is set=0.23160292311527972, subsample=1.0 will be ignored. Current value: bagging_fraction=0.23160292311527972\n",
      "[LightGBM] [Warning] feature_fraction is set=0.4808869976917974, colsample_bytree=1.0 will be ignored. Current value: feature_fraction=0.4808869976917974\n",
      "[LightGBM] [Warning] bagging_freq is set=397, subsample_freq=0 will be ignored. Current value: bagging_freq=397\n",
      "[LightGBM] [Warning] min_data_in_leaf is set=31, min_child_samples=20 will be ignored. Current value: min_data_in_leaf=31\n",
      "[LightGBM] [Warning] num_threads is set=0, n_jobs=-1 will be ignored. Current value: num_threads=0\n"
     ]
    },
    {
     "name": "stderr",
     "output_type": "stream",
     "text": [
      "[I 2023-06-11 02:28:09,995] Trial 278 finished with value: 0.6384408602150538 and parameters: {'model_type': 'lgbm', 'num_leaves': 1000, 'boosting_type': 'gbdt', 'n_estimators': 462, 'learning_rate': 0.1, 'min_data_in_leaf': 31, 'feature_fraction': 0.4808869976917974, 'bagging_fraction': 0.23160292311527972, 'bagging_freq': 397, 'alpha': 33.28657632684541, 'reg_lambda': 35.13127257869564}. Best is trial 273 with value: 0.6008064516129032.\n"
     ]
    },
    {
     "name": "stdout",
     "output_type": "stream",
     "text": [
      "[LightGBM] [Warning] bagging_fraction is set=0.27500453489723464, subsample=1.0 will be ignored. Current value: bagging_fraction=0.27500453489723464\n",
      "[LightGBM] [Warning] feature_fraction is set=0.4731578537991139, colsample_bytree=1.0 will be ignored. Current value: feature_fraction=0.4731578537991139\n",
      "[LightGBM] [Warning] bagging_freq is set=363, subsample_freq=0 will be ignored. Current value: bagging_freq=363\n",
      "[LightGBM] [Warning] min_data_in_leaf is set=40, min_child_samples=20 will be ignored. Current value: min_data_in_leaf=40\n",
      "[LightGBM] [Warning] num_threads is set=0, n_jobs=-1 will be ignored. Current value: num_threads=0\n"
     ]
    },
    {
     "name": "stderr",
     "output_type": "stream",
     "text": [
      "[I 2023-06-11 02:28:12,018] Trial 279 finished with value: 0.635752688172043 and parameters: {'model_type': 'lgbm', 'num_leaves': 986, 'boosting_type': 'gbdt', 'n_estimators': 445, 'learning_rate': 0.1, 'min_data_in_leaf': 40, 'feature_fraction': 0.4731578537991139, 'bagging_fraction': 0.27500453489723464, 'bagging_freq': 363, 'alpha': 32.36159257816609, 'reg_lambda': 35.101153951407525}. Best is trial 273 with value: 0.6008064516129032.\n"
     ]
    },
    {
     "name": "stdout",
     "output_type": "stream",
     "text": [
      "[LightGBM] [Warning] bagging_fraction is set=0.2765204134686145, subsample=1.0 will be ignored. Current value: bagging_fraction=0.2765204134686145\n",
      "[LightGBM] [Warning] feature_fraction is set=0.4545494635872743, colsample_bytree=1.0 will be ignored. Current value: feature_fraction=0.4545494635872743\n",
      "[LightGBM] [Warning] bagging_freq is set=377, subsample_freq=0 will be ignored. Current value: bagging_freq=377\n",
      "[LightGBM] [Warning] min_data_in_leaf is set=39, min_child_samples=20 will be ignored. Current value: min_data_in_leaf=39\n",
      "[LightGBM] [Warning] num_threads is set=0, n_jobs=-1 will be ignored. Current value: num_threads=0\n"
     ]
    },
    {
     "name": "stderr",
     "output_type": "stream",
     "text": [
      "[I 2023-06-11 02:28:13,996] Trial 280 finished with value: 0.6088709677419355 and parameters: {'model_type': 'lgbm', 'num_leaves': 976, 'boosting_type': 'gbdt', 'n_estimators': 433, 'learning_rate': 0.1, 'min_data_in_leaf': 39, 'feature_fraction': 0.4545494635872743, 'bagging_fraction': 0.2765204134686145, 'bagging_freq': 377, 'alpha': 33.09033482586609, 'reg_lambda': 35.23036431761197}. Best is trial 273 with value: 0.6008064516129032.\n"
     ]
    },
    {
     "name": "stdout",
     "output_type": "stream",
     "text": [
      "[LightGBM] [Warning] min_data_in_leaf is set=39, min_child_samples=20 will be ignored. Current value: min_data_in_leaf=39\n",
      "[LightGBM] [Warning] num_threads is set=0, n_jobs=-1 will be ignored. Current value: num_threads=0\n"
     ]
    },
    {
     "name": "stderr",
     "output_type": "stream",
     "text": [
      "[I 2023-06-11 02:28:16,869] Trial 281 finished with value: 0.6478494623655914 and parameters: {'model_type': 'lgbm', 'num_leaves': 944, 'boosting_type': 'goss', 'learning_rate': 0.1, 'min_data_in_leaf': 39, 'top_rate': 0.880210492510932}. Best is trial 273 with value: 0.6008064516129032.\n"
     ]
    },
    {
     "name": "stdout",
     "output_type": "stream",
     "text": [
      "[LightGBM] [Warning] bagging_fraction is set=0.2773014452940335, subsample=1.0 will be ignored. Current value: bagging_fraction=0.2773014452940335\n",
      "[LightGBM] [Warning] feature_fraction is set=0.45631995830376093, colsample_bytree=1.0 will be ignored. Current value: feature_fraction=0.45631995830376093\n",
      "[LightGBM] [Warning] bagging_freq is set=347, subsample_freq=0 will be ignored. Current value: bagging_freq=347\n",
      "[LightGBM] [Warning] min_data_in_leaf is set=39, min_child_samples=20 will be ignored. Current value: min_data_in_leaf=39\n",
      "[LightGBM] [Warning] num_threads is set=0, n_jobs=-1 will be ignored. Current value: num_threads=0\n"
     ]
    },
    {
     "name": "stderr",
     "output_type": "stream",
     "text": [
      "[I 2023-06-11 02:28:18,406] Trial 282 finished with value: 0.6397849462365591 and parameters: {'model_type': 'lgbm', 'num_leaves': 410, 'boosting_type': 'gbdt', 'n_estimators': 424, 'learning_rate': 0.1, 'min_data_in_leaf': 39, 'feature_fraction': 0.45631995830376093, 'bagging_fraction': 0.2773014452940335, 'bagging_freq': 347, 'alpha': 33.12673688477179, 'reg_lambda': 36.09717513476382}. Best is trial 273 with value: 0.6008064516129032.\n"
     ]
    },
    {
     "name": "stdout",
     "output_type": "stream",
     "text": [
      "[LightGBM] [Warning] bagging_fraction is set=0.501397429838953, subsample=1.0 will be ignored. Current value: bagging_fraction=0.501397429838953\n",
      "[LightGBM] [Warning] feature_fraction is set=0.5100290618355062, colsample_bytree=1.0 will be ignored. Current value: feature_fraction=0.5100290618355062\n",
      "[LightGBM] [Warning] bagging_freq is set=374, subsample_freq=0 will be ignored. Current value: bagging_freq=374\n",
      "[LightGBM] [Warning] min_data_in_leaf is set=10, min_child_samples=20 will be ignored. Current value: min_data_in_leaf=10\n",
      "[LightGBM] [Warning] num_threads is set=0, n_jobs=-1 will be ignored. Current value: num_threads=0\n"
     ]
    },
    {
     "name": "stderr",
     "output_type": "stream",
     "text": [
      "[I 2023-06-11 02:28:24,613] Trial 283 finished with value: 0.6706989247311828 and parameters: {'model_type': 'lgbm', 'num_leaves': 972, 'boosting_type': 'gbdt', 'n_estimators': 433, 'learning_rate': 0.0005, 'min_data_in_leaf': 10, 'feature_fraction': 0.5100290618355062, 'bagging_fraction': 0.501397429838953, 'bagging_freq': 374, 'alpha': 18.75591362907977, 'reg_lambda': 18.1954349577264}. Best is trial 273 with value: 0.6008064516129032.\n"
     ]
    },
    {
     "name": "stdout",
     "output_type": "stream",
     "text": [
      "[LightGBM] [Warning] bagging_fraction is set=0.24854859933565965, subsample=1.0 will be ignored. Current value: bagging_fraction=0.24854859933565965\n",
      "[LightGBM] [Warning] feature_fraction is set=0.4673770713597557, colsample_bytree=1.0 will be ignored. Current value: feature_fraction=0.4673770713597557\n",
      "[LightGBM] [Warning] bagging_freq is set=384, subsample_freq=0 will be ignored. Current value: bagging_freq=384\n",
      "[LightGBM] [Warning] min_data_in_leaf is set=39, min_child_samples=20 will be ignored. Current value: min_data_in_leaf=39\n",
      "[LightGBM] [Warning] num_threads is set=0, n_jobs=-1 will be ignored. Current value: num_threads=0\n"
     ]
    },
    {
     "name": "stderr",
     "output_type": "stream",
     "text": [
      "[I 2023-06-11 02:28:26,129] Trial 284 finished with value: 0.6021505376344086 and parameters: {'model_type': 'lgbm', 'num_leaves': 449, 'boosting_type': 'gbdt', 'n_estimators': 453, 'learning_rate': 0.1, 'min_data_in_leaf': 39, 'feature_fraction': 0.4673770713597557, 'bagging_fraction': 0.24854859933565965, 'bagging_freq': 384, 'alpha': 32.28492056800933, 'reg_lambda': 35.255563805031834}. Best is trial 273 with value: 0.6008064516129032.\n"
     ]
    },
    {
     "name": "stdout",
     "output_type": "stream",
     "text": [
      "[LightGBM] [Warning] bagging_fraction is set=0.24969074556525497, subsample=1.0 will be ignored. Current value: bagging_fraction=0.24969074556525497\n",
      "[LightGBM] [Warning] feature_fraction is set=0.4524817894592874, colsample_bytree=1.0 will be ignored. Current value: feature_fraction=0.4524817894592874\n",
      "[LightGBM] [Warning] bagging_freq is set=384, subsample_freq=0 will be ignored. Current value: bagging_freq=384\n",
      "[LightGBM] [Warning] min_data_in_leaf is set=39, min_child_samples=20 will be ignored. Current value: min_data_in_leaf=39\n",
      "[LightGBM] [Warning] num_threads is set=0, n_jobs=-1 will be ignored. Current value: num_threads=0\n"
     ]
    },
    {
     "name": "stderr",
     "output_type": "stream",
     "text": [
      "[I 2023-06-11 02:28:27,519] Trial 285 finished with value: 0.6088709677419355 and parameters: {'model_type': 'lgbm', 'num_leaves': 454, 'boosting_type': 'gbdt', 'n_estimators': 427, 'learning_rate': 0.1, 'min_data_in_leaf': 39, 'feature_fraction': 0.4524817894592874, 'bagging_fraction': 0.24969074556525497, 'bagging_freq': 384, 'alpha': 33.16475953713314, 'reg_lambda': 35.130934558313676}. Best is trial 273 with value: 0.6008064516129032.\n"
     ]
    },
    {
     "name": "stdout",
     "output_type": "stream",
     "text": [
      "[LightGBM] [Warning] bagging_fraction is set=0.2474629271058666, subsample=1.0 will be ignored. Current value: bagging_fraction=0.2474629271058666\n",
      "[LightGBM] [Warning] feature_fraction is set=0.45660733932990516, colsample_bytree=1.0 will be ignored. Current value: feature_fraction=0.45660733932990516\n",
      "[LightGBM] [Warning] bagging_freq is set=384, subsample_freq=0 will be ignored. Current value: bagging_freq=384\n",
      "[LightGBM] [Warning] min_data_in_leaf is set=39, min_child_samples=20 will be ignored. Current value: min_data_in_leaf=39\n",
      "[LightGBM] [Warning] num_threads is set=0, n_jobs=-1 will be ignored. Current value: num_threads=0\n"
     ]
    },
    {
     "name": "stderr",
     "output_type": "stream",
     "text": [
      "[I 2023-06-11 02:28:28,977] Trial 286 finished with value: 0.6075268817204301 and parameters: {'model_type': 'lgbm', 'num_leaves': 462, 'boosting_type': 'gbdt', 'n_estimators': 450, 'learning_rate': 0.1, 'min_data_in_leaf': 39, 'feature_fraction': 0.45660733932990516, 'bagging_fraction': 0.2474629271058666, 'bagging_freq': 384, 'alpha': 33.24600169542866, 'reg_lambda': 35.20122865886239}. Best is trial 273 with value: 0.6008064516129032.\n"
     ]
    },
    {
     "name": "stdout",
     "output_type": "stream",
     "text": [
      "[LightGBM] [Warning] bagging_fraction is set=0.24542662195098736, subsample=1.0 will be ignored. Current value: bagging_fraction=0.24542662195098736\n",
      "[LightGBM] [Warning] feature_fraction is set=0.45367529158993514, colsample_bytree=1.0 will be ignored. Current value: feature_fraction=0.45367529158993514\n",
      "[LightGBM] [Warning] bagging_freq is set=381, subsample_freq=0 will be ignored. Current value: bagging_freq=381\n",
      "[LightGBM] [Warning] min_data_in_leaf is set=39, min_child_samples=20 will be ignored. Current value: min_data_in_leaf=39\n",
      "[LightGBM] [Warning] num_threads is set=0, n_jobs=-1 will be ignored. Current value: num_threads=0\n"
     ]
    },
    {
     "name": "stderr",
     "output_type": "stream",
     "text": [
      "[I 2023-06-11 02:28:30,403] Trial 287 finished with value: 0.614247311827957 and parameters: {'model_type': 'lgbm', 'num_leaves': 447, 'boosting_type': 'gbdt', 'n_estimators': 451, 'learning_rate': 0.1, 'min_data_in_leaf': 39, 'feature_fraction': 0.45367529158993514, 'bagging_fraction': 0.24542662195098736, 'bagging_freq': 381, 'alpha': 33.132040293194414, 'reg_lambda': 35.22533508664214}. Best is trial 273 with value: 0.6008064516129032.\n"
     ]
    },
    {
     "name": "stdout",
     "output_type": "stream",
     "text": [
      "[LightGBM] [Warning] bagging_fraction is set=0.23931449418130596, subsample=1.0 will be ignored. Current value: bagging_fraction=0.23931449418130596\n",
      "[LightGBM] [Warning] feature_fraction is set=0.45550554402545934, colsample_bytree=1.0 will be ignored. Current value: feature_fraction=0.45550554402545934\n",
      "[LightGBM] [Warning] bagging_freq is set=386, subsample_freq=0 will be ignored. Current value: bagging_freq=386\n",
      "[LightGBM] [Warning] min_data_in_leaf is set=39, min_child_samples=20 will be ignored. Current value: min_data_in_leaf=39\n",
      "[LightGBM] [Warning] num_threads is set=0, n_jobs=-1 will be ignored. Current value: num_threads=0\n"
     ]
    },
    {
     "name": "stderr",
     "output_type": "stream",
     "text": [
      "[I 2023-06-11 02:28:31,878] Trial 288 finished with value: 0.6236559139784946 and parameters: {'model_type': 'lgbm', 'num_leaves': 453, 'boosting_type': 'gbdt', 'n_estimators': 463, 'learning_rate': 0.1, 'min_data_in_leaf': 39, 'feature_fraction': 0.45550554402545934, 'bagging_fraction': 0.23931449418130596, 'bagging_freq': 386, 'alpha': 33.044699603229276, 'reg_lambda': 35.218942854057765}. Best is trial 273 with value: 0.6008064516129032.\n"
     ]
    },
    {
     "name": "stdout",
     "output_type": "stream",
     "text": [
      "[LightGBM] [Warning] bagging_fraction is set=0.24807922918950012, subsample=1.0 will be ignored. Current value: bagging_fraction=0.24807922918950012\n",
      "[LightGBM] [Warning] feature_fraction is set=0.4469739957243473, colsample_bytree=1.0 will be ignored. Current value: feature_fraction=0.4469739957243473\n",
      "[LightGBM] [Warning] bagging_freq is set=393, subsample_freq=0 will be ignored. Current value: bagging_freq=393\n",
      "[LightGBM] [Warning] min_data_in_leaf is set=39, min_child_samples=20 will be ignored. Current value: min_data_in_leaf=39\n",
      "[LightGBM] [Warning] num_threads is set=0, n_jobs=-1 will be ignored. Current value: num_threads=0\n"
     ]
    },
    {
     "name": "stderr",
     "output_type": "stream",
     "text": [
      "[I 2023-06-11 02:28:33,273] Trial 289 finished with value: 0.6223118279569892 and parameters: {'model_type': 'lgbm', 'num_leaves': 433, 'boosting_type': 'gbdt', 'n_estimators': 436, 'learning_rate': 0.1, 'min_data_in_leaf': 39, 'feature_fraction': 0.4469739957243473, 'bagging_fraction': 0.24807922918950012, 'bagging_freq': 393, 'alpha': 33.37124416537306, 'reg_lambda': 34.04438695083642}. Best is trial 273 with value: 0.6008064516129032.\n"
     ]
    },
    {
     "name": "stdout",
     "output_type": "stream",
     "text": [
      "[LightGBM] [Warning] bagging_fraction is set=0.5011742857876557, subsample=1.0 will be ignored. Current value: bagging_fraction=0.5011742857876557\n",
      "[LightGBM] [Warning] bagging_freq is set=383, subsample_freq=0 will be ignored. Current value: bagging_freq=383\n",
      "[LightGBM] [Warning] min_data_in_leaf is set=39, min_child_samples=20 will be ignored. Current value: min_data_in_leaf=39\n",
      "[LightGBM] [Warning] num_threads is set=0, n_jobs=-1 will be ignored. Current value: num_threads=0\n"
     ]
    },
    {
     "name": "stderr",
     "output_type": "stream",
     "text": [
      "[I 2023-06-11 02:28:36,654] Trial 290 finished with value: 0.6706989247311828 and parameters: {'model_type': 'lgbm', 'num_leaves': 465, 'boosting_type': 'rf', 'n_estimators': 425, 'feature_fraction_bynode': 0.8819703111538689, 'min_data_in_leaf': 39, 'alpha': 32.24926939476439, 'reg_lambda': 35.3914352108229, 'bagging_fraction': 0.5011742857876557, 'bagging_freq': 383}. Best is trial 273 with value: 0.6008064516129032.\n"
     ]
    },
    {
     "name": "stdout",
     "output_type": "stream",
     "text": [
      "[LightGBM] [Warning] bagging_fraction is set=0.23522982429430112, subsample=1.0 will be ignored. Current value: bagging_fraction=0.23522982429430112\n",
      "[LightGBM] [Warning] feature_fraction is set=0.46570117641428066, colsample_bytree=1.0 will be ignored. Current value: feature_fraction=0.46570117641428066\n",
      "[LightGBM] [Warning] bagging_freq is set=409, subsample_freq=0 will be ignored. Current value: bagging_freq=409\n",
      "[LightGBM] [Warning] min_data_in_leaf is set=39, min_child_samples=20 will be ignored. Current value: min_data_in_leaf=39\n",
      "[LightGBM] [Warning] num_threads is set=0, n_jobs=-1 will be ignored. Current value: num_threads=0\n"
     ]
    },
    {
     "name": "stderr",
     "output_type": "stream",
     "text": [
      "[I 2023-06-11 02:28:38,139] Trial 291 finished with value: 0.6182795698924731 and parameters: {'model_type': 'lgbm', 'num_leaves': 479, 'boosting_type': 'gbdt', 'n_estimators': 448, 'learning_rate': 0.1, 'min_data_in_leaf': 39, 'feature_fraction': 0.46570117641428066, 'bagging_fraction': 0.23522982429430112, 'bagging_freq': 409, 'alpha': 33.13014407433079, 'reg_lambda': 34.20102565535747}. Best is trial 273 with value: 0.6008064516129032.\n"
     ]
    },
    {
     "name": "stdout",
     "output_type": "stream",
     "text": [
      "[LightGBM] [Warning] bagging_fraction is set=0.25099146623936985, subsample=1.0 will be ignored. Current value: bagging_fraction=0.25099146623936985\n",
      "[LightGBM] [Warning] feature_fraction is set=0.4540035983291806, colsample_bytree=1.0 will be ignored. Current value: feature_fraction=0.4540035983291806\n",
      "[LightGBM] [Warning] bagging_freq is set=399, subsample_freq=0 will be ignored. Current value: bagging_freq=399\n",
      "[LightGBM] [Warning] min_data_in_leaf is set=38, min_child_samples=20 will be ignored. Current value: min_data_in_leaf=38\n",
      "[LightGBM] [Warning] num_threads is set=0, n_jobs=-1 will be ignored. Current value: num_threads=0\n"
     ]
    },
    {
     "name": "stderr",
     "output_type": "stream",
     "text": [
      "[I 2023-06-11 02:28:39,702] Trial 292 finished with value: 0.6021505376344086 and parameters: {'model_type': 'lgbm', 'num_leaves': 502, 'boosting_type': 'gbdt', 'n_estimators': 468, 'learning_rate': 0.1, 'min_data_in_leaf': 38, 'feature_fraction': 0.4540035983291806, 'bagging_fraction': 0.25099146623936985, 'bagging_freq': 399, 'alpha': 33.902726470357806, 'reg_lambda': 35.090247708906624}. Best is trial 273 with value: 0.6008064516129032.\n"
     ]
    },
    {
     "name": "stdout",
     "output_type": "stream",
     "text": [
      "[LightGBM] [Warning] bagging_fraction is set=0.24308245719291752, subsample=1.0 will be ignored. Current value: bagging_fraction=0.24308245719291752\n",
      "[LightGBM] [Warning] feature_fraction is set=0.4538466833882887, colsample_bytree=1.0 will be ignored. Current value: feature_fraction=0.4538466833882887\n",
      "[LightGBM] [Warning] bagging_freq is set=183, subsample_freq=0 will be ignored. Current value: bagging_freq=183\n",
      "[LightGBM] [Warning] min_data_in_leaf is set=38, min_child_samples=20 will be ignored. Current value: min_data_in_leaf=38\n",
      "[LightGBM] [Warning] num_threads is set=0, n_jobs=-1 will be ignored. Current value: num_threads=0\n"
     ]
    },
    {
     "name": "stderr",
     "output_type": "stream",
     "text": [
      "[I 2023-06-11 02:28:40,521] Trial 293 finished with value: 0.6599462365591398 and parameters: {'model_type': 'lgbm', 'num_leaves': 455, 'boosting_type': 'gbdt', 'n_estimators': 184, 'learning_rate': 0.1, 'min_data_in_leaf': 38, 'feature_fraction': 0.4538466833882887, 'bagging_fraction': 0.24308245719291752, 'bagging_freq': 183, 'alpha': 33.744802483139274, 'reg_lambda': 34.94861295801927}. Best is trial 273 with value: 0.6008064516129032.\n"
     ]
    },
    {
     "name": "stdout",
     "output_type": "stream",
     "text": [
      "[LightGBM] [Warning] bagging_fraction is set=0.2516758253763707, subsample=1.0 will be ignored. Current value: bagging_fraction=0.2516758253763707\n",
      "[LightGBM] [Warning] feature_fraction is set=0.44293070848542904, colsample_bytree=1.0 will be ignored. Current value: feature_fraction=0.44293070848542904\n",
      "[LightGBM] [Warning] bagging_freq is set=415, subsample_freq=0 will be ignored. Current value: bagging_freq=415\n",
      "[LightGBM] [Warning] min_data_in_leaf is set=38, min_child_samples=20 will be ignored. Current value: min_data_in_leaf=38\n",
      "[LightGBM] [Warning] num_threads is set=0, n_jobs=-1 will be ignored. Current value: num_threads=0\n"
     ]
    },
    {
     "name": "stderr",
     "output_type": "stream",
     "text": [
      "[I 2023-06-11 02:28:41,912] Trial 294 finished with value: 0.635752688172043 and parameters: {'model_type': 'lgbm', 'num_leaves': 249, 'boosting_type': 'gbdt', 'n_estimators': 465, 'learning_rate': 0.05, 'min_data_in_leaf': 38, 'feature_fraction': 0.44293070848542904, 'bagging_fraction': 0.2516758253763707, 'bagging_freq': 415, 'alpha': 32.316862939156515, 'reg_lambda': 35.447912672217356}. Best is trial 273 with value: 0.6008064516129032.\n"
     ]
    },
    {
     "name": "stdout",
     "output_type": "stream",
     "text": [
      "[LightGBM] [Warning] bagging_fraction is set=0.23579102791766723, subsample=1.0 will be ignored. Current value: bagging_fraction=0.23579102791766723\n",
      "[LightGBM] [Warning] feature_fraction is set=0.4628450589421607, colsample_bytree=1.0 will be ignored. Current value: feature_fraction=0.4628450589421607\n",
      "[LightGBM] [Warning] bagging_freq is set=402, subsample_freq=0 will be ignored. Current value: bagging_freq=402\n",
      "[LightGBM] [Warning] min_data_in_leaf is set=39, min_child_samples=20 will be ignored. Current value: min_data_in_leaf=39\n",
      "[LightGBM] [Warning] num_threads is set=0, n_jobs=-1 will be ignored. Current value: num_threads=0\n"
     ]
    },
    {
     "name": "stderr",
     "output_type": "stream",
     "text": [
      "[I 2023-06-11 02:28:43,386] Trial 295 finished with value: 0.6303763440860215 and parameters: {'model_type': 'lgbm', 'num_leaves': 504, 'boosting_type': 'gbdt', 'n_estimators': 455, 'learning_rate': 0.1, 'min_data_in_leaf': 39, 'feature_fraction': 0.4628450589421607, 'bagging_fraction': 0.23579102791766723, 'bagging_freq': 402, 'alpha': 32.9448312707198, 'reg_lambda': 34.297183873761334}. Best is trial 273 with value: 0.6008064516129032.\n"
     ]
    },
    {
     "name": "stdout",
     "output_type": "stream",
     "text": [
      "[LightGBM] [Warning] bagging_fraction is set=0.24890449546346088, subsample=1.0 will be ignored. Current value: bagging_fraction=0.24890449546346088\n",
      "[LightGBM] [Warning] feature_fraction is set=0.4493750582017569, colsample_bytree=1.0 will be ignored. Current value: feature_fraction=0.4493750582017569\n",
      "[LightGBM] [Warning] bagging_freq is set=435, subsample_freq=0 will be ignored. Current value: bagging_freq=435\n",
      "[LightGBM] [Warning] min_data_in_leaf is set=38, min_child_samples=20 will be ignored. Current value: min_data_in_leaf=38\n",
      "[LightGBM] [Warning] num_threads is set=0, n_jobs=-1 will be ignored. Current value: num_threads=0\n"
     ]
    },
    {
     "name": "stderr",
     "output_type": "stream",
     "text": [
      "[I 2023-06-11 02:28:44,849] Trial 296 finished with value: 0.6236559139784946 and parameters: {'model_type': 'lgbm', 'num_leaves': 439, 'boosting_type': 'gbdt', 'n_estimators': 467, 'learning_rate': 0.1, 'min_data_in_leaf': 38, 'feature_fraction': 0.4493750582017569, 'bagging_fraction': 0.24890449546346088, 'bagging_freq': 435, 'alpha': 33.93019764637131, 'reg_lambda': 35.0741900629736}. Best is trial 273 with value: 0.6008064516129032.\n"
     ]
    },
    {
     "name": "stdout",
     "output_type": "stream",
     "text": [
      "[LightGBM] [Warning] bagging_fraction is set=0.5011401641606867, subsample=1.0 will be ignored. Current value: bagging_fraction=0.5011401641606867\n",
      "[LightGBM] [Warning] feature_fraction is set=0.5083579802402219, colsample_bytree=1.0 will be ignored. Current value: feature_fraction=0.5083579802402219\n",
      "[LightGBM] [Warning] bagging_freq is set=393, subsample_freq=0 will be ignored. Current value: bagging_freq=393\n",
      "[LightGBM] [Warning] min_data_in_leaf is set=10, min_child_samples=20 will be ignored. Current value: min_data_in_leaf=10\n",
      "[LightGBM] [Warning] num_threads is set=0, n_jobs=-1 will be ignored. Current value: num_threads=0\n"
     ]
    },
    {
     "name": "stderr",
     "output_type": "stream",
     "text": [
      "[I 2023-06-11 02:28:50,530] Trial 297 finished with value: 0.6706989247311828 and parameters: {'model_type': 'lgbm', 'num_leaves': 147, 'boosting_type': 'gbdt', 'n_estimators': 450, 'learning_rate': 0.0001, 'min_data_in_leaf': 10, 'feature_fraction': 0.5083579802402219, 'bagging_fraction': 0.5011401641606867, 'bagging_freq': 393, 'alpha': 19.01824706423344, 'reg_lambda': 18.24499257785105}. Best is trial 273 with value: 0.6008064516129032.\n"
     ]
    },
    {
     "name": "stdout",
     "output_type": "stream",
     "text": [
      "[LightGBM] [Warning] bagging_fraction is set=0.25593190395302684, subsample=1.0 will be ignored. Current value: bagging_fraction=0.25593190395302684\n",
      "[LightGBM] [Warning] feature_fraction is set=0.43801961261817146, colsample_bytree=1.0 will be ignored. Current value: feature_fraction=0.43801961261817146\n",
      "[LightGBM] [Warning] bagging_freq is set=240, subsample_freq=0 will be ignored. Current value: bagging_freq=240\n",
      "[LightGBM] [Warning] min_data_in_leaf is set=39, min_child_samples=20 will be ignored. Current value: min_data_in_leaf=39\n",
      "[LightGBM] [Warning] num_threads is set=0, n_jobs=-1 will be ignored. Current value: num_threads=0\n"
     ]
    },
    {
     "name": "stderr",
     "output_type": "stream",
     "text": [
      "[I 2023-06-11 02:28:52,011] Trial 298 finished with value: 0.6290322580645161 and parameters: {'model_type': 'lgbm', 'num_leaves': 494, 'boosting_type': 'gbdt', 'n_estimators': 438, 'learning_rate': 0.1, 'min_data_in_leaf': 39, 'feature_fraction': 0.43801961261817146, 'bagging_fraction': 0.25593190395302684, 'bagging_freq': 240, 'alpha': 33.541103383423746, 'reg_lambda': 33.423611772718004}. Best is trial 273 with value: 0.6008064516129032.\n"
     ]
    },
    {
     "name": "stdout",
     "output_type": "stream",
     "text": [
      "[LightGBM] [Warning] bagging_fraction is set=0.30661888694856354, subsample=1.0 will be ignored. Current value: bagging_fraction=0.30661888694856354\n",
      "[LightGBM] [Warning] feature_fraction is set=0.503507080026087, colsample_bytree=1.0 will be ignored. Current value: feature_fraction=0.503507080026087\n",
      "[LightGBM] [Warning] bagging_freq is set=324, subsample_freq=0 will be ignored. Current value: bagging_freq=324\n",
      "[LightGBM] [Warning] min_data_in_leaf is set=30, min_child_samples=20 will be ignored. Current value: min_data_in_leaf=30\n",
      "[LightGBM] [Warning] num_threads is set=0, n_jobs=-1 will be ignored. Current value: num_threads=0\n"
     ]
    },
    {
     "name": "stderr",
     "output_type": "stream",
     "text": [
      "[I 2023-06-11 02:28:54,453] Trial 299 finished with value: 0.6626344086021505 and parameters: {'model_type': 'lgbm', 'num_leaves': 964, 'boosting_type': 'gbdt', 'n_estimators': 458, 'learning_rate': 0.01, 'min_data_in_leaf': 30, 'feature_fraction': 0.503507080026087, 'bagging_fraction': 0.30661888694856354, 'bagging_freq': 324, 'alpha': 29.71881853499106, 'reg_lambda': 29.783748901536175}. Best is trial 273 with value: 0.6008064516129032.\n"
     ]
    },
    {
     "name": "stdout",
     "output_type": "stream",
     "text": [
      "[LightGBM] [Warning] bagging_fraction is set=0.22621822738044572, subsample=1.0 will be ignored. Current value: bagging_fraction=0.22621822738044572\n",
      "[LightGBM] [Warning] feature_fraction is set=0.46696745156880765, colsample_bytree=1.0 will be ignored. Current value: feature_fraction=0.46696745156880765\n",
      "[LightGBM] [Warning] bagging_freq is set=372, subsample_freq=0 will be ignored. Current value: bagging_freq=372\n",
      "[LightGBM] [Warning] min_data_in_leaf is set=38, min_child_samples=20 will be ignored. Current value: min_data_in_leaf=38\n",
      "[LightGBM] [Warning] num_threads is set=0, n_jobs=-1 will be ignored. Current value: num_threads=0\n"
     ]
    },
    {
     "name": "stderr",
     "output_type": "stream",
     "text": [
      "[I 2023-06-11 02:28:56,050] Trial 300 finished with value: 0.6129032258064516 and parameters: {'model_type': 'lgbm', 'num_leaves': 603, 'boosting_type': 'gbdt', 'n_estimators': 470, 'learning_rate': 0.1, 'min_data_in_leaf': 38, 'feature_fraction': 0.46696745156880765, 'bagging_fraction': 0.22621822738044572, 'bagging_freq': 372, 'alpha': 32.58421621151296, 'reg_lambda': 35.54099753573568}. Best is trial 273 with value: 0.6008064516129032.\n"
     ]
    },
    {
     "name": "stdout",
     "output_type": "stream",
     "text": [
      "[LightGBM] [Warning] bagging_fraction is set=0.22428456903830754, subsample=1.0 will be ignored. Current value: bagging_fraction=0.22428456903830754\n",
      "[LightGBM] [Warning] feature_fraction is set=0.46621479212899203, colsample_bytree=1.0 will be ignored. Current value: feature_fraction=0.46621479212899203\n",
      "[LightGBM] [Warning] bagging_freq is set=370, subsample_freq=0 will be ignored. Current value: bagging_freq=370\n",
      "[LightGBM] [Warning] min_data_in_leaf is set=38, min_child_samples=20 will be ignored. Current value: min_data_in_leaf=38\n",
      "[LightGBM] [Warning] num_threads is set=0, n_jobs=-1 will be ignored. Current value: num_threads=0\n"
     ]
    },
    {
     "name": "stderr",
     "output_type": "stream",
     "text": [
      "[I 2023-06-11 02:28:57,638] Trial 301 finished with value: 0.6129032258064516 and parameters: {'model_type': 'lgbm', 'num_leaves': 579, 'boosting_type': 'gbdt', 'n_estimators': 472, 'learning_rate': 0.1, 'min_data_in_leaf': 38, 'feature_fraction': 0.46621479212899203, 'bagging_fraction': 0.22428456903830754, 'bagging_freq': 370, 'alpha': 32.288456939914674, 'reg_lambda': 35.614937400186946}. Best is trial 273 with value: 0.6008064516129032.\n"
     ]
    },
    {
     "name": "stdout",
     "output_type": "stream",
     "text": [
      "[LightGBM] [Warning] bagging_fraction is set=0.216878094169493, subsample=1.0 will be ignored. Current value: bagging_fraction=0.216878094169493\n",
      "[LightGBM] [Warning] feature_fraction is set=0.4624961152171563, colsample_bytree=1.0 will be ignored. Current value: feature_fraction=0.4624961152171563\n",
      "[LightGBM] [Warning] bagging_freq is set=372, subsample_freq=0 will be ignored. Current value: bagging_freq=372\n",
      "[LightGBM] [Warning] min_data_in_leaf is set=38, min_child_samples=20 will be ignored. Current value: min_data_in_leaf=38\n",
      "[LightGBM] [Warning] num_threads is set=0, n_jobs=-1 will be ignored. Current value: num_threads=0\n"
     ]
    },
    {
     "name": "stderr",
     "output_type": "stream",
     "text": [
      "[I 2023-06-11 02:28:59,207] Trial 302 finished with value: 0.6330645161290323 and parameters: {'model_type': 'lgbm', 'num_leaves': 564, 'boosting_type': 'gbdt', 'n_estimators': 480, 'learning_rate': 0.1, 'min_data_in_leaf': 38, 'feature_fraction': 0.4624961152171563, 'bagging_fraction': 0.216878094169493, 'bagging_freq': 372, 'alpha': 32.394188743506724, 'reg_lambda': 35.41271228665879}. Best is trial 273 with value: 0.6008064516129032.\n"
     ]
    },
    {
     "name": "stdout",
     "output_type": "stream",
     "text": [
      "[LightGBM] [Warning] bagging_fraction is set=0.23738040201830823, subsample=1.0 will be ignored. Current value: bagging_fraction=0.23738040201830823\n",
      "[LightGBM] [Warning] feature_fraction is set=0.4668774147290027, colsample_bytree=1.0 will be ignored. Current value: feature_fraction=0.4668774147290027\n",
      "[LightGBM] [Warning] bagging_freq is set=364, subsample_freq=0 will be ignored. Current value: bagging_freq=364\n",
      "[LightGBM] [Warning] min_data_in_leaf is set=38, min_child_samples=20 will be ignored. Current value: min_data_in_leaf=38\n",
      "[LightGBM] [Warning] num_threads is set=0, n_jobs=-1 will be ignored. Current value: num_threads=0\n"
     ]
    },
    {
     "name": "stderr",
     "output_type": "stream",
     "text": [
      "[I 2023-06-11 02:29:00,904] Trial 303 finished with value: 0.635752688172043 and parameters: {'model_type': 'lgbm', 'num_leaves': 669, 'boosting_type': 'gbdt', 'n_estimators': 472, 'learning_rate': 0.1, 'min_data_in_leaf': 38, 'feature_fraction': 0.4668774147290027, 'bagging_fraction': 0.23738040201830823, 'bagging_freq': 364, 'alpha': 32.16020966926963, 'reg_lambda': 34.94427397406352}. Best is trial 273 with value: 0.6008064516129032.\n"
     ]
    },
    {
     "name": "stdout",
     "output_type": "stream",
     "text": [
      "[LightGBM] [Warning] bagging_fraction is set=0.24940467167086386, subsample=1.0 will be ignored. Current value: bagging_fraction=0.24940467167086386\n",
      "[LightGBM] [Warning] feature_fraction is set=0.4692363486889469, colsample_bytree=1.0 will be ignored. Current value: feature_fraction=0.4692363486889469\n",
      "[LightGBM] [Warning] bagging_freq is set=359, subsample_freq=0 will be ignored. Current value: bagging_freq=359\n",
      "[LightGBM] [Warning] min_data_in_leaf is set=38, min_child_samples=20 will be ignored. Current value: min_data_in_leaf=38\n",
      "[LightGBM] [Warning] num_threads is set=0, n_jobs=-1 will be ignored. Current value: num_threads=0\n"
     ]
    },
    {
     "name": "stderr",
     "output_type": "stream",
     "text": [
      "[I 2023-06-11 02:29:02,569] Trial 304 finished with value: 0.6169354838709677 and parameters: {'model_type': 'lgbm', 'num_leaves': 523, 'boosting_type': 'gbdt', 'n_estimators': 493, 'learning_rate': 0.1, 'min_data_in_leaf': 38, 'feature_fraction': 0.4692363486889469, 'bagging_fraction': 0.24940467167086386, 'bagging_freq': 359, 'alpha': 32.82579980448452, 'reg_lambda': 35.745197745352584}. Best is trial 273 with value: 0.6008064516129032.\n"
     ]
    },
    {
     "name": "stdout",
     "output_type": "stream",
     "text": [
      "[LightGBM] [Warning] bagging_fraction is set=0.22428172438553876, subsample=1.0 will be ignored. Current value: bagging_fraction=0.22428172438553876\n",
      "[LightGBM] [Warning] feature_fraction is set=0.45343609858958817, colsample_bytree=1.0 will be ignored. Current value: feature_fraction=0.45343609858958817\n",
      "[LightGBM] [Warning] bagging_freq is set=372, subsample_freq=0 will be ignored. Current value: bagging_freq=372\n",
      "[LightGBM] [Warning] min_data_in_leaf is set=38, min_child_samples=20 will be ignored. Current value: min_data_in_leaf=38\n",
      "[LightGBM] [Warning] num_threads is set=0, n_jobs=-1 will be ignored. Current value: num_threads=0\n"
     ]
    },
    {
     "name": "stderr",
     "output_type": "stream",
     "text": [
      "[I 2023-06-11 02:29:04,170] Trial 305 finished with value: 0.6263440860215054 and parameters: {'model_type': 'lgbm', 'num_leaves': 603, 'boosting_type': 'gbdt', 'n_estimators': 469, 'learning_rate': 0.1, 'min_data_in_leaf': 38, 'feature_fraction': 0.45343609858958817, 'bagging_fraction': 0.22428172438553876, 'bagging_freq': 372, 'alpha': 32.53230587795831, 'reg_lambda': 34.43940240735948}. Best is trial 273 with value: 0.6008064516129032.\n"
     ]
    },
    {
     "name": "stdout",
     "output_type": "stream",
     "text": [
      "[LightGBM] [Warning] min_data_in_leaf is set=35, min_child_samples=20 will be ignored. Current value: min_data_in_leaf=35\n",
      "[LightGBM] [Warning] num_threads is set=0, n_jobs=-1 will be ignored. Current value: num_threads=0\n"
     ]
    },
    {
     "name": "stderr",
     "output_type": "stream",
     "text": [
      "[I 2023-06-11 02:29:07,033] Trial 306 finished with value: 0.6478494623655914 and parameters: {'model_type': 'lgbm', 'num_leaves': 534, 'boosting_type': 'goss', 'learning_rate': 0.1, 'min_data_in_leaf': 35, 'top_rate': 0.8973250245511204}. Best is trial 273 with value: 0.6008064516129032.\n"
     ]
    },
    {
     "name": "stdout",
     "output_type": "stream",
     "text": [
      "[LightGBM] [Warning] bagging_fraction is set=0.22665714307228285, subsample=1.0 will be ignored. Current value: bagging_fraction=0.22665714307228285\n",
      "[LightGBM] [Warning] feature_fraction is set=0.47080953924550656, colsample_bytree=1.0 will be ignored. Current value: feature_fraction=0.47080953924550656\n",
      "[LightGBM] [Warning] bagging_freq is set=206, subsample_freq=0 will be ignored. Current value: bagging_freq=206\n",
      "[LightGBM] [Warning] min_data_in_leaf is set=37, min_child_samples=20 will be ignored. Current value: min_data_in_leaf=37\n",
      "[LightGBM] [Warning] num_threads is set=0, n_jobs=-1 will be ignored. Current value: num_threads=0\n"
     ]
    },
    {
     "name": "stderr",
     "output_type": "stream",
     "text": [
      "[I 2023-06-11 02:29:08,466] Trial 307 finished with value: 0.6370967741935484 and parameters: {'model_type': 'lgbm', 'num_leaves': 449, 'boosting_type': 'gbdt', 'n_estimators': 425, 'learning_rate': 0.1, 'min_data_in_leaf': 37, 'feature_fraction': 0.47080953924550656, 'bagging_fraction': 0.22665714307228285, 'bagging_freq': 206, 'alpha': 33.05734506728174, 'reg_lambda': 35.511041312306546}. Best is trial 273 with value: 0.6008064516129032.\n"
     ]
    },
    {
     "name": "stdout",
     "output_type": "stream",
     "text": [
      "[LightGBM] [Warning] bagging_fraction is set=0.24360137186422937, subsample=1.0 will be ignored. Current value: bagging_fraction=0.24360137186422937\n",
      "[LightGBM] [Warning] feature_fraction is set=0.455322320666695, colsample_bytree=1.0 will be ignored. Current value: feature_fraction=0.455322320666695\n",
      "[LightGBM] [Warning] bagging_freq is set=385, subsample_freq=0 will be ignored. Current value: bagging_freq=385\n",
      "[LightGBM] [Warning] min_data_in_leaf is set=39, min_child_samples=20 will be ignored. Current value: min_data_in_leaf=39\n",
      "[LightGBM] [Warning] num_threads is set=0, n_jobs=-1 will be ignored. Current value: num_threads=0\n"
     ]
    },
    {
     "name": "stderr",
     "output_type": "stream",
     "text": [
      "[I 2023-06-11 02:29:10,011] Trial 308 finished with value: 0.6223118279569892 and parameters: {'model_type': 'lgbm', 'num_leaves': 601, 'boosting_type': 'gbdt', 'n_estimators': 438, 'learning_rate': 0.1, 'min_data_in_leaf': 39, 'feature_fraction': 0.455322320666695, 'bagging_fraction': 0.24360137186422937, 'bagging_freq': 385, 'alpha': 32.237013926400095, 'reg_lambda': 36.11990450282454}. Best is trial 273 with value: 0.6008064516129032.\n"
     ]
    },
    {
     "name": "stdout",
     "output_type": "stream",
     "text": [
      "[LightGBM] [Warning] bagging_fraction is set=0.23010986711578177, subsample=1.0 will be ignored. Current value: bagging_fraction=0.23010986711578177\n",
      "[LightGBM] [Warning] feature_fraction is set=0.46590081695744306, colsample_bytree=1.0 will be ignored. Current value: feature_fraction=0.46590081695744306\n",
      "[LightGBM] [Warning] bagging_freq is set=346, subsample_freq=0 will be ignored. Current value: bagging_freq=346\n",
      "[LightGBM] [Warning] min_data_in_leaf is set=39, min_child_samples=20 will be ignored. Current value: min_data_in_leaf=39\n",
      "[LightGBM] [Warning] num_threads is set=0, n_jobs=-1 will be ignored. Current value: num_threads=0\n"
     ]
    },
    {
     "name": "stderr",
     "output_type": "stream",
     "text": [
      "[I 2023-06-11 02:29:11,488] Trial 309 finished with value: 0.6169354838709677 and parameters: {'model_type': 'lgbm', 'num_leaves': 483, 'boosting_type': 'gbdt', 'n_estimators': 464, 'learning_rate': 0.1, 'min_data_in_leaf': 39, 'feature_fraction': 0.46590081695744306, 'bagging_fraction': 0.23010986711578177, 'bagging_freq': 346, 'alpha': 32.64997671262071, 'reg_lambda': 34.92360360974029}. Best is trial 273 with value: 0.6008064516129032.\n"
     ]
    },
    {
     "name": "stdout",
     "output_type": "stream",
     "text": [
      "[LightGBM] [Warning] bagging_fraction is set=0.2546707803735435, subsample=1.0 will be ignored. Current value: bagging_fraction=0.2546707803735435\n",
      "[LightGBM] [Warning] feature_fraction is set=0.4508178113307789, colsample_bytree=1.0 will be ignored. Current value: feature_fraction=0.4508178113307789\n",
      "[LightGBM] [Warning] bagging_freq is set=373, subsample_freq=0 will be ignored. Current value: bagging_freq=373\n",
      "[LightGBM] [Warning] min_data_in_leaf is set=38, min_child_samples=20 will be ignored. Current value: min_data_in_leaf=38\n",
      "[LightGBM] [Warning] num_threads is set=0, n_jobs=-1 will be ignored. Current value: num_threads=0\n"
     ]
    },
    {
     "name": "stderr",
     "output_type": "stream",
     "text": [
      "[I 2023-06-11 02:29:13,069] Trial 310 finished with value: 0.6102150537634409 and parameters: {'model_type': 'lgbm', 'num_leaves': 433, 'boosting_type': 'gbdt', 'n_estimators': 481, 'learning_rate': 0.1, 'min_data_in_leaf': 38, 'feature_fraction': 0.4508178113307789, 'bagging_fraction': 0.2546707803735435, 'bagging_freq': 373, 'alpha': 32.03073443628869, 'reg_lambda': 34.27875601968588}. Best is trial 273 with value: 0.6008064516129032.\n"
     ]
    },
    {
     "name": "stdout",
     "output_type": "stream",
     "text": [
      "[LightGBM] [Warning] bagging_fraction is set=0.2529900008742483, subsample=1.0 will be ignored. Current value: bagging_fraction=0.2529900008742483\n",
      "[LightGBM] [Warning] feature_fraction is set=0.446932946437504, colsample_bytree=1.0 will be ignored. Current value: feature_fraction=0.446932946437504\n",
      "[LightGBM] [Warning] bagging_freq is set=458, subsample_freq=0 will be ignored. Current value: bagging_freq=458\n",
      "[LightGBM] [Warning] min_data_in_leaf is set=38, min_child_samples=20 will be ignored. Current value: min_data_in_leaf=38\n",
      "[LightGBM] [Warning] num_threads is set=0, n_jobs=-1 will be ignored. Current value: num_threads=0\n"
     ]
    },
    {
     "name": "stderr",
     "output_type": "stream",
     "text": [
      "[I 2023-06-11 02:29:14,641] Trial 311 finished with value: 0.6075268817204301 and parameters: {'model_type': 'lgbm', 'num_leaves': 429, 'boosting_type': 'gbdt', 'n_estimators': 496, 'learning_rate': 0.1, 'min_data_in_leaf': 38, 'feature_fraction': 0.446932946437504, 'bagging_fraction': 0.2529900008742483, 'bagging_freq': 458, 'alpha': 32.091364193908184, 'reg_lambda': 34.552501034007754}. Best is trial 273 with value: 0.6008064516129032.\n"
     ]
    },
    {
     "name": "stdout",
     "output_type": "stream",
     "text": [
      "[LightGBM] [Warning] bagging_fraction is set=0.5010911352566139, subsample=1.0 will be ignored. Current value: bagging_fraction=0.5010911352566139\n",
      "[LightGBM] [Warning] feature_fraction is set=0.5078485839772443, colsample_bytree=1.0 will be ignored. Current value: feature_fraction=0.5078485839772443\n",
      "[LightGBM] [Warning] bagging_freq is set=369, subsample_freq=0 will be ignored. Current value: bagging_freq=369\n",
      "[LightGBM] [Warning] min_data_in_leaf is set=20, min_child_samples=20 will be ignored. Current value: min_data_in_leaf=20\n",
      "[LightGBM] [Warning] num_threads is set=0, n_jobs=-1 will be ignored. Current value: num_threads=0\n"
     ]
    },
    {
     "name": "stderr",
     "output_type": "stream",
     "text": [
      "[I 2023-06-11 02:29:18,840] Trial 312 finished with value: 0.6706989247311828 and parameters: {'model_type': 'lgbm', 'num_leaves': 422, 'boosting_type': 'gbdt', 'n_estimators': 488, 'learning_rate': 0.0005, 'min_data_in_leaf': 20, 'feature_fraction': 0.5078485839772443, 'bagging_fraction': 0.5010911352566139, 'bagging_freq': 369, 'alpha': 18.95842831847046, 'reg_lambda': 18.49213946695058}. Best is trial 273 with value: 0.6008064516129032.\n"
     ]
    },
    {
     "name": "stdout",
     "output_type": "stream",
     "text": [
      "[LightGBM] [Warning] bagging_fraction is set=0.24160481036955433, subsample=1.0 will be ignored. Current value: bagging_fraction=0.24160481036955433\n",
      "[LightGBM] [Warning] feature_fraction is set=0.44328195436456413, colsample_bytree=1.0 will be ignored. Current value: feature_fraction=0.44328195436456413\n",
      "[LightGBM] [Warning] bagging_freq is set=377, subsample_freq=0 will be ignored. Current value: bagging_freq=377\n",
      "[LightGBM] [Warning] min_data_in_leaf is set=37, min_child_samples=20 will be ignored. Current value: min_data_in_leaf=37\n",
      "[LightGBM] [Warning] num_threads is set=0, n_jobs=-1 will be ignored. Current value: num_threads=0\n"
     ]
    },
    {
     "name": "stderr",
     "output_type": "stream",
     "text": [
      "[I 2023-06-11 02:29:20,500] Trial 313 finished with value: 0.6290322580645161 and parameters: {'model_type': 'lgbm', 'num_leaves': 378, 'boosting_type': 'gbdt', 'n_estimators': 495, 'learning_rate': 0.1, 'min_data_in_leaf': 37, 'feature_fraction': 0.44328195436456413, 'bagging_fraction': 0.24160481036955433, 'bagging_freq': 377, 'alpha': 31.922330344760997, 'reg_lambda': 34.23781071518477}. Best is trial 273 with value: 0.6008064516129032.\n"
     ]
    },
    {
     "name": "stdout",
     "output_type": "stream",
     "text": [
      "[LightGBM] [Warning] bagging_fraction is set=0.2550460802896086, subsample=1.0 will be ignored. Current value: bagging_fraction=0.2550460802896086\n",
      "[LightGBM] [Warning] feature_fraction is set=0.4488957367518923, colsample_bytree=1.0 will be ignored. Current value: feature_fraction=0.4488957367518923\n",
      "[LightGBM] [Warning] bagging_freq is set=355, subsample_freq=0 will be ignored. Current value: bagging_freq=355\n",
      "[LightGBM] [Warning] min_data_in_leaf is set=38, min_child_samples=20 will be ignored. Current value: min_data_in_leaf=38\n",
      "[LightGBM] [Warning] num_threads is set=0, n_jobs=-1 will be ignored. Current value: num_threads=0\n"
     ]
    },
    {
     "name": "stderr",
     "output_type": "stream",
     "text": [
      "[I 2023-06-11 02:29:22,054] Trial 314 finished with value: 0.6169354838709677 and parameters: {'model_type': 'lgbm', 'num_leaves': 336, 'boosting_type': 'gbdt', 'n_estimators': 498, 'learning_rate': 0.1, 'min_data_in_leaf': 38, 'feature_fraction': 0.4488957367518923, 'bagging_fraction': 0.2550460802896086, 'bagging_freq': 355, 'alpha': 32.10497601458594, 'reg_lambda': 33.316602089307416}. Best is trial 273 with value: 0.6008064516129032.\n"
     ]
    },
    {
     "name": "stdout",
     "output_type": "stream",
     "text": [
      "[LightGBM] [Warning] bagging_fraction is set=0.2484439970353567, subsample=1.0 will be ignored. Current value: bagging_fraction=0.2484439970353567\n",
      "[LightGBM] [Warning] feature_fraction is set=0.45923364595095434, colsample_bytree=1.0 will be ignored. Current value: feature_fraction=0.45923364595095434\n",
      "[LightGBM] [Warning] bagging_freq is set=382, subsample_freq=0 will be ignored. Current value: bagging_freq=382\n",
      "[LightGBM] [Warning] min_data_in_leaf is set=38, min_child_samples=20 will be ignored. Current value: min_data_in_leaf=38\n",
      "[LightGBM] [Warning] num_threads is set=0, n_jobs=-1 will be ignored. Current value: num_threads=0\n"
     ]
    },
    {
     "name": "stderr",
     "output_type": "stream",
     "text": [
      "[I 2023-06-11 02:29:23,625] Trial 315 finished with value: 0.6182795698924731 and parameters: {'model_type': 'lgbm', 'num_leaves': 457, 'boosting_type': 'gbdt', 'n_estimators': 480, 'learning_rate': 0.1, 'min_data_in_leaf': 38, 'feature_fraction': 0.45923364595095434, 'bagging_fraction': 0.2484439970353567, 'bagging_freq': 382, 'alpha': 33.00275458077006, 'reg_lambda': 34.78695544892525}. Best is trial 273 with value: 0.6008064516129032.\n"
     ]
    },
    {
     "name": "stdout",
     "output_type": "stream",
     "text": [
      "[LightGBM] [Warning] bagging_fraction is set=0.5010692835564166, subsample=1.0 will be ignored. Current value: bagging_fraction=0.5010692835564166\n",
      "[LightGBM] [Warning] bagging_freq is set=464, subsample_freq=0 will be ignored. Current value: bagging_freq=464\n",
      "[LightGBM] [Warning] min_data_in_leaf is set=20, min_child_samples=20 will be ignored. Current value: min_data_in_leaf=20\n",
      "[LightGBM] [Warning] num_threads is set=0, n_jobs=-1 will be ignored. Current value: num_threads=0\n"
     ]
    },
    {
     "name": "stderr",
     "output_type": "stream",
     "text": [
      "[I 2023-06-11 02:29:30,100] Trial 316 finished with value: 0.6706989247311828 and parameters: {'model_type': 'lgbm', 'num_leaves': 430, 'boosting_type': 'rf', 'n_estimators': 481, 'feature_fraction_bynode': 0.045019446904518964, 'bagging_fraction': 0.5010692835564166, 'bagging_freq': 464, 'min_data_in_leaf': 20, 'alpha': 19.10070019077461, 'reg_lambda': 18.482861409851253}. Best is trial 273 with value: 0.6008064516129032.\n"
     ]
    },
    {
     "name": "stdout",
     "output_type": "stream",
     "text": [
      "[LightGBM] [Warning] bagging_fraction is set=0.2540575243971267, subsample=1.0 will be ignored. Current value: bagging_fraction=0.2540575243971267\n",
      "[LightGBM] [Warning] feature_fraction is set=0.44901635037594306, colsample_bytree=1.0 will be ignored. Current value: feature_fraction=0.44901635037594306\n",
      "[LightGBM] [Warning] bagging_freq is set=461, subsample_freq=0 will be ignored. Current value: bagging_freq=461\n",
      "[LightGBM] [Warning] min_data_in_leaf is set=37, min_child_samples=20 will be ignored. Current value: min_data_in_leaf=37\n",
      "[LightGBM] [Warning] num_threads is set=0, n_jobs=-1 will be ignored. Current value: num_threads=0\n"
     ]
    },
    {
     "name": "stderr",
     "output_type": "stream",
     "text": [
      "[I 2023-06-11 02:29:31,711] Trial 317 finished with value: 0.6155913978494624 and parameters: {'model_type': 'lgbm', 'num_leaves': 488, 'boosting_type': 'gbdt', 'n_estimators': 477, 'learning_rate': 0.1, 'min_data_in_leaf': 37, 'feature_fraction': 0.44901635037594306, 'bagging_fraction': 0.2540575243971267, 'bagging_freq': 461, 'alpha': 32.43838157516345, 'reg_lambda': 33.817755680288876}. Best is trial 273 with value: 0.6008064516129032.\n"
     ]
    },
    {
     "name": "stdout",
     "output_type": "stream",
     "text": [
      "[LightGBM] [Warning] bagging_fraction is set=0.2364798447119629, subsample=1.0 will be ignored. Current value: bagging_fraction=0.2364798447119629\n",
      "[LightGBM] [Warning] feature_fraction is set=0.45784190768001565, colsample_bytree=1.0 will be ignored. Current value: feature_fraction=0.45784190768001565\n",
      "[LightGBM] [Warning] bagging_freq is set=365, subsample_freq=0 will be ignored. Current value: bagging_freq=365\n",
      "[LightGBM] [Warning] min_data_in_leaf is set=38, min_child_samples=20 will be ignored. Current value: min_data_in_leaf=38\n",
      "[LightGBM] [Warning] num_threads is set=0, n_jobs=-1 will be ignored. Current value: num_threads=0\n"
     ]
    },
    {
     "name": "stderr",
     "output_type": "stream",
     "text": [
      "[I 2023-06-11 02:29:33,306] Trial 318 finished with value: 0.6303763440860215 and parameters: {'model_type': 'lgbm', 'num_leaves': 579, 'boosting_type': 'gbdt', 'n_estimators': 468, 'learning_rate': 0.1, 'min_data_in_leaf': 38, 'feature_fraction': 0.45784190768001565, 'bagging_fraction': 0.2364798447119629, 'bagging_freq': 365, 'alpha': 31.873006830008137, 'reg_lambda': 34.36621055104038}. Best is trial 273 with value: 0.6008064516129032.\n"
     ]
    },
    {
     "name": "stdout",
     "output_type": "stream",
     "text": [
      "[LightGBM] [Warning] bagging_fraction is set=0.24484770046566837, subsample=1.0 will be ignored. Current value: bagging_fraction=0.24484770046566837\n",
      "[LightGBM] [Warning] feature_fraction is set=0.436302917286341, colsample_bytree=1.0 will be ignored. Current value: feature_fraction=0.436302917286341\n",
      "[LightGBM] [Warning] bagging_freq is set=377, subsample_freq=0 will be ignored. Current value: bagging_freq=377\n",
      "[LightGBM] [Warning] min_data_in_leaf is set=39, min_child_samples=20 will be ignored. Current value: min_data_in_leaf=39\n",
      "[LightGBM] [Warning] num_threads is set=0, n_jobs=-1 will be ignored. Current value: num_threads=0\n"
     ]
    },
    {
     "name": "stderr",
     "output_type": "stream",
     "text": [
      "[I 2023-06-11 02:29:34,704] Trial 319 finished with value: 0.6317204301075269 and parameters: {'model_type': 'lgbm', 'num_leaves': 407, 'boosting_type': 'gbdt', 'n_estimators': 458, 'learning_rate': 0.1, 'min_data_in_leaf': 39, 'feature_fraction': 0.436302917286341, 'bagging_fraction': 0.24484770046566837, 'bagging_freq': 377, 'alpha': 31.52570521023381, 'reg_lambda': 35.419799462432756}. Best is trial 273 with value: 0.6008064516129032.\n"
     ]
    },
    {
     "name": "stdout",
     "output_type": "stream",
     "text": [
      "[LightGBM] [Warning] bagging_fraction is set=0.2227495154481467, subsample=1.0 will be ignored. Current value: bagging_fraction=0.2227495154481467\n",
      "[LightGBM] [Warning] feature_fraction is set=0.4632269892935713, colsample_bytree=1.0 will be ignored. Current value: feature_fraction=0.4632269892935713\n",
      "[LightGBM] [Warning] bagging_freq is set=253, subsample_freq=0 will be ignored. Current value: bagging_freq=253\n",
      "[LightGBM] [Warning] min_data_in_leaf is set=39, min_child_samples=20 will be ignored. Current value: min_data_in_leaf=39\n",
      "[LightGBM] [Warning] num_threads is set=0, n_jobs=-1 will be ignored. Current value: num_threads=0\n"
     ]
    },
    {
     "name": "stderr",
     "output_type": "stream",
     "text": [
      "[I 2023-06-11 02:29:35,651] Trial 320 finished with value: 0.6532258064516129 and parameters: {'model_type': 'lgbm', 'num_leaves': 443, 'boosting_type': 'gbdt', 'n_estimators': 254, 'learning_rate': 0.1, 'min_data_in_leaf': 39, 'feature_fraction': 0.4632269892935713, 'bagging_fraction': 0.2227495154481467, 'bagging_freq': 253, 'alpha': 30.976986793805974, 'reg_lambda': 33.13776225948197}. Best is trial 273 with value: 0.6008064516129032.\n"
     ]
    },
    {
     "name": "stdout",
     "output_type": "stream",
     "text": [
      "[LightGBM] [Warning] bagging_fraction is set=0.2766384210373379, subsample=1.0 will be ignored. Current value: bagging_fraction=0.2766384210373379\n",
      "[LightGBM] [Warning] feature_fraction is set=0.47086583498687345, colsample_bytree=1.0 will be ignored. Current value: feature_fraction=0.47086583498687345\n",
      "[LightGBM] [Warning] bagging_freq is set=453, subsample_freq=0 will be ignored. Current value: bagging_freq=453\n",
      "[LightGBM] [Warning] min_data_in_leaf is set=38, min_child_samples=20 will be ignored. Current value: min_data_in_leaf=38\n",
      "[LightGBM] [Warning] num_threads is set=0, n_jobs=-1 will be ignored. Current value: num_threads=0\n"
     ]
    },
    {
     "name": "stderr",
     "output_type": "stream",
     "text": [
      "[I 2023-06-11 02:29:37,336] Trial 321 finished with value: 0.6196236559139785 and parameters: {'model_type': 'lgbm', 'num_leaves': 424, 'boosting_type': 'gbdt', 'n_estimators': 472, 'learning_rate': 0.1, 'min_data_in_leaf': 38, 'feature_fraction': 0.47086583498687345, 'bagging_fraction': 0.2766384210373379, 'bagging_freq': 453, 'alpha': 33.21327704061017, 'reg_lambda': 35.978590843883076}. Best is trial 273 with value: 0.6008064516129032.\n"
     ]
    },
    {
     "name": "stdout",
     "output_type": "stream",
     "text": [
      "[LightGBM] [Warning] bagging_fraction is set=0.25590474681956454, subsample=1.0 will be ignored. Current value: bagging_fraction=0.25590474681956454\n",
      "[LightGBM] [Warning] feature_fraction is set=0.4477307779374266, colsample_bytree=1.0 will be ignored. Current value: feature_fraction=0.4477307779374266\n",
      "[LightGBM] [Warning] bagging_freq is set=388, subsample_freq=0 will be ignored. Current value: bagging_freq=388\n",
      "[LightGBM] [Warning] min_data_in_leaf is set=39, min_child_samples=20 will be ignored. Current value: min_data_in_leaf=39\n",
      "[LightGBM] [Warning] num_threads is set=0, n_jobs=-1 will be ignored. Current value: num_threads=0\n"
     ]
    },
    {
     "name": "stderr",
     "output_type": "stream",
     "text": [
      "[I 2023-06-11 02:29:38,764] Trial 322 finished with value: 0.6196236559139785 and parameters: {'model_type': 'lgbm', 'num_leaves': 465, 'boosting_type': 'gbdt', 'n_estimators': 423, 'learning_rate': 0.1, 'min_data_in_leaf': 39, 'feature_fraction': 0.4477307779374266, 'bagging_fraction': 0.25590474681956454, 'bagging_freq': 388, 'alpha': 31.153949775411064, 'reg_lambda': 34.937179943475535}. Best is trial 273 with value: 0.6008064516129032.\n"
     ]
    },
    {
     "name": "stdout",
     "output_type": "stream",
     "text": [
      "[LightGBM] [Warning] bagging_fraction is set=0.2317458075189267, subsample=1.0 will be ignored. Current value: bagging_fraction=0.2317458075189267\n",
      "[LightGBM] [Warning] feature_fraction is set=0.43909336453055536, colsample_bytree=1.0 will be ignored. Current value: feature_fraction=0.43909336453055536\n",
      "[LightGBM] [Warning] bagging_freq is set=373, subsample_freq=0 will be ignored. Current value: bagging_freq=373\n",
      "[LightGBM] [Warning] min_data_in_leaf is set=38, min_child_samples=20 will be ignored. Current value: min_data_in_leaf=38\n",
      "[LightGBM] [Warning] num_threads is set=0, n_jobs=-1 will be ignored. Current value: num_threads=0\n"
     ]
    },
    {
     "name": "stderr",
     "output_type": "stream",
     "text": [
      "[I 2023-06-11 02:29:40,124] Trial 323 finished with value: 0.6155913978494624 and parameters: {'model_type': 'lgbm', 'num_leaves': 448, 'boosting_type': 'gbdt', 'n_estimators': 435, 'learning_rate': 0.1, 'min_data_in_leaf': 38, 'feature_fraction': 0.43909336453055536, 'bagging_fraction': 0.2317458075189267, 'bagging_freq': 373, 'alpha': 34.036096343075755, 'reg_lambda': 35.59572797246226}. Best is trial 273 with value: 0.6008064516129032.\n"
     ]
    },
    {
     "name": "stdout",
     "output_type": "stream",
     "text": [
      "[LightGBM] [Warning] bagging_fraction is set=0.2584888893711237, subsample=1.0 will be ignored. Current value: bagging_fraction=0.2584888893711237\n",
      "[LightGBM] [Warning] feature_fraction is set=0.4332559395619906, colsample_bytree=1.0 will be ignored. Current value: feature_fraction=0.4332559395619906\n",
      "[LightGBM] [Warning] bagging_freq is set=495, subsample_freq=0 will be ignored. Current value: bagging_freq=495\n",
      "[LightGBM] [Warning] min_data_in_leaf is set=37, min_child_samples=20 will be ignored. Current value: min_data_in_leaf=37\n",
      "[LightGBM] [Warning] num_threads is set=0, n_jobs=-1 will be ignored. Current value: num_threads=0\n"
     ]
    },
    {
     "name": "stderr",
     "output_type": "stream",
     "text": [
      "[I 2023-06-11 02:29:41,715] Trial 324 finished with value: 0.6478494623655914 and parameters: {'model_type': 'lgbm', 'num_leaves': 381, 'boosting_type': 'gbdt', 'n_estimators': 496, 'learning_rate': 0.05, 'min_data_in_leaf': 37, 'feature_fraction': 0.4332559395619906, 'bagging_fraction': 0.2584888893711237, 'bagging_freq': 495, 'alpha': 32.73535938822734, 'reg_lambda': 34.34487221648738}. Best is trial 273 with value: 0.6008064516129032.\n"
     ]
    },
    {
     "name": "stdout",
     "output_type": "stream",
     "text": [
      "[LightGBM] [Warning] bagging_fraction is set=0.27311953786376014, subsample=1.0 will be ignored. Current value: bagging_fraction=0.27311953786376014\n",
      "[LightGBM] [Warning] feature_fraction is set=0.4746472614847562, colsample_bytree=1.0 will be ignored. Current value: feature_fraction=0.4746472614847562\n",
      "[LightGBM] [Warning] bagging_freq is set=388, subsample_freq=0 will be ignored. Current value: bagging_freq=388\n",
      "[LightGBM] [Warning] min_data_in_leaf is set=39, min_child_samples=20 will be ignored. Current value: min_data_in_leaf=39\n",
      "[LightGBM] [Warning] num_threads is set=0, n_jobs=-1 will be ignored. Current value: num_threads=0\n"
     ]
    },
    {
     "name": "stderr",
     "output_type": "stream",
     "text": [
      "[I 2023-06-11 02:29:43,302] Trial 325 finished with value: 0.6276881720430108 and parameters: {'model_type': 'lgbm', 'num_leaves': 490, 'boosting_type': 'gbdt', 'n_estimators': 444, 'learning_rate': 0.1, 'min_data_in_leaf': 39, 'feature_fraction': 0.4746472614847562, 'bagging_fraction': 0.27311953786376014, 'bagging_freq': 388, 'alpha': 33.399540649336764, 'reg_lambda': 35.206004830789226}. Best is trial 273 with value: 0.6008064516129032.\n"
     ]
    },
    {
     "name": "stdout",
     "output_type": "stream",
     "text": [
      "[LightGBM] [Warning] bagging_fraction is set=0.24732997245077848, subsample=1.0 will be ignored. Current value: bagging_fraction=0.24732997245077848\n",
      "[LightGBM] [Warning] feature_fraction is set=0.4618826183871909, colsample_bytree=1.0 will be ignored. Current value: feature_fraction=0.4618826183871909\n",
      "[LightGBM] [Warning] bagging_freq is set=316, subsample_freq=0 will be ignored. Current value: bagging_freq=316\n",
      "[LightGBM] [Warning] min_data_in_leaf is set=38, min_child_samples=20 will be ignored. Current value: min_data_in_leaf=38\n",
      "[LightGBM] [Warning] num_threads is set=0, n_jobs=-1 will be ignored. Current value: num_threads=0\n"
     ]
    },
    {
     "name": "stderr",
     "output_type": "stream",
     "text": [
      "[I 2023-06-11 02:29:44,771] Trial 326 finished with value: 0.6088709677419355 and parameters: {'model_type': 'lgbm', 'num_leaves': 429, 'boosting_type': 'gbdt', 'n_estimators': 458, 'learning_rate': 0.1, 'min_data_in_leaf': 38, 'feature_fraction': 0.4618826183871909, 'bagging_fraction': 0.24732997245077848, 'bagging_freq': 316, 'alpha': 32.51871133825516, 'reg_lambda': 35.97462722720293}. Best is trial 273 with value: 0.6008064516129032.\n"
     ]
    },
    {
     "name": "stdout",
     "output_type": "stream",
     "text": [
      "[LightGBM] [Warning] bagging_fraction is set=0.5009708956609727, subsample=1.0 will be ignored. Current value: bagging_fraction=0.5009708956609727\n",
      "[LightGBM] [Warning] feature_fraction is set=0.5061820118135961, colsample_bytree=1.0 will be ignored. Current value: feature_fraction=0.5061820118135961\n",
      "[LightGBM] [Warning] bagging_freq is set=329, subsample_freq=0 will be ignored. Current value: bagging_freq=329\n",
      "[LightGBM] [Warning] min_data_in_leaf is set=20, min_child_samples=20 will be ignored. Current value: min_data_in_leaf=20\n",
      "[LightGBM] [Warning] num_threads is set=0, n_jobs=-1 will be ignored. Current value: num_threads=0\n"
     ]
    },
    {
     "name": "stderr",
     "output_type": "stream",
     "text": [
      "[I 2023-06-11 02:29:48,804] Trial 327 finished with value: 0.6706989247311828 and parameters: {'model_type': 'lgbm', 'num_leaves': 410, 'boosting_type': 'gbdt', 'n_estimators': 482, 'learning_rate': 0.0001, 'min_data_in_leaf': 20, 'feature_fraction': 0.5061820118135961, 'bagging_fraction': 0.5009708956609727, 'bagging_freq': 329, 'alpha': 19.092318474412842, 'reg_lambda': 18.448660010474082}. Best is trial 273 with value: 0.6008064516129032.\n"
     ]
    },
    {
     "name": "stdout",
     "output_type": "stream",
     "text": [
      "[LightGBM] [Warning] bagging_fraction is set=0.3048949286843467, subsample=1.0 will be ignored. Current value: bagging_fraction=0.3048949286843467\n",
      "[LightGBM] [Warning] feature_fraction is set=0.5005481059157698, colsample_bytree=1.0 will be ignored. Current value: feature_fraction=0.5005481059157698\n",
      "[LightGBM] [Warning] bagging_freq is set=319, subsample_freq=0 will be ignored. Current value: bagging_freq=319\n",
      "[LightGBM] [Warning] min_data_in_leaf is set=30, min_child_samples=20 will be ignored. Current value: min_data_in_leaf=30\n",
      "[LightGBM] [Warning] num_threads is set=0, n_jobs=-1 will be ignored. Current value: num_threads=0\n"
     ]
    },
    {
     "name": "stderr",
     "output_type": "stream",
     "text": [
      "[I 2023-06-11 02:29:50,924] Trial 328 finished with value: 0.6666666666666666 and parameters: {'model_type': 'lgbm', 'num_leaves': 548, 'boosting_type': 'gbdt', 'n_estimators': 459, 'learning_rate': 0.01, 'min_data_in_leaf': 30, 'feature_fraction': 0.5005481059157698, 'bagging_fraction': 0.3048949286843467, 'bagging_freq': 319, 'alpha': 29.69284803417131, 'reg_lambda': 29.807957629144045}. Best is trial 273 with value: 0.6008064516129032.\n"
     ]
    },
    {
     "name": "stdout",
     "output_type": "stream",
     "text": [
      "[LightGBM] [Warning] bagging_fraction is set=0.21352116370312615, subsample=1.0 will be ignored. Current value: bagging_fraction=0.21352116370312615\n",
      "[LightGBM] [Warning] feature_fraction is set=0.463326384485425, colsample_bytree=1.0 will be ignored. Current value: feature_fraction=0.463326384485425\n",
      "[LightGBM] [Warning] bagging_freq is set=348, subsample_freq=0 will be ignored. Current value: bagging_freq=348\n",
      "[LightGBM] [Warning] min_data_in_leaf is set=37, min_child_samples=20 will be ignored. Current value: min_data_in_leaf=37\n",
      "[LightGBM] [Warning] num_threads is set=0, n_jobs=-1 will be ignored. Current value: num_threads=0\n"
     ]
    },
    {
     "name": "stderr",
     "output_type": "stream",
     "text": [
      "[I 2023-06-11 02:29:52,702] Trial 329 finished with value: 0.6169354838709677 and parameters: {'model_type': 'lgbm', 'num_leaves': 1000, 'boosting_type': 'gbdt', 'n_estimators': 421, 'learning_rate': 0.1, 'min_data_in_leaf': 37, 'feature_fraction': 0.463326384485425, 'bagging_fraction': 0.21352116370312615, 'bagging_freq': 348, 'alpha': 32.14163569390351, 'reg_lambda': 36.05369568786861}. Best is trial 273 with value: 0.6008064516129032.\n"
     ]
    },
    {
     "name": "stdout",
     "output_type": "stream",
     "text": [
      "[LightGBM] [Warning] bagging_fraction is set=0.27812431976300395, subsample=1.0 will be ignored. Current value: bagging_fraction=0.27812431976300395\n",
      "[LightGBM] [Warning] feature_fraction is set=0.4758836205738931, colsample_bytree=1.0 will be ignored. Current value: feature_fraction=0.4758836205738931\n",
      "[LightGBM] [Warning] bagging_freq is set=359, subsample_freq=0 will be ignored. Current value: bagging_freq=359\n",
      "[LightGBM] [Warning] min_data_in_leaf is set=38, min_child_samples=20 will be ignored. Current value: min_data_in_leaf=38\n",
      "[LightGBM] [Warning] num_threads is set=0, n_jobs=-1 will be ignored. Current value: num_threads=0\n"
     ]
    },
    {
     "name": "stderr",
     "output_type": "stream",
     "text": [
      "[I 2023-06-11 02:29:54,441] Trial 330 finished with value: 0.6384408602150538 and parameters: {'model_type': 'lgbm', 'num_leaves': 422, 'boosting_type': 'gbdt', 'n_estimators': 474, 'learning_rate': 0.1, 'min_data_in_leaf': 38, 'feature_fraction': 0.4758836205738931, 'bagging_fraction': 0.27812431976300395, 'bagging_freq': 359, 'alpha': 32.58704286551455, 'reg_lambda': 33.81434637384908}. Best is trial 273 with value: 0.6008064516129032.\n"
     ]
    },
    {
     "name": "stdout",
     "output_type": "stream",
     "text": [
      "[LightGBM] [Warning] min_data_in_leaf is set=37, min_child_samples=20 will be ignored. Current value: min_data_in_leaf=37\n",
      "[LightGBM] [Warning] num_threads is set=0, n_jobs=-1 will be ignored. Current value: num_threads=0\n"
     ]
    },
    {
     "name": "stderr",
     "output_type": "stream",
     "text": [
      "[I 2023-06-11 02:29:56,932] Trial 331 finished with value: 0.657258064516129 and parameters: {'model_type': 'lgbm', 'num_leaves': 465, 'boosting_type': 'goss', 'learning_rate': 0.1, 'min_data_in_leaf': 37, 'top_rate': 0.7974702319653527}. Best is trial 273 with value: 0.6008064516129032.\n"
     ]
    },
    {
     "name": "stdout",
     "output_type": "stream",
     "text": [
      "[LightGBM] [Warning] bagging_fraction is set=0.2567254562318542, subsample=1.0 will be ignored. Current value: bagging_fraction=0.2567254562318542\n",
      "[LightGBM] [Warning] feature_fraction is set=0.47186043857356624, colsample_bytree=1.0 will be ignored. Current value: feature_fraction=0.47186043857356624\n",
      "[LightGBM] [Warning] bagging_freq is set=224, subsample_freq=0 will be ignored. Current value: bagging_freq=224\n",
      "[LightGBM] [Warning] min_data_in_leaf is set=38, min_child_samples=20 will be ignored. Current value: min_data_in_leaf=38\n",
      "[LightGBM] [Warning] num_threads is set=0, n_jobs=-1 will be ignored. Current value: num_threads=0\n"
     ]
    },
    {
     "name": "stderr",
     "output_type": "stream",
     "text": [
      "[I 2023-06-11 02:29:57,992] Trial 332 finished with value: 0.6451612903225806 and parameters: {'model_type': 'lgbm', 'num_leaves': 506, 'boosting_type': 'gbdt', 'n_estimators': 225, 'learning_rate': 0.1, 'min_data_in_leaf': 38, 'feature_fraction': 0.47186043857356624, 'bagging_fraction': 0.2567254562318542, 'bagging_freq': 224, 'alpha': 32.01695710147462, 'reg_lambda': 36.09916407790781}. Best is trial 273 with value: 0.6008064516129032.\n"
     ]
    },
    {
     "name": "stdout",
     "output_type": "stream",
     "text": [
      "[LightGBM] [Warning] bagging_fraction is set=0.23692388941874748, subsample=1.0 will be ignored. Current value: bagging_fraction=0.23692388941874748\n",
      "[LightGBM] [Warning] feature_fraction is set=0.45893124299759763, colsample_bytree=1.0 will be ignored. Current value: feature_fraction=0.45893124299759763\n",
      "[LightGBM] [Warning] bagging_freq is set=398, subsample_freq=0 will be ignored. Current value: bagging_freq=398\n",
      "[LightGBM] [Warning] min_data_in_leaf is set=38, min_child_samples=20 will be ignored. Current value: min_data_in_leaf=38\n",
      "[LightGBM] [Warning] num_threads is set=0, n_jobs=-1 will be ignored. Current value: num_threads=0\n"
     ]
    },
    {
     "name": "stderr",
     "output_type": "stream",
     "text": [
      "[I 2023-06-11 02:29:59,477] Trial 333 finished with value: 0.6370967741935484 and parameters: {'model_type': 'lgbm', 'num_leaves': 432, 'boosting_type': 'gbdt', 'n_estimators': 461, 'learning_rate': 0.1, 'min_data_in_leaf': 38, 'feature_fraction': 0.45893124299759763, 'bagging_fraction': 0.23692388941874748, 'bagging_freq': 398, 'alpha': 34.042462432745054, 'reg_lambda': 34.77476448063054}. Best is trial 273 with value: 0.6008064516129032.\n"
     ]
    },
    {
     "name": "stdout",
     "output_type": "stream",
     "text": [
      "[LightGBM] [Warning] bagging_fraction is set=0.26716729768890607, subsample=1.0 will be ignored. Current value: bagging_fraction=0.26716729768890607\n",
      "[LightGBM] [Warning] feature_fraction is set=0.4663178527780234, colsample_bytree=1.0 will be ignored. Current value: feature_fraction=0.4663178527780234\n",
      "[LightGBM] [Warning] bagging_freq is set=329, subsample_freq=0 will be ignored. Current value: bagging_freq=329\n",
      "[LightGBM] [Warning] min_data_in_leaf is set=33, min_child_samples=20 will be ignored. Current value: min_data_in_leaf=33\n",
      "[LightGBM] [Warning] num_threads is set=0, n_jobs=-1 will be ignored. Current value: num_threads=0\n"
     ]
    },
    {
     "name": "stderr",
     "output_type": "stream",
     "text": [
      "[I 2023-06-11 02:30:01,566] Trial 334 finished with value: 0.6223118279569892 and parameters: {'model_type': 'lgbm', 'num_leaves': 953, 'boosting_type': 'gbdt', 'n_estimators': 443, 'learning_rate': 0.1, 'min_data_in_leaf': 33, 'feature_fraction': 0.4663178527780234, 'bagging_fraction': 0.26716729768890607, 'bagging_freq': 329, 'alpha': 32.651873316107846, 'reg_lambda': 34.20015631828883}. Best is trial 273 with value: 0.6008064516129032.\n"
     ]
    },
    {
     "name": "stdout",
     "output_type": "stream",
     "text": [
      "[LightGBM] [Warning] bagging_fraction is set=0.24781190315646992, subsample=1.0 will be ignored. Current value: bagging_fraction=0.24781190315646992\n",
      "[LightGBM] [Warning] feature_fraction is set=0.4753610957231602, colsample_bytree=1.0 will be ignored. Current value: feature_fraction=0.4753610957231602\n",
      "[LightGBM] [Warning] bagging_freq is set=481, subsample_freq=0 will be ignored. Current value: bagging_freq=481\n",
      "[LightGBM] [Warning] min_data_in_leaf is set=38, min_child_samples=20 will be ignored. Current value: min_data_in_leaf=38\n",
      "[LightGBM] [Warning] num_threads is set=0, n_jobs=-1 will be ignored. Current value: num_threads=0\n"
     ]
    },
    {
     "name": "stderr",
     "output_type": "stream",
     "text": [
      "[I 2023-06-11 02:30:03,188] Trial 335 finished with value: 0.6115591397849462 and parameters: {'model_type': 'lgbm', 'num_leaves': 400, 'boosting_type': 'gbdt', 'n_estimators': 498, 'learning_rate': 0.1, 'min_data_in_leaf': 38, 'feature_fraction': 0.4753610957231602, 'bagging_fraction': 0.24781190315646992, 'bagging_freq': 481, 'alpha': 33.65458014126239, 'reg_lambda': 32.94926788398944}. Best is trial 273 with value: 0.6008064516129032.\n"
     ]
    },
    {
     "name": "stdout",
     "output_type": "stream",
     "text": [
      "[LightGBM] [Warning] bagging_fraction is set=0.24880377031815623, subsample=1.0 will be ignored. Current value: bagging_fraction=0.24880377031815623\n",
      "[LightGBM] [Warning] feature_fraction is set=0.42851069419550003, colsample_bytree=1.0 will be ignored. Current value: feature_fraction=0.42851069419550003\n",
      "[LightGBM] [Warning] bagging_freq is set=346, subsample_freq=0 will be ignored. Current value: bagging_freq=346\n",
      "[LightGBM] [Warning] min_data_in_leaf is set=38, min_child_samples=20 will be ignored. Current value: min_data_in_leaf=38\n",
      "[LightGBM] [Warning] num_threads is set=0, n_jobs=-1 will be ignored. Current value: num_threads=0\n"
     ]
    },
    {
     "name": "stderr",
     "output_type": "stream",
     "text": [
      "[I 2023-06-11 02:30:04,752] Trial 336 finished with value: 0.6048387096774194 and parameters: {'model_type': 'lgbm', 'num_leaves': 648, 'boosting_type': 'gbdt', 'n_estimators': 431, 'learning_rate': 0.1, 'min_data_in_leaf': 38, 'feature_fraction': 0.42851069419550003, 'bagging_fraction': 0.24880377031815623, 'bagging_freq': 346, 'alpha': 31.238591197743705, 'reg_lambda': 35.58607930726244}. Best is trial 273 with value: 0.6008064516129032.\n"
     ]
    },
    {
     "name": "stdout",
     "output_type": "stream",
     "text": [
      "[LightGBM] [Warning] bagging_fraction is set=0.24865328643764617, subsample=1.0 will be ignored. Current value: bagging_fraction=0.24865328643764617\n",
      "[LightGBM] [Warning] feature_fraction is set=0.45268458529854166, colsample_bytree=1.0 will be ignored. Current value: feature_fraction=0.45268458529854166\n",
      "[LightGBM] [Warning] bagging_freq is set=485, subsample_freq=0 will be ignored. Current value: bagging_freq=485\n",
      "[LightGBM] [Warning] min_data_in_leaf is set=38, min_child_samples=20 will be ignored. Current value: min_data_in_leaf=38\n",
      "[LightGBM] [Warning] num_threads is set=0, n_jobs=-1 will be ignored. Current value: num_threads=0\n"
     ]
    },
    {
     "name": "stderr",
     "output_type": "stream",
     "text": [
      "[I 2023-06-11 02:30:06,324] Trial 337 finished with value: 0.6223118279569892 and parameters: {'model_type': 'lgbm', 'num_leaves': 402, 'boosting_type': 'gbdt', 'n_estimators': 487, 'learning_rate': 0.1, 'min_data_in_leaf': 38, 'feature_fraction': 0.45268458529854166, 'bagging_fraction': 0.24865328643764617, 'bagging_freq': 485, 'alpha': 31.222126117837014, 'reg_lambda': 35.69015009952593}. Best is trial 273 with value: 0.6008064516129032.\n"
     ]
    },
    {
     "name": "stdout",
     "output_type": "stream",
     "text": [
      "[LightGBM] [Warning] bagging_fraction is set=0.23887936018486594, subsample=1.0 will be ignored. Current value: bagging_fraction=0.23887936018486594\n",
      "[LightGBM] [Warning] feature_fraction is set=0.44126679049339385, colsample_bytree=1.0 will be ignored. Current value: feature_fraction=0.44126679049339385\n",
      "[LightGBM] [Warning] bagging_freq is set=470, subsample_freq=0 will be ignored. Current value: bagging_freq=470\n",
      "[LightGBM] [Warning] min_data_in_leaf is set=37, min_child_samples=20 will be ignored. Current value: min_data_in_leaf=37\n",
      "[LightGBM] [Warning] num_threads is set=0, n_jobs=-1 will be ignored. Current value: num_threads=0\n"
     ]
    },
    {
     "name": "stderr",
     "output_type": "stream",
     "text": [
      "[I 2023-06-11 02:30:07,851] Trial 338 finished with value: 0.625 and parameters: {'model_type': 'lgbm', 'num_leaves': 370, 'boosting_type': 'gbdt', 'n_estimators': 497, 'learning_rate': 0.1, 'min_data_in_leaf': 37, 'feature_fraction': 0.44126679049339385, 'bagging_fraction': 0.23887936018486594, 'bagging_freq': 470, 'alpha': 31.49277513013149, 'reg_lambda': 32.92940944142237}. Best is trial 273 with value: 0.6008064516129032.\n"
     ]
    },
    {
     "name": "stdout",
     "output_type": "stream",
     "text": [
      "[LightGBM] [Warning] bagging_fraction is set=0.20059620888021815, subsample=1.0 will be ignored. Current value: bagging_fraction=0.20059620888021815\n",
      "[LightGBM] [Warning] feature_fraction is set=0.43163897665494216, colsample_bytree=1.0 will be ignored. Current value: feature_fraction=0.43163897665494216\n",
      "[LightGBM] [Warning] bagging_freq is set=417, subsample_freq=0 will be ignored. Current value: bagging_freq=417\n",
      "[LightGBM] [Warning] min_data_in_leaf is set=27, min_child_samples=20 will be ignored. Current value: min_data_in_leaf=27\n",
      "[LightGBM] [Warning] num_threads is set=0, n_jobs=-1 will be ignored. Current value: num_threads=0\n"
     ]
    },
    {
     "name": "stderr",
     "output_type": "stream",
     "text": [
      "[I 2023-06-11 02:30:09,475] Trial 339 finished with value: 0.6397849462365591 and parameters: {'model_type': 'lgbm', 'num_leaves': 637, 'boosting_type': 'gbdt', 'n_estimators': 432, 'learning_rate': 0.1, 'min_data_in_leaf': 27, 'feature_fraction': 0.43163897665494216, 'bagging_fraction': 0.20059620888021815, 'bagging_freq': 417, 'alpha': 35.08766351745602, 'reg_lambda': 36.25122085154746}. Best is trial 273 with value: 0.6008064516129032.\n"
     ]
    },
    {
     "name": "stdout",
     "output_type": "stream",
     "text": [
      "[LightGBM] [Warning] bagging_fraction is set=0.25126393560895005, subsample=1.0 will be ignored. Current value: bagging_fraction=0.25126393560895005\n",
      "[LightGBM] [Warning] feature_fraction is set=0.46005702632980805, colsample_bytree=1.0 will be ignored. Current value: feature_fraction=0.46005702632980805\n",
      "[LightGBM] [Warning] bagging_freq is set=354, subsample_freq=0 will be ignored. Current value: bagging_freq=354\n",
      "[LightGBM] [Warning] min_data_in_leaf is set=38, min_child_samples=20 will be ignored. Current value: min_data_in_leaf=38\n",
      "[LightGBM] [Warning] num_threads is set=0, n_jobs=-1 will be ignored. Current value: num_threads=0\n"
     ]
    },
    {
     "name": "stderr",
     "output_type": "stream",
     "text": [
      "[I 2023-06-11 02:30:11,133] Trial 340 finished with value: 0.6102150537634409 and parameters: {'model_type': 'lgbm', 'num_leaves': 660, 'boosting_type': 'gbdt', 'n_estimators': 445, 'learning_rate': 0.1, 'min_data_in_leaf': 38, 'feature_fraction': 0.46005702632980805, 'bagging_fraction': 0.25126393560895005, 'bagging_freq': 354, 'alpha': 31.815574438968216, 'reg_lambda': 37.38747983092131}. Best is trial 273 with value: 0.6008064516129032.\n"
     ]
    },
    {
     "name": "stdout",
     "output_type": "stream",
     "text": [
      "[LightGBM] [Warning] bagging_fraction is set=0.5014311932705795, subsample=1.0 will be ignored. Current value: bagging_fraction=0.5014311932705795\n",
      "[LightGBM] [Warning] bagging_freq is set=351, subsample_freq=0 will be ignored. Current value: bagging_freq=351\n",
      "[LightGBM] [Warning] min_data_in_leaf is set=18, min_child_samples=20 will be ignored. Current value: min_data_in_leaf=18\n",
      "[LightGBM] [Warning] num_threads is set=0, n_jobs=-1 will be ignored. Current value: num_threads=0\n"
     ]
    },
    {
     "name": "stderr",
     "output_type": "stream",
     "text": [
      "[I 2023-06-11 02:30:17,069] Trial 341 finished with value: 0.6706989247311828 and parameters: {'model_type': 'lgbm', 'num_leaves': 347, 'boosting_type': 'rf', 'n_estimators': 442, 'feature_fraction_bynode': 0.2675377857954099, 'bagging_fraction': 0.5014311932705795, 'bagging_freq': 351, 'min_data_in_leaf': 18, 'alpha': 19.099162715343727, 'reg_lambda': 18.212829190108035}. Best is trial 273 with value: 0.6008064516129032.\n"
     ]
    },
    {
     "name": "stdout",
     "output_type": "stream",
     "text": [
      "[LightGBM] [Warning] bagging_fraction is set=0.5011893941234187, subsample=1.0 will be ignored. Current value: bagging_fraction=0.5011893941234187\n",
      "[LightGBM] [Warning] feature_fraction is set=0.5083695784940558, colsample_bytree=1.0 will be ignored. Current value: feature_fraction=0.5083695784940558\n",
      "[LightGBM] [Warning] bagging_freq is set=404, subsample_freq=0 will be ignored. Current value: bagging_freq=404\n",
      "[LightGBM] [Warning] min_data_in_leaf is set=20, min_child_samples=20 will be ignored. Current value: min_data_in_leaf=20\n",
      "[LightGBM] [Warning] num_threads is set=0, n_jobs=-1 will be ignored. Current value: num_threads=0\n"
     ]
    },
    {
     "name": "stderr",
     "output_type": "stream",
     "text": [
      "[I 2023-06-11 02:30:21,043] Trial 342 finished with value: 0.6706989247311828 and parameters: {'model_type': 'lgbm', 'num_leaves': 673, 'boosting_type': 'gbdt', 'n_estimators': 428, 'learning_rate': 0.0005, 'min_data_in_leaf': 20, 'feature_fraction': 0.5083695784940558, 'bagging_fraction': 0.5011893941234187, 'bagging_freq': 404, 'alpha': 19.10011303392274, 'reg_lambda': 18.447069244878797}. Best is trial 273 with value: 0.6008064516129032.\n"
     ]
    },
    {
     "name": "stdout",
     "output_type": "stream",
     "text": [
      "[LightGBM] [Warning] bagging_fraction is set=0.25029918652250366, subsample=1.0 will be ignored. Current value: bagging_fraction=0.25029918652250366\n",
      "[LightGBM] [Warning] feature_fraction is set=0.44730749946570975, colsample_bytree=1.0 will be ignored. Current value: feature_fraction=0.44730749946570975\n",
      "[LightGBM] [Warning] bagging_freq is set=443, subsample_freq=0 will be ignored. Current value: bagging_freq=443\n",
      "[LightGBM] [Warning] min_data_in_leaf is set=38, min_child_samples=20 will be ignored. Current value: min_data_in_leaf=38\n",
      "[LightGBM] [Warning] num_threads is set=0, n_jobs=-1 will be ignored. Current value: num_threads=0\n"
     ]
    },
    {
     "name": "stderr",
     "output_type": "stream",
     "text": [
      "[I 2023-06-11 02:30:22,610] Trial 343 finished with value: 0.6075268817204301 and parameters: {'model_type': 'lgbm', 'num_leaves': 388, 'boosting_type': 'gbdt', 'n_estimators': 499, 'learning_rate': 0.1, 'min_data_in_leaf': 38, 'feature_fraction': 0.44730749946570975, 'bagging_fraction': 0.25029918652250366, 'bagging_freq': 443, 'alpha': 31.824039003566398, 'reg_lambda': 37.74368687603449}. Best is trial 273 with value: 0.6008064516129032.\n"
     ]
    },
    {
     "name": "stdout",
     "output_type": "stream",
     "text": [
      "[LightGBM] [Warning] bagging_fraction is set=0.25402002986695305, subsample=1.0 will be ignored. Current value: bagging_fraction=0.25402002986695305\n",
      "[LightGBM] [Warning] feature_fraction is set=0.442143324395234, colsample_bytree=1.0 will be ignored. Current value: feature_fraction=0.442143324395234\n",
      "[LightGBM] [Warning] bagging_freq is set=433, subsample_freq=0 will be ignored. Current value: bagging_freq=433\n",
      "[LightGBM] [Warning] min_data_in_leaf is set=37, min_child_samples=20 will be ignored. Current value: min_data_in_leaf=37\n",
      "[LightGBM] [Warning] num_threads is set=0, n_jobs=-1 will be ignored. Current value: num_threads=0\n"
     ]
    },
    {
     "name": "stderr",
     "output_type": "stream",
     "text": [
      "[I 2023-06-11 02:30:24,047] Trial 344 finished with value: 0.6236559139784946 and parameters: {'model_type': 'lgbm', 'num_leaves': 386, 'boosting_type': 'gbdt', 'n_estimators': 448, 'learning_rate': 0.1, 'min_data_in_leaf': 37, 'feature_fraction': 0.442143324395234, 'bagging_fraction': 0.25402002986695305, 'bagging_freq': 433, 'alpha': 31.798041168357866, 'reg_lambda': 37.53561230330958}. Best is trial 273 with value: 0.6008064516129032.\n"
     ]
    },
    {
     "name": "stdout",
     "output_type": "stream",
     "text": [
      "[LightGBM] [Warning] bagging_fraction is set=0.24919433721566614, subsample=1.0 will be ignored. Current value: bagging_fraction=0.24919433721566614\n",
      "[LightGBM] [Warning] feature_fraction is set=0.424795572339719, colsample_bytree=1.0 will be ignored. Current value: feature_fraction=0.424795572339719\n",
      "[LightGBM] [Warning] bagging_freq is set=458, subsample_freq=0 will be ignored. Current value: bagging_freq=458\n",
      "[LightGBM] [Warning] min_data_in_leaf is set=39, min_child_samples=20 will be ignored. Current value: min_data_in_leaf=39\n",
      "[LightGBM] [Warning] num_threads is set=0, n_jobs=-1 will be ignored. Current value: num_threads=0\n"
     ]
    },
    {
     "name": "stderr",
     "output_type": "stream",
     "text": [
      "[I 2023-06-11 02:30:25,533] Trial 345 finished with value: 0.6102150537634409 and parameters: {'model_type': 'lgbm', 'num_leaves': 392, 'boosting_type': 'gbdt', 'n_estimators': 498, 'learning_rate': 0.1, 'min_data_in_leaf': 39, 'feature_fraction': 0.424795572339719, 'bagging_fraction': 0.24919433721566614, 'bagging_freq': 458, 'alpha': 30.707510225525542, 'reg_lambda': 37.446967371693475}. Best is trial 273 with value: 0.6008064516129032.\n"
     ]
    },
    {
     "name": "stdout",
     "output_type": "stream",
     "text": [
      "[LightGBM] [Warning] bagging_fraction is set=0.2454132598230546, subsample=1.0 will be ignored. Current value: bagging_fraction=0.2454132598230546\n",
      "[LightGBM] [Warning] feature_fraction is set=0.4476884948919504, colsample_bytree=1.0 will be ignored. Current value: feature_fraction=0.4476884948919504\n",
      "[LightGBM] [Warning] bagging_freq is set=472, subsample_freq=0 will be ignored. Current value: bagging_freq=472\n",
      "[LightGBM] [Warning] min_data_in_leaf is set=39, min_child_samples=20 will be ignored. Current value: min_data_in_leaf=39\n",
      "[LightGBM] [Warning] num_threads is set=0, n_jobs=-1 will be ignored. Current value: num_threads=0\n"
     ]
    },
    {
     "name": "stderr",
     "output_type": "stream",
     "text": [
      "[I 2023-06-11 02:30:27,011] Trial 346 finished with value: 0.6115591397849462 and parameters: {'model_type': 'lgbm', 'num_leaves': 333, 'boosting_type': 'gbdt', 'n_estimators': 499, 'learning_rate': 0.1, 'min_data_in_leaf': 39, 'feature_fraction': 0.4476884948919504, 'bagging_fraction': 0.2454132598230546, 'bagging_freq': 472, 'alpha': 31.06283928433777, 'reg_lambda': 37.10657240321967}. Best is trial 273 with value: 0.6008064516129032.\n"
     ]
    },
    {
     "name": "stdout",
     "output_type": "stream",
     "text": [
      "[LightGBM] [Warning] bagging_fraction is set=0.24388103817013, subsample=1.0 will be ignored. Current value: bagging_fraction=0.24388103817013\n",
      "[LightGBM] [Warning] feature_fraction is set=0.4264408261979686, colsample_bytree=1.0 will be ignored. Current value: feature_fraction=0.4264408261979686\n",
      "[LightGBM] [Warning] bagging_freq is set=474, subsample_freq=0 will be ignored. Current value: bagging_freq=474\n",
      "[LightGBM] [Warning] min_data_in_leaf is set=39, min_child_samples=20 will be ignored. Current value: min_data_in_leaf=39\n",
      "[LightGBM] [Warning] num_threads is set=0, n_jobs=-1 will be ignored. Current value: num_threads=0\n"
     ]
    },
    {
     "name": "stderr",
     "output_type": "stream",
     "text": [
      "[I 2023-06-11 02:30:28,394] Trial 347 finished with value: 0.6129032258064516 and parameters: {'model_type': 'lgbm', 'num_leaves': 293, 'boosting_type': 'gbdt', 'n_estimators': 497, 'learning_rate': 0.1, 'min_data_in_leaf': 39, 'feature_fraction': 0.4264408261979686, 'bagging_fraction': 0.24388103817013, 'bagging_freq': 474, 'alpha': 30.767003189556238, 'reg_lambda': 37.198067219608575}. Best is trial 273 with value: 0.6008064516129032.\n"
     ]
    },
    {
     "name": "stdout",
     "output_type": "stream",
     "text": [
      "[LightGBM] [Warning] bagging_fraction is set=0.24705168551400764, subsample=1.0 will be ignored. Current value: bagging_fraction=0.24705168551400764\n",
      "[LightGBM] [Warning] feature_fraction is set=0.42131018451680435, colsample_bytree=1.0 will be ignored. Current value: feature_fraction=0.42131018451680435\n",
      "[LightGBM] [Warning] bagging_freq is set=485, subsample_freq=0 will be ignored. Current value: bagging_freq=485\n",
      "[LightGBM] [Warning] min_data_in_leaf is set=39, min_child_samples=20 will be ignored. Current value: min_data_in_leaf=39\n",
      "[LightGBM] [Warning] num_threads is set=0, n_jobs=-1 will be ignored. Current value: num_threads=0\n"
     ]
    },
    {
     "name": "stderr",
     "output_type": "stream",
     "text": [
      "[I 2023-06-11 02:30:29,754] Trial 348 finished with value: 0.6236559139784946 and parameters: {'model_type': 'lgbm', 'num_leaves': 323, 'boosting_type': 'gbdt', 'n_estimators': 499, 'learning_rate': 0.1, 'min_data_in_leaf': 39, 'feature_fraction': 0.42131018451680435, 'bagging_fraction': 0.24705168551400764, 'bagging_freq': 485, 'alpha': 31.231603626495684, 'reg_lambda': 38.020415489598385}. Best is trial 273 with value: 0.6008064516129032.\n"
     ]
    },
    {
     "name": "stdout",
     "output_type": "stream",
     "text": [
      "[LightGBM] [Warning] bagging_fraction is set=0.26136852628988017, subsample=1.0 will be ignored. Current value: bagging_fraction=0.26136852628988017\n",
      "[LightGBM] [Warning] feature_fraction is set=0.42083300747227664, colsample_bytree=1.0 will be ignored. Current value: feature_fraction=0.42083300747227664\n",
      "[LightGBM] [Warning] bagging_freq is set=449, subsample_freq=0 will be ignored. Current value: bagging_freq=449\n",
      "[LightGBM] [Warning] min_data_in_leaf is set=39, min_child_samples=20 will be ignored. Current value: min_data_in_leaf=39\n",
      "[LightGBM] [Warning] num_threads is set=0, n_jobs=-1 will be ignored. Current value: num_threads=0\n"
     ]
    },
    {
     "name": "stderr",
     "output_type": "stream",
     "text": [
      "[I 2023-06-11 02:30:31,692] Trial 349 finished with value: 0.6102150537634409 and parameters: {'model_type': 'lgbm', 'num_leaves': 864, 'boosting_type': 'gbdt', 'n_estimators': 500, 'learning_rate': 0.1, 'min_data_in_leaf': 39, 'feature_fraction': 0.42083300747227664, 'bagging_fraction': 0.26136852628988017, 'bagging_freq': 449, 'alpha': 30.969218144904026, 'reg_lambda': 38.70218256916029}. Best is trial 273 with value: 0.6008064516129032.\n"
     ]
    },
    {
     "name": "stdout",
     "output_type": "stream",
     "text": [
      "[LightGBM] [Warning] bagging_fraction is set=0.25766349279946615, subsample=1.0 will be ignored. Current value: bagging_fraction=0.25766349279946615\n",
      "[LightGBM] [Warning] feature_fraction is set=0.4149182296816492, colsample_bytree=1.0 will be ignored. Current value: feature_fraction=0.4149182296816492\n",
      "[LightGBM] [Warning] bagging_freq is set=446, subsample_freq=0 will be ignored. Current value: bagging_freq=446\n",
      "[LightGBM] [Warning] min_data_in_leaf is set=39, min_child_samples=20 will be ignored. Current value: min_data_in_leaf=39\n",
      "[LightGBM] [Warning] num_threads is set=0, n_jobs=-1 will be ignored. Current value: num_threads=0\n"
     ]
    },
    {
     "name": "stderr",
     "output_type": "stream",
     "text": [
      "[I 2023-06-11 02:30:33,168] Trial 350 finished with value: 0.6236559139784946 and parameters: {'model_type': 'lgbm', 'num_leaves': 391, 'boosting_type': 'gbdt', 'n_estimators': 486, 'learning_rate': 0.1, 'min_data_in_leaf': 39, 'feature_fraction': 0.4149182296816492, 'bagging_fraction': 0.25766349279946615, 'bagging_freq': 446, 'alpha': 31.11311849326212, 'reg_lambda': 38.27057471220326}. Best is trial 273 with value: 0.6008064516129032.\n"
     ]
    },
    {
     "name": "stdout",
     "output_type": "stream",
     "text": [
      "[LightGBM] [Warning] bagging_fraction is set=0.2403042142353395, subsample=1.0 will be ignored. Current value: bagging_fraction=0.2403042142353395\n",
      "[LightGBM] [Warning] feature_fraction is set=0.41243925295503964, colsample_bytree=1.0 will be ignored. Current value: feature_fraction=0.41243925295503964\n",
      "[LightGBM] [Warning] bagging_freq is set=477, subsample_freq=0 will be ignored. Current value: bagging_freq=477\n",
      "[LightGBM] [Warning] min_data_in_leaf is set=38, min_child_samples=20 will be ignored. Current value: min_data_in_leaf=38\n",
      "[LightGBM] [Warning] num_threads is set=0, n_jobs=-1 will be ignored. Current value: num_threads=0\n"
     ]
    },
    {
     "name": "stderr",
     "output_type": "stream",
     "text": [
      "[I 2023-06-11 02:30:34,964] Trial 351 finished with value: 0.6303763440860215 and parameters: {'model_type': 'lgbm', 'num_leaves': 857, 'boosting_type': 'gbdt', 'n_estimators': 499, 'learning_rate': 0.1, 'min_data_in_leaf': 38, 'feature_fraction': 0.41243925295503964, 'bagging_fraction': 0.2403042142353395, 'bagging_freq': 477, 'alpha': 30.93735410406346, 'reg_lambda': 37.77483382364479}. Best is trial 273 with value: 0.6008064516129032.\n"
     ]
    },
    {
     "name": "stdout",
     "output_type": "stream",
     "text": [
      "[LightGBM] [Warning] bagging_fraction is set=0.24884742625265135, subsample=1.0 will be ignored. Current value: bagging_fraction=0.24884742625265135\n",
      "[LightGBM] [Warning] feature_fraction is set=0.43071503275503875, colsample_bytree=1.0 will be ignored. Current value: feature_fraction=0.43071503275503875\n",
      "[LightGBM] [Warning] bagging_freq is set=454, subsample_freq=0 will be ignored. Current value: bagging_freq=454\n",
      "[LightGBM] [Warning] min_data_in_leaf is set=39, min_child_samples=20 will be ignored. Current value: min_data_in_leaf=39\n",
      "[LightGBM] [Warning] num_threads is set=0, n_jobs=-1 will be ignored. Current value: num_threads=0\n"
     ]
    },
    {
     "name": "stderr",
     "output_type": "stream",
     "text": [
      "[I 2023-06-11 02:30:36,380] Trial 352 finished with value: 0.6048387096774194 and parameters: {'model_type': 'lgbm', 'num_leaves': 301, 'boosting_type': 'gbdt', 'n_estimators': 489, 'learning_rate': 0.1, 'min_data_in_leaf': 39, 'feature_fraction': 0.43071503275503875, 'bagging_fraction': 0.24884742625265135, 'bagging_freq': 454, 'alpha': 30.522735772212386, 'reg_lambda': 38.49234686055316}. Best is trial 273 with value: 0.6008064516129032.\n"
     ]
    },
    {
     "name": "stdout",
     "output_type": "stream",
     "text": [
      "[LightGBM] [Warning] bagging_fraction is set=0.26054750686380185, subsample=1.0 will be ignored. Current value: bagging_fraction=0.26054750686380185\n",
      "[LightGBM] [Warning] feature_fraction is set=0.43867261894568627, colsample_bytree=1.0 will be ignored. Current value: feature_fraction=0.43867261894568627\n",
      "[LightGBM] [Warning] bagging_freq is set=142, subsample_freq=0 will be ignored. Current value: bagging_freq=142\n",
      "[LightGBM] [Warning] min_data_in_leaf is set=38, min_child_samples=20 will be ignored. Current value: min_data_in_leaf=38\n",
      "[LightGBM] [Warning] num_threads is set=0, n_jobs=-1 will be ignored. Current value: num_threads=0\n"
     ]
    },
    {
     "name": "stderr",
     "output_type": "stream",
     "text": [
      "[I 2023-06-11 02:30:36,992] Trial 353 finished with value: 0.6612903225806451 and parameters: {'model_type': 'lgbm', 'num_leaves': 260, 'boosting_type': 'gbdt', 'n_estimators': 143, 'learning_rate': 0.05, 'min_data_in_leaf': 38, 'feature_fraction': 0.43867261894568627, 'bagging_fraction': 0.26054750686380185, 'bagging_freq': 142, 'alpha': 30.642699317664835, 'reg_lambda': 39.82072339896418}. Best is trial 273 with value: 0.6008064516129032.\n"
     ]
    },
    {
     "name": "stdout",
     "output_type": "stream",
     "text": [
      "[LightGBM] [Warning] bagging_fraction is set=0.2713087166369296, subsample=1.0 will be ignored. Current value: bagging_fraction=0.2713087166369296\n",
      "[LightGBM] [Warning] feature_fraction is set=0.425398198644597, colsample_bytree=1.0 will be ignored. Current value: feature_fraction=0.425398198644597\n",
      "[LightGBM] [Warning] bagging_freq is set=453, subsample_freq=0 will be ignored. Current value: bagging_freq=453\n",
      "[LightGBM] [Warning] min_data_in_leaf is set=39, min_child_samples=20 will be ignored. Current value: min_data_in_leaf=39\n",
      "[LightGBM] [Warning] num_threads is set=0, n_jobs=-1 will be ignored. Current value: num_threads=0\n"
     ]
    },
    {
     "name": "stderr",
     "output_type": "stream",
     "text": [
      "[I 2023-06-11 02:30:38,611] Trial 354 finished with value: 0.614247311827957 and parameters: {'model_type': 'lgbm', 'num_leaves': 414, 'boosting_type': 'gbdt', 'n_estimators': 490, 'learning_rate': 0.1, 'min_data_in_leaf': 39, 'feature_fraction': 0.425398198644597, 'bagging_fraction': 0.2713087166369296, 'bagging_freq': 453, 'alpha': 30.506754647521227, 'reg_lambda': 38.587537483568376}. Best is trial 273 with value: 0.6008064516129032.\n"
     ]
    },
    {
     "name": "stdout",
     "output_type": "stream",
     "text": [
      "[LightGBM] [Warning] bagging_fraction is set=0.24960917216578135, subsample=1.0 will be ignored. Current value: bagging_fraction=0.24960917216578135\n",
      "[LightGBM] [Warning] feature_fraction is set=0.4190174956584482, colsample_bytree=1.0 will be ignored. Current value: feature_fraction=0.4190174956584482\n",
      "[LightGBM] [Warning] bagging_freq is set=461, subsample_freq=0 will be ignored. Current value: bagging_freq=461\n",
      "[LightGBM] [Warning] min_data_in_leaf is set=38, min_child_samples=20 will be ignored. Current value: min_data_in_leaf=38\n",
      "[LightGBM] [Warning] num_threads is set=0, n_jobs=-1 will be ignored. Current value: num_threads=0\n"
     ]
    },
    {
     "name": "stderr",
     "output_type": "stream",
     "text": [
      "[I 2023-06-11 02:30:39,965] Trial 355 finished with value: 0.6115591397849462 and parameters: {'model_type': 'lgbm', 'num_leaves': 186, 'boosting_type': 'gbdt', 'n_estimators': 487, 'learning_rate': 0.1, 'min_data_in_leaf': 38, 'feature_fraction': 0.4190174956584482, 'bagging_fraction': 0.24960917216578135, 'bagging_freq': 461, 'alpha': 31.67281841562936, 'reg_lambda': 34.60871462065639}. Best is trial 273 with value: 0.6008064516129032.\n"
     ]
    },
    {
     "name": "stdout",
     "output_type": "stream",
     "text": [
      "[LightGBM] [Warning] bagging_fraction is set=0.5011937781747812, subsample=1.0 will be ignored. Current value: bagging_fraction=0.5011937781747812\n",
      "[LightGBM] [Warning] feature_fraction is set=0.5067242962345516, colsample_bytree=1.0 will be ignored. Current value: feature_fraction=0.5067242962345516\n",
      "[LightGBM] [Warning] bagging_freq is set=444, subsample_freq=0 will be ignored. Current value: bagging_freq=444\n",
      "[LightGBM] [Warning] min_data_in_leaf is set=8, min_child_samples=20 will be ignored. Current value: min_data_in_leaf=8\n",
      "[LightGBM] [Warning] num_threads is set=0, n_jobs=-1 will be ignored. Current value: num_threads=0\n"
     ]
    },
    {
     "name": "stderr",
     "output_type": "stream",
     "text": [
      "[I 2023-06-11 02:30:47,636] Trial 356 finished with value: 0.6706989247311828 and parameters: {'model_type': 'lgbm', 'num_leaves': 981, 'boosting_type': 'gbdt', 'n_estimators': 485, 'learning_rate': 0.0001, 'min_data_in_leaf': 8, 'feature_fraction': 0.5067242962345516, 'bagging_fraction': 0.5011937781747812, 'bagging_freq': 444, 'alpha': 19.061569261703937, 'reg_lambda': 18.55619249638361}. Best is trial 273 with value: 0.6008064516129032.\n"
     ]
    },
    {
     "name": "stdout",
     "output_type": "stream",
     "text": [
      "[LightGBM] [Warning] bagging_fraction is set=0.2599984689381168, subsample=1.0 will be ignored. Current value: bagging_fraction=0.2599984689381168\n",
      "[LightGBM] [Warning] feature_fraction is set=0.4270270084616204, colsample_bytree=1.0 will be ignored. Current value: feature_fraction=0.4270270084616204\n",
      "[LightGBM] [Warning] bagging_freq is set=455, subsample_freq=0 will be ignored. Current value: bagging_freq=455\n",
      "[LightGBM] [Warning] min_data_in_leaf is set=38, min_child_samples=20 will be ignored. Current value: min_data_in_leaf=38\n",
      "[LightGBM] [Warning] num_threads is set=0, n_jobs=-1 will be ignored. Current value: num_threads=0\n"
     ]
    },
    {
     "name": "stderr",
     "output_type": "stream",
     "text": [
      "[I 2023-06-11 02:30:49,232] Trial 357 finished with value: 0.6330645161290323 and parameters: {'model_type': 'lgbm', 'num_leaves': 475, 'boosting_type': 'gbdt', 'n_estimators': 482, 'learning_rate': 0.1, 'min_data_in_leaf': 38, 'feature_fraction': 0.4270270084616204, 'bagging_fraction': 0.2599984689381168, 'bagging_freq': 455, 'alpha': 32.05200897931396, 'reg_lambda': 38.90980645507308}. Best is trial 273 with value: 0.6008064516129032.\n"
     ]
    },
    {
     "name": "stdout",
     "output_type": "stream",
     "text": [
      "[LightGBM] [Warning] bagging_fraction is set=0.3048602155453606, subsample=1.0 will be ignored. Current value: bagging_fraction=0.3048602155453606\n",
      "[LightGBM] [Warning] feature_fraction is set=0.42956866402398625, colsample_bytree=1.0 will be ignored. Current value: feature_fraction=0.42956866402398625\n",
      "[LightGBM] [Warning] bagging_freq is set=442, subsample_freq=0 will be ignored. Current value: bagging_freq=442\n",
      "[LightGBM] [Warning] min_data_in_leaf is set=30, min_child_samples=20 will be ignored. Current value: min_data_in_leaf=30\n",
      "[LightGBM] [Warning] num_threads is set=0, n_jobs=-1 will be ignored. Current value: num_threads=0\n"
     ]
    },
    {
     "name": "stderr",
     "output_type": "stream",
     "text": [
      "[I 2023-06-11 02:30:51,622] Trial 358 finished with value: 0.6653225806451613 and parameters: {'model_type': 'lgbm', 'num_leaves': 924, 'boosting_type': 'gbdt', 'n_estimators': 491, 'learning_rate': 0.01, 'min_data_in_leaf': 30, 'feature_fraction': 0.42956866402398625, 'bagging_fraction': 0.3048602155453606, 'bagging_freq': 442, 'alpha': 29.58745702239701, 'reg_lambda': 29.765556102095005}. Best is trial 273 with value: 0.6008064516129032.\n"
     ]
    },
    {
     "name": "stdout",
     "output_type": "stream",
     "text": [
      "[LightGBM] [Warning] min_data_in_leaf is set=36, min_child_samples=20 will be ignored. Current value: min_data_in_leaf=36\n",
      "[LightGBM] [Warning] num_threads is set=0, n_jobs=-1 will be ignored. Current value: num_threads=0\n"
     ]
    },
    {
     "name": "stderr",
     "output_type": "stream",
     "text": [
      "[I 2023-06-11 02:30:54,432] Trial 359 finished with value: 0.6599462365591398 and parameters: {'model_type': 'lgbm', 'num_leaves': 913, 'boosting_type': 'goss', 'learning_rate': 0.1, 'min_data_in_leaf': 36, 'top_rate': 0.7867797072530945}. Best is trial 273 with value: 0.6008064516129032.\n"
     ]
    },
    {
     "name": "stdout",
     "output_type": "stream",
     "text": [
      "[LightGBM] [Warning] bagging_fraction is set=0.25386283430570716, subsample=1.0 will be ignored. Current value: bagging_fraction=0.25386283430570716\n",
      "[LightGBM] [Warning] feature_fraction is set=0.4479267189768077, colsample_bytree=1.0 will be ignored. Current value: feature_fraction=0.4479267189768077\n",
      "[LightGBM] [Warning] bagging_freq is set=449, subsample_freq=0 will be ignored. Current value: bagging_freq=449\n",
      "[LightGBM] [Warning] min_data_in_leaf is set=39, min_child_samples=20 will be ignored. Current value: min_data_in_leaf=39\n",
      "[LightGBM] [Warning] num_threads is set=0, n_jobs=-1 will be ignored. Current value: num_threads=0\n"
     ]
    },
    {
     "name": "stderr",
     "output_type": "stream",
     "text": [
      "[I 2023-06-11 02:30:55,996] Trial 360 finished with value: 0.6182795698924731 and parameters: {'model_type': 'lgbm', 'num_leaves': 432, 'boosting_type': 'gbdt', 'n_estimators': 485, 'learning_rate': 0.1, 'min_data_in_leaf': 39, 'feature_fraction': 0.4479267189768077, 'bagging_fraction': 0.25386283430570716, 'bagging_freq': 449, 'alpha': 31.52294235170321, 'reg_lambda': 39.229903359059044}. Best is trial 273 with value: 0.6008064516129032.\n"
     ]
    },
    {
     "name": "stdout",
     "output_type": "stream",
     "text": [
      "[LightGBM] [Warning] bagging_fraction is set=0.23629673808430554, subsample=1.0 will be ignored. Current value: bagging_fraction=0.23629673808430554\n",
      "[LightGBM] [Warning] feature_fraction is set=0.43473185246255625, colsample_bytree=1.0 will be ignored. Current value: feature_fraction=0.43473185246255625\n",
      "[LightGBM] [Warning] bagging_freq is set=462, subsample_freq=0 will be ignored. Current value: bagging_freq=462\n",
      "[LightGBM] [Warning] min_data_in_leaf is set=39, min_child_samples=20 will be ignored. Current value: min_data_in_leaf=39\n",
      "[LightGBM] [Warning] num_threads is set=0, n_jobs=-1 will be ignored. Current value: num_threads=0\n"
     ]
    },
    {
     "name": "stderr",
     "output_type": "stream",
     "text": [
      "[I 2023-06-11 02:30:57,464] Trial 361 finished with value: 0.635752688172043 and parameters: {'model_type': 'lgbm', 'num_leaves': 404, 'boosting_type': 'gbdt', 'n_estimators': 498, 'learning_rate': 0.1, 'min_data_in_leaf': 39, 'feature_fraction': 0.43473185246255625, 'bagging_fraction': 0.23629673808430554, 'bagging_freq': 462, 'alpha': 30.461239485292356, 'reg_lambda': 34.970817645511495}. Best is trial 273 with value: 0.6008064516129032.\n"
     ]
    },
    {
     "name": "stdout",
     "output_type": "stream",
     "text": [
      "[LightGBM] [Warning] bagging_fraction is set=0.2719172651431438, subsample=1.0 will be ignored. Current value: bagging_fraction=0.2719172651431438\n",
      "[LightGBM] [Warning] feature_fraction is set=0.41269716555380015, colsample_bytree=1.0 will be ignored. Current value: feature_fraction=0.41269716555380015\n",
      "[LightGBM] [Warning] bagging_freq is set=434, subsample_freq=0 will be ignored. Current value: bagging_freq=434\n",
      "[LightGBM] [Warning] min_data_in_leaf is set=38, min_child_samples=20 will be ignored. Current value: min_data_in_leaf=38\n",
      "[LightGBM] [Warning] num_threads is set=0, n_jobs=-1 will be ignored. Current value: num_threads=0\n"
     ]
    },
    {
     "name": "stderr",
     "output_type": "stream",
     "text": [
      "[I 2023-06-11 02:30:59,059] Trial 362 finished with value: 0.6102150537634409 and parameters: {'model_type': 'lgbm', 'num_leaves': 454, 'boosting_type': 'gbdt', 'n_estimators': 481, 'learning_rate': 0.1, 'min_data_in_leaf': 38, 'feature_fraction': 0.41269716555380015, 'bagging_fraction': 0.2719172651431438, 'bagging_freq': 434, 'alpha': 32.02174029853038, 'reg_lambda': 37.91976990630156}. Best is trial 273 with value: 0.6008064516129032.\n"
     ]
    },
    {
     "name": "stdout",
     "output_type": "stream",
     "text": [
      "[LightGBM] [Warning] bagging_fraction is set=0.27091235786880385, subsample=1.0 will be ignored. Current value: bagging_fraction=0.27091235786880385\n",
      "[LightGBM] [Warning] feature_fraction is set=0.40751913980168597, colsample_bytree=1.0 will be ignored. Current value: feature_fraction=0.40751913980168597\n",
      "[LightGBM] [Warning] bagging_freq is set=425, subsample_freq=0 will be ignored. Current value: bagging_freq=425\n",
      "[LightGBM] [Warning] min_data_in_leaf is set=38, min_child_samples=20 will be ignored. Current value: min_data_in_leaf=38\n",
      "[LightGBM] [Warning] num_threads is set=0, n_jobs=-1 will be ignored. Current value: num_threads=0\n"
     ]
    },
    {
     "name": "stderr",
     "output_type": "stream",
     "text": [
      "[I 2023-06-11 02:31:00,673] Trial 363 finished with value: 0.6317204301075269 and parameters: {'model_type': 'lgbm', 'num_leaves': 464, 'boosting_type': 'gbdt', 'n_estimators': 475, 'learning_rate': 0.1, 'min_data_in_leaf': 38, 'feature_fraction': 0.40751913980168597, 'bagging_fraction': 0.27091235786880385, 'bagging_freq': 425, 'alpha': 31.9937845852497, 'reg_lambda': 37.61761398297329}. Best is trial 273 with value: 0.6008064516129032.\n"
     ]
    },
    {
     "name": "stdout",
     "output_type": "stream",
     "text": [
      "[LightGBM] [Warning] bagging_fraction is set=0.28047654983034204, subsample=1.0 will be ignored. Current value: bagging_fraction=0.28047654983034204\n",
      "[LightGBM] [Warning] feature_fraction is set=0.10223377236525477, colsample_bytree=1.0 will be ignored. Current value: feature_fraction=0.10223377236525477\n",
      "[LightGBM] [Warning] bagging_freq is set=436, subsample_freq=0 will be ignored. Current value: bagging_freq=436\n",
      "[LightGBM] [Warning] min_data_in_leaf is set=39, min_child_samples=20 will be ignored. Current value: min_data_in_leaf=39\n",
      "[LightGBM] [Warning] num_threads is set=0, n_jobs=-1 will be ignored. Current value: num_threads=0\n"
     ]
    },
    {
     "name": "stderr",
     "output_type": "stream",
     "text": [
      "[I 2023-06-11 02:31:01,706] Trial 364 finished with value: 0.6411290322580645 and parameters: {'model_type': 'lgbm', 'num_leaves': 498, 'boosting_type': 'gbdt', 'n_estimators': 475, 'learning_rate': 0.1, 'min_data_in_leaf': 39, 'feature_fraction': 0.10223377236525477, 'bagging_fraction': 0.28047654983034204, 'bagging_freq': 436, 'alpha': 31.370286894718024, 'reg_lambda': 37.9924055090593}. Best is trial 273 with value: 0.6008064516129032.\n"
     ]
    },
    {
     "name": "stdout",
     "output_type": "stream",
     "text": [
      "[LightGBM] [Warning] bagging_fraction is set=0.26741760002888265, subsample=1.0 will be ignored. Current value: bagging_fraction=0.26741760002888265\n",
      "[LightGBM] [Warning] feature_fraction is set=0.44277645518857617, colsample_bytree=1.0 will be ignored. Current value: feature_fraction=0.44277645518857617\n",
      "[LightGBM] [Warning] bagging_freq is set=450, subsample_freq=0 will be ignored. Current value: bagging_freq=450\n",
      "[LightGBM] [Warning] min_data_in_leaf is set=38, min_child_samples=20 will be ignored. Current value: min_data_in_leaf=38\n",
      "[LightGBM] [Warning] num_threads is set=0, n_jobs=-1 will be ignored. Current value: num_threads=0\n"
     ]
    },
    {
     "name": "stderr",
     "output_type": "stream",
     "text": [
      "[I 2023-06-11 02:31:03,383] Trial 365 finished with value: 0.6330645161290323 and parameters: {'model_type': 'lgbm', 'num_leaves': 520, 'boosting_type': 'gbdt', 'n_estimators': 465, 'learning_rate': 0.1, 'min_data_in_leaf': 38, 'feature_fraction': 0.44277645518857617, 'bagging_fraction': 0.26741760002888265, 'bagging_freq': 450, 'alpha': 32.26843141883158, 'reg_lambda': 38.067819056277386}. Best is trial 273 with value: 0.6008064516129032.\n"
     ]
    },
    {
     "name": "stdout",
     "output_type": "stream",
     "text": [
      "[LightGBM] [Warning] bagging_fraction is set=0.27628783562547743, subsample=1.0 will be ignored. Current value: bagging_fraction=0.27628783562547743\n",
      "[LightGBM] [Warning] feature_fraction is set=0.4532293318801714, colsample_bytree=1.0 will be ignored. Current value: feature_fraction=0.4532293318801714\n",
      "[LightGBM] [Warning] bagging_freq is set=395, subsample_freq=0 will be ignored. Current value: bagging_freq=395\n",
      "[LightGBM] [Warning] min_data_in_leaf is set=37, min_child_samples=20 will be ignored. Current value: min_data_in_leaf=37\n",
      "[LightGBM] [Warning] num_threads is set=0, n_jobs=-1 will be ignored. Current value: num_threads=0\n"
     ]
    },
    {
     "name": "stderr",
     "output_type": "stream",
     "text": [
      "[I 2023-06-11 02:31:04,801] Trial 366 finished with value: 0.6397849462365591 and parameters: {'model_type': 'lgbm', 'num_leaves': 288, 'boosting_type': 'gbdt', 'n_estimators': 401, 'learning_rate': 0.1, 'min_data_in_leaf': 37, 'feature_fraction': 0.4532293318801714, 'bagging_fraction': 0.27628783562547743, 'bagging_freq': 395, 'alpha': 31.777702200247045, 'reg_lambda': 34.55027861222025}. Best is trial 273 with value: 0.6008064516129032.\n"
     ]
    },
    {
     "name": "stdout",
     "output_type": "stream",
     "text": [
      "[LightGBM] [Warning] bagging_fraction is set=0.5010082092756423, subsample=1.0 will be ignored. Current value: bagging_fraction=0.5010082092756423\n",
      "[LightGBM] [Warning] bagging_freq is set=436, subsample_freq=0 will be ignored. Current value: bagging_freq=436\n",
      "[LightGBM] [Warning] min_data_in_leaf is set=20, min_child_samples=20 will be ignored. Current value: min_data_in_leaf=20\n",
      "[LightGBM] [Warning] num_threads is set=0, n_jobs=-1 will be ignored. Current value: num_threads=0\n"
     ]
    },
    {
     "name": "stderr",
     "output_type": "stream",
     "text": [
      "[I 2023-06-11 02:31:10,554] Trial 367 finished with value: 0.6706989247311828 and parameters: {'model_type': 'lgbm', 'num_leaves': 445, 'boosting_type': 'rf', 'n_estimators': 455, 'feature_fraction_bynode': 0.21628466284267128, 'bagging_fraction': 0.5010082092756423, 'bagging_freq': 436, 'min_data_in_leaf': 20, 'alpha': 19.10286557737474, 'reg_lambda': 18.311641480760475}. Best is trial 273 with value: 0.6008064516129032.\n"
     ]
    },
    {
     "name": "stdout",
     "output_type": "stream",
     "text": [
      "[LightGBM] [Warning] bagging_fraction is set=0.2644822662007036, subsample=1.0 will be ignored. Current value: bagging_fraction=0.2644822662007036\n",
      "[LightGBM] [Warning] feature_fraction is set=0.43065513699861724, colsample_bytree=1.0 will be ignored. Current value: feature_fraction=0.43065513699861724\n",
      "[LightGBM] [Warning] bagging_freq is set=291, subsample_freq=0 will be ignored. Current value: bagging_freq=291\n",
      "[LightGBM] [Warning] min_data_in_leaf is set=39, min_child_samples=20 will be ignored. Current value: min_data_in_leaf=39\n",
      "[LightGBM] [Warning] num_threads is set=0, n_jobs=-1 will be ignored. Current value: num_threads=0\n"
     ]
    },
    {
     "name": "stderr",
     "output_type": "stream",
     "text": [
      "[I 2023-06-11 02:31:12,185] Trial 368 finished with value: 0.6384408602150538 and parameters: {'model_type': 'lgbm', 'num_leaves': 486, 'boosting_type': 'gbdt', 'n_estimators': 480, 'learning_rate': 0.1, 'min_data_in_leaf': 39, 'feature_fraction': 0.43065513699861724, 'bagging_fraction': 0.2644822662007036, 'bagging_freq': 291, 'alpha': 32.97639984447287, 'reg_lambda': 39.2613088027167}. Best is trial 273 with value: 0.6008064516129032.\n"
     ]
    },
    {
     "name": "stdout",
     "output_type": "stream",
     "text": [
      "[LightGBM] [Warning] bagging_fraction is set=0.26024382779051675, subsample=1.0 will be ignored. Current value: bagging_fraction=0.26024382779051675\n",
      "[LightGBM] [Warning] feature_fraction is set=0.4176788871098365, colsample_bytree=1.0 will be ignored. Current value: feature_fraction=0.4176788871098365\n",
      "[LightGBM] [Warning] bagging_freq is set=413, subsample_freq=0 will be ignored. Current value: bagging_freq=413\n",
      "[LightGBM] [Warning] min_data_in_leaf is set=38, min_child_samples=20 will be ignored. Current value: min_data_in_leaf=38\n",
      "[LightGBM] [Warning] num_threads is set=0, n_jobs=-1 will be ignored. Current value: num_threads=0\n"
     ]
    },
    {
     "name": "stderr",
     "output_type": "stream",
     "text": [
      "[I 2023-06-11 02:31:13,924] Trial 369 finished with value: 0.6438172043010753 and parameters: {'model_type': 'lgbm', 'num_leaves': 855, 'boosting_type': 'gbdt', 'n_estimators': 419, 'learning_rate': 0.1, 'min_data_in_leaf': 38, 'feature_fraction': 0.4176788871098365, 'bagging_fraction': 0.26024382779051675, 'bagging_freq': 413, 'alpha': 32.43892381443859, 'reg_lambda': 38.882377459867975}. Best is trial 273 with value: 0.6008064516129032.\n"
     ]
    },
    {
     "name": "stdout",
     "output_type": "stream",
     "text": [
      "[LightGBM] [Warning] bagging_fraction is set=0.2733485985564215, subsample=1.0 will be ignored. Current value: bagging_fraction=0.2733485985564215\n",
      "[LightGBM] [Warning] feature_fraction is set=0.4564539157869763, colsample_bytree=1.0 will be ignored. Current value: feature_fraction=0.4564539157869763\n",
      "[LightGBM] [Warning] bagging_freq is set=424, subsample_freq=0 will be ignored. Current value: bagging_freq=424\n",
      "[LightGBM] [Warning] min_data_in_leaf is set=39, min_child_samples=20 will be ignored. Current value: min_data_in_leaf=39\n",
      "[LightGBM] [Warning] num_threads is set=0, n_jobs=-1 will be ignored. Current value: num_threads=0\n"
     ]
    },
    {
     "name": "stderr",
     "output_type": "stream",
     "text": [
      "[I 2023-06-11 02:31:15,865] Trial 370 finished with value: 0.646505376344086 and parameters: {'model_type': 'lgbm', 'num_leaves': 948, 'boosting_type': 'gbdt', 'n_estimators': 431, 'learning_rate': 0.1, 'min_data_in_leaf': 39, 'feature_fraction': 0.4564539157869763, 'bagging_fraction': 0.2733485985564215, 'bagging_freq': 424, 'alpha': 31.450762713461234, 'reg_lambda': 35.30647761389867}. Best is trial 273 with value: 0.6008064516129032.\n"
     ]
    },
    {
     "name": "stdout",
     "output_type": "stream",
     "text": [
      "[LightGBM] [Warning] bagging_fraction is set=0.501171930605185, subsample=1.0 will be ignored. Current value: bagging_fraction=0.501171930605185\n",
      "[LightGBM] [Warning] feature_fraction is set=0.505636157190479, colsample_bytree=1.0 will be ignored. Current value: feature_fraction=0.505636157190479\n",
      "[LightGBM] [Warning] bagging_freq is set=429, subsample_freq=0 will be ignored. Current value: bagging_freq=429\n",
      "[LightGBM] [Warning] min_data_in_leaf is set=16, min_child_samples=20 will be ignored. Current value: min_data_in_leaf=16\n",
      "[LightGBM] [Warning] num_threads is set=0, n_jobs=-1 will be ignored. Current value: num_threads=0\n"
     ]
    },
    {
     "name": "stderr",
     "output_type": "stream",
     "text": [
      "[I 2023-06-11 02:31:20,845] Trial 371 finished with value: 0.6706989247311828 and parameters: {'model_type': 'lgbm', 'num_leaves': 971, 'boosting_type': 'gbdt', 'n_estimators': 456, 'learning_rate': 0.0005, 'min_data_in_leaf': 16, 'feature_fraction': 0.505636157190479, 'bagging_fraction': 0.501171930605185, 'bagging_freq': 429, 'alpha': 19.01608621915472, 'reg_lambda': 18.714365119998206}. Best is trial 273 with value: 0.6008064516129032.\n"
     ]
    },
    {
     "name": "stdout",
     "output_type": "stream",
     "text": [
      "[LightGBM] [Warning] bagging_fraction is set=0.2962285804907283, subsample=1.0 will be ignored. Current value: bagging_fraction=0.2962285804907283\n",
      "[LightGBM] [Warning] feature_fraction is set=0.40901594358765975, colsample_bytree=1.0 will be ignored. Current value: feature_fraction=0.40901594358765975\n",
      "[LightGBM] [Warning] bagging_freq is set=352, subsample_freq=0 will be ignored. Current value: bagging_freq=352\n",
      "[LightGBM] [Warning] min_data_in_leaf is set=37, min_child_samples=20 will be ignored. Current value: min_data_in_leaf=37\n",
      "[LightGBM] [Warning] num_threads is set=0, n_jobs=-1 will be ignored. Current value: num_threads=0\n"
     ]
    },
    {
     "name": "stderr",
     "output_type": "stream",
     "text": [
      "[I 2023-06-11 02:31:22,571] Trial 372 finished with value: 0.6344086021505376 and parameters: {'model_type': 'lgbm', 'num_leaves': 469, 'boosting_type': 'gbdt', 'n_estimators': 480, 'learning_rate': 0.1, 'min_data_in_leaf': 37, 'feature_fraction': 0.40901594358765975, 'bagging_fraction': 0.2962285804907283, 'bagging_freq': 352, 'alpha': 32.880505747679486, 'reg_lambda': 37.2704791072681}. Best is trial 273 with value: 0.6008064516129032.\n"
     ]
    },
    {
     "name": "stdout",
     "output_type": "stream",
     "text": [
      "[LightGBM] [Warning] bagging_fraction is set=0.13567938400354274, subsample=1.0 will be ignored. Current value: bagging_fraction=0.13567938400354274\n",
      "[LightGBM] [Warning] feature_fraction is set=0.4405414121226802, colsample_bytree=1.0 will be ignored. Current value: feature_fraction=0.4405414121226802\n",
      "[LightGBM] [Warning] bagging_freq is set=447, subsample_freq=0 will be ignored. Current value: bagging_freq=447\n",
      "[LightGBM] [Warning] min_data_in_leaf is set=39, min_child_samples=20 will be ignored. Current value: min_data_in_leaf=39\n",
      "[LightGBM] [Warning] num_threads is set=0, n_jobs=-1 will be ignored. Current value: num_threads=0\n"
     ]
    },
    {
     "name": "stderr",
     "output_type": "stream",
     "text": [
      "[I 2023-06-11 02:31:23,391] Trial 373 finished with value: 0.5967741935483871 and parameters: {'model_type': 'lgbm', 'num_leaves': 117, 'boosting_type': 'gbdt', 'n_estimators': 467, 'learning_rate': 0.1, 'min_data_in_leaf': 39, 'feature_fraction': 0.4405414121226802, 'bagging_fraction': 0.13567938400354274, 'bagging_freq': 447, 'alpha': 32.06723920824015, 'reg_lambda': 36.32832354982458}. Best is trial 373 with value: 0.5967741935483871.\n"
     ]
    },
    {
     "name": "stdout",
     "output_type": "stream",
     "text": [
      "[LightGBM] [Warning] bagging_fraction is set=0.1579624531049232, subsample=1.0 will be ignored. Current value: bagging_fraction=0.1579624531049232\n",
      "[LightGBM] [Warning] feature_fraction is set=0.44725532045423894, colsample_bytree=1.0 will be ignored. Current value: feature_fraction=0.44725532045423894\n",
      "[LightGBM] [Warning] bagging_freq is set=439, subsample_freq=0 will be ignored. Current value: bagging_freq=439\n",
      "[LightGBM] [Warning] min_data_in_leaf is set=38, min_child_samples=20 will be ignored. Current value: min_data_in_leaf=38\n",
      "[LightGBM] [Warning] num_threads is set=0, n_jobs=-1 will be ignored. Current value: num_threads=0\n"
     ]
    },
    {
     "name": "stderr",
     "output_type": "stream",
     "text": [
      "[I 2023-06-11 02:31:24,340] Trial 374 finished with value: 0.6276881720430108 and parameters: {'model_type': 'lgbm', 'num_leaves': 91, 'boosting_type': 'gbdt', 'n_estimators': 465, 'learning_rate': 0.1, 'min_data_in_leaf': 38, 'feature_fraction': 0.44725532045423894, 'bagging_fraction': 0.1579624531049232, 'bagging_freq': 439, 'alpha': 32.55903063143919, 'reg_lambda': 36.2562112291063}. Best is trial 373 with value: 0.5967741935483871.\n"
     ]
    },
    {
     "name": "stdout",
     "output_type": "stream",
     "text": [
      "[LightGBM] [Warning] bagging_fraction is set=0.1264419937073888, subsample=1.0 will be ignored. Current value: bagging_fraction=0.1264419937073888\n",
      "[LightGBM] [Warning] feature_fraction is set=0.43741608652583003, colsample_bytree=1.0 will be ignored. Current value: feature_fraction=0.43741608652583003\n",
      "[LightGBM] [Warning] bagging_freq is set=458, subsample_freq=0 will be ignored. Current value: bagging_freq=458\n",
      "[LightGBM] [Warning] min_data_in_leaf is set=39, min_child_samples=20 will be ignored. Current value: min_data_in_leaf=39\n",
      "[LightGBM] [Warning] num_threads is set=0, n_jobs=-1 will be ignored. Current value: num_threads=0\n"
     ]
    },
    {
     "name": "stderr",
     "output_type": "stream",
     "text": [
      "[I 2023-06-11 02:31:25,168] Trial 375 finished with value: 0.6182795698924731 and parameters: {'model_type': 'lgbm', 'num_leaves': 138, 'boosting_type': 'gbdt', 'n_estimators': 488, 'learning_rate': 0.1, 'min_data_in_leaf': 39, 'feature_fraction': 0.43741608652583003, 'bagging_fraction': 0.1264419937073888, 'bagging_freq': 458, 'alpha': 32.26509570860829, 'reg_lambda': 34.11319647267581}. Best is trial 373 with value: 0.5967741935483871.\n"
     ]
    },
    {
     "name": "stdout",
     "output_type": "stream",
     "text": [
      "[LightGBM] [Warning] bagging_fraction is set=0.29727691058010425, subsample=1.0 will be ignored. Current value: bagging_fraction=0.29727691058010425\n",
      "[LightGBM] [Warning] feature_fraction is set=0.42296049888836357, colsample_bytree=1.0 will be ignored. Current value: feature_fraction=0.42296049888836357\n",
      "[LightGBM] [Warning] bagging_freq is set=444, subsample_freq=0 will be ignored. Current value: bagging_freq=444\n",
      "[LightGBM] [Warning] min_data_in_leaf is set=39, min_child_samples=20 will be ignored. Current value: min_data_in_leaf=39\n",
      "[LightGBM] [Warning] num_threads is set=0, n_jobs=-1 will be ignored. Current value: num_threads=0\n"
     ]
    },
    {
     "name": "stderr",
     "output_type": "stream",
     "text": [
      "[I 2023-06-11 02:31:26,617] Trial 376 finished with value: 0.625 and parameters: {'model_type': 'lgbm', 'num_leaves': 41, 'boosting_type': 'gbdt', 'n_estimators': 472, 'learning_rate': 0.1, 'min_data_in_leaf': 39, 'feature_fraction': 0.42296049888836357, 'bagging_fraction': 0.29727691058010425, 'bagging_freq': 444, 'alpha': 32.02941416196547, 'reg_lambda': 35.021501214759695}. Best is trial 373 with value: 0.5967741935483871.\n"
     ]
    },
    {
     "name": "stdout",
     "output_type": "stream",
     "text": [
      "[LightGBM] [Warning] bagging_fraction is set=0.2798667138903816, subsample=1.0 will be ignored. Current value: bagging_fraction=0.2798667138903816\n",
      "[LightGBM] [Warning] feature_fraction is set=0.4332683752623908, colsample_bytree=1.0 will be ignored. Current value: feature_fraction=0.4332683752623908\n",
      "[LightGBM] [Warning] bagging_freq is set=431, subsample_freq=0 will be ignored. Current value: bagging_freq=431\n",
      "[LightGBM] [Warning] min_data_in_leaf is set=38, min_child_samples=20 will be ignored. Current value: min_data_in_leaf=38\n",
      "[LightGBM] [Warning] num_threads is set=0, n_jobs=-1 will be ignored. Current value: num_threads=0\n"
     ]
    },
    {
     "name": "stderr",
     "output_type": "stream",
     "text": [
      "[I 2023-06-11 02:31:28,277] Trial 377 finished with value: 0.6451612903225806 and parameters: {'model_type': 'lgbm', 'num_leaves': 437, 'boosting_type': 'gbdt', 'n_estimators': 446, 'learning_rate': 0.1, 'min_data_in_leaf': 38, 'feature_fraction': 0.4332683752623908, 'bagging_fraction': 0.2798667138903816, 'bagging_freq': 431, 'alpha': 33.222601247909815, 'reg_lambda': 35.71205590379736}. Best is trial 373 with value: 0.5967741935483871.\n"
     ]
    },
    {
     "name": "stdout",
     "output_type": "stream",
     "text": [
      "[LightGBM] [Warning] bagging_fraction is set=0.10604947078063381, subsample=1.0 will be ignored. Current value: bagging_fraction=0.10604947078063381\n",
      "[LightGBM] [Warning] feature_fraction is set=0.442518948481801, colsample_bytree=1.0 will be ignored. Current value: feature_fraction=0.442518948481801\n",
      "[LightGBM] [Warning] bagging_freq is set=415, subsample_freq=0 will be ignored. Current value: bagging_freq=415\n",
      "[LightGBM] [Warning] min_data_in_leaf is set=38, min_child_samples=20 will be ignored. Current value: min_data_in_leaf=38\n",
      "[LightGBM] [Warning] num_threads is set=0, n_jobs=-1 will be ignored. Current value: num_threads=0\n"
     ]
    },
    {
     "name": "stderr",
     "output_type": "stream",
     "text": [
      "[I 2023-06-11 02:31:29,177] Trial 378 finished with value: 0.6559139784946236 and parameters: {'model_type': 'lgbm', 'num_leaves': 460, 'boosting_type': 'gbdt', 'n_estimators': 421, 'learning_rate': 0.1, 'min_data_in_leaf': 38, 'feature_fraction': 0.442518948481801, 'bagging_fraction': 0.10604947078063381, 'bagging_freq': 415, 'alpha': 32.82323458369218, 'reg_lambda': 34.76212941228846}. Best is trial 373 with value: 0.5967741935483871.\n"
     ]
    },
    {
     "name": "stdout",
     "output_type": "stream",
     "text": [
      "[LightGBM] [Warning] bagging_fraction is set=0.1926280231615272, subsample=1.0 will be ignored. Current value: bagging_fraction=0.1926280231615272\n",
      "[LightGBM] [Warning] feature_fraction is set=0.400657314243195, colsample_bytree=1.0 will be ignored. Current value: feature_fraction=0.400657314243195\n",
      "[LightGBM] [Warning] bagging_freq is set=320, subsample_freq=0 will be ignored. Current value: bagging_freq=320\n",
      "[LightGBM] [Warning] min_data_in_leaf is set=39, min_child_samples=20 will be ignored. Current value: min_data_in_leaf=39\n",
      "[LightGBM] [Warning] num_threads is set=0, n_jobs=-1 will be ignored. Current value: num_threads=0\n"
     ]
    },
    {
     "name": "stderr",
     "output_type": "stream",
     "text": [
      "[I 2023-06-11 02:31:30,330] Trial 379 finished with value: 0.625 and parameters: {'model_type': 'lgbm', 'num_leaves': 207, 'boosting_type': 'gbdt', 'n_estimators': 499, 'learning_rate': 0.1, 'min_data_in_leaf': 39, 'feature_fraction': 0.400657314243195, 'bagging_fraction': 0.1926280231615272, 'bagging_freq': 320, 'alpha': 31.613010071370944, 'reg_lambda': 38.49970587319308}. Best is trial 373 with value: 0.5967741935483871.\n"
     ]
    },
    {
     "name": "stdout",
     "output_type": "stream",
     "text": [
      "[LightGBM] [Warning] bagging_fraction is set=0.23722439137621007, subsample=1.0 will be ignored. Current value: bagging_fraction=0.23722439137621007\n",
      "[LightGBM] [Warning] feature_fraction is set=0.45301106763158394, colsample_bytree=1.0 will be ignored. Current value: feature_fraction=0.45301106763158394\n",
      "[LightGBM] [Warning] bagging_freq is set=345, subsample_freq=0 will be ignored. Current value: bagging_freq=345\n",
      "[LightGBM] [Warning] min_data_in_leaf is set=37, min_child_samples=20 will be ignored. Current value: min_data_in_leaf=37\n",
      "[LightGBM] [Warning] num_threads is set=0, n_jobs=-1 will be ignored. Current value: num_threads=0\n"
     ]
    },
    {
     "name": "stderr",
     "output_type": "stream",
     "text": [
      "[I 2023-06-11 02:31:31,859] Trial 380 finished with value: 0.6290322580645161 and parameters: {'model_type': 'lgbm', 'num_leaves': 437, 'boosting_type': 'gbdt', 'n_estimators': 476, 'learning_rate': 0.1, 'min_data_in_leaf': 37, 'feature_fraction': 0.45301106763158394, 'bagging_fraction': 0.23722439137621007, 'bagging_freq': 345, 'alpha': 32.457833095805896, 'reg_lambda': 35.23328809811631}. Best is trial 373 with value: 0.5967741935483871.\n"
     ]
    },
    {
     "name": "stdout",
     "output_type": "stream",
     "text": [
      "[LightGBM] [Warning] bagging_fraction is set=0.24939361338154264, subsample=1.0 will be ignored. Current value: bagging_fraction=0.24939361338154264\n",
      "[LightGBM] [Warning] feature_fraction is set=0.4579543745463628, colsample_bytree=1.0 will be ignored. Current value: feature_fraction=0.4579543745463628\n",
      "[LightGBM] [Warning] bagging_freq is set=399, subsample_freq=0 will be ignored. Current value: bagging_freq=399\n",
      "[LightGBM] [Warning] min_data_in_leaf is set=39, min_child_samples=20 will be ignored. Current value: min_data_in_leaf=39\n",
      "[LightGBM] [Warning] num_threads is set=0, n_jobs=-1 will be ignored. Current value: num_threads=0\n"
     ]
    },
    {
     "name": "stderr",
     "output_type": "stream",
     "text": [
      "[I 2023-06-11 02:31:32,241] Trial 381 finished with value: 0.6451612903225806 and parameters: {'model_type': 'lgbm', 'num_leaves': 2, 'boosting_type': 'gbdt', 'n_estimators': 404, 'learning_rate': 0.1, 'min_data_in_leaf': 39, 'feature_fraction': 0.4579543745463628, 'bagging_fraction': 0.24939361338154264, 'bagging_freq': 399, 'alpha': 30.239572660183033, 'reg_lambda': 33.69338976670704}. Best is trial 373 with value: 0.5967741935483871.\n"
     ]
    },
    {
     "name": "stdout",
     "output_type": "stream",
     "text": [
      "[LightGBM] [Warning] min_data_in_leaf is set=36, min_child_samples=20 will be ignored. Current value: min_data_in_leaf=36\n",
      "[LightGBM] [Warning] num_threads is set=0, n_jobs=-1 will be ignored. Current value: num_threads=0\n"
     ]
    },
    {
     "name": "stderr",
     "output_type": "stream",
     "text": [
      "[I 2023-06-11 02:31:34,464] Trial 382 finished with value: 0.646505376344086 and parameters: {'model_type': 'lgbm', 'num_leaves': 74, 'boosting_type': 'goss', 'learning_rate': 0.1, 'min_data_in_leaf': 36, 'top_rate': 0.7771886675642005}. Best is trial 373 with value: 0.5967741935483871.\n"
     ]
    },
    {
     "name": "stdout",
     "output_type": "stream",
     "text": [
      "[LightGBM] [Warning] bagging_fraction is set=0.35980148182028493, subsample=1.0 will be ignored. Current value: bagging_fraction=0.35980148182028493\n",
      "[LightGBM] [Warning] feature_fraction is set=0.4460927045512129, colsample_bytree=1.0 will be ignored. Current value: feature_fraction=0.4460927045512129\n",
      "[LightGBM] [Warning] bagging_freq is set=385, subsample_freq=0 will be ignored. Current value: bagging_freq=385\n",
      "[LightGBM] [Warning] min_data_in_leaf is set=38, min_child_samples=20 will be ignored. Current value: min_data_in_leaf=38\n",
      "[LightGBM] [Warning] num_threads is set=0, n_jobs=-1 will be ignored. Current value: num_threads=0\n"
     ]
    },
    {
     "name": "stderr",
     "output_type": "stream",
     "text": [
      "[I 2023-06-11 02:31:36,360] Trial 383 finished with value: 0.6545698924731183 and parameters: {'model_type': 'lgbm', 'num_leaves': 634, 'boosting_type': 'gbdt', 'n_estimators': 389, 'learning_rate': 0.05, 'min_data_in_leaf': 38, 'feature_fraction': 0.4460927045512129, 'bagging_fraction': 0.35980148182028493, 'bagging_freq': 385, 'alpha': 30.95492362257326, 'reg_lambda': 34.34516604241394}. Best is trial 373 with value: 0.5967741935483871.\n"
     ]
    },
    {
     "name": "stdout",
     "output_type": "stream",
     "text": [
      "[LightGBM] [Warning] bagging_fraction is set=0.2990234884020923, subsample=1.0 will be ignored. Current value: bagging_fraction=0.2990234884020923\n",
      "[LightGBM] [Warning] feature_fraction is set=0.43395041905850607, colsample_bytree=1.0 will be ignored. Current value: feature_fraction=0.43395041905850607\n",
      "[LightGBM] [Warning] bagging_freq is set=362, subsample_freq=0 will be ignored. Current value: bagging_freq=362\n",
      "[LightGBM] [Warning] min_data_in_leaf is set=38, min_child_samples=20 will be ignored. Current value: min_data_in_leaf=38\n",
      "[LightGBM] [Warning] num_threads is set=0, n_jobs=-1 will be ignored. Current value: num_threads=0\n"
     ]
    },
    {
     "name": "stderr",
     "output_type": "stream",
     "text": [
      "[I 2023-06-11 02:31:38,006] Trial 384 finished with value: 0.635752688172043 and parameters: {'model_type': 'lgbm', 'num_leaves': 367, 'boosting_type': 'gbdt', 'n_estimators': 463, 'learning_rate': 0.1, 'min_data_in_leaf': 38, 'feature_fraction': 0.43395041905850607, 'bagging_fraction': 0.2990234884020923, 'bagging_freq': 362, 'alpha': 31.941794101208533, 'reg_lambda': 35.90633147720958}. Best is trial 373 with value: 0.5967741935483871.\n"
     ]
    },
    {
     "name": "stdout",
     "output_type": "stream",
     "text": [
      "[LightGBM] [Warning] bagging_fraction is set=0.23270312109850352, subsample=1.0 will be ignored. Current value: bagging_fraction=0.23270312109850352\n",
      "[LightGBM] [Warning] feature_fraction is set=0.42691509033408925, colsample_bytree=1.0 will be ignored. Current value: feature_fraction=0.42691509033408925\n",
      "[LightGBM] [Warning] bagging_freq is set=426, subsample_freq=0 will be ignored. Current value: bagging_freq=426\n",
      "[LightGBM] [Warning] min_data_in_leaf is set=39, min_child_samples=20 will be ignored. Current value: min_data_in_leaf=39\n",
      "[LightGBM] [Warning] num_threads is set=0, n_jobs=-1 will be ignored. Current value: num_threads=0\n"
     ]
    },
    {
     "name": "stderr",
     "output_type": "stream",
     "text": [
      "[I 2023-06-11 02:31:39,406] Trial 385 finished with value: 0.6384408602150538 and parameters: {'model_type': 'lgbm', 'num_leaves': 500, 'boosting_type': 'gbdt', 'n_estimators': 436, 'learning_rate': 0.1, 'min_data_in_leaf': 39, 'feature_fraction': 0.42691509033408925, 'bagging_fraction': 0.23270312109850352, 'bagging_freq': 426, 'alpha': 33.19883599661174, 'reg_lambda': 37.118641509846384}. Best is trial 373 with value: 0.5967741935483871.\n"
     ]
    },
    {
     "name": "stdout",
     "output_type": "stream",
     "text": [
      "[LightGBM] [Warning] bagging_fraction is set=0.5010229500289818, subsample=1.0 will be ignored. Current value: bagging_fraction=0.5010229500289818\n",
      "[LightGBM] [Warning] feature_fraction is set=0.5056973503674971, colsample_bytree=1.0 will be ignored. Current value: feature_fraction=0.5056973503674971\n",
      "[LightGBM] [Warning] bagging_freq is set=344, subsample_freq=0 will be ignored. Current value: bagging_freq=344\n",
      "[LightGBM] [Warning] min_data_in_leaf is set=13, min_child_samples=20 will be ignored. Current value: min_data_in_leaf=13\n",
      "[LightGBM] [Warning] num_threads is set=0, n_jobs=-1 will be ignored. Current value: num_threads=0\n"
     ]
    },
    {
     "name": "stderr",
     "output_type": "stream",
     "text": [
      "[I 2023-06-11 02:31:44,814] Trial 386 finished with value: 0.6706989247311828 and parameters: {'model_type': 'lgbm', 'num_leaves': 421, 'boosting_type': 'gbdt', 'n_estimators': 488, 'learning_rate': 0.0001, 'min_data_in_leaf': 13, 'feature_fraction': 0.5056973503674971, 'bagging_fraction': 0.5010229500289818, 'bagging_freq': 344, 'alpha': 19.12207760900566, 'reg_lambda': 18.63942618354957}. Best is trial 373 with value: 0.5967741935483871.\n"
     ]
    },
    {
     "name": "stdout",
     "output_type": "stream",
     "text": [
      "[LightGBM] [Warning] bagging_fraction is set=0.25630361156010995, subsample=1.0 will be ignored. Current value: bagging_fraction=0.25630361156010995\n",
      "[LightGBM] [Warning] feature_fraction is set=0.4596394096348515, colsample_bytree=1.0 will be ignored. Current value: feature_fraction=0.4596394096348515\n",
      "[LightGBM] [Warning] bagging_freq is set=435, subsample_freq=0 will be ignored. Current value: bagging_freq=435\n",
      "[LightGBM] [Warning] min_data_in_leaf is set=38, min_child_samples=20 will be ignored. Current value: min_data_in_leaf=38\n",
      "[LightGBM] [Warning] num_threads is set=0, n_jobs=-1 will be ignored. Current value: num_threads=0\n"
     ]
    },
    {
     "name": "stderr",
     "output_type": "stream",
     "text": [
      "[I 2023-06-11 02:31:46,336] Trial 387 finished with value: 0.6370967741935484 and parameters: {'model_type': 'lgbm', 'num_leaves': 448, 'boosting_type': 'gbdt', 'n_estimators': 443, 'learning_rate': 0.1, 'min_data_in_leaf': 38, 'feature_fraction': 0.4596394096348515, 'bagging_fraction': 0.25630361156010995, 'bagging_freq': 435, 'alpha': 31.284818208803753, 'reg_lambda': 36.39342700541128}. Best is trial 373 with value: 0.5967741935483871.\n"
     ]
    },
    {
     "name": "stdout",
     "output_type": "stream",
     "text": [
      "[LightGBM] [Warning] bagging_fraction is set=0.3056586430587429, subsample=1.0 will be ignored. Current value: bagging_fraction=0.3056586430587429\n",
      "[LightGBM] [Warning] feature_fraction is set=0.49497230154552946, colsample_bytree=1.0 will be ignored. Current value: feature_fraction=0.49497230154552946\n",
      "[LightGBM] [Warning] bagging_freq is set=421, subsample_freq=0 will be ignored. Current value: bagging_freq=421\n",
      "[LightGBM] [Warning] min_data_in_leaf is set=30, min_child_samples=20 will be ignored. Current value: min_data_in_leaf=30\n",
      "[LightGBM] [Warning] num_threads is set=0, n_jobs=-1 will be ignored. Current value: num_threads=0\n"
     ]
    },
    {
     "name": "stderr",
     "output_type": "stream",
     "text": [
      "[I 2023-06-11 02:31:48,454] Trial 388 finished with value: 0.668010752688172 and parameters: {'model_type': 'lgbm', 'num_leaves': 658, 'boosting_type': 'gbdt', 'n_estimators': 427, 'learning_rate': 0.01, 'min_data_in_leaf': 30, 'feature_fraction': 0.49497230154552946, 'bagging_fraction': 0.3056586430587429, 'bagging_freq': 421, 'alpha': 29.509458288060408, 'reg_lambda': 29.840845317177614}. Best is trial 373 with value: 0.5967741935483871.\n"
     ]
    },
    {
     "name": "stdout",
     "output_type": "stream",
     "text": [
      "[LightGBM] [Warning] bagging_fraction is set=0.24200109658371283, subsample=1.0 will be ignored. Current value: bagging_fraction=0.24200109658371283\n",
      "[LightGBM] [Warning] feature_fraction is set=0.4512198426908895, colsample_bytree=1.0 will be ignored. Current value: feature_fraction=0.4512198426908895\n",
      "[LightGBM] [Warning] bagging_freq is set=446, subsample_freq=0 will be ignored. Current value: bagging_freq=446\n",
      "[LightGBM] [Warning] min_data_in_leaf is set=37, min_child_samples=20 will be ignored. Current value: min_data_in_leaf=37\n",
      "[LightGBM] [Warning] num_threads is set=0, n_jobs=-1 will be ignored. Current value: num_threads=0\n"
     ]
    },
    {
     "name": "stderr",
     "output_type": "stream",
     "text": [
      "[I 2023-06-11 02:31:50,363] Trial 389 finished with value: 0.6411290322580645 and parameters: {'model_type': 'lgbm', 'num_leaves': 969, 'boosting_type': 'gbdt', 'n_estimators': 455, 'learning_rate': 0.1, 'min_data_in_leaf': 37, 'feature_fraction': 0.4512198426908895, 'bagging_fraction': 0.24200109658371283, 'bagging_freq': 446, 'alpha': 33.54069312681202, 'reg_lambda': 35.4398608621769}. Best is trial 373 with value: 0.5967741935483871.\n"
     ]
    },
    {
     "name": "stdout",
     "output_type": "stream",
     "text": [
      "[LightGBM] [Warning] bagging_fraction is set=0.276010980976684, subsample=1.0 will be ignored. Current value: bagging_fraction=0.276010980976684\n",
      "[LightGBM] [Warning] feature_fraction is set=0.4389130087235079, colsample_bytree=1.0 will be ignored. Current value: feature_fraction=0.4389130087235079\n",
      "[LightGBM] [Warning] bagging_freq is set=453, subsample_freq=0 will be ignored. Current value: bagging_freq=453\n",
      "[LightGBM] [Warning] min_data_in_leaf is set=39, min_child_samples=20 will be ignored. Current value: min_data_in_leaf=39\n",
      "[LightGBM] [Warning] num_threads is set=0, n_jobs=-1 will be ignored. Current value: num_threads=0\n"
     ]
    },
    {
     "name": "stderr",
     "output_type": "stream",
     "text": [
      "[I 2023-06-11 02:31:51,831] Trial 390 finished with value: 0.646505376344086 and parameters: {'model_type': 'lgbm', 'num_leaves': 152, 'boosting_type': 'gbdt', 'n_estimators': 468, 'learning_rate': 0.1, 'min_data_in_leaf': 39, 'feature_fraction': 0.4389130087235079, 'bagging_fraction': 0.276010980976684, 'bagging_freq': 453, 'alpha': 32.74168029181861, 'reg_lambda': 34.679591976566535}. Best is trial 373 with value: 0.5967741935483871.\n"
     ]
    },
    {
     "name": "stdout",
     "output_type": "stream",
     "text": [
      "[LightGBM] [Warning] bagging_fraction is set=0.5010069874285323, subsample=1.0 will be ignored. Current value: bagging_fraction=0.5010069874285323\n",
      "[LightGBM] [Warning] bagging_freq is set=331, subsample_freq=0 will be ignored. Current value: bagging_freq=331\n",
      "[LightGBM] [Warning] min_data_in_leaf is set=1, min_child_samples=20 will be ignored. Current value: min_data_in_leaf=1\n",
      "[LightGBM] [Warning] num_threads is set=0, n_jobs=-1 will be ignored. Current value: num_threads=0\n"
     ]
    },
    {
     "name": "stderr",
     "output_type": "stream",
     "text": [
      "[I 2023-06-11 02:32:28,542] Trial 391 finished with value: 0.6706989247311828 and parameters: {'model_type': 'lgbm', 'num_leaves': 486, 'boosting_type': 'rf', 'n_estimators': 479, 'feature_fraction_bynode': 0.028339930546456293, 'bagging_fraction': 0.5010069874285323, 'bagging_freq': 331, 'min_data_in_leaf': 1, 'alpha': 19.091741289457538, 'reg_lambda': 18.64434386696904}. Best is trial 373 with value: 0.5967741935483871.\n"
     ]
    },
    {
     "name": "stdout",
     "output_type": "stream",
     "text": [
      "[LightGBM] [Warning] bagging_fraction is set=0.16700109329778948, subsample=1.0 will be ignored. Current value: bagging_fraction=0.16700109329778948\n",
      "[LightGBM] [Warning] feature_fraction is set=0.4001366802550883, colsample_bytree=1.0 will be ignored. Current value: feature_fraction=0.4001366802550883\n",
      "[LightGBM] [Warning] bagging_freq is set=358, subsample_freq=0 will be ignored. Current value: bagging_freq=358\n",
      "[LightGBM] [Warning] min_data_in_leaf is set=38, min_child_samples=20 will be ignored. Current value: min_data_in_leaf=38\n",
      "[LightGBM] [Warning] num_threads is set=0, n_jobs=-1 will be ignored. Current value: num_threads=0\n"
     ]
    },
    {
     "name": "stderr",
     "output_type": "stream",
     "text": [
      "[I 2023-06-11 02:32:30,142] Trial 392 finished with value: 0.6115591397849462 and parameters: {'model_type': 'lgbm', 'num_leaves': 941, 'boosting_type': 'gbdt', 'n_estimators': 488, 'learning_rate': 0.1, 'min_data_in_leaf': 38, 'feature_fraction': 0.4001366802550883, 'bagging_fraction': 0.16700109329778948, 'bagging_freq': 358, 'alpha': 32.06651138384666, 'reg_lambda': 37.794751021777195}. Best is trial 373 with value: 0.5967741935483871.\n"
     ]
    },
    {
     "name": "stdout",
     "output_type": "stream",
     "text": [
      "[LightGBM] [Warning] bagging_fraction is set=0.25176801930364917, subsample=1.0 will be ignored. Current value: bagging_fraction=0.25176801930364917\n",
      "[LightGBM] [Warning] feature_fraction is set=0.4605114577372553, colsample_bytree=1.0 will be ignored. Current value: feature_fraction=0.4605114577372553\n",
      "[LightGBM] [Warning] bagging_freq is set=427, subsample_freq=0 will be ignored. Current value: bagging_freq=427\n",
      "[LightGBM] [Warning] min_data_in_leaf is set=39, min_child_samples=20 will be ignored. Current value: min_data_in_leaf=39\n",
      "[LightGBM] [Warning] num_threads is set=0, n_jobs=-1 will be ignored. Current value: num_threads=0\n"
     ]
    },
    {
     "name": "stderr",
     "output_type": "stream",
     "text": [
      "[I 2023-06-11 02:32:31,622] Trial 393 finished with value: 0.6196236559139785 and parameters: {'model_type': 'lgbm', 'num_leaves': 475, 'boosting_type': 'gbdt', 'n_estimators': 434, 'learning_rate': 0.1, 'min_data_in_leaf': 39, 'feature_fraction': 0.4605114577372553, 'bagging_fraction': 0.25176801930364917, 'bagging_freq': 427, 'alpha': 34.19109869899988, 'reg_lambda': 34.16704158858581}. Best is trial 373 with value: 0.5967741935483871.\n"
     ]
    },
    {
     "name": "stdout",
     "output_type": "stream",
     "text": [
      "[LightGBM] [Warning] bagging_fraction is set=0.26807232939784226, subsample=1.0 will be ignored. Current value: bagging_fraction=0.26807232939784226\n",
      "[LightGBM] [Warning] feature_fraction is set=0.4480282126700837, colsample_bytree=1.0 will be ignored. Current value: feature_fraction=0.4480282126700837\n",
      "[LightGBM] [Warning] bagging_freq is set=437, subsample_freq=0 will be ignored. Current value: bagging_freq=437\n",
      "[LightGBM] [Warning] min_data_in_leaf is set=38, min_child_samples=20 will be ignored. Current value: min_data_in_leaf=38\n",
      "[LightGBM] [Warning] num_threads is set=0, n_jobs=-1 will be ignored. Current value: num_threads=0\n"
     ]
    },
    {
     "name": "stderr",
     "output_type": "stream",
     "text": [
      "[I 2023-06-11 02:32:33,173] Trial 394 finished with value: 0.625 and parameters: {'model_type': 'lgbm', 'num_leaves': 416, 'boosting_type': 'gbdt', 'n_estimators': 445, 'learning_rate': 0.1, 'min_data_in_leaf': 38, 'feature_fraction': 0.4480282126700837, 'bagging_fraction': 0.26807232939784226, 'bagging_freq': 437, 'alpha': 32.514404820884536, 'reg_lambda': 35.08881578322568}. Best is trial 373 with value: 0.5967741935483871.\n"
     ]
    },
    {
     "name": "stdout",
     "output_type": "stream",
     "text": [
      "[LightGBM] [Warning] bagging_fraction is set=0.2573690708137191, subsample=1.0 will be ignored. Current value: bagging_fraction=0.2573690708137191\n",
      "[LightGBM] [Warning] feature_fraction is set=0.4216503970828709, colsample_bytree=1.0 will be ignored. Current value: feature_fraction=0.4216503970828709\n",
      "[LightGBM] [Warning] bagging_freq is set=416, subsample_freq=0 will be ignored. Current value: bagging_freq=416\n",
      "[LightGBM] [Warning] min_data_in_leaf is set=40, min_child_samples=20 will be ignored. Current value: min_data_in_leaf=40\n",
      "[LightGBM] [Warning] num_threads is set=0, n_jobs=-1 will be ignored. Current value: num_threads=0\n"
     ]
    },
    {
     "name": "stderr",
     "output_type": "stream",
     "text": [
      "[I 2023-06-11 02:32:34,579] Trial 395 finished with value: 0.6491935483870968 and parameters: {'model_type': 'lgbm', 'num_leaves': 459, 'boosting_type': 'gbdt', 'n_estimators': 423, 'learning_rate': 0.1, 'min_data_in_leaf': 40, 'feature_fraction': 0.4216503970828709, 'bagging_fraction': 0.2573690708137191, 'bagging_freq': 416, 'alpha': 33.05444802316796, 'reg_lambda': 35.8636258879729}. Best is trial 373 with value: 0.5967741935483871.\n"
     ]
    },
    {
     "name": "stdout",
     "output_type": "stream",
     "text": [
      "[LightGBM] [Warning] bagging_fraction is set=0.2840845675727217, subsample=1.0 will be ignored. Current value: bagging_fraction=0.2840845675727217\n",
      "[LightGBM] [Warning] feature_fraction is set=0.441831243513217, colsample_bytree=1.0 will be ignored. Current value: feature_fraction=0.441831243513217\n",
      "[LightGBM] [Warning] bagging_freq is set=12, subsample_freq=0 will be ignored. Current value: bagging_freq=12\n",
      "[LightGBM] [Warning] min_data_in_leaf is set=37, min_child_samples=20 will be ignored. Current value: min_data_in_leaf=37\n",
      "[LightGBM] [Warning] num_threads is set=0, n_jobs=-1 will be ignored. Current value: num_threads=0\n"
     ]
    },
    {
     "name": "stderr",
     "output_type": "stream",
     "text": [
      "[I 2023-06-11 02:32:35,654] Trial 396 finished with value: 0.6478494623655914 and parameters: {'model_type': 'lgbm', 'num_leaves': 987, 'boosting_type': 'gbdt', 'n_estimators': 97, 'learning_rate': 0.1, 'min_data_in_leaf': 37, 'feature_fraction': 0.441831243513217, 'bagging_fraction': 0.2840845675727217, 'bagging_freq': 12, 'alpha': 36.03112167178736, 'reg_lambda': 38.668316530774725}. Best is trial 373 with value: 0.5967741935483871.\n"
     ]
    },
    {
     "name": "stdout",
     "output_type": "stream",
     "text": [
      "[LightGBM] [Warning] bagging_fraction is set=0.24229834848263598, subsample=1.0 will be ignored. Current value: bagging_fraction=0.24229834848263598\n",
      "[LightGBM] [Warning] feature_fraction is set=0.4917145371419666, colsample_bytree=1.0 will be ignored. Current value: feature_fraction=0.4917145371419666\n",
      "[LightGBM] [Warning] bagging_freq is set=445, subsample_freq=0 will be ignored. Current value: bagging_freq=445\n",
      "[LightGBM] [Warning] min_data_in_leaf is set=39, min_child_samples=20 will be ignored. Current value: min_data_in_leaf=39\n",
      "[LightGBM] [Warning] num_threads is set=0, n_jobs=-1 will be ignored. Current value: num_threads=0\n"
     ]
    },
    {
     "name": "stderr",
     "output_type": "stream",
     "text": [
      "[I 2023-06-11 02:32:37,568] Trial 397 finished with value: 0.6384408602150538 and parameters: {'model_type': 'lgbm', 'num_leaves': 918, 'boosting_type': 'gbdt', 'n_estimators': 459, 'learning_rate': 0.1, 'min_data_in_leaf': 39, 'feature_fraction': 0.4917145371419666, 'bagging_fraction': 0.24229834848263598, 'bagging_freq': 445, 'alpha': 30.18225575366179, 'reg_lambda': 36.435016280970316}. Best is trial 373 with value: 0.5967741935483871.\n"
     ]
    },
    {
     "name": "stdout",
     "output_type": "stream",
     "text": [
      "[LightGBM] [Warning] bagging_fraction is set=0.23290678604407508, subsample=1.0 will be ignored. Current value: bagging_fraction=0.23290678604407508\n",
      "[LightGBM] [Warning] feature_fraction is set=0.4583156715224978, colsample_bytree=1.0 will be ignored. Current value: feature_fraction=0.4583156715224978\n",
      "[LightGBM] [Warning] bagging_freq is set=347, subsample_freq=0 will be ignored. Current value: bagging_freq=347\n",
      "[LightGBM] [Warning] min_data_in_leaf is set=38, min_child_samples=20 will be ignored. Current value: min_data_in_leaf=38\n",
      "[LightGBM] [Warning] num_threads is set=0, n_jobs=-1 will be ignored. Current value: num_threads=0\n"
     ]
    },
    {
     "name": "stderr",
     "output_type": "stream",
     "text": [
      "[I 2023-06-11 02:32:39,159] Trial 398 finished with value: 0.6209677419354839 and parameters: {'model_type': 'lgbm', 'num_leaves': 525, 'boosting_type': 'gbdt', 'n_estimators': 470, 'learning_rate': 0.1, 'min_data_in_leaf': 38, 'feature_fraction': 0.4583156715224978, 'bagging_fraction': 0.23290678604407508, 'bagging_freq': 347, 'alpha': 30.747966703307537, 'reg_lambda': 33.4319507145856}. Best is trial 373 with value: 0.5967741935483871.\n"
     ]
    },
    {
     "name": "stdout",
     "output_type": "stream",
     "text": [
      "[LightGBM] [Warning] bagging_fraction is set=0.2634348249510552, subsample=1.0 will be ignored. Current value: bagging_fraction=0.2634348249510552\n",
      "[LightGBM] [Warning] feature_fraction is set=0.43052692292090544, colsample_bytree=1.0 will be ignored. Current value: feature_fraction=0.43052692292090544\n",
      "[LightGBM] [Warning] bagging_freq is set=314, subsample_freq=0 will be ignored. Current value: bagging_freq=314\n",
      "[LightGBM] [Warning] min_data_in_leaf is set=33, min_child_samples=20 will be ignored. Current value: min_data_in_leaf=33\n",
      "[LightGBM] [Warning] num_threads is set=0, n_jobs=-1 will be ignored. Current value: num_threads=0\n"
     ]
    },
    {
     "name": "stderr",
     "output_type": "stream",
     "text": [
      "[I 2023-06-11 02:32:40,948] Trial 399 finished with value: 0.6384408602150538 and parameters: {'model_type': 'lgbm', 'num_leaves': 423, 'boosting_type': 'gbdt', 'n_estimators': 499, 'learning_rate': 0.1, 'min_data_in_leaf': 33, 'feature_fraction': 0.43052692292090544, 'bagging_fraction': 0.2634348249510552, 'bagging_freq': 314, 'alpha': 31.36989901667106, 'reg_lambda': 34.521311838828254}. Best is trial 373 with value: 0.5967741935483871.\n"
     ]
    },
    {
     "name": "stdout",
     "output_type": "stream",
     "text": [
      "[LightGBM] [Warning] bagging_fraction is set=0.2706892398158118, subsample=1.0 will be ignored. Current value: bagging_fraction=0.2706892398158118\n",
      "[LightGBM] [Warning] feature_fraction is set=0.46798102538584396, colsample_bytree=1.0 will be ignored. Current value: feature_fraction=0.46798102538584396\n",
      "[LightGBM] [Warning] bagging_freq is set=441, subsample_freq=0 will be ignored. Current value: bagging_freq=441\n",
      "[LightGBM] [Warning] min_data_in_leaf is set=39, min_child_samples=20 will be ignored. Current value: min_data_in_leaf=39\n",
      "[LightGBM] [Warning] num_threads is set=0, n_jobs=-1 will be ignored. Current value: num_threads=0\n"
     ]
    },
    {
     "name": "stderr",
     "output_type": "stream",
     "text": [
      "[I 2023-06-11 02:32:42,556] Trial 400 finished with value: 0.6317204301075269 and parameters: {'model_type': 'lgbm', 'num_leaves': 374, 'boosting_type': 'gbdt', 'n_estimators': 451, 'learning_rate': 0.1, 'min_data_in_leaf': 39, 'feature_fraction': 0.46798102538584396, 'bagging_fraction': 0.2706892398158118, 'bagging_freq': 441, 'alpha': 31.791338235809707, 'reg_lambda': 35.435477888835784}. Best is trial 373 with value: 0.5967741935483871.\n"
     ]
    },
    {
     "name": "stdout",
     "output_type": "stream",
     "text": [
      "[LightGBM] [Warning] bagging_fraction is set=0.5244034246589853, subsample=1.0 will be ignored. Current value: bagging_fraction=0.5244034246589853\n",
      "[LightGBM] [Warning] feature_fraction is set=0.5065092999058399, colsample_bytree=1.0 will be ignored. Current value: feature_fraction=0.5065092999058399\n",
      "[LightGBM] [Warning] bagging_freq is set=403, subsample_freq=0 will be ignored. Current value: bagging_freq=403\n",
      "[LightGBM] [Warning] min_data_in_leaf is set=6, min_child_samples=20 will be ignored. Current value: min_data_in_leaf=6\n",
      "[LightGBM] [Warning] num_threads is set=0, n_jobs=-1 will be ignored. Current value: num_threads=0\n"
     ]
    },
    {
     "name": "stderr",
     "output_type": "stream",
     "text": [
      "[I 2023-06-11 02:32:50,313] Trial 401 finished with value: 0.6706989247311828 and parameters: {'model_type': 'lgbm', 'num_leaves': 452, 'boosting_type': 'gbdt', 'n_estimators': 407, 'learning_rate': 0.0005, 'min_data_in_leaf': 6, 'feature_fraction': 0.5065092999058399, 'bagging_fraction': 0.5244034246589853, 'bagging_freq': 403, 'alpha': 19.106174115647935, 'reg_lambda': 15.239851560086134}. Best is trial 373 with value: 0.5967741935483871.\n"
     ]
    },
    {
     "name": "stdout",
     "output_type": "stream",
     "text": [
      "[LightGBM] [Warning] bagging_fraction is set=0.2517467054024712, subsample=1.0 will be ignored. Current value: bagging_fraction=0.2517467054024712\n",
      "[LightGBM] [Warning] feature_fraction is set=0.45219892188920924, colsample_bytree=1.0 will be ignored. Current value: feature_fraction=0.45219892188920924\n",
      "[LightGBM] [Warning] bagging_freq is set=431, subsample_freq=0 will be ignored. Current value: bagging_freq=431\n",
      "[LightGBM] [Warning] min_data_in_leaf is set=27, min_child_samples=20 will be ignored. Current value: min_data_in_leaf=27\n",
      "[LightGBM] [Warning] num_threads is set=0, n_jobs=-1 will be ignored. Current value: num_threads=0\n"
     ]
    },
    {
     "name": "stderr",
     "output_type": "stream",
     "text": [
      "[I 2023-06-11 02:32:51,944] Trial 402 finished with value: 0.6223118279569892 and parameters: {'model_type': 'lgbm', 'num_leaves': 305, 'boosting_type': 'gbdt', 'n_estimators': 438, 'learning_rate': 0.1, 'min_data_in_leaf': 27, 'feature_fraction': 0.45219892188920924, 'bagging_fraction': 0.2517467054024712, 'bagging_freq': 431, 'alpha': 32.30303996232738, 'reg_lambda': 37.32885308563117}. Best is trial 373 with value: 0.5967741935483871.\n"
     ]
    },
    {
     "name": "stdout",
     "output_type": "stream",
     "text": [
      "[LightGBM] [Warning] bagging_fraction is set=0.2813642658488731, subsample=1.0 will be ignored. Current value: bagging_fraction=0.2813642658488731\n",
      "[LightGBM] [Warning] feature_fraction is set=0.41623975460261037, colsample_bytree=1.0 will be ignored. Current value: feature_fraction=0.41623975460261037\n",
      "[LightGBM] [Warning] bagging_freq is set=465, subsample_freq=0 will be ignored. Current value: bagging_freq=465\n",
      "[LightGBM] [Warning] min_data_in_leaf is set=38, min_child_samples=20 will be ignored. Current value: min_data_in_leaf=38\n",
      "[LightGBM] [Warning] num_threads is set=0, n_jobs=-1 will be ignored. Current value: num_threads=0\n"
     ]
    },
    {
     "name": "stderr",
     "output_type": "stream",
     "text": [
      "[I 2023-06-11 02:32:53,462] Trial 403 finished with value: 0.6370967741935484 and parameters: {'model_type': 'lgbm', 'num_leaves': 231, 'boosting_type': 'gbdt', 'n_estimators': 480, 'learning_rate': 0.1, 'min_data_in_leaf': 38, 'feature_fraction': 0.41623975460261037, 'bagging_fraction': 0.2813642658488731, 'bagging_freq': 465, 'alpha': 32.971481647236324, 'reg_lambda': 38.15536592146174}. Best is trial 373 with value: 0.5967741935483871.\n"
     ]
    },
    {
     "name": "stdout",
     "output_type": "stream",
     "text": [
      "[LightGBM] [Warning] bagging_fraction is set=0.29580620644214795, subsample=1.0 will be ignored. Current value: bagging_fraction=0.29580620644214795\n",
      "[LightGBM] [Warning] feature_fraction is set=0.4917995162837771, colsample_bytree=1.0 will be ignored. Current value: feature_fraction=0.4917995162837771\n",
      "[LightGBM] [Warning] bagging_freq is set=259, subsample_freq=0 will be ignored. Current value: bagging_freq=259\n",
      "[LightGBM] [Warning] min_data_in_leaf is set=37, min_child_samples=20 will be ignored. Current value: min_data_in_leaf=37\n",
      "[LightGBM] [Warning] num_threads is set=0, n_jobs=-1 will be ignored. Current value: num_threads=0\n"
     ]
    },
    {
     "name": "stderr",
     "output_type": "stream",
     "text": [
      "[I 2023-06-11 02:32:55,598] Trial 404 finished with value: 0.6344086021505376 and parameters: {'model_type': 'lgbm', 'num_leaves': 702, 'boosting_type': 'gbdt', 'n_estimators': 489, 'learning_rate': 0.1, 'min_data_in_leaf': 37, 'feature_fraction': 0.4917995162837771, 'bagging_fraction': 0.29580620644214795, 'bagging_freq': 259, 'alpha': 33.61174550841263, 'reg_lambda': 34.84911044481091}. Best is trial 373 with value: 0.5967741935483871.\n"
     ]
    },
    {
     "name": "stdout",
     "output_type": "stream",
     "text": [
      "[LightGBM] [Warning] min_data_in_leaf is set=36, min_child_samples=20 will be ignored. Current value: min_data_in_leaf=36\n",
      "[LightGBM] [Warning] num_threads is set=0, n_jobs=-1 will be ignored. Current value: num_threads=0\n"
     ]
    },
    {
     "name": "stderr",
     "output_type": "stream",
     "text": [
      "[I 2023-06-11 02:32:58,736] Trial 405 finished with value: 0.6599462365591398 and parameters: {'model_type': 'lgbm', 'num_leaves': 950, 'boosting_type': 'goss', 'learning_rate': 0.1, 'min_data_in_leaf': 36, 'top_rate': 0.8995381133420459}. Best is trial 373 with value: 0.5967741935483871.\n"
     ]
    },
    {
     "name": "stdout",
     "output_type": "stream",
     "text": [
      "[LightGBM] [Warning] bagging_fraction is set=0.24300568794558483, subsample=1.0 will be ignored. Current value: bagging_fraction=0.24300568794558483\n",
      "[LightGBM] [Warning] feature_fraction is set=0.43607391869096984, colsample_bytree=1.0 will be ignored. Current value: feature_fraction=0.43607391869096984\n",
      "[LightGBM] [Warning] bagging_freq is set=53, subsample_freq=0 will be ignored. Current value: bagging_freq=53\n",
      "[LightGBM] [Warning] min_data_in_leaf is set=40, min_child_samples=20 will be ignored. Current value: min_data_in_leaf=40\n",
      "[LightGBM] [Warning] num_threads is set=0, n_jobs=-1 will be ignored. Current value: num_threads=0\n"
     ]
    },
    {
     "name": "stderr",
     "output_type": "stream",
     "text": [
      "[I 2023-06-11 02:32:59,247] Trial 406 finished with value: 0.6720430107526881 and parameters: {'model_type': 'lgbm', 'num_leaves': 405, 'boosting_type': 'gbdt', 'n_estimators': 54, 'learning_rate': 0.1, 'min_data_in_leaf': 40, 'feature_fraction': 0.43607391869096984, 'bagging_fraction': 0.24300568794558483, 'bagging_freq': 53, 'alpha': 31.596994787951854, 'reg_lambda': 33.96278487819881}. Best is trial 373 with value: 0.5967741935483871.\n"
     ]
    },
    {
     "name": "stdout",
     "output_type": "stream",
     "text": [
      "[LightGBM] [Warning] bagging_fraction is set=0.26021155510701827, subsample=1.0 will be ignored. Current value: bagging_fraction=0.26021155510701827\n",
      "[LightGBM] [Warning] feature_fraction is set=0.4659136220332435, colsample_bytree=1.0 will be ignored. Current value: feature_fraction=0.4659136220332435\n",
      "[LightGBM] [Warning] bagging_freq is set=366, subsample_freq=0 will be ignored. Current value: bagging_freq=366\n",
      "[LightGBM] [Warning] min_data_in_leaf is set=39, min_child_samples=20 will be ignored. Current value: min_data_in_leaf=39\n",
      "[LightGBM] [Warning] num_threads is set=0, n_jobs=-1 will be ignored. Current value: num_threads=0\n"
     ]
    },
    {
     "name": "stderr",
     "output_type": "stream",
     "text": [
      "[I 2023-06-11 02:33:00,933] Trial 407 finished with value: 0.6236559139784946 and parameters: {'model_type': 'lgbm', 'num_leaves': 551, 'boosting_type': 'gbdt', 'n_estimators': 464, 'learning_rate': 0.1, 'min_data_in_leaf': 39, 'feature_fraction': 0.4659136220332435, 'bagging_fraction': 0.26021155510701827, 'bagging_freq': 366, 'alpha': 32.4335284180173, 'reg_lambda': 35.84552551883729}. Best is trial 373 with value: 0.5967741935483871.\n"
     ]
    },
    {
     "name": "stdout",
     "output_type": "stream",
     "text": [
      "[LightGBM] [Warning] bagging_fraction is set=0.21737469463594788, subsample=1.0 will be ignored. Current value: bagging_fraction=0.21737469463594788\n",
      "[LightGBM] [Warning] feature_fraction is set=0.4419074417504855, colsample_bytree=1.0 will be ignored. Current value: feature_fraction=0.4419074417504855\n",
      "[LightGBM] [Warning] bagging_freq is set=418, subsample_freq=0 will be ignored. Current value: bagging_freq=418\n",
      "[LightGBM] [Warning] min_data_in_leaf is set=38, min_child_samples=20 will be ignored. Current value: min_data_in_leaf=38\n",
      "[LightGBM] [Warning] num_threads is set=0, n_jobs=-1 will be ignored. Current value: num_threads=0\n"
     ]
    },
    {
     "name": "stderr",
     "output_type": "stream",
     "text": [
      "[I 2023-06-11 02:33:02,266] Trial 408 finished with value: 0.6317204301075269 and parameters: {'model_type': 'lgbm', 'num_leaves': 434, 'boosting_type': 'gbdt', 'n_estimators': 428, 'learning_rate': 0.1, 'min_data_in_leaf': 38, 'feature_fraction': 0.4419074417504855, 'bagging_fraction': 0.21737469463594788, 'bagging_freq': 418, 'alpha': 30.987785333894216, 'reg_lambda': 35.15620856497155}. Best is trial 373 with value: 0.5967741935483871.\n"
     ]
    },
    {
     "name": "stdout",
     "output_type": "stream",
     "text": [
      "[LightGBM] [Warning] bagging_fraction is set=0.24879596745012503, subsample=1.0 will be ignored. Current value: bagging_fraction=0.24879596745012503\n",
      "[LightGBM] [Warning] feature_fraction is set=0.42481483002827664, colsample_bytree=1.0 will be ignored. Current value: feature_fraction=0.42481483002827664\n",
      "[LightGBM] [Warning] bagging_freq is set=435, subsample_freq=0 will be ignored. Current value: bagging_freq=435\n",
      "[LightGBM] [Warning] min_data_in_leaf is set=39, min_child_samples=20 will be ignored. Current value: min_data_in_leaf=39\n",
      "[LightGBM] [Warning] num_threads is set=0, n_jobs=-1 will be ignored. Current value: num_threads=0\n"
     ]
    },
    {
     "name": "stderr",
     "output_type": "stream",
     "text": [
      "[I 2023-06-11 02:33:03,488] Trial 409 finished with value: 0.6236559139784946 and parameters: {'model_type': 'lgbm', 'num_leaves': 106, 'boosting_type': 'gbdt', 'n_estimators': 450, 'learning_rate': 0.1, 'min_data_in_leaf': 39, 'feature_fraction': 0.42481483002827664, 'bagging_fraction': 0.24879596745012503, 'bagging_freq': 435, 'alpha': 34.158362000909165, 'reg_lambda': 39.85369403552553}. Best is trial 373 with value: 0.5967741935483871.\n"
     ]
    },
    {
     "name": "stdout",
     "output_type": "stream",
     "text": [
      "[LightGBM] [Warning] bagging_fraction is set=0.2291127367201273, subsample=1.0 will be ignored. Current value: bagging_fraction=0.2291127367201273\n",
      "[LightGBM] [Warning] feature_fraction is set=0.36786490393732735, colsample_bytree=1.0 will be ignored. Current value: feature_fraction=0.36786490393732735\n",
      "[LightGBM] [Warning] bagging_freq is set=411, subsample_freq=0 will be ignored. Current value: bagging_freq=411\n",
      "[LightGBM] [Warning] min_data_in_leaf is set=38, min_child_samples=20 will be ignored. Current value: min_data_in_leaf=38\n",
      "[LightGBM] [Warning] num_threads is set=0, n_jobs=-1 will be ignored. Current value: num_threads=0\n"
     ]
    },
    {
     "name": "stderr",
     "output_type": "stream",
     "text": [
      "[I 2023-06-11 02:33:04,582] Trial 410 finished with value: 0.657258064516129 and parameters: {'model_type': 'lgbm', 'num_leaves': 265, 'boosting_type': 'gbdt', 'n_estimators': 417, 'learning_rate': 0.05, 'min_data_in_leaf': 38, 'feature_fraction': 0.36786490393732735, 'bagging_fraction': 0.2291127367201273, 'bagging_freq': 411, 'alpha': 32.10454048515834, 'reg_lambda': 36.80704388044259}. Best is trial 373 with value: 0.5967741935483871.\n"
     ]
    },
    {
     "name": "stdout",
     "output_type": "stream",
     "text": [
      "[LightGBM] [Warning] bagging_fraction is set=0.27017862206462423, subsample=1.0 will be ignored. Current value: bagging_fraction=0.27017862206462423\n",
      "[LightGBM] [Warning] feature_fraction is set=0.4787176935411111, colsample_bytree=1.0 will be ignored. Current value: feature_fraction=0.4787176935411111\n",
      "[LightGBM] [Warning] bagging_freq is set=331, subsample_freq=0 will be ignored. Current value: bagging_freq=331\n",
      "[LightGBM] [Warning] min_data_in_leaf is set=40, min_child_samples=20 will be ignored. Current value: min_data_in_leaf=40\n",
      "[LightGBM] [Warning] num_threads is set=0, n_jobs=-1 will be ignored. Current value: num_threads=0\n"
     ]
    },
    {
     "name": "stderr",
     "output_type": "stream",
     "text": [
      "[I 2023-06-11 02:33:06,286] Trial 411 finished with value: 0.625 and parameters: {'model_type': 'lgbm', 'num_leaves': 478, 'boosting_type': 'gbdt', 'n_estimators': 474, 'learning_rate': 0.1, 'min_data_in_leaf': 40, 'feature_fraction': 0.4787176935411111, 'bagging_fraction': 0.27017862206462423, 'bagging_freq': 331, 'alpha': 33.40505368274556, 'reg_lambda': 36.27058908669405}. Best is trial 373 with value: 0.5967741935483871.\n"
     ]
    },
    {
     "name": "stdout",
     "output_type": "stream",
     "text": [
      "[LightGBM] [Warning] bagging_fraction is set=0.2581927412041769, subsample=1.0 will be ignored. Current value: bagging_fraction=0.2581927412041769\n",
      "[LightGBM] [Warning] feature_fraction is set=0.4602493662380843, colsample_bytree=1.0 will be ignored. Current value: feature_fraction=0.4602493662380843\n",
      "[LightGBM] [Warning] bagging_freq is set=450, subsample_freq=0 will be ignored. Current value: bagging_freq=450\n",
      "[LightGBM] [Warning] min_data_in_leaf is set=37, min_child_samples=20 will be ignored. Current value: min_data_in_leaf=37\n",
      "[LightGBM] [Warning] num_threads is set=0, n_jobs=-1 will be ignored. Current value: num_threads=0\n"
     ]
    },
    {
     "name": "stderr",
     "output_type": "stream",
     "text": [
      "[I 2023-06-11 02:33:07,805] Trial 412 finished with value: 0.635752688172043 and parameters: {'model_type': 'lgbm', 'num_leaves': 352, 'boosting_type': 'gbdt', 'n_estimators': 459, 'learning_rate': 0.1, 'min_data_in_leaf': 37, 'feature_fraction': 0.4602493662380843, 'bagging_fraction': 0.2581927412041769, 'bagging_freq': 450, 'alpha': 32.857842241738524, 'reg_lambda': 39.059144173958906}. Best is trial 373 with value: 0.5967741935483871.\n"
     ]
    },
    {
     "name": "stdout",
     "output_type": "stream",
     "text": [
      "[LightGBM] [Warning] bagging_fraction is set=0.24171503608089395, subsample=1.0 will be ignored. Current value: bagging_fraction=0.24171503608089395\n",
      "[LightGBM] [Warning] feature_fraction is set=0.4510631645630894, colsample_bytree=1.0 will be ignored. Current value: feature_fraction=0.4510631645630894\n",
      "[LightGBM] [Warning] bagging_freq is set=430, subsample_freq=0 will be ignored. Current value: bagging_freq=430\n",
      "[LightGBM] [Warning] min_data_in_leaf is set=39, min_child_samples=20 will be ignored. Current value: min_data_in_leaf=39\n",
      "[LightGBM] [Warning] num_threads is set=0, n_jobs=-1 will be ignored. Current value: num_threads=0\n"
     ]
    },
    {
     "name": "stderr",
     "output_type": "stream",
     "text": [
      "[I 2023-06-11 02:33:09,614] Trial 413 finished with value: 0.6424731182795699 and parameters: {'model_type': 'lgbm', 'num_leaves': 915, 'boosting_type': 'gbdt', 'n_estimators': 439, 'learning_rate': 0.1, 'min_data_in_leaf': 39, 'feature_fraction': 0.4510631645630894, 'bagging_fraction': 0.24171503608089395, 'bagging_freq': 430, 'alpha': 31.339612643184363, 'reg_lambda': 37.74090574747677}. Best is trial 373 with value: 0.5967741935483871.\n"
     ]
    },
    {
     "name": "stdout",
     "output_type": "stream",
     "text": [
      "[LightGBM] [Warning] bagging_fraction is set=0.501110735088246, subsample=1.0 will be ignored. Current value: bagging_fraction=0.501110735088246\n",
      "[LightGBM] [Warning] bagging_freq is set=357, subsample_freq=0 will be ignored. Current value: bagging_freq=357\n",
      "[LightGBM] [Warning] min_data_in_leaf is set=0, min_child_samples=20 will be ignored. Current value: min_data_in_leaf=0\n",
      "[LightGBM] [Warning] num_threads is set=0, n_jobs=-1 will be ignored. Current value: num_threads=0\n"
     ]
    },
    {
     "name": "stderr",
     "output_type": "stream",
     "text": [
      "[I 2023-06-11 02:33:38,852] Trial 414 finished with value: 0.6720430107526881 and parameters: {'model_type': 'lgbm', 'num_leaves': 508, 'boosting_type': 'rf', 'n_estimators': 486, 'feature_fraction_bynode': 0.29506015422376125, 'bagging_fraction': 0.501110735088246, 'bagging_freq': 357, 'min_data_in_leaf': 0, 'alpha': 19.10372988225033, 'reg_lambda': 18.49505345484016}. Best is trial 373 with value: 0.5967741935483871.\n"
     ]
    },
    {
     "name": "stdout",
     "output_type": "stream",
     "text": [
      "[LightGBM] [Warning] bagging_fraction is set=0.5010977208689541, subsample=1.0 will be ignored. Current value: bagging_fraction=0.5010977208689541\n",
      "[LightGBM] [Warning] feature_fraction is set=0.5078907284262191, colsample_bytree=1.0 will be ignored. Current value: feature_fraction=0.5078907284262191\n",
      "[LightGBM] [Warning] bagging_freq is set=439, subsample_freq=0 will be ignored. Current value: bagging_freq=439\n",
      "[LightGBM] [Warning] min_data_in_leaf is set=2, min_child_samples=20 will be ignored. Current value: min_data_in_leaf=2\n",
      "[LightGBM] [Warning] num_threads is set=0, n_jobs=-1 will be ignored. Current value: num_threads=0\n"
     ]
    },
    {
     "name": "stderr",
     "output_type": "stream",
     "text": [
      "[I 2023-06-11 02:33:52,842] Trial 415 finished with value: 0.6706989247311828 and parameters: {'model_type': 'lgbm', 'num_leaves': 977, 'boosting_type': 'gbdt', 'n_estimators': 448, 'learning_rate': 0.0001, 'min_data_in_leaf': 2, 'feature_fraction': 0.5078907284262191, 'bagging_fraction': 0.5010977208689541, 'bagging_freq': 439, 'alpha': 19.14095111056835, 'reg_lambda': 18.60736824237746}. Best is trial 373 with value: 0.5967741935483871.\n"
     ]
    },
    {
     "name": "stdout",
     "output_type": "stream",
     "text": [
      "[LightGBM] [Warning] bagging_fraction is set=0.30873012280260226, subsample=1.0 will be ignored. Current value: bagging_fraction=0.30873012280260226\n",
      "[LightGBM] [Warning] feature_fraction is set=0.4453578059578509, colsample_bytree=1.0 will be ignored. Current value: feature_fraction=0.4453578059578509\n",
      "[LightGBM] [Warning] bagging_freq is set=341, subsample_freq=0 will be ignored. Current value: bagging_freq=341\n",
      "[LightGBM] [Warning] min_data_in_leaf is set=30, min_child_samples=20 will be ignored. Current value: min_data_in_leaf=30\n",
      "[LightGBM] [Warning] num_threads is set=0, n_jobs=-1 will be ignored. Current value: num_threads=0\n"
     ]
    },
    {
     "name": "stderr",
     "output_type": "stream",
     "text": [
      "[I 2023-06-11 02:33:54,971] Trial 416 finished with value: 0.6559139784946236 and parameters: {'model_type': 'lgbm', 'num_leaves': 387, 'boosting_type': 'gbdt', 'n_estimators': 500, 'learning_rate': 0.01, 'min_data_in_leaf': 30, 'feature_fraction': 0.4453578059578509, 'bagging_fraction': 0.30873012280260226, 'bagging_freq': 341, 'alpha': 29.52265633343322, 'reg_lambda': 29.81333818171973}. Best is trial 373 with value: 0.5967741935483871.\n"
     ]
    },
    {
     "name": "stdout",
     "output_type": "stream",
     "text": [
      "[LightGBM] [Warning] bagging_fraction is set=0.27794274621392384, subsample=1.0 will be ignored. Current value: bagging_fraction=0.27794274621392384\n",
      "[LightGBM] [Warning] feature_fraction is set=0.4898275670176155, colsample_bytree=1.0 will be ignored. Current value: feature_fraction=0.4898275670176155\n",
      "[LightGBM] [Warning] bagging_freq is set=459, subsample_freq=0 will be ignored. Current value: bagging_freq=459\n",
      "[LightGBM] [Warning] min_data_in_leaf is set=38, min_child_samples=20 will be ignored. Current value: min_data_in_leaf=38\n",
      "[LightGBM] [Warning] num_threads is set=0, n_jobs=-1 will be ignored. Current value: num_threads=0\n"
     ]
    },
    {
     "name": "stderr",
     "output_type": "stream",
     "text": [
      "[I 2023-06-11 02:33:56,831] Trial 417 finished with value: 0.6505376344086021 and parameters: {'model_type': 'lgbm', 'num_leaves': 443, 'boosting_type': 'gbdt', 'n_estimators': 472, 'learning_rate': 0.1, 'min_data_in_leaf': 38, 'feature_fraction': 0.4898275670176155, 'bagging_fraction': 0.27794274621392384, 'bagging_freq': 459, 'alpha': 31.92365088346198, 'reg_lambda': 34.47991341334614}. Best is trial 373 with value: 0.5967741935483871.\n"
     ]
    },
    {
     "name": "stdout",
     "output_type": "stream",
     "text": [
      "[LightGBM] [Warning] bagging_fraction is set=0.26449352874955373, subsample=1.0 will be ignored. Current value: bagging_fraction=0.26449352874955373\n",
      "[LightGBM] [Warning] feature_fraction is set=0.47230902659910895, colsample_bytree=1.0 will be ignored. Current value: feature_fraction=0.47230902659910895\n",
      "[LightGBM] [Warning] bagging_freq is set=425, subsample_freq=0 will be ignored. Current value: bagging_freq=425\n",
      "[LightGBM] [Warning] min_data_in_leaf is set=39, min_child_samples=20 will be ignored. Current value: min_data_in_leaf=39\n",
      "[LightGBM] [Warning] num_threads is set=0, n_jobs=-1 will be ignored. Current value: num_threads=0\n"
     ]
    },
    {
     "name": "stderr",
     "output_type": "stream",
     "text": [
      "[I 2023-06-11 02:33:58,832] Trial 418 finished with value: 0.6344086021505376 and parameters: {'model_type': 'lgbm', 'num_leaves': 1000, 'boosting_type': 'gbdt', 'n_estimators': 431, 'learning_rate': 0.1, 'min_data_in_leaf': 39, 'feature_fraction': 0.47230902659910895, 'bagging_fraction': 0.26449352874955373, 'bagging_freq': 425, 'alpha': 32.75617100948306, 'reg_lambda': 35.6661278842795}. Best is trial 373 with value: 0.5967741935483871.\n"
     ]
    },
    {
     "name": "stdout",
     "output_type": "stream",
     "text": [
      "[LightGBM] [Warning] bagging_fraction is set=0.25098175310208326, subsample=1.0 will be ignored. Current value: bagging_fraction=0.25098175310208326\n",
      "[LightGBM] [Warning] feature_fraction is set=0.45599747131083823, colsample_bytree=1.0 will be ignored. Current value: feature_fraction=0.45599747131083823\n",
      "[LightGBM] [Warning] bagging_freq is set=447, subsample_freq=0 will be ignored. Current value: bagging_freq=447\n",
      "[LightGBM] [Warning] min_data_in_leaf is set=38, min_child_samples=20 will be ignored. Current value: min_data_in_leaf=38\n",
      "[LightGBM] [Warning] num_threads is set=0, n_jobs=-1 will be ignored. Current value: num_threads=0\n"
     ]
    },
    {
     "name": "stderr",
     "output_type": "stream",
     "text": [
      "[I 2023-06-11 02:34:01,002] Trial 419 finished with value: 0.6223118279569892 and parameters: {'model_type': 'lgbm', 'num_leaves': 944, 'boosting_type': 'gbdt', 'n_estimators': 460, 'learning_rate': 0.1, 'min_data_in_leaf': 38, 'feature_fraction': 0.45599747131083823, 'bagging_fraction': 0.25098175310208326, 'bagging_freq': 447, 'alpha': 33.76063229340315, 'reg_lambda': 34.9659069365319}. Best is trial 373 with value: 0.5967741935483871.\n"
     ]
    },
    {
     "name": "stdout",
     "output_type": "stream",
     "text": [
      "[LightGBM] [Warning] bagging_fraction is set=0.29085019934503314, subsample=1.0 will be ignored. Current value: bagging_fraction=0.29085019934503314\n",
      "[LightGBM] [Warning] feature_fraction is set=0.4647519492894792, colsample_bytree=1.0 will be ignored. Current value: feature_fraction=0.4647519492894792\n",
      "[LightGBM] [Warning] bagging_freq is set=358, subsample_freq=0 will be ignored. Current value: bagging_freq=358\n",
      "[LightGBM] [Warning] min_data_in_leaf is set=39, min_child_samples=20 will be ignored. Current value: min_data_in_leaf=39\n",
      "[LightGBM] [Warning] num_threads is set=0, n_jobs=-1 will be ignored. Current value: num_threads=0\n"
     ]
    },
    {
     "name": "stderr",
     "output_type": "stream",
     "text": [
      "[I 2023-06-11 02:34:02,825] Trial 420 finished with value: 0.635752688172043 and parameters: {'model_type': 'lgbm', 'num_leaves': 466, 'boosting_type': 'gbdt', 'n_estimators': 480, 'learning_rate': 0.1, 'min_data_in_leaf': 39, 'feature_fraction': 0.4647519492894792, 'bagging_fraction': 0.29085019934503314, 'bagging_freq': 358, 'alpha': 32.443923338515646, 'reg_lambda': 33.83468898868442}. Best is trial 373 with value: 0.5967741935483871.\n"
     ]
    },
    {
     "name": "stdout",
     "output_type": "stream",
     "text": [
      "[LightGBM] [Warning] bagging_fraction is set=0.23541378380056832, subsample=1.0 will be ignored. Current value: bagging_fraction=0.23541378380056832\n",
      "[LightGBM] [Warning] feature_fraction is set=0.48569618156604627, colsample_bytree=1.0 will be ignored. Current value: feature_fraction=0.48569618156604627\n",
      "[LightGBM] [Warning] bagging_freq is set=411, subsample_freq=0 will be ignored. Current value: bagging_freq=411\n",
      "[LightGBM] [Warning] min_data_in_leaf is set=40, min_child_samples=20 will be ignored. Current value: min_data_in_leaf=40\n",
      "[LightGBM] [Warning] num_threads is set=0, n_jobs=-1 will be ignored. Current value: num_threads=0\n"
     ]
    },
    {
     "name": "stderr",
     "output_type": "stream",
     "text": [
      "[I 2023-06-11 02:34:04,261] Trial 421 finished with value: 0.6397849462365591 and parameters: {'model_type': 'lgbm', 'num_leaves': 415, 'boosting_type': 'gbdt', 'n_estimators': 421, 'learning_rate': 0.1, 'min_data_in_leaf': 40, 'feature_fraction': 0.48569618156604627, 'bagging_fraction': 0.23541378380056832, 'bagging_freq': 411, 'alpha': 28.22622302919877, 'reg_lambda': 32.79002203102791}. Best is trial 373 with value: 0.5967741935483871.\n"
     ]
    },
    {
     "name": "stdout",
     "output_type": "stream",
     "text": [
      "[LightGBM] [Warning] bagging_fraction is set=0.27088030194444873, subsample=1.0 will be ignored. Current value: bagging_fraction=0.27088030194444873\n",
      "[LightGBM] [Warning] feature_fraction is set=0.47697874625692094, colsample_bytree=1.0 will be ignored. Current value: feature_fraction=0.47697874625692094\n",
      "[LightGBM] [Warning] bagging_freq is set=470, subsample_freq=0 will be ignored. Current value: bagging_freq=470\n",
      "[LightGBM] [Warning] min_data_in_leaf is set=38, min_child_samples=20 will be ignored. Current value: min_data_in_leaf=38\n",
      "[LightGBM] [Warning] num_threads is set=0, n_jobs=-1 will be ignored. Current value: num_threads=0\n"
     ]
    },
    {
     "name": "stderr",
     "output_type": "stream",
     "text": [
      "[I 2023-06-11 02:34:06,440] Trial 422 finished with value: 0.6115591397849462 and parameters: {'model_type': 'lgbm', 'num_leaves': 864, 'boosting_type': 'gbdt', 'n_estimators': 492, 'learning_rate': 0.1, 'min_data_in_leaf': 38, 'feature_fraction': 0.47697874625692094, 'bagging_fraction': 0.27088030194444873, 'bagging_freq': 470, 'alpha': 33.31489673268482, 'reg_lambda': 38.3394192802999}. Best is trial 373 with value: 0.5967741935483871.\n"
     ]
    },
    {
     "name": "stdout",
     "output_type": "stream",
     "text": [
      "[LightGBM] [Warning] bagging_fraction is set=0.25855915936492146, subsample=1.0 will be ignored. Current value: bagging_fraction=0.25855915936492146\n",
      "[LightGBM] [Warning] feature_fraction is set=0.4300666239845655, colsample_bytree=1.0 will be ignored. Current value: feature_fraction=0.4300666239845655\n",
      "[LightGBM] [Warning] bagging_freq is set=436, subsample_freq=0 will be ignored. Current value: bagging_freq=436\n",
      "[LightGBM] [Warning] min_data_in_leaf is set=37, min_child_samples=20 will be ignored. Current value: min_data_in_leaf=37\n",
      "[LightGBM] [Warning] num_threads is set=0, n_jobs=-1 will be ignored. Current value: num_threads=0\n"
     ]
    },
    {
     "name": "stderr",
     "output_type": "stream",
     "text": [
      "[I 2023-06-11 02:34:08,414] Trial 423 finished with value: 0.6397849462365591 and parameters: {'model_type': 'lgbm', 'num_leaves': 966, 'boosting_type': 'gbdt', 'n_estimators': 445, 'learning_rate': 0.1, 'min_data_in_leaf': 37, 'feature_fraction': 0.4300666239845655, 'bagging_fraction': 0.25855915936492146, 'bagging_freq': 436, 'alpha': 31.67479329239324, 'reg_lambda': 35.37688026250108}. Best is trial 373 with value: 0.5967741935483871.\n"
     ]
    },
    {
     "name": "stdout",
     "output_type": "stream",
     "text": [
      "[LightGBM] [Warning] bagging_fraction is set=0.20453406877522312, subsample=1.0 will be ignored. Current value: bagging_fraction=0.20453406877522312\n",
      "[LightGBM] [Warning] feature_fraction is set=0.49139778395861133, colsample_bytree=1.0 will be ignored. Current value: feature_fraction=0.49139778395861133\n",
      "[LightGBM] [Warning] bagging_freq is set=369, subsample_freq=0 will be ignored. Current value: bagging_freq=369\n",
      "[LightGBM] [Warning] min_data_in_leaf is set=39, min_child_samples=20 will be ignored. Current value: min_data_in_leaf=39\n",
      "[LightGBM] [Warning] num_threads is set=0, n_jobs=-1 will be ignored. Current value: num_threads=0\n"
     ]
    },
    {
     "name": "stderr",
     "output_type": "stream",
     "text": [
      "[I 2023-06-11 02:34:10,276] Trial 424 finished with value: 0.5940860215053764 and parameters: {'model_type': 'lgbm', 'num_leaves': 926, 'boosting_type': 'gbdt', 'n_estimators': 470, 'learning_rate': 0.1, 'min_data_in_leaf': 39, 'feature_fraction': 0.49139778395861133, 'bagging_fraction': 0.20453406877522312, 'bagging_freq': 369, 'alpha': 32.14413356904742, 'reg_lambda': 36.15426896225291}. Best is trial 424 with value: 0.5940860215053764.\n"
     ]
    },
    {
     "name": "stdout",
     "output_type": "stream",
     "text": [
      "[LightGBM] [Warning] bagging_fraction is set=0.2113775007241733, subsample=1.0 will be ignored. Current value: bagging_fraction=0.2113775007241733\n",
      "[LightGBM] [Warning] feature_fraction is set=0.4372599487329915, colsample_bytree=1.0 will be ignored. Current value: feature_fraction=0.4372599487329915\n",
      "[LightGBM] [Warning] bagging_freq is set=372, subsample_freq=0 will be ignored. Current value: bagging_freq=372\n",
      "[LightGBM] [Warning] min_data_in_leaf is set=39, min_child_samples=20 will be ignored. Current value: min_data_in_leaf=39\n",
      "[LightGBM] [Warning] num_threads is set=0, n_jobs=-1 will be ignored. Current value: num_threads=0\n"
     ]
    },
    {
     "name": "stderr",
     "output_type": "stream",
     "text": [
      "[I 2023-06-11 02:34:11,414] Trial 425 finished with value: 0.6102150537634409 and parameters: {'model_type': 'lgbm', 'num_leaves': 40, 'boosting_type': 'gbdt', 'n_estimators': 469, 'learning_rate': 0.1, 'min_data_in_leaf': 39, 'feature_fraction': 0.4372599487329915, 'bagging_fraction': 0.2113775007241733, 'bagging_freq': 372, 'alpha': 30.887588172104692, 'reg_lambda': 37.080553819107045}. Best is trial 424 with value: 0.5940860215053764.\n"
     ]
    },
    {
     "name": "stdout",
     "output_type": "stream",
     "text": [
      "[LightGBM] [Warning] bagging_fraction is set=0.21168408133653796, subsample=1.0 will be ignored. Current value: bagging_fraction=0.21168408133653796\n",
      "[LightGBM] [Warning] feature_fraction is set=0.44049313322827727, colsample_bytree=1.0 will be ignored. Current value: feature_fraction=0.44049313322827727\n",
      "[LightGBM] [Warning] bagging_freq is set=369, subsample_freq=0 will be ignored. Current value: bagging_freq=369\n",
      "[LightGBM] [Warning] min_data_in_leaf is set=40, min_child_samples=20 will be ignored. Current value: min_data_in_leaf=40\n",
      "[LightGBM] [Warning] num_threads is set=0, n_jobs=-1 will be ignored. Current value: num_threads=0\n"
     ]
    },
    {
     "name": "stderr",
     "output_type": "stream",
     "text": [
      "[I 2023-06-11 02:34:12,594] Trial 426 finished with value: 0.6209677419354839 and parameters: {'model_type': 'lgbm', 'num_leaves': 116, 'boosting_type': 'gbdt', 'n_estimators': 470, 'learning_rate': 0.1, 'min_data_in_leaf': 40, 'feature_fraction': 0.44049313322827727, 'bagging_fraction': 0.21168408133653796, 'bagging_freq': 369, 'alpha': 31.378853618180973, 'reg_lambda': 37.16592008791907}. Best is trial 424 with value: 0.5940860215053764.\n"
     ]
    },
    {
     "name": "stdout",
     "output_type": "stream",
     "text": [
      "[LightGBM] [Warning] bagging_fraction is set=0.24662620108331662, subsample=1.0 will be ignored. Current value: bagging_fraction=0.24662620108331662\n",
      "[LightGBM] [Warning] feature_fraction is set=0.43329252160082576, colsample_bytree=1.0 will be ignored. Current value: feature_fraction=0.43329252160082576\n",
      "[LightGBM] [Warning] bagging_freq is set=376, subsample_freq=0 will be ignored. Current value: bagging_freq=376\n",
      "[LightGBM] [Warning] min_data_in_leaf is set=39, min_child_samples=20 will be ignored. Current value: min_data_in_leaf=39\n",
      "[LightGBM] [Warning] num_threads is set=0, n_jobs=-1 will be ignored. Current value: num_threads=0\n"
     ]
    },
    {
     "name": "stderr",
     "output_type": "stream",
     "text": [
      "[I 2023-06-11 02:34:13,957] Trial 427 finished with value: 0.6303763440860215 and parameters: {'model_type': 'lgbm', 'num_leaves': 181, 'boosting_type': 'gbdt', 'n_estimators': 482, 'learning_rate': 0.1, 'min_data_in_leaf': 39, 'feature_fraction': 0.43329252160082576, 'bagging_fraction': 0.24662620108331662, 'bagging_freq': 376, 'alpha': 31.22861151497449, 'reg_lambda': 36.4823376726496}. Best is trial 424 with value: 0.5940860215053764.\n"
     ]
    },
    {
     "name": "stdout",
     "output_type": "stream",
     "text": [
      "[LightGBM] [Warning] bagging_fraction is set=0.19633867293776947, subsample=1.0 will be ignored. Current value: bagging_fraction=0.19633867293776947\n",
      "[LightGBM] [Warning] feature_fraction is set=0.44921147763932145, colsample_bytree=1.0 will be ignored. Current value: feature_fraction=0.44921147763932145\n",
      "[LightGBM] [Warning] bagging_freq is set=374, subsample_freq=0 will be ignored. Current value: bagging_freq=374\n",
      "[LightGBM] [Warning] min_data_in_leaf is set=39, min_child_samples=20 will be ignored. Current value: min_data_in_leaf=39\n",
      "[LightGBM] [Warning] num_threads is set=0, n_jobs=-1 will be ignored. Current value: num_threads=0\n"
     ]
    },
    {
     "name": "stderr",
     "output_type": "stream",
     "text": [
      "[I 2023-06-11 02:34:15,079] Trial 428 finished with value: 0.625 and parameters: {'model_type': 'lgbm', 'num_leaves': 43, 'boosting_type': 'gbdt', 'n_estimators': 469, 'learning_rate': 0.1, 'min_data_in_leaf': 39, 'feature_fraction': 0.44921147763932145, 'bagging_fraction': 0.19633867293776947, 'bagging_freq': 374, 'alpha': 30.76611530127292, 'reg_lambda': 36.991385263372386}. Best is trial 424 with value: 0.5940860215053764.\n"
     ]
    },
    {
     "name": "stdout",
     "output_type": "stream",
     "text": [
      "[LightGBM] [Warning] min_data_in_leaf is set=35, min_child_samples=20 will be ignored. Current value: min_data_in_leaf=35\n",
      "[LightGBM] [Warning] num_threads is set=0, n_jobs=-1 will be ignored. Current value: num_threads=0\n"
     ]
    },
    {
     "name": "stderr",
     "output_type": "stream",
     "text": [
      "[I 2023-06-11 02:34:16,723] Trial 429 finished with value: 0.6370967741935484 and parameters: {'model_type': 'lgbm', 'num_leaves': 19, 'boosting_type': 'goss', 'learning_rate': 0.1, 'min_data_in_leaf': 35, 'top_rate': 0.7454688422677591}. Best is trial 424 with value: 0.5940860215053764.\n"
     ]
    },
    {
     "name": "stdout",
     "output_type": "stream",
     "text": [
      "[LightGBM] [Warning] bagging_fraction is set=0.22612479632320576, subsample=1.0 will be ignored. Current value: bagging_fraction=0.22612479632320576\n",
      "[LightGBM] [Warning] feature_fraction is set=0.4214324248053752, colsample_bytree=1.0 will be ignored. Current value: feature_fraction=0.4214324248053752\n",
      "[LightGBM] [Warning] bagging_freq is set=362, subsample_freq=0 will be ignored. Current value: bagging_freq=362\n",
      "[LightGBM] [Warning] min_data_in_leaf is set=40, min_child_samples=20 will be ignored. Current value: min_data_in_leaf=40\n",
      "[LightGBM] [Warning] num_threads is set=0, n_jobs=-1 will be ignored. Current value: num_threads=0\n"
     ]
    },
    {
     "name": "stderr",
     "output_type": "stream",
     "text": [
      "[I 2023-06-11 02:34:17,903] Trial 430 finished with value: 0.6290322580645161 and parameters: {'model_type': 'lgbm', 'num_leaves': 25, 'boosting_type': 'gbdt', 'n_estimators': 480, 'learning_rate': 0.1, 'min_data_in_leaf': 40, 'feature_fraction': 0.4214324248053752, 'bagging_fraction': 0.22612479632320576, 'bagging_freq': 362, 'alpha': 30.28527561445049, 'reg_lambda': 37.619820525026405}. Best is trial 424 with value: 0.5940860215053764.\n"
     ]
    },
    {
     "name": "stdout",
     "output_type": "stream",
     "text": [
      "[LightGBM] [Warning] bagging_fraction is set=0.5009600209548273, subsample=1.0 will be ignored. Current value: bagging_fraction=0.5009600209548273\n",
      "[LightGBM] [Warning] feature_fraction is set=0.5062638670893463, colsample_bytree=1.0 will be ignored. Current value: feature_fraction=0.5062638670893463\n",
      "[LightGBM] [Warning] bagging_freq is set=387, subsample_freq=0 will be ignored. Current value: bagging_freq=387\n",
      "[LightGBM] [Warning] min_data_in_leaf is set=20, min_child_samples=20 will be ignored. Current value: min_data_in_leaf=20\n",
      "[LightGBM] [Warning] num_threads is set=0, n_jobs=-1 will be ignored. Current value: num_threads=0\n"
     ]
    },
    {
     "name": "stderr",
     "output_type": "stream",
     "text": [
      "[I 2023-06-11 02:34:22,486] Trial 431 finished with value: 0.6706989247311828 and parameters: {'model_type': 'lgbm', 'num_leaves': 900, 'boosting_type': 'gbdt', 'n_estimators': 462, 'learning_rate': 0.0005, 'min_data_in_leaf': 20, 'feature_fraction': 0.5062638670893463, 'bagging_fraction': 0.5009600209548273, 'bagging_freq': 387, 'alpha': 16.838725794043228, 'reg_lambda': 18.36826764918062}. Best is trial 424 with value: 0.5940860215053764.\n"
     ]
    },
    {
     "name": "stdout",
     "output_type": "stream",
     "text": [
      "[LightGBM] [Warning] bagging_fraction is set=0.17441720271244388, subsample=1.0 will be ignored. Current value: bagging_fraction=0.17441720271244388\n",
      "[LightGBM] [Warning] feature_fraction is set=0.43784968055009915, colsample_bytree=1.0 will be ignored. Current value: feature_fraction=0.43784968055009915\n",
      "[LightGBM] [Warning] bagging_freq is set=269, subsample_freq=0 will be ignored. Current value: bagging_freq=269\n",
      "[LightGBM] [Warning] min_data_in_leaf is set=39, min_child_samples=20 will be ignored. Current value: min_data_in_leaf=39\n",
      "[LightGBM] [Warning] num_threads is set=0, n_jobs=-1 will be ignored. Current value: num_threads=0\n"
     ]
    },
    {
     "name": "stderr",
     "output_type": "stream",
     "text": [
      "[I 2023-06-11 02:34:23,553] Trial 432 finished with value: 0.5967741935483871 and parameters: {'model_type': 'lgbm', 'num_leaves': 71, 'boosting_type': 'gbdt', 'n_estimators': 488, 'learning_rate': 0.1, 'min_data_in_leaf': 39, 'feature_fraction': 0.43784968055009915, 'bagging_fraction': 0.17441720271244388, 'bagging_freq': 269, 'alpha': 30.668932189242714, 'reg_lambda': 36.14943255479397}. Best is trial 424 with value: 0.5940860215053764.\n"
     ]
    },
    {
     "name": "stdout",
     "output_type": "stream",
     "text": [
      "[LightGBM] [Warning] bagging_fraction is set=0.16354135401367878, subsample=1.0 will be ignored. Current value: bagging_fraction=0.16354135401367878\n",
      "[LightGBM] [Warning] feature_fraction is set=0.255769381592641, colsample_bytree=1.0 will be ignored. Current value: feature_fraction=0.255769381592641\n",
      "[LightGBM] [Warning] bagging_freq is set=271, subsample_freq=0 will be ignored. Current value: bagging_freq=271\n",
      "[LightGBM] [Warning] min_data_in_leaf is set=39, min_child_samples=20 will be ignored. Current value: min_data_in_leaf=39\n",
      "[LightGBM] [Warning] num_threads is set=0, n_jobs=-1 will be ignored. Current value: num_threads=0\n"
     ]
    },
    {
     "name": "stderr",
     "output_type": "stream",
     "text": [
      "[I 2023-06-11 02:34:24,634] Trial 433 finished with value: 0.6182795698924731 and parameters: {'model_type': 'lgbm', 'num_leaves': 487, 'boosting_type': 'gbdt', 'n_estimators': 494, 'learning_rate': 0.1, 'min_data_in_leaf': 39, 'feature_fraction': 0.255769381592641, 'bagging_fraction': 0.16354135401367878, 'bagging_freq': 271, 'alpha': 32.02245409979445, 'reg_lambda': 36.15911480238556}. Best is trial 424 with value: 0.5940860215053764.\n"
     ]
    },
    {
     "name": "stdout",
     "output_type": "stream",
     "text": [
      "[LightGBM] [Warning] bagging_fraction is set=0.14549313281082324, subsample=1.0 will be ignored. Current value: bagging_fraction=0.14549313281082324\n",
      "[LightGBM] [Warning] feature_fraction is set=0.454498122049352, colsample_bytree=1.0 will be ignored. Current value: feature_fraction=0.454498122049352\n",
      "[LightGBM] [Warning] bagging_freq is set=289, subsample_freq=0 will be ignored. Current value: bagging_freq=289\n",
      "[LightGBM] [Warning] min_data_in_leaf is set=39, min_child_samples=20 will be ignored. Current value: min_data_in_leaf=39\n",
      "[LightGBM] [Warning] num_threads is set=0, n_jobs=-1 will be ignored. Current value: num_threads=0\n"
     ]
    },
    {
     "name": "stderr",
     "output_type": "stream",
     "text": [
      "[I 2023-06-11 02:34:26,148] Trial 434 finished with value: 0.5913978494623656 and parameters: {'model_type': 'lgbm', 'num_leaves': 841, 'boosting_type': 'gbdt', 'n_estimators': 499, 'learning_rate': 0.1, 'min_data_in_leaf': 39, 'feature_fraction': 0.454498122049352, 'bagging_fraction': 0.14549313281082324, 'bagging_freq': 289, 'alpha': 30.422032902298447, 'reg_lambda': 35.93866167608794}. Best is trial 434 with value: 0.5913978494623656.\n"
     ]
    },
    {
     "name": "stdout",
     "output_type": "stream",
     "text": [
      "[LightGBM] [Warning] bagging_fraction is set=0.14371723892463378, subsample=1.0 will be ignored. Current value: bagging_fraction=0.14371723892463378\n",
      "[LightGBM] [Warning] feature_fraction is set=0.4567100360995804, colsample_bytree=1.0 will be ignored. Current value: feature_fraction=0.4567100360995804\n",
      "[LightGBM] [Warning] bagging_freq is set=296, subsample_freq=0 will be ignored. Current value: bagging_freq=296\n",
      "[LightGBM] [Warning] min_data_in_leaf is set=40, min_child_samples=20 will be ignored. Current value: min_data_in_leaf=40\n",
      "[LightGBM] [Warning] num_threads is set=0, n_jobs=-1 will be ignored. Current value: num_threads=0\n"
     ]
    },
    {
     "name": "stderr",
     "output_type": "stream",
     "text": [
      "[I 2023-06-11 02:34:27,622] Trial 435 finished with value: 0.6008064516129032 and parameters: {'model_type': 'lgbm', 'num_leaves': 850, 'boosting_type': 'gbdt', 'n_estimators': 500, 'learning_rate': 0.1, 'min_data_in_leaf': 40, 'feature_fraction': 0.4567100360995804, 'bagging_fraction': 0.14371723892463378, 'bagging_freq': 296, 'alpha': 30.29601287815905, 'reg_lambda': 35.969330454419925}. Best is trial 434 with value: 0.5913978494623656.\n"
     ]
    },
    {
     "name": "stdout",
     "output_type": "stream",
     "text": [
      "[LightGBM] [Warning] bagging_fraction is set=0.1354179066758771, subsample=1.0 will be ignored. Current value: bagging_fraction=0.1354179066758771\n",
      "[LightGBM] [Warning] feature_fraction is set=0.45604487483214234, colsample_bytree=1.0 will be ignored. Current value: feature_fraction=0.45604487483214234\n",
      "[LightGBM] [Warning] bagging_freq is set=291, subsample_freq=0 will be ignored. Current value: bagging_freq=291\n",
      "[LightGBM] [Warning] min_data_in_leaf is set=40, min_child_samples=20 will be ignored. Current value: min_data_in_leaf=40\n",
      "[LightGBM] [Warning] num_threads is set=0, n_jobs=-1 will be ignored. Current value: num_threads=0\n"
     ]
    },
    {
     "name": "stderr",
     "output_type": "stream",
     "text": [
      "[I 2023-06-11 02:34:28,984] Trial 436 finished with value: 0.5887096774193549 and parameters: {'model_type': 'lgbm', 'num_leaves': 832, 'boosting_type': 'gbdt', 'n_estimators': 489, 'learning_rate': 0.1, 'min_data_in_leaf': 40, 'feature_fraction': 0.45604487483214234, 'bagging_fraction': 0.1354179066758771, 'bagging_freq': 291, 'alpha': 30.023169482041393, 'reg_lambda': 35.960386508270034}. Best is trial 436 with value: 0.5887096774193549.\n"
     ]
    },
    {
     "name": "stdout",
     "output_type": "stream",
     "text": [
      "[LightGBM] [Warning] bagging_fraction is set=0.1407223351992172, subsample=1.0 will be ignored. Current value: bagging_fraction=0.1407223351992172\n",
      "[LightGBM] [Warning] feature_fraction is set=0.45908526177029696, colsample_bytree=1.0 will be ignored. Current value: feature_fraction=0.45908526177029696\n",
      "[LightGBM] [Warning] bagging_freq is set=283, subsample_freq=0 will be ignored. Current value: bagging_freq=283\n",
      "[LightGBM] [Warning] min_data_in_leaf is set=40, min_child_samples=20 will be ignored. Current value: min_data_in_leaf=40\n",
      "[LightGBM] [Warning] num_threads is set=0, n_jobs=-1 will be ignored. Current value: num_threads=0\n"
     ]
    },
    {
     "name": "stderr",
     "output_type": "stream",
     "text": [
      "[I 2023-06-11 02:34:30,383] Trial 437 finished with value: 0.6075268817204301 and parameters: {'model_type': 'lgbm', 'num_leaves': 816, 'boosting_type': 'gbdt', 'n_estimators': 489, 'learning_rate': 0.1, 'min_data_in_leaf': 40, 'feature_fraction': 0.45908526177029696, 'bagging_fraction': 0.1407223351992172, 'bagging_freq': 283, 'alpha': 30.283439714915627, 'reg_lambda': 36.02532652372382}. Best is trial 436 with value: 0.5887096774193549.\n"
     ]
    },
    {
     "name": "stdout",
     "output_type": "stream",
     "text": [
      "[LightGBM] [Warning] bagging_fraction is set=0.15724737132076766, subsample=1.0 will be ignored. Current value: bagging_fraction=0.15724737132076766\n",
      "[LightGBM] [Warning] feature_fraction is set=0.4513520505784676, colsample_bytree=1.0 will be ignored. Current value: feature_fraction=0.4513520505784676\n",
      "[LightGBM] [Warning] bagging_freq is set=290, subsample_freq=0 will be ignored. Current value: bagging_freq=290\n",
      "[LightGBM] [Warning] min_data_in_leaf is set=40, min_child_samples=20 will be ignored. Current value: min_data_in_leaf=40\n",
      "[LightGBM] [Warning] num_threads is set=0, n_jobs=-1 will be ignored. Current value: num_threads=0\n"
     ]
    },
    {
     "name": "stderr",
     "output_type": "stream",
     "text": [
      "[I 2023-06-11 02:34:31,900] Trial 438 finished with value: 0.6075268817204301 and parameters: {'model_type': 'lgbm', 'num_leaves': 840, 'boosting_type': 'gbdt', 'n_estimators': 489, 'learning_rate': 0.1, 'min_data_in_leaf': 40, 'feature_fraction': 0.4513520505784676, 'bagging_fraction': 0.15724737132076766, 'bagging_freq': 290, 'alpha': 30.060086253695424, 'reg_lambda': 35.96481888944581}. Best is trial 436 with value: 0.5887096774193549.\n"
     ]
    },
    {
     "name": "stdout",
     "output_type": "stream",
     "text": [
      "[LightGBM] [Warning] bagging_fraction is set=0.14031221535578828, subsample=1.0 will be ignored. Current value: bagging_fraction=0.14031221535578828\n",
      "[LightGBM] [Warning] feature_fraction is set=0.46195743599549177, colsample_bytree=1.0 will be ignored. Current value: feature_fraction=0.46195743599549177\n",
      "[LightGBM] [Warning] bagging_freq is set=284, subsample_freq=0 will be ignored. Current value: bagging_freq=284\n",
      "[LightGBM] [Warning] min_data_in_leaf is set=40, min_child_samples=20 will be ignored. Current value: min_data_in_leaf=40\n",
      "[LightGBM] [Warning] num_threads is set=0, n_jobs=-1 will be ignored. Current value: num_threads=0\n"
     ]
    },
    {
     "name": "stderr",
     "output_type": "stream",
     "text": [
      "[I 2023-06-11 02:34:33,302] Trial 439 finished with value: 0.6088709677419355 and parameters: {'model_type': 'lgbm', 'num_leaves': 833, 'boosting_type': 'gbdt', 'n_estimators': 489, 'learning_rate': 0.1, 'min_data_in_leaf': 40, 'feature_fraction': 0.46195743599549177, 'bagging_fraction': 0.14031221535578828, 'bagging_freq': 284, 'alpha': 30.12429010237708, 'reg_lambda': 35.95797956779715}. Best is trial 436 with value: 0.5887096774193549.\n"
     ]
    },
    {
     "name": "stdout",
     "output_type": "stream",
     "text": [
      "[LightGBM] [Warning] bagging_fraction is set=0.5013054292479455, subsample=1.0 will be ignored. Current value: bagging_fraction=0.5013054292479455\n",
      "[LightGBM] [Warning] bagging_freq is set=280, subsample_freq=0 will be ignored. Current value: bagging_freq=280\n",
      "[LightGBM] [Warning] min_data_in_leaf is set=16, min_child_samples=20 will be ignored. Current value: min_data_in_leaf=16\n",
      "[LightGBM] [Warning] num_threads is set=0, n_jobs=-1 will be ignored. Current value: num_threads=0\n"
     ]
    },
    {
     "name": "stderr",
     "output_type": "stream",
     "text": [
      "[I 2023-06-11 02:34:40,902] Trial 440 finished with value: 0.6706989247311828 and parameters: {'model_type': 'lgbm', 'num_leaves': 814, 'boosting_type': 'rf', 'n_estimators': 489, 'feature_fraction_bynode': 0.1407355589490886, 'bagging_fraction': 0.5013054292479455, 'bagging_freq': 280, 'min_data_in_leaf': 16, 'alpha': 19.112586867332052, 'reg_lambda': 18.658098860653222}. Best is trial 436 with value: 0.5887096774193549.\n"
     ]
    },
    {
     "name": "stdout",
     "output_type": "stream",
     "text": [
      "[LightGBM] [Warning] bagging_fraction is set=0.1458238203922352, subsample=1.0 will be ignored. Current value: bagging_fraction=0.1458238203922352\n",
      "[LightGBM] [Warning] feature_fraction is set=0.45579661011760575, colsample_bytree=1.0 will be ignored. Current value: feature_fraction=0.45579661011760575\n",
      "[LightGBM] [Warning] bagging_freq is set=294, subsample_freq=0 will be ignored. Current value: bagging_freq=294\n",
      "[LightGBM] [Warning] min_data_in_leaf is set=40, min_child_samples=20 will be ignored. Current value: min_data_in_leaf=40\n",
      "[LightGBM] [Warning] num_threads is set=0, n_jobs=-1 will be ignored. Current value: num_threads=0\n"
     ]
    },
    {
     "name": "stderr",
     "output_type": "stream",
     "text": [
      "[I 2023-06-11 02:34:42,370] Trial 441 finished with value: 0.6008064516129032 and parameters: {'model_type': 'lgbm', 'num_leaves': 848, 'boosting_type': 'gbdt', 'n_estimators': 488, 'learning_rate': 0.05, 'min_data_in_leaf': 40, 'feature_fraction': 0.45579661011760575, 'bagging_fraction': 0.1458238203922352, 'bagging_freq': 294, 'alpha': 30.365930096641755, 'reg_lambda': 35.868271542636464}. Best is trial 436 with value: 0.5887096774193549.\n"
     ]
    },
    {
     "name": "stdout",
     "output_type": "stream",
     "text": [
      "[LightGBM] [Warning] bagging_fraction is set=0.14431499041872922, subsample=1.0 will be ignored. Current value: bagging_fraction=0.14431499041872922\n",
      "[LightGBM] [Warning] feature_fraction is set=0.45449192945482864, colsample_bytree=1.0 will be ignored. Current value: feature_fraction=0.45449192945482864\n",
      "[LightGBM] [Warning] bagging_freq is set=276, subsample_freq=0 will be ignored. Current value: bagging_freq=276\n",
      "[LightGBM] [Warning] min_data_in_leaf is set=40, min_child_samples=20 will be ignored. Current value: min_data_in_leaf=40\n",
      "[LightGBM] [Warning] num_threads is set=0, n_jobs=-1 will be ignored. Current value: num_threads=0\n"
     ]
    },
    {
     "name": "stderr",
     "output_type": "stream",
     "text": [
      "[I 2023-06-11 02:34:43,780] Trial 442 finished with value: 0.5806451612903226 and parameters: {'model_type': 'lgbm', 'num_leaves': 798, 'boosting_type': 'gbdt', 'n_estimators': 490, 'learning_rate': 0.05, 'min_data_in_leaf': 40, 'feature_fraction': 0.45449192945482864, 'bagging_fraction': 0.14431499041872922, 'bagging_freq': 276, 'alpha': 30.198665110640473, 'reg_lambda': 35.68706449922049}. Best is trial 442 with value: 0.5806451612903226.\n"
     ]
    },
    {
     "name": "stdout",
     "output_type": "stream",
     "text": [
      "[LightGBM] [Warning] bagging_fraction is set=0.14469701033632956, subsample=1.0 will be ignored. Current value: bagging_fraction=0.14469701033632956\n",
      "[LightGBM] [Warning] feature_fraction is set=0.4535144175250512, colsample_bytree=1.0 will be ignored. Current value: feature_fraction=0.4535144175250512\n",
      "[LightGBM] [Warning] bagging_freq is set=270, subsample_freq=0 will be ignored. Current value: bagging_freq=270\n",
      "[LightGBM] [Warning] min_data_in_leaf is set=40, min_child_samples=20 will be ignored. Current value: min_data_in_leaf=40\n",
      "[LightGBM] [Warning] num_threads is set=0, n_jobs=-1 will be ignored. Current value: num_threads=0\n"
     ]
    },
    {
     "name": "stderr",
     "output_type": "stream",
     "text": [
      "[I 2023-06-11 02:34:45,240] Trial 443 finished with value: 0.5873655913978495 and parameters: {'model_type': 'lgbm', 'num_leaves': 833, 'boosting_type': 'gbdt', 'n_estimators': 500, 'learning_rate': 0.05, 'min_data_in_leaf': 40, 'feature_fraction': 0.4535144175250512, 'bagging_fraction': 0.14469701033632956, 'bagging_freq': 270, 'alpha': 29.951844485097457, 'reg_lambda': 36.36782138042214}. Best is trial 442 with value: 0.5806451612903226.\n"
     ]
    },
    {
     "name": "stdout",
     "output_type": "stream",
     "text": [
      "[LightGBM] [Warning] bagging_fraction is set=0.14365959383191912, subsample=1.0 will be ignored. Current value: bagging_fraction=0.14365959383191912\n",
      "[LightGBM] [Warning] feature_fraction is set=0.4459776990982456, colsample_bytree=1.0 will be ignored. Current value: feature_fraction=0.4459776990982456\n",
      "[LightGBM] [Warning] bagging_freq is set=296, subsample_freq=0 will be ignored. Current value: bagging_freq=296\n",
      "[LightGBM] [Warning] min_data_in_leaf is set=40, min_child_samples=20 will be ignored. Current value: min_data_in_leaf=40\n",
      "[LightGBM] [Warning] num_threads is set=0, n_jobs=-1 will be ignored. Current value: num_threads=0\n"
     ]
    },
    {
     "name": "stderr",
     "output_type": "stream",
     "text": [
      "[I 2023-06-11 02:34:46,672] Trial 444 finished with value: 0.5900537634408602 and parameters: {'model_type': 'lgbm', 'num_leaves': 840, 'boosting_type': 'gbdt', 'n_estimators': 500, 'learning_rate': 0.05, 'min_data_in_leaf': 40, 'feature_fraction': 0.4459776990982456, 'bagging_fraction': 0.14365959383191912, 'bagging_freq': 296, 'alpha': 30.070712629920763, 'reg_lambda': 36.2838388524564}. Best is trial 442 with value: 0.5806451612903226.\n"
     ]
    },
    {
     "name": "stdout",
     "output_type": "stream",
     "text": [
      "[LightGBM] [Warning] bagging_fraction is set=0.14265223928387902, subsample=1.0 will be ignored. Current value: bagging_fraction=0.14265223928387902\n",
      "[LightGBM] [Warning] feature_fraction is set=0.4456948927252811, colsample_bytree=1.0 will be ignored. Current value: feature_fraction=0.4456948927252811\n",
      "[LightGBM] [Warning] bagging_freq is set=297, subsample_freq=0 will be ignored. Current value: bagging_freq=297\n",
      "[LightGBM] [Warning] min_data_in_leaf is set=40, min_child_samples=20 will be ignored. Current value: min_data_in_leaf=40\n",
      "[LightGBM] [Warning] num_threads is set=0, n_jobs=-1 will be ignored. Current value: num_threads=0\n"
     ]
    },
    {
     "name": "stderr",
     "output_type": "stream",
     "text": [
      "[I 2023-06-11 02:34:48,080] Trial 445 finished with value: 0.5860215053763441 and parameters: {'model_type': 'lgbm', 'num_leaves': 836, 'boosting_type': 'gbdt', 'n_estimators': 499, 'learning_rate': 0.05, 'min_data_in_leaf': 40, 'feature_fraction': 0.4456948927252811, 'bagging_fraction': 0.14265223928387902, 'bagging_freq': 297, 'alpha': 30.006707335466583, 'reg_lambda': 36.27860661930837}. Best is trial 442 with value: 0.5806451612903226.\n"
     ]
    },
    {
     "name": "stdout",
     "output_type": "stream",
     "text": [
      "[LightGBM] [Warning] bagging_fraction is set=0.14421199782124464, subsample=1.0 will be ignored. Current value: bagging_fraction=0.14421199782124464\n",
      "[LightGBM] [Warning] feature_fraction is set=0.4415508859893748, colsample_bytree=1.0 will be ignored. Current value: feature_fraction=0.4415508859893748\n",
      "[LightGBM] [Warning] bagging_freq is set=271, subsample_freq=0 will be ignored. Current value: bagging_freq=271\n",
      "[LightGBM] [Warning] min_data_in_leaf is set=40, min_child_samples=20 will be ignored. Current value: min_data_in_leaf=40\n",
      "[LightGBM] [Warning] num_threads is set=0, n_jobs=-1 will be ignored. Current value: num_threads=0\n"
     ]
    },
    {
     "name": "stderr",
     "output_type": "stream",
     "text": [
      "[I 2023-06-11 02:34:49,499] Trial 446 finished with value: 0.5940860215053764 and parameters: {'model_type': 'lgbm', 'num_leaves': 819, 'boosting_type': 'gbdt', 'n_estimators': 499, 'learning_rate': 0.05, 'min_data_in_leaf': 40, 'feature_fraction': 0.4415508859893748, 'bagging_fraction': 0.14421199782124464, 'bagging_freq': 271, 'alpha': 29.890970406489547, 'reg_lambda': 36.11248898997239}. Best is trial 442 with value: 0.5806451612903226.\n"
     ]
    },
    {
     "name": "stdout",
     "output_type": "stream",
     "text": [
      "[LightGBM] [Warning] bagging_fraction is set=0.14733114591998342, subsample=1.0 will be ignored. Current value: bagging_fraction=0.14733114591998342\n",
      "[LightGBM] [Warning] feature_fraction is set=0.44623824747071045, colsample_bytree=1.0 will be ignored. Current value: feature_fraction=0.44623824747071045\n",
      "[LightGBM] [Warning] bagging_freq is set=264, subsample_freq=0 will be ignored. Current value: bagging_freq=264\n",
      "[LightGBM] [Warning] min_data_in_leaf is set=40, min_child_samples=20 will be ignored. Current value: min_data_in_leaf=40\n",
      "[LightGBM] [Warning] num_threads is set=0, n_jobs=-1 will be ignored. Current value: num_threads=0\n"
     ]
    },
    {
     "name": "stderr",
     "output_type": "stream",
     "text": [
      "[I 2023-06-11 02:34:50,919] Trial 447 finished with value: 0.6088709677419355 and parameters: {'model_type': 'lgbm', 'num_leaves': 793, 'boosting_type': 'gbdt', 'n_estimators': 500, 'learning_rate': 0.05, 'min_data_in_leaf': 40, 'feature_fraction': 0.44623824747071045, 'bagging_fraction': 0.14733114591998342, 'bagging_freq': 264, 'alpha': 29.985595601434543, 'reg_lambda': 36.40358770135251}. Best is trial 442 with value: 0.5806451612903226.\n"
     ]
    },
    {
     "name": "stdout",
     "output_type": "stream",
     "text": [
      "[LightGBM] [Warning] bagging_fraction is set=0.13848473198718025, subsample=1.0 will be ignored. Current value: bagging_fraction=0.13848473198718025\n",
      "[LightGBM] [Warning] feature_fraction is set=0.4443140198680603, colsample_bytree=1.0 will be ignored. Current value: feature_fraction=0.4443140198680603\n",
      "[LightGBM] [Warning] bagging_freq is set=298, subsample_freq=0 will be ignored. Current value: bagging_freq=298\n",
      "[LightGBM] [Warning] min_data_in_leaf is set=40, min_child_samples=20 will be ignored. Current value: min_data_in_leaf=40\n",
      "[LightGBM] [Warning] num_threads is set=0, n_jobs=-1 will be ignored. Current value: num_threads=0\n"
     ]
    },
    {
     "name": "stderr",
     "output_type": "stream",
     "text": [
      "[I 2023-06-11 02:34:52,296] Trial 448 finished with value: 0.6169354838709677 and parameters: {'model_type': 'lgbm', 'num_leaves': 833, 'boosting_type': 'gbdt', 'n_estimators': 495, 'learning_rate': 0.05, 'min_data_in_leaf': 40, 'feature_fraction': 0.4443140198680603, 'bagging_fraction': 0.13848473198718025, 'bagging_freq': 298, 'alpha': 29.93950304816534, 'reg_lambda': 36.503020938632}. Best is trial 442 with value: 0.5806451612903226.\n"
     ]
    },
    {
     "name": "stdout",
     "output_type": "stream",
     "text": [
      "[LightGBM] [Warning] bagging_fraction is set=0.1324134347871251, subsample=1.0 will be ignored. Current value: bagging_fraction=0.1324134347871251\n",
      "[LightGBM] [Warning] feature_fraction is set=0.44323582463533195, colsample_bytree=1.0 will be ignored. Current value: feature_fraction=0.44323582463533195\n",
      "[LightGBM] [Warning] bagging_freq is set=272, subsample_freq=0 will be ignored. Current value: bagging_freq=272\n",
      "[LightGBM] [Warning] min_data_in_leaf is set=40, min_child_samples=20 will be ignored. Current value: min_data_in_leaf=40\n",
      "[LightGBM] [Warning] num_threads is set=0, n_jobs=-1 will be ignored. Current value: num_threads=0\n"
     ]
    },
    {
     "name": "stderr",
     "output_type": "stream",
     "text": [
      "[I 2023-06-11 02:34:53,650] Trial 449 finished with value: 0.5940860215053764 and parameters: {'model_type': 'lgbm', 'num_leaves': 846, 'boosting_type': 'gbdt', 'n_estimators': 499, 'learning_rate': 0.05, 'min_data_in_leaf': 40, 'feature_fraction': 0.44323582463533195, 'bagging_fraction': 0.1324134347871251, 'bagging_freq': 272, 'alpha': 29.104458228909273, 'reg_lambda': 36.66227439653702}. Best is trial 442 with value: 0.5806451612903226.\n"
     ]
    },
    {
     "name": "stdout",
     "output_type": "stream",
     "text": [
      "[LightGBM] [Warning] bagging_fraction is set=0.13621699552992056, subsample=1.0 will be ignored. Current value: bagging_fraction=0.13621699552992056\n",
      "[LightGBM] [Warning] feature_fraction is set=0.4398242630955249, colsample_bytree=1.0 will be ignored. Current value: feature_fraction=0.4398242630955249\n",
      "[LightGBM] [Warning] bagging_freq is set=269, subsample_freq=0 will be ignored. Current value: bagging_freq=269\n",
      "[LightGBM] [Warning] min_data_in_leaf is set=40, min_child_samples=20 will be ignored. Current value: min_data_in_leaf=40\n",
      "[LightGBM] [Warning] num_threads is set=0, n_jobs=-1 will be ignored. Current value: num_threads=0\n"
     ]
    },
    {
     "name": "stderr",
     "output_type": "stream",
     "text": [
      "[I 2023-06-11 02:34:55,011] Trial 450 finished with value: 0.5954301075268817 and parameters: {'model_type': 'lgbm', 'num_leaves': 844, 'boosting_type': 'gbdt', 'n_estimators': 499, 'learning_rate': 0.05, 'min_data_in_leaf': 40, 'feature_fraction': 0.4398242630955249, 'bagging_fraction': 0.13621699552992056, 'bagging_freq': 269, 'alpha': 29.760724827433368, 'reg_lambda': 36.46236044658739}. Best is trial 442 with value: 0.5806451612903226.\n"
     ]
    },
    {
     "name": "stdout",
     "output_type": "stream",
     "text": [
      "[LightGBM] [Warning] bagging_fraction is set=0.13107525863655428, subsample=1.0 will be ignored. Current value: bagging_fraction=0.13107525863655428\n",
      "[LightGBM] [Warning] feature_fraction is set=0.43762817253283876, colsample_bytree=1.0 will be ignored. Current value: feature_fraction=0.43762817253283876\n",
      "[LightGBM] [Warning] bagging_freq is set=276, subsample_freq=0 will be ignored. Current value: bagging_freq=276\n",
      "[LightGBM] [Warning] min_data_in_leaf is set=40, min_child_samples=20 will be ignored. Current value: min_data_in_leaf=40\n",
      "[LightGBM] [Warning] num_threads is set=0, n_jobs=-1 will be ignored. Current value: num_threads=0\n"
     ]
    },
    {
     "name": "stderr",
     "output_type": "stream",
     "text": [
      "[I 2023-06-11 02:34:56,379] Trial 451 finished with value: 0.614247311827957 and parameters: {'model_type': 'lgbm', 'num_leaves': 853, 'boosting_type': 'gbdt', 'n_estimators': 500, 'learning_rate': 0.05, 'min_data_in_leaf': 40, 'feature_fraction': 0.43762817253283876, 'bagging_fraction': 0.13107525863655428, 'bagging_freq': 276, 'alpha': 29.37815425889634, 'reg_lambda': 36.579050226151146}. Best is trial 442 with value: 0.5806451612903226.\n"
     ]
    },
    {
     "name": "stdout",
     "output_type": "stream",
     "text": [
      "[LightGBM] [Warning] bagging_fraction is set=0.148779521842611, subsample=1.0 will be ignored. Current value: bagging_fraction=0.148779521842611\n",
      "[LightGBM] [Warning] feature_fraction is set=0.4551779375534294, colsample_bytree=1.0 will be ignored. Current value: feature_fraction=0.4551779375534294\n",
      "[LightGBM] [Warning] bagging_freq is set=272, subsample_freq=0 will be ignored. Current value: bagging_freq=272\n",
      "[LightGBM] [Warning] min_data_in_leaf is set=40, min_child_samples=20 will be ignored. Current value: min_data_in_leaf=40\n",
      "[LightGBM] [Warning] num_threads is set=0, n_jobs=-1 will be ignored. Current value: num_threads=0\n"
     ]
    },
    {
     "name": "stderr",
     "output_type": "stream",
     "text": [
      "[I 2023-06-11 02:34:57,821] Trial 452 finished with value: 0.6008064516129032 and parameters: {'model_type': 'lgbm', 'num_leaves': 835, 'boosting_type': 'gbdt', 'n_estimators': 487, 'learning_rate': 0.05, 'min_data_in_leaf': 40, 'feature_fraction': 0.4551779375534294, 'bagging_fraction': 0.148779521842611, 'bagging_freq': 272, 'alpha': 29.793614051957075, 'reg_lambda': 36.6493971312506}. Best is trial 442 with value: 0.5806451612903226.\n"
     ]
    },
    {
     "name": "stdout",
     "output_type": "stream",
     "text": [
      "[LightGBM] [Warning] bagging_fraction is set=0.14810705258895318, subsample=1.0 will be ignored. Current value: bagging_fraction=0.14810705258895318\n",
      "[LightGBM] [Warning] feature_fraction is set=0.43856321317867686, colsample_bytree=1.0 will be ignored. Current value: feature_fraction=0.43856321317867686\n",
      "[LightGBM] [Warning] bagging_freq is set=271, subsample_freq=0 will be ignored. Current value: bagging_freq=271\n",
      "[LightGBM] [Warning] min_data_in_leaf is set=40, min_child_samples=20 will be ignored. Current value: min_data_in_leaf=40\n",
      "[LightGBM] [Warning] num_threads is set=0, n_jobs=-1 will be ignored. Current value: num_threads=0\n"
     ]
    },
    {
     "name": "stderr",
     "output_type": "stream",
     "text": [
      "[I 2023-06-11 02:34:59,252] Trial 453 finished with value: 0.6088709677419355 and parameters: {'model_type': 'lgbm', 'num_leaves': 829, 'boosting_type': 'gbdt', 'n_estimators': 489, 'learning_rate': 0.05, 'min_data_in_leaf': 40, 'feature_fraction': 0.43856321317867686, 'bagging_fraction': 0.14810705258895318, 'bagging_freq': 271, 'alpha': 29.806446972160554, 'reg_lambda': 36.537391537060394}. Best is trial 442 with value: 0.5806451612903226.\n"
     ]
    },
    {
     "name": "stdout",
     "output_type": "stream",
     "text": [
      "[LightGBM] [Warning] bagging_fraction is set=0.12993732902895933, subsample=1.0 will be ignored. Current value: bagging_fraction=0.12993732902895933\n",
      "[LightGBM] [Warning] feature_fraction is set=0.46790171829547456, colsample_bytree=1.0 will be ignored. Current value: feature_fraction=0.46790171829547456\n",
      "[LightGBM] [Warning] bagging_freq is set=298, subsample_freq=0 will be ignored. Current value: bagging_freq=298\n",
      "[LightGBM] [Warning] min_data_in_leaf is set=40, min_child_samples=20 will be ignored. Current value: min_data_in_leaf=40\n",
      "[LightGBM] [Warning] num_threads is set=0, n_jobs=-1 will be ignored. Current value: num_threads=0\n"
     ]
    },
    {
     "name": "stderr",
     "output_type": "stream",
     "text": [
      "[I 2023-06-11 02:35:00,581] Trial 454 finished with value: 0.6236559139784946 and parameters: {'model_type': 'lgbm', 'num_leaves': 804, 'boosting_type': 'gbdt', 'n_estimators': 484, 'learning_rate': 0.05, 'min_data_in_leaf': 40, 'feature_fraction': 0.46790171829547456, 'bagging_fraction': 0.12993732902895933, 'bagging_freq': 298, 'alpha': 29.164692306367638, 'reg_lambda': 35.71382346111929}. Best is trial 442 with value: 0.5806451612903226.\n"
     ]
    },
    {
     "name": "stdout",
     "output_type": "stream",
     "text": [
      "[LightGBM] [Warning] bagging_fraction is set=0.14826300460365274, subsample=1.0 will be ignored. Current value: bagging_fraction=0.14826300460365274\n",
      "[LightGBM] [Warning] feature_fraction is set=0.45396345373171854, colsample_bytree=1.0 will be ignored. Current value: feature_fraction=0.45396345373171854\n",
      "[LightGBM] [Warning] bagging_freq is set=262, subsample_freq=0 will be ignored. Current value: bagging_freq=262\n",
      "[LightGBM] [Warning] min_data_in_leaf is set=40, min_child_samples=20 will be ignored. Current value: min_data_in_leaf=40\n",
      "[LightGBM] [Warning] num_threads is set=0, n_jobs=-1 will be ignored. Current value: num_threads=0\n"
     ]
    },
    {
     "name": "stderr",
     "output_type": "stream",
     "text": [
      "[I 2023-06-11 02:35:02,046] Trial 455 finished with value: 0.603494623655914 and parameters: {'model_type': 'lgbm', 'num_leaves': 845, 'boosting_type': 'gbdt', 'n_estimators': 491, 'learning_rate': 0.05, 'min_data_in_leaf': 40, 'feature_fraction': 0.45396345373171854, 'bagging_fraction': 0.14826300460365274, 'bagging_freq': 262, 'alpha': 29.12762789033979, 'reg_lambda': 36.785909936661106}. Best is trial 442 with value: 0.5806451612903226.\n"
     ]
    },
    {
     "name": "stdout",
     "output_type": "stream",
     "text": [
      "[LightGBM] [Warning] bagging_fraction is set=0.1514554079407105, subsample=1.0 will be ignored. Current value: bagging_fraction=0.1514554079407105\n",
      "[LightGBM] [Warning] feature_fraction is set=0.45501500314983523, colsample_bytree=1.0 will be ignored. Current value: feature_fraction=0.45501500314983523\n",
      "[LightGBM] [Warning] bagging_freq is set=239, subsample_freq=0 will be ignored. Current value: bagging_freq=239\n",
      "[LightGBM] [Warning] min_data_in_leaf is set=40, min_child_samples=20 will be ignored. Current value: min_data_in_leaf=40\n",
      "[LightGBM] [Warning] num_threads is set=0, n_jobs=-1 will be ignored. Current value: num_threads=0\n"
     ]
    },
    {
     "name": "stderr",
     "output_type": "stream",
     "text": [
      "[I 2023-06-11 02:35:03,549] Trial 456 finished with value: 0.614247311827957 and parameters: {'model_type': 'lgbm', 'num_leaves': 826, 'boosting_type': 'gbdt', 'n_estimators': 500, 'learning_rate': 0.05, 'min_data_in_leaf': 40, 'feature_fraction': 0.45501500314983523, 'bagging_fraction': 0.1514554079407105, 'bagging_freq': 239, 'alpha': 29.16256738251293, 'reg_lambda': 36.742895612255026}. Best is trial 442 with value: 0.5806451612903226.\n"
     ]
    },
    {
     "name": "stdout",
     "output_type": "stream",
     "text": [
      "[LightGBM] [Warning] bagging_fraction is set=0.13664496829359948, subsample=1.0 will be ignored. Current value: bagging_fraction=0.13664496829359948\n",
      "[LightGBM] [Warning] feature_fraction is set=0.44177562918418106, colsample_bytree=1.0 will be ignored. Current value: feature_fraction=0.44177562918418106\n",
      "[LightGBM] [Warning] bagging_freq is set=263, subsample_freq=0 will be ignored. Current value: bagging_freq=263\n",
      "[LightGBM] [Warning] min_data_in_leaf is set=40, min_child_samples=20 will be ignored. Current value: min_data_in_leaf=40\n",
      "[LightGBM] [Warning] num_threads is set=0, n_jobs=-1 will be ignored. Current value: num_threads=0\n"
     ]
    },
    {
     "name": "stderr",
     "output_type": "stream",
     "text": [
      "[I 2023-06-11 02:35:04,922] Trial 457 finished with value: 0.6129032258064516 and parameters: {'model_type': 'lgbm', 'num_leaves': 844, 'boosting_type': 'gbdt', 'n_estimators': 488, 'learning_rate': 0.05, 'min_data_in_leaf': 40, 'feature_fraction': 0.44177562918418106, 'bagging_fraction': 0.13664496829359948, 'bagging_freq': 263, 'alpha': 29.04812842387324, 'reg_lambda': 36.15765011609563}. Best is trial 442 with value: 0.5806451612903226.\n"
     ]
    },
    {
     "name": "stdout",
     "output_type": "stream",
     "text": [
      "[LightGBM] [Warning] min_data_in_leaf is set=40, min_child_samples=20 will be ignored. Current value: min_data_in_leaf=40\n",
      "[LightGBM] [Warning] num_threads is set=0, n_jobs=-1 will be ignored. Current value: num_threads=0\n"
     ]
    },
    {
     "name": "stderr",
     "output_type": "stream",
     "text": [
      "[I 2023-06-11 02:35:07,651] Trial 458 finished with value: 0.6626344086021505 and parameters: {'model_type': 'lgbm', 'num_leaves': 853, 'boosting_type': 'goss', 'learning_rate': 0.05, 'min_data_in_leaf': 40, 'top_rate': 0.8387743453831745}. Best is trial 442 with value: 0.5806451612903226.\n"
     ]
    },
    {
     "name": "stdout",
     "output_type": "stream",
     "text": [
      "[LightGBM] [Warning] bagging_fraction is set=0.14491818144299712, subsample=1.0 will be ignored. Current value: bagging_fraction=0.14491818144299712\n",
      "[LightGBM] [Warning] feature_fraction is set=0.44729577804575404, colsample_bytree=1.0 will be ignored. Current value: feature_fraction=0.44729577804575404\n",
      "[LightGBM] [Warning] bagging_freq is set=253, subsample_freq=0 will be ignored. Current value: bagging_freq=253\n",
      "[LightGBM] [Warning] min_data_in_leaf is set=40, min_child_samples=20 will be ignored. Current value: min_data_in_leaf=40\n",
      "[LightGBM] [Warning] num_threads is set=0, n_jobs=-1 will be ignored. Current value: num_threads=0\n"
     ]
    },
    {
     "name": "stderr",
     "output_type": "stream",
     "text": [
      "[I 2023-06-11 02:35:09,045] Trial 459 finished with value: 0.592741935483871 and parameters: {'model_type': 'lgbm', 'num_leaves': 795, 'boosting_type': 'gbdt', 'n_estimators': 481, 'learning_rate': 0.05, 'min_data_in_leaf': 40, 'feature_fraction': 0.44729577804575404, 'bagging_fraction': 0.14491818144299712, 'bagging_freq': 253, 'alpha': 30.351657800915667, 'reg_lambda': 36.78545191256167}. Best is trial 442 with value: 0.5806451612903226.\n"
     ]
    },
    {
     "name": "stdout",
     "output_type": "stream",
     "text": [
      "[LightGBM] [Warning] bagging_fraction is set=0.1465885828240386, subsample=1.0 will be ignored. Current value: bagging_fraction=0.1465885828240386\n",
      "[LightGBM] [Warning] feature_fraction is set=0.4435676116952164, colsample_bytree=1.0 will be ignored. Current value: feature_fraction=0.4435676116952164\n",
      "[LightGBM] [Warning] bagging_freq is set=259, subsample_freq=0 will be ignored. Current value: bagging_freq=259\n",
      "[LightGBM] [Warning] min_data_in_leaf is set=40, min_child_samples=20 will be ignored. Current value: min_data_in_leaf=40\n",
      "[LightGBM] [Warning] num_threads is set=0, n_jobs=-1 will be ignored. Current value: num_threads=0\n"
     ]
    },
    {
     "name": "stderr",
     "output_type": "stream",
     "text": [
      "[I 2023-06-11 02:35:10,400] Trial 460 finished with value: 0.6115591397849462 and parameters: {'model_type': 'lgbm', 'num_leaves': 784, 'boosting_type': 'gbdt', 'n_estimators': 481, 'learning_rate': 0.05, 'min_data_in_leaf': 40, 'feature_fraction': 0.4435676116952164, 'bagging_fraction': 0.1465885828240386, 'bagging_freq': 259, 'alpha': 30.467287463084727, 'reg_lambda': 36.8584886209586}. Best is trial 442 with value: 0.5806451612903226.\n"
     ]
    },
    {
     "name": "stdout",
     "output_type": "stream",
     "text": [
      "[LightGBM] [Warning] bagging_fraction is set=0.14356102726158818, subsample=1.0 will be ignored. Current value: bagging_fraction=0.14356102726158818\n",
      "[LightGBM] [Warning] feature_fraction is set=0.4513351918908383, colsample_bytree=1.0 will be ignored. Current value: feature_fraction=0.4513351918908383\n",
      "[LightGBM] [Warning] bagging_freq is set=275, subsample_freq=0 will be ignored. Current value: bagging_freq=275\n",
      "[LightGBM] [Warning] min_data_in_leaf is set=40, min_child_samples=20 will be ignored. Current value: min_data_in_leaf=40\n",
      "[LightGBM] [Warning] num_threads is set=0, n_jobs=-1 will be ignored. Current value: num_threads=0\n"
     ]
    },
    {
     "name": "stderr",
     "output_type": "stream",
     "text": [
      "[I 2023-06-11 02:35:11,791] Trial 461 finished with value: 0.5887096774193549 and parameters: {'model_type': 'lgbm', 'num_leaves': 806, 'boosting_type': 'gbdt', 'n_estimators': 500, 'learning_rate': 0.05, 'min_data_in_leaf': 40, 'feature_fraction': 0.4513351918908383, 'bagging_fraction': 0.14356102726158818, 'bagging_freq': 275, 'alpha': 29.82497506345168, 'reg_lambda': 36.329221346600235}. Best is trial 442 with value: 0.5806451612903226.\n"
     ]
    },
    {
     "name": "stdout",
     "output_type": "stream",
     "text": [
      "[LightGBM] [Warning] bagging_fraction is set=0.14430580509299462, subsample=1.0 will be ignored. Current value: bagging_fraction=0.14430580509299462\n",
      "[LightGBM] [Warning] feature_fraction is set=0.4519918569142983, colsample_bytree=1.0 will be ignored. Current value: feature_fraction=0.4519918569142983\n",
      "[LightGBM] [Warning] bagging_freq is set=249, subsample_freq=0 will be ignored. Current value: bagging_freq=249\n",
      "[LightGBM] [Warning] min_data_in_leaf is set=40, min_child_samples=20 will be ignored. Current value: min_data_in_leaf=40\n",
      "[LightGBM] [Warning] num_threads is set=0, n_jobs=-1 will be ignored. Current value: num_threads=0\n"
     ]
    },
    {
     "name": "stderr",
     "output_type": "stream",
     "text": [
      "[I 2023-06-11 02:35:13,207] Trial 462 finished with value: 0.5887096774193549 and parameters: {'model_type': 'lgbm', 'num_leaves': 807, 'boosting_type': 'gbdt', 'n_estimators': 492, 'learning_rate': 0.05, 'min_data_in_leaf': 40, 'feature_fraction': 0.4519918569142983, 'bagging_fraction': 0.14430580509299462, 'bagging_freq': 249, 'alpha': 29.817274558981435, 'reg_lambda': 36.2589165407192}. Best is trial 442 with value: 0.5806451612903226.\n"
     ]
    },
    {
     "name": "stdout",
     "output_type": "stream",
     "text": [
      "[LightGBM] [Warning] bagging_fraction is set=0.15268952600272778, subsample=1.0 will be ignored. Current value: bagging_fraction=0.15268952600272778\n",
      "[LightGBM] [Warning] feature_fraction is set=0.4507576510514104, colsample_bytree=1.0 will be ignored. Current value: feature_fraction=0.4507576510514104\n",
      "[LightGBM] [Warning] bagging_freq is set=253, subsample_freq=0 will be ignored. Current value: bagging_freq=253\n",
      "[LightGBM] [Warning] min_data_in_leaf is set=40, min_child_samples=20 will be ignored. Current value: min_data_in_leaf=40\n",
      "[LightGBM] [Warning] num_threads is set=0, n_jobs=-1 will be ignored. Current value: num_threads=0\n"
     ]
    },
    {
     "name": "stderr",
     "output_type": "stream",
     "text": [
      "[I 2023-06-11 02:35:14,646] Trial 463 finished with value: 0.6330645161290323 and parameters: {'model_type': 'lgbm', 'num_leaves': 806, 'boosting_type': 'gbdt', 'n_estimators': 492, 'learning_rate': 0.05, 'min_data_in_leaf': 40, 'feature_fraction': 0.4507576510514104, 'bagging_fraction': 0.15268952600272778, 'bagging_freq': 253, 'alpha': 29.795302490218813, 'reg_lambda': 36.356309930909696}. Best is trial 442 with value: 0.5806451612903226.\n"
     ]
    },
    {
     "name": "stdout",
     "output_type": "stream",
     "text": [
      "[LightGBM] [Warning] bagging_fraction is set=0.1345045082899216, subsample=1.0 will be ignored. Current value: bagging_fraction=0.1345045082899216\n",
      "[LightGBM] [Warning] feature_fraction is set=0.45507996537821094, colsample_bytree=1.0 will be ignored. Current value: feature_fraction=0.45507996537821094\n",
      "[LightGBM] [Warning] bagging_freq is set=274, subsample_freq=0 will be ignored. Current value: bagging_freq=274\n",
      "[LightGBM] [Warning] min_data_in_leaf is set=40, min_child_samples=20 will be ignored. Current value: min_data_in_leaf=40\n",
      "[LightGBM] [Warning] num_threads is set=0, n_jobs=-1 will be ignored. Current value: num_threads=0\n"
     ]
    },
    {
     "name": "stderr",
     "output_type": "stream",
     "text": [
      "[I 2023-06-11 02:35:16,003] Trial 464 finished with value: 0.6182795698924731 and parameters: {'model_type': 'lgbm', 'num_leaves': 822, 'boosting_type': 'gbdt', 'n_estimators': 500, 'learning_rate': 0.05, 'min_data_in_leaf': 40, 'feature_fraction': 0.45507996537821094, 'bagging_fraction': 0.1345045082899216, 'bagging_freq': 274, 'alpha': 28.97100554492475, 'reg_lambda': 36.60977217886716}. Best is trial 442 with value: 0.5806451612903226.\n"
     ]
    },
    {
     "name": "stdout",
     "output_type": "stream",
     "text": [
      "[LightGBM] [Warning] bagging_fraction is set=0.14389338498219012, subsample=1.0 will be ignored. Current value: bagging_fraction=0.14389338498219012\n",
      "[LightGBM] [Warning] feature_fraction is set=0.4574177929833297, colsample_bytree=1.0 will be ignored. Current value: feature_fraction=0.4574177929833297\n",
      "[LightGBM] [Warning] bagging_freq is set=292, subsample_freq=0 will be ignored. Current value: bagging_freq=292\n",
      "[LightGBM] [Warning] min_data_in_leaf is set=40, min_child_samples=20 will be ignored. Current value: min_data_in_leaf=40\n",
      "[LightGBM] [Warning] num_threads is set=0, n_jobs=-1 will be ignored. Current value: num_threads=0\n"
     ]
    },
    {
     "name": "stderr",
     "output_type": "stream",
     "text": [
      "[I 2023-06-11 02:35:17,393] Trial 465 finished with value: 0.592741935483871 and parameters: {'model_type': 'lgbm', 'num_leaves': 794, 'boosting_type': 'gbdt', 'n_estimators': 500, 'learning_rate': 0.05, 'min_data_in_leaf': 40, 'feature_fraction': 0.4574177929833297, 'bagging_fraction': 0.14389338498219012, 'bagging_freq': 292, 'alpha': 29.920065748388986, 'reg_lambda': 37.04821440359291}. Best is trial 442 with value: 0.5806451612903226.\n"
     ]
    },
    {
     "name": "stdout",
     "output_type": "stream",
     "text": [
      "[LightGBM] [Warning] bagging_fraction is set=0.142084512167472, subsample=1.0 will be ignored. Current value: bagging_fraction=0.142084512167472\n",
      "[LightGBM] [Warning] feature_fraction is set=0.4610005928033733, colsample_bytree=1.0 will be ignored. Current value: feature_fraction=0.4610005928033733\n",
      "[LightGBM] [Warning] bagging_freq is set=246, subsample_freq=0 will be ignored. Current value: bagging_freq=246\n",
      "[LightGBM] [Warning] min_data_in_leaf is set=40, min_child_samples=20 will be ignored. Current value: min_data_in_leaf=40\n",
      "[LightGBM] [Warning] num_threads is set=0, n_jobs=-1 will be ignored. Current value: num_threads=0\n"
     ]
    },
    {
     "name": "stderr",
     "output_type": "stream",
     "text": [
      "[I 2023-06-11 02:35:18,759] Trial 466 finished with value: 0.5900537634408602 and parameters: {'model_type': 'lgbm', 'num_leaves': 762, 'boosting_type': 'gbdt', 'n_estimators': 499, 'learning_rate': 0.05, 'min_data_in_leaf': 40, 'feature_fraction': 0.4610005928033733, 'bagging_fraction': 0.142084512167472, 'bagging_freq': 246, 'alpha': 29.92658765500557, 'reg_lambda': 36.824014684105954}. Best is trial 442 with value: 0.5806451612903226.\n"
     ]
    },
    {
     "name": "stdout",
     "output_type": "stream",
     "text": [
      "[LightGBM] [Warning] bagging_fraction is set=0.12343707238080708, subsample=1.0 will be ignored. Current value: bagging_fraction=0.12343707238080708\n",
      "[LightGBM] [Warning] feature_fraction is set=0.46233036485375373, colsample_bytree=1.0 will be ignored. Current value: feature_fraction=0.46233036485375373\n",
      "[LightGBM] [Warning] bagging_freq is set=225, subsample_freq=0 will be ignored. Current value: bagging_freq=225\n",
      "[LightGBM] [Warning] min_data_in_leaf is set=40, min_child_samples=20 will be ignored. Current value: min_data_in_leaf=40\n",
      "[LightGBM] [Warning] num_threads is set=0, n_jobs=-1 will be ignored. Current value: num_threads=0\n"
     ]
    },
    {
     "name": "stderr",
     "output_type": "stream",
     "text": [
      "[I 2023-06-11 02:35:20,014] Trial 467 finished with value: 0.6290322580645161 and parameters: {'model_type': 'lgbm', 'num_leaves': 792, 'boosting_type': 'gbdt', 'n_estimators': 500, 'learning_rate': 0.05, 'min_data_in_leaf': 40, 'feature_fraction': 0.46233036485375373, 'bagging_fraction': 0.12343707238080708, 'bagging_freq': 225, 'alpha': 29.89191864651973, 'reg_lambda': 36.277545948535106}. Best is trial 442 with value: 0.5806451612903226.\n"
     ]
    },
    {
     "name": "stdout",
     "output_type": "stream",
     "text": [
      "[LightGBM] [Warning] bagging_fraction is set=0.5012603390303625, subsample=1.0 will be ignored. Current value: bagging_fraction=0.5012603390303625\n",
      "[LightGBM] [Warning] bagging_freq is set=250, subsample_freq=0 will be ignored. Current value: bagging_freq=250\n",
      "[LightGBM] [Warning] min_data_in_leaf is set=20, min_child_samples=20 will be ignored. Current value: min_data_in_leaf=20\n",
      "[LightGBM] [Warning] num_threads is set=0, n_jobs=-1 will be ignored. Current value: num_threads=0\n"
     ]
    },
    {
     "name": "stderr",
     "output_type": "stream",
     "text": [
      "[I 2023-06-11 02:35:26,898] Trial 468 finished with value: 0.6706989247311828 and parameters: {'model_type': 'lgbm', 'num_leaves': 803, 'boosting_type': 'rf', 'n_estimators': 481, 'feature_fraction_bynode': 0.059145207282343994, 'bagging_fraction': 0.5012603390303625, 'bagging_freq': 250, 'min_data_in_leaf': 20, 'alpha': 19.15069905302318, 'reg_lambda': 18.544781229556815}. Best is trial 442 with value: 0.5806451612903226.\n"
     ]
    },
    {
     "name": "stdout",
     "output_type": "stream",
     "text": [
      "[LightGBM] [Warning] bagging_fraction is set=0.14053242651898562, subsample=1.0 will be ignored. Current value: bagging_fraction=0.14053242651898562\n",
      "[LightGBM] [Warning] feature_fraction is set=0.4657187068900216, colsample_bytree=1.0 will be ignored. Current value: feature_fraction=0.4657187068900216\n",
      "[LightGBM] [Warning] bagging_freq is set=289, subsample_freq=0 will be ignored. Current value: bagging_freq=289\n",
      "[LightGBM] [Warning] min_data_in_leaf is set=40, min_child_samples=20 will be ignored. Current value: min_data_in_leaf=40\n",
      "[LightGBM] [Warning] num_threads is set=0, n_jobs=-1 will be ignored. Current value: num_threads=0\n"
     ]
    },
    {
     "name": "stderr",
     "output_type": "stream",
     "text": [
      "[I 2023-06-11 02:35:28,297] Trial 469 finished with value: 0.6075268817204301 and parameters: {'model_type': 'lgbm', 'num_leaves': 766, 'boosting_type': 'gbdt', 'n_estimators': 500, 'learning_rate': 0.05, 'min_data_in_leaf': 40, 'feature_fraction': 0.4657187068900216, 'bagging_fraction': 0.14053242651898562, 'bagging_freq': 289, 'alpha': 30.245899162838366, 'reg_lambda': 36.92602785315371}. Best is trial 442 with value: 0.5806451612903226.\n"
     ]
    },
    {
     "name": "stdout",
     "output_type": "stream",
     "text": [
      "[LightGBM] [Warning] bagging_fraction is set=0.14518594676806112, subsample=1.0 will be ignored. Current value: bagging_fraction=0.14518594676806112\n",
      "[LightGBM] [Warning] feature_fraction is set=0.447457374087793, colsample_bytree=1.0 will be ignored. Current value: feature_fraction=0.447457374087793\n",
      "[LightGBM] [Warning] bagging_freq is set=270, subsample_freq=0 will be ignored. Current value: bagging_freq=270\n",
      "[LightGBM] [Warning] min_data_in_leaf is set=40, min_child_samples=20 will be ignored. Current value: min_data_in_leaf=40\n",
      "[LightGBM] [Warning] num_threads is set=0, n_jobs=-1 will be ignored. Current value: num_threads=0\n"
     ]
    },
    {
     "name": "stderr",
     "output_type": "stream",
     "text": [
      "[I 2023-06-11 02:35:29,683] Trial 470 finished with value: 0.5873655913978495 and parameters: {'model_type': 'lgbm', 'num_leaves': 822, 'boosting_type': 'gbdt', 'n_estimators': 489, 'learning_rate': 0.05, 'min_data_in_leaf': 40, 'feature_fraction': 0.447457374087793, 'bagging_fraction': 0.14518594676806112, 'bagging_freq': 270, 'alpha': 29.656418578561677, 'reg_lambda': 37.08906364225532}. Best is trial 442 with value: 0.5806451612903226.\n"
     ]
    },
    {
     "name": "stdout",
     "output_type": "stream",
     "text": [
      "[LightGBM] [Warning] bagging_fraction is set=0.14314741320477836, subsample=1.0 will be ignored. Current value: bagging_fraction=0.14314741320477836\n",
      "[LightGBM] [Warning] feature_fraction is set=0.44703358776083607, colsample_bytree=1.0 will be ignored. Current value: feature_fraction=0.44703358776083607\n",
      "[LightGBM] [Warning] bagging_freq is set=273, subsample_freq=0 will be ignored. Current value: bagging_freq=273\n",
      "[LightGBM] [Warning] min_data_in_leaf is set=40, min_child_samples=20 will be ignored. Current value: min_data_in_leaf=40\n",
      "[LightGBM] [Warning] num_threads is set=0, n_jobs=-1 will be ignored. Current value: num_threads=0\n"
     ]
    },
    {
     "name": "stderr",
     "output_type": "stream",
     "text": [
      "[I 2023-06-11 02:35:31,071] Trial 471 finished with value: 0.5900537634408602 and parameters: {'model_type': 'lgbm', 'num_leaves': 821, 'boosting_type': 'gbdt', 'n_estimators': 489, 'learning_rate': 0.05, 'min_data_in_leaf': 40, 'feature_fraction': 0.44703358776083607, 'bagging_fraction': 0.14314741320477836, 'bagging_freq': 273, 'alpha': 29.576406454266483, 'reg_lambda': 37.16685695026166}. Best is trial 442 with value: 0.5806451612903226.\n"
     ]
    },
    {
     "name": "stdout",
     "output_type": "stream",
     "text": [
      "[LightGBM] [Warning] bagging_fraction is set=0.14462379385568053, subsample=1.0 will be ignored. Current value: bagging_fraction=0.14462379385568053\n",
      "[LightGBM] [Warning] feature_fraction is set=0.445861338178025, colsample_bytree=1.0 will be ignored. Current value: feature_fraction=0.445861338178025\n",
      "[LightGBM] [Warning] bagging_freq is set=294, subsample_freq=0 will be ignored. Current value: bagging_freq=294\n",
      "[LightGBM] [Warning] min_data_in_leaf is set=40, min_child_samples=20 will be ignored. Current value: min_data_in_leaf=40\n",
      "[LightGBM] [Warning] num_threads is set=0, n_jobs=-1 will be ignored. Current value: num_threads=0\n"
     ]
    },
    {
     "name": "stderr",
     "output_type": "stream",
     "text": [
      "[I 2023-06-11 02:35:32,469] Trial 472 finished with value: 0.592741935483871 and parameters: {'model_type': 'lgbm', 'num_leaves': 821, 'boosting_type': 'gbdt', 'n_estimators': 489, 'learning_rate': 0.05, 'min_data_in_leaf': 40, 'feature_fraction': 0.445861338178025, 'bagging_fraction': 0.14462379385568053, 'bagging_freq': 294, 'alpha': 29.637385204592633, 'reg_lambda': 36.99162780432139}. Best is trial 442 with value: 0.5806451612903226.\n"
     ]
    },
    {
     "name": "stdout",
     "output_type": "stream",
     "text": [
      "[LightGBM] [Warning] bagging_fraction is set=0.14365379430107098, subsample=1.0 will be ignored. Current value: bagging_fraction=0.14365379430107098\n",
      "[LightGBM] [Warning] feature_fraction is set=0.44561841254875, colsample_bytree=1.0 will be ignored. Current value: feature_fraction=0.44561841254875\n",
      "[LightGBM] [Warning] bagging_freq is set=297, subsample_freq=0 will be ignored. Current value: bagging_freq=297\n",
      "[LightGBM] [Warning] min_data_in_leaf is set=40, min_child_samples=20 will be ignored. Current value: min_data_in_leaf=40\n",
      "[LightGBM] [Warning] num_threads is set=0, n_jobs=-1 will be ignored. Current value: num_threads=0\n"
     ]
    },
    {
     "name": "stderr",
     "output_type": "stream",
     "text": [
      "[I 2023-06-11 02:35:33,840] Trial 473 finished with value: 0.5900537634408602 and parameters: {'model_type': 'lgbm', 'num_leaves': 779, 'boosting_type': 'gbdt', 'n_estimators': 490, 'learning_rate': 0.05, 'min_data_in_leaf': 40, 'feature_fraction': 0.44561841254875, 'bagging_fraction': 0.14365379430107098, 'bagging_freq': 297, 'alpha': 29.69767510360184, 'reg_lambda': 37.13682377202207}. Best is trial 442 with value: 0.5806451612903226.\n"
     ]
    },
    {
     "name": "stdout",
     "output_type": "stream",
     "text": [
      "[LightGBM] [Warning] bagging_fraction is set=0.14319774699671783, subsample=1.0 will be ignored. Current value: bagging_fraction=0.14319774699671783\n",
      "[LightGBM] [Warning] feature_fraction is set=0.4441219174669277, colsample_bytree=1.0 will be ignored. Current value: feature_fraction=0.4441219174669277\n",
      "[LightGBM] [Warning] bagging_freq is set=299, subsample_freq=0 will be ignored. Current value: bagging_freq=299\n",
      "[LightGBM] [Warning] min_data_in_leaf is set=40, min_child_samples=20 will be ignored. Current value: min_data_in_leaf=40\n",
      "[LightGBM] [Warning] num_threads is set=0, n_jobs=-1 will be ignored. Current value: num_threads=0\n"
     ]
    },
    {
     "name": "stderr",
     "output_type": "stream",
     "text": [
      "[I 2023-06-11 02:35:35,192] Trial 474 finished with value: 0.5806451612903226 and parameters: {'model_type': 'lgbm', 'num_leaves': 784, 'boosting_type': 'gbdt', 'n_estimators': 489, 'learning_rate': 0.05, 'min_data_in_leaf': 40, 'feature_fraction': 0.4441219174669277, 'bagging_fraction': 0.14319774699671783, 'bagging_freq': 299, 'alpha': 29.56382673621371, 'reg_lambda': 37.17096781716388}. Best is trial 442 with value: 0.5806451612903226.\n"
     ]
    },
    {
     "name": "stdout",
     "output_type": "stream",
     "text": [
      "[LightGBM] [Warning] bagging_fraction is set=0.14290945404108898, subsample=1.0 will be ignored. Current value: bagging_fraction=0.14290945404108898\n",
      "[LightGBM] [Warning] feature_fraction is set=0.4436815148423045, colsample_bytree=1.0 will be ignored. Current value: feature_fraction=0.4436815148423045\n",
      "[LightGBM] [Warning] bagging_freq is set=297, subsample_freq=0 will be ignored. Current value: bagging_freq=297\n",
      "[LightGBM] [Warning] min_data_in_leaf is set=40, min_child_samples=20 will be ignored. Current value: min_data_in_leaf=40\n",
      "[LightGBM] [Warning] num_threads is set=0, n_jobs=-1 will be ignored. Current value: num_threads=0\n"
     ]
    },
    {
     "name": "stderr",
     "output_type": "stream",
     "text": [
      "[I 2023-06-11 02:35:36,532] Trial 475 finished with value: 0.5846774193548387 and parameters: {'model_type': 'lgbm', 'num_leaves': 779, 'boosting_type': 'gbdt', 'n_estimators': 490, 'learning_rate': 0.05, 'min_data_in_leaf': 40, 'feature_fraction': 0.4436815148423045, 'bagging_fraction': 0.14290945404108898, 'bagging_freq': 297, 'alpha': 29.478850539559833, 'reg_lambda': 37.25240018504302}. Best is trial 442 with value: 0.5806451612903226.\n"
     ]
    },
    {
     "name": "stdout",
     "output_type": "stream",
     "text": [
      "[LightGBM] [Warning] bagging_fraction is set=0.1352692875889163, subsample=1.0 will be ignored. Current value: bagging_fraction=0.1352692875889163\n",
      "[LightGBM] [Warning] feature_fraction is set=0.4450190495880907, colsample_bytree=1.0 will be ignored. Current value: feature_fraction=0.4450190495880907\n",
      "[LightGBM] [Warning] bagging_freq is set=305, subsample_freq=0 will be ignored. Current value: bagging_freq=305\n",
      "[LightGBM] [Warning] min_data_in_leaf is set=40, min_child_samples=20 will be ignored. Current value: min_data_in_leaf=40\n",
      "[LightGBM] [Warning] num_threads is set=0, n_jobs=-1 will be ignored. Current value: num_threads=0\n"
     ]
    },
    {
     "name": "stderr",
     "output_type": "stream",
     "text": [
      "[I 2023-06-11 02:35:37,824] Trial 476 finished with value: 0.5967741935483871 and parameters: {'model_type': 'lgbm', 'num_leaves': 761, 'boosting_type': 'gbdt', 'n_estimators': 500, 'learning_rate': 0.05, 'min_data_in_leaf': 40, 'feature_fraction': 0.4450190495880907, 'bagging_fraction': 0.1352692875889163, 'bagging_freq': 305, 'alpha': 29.5136736671868, 'reg_lambda': 37.38220817814434}. Best is trial 442 with value: 0.5806451612903226.\n"
     ]
    },
    {
     "name": "stdout",
     "output_type": "stream",
     "text": [
      "[LightGBM] [Warning] bagging_fraction is set=0.13343418510469665, subsample=1.0 will be ignored. Current value: bagging_fraction=0.13343418510469665\n",
      "[LightGBM] [Warning] feature_fraction is set=0.44314120314448724, colsample_bytree=1.0 will be ignored. Current value: feature_fraction=0.44314120314448724\n",
      "[LightGBM] [Warning] bagging_freq is set=281, subsample_freq=0 will be ignored. Current value: bagging_freq=281\n",
      "[LightGBM] [Warning] min_data_in_leaf is set=40, min_child_samples=20 will be ignored. Current value: min_data_in_leaf=40\n",
      "[LightGBM] [Warning] num_threads is set=0, n_jobs=-1 will be ignored. Current value: num_threads=0\n"
     ]
    },
    {
     "name": "stderr",
     "output_type": "stream",
     "text": [
      "[I 2023-06-11 02:35:39,105] Trial 477 finished with value: 0.5981182795698925 and parameters: {'model_type': 'lgbm', 'num_leaves': 757, 'boosting_type': 'gbdt', 'n_estimators': 490, 'learning_rate': 0.05, 'min_data_in_leaf': 40, 'feature_fraction': 0.44314120314448724, 'bagging_fraction': 0.13343418510469665, 'bagging_freq': 281, 'alpha': 29.44053625967889, 'reg_lambda': 37.217984343483565}. Best is trial 442 with value: 0.5806451612903226.\n"
     ]
    },
    {
     "name": "stdout",
     "output_type": "stream",
     "text": [
      "[LightGBM] [Warning] bagging_fraction is set=0.13366431380125254, subsample=1.0 will be ignored. Current value: bagging_fraction=0.13366431380125254\n",
      "[LightGBM] [Warning] feature_fraction is set=0.43982997142317287, colsample_bytree=1.0 will be ignored. Current value: feature_fraction=0.43982997142317287\n",
      "[LightGBM] [Warning] bagging_freq is set=309, subsample_freq=0 will be ignored. Current value: bagging_freq=309\n",
      "[LightGBM] [Warning] min_data_in_leaf is set=40, min_child_samples=20 will be ignored. Current value: min_data_in_leaf=40\n",
      "[LightGBM] [Warning] num_threads is set=0, n_jobs=-1 will be ignored. Current value: num_threads=0\n"
     ]
    },
    {
     "name": "stderr",
     "output_type": "stream",
     "text": [
      "[I 2023-06-11 02:35:40,377] Trial 478 finished with value: 0.6182795698924731 and parameters: {'model_type': 'lgbm', 'num_leaves': 754, 'boosting_type': 'gbdt', 'n_estimators': 490, 'learning_rate': 0.05, 'min_data_in_leaf': 40, 'feature_fraction': 0.43982997142317287, 'bagging_fraction': 0.13366431380125254, 'bagging_freq': 309, 'alpha': 29.42340266101837, 'reg_lambda': 37.318522637528304}. Best is trial 442 with value: 0.5806451612903226.\n"
     ]
    },
    {
     "name": "stdout",
     "output_type": "stream",
     "text": [
      "[LightGBM] [Warning] bagging_fraction is set=0.12329643863395506, subsample=1.0 will be ignored. Current value: bagging_fraction=0.12329643863395506\n",
      "[LightGBM] [Warning] feature_fraction is set=0.44477715825409714, colsample_bytree=1.0 will be ignored. Current value: feature_fraction=0.44477715825409714\n",
      "[LightGBM] [Warning] bagging_freq is set=281, subsample_freq=0 will be ignored. Current value: bagging_freq=281\n",
      "[LightGBM] [Warning] min_data_in_leaf is set=40, min_child_samples=20 will be ignored. Current value: min_data_in_leaf=40\n",
      "[LightGBM] [Warning] num_threads is set=0, n_jobs=-1 will be ignored. Current value: num_threads=0\n"
     ]
    },
    {
     "name": "stderr",
     "output_type": "stream",
     "text": [
      "[I 2023-06-11 02:35:41,565] Trial 479 finished with value: 0.6075268817204301 and parameters: {'model_type': 'lgbm', 'num_leaves': 729, 'boosting_type': 'gbdt', 'n_estimators': 479, 'learning_rate': 0.05, 'min_data_in_leaf': 40, 'feature_fraction': 0.44477715825409714, 'bagging_fraction': 0.12329643863395506, 'bagging_freq': 281, 'alpha': 28.578174582363488, 'reg_lambda': 37.184225326429896}. Best is trial 442 with value: 0.5806451612903226.\n"
     ]
    },
    {
     "name": "stdout",
     "output_type": "stream",
     "text": [
      "[LightGBM] [Warning] bagging_fraction is set=0.13585214480056626, subsample=1.0 will be ignored. Current value: bagging_fraction=0.13585214480056626\n",
      "[LightGBM] [Warning] feature_fraction is set=0.4362651590710867, colsample_bytree=1.0 will be ignored. Current value: feature_fraction=0.4362651590710867\n",
      "[LightGBM] [Warning] bagging_freq is set=249, subsample_freq=0 will be ignored. Current value: bagging_freq=249\n",
      "[LightGBM] [Warning] min_data_in_leaf is set=40, min_child_samples=20 will be ignored. Current value: min_data_in_leaf=40\n",
      "[LightGBM] [Warning] num_threads is set=0, n_jobs=-1 will be ignored. Current value: num_threads=0\n"
     ]
    },
    {
     "name": "stderr",
     "output_type": "stream",
     "text": [
      "[I 2023-06-11 02:35:42,852] Trial 480 finished with value: 0.6008064516129032 and parameters: {'model_type': 'lgbm', 'num_leaves': 775, 'boosting_type': 'gbdt', 'n_estimators': 500, 'learning_rate': 0.05, 'min_data_in_leaf': 40, 'feature_fraction': 0.4362651590710867, 'bagging_fraction': 0.13585214480056626, 'bagging_freq': 249, 'alpha': 29.556605754290107, 'reg_lambda': 37.38094310297989}. Best is trial 442 with value: 0.5806451612903226.\n"
     ]
    },
    {
     "name": "stdout",
     "output_type": "stream",
     "text": [
      "[LightGBM] [Warning] bagging_fraction is set=0.15651735829903643, subsample=1.0 will be ignored. Current value: bagging_fraction=0.15651735829903643\n",
      "[LightGBM] [Warning] feature_fraction is set=0.445456349515693, colsample_bytree=1.0 will be ignored. Current value: feature_fraction=0.445456349515693\n",
      "[LightGBM] [Warning] bagging_freq is set=268, subsample_freq=0 will be ignored. Current value: bagging_freq=268\n",
      "[LightGBM] [Warning] min_data_in_leaf is set=40, min_child_samples=20 will be ignored. Current value: min_data_in_leaf=40\n",
      "[LightGBM] [Warning] num_threads is set=0, n_jobs=-1 will be ignored. Current value: num_threads=0\n"
     ]
    },
    {
     "name": "stderr",
     "output_type": "stream",
     "text": [
      "[I 2023-06-11 02:35:44,283] Trial 481 finished with value: 0.6169354838709677 and parameters: {'model_type': 'lgbm', 'num_leaves': 789, 'boosting_type': 'gbdt', 'n_estimators': 490, 'learning_rate': 0.05, 'min_data_in_leaf': 40, 'feature_fraction': 0.445456349515693, 'bagging_fraction': 0.15651735829903643, 'bagging_freq': 268, 'alpha': 28.792738146377616, 'reg_lambda': 37.29330171007546}. Best is trial 442 with value: 0.5806451612903226.\n"
     ]
    },
    {
     "name": "stdout",
     "output_type": "stream",
     "text": [
      "[LightGBM] [Warning] bagging_fraction is set=0.12676852696938404, subsample=1.0 will be ignored. Current value: bagging_fraction=0.12676852696938404\n",
      "[LightGBM] [Warning] feature_fraction is set=0.43459887348484544, colsample_bytree=1.0 will be ignored. Current value: feature_fraction=0.43459887348484544\n",
      "[LightGBM] [Warning] bagging_freq is set=284, subsample_freq=0 will be ignored. Current value: bagging_freq=284\n",
      "[LightGBM] [Warning] min_data_in_leaf is set=40, min_child_samples=20 will be ignored. Current value: min_data_in_leaf=40\n",
      "[LightGBM] [Warning] num_threads is set=0, n_jobs=-1 will be ignored. Current value: num_threads=0\n"
     ]
    },
    {
     "name": "stderr",
     "output_type": "stream",
     "text": [
      "[I 2023-06-11 02:35:45,515] Trial 482 finished with value: 0.6088709677419355 and parameters: {'model_type': 'lgbm', 'num_leaves': 751, 'boosting_type': 'gbdt', 'n_estimators': 482, 'learning_rate': 0.05, 'min_data_in_leaf': 40, 'feature_fraction': 0.43459887348484544, 'bagging_fraction': 0.12676852696938404, 'bagging_freq': 284, 'alpha': 29.366572681932634, 'reg_lambda': 37.016275811624496}. Best is trial 442 with value: 0.5806451612903226.\n"
     ]
    },
    {
     "name": "stdout",
     "output_type": "stream",
     "text": [
      "[LightGBM] [Warning] bagging_fraction is set=0.14087610293470984, subsample=1.0 will be ignored. Current value: bagging_fraction=0.14087610293470984\n",
      "[LightGBM] [Warning] feature_fraction is set=0.4438682645335532, colsample_bytree=1.0 will be ignored. Current value: feature_fraction=0.4438682645335532\n",
      "[LightGBM] [Warning] bagging_freq is set=305, subsample_freq=0 will be ignored. Current value: bagging_freq=305\n",
      "[LightGBM] [Warning] min_data_in_leaf is set=40, min_child_samples=20 will be ignored. Current value: min_data_in_leaf=40\n",
      "[LightGBM] [Warning] num_threads is set=0, n_jobs=-1 will be ignored. Current value: num_threads=0\n"
     ]
    },
    {
     "name": "stderr",
     "output_type": "stream",
     "text": [
      "[I 2023-06-11 02:35:46,816] Trial 483 finished with value: 0.5954301075268817 and parameters: {'model_type': 'lgbm', 'num_leaves': 773, 'boosting_type': 'gbdt', 'n_estimators': 491, 'learning_rate': 0.05, 'min_data_in_leaf': 40, 'feature_fraction': 0.4438682645335532, 'bagging_fraction': 0.14087610293470984, 'bagging_freq': 305, 'alpha': 29.669923661452646, 'reg_lambda': 37.565525729683294}. Best is trial 442 with value: 0.5806451612903226.\n"
     ]
    },
    {
     "name": "stdout",
     "output_type": "stream",
     "text": [
      "[LightGBM] [Warning] bagging_fraction is set=0.14209367370440287, subsample=1.0 will be ignored. Current value: bagging_fraction=0.14209367370440287\n",
      "[LightGBM] [Warning] feature_fraction is set=0.4345624558832762, colsample_bytree=1.0 will be ignored. Current value: feature_fraction=0.4345624558832762\n",
      "[LightGBM] [Warning] bagging_freq is set=241, subsample_freq=0 will be ignored. Current value: bagging_freq=241\n",
      "[LightGBM] [Warning] min_data_in_leaf is set=40, min_child_samples=20 will be ignored. Current value: min_data_in_leaf=40\n",
      "[LightGBM] [Warning] num_threads is set=0, n_jobs=-1 will be ignored. Current value: num_threads=0\n"
     ]
    },
    {
     "name": "stderr",
     "output_type": "stream",
     "text": [
      "[I 2023-06-11 02:35:48,194] Trial 484 finished with value: 0.6048387096774194 and parameters: {'model_type': 'lgbm', 'num_leaves': 805, 'boosting_type': 'gbdt', 'n_estimators': 500, 'learning_rate': 0.05, 'min_data_in_leaf': 40, 'feature_fraction': 0.4345624558832762, 'bagging_fraction': 0.14209367370440287, 'bagging_freq': 241, 'alpha': 29.7725776394259, 'reg_lambda': 37.70939551502477}. Best is trial 442 with value: 0.5806451612903226.\n"
     ]
    },
    {
     "name": "stdout",
     "output_type": "stream",
     "text": [
      "[LightGBM] [Warning] bagging_fraction is set=0.15895034846462106, subsample=1.0 will be ignored. Current value: bagging_fraction=0.15895034846462106\n",
      "[LightGBM] [Warning] feature_fraction is set=0.44623557570768685, colsample_bytree=1.0 will be ignored. Current value: feature_fraction=0.44623557570768685\n",
      "[LightGBM] [Warning] bagging_freq is set=305, subsample_freq=0 will be ignored. Current value: bagging_freq=305\n",
      "[LightGBM] [Warning] min_data_in_leaf is set=40, min_child_samples=20 will be ignored. Current value: min_data_in_leaf=40\n",
      "[LightGBM] [Warning] num_threads is set=0, n_jobs=-1 will be ignored. Current value: num_threads=0\n"
     ]
    },
    {
     "name": "stderr",
     "output_type": "stream",
     "text": [
      "[I 2023-06-11 02:35:49,609] Trial 485 finished with value: 0.6209677419354839 and parameters: {'model_type': 'lgbm', 'num_leaves': 772, 'boosting_type': 'gbdt', 'n_estimators': 477, 'learning_rate': 0.05, 'min_data_in_leaf': 40, 'feature_fraction': 0.44623557570768685, 'bagging_fraction': 0.15895034846462106, 'bagging_freq': 305, 'alpha': 29.858635956724918, 'reg_lambda': 37.883660754054624}. Best is trial 442 with value: 0.5806451612903226.\n"
     ]
    },
    {
     "name": "stdout",
     "output_type": "stream",
     "text": [
      "[LightGBM] [Warning] bagging_fraction is set=0.15319198094613107, subsample=1.0 will be ignored. Current value: bagging_fraction=0.15319198094613107\n",
      "[LightGBM] [Warning] feature_fraction is set=0.4456700370516736, colsample_bytree=1.0 will be ignored. Current value: feature_fraction=0.4456700370516736\n",
      "[LightGBM] [Warning] bagging_freq is set=302, subsample_freq=0 will be ignored. Current value: bagging_freq=302\n",
      "[LightGBM] [Warning] min_data_in_leaf is set=40, min_child_samples=20 will be ignored. Current value: min_data_in_leaf=40\n",
      "[LightGBM] [Warning] num_threads is set=0, n_jobs=-1 will be ignored. Current value: num_threads=0\n"
     ]
    },
    {
     "name": "stderr",
     "output_type": "stream",
     "text": [
      "[I 2023-06-11 02:35:51,032] Trial 486 finished with value: 0.625 and parameters: {'model_type': 'lgbm', 'num_leaves': 787, 'boosting_type': 'gbdt', 'n_estimators': 492, 'learning_rate': 0.05, 'min_data_in_leaf': 40, 'feature_fraction': 0.4456700370516736, 'bagging_fraction': 0.15319198094613107, 'bagging_freq': 302, 'alpha': 28.830743479552833, 'reg_lambda': 36.84439309501173}. Best is trial 442 with value: 0.5806451612903226.\n"
     ]
    },
    {
     "name": "stdout",
     "output_type": "stream",
     "text": [
      "[LightGBM] [Warning] min_data_in_leaf is set=40, min_child_samples=20 will be ignored. Current value: min_data_in_leaf=40\n",
      "[LightGBM] [Warning] num_threads is set=0, n_jobs=-1 will be ignored. Current value: num_threads=0\n"
     ]
    },
    {
     "name": "stderr",
     "output_type": "stream",
     "text": [
      "[I 2023-06-11 02:35:53,708] Trial 487 finished with value: 0.6344086021505376 and parameters: {'model_type': 'lgbm', 'num_leaves': 810, 'boosting_type': 'goss', 'learning_rate': 0.05, 'min_data_in_leaf': 40, 'top_rate': 0.8368785090834185}. Best is trial 442 with value: 0.5806451612903226.\n"
     ]
    },
    {
     "name": "stdout",
     "output_type": "stream",
     "text": [
      "[LightGBM] [Warning] bagging_fraction is set=0.1661464641957799, subsample=1.0 will be ignored. Current value: bagging_fraction=0.1661464641957799\n",
      "[LightGBM] [Warning] feature_fraction is set=0.4369428428994667, colsample_bytree=1.0 will be ignored. Current value: feature_fraction=0.4369428428994667\n",
      "[LightGBM] [Warning] bagging_freq is set=292, subsample_freq=0 will be ignored. Current value: bagging_freq=292\n",
      "[LightGBM] [Warning] min_data_in_leaf is set=40, min_child_samples=20 will be ignored. Current value: min_data_in_leaf=40\n",
      "[LightGBM] [Warning] num_threads is set=0, n_jobs=-1 will be ignored. Current value: num_threads=0\n"
     ]
    },
    {
     "name": "stderr",
     "output_type": "stream",
     "text": [
      "[I 2023-06-11 02:35:55,220] Trial 488 finished with value: 0.6102150537634409 and parameters: {'model_type': 'lgbm', 'num_leaves': 819, 'boosting_type': 'gbdt', 'n_estimators': 482, 'learning_rate': 0.05, 'min_data_in_leaf': 40, 'feature_fraction': 0.4369428428994667, 'bagging_fraction': 0.1661464641957799, 'bagging_freq': 292, 'alpha': 29.27011856608773, 'reg_lambda': 36.90839190267759}. Best is trial 442 with value: 0.5806451612903226.\n"
     ]
    },
    {
     "name": "stdout",
     "output_type": "stream",
     "text": [
      "[LightGBM] [Warning] bagging_fraction is set=0.14088101885167545, subsample=1.0 will be ignored. Current value: bagging_fraction=0.14088101885167545\n",
      "[LightGBM] [Warning] feature_fraction is set=0.448706239117157, colsample_bytree=1.0 will be ignored. Current value: feature_fraction=0.448706239117157\n",
      "[LightGBM] [Warning] bagging_freq is set=276, subsample_freq=0 will be ignored. Current value: bagging_freq=276\n",
      "[LightGBM] [Warning] min_data_in_leaf is set=40, min_child_samples=20 will be ignored. Current value: min_data_in_leaf=40\n",
      "[LightGBM] [Warning] num_threads is set=0, n_jobs=-1 will be ignored. Current value: num_threads=0\n"
     ]
    },
    {
     "name": "stderr",
     "output_type": "stream",
     "text": [
      "[I 2023-06-11 02:35:56,550] Trial 489 finished with value: 0.5954301075268817 and parameters: {'model_type': 'lgbm', 'num_leaves': 786, 'boosting_type': 'gbdt', 'n_estimators': 491, 'learning_rate': 0.05, 'min_data_in_leaf': 40, 'feature_fraction': 0.448706239117157, 'bagging_fraction': 0.14088101885167545, 'bagging_freq': 276, 'alpha': 29.963891887366895, 'reg_lambda': 37.6590616470144}. Best is trial 442 with value: 0.5806451612903226.\n"
     ]
    },
    {
     "name": "stdout",
     "output_type": "stream",
     "text": [
      "[LightGBM] [Warning] bagging_fraction is set=0.14313638321686223, subsample=1.0 will be ignored. Current value: bagging_fraction=0.14313638321686223\n",
      "[LightGBM] [Warning] feature_fraction is set=0.43263293673607467, colsample_bytree=1.0 will be ignored. Current value: feature_fraction=0.43263293673607467\n",
      "[LightGBM] [Warning] bagging_freq is set=274, subsample_freq=0 will be ignored. Current value: bagging_freq=274\n",
      "[LightGBM] [Warning] min_data_in_leaf is set=40, min_child_samples=20 will be ignored. Current value: min_data_in_leaf=40\n",
      "[LightGBM] [Warning] num_threads is set=0, n_jobs=-1 will be ignored. Current value: num_threads=0\n"
     ]
    },
    {
     "name": "stderr",
     "output_type": "stream",
     "text": [
      "[I 2023-06-11 02:35:57,883] Trial 490 finished with value: 0.5967741935483871 and parameters: {'model_type': 'lgbm', 'num_leaves': 792, 'boosting_type': 'gbdt', 'n_estimators': 479, 'learning_rate': 0.05, 'min_data_in_leaf': 40, 'feature_fraction': 0.43263293673607467, 'bagging_fraction': 0.14313638321686223, 'bagging_freq': 274, 'alpha': 30.01835828330925, 'reg_lambda': 37.91867302142751}. Best is trial 442 with value: 0.5806451612903226.\n"
     ]
    },
    {
     "name": "stdout",
     "output_type": "stream",
     "text": [
      "[LightGBM] [Warning] bagging_fraction is set=0.12028207364240578, subsample=1.0 will be ignored. Current value: bagging_fraction=0.12028207364240578\n",
      "[LightGBM] [Warning] feature_fraction is set=0.4484627093139489, colsample_bytree=1.0 will be ignored. Current value: feature_fraction=0.4484627093139489\n",
      "[LightGBM] [Warning] bagging_freq is set=257, subsample_freq=0 will be ignored. Current value: bagging_freq=257\n",
      "[LightGBM] [Warning] min_data_in_leaf is set=40, min_child_samples=20 will be ignored. Current value: min_data_in_leaf=40\n",
      "[LightGBM] [Warning] num_threads is set=0, n_jobs=-1 will be ignored. Current value: num_threads=0\n"
     ]
    },
    {
     "name": "stderr",
     "output_type": "stream",
     "text": [
      "[I 2023-06-11 02:35:59,161] Trial 491 finished with value: 0.5994623655913979 and parameters: {'model_type': 'lgbm', 'num_leaves': 818, 'boosting_type': 'gbdt', 'n_estimators': 489, 'learning_rate': 0.05, 'min_data_in_leaf': 40, 'feature_fraction': 0.4484627093139489, 'bagging_fraction': 0.12028207364240578, 'bagging_freq': 257, 'alpha': 30.01258181383826, 'reg_lambda': 36.41394179604356}. Best is trial 442 with value: 0.5806451612903226.\n"
     ]
    },
    {
     "name": "stdout",
     "output_type": "stream",
     "text": [
      "[LightGBM] [Warning] bagging_fraction is set=0.15478873830677525, subsample=1.0 will be ignored. Current value: bagging_fraction=0.15478873830677525\n",
      "[LightGBM] [Warning] feature_fraction is set=0.4391688495219859, colsample_bytree=1.0 will be ignored. Current value: feature_fraction=0.4391688495219859\n",
      "[LightGBM] [Warning] bagging_freq is set=230, subsample_freq=0 will be ignored. Current value: bagging_freq=230\n",
      "[LightGBM] [Warning] min_data_in_leaf is set=40, min_child_samples=20 will be ignored. Current value: min_data_in_leaf=40\n",
      "[LightGBM] [Warning] num_threads is set=0, n_jobs=-1 will be ignored. Current value: num_threads=0\n"
     ]
    },
    {
     "name": "stderr",
     "output_type": "stream",
     "text": [
      "[I 2023-06-11 02:36:00,581] Trial 492 finished with value: 0.6290322580645161 and parameters: {'model_type': 'lgbm', 'num_leaves': 782, 'boosting_type': 'gbdt', 'n_estimators': 490, 'learning_rate': 0.05, 'min_data_in_leaf': 40, 'feature_fraction': 0.4391688495219859, 'bagging_fraction': 0.15478873830677525, 'bagging_freq': 230, 'alpha': 30.39873800034954, 'reg_lambda': 36.97202156343379}. Best is trial 442 with value: 0.5806451612903226.\n"
     ]
    },
    {
     "name": "stdout",
     "output_type": "stream",
     "text": [
      "[LightGBM] [Warning] bagging_fraction is set=0.14173901305568473, subsample=1.0 will be ignored. Current value: bagging_fraction=0.14173901305568473\n",
      "[LightGBM] [Warning] feature_fraction is set=0.45256129360119235, colsample_bytree=1.0 will be ignored. Current value: feature_fraction=0.45256129360119235\n",
      "[LightGBM] [Warning] bagging_freq is set=266, subsample_freq=0 will be ignored. Current value: bagging_freq=266\n",
      "[LightGBM] [Warning] min_data_in_leaf is set=40, min_child_samples=20 will be ignored. Current value: min_data_in_leaf=40\n",
      "[LightGBM] [Warning] num_threads is set=0, n_jobs=-1 will be ignored. Current value: num_threads=0\n"
     ]
    },
    {
     "name": "stderr",
     "output_type": "stream",
     "text": [
      "[I 2023-06-11 02:36:01,929] Trial 493 finished with value: 0.5860215053763441 and parameters: {'model_type': 'lgbm', 'num_leaves': 802, 'boosting_type': 'gbdt', 'n_estimators': 478, 'learning_rate': 0.05, 'min_data_in_leaf': 40, 'feature_fraction': 0.45256129360119235, 'bagging_fraction': 0.14173901305568473, 'bagging_freq': 266, 'alpha': 29.674123190372907, 'reg_lambda': 37.88871799506492}. Best is trial 442 with value: 0.5806451612903226.\n"
     ]
    },
    {
     "name": "stdout",
     "output_type": "stream",
     "text": [
      "[LightGBM] [Warning] bagging_fraction is set=0.1413472656796893, subsample=1.0 will be ignored. Current value: bagging_fraction=0.1413472656796893\n",
      "[LightGBM] [Warning] feature_fraction is set=0.4499557676038994, colsample_bytree=1.0 will be ignored. Current value: feature_fraction=0.4499557676038994\n",
      "[LightGBM] [Warning] bagging_freq is set=249, subsample_freq=0 will be ignored. Current value: bagging_freq=249\n",
      "[LightGBM] [Warning] min_data_in_leaf is set=40, min_child_samples=20 will be ignored. Current value: min_data_in_leaf=40\n",
      "[LightGBM] [Warning] num_threads is set=0, n_jobs=-1 will be ignored. Current value: num_threads=0\n"
     ]
    },
    {
     "name": "stderr",
     "output_type": "stream",
     "text": [
      "[I 2023-06-11 02:36:03,289] Trial 494 finished with value: 0.5913978494623656 and parameters: {'model_type': 'lgbm', 'num_leaves': 799, 'boosting_type': 'gbdt', 'n_estimators': 483, 'learning_rate': 0.05, 'min_data_in_leaf': 40, 'feature_fraction': 0.4499557676038994, 'bagging_fraction': 0.1413472656796893, 'bagging_freq': 249, 'alpha': 28.871935579137922, 'reg_lambda': 38.11572850312058}. Best is trial 442 with value: 0.5806451612903226.\n"
     ]
    },
    {
     "name": "stdout",
     "output_type": "stream",
     "text": [
      "[LightGBM] [Warning] bagging_fraction is set=0.14458972932119285, subsample=1.0 will be ignored. Current value: bagging_fraction=0.14458972932119285\n",
      "[LightGBM] [Warning] feature_fraction is set=0.4507448863816746, colsample_bytree=1.0 will be ignored. Current value: feature_fraction=0.4507448863816746\n",
      "[LightGBM] [Warning] bagging_freq is set=251, subsample_freq=0 will be ignored. Current value: bagging_freq=251\n",
      "[LightGBM] [Warning] min_data_in_leaf is set=40, min_child_samples=20 will be ignored. Current value: min_data_in_leaf=40\n",
      "[LightGBM] [Warning] num_threads is set=0, n_jobs=-1 will be ignored. Current value: num_threads=0\n"
     ]
    },
    {
     "name": "stderr",
     "output_type": "stream",
     "text": [
      "[I 2023-06-11 02:36:04,678] Trial 495 finished with value: 0.5967741935483871 and parameters: {'model_type': 'lgbm', 'num_leaves': 799, 'boosting_type': 'gbdt', 'n_estimators': 476, 'learning_rate': 0.05, 'min_data_in_leaf': 40, 'feature_fraction': 0.4507448863816746, 'bagging_fraction': 0.14458972932119285, 'bagging_freq': 251, 'alpha': 28.454577500246, 'reg_lambda': 38.14118090164635}. Best is trial 442 with value: 0.5806451612903226.\n"
     ]
    },
    {
     "name": "stdout",
     "output_type": "stream",
     "text": [
      "[LightGBM] [Warning] bagging_fraction is set=0.5011159445995891, subsample=1.0 will be ignored. Current value: bagging_fraction=0.5011159445995891\n",
      "[LightGBM] [Warning] bagging_freq is set=236, subsample_freq=0 will be ignored. Current value: bagging_freq=236\n",
      "[LightGBM] [Warning] min_data_in_leaf is set=17, min_child_samples=20 will be ignored. Current value: min_data_in_leaf=17\n",
      "[LightGBM] [Warning] num_threads is set=0, n_jobs=-1 will be ignored. Current value: num_threads=0\n"
     ]
    },
    {
     "name": "stderr",
     "output_type": "stream",
     "text": [
      "[I 2023-06-11 02:36:12,763] Trial 496 finished with value: 0.6706989247311828 and parameters: {'model_type': 'lgbm', 'num_leaves': 826, 'boosting_type': 'rf', 'n_estimators': 500, 'feature_fraction_bynode': 0.029153234979477406, 'bagging_fraction': 0.5011159445995891, 'bagging_freq': 236, 'min_data_in_leaf': 17, 'alpha': 16.801066785844455, 'reg_lambda': 18.623831694747807}. Best is trial 442 with value: 0.5806451612903226.\n"
     ]
    },
    {
     "name": "stdout",
     "output_type": "stream",
     "text": [
      "[LightGBM] [Warning] bagging_fraction is set=0.11636766513389424, subsample=1.0 will be ignored. Current value: bagging_fraction=0.11636766513389424\n",
      "[LightGBM] [Warning] feature_fraction is set=0.45062685250977874, colsample_bytree=1.0 will be ignored. Current value: feature_fraction=0.45062685250977874\n",
      "[LightGBM] [Warning] bagging_freq is set=287, subsample_freq=0 will be ignored. Current value: bagging_freq=287\n",
      "[LightGBM] [Warning] min_data_in_leaf is set=40, min_child_samples=20 will be ignored. Current value: min_data_in_leaf=40\n",
      "[LightGBM] [Warning] num_threads is set=0, n_jobs=-1 will be ignored. Current value: num_threads=0\n"
     ]
    },
    {
     "name": "stderr",
     "output_type": "stream",
     "text": [
      "[I 2023-06-11 02:36:13,983] Trial 497 finished with value: 0.6196236559139785 and parameters: {'model_type': 'lgbm', 'num_leaves': 773, 'boosting_type': 'gbdt', 'n_estimators': 480, 'learning_rate': 0.05, 'min_data_in_leaf': 40, 'feature_fraction': 0.45062685250977874, 'bagging_fraction': 0.11636766513389424, 'bagging_freq': 287, 'alpha': 28.84941218489644, 'reg_lambda': 37.67108687323056}. Best is trial 442 with value: 0.5806451612903226.\n"
     ]
    },
    {
     "name": "stdout",
     "output_type": "stream",
     "text": [
      "[LightGBM] [Warning] bagging_fraction is set=0.12781979211490974, subsample=1.0 will be ignored. Current value: bagging_fraction=0.12781979211490974\n",
      "[LightGBM] [Warning] feature_fraction is set=0.4600287931689812, colsample_bytree=1.0 will be ignored. Current value: feature_fraction=0.4600287931689812\n",
      "[LightGBM] [Warning] bagging_freq is set=264, subsample_freq=0 will be ignored. Current value: bagging_freq=264\n",
      "[LightGBM] [Warning] min_data_in_leaf is set=40, min_child_samples=20 will be ignored. Current value: min_data_in_leaf=40\n",
      "[LightGBM] [Warning] num_threads is set=0, n_jobs=-1 will be ignored. Current value: num_threads=0\n"
     ]
    },
    {
     "name": "stderr",
     "output_type": "stream",
     "text": [
      "[I 2023-06-11 02:36:15,225] Trial 498 finished with value: 0.6075268817204301 and parameters: {'model_type': 'lgbm', 'num_leaves': 732, 'boosting_type': 'gbdt', 'n_estimators': 489, 'learning_rate': 0.05, 'min_data_in_leaf': 40, 'feature_fraction': 0.4600287931689812, 'bagging_fraction': 0.12781979211490974, 'bagging_freq': 264, 'alpha': 29.235362770164162, 'reg_lambda': 37.525052857367996}. Best is trial 442 with value: 0.5806451612903226.\n"
     ]
    },
    {
     "name": "stdout",
     "output_type": "stream",
     "text": [
      "[LightGBM] [Warning] bagging_fraction is set=0.14342559667070034, subsample=1.0 will be ignored. Current value: bagging_fraction=0.14342559667070034\n",
      "[LightGBM] [Warning] feature_fraction is set=0.4503688872345291, colsample_bytree=1.0 will be ignored. Current value: feature_fraction=0.4503688872345291\n",
      "[LightGBM] [Warning] bagging_freq is set=279, subsample_freq=0 will be ignored. Current value: bagging_freq=279\n",
      "[LightGBM] [Warning] min_data_in_leaf is set=40, min_child_samples=20 will be ignored. Current value: min_data_in_leaf=40\n",
      "[LightGBM] [Warning] num_threads is set=0, n_jobs=-1 will be ignored. Current value: num_threads=0\n"
     ]
    },
    {
     "name": "stderr",
     "output_type": "stream",
     "text": [
      "[I 2023-06-11 02:36:16,592] Trial 499 finished with value: 0.5900537634408602 and parameters: {'model_type': 'lgbm', 'num_leaves': 801, 'boosting_type': 'gbdt', 'n_estimators': 479, 'learning_rate': 0.05, 'min_data_in_leaf': 40, 'feature_fraction': 0.4503688872345291, 'bagging_fraction': 0.14342559667070034, 'bagging_freq': 279, 'alpha': 29.668897968594734, 'reg_lambda': 38.32014800666397}. Best is trial 442 with value: 0.5806451612903226.\n"
     ]
    }
   ],
   "source": [
    "study = optuna.create_study(direction='minimize')\n",
    "study.optimize(model_selector, n_trials=500)"
   ]
  },
  {
   "cell_type": "code",
   "execution_count": null,
   "id": "bf8dfcab",
   "metadata": {},
   "outputs": [],
   "source": []
  },
  {
   "cell_type": "markdown",
   "id": "0a1768c5",
   "metadata": {},
   "source": [
    "print('Number of finished XGB trials: {}'.format(len(xgb_study.trials)))\n",
    "print('XGB Best trial:')\n",
    "xgb_trial = xgb_study.best_trial\n",
    "\n",
    "print('  Value: {}'.format(xgb_trial.value))\n",
    "print('  Params: ')\n",
    "\n",
    "for key, value in xgb_trial.params.items():\n",
    "    print('    {}: {}'.format(key, value))"
   ]
  },
  {
   "cell_type": "code",
   "execution_count": 115,
   "id": "0046d80f",
   "metadata": {},
   "outputs": [
    {
     "name": "stdout",
     "output_type": "stream",
     "text": [
      "Number of finished study trials: 500\n",
      "study Best trial:\n",
      "  Value: 0.5806451612903226\n",
      "  Params: \n",
      "    model_type: lgbm\n",
      "    num_leaves: 798\n",
      "    boosting_type: gbdt\n",
      "    n_estimators: 490\n",
      "    learning_rate: 0.05\n",
      "    min_data_in_leaf: 40\n",
      "    feature_fraction: 0.45449192945482864\n",
      "    bagging_fraction: 0.14431499041872922\n",
      "    bagging_freq: 276\n",
      "    alpha: 30.198665110640473\n",
      "    reg_lambda: 35.68706449922049\n"
     ]
    }
   ],
   "source": [
    "print('Number of finished study trials: {}'.format(len(study.trials)))\n",
    "print('study Best trial:')\n",
    "study_trial = study.best_trial\n",
    "\n",
    "print('  Value: {}'.format(study_trial.value))\n",
    "print('  Params: ')\n",
    "\n",
    "for key, value in study_trial.params.items():\n",
    "    print('    {}: {}'.format(key, value))\n"
   ]
  },
  {
   "cell_type": "code",
   "execution_count": 116,
   "id": "12ac4718",
   "metadata": {},
   "outputs": [
    {
     "name": "stdout",
     "output_type": "stream",
     "text": [
      "[LightGBM] [Warning] Unknown parameter: model_type\n",
      "[LightGBM] [Warning] bagging_fraction is set=0.14431499041872922, subsample=1.0 will be ignored. Current value: bagging_fraction=0.14431499041872922\n",
      "[LightGBM] [Warning] feature_fraction is set=0.45449192945482864, colsample_bytree=1.0 will be ignored. Current value: feature_fraction=0.45449192945482864\n",
      "[LightGBM] [Warning] bagging_freq is set=276, subsample_freq=0 will be ignored. Current value: bagging_freq=276\n",
      "[LightGBM] [Warning] min_data_in_leaf is set=40, min_child_samples=20 will be ignored. Current value: min_data_in_leaf=40\n"
     ]
    },
    {
     "data": {
      "text/html": [
       "<style>#sk-container-id-4 {color: black;background-color: white;}#sk-container-id-4 pre{padding: 0;}#sk-container-id-4 div.sk-toggleable {background-color: white;}#sk-container-id-4 label.sk-toggleable__label {cursor: pointer;display: block;width: 100%;margin-bottom: 0;padding: 0.3em;box-sizing: border-box;text-align: center;}#sk-container-id-4 label.sk-toggleable__label-arrow:before {content: \"▸\";float: left;margin-right: 0.25em;color: #696969;}#sk-container-id-4 label.sk-toggleable__label-arrow:hover:before {color: black;}#sk-container-id-4 div.sk-estimator:hover label.sk-toggleable__label-arrow:before {color: black;}#sk-container-id-4 div.sk-toggleable__content {max-height: 0;max-width: 0;overflow: hidden;text-align: left;background-color: #f0f8ff;}#sk-container-id-4 div.sk-toggleable__content pre {margin: 0.2em;color: black;border-radius: 0.25em;background-color: #f0f8ff;}#sk-container-id-4 input.sk-toggleable__control:checked~div.sk-toggleable__content {max-height: 200px;max-width: 100%;overflow: auto;}#sk-container-id-4 input.sk-toggleable__control:checked~label.sk-toggleable__label-arrow:before {content: \"▾\";}#sk-container-id-4 div.sk-estimator input.sk-toggleable__control:checked~label.sk-toggleable__label {background-color: #d4ebff;}#sk-container-id-4 div.sk-label input.sk-toggleable__control:checked~label.sk-toggleable__label {background-color: #d4ebff;}#sk-container-id-4 input.sk-hidden--visually {border: 0;clip: rect(1px 1px 1px 1px);clip: rect(1px, 1px, 1px, 1px);height: 1px;margin: -1px;overflow: hidden;padding: 0;position: absolute;width: 1px;}#sk-container-id-4 div.sk-estimator {font-family: monospace;background-color: #f0f8ff;border: 1px dotted black;border-radius: 0.25em;box-sizing: border-box;margin-bottom: 0.5em;}#sk-container-id-4 div.sk-estimator:hover {background-color: #d4ebff;}#sk-container-id-4 div.sk-parallel-item::after {content: \"\";width: 100%;border-bottom: 1px solid gray;flex-grow: 1;}#sk-container-id-4 div.sk-label:hover label.sk-toggleable__label {background-color: #d4ebff;}#sk-container-id-4 div.sk-serial::before {content: \"\";position: absolute;border-left: 1px solid gray;box-sizing: border-box;top: 0;bottom: 0;left: 50%;z-index: 0;}#sk-container-id-4 div.sk-serial {display: flex;flex-direction: column;align-items: center;background-color: white;padding-right: 0.2em;padding-left: 0.2em;position: relative;}#sk-container-id-4 div.sk-item {position: relative;z-index: 1;}#sk-container-id-4 div.sk-parallel {display: flex;align-items: stretch;justify-content: center;background-color: white;position: relative;}#sk-container-id-4 div.sk-item::before, #sk-container-id-4 div.sk-parallel-item::before {content: \"\";position: absolute;border-left: 1px solid gray;box-sizing: border-box;top: 0;bottom: 0;left: 50%;z-index: -1;}#sk-container-id-4 div.sk-parallel-item {display: flex;flex-direction: column;z-index: 1;position: relative;background-color: white;}#sk-container-id-4 div.sk-parallel-item:first-child::after {align-self: flex-end;width: 50%;}#sk-container-id-4 div.sk-parallel-item:last-child::after {align-self: flex-start;width: 50%;}#sk-container-id-4 div.sk-parallel-item:only-child::after {width: 0;}#sk-container-id-4 div.sk-dashed-wrapped {border: 1px dashed gray;margin: 0 0.4em 0.5em 0.4em;box-sizing: border-box;padding-bottom: 0.4em;background-color: white;}#sk-container-id-4 div.sk-label label {font-family: monospace;font-weight: bold;display: inline-block;line-height: 1.2em;}#sk-container-id-4 div.sk-label-container {text-align: center;}#sk-container-id-4 div.sk-container {/* jupyter's `normalize.less` sets `[hidden] { display: none; }` but bootstrap.min.css set `[hidden] { display: none !important; }` so we also need the `!important` here to be able to override the default hidden behavior on the sphinx rendered scikit-learn.org. See: https://github.com/scikit-learn/scikit-learn/issues/21755 */display: inline-block !important;position: relative;}#sk-container-id-4 div.sk-text-repr-fallback {display: none;}</style><div id=\"sk-container-id-4\" class=\"sk-top-container\"><div class=\"sk-text-repr-fallback\"><pre>LGBMClassifier(alpha=30.198665110640473, bagging_fraction=0.14431499041872922,\n",
       "               bagging_freq=276, feature_fraction=0.45449192945482864,\n",
       "               learning_rate=0.05, min_data_in_leaf=40, model_type=&#x27;lgbm&#x27;,\n",
       "               n_estimators=490, num_leaves=798, random_state=42,\n",
       "               reg_lambda=35.68706449922049)</pre><b>In a Jupyter environment, please rerun this cell to show the HTML representation or trust the notebook. <br />On GitHub, the HTML representation is unable to render, please try loading this page with nbviewer.org.</b></div><div class=\"sk-container\" hidden><div class=\"sk-item\"><div class=\"sk-estimator sk-toggleable\"><input class=\"sk-toggleable__control sk-hidden--visually\" id=\"sk-estimator-id-4\" type=\"checkbox\" checked><label for=\"sk-estimator-id-4\" class=\"sk-toggleable__label sk-toggleable__label-arrow\">LGBMClassifier</label><div class=\"sk-toggleable__content\"><pre>LGBMClassifier(alpha=30.198665110640473, bagging_fraction=0.14431499041872922,\n",
       "               bagging_freq=276, feature_fraction=0.45449192945482864,\n",
       "               learning_rate=0.05, min_data_in_leaf=40, model_type=&#x27;lgbm&#x27;,\n",
       "               n_estimators=490, num_leaves=798, random_state=42,\n",
       "               reg_lambda=35.68706449922049)</pre></div></div></div></div></div>"
      ],
      "text/plain": [
       "LGBMClassifier(alpha=30.198665110640473, bagging_fraction=0.14431499041872922,\n",
       "               bagging_freq=276, feature_fraction=0.45449192945482864,\n",
       "               learning_rate=0.05, min_data_in_leaf=40, model_type='lgbm',\n",
       "               n_estimators=490, num_leaves=798, random_state=42,\n",
       "               reg_lambda=35.68706449922049)"
      ]
     },
     "execution_count": 116,
     "metadata": {},
     "output_type": "execute_result"
    }
   ],
   "source": [
    "study_best_params = study.best_params\n",
    "study_best_params['random_state'] = 42\n",
    "if study_best_params['model_type'] == 'lgbm':\n",
    "    model = lgb.LGBMClassifier(**study_best_params)\n",
    "elif study_best_params['model_type'] == 'xgb':\n",
    "    model = xgb(**study_best_params)\n",
    "model.fit(X_train, y_train)\n"
   ]
  },
  {
   "cell_type": "code",
   "execution_count": 117,
   "id": "ce8bfc7b",
   "metadata": {},
   "outputs": [],
   "source": [
    "preds = model.predict(X_val)\n",
    "accuracy = accuracy_score(y_val, preds)"
   ]
  },
  {
   "cell_type": "markdown",
   "id": "6b113900",
   "metadata": {},
   "source": [
    "XGB_pred = XGB.predict(X_val)\n",
    "accuracy = accuracy_score(y_val, XGB_pred)\n",
    "print(\"\\nAccuracy after tuning: %.2f%%\" % (accuracy * 100.0))"
   ]
  },
  {
   "cell_type": "code",
   "execution_count": 118,
   "id": "7acfe270",
   "metadata": {},
   "outputs": [
    {
     "name": "stdout",
     "output_type": "stream",
     "text": [
      "-- Best_Model: lgbm --\n",
      "Train ACC : 0.681\n",
      "Val ACC : 0.581\n"
     ]
    }
   ],
   "source": [
    "print(f\"-- Best_Model: {study_best_params['model_type']} --\")\n",
    "print(\"Train ACC : %.3f\" % accuracy_score(y_train, model.predict(X_train)))\n",
    "print(\"Val ACC : %.3f\" % accuracy_score(y_val, model.predict(X_val)))"
   ]
  },
  {
   "cell_type": "code",
   "execution_count": 119,
   "id": "bf2bc25b",
   "metadata": {},
   "outputs": [
    {
     "name": "stdout",
     "output_type": "stream",
     "text": [
      "              precision    recall  f1-score   support\n",
      "\n",
      "           0       0.33      0.28      0.30       245\n",
      "           1       0.67      0.73      0.70       499\n",
      "\n",
      "    accuracy                           0.58       744\n",
      "   macro avg       0.50      0.50      0.50       744\n",
      "weighted avg       0.56      0.58      0.57       744\n",
      "\n"
     ]
    }
   ],
   "source": [
    "print(classification_report(y_val, preds))\n"
   ]
  },
  {
   "cell_type": "code",
   "execution_count": 120,
   "id": "2967f13d",
   "metadata": {},
   "outputs": [
    {
     "name": "stdout",
     "output_type": "stream",
     "text": [
      "          0         1         2         3         4         5         6     \\\n",
      "0    -0.006672 -0.080011 -0.014580 -0.038840  0.048455 -0.040639  0.039663   \n",
      "1    -0.003053 -0.011769 -0.034803 -0.041324 -0.026498 -0.014561  0.012917   \n",
      "2    -0.025638 -0.016005 -0.021478  0.014413  0.048054 -0.036683 -0.034054   \n",
      "3     0.028991  0.036599 -0.059128 -0.030722 -0.017587 -0.028222  0.052064   \n",
      "4     0.036941 -0.039247 -0.026675 -0.006587 -0.022472 -0.016113  0.046348   \n",
      "...        ...       ...       ...       ...       ...       ...       ...   \n",
      "1235 -0.017606 -0.026507 -0.038503 -0.013017  0.036128 -0.006750 -0.023582   \n",
      "1236 -0.001220 -0.002364 -0.025906 -0.023937  0.002847 -0.021732  0.076602   \n",
      "1237  0.001026  0.023440  0.013377  0.016586  0.024960 -0.001395  0.063505   \n",
      "1238  0.001634 -0.000814 -0.014695  0.003300  0.001420  0.028769 -0.025222   \n",
      "1239 -0.058938  0.010668  0.004917 -0.051615  0.033669  0.037903  0.019593   \n",
      "\n",
      "          7         8         9     ...      1526      1527      1528  \\\n",
      "0     0.068547  0.002239 -0.029425  ... -0.012600 -0.023597 -0.003138   \n",
      "1    -0.009658 -0.000563 -0.018914  ... -0.018383 -0.027521  0.004810   \n",
      "2     0.043429 -0.017806 -0.045973  ... -0.023804 -0.017397  0.008190   \n",
      "3    -0.009327  0.006705 -0.008745  ... -0.021711 -0.015069 -0.001111   \n",
      "4    -0.012971  0.029547 -0.051456  ... -0.016862 -0.034918  0.005033   \n",
      "...        ...       ...       ...  ...       ...       ...       ...   \n",
      "1235  0.004234 -0.010011 -0.024067  ... -0.010572 -0.034447 -0.002972   \n",
      "1236 -0.014772 -0.012813 -0.014318  ... -0.000953 -0.013990  0.002872   \n",
      "1237 -0.017101 -0.032935 -0.016052  ... -0.018592 -0.016234  0.018842   \n",
      "1238  0.065449 -0.011581 -0.044858  ...  0.004752  0.003640  0.013376   \n",
      "1239  0.016298 -0.019234 -0.045782  ... -0.027754 -0.020528  0.022163   \n",
      "\n",
      "          1529      1530      1531      1532      1533      1534      1535  \n",
      "0    -0.008353 -0.034796 -0.020804 -0.006913 -0.038063  0.008657 -0.021999  \n",
      "1    -0.006279 -0.019910 -0.044318 -0.049594 -0.022413  0.012250  0.003738  \n",
      "2    -0.010989 -0.014011 -0.041264 -0.009615 -0.012293 -0.000732  0.010219  \n",
      "3    -0.014473 -0.025876 -0.006428 -0.018803 -0.028281 -0.004001 -0.012030  \n",
      "4     0.000040 -0.037341 -0.040531 -0.014745 -0.042890 -0.000467 -0.010147  \n",
      "...        ...       ...       ...       ...       ...       ...       ...  \n",
      "1235 -0.012302 -0.004949 -0.046846 -0.039191 -0.034175 -0.013973  0.006327  \n",
      "1236 -0.030309 -0.013520 -0.053392 -0.012986 -0.014506 -0.011636  0.024630  \n",
      "1237 -0.002355 -0.015415 -0.033917 -0.057270 -0.028927 -0.005387  0.000249  \n",
      "1238 -0.006307 -0.005089 -0.044533 -0.016824 -0.018459 -0.004400  0.022938  \n",
      "1239 -0.013797 -0.022734 -0.028132 -0.043650 -0.025505 -0.002197 -0.011266  \n",
      "\n",
      "[1240 rows x 1536 columns]\n"
     ]
    }
   ],
   "source": [
    "X_test = pd.get_dummies(data=test_x)\n",
    "print(X_test)\n",
    "preds = model.predict(test_x)"
   ]
  },
  {
   "cell_type": "code",
   "execution_count": 121,
   "id": "2ec95d25",
   "metadata": {},
   "outputs": [],
   "source": [
    "sample_submission = pd.read_csv('./sample_submission.csv')\n",
    "final_pred = pd.DataFrame(preds.astype(int))\n",
    "final_pred = final_pred.rename(columns={0:'first_party_winner'})"
   ]
  },
  {
   "cell_type": "code",
   "execution_count": 122,
   "id": "af438c5e",
   "metadata": {},
   "outputs": [
    {
     "data": {
      "text/html": [
       "<div>\n",
       "<style scoped>\n",
       "    .dataframe tbody tr th:only-of-type {\n",
       "        vertical-align: middle;\n",
       "    }\n",
       "\n",
       "    .dataframe tbody tr th {\n",
       "        vertical-align: top;\n",
       "    }\n",
       "\n",
       "    .dataframe thead th {\n",
       "        text-align: right;\n",
       "    }\n",
       "</style>\n",
       "<table border=\"1\" class=\"dataframe\">\n",
       "  <thead>\n",
       "    <tr style=\"text-align: right;\">\n",
       "      <th></th>\n",
       "      <th>first_party_winner</th>\n",
       "    </tr>\n",
       "  </thead>\n",
       "  <tbody>\n",
       "    <tr>\n",
       "      <th>0</th>\n",
       "      <td>1</td>\n",
       "    </tr>\n",
       "    <tr>\n",
       "      <th>1</th>\n",
       "      <td>1</td>\n",
       "    </tr>\n",
       "    <tr>\n",
       "      <th>2</th>\n",
       "      <td>1</td>\n",
       "    </tr>\n",
       "    <tr>\n",
       "      <th>3</th>\n",
       "      <td>1</td>\n",
       "    </tr>\n",
       "    <tr>\n",
       "      <th>4</th>\n",
       "      <td>1</td>\n",
       "    </tr>\n",
       "    <tr>\n",
       "      <th>...</th>\n",
       "      <td>...</td>\n",
       "    </tr>\n",
       "    <tr>\n",
       "      <th>1235</th>\n",
       "      <td>0</td>\n",
       "    </tr>\n",
       "    <tr>\n",
       "      <th>1236</th>\n",
       "      <td>0</td>\n",
       "    </tr>\n",
       "    <tr>\n",
       "      <th>1237</th>\n",
       "      <td>0</td>\n",
       "    </tr>\n",
       "    <tr>\n",
       "      <th>1238</th>\n",
       "      <td>1</td>\n",
       "    </tr>\n",
       "    <tr>\n",
       "      <th>1239</th>\n",
       "      <td>1</td>\n",
       "    </tr>\n",
       "  </tbody>\n",
       "</table>\n",
       "<p>1240 rows × 1 columns</p>\n",
       "</div>"
      ],
      "text/plain": [
       "      first_party_winner\n",
       "0                      1\n",
       "1                      1\n",
       "2                      1\n",
       "3                      1\n",
       "4                      1\n",
       "...                  ...\n",
       "1235                   0\n",
       "1236                   0\n",
       "1237                   0\n",
       "1238                   1\n",
       "1239                   1\n",
       "\n",
       "[1240 rows x 1 columns]"
      ]
     },
     "execution_count": 122,
     "metadata": {},
     "output_type": "execute_result"
    }
   ],
   "source": [
    "final_pred"
   ]
  },
  {
   "cell_type": "code",
   "execution_count": 123,
   "id": "9394f7c8",
   "metadata": {},
   "outputs": [],
   "source": [
    "sample_submission['first_party_winner'] = final_pred['first_party_winner']"
   ]
  },
  {
   "cell_type": "code",
   "execution_count": 124,
   "id": "ae37e9bd",
   "metadata": {},
   "outputs": [
    {
     "data": {
      "text/plain": [
       "1    899\n",
       "0    341\n",
       "Name: first_party_winner, dtype: int64"
      ]
     },
     "execution_count": 124,
     "metadata": {},
     "output_type": "execute_result"
    }
   ],
   "source": [
    "sample_submission['first_party_winner'].value_counts()"
   ]
  },
  {
   "cell_type": "code",
   "execution_count": null,
   "id": "ca45c2d6",
   "metadata": {},
   "outputs": [],
   "source": []
  },
  {
   "cell_type": "code",
   "execution_count": 125,
   "id": "813fff92",
   "metadata": {},
   "outputs": [],
   "source": [
    "sample_submission.to_csv(\"./results/{Model}_submission_{Train:.03f}_{Val:.03f}.csv\".format(Model=study_best_params['model_type'], Train=accuracy_score(y_train, model.predict(X_train)), Val = accuracy_score(y_val, model.predict(X_val))), index=False)\n"
   ]
  },
  {
   "cell_type": "code",
   "execution_count": null,
   "id": "55745403",
   "metadata": {},
   "outputs": [],
   "source": [
    "# XGB_submission = pd.read_csv('./sample_submission.csv')\n",
    "# XGB_pred = pd.DataFrame(XGB_pred.astype(int))\n",
    "# XGB_submission['first_party_winner'] = XGB_pred\n",
    "# XGB_submission.to_csv(\"./Bert_XGB_submission_{Train:.03f}_{Val:.03f}.csv\".format(Train=accuracy_score(y_train, XGB.predict(X_train)), Val = accuracy_score(y_val, XGB.predict(X_val))), index=False)"
   ]
  },
  {
   "cell_type": "code",
   "execution_count": null,
   "id": "9fc45434",
   "metadata": {},
   "outputs": [],
   "source": [
    "XGB_submission"
   ]
  },
  {
   "cell_type": "code",
   "execution_count": null,
   "id": "fa76b24c",
   "metadata": {},
   "outputs": [],
   "source": [
    "LGB_submission"
   ]
  },
  {
   "cell_type": "code",
   "execution_count": null,
   "id": "30d2bed7",
   "metadata": {},
   "outputs": [],
   "source": []
  },
  {
   "cell_type": "code",
   "execution_count": null,
   "id": "e6b1f0d8",
   "metadata": {},
   "outputs": [],
   "source": []
  },
  {
   "cell_type": "code",
   "execution_count": null,
   "id": "29adf1f1",
   "metadata": {},
   "outputs": [],
   "source": []
  },
  {
   "cell_type": "code",
   "execution_count": null,
   "id": "a2aa3fdd",
   "metadata": {},
   "outputs": [],
   "source": []
  },
  {
   "cell_type": "code",
   "execution_count": null,
   "id": "cc8c898e",
   "metadata": {},
   "outputs": [],
   "source": []
  },
  {
   "cell_type": "code",
   "execution_count": null,
   "id": "90078619",
   "metadata": {},
   "outputs": [],
   "source": []
  },
  {
   "cell_type": "code",
   "execution_count": null,
   "id": "b383f318",
   "metadata": {},
   "outputs": [],
   "source": []
  },
  {
   "cell_type": "code",
   "execution_count": null,
   "id": "29a1a235",
   "metadata": {},
   "outputs": [],
   "source": []
  },
  {
   "cell_type": "code",
   "execution_count": null,
   "id": "0bd314bf",
   "metadata": {},
   "outputs": [],
   "source": []
  },
  {
   "cell_type": "code",
   "execution_count": null,
   "id": "84168080",
   "metadata": {},
   "outputs": [],
   "source": []
  },
  {
   "cell_type": "code",
   "execution_count": null,
   "id": "d89ec3c4",
   "metadata": {},
   "outputs": [],
   "source": []
  },
  {
   "cell_type": "code",
   "execution_count": null,
   "id": "4dc9ee1d",
   "metadata": {},
   "outputs": [],
   "source": []
  },
  {
   "cell_type": "code",
   "execution_count": null,
   "id": "9fbede30",
   "metadata": {},
   "outputs": [],
   "source": []
  },
  {
   "cell_type": "code",
   "execution_count": null,
   "id": "fc20e08f",
   "metadata": {},
   "outputs": [],
   "source": []
  },
  {
   "cell_type": "code",
   "execution_count": null,
   "id": "970d2650",
   "metadata": {},
   "outputs": [],
   "source": [
    "# 3D to 2D\n",
    "\n",
    "attention_mask_df = dlc.tensor_2_2d(train_bert_tokenized, 0)\n",
    "input_ids_df = dlc.tensor_2_2d(train_bert_tokenized, 1)\n",
    "token_type_ids_df = dlc.tensor_2_2d(train_bert_tokenized, 2)\n",
    "\n",
    "attention_mask_df.info()\n",
    "print('\\n _______________________________ \\n')\n",
    "input_ids_df.info()\n",
    "print('\\n _______________________________ \\n')\n",
    "token_type_ids_df.info()\n"
   ]
  },
  {
   "cell_type": "code",
   "execution_count": null,
   "id": "0b4903d3",
   "metadata": {},
   "outputs": [],
   "source": [
    "# attention_mask_df.info()\n",
    "attention_mask_df\n",
    "# input_ids_df.info()\n",
    "# input_ids_df\n",
    "# token_type_ids_df.info()\n",
    "# token_type_ids_df\n"
   ]
  },
  {
   "cell_type": "code",
   "execution_count": null,
   "id": "adae125e",
   "metadata": {
    "scrolled": true
   },
   "outputs": [],
   "source": [
    "temp = pd.DataFrame()\n",
    "temp = pd.concat([train_cleansed['ID'], attention_mask_df], axis=1)\n",
    "temp = pd.concat([temp, input_ids_df], axis=1)\n",
    "train_BertToken_df = pd.concat([temp, token_type_ids_df], axis=1)\n",
    "train_BertToken_df\n"
   ]
  },
  {
   "cell_type": "code",
   "execution_count": null,
   "id": "cb0a7d6e",
   "metadata": {},
   "outputs": [],
   "source": [
    "tBTdf = so.right_merger(train_cleansed, train_BertToken_df, 0)\n",
    "tBTdf"
   ]
  },
  {
   "cell_type": "code",
   "execution_count": null,
   "id": "437cbeda",
   "metadata": {},
   "outputs": [],
   "source": []
  },
  {
   "cell_type": "code",
   "execution_count": null,
   "id": "7b3a9613",
   "metadata": {},
   "outputs": [],
   "source": []
  },
  {
   "cell_type": "code",
   "execution_count": null,
   "id": "d369596d",
   "metadata": {},
   "outputs": [],
   "source": [
    "\n"
   ]
  },
  {
   "cell_type": "code",
   "execution_count": null,
   "id": "8acfb622",
   "metadata": {},
   "outputs": [],
   "source": []
  },
  {
   "cell_type": "code",
   "execution_count": null,
   "id": "a80f31d1",
   "metadata": {},
   "outputs": [],
   "source": []
  },
  {
   "cell_type": "code",
   "execution_count": null,
   "id": "0c0818f8",
   "metadata": {},
   "outputs": [],
   "source": []
  },
  {
   "cell_type": "code",
   "execution_count": null,
   "id": "07e7ce3d",
   "metadata": {},
   "outputs": [],
   "source": []
  },
  {
   "cell_type": "code",
   "execution_count": null,
   "id": "1145d24e",
   "metadata": {},
   "outputs": [],
   "source": []
  },
  {
   "cell_type": "code",
   "execution_count": null,
   "id": "5a0007f7",
   "metadata": {},
   "outputs": [],
   "source": []
  }
 ],
 "metadata": {
  "kernelspec": {
   "display_name": "Python 3 (ipykernel)",
   "language": "python",
   "name": "python3"
  },
  "language_info": {
   "codemirror_mode": {
    "name": "ipython",
    "version": 3
   },
   "file_extension": ".py",
   "mimetype": "text/x-python",
   "name": "python",
   "nbconvert_exporter": "python",
   "pygments_lexer": "ipython3",
   "version": "3.10.9"
  }
 },
 "nbformat": 4,
 "nbformat_minor": 5
}
