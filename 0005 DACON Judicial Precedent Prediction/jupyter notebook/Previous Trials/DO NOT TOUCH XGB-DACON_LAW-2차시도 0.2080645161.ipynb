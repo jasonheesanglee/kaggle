{
 "cells": [
  {
   "cell_type": "code",
   "execution_count": null,
   "id": "db0ce4e5",
   "metadata": {},
   "outputs": [],
   "source": [
    "!pip install lightgbm"
   ]
  },
  {
   "cell_type": "code",
   "execution_count": 2,
   "id": "adc258d5",
   "metadata": {},
   "outputs": [
    {
     "name": "stdout",
     "output_type": "stream",
     "text": [
      " ___________________________\n",
      "|                           |\n",
      "|======== YearDream ========|\n",
      "|===========================|\n",
      "|==== DLC Well Imported ====|\n",
      "|===========================|\n",
      "|========= BYJASON =========|\n",
      "|___________________________|\n",
      "\n"
     ]
    }
   ],
   "source": [
    "import pandas as pd\n",
    "import numpy as np\n",
    "import matplotlib.pyplot as plt\n",
    "import seaborn as sns\n",
    "import optuna\n",
    "from dacon_law_class import mean_pooling, text_processor\n",
    "import lightgbm as lgb\n",
    "import re\n",
    "from sentence_transformers import SentenceTransformer\n",
    "from sklearn.model_selection import train_test_split\n",
    "from sklearn.metrics import accuracy_score, classification_report\n",
    "from sklearn.datasets import load_wine\n",
    "from sklearn.preprocessing import LabelEncoder, StandardScaler\n",
    "import torch\n",
    "import torch.nn.functional as F\n",
    "from transformers import AutoTokenizer, AutoModel\n",
    "from tqdm import tqdm\n",
    "from xgboost.sklearn import XGBClassifier as xgb\n",
    "# import xgboost as xgb\n",
    "import warnings\n",
    "warnings.filterwarnings('ignore')"
   ]
  },
  {
   "cell_type": "code",
   "execution_count": 5,
   "id": "247af21d",
   "metadata": {},
   "outputs": [],
   "source": [
    "train = pd.read_csv('../train.csv')\n",
    "test = pd.read_csv('../test.csv')\n",
    "sample_submission = pd.read_csv('../sample_submission.csv')\n",
    "# model = SentenceTransformer('paraphrase-MiniLM-L6-v2')"
   ]
  },
  {
   "cell_type": "code",
   "execution_count": 6,
   "id": "05839546",
   "metadata": {},
   "outputs": [
    {
     "data": {
      "text/html": [
       "<div>\n",
       "<style scoped>\n",
       "    .dataframe tbody tr th:only-of-type {\n",
       "        vertical-align: middle;\n",
       "    }\n",
       "\n",
       "    .dataframe tbody tr th {\n",
       "        vertical-align: top;\n",
       "    }\n",
       "\n",
       "    .dataframe thead th {\n",
       "        text-align: right;\n",
       "    }\n",
       "</style>\n",
       "<table border=\"1\" class=\"dataframe\">\n",
       "  <thead>\n",
       "    <tr style=\"text-align: right;\">\n",
       "      <th></th>\n",
       "      <th>ID</th>\n",
       "      <th>first_party</th>\n",
       "      <th>second_party</th>\n",
       "      <th>facts</th>\n",
       "      <th>first_party_winner</th>\n",
       "    </tr>\n",
       "  </thead>\n",
       "  <tbody>\n",
       "    <tr>\n",
       "      <th>0</th>\n",
       "      <td>TRAIN_0000</td>\n",
       "      <td>Phil A. St. Amant</td>\n",
       "      <td>Herman A. Thompson</td>\n",
       "      <td>On June 27, 1962, Phil St. Amant, a candidate ...</td>\n",
       "      <td>1</td>\n",
       "    </tr>\n",
       "    <tr>\n",
       "      <th>1</th>\n",
       "      <td>TRAIN_0001</td>\n",
       "      <td>Stephen Duncan</td>\n",
       "      <td>Lawrence Owens</td>\n",
       "      <td>Ramon Nelson was riding his bike when he suffe...</td>\n",
       "      <td>0</td>\n",
       "    </tr>\n",
       "    <tr>\n",
       "      <th>2</th>\n",
       "      <td>TRAIN_0002</td>\n",
       "      <td>Billy Joe Magwood</td>\n",
       "      <td>Tony Patterson, Warden, et al.</td>\n",
       "      <td>An Alabama state court convicted Billy Joe Mag...</td>\n",
       "      <td>1</td>\n",
       "    </tr>\n",
       "    <tr>\n",
       "      <th>3</th>\n",
       "      <td>TRAIN_0003</td>\n",
       "      <td>Linkletter</td>\n",
       "      <td>Walker</td>\n",
       "      <td>Victor Linkletter was convicted in state court...</td>\n",
       "      <td>0</td>\n",
       "    </tr>\n",
       "    <tr>\n",
       "      <th>4</th>\n",
       "      <td>TRAIN_0004</td>\n",
       "      <td>William Earl Fikes</td>\n",
       "      <td>Alabama</td>\n",
       "      <td>On April 24, 1953 in Selma, Alabama, an intrud...</td>\n",
       "      <td>1</td>\n",
       "    </tr>\n",
       "    <tr>\n",
       "      <th>...</th>\n",
       "      <td>...</td>\n",
       "      <td>...</td>\n",
       "      <td>...</td>\n",
       "      <td>...</td>\n",
       "      <td>...</td>\n",
       "    </tr>\n",
       "    <tr>\n",
       "      <th>2473</th>\n",
       "      <td>TRAIN_2473</td>\n",
       "      <td>HollyFrontier Cheyenne Refining, LLC, et al.</td>\n",
       "      <td>Renewable Fuels Association, et al.</td>\n",
       "      <td>Congress amended the Clean Air Act through the...</td>\n",
       "      <td>1</td>\n",
       "    </tr>\n",
       "    <tr>\n",
       "      <th>2474</th>\n",
       "      <td>TRAIN_2474</td>\n",
       "      <td>Grupo Mexicano de Desarrollo, S. A.</td>\n",
       "      <td>Alliance Bond Fund, Inc.</td>\n",
       "      <td>Alliance Bond Fund, Inc., an investment fund, ...</td>\n",
       "      <td>1</td>\n",
       "    </tr>\n",
       "    <tr>\n",
       "      <th>2475</th>\n",
       "      <td>TRAIN_2475</td>\n",
       "      <td>Peguero</td>\n",
       "      <td>United States</td>\n",
       "      <td>In 1992, the District Court sentenced Manuel D...</td>\n",
       "      <td>0</td>\n",
       "    </tr>\n",
       "    <tr>\n",
       "      <th>2476</th>\n",
       "      <td>TRAIN_2476</td>\n",
       "      <td>Immigration and Naturalization Service</td>\n",
       "      <td>St. Cyr</td>\n",
       "      <td>On March 8, 1996, Enrico St. Cyr, a lawful per...</td>\n",
       "      <td>0</td>\n",
       "    </tr>\n",
       "    <tr>\n",
       "      <th>2477</th>\n",
       "      <td>TRAIN_2477</td>\n",
       "      <td>Markman</td>\n",
       "      <td>Westview Instruments, Inc.</td>\n",
       "      <td>Herbert Markman owns the patent to a system th...</td>\n",
       "      <td>0</td>\n",
       "    </tr>\n",
       "  </tbody>\n",
       "</table>\n",
       "<p>2478 rows × 5 columns</p>\n",
       "</div>"
      ],
      "text/plain": [
       "              ID                                   first_party  \\\n",
       "0     TRAIN_0000                             Phil A. St. Amant   \n",
       "1     TRAIN_0001                                Stephen Duncan   \n",
       "2     TRAIN_0002                             Billy Joe Magwood   \n",
       "3     TRAIN_0003                                    Linkletter   \n",
       "4     TRAIN_0004                            William Earl Fikes   \n",
       "...          ...                                           ...   \n",
       "2473  TRAIN_2473  HollyFrontier Cheyenne Refining, LLC, et al.   \n",
       "2474  TRAIN_2474           Grupo Mexicano de Desarrollo, S. A.   \n",
       "2475  TRAIN_2475                                       Peguero   \n",
       "2476  TRAIN_2476        Immigration and Naturalization Service   \n",
       "2477  TRAIN_2477                                       Markman   \n",
       "\n",
       "                             second_party  \\\n",
       "0                      Herman A. Thompson   \n",
       "1                          Lawrence Owens   \n",
       "2          Tony Patterson, Warden, et al.   \n",
       "3                                  Walker   \n",
       "4                                 Alabama   \n",
       "...                                   ...   \n",
       "2473  Renewable Fuels Association, et al.   \n",
       "2474             Alliance Bond Fund, Inc.   \n",
       "2475                        United States   \n",
       "2476                              St. Cyr   \n",
       "2477           Westview Instruments, Inc.   \n",
       "\n",
       "                                                  facts  first_party_winner  \n",
       "0     On June 27, 1962, Phil St. Amant, a candidate ...                   1  \n",
       "1     Ramon Nelson was riding his bike when he suffe...                   0  \n",
       "2     An Alabama state court convicted Billy Joe Mag...                   1  \n",
       "3     Victor Linkletter was convicted in state court...                   0  \n",
       "4     On April 24, 1953 in Selma, Alabama, an intrud...                   1  \n",
       "...                                                 ...                 ...  \n",
       "2473  Congress amended the Clean Air Act through the...                   1  \n",
       "2474  Alliance Bond Fund, Inc., an investment fund, ...                   1  \n",
       "2475  In 1992, the District Court sentenced Manuel D...                   0  \n",
       "2476  On March 8, 1996, Enrico St. Cyr, a lawful per...                   0  \n",
       "2477  Herbert Markman owns the patent to a system th...                   0  \n",
       "\n",
       "[2478 rows x 5 columns]"
      ]
     },
     "execution_count": 6,
     "metadata": {},
     "output_type": "execute_result"
    }
   ],
   "source": [
    "train"
   ]
  },
  {
   "cell_type": "code",
   "execution_count": 7,
   "id": "8011b50f",
   "metadata": {},
   "outputs": [
    {
     "data": {
      "text/html": [
       "<div>\n",
       "<style scoped>\n",
       "    .dataframe tbody tr th:only-of-type {\n",
       "        vertical-align: middle;\n",
       "    }\n",
       "\n",
       "    .dataframe tbody tr th {\n",
       "        vertical-align: top;\n",
       "    }\n",
       "\n",
       "    .dataframe thead th {\n",
       "        text-align: right;\n",
       "    }\n",
       "</style>\n",
       "<table border=\"1\" class=\"dataframe\">\n",
       "  <thead>\n",
       "    <tr style=\"text-align: right;\">\n",
       "      <th></th>\n",
       "      <th>ID</th>\n",
       "      <th>first_party</th>\n",
       "      <th>second_party</th>\n",
       "      <th>facts</th>\n",
       "    </tr>\n",
       "  </thead>\n",
       "  <tbody>\n",
       "    <tr>\n",
       "      <th>0</th>\n",
       "      <td>TEST_0000</td>\n",
       "      <td>Salerno</td>\n",
       "      <td>United States</td>\n",
       "      <td>The 1984 Bail Reform Act allowed the federal c...</td>\n",
       "    </tr>\n",
       "    <tr>\n",
       "      <th>1</th>\n",
       "      <td>TEST_0001</td>\n",
       "      <td>Milberg Weiss Bershad Hynes and Lerach</td>\n",
       "      <td>Lexecon, Inc.</td>\n",
       "      <td>Lexecon Inc. was a defendant in a class action...</td>\n",
       "    </tr>\n",
       "    <tr>\n",
       "      <th>2</th>\n",
       "      <td>TEST_0002</td>\n",
       "      <td>No. 07-582\\t Title: \\t Federal Communications ...</td>\n",
       "      <td>Fox Television Stations, Inc., et al.</td>\n",
       "      <td>In 2002 and 2003, Fox Television Stations broa...</td>\n",
       "    </tr>\n",
       "    <tr>\n",
       "      <th>3</th>\n",
       "      <td>TEST_0003</td>\n",
       "      <td>Harold Kaufman</td>\n",
       "      <td>United States</td>\n",
       "      <td>During his trial for armed robbery of a federa...</td>\n",
       "    </tr>\n",
       "    <tr>\n",
       "      <th>4</th>\n",
       "      <td>TEST_0004</td>\n",
       "      <td>Berger</td>\n",
       "      <td>Hanlon</td>\n",
       "      <td>In 1993, a magistrate judge issued a warrant a...</td>\n",
       "    </tr>\n",
       "    <tr>\n",
       "      <th>...</th>\n",
       "      <td>...</td>\n",
       "      <td>...</td>\n",
       "      <td>...</td>\n",
       "      <td>...</td>\n",
       "    </tr>\n",
       "    <tr>\n",
       "      <th>1235</th>\n",
       "      <td>TEST_1235</td>\n",
       "      <td>Haitian Centers Council, Inc., et al.</td>\n",
       "      <td>Chris Sale, Acting Commissioner, Immigration A...</td>\n",
       "      <td>According to Executive Order No. 12807 signed ...</td>\n",
       "    </tr>\n",
       "    <tr>\n",
       "      <th>1236</th>\n",
       "      <td>TEST_1236</td>\n",
       "      <td>Whitman</td>\n",
       "      <td>American Trucking Associations, Inc.</td>\n",
       "      <td>Section 109(a) of the Clean Air Act (CAA) requ...</td>\n",
       "    </tr>\n",
       "    <tr>\n",
       "      <th>1237</th>\n",
       "      <td>TEST_1237</td>\n",
       "      <td>Linda A. Matteo and John J. Madigan</td>\n",
       "      <td>William G. Barr</td>\n",
       "      <td>Linda Matteo and John Madigan created a plan f...</td>\n",
       "    </tr>\n",
       "    <tr>\n",
       "      <th>1238</th>\n",
       "      <td>TEST_1238</td>\n",
       "      <td>Washington State Apple Advertising Commission</td>\n",
       "      <td>Hunt</td>\n",
       "      <td>In 1972, the North Carolina Board of Agricultu...</td>\n",
       "    </tr>\n",
       "    <tr>\n",
       "      <th>1239</th>\n",
       "      <td>TEST_1239</td>\n",
       "      <td>Theodore Stovall</td>\n",
       "      <td>Wilfred Denno, Warden</td>\n",
       "      <td>On August 23, 1961, Dr. Paul Berheldt was stab...</td>\n",
       "    </tr>\n",
       "  </tbody>\n",
       "</table>\n",
       "<p>1240 rows × 4 columns</p>\n",
       "</div>"
      ],
      "text/plain": [
       "             ID                                        first_party  \\\n",
       "0     TEST_0000                                            Salerno   \n",
       "1     TEST_0001             Milberg Weiss Bershad Hynes and Lerach   \n",
       "2     TEST_0002  No. 07-582\\t Title: \\t Federal Communications ...   \n",
       "3     TEST_0003                                    Harold Kaufman    \n",
       "4     TEST_0004                                             Berger   \n",
       "...         ...                                                ...   \n",
       "1235  TEST_1235              Haitian Centers Council, Inc., et al.   \n",
       "1236  TEST_1236                                            Whitman   \n",
       "1237  TEST_1237                Linda A. Matteo and John J. Madigan   \n",
       "1238  TEST_1238      Washington State Apple Advertising Commission   \n",
       "1239  TEST_1239                                   Theodore Stovall   \n",
       "\n",
       "                                           second_party  \\\n",
       "0                                         United States   \n",
       "1                                         Lexecon, Inc.   \n",
       "2                 Fox Television Stations, Inc., et al.   \n",
       "3                                         United States   \n",
       "4                                                Hanlon   \n",
       "...                                                 ...   \n",
       "1235  Chris Sale, Acting Commissioner, Immigration A...   \n",
       "1236               American Trucking Associations, Inc.   \n",
       "1237                                    William G. Barr   \n",
       "1238                                               Hunt   \n",
       "1239                              Wilfred Denno, Warden   \n",
       "\n",
       "                                                  facts  \n",
       "0     The 1984 Bail Reform Act allowed the federal c...  \n",
       "1     Lexecon Inc. was a defendant in a class action...  \n",
       "2     In 2002 and 2003, Fox Television Stations broa...  \n",
       "3     During his trial for armed robbery of a federa...  \n",
       "4     In 1993, a magistrate judge issued a warrant a...  \n",
       "...                                                 ...  \n",
       "1235  According to Executive Order No. 12807 signed ...  \n",
       "1236  Section 109(a) of the Clean Air Act (CAA) requ...  \n",
       "1237  Linda Matteo and John Madigan created a plan f...  \n",
       "1238  In 1972, the North Carolina Board of Agricultu...  \n",
       "1239  On August 23, 1961, Dr. Paul Berheldt was stab...  \n",
       "\n",
       "[1240 rows x 4 columns]"
      ]
     },
     "execution_count": 7,
     "metadata": {},
     "output_type": "execute_result"
    }
   ],
   "source": [
    "test"
   ]
  },
  {
   "cell_type": "code",
   "execution_count": 8,
   "id": "597b85e8",
   "metadata": {},
   "outputs": [
    {
     "data": {
      "text/html": [
       "<div>\n",
       "<style scoped>\n",
       "    .dataframe tbody tr th:only-of-type {\n",
       "        vertical-align: middle;\n",
       "    }\n",
       "\n",
       "    .dataframe tbody tr th {\n",
       "        vertical-align: top;\n",
       "    }\n",
       "\n",
       "    .dataframe thead th {\n",
       "        text-align: right;\n",
       "    }\n",
       "</style>\n",
       "<table border=\"1\" class=\"dataframe\">\n",
       "  <thead>\n",
       "    <tr style=\"text-align: right;\">\n",
       "      <th></th>\n",
       "      <th>ID</th>\n",
       "      <th>first_party_winner</th>\n",
       "    </tr>\n",
       "  </thead>\n",
       "  <tbody>\n",
       "    <tr>\n",
       "      <th>0</th>\n",
       "      <td>TEST_0000</td>\n",
       "      <td>0</td>\n",
       "    </tr>\n",
       "    <tr>\n",
       "      <th>1</th>\n",
       "      <td>TEST_0001</td>\n",
       "      <td>0</td>\n",
       "    </tr>\n",
       "    <tr>\n",
       "      <th>2</th>\n",
       "      <td>TEST_0002</td>\n",
       "      <td>0</td>\n",
       "    </tr>\n",
       "    <tr>\n",
       "      <th>3</th>\n",
       "      <td>TEST_0003</td>\n",
       "      <td>0</td>\n",
       "    </tr>\n",
       "    <tr>\n",
       "      <th>4</th>\n",
       "      <td>TEST_0004</td>\n",
       "      <td>0</td>\n",
       "    </tr>\n",
       "    <tr>\n",
       "      <th>...</th>\n",
       "      <td>...</td>\n",
       "      <td>...</td>\n",
       "    </tr>\n",
       "    <tr>\n",
       "      <th>1235</th>\n",
       "      <td>TEST_1235</td>\n",
       "      <td>0</td>\n",
       "    </tr>\n",
       "    <tr>\n",
       "      <th>1236</th>\n",
       "      <td>TEST_1236</td>\n",
       "      <td>0</td>\n",
       "    </tr>\n",
       "    <tr>\n",
       "      <th>1237</th>\n",
       "      <td>TEST_1237</td>\n",
       "      <td>0</td>\n",
       "    </tr>\n",
       "    <tr>\n",
       "      <th>1238</th>\n",
       "      <td>TEST_1238</td>\n",
       "      <td>0</td>\n",
       "    </tr>\n",
       "    <tr>\n",
       "      <th>1239</th>\n",
       "      <td>TEST_1239</td>\n",
       "      <td>0</td>\n",
       "    </tr>\n",
       "  </tbody>\n",
       "</table>\n",
       "<p>1240 rows × 2 columns</p>\n",
       "</div>"
      ],
      "text/plain": [
       "             ID  first_party_winner\n",
       "0     TEST_0000                   0\n",
       "1     TEST_0001                   0\n",
       "2     TEST_0002                   0\n",
       "3     TEST_0003                   0\n",
       "4     TEST_0004                   0\n",
       "...         ...                 ...\n",
       "1235  TEST_1235                   0\n",
       "1236  TEST_1236                   0\n",
       "1237  TEST_1237                   0\n",
       "1238  TEST_1238                   0\n",
       "1239  TEST_1239                   0\n",
       "\n",
       "[1240 rows x 2 columns]"
      ]
     },
     "execution_count": 8,
     "metadata": {},
     "output_type": "execute_result"
    }
   ],
   "source": [
    "sample_submission"
   ]
  },
  {
   "cell_type": "code",
   "execution_count": 9,
   "id": "eb2ef6ca",
   "metadata": {},
   "outputs": [
    {
     "name": "stdout",
     "output_type": "stream",
     "text": [
      "<class 'pandas.core.frame.DataFrame'>\n",
      "RangeIndex: 2478 entries, 0 to 2477\n",
      "Data columns (total 5 columns):\n",
      " #   Column              Non-Null Count  Dtype \n",
      "---  ------              --------------  ----- \n",
      " 0   ID                  2478 non-null   object\n",
      " 1   first_party         2478 non-null   object\n",
      " 2   second_party        2478 non-null   object\n",
      " 3   facts               2478 non-null   object\n",
      " 4   first_party_winner  2478 non-null   int64 \n",
      "dtypes: int64(1), object(4)\n",
      "memory usage: 96.9+ KB\n",
      "\n",
      "\n",
      "\n",
      "\n",
      "<class 'pandas.core.frame.DataFrame'>\n",
      "RangeIndex: 1240 entries, 0 to 1239\n",
      "Data columns (total 4 columns):\n",
      " #   Column        Non-Null Count  Dtype \n",
      "---  ------        --------------  ----- \n",
      " 0   ID            1240 non-null   object\n",
      " 1   first_party   1240 non-null   object\n",
      " 2   second_party  1240 non-null   object\n",
      " 3   facts         1240 non-null   object\n",
      "dtypes: object(4)\n",
      "memory usage: 38.9+ KB\n"
     ]
    }
   ],
   "source": [
    "train.info()\n",
    "print('\\n\\n\\n')\n",
    "test.info()"
   ]
  },
  {
   "cell_type": "code",
   "execution_count": 10,
   "id": "9b052690",
   "metadata": {
    "scrolled": true
   },
   "outputs": [
    {
     "data": {
      "text/html": [
       "<div>\n",
       "<style scoped>\n",
       "    .dataframe tbody tr th:only-of-type {\n",
       "        vertical-align: middle;\n",
       "    }\n",
       "\n",
       "    .dataframe tbody tr th {\n",
       "        vertical-align: top;\n",
       "    }\n",
       "\n",
       "    .dataframe thead th {\n",
       "        text-align: right;\n",
       "    }\n",
       "</style>\n",
       "<table border=\"1\" class=\"dataframe\">\n",
       "  <thead>\n",
       "    <tr style=\"text-align: right;\">\n",
       "      <th></th>\n",
       "      <th>facts</th>\n",
       "    </tr>\n",
       "  </thead>\n",
       "  <tbody>\n",
       "    <tr>\n",
       "      <th>0</th>\n",
       "      <td>On June 27, 1962, Phil St. Amant, a candidate ...</td>\n",
       "    </tr>\n",
       "    <tr>\n",
       "      <th>1</th>\n",
       "      <td>Ramon Nelson was riding his bike when he suffe...</td>\n",
       "    </tr>\n",
       "    <tr>\n",
       "      <th>2</th>\n",
       "      <td>An Alabama state court convicted Billy Joe Mag...</td>\n",
       "    </tr>\n",
       "    <tr>\n",
       "      <th>3</th>\n",
       "      <td>Victor Linkletter was convicted in state court...</td>\n",
       "    </tr>\n",
       "    <tr>\n",
       "      <th>4</th>\n",
       "      <td>On April 24, 1953 in Selma, Alabama, an intrud...</td>\n",
       "    </tr>\n",
       "    <tr>\n",
       "      <th>...</th>\n",
       "      <td>...</td>\n",
       "    </tr>\n",
       "    <tr>\n",
       "      <th>2473</th>\n",
       "      <td>Congress amended the Clean Air Act through the...</td>\n",
       "    </tr>\n",
       "    <tr>\n",
       "      <th>2474</th>\n",
       "      <td>Alliance Bond Fund, Inc., an investment fund, ...</td>\n",
       "    </tr>\n",
       "    <tr>\n",
       "      <th>2475</th>\n",
       "      <td>In 1992, the District Court sentenced Manuel D...</td>\n",
       "    </tr>\n",
       "    <tr>\n",
       "      <th>2476</th>\n",
       "      <td>On March 8, 1996, Enrico St. Cyr, a lawful per...</td>\n",
       "    </tr>\n",
       "    <tr>\n",
       "      <th>2477</th>\n",
       "      <td>Herbert Markman owns the patent to a system th...</td>\n",
       "    </tr>\n",
       "  </tbody>\n",
       "</table>\n",
       "<p>2478 rows × 1 columns</p>\n",
       "</div>"
      ],
      "text/plain": [
       "                                                  facts\n",
       "0     On June 27, 1962, Phil St. Amant, a candidate ...\n",
       "1     Ramon Nelson was riding his bike when he suffe...\n",
       "2     An Alabama state court convicted Billy Joe Mag...\n",
       "3     Victor Linkletter was convicted in state court...\n",
       "4     On April 24, 1953 in Selma, Alabama, an intrud...\n",
       "...                                                 ...\n",
       "2473  Congress amended the Clean Air Act through the...\n",
       "2474  Alliance Bond Fund, Inc., an investment fund, ...\n",
       "2475  In 1992, the District Court sentenced Manuel D...\n",
       "2476  On March 8, 1996, Enrico St. Cyr, a lawful per...\n",
       "2477  Herbert Markman owns the patent to a system th...\n",
       "\n",
       "[2478 rows x 1 columns]"
      ]
     },
     "execution_count": 10,
     "metadata": {},
     "output_type": "execute_result"
    }
   ],
   "source": [
    "df = pd.DataFrame(train['facts'])\n",
    "df"
   ]
  },
  {
   "cell_type": "code",
   "execution_count": 11,
   "id": "6553fed8",
   "metadata": {
    "scrolled": true
   },
   "outputs": [
    {
     "data": {
      "text/html": [
       "<div>\n",
       "<style scoped>\n",
       "    .dataframe tbody tr th:only-of-type {\n",
       "        vertical-align: middle;\n",
       "    }\n",
       "\n",
       "    .dataframe tbody tr th {\n",
       "        vertical-align: top;\n",
       "    }\n",
       "\n",
       "    .dataframe thead th {\n",
       "        text-align: right;\n",
       "    }\n",
       "</style>\n",
       "<table border=\"1\" class=\"dataframe\">\n",
       "  <thead>\n",
       "    <tr style=\"text-align: right;\">\n",
       "      <th></th>\n",
       "      <th>facts</th>\n",
       "    </tr>\n",
       "  </thead>\n",
       "  <tbody>\n",
       "    <tr>\n",
       "      <th>0</th>\n",
       "      <td>phil amant caidate for public office made tele...</td>\n",
       "    </tr>\n",
       "    <tr>\n",
       "      <th>1</th>\n",
       "      <td>ramon nelson was ridin his bike when he suffer...</td>\n",
       "    </tr>\n",
       "    <tr>\n",
       "      <th>2</th>\n",
       "      <td>an alabama ate court convicted billy joe mawoo...</td>\n",
       "    </tr>\n",
       "    <tr>\n",
       "      <th>3</th>\n",
       "      <td>victor linkletter was convicted in ate court o...</td>\n",
       "    </tr>\n",
       "    <tr>\n",
       "      <th>4</th>\n",
       "      <td>in selma alabama an intruder broke into apartm...</td>\n",
       "    </tr>\n",
       "    <tr>\n",
       "      <th>...</th>\n",
       "      <td>...</td>\n",
       "    </tr>\n",
       "    <tr>\n",
       "      <th>2473</th>\n",
       "      <td>conress ameed clean air act rouh enery policy ...</td>\n",
       "    </tr>\n",
       "    <tr>\n",
       "      <th>2474</th>\n",
       "      <td>alliance bo fu inc an invement fu purchased ap...</td>\n",
       "    </tr>\n",
       "    <tr>\n",
       "      <th>2475</th>\n",
       "      <td>in dirict court sentenced manuel peuero to mon...</td>\n",
       "    </tr>\n",
       "    <tr>\n",
       "      <th>2476</th>\n",
       "      <td>enrico cyr lawful permanent resident pled uilt...</td>\n",
       "    </tr>\n",
       "    <tr>\n",
       "      <th>2477</th>\n",
       "      <td>herbert an owns patent to syem at tracks cloin...</td>\n",
       "    </tr>\n",
       "  </tbody>\n",
       "</table>\n",
       "<p>2478 rows × 1 columns</p>\n",
       "</div>"
      ],
      "text/plain": [
       "                                                  facts\n",
       "0     phil amant caidate for public office made tele...\n",
       "1     ramon nelson was ridin his bike when he suffer...\n",
       "2     an alabama ate court convicted billy joe mawoo...\n",
       "3     victor linkletter was convicted in ate court o...\n",
       "4     in selma alabama an intruder broke into apartm...\n",
       "...                                                 ...\n",
       "2473  conress ameed clean air act rouh enery policy ...\n",
       "2474  alliance bo fu inc an invement fu purchased ap...\n",
       "2475  in dirict court sentenced manuel peuero to mon...\n",
       "2476  enrico cyr lawful permanent resident pled uilt...\n",
       "2477  herbert an owns patent to syem at tracks cloin...\n",
       "\n",
       "[2478 rows x 1 columns]"
      ]
     },
     "execution_count": 11,
     "metadata": {},
     "output_type": "execute_result"
    }
   ],
   "source": [
    "temp = []\n",
    "for i in range(len(df)):\n",
    "    temp.append(text_processor(df['facts'][i]))\n",
    "\n",
    "temp_dict = {\"facts\" : temp}\n",
    "    \n",
    "df = pd.DataFrame(temp_dict)\n",
    "df"
   ]
  },
  {
   "cell_type": "code",
   "execution_count": 12,
   "id": "463e8274",
   "metadata": {
    "scrolled": true
   },
   "outputs": [
    {
     "data": {
      "text/html": [
       "<div>\n",
       "<style scoped>\n",
       "    .dataframe tbody tr th:only-of-type {\n",
       "        vertical-align: middle;\n",
       "    }\n",
       "\n",
       "    .dataframe tbody tr th {\n",
       "        vertical-align: top;\n",
       "    }\n",
       "\n",
       "    .dataframe thead th {\n",
       "        text-align: right;\n",
       "    }\n",
       "</style>\n",
       "<table border=\"1\" class=\"dataframe\">\n",
       "  <thead>\n",
       "    <tr style=\"text-align: right;\">\n",
       "      <th></th>\n",
       "      <th>ID</th>\n",
       "      <th>first_party</th>\n",
       "      <th>second_party</th>\n",
       "      <th>facts</th>\n",
       "      <th>first_party_winner</th>\n",
       "    </tr>\n",
       "  </thead>\n",
       "  <tbody>\n",
       "    <tr>\n",
       "      <th>0</th>\n",
       "      <td>TRAIN_0000</td>\n",
       "      <td>Phil A. St. Amant</td>\n",
       "      <td>Herman A. Thompson</td>\n",
       "      <td>phil amant caidate for public office made tele...</td>\n",
       "      <td>1</td>\n",
       "    </tr>\n",
       "    <tr>\n",
       "      <th>1</th>\n",
       "      <td>TRAIN_0001</td>\n",
       "      <td>Stephen Duncan</td>\n",
       "      <td>Lawrence Owens</td>\n",
       "      <td>ramon nelson was ridin his bike when he suffer...</td>\n",
       "      <td>0</td>\n",
       "    </tr>\n",
       "    <tr>\n",
       "      <th>2</th>\n",
       "      <td>TRAIN_0002</td>\n",
       "      <td>Billy Joe Magwood</td>\n",
       "      <td>Tony Patterson, Warden, et al.</td>\n",
       "      <td>an alabama ate court convicted billy joe mawoo...</td>\n",
       "      <td>1</td>\n",
       "    </tr>\n",
       "    <tr>\n",
       "      <th>3</th>\n",
       "      <td>TRAIN_0003</td>\n",
       "      <td>Linkletter</td>\n",
       "      <td>Walker</td>\n",
       "      <td>victor linkletter was convicted in ate court o...</td>\n",
       "      <td>0</td>\n",
       "    </tr>\n",
       "    <tr>\n",
       "      <th>4</th>\n",
       "      <td>TRAIN_0004</td>\n",
       "      <td>William Earl Fikes</td>\n",
       "      <td>Alabama</td>\n",
       "      <td>in selma alabama an intruder broke into apartm...</td>\n",
       "      <td>1</td>\n",
       "    </tr>\n",
       "    <tr>\n",
       "      <th>...</th>\n",
       "      <td>...</td>\n",
       "      <td>...</td>\n",
       "      <td>...</td>\n",
       "      <td>...</td>\n",
       "      <td>...</td>\n",
       "    </tr>\n",
       "    <tr>\n",
       "      <th>2473</th>\n",
       "      <td>TRAIN_2473</td>\n",
       "      <td>HollyFrontier Cheyenne Refining, LLC, et al.</td>\n",
       "      <td>Renewable Fuels Association, et al.</td>\n",
       "      <td>conress ameed clean air act rouh enery policy ...</td>\n",
       "      <td>1</td>\n",
       "    </tr>\n",
       "    <tr>\n",
       "      <th>2474</th>\n",
       "      <td>TRAIN_2474</td>\n",
       "      <td>Grupo Mexicano de Desarrollo, S. A.</td>\n",
       "      <td>Alliance Bond Fund, Inc.</td>\n",
       "      <td>alliance bo fu inc an invement fu purchased ap...</td>\n",
       "      <td>1</td>\n",
       "    </tr>\n",
       "    <tr>\n",
       "      <th>2475</th>\n",
       "      <td>TRAIN_2475</td>\n",
       "      <td>Peguero</td>\n",
       "      <td>United States</td>\n",
       "      <td>in dirict court sentenced manuel peuero to mon...</td>\n",
       "      <td>0</td>\n",
       "    </tr>\n",
       "    <tr>\n",
       "      <th>2476</th>\n",
       "      <td>TRAIN_2476</td>\n",
       "      <td>Immigration and Naturalization Service</td>\n",
       "      <td>St. Cyr</td>\n",
       "      <td>enrico cyr lawful permanent resident pled uilt...</td>\n",
       "      <td>0</td>\n",
       "    </tr>\n",
       "    <tr>\n",
       "      <th>2477</th>\n",
       "      <td>TRAIN_2477</td>\n",
       "      <td>Markman</td>\n",
       "      <td>Westview Instruments, Inc.</td>\n",
       "      <td>herbert an owns patent to syem at tracks cloin...</td>\n",
       "      <td>0</td>\n",
       "    </tr>\n",
       "  </tbody>\n",
       "</table>\n",
       "<p>2478 rows × 5 columns</p>\n",
       "</div>"
      ],
      "text/plain": [
       "              ID                                   first_party  \\\n",
       "0     TRAIN_0000                             Phil A. St. Amant   \n",
       "1     TRAIN_0001                                Stephen Duncan   \n",
       "2     TRAIN_0002                             Billy Joe Magwood   \n",
       "3     TRAIN_0003                                    Linkletter   \n",
       "4     TRAIN_0004                            William Earl Fikes   \n",
       "...          ...                                           ...   \n",
       "2473  TRAIN_2473  HollyFrontier Cheyenne Refining, LLC, et al.   \n",
       "2474  TRAIN_2474           Grupo Mexicano de Desarrollo, S. A.   \n",
       "2475  TRAIN_2475                                       Peguero   \n",
       "2476  TRAIN_2476        Immigration and Naturalization Service   \n",
       "2477  TRAIN_2477                                       Markman   \n",
       "\n",
       "                             second_party  \\\n",
       "0                      Herman A. Thompson   \n",
       "1                          Lawrence Owens   \n",
       "2          Tony Patterson, Warden, et al.   \n",
       "3                                  Walker   \n",
       "4                                 Alabama   \n",
       "...                                   ...   \n",
       "2473  Renewable Fuels Association, et al.   \n",
       "2474             Alliance Bond Fund, Inc.   \n",
       "2475                        United States   \n",
       "2476                              St. Cyr   \n",
       "2477           Westview Instruments, Inc.   \n",
       "\n",
       "                                                  facts  first_party_winner  \n",
       "0     phil amant caidate for public office made tele...                   1  \n",
       "1     ramon nelson was ridin his bike when he suffer...                   0  \n",
       "2     an alabama ate court convicted billy joe mawoo...                   1  \n",
       "3     victor linkletter was convicted in ate court o...                   0  \n",
       "4     in selma alabama an intruder broke into apartm...                   1  \n",
       "...                                                 ...                 ...  \n",
       "2473  conress ameed clean air act rouh enery policy ...                   1  \n",
       "2474  alliance bo fu inc an invement fu purchased ap...                   1  \n",
       "2475  in dirict court sentenced manuel peuero to mon...                   0  \n",
       "2476  enrico cyr lawful permanent resident pled uilt...                   0  \n",
       "2477  herbert an owns patent to syem at tracks cloin...                   0  \n",
       "\n",
       "[2478 rows x 5 columns]"
      ]
     },
     "execution_count": 12,
     "metadata": {},
     "output_type": "execute_result"
    }
   ],
   "source": [
    "df = pd.concat([train['ID'], df],axis=1)\n",
    "temp = train.drop(columns=['facts', 'first_party_winner'], axis=1)\n",
    "temp = pd.merge(temp, df, how='right', on='ID')\n",
    "temptemp = train.drop(columns=['first_party', 'second_party', 'facts'], axis=1)\n",
    "train_cleansed = pd.merge(temp, temptemp, how='right', on='ID')\n",
    "\n",
    "train_cleansed"
   ]
  },
  {
   "cell_type": "code",
   "execution_count": 13,
   "id": "acd36af6",
   "metadata": {},
   "outputs": [
    {
     "name": "stderr",
     "output_type": "stream",
     "text": [
      "100%|████████████████████████| 2478/2478 [01:08<00:00, 35.95it/s]"
     ]
    },
    {
     "name": "stdout",
     "output_type": "stream",
     "text": [
      "         0         1         2         3         4         5         6    \\\n",
      "0  -0.084586  0.044809 -0.016432 -0.109756  0.018203  0.063628  0.055155   \n",
      "0  -0.085407  0.099032 -0.077048 -0.005445  0.068653  0.056232  0.091459   \n",
      "0  -0.069703  0.010037 -0.029463 -0.048004 -0.063775  0.062738  0.036750   \n",
      "0  -0.035767  0.065843  0.041454 -0.048678  0.031218  0.120635  0.031755   \n",
      "0  -0.094300  0.045971  0.015676 -0.040077  0.018894  0.038688  0.055605   \n",
      "..       ...       ...       ...       ...       ...       ...       ...   \n",
      "0  -0.069269  0.044468  0.045988  0.007961  0.078114  0.031617  0.008722   \n",
      "0  -0.090639  0.025244 -0.054296 -0.027282 -0.086140 -0.005094  0.046781   \n",
      "0  -0.044806  0.075822 -0.002418 -0.047819 -0.018801  0.059968  0.101083   \n",
      "0  -0.069220  0.017232  0.005789 -0.042474 -0.035015  0.026547  0.039012   \n",
      "0  -0.064640 -0.057630 -0.027339 -0.123645 -0.038989  0.019696  0.059252   \n",
      "\n",
      "         7         8         9    ...       374       375       376       377  \\\n",
      "0   0.000317  0.030852  0.028107  ...  0.069664 -0.007974  0.093355  0.047597   \n",
      "0   0.056151 -0.055245  0.040278  ...  0.026423  0.006050  0.015782 -0.016330   \n",
      "0  -0.026244  0.033911  0.013960  ...  0.063877 -0.017928  0.096242 -0.003385   \n",
      "0   0.038023 -0.057590  0.022954  ...  0.043817  0.023443  0.108661 -0.005077   \n",
      "0   0.019271  0.023044  0.069166  ...  0.114352  0.031166  0.041276  0.064298   \n",
      "..       ...       ...       ...  ...       ...       ...       ...       ...   \n",
      "0  -0.009833 -0.086068 -0.025963  ...  0.003805 -0.013601 -0.026617  0.026741   \n",
      "0   0.043694  0.041948 -0.026018  ... -0.007459 -0.054953  0.020888  0.070636   \n",
      "0   0.114109  0.037637  0.055298  ...  0.093023  0.041787  0.055687 -0.010128   \n",
      "0   0.021524 -0.040865  0.018437  ...  0.095564  0.038835  0.017108  0.082195   \n",
      "0   0.043306 -0.008702  0.018296  ... -0.016690  0.051292  0.032013 -0.043857   \n",
      "\n",
      "         378       379       380       381       382       383  \n",
      "0  -0.046467 -0.066715  0.029723  0.009452  0.024468  0.021819  \n",
      "0  -0.128399 -0.024154  0.038394 -0.024557  0.060202 -0.042300  \n",
      "0  -0.026122 -0.077431  0.094061 -0.008745  0.069056  0.009244  \n",
      "0  -0.098669 -0.053012  0.061100  0.070778  0.029561 -0.009112  \n",
      "0  -0.047091 -0.024432  0.014282  0.054617  0.051875  0.014271  \n",
      "..       ...       ...       ...       ...       ...       ...  \n",
      "0  -0.077526 -0.032749  0.094584  0.004847  0.043765  0.001743  \n",
      "0  -0.012312 -0.032366  0.027642 -0.049127  0.093051 -0.049553  \n",
      "0  -0.056995  0.019361  0.010142  0.035674  0.057293  0.014798  \n",
      "0  -0.056198 -0.010763  0.014020  0.047822  0.053216  0.019789  \n",
      "0  -0.029536  0.001195  0.095545 -0.022073  0.060185  0.018074  \n",
      "\n",
      "[2478 rows x 384 columns]\n"
     ]
    },
    {
     "name": "stderr",
     "output_type": "stream",
     "text": [
      "\n"
     ]
    }
   ],
   "source": [
    "tokenizer = AutoTokenizer.from_pretrained('sentence-transformers/all-MiniLM-L6-v2')\n",
    "model = AutoModel.from_pretrained('sentence-transformers/all-MiniLM-L6-v2')\n",
    "\n",
    "combined_se_df = pd.DataFrame()\n",
    "for fact in tqdm(train_cleansed['facts']):\n",
    "    encoded_input = tokenizer(fact, padding=True, truncation=True, return_tensors='pt')\n",
    "    with torch.no_grad():\n",
    "        model_output = model(**encoded_input)\n",
    "    sentence_embeddings = mean_pooling(model_output, encoded_input['attention_mask'])\n",
    "    sentence_embeddings = F.normalize(sentence_embeddings, p=2, dim=1)\n",
    "    se_df = pd.DataFrame(sentence_embeddings)\n",
    "    combined_se_df = pd.concat([combined_se_df, se_df])\n",
    "    \n",
    "print(combined_se_df)"
   ]
  },
  {
   "cell_type": "code",
   "execution_count": 14,
   "id": "3786fde2",
   "metadata": {},
   "outputs": [
    {
     "data": {
      "text/html": [
       "<div>\n",
       "<style scoped>\n",
       "    .dataframe tbody tr th:only-of-type {\n",
       "        vertical-align: middle;\n",
       "    }\n",
       "\n",
       "    .dataframe tbody tr th {\n",
       "        vertical-align: top;\n",
       "    }\n",
       "\n",
       "    .dataframe thead th {\n",
       "        text-align: right;\n",
       "    }\n",
       "</style>\n",
       "<table border=\"1\" class=\"dataframe\">\n",
       "  <thead>\n",
       "    <tr style=\"text-align: right;\">\n",
       "      <th></th>\n",
       "      <th>0</th>\n",
       "      <th>1</th>\n",
       "      <th>2</th>\n",
       "      <th>3</th>\n",
       "      <th>4</th>\n",
       "      <th>5</th>\n",
       "      <th>6</th>\n",
       "      <th>7</th>\n",
       "      <th>8</th>\n",
       "      <th>9</th>\n",
       "      <th>...</th>\n",
       "      <th>374</th>\n",
       "      <th>375</th>\n",
       "      <th>376</th>\n",
       "      <th>377</th>\n",
       "      <th>378</th>\n",
       "      <th>379</th>\n",
       "      <th>380</th>\n",
       "      <th>381</th>\n",
       "      <th>382</th>\n",
       "      <th>383</th>\n",
       "    </tr>\n",
       "    <tr>\n",
       "      <th>ID</th>\n",
       "      <th></th>\n",
       "      <th></th>\n",
       "      <th></th>\n",
       "      <th></th>\n",
       "      <th></th>\n",
       "      <th></th>\n",
       "      <th></th>\n",
       "      <th></th>\n",
       "      <th></th>\n",
       "      <th></th>\n",
       "      <th></th>\n",
       "      <th></th>\n",
       "      <th></th>\n",
       "      <th></th>\n",
       "      <th></th>\n",
       "      <th></th>\n",
       "      <th></th>\n",
       "      <th></th>\n",
       "      <th></th>\n",
       "      <th></th>\n",
       "      <th></th>\n",
       "    </tr>\n",
       "  </thead>\n",
       "  <tbody>\n",
       "    <tr>\n",
       "      <th>TRAIN_0000</th>\n",
       "      <td>-0.084586</td>\n",
       "      <td>0.044809</td>\n",
       "      <td>-0.016432</td>\n",
       "      <td>-0.109756</td>\n",
       "      <td>0.018203</td>\n",
       "      <td>0.063628</td>\n",
       "      <td>0.055155</td>\n",
       "      <td>0.000317</td>\n",
       "      <td>0.030852</td>\n",
       "      <td>0.028107</td>\n",
       "      <td>...</td>\n",
       "      <td>0.069664</td>\n",
       "      <td>-0.007974</td>\n",
       "      <td>0.093355</td>\n",
       "      <td>0.047597</td>\n",
       "      <td>-0.046467</td>\n",
       "      <td>-0.066715</td>\n",
       "      <td>0.029723</td>\n",
       "      <td>0.009452</td>\n",
       "      <td>0.024468</td>\n",
       "      <td>0.021819</td>\n",
       "    </tr>\n",
       "    <tr>\n",
       "      <th>TRAIN_0001</th>\n",
       "      <td>-0.085407</td>\n",
       "      <td>0.099032</td>\n",
       "      <td>-0.077048</td>\n",
       "      <td>-0.005445</td>\n",
       "      <td>0.068653</td>\n",
       "      <td>0.056232</td>\n",
       "      <td>0.091459</td>\n",
       "      <td>0.056151</td>\n",
       "      <td>-0.055245</td>\n",
       "      <td>0.040278</td>\n",
       "      <td>...</td>\n",
       "      <td>0.026423</td>\n",
       "      <td>0.006050</td>\n",
       "      <td>0.015782</td>\n",
       "      <td>-0.016330</td>\n",
       "      <td>-0.128399</td>\n",
       "      <td>-0.024154</td>\n",
       "      <td>0.038394</td>\n",
       "      <td>-0.024557</td>\n",
       "      <td>0.060202</td>\n",
       "      <td>-0.042300</td>\n",
       "    </tr>\n",
       "    <tr>\n",
       "      <th>TRAIN_0002</th>\n",
       "      <td>-0.069703</td>\n",
       "      <td>0.010037</td>\n",
       "      <td>-0.029463</td>\n",
       "      <td>-0.048004</td>\n",
       "      <td>-0.063775</td>\n",
       "      <td>0.062738</td>\n",
       "      <td>0.036750</td>\n",
       "      <td>-0.026244</td>\n",
       "      <td>0.033911</td>\n",
       "      <td>0.013960</td>\n",
       "      <td>...</td>\n",
       "      <td>0.063877</td>\n",
       "      <td>-0.017928</td>\n",
       "      <td>0.096242</td>\n",
       "      <td>-0.003385</td>\n",
       "      <td>-0.026122</td>\n",
       "      <td>-0.077431</td>\n",
       "      <td>0.094061</td>\n",
       "      <td>-0.008745</td>\n",
       "      <td>0.069056</td>\n",
       "      <td>0.009244</td>\n",
       "    </tr>\n",
       "    <tr>\n",
       "      <th>TRAIN_0003</th>\n",
       "      <td>-0.035767</td>\n",
       "      <td>0.065843</td>\n",
       "      <td>0.041454</td>\n",
       "      <td>-0.048678</td>\n",
       "      <td>0.031218</td>\n",
       "      <td>0.120635</td>\n",
       "      <td>0.031755</td>\n",
       "      <td>0.038023</td>\n",
       "      <td>-0.057590</td>\n",
       "      <td>0.022954</td>\n",
       "      <td>...</td>\n",
       "      <td>0.043817</td>\n",
       "      <td>0.023443</td>\n",
       "      <td>0.108661</td>\n",
       "      <td>-0.005077</td>\n",
       "      <td>-0.098669</td>\n",
       "      <td>-0.053012</td>\n",
       "      <td>0.061100</td>\n",
       "      <td>0.070778</td>\n",
       "      <td>0.029561</td>\n",
       "      <td>-0.009112</td>\n",
       "    </tr>\n",
       "    <tr>\n",
       "      <th>TRAIN_0004</th>\n",
       "      <td>-0.094300</td>\n",
       "      <td>0.045971</td>\n",
       "      <td>0.015676</td>\n",
       "      <td>-0.040077</td>\n",
       "      <td>0.018894</td>\n",
       "      <td>0.038688</td>\n",
       "      <td>0.055605</td>\n",
       "      <td>0.019271</td>\n",
       "      <td>0.023044</td>\n",
       "      <td>0.069166</td>\n",
       "      <td>...</td>\n",
       "      <td>0.114352</td>\n",
       "      <td>0.031166</td>\n",
       "      <td>0.041276</td>\n",
       "      <td>0.064298</td>\n",
       "      <td>-0.047091</td>\n",
       "      <td>-0.024432</td>\n",
       "      <td>0.014282</td>\n",
       "      <td>0.054617</td>\n",
       "      <td>0.051875</td>\n",
       "      <td>0.014271</td>\n",
       "    </tr>\n",
       "    <tr>\n",
       "      <th>...</th>\n",
       "      <td>...</td>\n",
       "      <td>...</td>\n",
       "      <td>...</td>\n",
       "      <td>...</td>\n",
       "      <td>...</td>\n",
       "      <td>...</td>\n",
       "      <td>...</td>\n",
       "      <td>...</td>\n",
       "      <td>...</td>\n",
       "      <td>...</td>\n",
       "      <td>...</td>\n",
       "      <td>...</td>\n",
       "      <td>...</td>\n",
       "      <td>...</td>\n",
       "      <td>...</td>\n",
       "      <td>...</td>\n",
       "      <td>...</td>\n",
       "      <td>...</td>\n",
       "      <td>...</td>\n",
       "      <td>...</td>\n",
       "      <td>...</td>\n",
       "    </tr>\n",
       "    <tr>\n",
       "      <th>TRAIN_2473</th>\n",
       "      <td>-0.069269</td>\n",
       "      <td>0.044468</td>\n",
       "      <td>0.045988</td>\n",
       "      <td>0.007961</td>\n",
       "      <td>0.078114</td>\n",
       "      <td>0.031617</td>\n",
       "      <td>0.008722</td>\n",
       "      <td>-0.009833</td>\n",
       "      <td>-0.086068</td>\n",
       "      <td>-0.025963</td>\n",
       "      <td>...</td>\n",
       "      <td>0.003805</td>\n",
       "      <td>-0.013601</td>\n",
       "      <td>-0.026617</td>\n",
       "      <td>0.026741</td>\n",
       "      <td>-0.077526</td>\n",
       "      <td>-0.032749</td>\n",
       "      <td>0.094584</td>\n",
       "      <td>0.004847</td>\n",
       "      <td>0.043765</td>\n",
       "      <td>0.001743</td>\n",
       "    </tr>\n",
       "    <tr>\n",
       "      <th>TRAIN_2474</th>\n",
       "      <td>-0.090639</td>\n",
       "      <td>0.025244</td>\n",
       "      <td>-0.054296</td>\n",
       "      <td>-0.027282</td>\n",
       "      <td>-0.086140</td>\n",
       "      <td>-0.005094</td>\n",
       "      <td>0.046781</td>\n",
       "      <td>0.043694</td>\n",
       "      <td>0.041948</td>\n",
       "      <td>-0.026018</td>\n",
       "      <td>...</td>\n",
       "      <td>-0.007459</td>\n",
       "      <td>-0.054953</td>\n",
       "      <td>0.020888</td>\n",
       "      <td>0.070636</td>\n",
       "      <td>-0.012312</td>\n",
       "      <td>-0.032366</td>\n",
       "      <td>0.027642</td>\n",
       "      <td>-0.049127</td>\n",
       "      <td>0.093051</td>\n",
       "      <td>-0.049553</td>\n",
       "    </tr>\n",
       "    <tr>\n",
       "      <th>TRAIN_2475</th>\n",
       "      <td>-0.044806</td>\n",
       "      <td>0.075822</td>\n",
       "      <td>-0.002418</td>\n",
       "      <td>-0.047819</td>\n",
       "      <td>-0.018801</td>\n",
       "      <td>0.059968</td>\n",
       "      <td>0.101083</td>\n",
       "      <td>0.114109</td>\n",
       "      <td>0.037637</td>\n",
       "      <td>0.055298</td>\n",
       "      <td>...</td>\n",
       "      <td>0.093023</td>\n",
       "      <td>0.041787</td>\n",
       "      <td>0.055687</td>\n",
       "      <td>-0.010128</td>\n",
       "      <td>-0.056995</td>\n",
       "      <td>0.019361</td>\n",
       "      <td>0.010142</td>\n",
       "      <td>0.035674</td>\n",
       "      <td>0.057293</td>\n",
       "      <td>0.014798</td>\n",
       "    </tr>\n",
       "    <tr>\n",
       "      <th>TRAIN_2476</th>\n",
       "      <td>-0.069220</td>\n",
       "      <td>0.017232</td>\n",
       "      <td>0.005789</td>\n",
       "      <td>-0.042474</td>\n",
       "      <td>-0.035015</td>\n",
       "      <td>0.026547</td>\n",
       "      <td>0.039012</td>\n",
       "      <td>0.021524</td>\n",
       "      <td>-0.040865</td>\n",
       "      <td>0.018437</td>\n",
       "      <td>...</td>\n",
       "      <td>0.095564</td>\n",
       "      <td>0.038835</td>\n",
       "      <td>0.017108</td>\n",
       "      <td>0.082195</td>\n",
       "      <td>-0.056198</td>\n",
       "      <td>-0.010763</td>\n",
       "      <td>0.014020</td>\n",
       "      <td>0.047822</td>\n",
       "      <td>0.053216</td>\n",
       "      <td>0.019789</td>\n",
       "    </tr>\n",
       "    <tr>\n",
       "      <th>TRAIN_2477</th>\n",
       "      <td>-0.064640</td>\n",
       "      <td>-0.057630</td>\n",
       "      <td>-0.027339</td>\n",
       "      <td>-0.123645</td>\n",
       "      <td>-0.038989</td>\n",
       "      <td>0.019696</td>\n",
       "      <td>0.059252</td>\n",
       "      <td>0.043306</td>\n",
       "      <td>-0.008702</td>\n",
       "      <td>0.018296</td>\n",
       "      <td>...</td>\n",
       "      <td>-0.016690</td>\n",
       "      <td>0.051292</td>\n",
       "      <td>0.032013</td>\n",
       "      <td>-0.043857</td>\n",
       "      <td>-0.029536</td>\n",
       "      <td>0.001195</td>\n",
       "      <td>0.095545</td>\n",
       "      <td>-0.022073</td>\n",
       "      <td>0.060185</td>\n",
       "      <td>0.018074</td>\n",
       "    </tr>\n",
       "  </tbody>\n",
       "</table>\n",
       "<p>2478 rows × 384 columns</p>\n",
       "</div>"
      ],
      "text/plain": [
       "                 0         1         2         3         4         5    \\\n",
       "ID                                                                       \n",
       "TRAIN_0000 -0.084586  0.044809 -0.016432 -0.109756  0.018203  0.063628   \n",
       "TRAIN_0001 -0.085407  0.099032 -0.077048 -0.005445  0.068653  0.056232   \n",
       "TRAIN_0002 -0.069703  0.010037 -0.029463 -0.048004 -0.063775  0.062738   \n",
       "TRAIN_0003 -0.035767  0.065843  0.041454 -0.048678  0.031218  0.120635   \n",
       "TRAIN_0004 -0.094300  0.045971  0.015676 -0.040077  0.018894  0.038688   \n",
       "...              ...       ...       ...       ...       ...       ...   \n",
       "TRAIN_2473 -0.069269  0.044468  0.045988  0.007961  0.078114  0.031617   \n",
       "TRAIN_2474 -0.090639  0.025244 -0.054296 -0.027282 -0.086140 -0.005094   \n",
       "TRAIN_2475 -0.044806  0.075822 -0.002418 -0.047819 -0.018801  0.059968   \n",
       "TRAIN_2476 -0.069220  0.017232  0.005789 -0.042474 -0.035015  0.026547   \n",
       "TRAIN_2477 -0.064640 -0.057630 -0.027339 -0.123645 -0.038989  0.019696   \n",
       "\n",
       "                 6         7         8         9    ...       374       375  \\\n",
       "ID                                                  ...                       \n",
       "TRAIN_0000  0.055155  0.000317  0.030852  0.028107  ...  0.069664 -0.007974   \n",
       "TRAIN_0001  0.091459  0.056151 -0.055245  0.040278  ...  0.026423  0.006050   \n",
       "TRAIN_0002  0.036750 -0.026244  0.033911  0.013960  ...  0.063877 -0.017928   \n",
       "TRAIN_0003  0.031755  0.038023 -0.057590  0.022954  ...  0.043817  0.023443   \n",
       "TRAIN_0004  0.055605  0.019271  0.023044  0.069166  ...  0.114352  0.031166   \n",
       "...              ...       ...       ...       ...  ...       ...       ...   \n",
       "TRAIN_2473  0.008722 -0.009833 -0.086068 -0.025963  ...  0.003805 -0.013601   \n",
       "TRAIN_2474  0.046781  0.043694  0.041948 -0.026018  ... -0.007459 -0.054953   \n",
       "TRAIN_2475  0.101083  0.114109  0.037637  0.055298  ...  0.093023  0.041787   \n",
       "TRAIN_2476  0.039012  0.021524 -0.040865  0.018437  ...  0.095564  0.038835   \n",
       "TRAIN_2477  0.059252  0.043306 -0.008702  0.018296  ... -0.016690  0.051292   \n",
       "\n",
       "                 376       377       378       379       380       381  \\\n",
       "ID                                                                       \n",
       "TRAIN_0000  0.093355  0.047597 -0.046467 -0.066715  0.029723  0.009452   \n",
       "TRAIN_0001  0.015782 -0.016330 -0.128399 -0.024154  0.038394 -0.024557   \n",
       "TRAIN_0002  0.096242 -0.003385 -0.026122 -0.077431  0.094061 -0.008745   \n",
       "TRAIN_0003  0.108661 -0.005077 -0.098669 -0.053012  0.061100  0.070778   \n",
       "TRAIN_0004  0.041276  0.064298 -0.047091 -0.024432  0.014282  0.054617   \n",
       "...              ...       ...       ...       ...       ...       ...   \n",
       "TRAIN_2473 -0.026617  0.026741 -0.077526 -0.032749  0.094584  0.004847   \n",
       "TRAIN_2474  0.020888  0.070636 -0.012312 -0.032366  0.027642 -0.049127   \n",
       "TRAIN_2475  0.055687 -0.010128 -0.056995  0.019361  0.010142  0.035674   \n",
       "TRAIN_2476  0.017108  0.082195 -0.056198 -0.010763  0.014020  0.047822   \n",
       "TRAIN_2477  0.032013 -0.043857 -0.029536  0.001195  0.095545 -0.022073   \n",
       "\n",
       "                 382       383  \n",
       "ID                              \n",
       "TRAIN_0000  0.024468  0.021819  \n",
       "TRAIN_0001  0.060202 -0.042300  \n",
       "TRAIN_0002  0.069056  0.009244  \n",
       "TRAIN_0003  0.029561 -0.009112  \n",
       "TRAIN_0004  0.051875  0.014271  \n",
       "...              ...       ...  \n",
       "TRAIN_2473  0.043765  0.001743  \n",
       "TRAIN_2474  0.093051 -0.049553  \n",
       "TRAIN_2475  0.057293  0.014798  \n",
       "TRAIN_2476  0.053216  0.019789  \n",
       "TRAIN_2477  0.060185  0.018074  \n",
       "\n",
       "[2478 rows x 384 columns]"
      ]
     },
     "execution_count": 14,
     "metadata": {},
     "output_type": "execute_result"
    }
   ],
   "source": [
    "facts_embeddings = combined_se_df.set_index(train['ID'])\n",
    "facts_embeddings\n"
   ]
  },
  {
   "cell_type": "code",
   "execution_count": 15,
   "id": "5921e287",
   "metadata": {},
   "outputs": [
    {
     "data": {
      "text/html": [
       "<div>\n",
       "<style scoped>\n",
       "    .dataframe tbody tr th:only-of-type {\n",
       "        vertical-align: middle;\n",
       "    }\n",
       "\n",
       "    .dataframe tbody tr th {\n",
       "        vertical-align: top;\n",
       "    }\n",
       "\n",
       "    .dataframe thead th {\n",
       "        text-align: right;\n",
       "    }\n",
       "</style>\n",
       "<table border=\"1\" class=\"dataframe\">\n",
       "  <thead>\n",
       "    <tr style=\"text-align: right;\">\n",
       "      <th></th>\n",
       "      <th>0</th>\n",
       "      <th>1</th>\n",
       "      <th>2</th>\n",
       "      <th>3</th>\n",
       "      <th>4</th>\n",
       "      <th>5</th>\n",
       "      <th>6</th>\n",
       "      <th>7</th>\n",
       "      <th>8</th>\n",
       "      <th>9</th>\n",
       "      <th>...</th>\n",
       "      <th>374</th>\n",
       "      <th>375</th>\n",
       "      <th>376</th>\n",
       "      <th>377</th>\n",
       "      <th>378</th>\n",
       "      <th>379</th>\n",
       "      <th>380</th>\n",
       "      <th>381</th>\n",
       "      <th>382</th>\n",
       "      <th>383</th>\n",
       "    </tr>\n",
       "    <tr>\n",
       "      <th>ID</th>\n",
       "      <th></th>\n",
       "      <th></th>\n",
       "      <th></th>\n",
       "      <th></th>\n",
       "      <th></th>\n",
       "      <th></th>\n",
       "      <th></th>\n",
       "      <th></th>\n",
       "      <th></th>\n",
       "      <th></th>\n",
       "      <th></th>\n",
       "      <th></th>\n",
       "      <th></th>\n",
       "      <th></th>\n",
       "      <th></th>\n",
       "      <th></th>\n",
       "      <th></th>\n",
       "      <th></th>\n",
       "      <th></th>\n",
       "      <th></th>\n",
       "      <th></th>\n",
       "    </tr>\n",
       "  </thead>\n",
       "  <tbody>\n",
       "    <tr>\n",
       "      <th>TRAIN_0000</th>\n",
       "      <td>-0.084586</td>\n",
       "      <td>0.044809</td>\n",
       "      <td>-0.016432</td>\n",
       "      <td>-0.109756</td>\n",
       "      <td>0.018203</td>\n",
       "      <td>0.063628</td>\n",
       "      <td>0.055155</td>\n",
       "      <td>0.000317</td>\n",
       "      <td>0.030852</td>\n",
       "      <td>0.028107</td>\n",
       "      <td>...</td>\n",
       "      <td>0.069664</td>\n",
       "      <td>-0.007974</td>\n",
       "      <td>0.093355</td>\n",
       "      <td>0.047597</td>\n",
       "      <td>-0.046467</td>\n",
       "      <td>-0.066715</td>\n",
       "      <td>0.029723</td>\n",
       "      <td>0.009452</td>\n",
       "      <td>0.024468</td>\n",
       "      <td>0.021819</td>\n",
       "    </tr>\n",
       "    <tr>\n",
       "      <th>TRAIN_0001</th>\n",
       "      <td>-0.085407</td>\n",
       "      <td>0.099032</td>\n",
       "      <td>-0.077048</td>\n",
       "      <td>-0.005445</td>\n",
       "      <td>0.068653</td>\n",
       "      <td>0.056232</td>\n",
       "      <td>0.091459</td>\n",
       "      <td>0.056151</td>\n",
       "      <td>-0.055245</td>\n",
       "      <td>0.040278</td>\n",
       "      <td>...</td>\n",
       "      <td>0.026423</td>\n",
       "      <td>0.006050</td>\n",
       "      <td>0.015782</td>\n",
       "      <td>-0.016330</td>\n",
       "      <td>-0.128399</td>\n",
       "      <td>-0.024154</td>\n",
       "      <td>0.038394</td>\n",
       "      <td>-0.024557</td>\n",
       "      <td>0.060202</td>\n",
       "      <td>-0.042300</td>\n",
       "    </tr>\n",
       "    <tr>\n",
       "      <th>TRAIN_0002</th>\n",
       "      <td>-0.069703</td>\n",
       "      <td>0.010037</td>\n",
       "      <td>-0.029463</td>\n",
       "      <td>-0.048004</td>\n",
       "      <td>-0.063775</td>\n",
       "      <td>0.062738</td>\n",
       "      <td>0.036750</td>\n",
       "      <td>-0.026244</td>\n",
       "      <td>0.033911</td>\n",
       "      <td>0.013960</td>\n",
       "      <td>...</td>\n",
       "      <td>0.063877</td>\n",
       "      <td>-0.017928</td>\n",
       "      <td>0.096242</td>\n",
       "      <td>-0.003385</td>\n",
       "      <td>-0.026122</td>\n",
       "      <td>-0.077431</td>\n",
       "      <td>0.094061</td>\n",
       "      <td>-0.008745</td>\n",
       "      <td>0.069056</td>\n",
       "      <td>0.009244</td>\n",
       "    </tr>\n",
       "    <tr>\n",
       "      <th>TRAIN_0003</th>\n",
       "      <td>-0.035767</td>\n",
       "      <td>0.065843</td>\n",
       "      <td>0.041454</td>\n",
       "      <td>-0.048678</td>\n",
       "      <td>0.031218</td>\n",
       "      <td>0.120635</td>\n",
       "      <td>0.031755</td>\n",
       "      <td>0.038023</td>\n",
       "      <td>-0.057590</td>\n",
       "      <td>0.022954</td>\n",
       "      <td>...</td>\n",
       "      <td>0.043817</td>\n",
       "      <td>0.023443</td>\n",
       "      <td>0.108661</td>\n",
       "      <td>-0.005077</td>\n",
       "      <td>-0.098669</td>\n",
       "      <td>-0.053012</td>\n",
       "      <td>0.061100</td>\n",
       "      <td>0.070778</td>\n",
       "      <td>0.029561</td>\n",
       "      <td>-0.009112</td>\n",
       "    </tr>\n",
       "    <tr>\n",
       "      <th>TRAIN_0004</th>\n",
       "      <td>-0.094300</td>\n",
       "      <td>0.045971</td>\n",
       "      <td>0.015676</td>\n",
       "      <td>-0.040077</td>\n",
       "      <td>0.018894</td>\n",
       "      <td>0.038688</td>\n",
       "      <td>0.055605</td>\n",
       "      <td>0.019271</td>\n",
       "      <td>0.023044</td>\n",
       "      <td>0.069166</td>\n",
       "      <td>...</td>\n",
       "      <td>0.114352</td>\n",
       "      <td>0.031166</td>\n",
       "      <td>0.041276</td>\n",
       "      <td>0.064298</td>\n",
       "      <td>-0.047091</td>\n",
       "      <td>-0.024432</td>\n",
       "      <td>0.014282</td>\n",
       "      <td>0.054617</td>\n",
       "      <td>0.051875</td>\n",
       "      <td>0.014271</td>\n",
       "    </tr>\n",
       "    <tr>\n",
       "      <th>...</th>\n",
       "      <td>...</td>\n",
       "      <td>...</td>\n",
       "      <td>...</td>\n",
       "      <td>...</td>\n",
       "      <td>...</td>\n",
       "      <td>...</td>\n",
       "      <td>...</td>\n",
       "      <td>...</td>\n",
       "      <td>...</td>\n",
       "      <td>...</td>\n",
       "      <td>...</td>\n",
       "      <td>...</td>\n",
       "      <td>...</td>\n",
       "      <td>...</td>\n",
       "      <td>...</td>\n",
       "      <td>...</td>\n",
       "      <td>...</td>\n",
       "      <td>...</td>\n",
       "      <td>...</td>\n",
       "      <td>...</td>\n",
       "      <td>...</td>\n",
       "    </tr>\n",
       "    <tr>\n",
       "      <th>TRAIN_2473</th>\n",
       "      <td>-0.069269</td>\n",
       "      <td>0.044468</td>\n",
       "      <td>0.045988</td>\n",
       "      <td>0.007961</td>\n",
       "      <td>0.078114</td>\n",
       "      <td>0.031617</td>\n",
       "      <td>0.008722</td>\n",
       "      <td>-0.009833</td>\n",
       "      <td>-0.086068</td>\n",
       "      <td>-0.025963</td>\n",
       "      <td>...</td>\n",
       "      <td>0.003805</td>\n",
       "      <td>-0.013601</td>\n",
       "      <td>-0.026617</td>\n",
       "      <td>0.026741</td>\n",
       "      <td>-0.077526</td>\n",
       "      <td>-0.032749</td>\n",
       "      <td>0.094584</td>\n",
       "      <td>0.004847</td>\n",
       "      <td>0.043765</td>\n",
       "      <td>0.001743</td>\n",
       "    </tr>\n",
       "    <tr>\n",
       "      <th>TRAIN_2474</th>\n",
       "      <td>-0.090639</td>\n",
       "      <td>0.025244</td>\n",
       "      <td>-0.054296</td>\n",
       "      <td>-0.027282</td>\n",
       "      <td>-0.086140</td>\n",
       "      <td>-0.005094</td>\n",
       "      <td>0.046781</td>\n",
       "      <td>0.043694</td>\n",
       "      <td>0.041948</td>\n",
       "      <td>-0.026018</td>\n",
       "      <td>...</td>\n",
       "      <td>-0.007459</td>\n",
       "      <td>-0.054953</td>\n",
       "      <td>0.020888</td>\n",
       "      <td>0.070636</td>\n",
       "      <td>-0.012312</td>\n",
       "      <td>-0.032366</td>\n",
       "      <td>0.027642</td>\n",
       "      <td>-0.049127</td>\n",
       "      <td>0.093051</td>\n",
       "      <td>-0.049553</td>\n",
       "    </tr>\n",
       "    <tr>\n",
       "      <th>TRAIN_2475</th>\n",
       "      <td>-0.044806</td>\n",
       "      <td>0.075822</td>\n",
       "      <td>-0.002418</td>\n",
       "      <td>-0.047819</td>\n",
       "      <td>-0.018801</td>\n",
       "      <td>0.059968</td>\n",
       "      <td>0.101083</td>\n",
       "      <td>0.114109</td>\n",
       "      <td>0.037637</td>\n",
       "      <td>0.055298</td>\n",
       "      <td>...</td>\n",
       "      <td>0.093023</td>\n",
       "      <td>0.041787</td>\n",
       "      <td>0.055687</td>\n",
       "      <td>-0.010128</td>\n",
       "      <td>-0.056995</td>\n",
       "      <td>0.019361</td>\n",
       "      <td>0.010142</td>\n",
       "      <td>0.035674</td>\n",
       "      <td>0.057293</td>\n",
       "      <td>0.014798</td>\n",
       "    </tr>\n",
       "    <tr>\n",
       "      <th>TRAIN_2476</th>\n",
       "      <td>-0.069220</td>\n",
       "      <td>0.017232</td>\n",
       "      <td>0.005789</td>\n",
       "      <td>-0.042474</td>\n",
       "      <td>-0.035015</td>\n",
       "      <td>0.026547</td>\n",
       "      <td>0.039012</td>\n",
       "      <td>0.021524</td>\n",
       "      <td>-0.040865</td>\n",
       "      <td>0.018437</td>\n",
       "      <td>...</td>\n",
       "      <td>0.095564</td>\n",
       "      <td>0.038835</td>\n",
       "      <td>0.017108</td>\n",
       "      <td>0.082195</td>\n",
       "      <td>-0.056198</td>\n",
       "      <td>-0.010763</td>\n",
       "      <td>0.014020</td>\n",
       "      <td>0.047822</td>\n",
       "      <td>0.053216</td>\n",
       "      <td>0.019789</td>\n",
       "    </tr>\n",
       "    <tr>\n",
       "      <th>TRAIN_2477</th>\n",
       "      <td>-0.064640</td>\n",
       "      <td>-0.057630</td>\n",
       "      <td>-0.027339</td>\n",
       "      <td>-0.123645</td>\n",
       "      <td>-0.038989</td>\n",
       "      <td>0.019696</td>\n",
       "      <td>0.059252</td>\n",
       "      <td>0.043306</td>\n",
       "      <td>-0.008702</td>\n",
       "      <td>0.018296</td>\n",
       "      <td>...</td>\n",
       "      <td>-0.016690</td>\n",
       "      <td>0.051292</td>\n",
       "      <td>0.032013</td>\n",
       "      <td>-0.043857</td>\n",
       "      <td>-0.029536</td>\n",
       "      <td>0.001195</td>\n",
       "      <td>0.095545</td>\n",
       "      <td>-0.022073</td>\n",
       "      <td>0.060185</td>\n",
       "      <td>0.018074</td>\n",
       "    </tr>\n",
       "  </tbody>\n",
       "</table>\n",
       "<p>2478 rows × 384 columns</p>\n",
       "</div>"
      ],
      "text/plain": [
       "                 0         1         2         3         4         5    \\\n",
       "ID                                                                       \n",
       "TRAIN_0000 -0.084586  0.044809 -0.016432 -0.109756  0.018203  0.063628   \n",
       "TRAIN_0001 -0.085407  0.099032 -0.077048 -0.005445  0.068653  0.056232   \n",
       "TRAIN_0002 -0.069703  0.010037 -0.029463 -0.048004 -0.063775  0.062738   \n",
       "TRAIN_0003 -0.035767  0.065843  0.041454 -0.048678  0.031218  0.120635   \n",
       "TRAIN_0004 -0.094300  0.045971  0.015676 -0.040077  0.018894  0.038688   \n",
       "...              ...       ...       ...       ...       ...       ...   \n",
       "TRAIN_2473 -0.069269  0.044468  0.045988  0.007961  0.078114  0.031617   \n",
       "TRAIN_2474 -0.090639  0.025244 -0.054296 -0.027282 -0.086140 -0.005094   \n",
       "TRAIN_2475 -0.044806  0.075822 -0.002418 -0.047819 -0.018801  0.059968   \n",
       "TRAIN_2476 -0.069220  0.017232  0.005789 -0.042474 -0.035015  0.026547   \n",
       "TRAIN_2477 -0.064640 -0.057630 -0.027339 -0.123645 -0.038989  0.019696   \n",
       "\n",
       "                 6         7         8         9    ...       374       375  \\\n",
       "ID                                                  ...                       \n",
       "TRAIN_0000  0.055155  0.000317  0.030852  0.028107  ...  0.069664 -0.007974   \n",
       "TRAIN_0001  0.091459  0.056151 -0.055245  0.040278  ...  0.026423  0.006050   \n",
       "TRAIN_0002  0.036750 -0.026244  0.033911  0.013960  ...  0.063877 -0.017928   \n",
       "TRAIN_0003  0.031755  0.038023 -0.057590  0.022954  ...  0.043817  0.023443   \n",
       "TRAIN_0004  0.055605  0.019271  0.023044  0.069166  ...  0.114352  0.031166   \n",
       "...              ...       ...       ...       ...  ...       ...       ...   \n",
       "TRAIN_2473  0.008722 -0.009833 -0.086068 -0.025963  ...  0.003805 -0.013601   \n",
       "TRAIN_2474  0.046781  0.043694  0.041948 -0.026018  ... -0.007459 -0.054953   \n",
       "TRAIN_2475  0.101083  0.114109  0.037637  0.055298  ...  0.093023  0.041787   \n",
       "TRAIN_2476  0.039012  0.021524 -0.040865  0.018437  ...  0.095564  0.038835   \n",
       "TRAIN_2477  0.059252  0.043306 -0.008702  0.018296  ... -0.016690  0.051292   \n",
       "\n",
       "                 376       377       378       379       380       381  \\\n",
       "ID                                                                       \n",
       "TRAIN_0000  0.093355  0.047597 -0.046467 -0.066715  0.029723  0.009452   \n",
       "TRAIN_0001  0.015782 -0.016330 -0.128399 -0.024154  0.038394 -0.024557   \n",
       "TRAIN_0002  0.096242 -0.003385 -0.026122 -0.077431  0.094061 -0.008745   \n",
       "TRAIN_0003  0.108661 -0.005077 -0.098669 -0.053012  0.061100  0.070778   \n",
       "TRAIN_0004  0.041276  0.064298 -0.047091 -0.024432  0.014282  0.054617   \n",
       "...              ...       ...       ...       ...       ...       ...   \n",
       "TRAIN_2473 -0.026617  0.026741 -0.077526 -0.032749  0.094584  0.004847   \n",
       "TRAIN_2474  0.020888  0.070636 -0.012312 -0.032366  0.027642 -0.049127   \n",
       "TRAIN_2475  0.055687 -0.010128 -0.056995  0.019361  0.010142  0.035674   \n",
       "TRAIN_2476  0.017108  0.082195 -0.056198 -0.010763  0.014020  0.047822   \n",
       "TRAIN_2477  0.032013 -0.043857 -0.029536  0.001195  0.095545 -0.022073   \n",
       "\n",
       "                 382       383  \n",
       "ID                              \n",
       "TRAIN_0000  0.024468  0.021819  \n",
       "TRAIN_0001  0.060202 -0.042300  \n",
       "TRAIN_0002  0.069056  0.009244  \n",
       "TRAIN_0003  0.029561 -0.009112  \n",
       "TRAIN_0004  0.051875  0.014271  \n",
       "...              ...       ...  \n",
       "TRAIN_2473  0.043765  0.001743  \n",
       "TRAIN_2474  0.093051 -0.049553  \n",
       "TRAIN_2475  0.057293  0.014798  \n",
       "TRAIN_2476  0.053216  0.019789  \n",
       "TRAIN_2477  0.060185  0.018074  \n",
       "\n",
       "[2478 rows x 384 columns]"
      ]
     },
     "execution_count": 15,
     "metadata": {},
     "output_type": "execute_result"
    }
   ],
   "source": [
    "# X = pd.merge(facts_embeddings, first_party_weights, how='right', on='ID')\n",
    "# X = pd.merge(X, second_party_weights, how='right', on='ID')\n",
    "# X = facts_embeddings.drop(columns=['ID'])\n",
    "X = facts_embeddings\n",
    "X"
   ]
  },
  {
   "cell_type": "code",
   "execution_count": 16,
   "id": "e0718e9e",
   "metadata": {},
   "outputs": [],
   "source": [
    "y = train_cleansed['first_party_winner']"
   ]
  },
  {
   "cell_type": "code",
   "execution_count": 17,
   "id": "90282389",
   "metadata": {},
   "outputs": [
    {
     "name": "stdout",
     "output_type": "stream",
     "text": [
      "<class 'pandas.core.series.Series'>\n",
      "Int64Index: 2478 entries, 0 to 2477\n",
      "Series name: first_party_winner\n",
      "Non-Null Count  Dtype\n",
      "--------------  -----\n",
      "2478 non-null   int64\n",
      "dtypes: int64(1)\n",
      "memory usage: 38.7 KB\n"
     ]
    }
   ],
   "source": [
    "y.info()"
   ]
  },
  {
   "cell_type": "code",
   "execution_count": 20,
   "id": "071168aa",
   "metadata": {
    "scrolled": true
   },
   "outputs": [
    {
     "name": "stdout",
     "output_type": "stream",
     "text": [
      "(1982, 384) (496, 384) (1982,) (496,)\n"
     ]
    }
   ],
   "source": [
    "X_train, X_val, y_train, y_val = train_test_split(X, y, test_size=0.2, random_state=42)\n",
    "print(X_train.shape, X_val.shape, y_train.shape, y_val.shape)"
   ]
  },
  {
   "cell_type": "code",
   "execution_count": 17,
   "id": "7a7bc172",
   "metadata": {},
   "outputs": [],
   "source": [
    "def lgb_objective(trial):\n",
    "    lgb_params = {\n",
    "        'objective': 'binary',\n",
    "        'metric': 'binary_logloss',\n",
    "        'boosting_type': 'dart',\n",
    "        'application': 'multiclass',\n",
    "        'max_depth': trial.suggest_int('max_depth', 4, 25),\n",
    "        'num_boost_round': trial.suggest_int('num_boost_round', 100, 300),\n",
    "        'min_data_in_leaf': trial.suggest_int('min_data_in_leaf', 10, 20),\n",
    "        'n_estimators' : trial.suggest_int('n_estimators', 50, 2000),\n",
    "        'num_leaves': trial.suggest_int('num_leaves', 10, 2000),\n",
    "        'learning_rate': trial.suggest_loguniform('learning_rate', 0.01, 0.1),\n",
    "        'feature_fraction': trial.suggest_uniform('feature_fraction', 0.1, 0.8),\n",
    "        'bagging_fraction': trial.suggest_uniform('bagging_fraction', 0.1, 0.8),\n",
    "        'bagging_freq': trial.suggest_int('bagging_freq', 1, 10),\n",
    "        'lambda_l1': trial.suggest_loguniform('lambda_l1', 0.01, 1.0),\n",
    "        'lambda_l2': trial.suggest_loguniform('lambda_l2', 0.01, 1.0),\n",
    "        'random_state': 42\n",
    "    }\n",
    "    lgb_model = lgb.LGBMClassifier(**lgb_params)\n",
    "    lgb_model.fit(X_train, y_train)\n",
    "    lgb_preds = lgb_model.predict(X_val)\n",
    "    return accuracy_score(y_val, lgb_preds)"
   ]
  },
  {
   "cell_type": "code",
   "execution_count": 33,
   "id": "d895b9e9",
   "metadata": {},
   "outputs": [],
   "source": [
    "def xgb_objective(trial):\n",
    "    xgb_params = {\n",
    "        'objective': 'binary:logistic',\n",
    "        'eval_metric': 'logloss',\n",
    "        'booster': 'gbtree',\n",
    "        'n_estimators' : 39,\n",
    "        'eta': 0.046266993101541545,\n",
    "        'max_depth': 11,\n",
    "        'subsample': 0.9668185485055184,\n",
    "        'learning_rate' : trial.suggest_loguniform('learning_rate', 0.01, 0.1),\n",
    "        'colsample_bytree': 0.7588174046835052,\n",
    "        'lambda': 23.696127246498573,\n",
    "        'random_state': 42\n",
    "    }\n",
    "    \n",
    "\n",
    "\n",
    "    xgb_model = xgb(**xgb_params)\n",
    "    xgb_model.fit(X_train, y_train)\n",
    "    xgb_preds = xgb_model.predict(X_val)\n",
    "    return accuracy_score(y_val, xgb_preds)\n"
   ]
  },
  {
   "cell_type": "code",
   "execution_count": 27,
   "id": "10ba3f5e",
   "metadata": {},
   "outputs": [],
   "source": [
    "def xgb_objective(trial):\n",
    "    xgb_params = {\n",
    "        'objective': 'binary:logistic',\n",
    "        'eval_metric': 'logloss',\n",
    "        'booster': 'gbtree',\n",
    "        'n_estimators' : 39,\n",
    "        'eta': 0.046266993101541545,\n",
    "        'max_depth': 11,\n",
    "        'subsample': 0.9668185485055184,\n",
    "        'colsample_bytree': 0.7588174046835052,\n",
    "        'lambda': 23.696127246498573,\n",
    "        'random_state': 42\n",
    "    }"
   ]
  },
  {
   "cell_type": "code",
   "execution_count": 19,
   "id": "b078cc75",
   "metadata": {},
   "outputs": [
    {
     "name": "stderr",
     "output_type": "stream",
     "text": [
      "[I 2023-06-06 16:48:46,212] A new study created in memory with name: no-name-c99e9a91-a0e6-46b3-84d2-3c0746513bbc\n"
     ]
    },
    {
     "name": "stdout",
     "output_type": "stream",
     "text": [
      "[LightGBM] [Warning] bagging_freq is set=4, subsample_freq=0 will be ignored. Current value: bagging_freq=4\n",
      "[LightGBM] [Warning] lambda_l1 is set=0.10438030150094596, reg_alpha=0.0 will be ignored. Current value: lambda_l1=0.10438030150094596\n",
      "[LightGBM] [Warning] min_data_in_leaf is set=15, min_child_samples=20 will be ignored. Current value: min_data_in_leaf=15\n",
      "[LightGBM] [Warning] num_iterations is set=163, num_boost_round=163 will be ignored. Current value: num_iterations=163\n",
      "[LightGBM] [Warning] lambda_l2 is set=0.25837187338424994, reg_lambda=0.0 will be ignored. Current value: lambda_l2=0.25837187338424994\n",
      "[LightGBM] [Warning] feature_fraction is set=0.41153784833865553, colsample_bytree=1.0 will be ignored. Current value: feature_fraction=0.41153784833865553\n",
      "[LightGBM] [Warning] bagging_fraction is set=0.39623803810751823, subsample=1.0 will be ignored. Current value: bagging_fraction=0.39623803810751823\n"
     ]
    },
    {
     "name": "stderr",
     "output_type": "stream",
     "text": [
      "[I 2023-06-06 16:48:47,093] Trial 0 finished with value: 0.655241935483871 and parameters: {'max_depth': 7, 'num_boost_round': 163, 'min_data_in_leaf': 15, 'n_estimators': 1732, 'num_leaves': 1213, 'learning_rate': 0.024210046025646033, 'feature_fraction': 0.41153784833865553, 'bagging_fraction': 0.39623803810751823, 'bagging_freq': 4, 'lambda_l1': 0.10438030150094596, 'lambda_l2': 0.25837187338424994}. Best is trial 0 with value: 0.655241935483871.\n"
     ]
    },
    {
     "name": "stdout",
     "output_type": "stream",
     "text": [
      "[LightGBM] [Warning] bagging_freq is set=10, subsample_freq=0 will be ignored. Current value: bagging_freq=10\n",
      "[LightGBM] [Warning] lambda_l1 is set=0.061522454515566614, reg_alpha=0.0 will be ignored. Current value: lambda_l1=0.061522454515566614\n",
      "[LightGBM] [Warning] min_data_in_leaf is set=20, min_child_samples=20 will be ignored. Current value: min_data_in_leaf=20\n",
      "[LightGBM] [Warning] num_iterations is set=226, num_boost_round=226 will be ignored. Current value: num_iterations=226\n",
      "[LightGBM] [Warning] lambda_l2 is set=0.016718761736309148, reg_lambda=0.0 will be ignored. Current value: lambda_l2=0.016718761736309148\n",
      "[LightGBM] [Warning] feature_fraction is set=0.6664522188590496, colsample_bytree=1.0 will be ignored. Current value: feature_fraction=0.6664522188590496\n",
      "[LightGBM] [Warning] bagging_fraction is set=0.6920484728356738, subsample=1.0 will be ignored. Current value: bagging_fraction=0.6920484728356738\n"
     ]
    },
    {
     "name": "stderr",
     "output_type": "stream",
     "text": [
      "[I 2023-06-06 16:48:47,941] Trial 1 finished with value: 0.6612903225806451 and parameters: {'max_depth': 4, 'num_boost_round': 226, 'min_data_in_leaf': 20, 'n_estimators': 1709, 'num_leaves': 1123, 'learning_rate': 0.013437873448570878, 'feature_fraction': 0.6664522188590496, 'bagging_fraction': 0.6920484728356738, 'bagging_freq': 10, 'lambda_l1': 0.061522454515566614, 'lambda_l2': 0.016718761736309148}. Best is trial 1 with value: 0.6612903225806451.\n"
     ]
    },
    {
     "name": "stdout",
     "output_type": "stream",
     "text": [
      "[LightGBM] [Warning] bagging_freq is set=10, subsample_freq=0 will be ignored. Current value: bagging_freq=10\n",
      "[LightGBM] [Warning] lambda_l1 is set=0.033832240220502095, reg_alpha=0.0 will be ignored. Current value: lambda_l1=0.033832240220502095\n",
      "[LightGBM] [Warning] min_data_in_leaf is set=15, min_child_samples=20 will be ignored. Current value: min_data_in_leaf=15\n",
      "[LightGBM] [Warning] num_iterations is set=135, num_boost_round=135 will be ignored. Current value: num_iterations=135\n",
      "[LightGBM] [Warning] lambda_l2 is set=0.087598769246419, reg_lambda=0.0 will be ignored. Current value: lambda_l2=0.087598769246419\n",
      "[LightGBM] [Warning] feature_fraction is set=0.12931416267231882, colsample_bytree=1.0 will be ignored. Current value: feature_fraction=0.12931416267231882\n",
      "[LightGBM] [Warning] bagging_fraction is set=0.6327474499105684, subsample=1.0 will be ignored. Current value: bagging_fraction=0.6327474499105684\n"
     ]
    },
    {
     "name": "stderr",
     "output_type": "stream",
     "text": [
      "[I 2023-06-06 16:48:48,412] Trial 2 finished with value: 0.655241935483871 and parameters: {'max_depth': 6, 'num_boost_round': 135, 'min_data_in_leaf': 15, 'n_estimators': 1297, 'num_leaves': 1040, 'learning_rate': 0.04788126930953853, 'feature_fraction': 0.12931416267231882, 'bagging_fraction': 0.6327474499105684, 'bagging_freq': 10, 'lambda_l1': 0.033832240220502095, 'lambda_l2': 0.087598769246419}. Best is trial 1 with value: 0.6612903225806451.\n"
     ]
    },
    {
     "name": "stdout",
     "output_type": "stream",
     "text": [
      "[LightGBM] [Warning] bagging_freq is set=5, subsample_freq=0 will be ignored. Current value: bagging_freq=5\n",
      "[LightGBM] [Warning] lambda_l1 is set=0.8065328549668326, reg_alpha=0.0 will be ignored. Current value: lambda_l1=0.8065328549668326\n",
      "[LightGBM] [Warning] min_data_in_leaf is set=12, min_child_samples=20 will be ignored. Current value: min_data_in_leaf=12\n",
      "[LightGBM] [Warning] num_iterations is set=217, num_boost_round=217 will be ignored. Current value: num_iterations=217\n",
      "[LightGBM] [Warning] lambda_l2 is set=0.14217307624316378, reg_lambda=0.0 will be ignored. Current value: lambda_l2=0.14217307624316378\n",
      "[LightGBM] [Warning] feature_fraction is set=0.628672978414422, colsample_bytree=1.0 will be ignored. Current value: feature_fraction=0.628672978414422\n",
      "[LightGBM] [Warning] bagging_fraction is set=0.2894080531085827, subsample=1.0 will be ignored. Current value: bagging_fraction=0.2894080531085827\n"
     ]
    },
    {
     "name": "stderr",
     "output_type": "stream",
     "text": [
      "[I 2023-06-06 16:48:49,083] Trial 3 finished with value: 0.6612903225806451 and parameters: {'max_depth': 4, 'num_boost_round': 217, 'min_data_in_leaf': 12, 'n_estimators': 108, 'num_leaves': 1919, 'learning_rate': 0.016822195366143645, 'feature_fraction': 0.628672978414422, 'bagging_fraction': 0.2894080531085827, 'bagging_freq': 5, 'lambda_l1': 0.8065328549668326, 'lambda_l2': 0.14217307624316378}. Best is trial 1 with value: 0.6612903225806451.\n"
     ]
    },
    {
     "name": "stdout",
     "output_type": "stream",
     "text": [
      "[LightGBM] [Warning] bagging_freq is set=9, subsample_freq=0 will be ignored. Current value: bagging_freq=9\n",
      "[LightGBM] [Warning] lambda_l1 is set=0.11379986425516575, reg_alpha=0.0 will be ignored. Current value: lambda_l1=0.11379986425516575\n",
      "[LightGBM] [Warning] min_data_in_leaf is set=16, min_child_samples=20 will be ignored. Current value: min_data_in_leaf=16\n",
      "[LightGBM] [Warning] num_iterations is set=222, num_boost_round=222 will be ignored. Current value: num_iterations=222\n",
      "[LightGBM] [Warning] lambda_l2 is set=0.17521811329933235, reg_lambda=0.0 will be ignored. Current value: lambda_l2=0.17521811329933235\n",
      "[LightGBM] [Warning] feature_fraction is set=0.41622818867583283, colsample_bytree=1.0 will be ignored. Current value: feature_fraction=0.41622818867583283\n",
      "[LightGBM] [Warning] bagging_fraction is set=0.20020846940853007, subsample=1.0 will be ignored. Current value: bagging_fraction=0.20020846940853007\n"
     ]
    },
    {
     "name": "stderr",
     "output_type": "stream",
     "text": [
      "[I 2023-06-06 16:48:49,904] Trial 4 finished with value: 0.6592741935483871 and parameters: {'max_depth': 7, 'num_boost_round': 222, 'min_data_in_leaf': 16, 'n_estimators': 1767, 'num_leaves': 1163, 'learning_rate': 0.02192814174538275, 'feature_fraction': 0.41622818867583283, 'bagging_fraction': 0.20020846940853007, 'bagging_freq': 9, 'lambda_l1': 0.11379986425516575, 'lambda_l2': 0.17521811329933235}. Best is trial 1 with value: 0.6612903225806451.\n"
     ]
    },
    {
     "name": "stdout",
     "output_type": "stream",
     "text": [
      "[LightGBM] [Warning] bagging_freq is set=9, subsample_freq=0 will be ignored. Current value: bagging_freq=9\n",
      "[LightGBM] [Warning] lambda_l1 is set=0.05212722316898338, reg_alpha=0.0 will be ignored. Current value: lambda_l1=0.05212722316898338\n",
      "[LightGBM] [Warning] min_data_in_leaf is set=13, min_child_samples=20 will be ignored. Current value: min_data_in_leaf=13\n",
      "[LightGBM] [Warning] num_iterations is set=132, num_boost_round=132 will be ignored. Current value: num_iterations=132\n",
      "[LightGBM] [Warning] lambda_l2 is set=0.011685037709115886, reg_lambda=0.0 will be ignored. Current value: lambda_l2=0.011685037709115886\n",
      "[LightGBM] [Warning] feature_fraction is set=0.14556675523165774, colsample_bytree=1.0 will be ignored. Current value: feature_fraction=0.14556675523165774\n",
      "[LightGBM] [Warning] bagging_fraction is set=0.25447131232569997, subsample=1.0 will be ignored. Current value: bagging_fraction=0.25447131232569997\n"
     ]
    },
    {
     "name": "stderr",
     "output_type": "stream",
     "text": [
      "[I 2023-06-06 16:48:50,218] Trial 5 finished with value: 0.6612903225806451 and parameters: {'max_depth': 5, 'num_boost_round': 132, 'min_data_in_leaf': 13, 'n_estimators': 432, 'num_leaves': 1954, 'learning_rate': 0.019193858997895955, 'feature_fraction': 0.14556675523165774, 'bagging_fraction': 0.25447131232569997, 'bagging_freq': 9, 'lambda_l1': 0.05212722316898338, 'lambda_l2': 0.011685037709115886}. Best is trial 1 with value: 0.6612903225806451.\n"
     ]
    },
    {
     "name": "stdout",
     "output_type": "stream",
     "text": [
      "[LightGBM] [Warning] bagging_freq is set=10, subsample_freq=0 will be ignored. Current value: bagging_freq=10\n",
      "[LightGBM] [Warning] lambda_l1 is set=0.010428911420039634, reg_alpha=0.0 will be ignored. Current value: lambda_l1=0.010428911420039634\n",
      "[LightGBM] [Warning] min_data_in_leaf is set=10, min_child_samples=20 will be ignored. Current value: min_data_in_leaf=10\n",
      "[LightGBM] [Warning] num_iterations is set=223, num_boost_round=223 will be ignored. Current value: num_iterations=223\n",
      "[LightGBM] [Warning] lambda_l2 is set=0.4649599723889718, reg_lambda=0.0 will be ignored. Current value: lambda_l2=0.4649599723889718\n",
      "[LightGBM] [Warning] feature_fraction is set=0.5740985219930236, colsample_bytree=1.0 will be ignored. Current value: feature_fraction=0.5740985219930236\n",
      "[LightGBM] [Warning] bagging_fraction is set=0.2304307922597024, subsample=1.0 will be ignored. Current value: bagging_fraction=0.2304307922597024\n"
     ]
    },
    {
     "name": "stderr",
     "output_type": "stream",
     "text": [
      "[I 2023-06-06 16:48:51,289] Trial 6 finished with value: 0.6491935483870968 and parameters: {'max_depth': 6, 'num_boost_round': 223, 'min_data_in_leaf': 10, 'n_estimators': 1262, 'num_leaves': 1459, 'learning_rate': 0.03725260302985317, 'feature_fraction': 0.5740985219930236, 'bagging_fraction': 0.2304307922597024, 'bagging_freq': 10, 'lambda_l1': 0.010428911420039634, 'lambda_l2': 0.4649599723889718}. Best is trial 1 with value: 0.6612903225806451.\n"
     ]
    },
    {
     "name": "stdout",
     "output_type": "stream",
     "text": [
      "[LightGBM] [Warning] bagging_freq is set=8, subsample_freq=0 will be ignored. Current value: bagging_freq=8\n",
      "[LightGBM] [Warning] lambda_l1 is set=0.20317474432352275, reg_alpha=0.0 will be ignored. Current value: lambda_l1=0.20317474432352275\n",
      "[LightGBM] [Warning] min_data_in_leaf is set=17, min_child_samples=20 will be ignored. Current value: min_data_in_leaf=17\n",
      "[LightGBM] [Warning] num_iterations is set=293, num_boost_round=293 will be ignored. Current value: num_iterations=293\n",
      "[LightGBM] [Warning] lambda_l2 is set=0.8064494369889883, reg_lambda=0.0 will be ignored. Current value: lambda_l2=0.8064494369889883\n",
      "[LightGBM] [Warning] feature_fraction is set=0.14076584133606718, colsample_bytree=1.0 will be ignored. Current value: feature_fraction=0.14076584133606718\n",
      "[LightGBM] [Warning] bagging_fraction is set=0.7601521964545814, subsample=1.0 will be ignored. Current value: bagging_fraction=0.7601521964545814\n"
     ]
    },
    {
     "name": "stderr",
     "output_type": "stream",
     "text": [
      "[I 2023-06-06 16:48:53,017] Trial 7 finished with value: 0.6612903225806451 and parameters: {'max_depth': 8, 'num_boost_round': 293, 'min_data_in_leaf': 17, 'n_estimators': 1356, 'num_leaves': 855, 'learning_rate': 0.015337782317230202, 'feature_fraction': 0.14076584133606718, 'bagging_fraction': 0.7601521964545814, 'bagging_freq': 8, 'lambda_l1': 0.20317474432352275, 'lambda_l2': 0.8064494369889883}. Best is trial 1 with value: 0.6612903225806451.\n"
     ]
    },
    {
     "name": "stdout",
     "output_type": "stream",
     "text": [
      "[LightGBM] [Warning] bagging_freq is set=7, subsample_freq=0 will be ignored. Current value: bagging_freq=7\n",
      "[LightGBM] [Warning] lambda_l1 is set=0.17259292833526466, reg_alpha=0.0 will be ignored. Current value: lambda_l1=0.17259292833526466\n",
      "[LightGBM] [Warning] min_data_in_leaf is set=12, min_child_samples=20 will be ignored. Current value: min_data_in_leaf=12\n",
      "[LightGBM] [Warning] num_iterations is set=142, num_boost_round=142 will be ignored. Current value: num_iterations=142\n",
      "[LightGBM] [Warning] lambda_l2 is set=0.019372098248948852, reg_lambda=0.0 will be ignored. Current value: lambda_l2=0.019372098248948852\n",
      "[LightGBM] [Warning] feature_fraction is set=0.7999543207679377, colsample_bytree=1.0 will be ignored. Current value: feature_fraction=0.7999543207679377\n",
      "[LightGBM] [Warning] bagging_fraction is set=0.7695438067802726, subsample=1.0 will be ignored. Current value: bagging_fraction=0.7695438067802726\n"
     ]
    },
    {
     "name": "stderr",
     "output_type": "stream",
     "text": [
      "[I 2023-06-06 16:48:54,216] Trial 8 finished with value: 0.657258064516129 and parameters: {'max_depth': 6, 'num_boost_round': 142, 'min_data_in_leaf': 12, 'n_estimators': 692, 'num_leaves': 801, 'learning_rate': 0.04131024386990243, 'feature_fraction': 0.7999543207679377, 'bagging_fraction': 0.7695438067802726, 'bagging_freq': 7, 'lambda_l1': 0.17259292833526466, 'lambda_l2': 0.019372098248948852}. Best is trial 1 with value: 0.6612903225806451.\n"
     ]
    },
    {
     "name": "stdout",
     "output_type": "stream",
     "text": [
      "[LightGBM] [Warning] bagging_freq is set=5, subsample_freq=0 will be ignored. Current value: bagging_freq=5\n",
      "[LightGBM] [Warning] lambda_l1 is set=0.18020988443604957, reg_alpha=0.0 will be ignored. Current value: lambda_l1=0.18020988443604957\n",
      "[LightGBM] [Warning] min_data_in_leaf is set=10, min_child_samples=20 will be ignored. Current value: min_data_in_leaf=10\n",
      "[LightGBM] [Warning] num_iterations is set=230, num_boost_round=230 will be ignored. Current value: num_iterations=230\n",
      "[LightGBM] [Warning] lambda_l2 is set=0.575500514401433, reg_lambda=0.0 will be ignored. Current value: lambda_l2=0.575500514401433\n",
      "[LightGBM] [Warning] feature_fraction is set=0.7039362747175533, colsample_bytree=1.0 will be ignored. Current value: feature_fraction=0.7039362747175533\n",
      "[LightGBM] [Warning] bagging_fraction is set=0.6583202242513504, subsample=1.0 will be ignored. Current value: bagging_fraction=0.6583202242513504\n"
     ]
    },
    {
     "name": "stderr",
     "output_type": "stream",
     "text": [
      "[I 2023-06-06 16:48:56,950] Trial 9 finished with value: 0.6633064516129032 and parameters: {'max_depth': 8, 'num_boost_round': 230, 'min_data_in_leaf': 10, 'n_estimators': 1830, 'num_leaves': 216, 'learning_rate': 0.027306079989713957, 'feature_fraction': 0.7039362747175533, 'bagging_fraction': 0.6583202242513504, 'bagging_freq': 5, 'lambda_l1': 0.18020988443604957, 'lambda_l2': 0.575500514401433}. Best is trial 9 with value: 0.6633064516129032.\n"
     ]
    },
    {
     "name": "stdout",
     "output_type": "stream",
     "text": [
      "[LightGBM] [Warning] bagging_freq is set=1, subsample_freq=0 will be ignored. Current value: bagging_freq=1\n",
      "[LightGBM] [Warning] lambda_l1 is set=0.48728628148517544, reg_alpha=0.0 will be ignored. Current value: lambda_l1=0.48728628148517544\n",
      "[LightGBM] [Warning] min_data_in_leaf is set=10, min_child_samples=20 will be ignored. Current value: min_data_in_leaf=10\n",
      "[LightGBM] [Warning] num_iterations is set=281, num_boost_round=281 will be ignored. Current value: num_iterations=281\n",
      "[LightGBM] [Warning] lambda_l2 is set=0.9625808078427991, reg_lambda=0.0 will be ignored. Current value: lambda_l2=0.9625808078427991\n",
      "[LightGBM] [Warning] feature_fraction is set=0.7926801732124698, colsample_bytree=1.0 will be ignored. Current value: feature_fraction=0.7926801732124698\n",
      "[LightGBM] [Warning] bagging_fraction is set=0.5524455539669599, subsample=1.0 will be ignored. Current value: bagging_fraction=0.5524455539669599\n"
     ]
    },
    {
     "name": "stderr",
     "output_type": "stream",
     "text": [
      "[I 2023-06-06 16:49:00,105] Trial 10 finished with value: 0.657258064516129 and parameters: {'max_depth': 8, 'num_boost_round': 281, 'min_data_in_leaf': 10, 'n_estimators': 865, 'num_leaves': 75, 'learning_rate': 0.08298219578138753, 'feature_fraction': 0.7926801732124698, 'bagging_fraction': 0.5524455539669599, 'bagging_freq': 1, 'lambda_l1': 0.48728628148517544, 'lambda_l2': 0.9625808078427991}. Best is trial 9 with value: 0.6633064516129032.\n"
     ]
    },
    {
     "name": "stdout",
     "output_type": "stream",
     "text": [
      "[LightGBM] [Warning] bagging_freq is set=3, subsample_freq=0 will be ignored. Current value: bagging_freq=3\n",
      "[LightGBM] [Warning] lambda_l1 is set=0.3366116091069459, reg_alpha=0.0 will be ignored. Current value: lambda_l1=0.3366116091069459\n",
      "[LightGBM] [Warning] min_data_in_leaf is set=20, min_child_samples=20 will be ignored. Current value: min_data_in_leaf=20\n",
      "[LightGBM] [Warning] num_iterations is set=260, num_boost_round=260 will be ignored. Current value: num_iterations=260\n",
      "[LightGBM] [Warning] lambda_l2 is set=0.04821830546385577, reg_lambda=0.0 will be ignored. Current value: lambda_l2=0.04821830546385577\n",
      "[LightGBM] [Warning] feature_fraction is set=0.647933391819022, colsample_bytree=1.0 will be ignored. Current value: feature_fraction=0.647933391819022\n",
      "[LightGBM] [Warning] bagging_fraction is set=0.631779802057112, subsample=1.0 will be ignored. Current value: bagging_fraction=0.631779802057112\n"
     ]
    },
    {
     "name": "stderr",
     "output_type": "stream",
     "text": [
      "[I 2023-06-06 16:49:01,068] Trial 11 finished with value: 0.6592741935483871 and parameters: {'max_depth': 4, 'num_boost_round': 260, 'min_data_in_leaf': 20, 'n_estimators': 1997, 'num_leaves': 349, 'learning_rate': 0.01322487505783839, 'feature_fraction': 0.647933391819022, 'bagging_fraction': 0.631779802057112, 'bagging_freq': 3, 'lambda_l1': 0.3366116091069459, 'lambda_l2': 0.04821830546385577}. Best is trial 9 with value: 0.6633064516129032.\n"
     ]
    },
    {
     "name": "stdout",
     "output_type": "stream",
     "text": [
      "[LightGBM] [Warning] bagging_freq is set=6, subsample_freq=0 will be ignored. Current value: bagging_freq=6\n",
      "[LightGBM] [Warning] lambda_l1 is set=0.05623560233604693, reg_alpha=0.0 will be ignored. Current value: lambda_l1=0.05623560233604693\n",
      "[LightGBM] [Warning] min_data_in_leaf is set=20, min_child_samples=20 will be ignored. Current value: min_data_in_leaf=20\n",
      "[LightGBM] [Warning] num_iterations is set=184, num_boost_round=184 will be ignored. Current value: num_iterations=184\n",
      "[LightGBM] [Warning] lambda_l2 is set=0.04378548342730668, reg_lambda=0.0 will be ignored. Current value: lambda_l2=0.04378548342730668\n",
      "[LightGBM] [Warning] feature_fraction is set=0.7025718229750103, colsample_bytree=1.0 will be ignored. Current value: feature_fraction=0.7025718229750103\n",
      "[LightGBM] [Warning] bagging_fraction is set=0.5356878869930655, subsample=1.0 will be ignored. Current value: bagging_fraction=0.5356878869930655\n"
     ]
    },
    {
     "name": "stderr",
     "output_type": "stream",
     "text": [
      "[I 2023-06-06 16:49:01,978] Trial 12 finished with value: 0.6612903225806451 and parameters: {'max_depth': 5, 'num_boost_round': 184, 'min_data_in_leaf': 20, 'n_estimators': 1600, 'num_leaves': 397, 'learning_rate': 0.010027913100171107, 'feature_fraction': 0.7025718229750103, 'bagging_fraction': 0.5356878869930655, 'bagging_freq': 6, 'lambda_l1': 0.05623560233604693, 'lambda_l2': 0.04378548342730668}. Best is trial 9 with value: 0.6633064516129032.\n"
     ]
    },
    {
     "name": "stdout",
     "output_type": "stream",
     "text": [
      "[LightGBM] [Warning] bagging_freq is set=2, subsample_freq=0 will be ignored. Current value: bagging_freq=2\n",
      "[LightGBM] [Warning] lambda_l1 is set=0.25642933614021607, reg_alpha=0.0 will be ignored. Current value: lambda_l1=0.25642933614021607\n",
      "[LightGBM] [Warning] min_data_in_leaf is set=18, min_child_samples=20 will be ignored. Current value: min_data_in_leaf=18\n",
      "[LightGBM] [Warning] num_iterations is set=246, num_boost_round=246 will be ignored. Current value: num_iterations=246\n",
      "[LightGBM] [Warning] lambda_l2 is set=0.4009244348684754, reg_lambda=0.0 will be ignored. Current value: lambda_l2=0.4009244348684754\n",
      "[LightGBM] [Warning] feature_fraction is set=0.5560152815010073, colsample_bytree=1.0 will be ignored. Current value: feature_fraction=0.5560152815010073\n",
      "[LightGBM] [Warning] bagging_fraction is set=0.679093462790592, subsample=1.0 will be ignored. Current value: bagging_fraction=0.679093462790592\n"
     ]
    },
    {
     "name": "stderr",
     "output_type": "stream",
     "text": [
      "[I 2023-06-06 16:49:03,132] Trial 13 finished with value: 0.6633064516129032 and parameters: {'max_depth': 5, 'num_boost_round': 246, 'min_data_in_leaf': 18, 'n_estimators': 1960, 'num_leaves': 534, 'learning_rate': 0.027643509939712964, 'feature_fraction': 0.5560152815010073, 'bagging_fraction': 0.679093462790592, 'bagging_freq': 2, 'lambda_l1': 0.25642933614021607, 'lambda_l2': 0.4009244348684754}. Best is trial 9 with value: 0.6633064516129032.\n"
     ]
    },
    {
     "name": "stdout",
     "output_type": "stream",
     "text": [
      "[LightGBM] [Warning] bagging_freq is set=2, subsample_freq=0 will be ignored. Current value: bagging_freq=2\n",
      "[LightGBM] [Warning] lambda_l1 is set=0.27302353830156134, reg_alpha=0.0 will be ignored. Current value: lambda_l1=0.27302353830156134\n",
      "[LightGBM] [Warning] min_data_in_leaf is set=18, min_child_samples=20 will be ignored. Current value: min_data_in_leaf=18\n",
      "[LightGBM] [Warning] num_iterations is set=256, num_boost_round=256 will be ignored. Current value: num_iterations=256\n",
      "[LightGBM] [Warning] lambda_l2 is set=0.4340729174699152, reg_lambda=0.0 will be ignored. Current value: lambda_l2=0.4340729174699152\n",
      "[LightGBM] [Warning] feature_fraction is set=0.511544887744663, colsample_bytree=1.0 will be ignored. Current value: feature_fraction=0.511544887744663\n",
      "[LightGBM] [Warning] bagging_fraction is set=0.47847126862892364, subsample=1.0 will be ignored. Current value: bagging_fraction=0.47847126862892364\n"
     ]
    },
    {
     "name": "stderr",
     "output_type": "stream",
     "text": [
      "[I 2023-06-06 16:49:04,182] Trial 14 finished with value: 0.6592741935483871 and parameters: {'max_depth': 5, 'num_boost_round': 256, 'min_data_in_leaf': 18, 'n_estimators': 1861, 'num_leaves': 426, 'learning_rate': 0.028348202816605002, 'feature_fraction': 0.511544887744663, 'bagging_fraction': 0.47847126862892364, 'bagging_freq': 2, 'lambda_l1': 0.27302353830156134, 'lambda_l2': 0.4340729174699152}. Best is trial 9 with value: 0.6633064516129032.\n"
     ]
    },
    {
     "name": "stdout",
     "output_type": "stream",
     "text": [
      "[LightGBM] [Warning] bagging_freq is set=4, subsample_freq=0 will be ignored. Current value: bagging_freq=4\n",
      "[LightGBM] [Warning] lambda_l1 is set=0.5011258584767907, reg_alpha=0.0 will be ignored. Current value: lambda_l1=0.5011258584767907\n",
      "[LightGBM] [Warning] min_data_in_leaf is set=18, min_child_samples=20 will be ignored. Current value: min_data_in_leaf=18\n",
      "[LightGBM] [Warning] num_iterations is set=103, num_boost_round=103 will be ignored. Current value: num_iterations=103\n",
      "[LightGBM] [Warning] lambda_l2 is set=0.42119563254321213, reg_lambda=0.0 will be ignored. Current value: lambda_l2=0.42119563254321213\n",
      "[LightGBM] [Warning] feature_fraction is set=0.5374490158186626, colsample_bytree=1.0 will be ignored. Current value: feature_fraction=0.5374490158186626\n",
      "[LightGBM] [Warning] bagging_fraction is set=0.7960174581311935, subsample=1.0 will be ignored. Current value: bagging_fraction=0.7960174581311935\n"
     ]
    },
    {
     "name": "stderr",
     "output_type": "stream",
     "text": [
      "[I 2023-06-06 16:49:04,949] Trial 15 finished with value: 0.6673387096774194 and parameters: {'max_depth': 7, 'num_boost_round': 103, 'min_data_in_leaf': 18, 'n_estimators': 1463, 'num_leaves': 66, 'learning_rate': 0.027911338962503505, 'feature_fraction': 0.5374490158186626, 'bagging_fraction': 0.7960174581311935, 'bagging_freq': 4, 'lambda_l1': 0.5011258584767907, 'lambda_l2': 0.42119563254321213}. Best is trial 15 with value: 0.6673387096774194.\n"
     ]
    },
    {
     "name": "stdout",
     "output_type": "stream",
     "text": [
      "[LightGBM] [Warning] bagging_freq is set=5, subsample_freq=0 will be ignored. Current value: bagging_freq=5\n",
      "[LightGBM] [Warning] lambda_l1 is set=0.817400803059278, reg_alpha=0.0 will be ignored. Current value: lambda_l1=0.817400803059278\n",
      "[LightGBM] [Warning] min_data_in_leaf is set=13, min_child_samples=20 will be ignored. Current value: min_data_in_leaf=13\n",
      "[LightGBM] [Warning] num_iterations is set=106, num_boost_round=106 will be ignored. Current value: num_iterations=106\n",
      "[LightGBM] [Warning] lambda_l2 is set=0.6335898071518126, reg_lambda=0.0 will be ignored. Current value: lambda_l2=0.6335898071518126\n",
      "[LightGBM] [Warning] feature_fraction is set=0.47557100738833147, colsample_bytree=1.0 will be ignored. Current value: feature_fraction=0.47557100738833147\n",
      "[LightGBM] [Warning] bagging_fraction is set=0.7957688748178535, subsample=1.0 will be ignored. Current value: bagging_fraction=0.7957688748178535\n"
     ]
    },
    {
     "name": "stderr",
     "output_type": "stream",
     "text": [
      "[I 2023-06-06 16:49:05,777] Trial 16 finished with value: 0.6653225806451613 and parameters: {'max_depth': 7, 'num_boost_round': 106, 'min_data_in_leaf': 13, 'n_estimators': 1463, 'num_leaves': 79, 'learning_rate': 0.03133503081451613, 'feature_fraction': 0.47557100738833147, 'bagging_fraction': 0.7957688748178535, 'bagging_freq': 5, 'lambda_l1': 0.817400803059278, 'lambda_l2': 0.6335898071518126}. Best is trial 15 with value: 0.6673387096774194.\n"
     ]
    },
    {
     "name": "stdout",
     "output_type": "stream",
     "text": [
      "[LightGBM] [Warning] bagging_freq is set=4, subsample_freq=0 will be ignored. Current value: bagging_freq=4\n",
      "[LightGBM] [Warning] lambda_l1 is set=0.9009029180591772, reg_alpha=0.0 will be ignored. Current value: lambda_l1=0.9009029180591772\n",
      "[LightGBM] [Warning] min_data_in_leaf is set=14, min_child_samples=20 will be ignored. Current value: min_data_in_leaf=14\n",
      "[LightGBM] [Warning] num_iterations is set=106, num_boost_round=106 will be ignored. Current value: num_iterations=106\n",
      "[LightGBM] [Warning] lambda_l2 is set=0.2588719378220534, reg_lambda=0.0 will be ignored. Current value: lambda_l2=0.2588719378220534\n",
      "[LightGBM] [Warning] feature_fraction is set=0.46851044022993216, colsample_bytree=1.0 will be ignored. Current value: feature_fraction=0.46851044022993216\n",
      "[LightGBM] [Warning] bagging_fraction is set=0.7988006499601393, subsample=1.0 will be ignored. Current value: bagging_fraction=0.7988006499601393\n"
     ]
    },
    {
     "name": "stderr",
     "output_type": "stream",
     "text": [
      "[I 2023-06-06 16:49:06,546] Trial 17 finished with value: 0.6633064516129032 and parameters: {'max_depth': 7, 'num_boost_round': 106, 'min_data_in_leaf': 14, 'n_estimators': 1071, 'num_leaves': 41, 'learning_rate': 0.0513401880617866, 'feature_fraction': 0.46851044022993216, 'bagging_fraction': 0.7988006499601393, 'bagging_freq': 4, 'lambda_l1': 0.9009029180591772, 'lambda_l2': 0.2588719378220534}. Best is trial 15 with value: 0.6673387096774194.\n"
     ]
    },
    {
     "name": "stdout",
     "output_type": "stream",
     "text": [
      "[LightGBM] [Warning] bagging_freq is set=6, subsample_freq=0 will be ignored. Current value: bagging_freq=6\n",
      "[LightGBM] [Warning] lambda_l1 is set=0.5297739697969079, reg_alpha=0.0 will be ignored. Current value: lambda_l1=0.5297739697969079\n",
      "[LightGBM] [Warning] min_data_in_leaf is set=18, min_child_samples=20 will be ignored. Current value: min_data_in_leaf=18\n",
      "[LightGBM] [Warning] num_iterations is set=100, num_boost_round=100 will be ignored. Current value: num_iterations=100\n",
      "[LightGBM] [Warning] lambda_l2 is set=0.9803947007742653, reg_lambda=0.0 will be ignored. Current value: lambda_l2=0.9803947007742653\n",
      "[LightGBM] [Warning] feature_fraction is set=0.3492528637364562, colsample_bytree=1.0 will be ignored. Current value: feature_fraction=0.3492528637364562\n",
      "[LightGBM] [Warning] bagging_fraction is set=0.12754316193456028, subsample=1.0 will be ignored. Current value: bagging_fraction=0.12754316193456028\n"
     ]
    },
    {
     "name": "stderr",
     "output_type": "stream",
     "text": [
      "[I 2023-06-06 16:49:06,784] Trial 18 finished with value: 0.6612903225806451 and parameters: {'max_depth': 7, 'num_boost_round': 100, 'min_data_in_leaf': 18, 'n_estimators': 1448, 'num_leaves': 603, 'learning_rate': 0.03674561786556729, 'feature_fraction': 0.3492528637364562, 'bagging_fraction': 0.12754316193456028, 'bagging_freq': 6, 'lambda_l1': 0.5297739697969079, 'lambda_l2': 0.9803947007742653}. Best is trial 15 with value: 0.6673387096774194.\n"
     ]
    },
    {
     "name": "stdout",
     "output_type": "stream",
     "text": [
      "[LightGBM] [Warning] bagging_freq is set=4, subsample_freq=0 will be ignored. Current value: bagging_freq=4\n",
      "[LightGBM] [Warning] lambda_l1 is set=0.8955425826794343, reg_alpha=0.0 will be ignored. Current value: lambda_l1=0.8955425826794343\n",
      "[LightGBM] [Warning] min_data_in_leaf is set=13, min_child_samples=20 will be ignored. Current value: min_data_in_leaf=13\n",
      "[LightGBM] [Warning] num_iterations is set=175, num_boost_round=175 will be ignored. Current value: num_iterations=175\n",
      "[LightGBM] [Warning] lambda_l2 is set=0.6470842060805184, reg_lambda=0.0 will be ignored. Current value: lambda_l2=0.6470842060805184\n",
      "[LightGBM] [Warning] feature_fraction is set=0.3241514075787281, colsample_bytree=1.0 will be ignored. Current value: feature_fraction=0.3241514075787281\n",
      "[LightGBM] [Warning] bagging_fraction is set=0.7320773353803336, subsample=1.0 will be ignored. Current value: bagging_fraction=0.7320773353803336\n"
     ]
    },
    {
     "name": "stderr",
     "output_type": "stream",
     "text": [
      "[I 2023-06-06 16:49:07,951] Trial 19 finished with value: 0.655241935483871 and parameters: {'max_depth': 7, 'num_boost_round': 175, 'min_data_in_leaf': 13, 'n_estimators': 1016, 'num_leaves': 227, 'learning_rate': 0.03261729691344729, 'feature_fraction': 0.3241514075787281, 'bagging_fraction': 0.7320773353803336, 'bagging_freq': 4, 'lambda_l1': 0.8955425826794343, 'lambda_l2': 0.6470842060805184}. Best is trial 15 with value: 0.6673387096774194.\n"
     ]
    },
    {
     "name": "stdout",
     "output_type": "stream",
     "text": [
      "[LightGBM] [Warning] bagging_freq is set=7, subsample_freq=0 will be ignored. Current value: bagging_freq=7\n",
      "[LightGBM] [Warning] lambda_l1 is set=0.4895090852605208, reg_alpha=0.0 will be ignored. Current value: lambda_l1=0.4895090852605208\n",
      "[LightGBM] [Warning] min_data_in_leaf is set=16, min_child_samples=20 will be ignored. Current value: min_data_in_leaf=16\n",
      "[LightGBM] [Warning] num_iterations is set=117, num_boost_round=117 will be ignored. Current value: num_iterations=117\n",
      "[LightGBM] [Warning] lambda_l2 is set=0.2734184085228672, reg_lambda=0.0 will be ignored. Current value: lambda_l2=0.2734184085228672\n",
      "[LightGBM] [Warning] feature_fraction is set=0.509824306391744, colsample_bytree=1.0 will be ignored. Current value: feature_fraction=0.509824306391744\n",
      "[LightGBM] [Warning] bagging_fraction is set=0.78785364373879, subsample=1.0 will be ignored. Current value: bagging_fraction=0.78785364373879\n"
     ]
    },
    {
     "name": "stderr",
     "output_type": "stream",
     "text": [
      "[I 2023-06-06 16:49:08,988] Trial 20 finished with value: 0.6693548387096774 and parameters: {'max_depth': 8, 'num_boost_round': 117, 'min_data_in_leaf': 16, 'n_estimators': 1552, 'num_leaves': 710, 'learning_rate': 0.021241344620454832, 'feature_fraction': 0.509824306391744, 'bagging_fraction': 0.78785364373879, 'bagging_freq': 7, 'lambda_l1': 0.4895090852605208, 'lambda_l2': 0.2734184085228672}. Best is trial 20 with value: 0.6693548387096774.\n"
     ]
    },
    {
     "name": "stdout",
     "output_type": "stream",
     "text": [
      "[LightGBM] [Warning] bagging_freq is set=7, subsample_freq=0 will be ignored. Current value: bagging_freq=7\n",
      "[LightGBM] [Warning] lambda_l1 is set=0.5005286153029905, reg_alpha=0.0 will be ignored. Current value: lambda_l1=0.5005286153029905\n",
      "[LightGBM] [Warning] min_data_in_leaf is set=16, min_child_samples=20 will be ignored. Current value: min_data_in_leaf=16\n",
      "[LightGBM] [Warning] num_iterations is set=118, num_boost_round=118 will be ignored. Current value: num_iterations=118\n",
      "[LightGBM] [Warning] lambda_l2 is set=0.3074201351017661, reg_lambda=0.0 will be ignored. Current value: lambda_l2=0.3074201351017661\n",
      "[LightGBM] [Warning] feature_fraction is set=0.5047892648753154, colsample_bytree=1.0 will be ignored. Current value: feature_fraction=0.5047892648753154\n",
      "[LightGBM] [Warning] bagging_fraction is set=0.7909683759104871, subsample=1.0 will be ignored. Current value: bagging_fraction=0.7909683759104871\n"
     ]
    },
    {
     "name": "stderr",
     "output_type": "stream",
     "text": [
      "[I 2023-06-06 16:49:10,074] Trial 21 finished with value: 0.6653225806451613 and parameters: {'max_depth': 8, 'num_boost_round': 118, 'min_data_in_leaf': 16, 'n_estimators': 1534, 'num_leaves': 716, 'learning_rate': 0.021415235539030245, 'feature_fraction': 0.5047892648753154, 'bagging_fraction': 0.7909683759104871, 'bagging_freq': 7, 'lambda_l1': 0.5005286153029905, 'lambda_l2': 0.3074201351017661}. Best is trial 20 with value: 0.6693548387096774.\n"
     ]
    },
    {
     "name": "stdout",
     "output_type": "stream",
     "text": [
      "[LightGBM] [Warning] bagging_freq is set=7, subsample_freq=0 will be ignored. Current value: bagging_freq=7\n",
      "[LightGBM] [Warning] lambda_l1 is set=0.3735844171012603, reg_alpha=0.0 will be ignored. Current value: lambda_l1=0.3735844171012603\n",
      "[LightGBM] [Warning] min_data_in_leaf is set=17, min_child_samples=20 will be ignored. Current value: min_data_in_leaf=17\n",
      "[LightGBM] [Warning] num_iterations is set=153, num_boost_round=153 will be ignored. Current value: num_iterations=153\n",
      "[LightGBM] [Warning] lambda_l2 is set=0.5931441817106612, reg_lambda=0.0 will be ignored. Current value: lambda_l2=0.5931441817106612\n",
      "[LightGBM] [Warning] feature_fraction is set=0.5679077825003157, colsample_bytree=1.0 will be ignored. Current value: feature_fraction=0.5679077825003157\n",
      "[LightGBM] [Warning] bagging_fraction is set=0.7206634286109164, subsample=1.0 will be ignored. Current value: bagging_fraction=0.7206634286109164\n"
     ]
    },
    {
     "name": "stderr",
     "output_type": "stream",
     "text": [
      "[I 2023-06-06 16:49:11,421] Trial 22 finished with value: 0.6612903225806451 and parameters: {'max_depth': 8, 'num_boost_round': 153, 'min_data_in_leaf': 17, 'n_estimators': 1106, 'num_leaves': 1446, 'learning_rate': 0.023940178694027616, 'feature_fraction': 0.5679077825003157, 'bagging_fraction': 0.7206634286109164, 'bagging_freq': 7, 'lambda_l1': 0.3735844171012603, 'lambda_l2': 0.5931441817106612}. Best is trial 20 with value: 0.6693548387096774.\n"
     ]
    },
    {
     "name": "stdout",
     "output_type": "stream",
     "text": [
      "[LightGBM] [Warning] bagging_freq is set=5, subsample_freq=0 will be ignored. Current value: bagging_freq=5\n",
      "[LightGBM] [Warning] lambda_l1 is set=0.5653940264057212, reg_alpha=0.0 will be ignored. Current value: lambda_l1=0.5653940264057212\n",
      "[LightGBM] [Warning] min_data_in_leaf is set=14, min_child_samples=20 will be ignored. Current value: min_data_in_leaf=14\n",
      "[LightGBM] [Warning] num_iterations is set=115, num_boost_round=115 will be ignored. Current value: num_iterations=115\n",
      "[LightGBM] [Warning] lambda_l2 is set=0.3461179630298296, reg_lambda=0.0 will be ignored. Current value: lambda_l2=0.3461179630298296\n",
      "[LightGBM] [Warning] feature_fraction is set=0.4765731224489703, colsample_bytree=1.0 will be ignored. Current value: feature_fraction=0.4765731224489703\n",
      "[LightGBM] [Warning] bagging_fraction is set=0.7989727461985534, subsample=1.0 will be ignored. Current value: bagging_fraction=0.7989727461985534\n"
     ]
    },
    {
     "name": "stderr",
     "output_type": "stream",
     "text": [
      "[I 2023-06-06 16:49:12,330] Trial 23 finished with value: 0.655241935483871 and parameters: {'max_depth': 7, 'num_boost_round': 115, 'min_data_in_leaf': 14, 'n_estimators': 1555, 'num_leaves': 211, 'learning_rate': 0.031082091434393642, 'feature_fraction': 0.4765731224489703, 'bagging_fraction': 0.7989727461985534, 'bagging_freq': 5, 'lambda_l1': 0.5653940264057212, 'lambda_l2': 0.3461179630298296}. Best is trial 20 with value: 0.6693548387096774.\n"
     ]
    },
    {
     "name": "stdout",
     "output_type": "stream",
     "text": [
      "[LightGBM] [Warning] bagging_freq is set=3, subsample_freq=0 will be ignored. Current value: bagging_freq=3\n",
      "[LightGBM] [Warning] lambda_l1 is set=0.5959057012457536, reg_alpha=0.0 will be ignored. Current value: lambda_l1=0.5959057012457536\n",
      "[LightGBM] [Warning] min_data_in_leaf is set=19, min_child_samples=20 will be ignored. Current value: min_data_in_leaf=19\n",
      "[LightGBM] [Warning] num_iterations is set=131, num_boost_round=131 will be ignored. Current value: num_iterations=131\n",
      "[LightGBM] [Warning] lambda_l2 is set=0.20159118300987522, reg_lambda=0.0 will be ignored. Current value: lambda_l2=0.20159118300987522\n",
      "[LightGBM] [Warning] feature_fraction is set=0.5333361677797116, colsample_bytree=1.0 will be ignored. Current value: feature_fraction=0.5333361677797116\n",
      "[LightGBM] [Warning] bagging_fraction is set=0.7219831200410314, subsample=1.0 will be ignored. Current value: bagging_fraction=0.7219831200410314\n"
     ]
    },
    {
     "name": "stderr",
     "output_type": "stream",
     "text": [
      "[I 2023-06-06 16:49:13,211] Trial 24 finished with value: 0.6653225806451613 and parameters: {'max_depth': 7, 'num_boost_round': 131, 'min_data_in_leaf': 19, 'n_estimators': 1190, 'num_leaves': 62, 'learning_rate': 0.019268268108473763, 'feature_fraction': 0.5333361677797116, 'bagging_fraction': 0.7219831200410314, 'bagging_freq': 3, 'lambda_l1': 0.5959057012457536, 'lambda_l2': 0.20159118300987522}. Best is trial 20 with value: 0.6693548387096774.\n"
     ]
    },
    {
     "name": "stdout",
     "output_type": "stream",
     "text": [
      "[LightGBM] [Warning] bagging_freq is set=6, subsample_freq=0 will be ignored. Current value: bagging_freq=6\n",
      "[LightGBM] [Warning] lambda_l1 is set=0.9339385885853403, reg_alpha=0.0 will be ignored. Current value: lambda_l1=0.9339385885853403\n",
      "[LightGBM] [Warning] min_data_in_leaf is set=16, min_child_samples=20 will be ignored. Current value: min_data_in_leaf=16\n",
      "[LightGBM] [Warning] num_iterations is set=120, num_boost_round=120 will be ignored. Current value: num_iterations=120\n",
      "[LightGBM] [Warning] lambda_l2 is set=0.49689710271563087, reg_lambda=0.0 will be ignored. Current value: lambda_l2=0.49689710271563087\n",
      "[LightGBM] [Warning] feature_fraction is set=0.43506562869376597, colsample_bytree=1.0 will be ignored. Current value: feature_fraction=0.43506562869376597\n",
      "[LightGBM] [Warning] bagging_fraction is set=0.6137689065794085, subsample=1.0 will be ignored. Current value: bagging_fraction=0.6137689065794085\n"
     ]
    },
    {
     "name": "stderr",
     "output_type": "stream",
     "text": [
      "[I 2023-06-06 16:49:13,842] Trial 25 finished with value: 0.6633064516129032 and parameters: {'max_depth': 6, 'num_boost_round': 120, 'min_data_in_leaf': 16, 'n_estimators': 1417, 'num_leaves': 522, 'learning_rate': 0.024195206611870617, 'feature_fraction': 0.43506562869376597, 'bagging_fraction': 0.6137689065794085, 'bagging_freq': 6, 'lambda_l1': 0.9339385885853403, 'lambda_l2': 0.49689710271563087}. Best is trial 20 with value: 0.6693548387096774.\n"
     ]
    },
    {
     "name": "stdout",
     "output_type": "stream",
     "text": [
      "[LightGBM] [Warning] bagging_freq is set=3, subsample_freq=0 will be ignored. Current value: bagging_freq=3\n",
      "[LightGBM] [Warning] lambda_l1 is set=0.3444854238234955, reg_alpha=0.0 will be ignored. Current value: lambda_l1=0.3444854238234955\n",
      "[LightGBM] [Warning] min_data_in_leaf is set=17, min_child_samples=20 will be ignored. Current value: min_data_in_leaf=17\n",
      "[LightGBM] [Warning] num_iterations is set=153, num_boost_round=153 will be ignored. Current value: num_iterations=153\n",
      "[LightGBM] [Warning] lambda_l2 is set=0.32190717279983505, reg_lambda=0.0 will be ignored. Current value: lambda_l2=0.32190717279983505\n",
      "[LightGBM] [Warning] feature_fraction is set=0.5996426902668317, colsample_bytree=1.0 will be ignored. Current value: feature_fraction=0.5996426902668317\n",
      "[LightGBM] [Warning] bagging_fraction is set=0.7298975471329071, subsample=1.0 will be ignored. Current value: bagging_fraction=0.7298975471329071\n"
     ]
    },
    {
     "name": "stderr",
     "output_type": "stream",
     "text": [
      "[I 2023-06-06 16:49:15,243] Trial 26 finished with value: 0.6733870967741935 and parameters: {'max_depth': 8, 'num_boost_round': 153, 'min_data_in_leaf': 17, 'n_estimators': 934, 'num_leaves': 290, 'learning_rate': 0.03303130202695269, 'feature_fraction': 0.5996426902668317, 'bagging_fraction': 0.7298975471329071, 'bagging_freq': 3, 'lambda_l1': 0.3444854238234955, 'lambda_l2': 0.32190717279983505}. Best is trial 26 with value: 0.6733870967741935.\n"
     ]
    },
    {
     "name": "stdout",
     "output_type": "stream",
     "text": [
      "[LightGBM] [Warning] bagging_freq is set=3, subsample_freq=0 will be ignored. Current value: bagging_freq=3\n",
      "[LightGBM] [Warning] lambda_l1 is set=0.36332541895184733, reg_alpha=0.0 will be ignored. Current value: lambda_l1=0.36332541895184733\n",
      "[LightGBM] [Warning] min_data_in_leaf is set=17, min_child_samples=20 will be ignored. Current value: min_data_in_leaf=17\n",
      "[LightGBM] [Warning] num_iterations is set=196, num_boost_round=196 will be ignored. Current value: num_iterations=196\n",
      "[LightGBM] [Warning] lambda_l2 is set=0.3018251165270762, reg_lambda=0.0 will be ignored. Current value: lambda_l2=0.3018251165270762\n",
      "[LightGBM] [Warning] feature_fraction is set=0.6102259829773049, colsample_bytree=1.0 will be ignored. Current value: feature_fraction=0.6102259829773049\n",
      "[LightGBM] [Warning] bagging_fraction is set=0.725775363771315, subsample=1.0 will be ignored. Current value: bagging_fraction=0.725775363771315\n"
     ]
    },
    {
     "name": "stderr",
     "output_type": "stream",
     "text": [
      "[I 2023-06-06 16:49:17,056] Trial 27 finished with value: 0.6633064516129032 and parameters: {'max_depth': 8, 'num_boost_round': 196, 'min_data_in_leaf': 17, 'n_estimators': 826, 'num_leaves': 627, 'learning_rate': 0.0461998253064977, 'feature_fraction': 0.6102259829773049, 'bagging_fraction': 0.725775363771315, 'bagging_freq': 3, 'lambda_l1': 0.36332541895184733, 'lambda_l2': 0.3018251165270762}. Best is trial 26 with value: 0.6733870967741935.\n"
     ]
    },
    {
     "name": "stdout",
     "output_type": "stream",
     "text": [
      "[LightGBM] [Warning] bagging_freq is set=1, subsample_freq=0 will be ignored. Current value: bagging_freq=1\n",
      "[LightGBM] [Warning] lambda_l1 is set=0.33019842114492454, reg_alpha=0.0 will be ignored. Current value: lambda_l1=0.33019842114492454\n",
      "[LightGBM] [Warning] min_data_in_leaf is set=19, min_child_samples=20 will be ignored. Current value: min_data_in_leaf=19\n",
      "[LightGBM] [Warning] num_iterations is set=153, num_boost_round=153 will be ignored. Current value: num_iterations=153\n",
      "[LightGBM] [Warning] lambda_l2 is set=0.21426237225379052, reg_lambda=0.0 will be ignored. Current value: lambda_l2=0.21426237225379052\n",
      "[LightGBM] [Warning] feature_fraction is set=0.586988569719735, colsample_bytree=1.0 will be ignored. Current value: feature_fraction=0.586988569719735\n",
      "[LightGBM] [Warning] bagging_fraction is set=0.6810346418439888, subsample=1.0 will be ignored. Current value: bagging_fraction=0.6810346418439888\n"
     ]
    },
    {
     "name": "stderr",
     "output_type": "stream",
     "text": [
      "[I 2023-06-06 16:49:18,353] Trial 28 finished with value: 0.6653225806451613 and parameters: {'max_depth': 8, 'num_boost_round': 153, 'min_data_in_leaf': 19, 'n_estimators': 617, 'num_leaves': 293, 'learning_rate': 0.01921675844538717, 'feature_fraction': 0.586988569719735, 'bagging_fraction': 0.6810346418439888, 'bagging_freq': 1, 'lambda_l1': 0.33019842114492454, 'lambda_l2': 0.21426237225379052}. Best is trial 26 with value: 0.6733870967741935.\n"
     ]
    },
    {
     "name": "stdout",
     "output_type": "stream",
     "text": [
      "[LightGBM] [Warning] bagging_freq is set=2, subsample_freq=0 will be ignored. Current value: bagging_freq=2\n",
      "[LightGBM] [Warning] lambda_l1 is set=0.6709584182371829, reg_alpha=0.0 will be ignored. Current value: lambda_l1=0.6709584182371829\n",
      "[LightGBM] [Warning] min_data_in_leaf is set=15, min_child_samples=20 will be ignored. Current value: min_data_in_leaf=15\n",
      "[LightGBM] [Warning] num_iterations is set=165, num_boost_round=165 will be ignored. Current value: num_iterations=165\n",
      "[LightGBM] [Warning] lambda_l2 is set=0.3669170596861734, reg_lambda=0.0 will be ignored. Current value: lambda_l2=0.3669170596861734\n",
      "[LightGBM] [Warning] feature_fraction is set=0.5415529650035293, colsample_bytree=1.0 will be ignored. Current value: feature_fraction=0.5415529650035293\n",
      "[LightGBM] [Warning] bagging_fraction is set=0.5734334727785433, subsample=1.0 will be ignored. Current value: bagging_fraction=0.5734334727785433\n"
     ]
    },
    {
     "name": "stderr",
     "output_type": "stream",
     "text": [
      "[I 2023-06-06 16:49:19,656] Trial 29 finished with value: 0.6612903225806451 and parameters: {'max_depth': 8, 'num_boost_round': 165, 'min_data_in_leaf': 15, 'n_estimators': 936, 'num_leaves': 895, 'learning_rate': 0.026209320607081976, 'feature_fraction': 0.5415529650035293, 'bagging_fraction': 0.5734334727785433, 'bagging_freq': 2, 'lambda_l1': 0.6709584182371829, 'lambda_l2': 0.3669170596861734}. Best is trial 26 with value: 0.6733870967741935.\n"
     ]
    },
    {
     "name": "stdout",
     "output_type": "stream",
     "text": [
      "[LightGBM] [Warning] bagging_freq is set=4, subsample_freq=0 will be ignored. Current value: bagging_freq=4\n",
      "[LightGBM] [Warning] lambda_l1 is set=0.23970464498016156, reg_alpha=0.0 will be ignored. Current value: lambda_l1=0.23970464498016156\n",
      "[LightGBM] [Warning] min_data_in_leaf is set=19, min_child_samples=20 will be ignored. Current value: min_data_in_leaf=19\n",
      "[LightGBM] [Warning] num_iterations is set=145, num_boost_round=145 will be ignored. Current value: num_iterations=145\n",
      "[LightGBM] [Warning] lambda_l2 is set=0.1384907243674338, reg_lambda=0.0 will be ignored. Current value: lambda_l2=0.1384907243674338\n",
      "[LightGBM] [Warning] feature_fraction is set=0.3910048722005683, colsample_bytree=1.0 will be ignored. Current value: feature_fraction=0.3910048722005683\n",
      "[LightGBM] [Warning] bagging_fraction is set=0.74003359396461, subsample=1.0 will be ignored. Current value: bagging_fraction=0.74003359396461\n"
     ]
    },
    {
     "name": "stderr",
     "output_type": "stream",
     "text": [
      "[I 2023-06-06 16:49:20,634] Trial 30 finished with value: 0.6592741935483871 and parameters: {'max_depth': 7, 'num_boost_round': 145, 'min_data_in_leaf': 19, 'n_estimators': 489, 'num_leaves': 1353, 'learning_rate': 0.023568681471418062, 'feature_fraction': 0.3910048722005683, 'bagging_fraction': 0.74003359396461, 'bagging_freq': 4, 'lambda_l1': 0.23970464498016156, 'lambda_l2': 0.1384907243674338}. Best is trial 26 with value: 0.6733870967741935.\n"
     ]
    },
    {
     "name": "stdout",
     "output_type": "stream",
     "text": [
      "[LightGBM] [Warning] bagging_freq is set=5, subsample_freq=0 will be ignored. Current value: bagging_freq=5\n",
      "[LightGBM] [Warning] lambda_l1 is set=0.6583595517735001, reg_alpha=0.0 will be ignored. Current value: lambda_l1=0.6583595517735001\n",
      "[LightGBM] [Warning] min_data_in_leaf is set=16, min_child_samples=20 will be ignored. Current value: min_data_in_leaf=16\n",
      "[LightGBM] [Warning] num_iterations is set=110, num_boost_round=110 will be ignored. Current value: num_iterations=110\n",
      "[LightGBM] [Warning] lambda_l2 is set=0.28164725321125933, reg_lambda=0.0 will be ignored. Current value: lambda_l2=0.28164725321125933\n",
      "[LightGBM] [Warning] feature_fraction is set=0.49297390474123914, colsample_bytree=1.0 will be ignored. Current value: feature_fraction=0.49297390474123914\n",
      "[LightGBM] [Warning] bagging_fraction is set=0.7509919222600697, subsample=1.0 will be ignored. Current value: bagging_fraction=0.7509919222600697\n"
     ]
    },
    {
     "name": "stderr",
     "output_type": "stream",
     "text": [
      "[I 2023-06-06 16:49:21,601] Trial 31 finished with value: 0.6673387096774194 and parameters: {'max_depth': 8, 'num_boost_round': 110, 'min_data_in_leaf': 16, 'n_estimators': 1687, 'num_leaves': 147, 'learning_rate': 0.03153240927677654, 'feature_fraction': 0.49297390474123914, 'bagging_fraction': 0.7509919222600697, 'bagging_freq': 5, 'lambda_l1': 0.6583595517735001, 'lambda_l2': 0.28164725321125933}. Best is trial 26 with value: 0.6733870967741935.\n"
     ]
    },
    {
     "name": "stdout",
     "output_type": "stream",
     "text": [
      "[LightGBM] [Warning] bagging_freq is set=3, subsample_freq=0 will be ignored. Current value: bagging_freq=3\n",
      "[LightGBM] [Warning] lambda_l1 is set=0.4037677034232654, reg_alpha=0.0 will be ignored. Current value: lambda_l1=0.4037677034232654\n",
      "[LightGBM] [Warning] min_data_in_leaf is set=16, min_child_samples=20 will be ignored. Current value: min_data_in_leaf=16\n",
      "[LightGBM] [Warning] num_iterations is set=123, num_boost_round=123 will be ignored. Current value: num_iterations=123\n",
      "[LightGBM] [Warning] lambda_l2 is set=0.25286452848266233, reg_lambda=0.0 will be ignored. Current value: lambda_l2=0.25286452848266233\n",
      "[LightGBM] [Warning] feature_fraction is set=0.5185690451818195, colsample_bytree=1.0 will be ignored. Current value: feature_fraction=0.5185690451818195\n",
      "[LightGBM] [Warning] bagging_fraction is set=0.6840139864770938, subsample=1.0 will be ignored. Current value: bagging_fraction=0.6840139864770938\n"
     ]
    },
    {
     "name": "stderr",
     "output_type": "stream",
     "text": [
      "[I 2023-06-06 16:49:22,639] Trial 32 finished with value: 0.6592741935483871 and parameters: {'max_depth': 8, 'num_boost_round': 123, 'min_data_in_leaf': 16, 'n_estimators': 1675, 'num_leaves': 198, 'learning_rate': 0.03621151175526355, 'feature_fraction': 0.5185690451818195, 'bagging_fraction': 0.6840139864770938, 'bagging_freq': 3, 'lambda_l1': 0.4037677034232654, 'lambda_l2': 0.25286452848266233}. Best is trial 26 with value: 0.6733870967741935.\n"
     ]
    },
    {
     "name": "stdout",
     "output_type": "stream",
     "text": [
      "[LightGBM] [Warning] bagging_freq is set=4, subsample_freq=0 will be ignored. Current value: bagging_freq=4\n",
      "[LightGBM] [Warning] lambda_l1 is set=0.7062392824588116, reg_alpha=0.0 will be ignored. Current value: lambda_l1=0.7062392824588116\n",
      "[LightGBM] [Warning] min_data_in_leaf is set=17, min_child_samples=20 will be ignored. Current value: min_data_in_leaf=17\n",
      "[LightGBM] [Warning] num_iterations is set=110, num_boost_round=110 will be ignored. Current value: num_iterations=110\n",
      "[LightGBM] [Warning] lambda_l2 is set=0.2884938731720657, reg_lambda=0.0 will be ignored. Current value: lambda_l2=0.2884938731720657\n",
      "[LightGBM] [Warning] feature_fraction is set=0.44659591690383704, colsample_bytree=1.0 will be ignored. Current value: feature_fraction=0.44659591690383704\n",
      "[LightGBM] [Warning] bagging_fraction is set=0.73925160947658, subsample=1.0 will be ignored. Current value: bagging_fraction=0.73925160947658\n"
     ]
    },
    {
     "name": "stderr",
     "output_type": "stream",
     "text": [
      "[I 2023-06-06 16:49:23,522] Trial 33 finished with value: 0.655241935483871 and parameters: {'max_depth': 8, 'num_boost_round': 110, 'min_data_in_leaf': 17, 'n_estimators': 1678, 'num_leaves': 408, 'learning_rate': 0.03025578631767343, 'feature_fraction': 0.44659591690383704, 'bagging_fraction': 0.73925160947658, 'bagging_freq': 4, 'lambda_l1': 0.7062392824588116, 'lambda_l2': 0.2884938731720657}. Best is trial 26 with value: 0.6733870967741935.\n"
     ]
    },
    {
     "name": "stdout",
     "output_type": "stream",
     "text": [
      "[LightGBM] [Warning] bagging_freq is set=8, subsample_freq=0 will be ignored. Current value: bagging_freq=8\n",
      "[LightGBM] [Warning] lambda_l1 is set=0.4185548376678754, reg_alpha=0.0 will be ignored. Current value: lambda_l1=0.4185548376678754\n",
      "[LightGBM] [Warning] min_data_in_leaf is set=15, min_child_samples=20 will be ignored. Current value: min_data_in_leaf=15\n",
      "[LightGBM] [Warning] num_iterations is set=127, num_boost_round=127 will be ignored. Current value: num_iterations=127\n",
      "[LightGBM] [Warning] lambda_l2 is set=0.4438860870089944, reg_lambda=0.0 will be ignored. Current value: lambda_l2=0.4438860870089944\n",
      "[LightGBM] [Warning] feature_fraction is set=0.6099424587427238, colsample_bytree=1.0 will be ignored. Current value: feature_fraction=0.6099424587427238\n",
      "[LightGBM] [Warning] bagging_fraction is set=0.6963703774379661, subsample=1.0 will be ignored. Current value: bagging_fraction=0.6963703774379661\n"
     ]
    },
    {
     "name": "stderr",
     "output_type": "stream",
     "text": [
      "[I 2023-06-06 16:49:24,775] Trial 34 finished with value: 0.6512096774193549 and parameters: {'max_depth': 8, 'num_boost_round': 127, 'min_data_in_leaf': 15, 'n_estimators': 1180, 'num_leaves': 189, 'learning_rate': 0.025367727381319462, 'feature_fraction': 0.6099424587427238, 'bagging_fraction': 0.6963703774379661, 'bagging_freq': 8, 'lambda_l1': 0.4185548376678754, 'lambda_l2': 0.4438860870089944}. Best is trial 26 with value: 0.6733870967741935.\n"
     ]
    },
    {
     "name": "stdout",
     "output_type": "stream",
     "text": [
      "[LightGBM] [Warning] bagging_freq is set=6, subsample_freq=0 will be ignored. Current value: bagging_freq=6\n",
      "[LightGBM] [Warning] lambda_l1 is set=0.6913301155856539, reg_alpha=0.0 will be ignored. Current value: lambda_l1=0.6913301155856539\n",
      "[LightGBM] [Warning] min_data_in_leaf is set=18, min_child_samples=20 will be ignored. Current value: min_data_in_leaf=18\n",
      "[LightGBM] [Warning] num_iterations is set=162, num_boost_round=162 will be ignored. Current value: num_iterations=162\n",
      "[LightGBM] [Warning] lambda_l2 is set=0.15569598891895192, reg_lambda=0.0 will be ignored. Current value: lambda_l2=0.15569598891895192\n",
      "[LightGBM] [Warning] feature_fraction is set=0.5791028739146163, colsample_bytree=1.0 will be ignored. Current value: feature_fraction=0.5791028739146163\n",
      "[LightGBM] [Warning] bagging_fraction is set=0.7584418146101408, subsample=1.0 will be ignored. Current value: bagging_fraction=0.7584418146101408\n"
     ]
    },
    {
     "name": "stderr",
     "output_type": "stream",
     "text": [
      "[I 2023-06-06 16:49:26,058] Trial 35 finished with value: 0.6592741935483871 and parameters: {'max_depth': 7, 'num_boost_round': 162, 'min_data_in_leaf': 18, 'n_estimators': 1353, 'num_leaves': 1001, 'learning_rate': 0.035066479608069225, 'feature_fraction': 0.5791028739146163, 'bagging_fraction': 0.7584418146101408, 'bagging_freq': 6, 'lambda_l1': 0.6913301155856539, 'lambda_l2': 0.15569598891895192}. Best is trial 26 with value: 0.6733870967741935.\n"
     ]
    },
    {
     "name": "stdout",
     "output_type": "stream",
     "text": [
      "[LightGBM] [Warning] bagging_freq is set=5, subsample_freq=0 will be ignored. Current value: bagging_freq=5\n",
      "[LightGBM] [Warning] lambda_l1 is set=0.44197886236738854, reg_alpha=0.0 will be ignored. Current value: lambda_l1=0.44197886236738854\n",
      "[LightGBM] [Warning] min_data_in_leaf is set=16, min_child_samples=20 will be ignored. Current value: min_data_in_leaf=16\n",
      "[LightGBM] [Warning] num_iterations is set=139, num_boost_round=139 will be ignored. Current value: num_iterations=139\n",
      "[LightGBM] [Warning] lambda_l2 is set=0.21014937245857782, reg_lambda=0.0 will be ignored. Current value: lambda_l2=0.21014937245857782\n",
      "[LightGBM] [Warning] feature_fraction is set=0.49477028869699313, colsample_bytree=1.0 will be ignored. Current value: feature_fraction=0.49477028869699313\n",
      "[LightGBM] [Warning] bagging_fraction is set=0.639826103974912, subsample=1.0 will be ignored. Current value: bagging_fraction=0.639826103974912\n"
     ]
    },
    {
     "name": "stderr",
     "output_type": "stream",
     "text": [
      "[I 2023-06-06 16:49:27,185] Trial 36 finished with value: 0.6633064516129032 and parameters: {'max_depth': 8, 'num_boost_round': 139, 'min_data_in_leaf': 16, 'n_estimators': 1752, 'num_leaves': 523, 'learning_rate': 0.022278289151124762, 'feature_fraction': 0.49477028869699313, 'bagging_fraction': 0.639826103974912, 'bagging_freq': 5, 'lambda_l1': 0.44197886236738854, 'lambda_l2': 0.21014937245857782}. Best is trial 26 with value: 0.6733870967741935.\n"
     ]
    },
    {
     "name": "stdout",
     "output_type": "stream",
     "text": [
      "[LightGBM] [Warning] bagging_freq is set=8, subsample_freq=0 will be ignored. Current value: bagging_freq=8\n",
      "[LightGBM] [Warning] lambda_l1 is set=0.6226071791509522, reg_alpha=0.0 will be ignored. Current value: lambda_l1=0.6226071791509522\n",
      "[LightGBM] [Warning] min_data_in_leaf is set=17, min_child_samples=20 will be ignored. Current value: min_data_in_leaf=17\n",
      "[LightGBM] [Warning] num_iterations is set=101, num_boost_round=101 will be ignored. Current value: num_iterations=101\n",
      "[LightGBM] [Warning] lambda_l2 is set=0.12714428676477638, reg_lambda=0.0 will be ignored. Current value: lambda_l2=0.12714428676477638\n",
      "[LightGBM] [Warning] feature_fraction is set=0.6262582411571607, colsample_bytree=1.0 will be ignored. Current value: feature_fraction=0.6262582411571607\n",
      "[LightGBM] [Warning] bagging_fraction is set=0.3904982120722051, subsample=1.0 will be ignored. Current value: bagging_fraction=0.3904982120722051\n"
     ]
    },
    {
     "name": "stderr",
     "output_type": "stream",
     "text": [
      "[I 2023-06-06 16:49:27,777] Trial 37 finished with value: 0.6512096774193549 and parameters: {'max_depth': 7, 'num_boost_round': 101, 'min_data_in_leaf': 17, 'n_estimators': 1249, 'num_leaves': 1752, 'learning_rate': 0.043080414077694196, 'feature_fraction': 0.6262582411571607, 'bagging_fraction': 0.3904982120722051, 'bagging_freq': 8, 'lambda_l1': 0.6226071791509522, 'lambda_l2': 0.12714428676477638}. Best is trial 26 with value: 0.6733870967741935.\n"
     ]
    },
    {
     "name": "stdout",
     "output_type": "stream",
     "text": [
      "[LightGBM] [Warning] bagging_freq is set=3, subsample_freq=0 will be ignored. Current value: bagging_freq=3\n",
      "[LightGBM] [Warning] lambda_l1 is set=0.14864972217277225, reg_alpha=0.0 will be ignored. Current value: lambda_l1=0.14864972217277225\n",
      "[LightGBM] [Warning] min_data_in_leaf is set=14, min_child_samples=20 will be ignored. Current value: min_data_in_leaf=14\n",
      "[LightGBM] [Warning] num_iterations is set=131, num_boost_round=131 will be ignored. Current value: num_iterations=131\n",
      "[LightGBM] [Warning] lambda_l2 is set=0.34168075117537045, reg_lambda=0.0 will be ignored. Current value: lambda_l2=0.34168075117537045\n",
      "[LightGBM] [Warning] feature_fraction is set=0.5425207977041333, colsample_bytree=1.0 will be ignored. Current value: feature_fraction=0.5425207977041333\n",
      "[LightGBM] [Warning] bagging_fraction is set=0.7580984906684368, subsample=1.0 will be ignored. Current value: bagging_fraction=0.7580984906684368\n"
     ]
    },
    {
     "name": "stderr",
     "output_type": "stream",
     "text": [
      "[I 2023-06-06 16:49:28,457] Trial 38 finished with value: 0.6592741935483871 and parameters: {'max_depth': 8, 'num_boost_round': 131, 'min_data_in_leaf': 14, 'n_estimators': 287, 'num_leaves': 15, 'learning_rate': 0.02847407229047476, 'feature_fraction': 0.5425207977041333, 'bagging_fraction': 0.7580984906684368, 'bagging_freq': 3, 'lambda_l1': 0.14864972217277225, 'lambda_l2': 0.34168075117537045}. Best is trial 26 with value: 0.6733870967741935.\n"
     ]
    },
    {
     "name": "stdout",
     "output_type": "stream",
     "text": [
      "[LightGBM] [Warning] bagging_freq is set=7, subsample_freq=0 will be ignored. Current value: bagging_freq=7\n",
      "[LightGBM] [Warning] lambda_l1 is set=0.3003991474365167, reg_alpha=0.0 will be ignored. Current value: lambda_l1=0.3003991474365167\n",
      "[LightGBM] [Warning] min_data_in_leaf is set=16, min_child_samples=20 will be ignored. Current value: min_data_in_leaf=16\n",
      "[LightGBM] [Warning] num_iterations is set=150, num_boost_round=150 will be ignored. Current value: num_iterations=150\n",
      "[LightGBM] [Warning] lambda_l2 is set=0.1775910194318739, reg_lambda=0.0 will be ignored. Current value: lambda_l2=0.1775910194318739\n",
      "[LightGBM] [Warning] feature_fraction is set=0.39404605412300786, colsample_bytree=1.0 will be ignored. Current value: feature_fraction=0.39404605412300786\n",
      "[LightGBM] [Warning] bagging_fraction is set=0.7005712085664147, subsample=1.0 will be ignored. Current value: bagging_fraction=0.7005712085664147\n"
     ]
    },
    {
     "name": "stderr",
     "output_type": "stream",
     "text": [
      "[I 2023-06-06 16:49:29,508] Trial 39 finished with value: 0.6653225806451613 and parameters: {'max_depth': 7, 'num_boost_round': 150, 'min_data_in_leaf': 16, 'n_estimators': 1608, 'num_leaves': 160, 'learning_rate': 0.02046667573094473, 'feature_fraction': 0.39404605412300786, 'bagging_fraction': 0.7005712085664147, 'bagging_freq': 7, 'lambda_l1': 0.3003991474365167, 'lambda_l2': 0.1775910194318739}. Best is trial 26 with value: 0.6733870967741935.\n"
     ]
    },
    {
     "name": "stdout",
     "output_type": "stream",
     "text": [
      "[LightGBM] [Warning] bagging_freq is set=5, subsample_freq=0 will be ignored. Current value: bagging_freq=5\n",
      "[LightGBM] [Warning] lambda_l1 is set=0.9865022975813809, reg_alpha=0.0 will be ignored. Current value: lambda_l1=0.9865022975813809\n",
      "[LightGBM] [Warning] min_data_in_leaf is set=15, min_child_samples=20 will be ignored. Current value: min_data_in_leaf=15\n",
      "[LightGBM] [Warning] num_iterations is set=203, num_boost_round=203 will be ignored. Current value: num_iterations=203\n",
      "[LightGBM] [Warning] lambda_l2 is set=0.25714333088988683, reg_lambda=0.0 will be ignored. Current value: lambda_l2=0.25714333088988683\n",
      "[LightGBM] [Warning] feature_fraction is set=0.6558564874541717, colsample_bytree=1.0 will be ignored. Current value: feature_fraction=0.6558564874541717\n",
      "[LightGBM] [Warning] bagging_fraction is set=0.6589192779380377, subsample=1.0 will be ignored. Current value: bagging_fraction=0.6589192779380377\n"
     ]
    },
    {
     "name": "stderr",
     "output_type": "stream",
     "text": [
      "[I 2023-06-06 16:49:31,405] Trial 40 finished with value: 0.657258064516129 and parameters: {'max_depth': 8, 'num_boost_round': 203, 'min_data_in_leaf': 15, 'n_estimators': 1862, 'num_leaves': 719, 'learning_rate': 0.017269632040941833, 'feature_fraction': 0.6558564874541717, 'bagging_fraction': 0.6589192779380377, 'bagging_freq': 5, 'lambda_l1': 0.9865022975813809, 'lambda_l2': 0.25714333088988683}. Best is trial 26 with value: 0.6733870967741935.\n"
     ]
    },
    {
     "name": "stdout",
     "output_type": "stream",
     "text": [
      "[LightGBM] [Warning] bagging_freq is set=5, subsample_freq=0 will be ignored. Current value: bagging_freq=5\n",
      "[LightGBM] [Warning] lambda_l1 is set=0.7601299781828581, reg_alpha=0.0 will be ignored. Current value: lambda_l1=0.7601299781828581\n",
      "[LightGBM] [Warning] min_data_in_leaf is set=11, min_child_samples=20 will be ignored. Current value: min_data_in_leaf=11\n",
      "[LightGBM] [Warning] num_iterations is set=110, num_boost_round=110 will be ignored. Current value: num_iterations=110\n",
      "[LightGBM] [Warning] lambda_l2 is set=0.7183130200534874, reg_lambda=0.0 will be ignored. Current value: lambda_l2=0.7183130200534874\n",
      "[LightGBM] [Warning] feature_fraction is set=0.49153880879869066, colsample_bytree=1.0 will be ignored. Current value: feature_fraction=0.49153880879869066\n",
      "[LightGBM] [Warning] bagging_fraction is set=0.7726832022097285, subsample=1.0 will be ignored. Current value: bagging_fraction=0.7726832022097285\n"
     ]
    },
    {
     "name": "stderr",
     "output_type": "stream",
     "text": [
      "[I 2023-06-06 16:49:32,326] Trial 41 finished with value: 0.6653225806451613 and parameters: {'max_depth': 7, 'num_boost_round': 110, 'min_data_in_leaf': 11, 'n_estimators': 1470, 'num_leaves': 317, 'learning_rate': 0.03430292882182618, 'feature_fraction': 0.49153880879869066, 'bagging_fraction': 0.7726832022097285, 'bagging_freq': 5, 'lambda_l1': 0.7601299781828581, 'lambda_l2': 0.7183130200534874}. Best is trial 26 with value: 0.6733870967741935.\n"
     ]
    },
    {
     "name": "stdout",
     "output_type": "stream",
     "text": [
      "[LightGBM] [Warning] bagging_freq is set=4, subsample_freq=0 will be ignored. Current value: bagging_freq=4\n",
      "[LightGBM] [Warning] lambda_l1 is set=0.5275142174507832, reg_alpha=0.0 will be ignored. Current value: lambda_l1=0.5275142174507832\n",
      "[LightGBM] [Warning] min_data_in_leaf is set=12, min_child_samples=20 will be ignored. Current value: min_data_in_leaf=12\n",
      "[LightGBM] [Warning] num_iterations is set=113, num_boost_round=113 will be ignored. Current value: num_iterations=113\n",
      "[LightGBM] [Warning] lambda_l2 is set=0.49161118701210305, reg_lambda=0.0 will be ignored. Current value: lambda_l2=0.49161118701210305\n",
      "[LightGBM] [Warning] feature_fraction is set=0.4650793979089524, colsample_bytree=1.0 will be ignored. Current value: feature_fraction=0.4650793979089524\n",
      "[LightGBM] [Warning] bagging_fraction is set=0.7724701322439866, subsample=1.0 will be ignored. Current value: bagging_fraction=0.7724701322439866\n"
     ]
    },
    {
     "name": "stderr",
     "output_type": "stream",
     "text": [
      "[I 2023-06-06 16:49:33,041] Trial 42 finished with value: 0.6693548387096774 and parameters: {'max_depth': 6, 'num_boost_round': 113, 'min_data_in_leaf': 12, 'n_estimators': 1301, 'num_leaves': 117, 'learning_rate': 0.03142475375056811, 'feature_fraction': 0.4650793979089524, 'bagging_fraction': 0.7724701322439866, 'bagging_freq': 4, 'lambda_l1': 0.5275142174507832, 'lambda_l2': 0.49161118701210305}. Best is trial 26 with value: 0.6733870967741935.\n"
     ]
    },
    {
     "name": "stdout",
     "output_type": "stream",
     "text": [
      "[LightGBM] [Warning] bagging_freq is set=4, subsample_freq=0 will be ignored. Current value: bagging_freq=4\n",
      "[LightGBM] [Warning] lambda_l1 is set=0.4874113751948518, reg_alpha=0.0 will be ignored. Current value: lambda_l1=0.4874113751948518\n",
      "[LightGBM] [Warning] min_data_in_leaf is set=17, min_child_samples=20 will be ignored. Current value: min_data_in_leaf=17\n",
      "[LightGBM] [Warning] num_iterations is set=121, num_boost_round=121 will be ignored. Current value: num_iterations=121\n",
      "[LightGBM] [Warning] lambda_l2 is set=0.511667322440907, reg_lambda=0.0 will be ignored. Current value: lambda_l2=0.511667322440907\n",
      "[LightGBM] [Warning] feature_fraction is set=0.4370591479814703, colsample_bytree=1.0 will be ignored. Current value: feature_fraction=0.4370591479814703\n",
      "[LightGBM] [Warning] bagging_fraction is set=0.7669354891462956, subsample=1.0 will be ignored. Current value: bagging_fraction=0.7669354891462956\n"
     ]
    },
    {
     "name": "stderr",
     "output_type": "stream",
     "text": [
      "[I 2023-06-06 16:49:33,749] Trial 43 finished with value: 0.6633064516129032 and parameters: {'max_depth': 6, 'num_boost_round': 121, 'min_data_in_leaf': 17, 'n_estimators': 1328, 'num_leaves': 466, 'learning_rate': 0.04070530612766683, 'feature_fraction': 0.4370591479814703, 'bagging_fraction': 0.7669354891462956, 'bagging_freq': 4, 'lambda_l1': 0.4874113751948518, 'lambda_l2': 0.511667322440907}. Best is trial 26 with value: 0.6733870967741935.\n"
     ]
    },
    {
     "name": "stdout",
     "output_type": "stream",
     "text": [
      "[LightGBM] [Warning] bagging_freq is set=2, subsample_freq=0 will be ignored. Current value: bagging_freq=2\n",
      "[LightGBM] [Warning] lambda_l1 is set=0.4270706979547866, reg_alpha=0.0 will be ignored. Current value: lambda_l1=0.4270706979547866\n",
      "[LightGBM] [Warning] min_data_in_leaf is set=11, min_child_samples=20 will be ignored. Current value: min_data_in_leaf=11\n",
      "[LightGBM] [Warning] num_iterations is set=135, num_boost_round=135 will be ignored. Current value: num_iterations=135\n",
      "[LightGBM] [Warning] lambda_l2 is set=0.39469893786803856, reg_lambda=0.0 will be ignored. Current value: lambda_l2=0.39469893786803856\n",
      "[LightGBM] [Warning] feature_fraction is set=0.5260661221181007, colsample_bytree=1.0 will be ignored. Current value: feature_fraction=0.5260661221181007\n",
      "[LightGBM] [Warning] bagging_fraction is set=0.7198400170796314, subsample=1.0 will be ignored. Current value: bagging_fraction=0.7198400170796314\n"
     ]
    },
    {
     "name": "stderr",
     "output_type": "stream",
     "text": [
      "[I 2023-06-06 16:49:34,635] Trial 44 finished with value: 0.657258064516129 and parameters: {'max_depth': 6, 'num_boost_round': 135, 'min_data_in_leaf': 11, 'n_estimators': 759, 'num_leaves': 116, 'learning_rate': 0.02592474151539127, 'feature_fraction': 0.5260661221181007, 'bagging_fraction': 0.7198400170796314, 'bagging_freq': 2, 'lambda_l1': 0.4270706979547866, 'lambda_l2': 0.39469893786803856}. Best is trial 26 with value: 0.6733870967741935.\n"
     ]
    },
    {
     "name": "stdout",
     "output_type": "stream",
     "text": [
      "[LightGBM] [Warning] bagging_freq is set=4, subsample_freq=0 will be ignored. Current value: bagging_freq=4\n",
      "[LightGBM] [Warning] lambda_l1 is set=0.5965506547164828, reg_alpha=0.0 will be ignored. Current value: lambda_l1=0.5965506547164828\n",
      "[LightGBM] [Warning] min_data_in_leaf is set=18, min_child_samples=20 will be ignored. Current value: min_data_in_leaf=18\n",
      "[LightGBM] [Warning] num_iterations is set=110, num_boost_round=110 will be ignored. Current value: num_iterations=110\n",
      "[LightGBM] [Warning] lambda_l2 is set=0.5184494657441205, reg_lambda=0.0 will be ignored. Current value: lambda_l2=0.5184494657441205\n",
      "[LightGBM] [Warning] feature_fraction is set=0.5917979977447594, colsample_bytree=1.0 will be ignored. Current value: feature_fraction=0.5917979977447594\n",
      "[LightGBM] [Warning] bagging_fraction is set=0.7539489652486011, subsample=1.0 will be ignored. Current value: bagging_fraction=0.7539489652486011\n"
     ]
    },
    {
     "name": "stderr",
     "output_type": "stream",
     "text": [
      "[I 2023-06-06 16:49:35,352] Trial 45 finished with value: 0.6653225806451613 and parameters: {'max_depth': 6, 'num_boost_round': 110, 'min_data_in_leaf': 18, 'n_estimators': 958, 'num_leaves': 287, 'learning_rate': 0.030472190489829885, 'feature_fraction': 0.5917979977447594, 'bagging_fraction': 0.7539489652486011, 'bagging_freq': 4, 'lambda_l1': 0.5965506547164828, 'lambda_l2': 0.5184494657441205}. Best is trial 26 with value: 0.6733870967741935.\n"
     ]
    },
    {
     "name": "stdout",
     "output_type": "stream",
     "text": [
      "[LightGBM] [Warning] bagging_freq is set=3, subsample_freq=0 will be ignored. Current value: bagging_freq=3\n",
      "[LightGBM] [Warning] lambda_l1 is set=0.24616386188637526, reg_alpha=0.0 will be ignored. Current value: lambda_l1=0.24616386188637526\n",
      "[LightGBM] [Warning] min_data_in_leaf is set=15, min_child_samples=20 will be ignored. Current value: min_data_in_leaf=15\n",
      "[LightGBM] [Warning] num_iterations is set=100, num_boost_round=100 will be ignored. Current value: num_iterations=100\n",
      "[LightGBM] [Warning] lambda_l2 is set=0.7706326371806355, reg_lambda=0.0 will be ignored. Current value: lambda_l2=0.7706326371806355\n",
      "[LightGBM] [Warning] feature_fraction is set=0.5547381106428442, colsample_bytree=1.0 will be ignored. Current value: feature_fraction=0.5547381106428442\n",
      "[LightGBM] [Warning] bagging_fraction is set=0.7002012994744022, subsample=1.0 will be ignored. Current value: bagging_fraction=0.7002012994744022\n"
     ]
    },
    {
     "name": "stderr",
     "output_type": "stream",
     "text": [
      "[I 2023-06-06 16:49:35,841] Trial 46 finished with value: 0.6633064516129032 and parameters: {'max_depth': 5, 'num_boost_round': 100, 'min_data_in_leaf': 15, 'n_estimators': 1150, 'num_leaves': 282, 'learning_rate': 0.03897747258798665, 'feature_fraction': 0.5547381106428442, 'bagging_fraction': 0.7002012994744022, 'bagging_freq': 3, 'lambda_l1': 0.24616386188637526, 'lambda_l2': 0.7706326371806355}. Best is trial 26 with value: 0.6733870967741935.\n"
     ]
    },
    {
     "name": "stdout",
     "output_type": "stream",
     "text": [
      "[LightGBM] [Warning] bagging_freq is set=9, subsample_freq=0 will be ignored. Current value: bagging_freq=9\n",
      "[LightGBM] [Warning] lambda_l1 is set=0.3094777898948676, reg_alpha=0.0 will be ignored. Current value: lambda_l1=0.3094777898948676\n",
      "[LightGBM] [Warning] min_data_in_leaf is set=16, min_child_samples=20 will be ignored. Current value: min_data_in_leaf=16\n",
      "[LightGBM] [Warning] num_iterations is set=141, num_boost_round=141 will be ignored. Current value: num_iterations=141\n",
      "[LightGBM] [Warning] lambda_l2 is set=0.40250869457611016, reg_lambda=0.0 will be ignored. Current value: lambda_l2=0.40250869457611016\n",
      "[LightGBM] [Warning] feature_fraction is set=0.46680988703466064, colsample_bytree=1.0 will be ignored. Current value: feature_fraction=0.46680988703466064\n",
      "[LightGBM] [Warning] bagging_fraction is set=0.7745176346635995, subsample=1.0 will be ignored. Current value: bagging_fraction=0.7745176346635995\n"
     ]
    },
    {
     "name": "stderr",
     "output_type": "stream",
     "text": [
      "[I 2023-06-06 16:49:36,658] Trial 47 finished with value: 0.6592741935483871 and parameters: {'max_depth': 6, 'num_boost_round': 141, 'min_data_in_leaf': 16, 'n_estimators': 1277, 'num_leaves': 1050, 'learning_rate': 0.02245142918722138, 'feature_fraction': 0.46680988703466064, 'bagging_fraction': 0.7745176346635995, 'bagging_freq': 9, 'lambda_l1': 0.3094777898948676, 'lambda_l2': 0.40250869457611016}. Best is trial 26 with value: 0.6733870967741935.\n"
     ]
    },
    {
     "name": "stdout",
     "output_type": "stream",
     "text": [
      "[LightGBM] [Warning] bagging_freq is set=6, subsample_freq=0 will be ignored. Current value: bagging_freq=6\n",
      "[LightGBM] [Warning] lambda_l1 is set=0.20287663158199512, reg_alpha=0.0 will be ignored. Current value: lambda_l1=0.20287663158199512\n",
      "[LightGBM] [Warning] min_data_in_leaf is set=19, min_child_samples=20 will be ignored. Current value: min_data_in_leaf=19\n",
      "[LightGBM] [Warning] num_iterations is set=126, num_boost_round=126 will be ignored. Current value: num_iterations=126\n",
      "[LightGBM] [Warning] lambda_l2 is set=0.5537899330553732, reg_lambda=0.0 will be ignored. Current value: lambda_l2=0.5537899330553732\n",
      "[LightGBM] [Warning] feature_fraction is set=0.5046077826180507, colsample_bytree=1.0 will be ignored. Current value: feature_fraction=0.5046077826180507\n",
      "[LightGBM] [Warning] bagging_fraction is set=0.7975467367043592, subsample=1.0 will be ignored. Current value: bagging_fraction=0.7975467367043592\n"
     ]
    },
    {
     "name": "stderr",
     "output_type": "stream",
     "text": [
      "[I 2023-06-06 16:49:37,765] Trial 48 finished with value: 0.6673387096774194 and parameters: {'max_depth': 8, 'num_boost_round': 126, 'min_data_in_leaf': 19, 'n_estimators': 1626, 'num_leaves': 132, 'learning_rate': 0.033512668748046114, 'feature_fraction': 0.5046077826180507, 'bagging_fraction': 0.7975467367043592, 'bagging_freq': 6, 'lambda_l1': 0.20287663158199512, 'lambda_l2': 0.5537899330553732}. Best is trial 26 with value: 0.6733870967741935.\n"
     ]
    },
    {
     "name": "stdout",
     "output_type": "stream",
     "text": [
      "[LightGBM] [Warning] bagging_freq is set=4, subsample_freq=0 will be ignored. Current value: bagging_freq=4\n",
      "[LightGBM] [Warning] lambda_l1 is set=0.5082622104791577, reg_alpha=0.0 will be ignored. Current value: lambda_l1=0.5082622104791577\n",
      "[LightGBM] [Warning] min_data_in_leaf is set=12, min_child_samples=20 will be ignored. Current value: min_data_in_leaf=12\n",
      "[LightGBM] [Warning] num_iterations is set=113, num_boost_round=113 will be ignored. Current value: num_iterations=113\n",
      "[LightGBM] [Warning] lambda_l2 is set=0.3452498585081512, reg_lambda=0.0 will be ignored. Current value: lambda_l2=0.3452498585081512\n",
      "[LightGBM] [Warning] feature_fraction is set=0.6344642450602794, colsample_bytree=1.0 will be ignored. Current value: feature_fraction=0.6344642450602794\n",
      "[LightGBM] [Warning] bagging_fraction is set=0.668337126965147, subsample=1.0 will be ignored. Current value: bagging_fraction=0.668337126965147\n"
     ]
    },
    {
     "name": "stderr",
     "output_type": "stream",
     "text": [
      "[I 2023-06-06 16:49:39,039] Trial 49 finished with value: 0.6612903225806451 and parameters: {'max_depth': 8, 'num_boost_round': 113, 'min_data_in_leaf': 12, 'n_estimators': 1789, 'num_leaves': 363, 'learning_rate': 0.02827037398383559, 'feature_fraction': 0.6344642450602794, 'bagging_fraction': 0.668337126965147, 'bagging_freq': 4, 'lambda_l1': 0.5082622104791577, 'lambda_l2': 0.3452498585081512}. Best is trial 26 with value: 0.6733870967741935.\n"
     ]
    },
    {
     "name": "stdout",
     "output_type": "stream",
     "text": [
      "[LightGBM] [Warning] bagging_freq is set=2, subsample_freq=0 will be ignored. Current value: bagging_freq=2\n",
      "[LightGBM] [Warning] lambda_l1 is set=0.35765805398248046, reg_alpha=0.0 will be ignored. Current value: lambda_l1=0.35765805398248046\n",
      "[LightGBM] [Warning] min_data_in_leaf is set=14, min_child_samples=20 will be ignored. Current value: min_data_in_leaf=14\n",
      "[LightGBM] [Warning] num_iterations is set=163, num_boost_round=163 will be ignored. Current value: num_iterations=163\n",
      "[LightGBM] [Warning] lambda_l2 is set=0.786349380692303, reg_lambda=0.0 will be ignored. Current value: lambda_l2=0.786349380692303\n",
      "[LightGBM] [Warning] feature_fraction is set=0.6861704068956291, colsample_bytree=1.0 will be ignored. Current value: feature_fraction=0.6861704068956291\n",
      "[LightGBM] [Warning] bagging_fraction is set=0.7503175508225121, subsample=1.0 will be ignored. Current value: bagging_fraction=0.7503175508225121\n"
     ]
    },
    {
     "name": "stderr",
     "output_type": "stream",
     "text": [
      "[I 2023-06-06 16:49:40,250] Trial 50 finished with value: 0.6693548387096774 and parameters: {'max_depth': 6, 'num_boost_round': 163, 'min_data_in_leaf': 14, 'n_estimators': 1523, 'num_leaves': 609, 'learning_rate': 0.02608283920473879, 'feature_fraction': 0.6861704068956291, 'bagging_fraction': 0.7503175508225121, 'bagging_freq': 2, 'lambda_l1': 0.35765805398248046, 'lambda_l2': 0.786349380692303}. Best is trial 26 with value: 0.6733870967741935.\n"
     ]
    },
    {
     "name": "stdout",
     "output_type": "stream",
     "text": [
      "[LightGBM] [Warning] bagging_freq is set=2, subsample_freq=0 will be ignored. Current value: bagging_freq=2\n",
      "[LightGBM] [Warning] lambda_l1 is set=0.3494625598349255, reg_alpha=0.0 will be ignored. Current value: lambda_l1=0.3494625598349255\n",
      "[LightGBM] [Warning] min_data_in_leaf is set=13, min_child_samples=20 will be ignored. Current value: min_data_in_leaf=13\n",
      "[LightGBM] [Warning] num_iterations is set=177, num_boost_round=177 will be ignored. Current value: num_iterations=177\n",
      "[LightGBM] [Warning] lambda_l2 is set=0.7563940128089319, reg_lambda=0.0 will be ignored. Current value: lambda_l2=0.7563940128089319\n",
      "[LightGBM] [Warning] feature_fraction is set=0.6758152540417104, colsample_bytree=1.0 will be ignored. Current value: feature_fraction=0.6758152540417104\n",
      "[LightGBM] [Warning] bagging_fraction is set=0.7497441346845846, subsample=1.0 will be ignored. Current value: bagging_fraction=0.7497441346845846\n"
     ]
    },
    {
     "name": "stderr",
     "output_type": "stream",
     "text": [
      "[I 2023-06-06 16:49:41,598] Trial 51 finished with value: 0.6592741935483871 and parameters: {'max_depth': 6, 'num_boost_round': 177, 'min_data_in_leaf': 13, 'n_estimators': 1397, 'num_leaves': 654, 'learning_rate': 0.025233331974337886, 'feature_fraction': 0.6758152540417104, 'bagging_fraction': 0.7497441346845846, 'bagging_freq': 2, 'lambda_l1': 0.3494625598349255, 'lambda_l2': 0.7563940128089319}. Best is trial 26 with value: 0.6733870967741935.\n"
     ]
    },
    {
     "name": "stdout",
     "output_type": "stream",
     "text": [
      "[LightGBM] [Warning] bagging_freq is set=1, subsample_freq=0 will be ignored. Current value: bagging_freq=1\n",
      "[LightGBM] [Warning] lambda_l1 is set=0.7852968135171288, reg_alpha=0.0 will be ignored. Current value: lambda_l1=0.7852968135171288\n",
      "[LightGBM] [Warning] min_data_in_leaf is set=14, min_child_samples=20 will be ignored. Current value: min_data_in_leaf=14\n",
      "[LightGBM] [Warning] num_iterations is set=159, num_boost_round=159 will be ignored. Current value: num_iterations=159\n",
      "[LightGBM] [Warning] lambda_l2 is set=0.46190520267003576, reg_lambda=0.0 will be ignored. Current value: lambda_l2=0.46190520267003576\n",
      "[LightGBM] [Warning] feature_fraction is set=0.5544087240085384, colsample_bytree=1.0 will be ignored. Current value: feature_fraction=0.5544087240085384\n",
      "[LightGBM] [Warning] bagging_fraction is set=0.7072003940179299, subsample=1.0 will be ignored. Current value: bagging_fraction=0.7072003940179299\n"
     ]
    },
    {
     "name": "stderr",
     "output_type": "stream",
     "text": [
      "[I 2023-06-06 16:49:42,604] Trial 52 finished with value: 0.6532258064516129 and parameters: {'max_depth': 6, 'num_boost_round': 159, 'min_data_in_leaf': 14, 'n_estimators': 1518, 'num_leaves': 855, 'learning_rate': 0.028285306240049178, 'feature_fraction': 0.5544087240085384, 'bagging_fraction': 0.7072003940179299, 'bagging_freq': 1, 'lambda_l1': 0.7852968135171288, 'lambda_l2': 0.46190520267003576}. Best is trial 26 with value: 0.6733870967741935.\n"
     ]
    },
    {
     "name": "stdout",
     "output_type": "stream",
     "text": [
      "[LightGBM] [Warning] bagging_freq is set=3, subsample_freq=0 will be ignored. Current value: bagging_freq=3\n",
      "[LightGBM] [Warning] lambda_l1 is set=0.43328783620006023, reg_alpha=0.0 will be ignored. Current value: lambda_l1=0.43328783620006023\n",
      "[LightGBM] [Warning] min_data_in_leaf is set=12, min_child_samples=20 will be ignored. Current value: min_data_in_leaf=12\n",
      "[LightGBM] [Warning] num_iterations is set=170, num_boost_round=170 will be ignored. Current value: num_iterations=170\n",
      "[LightGBM] [Warning] lambda_l2 is set=0.9005933911872813, reg_lambda=0.0 will be ignored. Current value: lambda_l2=0.9005933911872813\n",
      "[LightGBM] [Warning] feature_fraction is set=0.7344365332106499, colsample_bytree=1.0 will be ignored. Current value: feature_fraction=0.7344365332106499\n",
      "[LightGBM] [Warning] bagging_fraction is set=0.7712624364876266, subsample=1.0 will be ignored. Current value: bagging_fraction=0.7712624364876266\n"
     ]
    },
    {
     "name": "stderr",
     "output_type": "stream",
     "text": [
      "[I 2023-06-06 16:49:43,947] Trial 53 finished with value: 0.6592741935483871 and parameters: {'max_depth': 6, 'num_boost_round': 170, 'min_data_in_leaf': 12, 'n_estimators': 1907, 'num_leaves': 767, 'learning_rate': 0.031162875746629064, 'feature_fraction': 0.7344365332106499, 'bagging_fraction': 0.7712624364876266, 'bagging_freq': 3, 'lambda_l1': 0.43328783620006023, 'lambda_l2': 0.9005933911872813}. Best is trial 26 with value: 0.6733870967741935.\n"
     ]
    },
    {
     "name": "stdout",
     "output_type": "stream",
     "text": [
      "[LightGBM] [Warning] bagging_freq is set=2, subsample_freq=0 will be ignored. Current value: bagging_freq=2\n",
      "[LightGBM] [Warning] lambda_l1 is set=0.539877019912393, reg_alpha=0.0 will be ignored. Current value: lambda_l1=0.539877019912393\n",
      "[LightGBM] [Warning] min_data_in_leaf is set=11, min_child_samples=20 will be ignored. Current value: min_data_in_leaf=11\n",
      "[LightGBM] [Warning] num_iterations is set=183, num_boost_round=183 will be ignored. Current value: num_iterations=183\n",
      "[LightGBM] [Warning] lambda_l2 is set=0.6628874513572486, reg_lambda=0.0 will be ignored. Current value: lambda_l2=0.6628874513572486\n",
      "[LightGBM] [Warning] feature_fraction is set=0.5966713114426117, colsample_bytree=1.0 will be ignored. Current value: feature_fraction=0.5966713114426117\n",
      "[LightGBM] [Warning] bagging_fraction is set=0.7352333772117108, subsample=1.0 will be ignored. Current value: bagging_fraction=0.7352333772117108\n"
     ]
    },
    {
     "name": "stderr",
     "output_type": "stream",
     "text": [
      "[I 2023-06-06 16:49:45,271] Trial 54 finished with value: 0.6592741935483871 and parameters: {'max_depth': 6, 'num_boost_round': 183, 'min_data_in_leaf': 11, 'n_estimators': 1695, 'num_leaves': 959, 'learning_rate': 0.0365774049933855, 'feature_fraction': 0.5966713114426117, 'bagging_fraction': 0.7352333772117108, 'bagging_freq': 2, 'lambda_l1': 0.539877019912393, 'lambda_l2': 0.6628874513572486}. Best is trial 26 with value: 0.6733870967741935.\n"
     ]
    },
    {
     "name": "stdout",
     "output_type": "stream",
     "text": [
      "[LightGBM] [Warning] bagging_freq is set=10, subsample_freq=0 will be ignored. Current value: bagging_freq=10\n",
      "[LightGBM] [Warning] lambda_l1 is set=0.2847460681232784, reg_alpha=0.0 will be ignored. Current value: lambda_l1=0.2847460681232784\n",
      "[LightGBM] [Warning] min_data_in_leaf is set=17, min_child_samples=20 will be ignored. Current value: min_data_in_leaf=17\n",
      "[LightGBM] [Warning] num_iterations is set=208, num_boost_round=208 will be ignored. Current value: num_iterations=208\n",
      "[LightGBM] [Warning] lambda_l2 is set=0.5928779699492869, reg_lambda=0.0 will be ignored. Current value: lambda_l2=0.5928779699492869\n",
      "[LightGBM] [Warning] feature_fraction is set=0.5744814789157039, colsample_bytree=1.0 will be ignored. Current value: feature_fraction=0.5744814789157039\n",
      "[LightGBM] [Warning] bagging_fraction is set=0.7977129627721675, subsample=1.0 will be ignored. Current value: bagging_fraction=0.7977129627721675\n"
     ]
    },
    {
     "name": "stderr",
     "output_type": "stream",
     "text": [
      "[I 2023-06-06 16:49:46,329] Trial 55 finished with value: 0.6633064516129032 and parameters: {'max_depth': 5, 'num_boost_round': 208, 'min_data_in_leaf': 17, 'n_estimators': 1569, 'num_leaves': 465, 'learning_rate': 0.020954643757063546, 'feature_fraction': 0.5744814789157039, 'bagging_fraction': 0.7977129627721675, 'bagging_freq': 10, 'lambda_l1': 0.2847460681232784, 'lambda_l2': 0.5928779699492869}. Best is trial 26 with value: 0.6733870967741935.\n"
     ]
    },
    {
     "name": "stdout",
     "output_type": "stream",
     "text": [
      "[LightGBM] [Warning] bagging_freq is set=5, subsample_freq=0 will be ignored. Current value: bagging_freq=5\n",
      "[LightGBM] [Warning] lambda_l1 is set=0.6252609474060039, reg_alpha=0.0 will be ignored. Current value: lambda_l1=0.6252609474060039\n",
      "[LightGBM] [Warning] min_data_in_leaf is set=15, min_child_samples=20 will be ignored. Current value: min_data_in_leaf=15\n",
      "[LightGBM] [Warning] num_iterations is set=193, num_boost_round=193 will be ignored. Current value: num_iterations=193\n",
      "[LightGBM] [Warning] lambda_l2 is set=0.802078133560441, reg_lambda=0.0 will be ignored. Current value: lambda_l2=0.802078133560441\n",
      "[LightGBM] [Warning] feature_fraction is set=0.5235312971711169, colsample_bytree=1.0 will be ignored. Current value: feature_fraction=0.5235312971711169\n",
      "[LightGBM] [Warning] bagging_fraction is set=0.7024727353024385, subsample=1.0 will be ignored. Current value: bagging_fraction=0.7024727353024385\n"
     ]
    },
    {
     "name": "stderr",
     "output_type": "stream",
     "text": [
      "[I 2023-06-06 16:49:47,768] Trial 56 finished with value: 0.6633064516129032 and parameters: {'max_depth': 7, 'num_boost_round': 193, 'min_data_in_leaf': 15, 'n_estimators': 1511, 'num_leaves': 1235, 'learning_rate': 0.02668912040167094, 'feature_fraction': 0.5235312971711169, 'bagging_fraction': 0.7024727353024385, 'bagging_freq': 5, 'lambda_l1': 0.6252609474060039, 'lambda_l2': 0.802078133560441}. Best is trial 26 with value: 0.6733870967741935.\n"
     ]
    },
    {
     "name": "stdout",
     "output_type": "stream",
     "text": [
      "[LightGBM] [Warning] bagging_freq is set=4, subsample_freq=0 will be ignored. Current value: bagging_freq=4\n",
      "[LightGBM] [Warning] lambda_l1 is set=0.3649094565814718, reg_alpha=0.0 will be ignored. Current value: lambda_l1=0.3649094565814718\n",
      "[LightGBM] [Warning] min_data_in_leaf is set=14, min_child_samples=20 will be ignored. Current value: min_data_in_leaf=14\n",
      "[LightGBM] [Warning] num_iterations is set=146, num_boost_round=146 will be ignored. Current value: num_iterations=146\n",
      "[LightGBM] [Warning] lambda_l2 is set=0.4606087436932565, reg_lambda=0.0 will be ignored. Current value: lambda_l2=0.4606087436932565\n",
      "[LightGBM] [Warning] feature_fraction is set=0.6771903155607482, colsample_bytree=1.0 will be ignored. Current value: feature_fraction=0.6771903155607482\n",
      "[LightGBM] [Warning] bagging_fraction is set=0.7748673802345882, subsample=1.0 will be ignored. Current value: bagging_fraction=0.7748673802345882\n"
     ]
    },
    {
     "name": "stderr",
     "output_type": "stream",
     "text": [
      "[I 2023-06-06 16:49:49,138] Trial 57 finished with value: 0.6451612903225806 and parameters: {'max_depth': 7, 'num_boost_round': 146, 'min_data_in_leaf': 14, 'n_estimators': 1261, 'num_leaves': 136, 'learning_rate': 0.0332075042732594, 'feature_fraction': 0.6771903155607482, 'bagging_fraction': 0.7748673802345882, 'bagging_freq': 4, 'lambda_l1': 0.3649094565814718, 'lambda_l2': 0.4606087436932565}. Best is trial 26 with value: 0.6733870967741935.\n"
     ]
    },
    {
     "name": "stdout",
     "output_type": "stream",
     "text": [
      "[LightGBM] [Warning] bagging_freq is set=3, subsample_freq=0 will be ignored. Current value: bagging_freq=3\n",
      "[LightGBM] [Warning] lambda_l1 is set=0.7999356144965442, reg_alpha=0.0 will be ignored. Current value: lambda_l1=0.7999356144965442\n",
      "[LightGBM] [Warning] min_data_in_leaf is set=13, min_child_samples=20 will be ignored. Current value: min_data_in_leaf=13\n",
      "[LightGBM] [Warning] num_iterations is set=117, num_boost_round=117 will be ignored. Current value: num_iterations=117\n",
      "[LightGBM] [Warning] lambda_l2 is set=0.28749646456463857, reg_lambda=0.0 will be ignored. Current value: lambda_l2=0.28749646456463857\n",
      "[LightGBM] [Warning] feature_fraction is set=0.623823857452955, colsample_bytree=1.0 will be ignored. Current value: feature_fraction=0.623823857452955\n",
      "[LightGBM] [Warning] bagging_fraction is set=0.6571649312372876, subsample=1.0 will be ignored. Current value: bagging_fraction=0.6571649312372876\n"
     ]
    },
    {
     "name": "stderr",
     "output_type": "stream",
     "text": [
      "[I 2023-06-06 16:49:49,555] Trial 58 finished with value: 0.6592741935483871 and parameters: {'max_depth': 4, 'num_boost_round': 117, 'min_data_in_leaf': 13, 'n_estimators': 1394, 'num_leaves': 248, 'learning_rate': 0.022519927269081513, 'feature_fraction': 0.623823857452955, 'bagging_fraction': 0.6571649312372876, 'bagging_freq': 3, 'lambda_l1': 0.7999356144965442, 'lambda_l2': 0.28749646456463857}. Best is trial 26 with value: 0.6733870967741935.\n"
     ]
    },
    {
     "name": "stdout",
     "output_type": "stream",
     "text": [
      "[LightGBM] [Warning] bagging_freq is set=6, subsample_freq=0 will be ignored. Current value: bagging_freq=6\n",
      "[LightGBM] [Warning] lambda_l1 is set=0.5029288395005537, reg_alpha=0.0 will be ignored. Current value: lambda_l1=0.5029288395005537\n",
      "[LightGBM] [Warning] min_data_in_leaf is set=18, min_child_samples=20 will be ignored. Current value: min_data_in_leaf=18\n",
      "[LightGBM] [Warning] num_iterations is set=135, num_boost_round=135 will be ignored. Current value: num_iterations=135\n",
      "[LightGBM] [Warning] lambda_l2 is set=0.9969872341571179, reg_lambda=0.0 will be ignored. Current value: lambda_l2=0.9969872341571179\n",
      "[LightGBM] [Warning] feature_fraction is set=0.47127456988092564, colsample_bytree=1.0 will be ignored. Current value: feature_fraction=0.47127456988092564\n",
      "[LightGBM] [Warning] bagging_fraction is set=0.7346018220833028, subsample=1.0 will be ignored. Current value: bagging_fraction=0.7346018220833028\n"
     ]
    },
    {
     "name": "stderr",
     "output_type": "stream",
     "text": [
      "[I 2023-06-06 16:49:50,304] Trial 59 finished with value: 0.6592741935483871 and parameters: {'max_depth': 6, 'num_boost_round': 135, 'min_data_in_leaf': 18, 'n_estimators': 1005, 'num_leaves': 563, 'learning_rate': 0.029866228642133275, 'feature_fraction': 0.47127456988092564, 'bagging_fraction': 0.7346018220833028, 'bagging_freq': 6, 'lambda_l1': 0.5029288395005537, 'lambda_l2': 0.9969872341571179}. Best is trial 26 with value: 0.6733870967741935.\n"
     ]
    },
    {
     "name": "stdout",
     "output_type": "stream",
     "text": [
      "[LightGBM] [Warning] bagging_freq is set=2, subsample_freq=0 will be ignored. Current value: bagging_freq=2\n",
      "[LightGBM] [Warning] lambda_l1 is set=0.0930312321141844, reg_alpha=0.0 will be ignored. Current value: lambda_l1=0.0930312321141844\n",
      "[LightGBM] [Warning] min_data_in_leaf is set=16, min_child_samples=20 will be ignored. Current value: min_data_in_leaf=16\n",
      "[LightGBM] [Warning] num_iterations is set=105, num_boost_round=105 will be ignored. Current value: num_iterations=105\n",
      "[LightGBM] [Warning] lambda_l2 is set=0.3927061735640637, reg_lambda=0.0 will be ignored. Current value: lambda_l2=0.3927061735640637\n",
      "[LightGBM] [Warning] feature_fraction is set=0.5623420226209088, colsample_bytree=1.0 will be ignored. Current value: feature_fraction=0.5623420226209088\n",
      "[LightGBM] [Warning] bagging_fraction is set=0.7139688320804511, subsample=1.0 will be ignored. Current value: bagging_fraction=0.7139688320804511\n"
     ]
    },
    {
     "name": "stderr",
     "output_type": "stream",
     "text": [
      "[I 2023-06-06 16:49:50,812] Trial 60 finished with value: 0.6592741935483871 and parameters: {'max_depth': 5, 'num_boost_round': 105, 'min_data_in_leaf': 16, 'n_estimators': 1770, 'num_leaves': 361, 'learning_rate': 0.02396866287964519, 'feature_fraction': 0.5623420226209088, 'bagging_fraction': 0.7139688320804511, 'bagging_freq': 2, 'lambda_l1': 0.0930312321141844, 'lambda_l2': 0.3927061735640637}. Best is trial 26 with value: 0.6733870967741935.\n"
     ]
    },
    {
     "name": "stdout",
     "output_type": "stream",
     "text": [
      "[LightGBM] [Warning] bagging_freq is set=7, subsample_freq=0 will be ignored. Current value: bagging_freq=7\n",
      "[LightGBM] [Warning] lambda_l1 is set=0.21633724974385465, reg_alpha=0.0 will be ignored. Current value: lambda_l1=0.21633724974385465\n",
      "[LightGBM] [Warning] min_data_in_leaf is set=19, min_child_samples=20 will be ignored. Current value: min_data_in_leaf=19\n",
      "[LightGBM] [Warning] num_iterations is set=125, num_boost_round=125 will be ignored. Current value: num_iterations=125\n",
      "[LightGBM] [Warning] lambda_l2 is set=0.5305063631639285, reg_lambda=0.0 will be ignored. Current value: lambda_l2=0.5305063631639285\n",
      "[LightGBM] [Warning] feature_fraction is set=0.5170217914931444, colsample_bytree=1.0 will be ignored. Current value: feature_fraction=0.5170217914931444\n",
      "[LightGBM] [Warning] bagging_fraction is set=0.7947006196444314, subsample=1.0 will be ignored. Current value: bagging_fraction=0.7947006196444314\n"
     ]
    },
    {
     "name": "stderr",
     "output_type": "stream",
     "text": [
      "[I 2023-06-06 16:49:51,884] Trial 61 finished with value: 0.657258064516129 and parameters: {'max_depth': 8, 'num_boost_round': 125, 'min_data_in_leaf': 19, 'n_estimators': 1649, 'num_leaves': 82, 'learning_rate': 0.032650198316666275, 'feature_fraction': 0.5170217914931444, 'bagging_fraction': 0.7947006196444314, 'bagging_freq': 7, 'lambda_l1': 0.21633724974385465, 'lambda_l2': 0.5305063631639285}. Best is trial 26 with value: 0.6733870967741935.\n"
     ]
    },
    {
     "name": "stdout",
     "output_type": "stream",
     "text": [
      "[LightGBM] [Warning] bagging_freq is set=6, subsample_freq=0 will be ignored. Current value: bagging_freq=6\n",
      "[LightGBM] [Warning] lambda_l1 is set=0.2926763599327433, reg_alpha=0.0 will be ignored. Current value: lambda_l1=0.2926763599327433\n",
      "[LightGBM] [Warning] min_data_in_leaf is set=19, min_child_samples=20 will be ignored. Current value: min_data_in_leaf=19\n",
      "[LightGBM] [Warning] num_iterations is set=128, num_boost_round=128 will be ignored. Current value: num_iterations=128\n",
      "[LightGBM] [Warning] lambda_l2 is set=0.5748312765680418, reg_lambda=0.0 will be ignored. Current value: lambda_l2=0.5748312765680418\n",
      "[LightGBM] [Warning] feature_fraction is set=0.4967461237317246, colsample_bytree=1.0 will be ignored. Current value: feature_fraction=0.4967461237317246\n",
      "[LightGBM] [Warning] bagging_fraction is set=0.7993255812027893, subsample=1.0 will be ignored. Current value: bagging_fraction=0.7993255812027893\n"
     ]
    },
    {
     "name": "stderr",
     "output_type": "stream",
     "text": [
      "[I 2023-06-06 16:49:52,838] Trial 62 finished with value: 0.6633064516129032 and parameters: {'max_depth': 8, 'num_boost_round': 128, 'min_data_in_leaf': 19, 'n_estimators': 1464, 'num_leaves': 33, 'learning_rate': 0.03330006638949151, 'feature_fraction': 0.4967461237317246, 'bagging_fraction': 0.7993255812027893, 'bagging_freq': 6, 'lambda_l1': 0.2926763599327433, 'lambda_l2': 0.5748312765680418}. Best is trial 26 with value: 0.6733870967741935.\n"
     ]
    },
    {
     "name": "stdout",
     "output_type": "stream",
     "text": [
      "[LightGBM] [Warning] bagging_freq is set=5, subsample_freq=0 will be ignored. Current value: bagging_freq=5\n",
      "[LightGBM] [Warning] lambda_l1 is set=0.3472891411796653, reg_alpha=0.0 will be ignored. Current value: lambda_l1=0.3472891411796653\n",
      "[LightGBM] [Warning] min_data_in_leaf is set=18, min_child_samples=20 will be ignored. Current value: min_data_in_leaf=18\n",
      "[LightGBM] [Warning] num_iterations is set=114, num_boost_round=114 will be ignored. Current value: num_iterations=114\n",
      "[LightGBM] [Warning] lambda_l2 is set=0.679580014633949, reg_lambda=0.0 will be ignored. Current value: lambda_l2=0.679580014633949\n",
      "[LightGBM] [Warning] feature_fraction is set=0.4549195419631557, colsample_bytree=1.0 will be ignored. Current value: feature_fraction=0.4549195419631557\n",
      "[LightGBM] [Warning] bagging_fraction is set=0.7548556436385333, subsample=1.0 will be ignored. Current value: bagging_fraction=0.7548556436385333\n"
     ]
    },
    {
     "name": "stderr",
     "output_type": "stream",
     "text": [
      "[I 2023-06-06 16:49:53,755] Trial 63 finished with value: 0.6733870967741935 and parameters: {'max_depth': 8, 'num_boost_round': 114, 'min_data_in_leaf': 18, 'n_estimators': 1593, 'num_leaves': 136, 'learning_rate': 0.039356363693781884, 'feature_fraction': 0.4549195419631557, 'bagging_fraction': 0.7548556436385333, 'bagging_freq': 5, 'lambda_l1': 0.3472891411796653, 'lambda_l2': 0.679580014633949}. Best is trial 26 with value: 0.6733870967741935.\n"
     ]
    },
    {
     "name": "stdout",
     "output_type": "stream",
     "text": [
      "[LightGBM] [Warning] bagging_freq is set=5, subsample_freq=0 will be ignored. Current value: bagging_freq=5\n",
      "[LightGBM] [Warning] lambda_l1 is set=0.37997676985710543, reg_alpha=0.0 will be ignored. Current value: lambda_l1=0.37997676985710543\n",
      "[LightGBM] [Warning] min_data_in_leaf is set=18, min_child_samples=20 will be ignored. Current value: min_data_in_leaf=18\n",
      "[LightGBM] [Warning] num_iterations is set=116, num_boost_round=116 will be ignored. Current value: num_iterations=116\n",
      "[LightGBM] [Warning] lambda_l2 is set=0.6345441081338224, reg_lambda=0.0 will be ignored. Current value: lambda_l2=0.6345441081338224\n",
      "[LightGBM] [Warning] feature_fraction is set=0.4247726634944306, colsample_bytree=1.0 will be ignored. Current value: feature_fraction=0.4247726634944306\n",
      "[LightGBM] [Warning] bagging_fraction is set=0.7447797817069396, subsample=1.0 will be ignored. Current value: bagging_fraction=0.7447797817069396\n"
     ]
    },
    {
     "name": "stderr",
     "output_type": "stream",
     "text": [
      "[I 2023-06-06 16:49:54,655] Trial 64 finished with value: 0.6673387096774194 and parameters: {'max_depth': 8, 'num_boost_round': 116, 'min_data_in_leaf': 18, 'n_estimators': 1581, 'num_leaves': 226, 'learning_rate': 0.03679475843367921, 'feature_fraction': 0.4247726634944306, 'bagging_fraction': 0.7447797817069396, 'bagging_freq': 5, 'lambda_l1': 0.37997676985710543, 'lambda_l2': 0.6345441081338224}. Best is trial 26 with value: 0.6733870967741935.\n"
     ]
    },
    {
     "name": "stdout",
     "output_type": "stream",
     "text": [
      "[LightGBM] [Warning] bagging_freq is set=4, subsample_freq=0 will be ignored. Current value: bagging_freq=4\n",
      "[LightGBM] [Warning] lambda_l1 is set=0.47440203073912834, reg_alpha=0.0 will be ignored. Current value: lambda_l1=0.47440203073912834\n",
      "[LightGBM] [Warning] min_data_in_leaf is set=17, min_child_samples=20 will be ignored. Current value: min_data_in_leaf=17\n",
      "[LightGBM] [Warning] num_iterations is set=107, num_boost_round=107 will be ignored. Current value: num_iterations=107\n",
      "[LightGBM] [Warning] lambda_l2 is set=0.3216391865255687, reg_lambda=0.0 will be ignored. Current value: lambda_l2=0.3216391865255687\n",
      "[LightGBM] [Warning] feature_fraction is set=0.44636019086104883, colsample_bytree=1.0 will be ignored. Current value: feature_fraction=0.44636019086104883\n",
      "[LightGBM] [Warning] bagging_fraction is set=0.7705605118402863, subsample=1.0 will be ignored. Current value: bagging_fraction=0.7705605118402863\n"
     ]
    },
    {
     "name": "stderr",
     "output_type": "stream",
     "text": [
      "[I 2023-06-06 16:49:55,565] Trial 65 finished with value: 0.655241935483871 and parameters: {'max_depth': 8, 'num_boost_round': 107, 'min_data_in_leaf': 17, 'n_estimators': 1081, 'num_leaves': 447, 'learning_rate': 0.038741146832692704, 'feature_fraction': 0.44636019086104883, 'bagging_fraction': 0.7705605118402863, 'bagging_freq': 4, 'lambda_l1': 0.47440203073912834, 'lambda_l2': 0.3216391865255687}. Best is trial 26 with value: 0.6733870967741935.\n"
     ]
    },
    {
     "name": "stdout",
     "output_type": "stream",
     "text": [
      "[LightGBM] [Warning] bagging_freq is set=5, subsample_freq=0 will be ignored. Current value: bagging_freq=5\n",
      "[LightGBM] [Warning] lambda_l1 is set=0.3261591890118502, reg_alpha=0.0 will be ignored. Current value: lambda_l1=0.3261591890118502\n",
      "[LightGBM] [Warning] min_data_in_leaf is set=17, min_child_samples=20 will be ignored. Current value: min_data_in_leaf=17\n",
      "[LightGBM] [Warning] num_iterations is set=120, num_boost_round=120 will be ignored. Current value: num_iterations=120\n",
      "[LightGBM] [Warning] lambda_l2 is set=0.8744156961636261, reg_lambda=0.0 will be ignored. Current value: lambda_l2=0.8744156961636261\n",
      "[LightGBM] [Warning] feature_fraction is set=0.4610218257408374, colsample_bytree=1.0 will be ignored. Current value: feature_fraction=0.4610218257408374\n",
      "[LightGBM] [Warning] bagging_fraction is set=0.6811830419005205, subsample=1.0 will be ignored. Current value: bagging_fraction=0.6811830419005205\n"
     ]
    },
    {
     "name": "stderr",
     "output_type": "stream",
     "text": [
      "[I 2023-06-06 16:49:56,166] Trial 66 finished with value: 0.6612903225806451 and parameters: {'max_depth': 8, 'num_boost_round': 120, 'min_data_in_leaf': 17, 'n_estimators': 1731, 'num_leaves': 17, 'learning_rate': 0.04995913245736869, 'feature_fraction': 0.4610218257408374, 'bagging_fraction': 0.6811830419005205, 'bagging_freq': 5, 'lambda_l1': 0.3261591890118502, 'lambda_l2': 0.8744156961636261}. Best is trial 26 with value: 0.6733870967741935.\n"
     ]
    },
    {
     "name": "stdout",
     "output_type": "stream",
     "text": [
      "[LightGBM] [Warning] bagging_freq is set=4, subsample_freq=0 will be ignored. Current value: bagging_freq=4\n",
      "[LightGBM] [Warning] lambda_l1 is set=0.5796221674513594, reg_alpha=0.0 will be ignored. Current value: lambda_l1=0.5796221674513594\n",
      "[LightGBM] [Warning] min_data_in_leaf is set=20, min_child_samples=20 will be ignored. Current value: min_data_in_leaf=20\n",
      "[LightGBM] [Warning] num_iterations is set=137, num_boost_round=137 will be ignored. Current value: num_iterations=137\n",
      "[LightGBM] [Warning] lambda_l2 is set=0.7088153694623814, reg_lambda=0.0 will be ignored. Current value: lambda_l2=0.7088153694623814\n",
      "[LightGBM] [Warning] feature_fraction is set=0.49265902256409083, colsample_bytree=1.0 will be ignored. Current value: feature_fraction=0.49265902256409083\n",
      "[LightGBM] [Warning] bagging_fraction is set=0.7284389186800388, subsample=1.0 will be ignored. Current value: bagging_fraction=0.7284389186800388\n"
     ]
    },
    {
     "name": "stderr",
     "output_type": "stream",
     "text": [
      "[I 2023-06-06 16:49:57,222] Trial 67 finished with value: 0.6673387096774194 and parameters: {'max_depth': 8, 'num_boost_round': 137, 'min_data_in_leaf': 20, 'n_estimators': 1820, 'num_leaves': 167, 'learning_rate': 0.02715085871176121, 'feature_fraction': 0.49265902256409083, 'bagging_fraction': 0.7284389186800388, 'bagging_freq': 4, 'lambda_l1': 0.5796221674513594, 'lambda_l2': 0.7088153694623814}. Best is trial 26 with value: 0.6733870967741935.\n"
     ]
    },
    {
     "name": "stdout",
     "output_type": "stream",
     "text": [
      "[LightGBM] [Warning] bagging_freq is set=8, subsample_freq=0 will be ignored. Current value: bagging_freq=8\n",
      "[LightGBM] [Warning] lambda_l1 is set=0.2554537224150914, reg_alpha=0.0 will be ignored. Current value: lambda_l1=0.2554537224150914\n",
      "[LightGBM] [Warning] min_data_in_leaf is set=16, min_child_samples=20 will be ignored. Current value: min_data_in_leaf=16\n",
      "[LightGBM] [Warning] num_iterations is set=104, num_boost_round=104 will be ignored. Current value: num_iterations=104\n",
      "[LightGBM] [Warning] lambda_l2 is set=0.42549311740704227, reg_lambda=0.0 will be ignored. Current value: lambda_l2=0.42549311740704227\n",
      "[LightGBM] [Warning] feature_fraction is set=0.4083538289303443, colsample_bytree=1.0 will be ignored. Current value: feature_fraction=0.4083538289303443\n",
      "[LightGBM] [Warning] bagging_fraction is set=0.7530454841822739, subsample=1.0 will be ignored. Current value: bagging_fraction=0.7530454841822739\n"
     ]
    },
    {
     "name": "stderr",
     "output_type": "stream",
     "text": [
      "[I 2023-06-06 16:49:57,982] Trial 68 finished with value: 0.6512096774193549 and parameters: {'max_depth': 7, 'num_boost_round': 104, 'min_data_in_leaf': 16, 'n_estimators': 1502, 'num_leaves': 109, 'learning_rate': 0.02936081001327486, 'feature_fraction': 0.4083538289303443, 'bagging_fraction': 0.7530454841822739, 'bagging_freq': 8, 'lambda_l1': 0.2554537224150914, 'lambda_l2': 0.42549311740704227}. Best is trial 26 with value: 0.6733870967741935.\n"
     ]
    },
    {
     "name": "stdout",
     "output_type": "stream",
     "text": [
      "[LightGBM] [Warning] bagging_freq is set=3, subsample_freq=0 will be ignored. Current value: bagging_freq=3\n",
      "[LightGBM] [Warning] lambda_l1 is set=0.7107074574233087, reg_alpha=0.0 will be ignored. Current value: lambda_l1=0.7107074574233087\n",
      "[LightGBM] [Warning] min_data_in_leaf is set=18, min_child_samples=20 will be ignored. Current value: min_data_in_leaf=18\n",
      "[LightGBM] [Warning] num_iterations is set=151, num_boost_round=151 will be ignored. Current value: num_iterations=151\n",
      "[LightGBM] [Warning] lambda_l2 is set=0.23233851947281467, reg_lambda=0.0 will be ignored. Current value: lambda_l2=0.23233851947281467\n",
      "[LightGBM] [Warning] feature_fraction is set=0.5391372005249484, colsample_bytree=1.0 will be ignored. Current value: feature_fraction=0.5391372005249484\n",
      "[LightGBM] [Warning] bagging_fraction is set=0.7187132645276826, subsample=1.0 will be ignored. Current value: bagging_fraction=0.7187132645276826\n"
     ]
    },
    {
     "name": "stderr",
     "output_type": "stream",
     "text": [
      "[I 2023-06-06 16:49:59,243] Trial 69 finished with value: 0.6612903225806451 and parameters: {'max_depth': 8, 'num_boost_round': 151, 'min_data_in_leaf': 18, 'n_estimators': 877, 'num_leaves': 344, 'learning_rate': 0.043565561626790206, 'feature_fraction': 0.5391372005249484, 'bagging_fraction': 0.7187132645276826, 'bagging_freq': 3, 'lambda_l1': 0.7107074574233087, 'lambda_l2': 0.23233851947281467}. Best is trial 26 with value: 0.6733870967741935.\n"
     ]
    },
    {
     "name": "stdout",
     "output_type": "stream",
     "text": [
      "[LightGBM] [Warning] bagging_freq is set=1, subsample_freq=0 will be ignored. Current value: bagging_freq=1\n",
      "[LightGBM] [Warning] lambda_l1 is set=0.394069939453327, reg_alpha=0.0 will be ignored. Current value: lambda_l1=0.394069939453327\n",
      "[LightGBM] [Warning] min_data_in_leaf is set=18, min_child_samples=20 will be ignored. Current value: min_data_in_leaf=18\n",
      "[LightGBM] [Warning] num_iterations is set=157, num_boost_round=157 will be ignored. Current value: num_iterations=157\n",
      "[LightGBM] [Warning] lambda_l2 is set=0.3583700303359788, reg_lambda=0.0 will be ignored. Current value: lambda_l2=0.3583700303359788\n",
      "[LightGBM] [Warning] feature_fraction is set=0.4778464951609326, colsample_bytree=1.0 will be ignored. Current value: feature_fraction=0.4778464951609326\n",
      "[LightGBM] [Warning] bagging_fraction is set=0.7809387500459746, subsample=1.0 will be ignored. Current value: bagging_fraction=0.7809387500459746\n"
     ]
    },
    {
     "name": "stderr",
     "output_type": "stream",
     "text": [
      "[I 2023-06-06 16:50:00,389] Trial 70 finished with value: 0.6612903225806451 and parameters: {'max_depth': 7, 'num_boost_round': 157, 'min_data_in_leaf': 18, 'n_estimators': 1352, 'num_leaves': 261, 'learning_rate': 0.024966571761598617, 'feature_fraction': 0.4778464951609326, 'bagging_fraction': 0.7809387500459746, 'bagging_freq': 1, 'lambda_l1': 0.394069939453327, 'lambda_l2': 0.3583700303359788}. Best is trial 26 with value: 0.6733870967741935.\n"
     ]
    },
    {
     "name": "stdout",
     "output_type": "stream",
     "text": [
      "[LightGBM] [Warning] bagging_freq is set=6, subsample_freq=0 will be ignored. Current value: bagging_freq=6\n",
      "[LightGBM] [Warning] lambda_l1 is set=0.20757355482024337, reg_alpha=0.0 will be ignored. Current value: lambda_l1=0.20757355482024337\n",
      "[LightGBM] [Warning] min_data_in_leaf is set=19, min_child_samples=20 will be ignored. Current value: min_data_in_leaf=19\n",
      "[LightGBM] [Warning] num_iterations is set=232, num_boost_round=232 will be ignored. Current value: num_iterations=232\n",
      "[LightGBM] [Warning] lambda_l2 is set=0.5460798909523554, reg_lambda=0.0 will be ignored. Current value: lambda_l2=0.5460798909523554\n",
      "[LightGBM] [Warning] feature_fraction is set=0.514605994992722, colsample_bytree=1.0 will be ignored. Current value: feature_fraction=0.514605994992722\n",
      "[LightGBM] [Warning] bagging_fraction is set=0.7761302895408826, subsample=1.0 will be ignored. Current value: bagging_fraction=0.7761302895408826\n"
     ]
    },
    {
     "name": "stderr",
     "output_type": "stream",
     "text": [
      "[I 2023-06-06 16:50:02,360] Trial 71 finished with value: 0.6612903225806451 and parameters: {'max_depth': 8, 'num_boost_round': 232, 'min_data_in_leaf': 19, 'n_estimators': 1609, 'num_leaves': 91, 'learning_rate': 0.03234002018020221, 'feature_fraction': 0.514605994992722, 'bagging_fraction': 0.7761302895408826, 'bagging_freq': 6, 'lambda_l1': 0.20757355482024337, 'lambda_l2': 0.5460798909523554}. Best is trial 26 with value: 0.6733870967741935.\n"
     ]
    },
    {
     "name": "stdout",
     "output_type": "stream",
     "text": [
      "[LightGBM] [Warning] bagging_freq is set=7, subsample_freq=0 will be ignored. Current value: bagging_freq=7\n",
      "[LightGBM] [Warning] lambda_l1 is set=0.44374926174457735, reg_alpha=0.0 will be ignored. Current value: lambda_l1=0.44374926174457735\n",
      "[LightGBM] [Warning] min_data_in_leaf is set=19, min_child_samples=20 will be ignored. Current value: min_data_in_leaf=19\n",
      "[LightGBM] [Warning] num_iterations is set=125, num_boost_round=125 will be ignored. Current value: num_iterations=125\n",
      "[LightGBM] [Warning] lambda_l2 is set=0.6674519843651595, reg_lambda=0.0 will be ignored. Current value: lambda_l2=0.6674519843651595\n",
      "[LightGBM] [Warning] feature_fraction is set=0.45264502146192415, colsample_bytree=1.0 will be ignored. Current value: feature_fraction=0.45264502146192415\n",
      "[LightGBM] [Warning] bagging_fraction is set=0.7583750961879373, subsample=1.0 will be ignored. Current value: bagging_fraction=0.7583750961879373\n"
     ]
    },
    {
     "name": "stderr",
     "output_type": "stream",
     "text": [
      "[I 2023-06-06 16:50:03,368] Trial 72 finished with value: 0.6653225806451613 and parameters: {'max_depth': 8, 'num_boost_round': 125, 'min_data_in_leaf': 19, 'n_estimators': 1637, 'num_leaves': 179, 'learning_rate': 0.034119160991914664, 'feature_fraction': 0.45264502146192415, 'bagging_fraction': 0.7583750961879373, 'bagging_freq': 7, 'lambda_l1': 0.44374926174457735, 'lambda_l2': 0.6674519843651595}. Best is trial 26 with value: 0.6733870967741935.\n"
     ]
    },
    {
     "name": "stdout",
     "output_type": "stream",
     "text": [
      "[LightGBM] [Warning] bagging_freq is set=7, subsample_freq=0 will be ignored. Current value: bagging_freq=7\n",
      "[LightGBM] [Warning] lambda_l1 is set=0.3595912416505298, reg_alpha=0.0 will be ignored. Current value: lambda_l1=0.3595912416505298\n",
      "[LightGBM] [Warning] min_data_in_leaf is set=18, min_child_samples=20 will be ignored. Current value: min_data_in_leaf=18\n",
      "[LightGBM] [Warning] num_iterations is set=131, num_boost_round=131 will be ignored. Current value: num_iterations=131\n",
      "[LightGBM] [Warning] lambda_l2 is set=0.30187520524950223, reg_lambda=0.0 will be ignored. Current value: lambda_l2=0.30187520524950223\n",
      "[LightGBM] [Warning] feature_fraction is set=0.5034141440763237, colsample_bytree=1.0 will be ignored. Current value: feature_fraction=0.5034141440763237\n",
      "[LightGBM] [Warning] bagging_fraction is set=0.7840531664493856, subsample=1.0 will be ignored. Current value: bagging_fraction=0.7840531664493856\n"
     ]
    },
    {
     "name": "stderr",
     "output_type": "stream",
     "text": [
      "[I 2023-06-06 16:50:04,503] Trial 73 finished with value: 0.6653225806451613 and parameters: {'max_depth': 8, 'num_boost_round': 131, 'min_data_in_leaf': 18, 'n_estimators': 1430, 'num_leaves': 141, 'learning_rate': 0.030710871461329958, 'feature_fraction': 0.5034141440763237, 'bagging_fraction': 0.7840531664493856, 'bagging_freq': 7, 'lambda_l1': 0.3595912416505298, 'lambda_l2': 0.30187520524950223}. Best is trial 26 with value: 0.6733870967741935.\n"
     ]
    },
    {
     "name": "stdout",
     "output_type": "stream",
     "text": [
      "[LightGBM] [Warning] bagging_freq is set=6, subsample_freq=0 will be ignored. Current value: bagging_freq=6\n",
      "[LightGBM] [Warning] lambda_l1 is set=0.5420709453051551, reg_alpha=0.0 will be ignored. Current value: lambda_l1=0.5420709453051551\n",
      "[LightGBM] [Warning] min_data_in_leaf is set=17, min_child_samples=20 will be ignored. Current value: min_data_in_leaf=17\n",
      "[LightGBM] [Warning] num_iterations is set=119, num_boost_round=119 will be ignored. Current value: num_iterations=119\n",
      "[LightGBM] [Warning] lambda_l2 is set=0.46831490833729406, reg_lambda=0.0 will be ignored. Current value: lambda_l2=0.46831490833729406\n",
      "[LightGBM] [Warning] feature_fraction is set=0.5362503103307364, colsample_bytree=1.0 will be ignored. Current value: feature_fraction=0.5362503103307364\n",
      "[LightGBM] [Warning] bagging_fraction is set=0.743311015185716, subsample=1.0 will be ignored. Current value: bagging_fraction=0.743311015185716\n"
     ]
    },
    {
     "name": "stderr",
     "output_type": "stream",
     "text": [
      "[I 2023-06-06 16:50:05,589] Trial 74 finished with value: 0.6653225806451613 and parameters: {'max_depth': 8, 'num_boost_round': 119, 'min_data_in_leaf': 17, 'n_estimators': 1711, 'num_leaves': 1776, 'learning_rate': 0.027310091349300507, 'feature_fraction': 0.5362503103307364, 'bagging_fraction': 0.743311015185716, 'bagging_freq': 6, 'lambda_l1': 0.5420709453051551, 'lambda_l2': 0.46831490833729406}. Best is trial 26 with value: 0.6733870967741935.\n"
     ]
    },
    {
     "name": "stdout",
     "output_type": "stream",
     "text": [
      "[LightGBM] [Warning] bagging_freq is set=5, subsample_freq=0 will be ignored. Current value: bagging_freq=5\n",
      "[LightGBM] [Warning] lambda_l1 is set=0.2683922725291969, reg_alpha=0.0 will be ignored. Current value: lambda_l1=0.2683922725291969\n",
      "[LightGBM] [Warning] min_data_in_leaf is set=20, min_child_samples=20 will be ignored. Current value: min_data_in_leaf=20\n",
      "[LightGBM] [Warning] num_iterations is set=113, num_boost_round=113 will be ignored. Current value: num_iterations=113\n",
      "[LightGBM] [Warning] lambda_l2 is set=0.5591233856745418, reg_lambda=0.0 will be ignored. Current value: lambda_l2=0.5591233856745418\n",
      "[LightGBM] [Warning] feature_fraction is set=0.4869721891540093, colsample_bytree=1.0 will be ignored. Current value: feature_fraction=0.4869721891540093\n",
      "[LightGBM] [Warning] bagging_fraction is set=0.7991466481347076, subsample=1.0 will be ignored. Current value: bagging_fraction=0.7991466481347076\n"
     ]
    },
    {
     "name": "stderr",
     "output_type": "stream",
     "text": [
      "[I 2023-06-06 16:50:06,568] Trial 75 finished with value: 0.657258064516129 and parameters: {'max_depth': 8, 'num_boost_round': 113, 'min_data_in_leaf': 20, 'n_estimators': 1208, 'num_leaves': 223, 'learning_rate': 0.03523822770171703, 'feature_fraction': 0.4869721891540093, 'bagging_fraction': 0.7991466481347076, 'bagging_freq': 5, 'lambda_l1': 0.2683922725291969, 'lambda_l2': 0.5591233856745418}. Best is trial 26 with value: 0.6733870967741935.\n"
     ]
    },
    {
     "name": "stdout",
     "output_type": "stream",
     "text": [
      "[LightGBM] [Warning] bagging_freq is set=5, subsample_freq=0 will be ignored. Current value: bagging_freq=5\n",
      "[LightGBM] [Warning] lambda_l1 is set=0.650282444878573, reg_alpha=0.0 will be ignored. Current value: lambda_l1=0.650282444878573\n",
      "[LightGBM] [Warning] min_data_in_leaf is set=16, min_child_samples=20 will be ignored. Current value: min_data_in_leaf=16\n",
      "[LightGBM] [Warning] num_iterations is set=100, num_boost_round=100 will be ignored. Current value: num_iterations=100\n",
      "[LightGBM] [Warning] lambda_l2 is set=0.8627560937786649, reg_lambda=0.0 will be ignored. Current value: lambda_l2=0.8627560937786649\n",
      "[LightGBM] [Warning] feature_fraction is set=0.5752745540603393, colsample_bytree=1.0 will be ignored. Current value: feature_fraction=0.5752745540603393\n",
      "[LightGBM] [Warning] bagging_fraction is set=0.689169858799666, subsample=1.0 will be ignored. Current value: bagging_fraction=0.689169858799666\n"
     ]
    },
    {
     "name": "stderr",
     "output_type": "stream",
     "text": [
      "[I 2023-06-06 16:50:07,214] Trial 76 finished with value: 0.655241935483871 and parameters: {'max_depth': 6, 'num_boost_round': 100, 'min_data_in_leaf': 16, 'n_estimators': 1920, 'num_leaves': 70, 'learning_rate': 0.03915549758587199, 'feature_fraction': 0.5752745540603393, 'bagging_fraction': 0.689169858799666, 'bagging_freq': 5, 'lambda_l1': 0.650282444878573, 'lambda_l2': 0.8627560937786649}. Best is trial 26 with value: 0.6733870967741935.\n"
     ]
    },
    {
     "name": "stdout",
     "output_type": "stream",
     "text": [
      "[LightGBM] [Warning] bagging_freq is set=4, subsample_freq=0 will be ignored. Current value: bagging_freq=4\n",
      "[LightGBM] [Warning] lambda_l1 is set=0.32452541237424193, reg_alpha=0.0 will be ignored. Current value: lambda_l1=0.32452541237424193\n",
      "[LightGBM] [Warning] min_data_in_leaf is set=17, min_child_samples=20 will be ignored. Current value: min_data_in_leaf=17\n",
      "[LightGBM] [Warning] num_iterations is set=145, num_boost_round=145 will be ignored. Current value: num_iterations=145\n",
      "[LightGBM] [Warning] lambda_l2 is set=0.41711784824585785, reg_lambda=0.0 will be ignored. Current value: lambda_l2=0.41711784824585785\n",
      "[LightGBM] [Warning] feature_fraction is set=0.6016644228945316, colsample_bytree=1.0 will be ignored. Current value: feature_fraction=0.6016644228945316\n",
      "[LightGBM] [Warning] bagging_fraction is set=0.7526295936231034, subsample=1.0 will be ignored. Current value: bagging_fraction=0.7526295936231034\n"
     ]
    },
    {
     "name": "stderr",
     "output_type": "stream",
     "text": [
      "[I 2023-06-06 16:50:08,642] Trial 77 finished with value: 0.6673387096774194 and parameters: {'max_depth': 8, 'num_boost_round': 145, 'min_data_in_leaf': 17, 'n_estimators': 1546, 'num_leaves': 410, 'learning_rate': 0.02954912224108677, 'feature_fraction': 0.6016644228945316, 'bagging_fraction': 0.7526295936231034, 'bagging_freq': 4, 'lambda_l1': 0.32452541237424193, 'lambda_l2': 0.41711784824585785}. Best is trial 26 with value: 0.6733870967741935.\n"
     ]
    },
    {
     "name": "stdout",
     "output_type": "stream",
     "text": [
      "[LightGBM] [Warning] bagging_freq is set=4, subsample_freq=0 will be ignored. Current value: bagging_freq=4\n",
      "[LightGBM] [Warning] lambda_l1 is set=0.4463489007762908, reg_alpha=0.0 will be ignored. Current value: lambda_l1=0.4463489007762908\n",
      "[LightGBM] [Warning] min_data_in_leaf is set=15, min_child_samples=20 will be ignored. Current value: min_data_in_leaf=15\n",
      "[LightGBM] [Warning] num_iterations is set=110, num_boost_round=110 will be ignored. Current value: num_iterations=110\n",
      "[LightGBM] [Warning] lambda_l2 is set=0.4896577608256251, reg_lambda=0.0 will be ignored. Current value: lambda_l2=0.4896577608256251\n",
      "[LightGBM] [Warning] feature_fraction is set=0.504514781481671, colsample_bytree=1.0 will be ignored. Current value: feature_fraction=0.504514781481671\n",
      "[LightGBM] [Warning] bagging_fraction is set=0.7225862166900117, subsample=1.0 will be ignored. Current value: bagging_fraction=0.7225862166900117\n"
     ]
    },
    {
     "name": "stderr",
     "output_type": "stream",
     "text": [
      "[I 2023-06-06 16:50:09,655] Trial 78 finished with value: 0.655241935483871 and parameters: {'max_depth': 8, 'num_boost_round': 110, 'min_data_in_leaf': 15, 'n_estimators': 1320, 'num_leaves': 314, 'learning_rate': 0.025978425514811426, 'feature_fraction': 0.504514781481671, 'bagging_fraction': 0.7225862166900117, 'bagging_freq': 4, 'lambda_l1': 0.4463489007762908, 'lambda_l2': 0.4896577608256251}. Best is trial 26 with value: 0.6733870967741935.\n"
     ]
    },
    {
     "name": "stdout",
     "output_type": "stream",
     "text": [
      "[LightGBM] [Warning] bagging_freq is set=6, subsample_freq=0 will be ignored. Current value: bagging_freq=6\n",
      "[LightGBM] [Warning] lambda_l1 is set=0.38876518061819443, reg_alpha=0.0 will be ignored. Current value: lambda_l1=0.38876518061819443\n",
      "[LightGBM] [Warning] min_data_in_leaf is set=18, min_child_samples=20 will be ignored. Current value: min_data_in_leaf=18\n",
      "[LightGBM] [Warning] num_iterations is set=125, num_boost_round=125 will be ignored. Current value: num_iterations=125\n",
      "[LightGBM] [Warning] lambda_l2 is set=0.27159999218311237, reg_lambda=0.0 will be ignored. Current value: lambda_l2=0.27159999218311237\n",
      "[LightGBM] [Warning] feature_fraction is set=0.4606670564350979, colsample_bytree=1.0 will be ignored. Current value: feature_fraction=0.4606670564350979\n",
      "[LightGBM] [Warning] bagging_fraction is set=0.7820787831302266, subsample=1.0 will be ignored. Current value: bagging_fraction=0.7820787831302266\n"
     ]
    },
    {
     "name": "stderr",
     "output_type": "stream",
     "text": [
      "[I 2023-06-06 16:50:10,563] Trial 79 finished with value: 0.6673387096774194 and parameters: {'max_depth': 7, 'num_boost_round': 125, 'min_data_in_leaf': 18, 'n_estimators': 1643, 'num_leaves': 650, 'learning_rate': 0.03164409858009385, 'feature_fraction': 0.4606670564350979, 'bagging_fraction': 0.7820787831302266, 'bagging_freq': 6, 'lambda_l1': 0.38876518061819443, 'lambda_l2': 0.27159999218311237}. Best is trial 26 with value: 0.6733870967741935.\n"
     ]
    },
    {
     "name": "stdout",
     "output_type": "stream",
     "text": [
      "[LightGBM] [Warning] bagging_freq is set=3, subsample_freq=0 will be ignored. Current value: bagging_freq=3\n",
      "[LightGBM] [Warning] lambda_l1 is set=0.889914525270459, reg_alpha=0.0 will be ignored. Current value: lambda_l1=0.889914525270459\n",
      "[LightGBM] [Warning] min_data_in_leaf is set=10, min_child_samples=20 will be ignored. Current value: min_data_in_leaf=10\n",
      "[LightGBM] [Warning] num_iterations is set=289, num_boost_round=289 will be ignored. Current value: num_iterations=289\n",
      "[LightGBM] [Warning] lambda_l2 is set=0.3693921419990962, reg_lambda=0.0 will be ignored. Current value: lambda_l2=0.3693921419990962\n",
      "[LightGBM] [Warning] feature_fraction is set=0.5510729986142745, colsample_bytree=1.0 will be ignored. Current value: feature_fraction=0.5510729986142745\n",
      "[LightGBM] [Warning] bagging_fraction is set=0.702183069837647, subsample=1.0 will be ignored. Current value: bagging_fraction=0.702183069837647\n"
     ]
    },
    {
     "name": "stderr",
     "output_type": "stream",
     "text": [
      "[I 2023-06-06 16:50:13,105] Trial 80 finished with value: 0.6633064516129032 and parameters: {'max_depth': 7, 'num_boost_round': 289, 'min_data_in_leaf': 10, 'n_estimators': 616, 'num_leaves': 579, 'learning_rate': 0.03497439396201402, 'feature_fraction': 0.5510729986142745, 'bagging_fraction': 0.702183069837647, 'bagging_freq': 3, 'lambda_l1': 0.889914525270459, 'lambda_l2': 0.3693921419990962}. Best is trial 26 with value: 0.6733870967741935.\n"
     ]
    },
    {
     "name": "stdout",
     "output_type": "stream",
     "text": [
      "[LightGBM] [Warning] bagging_freq is set=5, subsample_freq=0 will be ignored. Current value: bagging_freq=5\n",
      "[LightGBM] [Warning] lambda_l1 is set=0.3824943373242671, reg_alpha=0.0 will be ignored. Current value: lambda_l1=0.3824943373242671\n",
      "[LightGBM] [Warning] min_data_in_leaf is set=18, min_child_samples=20 will be ignored. Current value: min_data_in_leaf=18\n",
      "[LightGBM] [Warning] num_iterations is set=115, num_boost_round=115 will be ignored. Current value: num_iterations=115\n",
      "[LightGBM] [Warning] lambda_l2 is set=0.6221684384334272, reg_lambda=0.0 will be ignored. Current value: lambda_l2=0.6221684384334272\n",
      "[LightGBM] [Warning] feature_fraction is set=0.43552537470151775, colsample_bytree=1.0 will be ignored. Current value: feature_fraction=0.43552537470151775\n",
      "[LightGBM] [Warning] bagging_fraction is set=0.7377988936628636, subsample=1.0 will be ignored. Current value: bagging_fraction=0.7377988936628636\n"
     ]
    },
    {
     "name": "stderr",
     "output_type": "stream",
     "text": [
      "[I 2023-06-06 16:50:14,006] Trial 81 finished with value: 0.6673387096774194 and parameters: {'max_depth': 8, 'num_boost_round': 115, 'min_data_in_leaf': 18, 'n_estimators': 1563, 'num_leaves': 216, 'learning_rate': 0.03771585417227623, 'feature_fraction': 0.43552537470151775, 'bagging_fraction': 0.7377988936628636, 'bagging_freq': 5, 'lambda_l1': 0.3824943373242671, 'lambda_l2': 0.6221684384334272}. Best is trial 26 with value: 0.6733870967741935.\n"
     ]
    },
    {
     "name": "stdout",
     "output_type": "stream",
     "text": [
      "[LightGBM] [Warning] bagging_freq is set=5, subsample_freq=0 will be ignored. Current value: bagging_freq=5\n",
      "[LightGBM] [Warning] lambda_l1 is set=0.5355449136973285, reg_alpha=0.0 will be ignored. Current value: lambda_l1=0.5355449136973285\n",
      "[LightGBM] [Warning] min_data_in_leaf is set=19, min_child_samples=20 will be ignored. Current value: min_data_in_leaf=19\n",
      "[LightGBM] [Warning] num_iterations is set=117, num_boost_round=117 will be ignored. Current value: num_iterations=117\n",
      "[LightGBM] [Warning] lambda_l2 is set=0.6904692592108037, reg_lambda=0.0 will be ignored. Current value: lambda_l2=0.6904692592108037\n",
      "[LightGBM] [Warning] feature_fraction is set=0.4219536861929949, colsample_bytree=1.0 will be ignored. Current value: feature_fraction=0.4219536861929949\n",
      "[LightGBM] [Warning] bagging_fraction is set=0.7536509360125859, subsample=1.0 will be ignored. Current value: bagging_fraction=0.7536509360125859\n"
     ]
    },
    {
     "name": "stderr",
     "output_type": "stream",
     "text": [
      "[I 2023-06-06 16:50:14,385] Trial 82 finished with value: 0.6633064516129032 and parameters: {'max_depth': 8, 'num_boost_round': 117, 'min_data_in_leaf': 19, 'n_estimators': 1596, 'num_leaves': 10, 'learning_rate': 0.04174674046866501, 'feature_fraction': 0.4219536861929949, 'bagging_fraction': 0.7536509360125859, 'bagging_freq': 5, 'lambda_l1': 0.5355449136973285, 'lambda_l2': 0.6904692592108037}. Best is trial 26 with value: 0.6733870967741935.\n"
     ]
    },
    {
     "name": "stdout",
     "output_type": "stream",
     "text": [
      "[LightGBM] [Warning] bagging_freq is set=5, subsample_freq=0 will be ignored. Current value: bagging_freq=5\n",
      "[LightGBM] [Warning] lambda_l1 is set=0.4654605034385342, reg_alpha=0.0 will be ignored. Current value: lambda_l1=0.4654605034385342\n",
      "[LightGBM] [Warning] min_data_in_leaf is set=17, min_child_samples=20 will be ignored. Current value: min_data_in_leaf=17\n",
      "[LightGBM] [Warning] num_iterations is set=107, num_boost_round=107 will be ignored. Current value: num_iterations=107\n",
      "[LightGBM] [Warning] lambda_l2 is set=0.8019868051997842, reg_lambda=0.0 will be ignored. Current value: lambda_l2=0.8019868051997842\n",
      "[LightGBM] [Warning] feature_fraction is set=0.48346762220425243, colsample_bytree=1.0 will be ignored. Current value: feature_fraction=0.48346762220425243\n",
      "[LightGBM] [Warning] bagging_fraction is set=0.7617690009171231, subsample=1.0 will be ignored. Current value: bagging_fraction=0.7617690009171231\n"
     ]
    },
    {
     "name": "stderr",
     "output_type": "stream",
     "text": [
      "[I 2023-06-06 16:50:15,278] Trial 83 finished with value: 0.6733870967741935 and parameters: {'max_depth': 8, 'num_boost_round': 107, 'min_data_in_leaf': 17, 'n_estimators': 1465, 'num_leaves': 137, 'learning_rate': 0.03704002889311359, 'feature_fraction': 0.48346762220425243, 'bagging_fraction': 0.7617690009171231, 'bagging_freq': 5, 'lambda_l1': 0.4654605034385342, 'lambda_l2': 0.8019868051997842}. Best is trial 26 with value: 0.6733870967741935.\n"
     ]
    },
    {
     "name": "stdout",
     "output_type": "stream",
     "text": [
      "[LightGBM] [Warning] bagging_freq is set=6, subsample_freq=0 will be ignored. Current value: bagging_freq=6\n",
      "[LightGBM] [Warning] lambda_l1 is set=0.5955785445431323, reg_alpha=0.0 will be ignored. Current value: lambda_l1=0.5955785445431323\n",
      "[LightGBM] [Warning] min_data_in_leaf is set=16, min_child_samples=20 will be ignored. Current value: min_data_in_leaf=16\n",
      "[LightGBM] [Warning] num_iterations is set=105, num_boost_round=105 will be ignored. Current value: num_iterations=105\n",
      "[LightGBM] [Warning] lambda_l2 is set=0.8038203604926074, reg_lambda=0.0 will be ignored. Current value: lambda_l2=0.8038203604926074\n",
      "[LightGBM] [Warning] feature_fraction is set=0.5237196455999401, colsample_bytree=1.0 will be ignored. Current value: feature_fraction=0.5237196455999401\n",
      "[LightGBM] [Warning] bagging_fraction is set=0.7651605438504436, subsample=1.0 will be ignored. Current value: bagging_fraction=0.7651605438504436\n"
     ]
    },
    {
     "name": "stderr",
     "output_type": "stream",
     "text": [
      "[I 2023-06-06 16:50:16,194] Trial 84 finished with value: 0.6673387096774194 and parameters: {'max_depth': 8, 'num_boost_round': 105, 'min_data_in_leaf': 16, 'n_estimators': 1473, 'num_leaves': 133, 'learning_rate': 0.032226338553206176, 'feature_fraction': 0.5237196455999401, 'bagging_fraction': 0.7651605438504436, 'bagging_freq': 6, 'lambda_l1': 0.5955785445431323, 'lambda_l2': 0.8038203604926074}. Best is trial 26 with value: 0.6733870967741935.\n"
     ]
    },
    {
     "name": "stdout",
     "output_type": "stream",
     "text": [
      "[LightGBM] [Warning] bagging_freq is set=4, subsample_freq=0 will be ignored. Current value: bagging_freq=4\n",
      "[LightGBM] [Warning] lambda_l1 is set=0.4560996876018124, reg_alpha=0.0 will be ignored. Current value: lambda_l1=0.4560996876018124\n",
      "[LightGBM] [Warning] min_data_in_leaf is set=17, min_child_samples=20 will be ignored. Current value: min_data_in_leaf=17\n",
      "[LightGBM] [Warning] num_iterations is set=110, num_boost_round=110 will be ignored. Current value: num_iterations=110\n",
      "[LightGBM] [Warning] lambda_l2 is set=0.49871684430086544, reg_lambda=0.0 will be ignored. Current value: lambda_l2=0.49871684430086544\n",
      "[LightGBM] [Warning] feature_fraction is set=0.4787822503349017, colsample_bytree=1.0 will be ignored. Current value: feature_fraction=0.4787822503349017\n",
      "[LightGBM] [Warning] bagging_fraction is set=0.7890290319409368, subsample=1.0 will be ignored. Current value: bagging_fraction=0.7890290319409368\n"
     ]
    },
    {
     "name": "stderr",
     "output_type": "stream",
     "text": [
      "[I 2023-06-06 16:50:17,137] Trial 85 finished with value: 0.657258064516129 and parameters: {'max_depth': 8, 'num_boost_round': 110, 'min_data_in_leaf': 17, 'n_estimators': 1392, 'num_leaves': 168, 'learning_rate': 0.028969665450347185, 'feature_fraction': 0.4787822503349017, 'bagging_fraction': 0.7890290319409368, 'bagging_freq': 4, 'lambda_l1': 0.4560996876018124, 'lambda_l2': 0.49871684430086544}. Best is trial 26 with value: 0.6733870967741935.\n"
     ]
    },
    {
     "name": "stdout",
     "output_type": "stream",
     "text": [
      "[LightGBM] [Warning] bagging_freq is set=5, subsample_freq=0 will be ignored. Current value: bagging_freq=5\n",
      "[LightGBM] [Warning] lambda_l1 is set=0.31053417362489316, reg_alpha=0.0 will be ignored. Current value: lambda_l1=0.31053417362489316\n",
      "[LightGBM] [Warning] min_data_in_leaf is set=16, min_child_samples=20 will be ignored. Current value: min_data_in_leaf=16\n",
      "[LightGBM] [Warning] num_iterations is set=131, num_boost_round=131 will be ignored. Current value: num_iterations=131\n",
      "[LightGBM] [Warning] lambda_l2 is set=0.3326977813833621, reg_lambda=0.0 will be ignored. Current value: lambda_l2=0.3326977813833621\n",
      "[LightGBM] [Warning] feature_fraction is set=0.50900066255705, colsample_bytree=1.0 will be ignored. Current value: feature_fraction=0.50900066255705\n",
      "[LightGBM] [Warning] bagging_fraction is set=0.7177778338276347, subsample=1.0 will be ignored. Current value: bagging_fraction=0.7177778338276347\n"
     ]
    },
    {
     "name": "stderr",
     "output_type": "stream",
     "text": [
      "[I 2023-06-06 16:50:18,292] Trial 86 finished with value: 0.6471774193548387 and parameters: {'max_depth': 8, 'num_boost_round': 131, 'min_data_in_leaf': 16, 'n_estimators': 1435, 'num_leaves': 495, 'learning_rate': 0.04487814035875394, 'feature_fraction': 0.50900066255705, 'bagging_fraction': 0.7177778338276347, 'bagging_freq': 5, 'lambda_l1': 0.31053417362489316, 'lambda_l2': 0.3326977813833621}. Best is trial 26 with value: 0.6733870967741935.\n"
     ]
    },
    {
     "name": "stdout",
     "output_type": "stream",
     "text": [
      "[LightGBM] [Warning] bagging_freq is set=2, subsample_freq=0 will be ignored. Current value: bagging_freq=2\n",
      "[LightGBM] [Warning] lambda_l1 is set=0.4946339268477882, reg_alpha=0.0 will be ignored. Current value: lambda_l1=0.4946339268477882\n",
      "[LightGBM] [Warning] min_data_in_leaf is set=17, min_child_samples=20 will be ignored. Current value: min_data_in_leaf=17\n",
      "[LightGBM] [Warning] num_iterations is set=122, num_boost_round=122 will be ignored. Current value: num_iterations=122\n",
      "[LightGBM] [Warning] lambda_l2 is set=0.585300594417422, reg_lambda=0.0 will be ignored. Current value: lambda_l2=0.585300594417422\n",
      "[LightGBM] [Warning] feature_fraction is set=0.5355817500660086, colsample_bytree=1.0 will be ignored. Current value: feature_fraction=0.5355817500660086\n",
      "[LightGBM] [Warning] bagging_fraction is set=0.7795259087891211, subsample=1.0 will be ignored. Current value: bagging_fraction=0.7795259087891211\n"
     ]
    },
    {
     "name": "stderr",
     "output_type": "stream",
     "text": [
      "[I 2023-06-06 16:50:19,027] Trial 87 finished with value: 0.6653225806451613 and parameters: {'max_depth': 6, 'num_boost_round': 122, 'min_data_in_leaf': 17, 'n_estimators': 1822, 'num_leaves': 273, 'learning_rate': 0.03637165246174375, 'feature_fraction': 0.5355817500660086, 'bagging_fraction': 0.7795259087891211, 'bagging_freq': 2, 'lambda_l1': 0.4946339268477882, 'lambda_l2': 0.585300594417422}. Best is trial 26 with value: 0.6733870967741935.\n"
     ]
    },
    {
     "name": "stdout",
     "output_type": "stream",
     "text": [
      "[LightGBM] [Warning] bagging_freq is set=6, subsample_freq=0 will be ignored. Current value: bagging_freq=6\n",
      "[LightGBM] [Warning] lambda_l1 is set=0.6824975653870382, reg_alpha=0.0 will be ignored. Current value: lambda_l1=0.6824975653870382\n",
      "[LightGBM] [Warning] min_data_in_leaf is set=15, min_child_samples=20 will be ignored. Current value: min_data_in_leaf=15\n",
      "[LightGBM] [Warning] num_iterations is set=168, num_boost_round=168 will be ignored. Current value: num_iterations=168\n",
      "[LightGBM] [Warning] lambda_l2 is set=0.7172743238798376, reg_lambda=0.0 will be ignored. Current value: lambda_l2=0.7172743238798376\n",
      "[LightGBM] [Warning] feature_fraction is set=0.5679287050851117, colsample_bytree=1.0 will be ignored. Current value: feature_fraction=0.5679287050851117\n",
      "[LightGBM] [Warning] bagging_fraction is set=0.7619843943519565, subsample=1.0 will be ignored. Current value: bagging_fraction=0.7619843943519565\n"
     ]
    },
    {
     "name": "stderr",
     "output_type": "stream",
     "text": [
      "[I 2023-06-06 16:50:20,577] Trial 88 finished with value: 0.6532258064516129 and parameters: {'max_depth': 8, 'num_boost_round': 168, 'min_data_in_leaf': 15, 'n_estimators': 1123, 'num_leaves': 90, 'learning_rate': 0.03415470802463671, 'feature_fraction': 0.5679287050851117, 'bagging_fraction': 0.7619843943519565, 'bagging_freq': 6, 'lambda_l1': 0.6824975653870382, 'lambda_l2': 0.7172743238798376}. Best is trial 26 with value: 0.6733870967741935.\n"
     ]
    },
    {
     "name": "stdout",
     "output_type": "stream",
     "text": [
      "[LightGBM] [Warning] bagging_freq is set=3, subsample_freq=0 will be ignored. Current value: bagging_freq=3\n",
      "[LightGBM] [Warning] lambda_l1 is set=0.3411803796116647, reg_alpha=0.0 will be ignored. Current value: lambda_l1=0.3411803796116647\n",
      "[LightGBM] [Warning] min_data_in_leaf is set=14, min_child_samples=20 will be ignored. Current value: min_data_in_leaf=14\n",
      "[LightGBM] [Warning] num_iterations is set=140, num_boost_round=140 will be ignored. Current value: num_iterations=140\n",
      "[LightGBM] [Warning] lambda_l2 is set=0.8923398380474773, reg_lambda=0.0 will be ignored. Current value: lambda_l2=0.8923398380474773\n",
      "[LightGBM] [Warning] feature_fraction is set=0.4778974682582833, colsample_bytree=1.0 will be ignored. Current value: feature_fraction=0.4778974682582833\n",
      "[LightGBM] [Warning] bagging_fraction is set=0.7279322117917231, subsample=1.0 will be ignored. Current value: bagging_fraction=0.7279322117917231\n"
     ]
    },
    {
     "name": "stderr",
     "output_type": "stream",
     "text": [
      "[I 2023-06-06 16:50:21,436] Trial 89 finished with value: 0.6673387096774194 and parameters: {'max_depth': 6, 'num_boost_round': 140, 'min_data_in_leaf': 14, 'n_estimators': 1517, 'num_leaves': 63, 'learning_rate': 0.04090672563023388, 'feature_fraction': 0.4778974682582833, 'bagging_fraction': 0.7279322117917231, 'bagging_freq': 3, 'lambda_l1': 0.3411803796116647, 'lambda_l2': 0.8923398380474773}. Best is trial 26 with value: 0.6733870967741935.\n"
     ]
    },
    {
     "name": "stdout",
     "output_type": "stream",
     "text": [
      "[LightGBM] [Warning] bagging_freq is set=7, subsample_freq=0 will be ignored. Current value: bagging_freq=7\n",
      "[LightGBM] [Warning] lambda_l1 is set=0.4155861700514972, reg_alpha=0.0 will be ignored. Current value: lambda_l1=0.4155861700514972\n",
      "[LightGBM] [Warning] min_data_in_leaf is set=12, min_child_samples=20 will be ignored. Current value: min_data_in_leaf=12\n",
      "[LightGBM] [Warning] num_iterations is set=107, num_boost_round=107 will be ignored. Current value: num_iterations=107\n",
      "[LightGBM] [Warning] lambda_l2 is set=0.4352093581356151, reg_lambda=0.0 will be ignored. Current value: lambda_l2=0.4352093581356151\n",
      "[LightGBM] [Warning] feature_fraction is set=0.5892531417578493, colsample_bytree=1.0 will be ignored. Current value: feature_fraction=0.5892531417578493\n",
      "[LightGBM] [Warning] bagging_fraction is set=0.7390130008663084, subsample=1.0 will be ignored. Current value: bagging_fraction=0.7390130008663084\n"
     ]
    },
    {
     "name": "stderr",
     "output_type": "stream",
     "text": [
      "[I 2023-06-06 16:50:22,604] Trial 90 finished with value: 0.6693548387096774 and parameters: {'max_depth': 8, 'num_boost_round': 107, 'min_data_in_leaf': 12, 'n_estimators': 1702, 'num_leaves': 390, 'learning_rate': 0.026988607105018124, 'feature_fraction': 0.5892531417578493, 'bagging_fraction': 0.7390130008663084, 'bagging_freq': 7, 'lambda_l1': 0.4155861700514972, 'lambda_l2': 0.4352093581356151}. Best is trial 26 with value: 0.6733870967741935.\n"
     ]
    },
    {
     "name": "stdout",
     "output_type": "stream",
     "text": [
      "[LightGBM] [Warning] bagging_freq is set=7, subsample_freq=0 will be ignored. Current value: bagging_freq=7\n",
      "[LightGBM] [Warning] lambda_l1 is set=0.41673418026293285, reg_alpha=0.0 will be ignored. Current value: lambda_l1=0.41673418026293285\n",
      "[LightGBM] [Warning] min_data_in_leaf is set=12, min_child_samples=20 will be ignored. Current value: min_data_in_leaf=12\n",
      "[LightGBM] [Warning] num_iterations is set=103, num_boost_round=103 will be ignored. Current value: num_iterations=103\n",
      "[LightGBM] [Warning] lambda_l2 is set=0.4479932785843493, reg_lambda=0.0 will be ignored. Current value: lambda_l2=0.4479932785843493\n",
      "[LightGBM] [Warning] feature_fraction is set=0.588269008615695, colsample_bytree=1.0 will be ignored. Current value: feature_fraction=0.588269008615695\n",
      "[LightGBM] [Warning] bagging_fraction is set=0.7400819957338012, subsample=1.0 will be ignored. Current value: bagging_fraction=0.7400819957338012\n"
     ]
    },
    {
     "name": "stderr",
     "output_type": "stream",
     "text": [
      "[I 2023-06-06 16:50:23,743] Trial 91 finished with value: 0.6612903225806451 and parameters: {'max_depth': 8, 'num_boost_round': 103, 'min_data_in_leaf': 12, 'n_estimators': 1672, 'num_leaves': 345, 'learning_rate': 0.027074534124477297, 'feature_fraction': 0.588269008615695, 'bagging_fraction': 0.7400819957338012, 'bagging_freq': 7, 'lambda_l1': 0.41673418026293285, 'lambda_l2': 0.4479932785843493}. Best is trial 26 with value: 0.6733870967741935.\n"
     ]
    },
    {
     "name": "stdout",
     "output_type": "stream",
     "text": [
      "[LightGBM] [Warning] bagging_freq is set=7, subsample_freq=0 will be ignored. Current value: bagging_freq=7\n",
      "[LightGBM] [Warning] lambda_l1 is set=0.2297470836162949, reg_alpha=0.0 will be ignored. Current value: lambda_l1=0.2297470836162949\n",
      "[LightGBM] [Warning] min_data_in_leaf is set=11, min_child_samples=20 will be ignored. Current value: min_data_in_leaf=11\n",
      "[LightGBM] [Warning] num_iterations is set=108, num_boost_round=108 will be ignored. Current value: num_iterations=108\n",
      "[LightGBM] [Warning] lambda_l2 is set=0.3813607702470726, reg_lambda=0.0 will be ignored. Current value: lambda_l2=0.3813607702470726\n",
      "[LightGBM] [Warning] feature_fraction is set=0.6117207269961028, colsample_bytree=1.0 will be ignored. Current value: feature_fraction=0.6117207269961028\n",
      "[LightGBM] [Warning] bagging_fraction is set=0.7626293144126001, subsample=1.0 will be ignored. Current value: bagging_fraction=0.7626293144126001\n"
     ]
    },
    {
     "name": "stderr",
     "output_type": "stream",
     "text": [
      "[I 2023-06-06 16:50:25,051] Trial 92 finished with value: 0.6673387096774194 and parameters: {'max_depth': 8, 'num_boost_round': 108, 'min_data_in_leaf': 11, 'n_estimators': 1739, 'num_leaves': 384, 'learning_rate': 0.028725497624199372, 'feature_fraction': 0.6117207269961028, 'bagging_fraction': 0.7626293144126001, 'bagging_freq': 7, 'lambda_l1': 0.2297470836162949, 'lambda_l2': 0.3813607702470726}. Best is trial 26 with value: 0.6733870967741935.\n"
     ]
    },
    {
     "name": "stdout",
     "output_type": "stream",
     "text": [
      "[LightGBM] [Warning] bagging_freq is set=8, subsample_freq=0 will be ignored. Current value: bagging_freq=8\n",
      "[LightGBM] [Warning] lambda_l1 is set=0.5592557905590265, reg_alpha=0.0 will be ignored. Current value: lambda_l1=0.5592557905590265\n",
      "[LightGBM] [Warning] min_data_in_leaf is set=12, min_child_samples=20 will be ignored. Current value: min_data_in_leaf=12\n",
      "[LightGBM] [Warning] num_iterations is set=115, num_boost_round=115 will be ignored. Current value: num_iterations=115\n",
      "[LightGBM] [Warning] lambda_l2 is set=0.5191591653049322, reg_lambda=0.0 will be ignored. Current value: lambda_l2=0.5191591653049322\n",
      "[LightGBM] [Warning] feature_fraction is set=0.5651425173347153, colsample_bytree=1.0 will be ignored. Current value: feature_fraction=0.5651425173347153\n",
      "[LightGBM] [Warning] bagging_fraction is set=0.7839890635710999, subsample=1.0 will be ignored. Current value: bagging_fraction=0.7839890635710999\n"
     ]
    },
    {
     "name": "stderr",
     "output_type": "stream",
     "text": [
      "[I 2023-06-06 16:50:26,246] Trial 93 finished with value: 0.657258064516129 and parameters: {'max_depth': 8, 'num_boost_round': 115, 'min_data_in_leaf': 12, 'n_estimators': 1625, 'num_leaves': 686, 'learning_rate': 0.023354770998908994, 'feature_fraction': 0.5651425173347153, 'bagging_fraction': 0.7839890635710999, 'bagging_freq': 8, 'lambda_l1': 0.5592557905590265, 'lambda_l2': 0.5191591653049322}. Best is trial 26 with value: 0.6733870967741935.\n"
     ]
    },
    {
     "name": "stdout",
     "output_type": "stream",
     "text": [
      "[LightGBM] [Warning] bagging_freq is set=7, subsample_freq=0 will be ignored. Current value: bagging_freq=7\n",
      "[LightGBM] [Warning] lambda_l1 is set=0.27241898925939984, reg_alpha=0.0 will be ignored. Current value: lambda_l1=0.27241898925939984\n",
      "[LightGBM] [Warning] min_data_in_leaf is set=11, min_child_samples=20 will be ignored. Current value: min_data_in_leaf=11\n",
      "[LightGBM] [Warning] num_iterations is set=112, num_boost_round=112 will be ignored. Current value: num_iterations=112\n",
      "[LightGBM] [Warning] lambda_l2 is set=0.3149863714170727, reg_lambda=0.0 will be ignored. Current value: lambda_l2=0.3149863714170727\n",
      "[LightGBM] [Warning] feature_fraction is set=0.544634007731615, colsample_bytree=1.0 will be ignored. Current value: feature_fraction=0.544634007731615\n",
      "[LightGBM] [Warning] bagging_fraction is set=0.7092923806403186, subsample=1.0 will be ignored. Current value: bagging_fraction=0.7092923806403186\n"
     ]
    },
    {
     "name": "stderr",
     "output_type": "stream",
     "text": [
      "[I 2023-06-06 16:50:27,453] Trial 94 finished with value: 0.6633064516129032 and parameters: {'max_depth': 8, 'num_boost_round': 112, 'min_data_in_leaf': 11, 'n_estimators': 1702, 'num_leaves': 790, 'learning_rate': 0.02517869368284753, 'feature_fraction': 0.544634007731615, 'bagging_fraction': 0.7092923806403186, 'bagging_freq': 7, 'lambda_l1': 0.27241898925939984, 'lambda_l2': 0.3149863714170727}. Best is trial 26 with value: 0.6733870967741935.\n"
     ]
    },
    {
     "name": "stdout",
     "output_type": "stream",
     "text": [
      "[LightGBM] [Warning] bagging_freq is set=8, subsample_freq=0 will be ignored. Current value: bagging_freq=8\n",
      "[LightGBM] [Warning] lambda_l1 is set=0.4887064460914436, reg_alpha=0.0 will be ignored. Current value: lambda_l1=0.4887064460914436\n",
      "[LightGBM] [Warning] min_data_in_leaf is set=13, min_child_samples=20 will be ignored. Current value: min_data_in_leaf=13\n",
      "[LightGBM] [Warning] num_iterations is set=106, num_boost_round=106 will be ignored. Current value: num_iterations=106\n",
      "[LightGBM] [Warning] lambda_l2 is set=0.41888188457567505, reg_lambda=0.0 will be ignored. Current value: lambda_l2=0.41888188457567505\n",
      "[LightGBM] [Warning] feature_fraction is set=0.6467872547820647, colsample_bytree=1.0 will be ignored. Current value: feature_fraction=0.6467872547820647\n",
      "[LightGBM] [Warning] bagging_fraction is set=0.6875477491582358, subsample=1.0 will be ignored. Current value: bagging_fraction=0.6875477491582358\n"
     ]
    },
    {
     "name": "stderr",
     "output_type": "stream",
     "text": [
      "[I 2023-06-06 16:50:28,571] Trial 95 finished with value: 0.6633064516129032 and parameters: {'max_depth': 8, 'num_boost_round': 106, 'min_data_in_leaf': 13, 'n_estimators': 1502, 'num_leaves': 194, 'learning_rate': 0.030191360403206417, 'feature_fraction': 0.6467872547820647, 'bagging_fraction': 0.6875477491582358, 'bagging_freq': 8, 'lambda_l1': 0.4887064460914436, 'lambda_l2': 0.41888188457567505}. Best is trial 26 with value: 0.6733870967741935.\n"
     ]
    },
    {
     "name": "stdout",
     "output_type": "stream",
     "text": [
      "[LightGBM] [Warning] bagging_freq is set=5, subsample_freq=0 will be ignored. Current value: bagging_freq=5\n",
      "[LightGBM] [Warning] lambda_l1 is set=0.41391038666683105, reg_alpha=0.0 will be ignored. Current value: lambda_l1=0.41391038666683105\n",
      "[LightGBM] [Warning] min_data_in_leaf is set=13, min_child_samples=20 will be ignored. Current value: min_data_in_leaf=13\n",
      "[LightGBM] [Warning] num_iterations is set=100, num_boost_round=100 will be ignored. Current value: num_iterations=100\n",
      "[LightGBM] [Warning] lambda_l2 is set=0.2390801320660226, reg_lambda=0.0 will be ignored. Current value: lambda_l2=0.2390801320660226\n",
      "[LightGBM] [Warning] feature_fraction is set=0.49348600540581244, colsample_bytree=1.0 will be ignored. Current value: feature_fraction=0.49348600540581244\n",
      "[LightGBM] [Warning] bagging_fraction is set=0.7456560087858058, subsample=1.0 will be ignored. Current value: bagging_fraction=0.7456560087858058\n"
     ]
    },
    {
     "name": "stderr",
     "output_type": "stream",
     "text": [
      "[I 2023-06-06 16:50:29,211] Trial 96 finished with value: 0.6592741935483871 and parameters: {'max_depth': 6, 'num_boost_round': 100, 'min_data_in_leaf': 13, 'n_estimators': 1575, 'num_leaves': 302, 'learning_rate': 0.03188963204303432, 'feature_fraction': 0.49348600540581244, 'bagging_fraction': 0.7456560087858058, 'bagging_freq': 5, 'lambda_l1': 0.41391038666683105, 'lambda_l2': 0.2390801320660226}. Best is trial 26 with value: 0.6733870967741935.\n"
     ]
    },
    {
     "name": "stdout",
     "output_type": "stream",
     "text": [
      "[LightGBM] [Warning] bagging_freq is set=6, subsample_freq=0 will be ignored. Current value: bagging_freq=6\n",
      "[LightGBM] [Warning] lambda_l1 is set=0.2918711458189238, reg_alpha=0.0 will be ignored. Current value: lambda_l1=0.2918711458189238\n",
      "[LightGBM] [Warning] min_data_in_leaf is set=12, min_child_samples=20 will be ignored. Current value: min_data_in_leaf=12\n",
      "[LightGBM] [Warning] num_iterations is set=129, num_boost_round=129 will be ignored. Current value: num_iterations=129\n",
      "[LightGBM] [Warning] lambda_l2 is set=0.7549455291629489, reg_lambda=0.0 will be ignored. Current value: lambda_l2=0.7549455291629489\n",
      "[LightGBM] [Warning] feature_fraction is set=0.5210516804745345, colsample_bytree=1.0 will be ignored. Current value: feature_fraction=0.5210516804745345\n",
      "[LightGBM] [Warning] bagging_fraction is set=0.7987201984246936, subsample=1.0 will be ignored. Current value: bagging_fraction=0.7987201984246936\n"
     ]
    },
    {
     "name": "stderr",
     "output_type": "stream",
     "text": [
      "[I 2023-06-06 16:50:30,551] Trial 97 finished with value: 0.6653225806451613 and parameters: {'max_depth': 8, 'num_boost_round': 129, 'min_data_in_leaf': 12, 'n_estimators': 1781, 'num_leaves': 124, 'learning_rate': 0.027826977589801433, 'feature_fraction': 0.5210516804745345, 'bagging_fraction': 0.7987201984246936, 'bagging_freq': 6, 'lambda_l1': 0.2918711458189238, 'lambda_l2': 0.7549455291629489}. Best is trial 26 with value: 0.6733870967741935.\n"
     ]
    },
    {
     "name": "stdout",
     "output_type": "stream",
     "text": [
      "[LightGBM] [Warning] bagging_freq is set=4, subsample_freq=0 will be ignored. Current value: bagging_freq=4\n",
      "[LightGBM] [Warning] lambda_l1 is set=0.34296083297680635, reg_alpha=0.0 will be ignored. Current value: lambda_l1=0.34296083297680635\n",
      "[LightGBM] [Warning] min_data_in_leaf is set=17, min_child_samples=20 will be ignored. Current value: min_data_in_leaf=17\n",
      "[LightGBM] [Warning] num_iterations is set=122, num_boost_round=122 will be ignored. Current value: num_iterations=122\n",
      "[LightGBM] [Warning] lambda_l2 is set=0.6100908659829581, reg_lambda=0.0 will be ignored. Current value: lambda_l2=0.6100908659829581\n",
      "[LightGBM] [Warning] feature_fraction is set=0.45199897262998073, colsample_bytree=1.0 will be ignored. Current value: feature_fraction=0.45199897262998073\n",
      "[LightGBM] [Warning] bagging_fraction is set=0.7684449252523967, subsample=1.0 will be ignored. Current value: bagging_fraction=0.7684449252523967\n"
     ]
    },
    {
     "name": "stderr",
     "output_type": "stream",
     "text": [
      "[I 2023-06-06 16:50:31,587] Trial 98 finished with value: 0.6612903225806451 and parameters: {'max_depth': 8, 'num_boost_round': 122, 'min_data_in_leaf': 17, 'n_estimators': 843, 'num_leaves': 253, 'learning_rate': 0.02449375946190604, 'feature_fraction': 0.45199897262998073, 'bagging_fraction': 0.7684449252523967, 'bagging_freq': 4, 'lambda_l1': 0.34296083297680635, 'lambda_l2': 0.6100908659829581}. Best is trial 26 with value: 0.6733870967741935.\n"
     ]
    },
    {
     "name": "stdout",
     "output_type": "stream",
     "text": [
      "[LightGBM] [Warning] bagging_freq is set=6, subsample_freq=0 will be ignored. Current value: bagging_freq=6\n",
      "[LightGBM] [Warning] lambda_l1 is set=0.6276063501202217, reg_alpha=0.0 will be ignored. Current value: lambda_l1=0.6276063501202217\n",
      "[LightGBM] [Warning] min_data_in_leaf is set=18, min_child_samples=20 will be ignored. Current value: min_data_in_leaf=18\n",
      "[LightGBM] [Warning] num_iterations is set=189, num_boost_round=189 will be ignored. Current value: num_iterations=189\n",
      "[LightGBM] [Warning] lambda_l2 is set=0.2808707938522795, reg_lambda=0.0 will be ignored. Current value: lambda_l2=0.2808707938522795\n",
      "[LightGBM] [Warning] feature_fraction is set=0.5786011090453312, colsample_bytree=1.0 will be ignored. Current value: feature_fraction=0.5786011090453312\n",
      "[LightGBM] [Warning] bagging_fraction is set=0.7292804052804636, subsample=1.0 will be ignored. Current value: bagging_fraction=0.7292804052804636\n"
     ]
    },
    {
     "name": "stderr",
     "output_type": "stream",
     "text": [
      "[I 2023-06-06 16:50:33,198] Trial 99 finished with value: 0.655241935483871 and parameters: {'max_depth': 8, 'num_boost_round': 189, 'min_data_in_leaf': 18, 'n_estimators': 1363, 'num_leaves': 58, 'learning_rate': 0.02632214095758283, 'feature_fraction': 0.5786011090453312, 'bagging_fraction': 0.7292804052804636, 'bagging_freq': 6, 'lambda_l1': 0.6276063501202217, 'lambda_l2': 0.2808707938522795}. Best is trial 26 with value: 0.6733870967741935.\n"
     ]
    },
    {
     "name": "stdout",
     "output_type": "stream",
     "text": [
      "[LightGBM] [Warning] bagging_freq is set=5, subsample_freq=0 will be ignored. Current value: bagging_freq=5\n",
      "[LightGBM] [Warning] lambda_l1 is set=0.47699216789947263, reg_alpha=0.0 will be ignored. Current value: lambda_l1=0.47699216789947263\n",
      "[LightGBM] [Warning] min_data_in_leaf is set=15, min_child_samples=20 will be ignored. Current value: min_data_in_leaf=15\n",
      "[LightGBM] [Warning] num_iterations is set=119, num_boost_round=119 will be ignored. Current value: num_iterations=119\n",
      "[LightGBM] [Warning] lambda_l2 is set=0.9921105432062315, reg_lambda=0.0 will be ignored. Current value: lambda_l2=0.9921105432062315\n",
      "[LightGBM] [Warning] feature_fraction is set=0.5490408587033238, colsample_bytree=1.0 will be ignored. Current value: feature_fraction=0.5490408587033238\n",
      "[LightGBM] [Warning] bagging_fraction is set=0.7864982793183833, subsample=1.0 will be ignored. Current value: bagging_fraction=0.7864982793183833\n"
     ]
    },
    {
     "name": "stderr",
     "output_type": "stream",
     "text": [
      "[I 2023-06-06 16:50:34,185] Trial 100 finished with value: 0.655241935483871 and parameters: {'max_depth': 7, 'num_boost_round': 119, 'min_data_in_leaf': 15, 'n_estimators': 202, 'num_leaves': 492, 'learning_rate': 0.03526362770921549, 'feature_fraction': 0.5490408587033238, 'bagging_fraction': 0.7864982793183833, 'bagging_freq': 5, 'lambda_l1': 0.47699216789947263, 'lambda_l2': 0.9921105432062315}. Best is trial 26 with value: 0.6733870967741935.\n"
     ]
    },
    {
     "name": "stdout",
     "output_type": "stream",
     "text": [
      "[LightGBM] [Warning] bagging_freq is set=5, subsample_freq=0 will be ignored. Current value: bagging_freq=5\n",
      "[LightGBM] [Warning] lambda_l1 is set=0.3784797097402249, reg_alpha=0.0 will be ignored. Current value: lambda_l1=0.3784797097402249\n",
      "[LightGBM] [Warning] min_data_in_leaf is set=18, min_child_samples=20 will be ignored. Current value: min_data_in_leaf=18\n",
      "[LightGBM] [Warning] num_iterations is set=114, num_boost_round=114 will be ignored. Current value: num_iterations=114\n",
      "[LightGBM] [Warning] lambda_l2 is set=0.6387535747865267, reg_lambda=0.0 will be ignored. Current value: lambda_l2=0.6387535747865267\n",
      "[LightGBM] [Warning] feature_fraction is set=0.5046854967859151, colsample_bytree=1.0 will be ignored. Current value: feature_fraction=0.5046854967859151\n",
      "[LightGBM] [Warning] bagging_fraction is set=0.7430824817105153, subsample=1.0 will be ignored. Current value: bagging_fraction=0.7430824817105153\n"
     ]
    },
    {
     "name": "stderr",
     "output_type": "stream",
     "text": [
      "[I 2023-06-06 16:50:35,206] Trial 101 finished with value: 0.6633064516129032 and parameters: {'max_depth': 8, 'num_boost_round': 114, 'min_data_in_leaf': 18, 'n_estimators': 1551, 'num_leaves': 200, 'learning_rate': 0.037738957668006806, 'feature_fraction': 0.5046854967859151, 'bagging_fraction': 0.7430824817105153, 'bagging_freq': 5, 'lambda_l1': 0.3784797097402249, 'lambda_l2': 0.6387535747865267}. Best is trial 26 with value: 0.6733870967741935.\n"
     ]
    },
    {
     "name": "stdout",
     "output_type": "stream",
     "text": [
      "[LightGBM] [Warning] bagging_freq is set=5, subsample_freq=0 will be ignored. Current value: bagging_freq=5\n",
      "[LightGBM] [Warning] lambda_l1 is set=0.4149550896624401, reg_alpha=0.0 will be ignored. Current value: lambda_l1=0.4149550896624401\n",
      "[LightGBM] [Warning] min_data_in_leaf is set=19, min_child_samples=20 will be ignored. Current value: min_data_in_leaf=19\n",
      "[LightGBM] [Warning] num_iterations is set=108, num_boost_round=108 will be ignored. Current value: num_iterations=108\n",
      "[LightGBM] [Warning] lambda_l2 is set=0.5635881312026487, reg_lambda=0.0 will be ignored. Current value: lambda_l2=0.5635881312026487\n",
      "[LightGBM] [Warning] feature_fraction is set=0.42216892695644903, colsample_bytree=1.0 will be ignored. Current value: feature_fraction=0.42216892695644903\n",
      "[LightGBM] [Warning] bagging_fraction is set=0.7510148647460922, subsample=1.0 will be ignored. Current value: bagging_fraction=0.7510148647460922\n"
     ]
    },
    {
     "name": "stderr",
     "output_type": "stream",
     "text": [
      "[I 2023-06-06 16:50:36,068] Trial 102 finished with value: 0.6612903225806451 and parameters: {'max_depth': 8, 'num_boost_round': 108, 'min_data_in_leaf': 19, 'n_estimators': 1471, 'num_leaves': 239, 'learning_rate': 0.033343458473456766, 'feature_fraction': 0.42216892695644903, 'bagging_fraction': 0.7510148647460922, 'bagging_freq': 5, 'lambda_l1': 0.4149550896624401, 'lambda_l2': 0.5635881312026487}. Best is trial 26 with value: 0.6733870967741935.\n"
     ]
    },
    {
     "name": "stdout",
     "output_type": "stream",
     "text": [
      "[LightGBM] [Warning] bagging_freq is set=4, subsample_freq=0 will be ignored. Current value: bagging_freq=4\n",
      "[LightGBM] [Warning] lambda_l1 is set=0.5356982820667657, reg_alpha=0.0 will be ignored. Current value: lambda_l1=0.5356982820667657\n",
      "[LightGBM] [Warning] min_data_in_leaf is set=18, min_child_samples=20 will be ignored. Current value: min_data_in_leaf=18\n",
      "[LightGBM] [Warning] num_iterations is set=136, num_boost_round=136 will be ignored. Current value: num_iterations=136\n",
      "[LightGBM] [Warning] lambda_l2 is set=0.6349933363852127, reg_lambda=0.0 will be ignored. Current value: lambda_l2=0.6349933363852127\n",
      "[LightGBM] [Warning] feature_fraction is set=0.4655307485429837, colsample_bytree=1.0 will be ignored. Current value: feature_fraction=0.4655307485429837\n",
      "[LightGBM] [Warning] bagging_fraction is set=0.7109722511948742, subsample=1.0 will be ignored. Current value: bagging_fraction=0.7109722511948742\n"
     ]
    },
    {
     "name": "stderr",
     "output_type": "stream",
     "text": [
      "[I 2023-06-06 16:50:37,134] Trial 103 finished with value: 0.657258064516129 and parameters: {'max_depth': 8, 'num_boost_round': 136, 'min_data_in_leaf': 18, 'n_estimators': 937, 'num_leaves': 147, 'learning_rate': 0.03670059334255283, 'feature_fraction': 0.4655307485429837, 'bagging_fraction': 0.7109722511948742, 'bagging_freq': 4, 'lambda_l1': 0.5356982820667657, 'lambda_l2': 0.6349933363852127}. Best is trial 26 with value: 0.6733870967741935.\n"
     ]
    },
    {
     "name": "stdout",
     "output_type": "stream",
     "text": [
      "[LightGBM] [Warning] bagging_freq is set=5, subsample_freq=0 will be ignored. Current value: bagging_freq=5\n",
      "[LightGBM] [Warning] lambda_l1 is set=0.3593265113366232, reg_alpha=0.0 will be ignored. Current value: lambda_l1=0.3593265113366232\n",
      "[LightGBM] [Warning] min_data_in_leaf is set=17, min_child_samples=20 will be ignored. Current value: min_data_in_leaf=17\n",
      "[LightGBM] [Warning] num_iterations is set=265, num_boost_round=265 will be ignored. Current value: num_iterations=265\n",
      "[LightGBM] [Warning] lambda_l2 is set=0.8179732612908008, reg_lambda=0.0 will be ignored. Current value: lambda_l2=0.8179732612908008\n",
      "[LightGBM] [Warning] feature_fraction is set=0.4387427277289575, colsample_bytree=1.0 will be ignored. Current value: feature_fraction=0.4387427277289575\n",
      "[LightGBM] [Warning] bagging_fraction is set=0.7651767400177198, subsample=1.0 will be ignored. Current value: bagging_fraction=0.7651767400177198\n"
     ]
    },
    {
     "name": "stderr",
     "output_type": "stream",
     "text": [
      "[I 2023-06-06 16:50:39,395] Trial 104 finished with value: 0.6612903225806451 and parameters: {'max_depth': 8, 'num_boost_round': 265, 'min_data_in_leaf': 17, 'n_estimators': 1604, 'num_leaves': 873, 'learning_rate': 0.030558624307183934, 'feature_fraction': 0.4387427277289575, 'bagging_fraction': 0.7651767400177198, 'bagging_freq': 5, 'lambda_l1': 0.3593265113366232, 'lambda_l2': 0.8179732612908008}. Best is trial 26 with value: 0.6733870967741935.\n"
     ]
    },
    {
     "name": "stdout",
     "output_type": "stream",
     "text": [
      "[LightGBM] [Warning] bagging_freq is set=3, subsample_freq=0 will be ignored. Current value: bagging_freq=3\n",
      "[LightGBM] [Warning] lambda_l1 is set=0.31236291272393446, reg_alpha=0.0 will be ignored. Current value: lambda_l1=0.31236291272393446\n",
      "[LightGBM] [Warning] min_data_in_leaf is set=19, min_child_samples=20 will be ignored. Current value: min_data_in_leaf=19\n",
      "[LightGBM] [Warning] num_iterations is set=127, num_boost_round=127 will be ignored. Current value: num_iterations=127\n",
      "[LightGBM] [Warning] lambda_l2 is set=0.47645168884542916, reg_lambda=0.0 will be ignored. Current value: lambda_l2=0.47645168884542916\n",
      "[LightGBM] [Warning] feature_fraction is set=0.4846672856123926, colsample_bytree=1.0 will be ignored. Current value: feature_fraction=0.4846672856123926\n",
      "[LightGBM] [Warning] bagging_fraction is set=0.7355745297308266, subsample=1.0 will be ignored. Current value: bagging_fraction=0.7355745297308266\n"
     ]
    },
    {
     "name": "stderr",
     "output_type": "stream",
     "text": [
      "[I 2023-06-06 16:50:40,434] Trial 105 finished with value: 0.6612903225806451 and parameters: {'max_depth': 8, 'num_boost_round': 127, 'min_data_in_leaf': 19, 'n_estimators': 1666, 'num_leaves': 337, 'learning_rate': 0.039750106729830204, 'feature_fraction': 0.4846672856123926, 'bagging_fraction': 0.7355745297308266, 'bagging_freq': 3, 'lambda_l1': 0.31236291272393446, 'lambda_l2': 0.47645168884542916}. Best is trial 26 with value: 0.6733870967741935.\n"
     ]
    },
    {
     "name": "stdout",
     "output_type": "stream",
     "text": [
      "[LightGBM] [Warning] bagging_freq is set=2, subsample_freq=0 will be ignored. Current value: bagging_freq=2\n",
      "[LightGBM] [Warning] lambda_l1 is set=0.2567858385286173, reg_alpha=0.0 will be ignored. Current value: lambda_l1=0.2567858385286173\n",
      "[LightGBM] [Warning] min_data_in_leaf is set=16, min_child_samples=20 will be ignored. Current value: min_data_in_leaf=16\n",
      "[LightGBM] [Warning] num_iterations is set=117, num_boost_round=117 will be ignored. Current value: num_iterations=117\n",
      "[LightGBM] [Warning] lambda_l2 is set=0.35806339647656715, reg_lambda=0.0 will be ignored. Current value: lambda_l2=0.35806339647656715\n",
      "[LightGBM] [Warning] feature_fraction is set=0.5291223177914397, colsample_bytree=1.0 will be ignored. Current value: feature_fraction=0.5291223177914397\n",
      "[LightGBM] [Warning] bagging_fraction is set=0.6964337165437678, subsample=1.0 will be ignored. Current value: bagging_fraction=0.6964337165437678\n"
     ]
    },
    {
     "name": "stderr",
     "output_type": "stream",
     "text": [
      "[I 2023-06-06 16:50:41,174] Trial 106 finished with value: 0.6592741935483871 and parameters: {'max_depth': 6, 'num_boost_round': 117, 'min_data_in_leaf': 16, 'n_estimators': 1294, 'num_leaves': 428, 'learning_rate': 0.03786866516969141, 'feature_fraction': 0.5291223177914397, 'bagging_fraction': 0.6964337165437678, 'bagging_freq': 2, 'lambda_l1': 0.2567858385286173, 'lambda_l2': 0.35806339647656715}. Best is trial 26 with value: 0.6733870967741935.\n"
     ]
    },
    {
     "name": "stdout",
     "output_type": "stream",
     "text": [
      "[LightGBM] [Warning] bagging_freq is set=4, subsample_freq=0 will be ignored. Current value: bagging_freq=4\n",
      "[LightGBM] [Warning] lambda_l1 is set=0.45674359191819686, reg_alpha=0.0 will be ignored. Current value: lambda_l1=0.45674359191819686\n",
      "[LightGBM] [Warning] min_data_in_leaf is set=17, min_child_samples=20 will be ignored. Current value: min_data_in_leaf=17\n",
      "[LightGBM] [Warning] num_iterations is set=104, num_boost_round=104 will be ignored. Current value: num_iterations=104\n",
      "[LightGBM] [Warning] lambda_l2 is set=0.6956891200431768, reg_lambda=0.0 will be ignored. Current value: lambda_l2=0.6956891200431768\n",
      "[LightGBM] [Warning] feature_fraction is set=0.47009506463123796, colsample_bytree=1.0 will be ignored. Current value: feature_fraction=0.47009506463123796\n",
      "[LightGBM] [Warning] bagging_fraction is set=0.6683456768236556, subsample=1.0 will be ignored. Current value: bagging_fraction=0.6683456768236556\n"
     ]
    },
    {
     "name": "stderr",
     "output_type": "stream",
     "text": [
      "[I 2023-06-06 16:50:42,029] Trial 107 finished with value: 0.6653225806451613 and parameters: {'max_depth': 8, 'num_boost_round': 104, 'min_data_in_leaf': 17, 'n_estimators': 1235, 'num_leaves': 102, 'learning_rate': 0.03357984517031004, 'feature_fraction': 0.47009506463123796, 'bagging_fraction': 0.6683456768236556, 'bagging_freq': 4, 'lambda_l1': 0.45674359191819686, 'lambda_l2': 0.6956891200431768}. Best is trial 26 with value: 0.6733870967741935.\n"
     ]
    },
    {
     "name": "stdout",
     "output_type": "stream",
     "text": [
      "[LightGBM] [Warning] bagging_freq is set=6, subsample_freq=0 will be ignored. Current value: bagging_freq=6\n",
      "[LightGBM] [Warning] lambda_l1 is set=0.5836789609462982, reg_alpha=0.0 will be ignored. Current value: lambda_l1=0.5836789609462982\n",
      "[LightGBM] [Warning] min_data_in_leaf is set=20, min_child_samples=20 will be ignored. Current value: min_data_in_leaf=20\n",
      "[LightGBM] [Warning] num_iterations is set=112, num_boost_round=112 will be ignored. Current value: num_iterations=112\n",
      "[LightGBM] [Warning] lambda_l2 is set=0.5390207760930084, reg_lambda=0.0 will be ignored. Current value: lambda_l2=0.5390207760930084\n",
      "[LightGBM] [Warning] feature_fraction is set=0.4581065269288922, colsample_bytree=1.0 will be ignored. Current value: feature_fraction=0.4581065269288922\n",
      "[LightGBM] [Warning] bagging_fraction is set=0.7725807246173382, subsample=1.0 will be ignored. Current value: bagging_fraction=0.7725807246173382\n"
     ]
    },
    {
     "name": "stderr",
     "output_type": "stream",
     "text": [
      "[I 2023-06-06 16:50:42,952] Trial 108 finished with value: 0.6633064516129032 and parameters: {'max_depth': 8, 'num_boost_round': 112, 'min_data_in_leaf': 20, 'n_estimators': 1857, 'num_leaves': 172, 'learning_rate': 0.035786323985782756, 'feature_fraction': 0.4581065269288922, 'bagging_fraction': 0.7725807246173382, 'bagging_freq': 6, 'lambda_l1': 0.5836789609462982, 'lambda_l2': 0.5390207760930084}. Best is trial 26 with value: 0.6733870967741935.\n"
     ]
    },
    {
     "name": "stdout",
     "output_type": "stream",
     "text": [
      "[LightGBM] [Warning] bagging_freq is set=7, subsample_freq=0 will be ignored. Current value: bagging_freq=7\n",
      "[LightGBM] [Warning] lambda_l1 is set=0.7278367799419908, reg_alpha=0.0 will be ignored. Current value: lambda_l1=0.7278367799419908\n",
      "[LightGBM] [Warning] min_data_in_leaf is set=18, min_child_samples=20 will be ignored. Current value: min_data_in_leaf=18\n",
      "[LightGBM] [Warning] num_iterations is set=214, num_boost_round=214 will be ignored. Current value: num_iterations=214\n",
      "[LightGBM] [Warning] lambda_l2 is set=0.4327301591971603, reg_lambda=0.0 will be ignored. Current value: lambda_l2=0.4327301591971603\n",
      "[LightGBM] [Warning] feature_fraction is set=0.4873937160778965, colsample_bytree=1.0 will be ignored. Current value: feature_fraction=0.4873937160778965\n",
      "[LightGBM] [Warning] bagging_fraction is set=0.7846060927720997, subsample=1.0 will be ignored. Current value: bagging_fraction=0.7846060927720997\n"
     ]
    },
    {
     "name": "stderr",
     "output_type": "stream",
     "text": [
      "[I 2023-06-06 16:50:44,567] Trial 109 finished with value: 0.6612903225806451 and parameters: {'max_depth': 7, 'num_boost_round': 214, 'min_data_in_leaf': 18, 'n_estimators': 1588, 'num_leaves': 42, 'learning_rate': 0.02947100515552063, 'feature_fraction': 0.4873937160778965, 'bagging_fraction': 0.7846060927720997, 'bagging_freq': 7, 'lambda_l1': 0.7278367799419908, 'lambda_l2': 0.4327301591971603}. Best is trial 26 with value: 0.6733870967741935.\n"
     ]
    },
    {
     "name": "stdout",
     "output_type": "stream",
     "text": [
      "[LightGBM] [Warning] bagging_freq is set=5, subsample_freq=0 will be ignored. Current value: bagging_freq=5\n",
      "[LightGBM] [Warning] lambda_l1 is set=0.19336008331419055, reg_alpha=0.0 will be ignored. Current value: lambda_l1=0.19336008331419055\n",
      "[LightGBM] [Warning] min_data_in_leaf is set=18, min_child_samples=20 will be ignored. Current value: min_data_in_leaf=18\n",
      "[LightGBM] [Warning] num_iterations is set=134, num_boost_round=134 will be ignored. Current value: num_iterations=134\n",
      "[LightGBM] [Warning] lambda_l2 is set=0.3983508706524473, reg_lambda=0.0 will be ignored. Current value: lambda_l2=0.3983508706524473\n",
      "[LightGBM] [Warning] feature_fraction is set=0.5104626979194362, colsample_bytree=1.0 will be ignored. Current value: feature_fraction=0.5104626979194362\n",
      "[LightGBM] [Warning] bagging_fraction is set=0.748465828419998, subsample=1.0 will be ignored. Current value: bagging_fraction=0.748465828419998\n"
     ]
    },
    {
     "name": "stderr",
     "output_type": "stream",
     "text": [
      "[I 2023-06-06 16:50:45,767] Trial 110 finished with value: 0.6733870967741935 and parameters: {'max_depth': 8, 'num_boost_round': 134, 'min_data_in_leaf': 18, 'n_estimators': 998, 'num_leaves': 287, 'learning_rate': 0.03205297917139936, 'feature_fraction': 0.5104626979194362, 'bagging_fraction': 0.748465828419998, 'bagging_freq': 5, 'lambda_l1': 0.19336008331419055, 'lambda_l2': 0.3983508706524473}. Best is trial 26 with value: 0.6733870967741935.\n"
     ]
    },
    {
     "name": "stdout",
     "output_type": "stream",
     "text": [
      "[LightGBM] [Warning] bagging_freq is set=5, subsample_freq=0 will be ignored. Current value: bagging_freq=5\n",
      "[LightGBM] [Warning] lambda_l1 is set=0.18339008221011704, reg_alpha=0.0 will be ignored. Current value: lambda_l1=0.18339008221011704\n",
      "[LightGBM] [Warning] min_data_in_leaf is set=18, min_child_samples=20 will be ignored. Current value: min_data_in_leaf=18\n",
      "[LightGBM] [Warning] num_iterations is set=133, num_boost_round=133 will be ignored. Current value: num_iterations=133\n",
      "[LightGBM] [Warning] lambda_l2 is set=0.3944150561222984, reg_lambda=0.0 will be ignored. Current value: lambda_l2=0.3944150561222984\n",
      "[LightGBM] [Warning] feature_fraction is set=0.5116200878075372, colsample_bytree=1.0 will be ignored. Current value: feature_fraction=0.5116200878075372\n",
      "[LightGBM] [Warning] bagging_fraction is set=0.7510001856737404, subsample=1.0 will be ignored. Current value: bagging_fraction=0.7510001856737404\n"
     ]
    },
    {
     "name": "stderr",
     "output_type": "stream",
     "text": [
      "[I 2023-06-06 16:50:46,982] Trial 111 finished with value: 0.657258064516129 and parameters: {'max_depth': 8, 'num_boost_round': 133, 'min_data_in_leaf': 18, 'n_estimators': 979, 'num_leaves': 291, 'learning_rate': 0.032485515170012226, 'feature_fraction': 0.5116200878075372, 'bagging_fraction': 0.7510001856737404, 'bagging_freq': 5, 'lambda_l1': 0.18339008221011704, 'lambda_l2': 0.3944150561222984}. Best is trial 26 with value: 0.6733870967741935.\n"
     ]
    },
    {
     "name": "stdout",
     "output_type": "stream",
     "text": [
      "[LightGBM] [Warning] bagging_freq is set=5, subsample_freq=0 will be ignored. Current value: bagging_freq=5\n",
      "[LightGBM] [Warning] lambda_l1 is set=0.40269456744139426, reg_alpha=0.0 will be ignored. Current value: lambda_l1=0.40269456744139426\n",
      "[LightGBM] [Warning] min_data_in_leaf is set=18, min_child_samples=20 will be ignored. Current value: min_data_in_leaf=18\n",
      "[LightGBM] [Warning] num_iterations is set=122, num_boost_round=122 will be ignored. Current value: num_iterations=122\n",
      "[LightGBM] [Warning] lambda_l2 is set=0.32142027280755553, reg_lambda=0.0 will be ignored. Current value: lambda_l2=0.32142027280755553\n",
      "[LightGBM] [Warning] feature_fraction is set=0.5298669125261245, colsample_bytree=1.0 will be ignored. Current value: feature_fraction=0.5298669125261245\n",
      "[LightGBM] [Warning] bagging_fraction is set=0.726394821037184, subsample=1.0 will be ignored. Current value: bagging_fraction=0.726394821037184\n"
     ]
    },
    {
     "name": "stderr",
     "output_type": "stream",
     "text": [
      "[I 2023-06-06 16:50:48,049] Trial 112 finished with value: 0.6653225806451613 and parameters: {'max_depth': 8, 'num_boost_round': 122, 'min_data_in_leaf': 18, 'n_estimators': 901, 'num_leaves': 386, 'learning_rate': 0.027904050605394717, 'feature_fraction': 0.5298669125261245, 'bagging_fraction': 0.726394821037184, 'bagging_freq': 5, 'lambda_l1': 0.40269456744139426, 'lambda_l2': 0.32142027280755553}. Best is trial 26 with value: 0.6733870967741935.\n"
     ]
    },
    {
     "name": "stdout",
     "output_type": "stream",
     "text": [
      "[LightGBM] [Warning] bagging_freq is set=9, subsample_freq=0 will be ignored. Current value: bagging_freq=9\n",
      "[LightGBM] [Warning] lambda_l1 is set=0.28159576663703617, reg_alpha=0.0 will be ignored. Current value: lambda_l1=0.28159576663703617\n",
      "[LightGBM] [Warning] min_data_in_leaf is set=19, min_child_samples=20 will be ignored. Current value: min_data_in_leaf=19\n",
      "[LightGBM] [Warning] num_iterations is set=158, num_boost_round=158 will be ignored. Current value: num_iterations=158\n",
      "[LightGBM] [Warning] lambda_l2 is set=0.4924728783496412, reg_lambda=0.0 will be ignored. Current value: lambda_l2=0.4924728783496412\n",
      "[LightGBM] [Warning] feature_fraction is set=0.49562178603198215, colsample_bytree=1.0 will be ignored. Current value: feature_fraction=0.49562178603198215\n",
      "[LightGBM] [Warning] bagging_fraction is set=0.7991001417287342, subsample=1.0 will be ignored. Current value: bagging_fraction=0.7991001417287342\n"
     ]
    },
    {
     "name": "stderr",
     "output_type": "stream",
     "text": [
      "[I 2023-06-06 16:50:49,412] Trial 113 finished with value: 0.6612903225806451 and parameters: {'max_depth': 8, 'num_boost_round': 158, 'min_data_in_leaf': 19, 'n_estimators': 1712, 'num_leaves': 238, 'learning_rate': 0.030647111804206744, 'feature_fraction': 0.49562178603198215, 'bagging_fraction': 0.7991001417287342, 'bagging_freq': 9, 'lambda_l1': 0.28159576663703617, 'lambda_l2': 0.4924728783496412}. Best is trial 26 with value: 0.6733870967741935.\n"
     ]
    },
    {
     "name": "stdout",
     "output_type": "stream",
     "text": [
      "[LightGBM] [Warning] bagging_freq is set=5, subsample_freq=0 will be ignored. Current value: bagging_freq=5\n",
      "[LightGBM] [Warning] lambda_l1 is set=0.22720152216827122, reg_alpha=0.0 will be ignored. Current value: lambda_l1=0.22720152216827122\n",
      "[LightGBM] [Warning] min_data_in_leaf is set=16, min_child_samples=20 will be ignored. Current value: min_data_in_leaf=16\n",
      "[LightGBM] [Warning] num_iterations is set=148, num_boost_round=148 will be ignored. Current value: num_iterations=148\n",
      "[LightGBM] [Warning] lambda_l2 is set=0.45195884602554814, reg_lambda=0.0 will be ignored. Current value: lambda_l2=0.45195884602554814\n",
      "[LightGBM] [Warning] feature_fraction is set=0.5590042696474418, colsample_bytree=1.0 will be ignored. Current value: feature_fraction=0.5590042696474418\n",
      "[LightGBM] [Warning] bagging_fraction is set=0.7654233407967478, subsample=1.0 will be ignored. Current value: bagging_fraction=0.7654233407967478\n"
     ]
    },
    {
     "name": "stderr",
     "output_type": "stream",
     "text": [
      "[I 2023-06-06 16:50:50,885] Trial 114 finished with value: 0.6612903225806451 and parameters: {'max_depth': 8, 'num_boost_round': 148, 'min_data_in_leaf': 16, 'n_estimators': 1034, 'num_leaves': 1144, 'learning_rate': 0.03518462206925392, 'feature_fraction': 0.5590042696474418, 'bagging_fraction': 0.7654233407967478, 'bagging_freq': 5, 'lambda_l1': 0.22720152216827122, 'lambda_l2': 0.45195884602554814}. Best is trial 26 with value: 0.6733870967741935.\n"
     ]
    },
    {
     "name": "stdout",
     "output_type": "stream",
     "text": [
      "[LightGBM] [Warning] bagging_freq is set=4, subsample_freq=0 will be ignored. Current value: bagging_freq=4\n",
      "[LightGBM] [Warning] lambda_l1 is set=0.3421039471041558, reg_alpha=0.0 will be ignored. Current value: lambda_l1=0.3421039471041558\n",
      "[LightGBM] [Warning] min_data_in_leaf is set=17, min_child_samples=20 will be ignored. Current value: min_data_in_leaf=17\n",
      "[LightGBM] [Warning] num_iterations is set=142, num_boost_round=142 will be ignored. Current value: num_iterations=142\n",
      "[LightGBM] [Warning] lambda_l2 is set=0.7612610021730081, reg_lambda=0.0 will be ignored. Current value: lambda_l2=0.7612610021730081\n",
      "[LightGBM] [Warning] feature_fraction is set=0.5118363690013649, colsample_bytree=1.0 will be ignored. Current value: feature_fraction=0.5118363690013649\n",
      "[LightGBM] [Warning] bagging_fraction is set=0.7105429263734129, subsample=1.0 will be ignored. Current value: bagging_fraction=0.7105429263734129\n"
     ]
    },
    {
     "name": "stderr",
     "output_type": "stream",
     "text": [
      "[I 2023-06-06 16:50:51,749] Trial 115 finished with value: 0.6592741935483871 and parameters: {'max_depth': 6, 'num_boost_round': 142, 'min_data_in_leaf': 17, 'n_estimators': 775, 'num_leaves': 743, 'learning_rate': 0.03178575226761518, 'feature_fraction': 0.5118363690013649, 'bagging_fraction': 0.7105429263734129, 'bagging_freq': 4, 'lambda_l1': 0.3421039471041558, 'lambda_l2': 0.7612610021730081}. Best is trial 26 with value: 0.6733870967741935.\n"
     ]
    },
    {
     "name": "stdout",
     "output_type": "stream",
     "text": [
      "[LightGBM] [Warning] bagging_freq is set=6, subsample_freq=0 will be ignored. Current value: bagging_freq=6\n",
      "[LightGBM] [Warning] lambda_l1 is set=0.47013917344372647, reg_alpha=0.0 will be ignored. Current value: lambda_l1=0.47013917344372647\n",
      "[LightGBM] [Warning] min_data_in_leaf is set=18, min_child_samples=20 will be ignored. Current value: min_data_in_leaf=18\n",
      "[LightGBM] [Warning] num_iterations is set=175, num_boost_round=175 will be ignored. Current value: num_iterations=175\n",
      "[LightGBM] [Warning] lambda_l2 is set=0.5888681934947255, reg_lambda=0.0 will be ignored. Current value: lambda_l2=0.5888681934947255\n",
      "[LightGBM] [Warning] feature_fraction is set=0.44588357463459105, colsample_bytree=1.0 will be ignored. Current value: feature_fraction=0.44588357463459105\n",
      "[LightGBM] [Warning] bagging_fraction is set=0.7412883966071743, subsample=1.0 will be ignored. Current value: bagging_fraction=0.7412883966071743\n"
     ]
    },
    {
     "name": "stderr",
     "output_type": "stream",
     "text": [
      "[I 2023-06-06 16:50:53,146] Trial 116 finished with value: 0.6653225806451613 and parameters: {'max_depth': 8, 'num_boost_round': 175, 'min_data_in_leaf': 18, 'n_estimators': 1530, 'num_leaves': 199, 'learning_rate': 0.04038430619812198, 'feature_fraction': 0.44588357463459105, 'bagging_fraction': 0.7412883966071743, 'bagging_freq': 6, 'lambda_l1': 0.47013917344372647, 'lambda_l2': 0.5888681934947255}. Best is trial 26 with value: 0.6733870967741935.\n"
     ]
    },
    {
     "name": "stdout",
     "output_type": "stream",
     "text": [
      "[LightGBM] [Warning] bagging_freq is set=5, subsample_freq=0 will be ignored. Current value: bagging_freq=5\n",
      "[LightGBM] [Warning] lambda_l1 is set=0.5280485797099476, reg_alpha=0.0 will be ignored. Current value: lambda_l1=0.5280485797099476\n",
      "[LightGBM] [Warning] min_data_in_leaf is set=17, min_child_samples=20 will be ignored. Current value: min_data_in_leaf=17\n",
      "[LightGBM] [Warning] num_iterations is set=126, num_boost_round=126 will be ignored. Current value: num_iterations=126\n",
      "[LightGBM] [Warning] lambda_l2 is set=0.34905912396741307, reg_lambda=0.0 will be ignored. Current value: lambda_l2=0.34905912396741307\n",
      "[LightGBM] [Warning] feature_fraction is set=0.4036037510814583, colsample_bytree=1.0 will be ignored. Current value: feature_fraction=0.4036037510814583\n",
      "[LightGBM] [Warning] bagging_fraction is set=0.7749603651743497, subsample=1.0 will be ignored. Current value: bagging_fraction=0.7749603651743497\n"
     ]
    },
    {
     "name": "stderr",
     "output_type": "stream",
     "text": [
      "[I 2023-06-06 16:50:54,168] Trial 117 finished with value: 0.6673387096774194 and parameters: {'max_depth': 8, 'num_boost_round': 126, 'min_data_in_leaf': 17, 'n_estimators': 1039, 'num_leaves': 107, 'learning_rate': 0.026070702971340443, 'feature_fraction': 0.4036037510814583, 'bagging_fraction': 0.7749603651743497, 'bagging_freq': 5, 'lambda_l1': 0.5280485797099476, 'lambda_l2': 0.34905912396741307}. Best is trial 26 with value: 0.6733870967741935.\n"
     ]
    },
    {
     "name": "stdout",
     "output_type": "stream",
     "text": [
      "[LightGBM] [Warning] bagging_freq is set=5, subsample_freq=0 will be ignored. Current value: bagging_freq=5\n",
      "[LightGBM] [Warning] lambda_l1 is set=0.24114922930873137, reg_alpha=0.0 will be ignored. Current value: lambda_l1=0.24114922930873137\n",
      "[LightGBM] [Warning] min_data_in_leaf is set=12, min_child_samples=20 will be ignored. Current value: min_data_in_leaf=12\n",
      "[LightGBM] [Warning] num_iterations is set=117, num_boost_round=117 will be ignored. Current value: num_iterations=117\n",
      "[LightGBM] [Warning] lambda_l2 is set=0.6634652782594648, reg_lambda=0.0 will be ignored. Current value: lambda_l2=0.6634652782594648\n",
      "[LightGBM] [Warning] feature_fraction is set=0.43056476220708656, colsample_bytree=1.0 will be ignored. Current value: feature_fraction=0.43056476220708656\n",
      "[LightGBM] [Warning] bagging_fraction is set=0.7524587685988656, subsample=1.0 will be ignored. Current value: bagging_fraction=0.7524587685988656\n"
     ]
    },
    {
     "name": "stderr",
     "output_type": "stream",
     "text": [
      "[I 2023-06-06 16:50:55,305] Trial 118 finished with value: 0.6612903225806451 and parameters: {'max_depth': 8, 'num_boost_round': 117, 'min_data_in_leaf': 12, 'n_estimators': 1485, 'num_leaves': 266, 'learning_rate': 0.023216326872156117, 'feature_fraction': 0.43056476220708656, 'bagging_fraction': 0.7524587685988656, 'bagging_freq': 5, 'lambda_l1': 0.24114922930873137, 'lambda_l2': 0.6634652782594648}. Best is trial 26 with value: 0.6733870967741935.\n"
     ]
    },
    {
     "name": "stdout",
     "output_type": "stream",
     "text": [
      "[LightGBM] [Warning] bagging_freq is set=6, subsample_freq=0 will be ignored. Current value: bagging_freq=6\n",
      "[LightGBM] [Warning] lambda_l1 is set=0.38539558921614275, reg_alpha=0.0 will be ignored. Current value: lambda_l1=0.38539558921614275\n",
      "[LightGBM] [Warning] min_data_in_leaf is set=19, min_child_samples=20 will be ignored. Current value: min_data_in_leaf=19\n",
      "[LightGBM] [Warning] num_iterations is set=112, num_boost_round=112 will be ignored. Current value: num_iterations=112\n",
      "[LightGBM] [Warning] lambda_l2 is set=0.2683840893306808, reg_lambda=0.0 will be ignored. Current value: lambda_l2=0.2683840893306808\n",
      "[LightGBM] [Warning] feature_fraction is set=0.3827260501600869, colsample_bytree=1.0 will be ignored. Current value: feature_fraction=0.3827260501600869\n",
      "[LightGBM] [Warning] bagging_fraction is set=0.7815529459287095, subsample=1.0 will be ignored. Current value: bagging_fraction=0.7815529459287095\n"
     ]
    },
    {
     "name": "stderr",
     "output_type": "stream",
     "text": [
      "[I 2023-06-06 16:50:55,925] Trial 119 finished with value: 0.6612903225806451 and parameters: {'max_depth': 6, 'num_boost_round': 112, 'min_data_in_leaf': 19, 'n_estimators': 1651, 'num_leaves': 142, 'learning_rate': 0.028927668621419603, 'feature_fraction': 0.3827260501600869, 'bagging_fraction': 0.7815529459287095, 'bagging_freq': 6, 'lambda_l1': 0.38539558921614275, 'lambda_l2': 0.2683840893306808}. Best is trial 26 with value: 0.6733870967741935.\n"
     ]
    },
    {
     "name": "stdout",
     "output_type": "stream",
     "text": [
      "[LightGBM] [Warning] bagging_freq is set=4, subsample_freq=0 will be ignored. Current value: bagging_freq=4\n",
      "[LightGBM] [Warning] lambda_l1 is set=0.6566598932355229, reg_alpha=0.0 will be ignored. Current value: lambda_l1=0.6566598932355229\n",
      "[LightGBM] [Warning] min_data_in_leaf is set=18, min_child_samples=20 will be ignored. Current value: min_data_in_leaf=18\n",
      "[LightGBM] [Warning] num_iterations is set=108, num_boost_round=108 will be ignored. Current value: num_iterations=108\n",
      "[LightGBM] [Warning] lambda_l2 is set=0.9092792956780499, reg_lambda=0.0 will be ignored. Current value: lambda_l2=0.9092792956780499\n",
      "[LightGBM] [Warning] feature_fraction is set=0.5342036184266494, colsample_bytree=1.0 will be ignored. Current value: feature_fraction=0.5342036184266494\n",
      "[LightGBM] [Warning] bagging_fraction is set=0.7228984463520466, subsample=1.0 will be ignored. Current value: bagging_fraction=0.7228984463520466\n"
     ]
    },
    {
     "name": "stderr",
     "output_type": "stream",
     "text": [
      "[I 2023-06-06 16:50:56,820] Trial 120 finished with value: 0.6592741935483871 and parameters: {'max_depth': 8, 'num_boost_round': 108, 'min_data_in_leaf': 18, 'n_estimators': 1746, 'num_leaves': 325, 'learning_rate': 0.021887161540623368, 'feature_fraction': 0.5342036184266494, 'bagging_fraction': 0.7228984463520466, 'bagging_freq': 4, 'lambda_l1': 0.6566598932355229, 'lambda_l2': 0.9092792956780499}. Best is trial 26 with value: 0.6733870967741935.\n"
     ]
    },
    {
     "name": "stdout",
     "output_type": "stream",
     "text": [
      "[LightGBM] [Warning] bagging_freq is set=4, subsample_freq=0 will be ignored. Current value: bagging_freq=4\n",
      "[LightGBM] [Warning] lambda_l1 is set=0.5803453958690075, reg_alpha=0.0 will be ignored. Current value: lambda_l1=0.5803453958690075\n",
      "[LightGBM] [Warning] min_data_in_leaf is set=20, min_child_samples=20 will be ignored. Current value: min_data_in_leaf=20\n",
      "[LightGBM] [Warning] num_iterations is set=138, num_boost_round=138 will be ignored. Current value: num_iterations=138\n",
      "[LightGBM] [Warning] lambda_l2 is set=0.7334524187813942, reg_lambda=0.0 will be ignored. Current value: lambda_l2=0.7334524187813942\n",
      "[LightGBM] [Warning] feature_fraction is set=0.49488800415704287, colsample_bytree=1.0 will be ignored. Current value: feature_fraction=0.49488800415704287\n",
      "[LightGBM] [Warning] bagging_fraction is set=0.7327722373895061, subsample=1.0 will be ignored. Current value: bagging_fraction=0.7327722373895061\n"
     ]
    },
    {
     "name": "stderr",
     "output_type": "stream",
     "text": [
      "[I 2023-06-06 16:50:57,910] Trial 121 finished with value: 0.6592741935483871 and parameters: {'max_depth': 8, 'num_boost_round': 138, 'min_data_in_leaf': 20, 'n_estimators': 1811, 'num_leaves': 168, 'learning_rate': 0.026685346616845598, 'feature_fraction': 0.49488800415704287, 'bagging_fraction': 0.7327722373895061, 'bagging_freq': 4, 'lambda_l1': 0.5803453958690075, 'lambda_l2': 0.7334524187813942}. Best is trial 26 with value: 0.6733870967741935.\n"
     ]
    },
    {
     "name": "stdout",
     "output_type": "stream",
     "text": [
      "[LightGBM] [Warning] bagging_freq is set=3, subsample_freq=0 will be ignored. Current value: bagging_freq=3\n",
      "[LightGBM] [Warning] lambda_l1 is set=0.4330170905162823, reg_alpha=0.0 will be ignored. Current value: lambda_l1=0.4330170905162823\n",
      "[LightGBM] [Warning] min_data_in_leaf is set=20, min_child_samples=20 will be ignored. Current value: min_data_in_leaf=20\n",
      "[LightGBM] [Warning] num_iterations is set=123, num_boost_round=123 will be ignored. Current value: num_iterations=123\n",
      "[LightGBM] [Warning] lambda_l2 is set=0.5336384382916038, reg_lambda=0.0 will be ignored. Current value: lambda_l2=0.5336384382916038\n",
      "[LightGBM] [Warning] feature_fraction is set=0.4769804309358258, colsample_bytree=1.0 will be ignored. Current value: feature_fraction=0.4769804309358258\n",
      "[LightGBM] [Warning] bagging_fraction is set=0.7601127781999608, subsample=1.0 will be ignored. Current value: bagging_fraction=0.7601127781999608\n"
     ]
    },
    {
     "name": "stderr",
     "output_type": "stream",
     "text": [
      "[I 2023-06-06 16:50:58,912] Trial 122 finished with value: 0.6592741935483871 and parameters: {'max_depth': 8, 'num_boost_round': 123, 'min_data_in_leaf': 20, 'n_estimators': 1958, 'num_leaves': 213, 'learning_rate': 0.02744573081486297, 'feature_fraction': 0.4769804309358258, 'bagging_fraction': 0.7601127781999608, 'bagging_freq': 3, 'lambda_l1': 0.4330170905162823, 'lambda_l2': 0.5336384382916038}. Best is trial 26 with value: 0.6733870967741935.\n"
     ]
    },
    {
     "name": "stdout",
     "output_type": "stream",
     "text": [
      "[LightGBM] [Warning] bagging_freq is set=4, subsample_freq=0 will be ignored. Current value: bagging_freq=4\n",
      "[LightGBM] [Warning] lambda_l1 is set=0.15061230206151893, reg_alpha=0.0 will be ignored. Current value: lambda_l1=0.15061230206151893\n",
      "[LightGBM] [Warning] min_data_in_leaf is set=20, min_child_samples=20 will be ignored. Current value: min_data_in_leaf=20\n",
      "[LightGBM] [Warning] num_iterations is set=143, num_boost_round=143 will be ignored. Current value: num_iterations=143\n",
      "[LightGBM] [Warning] lambda_l2 is set=0.6834154121122336, reg_lambda=0.0 will be ignored. Current value: lambda_l2=0.6834154121122336\n",
      "[LightGBM] [Warning] feature_fraction is set=0.4681708204861792, colsample_bytree=1.0 will be ignored. Current value: feature_fraction=0.4681708204861792\n",
      "[LightGBM] [Warning] bagging_fraction is set=0.6946663955650401, subsample=1.0 will be ignored. Current value: bagging_fraction=0.6946663955650401\n"
     ]
    },
    {
     "name": "stderr",
     "output_type": "stream",
     "text": [
      "[I 2023-06-06 16:51:00,010] Trial 123 finished with value: 0.6532258064516129 and parameters: {'max_depth': 8, 'num_boost_round': 143, 'min_data_in_leaf': 20, 'n_estimators': 1437, 'num_leaves': 56, 'learning_rate': 0.03341048715937016, 'feature_fraction': 0.4681708204861792, 'bagging_fraction': 0.6946663955650401, 'bagging_freq': 4, 'lambda_l1': 0.15061230206151893, 'lambda_l2': 0.6834154121122336}. Best is trial 26 with value: 0.6733870967741935.\n"
     ]
    },
    {
     "name": "stdout",
     "output_type": "stream",
     "text": [
      "[LightGBM] [Warning] bagging_freq is set=5, subsample_freq=0 will be ignored. Current value: bagging_freq=5\n",
      "[LightGBM] [Warning] lambda_l1 is set=0.5157201406853852, reg_alpha=0.0 will be ignored. Current value: lambda_l1=0.5157201406853852\n",
      "[LightGBM] [Warning] min_data_in_leaf is set=19, min_child_samples=20 will be ignored. Current value: min_data_in_leaf=19\n",
      "[LightGBM] [Warning] num_iterations is set=136, num_boost_round=136 will be ignored. Current value: num_iterations=136\n",
      "[LightGBM] [Warning] lambda_l2 is set=0.8409123702663647, reg_lambda=0.0 will be ignored. Current value: lambda_l2=0.8409123702663647\n",
      "[LightGBM] [Warning] feature_fraction is set=0.5031209715041443, colsample_bytree=1.0 will be ignored. Current value: feature_fraction=0.5031209715041443\n",
      "[LightGBM] [Warning] bagging_fraction is set=0.7125846373680624, subsample=1.0 will be ignored. Current value: bagging_fraction=0.7125846373680624\n"
     ]
    },
    {
     "name": "stderr",
     "output_type": "stream",
     "text": [
      "[I 2023-06-06 16:51:01,064] Trial 124 finished with value: 0.6592741935483871 and parameters: {'max_depth': 8, 'num_boost_round': 136, 'min_data_in_leaf': 19, 'n_estimators': 1877, 'num_leaves': 152, 'learning_rate': 0.031059958679265125, 'feature_fraction': 0.5031209715041443, 'bagging_fraction': 0.7125846373680624, 'bagging_freq': 5, 'lambda_l1': 0.5157201406853852, 'lambda_l2': 0.8409123702663647}. Best is trial 26 with value: 0.6733870967741935.\n"
     ]
    },
    {
     "name": "stdout",
     "output_type": "stream",
     "text": [
      "[LightGBM] [Warning] bagging_freq is set=4, subsample_freq=0 will be ignored. Current value: bagging_freq=4\n",
      "[LightGBM] [Warning] lambda_l1 is set=0.3113691711354432, reg_alpha=0.0 will be ignored. Current value: lambda_l1=0.3113691711354432\n",
      "[LightGBM] [Warning] min_data_in_leaf is set=16, min_child_samples=20 will be ignored. Current value: min_data_in_leaf=16\n",
      "[LightGBM] [Warning] num_iterations is set=154, num_boost_round=154 will be ignored. Current value: num_iterations=154\n",
      "[LightGBM] [Warning] lambda_l2 is set=0.39647626723415513, reg_lambda=0.0 will be ignored. Current value: lambda_l2=0.39647626723415513\n",
      "[LightGBM] [Warning] feature_fraction is set=0.4530989413477551, colsample_bytree=1.0 will be ignored. Current value: feature_fraction=0.4530989413477551\n",
      "[LightGBM] [Warning] bagging_fraction is set=0.7851766333914179, subsample=1.0 will be ignored. Current value: bagging_fraction=0.7851766333914179\n"
     ]
    },
    {
     "name": "stderr",
     "output_type": "stream",
     "text": [
      "[I 2023-06-06 16:51:01,663] Trial 125 finished with value: 0.657258064516129 and parameters: {'max_depth': 8, 'num_boost_round': 154, 'min_data_in_leaf': 16, 'n_estimators': 1632, 'num_leaves': 11, 'learning_rate': 0.024749588263160587, 'feature_fraction': 0.4530989413477551, 'bagging_fraction': 0.7851766333914179, 'bagging_freq': 4, 'lambda_l1': 0.3113691711354432, 'lambda_l2': 0.39647626723415513}. Best is trial 26 with value: 0.6733870967741935.\n"
     ]
    },
    {
     "name": "stdout",
     "output_type": "stream",
     "text": [
      "[LightGBM] [Warning] bagging_freq is set=3, subsample_freq=0 will be ignored. Current value: bagging_freq=3\n",
      "[LightGBM] [Warning] lambda_l1 is set=0.7634158575242075, reg_alpha=0.0 will be ignored. Current value: lambda_l1=0.7634158575242075\n",
      "[LightGBM] [Warning] min_data_in_leaf is set=18, min_child_samples=20 will be ignored. Current value: min_data_in_leaf=18\n",
      "[LightGBM] [Warning] num_iterations is set=132, num_boost_round=132 will be ignored. Current value: num_iterations=132\n",
      "[LightGBM] [Warning] lambda_l2 is set=0.2977917048211031, reg_lambda=0.0 will be ignored. Current value: lambda_l2=0.2977917048211031\n",
      "[LightGBM] [Warning] feature_fraction is set=0.5462666186551487, colsample_bytree=1.0 will be ignored. Current value: feature_fraction=0.5462666186551487\n",
      "[LightGBM] [Warning] bagging_fraction is set=0.745792211939802, subsample=1.0 will be ignored. Current value: bagging_fraction=0.745792211939802\n"
     ]
    },
    {
     "name": "stderr",
     "output_type": "stream",
     "text": [
      "[I 2023-06-06 16:51:02,793] Trial 126 finished with value: 0.6673387096774194 and parameters: {'max_depth': 8, 'num_boost_round': 132, 'min_data_in_leaf': 18, 'n_estimators': 1536, 'num_leaves': 107, 'learning_rate': 0.042703552204292346, 'feature_fraction': 0.5462666186551487, 'bagging_fraction': 0.745792211939802, 'bagging_freq': 3, 'lambda_l1': 0.7634158575242075, 'lambda_l2': 0.2977917048211031}. Best is trial 26 with value: 0.6733870967741935.\n"
     ]
    },
    {
     "name": "stdout",
     "output_type": "stream",
     "text": [
      "[LightGBM] [Warning] bagging_freq is set=5, subsample_freq=0 will be ignored. Current value: bagging_freq=5\n",
      "[LightGBM] [Warning] lambda_l1 is set=0.6231436083244355, reg_alpha=0.0 will be ignored. Current value: lambda_l1=0.6231436083244355\n",
      "[LightGBM] [Warning] min_data_in_leaf is set=19, min_child_samples=20 will be ignored. Current value: min_data_in_leaf=19\n",
      "[LightGBM] [Warning] num_iterations is set=102, num_boost_round=102 will be ignored. Current value: num_iterations=102\n",
      "[LightGBM] [Warning] lambda_l2 is set=0.6231770245286423, reg_lambda=0.0 will be ignored. Current value: lambda_l2=0.6231770245286423\n",
      "[LightGBM] [Warning] feature_fraction is set=0.5865550072343032, colsample_bytree=1.0 will be ignored. Current value: feature_fraction=0.5865550072343032\n",
      "[LightGBM] [Warning] bagging_fraction is set=0.7298493314762938, subsample=1.0 will be ignored. Current value: bagging_fraction=0.7298493314762938\n"
     ]
    },
    {
     "name": "stderr",
     "output_type": "stream",
     "text": [
      "[I 2023-06-06 16:51:03,677] Trial 127 finished with value: 0.6612903225806451 and parameters: {'max_depth': 8, 'num_boost_round': 102, 'min_data_in_leaf': 19, 'n_estimators': 1680, 'num_leaves': 565, 'learning_rate': 0.03691325576501859, 'feature_fraction': 0.5865550072343032, 'bagging_fraction': 0.7298493314762938, 'bagging_freq': 5, 'lambda_l1': 0.6231436083244355, 'lambda_l2': 0.6231770245286423}. Best is trial 26 with value: 0.6733870967741935.\n"
     ]
    },
    {
     "name": "stdout",
     "output_type": "stream",
     "text": [
      "[LightGBM] [Warning] bagging_freq is set=2, subsample_freq=0 will be ignored. Current value: bagging_freq=2\n",
      "[LightGBM] [Warning] lambda_l1 is set=0.36460168278196403, reg_alpha=0.0 will be ignored. Current value: lambda_l1=0.36460168278196403\n",
      "[LightGBM] [Warning] min_data_in_leaf is set=13, min_child_samples=20 will be ignored. Current value: min_data_in_leaf=13\n",
      "[LightGBM] [Warning] num_iterations is set=120, num_boost_round=120 will be ignored. Current value: num_iterations=120\n",
      "[LightGBM] [Warning] lambda_l2 is set=0.4922780344591887, reg_lambda=0.0 will be ignored. Current value: lambda_l2=0.4922780344591887\n",
      "[LightGBM] [Warning] feature_fraction is set=0.5209668436500909, colsample_bytree=1.0 will be ignored. Current value: feature_fraction=0.5209668436500909\n",
      "[LightGBM] [Warning] bagging_fraction is set=0.6791589094016061, subsample=1.0 will be ignored. Current value: bagging_fraction=0.6791589094016061\n"
     ]
    },
    {
     "name": "stderr",
     "output_type": "stream",
     "text": [
      "[I 2023-06-06 16:51:04,282] Trial 128 finished with value: 0.657258064516129 and parameters: {'max_depth': 5, 'num_boost_round': 120, 'min_data_in_leaf': 13, 'n_estimators': 1397, 'num_leaves': 1075, 'learning_rate': 0.029153511231262703, 'feature_fraction': 0.5209668436500909, 'bagging_fraction': 0.6791589094016061, 'bagging_freq': 2, 'lambda_l1': 0.36460168278196403, 'lambda_l2': 0.4922780344591887}. Best is trial 26 with value: 0.6733870967741935.\n"
     ]
    },
    {
     "name": "stdout",
     "output_type": "stream",
     "text": [
      "[LightGBM] [Warning] bagging_freq is set=1, subsample_freq=0 will be ignored. Current value: bagging_freq=1\n",
      "[LightGBM] [Warning] lambda_l1 is set=0.4573535700949054, reg_alpha=0.0 will be ignored. Current value: lambda_l1=0.4573535700949054\n",
      "[LightGBM] [Warning] min_data_in_leaf is set=17, min_child_samples=20 will be ignored. Current value: min_data_in_leaf=17\n",
      "[LightGBM] [Warning] num_iterations is set=162, num_boost_round=162 will be ignored. Current value: num_iterations=162\n",
      "[LightGBM] [Warning] lambda_l2 is set=0.7796362822253208, reg_lambda=0.0 will be ignored. Current value: lambda_l2=0.7796362822253208\n",
      "[LightGBM] [Warning] feature_fraction is set=0.6141454330275343, colsample_bytree=1.0 will be ignored. Current value: feature_fraction=0.6141454330275343\n",
      "[LightGBM] [Warning] bagging_fraction is set=0.799061445743781, subsample=1.0 will be ignored. Current value: bagging_fraction=0.799061445743781\n"
     ]
    },
    {
     "name": "stderr",
     "output_type": "stream",
     "text": [
      "[I 2023-06-06 16:51:05,863] Trial 129 finished with value: 0.6653225806451613 and parameters: {'max_depth': 8, 'num_boost_round': 162, 'min_data_in_leaf': 17, 'n_estimators': 1779, 'num_leaves': 261, 'learning_rate': 0.02101198158188719, 'feature_fraction': 0.6141454330275343, 'bagging_fraction': 0.799061445743781, 'bagging_freq': 1, 'lambda_l1': 0.4573535700949054, 'lambda_l2': 0.7796362822253208}. Best is trial 26 with value: 0.6733870967741935.\n"
     ]
    },
    {
     "name": "stdout",
     "output_type": "stream",
     "text": [
      "[LightGBM] [Warning] bagging_freq is set=4, subsample_freq=0 will be ignored. Current value: bagging_freq=4\n",
      "[LightGBM] [Warning] lambda_l1 is set=0.5606458431513462, reg_alpha=0.0 will be ignored. Current value: lambda_l1=0.5606458431513462\n",
      "[LightGBM] [Warning] min_data_in_leaf is set=15, min_child_samples=20 will be ignored. Current value: min_data_in_leaf=15\n",
      "[LightGBM] [Warning] num_iterations is set=129, num_boost_round=129 will be ignored. Current value: num_iterations=129\n",
      "[LightGBM] [Warning] lambda_l2 is set=0.4335480432086606, reg_lambda=0.0 will be ignored. Current value: lambda_l2=0.4335480432086606\n",
      "[LightGBM] [Warning] feature_fraction is set=0.4841177885183293, colsample_bytree=1.0 will be ignored. Current value: feature_fraction=0.4841177885183293\n",
      "[LightGBM] [Warning] bagging_fraction is set=0.7626327156188821, subsample=1.0 will be ignored. Current value: bagging_fraction=0.7626327156188821\n"
     ]
    },
    {
     "name": "stderr",
     "output_type": "stream",
     "text": [
      "[I 2023-06-06 16:51:07,031] Trial 130 finished with value: 0.6612903225806451 and parameters: {'max_depth': 8, 'num_boost_round': 129, 'min_data_in_leaf': 15, 'n_estimators': 1581, 'num_leaves': 926, 'learning_rate': 0.0341798330653344, 'feature_fraction': 0.4841177885183293, 'bagging_fraction': 0.7626327156188821, 'bagging_freq': 4, 'lambda_l1': 0.5606458431513462, 'lambda_l2': 0.4335480432086606}. Best is trial 26 with value: 0.6733870967741935.\n"
     ]
    },
    {
     "name": "stdout",
     "output_type": "stream",
     "text": [
      "[LightGBM] [Warning] bagging_freq is set=4, subsample_freq=0 will be ignored. Current value: bagging_freq=4\n",
      "[LightGBM] [Warning] lambda_l1 is set=0.33480617665489865, reg_alpha=0.0 will be ignored. Current value: lambda_l1=0.33480617665489865\n",
      "[LightGBM] [Warning] min_data_in_leaf is set=17, min_child_samples=20 will be ignored. Current value: min_data_in_leaf=17\n",
      "[LightGBM] [Warning] num_iterations is set=152, num_boost_round=152 will be ignored. Current value: num_iterations=152\n",
      "[LightGBM] [Warning] lambda_l2 is set=0.40911588424851886, reg_lambda=0.0 will be ignored. Current value: lambda_l2=0.40911588424851886\n",
      "[LightGBM] [Warning] feature_fraction is set=0.5980481293187576, colsample_bytree=1.0 will be ignored. Current value: feature_fraction=0.5980481293187576\n",
      "[LightGBM] [Warning] bagging_fraction is set=0.7493395425266132, subsample=1.0 will be ignored. Current value: bagging_fraction=0.7493395425266132\n"
     ]
    },
    {
     "name": "stderr",
     "output_type": "stream",
     "text": [
      "[I 2023-06-06 16:51:08,496] Trial 131 finished with value: 0.6653225806451613 and parameters: {'max_depth': 8, 'num_boost_round': 152, 'min_data_in_leaf': 17, 'n_estimators': 1547, 'num_leaves': 412, 'learning_rate': 0.030023164875845245, 'feature_fraction': 0.5980481293187576, 'bagging_fraction': 0.7493395425266132, 'bagging_freq': 4, 'lambda_l1': 0.33480617665489865, 'lambda_l2': 0.40911588424851886}. Best is trial 26 with value: 0.6733870967741935.\n"
     ]
    },
    {
     "name": "stdout",
     "output_type": "stream",
     "text": [
      "[LightGBM] [Warning] bagging_freq is set=4, subsample_freq=0 will be ignored. Current value: bagging_freq=4\n",
      "[LightGBM] [Warning] lambda_l1 is set=0.3118684990010858, reg_alpha=0.0 will be ignored. Current value: lambda_l1=0.3118684990010858\n",
      "[LightGBM] [Warning] min_data_in_leaf is set=17, min_child_samples=20 will be ignored. Current value: min_data_in_leaf=17\n",
      "[LightGBM] [Warning] num_iterations is set=145, num_boost_round=145 will be ignored. Current value: num_iterations=145\n",
      "[LightGBM] [Warning] lambda_l2 is set=0.3680706472414375, reg_lambda=0.0 will be ignored. Current value: lambda_l2=0.3680706472414375\n",
      "[LightGBM] [Warning] feature_fraction is set=0.6370163625780723, colsample_bytree=1.0 will be ignored. Current value: feature_fraction=0.6370163625780723\n",
      "[LightGBM] [Warning] bagging_fraction is set=0.7724096568544243, subsample=1.0 will be ignored. Current value: bagging_fraction=0.7724096568544243\n"
     ]
    },
    {
     "name": "stderr",
     "output_type": "stream",
     "text": [
      "[I 2023-06-06 16:51:10,017] Trial 132 finished with value: 0.6612903225806451 and parameters: {'max_depth': 8, 'num_boost_round': 145, 'min_data_in_leaf': 17, 'n_estimators': 1496, 'num_leaves': 369, 'learning_rate': 0.028801591172902017, 'feature_fraction': 0.6370163625780723, 'bagging_fraction': 0.7724096568544243, 'bagging_freq': 4, 'lambda_l1': 0.3118684990010858, 'lambda_l2': 0.3680706472414375}. Best is trial 26 with value: 0.6733870967741935.\n"
     ]
    },
    {
     "name": "stdout",
     "output_type": "stream",
     "text": [
      "[LightGBM] [Warning] bagging_freq is set=4, subsample_freq=0 will be ignored. Current value: bagging_freq=4\n",
      "[LightGBM] [Warning] lambda_l1 is set=0.3985906771311992, reg_alpha=0.0 will be ignored. Current value: lambda_l1=0.3985906771311992\n",
      "[LightGBM] [Warning] min_data_in_leaf is set=17, min_child_samples=20 will be ignored. Current value: min_data_in_leaf=17\n",
      "[LightGBM] [Warning] num_iterations is set=115, num_boost_round=115 will be ignored. Current value: num_iterations=115\n",
      "[LightGBM] [Warning] lambda_l2 is set=0.5725012665948124, reg_lambda=0.0 will be ignored. Current value: lambda_l2=0.5725012665948124\n",
      "[LightGBM] [Warning] feature_fraction is set=0.5638135780330507, colsample_bytree=1.0 will be ignored. Current value: feature_fraction=0.5638135780330507\n",
      "[LightGBM] [Warning] bagging_fraction is set=0.7562284809308946, subsample=1.0 will be ignored. Current value: bagging_fraction=0.7562284809308946\n"
     ]
    },
    {
     "name": "stderr",
     "output_type": "stream",
     "text": [
      "[I 2023-06-06 16:51:11,099] Trial 133 finished with value: 0.6733870967741935 and parameters: {'max_depth': 8, 'num_boost_round': 115, 'min_data_in_leaf': 17, 'n_estimators': 1617, 'num_leaves': 464, 'learning_rate': 0.027493153071149683, 'feature_fraction': 0.5638135780330507, 'bagging_fraction': 0.7562284809308946, 'bagging_freq': 4, 'lambda_l1': 0.3985906771311992, 'lambda_l2': 0.5725012665948124}. Best is trial 26 with value: 0.6733870967741935.\n"
     ]
    },
    {
     "name": "stdout",
     "output_type": "stream",
     "text": [
      "[LightGBM] [Warning] bagging_freq is set=5, subsample_freq=0 will be ignored. Current value: bagging_freq=5\n",
      "[LightGBM] [Warning] lambda_l1 is set=0.3832786653472961, reg_alpha=0.0 will be ignored. Current value: lambda_l1=0.3832786653472961\n",
      "[LightGBM] [Warning] min_data_in_leaf is set=16, min_child_samples=20 will be ignored. Current value: min_data_in_leaf=16\n",
      "[LightGBM] [Warning] num_iterations is set=115, num_boost_round=115 will be ignored. Current value: num_iterations=115\n",
      "[LightGBM] [Warning] lambda_l2 is set=0.5591825326631957, reg_lambda=0.0 will be ignored. Current value: lambda_l2=0.5591825326631957\n",
      "[LightGBM] [Warning] feature_fraction is set=0.5689536891784656, colsample_bytree=1.0 will be ignored. Current value: feature_fraction=0.5689536891784656\n",
      "[LightGBM] [Warning] bagging_fraction is set=0.7862850650809686, subsample=1.0 will be ignored. Current value: bagging_fraction=0.7862850650809686\n"
     ]
    },
    {
     "name": "stderr",
     "output_type": "stream",
     "text": [
      "[I 2023-06-06 16:51:12,261] Trial 134 finished with value: 0.6653225806451613 and parameters: {'max_depth': 8, 'num_boost_round': 115, 'min_data_in_leaf': 16, 'n_estimators': 1614, 'num_leaves': 471, 'learning_rate': 0.027499349798088008, 'feature_fraction': 0.5689536891784656, 'bagging_fraction': 0.7862850650809686, 'bagging_freq': 5, 'lambda_l1': 0.3832786653472961, 'lambda_l2': 0.5591825326631957}. Best is trial 26 with value: 0.6733870967741935.\n"
     ]
    },
    {
     "name": "stdout",
     "output_type": "stream",
     "text": [
      "[LightGBM] [Warning] bagging_freq is set=7, subsample_freq=0 will be ignored. Current value: bagging_freq=7\n",
      "[LightGBM] [Warning] lambda_l1 is set=0.501459571095599, reg_alpha=0.0 will be ignored. Current value: lambda_l1=0.501459571095599\n",
      "[LightGBM] [Warning] min_data_in_leaf is set=18, min_child_samples=20 will be ignored. Current value: min_data_in_leaf=18\n",
      "[LightGBM] [Warning] num_iterations is set=108, num_boost_round=108 will be ignored. Current value: num_iterations=108\n",
      "[LightGBM] [Warning] lambda_l2 is set=0.5978865422327023, reg_lambda=0.0 will be ignored. Current value: lambda_l2=0.5978865422327023\n",
      "[LightGBM] [Warning] feature_fraction is set=0.5505674043960073, colsample_bytree=1.0 will be ignored. Current value: feature_fraction=0.5505674043960073\n",
      "[LightGBM] [Warning] bagging_fraction is set=0.7301804813160901, subsample=1.0 will be ignored. Current value: bagging_fraction=0.7301804813160901\n"
     ]
    },
    {
     "name": "stderr",
     "output_type": "stream",
     "text": [
      "[I 2023-06-06 16:51:13,239] Trial 135 finished with value: 0.6693548387096774 and parameters: {'max_depth': 8, 'num_boost_round': 108, 'min_data_in_leaf': 18, 'n_estimators': 1706, 'num_leaves': 307, 'learning_rate': 0.023748132009613718, 'feature_fraction': 0.5505674043960073, 'bagging_fraction': 0.7301804813160901, 'bagging_freq': 7, 'lambda_l1': 0.501459571095599, 'lambda_l2': 0.5978865422327023}. Best is trial 26 with value: 0.6733870967741935.\n"
     ]
    },
    {
     "name": "stdout",
     "output_type": "stream",
     "text": [
      "[LightGBM] [Warning] bagging_freq is set=7, subsample_freq=0 will be ignored. Current value: bagging_freq=7\n",
      "[LightGBM] [Warning] lambda_l1 is set=0.4127149625226185, reg_alpha=0.0 will be ignored. Current value: lambda_l1=0.4127149625226185\n",
      "[LightGBM] [Warning] min_data_in_leaf is set=18, min_child_samples=20 will be ignored. Current value: min_data_in_leaf=18\n",
      "[LightGBM] [Warning] num_iterations is set=108, num_boost_round=108 will be ignored. Current value: num_iterations=108\n",
      "[LightGBM] [Warning] lambda_l2 is set=0.5975424984081649, reg_lambda=0.0 will be ignored. Current value: lambda_l2=0.5975424984081649\n",
      "[LightGBM] [Warning] feature_fraction is set=0.5507090451302422, colsample_bytree=1.0 will be ignored. Current value: feature_fraction=0.5507090451302422\n",
      "[LightGBM] [Warning] bagging_fraction is set=0.7382640481445568, subsample=1.0 will be ignored. Current value: bagging_fraction=0.7382640481445568\n"
     ]
    },
    {
     "name": "stderr",
     "output_type": "stream",
     "text": [
      "[I 2023-06-06 16:51:13,943] Trial 136 finished with value: 0.6673387096774194 and parameters: {'max_depth': 6, 'num_boost_round': 108, 'min_data_in_leaf': 18, 'n_estimators': 1729, 'num_leaves': 610, 'learning_rate': 0.024296039034460065, 'feature_fraction': 0.5507090451302422, 'bagging_fraction': 0.7382640481445568, 'bagging_freq': 7, 'lambda_l1': 0.4127149625226185, 'lambda_l2': 0.5975424984081649}. Best is trial 26 with value: 0.6733870967741935.\n"
     ]
    },
    {
     "name": "stdout",
     "output_type": "stream",
     "text": [
      "[LightGBM] [Warning] bagging_freq is set=7, subsample_freq=0 will be ignored. Current value: bagging_freq=7\n",
      "[LightGBM] [Warning] lambda_l1 is set=0.49960317450047287, reg_alpha=0.0 will be ignored. Current value: lambda_l1=0.49960317450047287\n",
      "[LightGBM] [Warning] min_data_in_leaf is set=18, min_child_samples=20 will be ignored. Current value: min_data_in_leaf=18\n",
      "[LightGBM] [Warning] num_iterations is set=104, num_boost_round=104 will be ignored. Current value: num_iterations=104\n",
      "[LightGBM] [Warning] lambda_l2 is set=0.47063489296506567, reg_lambda=0.0 will be ignored. Current value: lambda_l2=0.47063489296506567\n",
      "[LightGBM] [Warning] feature_fraction is set=0.5659245695503822, colsample_bytree=1.0 will be ignored. Current value: feature_fraction=0.5659245695503822\n",
      "[LightGBM] [Warning] bagging_fraction is set=0.624680532003577, subsample=1.0 will be ignored. Current value: bagging_fraction=0.624680532003577\n"
     ]
    },
    {
     "name": "stderr",
     "output_type": "stream",
     "text": [
      "[I 2023-06-06 16:51:14,787] Trial 137 finished with value: 0.6653225806451613 and parameters: {'max_depth': 8, 'num_boost_round': 104, 'min_data_in_leaf': 18, 'n_estimators': 1689, 'num_leaves': 514, 'learning_rate': 0.019954717567337146, 'feature_fraction': 0.5659245695503822, 'bagging_fraction': 0.624680532003577, 'bagging_freq': 7, 'lambda_l1': 0.49960317450047287, 'lambda_l2': 0.47063489296506567}. Best is trial 26 with value: 0.6733870967741935.\n"
     ]
    },
    {
     "name": "stdout",
     "output_type": "stream",
     "text": [
      "[LightGBM] [Warning] bagging_freq is set=7, subsample_freq=0 will be ignored. Current value: bagging_freq=7\n",
      "[LightGBM] [Warning] lambda_l1 is set=0.27832839419021393, reg_alpha=0.0 will be ignored. Current value: lambda_l1=0.27832839419021393\n",
      "[LightGBM] [Warning] min_data_in_leaf is set=18, min_child_samples=20 will be ignored. Current value: min_data_in_leaf=18\n",
      "[LightGBM] [Warning] num_iterations is set=100, num_boost_round=100 will be ignored. Current value: num_iterations=100\n",
      "[LightGBM] [Warning] lambda_l2 is set=0.5148530874178097, reg_lambda=0.0 will be ignored. Current value: lambda_l2=0.5148530874178097\n",
      "[LightGBM] [Warning] feature_fraction is set=0.5884463643490847, colsample_bytree=1.0 will be ignored. Current value: feature_fraction=0.5884463643490847\n",
      "[LightGBM] [Warning] bagging_fraction is set=0.7598698419817259, subsample=1.0 will be ignored. Current value: bagging_fraction=0.7598698419817259\n"
     ]
    },
    {
     "name": "stderr",
     "output_type": "stream",
     "text": [
      "[I 2023-06-06 16:51:15,759] Trial 138 finished with value: 0.6653225806451613 and parameters: {'max_depth': 8, 'num_boost_round': 100, 'min_data_in_leaf': 18, 'n_estimators': 1638, 'num_leaves': 299, 'learning_rate': 0.025569023419798605, 'feature_fraction': 0.5884463643490847, 'bagging_fraction': 0.7598698419817259, 'bagging_freq': 7, 'lambda_l1': 0.27832839419021393, 'lambda_l2': 0.5148530874178097}. Best is trial 26 with value: 0.6733870967741935.\n"
     ]
    },
    {
     "name": "stdout",
     "output_type": "stream",
     "text": [
      "[LightGBM] [Warning] bagging_freq is set=8, subsample_freq=0 will be ignored. Current value: bagging_freq=8\n",
      "[LightGBM] [Warning] lambda_l1 is set=0.4485311014362913, reg_alpha=0.0 will be ignored. Current value: lambda_l1=0.4485311014362913\n",
      "[LightGBM] [Warning] min_data_in_leaf is set=17, min_child_samples=20 will be ignored. Current value: min_data_in_leaf=17\n",
      "[LightGBM] [Warning] num_iterations is set=109, num_boost_round=109 will be ignored. Current value: num_iterations=109\n",
      "[LightGBM] [Warning] lambda_l2 is set=0.3298009675828098, reg_lambda=0.0 will be ignored. Current value: lambda_l2=0.3298009675828098\n",
      "[LightGBM] [Warning] feature_fraction is set=0.5429794439305287, colsample_bytree=1.0 will be ignored. Current value: feature_fraction=0.5429794439305287\n",
      "[LightGBM] [Warning] bagging_fraction is set=0.7228364166846157, subsample=1.0 will be ignored. Current value: bagging_fraction=0.7228364166846157\n"
     ]
    },
    {
     "name": "stderr",
     "output_type": "stream",
     "text": [
      "[I 2023-06-06 16:51:16,449] Trial 139 finished with value: 0.6612903225806451 and parameters: {'max_depth': 6, 'num_boost_round': 109, 'min_data_in_leaf': 17, 'n_estimators': 1152, 'num_leaves': 536, 'learning_rate': 0.031662302919877955, 'feature_fraction': 0.5429794439305287, 'bagging_fraction': 0.7228364166846157, 'bagging_freq': 8, 'lambda_l1': 0.4485311014362913, 'lambda_l2': 0.3298009675828098}. Best is trial 26 with value: 0.6733870967741935.\n"
     ]
    },
    {
     "name": "stdout",
     "output_type": "stream",
     "text": [
      "[LightGBM] [Warning] bagging_freq is set=6, subsample_freq=0 will be ignored. Current value: bagging_freq=6\n",
      "[LightGBM] [Warning] lambda_l1 is set=0.1936334430962899, reg_alpha=0.0 will be ignored. Current value: lambda_l1=0.1936334430962899\n",
      "[LightGBM] [Warning] min_data_in_leaf is set=11, min_child_samples=20 will be ignored. Current value: min_data_in_leaf=11\n",
      "[LightGBM] [Warning] num_iterations is set=114, num_boost_round=114 will be ignored. Current value: num_iterations=114\n",
      "[LightGBM] [Warning] lambda_l2 is set=0.24411940374163021, reg_lambda=0.0 will be ignored. Current value: lambda_l2=0.24411940374163021\n",
      "[LightGBM] [Warning] feature_fraction is set=0.5176433938585611, colsample_bytree=1.0 will be ignored. Current value: feature_fraction=0.5176433938585611\n",
      "[LightGBM] [Warning] bagging_fraction is set=0.7039966297067606, subsample=1.0 will be ignored. Current value: bagging_fraction=0.7039966297067606\n"
     ]
    },
    {
     "name": "stderr",
     "output_type": "stream",
     "text": [
      "[I 2023-06-06 16:51:17,686] Trial 140 finished with value: 0.655241935483871 and parameters: {'max_depth': 8, 'num_boost_round': 114, 'min_data_in_leaf': 11, 'n_estimators': 1565, 'num_leaves': 436, 'learning_rate': 0.02288250140870995, 'feature_fraction': 0.5176433938585611, 'bagging_fraction': 0.7039966297067606, 'bagging_freq': 6, 'lambda_l1': 0.1936334430962899, 'lambda_l2': 0.24411940374163021}. Best is trial 26 with value: 0.6733870967741935.\n"
     ]
    },
    {
     "name": "stdout",
     "output_type": "stream",
     "text": [
      "[LightGBM] [Warning] bagging_freq is set=7, subsample_freq=0 will be ignored. Current value: bagging_freq=7\n",
      "[LightGBM] [Warning] lambda_l1 is set=0.588574808341435, reg_alpha=0.0 will be ignored. Current value: lambda_l1=0.588574808341435\n",
      "[LightGBM] [Warning] min_data_in_leaf is set=19, min_child_samples=20 will be ignored. Current value: min_data_in_leaf=19\n",
      "[LightGBM] [Warning] num_iterations is set=121, num_boost_round=121 will be ignored. Current value: num_iterations=121\n",
      "[LightGBM] [Warning] lambda_l2 is set=0.6808539035032788, reg_lambda=0.0 will be ignored. Current value: lambda_l2=0.6808539035032788\n",
      "[LightGBM] [Warning] feature_fraction is set=0.4999348000136674, colsample_bytree=1.0 will be ignored. Current value: feature_fraction=0.4999348000136674\n",
      "[LightGBM] [Warning] bagging_fraction is set=0.7713128150819167, subsample=1.0 will be ignored. Current value: bagging_fraction=0.7713128150819167\n"
     ]
    },
    {
     "name": "stderr",
     "output_type": "stream",
     "text": [
      "[I 2023-06-06 16:51:18,733] Trial 141 finished with value: 0.6612903225806451 and parameters: {'max_depth': 8, 'num_boost_round': 121, 'min_data_in_leaf': 19, 'n_estimators': 905, 'num_leaves': 228, 'learning_rate': 0.02400399028196393, 'feature_fraction': 0.4999348000136674, 'bagging_fraction': 0.7713128150819167, 'bagging_freq': 7, 'lambda_l1': 0.588574808341435, 'lambda_l2': 0.6808539035032788}. Best is trial 26 with value: 0.6733870967741935.\n"
     ]
    },
    {
     "name": "stdout",
     "output_type": "stream",
     "text": [
      "[LightGBM] [Warning] bagging_freq is set=3, subsample_freq=0 will be ignored. Current value: bagging_freq=3\n",
      "[LightGBM] [Warning] lambda_l1 is set=0.4906371303498198, reg_alpha=0.0 will be ignored. Current value: lambda_l1=0.4906371303498198\n",
      "[LightGBM] [Warning] min_data_in_leaf is set=12, min_child_samples=20 will be ignored. Current value: min_data_in_leaf=12\n",
      "[LightGBM] [Warning] num_iterations is set=118, num_boost_round=118 will be ignored. Current value: num_iterations=118\n",
      "[LightGBM] [Warning] lambda_l2 is set=0.736074013563861, reg_lambda=0.0 will be ignored. Current value: lambda_l2=0.736074013563861\n",
      "[LightGBM] [Warning] feature_fraction is set=0.5324523281063944, colsample_bytree=1.0 will be ignored. Current value: feature_fraction=0.5324523281063944\n",
      "[LightGBM] [Warning] bagging_fraction is set=0.7425707920264335, subsample=1.0 will be ignored. Current value: bagging_fraction=0.7425707920264335\n"
     ]
    },
    {
     "name": "stderr",
     "output_type": "stream",
     "text": [
      "[I 2023-06-06 16:51:19,956] Trial 142 finished with value: 0.6673387096774194 and parameters: {'max_depth': 8, 'num_boost_round': 118, 'min_data_in_leaf': 12, 'n_estimators': 1816, 'num_leaves': 180, 'learning_rate': 0.02738470709101845, 'feature_fraction': 0.5324523281063944, 'bagging_fraction': 0.7425707920264335, 'bagging_freq': 3, 'lambda_l1': 0.4906371303498198, 'lambda_l2': 0.736074013563861}. Best is trial 26 with value: 0.6733870967741935.\n"
     ]
    },
    {
     "name": "stdout",
     "output_type": "stream",
     "text": [
      "[LightGBM] [Warning] bagging_freq is set=5, subsample_freq=0 will be ignored. Current value: bagging_freq=5\n",
      "[LightGBM] [Warning] lambda_l1 is set=0.4114358545517821, reg_alpha=0.0 will be ignored. Current value: lambda_l1=0.4114358545517821\n",
      "[LightGBM] [Warning] min_data_in_leaf is set=18, min_child_samples=20 will be ignored. Current value: min_data_in_leaf=18\n",
      "[LightGBM] [Warning] num_iterations is set=113, num_boost_round=113 will be ignored. Current value: num_iterations=113\n",
      "[LightGBM] [Warning] lambda_l2 is set=0.9298889589372603, reg_lambda=0.0 will be ignored. Current value: lambda_l2=0.9298889589372603\n",
      "[LightGBM] [Warning] feature_fraction is set=0.5571111142222595, colsample_bytree=1.0 will be ignored. Current value: feature_fraction=0.5571111142222595\n",
      "[LightGBM] [Warning] bagging_fraction is set=0.7580748006519064, subsample=1.0 will be ignored. Current value: bagging_fraction=0.7580748006519064\n"
     ]
    },
    {
     "name": "stderr",
     "output_type": "stream",
     "text": [
      "[I 2023-06-06 16:51:20,995] Trial 143 finished with value: 0.657258064516129 and parameters: {'max_depth': 8, 'num_boost_round': 113, 'min_data_in_leaf': 18, 'n_estimators': 1742, 'num_leaves': 332, 'learning_rate': 0.038889834752542624, 'feature_fraction': 0.5571111142222595, 'bagging_fraction': 0.7580748006519064, 'bagging_freq': 5, 'lambda_l1': 0.4114358545517821, 'lambda_l2': 0.9298889589372603}. Best is trial 26 with value: 0.6733870967741935.\n"
     ]
    },
    {
     "name": "stdout",
     "output_type": "stream",
     "text": [
      "[LightGBM] [Warning] bagging_freq is set=8, subsample_freq=0 will be ignored. Current value: bagging_freq=8\n",
      "[LightGBM] [Warning] lambda_l1 is set=0.6784502858480805, reg_alpha=0.0 will be ignored. Current value: lambda_l1=0.6784502858480805\n",
      "[LightGBM] [Warning] min_data_in_leaf is set=17, min_child_samples=20 will be ignored. Current value: min_data_in_leaf=17\n",
      "[LightGBM] [Warning] num_iterations is set=105, num_boost_round=105 will be ignored. Current value: num_iterations=105\n",
      "[LightGBM] [Warning] lambda_l2 is set=0.6293752887170369, reg_lambda=0.0 will be ignored. Current value: lambda_l2=0.6293752887170369\n",
      "[LightGBM] [Warning] feature_fraction is set=0.7007739015067374, colsample_bytree=1.0 will be ignored. Current value: feature_fraction=0.7007739015067374\n",
      "[LightGBM] [Warning] bagging_fraction is set=0.602910194792129, subsample=1.0 will be ignored. Current value: bagging_fraction=0.602910194792129\n"
     ]
    },
    {
     "name": "stderr",
     "output_type": "stream",
     "text": [
      "[I 2023-06-06 16:51:21,399] Trial 144 finished with value: 0.657258064516129 and parameters: {'max_depth': 4, 'num_boost_round': 105, 'min_data_in_leaf': 17, 'n_estimators': 985, 'num_leaves': 90, 'learning_rate': 0.02194695573961215, 'feature_fraction': 0.7007739015067374, 'bagging_fraction': 0.602910194792129, 'bagging_freq': 8, 'lambda_l1': 0.6784502858480805, 'lambda_l2': 0.6293752887170369}. Best is trial 26 with value: 0.6733870967741935.\n"
     ]
    },
    {
     "name": "stdout",
     "output_type": "stream",
     "text": [
      "[LightGBM] [Warning] bagging_freq is set=4, subsample_freq=0 will be ignored. Current value: bagging_freq=4\n",
      "[LightGBM] [Warning] lambda_l1 is set=0.5386045253593676, reg_alpha=0.0 will be ignored. Current value: lambda_l1=0.5386045253593676\n",
      "[LightGBM] [Warning] min_data_in_leaf is set=14, min_child_samples=20 will be ignored. Current value: min_data_in_leaf=14\n",
      "[LightGBM] [Warning] num_iterations is set=124, num_boost_round=124 will be ignored. Current value: num_iterations=124\n",
      "[LightGBM] [Warning] lambda_l2 is set=0.5515603108983668, reg_lambda=0.0 will be ignored. Current value: lambda_l2=0.5515603108983668\n",
      "[LightGBM] [Warning] feature_fraction is set=0.48152828898795014, colsample_bytree=1.0 will be ignored. Current value: feature_fraction=0.48152828898795014\n",
      "[LightGBM] [Warning] bagging_fraction is set=0.7215472463572936, subsample=1.0 will be ignored. Current value: bagging_fraction=0.7215472463572936\n"
     ]
    },
    {
     "name": "stderr",
     "output_type": "stream",
     "text": [
      "[I 2023-06-06 16:51:22,503] Trial 145 finished with value: 0.6592741935483871 and parameters: {'max_depth': 8, 'num_boost_round': 124, 'min_data_in_leaf': 14, 'n_estimators': 1606, 'num_leaves': 142, 'learning_rate': 0.026211217294267345, 'feature_fraction': 0.48152828898795014, 'bagging_fraction': 0.7215472463572936, 'bagging_freq': 4, 'lambda_l1': 0.5386045253593676, 'lambda_l2': 0.5515603108983668}. Best is trial 26 with value: 0.6733870967741935.\n"
     ]
    },
    {
     "name": "stdout",
     "output_type": "stream",
     "text": [
      "[LightGBM] [Warning] bagging_freq is set=5, subsample_freq=0 will be ignored. Current value: bagging_freq=5\n",
      "[LightGBM] [Warning] lambda_l1 is set=0.36157035012774663, reg_alpha=0.0 will be ignored. Current value: lambda_l1=0.36157035012774663\n",
      "[LightGBM] [Warning] min_data_in_leaf is set=19, min_child_samples=20 will be ignored. Current value: min_data_in_leaf=19\n",
      "[LightGBM] [Warning] num_iterations is set=110, num_boost_round=110 will be ignored. Current value: num_iterations=110\n",
      "[LightGBM] [Warning] lambda_l2 is set=0.8415649799456576, reg_lambda=0.0 will be ignored. Current value: lambda_l2=0.8415649799456576\n",
      "[LightGBM] [Warning] feature_fraction is set=0.620226479730427, colsample_bytree=1.0 will be ignored. Current value: feature_fraction=0.620226479730427\n",
      "[LightGBM] [Warning] bagging_fraction is set=0.5143601350584093, subsample=1.0 will be ignored. Current value: bagging_fraction=0.5143601350584093\n"
     ]
    },
    {
     "name": "stderr",
     "output_type": "stream",
     "text": [
      "[I 2023-06-06 16:51:23,316] Trial 146 finished with value: 0.6653225806451613 and parameters: {'max_depth': 8, 'num_boost_round': 110, 'min_data_in_leaf': 19, 'n_estimators': 1064, 'num_leaves': 282, 'learning_rate': 0.03258013439611889, 'feature_fraction': 0.620226479730427, 'bagging_fraction': 0.5143601350584093, 'bagging_freq': 5, 'lambda_l1': 0.36157035012774663, 'lambda_l2': 0.8415649799456576}. Best is trial 26 with value: 0.6733870967741935.\n"
     ]
    },
    {
     "name": "stdout",
     "output_type": "stream",
     "text": [
      "[LightGBM] [Warning] bagging_freq is set=6, subsample_freq=0 will be ignored. Current value: bagging_freq=6\n",
      "[LightGBM] [Warning] lambda_l1 is set=0.44034899255918325, reg_alpha=0.0 will be ignored. Current value: lambda_l1=0.44034899255918325\n",
      "[LightGBM] [Warning] min_data_in_leaf is set=18, min_child_samples=20 will be ignored. Current value: min_data_in_leaf=18\n",
      "[LightGBM] [Warning] num_iterations is set=127, num_boost_round=127 will be ignored. Current value: num_iterations=127\n",
      "[LightGBM] [Warning] lambda_l2 is set=0.716780237348418, reg_lambda=0.0 will be ignored. Current value: lambda_l2=0.716780237348418\n",
      "[LightGBM] [Warning] feature_fraction is set=0.6033857448747902, colsample_bytree=1.0 will be ignored. Current value: feature_fraction=0.6033857448747902\n",
      "[LightGBM] [Warning] bagging_fraction is set=0.780659375398552, subsample=1.0 will be ignored. Current value: bagging_fraction=0.780659375398552\n"
     ]
    },
    {
     "name": "stderr",
     "output_type": "stream",
     "text": [
      "[I 2023-06-06 16:51:24,529] Trial 147 finished with value: 0.657258064516129 and parameters: {'max_depth': 8, 'num_boost_round': 127, 'min_data_in_leaf': 18, 'n_estimators': 1448, 'num_leaves': 197, 'learning_rate': 0.030628294440438623, 'feature_fraction': 0.6033857448747902, 'bagging_fraction': 0.780659375398552, 'bagging_freq': 6, 'lambda_l1': 0.44034899255918325, 'lambda_l2': 0.716780237348418}. Best is trial 26 with value: 0.6733870967741935.\n"
     ]
    },
    {
     "name": "stdout",
     "output_type": "stream",
     "text": [
      "[LightGBM] [Warning] bagging_freq is set=5, subsample_freq=0 will be ignored. Current value: bagging_freq=5\n",
      "[LightGBM] [Warning] lambda_l1 is set=0.3375207909839776, reg_alpha=0.0 will be ignored. Current value: lambda_l1=0.3375207909839776\n",
      "[LightGBM] [Warning] min_data_in_leaf is set=17, min_child_samples=20 will be ignored. Current value: min_data_in_leaf=17\n",
      "[LightGBM] [Warning] num_iterations is set=118, num_boost_round=118 will be ignored. Current value: num_iterations=118\n",
      "[LightGBM] [Warning] lambda_l2 is set=0.4554906379510663, reg_lambda=0.0 will be ignored. Current value: lambda_l2=0.4554906379510663\n",
      "[LightGBM] [Warning] feature_fraction is set=0.5118020890280144, colsample_bytree=1.0 will be ignored. Current value: feature_fraction=0.5118020890280144\n",
      "[LightGBM] [Warning] bagging_fraction is set=0.7325959456454922, subsample=1.0 will be ignored. Current value: bagging_fraction=0.7325959456454922\n"
     ]
    },
    {
     "name": "stderr",
     "output_type": "stream",
     "text": [
      "[I 2023-06-06 16:51:25,618] Trial 148 finished with value: 0.6653225806451613 and parameters: {'max_depth': 8, 'num_boost_round': 118, 'min_data_in_leaf': 17, 'n_estimators': 1685, 'num_leaves': 241, 'learning_rate': 0.025429837397234426, 'feature_fraction': 0.5118020890280144, 'bagging_fraction': 0.7325959456454922, 'bagging_freq': 5, 'lambda_l1': 0.3375207909839776, 'lambda_l2': 0.4554906379510663}. Best is trial 26 with value: 0.6733870967741935.\n"
     ]
    },
    {
     "name": "stdout",
     "output_type": "stream",
     "text": [
      "[LightGBM] [Warning] bagging_freq is set=7, subsample_freq=0 will be ignored. Current value: bagging_freq=7\n",
      "[LightGBM] [Warning] lambda_l1 is set=0.20921012177436354, reg_alpha=0.0 will be ignored. Current value: lambda_l1=0.20921012177436354\n",
      "[LightGBM] [Warning] min_data_in_leaf is set=16, min_child_samples=20 will be ignored. Current value: min_data_in_leaf=16\n",
      "[LightGBM] [Warning] num_iterations is set=107, num_boost_round=107 will be ignored. Current value: num_iterations=107\n",
      "[LightGBM] [Warning] lambda_l2 is set=0.6035558954908683, reg_lambda=0.0 will be ignored. Current value: lambda_l2=0.6035558954908683\n",
      "[LightGBM] [Warning] feature_fraction is set=0.46529644875128234, colsample_bytree=1.0 will be ignored. Current value: feature_fraction=0.46529644875128234\n",
      "[LightGBM] [Warning] bagging_fraction is set=0.6883604187302217, subsample=1.0 will be ignored. Current value: bagging_fraction=0.6883604187302217\n"
     ]
    },
    {
     "name": "stderr",
     "output_type": "stream",
     "text": [
      "[I 2023-06-06 16:51:26,256] Trial 149 finished with value: 0.655241935483871 and parameters: {'max_depth': 6, 'num_boost_round': 107, 'min_data_in_leaf': 16, 'n_estimators': 798, 'num_leaves': 394, 'learning_rate': 0.03486452484308094, 'feature_fraction': 0.46529644875128234, 'bagging_fraction': 0.6883604187302217, 'bagging_freq': 7, 'lambda_l1': 0.20921012177436354, 'lambda_l2': 0.6035558954908683}. Best is trial 26 with value: 0.6733870967741935.\n"
     ]
    },
    {
     "name": "stdout",
     "output_type": "stream",
     "text": [
      "[LightGBM] [Warning] bagging_freq is set=4, subsample_freq=0 will be ignored. Current value: bagging_freq=4\n",
      "[LightGBM] [Warning] lambda_l1 is set=0.8282412571942943, reg_alpha=0.0 will be ignored. Current value: lambda_l1=0.8282412571942943\n",
      "[LightGBM] [Warning] min_data_in_leaf is set=18, min_child_samples=20 will be ignored. Current value: min_data_in_leaf=18\n",
      "[LightGBM] [Warning] num_iterations is set=112, num_boost_round=112 will be ignored. Current value: num_iterations=112\n",
      "[LightGBM] [Warning] lambda_l2 is set=0.1849073610599155, reg_lambda=0.0 will be ignored. Current value: lambda_l2=0.1849073610599155\n",
      "[LightGBM] [Warning] feature_fraction is set=0.5776695190115101, colsample_bytree=1.0 will be ignored. Current value: feature_fraction=0.5776695190115101\n",
      "[LightGBM] [Warning] bagging_fraction is set=0.7890486066341444, subsample=1.0 will be ignored. Current value: bagging_fraction=0.7890486066341444\n"
     ]
    },
    {
     "name": "stderr",
     "output_type": "stream",
     "text": [
      "[I 2023-06-06 16:51:27,329] Trial 150 finished with value: 0.6673387096774194 and parameters: {'max_depth': 8, 'num_boost_round': 112, 'min_data_in_leaf': 18, 'n_estimators': 1780, 'num_leaves': 77, 'learning_rate': 0.03629377162827973, 'feature_fraction': 0.5776695190115101, 'bagging_fraction': 0.7890486066341444, 'bagging_freq': 4, 'lambda_l1': 0.8282412571942943, 'lambda_l2': 0.1849073610599155}. Best is trial 26 with value: 0.6733870967741935.\n"
     ]
    },
    {
     "name": "stdout",
     "output_type": "stream",
     "text": [
      "[LightGBM] [Warning] bagging_freq is set=4, subsample_freq=0 will be ignored. Current value: bagging_freq=4\n",
      "[LightGBM] [Warning] lambda_l1 is set=0.3047060286933192, reg_alpha=0.0 will be ignored. Current value: lambda_l1=0.3047060286933192\n",
      "[LightGBM] [Warning] min_data_in_leaf is set=17, min_child_samples=20 will be ignored. Current value: min_data_in_leaf=17\n",
      "[LightGBM] [Warning] num_iterations is set=139, num_boost_round=139 will be ignored. Current value: num_iterations=139\n",
      "[LightGBM] [Warning] lambda_l2 is set=0.37263515633672206, reg_lambda=0.0 will be ignored. Current value: lambda_l2=0.37263515633672206\n",
      "[LightGBM] [Warning] feature_fraction is set=0.5945996557476436, colsample_bytree=1.0 will be ignored. Current value: feature_fraction=0.5945996557476436\n",
      "[LightGBM] [Warning] bagging_fraction is set=0.7549679398544942, subsample=1.0 will be ignored. Current value: bagging_fraction=0.7549679398544942\n"
     ]
    },
    {
     "name": "stderr",
     "output_type": "stream",
     "text": [
      "[I 2023-06-06 16:51:28,658] Trial 151 finished with value: 0.6633064516129032 and parameters: {'max_depth': 8, 'num_boost_round': 139, 'min_data_in_leaf': 17, 'n_estimators': 1530, 'num_leaves': 1995, 'learning_rate': 0.029317744504432936, 'feature_fraction': 0.5945996557476436, 'bagging_fraction': 0.7549679398544942, 'bagging_freq': 4, 'lambda_l1': 0.3047060286933192, 'lambda_l2': 0.37263515633672206}. Best is trial 26 with value: 0.6733870967741935.\n"
     ]
    },
    {
     "name": "stdout",
     "output_type": "stream",
     "text": [
      "[LightGBM] [Warning] bagging_freq is set=4, subsample_freq=0 will be ignored. Current value: bagging_freq=4\n",
      "[LightGBM] [Warning] lambda_l1 is set=0.3743908838497286, reg_alpha=0.0 will be ignored. Current value: lambda_l1=0.3743908838497286\n",
      "[LightGBM] [Warning] min_data_in_leaf is set=17, min_child_samples=20 will be ignored. Current value: min_data_in_leaf=17\n",
      "[LightGBM] [Warning] num_iterations is set=146, num_boost_round=146 will be ignored. Current value: num_iterations=146\n",
      "[LightGBM] [Warning] lambda_l2 is set=0.4189698551227678, reg_lambda=0.0 will be ignored. Current value: lambda_l2=0.4189698551227678\n",
      "[LightGBM] [Warning] feature_fraction is set=0.6613059106587923, colsample_bytree=1.0 will be ignored. Current value: feature_fraction=0.6613059106587923\n",
      "[LightGBM] [Warning] bagging_fraction is set=0.741085083993801, subsample=1.0 will be ignored. Current value: bagging_fraction=0.741085083993801\n"
     ]
    },
    {
     "name": "stderr",
     "output_type": "stream",
     "text": [
      "[I 2023-06-06 16:51:29,937] Trial 152 finished with value: 0.657258064516129 and parameters: {'max_depth': 7, 'num_boost_round': 146, 'min_data_in_leaf': 17, 'n_estimators': 1577, 'num_leaves': 832, 'learning_rate': 0.028351367898516062, 'feature_fraction': 0.6613059106587923, 'bagging_fraction': 0.741085083993801, 'bagging_freq': 4, 'lambda_l1': 0.3743908838497286, 'lambda_l2': 0.4189698551227678}. Best is trial 26 with value: 0.6733870967741935.\n"
     ]
    },
    {
     "name": "stdout",
     "output_type": "stream",
     "text": [
      "[LightGBM] [Warning] bagging_freq is set=3, subsample_freq=0 will be ignored. Current value: bagging_freq=3\n",
      "[LightGBM] [Warning] lambda_l1 is set=0.49151761980289904, reg_alpha=0.0 will be ignored. Current value: lambda_l1=0.49151761980289904\n",
      "[LightGBM] [Warning] min_data_in_leaf is set=17, min_child_samples=20 will be ignored. Current value: min_data_in_leaf=17\n",
      "[LightGBM] [Warning] num_iterations is set=135, num_boost_round=135 will be ignored. Current value: num_iterations=135\n",
      "[LightGBM] [Warning] lambda_l2 is set=0.5119716104480593, reg_lambda=0.0 will be ignored. Current value: lambda_l2=0.5119716104480593\n",
      "[LightGBM] [Warning] feature_fraction is set=0.6317784462951053, colsample_bytree=1.0 will be ignored. Current value: feature_fraction=0.6317784462951053\n",
      "[LightGBM] [Warning] bagging_fraction is set=0.7692361542018219, subsample=1.0 will be ignored. Current value: bagging_fraction=0.7692361542018219\n"
     ]
    },
    {
     "name": "stderr",
     "output_type": "stream",
     "text": [
      "[I 2023-06-06 16:51:31,286] Trial 153 finished with value: 0.6612903225806451 and parameters: {'max_depth': 8, 'num_boost_round': 135, 'min_data_in_leaf': 17, 'n_estimators': 1657, 'num_leaves': 1211, 'learning_rate': 0.027142158631739105, 'feature_fraction': 0.6317784462951053, 'bagging_fraction': 0.7692361542018219, 'bagging_freq': 3, 'lambda_l1': 0.49151761980289904, 'lambda_l2': 0.5119716104480593}. Best is trial 26 with value: 0.6733870967741935.\n"
     ]
    },
    {
     "name": "stdout",
     "output_type": "stream",
     "text": [
      "[LightGBM] [Warning] bagging_freq is set=4, subsample_freq=0 will be ignored. Current value: bagging_freq=4\n",
      "[LightGBM] [Warning] lambda_l1 is set=0.25617362833389135, reg_alpha=0.0 will be ignored. Current value: lambda_l1=0.25617362833389135\n",
      "[LightGBM] [Warning] min_data_in_leaf is set=20, min_child_samples=20 will be ignored. Current value: min_data_in_leaf=20\n",
      "[LightGBM] [Warning] num_iterations is set=116, num_boost_round=116 will be ignored. Current value: num_iterations=116\n",
      "[LightGBM] [Warning] lambda_l2 is set=0.3390613151326581, reg_lambda=0.0 will be ignored. Current value: lambda_l2=0.3390613151326581\n",
      "[LightGBM] [Warning] feature_fraction is set=0.6068693758354801, colsample_bytree=1.0 will be ignored. Current value: feature_fraction=0.6068693758354801\n",
      "[LightGBM] [Warning] bagging_fraction is set=0.7153023859753579, subsample=1.0 will be ignored. Current value: bagging_fraction=0.7153023859753579\n"
     ]
    },
    {
     "name": "stderr",
     "output_type": "stream",
     "text": [
      "[I 2023-06-06 16:51:32,320] Trial 154 finished with value: 0.6653225806451613 and parameters: {'max_depth': 8, 'num_boost_round': 116, 'min_data_in_leaf': 20, 'n_estimators': 1510, 'num_leaves': 674, 'learning_rate': 0.03019790067470073, 'feature_fraction': 0.6068693758354801, 'bagging_fraction': 0.7153023859753579, 'bagging_freq': 4, 'lambda_l1': 0.25617362833389135, 'lambda_l2': 0.3390613151326581}. Best is trial 26 with value: 0.6733870967741935.\n"
     ]
    },
    {
     "name": "stdout",
     "output_type": "stream",
     "text": [
      "[LightGBM] [Warning] bagging_freq is set=5, subsample_freq=0 will be ignored. Current value: bagging_freq=5\n",
      "[LightGBM] [Warning] lambda_l1 is set=0.4103274095431471, reg_alpha=0.0 will be ignored. Current value: lambda_l1=0.4103274095431471\n",
      "[LightGBM] [Warning] min_data_in_leaf is set=18, min_child_samples=20 will be ignored. Current value: min_data_in_leaf=18\n",
      "[LightGBM] [Warning] num_iterations is set=100, num_boost_round=100 will be ignored. Current value: num_iterations=100\n",
      "[LightGBM] [Warning] lambda_l2 is set=0.6632714751752583, reg_lambda=0.0 will be ignored. Current value: lambda_l2=0.6632714751752583\n",
      "[LightGBM] [Warning] feature_fraction is set=0.5238525411142442, colsample_bytree=1.0 will be ignored. Current value: feature_fraction=0.5238525411142442\n",
      "[LightGBM] [Warning] bagging_fraction is set=0.7593042787485826, subsample=1.0 will be ignored. Current value: bagging_fraction=0.7593042787485826\n"
     ]
    },
    {
     "name": "stderr",
     "output_type": "stream",
     "text": [
      "[I 2023-06-06 16:51:33,186] Trial 155 finished with value: 0.6633064516129032 and parameters: {'max_depth': 8, 'num_boost_round': 100, 'min_data_in_leaf': 18, 'n_estimators': 1467, 'num_leaves': 450, 'learning_rate': 0.0341714266910077, 'feature_fraction': 0.5238525411142442, 'bagging_fraction': 0.7593042787485826, 'bagging_freq': 5, 'lambda_l1': 0.4103274095431471, 'lambda_l2': 0.6632714751752583}. Best is trial 26 with value: 0.6733870967741935.\n"
     ]
    },
    {
     "name": "stdout",
     "output_type": "stream",
     "text": [
      "[LightGBM] [Warning] bagging_freq is set=2, subsample_freq=0 will be ignored. Current value: bagging_freq=2\n",
      "[LightGBM] [Warning] lambda_l1 is set=0.33579222157866306, reg_alpha=0.0 will be ignored. Current value: lambda_l1=0.33579222157866306\n",
      "[LightGBM] [Warning] min_data_in_leaf is set=16, min_child_samples=20 will be ignored. Current value: min_data_in_leaf=16\n",
      "[LightGBM] [Warning] num_iterations is set=150, num_boost_round=150 will be ignored. Current value: num_iterations=150\n",
      "[LightGBM] [Warning] lambda_l2 is set=0.28293216685886335, reg_lambda=0.0 will be ignored. Current value: lambda_l2=0.28293216685886335\n",
      "[LightGBM] [Warning] feature_fraction is set=0.49339803876765065, colsample_bytree=1.0 will be ignored. Current value: feature_fraction=0.49339803876765065\n",
      "[LightGBM] [Warning] bagging_fraction is set=0.7487643550355229, subsample=1.0 will be ignored. Current value: bagging_fraction=0.7487643550355229\n"
     ]
    },
    {
     "name": "stderr",
     "output_type": "stream",
     "text": [
      "[I 2023-06-06 16:51:34,473] Trial 156 finished with value: 0.6633064516129032 and parameters: {'max_depth': 8, 'num_boost_round': 150, 'min_data_in_leaf': 16, 'n_estimators': 1616, 'num_leaves': 365, 'learning_rate': 0.03222844489003379, 'feature_fraction': 0.49339803876765065, 'bagging_fraction': 0.7487643550355229, 'bagging_freq': 2, 'lambda_l1': 0.33579222157866306, 'lambda_l2': 0.28293216685886335}. Best is trial 26 with value: 0.6733870967741935.\n"
     ]
    },
    {
     "name": "stdout",
     "output_type": "stream",
     "text": [
      "[LightGBM] [Warning] bagging_freq is set=4, subsample_freq=0 will be ignored. Current value: bagging_freq=4\n",
      "[LightGBM] [Warning] lambda_l1 is set=0.2252329913185675, reg_alpha=0.0 will be ignored. Current value: lambda_l1=0.2252329913185675\n",
      "[LightGBM] [Warning] min_data_in_leaf is set=18, min_child_samples=20 will be ignored. Current value: min_data_in_leaf=18\n",
      "[LightGBM] [Warning] num_iterations is set=131, num_boost_round=131 will be ignored. Current value: num_iterations=131\n",
      "[LightGBM] [Warning] lambda_l2 is set=0.22213813706862903, reg_lambda=0.0 will be ignored. Current value: lambda_l2=0.22213813706862903\n",
      "[LightGBM] [Warning] feature_fraction is set=0.5817706951082882, colsample_bytree=1.0 will be ignored. Current value: feature_fraction=0.5817706951082882\n",
      "[LightGBM] [Warning] bagging_fraction is set=0.798896419892405, subsample=1.0 will be ignored. Current value: bagging_fraction=0.798896419892405\n"
     ]
    },
    {
     "name": "stderr",
     "output_type": "stream",
     "text": [
      "[I 2023-06-06 16:51:35,777] Trial 157 finished with value: 0.6592741935483871 and parameters: {'max_depth': 8, 'num_boost_round': 131, 'min_data_in_leaf': 18, 'n_estimators': 1413, 'num_leaves': 311, 'learning_rate': 0.02357963781822288, 'feature_fraction': 0.5817706951082882, 'bagging_fraction': 0.798896419892405, 'bagging_freq': 4, 'lambda_l1': 0.2252329913185675, 'lambda_l2': 0.22213813706862903}. Best is trial 26 with value: 0.6733870967741935.\n"
     ]
    },
    {
     "name": "stdout",
     "output_type": "stream",
     "text": [
      "[LightGBM] [Warning] bagging_freq is set=5, subsample_freq=0 will be ignored. Current value: bagging_freq=5\n",
      "[LightGBM] [Warning] lambda_l1 is set=0.27912465715372037, reg_alpha=0.0 will be ignored. Current value: lambda_l1=0.27912465715372037\n",
      "[LightGBM] [Warning] min_data_in_leaf is set=12, min_child_samples=20 will be ignored. Current value: min_data_in_leaf=12\n",
      "[LightGBM] [Warning] num_iterations is set=105, num_boost_round=105 will be ignored. Current value: num_iterations=105\n",
      "[LightGBM] [Warning] lambda_l2 is set=0.5604920877825003, reg_lambda=0.0 will be ignored. Current value: lambda_l2=0.5604920877825003\n",
      "[LightGBM] [Warning] feature_fraction is set=0.5591961025359551, colsample_bytree=1.0 will be ignored. Current value: feature_fraction=0.5591961025359551\n",
      "[LightGBM] [Warning] bagging_fraction is set=0.7304381655871841, subsample=1.0 will be ignored. Current value: bagging_fraction=0.7304381655871841\n"
     ]
    },
    {
     "name": "stderr",
     "output_type": "stream",
     "text": [
      "[I 2023-06-06 16:51:36,892] Trial 158 finished with value: 0.657258064516129 and parameters: {'max_depth': 8, 'num_boost_round': 105, 'min_data_in_leaf': 12, 'n_estimators': 1539, 'num_leaves': 409, 'learning_rate': 0.03828516758214832, 'feature_fraction': 0.5591961025359551, 'bagging_fraction': 0.7304381655871841, 'bagging_freq': 5, 'lambda_l1': 0.27912465715372037, 'lambda_l2': 0.5604920877825003}. Best is trial 26 with value: 0.6733870967741935.\n"
     ]
    },
    {
     "name": "stdout",
     "output_type": "stream",
     "text": [
      "[LightGBM] [Warning] bagging_freq is set=4, subsample_freq=0 will be ignored. Current value: bagging_freq=4\n",
      "[LightGBM] [Warning] lambda_l1 is set=0.6361654920945721, reg_alpha=0.0 will be ignored. Current value: lambda_l1=0.6361654920945721\n",
      "[LightGBM] [Warning] min_data_in_leaf is set=17, min_child_samples=20 will be ignored. Current value: min_data_in_leaf=17\n",
      "[LightGBM] [Warning] num_iterations is set=156, num_boost_round=156 will be ignored. Current value: num_iterations=156\n",
      "[LightGBM] [Warning] lambda_l2 is set=0.8045116127270238, reg_lambda=0.0 will be ignored. Current value: lambda_l2=0.8045116127270238\n",
      "[LightGBM] [Warning] feature_fraction is set=0.4454740411382134, colsample_bytree=1.0 will be ignored. Current value: feature_fraction=0.4454740411382134\n",
      "[LightGBM] [Warning] bagging_fraction is set=0.7754842095189161, subsample=1.0 will be ignored. Current value: bagging_fraction=0.7754842095189161\n"
     ]
    },
    {
     "name": "stderr",
     "output_type": "stream",
     "text": [
      "[I 2023-06-06 16:51:38,174] Trial 159 finished with value: 0.6653225806451613 and parameters: {'max_depth': 8, 'num_boost_round': 156, 'min_data_in_leaf': 17, 'n_estimators': 1362, 'num_leaves': 177, 'learning_rate': 0.026492966841237083, 'feature_fraction': 0.4454740411382134, 'bagging_fraction': 0.7754842095189161, 'bagging_freq': 4, 'lambda_l1': 0.6361654920945721, 'lambda_l2': 0.8045116127270238}. Best is trial 26 with value: 0.6733870967741935.\n"
     ]
    },
    {
     "name": "stdout",
     "output_type": "stream",
     "text": [
      "[LightGBM] [Warning] bagging_freq is set=3, subsample_freq=0 will be ignored. Current value: bagging_freq=3\n",
      "[LightGBM] [Warning] lambda_l1 is set=0.5627386467764071, reg_alpha=0.0 will be ignored. Current value: lambda_l1=0.5627386467764071\n",
      "[LightGBM] [Warning] min_data_in_leaf is set=18, min_child_samples=20 will be ignored. Current value: min_data_in_leaf=18\n",
      "[LightGBM] [Warning] num_iterations is set=167, num_boost_round=167 will be ignored. Current value: num_iterations=167\n",
      "[LightGBM] [Warning] lambda_l2 is set=0.4243197862971599, reg_lambda=0.0 will be ignored. Current value: lambda_l2=0.4243197862971599\n",
      "[LightGBM] [Warning] feature_fraction is set=0.6423065338431174, colsample_bytree=1.0 will be ignored. Current value: feature_fraction=0.6423065338431174\n",
      "[LightGBM] [Warning] bagging_fraction is set=0.7084247611565548, subsample=1.0 will be ignored. Current value: bagging_fraction=0.7084247611565548\n"
     ]
    },
    {
     "name": "stderr",
     "output_type": "stream",
     "text": [
      "[I 2023-06-06 16:51:39,672] Trial 160 finished with value: 0.6612903225806451 and parameters: {'max_depth': 8, 'num_boost_round': 167, 'min_data_in_leaf': 18, 'n_estimators': 707, 'num_leaves': 126, 'learning_rate': 0.024847644536829954, 'feature_fraction': 0.6423065338431174, 'bagging_fraction': 0.7084247611565548, 'bagging_freq': 3, 'lambda_l1': 0.5627386467764071, 'lambda_l2': 0.4243197862971599}. Best is trial 26 with value: 0.6733870967741935.\n"
     ]
    },
    {
     "name": "stdout",
     "output_type": "stream",
     "text": [
      "[LightGBM] [Warning] bagging_freq is set=6, subsample_freq=0 will be ignored. Current value: bagging_freq=6\n",
      "[LightGBM] [Warning] lambda_l1 is set=0.40414825297635304, reg_alpha=0.0 will be ignored. Current value: lambda_l1=0.40414825297635304\n",
      "[LightGBM] [Warning] min_data_in_leaf is set=18, min_child_samples=20 will be ignored. Current value: min_data_in_leaf=18\n",
      "[LightGBM] [Warning] num_iterations is set=125, num_boost_round=125 will be ignored. Current value: num_iterations=125\n",
      "[LightGBM] [Warning] lambda_l2 is set=0.27202896601085624, reg_lambda=0.0 will be ignored. Current value: lambda_l2=0.27202896601085624\n",
      "[LightGBM] [Warning] feature_fraction is set=0.47101080594258465, colsample_bytree=1.0 will be ignored. Current value: feature_fraction=0.47101080594258465\n",
      "[LightGBM] [Warning] bagging_fraction is set=0.7869416290660708, subsample=1.0 will be ignored. Current value: bagging_fraction=0.7869416290660708\n"
     ]
    },
    {
     "name": "stderr",
     "output_type": "stream",
     "text": [
      "[I 2023-06-06 16:51:40,778] Trial 161 finished with value: 0.657258064516129 and parameters: {'max_depth': 8, 'num_boost_round': 125, 'min_data_in_leaf': 18, 'n_estimators': 1650, 'num_leaves': 656, 'learning_rate': 0.03224236034225465, 'feature_fraction': 0.47101080594258465, 'bagging_fraction': 0.7869416290660708, 'bagging_freq': 6, 'lambda_l1': 0.40414825297635304, 'lambda_l2': 0.27202896601085624}. Best is trial 26 with value: 0.6733870967741935.\n"
     ]
    },
    {
     "name": "stdout",
     "output_type": "stream",
     "text": [
      "[LightGBM] [Warning] bagging_freq is set=6, subsample_freq=0 will be ignored. Current value: bagging_freq=6\n",
      "[LightGBM] [Warning] lambda_l1 is set=0.3747734619000116, reg_alpha=0.0 will be ignored. Current value: lambda_l1=0.3747734619000116\n",
      "[LightGBM] [Warning] min_data_in_leaf is set=18, min_child_samples=20 will be ignored. Current value: min_data_in_leaf=18\n",
      "[LightGBM] [Warning] num_iterations is set=122, num_boost_round=122 will be ignored. Current value: num_iterations=122\n",
      "[LightGBM] [Warning] lambda_l2 is set=0.31471357697592856, reg_lambda=0.0 will be ignored. Current value: lambda_l2=0.31471357697592856\n",
      "[LightGBM] [Warning] feature_fraction is set=0.45597131968359994, colsample_bytree=1.0 will be ignored. Current value: feature_fraction=0.45597131968359994\n",
      "[LightGBM] [Warning] bagging_fraction is set=0.7740391523700033, subsample=1.0 will be ignored. Current value: bagging_fraction=0.7740391523700033\n"
     ]
    },
    {
     "name": "stderr",
     "output_type": "stream",
     "text": [
      "[I 2023-06-06 16:51:41,698] Trial 162 finished with value: 0.6592741935483871 and parameters: {'max_depth': 7, 'num_boost_round': 122, 'min_data_in_leaf': 18, 'n_estimators': 1693, 'num_leaves': 718, 'learning_rate': 0.031175597247454036, 'feature_fraction': 0.45597131968359994, 'bagging_fraction': 0.7740391523700033, 'bagging_freq': 6, 'lambda_l1': 0.3747734619000116, 'lambda_l2': 0.31471357697592856}. Best is trial 26 with value: 0.6733870967741935.\n"
     ]
    },
    {
     "name": "stdout",
     "output_type": "stream",
     "text": [
      "[LightGBM] [Warning] bagging_freq is set=6, subsample_freq=0 will be ignored. Current value: bagging_freq=6\n",
      "[LightGBM] [Warning] lambda_l1 is set=0.4500930768808354, reg_alpha=0.0 will be ignored. Current value: lambda_l1=0.4500930768808354\n",
      "[LightGBM] [Warning] min_data_in_leaf is set=18, min_child_samples=20 will be ignored. Current value: min_data_in_leaf=18\n",
      "[LightGBM] [Warning] num_iterations is set=111, num_boost_round=111 will be ignored. Current value: num_iterations=111\n",
      "[LightGBM] [Warning] lambda_l2 is set=0.2078065128518742, reg_lambda=0.0 will be ignored. Current value: lambda_l2=0.2078065128518742\n",
      "[LightGBM] [Warning] feature_fraction is set=0.4924246107369703, colsample_bytree=1.0 will be ignored. Current value: feature_fraction=0.4924246107369703\n",
      "[LightGBM] [Warning] bagging_fraction is set=0.7487409739582643, subsample=1.0 will be ignored. Current value: bagging_fraction=0.7487409739582643\n"
     ]
    },
    {
     "name": "stderr",
     "output_type": "stream",
     "text": [
      "[I 2023-06-06 16:51:42,500] Trial 163 finished with value: 0.655241935483871 and parameters: {'max_depth': 7, 'num_boost_round': 111, 'min_data_in_leaf': 18, 'n_estimators': 1584, 'num_leaves': 609, 'learning_rate': 0.02856329688833339, 'feature_fraction': 0.4924246107369703, 'bagging_fraction': 0.7487409739582643, 'bagging_freq': 6, 'lambda_l1': 0.4500930768808354, 'lambda_l2': 0.2078065128518742}. Best is trial 26 with value: 0.6733870967741935.\n"
     ]
    },
    {
     "name": "stdout",
     "output_type": "stream",
     "text": [
      "[LightGBM] [Warning] bagging_freq is set=7, subsample_freq=0 will be ignored. Current value: bagging_freq=7\n",
      "[LightGBM] [Warning] lambda_l1 is set=0.32732145029584114, reg_alpha=0.0 will be ignored. Current value: lambda_l1=0.32732145029584114\n",
      "[LightGBM] [Warning] min_data_in_leaf is set=17, min_child_samples=20 will be ignored. Current value: min_data_in_leaf=17\n",
      "[LightGBM] [Warning] num_iterations is set=141, num_boost_round=141 will be ignored. Current value: num_iterations=141\n",
      "[LightGBM] [Warning] lambda_l2 is set=0.24765927885562442, reg_lambda=0.0 will be ignored. Current value: lambda_l2=0.24765927885562442\n",
      "[LightGBM] [Warning] feature_fraction is set=0.42773497552936407, colsample_bytree=1.0 will be ignored. Current value: feature_fraction=0.42773497552936407\n",
      "[LightGBM] [Warning] bagging_fraction is set=0.7853526728948794, subsample=1.0 will be ignored. Current value: bagging_fraction=0.7853526728948794\n"
     ]
    },
    {
     "name": "stderr",
     "output_type": "stream",
     "text": [
      "[I 2023-06-06 16:51:43,738] Trial 164 finished with value: 0.6592741935483871 and parameters: {'max_depth': 8, 'num_boost_round': 141, 'min_data_in_leaf': 17, 'n_estimators': 1713, 'num_leaves': 542, 'learning_rate': 0.02992617577030646, 'feature_fraction': 0.42773497552936407, 'bagging_fraction': 0.7853526728948794, 'bagging_freq': 7, 'lambda_l1': 0.32732145029584114, 'lambda_l2': 0.24765927885562442}. Best is trial 26 with value: 0.6733870967741935.\n"
     ]
    },
    {
     "name": "stdout",
     "output_type": "stream",
     "text": [
      "[LightGBM] [Warning] bagging_freq is set=5, subsample_freq=0 will be ignored. Current value: bagging_freq=5\n",
      "[LightGBM] [Warning] lambda_l1 is set=0.15710164977630423, reg_alpha=0.0 will be ignored. Current value: lambda_l1=0.15710164977630423\n",
      "[LightGBM] [Warning] min_data_in_leaf is set=19, min_child_samples=20 will be ignored. Current value: min_data_in_leaf=19\n",
      "[LightGBM] [Warning] num_iterations is set=128, num_boost_round=128 will be ignored. Current value: num_iterations=128\n",
      "[LightGBM] [Warning] lambda_l2 is set=0.37987123020942715, reg_lambda=0.0 will be ignored. Current value: lambda_l2=0.37987123020942715\n",
      "[LightGBM] [Warning] feature_fraction is set=0.5371161640825993, colsample_bytree=1.0 will be ignored. Current value: feature_fraction=0.5371161640825993\n",
      "[LightGBM] [Warning] bagging_fraction is set=0.7617374440217155, subsample=1.0 will be ignored. Current value: bagging_fraction=0.7617374440217155\n"
     ]
    },
    {
     "name": "stderr",
     "output_type": "stream",
     "text": [
      "[I 2023-06-06 16:51:44,371] Trial 165 finished with value: 0.6612903225806451 and parameters: {'max_depth': 5, 'num_boost_round': 128, 'min_data_in_leaf': 19, 'n_estimators': 1636, 'num_leaves': 218, 'learning_rate': 0.03346896036094973, 'feature_fraction': 0.5371161640825993, 'bagging_fraction': 0.7617374440217155, 'bagging_freq': 5, 'lambda_l1': 0.15710164977630423, 'lambda_l2': 0.37987123020942715}. Best is trial 26 with value: 0.6733870967741935.\n"
     ]
    },
    {
     "name": "stdout",
     "output_type": "stream",
     "text": [
      "[LightGBM] [Warning] bagging_freq is set=7, subsample_freq=0 will be ignored. Current value: bagging_freq=7\n",
      "[LightGBM] [Warning] lambda_l1 is set=0.5199368484423225, reg_alpha=0.0 will be ignored. Current value: lambda_l1=0.5199368484423225\n",
      "[LightGBM] [Warning] min_data_in_leaf is set=13, min_child_samples=20 will be ignored. Current value: min_data_in_leaf=13\n",
      "[LightGBM] [Warning] num_iterations is set=119, num_boost_round=119 will be ignored. Current value: num_iterations=119\n",
      "[LightGBM] [Warning] lambda_l2 is set=0.4894027034756591, reg_lambda=0.0 will be ignored. Current value: lambda_l2=0.4894027034756591\n",
      "[LightGBM] [Warning] feature_fraction is set=0.5049848251844217, colsample_bytree=1.0 will be ignored. Current value: feature_fraction=0.5049848251844217\n",
      "[LightGBM] [Warning] bagging_fraction is set=0.7352247520952917, subsample=1.0 will be ignored. Current value: bagging_fraction=0.7352247520952917\n"
     ]
    },
    {
     "name": "stderr",
     "output_type": "stream",
     "text": [
      "[I 2023-06-06 16:51:45,547] Trial 166 finished with value: 0.6592741935483871 and parameters: {'max_depth': 8, 'num_boost_round': 119, 'min_data_in_leaf': 13, 'n_estimators': 1496, 'num_leaves': 487, 'learning_rate': 0.036932962118650395, 'feature_fraction': 0.5049848251844217, 'bagging_fraction': 0.7352247520952917, 'bagging_freq': 7, 'lambda_l1': 0.5199368484423225, 'lambda_l2': 0.4894027034756591}. Best is trial 26 with value: 0.6733870967741935.\n"
     ]
    },
    {
     "name": "stdout",
     "output_type": "stream",
     "text": [
      "[LightGBM] [Warning] bagging_freq is set=5, subsample_freq=0 will be ignored. Current value: bagging_freq=5\n",
      "[LightGBM] [Warning] lambda_l1 is set=0.46863039431622044, reg_alpha=0.0 will be ignored. Current value: lambda_l1=0.46863039431622044\n",
      "[LightGBM] [Warning] min_data_in_leaf is set=18, min_child_samples=20 will be ignored. Current value: min_data_in_leaf=18\n",
      "[LightGBM] [Warning] num_iterations is set=113, num_boost_round=113 will be ignored. Current value: num_iterations=113\n",
      "[LightGBM] [Warning] lambda_l2 is set=0.3102017225177248, reg_lambda=0.0 will be ignored. Current value: lambda_l2=0.3102017225177248\n",
      "[LightGBM] [Warning] feature_fraction is set=0.7418342282120212, colsample_bytree=1.0 will be ignored. Current value: feature_fraction=0.7418342282120212\n",
      "[LightGBM] [Warning] bagging_fraction is set=0.7755451258889902, subsample=1.0 will be ignored. Current value: bagging_fraction=0.7755451258889902\n"
     ]
    },
    {
     "name": "stderr",
     "output_type": "stream",
     "text": [
      "[I 2023-06-06 16:51:46,779] Trial 167 finished with value: 0.6633064516129032 and parameters: {'max_depth': 8, 'num_boost_round': 113, 'min_data_in_leaf': 18, 'n_estimators': 1569, 'num_leaves': 635, 'learning_rate': 0.041257459696549675, 'feature_fraction': 0.7418342282120212, 'bagging_fraction': 0.7755451258889902, 'bagging_freq': 5, 'lambda_l1': 0.46863039431622044, 'lambda_l2': 0.3102017225177248}. Best is trial 26 with value: 0.6733870967741935.\n"
     ]
    },
    {
     "name": "stdout",
     "output_type": "stream",
     "text": [
      "[LightGBM] [Warning] bagging_freq is set=4, subsample_freq=0 will be ignored. Current value: bagging_freq=4\n",
      "[LightGBM] [Warning] lambda_l1 is set=0.1679529054402942, reg_alpha=0.0 will be ignored. Current value: lambda_l1=0.1679529054402942\n",
      "[LightGBM] [Warning] min_data_in_leaf is set=16, min_child_samples=20 will be ignored. Current value: min_data_in_leaf=16\n",
      "[LightGBM] [Warning] num_iterations is set=107, num_boost_round=107 will be ignored. Current value: num_iterations=107\n",
      "[LightGBM] [Warning] lambda_l2 is set=0.2703382786140636, reg_lambda=0.0 will be ignored. Current value: lambda_l2=0.2703382786140636\n",
      "[LightGBM] [Warning] feature_fraction is set=0.46422054034290394, colsample_bytree=1.0 will be ignored. Current value: feature_fraction=0.46422054034290394\n",
      "[LightGBM] [Warning] bagging_fraction is set=0.7522754074500001, subsample=1.0 will be ignored. Current value: bagging_fraction=0.7522754074500001\n"
     ]
    },
    {
     "name": "stderr",
     "output_type": "stream",
     "text": [
      "[I 2023-06-06 16:51:47,659] Trial 168 finished with value: 0.6633064516129032 and parameters: {'max_depth': 7, 'num_boost_round': 107, 'min_data_in_leaf': 16, 'n_estimators': 1744, 'num_leaves': 261, 'learning_rate': 0.03138998177196202, 'feature_fraction': 0.46422054034290394, 'bagging_fraction': 0.7522754074500001, 'bagging_freq': 4, 'lambda_l1': 0.1679529054402942, 'lambda_l2': 0.2703382786140636}. Best is trial 26 with value: 0.6733870967741935.\n"
     ]
    },
    {
     "name": "stdout",
     "output_type": "stream",
     "text": [
      "[LightGBM] [Warning] bagging_freq is set=6, subsample_freq=0 will be ignored. Current value: bagging_freq=6\n",
      "[LightGBM] [Warning] lambda_l1 is set=0.3603203448074913, reg_alpha=0.0 will be ignored. Current value: lambda_l1=0.3603203448074913\n",
      "[LightGBM] [Warning] min_data_in_leaf is set=17, min_child_samples=20 will be ignored. Current value: min_data_in_leaf=17\n",
      "[LightGBM] [Warning] num_iterations is set=134, num_boost_round=134 will be ignored. Current value: num_iterations=134\n",
      "[LightGBM] [Warning] lambda_l2 is set=0.43990295230402054, reg_lambda=0.0 will be ignored. Current value: lambda_l2=0.43990295230402054\n",
      "[LightGBM] [Warning] feature_fraction is set=0.6204582219686154, colsample_bytree=1.0 will be ignored. Current value: feature_fraction=0.6204582219686154\n",
      "[LightGBM] [Warning] bagging_fraction is set=0.39631132208181574, subsample=1.0 will be ignored. Current value: bagging_fraction=0.39631132208181574\n"
     ]
    },
    {
     "name": "stderr",
     "output_type": "stream",
     "text": [
      "[I 2023-06-06 16:51:48,539] Trial 169 finished with value: 0.6532258064516129 and parameters: {'max_depth': 8, 'num_boost_round': 134, 'min_data_in_leaf': 17, 'n_estimators': 1657, 'num_leaves': 578, 'learning_rate': 0.027977633297953535, 'feature_fraction': 0.6204582219686154, 'bagging_fraction': 0.39631132208181574, 'bagging_freq': 6, 'lambda_l1': 0.3603203448074913, 'lambda_l2': 0.43990295230402054}. Best is trial 26 with value: 0.6733870967741935.\n"
     ]
    },
    {
     "name": "stdout",
     "output_type": "stream",
     "text": [
      "[LightGBM] [Warning] bagging_freq is set=5, subsample_freq=0 will be ignored. Current value: bagging_freq=5\n",
      "[LightGBM] [Warning] lambda_l1 is set=0.13308144133290362, reg_alpha=0.0 will be ignored. Current value: lambda_l1=0.13308144133290362\n",
      "[LightGBM] [Warning] min_data_in_leaf is set=10, min_child_samples=20 will be ignored. Current value: min_data_in_leaf=10\n",
      "[LightGBM] [Warning] num_iterations is set=124, num_boost_round=124 will be ignored. Current value: num_iterations=124\n",
      "[LightGBM] [Warning] lambda_l2 is set=0.6007295834288049, reg_lambda=0.0 will be ignored. Current value: lambda_l2=0.6007295834288049\n",
      "[LightGBM] [Warning] feature_fraction is set=0.414301983613552, colsample_bytree=1.0 will be ignored. Current value: feature_fraction=0.414301983613552\n",
      "[LightGBM] [Warning] bagging_fraction is set=0.7223152618462959, subsample=1.0 will be ignored. Current value: bagging_fraction=0.7223152618462959\n"
     ]
    },
    {
     "name": "stderr",
     "output_type": "stream",
     "text": [
      "[I 2023-06-06 16:51:49,740] Trial 170 finished with value: 0.6612903225806451 and parameters: {'max_depth': 8, 'num_boost_round': 124, 'min_data_in_leaf': 10, 'n_estimators': 1601, 'num_leaves': 56, 'learning_rate': 0.03579148574341716, 'feature_fraction': 0.414301983613552, 'bagging_fraction': 0.7223152618462959, 'bagging_freq': 5, 'lambda_l1': 0.13308144133290362, 'lambda_l2': 0.6007295834288049}. Best is trial 26 with value: 0.6733870967741935.\n"
     ]
    },
    {
     "name": "stdout",
     "output_type": "stream",
     "text": [
      "[LightGBM] [Warning] bagging_freq is set=5, subsample_freq=0 will be ignored. Current value: bagging_freq=5\n",
      "[LightGBM] [Warning] lambda_l1 is set=0.3907088822693147, reg_alpha=0.0 will be ignored. Current value: lambda_l1=0.3907088822693147\n",
      "[LightGBM] [Warning] min_data_in_leaf is set=18, min_child_samples=20 will be ignored. Current value: min_data_in_leaf=18\n",
      "[LightGBM] [Warning] num_iterations is set=115, num_boost_round=115 will be ignored. Current value: num_iterations=115\n",
      "[LightGBM] [Warning] lambda_l2 is set=0.6557951340757224, reg_lambda=0.0 will be ignored. Current value: lambda_l2=0.6557951340757224\n",
      "[LightGBM] [Warning] feature_fraction is set=0.43892746270409505, colsample_bytree=1.0 will be ignored. Current value: feature_fraction=0.43892746270409505\n",
      "[LightGBM] [Warning] bagging_fraction is set=0.7390419656453591, subsample=1.0 will be ignored. Current value: bagging_fraction=0.7390419656453591\n"
     ]
    },
    {
     "name": "stderr",
     "output_type": "stream",
     "text": [
      "[I 2023-06-06 16:51:50,678] Trial 171 finished with value: 0.6673387096774194 and parameters: {'max_depth': 8, 'num_boost_round': 115, 'min_data_in_leaf': 18, 'n_estimators': 1549, 'num_leaves': 214, 'learning_rate': 0.038237055871133525, 'feature_fraction': 0.43892746270409505, 'bagging_fraction': 0.7390419656453591, 'bagging_freq': 5, 'lambda_l1': 0.3907088822693147, 'lambda_l2': 0.6557951340757224}. Best is trial 26 with value: 0.6733870967741935.\n"
     ]
    },
    {
     "name": "stdout",
     "output_type": "stream",
     "text": [
      "[LightGBM] [Warning] bagging_freq is set=5, subsample_freq=0 will be ignored. Current value: bagging_freq=5\n",
      "[LightGBM] [Warning] lambda_l1 is set=0.4253181070194674, reg_alpha=0.0 will be ignored. Current value: lambda_l1=0.4253181070194674\n",
      "[LightGBM] [Warning] min_data_in_leaf is set=18, min_child_samples=20 will be ignored. Current value: min_data_in_leaf=18\n",
      "[LightGBM] [Warning] num_iterations is set=116, num_boost_round=116 will be ignored. Current value: num_iterations=116\n",
      "[LightGBM] [Warning] lambda_l2 is set=0.7308176258840932, reg_lambda=0.0 will be ignored. Current value: lambda_l2=0.7308176258840932\n",
      "[LightGBM] [Warning] feature_fraction is set=0.48394910425670534, colsample_bytree=1.0 will be ignored. Current value: feature_fraction=0.48394910425670534\n",
      "[LightGBM] [Warning] bagging_fraction is set=0.7994995837526064, subsample=1.0 will be ignored. Current value: bagging_fraction=0.7994995837526064\n"
     ]
    },
    {
     "name": "stderr",
     "output_type": "stream",
     "text": [
      "[I 2023-06-06 16:51:51,702] Trial 172 finished with value: 0.6512096774193549 and parameters: {'max_depth': 8, 'num_boost_round': 116, 'min_data_in_leaf': 18, 'n_estimators': 1523, 'num_leaves': 145, 'learning_rate': 0.039846332481013706, 'feature_fraction': 0.48394910425670534, 'bagging_fraction': 0.7994995837526064, 'bagging_freq': 5, 'lambda_l1': 0.4253181070194674, 'lambda_l2': 0.7308176258840932}. Best is trial 26 with value: 0.6733870967741935.\n"
     ]
    },
    {
     "name": "stdout",
     "output_type": "stream",
     "text": [
      "[LightGBM] [Warning] bagging_freq is set=5, subsample_freq=0 will be ignored. Current value: bagging_freq=5\n",
      "[LightGBM] [Warning] lambda_l1 is set=0.29543119154505154, reg_alpha=0.0 will be ignored. Current value: lambda_l1=0.29543119154505154\n",
      "[LightGBM] [Warning] min_data_in_leaf is set=19, min_child_samples=20 will be ignored. Current value: min_data_in_leaf=19\n",
      "[LightGBM] [Warning] num_iterations is set=103, num_boost_round=103 will be ignored. Current value: num_iterations=103\n",
      "[LightGBM] [Warning] lambda_l2 is set=0.5305825098095568, reg_lambda=0.0 will be ignored. Current value: lambda_l2=0.5305825098095568\n",
      "[LightGBM] [Warning] feature_fraction is set=0.44088223450889985, colsample_bytree=1.0 will be ignored. Current value: feature_fraction=0.44088223450889985\n",
      "[LightGBM] [Warning] bagging_fraction is set=0.7625634817560475, subsample=1.0 will be ignored. Current value: bagging_fraction=0.7625634817560475\n"
     ]
    },
    {
     "name": "stderr",
     "output_type": "stream",
     "text": [
      "[I 2023-06-06 16:51:52,541] Trial 173 finished with value: 0.6612903225806451 and parameters: {'max_depth': 8, 'num_boost_round': 103, 'min_data_in_leaf': 19, 'n_estimators': 958, 'num_leaves': 330, 'learning_rate': 0.034457039391695726, 'feature_fraction': 0.44088223450889985, 'bagging_fraction': 0.7625634817560475, 'bagging_freq': 5, 'lambda_l1': 0.29543119154505154, 'lambda_l2': 0.5305825098095568}. Best is trial 26 with value: 0.6733870967741935.\n"
     ]
    },
    {
     "name": "stdout",
     "output_type": "stream",
     "text": [
      "[LightGBM] [Warning] bagging_freq is set=6, subsample_freq=0 will be ignored. Current value: bagging_freq=6\n",
      "[LightGBM] [Warning] lambda_l1 is set=0.3986366919188831, reg_alpha=0.0 will be ignored. Current value: lambda_l1=0.3986366919188831\n",
      "[LightGBM] [Warning] min_data_in_leaf is set=15, min_child_samples=20 will be ignored. Current value: min_data_in_leaf=15\n",
      "[LightGBM] [Warning] num_iterations is set=110, num_boost_round=110 will be ignored. Current value: num_iterations=110\n",
      "[LightGBM] [Warning] lambda_l2 is set=0.10204872610244085, reg_lambda=0.0 will be ignored. Current value: lambda_l2=0.10204872610244085\n",
      "[LightGBM] [Warning] feature_fraction is set=0.4547973432162437, colsample_bytree=1.0 will be ignored. Current value: feature_fraction=0.4547973432162437\n",
      "[LightGBM] [Warning] bagging_fraction is set=0.7435370185816379, subsample=1.0 will be ignored. Current value: bagging_fraction=0.7435370185816379\n"
     ]
    },
    {
     "name": "stderr",
     "output_type": "stream",
     "text": [
      "[I 2023-06-06 16:51:53,521] Trial 174 finished with value: 0.657258064516129 and parameters: {'max_depth': 8, 'num_boost_round': 110, 'min_data_in_leaf': 15, 'n_estimators': 1843, 'num_leaves': 109, 'learning_rate': 0.033363248955187885, 'feature_fraction': 0.4547973432162437, 'bagging_fraction': 0.7435370185816379, 'bagging_freq': 6, 'lambda_l1': 0.3986366919188831, 'lambda_l2': 0.10204872610244085}. Best is trial 26 with value: 0.6733870967741935.\n"
     ]
    },
    {
     "name": "stdout",
     "output_type": "stream",
     "text": [
      "[LightGBM] [Warning] bagging_freq is set=5, subsample_freq=0 will be ignored. Current value: bagging_freq=5\n",
      "[LightGBM] [Warning] lambda_l1 is set=0.3217836815157257, reg_alpha=0.0 will be ignored. Current value: lambda_l1=0.3217836815157257\n",
      "[LightGBM] [Warning] min_data_in_leaf is set=18, min_child_samples=20 will be ignored. Current value: min_data_in_leaf=18\n",
      "[LightGBM] [Warning] num_iterations is set=121, num_boost_round=121 will be ignored. Current value: num_iterations=121\n",
      "[LightGBM] [Warning] lambda_l2 is set=0.6342700233799403, reg_lambda=0.0 will be ignored. Current value: lambda_l2=0.6342700233799403\n",
      "[LightGBM] [Warning] feature_fraction is set=0.42671618488189755, colsample_bytree=1.0 will be ignored. Current value: feature_fraction=0.42671618488189755\n",
      "[LightGBM] [Warning] bagging_fraction is set=0.7007820230961449, subsample=1.0 will be ignored. Current value: bagging_fraction=0.7007820230961449\n"
     ]
    },
    {
     "name": "stderr",
     "output_type": "stream",
     "text": [
      "[I 2023-06-06 16:51:54,468] Trial 175 finished with value: 0.657258064516129 and parameters: {'max_depth': 8, 'num_boost_round': 121, 'min_data_in_leaf': 18, 'n_estimators': 1626, 'num_leaves': 161, 'learning_rate': 0.029132000956159688, 'feature_fraction': 0.42671618488189755, 'bagging_fraction': 0.7007820230961449, 'bagging_freq': 5, 'lambda_l1': 0.3217836815157257, 'lambda_l2': 0.6342700233799403}. Best is trial 26 with value: 0.6733870967741935.\n"
     ]
    },
    {
     "name": "stdout",
     "output_type": "stream",
     "text": [
      "[LightGBM] [Warning] bagging_freq is set=7, subsample_freq=0 will be ignored. Current value: bagging_freq=7\n",
      "[LightGBM] [Warning] lambda_l1 is set=0.46536928729689087, reg_alpha=0.0 will be ignored. Current value: lambda_l1=0.46536928729689087\n",
      "[LightGBM] [Warning] min_data_in_leaf is set=17, min_child_samples=20 will be ignored. Current value: min_data_in_leaf=17\n",
      "[LightGBM] [Warning] num_iterations is set=118, num_boost_round=118 will be ignored. Current value: num_iterations=118\n",
      "[LightGBM] [Warning] lambda_l2 is set=0.573738155483368, reg_lambda=0.0 will be ignored. Current value: lambda_l2=0.573738155483368\n",
      "[LightGBM] [Warning] feature_fraction is set=0.5147438779302709, colsample_bytree=1.0 will be ignored. Current value: feature_fraction=0.5147438779302709\n",
      "[LightGBM] [Warning] bagging_fraction is set=0.7713867079313547, subsample=1.0 will be ignored. Current value: bagging_fraction=0.7713867079313547\n"
     ]
    },
    {
     "name": "stderr",
     "output_type": "stream",
     "text": [
      "[I 2023-06-06 16:51:55,555] Trial 176 finished with value: 0.6592741935483871 and parameters: {'max_depth': 8, 'num_boost_round': 118, 'min_data_in_leaf': 17, 'n_estimators': 1575, 'num_leaves': 287, 'learning_rate': 0.03755443999129773, 'feature_fraction': 0.5147438779302709, 'bagging_fraction': 0.7713867079313547, 'bagging_freq': 7, 'lambda_l1': 0.46536928729689087, 'lambda_l2': 0.573738155483368}. Best is trial 26 with value: 0.6733870967741935.\n"
     ]
    },
    {
     "name": "stdout",
     "output_type": "stream",
     "text": [
      "[LightGBM] [Warning] bagging_freq is set=4, subsample_freq=0 will be ignored. Current value: bagging_freq=4\n",
      "[LightGBM] [Warning] lambda_l1 is set=0.3569358024964819, reg_alpha=0.0 will be ignored. Current value: lambda_l1=0.3569358024964819\n",
      "[LightGBM] [Warning] min_data_in_leaf is set=18, min_child_samples=20 will be ignored. Current value: min_data_in_leaf=18\n",
      "[LightGBM] [Warning] num_iterations is set=129, num_boost_round=129 will be ignored. Current value: num_iterations=129\n",
      "[LightGBM] [Warning] lambda_l2 is set=0.46884521481733354, reg_lambda=0.0 will be ignored. Current value: lambda_l2=0.46884521481733354\n",
      "[LightGBM] [Warning] feature_fraction is set=0.5724701293831704, colsample_bytree=1.0 will be ignored. Current value: feature_fraction=0.5724701293831704\n",
      "[LightGBM] [Warning] bagging_fraction is set=0.6523045982970127, subsample=1.0 will be ignored. Current value: bagging_fraction=0.6523045982970127\n"
     ]
    },
    {
     "name": "stderr",
     "output_type": "stream",
     "text": [
      "[I 2023-06-06 16:51:56,632] Trial 177 finished with value: 0.6653225806451613 and parameters: {'max_depth': 8, 'num_boost_round': 129, 'min_data_in_leaf': 18, 'n_estimators': 1475, 'num_leaves': 362, 'learning_rate': 0.035482141933129686, 'feature_fraction': 0.5724701293831704, 'bagging_fraction': 0.6523045982970127, 'bagging_freq': 4, 'lambda_l1': 0.3569358024964819, 'lambda_l2': 0.46884521481733354}. Best is trial 26 with value: 0.6733870967741935.\n"
     ]
    },
    {
     "name": "stdout",
     "output_type": "stream",
     "text": [
      "[LightGBM] [Warning] bagging_freq is set=4, subsample_freq=0 will be ignored. Current value: bagging_freq=4\n",
      "[LightGBM] [Warning] lambda_l1 is set=0.5167114541563956, reg_alpha=0.0 will be ignored. Current value: lambda_l1=0.5167114541563956\n",
      "[LightGBM] [Warning] min_data_in_leaf is set=20, min_child_samples=20 will be ignored. Current value: min_data_in_leaf=20\n",
      "[LightGBM] [Warning] num_iterations is set=108, num_boost_round=108 will be ignored. Current value: num_iterations=108\n",
      "[LightGBM] [Warning] lambda_l2 is set=0.7886520133549564, reg_lambda=0.0 will be ignored. Current value: lambda_l2=0.7886520133549564\n",
      "[LightGBM] [Warning] feature_fraction is set=0.4768861284933409, colsample_bytree=1.0 will be ignored. Current value: feature_fraction=0.4768861284933409\n",
      "[LightGBM] [Warning] bagging_fraction is set=0.7274159734706283, subsample=1.0 will be ignored. Current value: bagging_fraction=0.7274159734706283\n"
     ]
    },
    {
     "name": "stderr",
     "output_type": "stream",
     "text": [
      "[I 2023-06-06 16:51:57,482] Trial 178 finished with value: 0.6592741935483871 and parameters: {'max_depth': 8, 'num_boost_round': 108, 'min_data_in_leaf': 20, 'n_estimators': 1703, 'num_leaves': 228, 'learning_rate': 0.0434583222317737, 'feature_fraction': 0.4768861284933409, 'bagging_fraction': 0.7274159734706283, 'bagging_freq': 4, 'lambda_l1': 0.5167114541563956, 'lambda_l2': 0.7886520133549564}. Best is trial 26 with value: 0.6733870967741935.\n"
     ]
    },
    {
     "name": "stdout",
     "output_type": "stream",
     "text": [
      "[LightGBM] [Warning] bagging_freq is set=1, subsample_freq=0 will be ignored. Current value: bagging_freq=1\n",
      "[LightGBM] [Warning] lambda_l1 is set=0.25830195190711475, reg_alpha=0.0 will be ignored. Current value: lambda_l1=0.25830195190711475\n",
      "[LightGBM] [Warning] min_data_in_leaf is set=19, min_child_samples=20 will be ignored. Current value: min_data_in_leaf=19\n",
      "[LightGBM] [Warning] num_iterations is set=114, num_boost_round=114 will be ignored. Current value: num_iterations=114\n",
      "[LightGBM] [Warning] lambda_l2 is set=0.35039903223890473, reg_lambda=0.0 will be ignored. Current value: lambda_l2=0.35039903223890473\n",
      "[LightGBM] [Warning] feature_fraction is set=0.5469834468608893, colsample_bytree=1.0 will be ignored. Current value: feature_fraction=0.5469834468608893\n",
      "[LightGBM] [Warning] bagging_fraction is set=0.7830738125788341, subsample=1.0 will be ignored. Current value: bagging_fraction=0.7830738125788341\n"
     ]
    },
    {
     "name": "stderr",
     "output_type": "stream",
     "text": [
      "[I 2023-06-06 16:51:58,376] Trial 179 finished with value: 0.6612903225806451 and parameters: {'max_depth': 7, 'num_boost_round': 114, 'min_data_in_leaf': 19, 'n_estimators': 1915, 'num_leaves': 770, 'learning_rate': 0.026062124588730643, 'feature_fraction': 0.5469834468608893, 'bagging_fraction': 0.7830738125788341, 'bagging_freq': 1, 'lambda_l1': 0.25830195190711475, 'lambda_l2': 0.35039903223890473}. Best is trial 26 with value: 0.6733870967741935.\n"
     ]
    },
    {
     "name": "stdout",
     "output_type": "stream",
     "text": [
      "[LightGBM] [Warning] bagging_freq is set=5, subsample_freq=0 will be ignored. Current value: bagging_freq=5\n",
      "[LightGBM] [Warning] lambda_l1 is set=0.5905334252345472, reg_alpha=0.0 will be ignored. Current value: lambda_l1=0.5905334252345472\n",
      "[LightGBM] [Warning] min_data_in_leaf is set=18, min_child_samples=20 will be ignored. Current value: min_data_in_leaf=18\n",
      "[LightGBM] [Warning] num_iterations is set=148, num_boost_round=148 will be ignored. Current value: num_iterations=148\n",
      "[LightGBM] [Warning] lambda_l2 is set=0.38696911594711475, reg_lambda=0.0 will be ignored. Current value: lambda_l2=0.38696911594711475\n",
      "[LightGBM] [Warning] feature_fraction is set=0.6008340480308103, colsample_bytree=1.0 will be ignored. Current value: feature_fraction=0.6008340480308103\n",
      "[LightGBM] [Warning] bagging_fraction is set=0.7529774007459098, subsample=1.0 will be ignored. Current value: bagging_fraction=0.7529774007459098\n"
     ]
    },
    {
     "name": "stderr",
     "output_type": "stream",
     "text": [
      "[I 2023-06-06 16:51:59,736] Trial 180 finished with value: 0.6612903225806451 and parameters: {'max_depth': 8, 'num_boost_round': 148, 'min_data_in_leaf': 18, 'n_estimators': 1557, 'num_leaves': 1349, 'learning_rate': 0.03124230397590968, 'feature_fraction': 0.6008340480308103, 'bagging_fraction': 0.7529774007459098, 'bagging_freq': 5, 'lambda_l1': 0.5905334252345472, 'lambda_l2': 0.38696911594711475}. Best is trial 26 with value: 0.6733870967741935.\n"
     ]
    },
    {
     "name": "stdout",
     "output_type": "stream",
     "text": [
      "[LightGBM] [Warning] bagging_freq is set=6, subsample_freq=0 will be ignored. Current value: bagging_freq=6\n",
      "[LightGBM] [Warning] lambda_l1 is set=0.7261787446240704, reg_alpha=0.0 will be ignored. Current value: lambda_l1=0.7261787446240704\n",
      "[LightGBM] [Warning] min_data_in_leaf is set=16, min_child_samples=20 will be ignored. Current value: min_data_in_leaf=16\n",
      "[LightGBM] [Warning] num_iterations is set=104, num_boost_round=104 will be ignored. Current value: num_iterations=104\n",
      "[LightGBM] [Warning] lambda_l2 is set=0.94340162909696, reg_lambda=0.0 will be ignored. Current value: lambda_l2=0.94340162909696\n",
      "[LightGBM] [Warning] feature_fraction is set=0.5240230640737781, colsample_bytree=1.0 will be ignored. Current value: feature_fraction=0.5240230640737781\n",
      "[LightGBM] [Warning] bagging_fraction is set=0.7638331003581545, subsample=1.0 will be ignored. Current value: bagging_fraction=0.7638331003581545\n"
     ]
    },
    {
     "name": "stderr",
     "output_type": "stream",
     "text": [
      "[I 2023-06-06 16:52:00,645] Trial 181 finished with value: 0.6633064516129032 and parameters: {'max_depth': 8, 'num_boost_round': 104, 'min_data_in_leaf': 16, 'n_estimators': 1444, 'num_leaves': 118, 'learning_rate': 0.03301069292336156, 'feature_fraction': 0.5240230640737781, 'bagging_fraction': 0.7638331003581545, 'bagging_freq': 6, 'lambda_l1': 0.7261787446240704, 'lambda_l2': 0.94340162909696}. Best is trial 26 with value: 0.6733870967741935.\n"
     ]
    },
    {
     "name": "stdout",
     "output_type": "stream",
     "text": [
      "[LightGBM] [Warning] bagging_freq is set=6, subsample_freq=0 will be ignored. Current value: bagging_freq=6\n",
      "[LightGBM] [Warning] lambda_l1 is set=0.61006992231172, reg_alpha=0.0 will be ignored. Current value: lambda_l1=0.61006992231172\n",
      "[LightGBM] [Warning] min_data_in_leaf is set=16, min_child_samples=20 will be ignored. Current value: min_data_in_leaf=16\n",
      "[LightGBM] [Warning] num_iterations is set=110, num_boost_round=110 will be ignored. Current value: num_iterations=110\n",
      "[LightGBM] [Warning] lambda_l2 is set=0.8283029480075106, reg_lambda=0.0 will be ignored. Current value: lambda_l2=0.8283029480075106\n",
      "[LightGBM] [Warning] feature_fraction is set=0.5000604551890262, colsample_bytree=1.0 will be ignored. Current value: feature_fraction=0.5000604551890262\n",
      "[LightGBM] [Warning] bagging_fraction is set=0.7874440089441391, subsample=1.0 will be ignored. Current value: bagging_fraction=0.7874440089441391\n"
     ]
    },
    {
     "name": "stderr",
     "output_type": "stream",
     "text": [
      "[I 2023-06-06 16:52:01,676] Trial 182 finished with value: 0.6633064516129032 and parameters: {'max_depth': 8, 'num_boost_round': 110, 'min_data_in_leaf': 16, 'n_estimators': 1489, 'num_leaves': 179, 'learning_rate': 0.029931313800353708, 'feature_fraction': 0.5000604551890262, 'bagging_fraction': 0.7874440089441391, 'bagging_freq': 6, 'lambda_l1': 0.61006992231172, 'lambda_l2': 0.8283029480075106}. Best is trial 26 with value: 0.6733870967741935.\n"
     ]
    },
    {
     "name": "stdout",
     "output_type": "stream",
     "text": [
      "[LightGBM] [Warning] bagging_freq is set=6, subsample_freq=0 will be ignored. Current value: bagging_freq=6\n",
      "[LightGBM] [Warning] lambda_l1 is set=0.4367218008397926, reg_alpha=0.0 will be ignored. Current value: lambda_l1=0.4367218008397926\n",
      "[LightGBM] [Warning] min_data_in_leaf is set=16, min_child_samples=20 will be ignored. Current value: min_data_in_leaf=16\n",
      "[LightGBM] [Warning] num_iterations is set=104, num_boost_round=104 will be ignored. Current value: num_iterations=104\n",
      "[LightGBM] [Warning] lambda_l2 is set=0.6963033903253446, reg_lambda=0.0 will be ignored. Current value: lambda_l2=0.6963033903253446\n",
      "[LightGBM] [Warning] feature_fraction is set=0.5239988204625586, colsample_bytree=1.0 will be ignored. Current value: feature_fraction=0.5239988204625586\n",
      "[LightGBM] [Warning] bagging_fraction is set=0.7379543664828284, subsample=1.0 will be ignored. Current value: bagging_fraction=0.7379543664828284\n"
     ]
    },
    {
     "name": "stderr",
     "output_type": "stream",
     "text": [
      "[I 2023-06-06 16:52:02,639] Trial 183 finished with value: 0.6612903225806451 and parameters: {'max_depth': 8, 'num_boost_round': 104, 'min_data_in_leaf': 16, 'n_estimators': 1414, 'num_leaves': 73, 'learning_rate': 0.03201704970578044, 'feature_fraction': 0.5239988204625586, 'bagging_fraction': 0.7379543664828284, 'bagging_freq': 6, 'lambda_l1': 0.4367218008397926, 'lambda_l2': 0.6963033903253446}. Best is trial 26 with value: 0.6733870967741935.\n"
     ]
    },
    {
     "name": "stdout",
     "output_type": "stream",
     "text": [
      "[LightGBM] [Warning] bagging_freq is set=7, subsample_freq=0 will be ignored. Current value: bagging_freq=7\n",
      "[LightGBM] [Warning] lambda_l1 is set=0.5552122045984202, reg_alpha=0.0 will be ignored. Current value: lambda_l1=0.5552122045984202\n",
      "[LightGBM] [Warning] min_data_in_leaf is set=17, min_child_samples=20 will be ignored. Current value: min_data_in_leaf=17\n",
      "[LightGBM] [Warning] num_iterations is set=114, num_boost_round=114 will be ignored. Current value: num_iterations=114\n",
      "[LightGBM] [Warning] lambda_l2 is set=0.7582915375872328, reg_lambda=0.0 will be ignored. Current value: lambda_l2=0.7582915375872328\n",
      "[LightGBM] [Warning] feature_fraction is set=0.5436242660745376, colsample_bytree=1.0 will be ignored. Current value: feature_fraction=0.5436242660745376\n",
      "[LightGBM] [Warning] bagging_fraction is set=0.7637944575595453, subsample=1.0 will be ignored. Current value: bagging_fraction=0.7637944575595453\n"
     ]
    },
    {
     "name": "stderr",
     "output_type": "stream",
     "text": [
      "[I 2023-06-06 16:52:03,399] Trial 184 finished with value: 0.6653225806451613 and parameters: {'max_depth': 6, 'num_boost_round': 114, 'min_data_in_leaf': 17, 'n_estimators': 1609, 'num_leaves': 144, 'learning_rate': 0.027480786308300337, 'feature_fraction': 0.5436242660745376, 'bagging_fraction': 0.7637944575595453, 'bagging_freq': 7, 'lambda_l1': 0.5552122045984202, 'lambda_l2': 0.7582915375872328}. Best is trial 26 with value: 0.6733870967741935.\n"
     ]
    },
    {
     "name": "stdout",
     "output_type": "stream",
     "text": [
      "[LightGBM] [Warning] bagging_freq is set=6, subsample_freq=0 will be ignored. Current value: bagging_freq=6\n",
      "[LightGBM] [Warning] lambda_l1 is set=0.3837922713410164, reg_alpha=0.0 will be ignored. Current value: lambda_l1=0.3837922713410164\n",
      "[LightGBM] [Warning] min_data_in_leaf is set=12, min_child_samples=20 will be ignored. Current value: min_data_in_leaf=12\n",
      "[LightGBM] [Warning] num_iterations is set=106, num_boost_round=106 will be ignored. Current value: num_iterations=106\n",
      "[LightGBM] [Warning] lambda_l2 is set=0.8600358608377361, reg_lambda=0.0 will be ignored. Current value: lambda_l2=0.8600358608377361\n",
      "[LightGBM] [Warning] feature_fraction is set=0.4874930177603096, colsample_bytree=1.0 will be ignored. Current value: feature_fraction=0.4874930177603096\n",
      "[LightGBM] [Warning] bagging_fraction is set=0.7499961970719731, subsample=1.0 will be ignored. Current value: bagging_fraction=0.7499961970719731\n"
     ]
    },
    {
     "name": "stderr",
     "output_type": "stream",
     "text": [
      "[I 2023-06-06 16:52:04,464] Trial 185 finished with value: 0.6733870967741935 and parameters: {'max_depth': 8, 'num_boost_round': 106, 'min_data_in_leaf': 12, 'n_estimators': 1668, 'num_leaves': 1615, 'learning_rate': 0.03455567696888542, 'feature_fraction': 0.4874930177603096, 'bagging_fraction': 0.7499961970719731, 'bagging_freq': 6, 'lambda_l1': 0.3837922713410164, 'lambda_l2': 0.8600358608377361}. Best is trial 26 with value: 0.6733870967741935.\n"
     ]
    },
    {
     "name": "stdout",
     "output_type": "stream",
     "text": [
      "[LightGBM] [Warning] bagging_freq is set=5, subsample_freq=0 will be ignored. Current value: bagging_freq=5\n",
      "[LightGBM] [Warning] lambda_l1 is set=0.38483205146254634, reg_alpha=0.0 will be ignored. Current value: lambda_l1=0.38483205146254634\n",
      "[LightGBM] [Warning] min_data_in_leaf is set=12, min_child_samples=20 will be ignored. Current value: min_data_in_leaf=12\n",
      "[LightGBM] [Warning] num_iterations is set=125, num_boost_round=125 will be ignored. Current value: num_iterations=125\n",
      "[LightGBM] [Warning] lambda_l2 is set=0.8473881406281699, reg_lambda=0.0 will be ignored. Current value: lambda_l2=0.8473881406281699\n",
      "[LightGBM] [Warning] feature_fraction is set=0.457963776923166, colsample_bytree=1.0 will be ignored. Current value: feature_fraction=0.457963776923166\n",
      "[LightGBM] [Warning] bagging_fraction is set=0.712422209370163, subsample=1.0 will be ignored. Current value: bagging_fraction=0.712422209370163\n"
     ]
    },
    {
     "name": "stderr",
     "output_type": "stream",
     "text": [
      "[I 2023-06-06 16:52:05,678] Trial 186 finished with value: 0.6653225806451613 and parameters: {'max_depth': 8, 'num_boost_round': 125, 'min_data_in_leaf': 12, 'n_estimators': 1652, 'num_leaves': 1766, 'learning_rate': 0.03606915670334146, 'feature_fraction': 0.457963776923166, 'bagging_fraction': 0.712422209370163, 'bagging_freq': 5, 'lambda_l1': 0.38483205146254634, 'lambda_l2': 0.8473881406281699}. Best is trial 26 with value: 0.6733870967741935.\n"
     ]
    },
    {
     "name": "stdout",
     "output_type": "stream",
     "text": [
      "[LightGBM] [Warning] bagging_freq is set=6, subsample_freq=0 will be ignored. Current value: bagging_freq=6\n",
      "[LightGBM] [Warning] lambda_l1 is set=0.345331621353661, reg_alpha=0.0 will be ignored. Current value: lambda_l1=0.345331621353661\n",
      "[LightGBM] [Warning] min_data_in_leaf is set=12, min_child_samples=20 will be ignored. Current value: min_data_in_leaf=12\n",
      "[LightGBM] [Warning] num_iterations is set=137, num_boost_round=137 will be ignored. Current value: num_iterations=137\n",
      "[LightGBM] [Warning] lambda_l2 is set=0.5236655534381246, reg_lambda=0.0 will be ignored. Current value: lambda_l2=0.5236655534381246\n",
      "[LightGBM] [Warning] feature_fraction is set=0.48319479328065024, colsample_bytree=1.0 will be ignored. Current value: feature_fraction=0.48319479328065024\n",
      "[LightGBM] [Warning] bagging_fraction is set=0.7469116791459237, subsample=1.0 will be ignored. Current value: bagging_fraction=0.7469116791459237\n"
     ]
    },
    {
     "name": "stderr",
     "output_type": "stream",
     "text": [
      "[I 2023-06-06 16:52:07,091] Trial 187 finished with value: 0.6612903225806451 and parameters: {'max_depth': 8, 'num_boost_round': 137, 'min_data_in_leaf': 12, 'n_estimators': 1669, 'num_leaves': 1712, 'learning_rate': 0.022554252575307396, 'feature_fraction': 0.48319479328065024, 'bagging_fraction': 0.7469116791459237, 'bagging_freq': 6, 'lambda_l1': 0.345331621353661, 'lambda_l2': 0.5236655534381246}. Best is trial 26 with value: 0.6733870967741935.\n"
     ]
    },
    {
     "name": "stdout",
     "output_type": "stream",
     "text": [
      "[LightGBM] [Warning] bagging_freq is set=5, subsample_freq=0 will be ignored. Current value: bagging_freq=5\n",
      "[LightGBM] [Warning] lambda_l1 is set=0.31553400582674, reg_alpha=0.0 will be ignored. Current value: lambda_l1=0.31553400582674\n",
      "[LightGBM] [Warning] min_data_in_leaf is set=12, min_child_samples=20 will be ignored. Current value: min_data_in_leaf=12\n",
      "[LightGBM] [Warning] num_iterations is set=119, num_boost_round=119 will be ignored. Current value: num_iterations=119\n",
      "[LightGBM] [Warning] lambda_l2 is set=0.9807936964311881, reg_lambda=0.0 will be ignored. Current value: lambda_l2=0.9807936964311881\n",
      "[LightGBM] [Warning] feature_fraction is set=0.4702703807978926, colsample_bytree=1.0 will be ignored. Current value: feature_fraction=0.4702703807978926\n",
      "[LightGBM] [Warning] bagging_fraction is set=0.7252955149288498, subsample=1.0 will be ignored. Current value: bagging_fraction=0.7252955149288498\n"
     ]
    },
    {
     "name": "stderr",
     "output_type": "stream",
     "text": [
      "[I 2023-06-06 16:52:08,246] Trial 188 finished with value: 0.6653225806451613 and parameters: {'max_depth': 8, 'num_boost_round': 119, 'min_data_in_leaf': 12, 'n_estimators': 1770, 'num_leaves': 1632, 'learning_rate': 0.03474566705693279, 'feature_fraction': 0.4702703807978926, 'bagging_fraction': 0.7252955149288498, 'bagging_freq': 5, 'lambda_l1': 0.31553400582674, 'lambda_l2': 0.9807936964311881}. Best is trial 26 with value: 0.6733870967741935.\n"
     ]
    },
    {
     "name": "stdout",
     "output_type": "stream",
     "text": [
      "[LightGBM] [Warning] bagging_freq is set=4, subsample_freq=0 will be ignored. Current value: bagging_freq=4\n",
      "[LightGBM] [Warning] lambda_l1 is set=0.38434299553252144, reg_alpha=0.0 will be ignored. Current value: lambda_l1=0.38434299553252144\n",
      "[LightGBM] [Warning] min_data_in_leaf is set=12, min_child_samples=20 will be ignored. Current value: min_data_in_leaf=12\n",
      "[LightGBM] [Warning] num_iterations is set=107, num_boost_round=107 will be ignored. Current value: num_iterations=107\n",
      "[LightGBM] [Warning] lambda_l2 is set=0.6024307309644154, reg_lambda=0.0 will be ignored. Current value: lambda_l2=0.6024307309644154\n",
      "[LightGBM] [Warning] feature_fraction is set=0.5078467603455191, colsample_bytree=1.0 will be ignored. Current value: feature_fraction=0.5078467603455191\n",
      "[LightGBM] [Warning] bagging_fraction is set=0.7997560183220775, subsample=1.0 will be ignored. Current value: bagging_fraction=0.7997560183220775\n"
     ]
    },
    {
     "name": "stderr",
     "output_type": "stream",
     "text": [
      "[I 2023-06-06 16:52:09,363] Trial 189 finished with value: 0.6633064516129032 and parameters: {'max_depth': 8, 'num_boost_round': 107, 'min_data_in_leaf': 12, 'n_estimators': 919, 'num_leaves': 247, 'learning_rate': 0.03952873845618317, 'feature_fraction': 0.5078467603455191, 'bagging_fraction': 0.7997560183220775, 'bagging_freq': 4, 'lambda_l1': 0.38434299553252144, 'lambda_l2': 0.6024307309644154}. Best is trial 26 with value: 0.6733870967741935.\n"
     ]
    },
    {
     "name": "stdout",
     "output_type": "stream",
     "text": [
      "[LightGBM] [Warning] bagging_freq is set=3, subsample_freq=0 will be ignored. Current value: bagging_freq=3\n",
      "[LightGBM] [Warning] lambda_l1 is set=0.4753128606999921, reg_alpha=0.0 will be ignored. Current value: lambda_l1=0.4753128606999921\n",
      "[LightGBM] [Warning] min_data_in_leaf is set=11, min_child_samples=20 will be ignored. Current value: min_data_in_leaf=11\n",
      "[LightGBM] [Warning] num_iterations is set=101, num_boost_round=101 will be ignored. Current value: num_iterations=101\n",
      "[LightGBM] [Warning] lambda_l2 is set=0.709568559460302, reg_lambda=0.0 will be ignored. Current value: lambda_l2=0.709568559460302\n",
      "[LightGBM] [Warning] feature_fraction is set=0.48952442974124466, colsample_bytree=1.0 will be ignored. Current value: feature_fraction=0.48952442974124466\n",
      "[LightGBM] [Warning] bagging_fraction is set=0.7755571925572228, subsample=1.0 will be ignored. Current value: bagging_fraction=0.7755571925572228\n"
     ]
    },
    {
     "name": "stderr",
     "output_type": "stream",
     "text": [
      "[I 2023-06-06 16:52:10,414] Trial 190 finished with value: 0.657258064516129 and parameters: {'max_depth': 8, 'num_boost_round': 101, 'min_data_in_leaf': 11, 'n_estimators': 60, 'num_leaves': 978, 'learning_rate': 0.02016610387631548, 'feature_fraction': 0.48952442974124466, 'bagging_fraction': 0.7755571925572228, 'bagging_freq': 3, 'lambda_l1': 0.4753128606999921, 'lambda_l2': 0.709568559460302}. Best is trial 26 with value: 0.6733870967741935.\n"
     ]
    },
    {
     "name": "stdout",
     "output_type": "stream",
     "text": [
      "[LightGBM] [Warning] bagging_freq is set=6, subsample_freq=0 will be ignored. Current value: bagging_freq=6\n",
      "[LightGBM] [Warning] lambda_l1 is set=0.5079887101326188, reg_alpha=0.0 will be ignored. Current value: lambda_l1=0.5079887101326188\n",
      "[LightGBM] [Warning] min_data_in_leaf is set=14, min_child_samples=20 will be ignored. Current value: min_data_in_leaf=14\n",
      "[LightGBM] [Warning] num_iterations is set=111, num_boost_round=111 will be ignored. Current value: num_iterations=111\n",
      "[LightGBM] [Warning] lambda_l2 is set=0.8580414141065235, reg_lambda=0.0 will be ignored. Current value: lambda_l2=0.8580414141065235\n",
      "[LightGBM] [Warning] feature_fraction is set=0.5298128446396299, colsample_bytree=1.0 will be ignored. Current value: feature_fraction=0.5298128446396299\n",
      "[LightGBM] [Warning] bagging_fraction is set=0.7555773619660509, subsample=1.0 will be ignored. Current value: bagging_fraction=0.7555773619660509\n"
     ]
    },
    {
     "name": "stderr",
     "output_type": "stream",
     "text": [
      "[I 2023-06-06 16:52:11,547] Trial 191 finished with value: 0.6612903225806451 and parameters: {'max_depth': 8, 'num_boost_round': 111, 'min_data_in_leaf': 14, 'n_estimators': 1538, 'num_leaves': 209, 'learning_rate': 0.03223049775123746, 'feature_fraction': 0.5298128446396299, 'bagging_fraction': 0.7555773619660509, 'bagging_freq': 6, 'lambda_l1': 0.5079887101326188, 'lambda_l2': 0.8580414141065235}. Best is trial 26 with value: 0.6733870967741935.\n"
     ]
    },
    {
     "name": "stdout",
     "output_type": "stream",
     "text": [
      "[LightGBM] [Warning] bagging_freq is set=6, subsample_freq=0 will be ignored. Current value: bagging_freq=6\n",
      "[LightGBM] [Warning] lambda_l1 is set=0.20163238731026148, reg_alpha=0.0 will be ignored. Current value: lambda_l1=0.20163238731026148\n",
      "[LightGBM] [Warning] min_data_in_leaf is set=17, min_child_samples=20 will be ignored. Current value: min_data_in_leaf=17\n",
      "[LightGBM] [Warning] num_iterations is set=108, num_boost_round=108 will be ignored. Current value: num_iterations=108\n",
      "[LightGBM] [Warning] lambda_l2 is set=0.7728975065826622, reg_lambda=0.0 will be ignored. Current value: lambda_l2=0.7728975065826622\n",
      "[LightGBM] [Warning] feature_fraction is set=0.5574476667747004, colsample_bytree=1.0 will be ignored. Current value: feature_fraction=0.5574476667747004\n",
      "[LightGBM] [Warning] bagging_fraction is set=0.7678687355008619, subsample=1.0 will be ignored. Current value: bagging_fraction=0.7678687355008619\n"
     ]
    },
    {
     "name": "stderr",
     "output_type": "stream",
     "text": [
      "[I 2023-06-06 16:52:12,588] Trial 192 finished with value: 0.6633064516129032 and parameters: {'max_depth': 8, 'num_boost_round': 108, 'min_data_in_leaf': 17, 'n_estimators': 1598, 'num_leaves': 1874, 'learning_rate': 0.030277145874366522, 'feature_fraction': 0.5574476667747004, 'bagging_fraction': 0.7678687355008619, 'bagging_freq': 6, 'lambda_l1': 0.20163238731026148, 'lambda_l2': 0.7728975065826622}. Best is trial 26 with value: 0.6733870967741935.\n"
     ]
    },
    {
     "name": "stdout",
     "output_type": "stream",
     "text": [
      "[LightGBM] [Warning] bagging_freq is set=6, subsample_freq=0 will be ignored. Current value: bagging_freq=6\n",
      "[LightGBM] [Warning] lambda_l1 is set=0.4285393718185312, reg_alpha=0.0 will be ignored. Current value: lambda_l1=0.4285393718185312\n",
      "[LightGBM] [Warning] min_data_in_leaf is set=13, min_child_samples=20 will be ignored. Current value: min_data_in_leaf=13\n",
      "[LightGBM] [Warning] num_iterations is set=104, num_boost_round=104 will be ignored. Current value: num_iterations=104\n",
      "[LightGBM] [Warning] lambda_l2 is set=0.6586007459090959, reg_lambda=0.0 will be ignored. Current value: lambda_l2=0.6586007459090959\n",
      "[LightGBM] [Warning] feature_fraction is set=0.5020953173526242, colsample_bytree=1.0 will be ignored. Current value: feature_fraction=0.5020953173526242\n",
      "[LightGBM] [Warning] bagging_fraction is set=0.6725384746292272, subsample=1.0 will be ignored. Current value: bagging_fraction=0.6725384746292272\n"
     ]
    },
    {
     "name": "stderr",
     "output_type": "stream",
     "text": [
      "[I 2023-06-06 16:52:13,544] Trial 193 finished with value: 0.6592741935483871 and parameters: {'max_depth': 8, 'num_boost_round': 104, 'min_data_in_leaf': 13, 'n_estimators': 1517, 'num_leaves': 111, 'learning_rate': 0.03354053625743268, 'feature_fraction': 0.5020953173526242, 'bagging_fraction': 0.6725384746292272, 'bagging_freq': 6, 'lambda_l1': 0.4285393718185312, 'lambda_l2': 0.6586007459090959}. Best is trial 26 with value: 0.6733870967741935.\n"
     ]
    },
    {
     "name": "stdout",
     "output_type": "stream",
     "text": [
      "[LightGBM] [Warning] bagging_freq is set=6, subsample_freq=0 will be ignored. Current value: bagging_freq=6\n",
      "[LightGBM] [Warning] lambda_l1 is set=0.6587425304170854, reg_alpha=0.0 will be ignored. Current value: lambda_l1=0.6587425304170854\n",
      "[LightGBM] [Warning] min_data_in_leaf is set=18, min_child_samples=20 will be ignored. Current value: min_data_in_leaf=18\n",
      "[LightGBM] [Warning] num_iterations is set=116, num_boost_round=116 will be ignored. Current value: num_iterations=116\n",
      "[LightGBM] [Warning] lambda_l2 is set=0.28591594314323365, reg_lambda=0.0 will be ignored. Current value: lambda_l2=0.28591594314323365\n",
      "[LightGBM] [Warning] feature_fraction is set=0.4417649760630067, colsample_bytree=1.0 will be ignored. Current value: feature_fraction=0.4417649760630067\n",
      "[LightGBM] [Warning] bagging_fraction is set=0.568319656561379, subsample=1.0 will be ignored. Current value: bagging_fraction=0.568319656561379\n"
     ]
    },
    {
     "name": "stderr",
     "output_type": "stream",
     "text": [
      "[I 2023-06-06 16:52:14,377] Trial 194 finished with value: 0.6612903225806451 and parameters: {'max_depth': 8, 'num_boost_round': 116, 'min_data_in_leaf': 18, 'n_estimators': 1730, 'num_leaves': 175, 'learning_rate': 0.037034285720614256, 'feature_fraction': 0.4417649760630067, 'bagging_fraction': 0.568319656561379, 'bagging_freq': 6, 'lambda_l1': 0.6587425304170854, 'lambda_l2': 0.28591594314323365}. Best is trial 26 with value: 0.6733870967741935.\n"
     ]
    },
    {
     "name": "stdout",
     "output_type": "stream",
     "text": [
      "[LightGBM] [Warning] bagging_freq is set=7, subsample_freq=0 will be ignored. Current value: bagging_freq=7\n",
      "[LightGBM] [Warning] lambda_l1 is set=0.28983936868692883, reg_alpha=0.0 will be ignored. Current value: lambda_l1=0.28983936868692883\n",
      "[LightGBM] [Warning] min_data_in_leaf is set=16, min_child_samples=20 will be ignored. Current value: min_data_in_leaf=16\n",
      "[LightGBM] [Warning] num_iterations is set=143, num_boost_round=143 will be ignored. Current value: num_iterations=143\n",
      "[LightGBM] [Warning] lambda_l2 is set=0.87869711033652, reg_lambda=0.0 will be ignored. Current value: lambda_l2=0.87869711033652\n",
      "[LightGBM] [Warning] feature_fraction is set=0.6538093965495079, colsample_bytree=1.0 will be ignored. Current value: feature_fraction=0.6538093965495079\n",
      "[LightGBM] [Warning] bagging_fraction is set=0.7359815857629095, subsample=1.0 will be ignored. Current value: bagging_fraction=0.7359815857629095\n"
     ]
    },
    {
     "name": "stderr",
     "output_type": "stream",
     "text": [
      "[I 2023-06-06 16:52:15,865] Trial 195 finished with value: 0.6673387096774194 and parameters: {'max_depth': 8, 'num_boost_round': 143, 'min_data_in_leaf': 16, 'n_estimators': 1461, 'num_leaves': 1568, 'learning_rate': 0.028238571775847626, 'feature_fraction': 0.6538093965495079, 'bagging_fraction': 0.7359815857629095, 'bagging_freq': 7, 'lambda_l1': 0.28983936868692883, 'lambda_l2': 0.87869711033652}. Best is trial 26 with value: 0.6733870967741935.\n"
     ]
    },
    {
     "name": "stdout",
     "output_type": "stream",
     "text": [
      "[LightGBM] [Warning] bagging_freq is set=5, subsample_freq=0 will be ignored. Current value: bagging_freq=5\n",
      "[LightGBM] [Warning] lambda_l1 is set=0.5596159033905974, reg_alpha=0.0 will be ignored. Current value: lambda_l1=0.5596159033905974\n",
      "[LightGBM] [Warning] min_data_in_leaf is set=15, min_child_samples=20 will be ignored. Current value: min_data_in_leaf=15\n",
      "[LightGBM] [Warning] num_iterations is set=111, num_boost_round=111 will be ignored. Current value: num_iterations=111\n",
      "[LightGBM] [Warning] lambda_l2 is set=0.23731979767889114, reg_lambda=0.0 will be ignored. Current value: lambda_l2=0.23731979767889114\n",
      "[LightGBM] [Warning] feature_fraction is set=0.5132331934324816, colsample_bytree=1.0 will be ignored. Current value: feature_fraction=0.5132331934324816\n",
      "[LightGBM] [Warning] bagging_fraction is set=0.7829572389087535, subsample=1.0 will be ignored. Current value: bagging_fraction=0.7829572389087535\n"
     ]
    },
    {
     "name": "stderr",
     "output_type": "stream",
     "text": [
      "[I 2023-06-06 16:52:16,739] Trial 196 finished with value: 0.6612903225806451 and parameters: {'max_depth': 8, 'num_boost_round': 111, 'min_data_in_leaf': 15, 'n_estimators': 1017, 'num_leaves': 30, 'learning_rate': 0.02503493531769049, 'feature_fraction': 0.5132331934324816, 'bagging_fraction': 0.7829572389087535, 'bagging_freq': 5, 'lambda_l1': 0.5596159033905974, 'lambda_l2': 0.23731979767889114}. Best is trial 26 with value: 0.6733870967741935.\n"
     ]
    },
    {
     "name": "stdout",
     "output_type": "stream",
     "text": [
      "[LightGBM] [Warning] bagging_freq is set=6, subsample_freq=0 will be ignored. Current value: bagging_freq=6\n",
      "[LightGBM] [Warning] lambda_l1 is set=0.3571118760520755, reg_alpha=0.0 will be ignored. Current value: lambda_l1=0.3571118760520755\n",
      "[LightGBM] [Warning] min_data_in_leaf is set=18, min_child_samples=20 will be ignored. Current value: min_data_in_leaf=18\n",
      "[LightGBM] [Warning] num_iterations is set=100, num_boost_round=100 will be ignored. Current value: num_iterations=100\n",
      "[LightGBM] [Warning] lambda_l2 is set=0.41703023271225204, reg_lambda=0.0 will be ignored. Current value: lambda_l2=0.41703023271225204\n",
      "[LightGBM] [Warning] feature_fraction is set=0.5727629146229185, colsample_bytree=1.0 will be ignored. Current value: feature_fraction=0.5727629146229185\n",
      "[LightGBM] [Warning] bagging_fraction is set=0.751605883743882, subsample=1.0 will be ignored. Current value: bagging_fraction=0.751605883743882\n"
     ]
    },
    {
     "name": "stderr",
     "output_type": "stream",
     "text": [
      "[I 2023-06-06 16:52:17,715] Trial 197 finished with value: 0.6612903225806451 and parameters: {'max_depth': 8, 'num_boost_round': 100, 'min_data_in_leaf': 18, 'n_estimators': 1627, 'num_leaves': 687, 'learning_rate': 0.019042708907703026, 'feature_fraction': 0.5727629146229185, 'bagging_fraction': 0.751605883743882, 'bagging_freq': 6, 'lambda_l1': 0.3571118760520755, 'lambda_l2': 0.41703023271225204}. Best is trial 26 with value: 0.6733870967741935.\n"
     ]
    },
    {
     "name": "stdout",
     "output_type": "stream",
     "text": [
      "[LightGBM] [Warning] bagging_freq is set=7, subsample_freq=0 will be ignored. Current value: bagging_freq=7\n",
      "[LightGBM] [Warning] lambda_l1 is set=0.2318681269566261, reg_alpha=0.0 will be ignored. Current value: lambda_l1=0.2318681269566261\n",
      "[LightGBM] [Warning] min_data_in_leaf is set=12, min_child_samples=20 will be ignored. Current value: min_data_in_leaf=12\n",
      "[LightGBM] [Warning] num_iterations is set=106, num_boost_round=106 will be ignored. Current value: num_iterations=106\n",
      "[LightGBM] [Warning] lambda_l2 is set=0.4654130569163095, reg_lambda=0.0 will be ignored. Current value: lambda_l2=0.4654130569163095\n",
      "[LightGBM] [Warning] feature_fraction is set=0.5854816493451364, colsample_bytree=1.0 will be ignored. Current value: feature_fraction=0.5854816493451364\n",
      "[LightGBM] [Warning] bagging_fraction is set=0.7680215235179763, subsample=1.0 will be ignored. Current value: bagging_fraction=0.7680215235179763\n"
     ]
    },
    {
     "name": "stderr",
     "output_type": "stream",
     "text": [
      "[I 2023-06-06 16:52:18,920] Trial 198 finished with value: 0.6633064516129032 and parameters: {'max_depth': 8, 'num_boost_round': 106, 'min_data_in_leaf': 12, 'n_estimators': 872, 'num_leaves': 299, 'learning_rate': 0.03103774126399526, 'feature_fraction': 0.5854816493451364, 'bagging_fraction': 0.7680215235179763, 'bagging_freq': 7, 'lambda_l1': 0.2318681269566261, 'lambda_l2': 0.4654130569163095}. Best is trial 26 with value: 0.6733870967741935.\n"
     ]
    },
    {
     "name": "stdout",
     "output_type": "stream",
     "text": [
      "[LightGBM] [Warning] bagging_freq is set=5, subsample_freq=0 will be ignored. Current value: bagging_freq=5\n",
      "[LightGBM] [Warning] lambda_l1 is set=0.1093463973463942, reg_alpha=0.0 will be ignored. Current value: lambda_l1=0.1093463973463942\n",
      "[LightGBM] [Warning] min_data_in_leaf is set=17, min_child_samples=20 will be ignored. Current value: min_data_in_leaf=17\n",
      "[LightGBM] [Warning] num_iterations is set=121, num_boost_round=121 will be ignored. Current value: num_iterations=121\n",
      "[LightGBM] [Warning] lambda_l2 is set=0.6190838539635144, reg_lambda=0.0 will be ignored. Current value: lambda_l2=0.6190838539635144\n",
      "[LightGBM] [Warning] feature_fraction is set=0.6718128657187572, colsample_bytree=1.0 will be ignored. Current value: feature_fraction=0.6718128657187572\n",
      "[LightGBM] [Warning] bagging_fraction is set=0.7176940252059597, subsample=1.0 will be ignored. Current value: bagging_fraction=0.7176940252059597\n"
     ]
    },
    {
     "name": "stderr",
     "output_type": "stream",
     "text": [
      "[I 2023-06-06 16:52:20,159] Trial 199 finished with value: 0.6592741935483871 and parameters: {'max_depth': 8, 'num_boost_round': 121, 'min_data_in_leaf': 17, 'n_estimators': 1683, 'num_leaves': 406, 'learning_rate': 0.0351655052569127, 'feature_fraction': 0.6718128657187572, 'bagging_fraction': 0.7176940252059597, 'bagging_freq': 5, 'lambda_l1': 0.1093463973463942, 'lambda_l2': 0.6190838539635144}. Best is trial 26 with value: 0.6733870967741935.\n"
     ]
    }
   ],
   "source": [
    "lgb_study = optuna.create_study(direction='maximize')\n",
    "lgb_study.optimize(lgb_objective, n_trials=1000)"
   ]
  },
  {
   "cell_type": "code",
   "execution_count": null,
   "id": "6006450d",
   "metadata": {
    "scrolled": true
   },
   "outputs": [
    {
     "name": "stderr",
     "output_type": "stream",
     "text": [
      "[I 2023-06-08 17:15:53,027] A new study created in memory with name: no-name-0185a6bd-216c-4536-931b-c2de781ae2c8\n",
      "[I 2023-06-08 17:15:54,208] Trial 0 finished with value: 0.6512096774193549 and parameters: {'learning_rate': 0.010588017398939697}. Best is trial 0 with value: 0.6512096774193549.\n",
      "[I 2023-06-08 17:15:55,485] Trial 1 finished with value: 0.6491935483870968 and parameters: {'learning_rate': 0.030825192733751085}. Best is trial 0 with value: 0.6512096774193549.\n",
      "[I 2023-06-08 17:15:56,730] Trial 2 finished with value: 0.6471774193548387 and parameters: {'learning_rate': 0.039736260680056694}. Best is trial 0 with value: 0.6512096774193549.\n",
      "[I 2023-06-08 17:15:58,104] Trial 3 finished with value: 0.6532258064516129 and parameters: {'learning_rate': 0.06918879477070412}. Best is trial 3 with value: 0.6532258064516129.\n",
      "[I 2023-06-08 17:15:59,369] Trial 4 finished with value: 0.6532258064516129 and parameters: {'learning_rate': 0.037970028005791745}. Best is trial 3 with value: 0.6532258064516129.\n",
      "[I 2023-06-08 17:16:00,735] Trial 5 finished with value: 0.6451612903225806 and parameters: {'learning_rate': 0.0911292497589942}. Best is trial 3 with value: 0.6532258064516129.\n",
      "[I 2023-06-08 17:16:01,921] Trial 6 finished with value: 0.6491935483870968 and parameters: {'learning_rate': 0.010315096456864023}. Best is trial 3 with value: 0.6532258064516129.\n",
      "[I 2023-06-08 17:16:03,305] Trial 7 finished with value: 0.6532258064516129 and parameters: {'learning_rate': 0.0141252525640925}. Best is trial 3 with value: 0.6532258064516129.\n",
      "[I 2023-06-08 17:16:04,583] Trial 8 finished with value: 0.6512096774193549 and parameters: {'learning_rate': 0.021903137603717107}. Best is trial 3 with value: 0.6532258064516129.\n",
      "[I 2023-06-08 17:16:05,846] Trial 9 finished with value: 0.6532258064516129 and parameters: {'learning_rate': 0.03295085033217786}. Best is trial 3 with value: 0.6532258064516129.\n",
      "[I 2023-06-08 17:16:07,172] Trial 10 finished with value: 0.6471774193548387 and parameters: {'learning_rate': 0.09226532176835876}. Best is trial 3 with value: 0.6532258064516129.\n",
      "[I 2023-06-08 17:16:08,440] Trial 11 finished with value: 0.6471774193548387 and parameters: {'learning_rate': 0.05768066078576019}. Best is trial 3 with value: 0.6532258064516129.\n",
      "[I 2023-06-08 17:16:09,755] Trial 12 finished with value: 0.655241935483871 and parameters: {'learning_rate': 0.0572401974739848}. Best is trial 12 with value: 0.655241935483871.\n",
      "[I 2023-06-08 17:16:11,051] Trial 13 finished with value: 0.6512096774193549 and parameters: {'learning_rate': 0.06604422400488448}. Best is trial 12 with value: 0.655241935483871.\n",
      "[I 2023-06-08 17:16:12,370] Trial 14 finished with value: 0.6491935483870968 and parameters: {'learning_rate': 0.056384629580679385}. Best is trial 12 with value: 0.655241935483871.\n",
      "[I 2023-06-08 17:16:13,929] Trial 15 finished with value: 0.6431451612903226 and parameters: {'learning_rate': 0.06515047001160344}. Best is trial 12 with value: 0.655241935483871.\n",
      "[I 2023-06-08 17:16:15,687] Trial 16 finished with value: 0.6370967741935484 and parameters: {'learning_rate': 0.04738590218808079}. Best is trial 12 with value: 0.655241935483871.\n",
      "[I 2023-06-08 17:16:17,224] Trial 17 finished with value: 0.6471774193548387 and parameters: {'learning_rate': 0.07748848365065758}. Best is trial 12 with value: 0.655241935483871.\n",
      "[I 2023-06-08 17:16:18,674] Trial 18 finished with value: 0.6451612903225806 and parameters: {'learning_rate': 0.09731431295779541}. Best is trial 12 with value: 0.655241935483871.\n",
      "[I 2023-06-08 17:16:20,049] Trial 19 finished with value: 0.6451612903225806 and parameters: {'learning_rate': 0.04923436176196051}. Best is trial 12 with value: 0.655241935483871.\n",
      "[I 2023-06-08 17:16:21,471] Trial 20 finished with value: 0.655241935483871 and parameters: {'learning_rate': 0.07349948063491997}. Best is trial 12 with value: 0.655241935483871.\n",
      "[I 2023-06-08 17:16:22,922] Trial 21 finished with value: 0.6512096774193549 and parameters: {'learning_rate': 0.07357065756244534}. Best is trial 12 with value: 0.655241935483871.\n",
      "[I 2023-06-08 17:16:24,272] Trial 22 finished with value: 0.6451612903225806 and parameters: {'learning_rate': 0.08009397467497183}. Best is trial 12 with value: 0.655241935483871.\n",
      "[I 2023-06-08 17:16:25,652] Trial 23 finished with value: 0.6491935483870968 and parameters: {'learning_rate': 0.06590887033543853}. Best is trial 12 with value: 0.655241935483871.\n",
      "[I 2023-06-08 17:16:26,987] Trial 24 finished with value: 0.6532258064516129 and parameters: {'learning_rate': 0.05415782178482503}. Best is trial 12 with value: 0.655241935483871.\n",
      "[I 2023-06-08 17:16:28,495] Trial 25 finished with value: 0.6391129032258065 and parameters: {'learning_rate': 0.0756779791325209}. Best is trial 12 with value: 0.655241935483871.\n",
      "[I 2023-06-08 17:16:30,114] Trial 26 finished with value: 0.6451612903225806 and parameters: {'learning_rate': 0.09820942583063719}. Best is trial 12 with value: 0.655241935483871.\n",
      "[I 2023-06-08 17:16:31,835] Trial 27 finished with value: 0.6512096774193549 and parameters: {'learning_rate': 0.06382466405825456}. Best is trial 12 with value: 0.655241935483871.\n",
      "[I 2023-06-08 17:16:33,246] Trial 28 finished with value: 0.6411290322580645 and parameters: {'learning_rate': 0.04543373831890087}. Best is trial 12 with value: 0.655241935483871.\n",
      "[I 2023-06-08 17:16:34,685] Trial 29 finished with value: 0.6431451612903226 and parameters: {'learning_rate': 0.055004994295561514}. Best is trial 12 with value: 0.655241935483871.\n",
      "[I 2023-06-08 17:16:36,121] Trial 30 finished with value: 0.6391129032258065 and parameters: {'learning_rate': 0.07565894974881009}. Best is trial 12 with value: 0.655241935483871.\n",
      "[I 2023-06-08 17:16:37,460] Trial 31 finished with value: 0.6512096774193549 and parameters: {'learning_rate': 0.037591286807938426}. Best is trial 12 with value: 0.655241935483871.\n",
      "[I 2023-06-08 17:16:38,781] Trial 32 finished with value: 0.6491935483870968 and parameters: {'learning_rate': 0.0448797481787979}. Best is trial 12 with value: 0.655241935483871.\n",
      "[I 2023-06-08 17:16:40,139] Trial 33 finished with value: 0.6491935483870968 and parameters: {'learning_rate': 0.037443951706886545}. Best is trial 12 with value: 0.655241935483871.\n",
      "[I 2023-06-08 17:16:41,446] Trial 34 finished with value: 0.6471774193548387 and parameters: {'learning_rate': 0.0516012119716984}. Best is trial 12 with value: 0.655241935483871.\n",
      "[I 2023-06-08 17:16:42,722] Trial 35 finished with value: 0.657258064516129 and parameters: {'learning_rate': 0.0273421352227099}. Best is trial 35 with value: 0.657258064516129.\n",
      "[I 2023-06-08 17:16:43,981] Trial 36 finished with value: 0.6592741935483871 and parameters: {'learning_rate': 0.025402826905761636}. Best is trial 36 with value: 0.6592741935483871.\n",
      "[I 2023-06-08 17:16:45,254] Trial 37 finished with value: 0.657258064516129 and parameters: {'learning_rate': 0.02646154085904968}. Best is trial 36 with value: 0.6592741935483871.\n",
      "[I 2023-06-08 17:16:46,548] Trial 38 finished with value: 0.655241935483871 and parameters: {'learning_rate': 0.02906914212932816}. Best is trial 36 with value: 0.6592741935483871.\n",
      "[I 2023-06-08 17:16:47,845] Trial 39 finished with value: 0.6592741935483871 and parameters: {'learning_rate': 0.02537902924544688}. Best is trial 36 with value: 0.6592741935483871.\n",
      "[I 2023-06-08 17:16:49,146] Trial 40 finished with value: 0.6612903225806451 and parameters: {'learning_rate': 0.02455102505816692}. Best is trial 40 with value: 0.6612903225806451.\n",
      "[I 2023-06-08 17:16:50,847] Trial 41 finished with value: 0.657258064516129 and parameters: {'learning_rate': 0.023730916882837825}. Best is trial 40 with value: 0.6612903225806451.\n",
      "[I 2023-06-08 17:16:52,693] Trial 42 finished with value: 0.6612903225806451 and parameters: {'learning_rate': 0.024533165360985376}. Best is trial 40 with value: 0.6612903225806451.\n",
      "[I 2023-06-08 17:16:54,351] Trial 43 finished with value: 0.6532258064516129 and parameters: {'learning_rate': 0.02073912878338871}. Best is trial 40 with value: 0.6612903225806451.\n",
      "[I 2023-06-08 17:16:55,656] Trial 44 finished with value: 0.6512096774193549 and parameters: {'learning_rate': 0.019758629313090335}. Best is trial 40 with value: 0.6612903225806451.\n"
     ]
    },
    {
     "name": "stderr",
     "output_type": "stream",
     "text": [
      "[I 2023-06-08 17:16:56,939] Trial 45 finished with value: 0.655241935483871 and parameters: {'learning_rate': 0.018724827036447}. Best is trial 40 with value: 0.6612903225806451.\n",
      "[I 2023-06-08 17:16:58,257] Trial 46 finished with value: 0.655241935483871 and parameters: {'learning_rate': 0.025740244358613273}. Best is trial 40 with value: 0.6612903225806451.\n",
      "[I 2023-06-08 17:16:59,543] Trial 47 finished with value: 0.6491935483870968 and parameters: {'learning_rate': 0.030845706257229304}. Best is trial 40 with value: 0.6612903225806451.\n",
      "[I 2023-06-08 17:17:00,841] Trial 48 finished with value: 0.6532258064516129 and parameters: {'learning_rate': 0.017482488581293053}. Best is trial 40 with value: 0.6612903225806451.\n",
      "[I 2023-06-08 17:17:02,246] Trial 49 finished with value: 0.657258064516129 and parameters: {'learning_rate': 0.022586423549120674}. Best is trial 40 with value: 0.6612903225806451.\n",
      "[I 2023-06-08 17:17:03,903] Trial 50 finished with value: 0.655241935483871 and parameters: {'learning_rate': 0.02814009785523497}. Best is trial 40 with value: 0.6612903225806451.\n",
      "[I 2023-06-08 17:17:05,288] Trial 51 finished with value: 0.655241935483871 and parameters: {'learning_rate': 0.026961923040436056}. Best is trial 40 with value: 0.6612903225806451.\n",
      "[I 2023-06-08 17:17:06,511] Trial 52 finished with value: 0.6592741935483871 and parameters: {'learning_rate': 0.025205688284800472}. Best is trial 40 with value: 0.6612903225806451.\n",
      "[I 2023-06-08 17:17:07,725] Trial 53 finished with value: 0.657258064516129 and parameters: {'learning_rate': 0.024394638292881375}. Best is trial 40 with value: 0.6612903225806451.\n",
      "[I 2023-06-08 17:17:08,961] Trial 54 finished with value: 0.655241935483871 and parameters: {'learning_rate': 0.032304405441155676}. Best is trial 40 with value: 0.6612903225806451.\n",
      "[I 2023-06-08 17:17:10,230] Trial 55 finished with value: 0.655241935483871 and parameters: {'learning_rate': 0.022491036246405423}. Best is trial 40 with value: 0.6612903225806451.\n",
      "[I 2023-06-08 17:17:11,577] Trial 56 finished with value: 0.657258064516129 and parameters: {'learning_rate': 0.02920926222497413}. Best is trial 40 with value: 0.6612903225806451.\n",
      "[I 2023-06-08 17:17:12,840] Trial 57 finished with value: 0.6592741935483871 and parameters: {'learning_rate': 0.025239882241961595}. Best is trial 40 with value: 0.6612903225806451.\n",
      "[I 2023-06-08 17:17:14,121] Trial 58 finished with value: 0.6612903225806451 and parameters: {'learning_rate': 0.024573159601029126}. Best is trial 40 with value: 0.6612903225806451.\n",
      "[I 2023-06-08 17:17:15,389] Trial 59 finished with value: 0.6532258064516129 and parameters: {'learning_rate': 0.021436683311278876}. Best is trial 40 with value: 0.6612903225806451.\n",
      "[I 2023-06-08 17:17:16,764] Trial 60 finished with value: 0.6471774193548387 and parameters: {'learning_rate': 0.03399874483096328}. Best is trial 40 with value: 0.6612903225806451.\n",
      "[I 2023-06-08 17:17:18,010] Trial 61 finished with value: 0.657258064516129 and parameters: {'learning_rate': 0.024452556453929304}. Best is trial 40 with value: 0.6612903225806451.\n",
      "[I 2023-06-08 17:17:19,273] Trial 62 finished with value: 0.6592741935483871 and parameters: {'learning_rate': 0.024953077884866934}. Best is trial 40 with value: 0.6612903225806451.\n",
      "[I 2023-06-08 17:17:20,542] Trial 63 finished with value: 0.6592741935483871 and parameters: {'learning_rate': 0.02329227752880934}. Best is trial 40 with value: 0.6612903225806451.\n",
      "[I 2023-06-08 17:17:21,786] Trial 64 finished with value: 0.6491935483870968 and parameters: {'learning_rate': 0.029789403263606934}. Best is trial 40 with value: 0.6612903225806451.\n",
      "[I 2023-06-08 17:17:23,034] Trial 65 finished with value: 0.655241935483871 and parameters: {'learning_rate': 0.025916317716399864}. Best is trial 40 with value: 0.6612903225806451.\n",
      "[I 2023-06-08 17:17:24,322] Trial 66 finished with value: 0.6512096774193549 and parameters: {'learning_rate': 0.021257361617146964}. Best is trial 40 with value: 0.6612903225806451.\n",
      "[I 2023-06-08 17:17:25,680] Trial 67 finished with value: 0.6592741935483871 and parameters: {'learning_rate': 0.027242101750956198}. Best is trial 40 with value: 0.6612903225806451.\n",
      "[I 2023-06-08 17:17:27,187] Trial 68 finished with value: 0.6592741935483871 and parameters: {'learning_rate': 0.02349322903568702}. Best is trial 40 with value: 0.6612903225806451.\n",
      "[I 2023-06-08 17:17:28,427] Trial 69 finished with value: 0.6532258064516129 and parameters: {'learning_rate': 0.0320015677138936}. Best is trial 40 with value: 0.6612903225806451.\n",
      "[I 2023-06-08 17:17:29,700] Trial 70 finished with value: 0.6592741935483871 and parameters: {'learning_rate': 0.025245911980636436}. Best is trial 40 with value: 0.6612903225806451.\n",
      "[I 2023-06-08 17:17:30,998] Trial 71 finished with value: 0.657258064516129 and parameters: {'learning_rate': 0.02464963291967077}. Best is trial 40 with value: 0.6612903225806451.\n",
      "[I 2023-06-08 17:17:32,277] Trial 72 finished with value: 0.657258064516129 and parameters: {'learning_rate': 0.029240555339197283}. Best is trial 40 with value: 0.6612903225806451.\n",
      "[I 2023-06-08 17:17:33,506] Trial 73 finished with value: 0.655241935483871 and parameters: {'learning_rate': 0.02231591201180219}. Best is trial 40 with value: 0.6612903225806451.\n",
      "[I 2023-06-08 17:17:34,746] Trial 74 finished with value: 0.6532258064516129 and parameters: {'learning_rate': 0.02664049448841455}. Best is trial 40 with value: 0.6612903225806451.\n",
      "[I 2023-06-08 17:17:35,949] Trial 75 finished with value: 0.655241935483871 and parameters: {'learning_rate': 0.020286830374122246}. Best is trial 40 with value: 0.6612903225806451.\n",
      "[I 2023-06-08 17:17:37,220] Trial 76 finished with value: 0.657258064516129 and parameters: {'learning_rate': 0.024666378025666895}. Best is trial 40 with value: 0.6612903225806451.\n",
      "[I 2023-06-08 17:17:38,486] Trial 77 finished with value: 0.657258064516129 and parameters: {'learning_rate': 0.023109162076651854}. Best is trial 40 with value: 0.6612903225806451.\n",
      "[I 2023-06-08 17:17:39,738] Trial 78 finished with value: 0.655241935483871 and parameters: {'learning_rate': 0.027932021380834077}. Best is trial 40 with value: 0.6612903225806451.\n",
      "[I 2023-06-08 17:17:40,964] Trial 79 finished with value: 0.655241935483871 and parameters: {'learning_rate': 0.01953625840606928}. Best is trial 40 with value: 0.6612903225806451.\n",
      "[I 2023-06-08 17:17:42,221] Trial 80 finished with value: 0.6411290322580645 and parameters: {'learning_rate': 0.0342644049721003}. Best is trial 40 with value: 0.6612903225806451.\n",
      "[I 2023-06-08 17:17:43,488] Trial 81 finished with value: 0.6592741935483871 and parameters: {'learning_rate': 0.023230007882545065}. Best is trial 40 with value: 0.6612903225806451.\n",
      "[I 2023-06-08 17:17:44,723] Trial 82 finished with value: 0.6532258064516129 and parameters: {'learning_rate': 0.021598141745568383}. Best is trial 40 with value: 0.6612903225806451.\n",
      "[I 2023-06-08 17:17:45,983] Trial 83 finished with value: 0.655241935483871 and parameters: {'learning_rate': 0.025726397809891242}. Best is trial 40 with value: 0.6612903225806451.\n",
      "[I 2023-06-08 17:17:47,291] Trial 84 finished with value: 0.655241935483871 and parameters: {'learning_rate': 0.0282432151152156}. Best is trial 40 with value: 0.6612903225806451.\n",
      "[I 2023-06-08 17:17:48,549] Trial 85 finished with value: 0.6491935483870968 and parameters: {'learning_rate': 0.030730306364065926}. Best is trial 40 with value: 0.6612903225806451.\n",
      "[I 2023-06-08 17:17:49,795] Trial 86 finished with value: 0.6592741935483871 and parameters: {'learning_rate': 0.023591172025366133}. Best is trial 40 with value: 0.6612903225806451.\n",
      "[I 2023-06-08 17:17:51,017] Trial 87 finished with value: 0.655241935483871 and parameters: {'learning_rate': 0.025935408098273504}. Best is trial 40 with value: 0.6612903225806451.\n",
      "[I 2023-06-08 17:17:52,257] Trial 88 finished with value: 0.6512096774193549 and parameters: {'learning_rate': 0.021898833382042827}. Best is trial 40 with value: 0.6612903225806451.\n",
      "[I 2023-06-08 17:17:53,487] Trial 89 finished with value: 0.655241935483871 and parameters: {'learning_rate': 0.018193546261246033}. Best is trial 40 with value: 0.6612903225806451.\n"
     ]
    },
    {
     "name": "stderr",
     "output_type": "stream",
     "text": [
      "[I 2023-06-08 17:17:54,745] Trial 90 finished with value: 0.6612903225806451 and parameters: {'learning_rate': 0.02062117401676394}. Best is trial 40 with value: 0.6612903225806451.\n",
      "[I 2023-06-08 17:17:55,989] Trial 91 finished with value: 0.6532258064516129 and parameters: {'learning_rate': 0.020627364575908372}. Best is trial 40 with value: 0.6612903225806451.\n",
      "[I 2023-06-08 17:17:57,203] Trial 92 finished with value: 0.6592741935483871 and parameters: {'learning_rate': 0.02485733274608159}. Best is trial 40 with value: 0.6612903225806451.\n",
      "[I 2023-06-08 17:17:58,427] Trial 93 finished with value: 0.6612903225806451 and parameters: {'learning_rate': 0.022651876423867193}. Best is trial 40 with value: 0.6612903225806451.\n",
      "[I 2023-06-08 17:17:59,946] Trial 94 finished with value: 0.655241935483871 and parameters: {'learning_rate': 0.022071722586844072}. Best is trial 40 with value: 0.6612903225806451.\n",
      "[I 2023-06-08 17:18:01,290] Trial 95 finished with value: 0.655241935483871 and parameters: {'learning_rate': 0.028082983919483853}. Best is trial 40 with value: 0.6612903225806451.\n",
      "[I 2023-06-08 17:18:02,580] Trial 96 finished with value: 0.657258064516129 and parameters: {'learning_rate': 0.026189412032399703}. Best is trial 40 with value: 0.6612903225806451.\n",
      "[I 2023-06-08 17:18:04,011] Trial 97 finished with value: 0.6512096774193549 and parameters: {'learning_rate': 0.020130350993783987}. Best is trial 40 with value: 0.6612903225806451.\n",
      "[I 2023-06-08 17:18:05,337] Trial 98 finished with value: 0.657258064516129 and parameters: {'learning_rate': 0.02419743407183754}. Best is trial 40 with value: 0.6612903225806451.\n",
      "[I 2023-06-08 17:18:06,658] Trial 99 finished with value: 0.6532258064516129 and parameters: {'learning_rate': 0.01712534228400017}. Best is trial 40 with value: 0.6612903225806451.\n",
      "[I 2023-06-08 17:18:07,918] Trial 100 finished with value: 0.655241935483871 and parameters: {'learning_rate': 0.021177659863742187}. Best is trial 40 with value: 0.6612903225806451.\n",
      "[I 2023-06-08 17:18:09,141] Trial 101 finished with value: 0.657258064516129 and parameters: {'learning_rate': 0.02386470021738945}. Best is trial 40 with value: 0.6612903225806451.\n",
      "[I 2023-06-08 17:18:10,351] Trial 102 finished with value: 0.6592741935483871 and parameters: {'learning_rate': 0.022769675337567012}. Best is trial 40 with value: 0.6612903225806451.\n",
      "[I 2023-06-08 17:18:11,619] Trial 103 finished with value: 0.6532258064516129 and parameters: {'learning_rate': 0.026652711579887696}. Best is trial 40 with value: 0.6612903225806451.\n",
      "[I 2023-06-08 17:18:12,889] Trial 104 finished with value: 0.6592741935483871 and parameters: {'learning_rate': 0.025329009803450646}. Best is trial 40 with value: 0.6612903225806451.\n",
      "[I 2023-06-08 17:18:14,121] Trial 105 finished with value: 0.657258064516129 and parameters: {'learning_rate': 0.02286307803750785}. Best is trial 40 with value: 0.6612903225806451.\n",
      "[I 2023-06-08 17:18:15,690] Trial 106 finished with value: 0.657258064516129 and parameters: {'learning_rate': 0.02729911417866419}. Best is trial 40 with value: 0.6612903225806451.\n",
      "[I 2023-06-08 17:18:17,510] Trial 107 finished with value: 0.657258064516129 and parameters: {'learning_rate': 0.023836813644571988}. Best is trial 40 with value: 0.6612903225806451.\n",
      "[I 2023-06-08 17:18:19,848] Trial 108 finished with value: 0.6532258064516129 and parameters: {'learning_rate': 0.02941609946118264}. Best is trial 40 with value: 0.6612903225806451.\n",
      "[I 2023-06-08 17:18:21,059] Trial 109 finished with value: 0.6512096774193549 and parameters: {'learning_rate': 0.019468283724021422}. Best is trial 40 with value: 0.6612903225806451.\n",
      "[I 2023-06-08 17:18:22,269] Trial 110 finished with value: 0.6592741935483871 and parameters: {'learning_rate': 0.02495596482388961}. Best is trial 40 with value: 0.6612903225806451.\n",
      "[I 2023-06-08 17:18:23,496] Trial 111 finished with value: 0.6532258064516129 and parameters: {'learning_rate': 0.02664376993854459}. Best is trial 40 with value: 0.6612903225806451.\n",
      "[I 2023-06-08 17:18:24,729] Trial 112 finished with value: 0.6592741935483871 and parameters: {'learning_rate': 0.02728960600181368}. Best is trial 40 with value: 0.6612903225806451.\n",
      "[I 2023-06-08 17:18:25,918] Trial 113 finished with value: 0.655241935483871 and parameters: {'learning_rate': 0.022228321874122013}. Best is trial 40 with value: 0.6612903225806451.\n",
      "[I 2023-06-08 17:18:27,197] Trial 114 finished with value: 0.6471774193548387 and parameters: {'learning_rate': 0.0302914297998071}. Best is trial 40 with value: 0.6612903225806451.\n",
      "[I 2023-06-08 17:18:28,390] Trial 115 finished with value: 0.6592741935483871 and parameters: {'learning_rate': 0.025307062637836584}. Best is trial 40 with value: 0.6612903225806451.\n",
      "[I 2023-06-08 17:18:29,611] Trial 116 finished with value: 0.655241935483871 and parameters: {'learning_rate': 0.027930489146457373}. Best is trial 40 with value: 0.6612903225806451.\n",
      "[I 2023-06-08 17:18:30,791] Trial 117 finished with value: 0.6532258064516129 and parameters: {'learning_rate': 0.020951895677132154}. Best is trial 40 with value: 0.6612903225806451.\n",
      "[I 2023-06-08 17:18:31,991] Trial 118 finished with value: 0.6592741935483871 and parameters: {'learning_rate': 0.02345353147259896}. Best is trial 40 with value: 0.6612903225806451.\n",
      "[I 2023-06-08 17:18:33,195] Trial 119 finished with value: 0.655241935483871 and parameters: {'learning_rate': 0.028529480993234223}. Best is trial 40 with value: 0.6612903225806451.\n",
      "[I 2023-06-08 17:18:34,397] Trial 120 finished with value: 0.6451612903225806 and parameters: {'learning_rate': 0.031186136237449067}. Best is trial 40 with value: 0.6612903225806451.\n",
      "[I 2023-06-08 17:18:35,613] Trial 121 finished with value: 0.6592741935483871 and parameters: {'learning_rate': 0.024112114863349413}. Best is trial 40 with value: 0.6612903225806451.\n",
      "[I 2023-06-08 17:18:36,805] Trial 122 finished with value: 0.6592741935483871 and parameters: {'learning_rate': 0.023208091276129696}. Best is trial 40 with value: 0.6612903225806451.\n",
      "[I 2023-06-08 17:18:38,003] Trial 123 finished with value: 0.655241935483871 and parameters: {'learning_rate': 0.0256564068419745}. Best is trial 40 with value: 0.6612903225806451.\n",
      "[I 2023-06-08 17:18:39,254] Trial 124 finished with value: 0.6512096774193549 and parameters: {'learning_rate': 0.02174233934267985}. Best is trial 40 with value: 0.6612903225806451.\n",
      "[I 2023-06-08 17:18:40,589] Trial 125 finished with value: 0.657258064516129 and parameters: {'learning_rate': 0.024459872614583236}. Best is trial 40 with value: 0.6612903225806451.\n",
      "[I 2023-06-08 17:18:41,864] Trial 126 finished with value: 0.6532258064516129 and parameters: {'learning_rate': 0.026589697242057442}. Best is trial 40 with value: 0.6612903225806451.\n",
      "[I 2023-06-08 17:18:43,154] Trial 127 finished with value: 0.6592741935483871 and parameters: {'learning_rate': 0.022613234689757684}. Best is trial 40 with value: 0.6612903225806451.\n",
      "[I 2023-06-08 17:18:44,403] Trial 128 finished with value: 0.6532258064516129 and parameters: {'learning_rate': 0.0209880917128623}. Best is trial 40 with value: 0.6612903225806451.\n",
      "[I 2023-06-08 17:18:45,701] Trial 129 finished with value: 0.657258064516129 and parameters: {'learning_rate': 0.02913235705735563}. Best is trial 40 with value: 0.6612903225806451.\n",
      "[I 2023-06-08 17:18:46,937] Trial 130 finished with value: 0.6592741935483871 and parameters: {'learning_rate': 0.02509754215128626}. Best is trial 40 with value: 0.6612903225806451.\n",
      "[I 2023-06-08 17:18:48,163] Trial 131 finished with value: 0.6592741935483871 and parameters: {'learning_rate': 0.023620230592747142}. Best is trial 40 with value: 0.6612903225806451.\n",
      "[I 2023-06-08 17:18:49,600] Trial 132 finished with value: 0.655241935483871 and parameters: {'learning_rate': 0.025806378888549267}. Best is trial 40 with value: 0.6612903225806451.\n",
      "[I 2023-06-08 17:18:50,993] Trial 133 finished with value: 0.657258064516129 and parameters: {'learning_rate': 0.022145749190923335}. Best is trial 40 with value: 0.6612903225806451.\n",
      "[I 2023-06-08 17:18:52,353] Trial 134 finished with value: 0.6532258064516129 and parameters: {'learning_rate': 0.026700009100532517}. Best is trial 40 with value: 0.6612903225806451.\n"
     ]
    },
    {
     "name": "stderr",
     "output_type": "stream",
     "text": [
      "[I 2023-06-08 17:18:53,650] Trial 135 finished with value: 0.6592741935483871 and parameters: {'learning_rate': 0.024142457517138335}. Best is trial 40 with value: 0.6612903225806451.\n",
      "[I 2023-06-08 17:18:54,979] Trial 136 finished with value: 0.657258064516129 and parameters: {'learning_rate': 0.02758929662390963}. Best is trial 40 with value: 0.6612903225806451.\n",
      "[I 2023-06-08 17:18:56,273] Trial 137 finished with value: 0.6592741935483871 and parameters: {'learning_rate': 0.024864630471226043}. Best is trial 40 with value: 0.6612903225806451.\n",
      "[I 2023-06-08 17:18:57,587] Trial 138 finished with value: 0.657258064516129 and parameters: {'learning_rate': 0.022529120409915986}. Best is trial 40 with value: 0.6612903225806451.\n",
      "[I 2023-06-08 17:18:58,889] Trial 139 finished with value: 0.6592741935483871 and parameters: {'learning_rate': 0.023469334042766625}. Best is trial 40 with value: 0.6612903225806451.\n",
      "[I 2023-06-08 17:19:00,191] Trial 140 finished with value: 0.6512096774193549 and parameters: {'learning_rate': 0.020069092842403248}. Best is trial 40 with value: 0.6612903225806451.\n",
      "[I 2023-06-08 17:19:01,546] Trial 141 finished with value: 0.6592741935483871 and parameters: {'learning_rate': 0.025350038676893113}. Best is trial 40 with value: 0.6612903225806451.\n",
      "[I 2023-06-08 17:19:02,959] Trial 142 finished with value: 0.6491935483870968 and parameters: {'learning_rate': 0.021639219875497245}. Best is trial 40 with value: 0.6612903225806451.\n",
      "[I 2023-06-08 17:19:04,377] Trial 143 finished with value: 0.6612903225806451 and parameters: {'learning_rate': 0.022946636273504205}. Best is trial 40 with value: 0.6612903225806451.\n",
      "[I 2023-06-08 17:19:06,053] Trial 144 finished with value: 0.657258064516129 and parameters: {'learning_rate': 0.026263223736860852}. Best is trial 40 with value: 0.6612903225806451.\n",
      "[I 2023-06-08 17:19:07,318] Trial 145 finished with value: 0.657258064516129 and parameters: {'learning_rate': 0.02306964295084889}. Best is trial 40 with value: 0.6612903225806451.\n",
      "[I 2023-06-08 17:19:08,633] Trial 146 finished with value: 0.6532258064516129 and parameters: {'learning_rate': 0.021025879687438943}. Best is trial 40 with value: 0.6612903225806451.\n",
      "[I 2023-06-08 17:19:10,006] Trial 147 finished with value: 0.657258064516129 and parameters: {'learning_rate': 0.024481649714279907}. Best is trial 40 with value: 0.6612903225806451.\n",
      "[I 2023-06-08 17:19:11,436] Trial 148 finished with value: 0.655241935483871 and parameters: {'learning_rate': 0.027823579164246298}. Best is trial 40 with value: 0.6612903225806451.\n",
      "[I 2023-06-08 17:19:12,869] Trial 149 finished with value: 0.655241935483871 and parameters: {'learning_rate': 0.0301030120900644}. Best is trial 40 with value: 0.6612903225806451.\n",
      "[I 2023-06-08 17:19:14,204] Trial 150 finished with value: 0.655241935483871 and parameters: {'learning_rate': 0.02581391213182836}. Best is trial 40 with value: 0.6612903225806451.\n",
      "[I 2023-06-08 17:19:15,689] Trial 151 finished with value: 0.6532258064516129 and parameters: {'learning_rate': 0.023168193010900395}. Best is trial 40 with value: 0.6612903225806451.\n",
      "[I 2023-06-08 17:19:17,002] Trial 152 finished with value: 0.655241935483871 and parameters: {'learning_rate': 0.022077404518333572}. Best is trial 40 with value: 0.6612903225806451.\n",
      "[I 2023-06-08 17:19:18,379] Trial 153 finished with value: 0.6532258064516129 and parameters: {'learning_rate': 0.023163389989264326}. Best is trial 40 with value: 0.6612903225806451.\n",
      "[I 2023-06-08 17:19:19,780] Trial 154 finished with value: 0.657258064516129 and parameters: {'learning_rate': 0.024262559995563572}. Best is trial 40 with value: 0.6612903225806451.\n",
      "[I 2023-06-08 17:19:21,214] Trial 155 finished with value: 0.655241935483871 and parameters: {'learning_rate': 0.02040532915961838}. Best is trial 40 with value: 0.6612903225806451.\n",
      "[I 2023-06-08 17:19:22,551] Trial 156 finished with value: 0.6592741935483871 and parameters: {'learning_rate': 0.02519093287059617}. Best is trial 40 with value: 0.6612903225806451.\n",
      "[I 2023-06-08 17:19:24,051] Trial 157 finished with value: 0.6592741935483871 and parameters: {'learning_rate': 0.027438042397815353}. Best is trial 40 with value: 0.6612903225806451.\n",
      "[I 2023-06-08 17:19:25,474] Trial 158 finished with value: 0.657258064516129 and parameters: {'learning_rate': 0.02381664665235928}. Best is trial 40 with value: 0.6612903225806451.\n",
      "[I 2023-06-08 17:19:26,727] Trial 159 finished with value: 0.655241935483871 and parameters: {'learning_rate': 0.019546144489718854}. Best is trial 40 with value: 0.6612903225806451.\n",
      "[I 2023-06-08 17:19:28,096] Trial 160 finished with value: 0.655241935483871 and parameters: {'learning_rate': 0.02860357823591791}. Best is trial 40 with value: 0.6612903225806451.\n",
      "[I 2023-06-08 17:19:29,469] Trial 161 finished with value: 0.6612903225806451 and parameters: {'learning_rate': 0.022929953484440928}. Best is trial 40 with value: 0.6612903225806451.\n",
      "[I 2023-06-08 17:19:30,711] Trial 162 finished with value: 0.6512096774193549 and parameters: {'learning_rate': 0.021879250948747948}. Best is trial 40 with value: 0.6612903225806451.\n",
      "[I 2023-06-08 17:19:32,007] Trial 163 finished with value: 0.6612903225806451 and parameters: {'learning_rate': 0.022635142512730327}. Best is trial 40 with value: 0.6612903225806451.\n",
      "[I 2023-06-08 17:19:33,253] Trial 164 finished with value: 0.657258064516129 and parameters: {'learning_rate': 0.02626752221709367}. Best is trial 40 with value: 0.6612903225806451.\n",
      "[I 2023-06-08 17:19:34,754] Trial 165 finished with value: 0.657258064516129 and parameters: {'learning_rate': 0.024515532584712833}. Best is trial 40 with value: 0.6612903225806451.\n",
      "[I 2023-06-08 17:19:36,062] Trial 166 finished with value: 0.6532258064516129 and parameters: {'learning_rate': 0.021437822658154033}. Best is trial 40 with value: 0.6612903225806451.\n",
      "[I 2023-06-08 17:19:37,342] Trial 167 finished with value: 0.6592741935483871 and parameters: {'learning_rate': 0.022734526769635728}. Best is trial 40 with value: 0.6612903225806451.\n",
      "[I 2023-06-08 17:19:38,603] Trial 168 finished with value: 0.6592741935483871 and parameters: {'learning_rate': 0.02508912865337943}. Best is trial 40 with value: 0.6612903225806451.\n",
      "[I 2023-06-08 17:19:39,819] Trial 169 finished with value: 0.6532258064516129 and parameters: {'learning_rate': 0.026823006910351783}. Best is trial 40 with value: 0.6612903225806451.\n",
      "[I 2023-06-08 17:19:41,087] Trial 170 finished with value: 0.6532258064516129 and parameters: {'learning_rate': 0.020841057167705093}. Best is trial 40 with value: 0.6612903225806451.\n",
      "[I 2023-06-08 17:19:42,341] Trial 171 finished with value: 0.6592741935483871 and parameters: {'learning_rate': 0.023441082818330142}. Best is trial 40 with value: 0.6612903225806451.\n",
      "[I 2023-06-08 17:19:43,637] Trial 172 finished with value: 0.6612903225806451 and parameters: {'learning_rate': 0.022657718299040935}. Best is trial 40 with value: 0.6612903225806451.\n",
      "[I 2023-06-08 17:19:45,076] Trial 173 finished with value: 0.6532258064516129 and parameters: {'learning_rate': 0.022013712834820745}. Best is trial 40 with value: 0.6612903225806451.\n",
      "[I 2023-06-08 17:19:46,421] Trial 174 finished with value: 0.6612903225806451 and parameters: {'learning_rate': 0.024564659546284142}. Best is trial 40 with value: 0.6612903225806451.\n",
      "[I 2023-06-08 17:19:47,696] Trial 175 finished with value: 0.657258064516129 and parameters: {'learning_rate': 0.023757906020262162}. Best is trial 40 with value: 0.6612903225806451.\n",
      "[I 2023-06-08 17:19:48,940] Trial 176 finished with value: 0.655241935483871 and parameters: {'learning_rate': 0.02239920313431716}. Best is trial 40 with value: 0.6612903225806451.\n",
      "[I 2023-06-08 17:19:50,541] Trial 177 finished with value: 0.655241935483871 and parameters: {'learning_rate': 0.018960775906848686}. Best is trial 40 with value: 0.6612903225806451.\n",
      "[I 2023-06-08 17:19:51,874] Trial 178 finished with value: 0.657258064516129 and parameters: {'learning_rate': 0.0244485040231658}. Best is trial 40 with value: 0.6612903225806451.\n",
      "[I 2023-06-08 17:19:53,296] Trial 179 finished with value: 0.6512096774193549 and parameters: {'learning_rate': 0.02048930098472549}. Best is trial 40 with value: 0.6612903225806451.\n"
     ]
    },
    {
     "name": "stderr",
     "output_type": "stream",
     "text": [
      "[I 2023-06-08 17:19:54,564] Trial 180 finished with value: 0.655241935483871 and parameters: {'learning_rate': 0.02575042945450494}. Best is trial 40 with value: 0.6612903225806451.\n",
      "[I 2023-06-08 17:19:55,935] Trial 181 finished with value: 0.6592741935483871 and parameters: {'learning_rate': 0.02507343207413673}. Best is trial 40 with value: 0.6612903225806451.\n",
      "[I 2023-06-08 17:19:57,229] Trial 182 finished with value: 0.6612903225806451 and parameters: {'learning_rate': 0.022958632018006728}. Best is trial 40 with value: 0.6612903225806451.\n",
      "[I 2023-06-08 17:19:58,787] Trial 183 finished with value: 0.6592741935483871 and parameters: {'learning_rate': 0.022791174686829892}. Best is trial 40 with value: 0.6612903225806451.\n",
      "[I 2023-06-08 17:20:00,132] Trial 184 finished with value: 0.657258064516129 and parameters: {'learning_rate': 0.02387267282763984}. Best is trial 40 with value: 0.6612903225806451.\n",
      "[I 2023-06-08 17:20:01,413] Trial 185 finished with value: 0.6532258064516129 and parameters: {'learning_rate': 0.021533725577953994}. Best is trial 40 with value: 0.6612903225806451.\n",
      "[I 2023-06-08 17:20:02,674] Trial 186 finished with value: 0.6532258064516129 and parameters: {'learning_rate': 0.02668747272726359}. Best is trial 40 with value: 0.6612903225806451.\n",
      "[I 2023-06-08 17:20:04,220] Trial 187 finished with value: 0.6592741935483871 and parameters: {'learning_rate': 0.022745976989008102}. Best is trial 40 with value: 0.6612903225806451.\n",
      "[I 2023-06-08 17:20:05,690] Trial 188 finished with value: 0.657258064516129 and parameters: {'learning_rate': 0.02418758559437904}. Best is trial 40 with value: 0.6612903225806451.\n",
      "[I 2023-06-08 17:20:07,121] Trial 189 finished with value: 0.655241935483871 and parameters: {'learning_rate': 0.025958975086590518}. Best is trial 40 with value: 0.6612903225806451.\n",
      "[I 2023-06-08 17:20:08,287] Trial 190 finished with value: 0.6532258064516129 and parameters: {'learning_rate': 0.021413133711287734}. Best is trial 40 with value: 0.6612903225806451.\n",
      "[I 2023-06-08 17:20:09,475] Trial 191 finished with value: 0.6592741935483871 and parameters: {'learning_rate': 0.025137191956414354}. Best is trial 40 with value: 0.6612903225806451.\n",
      "[I 2023-06-08 17:20:10,654] Trial 192 finished with value: 0.6592741935483871 and parameters: {'learning_rate': 0.02343287041271986}. Best is trial 40 with value: 0.6612903225806451.\n",
      "[I 2023-06-08 17:20:11,855] Trial 193 finished with value: 0.657258064516129 and parameters: {'learning_rate': 0.02758841462925104}. Best is trial 40 with value: 0.6612903225806451.\n",
      "[I 2023-06-08 17:20:13,164] Trial 194 finished with value: 0.6612903225806451 and parameters: {'learning_rate': 0.024628043068552312}. Best is trial 40 with value: 0.6612903225806451.\n",
      "[I 2023-06-08 17:20:14,448] Trial 195 finished with value: 0.657258064516129 and parameters: {'learning_rate': 0.0228359111733957}. Best is trial 40 with value: 0.6612903225806451.\n",
      "[I 2023-06-08 17:20:15,768] Trial 196 finished with value: 0.657258064516129 and parameters: {'learning_rate': 0.024040825987845533}. Best is trial 40 with value: 0.6612903225806451.\n",
      "[I 2023-06-08 17:20:17,085] Trial 197 finished with value: 0.655241935483871 and parameters: {'learning_rate': 0.025786670057052596}. Best is trial 40 with value: 0.6612903225806451.\n",
      "[I 2023-06-08 17:20:18,351] Trial 198 finished with value: 0.655241935483871 and parameters: {'learning_rate': 0.02218895055778979}. Best is trial 40 with value: 0.6612903225806451.\n",
      "[I 2023-06-08 17:20:19,612] Trial 199 finished with value: 0.655241935483871 and parameters: {'learning_rate': 0.02027455955130138}. Best is trial 40 with value: 0.6612903225806451.\n",
      "[I 2023-06-08 17:20:20,903] Trial 200 finished with value: 0.657258064516129 and parameters: {'learning_rate': 0.024659545314036697}. Best is trial 40 with value: 0.6612903225806451.\n",
      "[I 2023-06-08 17:20:22,194] Trial 201 finished with value: 0.6592741935483871 and parameters: {'learning_rate': 0.025216792821893486}. Best is trial 40 with value: 0.6612903225806451.\n",
      "[I 2023-06-08 17:20:23,441] Trial 202 finished with value: 0.655241935483871 and parameters: {'learning_rate': 0.027022617165193195}. Best is trial 40 with value: 0.6612903225806451.\n",
      "[I 2023-06-08 17:20:24,755] Trial 203 finished with value: 0.6592741935483871 and parameters: {'learning_rate': 0.02325532018030848}. Best is trial 40 with value: 0.6612903225806451.\n",
      "[I 2023-06-08 17:20:25,946] Trial 204 finished with value: 0.6612903225806451 and parameters: {'learning_rate': 0.024556935487996676}. Best is trial 40 with value: 0.6612903225806451.\n",
      "[I 2023-06-08 17:20:27,198] Trial 205 finished with value: 0.6592741935483871 and parameters: {'learning_rate': 0.024130868852881546}. Best is trial 40 with value: 0.6612903225806451.\n",
      "[I 2023-06-08 17:20:28,435] Trial 206 finished with value: 0.655241935483871 and parameters: {'learning_rate': 0.028736008738532708}. Best is trial 40 with value: 0.6612903225806451.\n",
      "[I 2023-06-08 17:20:29,630] Trial 207 finished with value: 0.655241935483871 and parameters: {'learning_rate': 0.022499358194749915}. Best is trial 40 with value: 0.6612903225806451.\n",
      "[I 2023-06-08 17:20:30,788] Trial 208 finished with value: 0.6491935483870968 and parameters: {'learning_rate': 0.010442296086804404}. Best is trial 40 with value: 0.6612903225806451.\n",
      "[I 2023-06-08 17:20:31,973] Trial 209 finished with value: 0.655241935483871 and parameters: {'learning_rate': 0.02119726965958935}. Best is trial 40 with value: 0.6612903225806451.\n",
      "[I 2023-06-08 17:20:33,176] Trial 210 finished with value: 0.6532258064516129 and parameters: {'learning_rate': 0.02657876075921943}. Best is trial 40 with value: 0.6612903225806451.\n",
      "[I 2023-06-08 17:20:34,362] Trial 211 finished with value: 0.6592741935483871 and parameters: {'learning_rate': 0.025411529459890777}. Best is trial 40 with value: 0.6612903225806451.\n",
      "[I 2023-06-08 17:20:35,611] Trial 212 finished with value: 0.6592741935483871 and parameters: {'learning_rate': 0.023909906437521423}. Best is trial 40 with value: 0.6612903225806451.\n",
      "[I 2023-06-08 17:20:36,806] Trial 213 finished with value: 0.657258064516129 and parameters: {'learning_rate': 0.024692910744914767}. Best is trial 40 with value: 0.6612903225806451.\n",
      "[I 2023-06-08 17:20:37,995] Trial 214 finished with value: 0.6512096774193549 and parameters: {'learning_rate': 0.023202295048223184}. Best is trial 40 with value: 0.6612903225806451.\n",
      "[I 2023-06-08 17:20:39,220] Trial 215 finished with value: 0.657258064516129 and parameters: {'learning_rate': 0.026039923271940726}. Best is trial 40 with value: 0.6612903225806451.\n",
      "[I 2023-06-08 17:20:40,435] Trial 216 finished with value: 0.655241935483871 and parameters: {'learning_rate': 0.022034188934569744}. Best is trial 40 with value: 0.6612903225806451.\n",
      "[I 2023-06-08 17:20:41,704] Trial 217 finished with value: 0.6592741935483871 and parameters: {'learning_rate': 0.024778607060785596}. Best is trial 40 with value: 0.6612903225806451.\n",
      "[I 2023-06-08 17:20:43,020] Trial 218 finished with value: 0.6592741935483871 and parameters: {'learning_rate': 0.023455581296699723}. Best is trial 40 with value: 0.6612903225806451.\n",
      "[I 2023-06-08 17:20:44,554] Trial 219 finished with value: 0.655241935483871 and parameters: {'learning_rate': 0.028145490759749023}. Best is trial 40 with value: 0.6612903225806451.\n",
      "[I 2023-06-08 17:20:46,487] Trial 220 finished with value: 0.657258064516129 and parameters: {'learning_rate': 0.026249417291807534}. Best is trial 40 with value: 0.6612903225806451.\n",
      "[I 2023-06-08 17:20:47,701] Trial 221 finished with value: 0.6592741935483871 and parameters: {'learning_rate': 0.02270630279852534}. Best is trial 40 with value: 0.6612903225806451.\n",
      "[I 2023-06-08 17:20:48,873] Trial 222 finished with value: 0.657258064516129 and parameters: {'learning_rate': 0.02403141782056455}. Best is trial 40 with value: 0.6612903225806451.\n",
      "[I 2023-06-08 17:20:50,050] Trial 223 finished with value: 0.6592741935483871 and parameters: {'learning_rate': 0.024971589900267377}. Best is trial 40 with value: 0.6612903225806451.\n",
      "[I 2023-06-08 17:20:51,351] Trial 224 finished with value: 0.6532258064516129 and parameters: {'learning_rate': 0.02176731003228412}. Best is trial 40 with value: 0.6612903225806451.\n"
     ]
    },
    {
     "name": "stderr",
     "output_type": "stream",
     "text": [
      "[I 2023-06-08 17:20:52,586] Trial 225 finished with value: 0.6592741935483871 and parameters: {'learning_rate': 0.023298386219486007}. Best is trial 40 with value: 0.6612903225806451.\n",
      "[I 2023-06-08 17:20:53,806] Trial 226 finished with value: 0.6391129032258065 and parameters: {'learning_rate': 0.060381916533019914}. Best is trial 40 with value: 0.6612903225806451.\n",
      "[I 2023-06-08 17:20:54,949] Trial 227 finished with value: 0.6512096774193549 and parameters: {'learning_rate': 0.011935598680409562}. Best is trial 40 with value: 0.6612903225806451.\n",
      "[I 2023-06-08 17:20:56,232] Trial 228 finished with value: 0.6592741935483871 and parameters: {'learning_rate': 0.025488879879869156}. Best is trial 40 with value: 0.6612903225806451.\n",
      "[I 2023-06-08 17:20:57,577] Trial 229 finished with value: 0.655241935483871 and parameters: {'learning_rate': 0.021108532804546297}. Best is trial 40 with value: 0.6612903225806451.\n",
      "[I 2023-06-08 17:20:58,854] Trial 230 finished with value: 0.6532258064516129 and parameters: {'learning_rate': 0.04239901841837648}. Best is trial 40 with value: 0.6612903225806451.\n",
      "[I 2023-06-08 17:21:00,203] Trial 231 finished with value: 0.6592741935483871 and parameters: {'learning_rate': 0.023545839705322945}. Best is trial 40 with value: 0.6612903225806451.\n",
      "[I 2023-06-08 17:21:01,463] Trial 232 finished with value: 0.657258064516129 and parameters: {'learning_rate': 0.024286391822799434}. Best is trial 40 with value: 0.6612903225806451.\n",
      "[I 2023-06-08 17:21:02,808] Trial 233 finished with value: 0.6592741935483871 and parameters: {'learning_rate': 0.02364541752626801}. Best is trial 40 with value: 0.6612903225806451.\n",
      "[I 2023-06-08 17:21:04,245] Trial 234 finished with value: 0.655241935483871 and parameters: {'learning_rate': 0.022337031433432422}. Best is trial 40 with value: 0.6612903225806451.\n",
      "[I 2023-06-08 17:21:05,642] Trial 235 finished with value: 0.6471774193548387 and parameters: {'learning_rate': 0.09090217699549334}. Best is trial 40 with value: 0.6612903225806451.\n",
      "[I 2023-06-08 17:21:06,912] Trial 236 finished with value: 0.6592741935483871 and parameters: {'learning_rate': 0.02488917622303084}. Best is trial 40 with value: 0.6612903225806451.\n",
      "[I 2023-06-08 17:21:08,471] Trial 237 finished with value: 0.6592741935483871 and parameters: {'learning_rate': 0.022725274207647504}. Best is trial 40 with value: 0.6612903225806451.\n",
      "[I 2023-06-08 17:21:09,980] Trial 238 finished with value: 0.655241935483871 and parameters: {'learning_rate': 0.02696594278982812}. Best is trial 40 with value: 0.6612903225806451.\n",
      "[I 2023-06-08 17:21:11,405] Trial 239 finished with value: 0.6592741935483871 and parameters: {'learning_rate': 0.025446511826828527}. Best is trial 40 with value: 0.6612903225806451.\n",
      "[I 2023-06-08 17:21:12,777] Trial 240 finished with value: 0.6592741935483871 and parameters: {'learning_rate': 0.02402084722053708}. Best is trial 40 with value: 0.6612903225806451.\n",
      "[I 2023-06-08 17:21:14,022] Trial 241 finished with value: 0.6592741935483871 and parameters: {'learning_rate': 0.024861592719531603}. Best is trial 40 with value: 0.6612903225806451.\n",
      "[I 2023-06-08 17:21:15,337] Trial 242 finished with value: 0.657258064516129 and parameters: {'learning_rate': 0.023080062377650003}. Best is trial 40 with value: 0.6612903225806451.\n",
      "[I 2023-06-08 17:21:16,650] Trial 243 finished with value: 0.657258064516129 and parameters: {'learning_rate': 0.02622164870008671}. Best is trial 40 with value: 0.6612903225806451.\n",
      "[I 2023-06-08 17:21:17,920] Trial 244 finished with value: 0.6532258064516129 and parameters: {'learning_rate': 0.022002722487316547}. Best is trial 40 with value: 0.6612903225806451.\n",
      "[I 2023-06-08 17:21:19,164] Trial 245 finished with value: 0.657258064516129 and parameters: {'learning_rate': 0.024174256152626764}. Best is trial 40 with value: 0.6612903225806451.\n",
      "[I 2023-06-08 17:21:20,488] Trial 246 finished with value: 0.655241935483871 and parameters: {'learning_rate': 0.02572458457275874}. Best is trial 40 with value: 0.6612903225806451.\n",
      "[I 2023-06-08 17:21:21,745] Trial 247 finished with value: 0.6592741935483871 and parameters: {'learning_rate': 0.027216162015429802}. Best is trial 40 with value: 0.6612903225806451.\n",
      "[I 2023-06-08 17:21:22,983] Trial 248 finished with value: 0.657258064516129 and parameters: {'learning_rate': 0.023062665285692854}. Best is trial 40 with value: 0.6612903225806451.\n",
      "[I 2023-06-08 17:21:24,145] Trial 249 finished with value: 0.657258064516129 and parameters: {'learning_rate': 0.024398729026563024}. Best is trial 40 with value: 0.6612903225806451.\n",
      "[I 2023-06-08 17:21:25,426] Trial 250 finished with value: 0.6512096774193549 and parameters: {'learning_rate': 0.020035911795329788}. Best is trial 40 with value: 0.6612903225806451.\n",
      "[I 2023-06-08 17:21:26,626] Trial 251 finished with value: 0.6532258064516129 and parameters: {'learning_rate': 0.021844018899326818}. Best is trial 40 with value: 0.6612903225806451.\n",
      "[I 2023-06-08 17:21:28,681] Trial 252 finished with value: 0.6532258064516129 and parameters: {'learning_rate': 0.02102053937356288}. Best is trial 40 with value: 0.6612903225806451.\n",
      "[I 2023-06-08 17:21:30,005] Trial 253 finished with value: 0.655241935483871 and parameters: {'learning_rate': 0.023350989402596382}. Best is trial 40 with value: 0.6612903225806451.\n",
      "[I 2023-06-08 17:21:31,417] Trial 254 finished with value: 0.6532258064516129 and parameters: {'learning_rate': 0.03205247108413917}. Best is trial 40 with value: 0.6612903225806451.\n",
      "[I 2023-06-08 17:21:32,644] Trial 255 finished with value: 0.6592741935483871 and parameters: {'learning_rate': 0.024901833784274505}. Best is trial 40 with value: 0.6612903225806451.\n",
      "[I 2023-06-08 17:21:34,021] Trial 256 finished with value: 0.6532258064516129 and parameters: {'learning_rate': 0.026649429776780618}. Best is trial 40 with value: 0.6612903225806451.\n",
      "[I 2023-06-08 17:21:35,287] Trial 257 finished with value: 0.657258064516129 and parameters: {'learning_rate': 0.02256835507204023}. Best is trial 40 with value: 0.6612903225806451.\n",
      "[I 2023-06-08 17:21:36,612] Trial 258 finished with value: 0.6451612903225806 and parameters: {'learning_rate': 0.052889774819567976}. Best is trial 40 with value: 0.6612903225806451.\n",
      "[I 2023-06-08 17:21:38,026] Trial 259 finished with value: 0.6592741935483871 and parameters: {'learning_rate': 0.02532573228110419}. Best is trial 40 with value: 0.6612903225806451.\n",
      "[I 2023-06-08 17:21:39,356] Trial 260 finished with value: 0.6532258064516129 and parameters: {'learning_rate': 0.02947491018816566}. Best is trial 40 with value: 0.6612903225806451.\n",
      "[I 2023-06-08 17:21:40,598] Trial 261 finished with value: 0.6512096774193549 and parameters: {'learning_rate': 0.036018125042687144}. Best is trial 40 with value: 0.6612903225806451.\n",
      "[I 2023-06-08 17:21:41,821] Trial 262 finished with value: 0.6592741935483871 and parameters: {'learning_rate': 0.023906774952009147}. Best is trial 40 with value: 0.6612903225806451.\n",
      "[I 2023-06-08 17:21:43,044] Trial 263 finished with value: 0.655241935483871 and parameters: {'learning_rate': 0.02786525525434108}. Best is trial 40 with value: 0.6612903225806451.\n",
      "[I 2023-06-08 17:21:44,266] Trial 264 finished with value: 0.657258064516129 and parameters: {'learning_rate': 0.026200596238320342}. Best is trial 40 with value: 0.6612903225806451.\n",
      "[I 2023-06-08 17:21:45,561] Trial 265 finished with value: 0.655241935483871 and parameters: {'learning_rate': 0.01916425993376308}. Best is trial 40 with value: 0.6612903225806451.\n",
      "[I 2023-06-08 17:21:46,951] Trial 266 finished with value: 0.6532258064516129 and parameters: {'learning_rate': 0.0206969943380865}. Best is trial 40 with value: 0.6612903225806451.\n",
      "[I 2023-06-08 17:21:48,232] Trial 267 finished with value: 0.655241935483871 and parameters: {'learning_rate': 0.022440635921813522}. Best is trial 40 with value: 0.6612903225806451.\n",
      "[I 2023-06-08 17:21:49,504] Trial 268 finished with value: 0.657258064516129 and parameters: {'learning_rate': 0.02439745682297567}. Best is trial 40 with value: 0.6612903225806451.\n",
      "[I 2023-06-08 17:21:50,895] Trial 269 finished with value: 0.657258064516129 and parameters: {'learning_rate': 0.023762202567212638}. Best is trial 40 with value: 0.6612903225806451.\n"
     ]
    },
    {
     "name": "stderr",
     "output_type": "stream",
     "text": [
      "[I 2023-06-08 17:21:52,105] Trial 270 finished with value: 0.657258064516129 and parameters: {'learning_rate': 0.025586953310370714}. Best is trial 40 with value: 0.6612903225806451.\n",
      "[I 2023-06-08 17:21:53,337] Trial 271 finished with value: 0.657258064516129 and parameters: {'learning_rate': 0.04987472434817593}. Best is trial 40 with value: 0.6612903225806451.\n",
      "[I 2023-06-08 17:21:54,647] Trial 272 finished with value: 0.6532258064516129 and parameters: {'learning_rate': 0.021412717610955555}. Best is trial 40 with value: 0.6612903225806451.\n",
      "[I 2023-06-08 17:21:55,964] Trial 273 finished with value: 0.657258064516129 and parameters: {'learning_rate': 0.023025372423739685}. Best is trial 40 with value: 0.6612903225806451.\n",
      "[I 2023-06-08 17:21:57,300] Trial 274 finished with value: 0.6592741935483871 and parameters: {'learning_rate': 0.027426244549512667}. Best is trial 40 with value: 0.6612903225806451.\n",
      "[I 2023-06-08 17:21:58,638] Trial 275 finished with value: 0.6592741935483871 and parameters: {'learning_rate': 0.024840017178270824}. Best is trial 40 with value: 0.6612903225806451.\n",
      "[I 2023-06-08 17:21:59,944] Trial 276 finished with value: 0.657258064516129 and parameters: {'learning_rate': 0.022127201348251538}. Best is trial 40 with value: 0.6612903225806451.\n",
      "[I 2023-06-08 17:22:01,213] Trial 277 finished with value: 0.657258064516129 and parameters: {'learning_rate': 0.023740498008966007}. Best is trial 40 with value: 0.6612903225806451.\n",
      "[I 2023-06-08 17:22:02,524] Trial 278 finished with value: 0.655241935483871 and parameters: {'learning_rate': 0.025981787349858287}. Best is trial 40 with value: 0.6612903225806451.\n",
      "[I 2023-06-08 17:22:03,877] Trial 279 finished with value: 0.6532258064516129 and parameters: {'learning_rate': 0.01844785624092645}. Best is trial 40 with value: 0.6612903225806451.\n",
      "[I 2023-06-08 17:22:05,158] Trial 280 finished with value: 0.657258064516129 and parameters: {'learning_rate': 0.024669190157348957}. Best is trial 40 with value: 0.6612903225806451.\n",
      "[I 2023-06-08 17:22:06,518] Trial 281 finished with value: 0.657258064516129 and parameters: {'learning_rate': 0.0229759615170582}. Best is trial 40 with value: 0.6612903225806451.\n",
      "[I 2023-06-08 17:22:07,871] Trial 282 finished with value: 0.6512096774193549 and parameters: {'learning_rate': 0.01992034501814036}. Best is trial 40 with value: 0.6612903225806451.\n",
      "[I 2023-06-08 17:22:09,027] Trial 283 finished with value: 0.6532258064516129 and parameters: {'learning_rate': 0.017428654501360944}. Best is trial 40 with value: 0.6612903225806451.\n",
      "[I 2023-06-08 17:22:10,270] Trial 284 finished with value: 0.6532258064516129 and parameters: {'learning_rate': 0.021610845882544156}. Best is trial 40 with value: 0.6612903225806451.\n",
      "[I 2023-06-08 17:22:11,560] Trial 285 finished with value: 0.655241935483871 and parameters: {'learning_rate': 0.02859860564820092}. Best is trial 40 with value: 0.6612903225806451.\n",
      "[I 2023-06-08 17:22:12,878] Trial 286 finished with value: 0.6532258064516129 and parameters: {'learning_rate': 0.02669440991051325}. Best is trial 40 with value: 0.6612903225806451.\n",
      "[I 2023-06-08 17:22:14,127] Trial 287 finished with value: 0.657258064516129 and parameters: {'learning_rate': 0.023776532865004554}. Best is trial 40 with value: 0.6612903225806451.\n",
      "[I 2023-06-08 17:22:15,364] Trial 288 finished with value: 0.6592741935483871 and parameters: {'learning_rate': 0.025431460966181676}. Best is trial 40 with value: 0.6612903225806451.\n",
      "[I 2023-06-08 17:22:16,637] Trial 289 finished with value: 0.6471774193548387 and parameters: {'learning_rate': 0.06660534425303158}. Best is trial 40 with value: 0.6612903225806451.\n",
      "[I 2023-06-08 17:22:17,836] Trial 290 finished with value: 0.657258064516129 and parameters: {'learning_rate': 0.022572223714179187}. Best is trial 40 with value: 0.6612903225806451.\n",
      "[I 2023-06-08 17:22:19,063] Trial 291 finished with value: 0.657258064516129 and parameters: {'learning_rate': 0.024240965242852484}. Best is trial 40 with value: 0.6612903225806451.\n",
      "[I 2023-06-08 17:22:20,317] Trial 292 finished with value: 0.6532258064516129 and parameters: {'learning_rate': 0.029711472246552312}. Best is trial 40 with value: 0.6612903225806451.\n",
      "[I 2023-06-08 17:22:21,555] Trial 293 finished with value: 0.6512096774193549 and parameters: {'learning_rate': 0.020599256832032776}. Best is trial 40 with value: 0.6612903225806451.\n",
      "[I 2023-06-08 17:22:22,796] Trial 294 finished with value: 0.657258064516129 and parameters: {'learning_rate': 0.027169110700956782}. Best is trial 40 with value: 0.6612903225806451.\n",
      "[I 2023-06-08 17:22:24,013] Trial 295 finished with value: 0.6592741935483871 and parameters: {'learning_rate': 0.025229580059439725}. Best is trial 40 with value: 0.6612903225806451.\n",
      "[I 2023-06-08 17:22:25,203] Trial 296 finished with value: 0.6592741935483871 and parameters: {'learning_rate': 0.02328844764293094}. Best is trial 40 with value: 0.6612903225806451.\n",
      "[I 2023-06-08 17:22:26,415] Trial 297 finished with value: 0.6532258064516129 and parameters: {'learning_rate': 0.021823400779674703}. Best is trial 40 with value: 0.6612903225806451.\n",
      "[I 2023-06-08 17:22:27,736] Trial 298 finished with value: 0.6431451612903226 and parameters: {'learning_rate': 0.04044974451025997}. Best is trial 40 with value: 0.6612903225806451.\n",
      "[I 2023-06-08 17:22:29,008] Trial 299 finished with value: 0.6592741935483871 and parameters: {'learning_rate': 0.0326729372457041}. Best is trial 40 with value: 0.6612903225806451.\n",
      "[I 2023-06-08 17:22:30,336] Trial 300 finished with value: 0.6491935483870968 and parameters: {'learning_rate': 0.030855999205202315}. Best is trial 40 with value: 0.6612903225806451.\n",
      "[I 2023-06-08 17:22:31,610] Trial 301 finished with value: 0.657258064516129 and parameters: {'learning_rate': 0.026155481046758754}. Best is trial 40 with value: 0.6612903225806451.\n",
      "[I 2023-06-08 17:22:32,868] Trial 302 finished with value: 0.657258064516129 and parameters: {'learning_rate': 0.02429318840217954}. Best is trial 40 with value: 0.6612903225806451.\n",
      "[I 2023-06-08 17:22:34,074] Trial 303 finished with value: 0.657258064516129 and parameters: {'learning_rate': 0.02287194978591538}. Best is trial 40 with value: 0.6612903225806451.\n",
      "[I 2023-06-08 17:22:35,339] Trial 304 finished with value: 0.6592741935483871 and parameters: {'learning_rate': 0.024899192594505588}. Best is trial 40 with value: 0.6612903225806451.\n",
      "[I 2023-06-08 17:22:36,685] Trial 305 finished with value: 0.6532258064516129 and parameters: {'learning_rate': 0.021412562868018913}. Best is trial 40 with value: 0.6612903225806451.\n",
      "[I 2023-06-08 17:22:38,064] Trial 306 finished with value: 0.6592741935483871 and parameters: {'learning_rate': 0.02370616744884149}. Best is trial 40 with value: 0.6612903225806451.\n",
      "[I 2023-06-08 17:22:40,151] Trial 307 finished with value: 0.657258064516129 and parameters: {'learning_rate': 0.05737053072579754}. Best is trial 40 with value: 0.6612903225806451.\n",
      "[I 2023-06-08 17:22:41,620] Trial 308 finished with value: 0.6491935483870968 and parameters: {'learning_rate': 0.03480873226389659}. Best is trial 40 with value: 0.6612903225806451.\n",
      "[I 2023-06-08 17:22:42,920] Trial 309 finished with value: 0.655241935483871 and parameters: {'learning_rate': 0.02779463438992853}. Best is trial 40 with value: 0.6612903225806451.\n",
      "[I 2023-06-08 17:22:44,277] Trial 310 finished with value: 0.655241935483871 and parameters: {'learning_rate': 0.025948246121280175}. Best is trial 40 with value: 0.6612903225806451.\n",
      "[I 2023-06-08 17:22:45,595] Trial 311 finished with value: 0.655241935483871 and parameters: {'learning_rate': 0.02234556290889688}. Best is trial 40 with value: 0.6612903225806451.\n",
      "[I 2023-06-08 17:22:46,786] Trial 312 finished with value: 0.6592741935483871 and parameters: {'learning_rate': 0.02490362464333664}. Best is trial 40 with value: 0.6612903225806451.\n",
      "[I 2023-06-08 17:22:48,035] Trial 313 finished with value: 0.655241935483871 and parameters: {'learning_rate': 0.023350416907961156}. Best is trial 40 with value: 0.6612903225806451.\n",
      "[I 2023-06-08 17:22:49,240] Trial 314 finished with value: 0.6512096774193549 and parameters: {'learning_rate': 0.01678451157282886}. Best is trial 40 with value: 0.6612903225806451.\n"
     ]
    },
    {
     "name": "stderr",
     "output_type": "stream",
     "text": [
      "[I 2023-06-08 17:22:50,561] Trial 315 finished with value: 0.6532258064516129 and parameters: {'learning_rate': 0.026719095567868743}. Best is trial 40 with value: 0.6612903225806451.\n",
      "[I 2023-06-08 17:22:51,828] Trial 316 finished with value: 0.6592741935483871 and parameters: {'learning_rate': 0.024090788387655097}. Best is trial 40 with value: 0.6612903225806451.\n",
      "[I 2023-06-08 17:22:53,102] Trial 317 finished with value: 0.6532258064516129 and parameters: {'learning_rate': 0.021035705351514482}. Best is trial 40 with value: 0.6612903225806451.\n",
      "[I 2023-06-08 17:22:54,354] Trial 318 finished with value: 0.657258064516129 and parameters: {'learning_rate': 0.02250182183985659}. Best is trial 40 with value: 0.6612903225806451.\n",
      "[I 2023-06-08 17:22:55,585] Trial 319 finished with value: 0.657258064516129 and parameters: {'learning_rate': 0.02555459337052296}. Best is trial 40 with value: 0.6612903225806451.\n"
     ]
    }
   ],
   "source": [
    "xgb_study = optuna.create_study(direction='maximize')\n",
    "xgb_study.optimize(xgb_objective, n_trials=1000)"
   ]
  },
  {
   "cell_type": "code",
   "execution_count": null,
   "id": "ebd3af05",
   "metadata": {},
   "outputs": [],
   "source": []
  },
  {
   "cell_type": "code",
   "execution_count": null,
   "id": "5fff8d6a",
   "metadata": {},
   "outputs": [],
   "source": []
  },
  {
   "cell_type": "code",
   "execution_count": null,
   "id": "02b55cb4",
   "metadata": {},
   "outputs": [],
   "source": []
  },
  {
   "cell_type": "code",
   "execution_count": null,
   "id": "d685c5ca",
   "metadata": {},
   "outputs": [],
   "source": []
  },
  {
   "cell_type": "code",
   "execution_count": null,
   "id": "53d63118",
   "metadata": {},
   "outputs": [],
   "source": []
  },
  {
   "cell_type": "code",
   "execution_count": null,
   "id": "cb71ddd8",
   "metadata": {},
   "outputs": [],
   "source": []
  },
  {
   "cell_type": "code",
   "execution_count": null,
   "id": "92a3ae87",
   "metadata": {},
   "outputs": [],
   "source": []
  },
  {
   "cell_type": "code",
   "execution_count": null,
   "id": "0c91bbe0",
   "metadata": {},
   "outputs": [],
   "source": []
  },
  {
   "cell_type": "code",
   "execution_count": 28,
   "id": "e5f62387",
   "metadata": {},
   "outputs": [
    {
     "name": "stdout",
     "output_type": "stream",
     "text": [
      "Number of finished LGB trials: 200\n",
      "LGB Best trial:\n",
      "  Value: 0.6733870967741935\n",
      "  Params: \n",
      "    max_depth: 8\n",
      "    num_boost_round: 153\n",
      "    min_data_in_leaf: 17\n",
      "    n_estimators: 934\n",
      "    num_leaves: 290\n",
      "    learning_rate: 0.03303130202695269\n",
      "    feature_fraction: 0.5996426902668317\n",
      "    bagging_fraction: 0.7298975471329071\n",
      "    bagging_freq: 3\n",
      "    lambda_l1: 0.3444854238234955\n",
      "    lambda_l2: 0.32190717279983505\n"
     ]
    }
   ],
   "source": [
    "print('Number of finished LGB trials: {}'.format(len(lgb_study.trials)))\n",
    "print('LGB Best trial:')\n",
    "lgb_trial = lgb_study.best_trial\n",
    "\n",
    "print('  Value: {}'.format(lgb_trial.value))\n",
    "print('  Params: ')\n",
    "\n",
    "for key, value in lgb_trial.params.items():\n",
    "    print('    {}: {}'.format(key, value))\n"
   ]
  },
  {
   "cell_type": "code",
   "execution_count": 29,
   "id": "019acdbe",
   "metadata": {},
   "outputs": [
    {
     "name": "stdout",
     "output_type": "stream",
     "text": [
      "Number of finished XGB trials: 1000\n",
      "XGB Best trial:\n",
      "  Value: 0.6814516129032258\n",
      "  Params: \n",
      "    n_estimators: 39\n",
      "    eta: 0.046266993101541545\n",
      "    max_depth: 11\n",
      "    subsample: 0.9668185485055184\n",
      "    colsample_bytree: 0.7588174046835052\n",
      "    lambda: 23.696127246498573\n"
     ]
    }
   ],
   "source": [
    "print('Number of finished XGB trials: {}'.format(len(xgb_study.trials)))\n",
    "print('XGB Best trial:')\n",
    "xgb_trial = xgb_study.best_trial\n",
    "\n",
    "print('  Value: {}'.format(xgb_trial.value))\n",
    "print('  Params: ')\n",
    "\n",
    "for key, value in xgb_trial.params.items():\n",
    "    print('    {}: {}'.format(key, value))"
   ]
  },
  {
   "cell_type": "code",
   "execution_count": 42,
   "id": "c7380aff",
   "metadata": {},
   "outputs": [],
   "source": [
    "lgb_best_params = lgb_study.best_params\n",
    "lgb_best_params['random_state'] = 42\n",
    "lgb_model = lgb.LGBMClassifier(**lgb_best_params)\n",
    "lgb_model.fit(X_train, y_train)\n",
    "lgb_preds = lgb_model.predict(X_val)\n",
    "lgb_accuracy = accuracy_score(y_val, lgb_preds)\n"
   ]
  },
  {
   "cell_type": "code",
   "execution_count": 34,
   "id": "a1dd85c3",
   "metadata": {},
   "outputs": [
    {
     "data": {
      "text/html": [
       "<style>#sk-container-id-1 {color: black;background-color: white;}#sk-container-id-1 pre{padding: 0;}#sk-container-id-1 div.sk-toggleable {background-color: white;}#sk-container-id-1 label.sk-toggleable__label {cursor: pointer;display: block;width: 100%;margin-bottom: 0;padding: 0.3em;box-sizing: border-box;text-align: center;}#sk-container-id-1 label.sk-toggleable__label-arrow:before {content: \"▸\";float: left;margin-right: 0.25em;color: #696969;}#sk-container-id-1 label.sk-toggleable__label-arrow:hover:before {color: black;}#sk-container-id-1 div.sk-estimator:hover label.sk-toggleable__label-arrow:before {color: black;}#sk-container-id-1 div.sk-toggleable__content {max-height: 0;max-width: 0;overflow: hidden;text-align: left;background-color: #f0f8ff;}#sk-container-id-1 div.sk-toggleable__content pre {margin: 0.2em;color: black;border-radius: 0.25em;background-color: #f0f8ff;}#sk-container-id-1 input.sk-toggleable__control:checked~div.sk-toggleable__content {max-height: 200px;max-width: 100%;overflow: auto;}#sk-container-id-1 input.sk-toggleable__control:checked~label.sk-toggleable__label-arrow:before {content: \"▾\";}#sk-container-id-1 div.sk-estimator input.sk-toggleable__control:checked~label.sk-toggleable__label {background-color: #d4ebff;}#sk-container-id-1 div.sk-label input.sk-toggleable__control:checked~label.sk-toggleable__label {background-color: #d4ebff;}#sk-container-id-1 input.sk-hidden--visually {border: 0;clip: rect(1px 1px 1px 1px);clip: rect(1px, 1px, 1px, 1px);height: 1px;margin: -1px;overflow: hidden;padding: 0;position: absolute;width: 1px;}#sk-container-id-1 div.sk-estimator {font-family: monospace;background-color: #f0f8ff;border: 1px dotted black;border-radius: 0.25em;box-sizing: border-box;margin-bottom: 0.5em;}#sk-container-id-1 div.sk-estimator:hover {background-color: #d4ebff;}#sk-container-id-1 div.sk-parallel-item::after {content: \"\";width: 100%;border-bottom: 1px solid gray;flex-grow: 1;}#sk-container-id-1 div.sk-label:hover label.sk-toggleable__label {background-color: #d4ebff;}#sk-container-id-1 div.sk-serial::before {content: \"\";position: absolute;border-left: 1px solid gray;box-sizing: border-box;top: 0;bottom: 0;left: 50%;z-index: 0;}#sk-container-id-1 div.sk-serial {display: flex;flex-direction: column;align-items: center;background-color: white;padding-right: 0.2em;padding-left: 0.2em;position: relative;}#sk-container-id-1 div.sk-item {position: relative;z-index: 1;}#sk-container-id-1 div.sk-parallel {display: flex;align-items: stretch;justify-content: center;background-color: white;position: relative;}#sk-container-id-1 div.sk-item::before, #sk-container-id-1 div.sk-parallel-item::before {content: \"\";position: absolute;border-left: 1px solid gray;box-sizing: border-box;top: 0;bottom: 0;left: 50%;z-index: -1;}#sk-container-id-1 div.sk-parallel-item {display: flex;flex-direction: column;z-index: 1;position: relative;background-color: white;}#sk-container-id-1 div.sk-parallel-item:first-child::after {align-self: flex-end;width: 50%;}#sk-container-id-1 div.sk-parallel-item:last-child::after {align-self: flex-start;width: 50%;}#sk-container-id-1 div.sk-parallel-item:only-child::after {width: 0;}#sk-container-id-1 div.sk-dashed-wrapped {border: 1px dashed gray;margin: 0 0.4em 0.5em 0.4em;box-sizing: border-box;padding-bottom: 0.4em;background-color: white;}#sk-container-id-1 div.sk-label label {font-family: monospace;font-weight: bold;display: inline-block;line-height: 1.2em;}#sk-container-id-1 div.sk-label-container {text-align: center;}#sk-container-id-1 div.sk-container {/* jupyter's `normalize.less` sets `[hidden] { display: none; }` but bootstrap.min.css set `[hidden] { display: none !important; }` so we also need the `!important` here to be able to override the default hidden behavior on the sphinx rendered scikit-learn.org. See: https://github.com/scikit-learn/scikit-learn/issues/21755 */display: inline-block !important;position: relative;}#sk-container-id-1 div.sk-text-repr-fallback {display: none;}</style><div id=\"sk-container-id-1\" class=\"sk-top-container\"><div class=\"sk-text-repr-fallback\"><pre>XGBClassifier(base_score=None, booster=None, callbacks=None,\n",
       "              colsample_bylevel=None, colsample_bynode=None,\n",
       "              colsample_bytree=0.7588174046835052, early_stopping_rounds=None,\n",
       "              enable_categorical=False, eta=0.046266993101541545,\n",
       "              eval_metric=None, feature_types=None, gamma=None, gpu_id=None,\n",
       "              grow_policy=None, importance_type=None,\n",
       "              interaction_constraints=None, lambda=23.696127246498573,\n",
       "              learning_rate=None, max_bin=None, max_cat_threshold=None,\n",
       "              max_cat_to_onehot=None, max_delta_step=None, max_depth=11,\n",
       "              max_leaves=None, min_child_weight=None, missing=nan,\n",
       "              monotone_constraints=None, n_estimators=39, n_jobs=None,\n",
       "              num_parallel_tree=None, ...)</pre><b>In a Jupyter environment, please rerun this cell to show the HTML representation or trust the notebook. <br />On GitHub, the HTML representation is unable to render, please try loading this page with nbviewer.org.</b></div><div class=\"sk-container\" hidden><div class=\"sk-item\"><div class=\"sk-estimator sk-toggleable\"><input class=\"sk-toggleable__control sk-hidden--visually\" id=\"sk-estimator-id-1\" type=\"checkbox\" checked><label for=\"sk-estimator-id-1\" class=\"sk-toggleable__label sk-toggleable__label-arrow\">XGBClassifier</label><div class=\"sk-toggleable__content\"><pre>XGBClassifier(base_score=None, booster=None, callbacks=None,\n",
       "              colsample_bylevel=None, colsample_bynode=None,\n",
       "              colsample_bytree=0.7588174046835052, early_stopping_rounds=None,\n",
       "              enable_categorical=False, eta=0.046266993101541545,\n",
       "              eval_metric=None, feature_types=None, gamma=None, gpu_id=None,\n",
       "              grow_policy=None, importance_type=None,\n",
       "              interaction_constraints=None, lambda=23.696127246498573,\n",
       "              learning_rate=None, max_bin=None, max_cat_threshold=None,\n",
       "              max_cat_to_onehot=None, max_delta_step=None, max_depth=11,\n",
       "              max_leaves=None, min_child_weight=None, missing=nan,\n",
       "              monotone_constraints=None, n_estimators=39, n_jobs=None,\n",
       "              num_parallel_tree=None, ...)</pre></div></div></div></div></div>"
      ],
      "text/plain": [
       "XGBClassifier(base_score=None, booster=None, callbacks=None,\n",
       "              colsample_bylevel=None, colsample_bynode=None,\n",
       "              colsample_bytree=0.7588174046835052, early_stopping_rounds=None,\n",
       "              enable_categorical=False, eta=0.046266993101541545,\n",
       "              eval_metric=None, feature_types=None, gamma=None, gpu_id=None,\n",
       "              grow_policy=None, importance_type=None,\n",
       "              interaction_constraints=None, lambda=23.696127246498573,\n",
       "              learning_rate=None, max_bin=None, max_cat_threshold=None,\n",
       "              max_cat_to_onehot=None, max_delta_step=None, max_depth=11,\n",
       "              max_leaves=None, min_child_weight=None, missing=nan,\n",
       "              monotone_constraints=None, n_estimators=39, n_jobs=None,\n",
       "              num_parallel_tree=None, ...)"
      ]
     },
     "execution_count": 34,
     "metadata": {},
     "output_type": "execute_result"
    }
   ],
   "source": [
    "xgb_params = xgb_trial.params\n",
    "XGB = xgb(**xgb_params)\n",
    "XGB.fit(X_train, y_train)\n"
   ]
  },
  {
   "cell_type": "code",
   "execution_count": 40,
   "id": "4e0c85e7",
   "metadata": {},
   "outputs": [
    {
     "ename": "TypeError",
     "evalue": "LGBMClassifier.predict() missing 1 required positional argument: 'X'",
     "output_type": "error",
     "traceback": [
      "\u001b[0;31m---------------------------------------------------------------------------\u001b[0m",
      "\u001b[0;31mTypeError\u001b[0m                                 Traceback (most recent call last)",
      "Cell \u001b[0;32mIn[40], line 1\u001b[0m\n\u001b[0;32m----> 1\u001b[0m LGB_pred \u001b[38;5;241m=\u001b[39m \u001b[43mlgb\u001b[49m\u001b[38;5;241;43m.\u001b[39;49m\u001b[43mLGBMClassifier\u001b[49m\u001b[38;5;241;43m.\u001b[39;49m\u001b[43mpredict\u001b[49m\u001b[43m(\u001b[49m\u001b[43mX_val\u001b[49m\u001b[43m)\u001b[49m\n",
      "\u001b[0;31mTypeError\u001b[0m: LGBMClassifier.predict() missing 1 required positional argument: 'X'"
     ]
    }
   ],
   "source": [
    "LGB_pred = lgb.LGBMClassifier.predict(X_val)"
   ]
  },
  {
   "cell_type": "code",
   "execution_count": 41,
   "id": "27f68d6e",
   "metadata": {},
   "outputs": [],
   "source": [
    "XGB_pred = XGB.predict(X_val)"
   ]
  },
  {
   "cell_type": "code",
   "execution_count": 43,
   "id": "5e1cfd8d",
   "metadata": {},
   "outputs": [
    {
     "name": "stdout",
     "output_type": "stream",
     "text": [
      "Accuracy after tuning: 65.73%\n",
      "\n",
      "Accuracy after tuning: 66.53%\n"
     ]
    }
   ],
   "source": [
    "accuracy = accuracy_score(y_val, lgb_preds)\n",
    "print(\"Accuracy after tuning: %.2f%%\" % (accuracy * 100.0))\n",
    "accuracy = accuracy_score(y_val, XGB_pred)\n",
    "print(\"\\nAccuracy after tuning: %.2f%%\" % (accuracy * 100.0))"
   ]
  },
  {
   "cell_type": "code",
   "execution_count": 44,
   "id": "63360140",
   "metadata": {},
   "outputs": [
    {
     "name": "stdout",
     "output_type": "stream",
     "text": [
      "-- LGB --\n",
      "Train ACC : 1.000\n",
      "Val ACC : 0.657\n",
      "\n",
      "-- XGB --\n",
      "Train ACC : 0.894\n",
      "Val ACC : 0.665\n"
     ]
    }
   ],
   "source": [
    "print(\"-- LGB --\")\n",
    "print(\"Train ACC : %.3f\" % accuracy_score(y_train, lgb_model.predict(X_train)))\n",
    "print(\"Val ACC : %.3f\" % accuracy_score(y_val, lgb_model.predict(X_val)))\n",
    "\n",
    "print(\"\\n-- XGB --\")\n",
    "print(\"Train ACC : %.3f\" % accuracy_score(y_train, XGB.predict(X_train)))\n",
    "print(\"Val ACC : %.3f\" % accuracy_score(y_val, XGB.predict(X_val)))"
   ]
  },
  {
   "cell_type": "code",
   "execution_count": 45,
   "id": "76a9873f",
   "metadata": {},
   "outputs": [
    {
     "name": "stdout",
     "output_type": "stream",
     "text": [
      "              precision    recall  f1-score   support\n",
      "\n",
      "           0       0.45      0.06      0.11       168\n",
      "           1       0.67      0.96      0.79       328\n",
      "\n",
      "    accuracy                           0.66       496\n",
      "   macro avg       0.56      0.51      0.45       496\n",
      "weighted avg       0.59      0.66      0.56       496\n",
      "\n",
      "              precision    recall  f1-score   support\n",
      "\n",
      "           0       0.56      0.05      0.10       168\n",
      "           1       0.67      0.98      0.79       328\n",
      "\n",
      "    accuracy                           0.67       496\n",
      "   macro avg       0.62      0.52      0.45       496\n",
      "weighted avg       0.63      0.67      0.56       496\n",
      "\n"
     ]
    }
   ],
   "source": [
    "print(classification_report(y_val, lgb_preds))\n",
    "print(classification_report(y_val, XGB_pred))"
   ]
  },
  {
   "cell_type": "code",
   "execution_count": 46,
   "id": "37828c7a",
   "metadata": {},
   "outputs": [],
   "source": [
    "LGB_submission = pd.read_csv('./sample_submission.csv')\n",
    "LGB_pred = pd.DataFrame(lgb_preds.astype(int))\n",
    "LGB_submission['first_party_winner'] = LGB_pred\n",
    "LGB_submission.to_csv(\"./LGB_tryout_submission.csv\", index=False)\n",
    "\n",
    "XGB_submission = pd.read_csv('./sample_submission.csv')\n",
    "XGB_pred = pd.DataFrame(XGB_pred.astype(int))\n",
    "XGB_submission['first_party_winner'] = XGB_pred\n",
    "XGB_submission.to_csv(\"./XGB_tryout_submission.csv\", index=False)"
   ]
  },
  {
   "cell_type": "code",
   "execution_count": null,
   "id": "6f83a909",
   "metadata": {},
   "outputs": [],
   "source": []
  },
  {
   "cell_type": "code",
   "execution_count": null,
   "id": "92d272ec",
   "metadata": {},
   "outputs": [],
   "source": []
  },
  {
   "cell_type": "code",
   "execution_count": null,
   "id": "3bf40683",
   "metadata": {},
   "outputs": [],
   "source": []
  },
  {
   "cell_type": "code",
   "execution_count": null,
   "id": "75b5d0ce",
   "metadata": {},
   "outputs": [],
   "source": [
    "submission = pd.DataFrame_csv('../')"
   ]
  }
 ],
 "metadata": {
  "kernelspec": {
   "display_name": "Python 3 (ipykernel)",
   "language": "python",
   "name": "python3"
  },
  "language_info": {
   "codemirror_mode": {
    "name": "ipython",
    "version": 3
   },
   "file_extension": ".py",
   "mimetype": "text/x-python",
   "name": "python",
   "nbconvert_exporter": "python",
   "pygments_lexer": "ipython3",
   "version": "3.10.9"
  }
 },
 "nbformat": 4,
 "nbformat_minor": 5
}
