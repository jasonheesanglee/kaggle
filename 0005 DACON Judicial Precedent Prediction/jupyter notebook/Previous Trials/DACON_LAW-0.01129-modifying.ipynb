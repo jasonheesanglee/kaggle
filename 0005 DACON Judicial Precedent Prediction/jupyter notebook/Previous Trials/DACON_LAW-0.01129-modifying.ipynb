{
 "cells": [
  {
   "cell_type": "code",
   "execution_count": 1,
   "id": "adc258d5",
   "metadata": {},
   "outputs": [],
   "source": [
    "import pandas as pd\n",
    "import numpy as np\n",
    "import matplotlib.pyplot as plt\n",
    "import seaborn as sns\n",
    "from xgboost.sklearn import XGBClassifier\n",
    "from sklearn.model_selection import train_test_split\n",
    "from sklearn.metrics import accuracy_score, classification_report\n",
    "from sklearn.datasets import load_wine\n",
    "from sklearn.preprocessing import LabelEncoder, StandardScaler\n",
    "import optuna\n",
    "\n",
    "import warnings\n",
    "warnings.filterwarnings('ignore')"
   ]
  },
  {
   "cell_type": "code",
   "execution_count": 14,
   "id": "247af21d",
   "metadata": {},
   "outputs": [],
   "source": [
    "train = pd.read_csv('./train.csv')\n",
    "test = pd.read_csv('./test.csv')\n",
    "sample_submission = pd.read_csv('./sample_submission.csv')"
   ]
  },
  {
   "cell_type": "code",
   "execution_count": 3,
   "id": "05839546",
   "metadata": {
    "collapsed": true
   },
   "outputs": [
    {
     "data": {
      "text/html": [
       "<div>\n",
       "<style scoped>\n",
       "    .dataframe tbody tr th:only-of-type {\n",
       "        vertical-align: middle;\n",
       "    }\n",
       "\n",
       "    .dataframe tbody tr th {\n",
       "        vertical-align: top;\n",
       "    }\n",
       "\n",
       "    .dataframe thead th {\n",
       "        text-align: right;\n",
       "    }\n",
       "</style>\n",
       "<table border=\"1\" class=\"dataframe\">\n",
       "  <thead>\n",
       "    <tr style=\"text-align: right;\">\n",
       "      <th></th>\n",
       "      <th>ID</th>\n",
       "      <th>first_party</th>\n",
       "      <th>second_party</th>\n",
       "      <th>facts</th>\n",
       "      <th>first_party_winner</th>\n",
       "    </tr>\n",
       "  </thead>\n",
       "  <tbody>\n",
       "    <tr>\n",
       "      <th>0</th>\n",
       "      <td>TRAIN_0000</td>\n",
       "      <td>Phil A. St. Amant</td>\n",
       "      <td>Herman A. Thompson</td>\n",
       "      <td>On June 27, 1962, Phil St. Amant, a candidate ...</td>\n",
       "      <td>1</td>\n",
       "    </tr>\n",
       "    <tr>\n",
       "      <th>1</th>\n",
       "      <td>TRAIN_0001</td>\n",
       "      <td>Stephen Duncan</td>\n",
       "      <td>Lawrence Owens</td>\n",
       "      <td>Ramon Nelson was riding his bike when he suffe...</td>\n",
       "      <td>0</td>\n",
       "    </tr>\n",
       "    <tr>\n",
       "      <th>2</th>\n",
       "      <td>TRAIN_0002</td>\n",
       "      <td>Billy Joe Magwood</td>\n",
       "      <td>Tony Patterson, Warden, et al.</td>\n",
       "      <td>An Alabama state court convicted Billy Joe Mag...</td>\n",
       "      <td>1</td>\n",
       "    </tr>\n",
       "    <tr>\n",
       "      <th>3</th>\n",
       "      <td>TRAIN_0003</td>\n",
       "      <td>Linkletter</td>\n",
       "      <td>Walker</td>\n",
       "      <td>Victor Linkletter was convicted in state court...</td>\n",
       "      <td>0</td>\n",
       "    </tr>\n",
       "    <tr>\n",
       "      <th>4</th>\n",
       "      <td>TRAIN_0004</td>\n",
       "      <td>William Earl Fikes</td>\n",
       "      <td>Alabama</td>\n",
       "      <td>On April 24, 1953 in Selma, Alabama, an intrud...</td>\n",
       "      <td>1</td>\n",
       "    </tr>\n",
       "    <tr>\n",
       "      <th>...</th>\n",
       "      <td>...</td>\n",
       "      <td>...</td>\n",
       "      <td>...</td>\n",
       "      <td>...</td>\n",
       "      <td>...</td>\n",
       "    </tr>\n",
       "    <tr>\n",
       "      <th>2473</th>\n",
       "      <td>TRAIN_2473</td>\n",
       "      <td>HollyFrontier Cheyenne Refining, LLC, et al.</td>\n",
       "      <td>Renewable Fuels Association, et al.</td>\n",
       "      <td>Congress amended the Clean Air Act through the...</td>\n",
       "      <td>1</td>\n",
       "    </tr>\n",
       "    <tr>\n",
       "      <th>2474</th>\n",
       "      <td>TRAIN_2474</td>\n",
       "      <td>Grupo Mexicano de Desarrollo, S. A.</td>\n",
       "      <td>Alliance Bond Fund, Inc.</td>\n",
       "      <td>Alliance Bond Fund, Inc., an investment fund, ...</td>\n",
       "      <td>1</td>\n",
       "    </tr>\n",
       "    <tr>\n",
       "      <th>2475</th>\n",
       "      <td>TRAIN_2475</td>\n",
       "      <td>Peguero</td>\n",
       "      <td>United States</td>\n",
       "      <td>In 1992, the District Court sentenced Manuel D...</td>\n",
       "      <td>0</td>\n",
       "    </tr>\n",
       "    <tr>\n",
       "      <th>2476</th>\n",
       "      <td>TRAIN_2476</td>\n",
       "      <td>Immigration and Naturalization Service</td>\n",
       "      <td>St. Cyr</td>\n",
       "      <td>On March 8, 1996, Enrico St. Cyr, a lawful per...</td>\n",
       "      <td>0</td>\n",
       "    </tr>\n",
       "    <tr>\n",
       "      <th>2477</th>\n",
       "      <td>TRAIN_2477</td>\n",
       "      <td>Markman</td>\n",
       "      <td>Westview Instruments, Inc.</td>\n",
       "      <td>Herbert Markman owns the patent to a system th...</td>\n",
       "      <td>0</td>\n",
       "    </tr>\n",
       "  </tbody>\n",
       "</table>\n",
       "<p>2478 rows × 5 columns</p>\n",
       "</div>"
      ],
      "text/plain": [
       "              ID                                   first_party  \\\n",
       "0     TRAIN_0000                             Phil A. St. Amant   \n",
       "1     TRAIN_0001                                Stephen Duncan   \n",
       "2     TRAIN_0002                             Billy Joe Magwood   \n",
       "3     TRAIN_0003                                    Linkletter   \n",
       "4     TRAIN_0004                            William Earl Fikes   \n",
       "...          ...                                           ...   \n",
       "2473  TRAIN_2473  HollyFrontier Cheyenne Refining, LLC, et al.   \n",
       "2474  TRAIN_2474           Grupo Mexicano de Desarrollo, S. A.   \n",
       "2475  TRAIN_2475                                       Peguero   \n",
       "2476  TRAIN_2476        Immigration and Naturalization Service   \n",
       "2477  TRAIN_2477                                       Markman   \n",
       "\n",
       "                             second_party  \\\n",
       "0                      Herman A. Thompson   \n",
       "1                          Lawrence Owens   \n",
       "2          Tony Patterson, Warden, et al.   \n",
       "3                                  Walker   \n",
       "4                                 Alabama   \n",
       "...                                   ...   \n",
       "2473  Renewable Fuels Association, et al.   \n",
       "2474             Alliance Bond Fund, Inc.   \n",
       "2475                        United States   \n",
       "2476                              St. Cyr   \n",
       "2477           Westview Instruments, Inc.   \n",
       "\n",
       "                                                  facts  first_party_winner  \n",
       "0     On June 27, 1962, Phil St. Amant, a candidate ...                   1  \n",
       "1     Ramon Nelson was riding his bike when he suffe...                   0  \n",
       "2     An Alabama state court convicted Billy Joe Mag...                   1  \n",
       "3     Victor Linkletter was convicted in state court...                   0  \n",
       "4     On April 24, 1953 in Selma, Alabama, an intrud...                   1  \n",
       "...                                                 ...                 ...  \n",
       "2473  Congress amended the Clean Air Act through the...                   1  \n",
       "2474  Alliance Bond Fund, Inc., an investment fund, ...                   1  \n",
       "2475  In 1992, the District Court sentenced Manuel D...                   0  \n",
       "2476  On March 8, 1996, Enrico St. Cyr, a lawful per...                   0  \n",
       "2477  Herbert Markman owns the patent to a system th...                   0  \n",
       "\n",
       "[2478 rows x 5 columns]"
      ]
     },
     "execution_count": 3,
     "metadata": {},
     "output_type": "execute_result"
    }
   ],
   "source": [
    "train"
   ]
  },
  {
   "cell_type": "code",
   "execution_count": 4,
   "id": "8011b50f",
   "metadata": {
    "collapsed": true
   },
   "outputs": [
    {
     "data": {
      "text/html": [
       "<div>\n",
       "<style scoped>\n",
       "    .dataframe tbody tr th:only-of-type {\n",
       "        vertical-align: middle;\n",
       "    }\n",
       "\n",
       "    .dataframe tbody tr th {\n",
       "        vertical-align: top;\n",
       "    }\n",
       "\n",
       "    .dataframe thead th {\n",
       "        text-align: right;\n",
       "    }\n",
       "</style>\n",
       "<table border=\"1\" class=\"dataframe\">\n",
       "  <thead>\n",
       "    <tr style=\"text-align: right;\">\n",
       "      <th></th>\n",
       "      <th>ID</th>\n",
       "      <th>first_party</th>\n",
       "      <th>second_party</th>\n",
       "      <th>facts</th>\n",
       "    </tr>\n",
       "  </thead>\n",
       "  <tbody>\n",
       "    <tr>\n",
       "      <th>0</th>\n",
       "      <td>TEST_0000</td>\n",
       "      <td>Salerno</td>\n",
       "      <td>United States</td>\n",
       "      <td>The 1984 Bail Reform Act allowed the federal c...</td>\n",
       "    </tr>\n",
       "    <tr>\n",
       "      <th>1</th>\n",
       "      <td>TEST_0001</td>\n",
       "      <td>Milberg Weiss Bershad Hynes and Lerach</td>\n",
       "      <td>Lexecon, Inc.</td>\n",
       "      <td>Lexecon Inc. was a defendant in a class action...</td>\n",
       "    </tr>\n",
       "    <tr>\n",
       "      <th>2</th>\n",
       "      <td>TEST_0002</td>\n",
       "      <td>No. 07-582\\t Title: \\t Federal Communications ...</td>\n",
       "      <td>Fox Television Stations, Inc., et al.</td>\n",
       "      <td>In 2002 and 2003, Fox Television Stations broa...</td>\n",
       "    </tr>\n",
       "    <tr>\n",
       "      <th>3</th>\n",
       "      <td>TEST_0003</td>\n",
       "      <td>Harold Kaufman</td>\n",
       "      <td>United States</td>\n",
       "      <td>During his trial for armed robbery of a federa...</td>\n",
       "    </tr>\n",
       "    <tr>\n",
       "      <th>4</th>\n",
       "      <td>TEST_0004</td>\n",
       "      <td>Berger</td>\n",
       "      <td>Hanlon</td>\n",
       "      <td>In 1993, a magistrate judge issued a warrant a...</td>\n",
       "    </tr>\n",
       "    <tr>\n",
       "      <th>...</th>\n",
       "      <td>...</td>\n",
       "      <td>...</td>\n",
       "      <td>...</td>\n",
       "      <td>...</td>\n",
       "    </tr>\n",
       "    <tr>\n",
       "      <th>1235</th>\n",
       "      <td>TEST_1235</td>\n",
       "      <td>Haitian Centers Council, Inc., et al.</td>\n",
       "      <td>Chris Sale, Acting Commissioner, Immigration A...</td>\n",
       "      <td>According to Executive Order No. 12807 signed ...</td>\n",
       "    </tr>\n",
       "    <tr>\n",
       "      <th>1236</th>\n",
       "      <td>TEST_1236</td>\n",
       "      <td>Whitman</td>\n",
       "      <td>American Trucking Associations, Inc.</td>\n",
       "      <td>Section 109(a) of the Clean Air Act (CAA) requ...</td>\n",
       "    </tr>\n",
       "    <tr>\n",
       "      <th>1237</th>\n",
       "      <td>TEST_1237</td>\n",
       "      <td>Linda A. Matteo and John J. Madigan</td>\n",
       "      <td>William G. Barr</td>\n",
       "      <td>Linda Matteo and John Madigan created a plan f...</td>\n",
       "    </tr>\n",
       "    <tr>\n",
       "      <th>1238</th>\n",
       "      <td>TEST_1238</td>\n",
       "      <td>Washington State Apple Advertising Commission</td>\n",
       "      <td>Hunt</td>\n",
       "      <td>In 1972, the North Carolina Board of Agricultu...</td>\n",
       "    </tr>\n",
       "    <tr>\n",
       "      <th>1239</th>\n",
       "      <td>TEST_1239</td>\n",
       "      <td>Theodore Stovall</td>\n",
       "      <td>Wilfred Denno, Warden</td>\n",
       "      <td>On August 23, 1961, Dr. Paul Berheldt was stab...</td>\n",
       "    </tr>\n",
       "  </tbody>\n",
       "</table>\n",
       "<p>1240 rows × 4 columns</p>\n",
       "</div>"
      ],
      "text/plain": [
       "             ID                                        first_party  \\\n",
       "0     TEST_0000                                            Salerno   \n",
       "1     TEST_0001             Milberg Weiss Bershad Hynes and Lerach   \n",
       "2     TEST_0002  No. 07-582\\t Title: \\t Federal Communications ...   \n",
       "3     TEST_0003                                    Harold Kaufman    \n",
       "4     TEST_0004                                             Berger   \n",
       "...         ...                                                ...   \n",
       "1235  TEST_1235              Haitian Centers Council, Inc., et al.   \n",
       "1236  TEST_1236                                            Whitman   \n",
       "1237  TEST_1237                Linda A. Matteo and John J. Madigan   \n",
       "1238  TEST_1238      Washington State Apple Advertising Commission   \n",
       "1239  TEST_1239                                   Theodore Stovall   \n",
       "\n",
       "                                           second_party  \\\n",
       "0                                         United States   \n",
       "1                                         Lexecon, Inc.   \n",
       "2                 Fox Television Stations, Inc., et al.   \n",
       "3                                         United States   \n",
       "4                                                Hanlon   \n",
       "...                                                 ...   \n",
       "1235  Chris Sale, Acting Commissioner, Immigration A...   \n",
       "1236               American Trucking Associations, Inc.   \n",
       "1237                                    William G. Barr   \n",
       "1238                                               Hunt   \n",
       "1239                              Wilfred Denno, Warden   \n",
       "\n",
       "                                                  facts  \n",
       "0     The 1984 Bail Reform Act allowed the federal c...  \n",
       "1     Lexecon Inc. was a defendant in a class action...  \n",
       "2     In 2002 and 2003, Fox Television Stations broa...  \n",
       "3     During his trial for armed robbery of a federa...  \n",
       "4     In 1993, a magistrate judge issued a warrant a...  \n",
       "...                                                 ...  \n",
       "1235  According to Executive Order No. 12807 signed ...  \n",
       "1236  Section 109(a) of the Clean Air Act (CAA) requ...  \n",
       "1237  Linda Matteo and John Madigan created a plan f...  \n",
       "1238  In 1972, the North Carolina Board of Agricultu...  \n",
       "1239  On August 23, 1961, Dr. Paul Berheldt was stab...  \n",
       "\n",
       "[1240 rows x 4 columns]"
      ]
     },
     "execution_count": 4,
     "metadata": {},
     "output_type": "execute_result"
    }
   ],
   "source": [
    "test"
   ]
  },
  {
   "cell_type": "code",
   "execution_count": 5,
   "id": "597b85e8",
   "metadata": {
    "collapsed": true
   },
   "outputs": [
    {
     "data": {
      "text/html": [
       "<div>\n",
       "<style scoped>\n",
       "    .dataframe tbody tr th:only-of-type {\n",
       "        vertical-align: middle;\n",
       "    }\n",
       "\n",
       "    .dataframe tbody tr th {\n",
       "        vertical-align: top;\n",
       "    }\n",
       "\n",
       "    .dataframe thead th {\n",
       "        text-align: right;\n",
       "    }\n",
       "</style>\n",
       "<table border=\"1\" class=\"dataframe\">\n",
       "  <thead>\n",
       "    <tr style=\"text-align: right;\">\n",
       "      <th></th>\n",
       "      <th>ID</th>\n",
       "      <th>first_party_winner</th>\n",
       "    </tr>\n",
       "  </thead>\n",
       "  <tbody>\n",
       "    <tr>\n",
       "      <th>0</th>\n",
       "      <td>TEST_0000</td>\n",
       "      <td>0</td>\n",
       "    </tr>\n",
       "    <tr>\n",
       "      <th>1</th>\n",
       "      <td>TEST_0001</td>\n",
       "      <td>0</td>\n",
       "    </tr>\n",
       "    <tr>\n",
       "      <th>2</th>\n",
       "      <td>TEST_0002</td>\n",
       "      <td>0</td>\n",
       "    </tr>\n",
       "    <tr>\n",
       "      <th>3</th>\n",
       "      <td>TEST_0003</td>\n",
       "      <td>0</td>\n",
       "    </tr>\n",
       "    <tr>\n",
       "      <th>4</th>\n",
       "      <td>TEST_0004</td>\n",
       "      <td>0</td>\n",
       "    </tr>\n",
       "    <tr>\n",
       "      <th>...</th>\n",
       "      <td>...</td>\n",
       "      <td>...</td>\n",
       "    </tr>\n",
       "    <tr>\n",
       "      <th>1235</th>\n",
       "      <td>TEST_1235</td>\n",
       "      <td>0</td>\n",
       "    </tr>\n",
       "    <tr>\n",
       "      <th>1236</th>\n",
       "      <td>TEST_1236</td>\n",
       "      <td>0</td>\n",
       "    </tr>\n",
       "    <tr>\n",
       "      <th>1237</th>\n",
       "      <td>TEST_1237</td>\n",
       "      <td>0</td>\n",
       "    </tr>\n",
       "    <tr>\n",
       "      <th>1238</th>\n",
       "      <td>TEST_1238</td>\n",
       "      <td>0</td>\n",
       "    </tr>\n",
       "    <tr>\n",
       "      <th>1239</th>\n",
       "      <td>TEST_1239</td>\n",
       "      <td>0</td>\n",
       "    </tr>\n",
       "  </tbody>\n",
       "</table>\n",
       "<p>1240 rows × 2 columns</p>\n",
       "</div>"
      ],
      "text/plain": [
       "             ID  first_party_winner\n",
       "0     TEST_0000                   0\n",
       "1     TEST_0001                   0\n",
       "2     TEST_0002                   0\n",
       "3     TEST_0003                   0\n",
       "4     TEST_0004                   0\n",
       "...         ...                 ...\n",
       "1235  TEST_1235                   0\n",
       "1236  TEST_1236                   0\n",
       "1237  TEST_1237                   0\n",
       "1238  TEST_1238                   0\n",
       "1239  TEST_1239                   0\n",
       "\n",
       "[1240 rows x 2 columns]"
      ]
     },
     "execution_count": 5,
     "metadata": {},
     "output_type": "execute_result"
    }
   ],
   "source": [
    "sample_submission"
   ]
  },
  {
   "cell_type": "code",
   "execution_count": 15,
   "id": "eb2ef6ca",
   "metadata": {
    "collapsed": true
   },
   "outputs": [
    {
     "name": "stdout",
     "output_type": "stream",
     "text": [
      "<class 'pandas.core.frame.DataFrame'>\n",
      "RangeIndex: 2478 entries, 0 to 2477\n",
      "Data columns (total 5 columns):\n",
      " #   Column              Non-Null Count  Dtype \n",
      "---  ------              --------------  ----- \n",
      " 0   ID                  2478 non-null   object\n",
      " 1   first_party         2478 non-null   object\n",
      " 2   second_party        2478 non-null   object\n",
      " 3   facts               2478 non-null   object\n",
      " 4   first_party_winner  2478 non-null   int64 \n",
      "dtypes: int64(1), object(4)\n",
      "memory usage: 96.9+ KB\n",
      "\n",
      " ------------------------------------ \n",
      "\n",
      "<class 'pandas.core.frame.DataFrame'>\n",
      "RangeIndex: 1240 entries, 0 to 1239\n",
      "Data columns (total 4 columns):\n",
      " #   Column        Non-Null Count  Dtype \n",
      "---  ------        --------------  ----- \n",
      " 0   ID            1240 non-null   object\n",
      " 1   first_party   1240 non-null   object\n",
      " 2   second_party  1240 non-null   object\n",
      " 3   facts         1240 non-null   object\n",
      "dtypes: object(4)\n",
      "memory usage: 38.9+ KB\n"
     ]
    }
   ],
   "source": [
    "train.info()\n",
    "print(\"\\n ------------------------------------ \\n\")\n",
    "test.info()"
   ]
  },
  {
   "cell_type": "code",
   "execution_count": 16,
   "id": "c87a8072",
   "metadata": {},
   "outputs": [],
   "source": [
    "label_encoder = LabelEncoder()\n",
    "label_encoder.fit(train['ID'])\n",
    "train['ID'] = label_encoder.transform(train['ID'])\n",
    "label_encoder.fit(train['first_party'])\n",
    "train['first_party'] = label_encoder.transform(train['first_party'])\n",
    "label_encoder.fit(train['second_party'])\n",
    "train['second_party'] = label_encoder.transform(train['second_party'])\n",
    "label_encoder.fit(train['facts'])\n",
    "train['facts'] = label_encoder.transform(train['facts'])\n",
    "\n",
    "label_encoder.fit(test['ID'])\n",
    "test['ID'] = label_encoder.transform(test['ID'])\n",
    "label_encoder.fit(test['first_party'])\n",
    "test['first_party'] = label_encoder.transform(test['first_party'])\n",
    "label_encoder.fit(test['second_party'])\n",
    "test['second_party'] = label_encoder.transform(test['second_party'])\n",
    "label_encoder.fit(test['facts'])\n",
    "test['facts'] = label_encoder.transform(test['facts'])\n",
    "\n",
    "\n",
    "train_x = train.drop('first_party_winner', axis=1)\n",
    "train_y = train['first_party_winner']\n",
    "test_x = test"
   ]
  },
  {
   "cell_type": "code",
   "execution_count": 17,
   "id": "769851c2",
   "metadata": {
    "scrolled": true
   },
   "outputs": [
    {
     "name": "stdout",
     "output_type": "stream",
     "text": [
      "(1734, 4) (744, 4) (1734,) (744,)\n"
     ]
    }
   ],
   "source": [
    "X_train, X_val, y_train, y_val = train_test_split(train_x, train_y, test_size=0.3, random_state=42)\n",
    "print(X_train.shape, X_val.shape, y_train.shape, y_val.shape)"
   ]
  },
  {
   "cell_type": "code",
   "execution_count": 19,
   "id": "34f90705",
   "metadata": {},
   "outputs": [],
   "source": [
    "XGB = XGBClassifier(max_depth=10,\n",
    "                    n_estimators=25,\n",
    "                    grow_policy='depthwise',\n",
    "                    n_jobs=-1,\n",
    "                    random_state=42,\n",
    "                    tree_method='auto',\n",
    "                    use_label_encoder=False,\n",
    "                    eval_metric='mlogloss'\n",
    "                    )"
   ]
  },
  {
   "cell_type": "code",
   "execution_count": 20,
   "id": "de1c61e9",
   "metadata": {},
   "outputs": [
    {
     "data": {
      "text/html": [
       "<style>#sk-container-id-2 {color: black;background-color: white;}#sk-container-id-2 pre{padding: 0;}#sk-container-id-2 div.sk-toggleable {background-color: white;}#sk-container-id-2 label.sk-toggleable__label {cursor: pointer;display: block;width: 100%;margin-bottom: 0;padding: 0.3em;box-sizing: border-box;text-align: center;}#sk-container-id-2 label.sk-toggleable__label-arrow:before {content: \"▸\";float: left;margin-right: 0.25em;color: #696969;}#sk-container-id-2 label.sk-toggleable__label-arrow:hover:before {color: black;}#sk-container-id-2 div.sk-estimator:hover label.sk-toggleable__label-arrow:before {color: black;}#sk-container-id-2 div.sk-toggleable__content {max-height: 0;max-width: 0;overflow: hidden;text-align: left;background-color: #f0f8ff;}#sk-container-id-2 div.sk-toggleable__content pre {margin: 0.2em;color: black;border-radius: 0.25em;background-color: #f0f8ff;}#sk-container-id-2 input.sk-toggleable__control:checked~div.sk-toggleable__content {max-height: 200px;max-width: 100%;overflow: auto;}#sk-container-id-2 input.sk-toggleable__control:checked~label.sk-toggleable__label-arrow:before {content: \"▾\";}#sk-container-id-2 div.sk-estimator input.sk-toggleable__control:checked~label.sk-toggleable__label {background-color: #d4ebff;}#sk-container-id-2 div.sk-label input.sk-toggleable__control:checked~label.sk-toggleable__label {background-color: #d4ebff;}#sk-container-id-2 input.sk-hidden--visually {border: 0;clip: rect(1px 1px 1px 1px);clip: rect(1px, 1px, 1px, 1px);height: 1px;margin: -1px;overflow: hidden;padding: 0;position: absolute;width: 1px;}#sk-container-id-2 div.sk-estimator {font-family: monospace;background-color: #f0f8ff;border: 1px dotted black;border-radius: 0.25em;box-sizing: border-box;margin-bottom: 0.5em;}#sk-container-id-2 div.sk-estimator:hover {background-color: #d4ebff;}#sk-container-id-2 div.sk-parallel-item::after {content: \"\";width: 100%;border-bottom: 1px solid gray;flex-grow: 1;}#sk-container-id-2 div.sk-label:hover label.sk-toggleable__label {background-color: #d4ebff;}#sk-container-id-2 div.sk-serial::before {content: \"\";position: absolute;border-left: 1px solid gray;box-sizing: border-box;top: 0;bottom: 0;left: 50%;z-index: 0;}#sk-container-id-2 div.sk-serial {display: flex;flex-direction: column;align-items: center;background-color: white;padding-right: 0.2em;padding-left: 0.2em;position: relative;}#sk-container-id-2 div.sk-item {position: relative;z-index: 1;}#sk-container-id-2 div.sk-parallel {display: flex;align-items: stretch;justify-content: center;background-color: white;position: relative;}#sk-container-id-2 div.sk-item::before, #sk-container-id-2 div.sk-parallel-item::before {content: \"\";position: absolute;border-left: 1px solid gray;box-sizing: border-box;top: 0;bottom: 0;left: 50%;z-index: -1;}#sk-container-id-2 div.sk-parallel-item {display: flex;flex-direction: column;z-index: 1;position: relative;background-color: white;}#sk-container-id-2 div.sk-parallel-item:first-child::after {align-self: flex-end;width: 50%;}#sk-container-id-2 div.sk-parallel-item:last-child::after {align-self: flex-start;width: 50%;}#sk-container-id-2 div.sk-parallel-item:only-child::after {width: 0;}#sk-container-id-2 div.sk-dashed-wrapped {border: 1px dashed gray;margin: 0 0.4em 0.5em 0.4em;box-sizing: border-box;padding-bottom: 0.4em;background-color: white;}#sk-container-id-2 div.sk-label label {font-family: monospace;font-weight: bold;display: inline-block;line-height: 1.2em;}#sk-container-id-2 div.sk-label-container {text-align: center;}#sk-container-id-2 div.sk-container {/* jupyter's `normalize.less` sets `[hidden] { display: none; }` but bootstrap.min.css set `[hidden] { display: none !important; }` so we also need the `!important` here to be able to override the default hidden behavior on the sphinx rendered scikit-learn.org. See: https://github.com/scikit-learn/scikit-learn/issues/21755 */display: inline-block !important;position: relative;}#sk-container-id-2 div.sk-text-repr-fallback {display: none;}</style><div id=\"sk-container-id-2\" class=\"sk-top-container\"><div class=\"sk-text-repr-fallback\"><pre>XGBClassifier(base_score=None, booster=None, callbacks=None,\n",
       "              colsample_bylevel=None, colsample_bynode=None,\n",
       "              colsample_bytree=None, early_stopping_rounds=None,\n",
       "              enable_categorical=False, eval_metric=&#x27;mlogloss&#x27;,\n",
       "              feature_types=None, gamma=None, gpu_id=None,\n",
       "              grow_policy=&#x27;depthwise&#x27;, importance_type=None,\n",
       "              interaction_constraints=None, learning_rate=None, max_bin=None,\n",
       "              max_cat_threshold=None, max_cat_to_onehot=None,\n",
       "              max_delta_step=None, max_depth=10, max_leaves=None,\n",
       "              min_child_weight=None, missing=nan, monotone_constraints=None,\n",
       "              n_estimators=25, n_jobs=-1, num_parallel_tree=None,\n",
       "              predictor=None, random_state=42, ...)</pre><b>In a Jupyter environment, please rerun this cell to show the HTML representation or trust the notebook. <br />On GitHub, the HTML representation is unable to render, please try loading this page with nbviewer.org.</b></div><div class=\"sk-container\" hidden><div class=\"sk-item\"><div class=\"sk-estimator sk-toggleable\"><input class=\"sk-toggleable__control sk-hidden--visually\" id=\"sk-estimator-id-2\" type=\"checkbox\" checked><label for=\"sk-estimator-id-2\" class=\"sk-toggleable__label sk-toggleable__label-arrow\">XGBClassifier</label><div class=\"sk-toggleable__content\"><pre>XGBClassifier(base_score=None, booster=None, callbacks=None,\n",
       "              colsample_bylevel=None, colsample_bynode=None,\n",
       "              colsample_bytree=None, early_stopping_rounds=None,\n",
       "              enable_categorical=False, eval_metric=&#x27;mlogloss&#x27;,\n",
       "              feature_types=None, gamma=None, gpu_id=None,\n",
       "              grow_policy=&#x27;depthwise&#x27;, importance_type=None,\n",
       "              interaction_constraints=None, learning_rate=None, max_bin=None,\n",
       "              max_cat_threshold=None, max_cat_to_onehot=None,\n",
       "              max_delta_step=None, max_depth=10, max_leaves=None,\n",
       "              min_child_weight=None, missing=nan, monotone_constraints=None,\n",
       "              n_estimators=25, n_jobs=-1, num_parallel_tree=None,\n",
       "              predictor=None, random_state=42, ...)</pre></div></div></div></div></div>"
      ],
      "text/plain": [
       "XGBClassifier(base_score=None, booster=None, callbacks=None,\n",
       "              colsample_bylevel=None, colsample_bynode=None,\n",
       "              colsample_bytree=None, early_stopping_rounds=None,\n",
       "              enable_categorical=False, eval_metric='mlogloss',\n",
       "              feature_types=None, gamma=None, gpu_id=None,\n",
       "              grow_policy='depthwise', importance_type=None,\n",
       "              interaction_constraints=None, learning_rate=None, max_bin=None,\n",
       "              max_cat_threshold=None, max_cat_to_onehot=None,\n",
       "              max_delta_step=None, max_depth=10, max_leaves=None,\n",
       "              min_child_weight=None, missing=nan, monotone_constraints=None,\n",
       "              n_estimators=25, n_jobs=-1, num_parallel_tree=None,\n",
       "              predictor=None, random_state=42, ...)"
      ]
     },
     "execution_count": 20,
     "metadata": {},
     "output_type": "execute_result"
    }
   ],
   "source": [
    "XGB.fit(X_train, y_train)"
   ]
  },
  {
   "cell_type": "code",
   "execution_count": 21,
   "id": "a3527bca",
   "metadata": {},
   "outputs": [
    {
     "name": "stdout",
     "output_type": "stream",
     "text": [
      "        ID  first_party  second_party  facts\n",
      "0        0          847           969    478\n",
      "1        1          660           567    345\n",
      "2        2          710           356    250\n",
      "3        3          423           969    139\n",
      "4        4           97           420    234\n",
      "...    ...          ...           ...    ...\n",
      "1235  1235          417           171     25\n",
      "1236  1236         1027            43    455\n",
      "1237  1237          570          1036    346\n",
      "1238  1238         1015           446    204\n",
      "1239  1239          939          1031    379\n",
      "\n",
      "[1240 rows x 4 columns]\n",
      "        ID  first_party  second_party  facts\n",
      "0        0          847           969    478\n",
      "1        1          660           567    345\n",
      "2        2          710           356    250\n",
      "3        3          423           969    139\n",
      "4        4           97           420    234\n",
      "...    ...          ...           ...    ...\n",
      "1235  1235          417           171     25\n",
      "1236  1236         1027            43    455\n",
      "1237  1237          570          1036    346\n",
      "1238  1238         1015           446    204\n",
      "1239  1239          939          1031    379\n",
      "\n",
      "[1240 rows x 4 columns]\n"
     ]
    }
   ],
   "source": [
    "print(test_x)\n",
    "X_test = pd.get_dummies(data=test_x)\n",
    "print(X_test)\n",
    "XGB_pred = XGB.predict(X_test)"
   ]
  },
  {
   "cell_type": "code",
   "execution_count": 25,
   "id": "35d306a6",
   "metadata": {},
   "outputs": [
    {
     "name": "stdout",
     "output_type": "stream",
     "text": [
      "1753    1\n",
      "259     1\n",
      "2072    1\n",
      "1000    0\n",
      "56      0\n",
      "       ..\n",
      "591     1\n",
      "2415    1\n",
      "1446    0\n",
      "1839    1\n",
      "1975    0\n",
      "Name: first_party_winner, Length: 744, dtype: int64\n"
     ]
    }
   ],
   "source": [
    "print(y_val)"
   ]
  },
  {
   "cell_type": "code",
   "execution_count": 26,
   "id": "abf5f13d",
   "metadata": {
    "scrolled": true
   },
   "outputs": [
    {
     "ename": "ValueError",
     "evalue": "Found input variables with inconsistent numbers of samples: [744, 1240]",
     "output_type": "error",
     "traceback": [
      "\u001b[0;31m---------------------------------------------------------------------------\u001b[0m",
      "\u001b[0;31mValueError\u001b[0m                                Traceback (most recent call last)",
      "Cell \u001b[0;32mIn[26], line 1\u001b[0m\n\u001b[0;32m----> 1\u001b[0m accuracy \u001b[38;5;241m=\u001b[39m \u001b[43maccuracy_score\u001b[49m\u001b[43m(\u001b[49m\u001b[43my_val\u001b[49m\u001b[43m,\u001b[49m\u001b[43m \u001b[49m\u001b[43mXGB_pred\u001b[49m\u001b[43m)\u001b[49m\n\u001b[1;32m      2\u001b[0m \u001b[38;5;28mprint\u001b[39m(\u001b[38;5;124m\"\u001b[39m\u001b[38;5;124mAccuracy: \u001b[39m\u001b[38;5;132;01m%.2f\u001b[39;00m\u001b[38;5;132;01m%%\u001b[39;00m\u001b[38;5;124m\"\u001b[39m \u001b[38;5;241m%\u001b[39m (accuracy \u001b[38;5;241m*\u001b[39m \u001b[38;5;241m100.0\u001b[39m))\n",
      "File \u001b[0;32m/opt/homebrew/Caskroom/miniconda/base/lib/python3.10/site-packages/sklearn/utils/_param_validation.py:192\u001b[0m, in \u001b[0;36mvalidate_params.<locals>.decorator.<locals>.wrapper\u001b[0;34m(*args, **kwargs)\u001b[0m\n\u001b[1;32m    187\u001b[0m validate_parameter_constraints(\n\u001b[1;32m    188\u001b[0m     parameter_constraints, params, caller_name\u001b[38;5;241m=\u001b[39mfunc\u001b[38;5;241m.\u001b[39m\u001b[38;5;18m__qualname__\u001b[39m\n\u001b[1;32m    189\u001b[0m )\n\u001b[1;32m    191\u001b[0m \u001b[38;5;28;01mtry\u001b[39;00m:\n\u001b[0;32m--> 192\u001b[0m     \u001b[38;5;28;01mreturn\u001b[39;00m \u001b[43mfunc\u001b[49m\u001b[43m(\u001b[49m\u001b[38;5;241;43m*\u001b[39;49m\u001b[43margs\u001b[49m\u001b[43m,\u001b[49m\u001b[43m \u001b[49m\u001b[38;5;241;43m*\u001b[39;49m\u001b[38;5;241;43m*\u001b[39;49m\u001b[43mkwargs\u001b[49m\u001b[43m)\u001b[49m\n\u001b[1;32m    193\u001b[0m \u001b[38;5;28;01mexcept\u001b[39;00m InvalidParameterError \u001b[38;5;28;01mas\u001b[39;00m e:\n\u001b[1;32m    194\u001b[0m     \u001b[38;5;66;03m# When the function is just a wrapper around an estimator, we allow\u001b[39;00m\n\u001b[1;32m    195\u001b[0m     \u001b[38;5;66;03m# the function to delegate validation to the estimator, but we replace\u001b[39;00m\n\u001b[1;32m    196\u001b[0m     \u001b[38;5;66;03m# the name of the estimator by the name of the function in the error\u001b[39;00m\n\u001b[1;32m    197\u001b[0m     \u001b[38;5;66;03m# message to avoid confusion.\u001b[39;00m\n\u001b[1;32m    198\u001b[0m     msg \u001b[38;5;241m=\u001b[39m re\u001b[38;5;241m.\u001b[39msub(\n\u001b[1;32m    199\u001b[0m         \u001b[38;5;124mr\u001b[39m\u001b[38;5;124m\"\u001b[39m\u001b[38;5;124mparameter of \u001b[39m\u001b[38;5;124m\\\u001b[39m\u001b[38;5;124mw+ must be\u001b[39m\u001b[38;5;124m\"\u001b[39m,\n\u001b[1;32m    200\u001b[0m         \u001b[38;5;124mf\u001b[39m\u001b[38;5;124m\"\u001b[39m\u001b[38;5;124mparameter of \u001b[39m\u001b[38;5;132;01m{\u001b[39;00mfunc\u001b[38;5;241m.\u001b[39m\u001b[38;5;18m__qualname__\u001b[39m\u001b[38;5;132;01m}\u001b[39;00m\u001b[38;5;124m must be\u001b[39m\u001b[38;5;124m\"\u001b[39m,\n\u001b[1;32m    201\u001b[0m         \u001b[38;5;28mstr\u001b[39m(e),\n\u001b[1;32m    202\u001b[0m     )\n",
      "File \u001b[0;32m/opt/homebrew/Caskroom/miniconda/base/lib/python3.10/site-packages/sklearn/metrics/_classification.py:221\u001b[0m, in \u001b[0;36maccuracy_score\u001b[0;34m(y_true, y_pred, normalize, sample_weight)\u001b[0m\n\u001b[1;32m    155\u001b[0m \u001b[38;5;124;03m\"\"\"Accuracy classification score.\u001b[39;00m\n\u001b[1;32m    156\u001b[0m \n\u001b[1;32m    157\u001b[0m \u001b[38;5;124;03mIn multilabel classification, this function computes subset accuracy:\u001b[39;00m\n\u001b[0;32m   (...)\u001b[0m\n\u001b[1;32m    217\u001b[0m \u001b[38;5;124;03m0.5\u001b[39;00m\n\u001b[1;32m    218\u001b[0m \u001b[38;5;124;03m\"\"\"\u001b[39;00m\n\u001b[1;32m    220\u001b[0m \u001b[38;5;66;03m# Compute accuracy for each possible representation\u001b[39;00m\n\u001b[0;32m--> 221\u001b[0m y_type, y_true, y_pred \u001b[38;5;241m=\u001b[39m \u001b[43m_check_targets\u001b[49m\u001b[43m(\u001b[49m\u001b[43my_true\u001b[49m\u001b[43m,\u001b[49m\u001b[43m \u001b[49m\u001b[43my_pred\u001b[49m\u001b[43m)\u001b[49m\n\u001b[1;32m    222\u001b[0m check_consistent_length(y_true, y_pred, sample_weight)\n\u001b[1;32m    223\u001b[0m \u001b[38;5;28;01mif\u001b[39;00m y_type\u001b[38;5;241m.\u001b[39mstartswith(\u001b[38;5;124m\"\u001b[39m\u001b[38;5;124mmultilabel\u001b[39m\u001b[38;5;124m\"\u001b[39m):\n",
      "File \u001b[0;32m/opt/homebrew/Caskroom/miniconda/base/lib/python3.10/site-packages/sklearn/metrics/_classification.py:86\u001b[0m, in \u001b[0;36m_check_targets\u001b[0;34m(y_true, y_pred)\u001b[0m\n\u001b[1;32m     59\u001b[0m \u001b[38;5;28;01mdef\u001b[39;00m \u001b[38;5;21m_check_targets\u001b[39m(y_true, y_pred):\n\u001b[1;32m     60\u001b[0m     \u001b[38;5;124;03m\"\"\"Check that y_true and y_pred belong to the same classification task.\u001b[39;00m\n\u001b[1;32m     61\u001b[0m \n\u001b[1;32m     62\u001b[0m \u001b[38;5;124;03m    This converts multiclass or binary types to a common shape, and raises a\u001b[39;00m\n\u001b[0;32m   (...)\u001b[0m\n\u001b[1;32m     84\u001b[0m \u001b[38;5;124;03m    y_pred : array or indicator matrix\u001b[39;00m\n\u001b[1;32m     85\u001b[0m \u001b[38;5;124;03m    \"\"\"\u001b[39;00m\n\u001b[0;32m---> 86\u001b[0m     \u001b[43mcheck_consistent_length\u001b[49m\u001b[43m(\u001b[49m\u001b[43my_true\u001b[49m\u001b[43m,\u001b[49m\u001b[43m \u001b[49m\u001b[43my_pred\u001b[49m\u001b[43m)\u001b[49m\n\u001b[1;32m     87\u001b[0m     type_true \u001b[38;5;241m=\u001b[39m type_of_target(y_true, input_name\u001b[38;5;241m=\u001b[39m\u001b[38;5;124m\"\u001b[39m\u001b[38;5;124my_true\u001b[39m\u001b[38;5;124m\"\u001b[39m)\n\u001b[1;32m     88\u001b[0m     type_pred \u001b[38;5;241m=\u001b[39m type_of_target(y_pred, input_name\u001b[38;5;241m=\u001b[39m\u001b[38;5;124m\"\u001b[39m\u001b[38;5;124my_pred\u001b[39m\u001b[38;5;124m\"\u001b[39m)\n",
      "File \u001b[0;32m/opt/homebrew/Caskroom/miniconda/base/lib/python3.10/site-packages/sklearn/utils/validation.py:397\u001b[0m, in \u001b[0;36mcheck_consistent_length\u001b[0;34m(*arrays)\u001b[0m\n\u001b[1;32m    395\u001b[0m uniques \u001b[38;5;241m=\u001b[39m np\u001b[38;5;241m.\u001b[39munique(lengths)\n\u001b[1;32m    396\u001b[0m \u001b[38;5;28;01mif\u001b[39;00m \u001b[38;5;28mlen\u001b[39m(uniques) \u001b[38;5;241m>\u001b[39m \u001b[38;5;241m1\u001b[39m:\n\u001b[0;32m--> 397\u001b[0m     \u001b[38;5;28;01mraise\u001b[39;00m \u001b[38;5;167;01mValueError\u001b[39;00m(\n\u001b[1;32m    398\u001b[0m         \u001b[38;5;124m\"\u001b[39m\u001b[38;5;124mFound input variables with inconsistent numbers of samples: \u001b[39m\u001b[38;5;132;01m%r\u001b[39;00m\u001b[38;5;124m\"\u001b[39m\n\u001b[1;32m    399\u001b[0m         \u001b[38;5;241m%\u001b[39m [\u001b[38;5;28mint\u001b[39m(l) \u001b[38;5;28;01mfor\u001b[39;00m l \u001b[38;5;129;01min\u001b[39;00m lengths]\n\u001b[1;32m    400\u001b[0m     )\n",
      "\u001b[0;31mValueError\u001b[0m: Found input variables with inconsistent numbers of samples: [744, 1240]"
     ]
    }
   ],
   "source": [
    "accuracy = accuracy_score(y_val, XGB_pred)\n",
    "print(\"Accuracy: %.2f%%\" % (accuracy * 100.0))"
   ]
  },
  {
   "cell_type": "code",
   "execution_count": 27,
   "id": "d7aec1d6",
   "metadata": {
    "scrolled": true
   },
   "outputs": [
    {
     "ename": "ValueError",
     "evalue": "Found input variables with inconsistent numbers of samples: [744, 1240]",
     "output_type": "error",
     "traceback": [
      "\u001b[0;31m---------------------------------------------------------------------------\u001b[0m",
      "\u001b[0;31mValueError\u001b[0m                                Traceback (most recent call last)",
      "Cell \u001b[0;32mIn[27], line 1\u001b[0m\n\u001b[0;32m----> 1\u001b[0m \u001b[38;5;28mprint\u001b[39m(\u001b[43mclassification_report\u001b[49m\u001b[43m(\u001b[49m\u001b[43my_val\u001b[49m\u001b[43m,\u001b[49m\u001b[43m \u001b[49m\u001b[43mXGB_pred\u001b[49m\u001b[43m)\u001b[49m)\n",
      "File \u001b[0;32m/opt/homebrew/Caskroom/miniconda/base/lib/python3.10/site-packages/sklearn/metrics/_classification.py:2310\u001b[0m, in \u001b[0;36mclassification_report\u001b[0;34m(y_true, y_pred, labels, target_names, sample_weight, digits, output_dict, zero_division)\u001b[0m\n\u001b[1;32m   2195\u001b[0m \u001b[38;5;28;01mdef\u001b[39;00m \u001b[38;5;21mclassification_report\u001b[39m(\n\u001b[1;32m   2196\u001b[0m     y_true,\n\u001b[1;32m   2197\u001b[0m     y_pred,\n\u001b[0;32m   (...)\u001b[0m\n\u001b[1;32m   2204\u001b[0m     zero_division\u001b[38;5;241m=\u001b[39m\u001b[38;5;124m\"\u001b[39m\u001b[38;5;124mwarn\u001b[39m\u001b[38;5;124m\"\u001b[39m,\n\u001b[1;32m   2205\u001b[0m ):\n\u001b[1;32m   2206\u001b[0m     \u001b[38;5;124;03m\"\"\"Build a text report showing the main classification metrics.\u001b[39;00m\n\u001b[1;32m   2207\u001b[0m \n\u001b[1;32m   2208\u001b[0m \u001b[38;5;124;03m    Read more in the :ref:`User Guide <classification_report>`.\u001b[39;00m\n\u001b[0;32m   (...)\u001b[0m\n\u001b[1;32m   2307\u001b[0m \u001b[38;5;124;03m    <BLANKLINE>\u001b[39;00m\n\u001b[1;32m   2308\u001b[0m \u001b[38;5;124;03m    \"\"\"\u001b[39;00m\n\u001b[0;32m-> 2310\u001b[0m     y_type, y_true, y_pred \u001b[38;5;241m=\u001b[39m \u001b[43m_check_targets\u001b[49m\u001b[43m(\u001b[49m\u001b[43my_true\u001b[49m\u001b[43m,\u001b[49m\u001b[43m \u001b[49m\u001b[43my_pred\u001b[49m\u001b[43m)\u001b[49m\n\u001b[1;32m   2312\u001b[0m     \u001b[38;5;28;01mif\u001b[39;00m labels \u001b[38;5;129;01mis\u001b[39;00m \u001b[38;5;28;01mNone\u001b[39;00m:\n\u001b[1;32m   2313\u001b[0m         labels \u001b[38;5;241m=\u001b[39m unique_labels(y_true, y_pred)\n",
      "File \u001b[0;32m/opt/homebrew/Caskroom/miniconda/base/lib/python3.10/site-packages/sklearn/metrics/_classification.py:86\u001b[0m, in \u001b[0;36m_check_targets\u001b[0;34m(y_true, y_pred)\u001b[0m\n\u001b[1;32m     59\u001b[0m \u001b[38;5;28;01mdef\u001b[39;00m \u001b[38;5;21m_check_targets\u001b[39m(y_true, y_pred):\n\u001b[1;32m     60\u001b[0m     \u001b[38;5;124;03m\"\"\"Check that y_true and y_pred belong to the same classification task.\u001b[39;00m\n\u001b[1;32m     61\u001b[0m \n\u001b[1;32m     62\u001b[0m \u001b[38;5;124;03m    This converts multiclass or binary types to a common shape, and raises a\u001b[39;00m\n\u001b[0;32m   (...)\u001b[0m\n\u001b[1;32m     84\u001b[0m \u001b[38;5;124;03m    y_pred : array or indicator matrix\u001b[39;00m\n\u001b[1;32m     85\u001b[0m \u001b[38;5;124;03m    \"\"\"\u001b[39;00m\n\u001b[0;32m---> 86\u001b[0m     \u001b[43mcheck_consistent_length\u001b[49m\u001b[43m(\u001b[49m\u001b[43my_true\u001b[49m\u001b[43m,\u001b[49m\u001b[43m \u001b[49m\u001b[43my_pred\u001b[49m\u001b[43m)\u001b[49m\n\u001b[1;32m     87\u001b[0m     type_true \u001b[38;5;241m=\u001b[39m type_of_target(y_true, input_name\u001b[38;5;241m=\u001b[39m\u001b[38;5;124m\"\u001b[39m\u001b[38;5;124my_true\u001b[39m\u001b[38;5;124m\"\u001b[39m)\n\u001b[1;32m     88\u001b[0m     type_pred \u001b[38;5;241m=\u001b[39m type_of_target(y_pred, input_name\u001b[38;5;241m=\u001b[39m\u001b[38;5;124m\"\u001b[39m\u001b[38;5;124my_pred\u001b[39m\u001b[38;5;124m\"\u001b[39m)\n",
      "File \u001b[0;32m/opt/homebrew/Caskroom/miniconda/base/lib/python3.10/site-packages/sklearn/utils/validation.py:397\u001b[0m, in \u001b[0;36mcheck_consistent_length\u001b[0;34m(*arrays)\u001b[0m\n\u001b[1;32m    395\u001b[0m uniques \u001b[38;5;241m=\u001b[39m np\u001b[38;5;241m.\u001b[39munique(lengths)\n\u001b[1;32m    396\u001b[0m \u001b[38;5;28;01mif\u001b[39;00m \u001b[38;5;28mlen\u001b[39m(uniques) \u001b[38;5;241m>\u001b[39m \u001b[38;5;241m1\u001b[39m:\n\u001b[0;32m--> 397\u001b[0m     \u001b[38;5;28;01mraise\u001b[39;00m \u001b[38;5;167;01mValueError\u001b[39;00m(\n\u001b[1;32m    398\u001b[0m         \u001b[38;5;124m\"\u001b[39m\u001b[38;5;124mFound input variables with inconsistent numbers of samples: \u001b[39m\u001b[38;5;132;01m%r\u001b[39;00m\u001b[38;5;124m\"\u001b[39m\n\u001b[1;32m    399\u001b[0m         \u001b[38;5;241m%\u001b[39m [\u001b[38;5;28mint\u001b[39m(l) \u001b[38;5;28;01mfor\u001b[39;00m l \u001b[38;5;129;01min\u001b[39;00m lengths]\n\u001b[1;32m    400\u001b[0m     )\n",
      "\u001b[0;31mValueError\u001b[0m: Found input variables with inconsistent numbers of samples: [744, 1240]"
     ]
    }
   ],
   "source": [
    "print(classification_report(y_val, XGB_pred))"
   ]
  },
  {
   "cell_type": "code",
   "execution_count": 28,
   "id": "271f3bab",
   "metadata": {},
   "outputs": [],
   "source": [
    "def objective(trial):\n",
    "    \"\"\"Define the objective function\"\"\"\n",
    "\n",
    "    params = {\n",
    "        'max_depth': trial.suggest_int('max_depth', 1, 9),\n",
    "        'learning_rate': trial.suggest_loguniform('learning_rate', 0.01, 1.0),\n",
    "        'n_estimators': trial.suggest_int('n_estimators', 50, 500),\n",
    "        'min_child_weight': trial.suggest_int('min_child_weight', 1, 10),\n",
    "        'gamma': trial.suggest_loguniform('gamma', 1e-8, 1.0),\n",
    "        'subsample': trial.suggest_loguniform('subsample', 0.01, 1.0),\n",
    "        'colsample_bytree': trial.suggest_loguniform('colsample_bytree', 0.01, 1.0),\n",
    "        'reg_alpha': trial.suggest_loguniform('reg_alpha', 1e-8, 1.0),\n",
    "        'reg_lambda': trial.suggest_loguniform('reg_lambda', 1e-8, 1.0),\n",
    "        'eval_metric': 'mlogloss',\n",
    "        'use_label_encoder': False\n",
    "    }\n",
    "\n",
    "    # Fit the model\n",
    "    optuna_model = XGBClassifier(**params)\n",
    "    optuna_model.fit(X_train, y_train)\n",
    "\n",
    "    # Make predictions\n",
    "    XGB_pred = optuna_model.predict(X_val)\n",
    "\n",
    "    # Evaluate predictions\n",
    "    accuracy = accuracy_score(y_val, XGB_pred)\n",
    "    return accuracy"
   ]
  },
  {
   "cell_type": "code",
   "execution_count": 29,
   "id": "f441a24d",
   "metadata": {},
   "outputs": [
    {
     "name": "stderr",
     "output_type": "stream",
     "text": [
      "[I 2023-06-06 18:00:36,919] A new study created in memory with name: no-name-92aa09a7-2018-4e5e-89af-dd98c00a1c8c\n",
      "[I 2023-06-06 18:00:36,964] Trial 0 finished with value: 0.6706989247311828 and parameters: {'max_depth': 2, 'learning_rate': 0.019232990192595115, 'n_estimators': 109, 'min_child_weight': 3, 'gamma': 3.065682237012287e-06, 'subsample': 0.3010628084548075, 'colsample_bytree': 0.010362803999082883, 'reg_alpha': 2.9268423405556826e-05, 'reg_lambda': 0.315668737415772}. Best is trial 0 with value: 0.6706989247311828.\n",
      "[I 2023-06-06 18:00:36,988] Trial 1 finished with value: 0.5591397849462365 and parameters: {'max_depth': 8, 'learning_rate': 0.5561831452328493, 'n_estimators': 117, 'min_child_weight': 6, 'gamma': 6.076337954601188e-08, 'subsample': 0.026472928286010715, 'colsample_bytree': 0.031609207385723294, 'reg_alpha': 3.776247571865427e-08, 'reg_lambda': 0.01915688243398078}. Best is trial 0 with value: 0.6706989247311828.\n",
      "[I 2023-06-06 18:00:37,040] Trial 2 finished with value: 0.6706989247311828 and parameters: {'max_depth': 1, 'learning_rate': 0.02587330529046159, 'n_estimators': 296, 'min_child_weight': 9, 'gamma': 4.154231498157017e-06, 'subsample': 0.017233038797505627, 'colsample_bytree': 0.03353349969975848, 'reg_alpha': 5.896950186169963e-05, 'reg_lambda': 0.0007034011992708313}. Best is trial 0 with value: 0.6706989247311828.\n",
      "[I 2023-06-06 18:00:37,171] Trial 3 finished with value: 0.5806451612903226 and parameters: {'max_depth': 5, 'learning_rate': 0.7787963089372311, 'n_estimators': 474, 'min_child_weight': 8, 'gamma': 0.08784840298678634, 'subsample': 0.11368138504892954, 'colsample_bytree': 0.09614939304291709, 'reg_alpha': 1.1624178605432307e-06, 'reg_lambda': 0.46074434850395646}. Best is trial 0 with value: 0.6706989247311828.\n",
      "[I 2023-06-06 18:00:37,334] Trial 4 finished with value: 0.6505376344086021 and parameters: {'max_depth': 4, 'learning_rate': 0.026644609687621407, 'n_estimators': 431, 'min_child_weight': 7, 'gamma': 1.6610885172175512e-08, 'subsample': 0.3568657476262545, 'colsample_bytree': 0.023126018898343408, 'reg_alpha': 0.025333428006958, 'reg_lambda': 5.542436576218814e-05}. Best is trial 0 with value: 0.6706989247311828.\n",
      "[I 2023-06-06 18:00:37,449] Trial 5 finished with value: 0.6586021505376344 and parameters: {'max_depth': 4, 'learning_rate': 0.04866344546048323, 'n_estimators': 257, 'min_child_weight': 4, 'gamma': 1.1367833225780622e-05, 'subsample': 0.0971198822320064, 'colsample_bytree': 0.5208050561013075, 'reg_alpha': 4.365272030208484e-07, 'reg_lambda': 0.0160970713039244}. Best is trial 0 with value: 0.6706989247311828.\n",
      "[I 2023-06-06 18:00:37,548] Trial 6 finished with value: 0.6639784946236559 and parameters: {'max_depth': 9, 'learning_rate': 0.23874920791017631, 'n_estimators': 490, 'min_child_weight': 7, 'gamma': 5.9344577936248486e-05, 'subsample': 0.03881442235251888, 'colsample_bytree': 0.018875578733255148, 'reg_alpha': 0.14289946949951576, 'reg_lambda': 0.01565389048629121}. Best is trial 0 with value: 0.6706989247311828.\n",
      "[I 2023-06-06 18:00:37,802] Trial 7 finished with value: 0.6733870967741935 and parameters: {'max_depth': 8, 'learning_rate': 0.010616593441843713, 'n_estimators': 488, 'min_child_weight': 6, 'gamma': 0.00010952301998727209, 'subsample': 0.21798799163187144, 'colsample_bytree': 0.01856485762880328, 'reg_alpha': 1.4992074356916695e-08, 'reg_lambda': 3.6592494715654835e-06}. Best is trial 7 with value: 0.6733870967741935.\n",
      "[I 2023-06-06 18:00:37,880] Trial 8 finished with value: 0.6706989247311828 and parameters: {'max_depth': 4, 'learning_rate': 0.038874716063778056, 'n_estimators': 328, 'min_child_weight': 7, 'gamma': 0.03943039756330311, 'subsample': 0.059327517556296665, 'colsample_bytree': 0.2800383044807419, 'reg_alpha': 0.027971699607199797, 'reg_lambda': 7.412826978483547e-07}. Best is trial 7 with value: 0.6733870967741935.\n",
      "[I 2023-06-06 18:00:38,015] Trial 9 finished with value: 0.6706989247311828 and parameters: {'max_depth': 3, 'learning_rate': 0.01789113414256559, 'n_estimators': 419, 'min_child_weight': 3, 'gamma': 3.37887489218736e-07, 'subsample': 0.17224614885007258, 'colsample_bytree': 0.07475475842944321, 'reg_alpha': 5.334417005788382e-06, 'reg_lambda': 0.008875059870376855}. Best is trial 7 with value: 0.6733870967741935.\n",
      "[I 2023-06-06 18:00:38,156] Trial 10 finished with value: 0.6075268817204301 and parameters: {'max_depth': 7, 'learning_rate': 0.09610981643074873, 'n_estimators': 206, 'min_child_weight': 1, 'gamma': 0.0025405322805165296, 'subsample': 0.6392289416050468, 'colsample_bytree': 0.010039290050487216, 'reg_alpha': 2.5528470788401108e-08, 'reg_lambda': 1.1132425616672573e-08}. Best is trial 7 with value: 0.6733870967741935.\n",
      "[I 2023-06-06 18:00:38,191] Trial 11 finished with value: 0.6706989247311828 and parameters: {'max_depth': 1, 'learning_rate': 0.010523296297042895, 'n_estimators': 51, 'min_child_weight': 4, 'gamma': 0.0004249929192265322, 'subsample': 0.2741012339618054, 'colsample_bytree': 0.010078992882204641, 'reg_alpha': 0.0002809704087939046, 'reg_lambda': 1.2101157101175008e-05}. Best is trial 7 with value: 0.6733870967741935.\n",
      "[I 2023-06-06 18:00:38,316] Trial 12 finished with value: 0.6706989247311828 and parameters: {'max_depth': 7, 'learning_rate': 0.010075770827706568, 'n_estimators': 181, 'min_child_weight': 1, 'gamma': 1.8101462597984635e-06, 'subsample': 0.5007488862733405, 'colsample_bytree': 0.04895892166957673, 'reg_alpha': 1.2910921690860887e-08, 'reg_lambda': 0.6738365477361207}. Best is trial 7 with value: 0.6733870967741935.\n",
      "[I 2023-06-06 18:00:38,538] Trial 13 finished with value: 0.6586021505376344 and parameters: {'max_depth': 6, 'learning_rate': 0.016297462846539573, 'n_estimators': 361, 'min_child_weight': 3, 'gamma': 7.04283020591624e-05, 'subsample': 0.7500483473066382, 'colsample_bytree': 0.01615749695721157, 'reg_alpha': 0.0001959688243634551, 'reg_lambda': 3.0771748249007565e-06}. Best is trial 7 with value: 0.6733870967741935.\n",
      "[I 2023-06-06 18:00:38,576] Trial 14 finished with value: 0.6706989247311828 and parameters: {'max_depth': 2, 'learning_rate': 0.05531645886078771, 'n_estimators': 50, 'min_child_weight': 10, 'gamma': 0.0012729242948546992, 'subsample': 0.9904481425692325, 'colsample_bytree': 0.16771093075267207, 'reg_alpha': 2.862665684726129e-07, 'reg_lambda': 0.0004261159554240935}. Best is trial 7 with value: 0.6733870967741935.\n",
      "[I 2023-06-06 18:00:38,686] Trial 15 finished with value: 0.6720430107526881 and parameters: {'max_depth': 9, 'learning_rate': 0.01748750963798375, 'n_estimators': 159, 'min_child_weight': 5, 'gamma': 0.9845370029109933, 'subsample': 0.20811831149329066, 'colsample_bytree': 0.0371832502909778, 'reg_alpha': 1.1097710992938939e-05, 'reg_lambda': 8.633828983312321e-07}. Best is trial 7 with value: 0.6733870967741935.\n",
      "[I 2023-06-06 18:00:38,808] Trial 16 finished with value: 0.6720430107526881 and parameters: {'max_depth': 9, 'learning_rate': 0.010584399093913415, 'n_estimators': 217, 'min_child_weight': 5, 'gamma': 0.44893211692040697, 'subsample': 0.1946517079140992, 'colsample_bytree': 0.05233021209336957, 'reg_alpha': 1.3182889944342216e-07, 'reg_lambda': 1.7292246459125007e-07}. Best is trial 7 with value: 0.6733870967741935.\n",
      "[I 2023-06-06 18:00:38,880] Trial 17 finished with value: 0.657258064516129 and parameters: {'max_depth': 8, 'learning_rate': 0.08014793168552814, 'n_estimators': 146, 'min_child_weight': 5, 'gamma': 0.016652345105084808, 'subsample': 0.13118248618302703, 'colsample_bytree': 0.05010751890417002, 'reg_alpha': 3.453682249550642e-06, 'reg_lambda': 8.606721451865427e-06}. Best is trial 7 with value: 0.6733870967741935.\n",
      "[I 2023-06-06 18:00:39,006] Trial 18 finished with value: 0.668010752688172 and parameters: {'max_depth': 8, 'learning_rate': 0.03386341186913693, 'n_estimators': 383, 'min_child_weight': 6, 'gamma': 0.6319212216725867, 'subsample': 0.07498531321723426, 'colsample_bytree': 0.9983533388952669, 'reg_alpha': 1.0283612657918664e-08, 'reg_lambda': 4.432562986214424e-07}. Best is trial 7 with value: 0.6733870967741935.\n",
      "[I 2023-06-06 18:00:39,144] Trial 19 finished with value: 0.6693548387096774 and parameters: {'max_depth': 6, 'learning_rate': 0.017146491858457562, 'n_estimators': 268, 'min_child_weight': 8, 'gamma': 0.009414895486689544, 'subsample': 0.18666437405763092, 'colsample_bytree': 0.025103928139860752, 'reg_alpha': 1.8236088964167947e-07, 'reg_lambda': 6.7442640765337e-08}. Best is trial 7 with value: 0.6733870967741935.\n"
     ]
    },
    {
     "name": "stderr",
     "output_type": "stream",
     "text": [
      "[I 2023-06-06 18:00:39,361] Trial 20 finished with value: 0.5833333333333334 and parameters: {'max_depth': 9, 'learning_rate': 0.15502993178943159, 'n_estimators': 312, 'min_child_weight': 4, 'gamma': 0.0004098169920010513, 'subsample': 0.4188264781899202, 'colsample_bytree': 0.0160484341287176, 'reg_alpha': 0.0009184347312130795, 'reg_lambda': 1.671182477578929e-06}. Best is trial 7 with value: 0.6733870967741935.\n",
      "[I 2023-06-06 18:00:39,498] Trial 21 finished with value: 0.6706989247311828 and parameters: {'max_depth': 9, 'learning_rate': 0.01079192214766695, 'n_estimators': 220, 'min_child_weight': 5, 'gamma': 0.8753869376243679, 'subsample': 0.19746686864286606, 'colsample_bytree': 0.047215291790703356, 'reg_alpha': 9.848945567698997e-08, 'reg_lambda': 1.950248781584225e-07}. Best is trial 7 with value: 0.6733870967741935.\n",
      "[I 2023-06-06 18:00:39,618] Trial 22 finished with value: 0.6720430107526881 and parameters: {'max_depth': 9, 'learning_rate': 0.013360537054538511, 'n_estimators': 165, 'min_child_weight': 5, 'gamma': 0.20079343731846644, 'subsample': 0.27350861323458664, 'colsample_bytree': 0.06608134648823608, 'reg_alpha': 1.0616950211069454e-07, 'reg_lambda': 9.51841341250758e-08}. Best is trial 7 with value: 0.6733870967741935.\n",
      "[I 2023-06-06 18:00:39,724] Trial 23 finished with value: 0.6706989247311828 and parameters: {'max_depth': 7, 'learning_rate': 0.02588271667722175, 'n_estimators': 236, 'min_child_weight': 6, 'gamma': 0.13183676141343667, 'subsample': 0.14261806523360465, 'colsample_bytree': 0.03360357813352227, 'reg_alpha': 1.5588927068128374e-06, 'reg_lambda': 1.691980407180057e-06}. Best is trial 7 with value: 0.6733870967741935.\n",
      "[I 2023-06-06 18:00:39,807] Trial 24 finished with value: 0.6733870967741935 and parameters: {'max_depth': 8, 'learning_rate': 0.014254899778385179, 'n_estimators': 130, 'min_child_weight': 2, 'gamma': 0.008632588134352023, 'subsample': 0.22502434006527072, 'colsample_bytree': 0.13684607290225062, 'reg_alpha': 1.1623078880446917e-05, 'reg_lambda': 2.821159969345553e-08}. Best is trial 7 with value: 0.6733870967741935.\n",
      "[I 2023-06-06 18:00:39,880] Trial 25 finished with value: 0.6720430107526881 and parameters: {'max_depth': 8, 'learning_rate': 0.021051486840382324, 'n_estimators': 102, 'min_child_weight': 2, 'gamma': 0.00874726567422458, 'subsample': 0.24142034865548562, 'colsample_bytree': 0.13328579435454488, 'reg_alpha': 1.097094767258643e-05, 'reg_lambda': 1.992769644516143e-08}. Best is trial 7 with value: 0.6733870967741935.\n",
      "[I 2023-06-06 18:00:39,985] Trial 26 finished with value: 0.6693548387096774 and parameters: {'max_depth': 6, 'learning_rate': 0.015139457228687855, 'n_estimators': 138, 'min_child_weight': 2, 'gamma': 0.030898331849836445, 'subsample': 0.38519855465178604, 'colsample_bytree': 0.13254378670712222, 'reg_alpha': 1.874393517583112e-05, 'reg_lambda': 2.6113604916971608e-08}. Best is trial 7 with value: 0.6733870967741935.\n",
      "[I 2023-06-06 18:00:40,043] Trial 27 finished with value: 0.6706989247311828 and parameters: {'max_depth': 7, 'learning_rate': 0.03676444420259757, 'n_estimators': 74, 'min_child_weight': 2, 'gamma': 0.0038440908543188775, 'subsample': 0.09271458205958356, 'colsample_bytree': 0.08546608440356837, 'reg_alpha': 8.59736919597406e-07, 'reg_lambda': 3.4661602695346857e-07}. Best is trial 7 with value: 0.6733870967741935.\n",
      "[I 2023-06-06 18:00:40,126] Trial 28 finished with value: 0.6706989247311828 and parameters: {'max_depth': 8, 'learning_rate': 0.014052014501628438, 'n_estimators': 184, 'min_child_weight': 8, 'gamma': 0.04385445550359989, 'subsample': 0.13526748309805783, 'colsample_bytree': 0.03687876448482338, 'reg_alpha': 3.996588096598011e-06, 'reg_lambda': 5.5523258116970184e-08}. Best is trial 7 with value: 0.6733870967741935.\n",
      "[I 2023-06-06 18:00:40,197] Trial 29 finished with value: 0.6693548387096774 and parameters: {'max_depth': 5, 'learning_rate': 0.021712373804385683, 'n_estimators': 94, 'min_child_weight': 4, 'gamma': 0.17866156248329385, 'subsample': 0.23842962931143338, 'colsample_bytree': 0.014173412646796613, 'reg_alpha': 6.40161779789746e-05, 'reg_lambda': 6.323691081732651e-07}. Best is trial 7 with value: 0.6733870967741935.\n",
      "[I 2023-06-06 18:00:40,303] Trial 30 finished with value: 0.6706989247311828 and parameters: {'max_depth': 8, 'learning_rate': 0.019532706092490134, 'n_estimators': 136, 'min_child_weight': 3, 'gamma': 0.0008003974511141622, 'subsample': 0.3433324398614529, 'colsample_bytree': 0.014059619562528219, 'reg_alpha': 1.954613289251048e-05, 'reg_lambda': 1.033645556673567e-08}. Best is trial 7 with value: 0.6733870967741935.\n",
      "[I 2023-06-06 18:00:40,448] Trial 31 finished with value: 0.6706989247311828 and parameters: {'max_depth': 9, 'learning_rate': 0.01278217427148583, 'n_estimators': 206, 'min_child_weight': 5, 'gamma': 0.8900071530444401, 'subsample': 0.18625570249403942, 'colsample_bytree': 0.06267623563217917, 'reg_alpha': 5.280664572612555e-08, 'reg_lambda': 1.7095754456187947e-07}. Best is trial 7 with value: 0.6733870967741935.\n",
      "[I 2023-06-06 18:00:40,632] Trial 32 finished with value: 0.6720430107526881 and parameters: {'max_depth': 9, 'learning_rate': 0.012402952935071562, 'n_estimators': 242, 'min_child_weight': 6, 'gamma': 0.28277426815578305, 'subsample': 0.2736786861335557, 'colsample_bytree': 0.024945563196233096, 'reg_alpha': 3.2083935358436024e-07, 'reg_lambda': 5.1982779024913584e-08}. Best is trial 7 with value: 0.6733870967741935.\n",
      "[I 2023-06-06 18:00:40,731] Trial 33 finished with value: 0.6706989247311828 and parameters: {'max_depth': 8, 'learning_rate': 0.015008759862962595, 'n_estimators': 167, 'min_child_weight': 7, 'gamma': 0.06718081119811217, 'subsample': 0.20507579186576286, 'colsample_bytree': 0.042670075227627655, 'reg_alpha': 4.688434388778522e-08, 'reg_lambda': 1.5028734326944648e-07}. Best is trial 7 with value: 0.6733870967741935.\n",
      "[I 2023-06-06 18:00:40,798] Trial 34 finished with value: 0.6706989247311828 and parameters: {'max_depth': 9, 'learning_rate': 0.02305911795520113, 'n_estimators': 120, 'min_child_weight': 6, 'gamma': 0.2617079535896611, 'subsample': 0.15500574585501445, 'colsample_bytree': 0.026781805219223125, 'reg_alpha': 7.791185252490569e-07, 'reg_lambda': 4.665483246669136e-06}. Best is trial 7 with value: 0.6733870967741935.\n",
      "[I 2023-06-06 18:00:40,921] Trial 35 finished with value: 0.6693548387096774 and parameters: {'max_depth': 7, 'learning_rate': 0.02837347996518445, 'n_estimators': 285, 'min_child_weight': 4, 'gamma': 0.01607849926525221, 'subsample': 0.10923900701302165, 'colsample_bytree': 0.032767347761761566, 'reg_alpha': 3.3131255815353795e-08, 'reg_lambda': 7.931479868246308e-07}. Best is trial 7 with value: 0.6733870967741935.\n",
      "[I 2023-06-06 18:00:41,125] Trial 36 finished with value: 0.6693548387096774 and parameters: {'max_depth': 8, 'learning_rate': 0.010521001824442235, 'n_estimators': 451, 'min_child_weight': 9, 'gamma': 0.06981006607539683, 'subsample': 0.28234892364103, 'colsample_bytree': 0.05783861494767783, 'reg_alpha': 2.1237153836760558e-07, 'reg_lambda': 1.8249226141894318e-05}. Best is trial 7 with value: 0.6733870967741935.\n",
      "[I 2023-06-06 18:00:41,221] Trial 37 finished with value: 0.6706989247311828 and parameters: {'max_depth': 9, 'learning_rate': 0.018068785994457475, 'n_estimators': 354, 'min_child_weight': 5, 'gamma': 0.41414121614429217, 'subsample': 0.011663108682867664, 'colsample_bytree': 0.03837331429937793, 'reg_alpha': 4.065915060111767e-05, 'reg_lambda': 2.4437237215238815e-07}. Best is trial 7 with value: 0.6733870967741935.\n",
      "[I 2023-06-06 18:00:41,343] Trial 38 finished with value: 0.6720430107526881 and parameters: {'max_depth': 8, 'learning_rate': 0.010003128352708035, 'n_estimators': 200, 'min_child_weight': 7, 'gamma': 0.9596287114894406, 'subsample': 0.35131799278729503, 'colsample_bytree': 0.01938128144763193, 'reg_alpha': 2.4701629780173657e-06, 'reg_lambda': 2.9926798784990875e-05}. Best is trial 7 with value: 0.6733870967741935.\n",
      "[I 2023-06-06 18:00:41,426] Trial 39 finished with value: 0.6733870967741935 and parameters: {'max_depth': 5, 'learning_rate': 0.028954391825511936, 'n_estimators': 155, 'min_child_weight': 6, 'gamma': 0.0038701132031390716, 'subsample': 0.15711423439942734, 'colsample_bytree': 0.100866595956377, 'reg_alpha': 5.43472523349937e-07, 'reg_lambda': 1.9347151429186457e-06}. Best is trial 7 with value: 0.6733870967741935.\n"
     ]
    },
    {
     "name": "stderr",
     "output_type": "stream",
     "text": [
      "[I 2023-06-06 18:00:41,474] Trial 40 finished with value: 0.6706989247311828 and parameters: {'max_depth': 5, 'learning_rate': 0.030212991755098444, 'n_estimators': 75, 'min_child_weight': 8, 'gamma': 0.00016234990007628157, 'subsample': 0.11985262295938058, 'colsample_bytree': 0.10863091902964844, 'reg_alpha': 6.71797507464513e-07, 'reg_lambda': 4.353305444504202e-06}. Best is trial 7 with value: 0.6733870967741935.\n",
      "[I 2023-06-06 18:00:41,546] Trial 41 finished with value: 0.6706989247311828 and parameters: {'max_depth': 4, 'learning_rate': 0.022222796326438587, 'n_estimators': 165, 'min_child_weight': 6, 'gamma': 0.004717186090826166, 'subsample': 0.16241247242428822, 'colsample_bytree': 0.07974206113236508, 'reg_alpha': 1.2218576826258914e-06, 'reg_lambda': 1.244240350207356e-06}. Best is trial 7 with value: 0.6733870967741935.\n",
      "[I 2023-06-06 18:00:41,629] Trial 42 finished with value: 0.6706989247311828 and parameters: {'max_depth': 6, 'learning_rate': 0.013425992927610488, 'n_estimators': 148, 'min_child_weight': 7, 'gamma': 0.10000836939423016, 'subsample': 0.22561978164490537, 'colsample_bytree': 0.09546976985738098, 'reg_alpha': 1.0135878721830177e-07, 'reg_lambda': 3.8605659904224185e-07}. Best is trial 7 with value: 0.6733870967741935.\n",
      "[I 2023-06-06 18:00:41,698] Trial 43 finished with value: 0.6706989247311828 and parameters: {'max_depth': 5, 'learning_rate': 0.014712717442803806, 'n_estimators': 117, 'min_child_weight': 5, 'gamma': 2.639720474918297e-05, 'subsample': 0.14723598784735745, 'colsample_bytree': 0.07285628327164448, 'reg_alpha': 8.839435644928131e-06, 'reg_lambda': 6.959277837947034e-05}. Best is trial 7 with value: 0.6733870967741935.\n",
      "[I 2023-06-06 18:00:41,786] Trial 44 finished with value: 0.6720430107526881 and parameters: {'max_depth': 3, 'learning_rate': 0.018353550614217413, 'n_estimators': 244, 'min_child_weight': 6, 'gamma': 0.0023496437352706063, 'subsample': 0.2154701391934763, 'colsample_bytree': 0.05359981444929673, 'reg_alpha': 2.146890441310364e-08, 'reg_lambda': 2.3434464532253723e-06}. Best is trial 7 with value: 0.6733870967741935.\n",
      "[I 2023-06-06 18:00:41,883] Trial 45 finished with value: 0.6706989247311828 and parameters: {'max_depth': 7, 'learning_rate': 0.025381492197151762, 'n_estimators': 187, 'min_child_weight': 4, 'gamma': 0.027338597656087735, 'subsample': 0.09319331260408302, 'colsample_bytree': 0.029772582822727812, 'reg_alpha': 4.342434599066308e-07, 'reg_lambda': 8.804854879442495e-07}. Best is trial 7 with value: 0.6733870967741935.\n",
      "[I 2023-06-06 18:00:41,996] Trial 46 finished with value: 0.6626344086021505 and parameters: {'max_depth': 3, 'learning_rate': 0.04357517572648822, 'n_estimators': 231, 'min_child_weight': 1, 'gamma': 0.32108765237223147, 'subsample': 0.3091602483934691, 'colsample_bytree': 0.20224992016619509, 'reg_alpha': 5.9389942942808025e-06, 'reg_lambda': 5.991139248565533e-06}. Best is trial 7 with value: 0.6733870967741935.\n",
      "[I 2023-06-06 18:00:42,276] Trial 47 finished with value: 0.668010752688172 and parameters: {'max_depth': 9, 'learning_rate': 0.012152032117725605, 'n_estimators': 407, 'min_child_weight': 3, 'gamma': 0.00015093927286433022, 'subsample': 0.17049208405441116, 'colsample_bytree': 0.0594006291330915, 'reg_alpha': 2.1497434014877683e-06, 'reg_lambda': 1.1803364316432398e-05}. Best is trial 7 with value: 0.6733870967741935.\n",
      "[I 2023-06-06 18:00:42,436] Trial 48 finished with value: 0.6693548387096774 and parameters: {'max_depth': 4, 'learning_rate': 0.016790227908247565, 'n_estimators': 462, 'min_child_weight': 5, 'gamma': 0.09791710528895262, 'subsample': 0.11445467665940011, 'colsample_bytree': 0.041679194395252445, 'reg_alpha': 2.262013940766815e-08, 'reg_lambda': 3.5746665380138174e-08}. Best is trial 7 with value: 0.6733870967741935.\n",
      "[I 2023-06-06 18:00:42,708] Trial 49 finished with value: 0.6317204301075269 and parameters: {'max_depth': 6, 'learning_rate': 0.03298405154710763, 'n_estimators': 499, 'min_child_weight': 7, 'gamma': 0.0017325784701768812, 'subsample': 0.448330948464983, 'colsample_bytree': 0.07408954929602202, 'reg_alpha': 5.283907667321096e-07, 'reg_lambda': 1.1029511145797957e-07}. Best is trial 7 with value: 0.6733870967741935.\n",
      "[I 2023-06-06 18:00:42,862] Trial 50 finished with value: 0.668010752688172 and parameters: {'max_depth': 7, 'learning_rate': 0.019171935994792375, 'n_estimators': 217, 'min_child_weight': 3, 'gamma': 0.007502610982886849, 'subsample': 0.5029584738759232, 'colsample_bytree': 0.020311492227239814, 'reg_alpha': 1.2872608587772323e-08, 'reg_lambda': 2.2360128289820083e-06}. Best is trial 7 with value: 0.6733870967741935.\n",
      "[I 2023-06-06 18:00:42,981] Trial 51 finished with value: 0.6720430107526881 and parameters: {'max_depth': 9, 'learning_rate': 0.012233758837936645, 'n_estimators': 167, 'min_child_weight': 5, 'gamma': 0.21521141300769944, 'subsample': 0.2926837291470506, 'colsample_bytree': 0.10017275127308557, 'reg_alpha': 8.330330742922081e-08, 'reg_lambda': 8.467347952752207e-08}. Best is trial 7 with value: 0.6733870967741935.\n",
      "[I 2023-06-06 18:00:43,093] Trial 52 finished with value: 0.6720430107526881 and parameters: {'max_depth': 9, 'learning_rate': 0.012431395706720152, 'n_estimators': 160, 'min_child_weight': 6, 'gamma': 0.46647829641637933, 'subsample': 0.25781595111451533, 'colsample_bytree': 0.06596645894325934, 'reg_alpha': 1.4831338484059582e-07, 'reg_lambda': 1.0652610324858307e-07}. Best is trial 7 with value: 0.6733870967741935.\n",
      "[I 2023-06-06 18:00:43,185] Trial 53 finished with value: 0.6706989247311828 and parameters: {'max_depth': 9, 'learning_rate': 0.015219661322407521, 'n_estimators': 127, 'min_child_weight': 4, 'gamma': 0.12938942598535266, 'subsample': 0.1909703471801181, 'colsample_bytree': 0.04779860640581571, 'reg_alpha': 6.387601665153846e-08, 'reg_lambda': 3.2954894267537003e-07}. Best is trial 7 with value: 0.6733870967741935.\n",
      "[I 2023-06-06 18:00:43,296] Trial 54 finished with value: 0.657258064516129 and parameters: {'max_depth': 8, 'learning_rate': 0.024894806058604838, 'n_estimators': 186, 'min_child_weight': 5, 'gamma': 0.019618890265062156, 'subsample': 0.23594839368001472, 'colsample_bytree': 0.06651560214490676, 'reg_alpha': 1.4857579247648383e-07, 'reg_lambda': 1.7925934644567764e-08}. Best is trial 7 with value: 0.6733870967741935.\n",
      "[I 2023-06-06 18:00:43,366] Trial 55 finished with value: 0.6706989247311828 and parameters: {'max_depth': 9, 'learning_rate': 0.016560924947047674, 'n_estimators': 98, 'min_child_weight': 7, 'gamma': 0.527641148208605, 'subsample': 0.3230500767311073, 'colsample_bytree': 0.028347856471721774, 'reg_alpha': 2.690671183451918e-07, 'reg_lambda': 3.588289554262231e-08}. Best is trial 7 with value: 0.6733870967741935.\n",
      "[I 2023-06-06 18:00:43,504] Trial 56 finished with value: 0.6733870967741935 and parameters: {'max_depth': 8, 'learning_rate': 0.010113819611843112, 'n_estimators': 264, 'min_child_weight': 4, 'gamma': 0.061939355797688805, 'subsample': 0.17141160875774156, 'colsample_bytree': 0.08899691401598032, 'reg_alpha': 1.4900790593797072e-06, 'reg_lambda': 5.724111443207064e-07}. Best is trial 7 with value: 0.6733870967741935.\n",
      "[I 2023-06-06 18:00:43,690] Trial 57 finished with value: 0.6693548387096774 and parameters: {'max_depth': 8, 'learning_rate': 0.010550560693274617, 'n_estimators': 304, 'min_child_weight': 2, 'gamma': 0.037541669559178925, 'subsample': 0.17151969204645456, 'colsample_bytree': 0.09092452663184795, 'reg_alpha': 1.5707670877526906e-06, 'reg_lambda': 8.918277642249824e-07}. Best is trial 7 with value: 0.6733870967741935.\n",
      "[I 2023-06-06 18:00:43,821] Trial 58 finished with value: 0.6693548387096774 and parameters: {'max_depth': 7, 'learning_rate': 0.010213197875085678, 'n_estimators': 269, 'min_child_weight': 4, 'gamma': 0.014423430050438167, 'subsample': 0.13242046887814035, 'colsample_bytree': 0.11686711924085497, 'reg_alpha': 3.2339481380792234e-06, 'reg_lambda': 4.737571998886937e-07}. Best is trial 7 with value: 0.6733870967741935.\n",
      "[I 2023-06-06 18:00:43,938] Trial 59 finished with value: 0.6706989247311828 and parameters: {'max_depth': 8, 'learning_rate': 0.019627302581675506, 'n_estimators': 327, 'min_child_weight': 6, 'gamma': 0.05910601093015945, 'subsample': 0.07967157678554408, 'colsample_bytree': 0.15669723770400423, 'reg_alpha': 7.967136910559465e-06, 'reg_lambda': 3.2641057273328085e-06}. Best is trial 7 with value: 0.6733870967741935.\n"
     ]
    },
    {
     "name": "stderr",
     "output_type": "stream",
     "text": [
      "[I 2023-06-06 18:00:44,047] Trial 60 finished with value: 0.668010752688172 and parameters: {'max_depth': 4, 'learning_rate': 0.011900766383482083, 'n_estimators': 258, 'min_child_weight': 3, 'gamma': 0.0012226748184803289, 'subsample': 0.20355046365352325, 'colsample_bytree': 0.05379748955320259, 'reg_alpha': 2.0755069545411676e-05, 'reg_lambda': 1.5743952869235426e-06}. Best is trial 7 with value: 0.6733870967741935.\n",
      "[I 2023-06-06 18:00:44,179] Trial 61 finished with value: 0.6733870967741935 and parameters: {'max_depth': 9, 'learning_rate': 0.013442705638397834, 'n_estimators': 150, 'min_child_weight': 5, 'gamma': 0.16605124929887827, 'subsample': 0.24159388406911145, 'colsample_bytree': 0.08893062676733794, 'reg_alpha': 1.037340298071392e-06, 'reg_lambda': 2.1933839071228402e-07}. Best is trial 7 with value: 0.6733870967741935.\n",
      "[I 2023-06-06 18:00:44,269] Trial 62 finished with value: 0.6706989247311828 and parameters: {'max_depth': 9, 'learning_rate': 0.014320526063639153, 'n_estimators': 145, 'min_child_weight': 5, 'gamma': 0.13427812903024666, 'subsample': 0.1537000169589917, 'colsample_bytree': 0.0829598257700598, 'reg_alpha': 1.3473296566626335e-06, 'reg_lambda': 2.199979459307109e-07}. Best is trial 7 with value: 0.6733870967741935.\n",
      "[I 2023-06-06 18:00:44,343] Trial 63 finished with value: 0.6693548387096774 and parameters: {'max_depth': 8, 'learning_rate': 0.016287645776947655, 'n_estimators': 78, 'min_child_weight': 4, 'gamma': 0.03768204847831543, 'subsample': 0.23619268749139166, 'colsample_bytree': 0.11678472096481612, 'reg_alpha': 5.313030905831686e-07, 'reg_lambda': 5.177455912792915e-07}. Best is trial 7 with value: 0.6733870967741935.\n",
      "[I 2023-06-06 18:00:44,477] Trial 64 finished with value: 0.6706989247311828 and parameters: {'max_depth': 8, 'learning_rate': 0.01159314241132285, 'n_estimators': 202, 'min_child_weight': 6, 'gamma': 0.3681645053047474, 'subsample': 0.1771132658232857, 'colsample_bytree': 0.09523783777353693, 'reg_alpha': 5.049953792237755e-06, 'reg_lambda': 1.7492929793509762e-07}. Best is trial 7 with value: 0.6733870967741935.\n",
      "[I 2023-06-06 18:00:44,650] Trial 65 finished with value: 0.6706989247311828 and parameters: {'max_depth': 9, 'learning_rate': 0.014262088496108752, 'n_estimators': 286, 'min_child_weight': 5, 'gamma': 0.0038522357324467767, 'subsample': 0.20643716313871202, 'colsample_bytree': 0.07967505542651095, 'reg_alpha': 9.059784953265376e-07, 'reg_lambda': 1.2155933796870484e-06}. Best is trial 7 with value: 0.6733870967741935.\n",
      "[I 2023-06-06 18:00:44,759] Trial 66 finished with value: 0.6639784946236559 and parameters: {'max_depth': 8, 'learning_rate': 0.021575074659413686, 'n_estimators': 217, 'min_child_weight': 4, 'gamma': 0.19752623774594344, 'subsample': 0.13250795644901223, 'colsample_bytree': 0.04648492761541758, 'reg_alpha': 3.1557440212965194e-07, 'reg_lambda': 6.47719797886528e-08}. Best is trial 7 with value: 0.6733870967741935.\n",
      "[I 2023-06-06 18:00:44,852] Trial 67 finished with value: 0.6706989247311828 and parameters: {'max_depth': 9, 'learning_rate': 0.010016009333507058, 'n_estimators': 132, 'min_child_weight': 6, 'gamma': 0.6016131005661338, 'subsample': 0.2686839738768108, 'colsample_bytree': 0.03423717113359051, 'reg_alpha': 2.6355117254033546e-06, 'reg_lambda': 6.979883649732745e-06}. Best is trial 7 with value: 0.6733870967741935.\n",
      "[I 2023-06-06 18:00:44,945] Trial 68 finished with value: 0.6706989247311828 and parameters: {'max_depth': 8, 'learning_rate': 0.017103893602344107, 'n_estimators': 155, 'min_child_weight': 5, 'gamma': 0.08284532086015294, 'subsample': 0.15485894341082024, 'colsample_bytree': 0.13513666976733557, 'reg_alpha': 1.4024362542009409e-05, 'reg_lambda': 2.796990231068796e-07}. Best is trial 7 with value: 0.6733870967741935.\n",
      "[I 2023-06-06 18:00:45,017] Trial 69 finished with value: 0.6706989247311828 and parameters: {'max_depth': 5, 'learning_rate': 0.013173243721934687, 'n_estimators': 112, 'min_child_weight': 2, 'gamma': 0.009313177761082396, 'subsample': 0.3228888359546421, 'colsample_bytree': 0.039700656472297265, 'reg_alpha': 4.498277672512743e-06, 'reg_lambda': 7.262805897267219e-07}. Best is trial 7 with value: 0.6733870967741935.\n",
      "[I 2023-06-06 18:00:45,136] Trial 70 finished with value: 0.6720430107526881 and parameters: {'max_depth': 7, 'learning_rate': 0.011288238803692325, 'n_estimators': 194, 'min_child_weight': 1, 'gamma': 0.0550701128445907, 'subsample': 0.1958576949240059, 'colsample_bytree': 0.0241937652667372, 'reg_alpha': 3.196364002199308e-05, 'reg_lambda': 2.5255103282349292e-06}. Best is trial 7 with value: 0.6733870967741935.\n",
      "[I 2023-06-06 18:00:45,256] Trial 71 finished with value: 0.6706989247311828 and parameters: {'max_depth': 9, 'learning_rate': 0.013457953578309001, 'n_estimators': 175, 'min_child_weight': 5, 'gamma': 0.20840413795360976, 'subsample': 0.24169283090799706, 'colsample_bytree': 0.06272072512526058, 'reg_alpha': 4.827854917018967e-08, 'reg_lambda': 9.748016368128208e-08}. Best is trial 7 with value: 0.6733870967741935.\n",
      "[I 2023-06-06 18:00:45,400] Trial 72 finished with value: 0.6706989247311828 and parameters: {'max_depth': 9, 'learning_rate': 0.015893094929166792, 'n_estimators': 179, 'min_child_weight': 6, 'gamma': 0.57801166532743, 'subsample': 0.273282927096796, 'colsample_bytree': 0.0863694202035248, 'reg_alpha': 1.3121204723722784e-07, 'reg_lambda': 4.5275356114624324e-08}. Best is trial 7 with value: 0.6733870967741935.\n",
      "[I 2023-06-06 18:00:45,537] Trial 73 finished with value: 0.668010752688172 and parameters: {'max_depth': 9, 'learning_rate': 0.02017574328121206, 'n_estimators': 153, 'min_child_weight': 5, 'gamma': 0.9470195692674738, 'subsample': 0.38121196050482403, 'colsample_bytree': 0.07005706108197865, 'reg_alpha': 2.7986456006052536e-07, 'reg_lambda': 1.4033751521351907e-07}. Best is trial 7 with value: 0.6733870967741935.\n",
      "[I 2023-06-06 18:00:45,685] Trial 74 finished with value: 0.6693548387096774 and parameters: {'max_depth': 8, 'learning_rate': 0.011245652021348133, 'n_estimators': 230, 'min_child_weight': 4, 'gamma': 0.28376811096060195, 'subsample': 0.21662603152210883, 'colsample_bytree': 0.05379663866562219, 'reg_alpha': 3.573592495413999e-08, 'reg_lambda': 2.532040833078241e-08}. Best is trial 7 with value: 0.6733870967741935.\n",
      "[I 2023-06-06 18:00:45,726] Trial 75 finished with value: 0.6706989247311828 and parameters: {'max_depth': 1, 'learning_rate': 0.023937816421020303, 'n_estimators': 90, 'min_child_weight': 6, 'gamma': 0.023462481376752657, 'subsample': 0.18373652822681408, 'colsample_bytree': 0.10493526722267764, 'reg_alpha': 9.092674190888739e-07, 'reg_lambda': 4.206182369583309e-07}. Best is trial 7 with value: 0.6733870967741935.\n",
      "[I 2023-06-06 18:00:45,848] Trial 76 finished with value: 0.6706989247311828 and parameters: {'max_depth': 9, 'learning_rate': 0.013624302996687234, 'n_estimators': 253, 'min_child_weight': 5, 'gamma': 0.14764252468834688, 'subsample': 0.14121847843346436, 'colsample_bytree': 0.07320949060576702, 'reg_alpha': 7.06755614991366e-08, 'reg_lambda': 6.729715704502564e-08}. Best is trial 7 with value: 0.6733870967741935.\n",
      "[I 2023-06-06 18:00:45,967] Trial 77 finished with value: 0.6706989247311828 and parameters: {'max_depth': 8, 'learning_rate': 0.01849743795077729, 'n_estimators': 126, 'min_child_weight': 6, 'gamma': 0.05006197644699475, 'subsample': 0.25403714335679617, 'colsample_bytree': 0.05877752647834076, 'reg_alpha': 1.771717844296987e-07, 'reg_lambda': 1.427230948270738e-08}. Best is trial 7 with value: 0.6733870967741935.\n",
      "[I 2023-06-06 18:00:46,060] Trial 78 finished with value: 0.6720430107526881 and parameters: {'max_depth': 6, 'learning_rate': 0.014856142628120518, 'n_estimators': 137, 'min_child_weight': 7, 'gamma': 0.4227927734779393, 'subsample': 0.2991820336996015, 'colsample_bytree': 0.0879544688582185, 'reg_alpha': 4.714363127562902e-07, 'reg_lambda': 1.907354139994789e-07}. Best is trial 7 with value: 0.6733870967741935.\n",
      "[I 2023-06-06 18:00:46,247] Trial 79 finished with value: 0.6706989247311828 and parameters: {'max_depth': 9, 'learning_rate': 0.011382984720244578, 'n_estimators': 359, 'min_child_weight': 4, 'gamma': 0.07741299925495897, 'subsample': 0.11886351230606881, 'colsample_bytree': 0.010821492548061452, 'reg_alpha': 1.7409174444466e-08, 'reg_lambda': 1.239524732305895e-06}. Best is trial 7 with value: 0.6733870967741935.\n"
     ]
    },
    {
     "name": "stderr",
     "output_type": "stream",
     "text": [
      "[I 2023-06-06 18:00:46,354] Trial 80 finished with value: 0.6706989247311828 and parameters: {'max_depth': 7, 'learning_rate': 0.012931128929189246, 'n_estimators': 172, 'min_child_weight': 5, 'gamma': 0.13851906670928263, 'subsample': 0.1697902134150824, 'colsample_bytree': 0.0345643445342152, 'reg_alpha': 9.917245370361685e-08, 'reg_lambda': 6.095457019664372e-07}. Best is trial 7 with value: 0.6733870967741935.\n",
      "[I 2023-06-06 18:00:46,419] Trial 81 finished with value: 0.6747311827956989 and parameters: {'max_depth': 8, 'learning_rate': 0.027482111535622012, 'n_estimators': 63, 'min_child_weight': 2, 'gamma': 0.00645460043680281, 'subsample': 0.2166124537909851, 'colsample_bytree': 0.10237138139856099, 'reg_alpha': 1.843220980075756e-06, 'reg_lambda': 2.238158524702282e-08}. Best is trial 81 with value: 0.6747311827956989.\n",
      "[I 2023-06-06 18:00:46,512] Trial 82 finished with value: 0.6653225806451613 and parameters: {'max_depth': 8, 'learning_rate': 0.028303928192696347, 'n_estimators': 107, 'min_child_weight': 2, 'gamma': 0.005931979968372199, 'subsample': 0.24168368187749834, 'colsample_bytree': 0.10697261384802603, 'reg_alpha': 1.0799378925875627e-06, 'reg_lambda': 2.5441987685691127e-08}. Best is trial 81 with value: 0.6747311827956989.\n",
      "[I 2023-06-06 18:00:46,562] Trial 83 finished with value: 0.6706989247311828 and parameters: {'max_depth': 2, 'learning_rate': 0.021207929436554758, 'n_estimators': 87, 'min_child_weight': 3, 'gamma': 0.014428167085784083, 'subsample': 0.18968003314916787, 'colsample_bytree': 0.07866302193894252, 'reg_alpha': 2.741305832924361e-06, 'reg_lambda': 4.377206082157913e-08}. Best is trial 81 with value: 0.6747311827956989.\n",
      "[I 2023-06-06 18:00:46,772] Trial 84 finished with value: 0.6532258064516129 and parameters: {'max_depth': 5, 'learning_rate': 0.0170317463499068, 'n_estimators': 377, 'min_child_weight': 2, 'gamma': 0.0007200849949588883, 'subsample': 0.21721620793491472, 'colsample_bytree': 0.1223680417368081, 'reg_alpha': 2.0338605910366376e-06, 'reg_lambda': 1.2765596882019392e-08}. Best is trial 81 with value: 0.6747311827956989.\n",
      "[I 2023-06-06 18:00:46,851] Trial 85 finished with value: 0.6653225806451613 and parameters: {'max_depth': 9, 'learning_rate': 0.014821229996610417, 'n_estimators': 63, 'min_child_weight': 1, 'gamma': 0.004240957840635712, 'subsample': 0.3567908004002702, 'colsample_bytree': 0.06829375452211722, 'reg_alpha': 7.270860631888034e-06, 'reg_lambda': 3.0667580319702475e-07}. Best is trial 81 with value: 0.6747311827956989.\n",
      "[I 2023-06-06 18:00:46,932] Trial 86 finished with value: 0.6720430107526881 and parameters: {'max_depth': 8, 'learning_rate': 0.02708319836342495, 'n_estimators': 54, 'min_child_weight': 3, 'gamma': 0.012236248062151752, 'subsample': 0.1614545634965406, 'colsample_bytree': 0.09765380275899826, 'reg_alpha': 1.5690318962396127e-06, 'reg_lambda': 1.1123438759986049e-07}. Best is trial 81 with value: 0.6747311827956989.\n",
      "[I 2023-06-06 18:00:47,062] Trial 87 finished with value: 0.6706989247311828 and parameters: {'max_depth': 9, 'learning_rate': 0.010044959646507737, 'n_estimators': 143, 'min_child_weight': 2, 'gamma': 0.023633234376575028, 'subsample': 0.2896702058281369, 'colsample_bytree': 0.13877100756141908, 'reg_alpha': 6.874914131064273e-07, 'reg_lambda': 7.103986933035375e-08}. Best is trial 81 with value: 0.6747311827956989.\n",
      "[I 2023-06-06 18:00:47,225] Trial 88 finished with value: 0.6720430107526881 and parameters: {'max_depth': 8, 'learning_rate': 0.011837217189852162, 'n_estimators': 213, 'min_child_weight': 5, 'gamma': 0.008658060462667636, 'subsample': 0.21394123023453554, 'colsample_bytree': 0.04130577421953133, 'reg_alpha': 3.1812727731794125e-08, 'reg_lambda': 2.4195445476714766e-07}. Best is trial 81 with value: 0.6747311827956989.\n",
      "[I 2023-06-06 18:00:47,320] Trial 89 finished with value: 0.6706989247311828 and parameters: {'max_depth': 7, 'learning_rate': 0.018308670604018022, 'n_estimators': 193, 'min_child_weight': 6, 'gamma': 0.03420955400054291, 'subsample': 0.1514884572846088, 'colsample_bytree': 0.02168809476491906, 'reg_alpha': 2.2779273754563232e-07, 'reg_lambda': 1.3373465787887588e-07}. Best is trial 81 with value: 0.6747311827956989.\n",
      "[I 2023-06-06 18:00:47,565] Trial 90 finished with value: 0.6330645161290323 and parameters: {'max_depth': 8, 'learning_rate': 0.02344292231997661, 'n_estimators': 435, 'min_child_weight': 5, 'gamma': 0.3120419344156092, 'subsample': 0.27080628948945973, 'colsample_bytree': 0.02993230149434828, 'reg_alpha': 3.7124414584116574e-07, 'reg_lambda': 2.7461713544226576e-08}. Best is trial 81 with value: 0.6747311827956989.\n",
      "[I 2023-06-06 18:00:47,679] Trial 91 finished with value: 0.6639784946236559 and parameters: {'max_depth': 9, 'learning_rate': 0.02070480130404525, 'n_estimators': 105, 'min_child_weight': 2, 'gamma': 0.002702874598042093, 'subsample': 0.23019100993264294, 'colsample_bytree': 0.1826212745777812, 'reg_alpha': 8.902783086881849e-06, 'reg_lambda': 1.7095629204430936e-08}. Best is trial 81 with value: 0.6747311827956989.\n",
      "[I 2023-06-06 18:00:47,792] Trial 92 finished with value: 0.6693548387096774 and parameters: {'max_depth': 8, 'learning_rate': 0.013598907599057672, 'n_estimators': 120, 'min_child_weight': 3, 'gamma': 0.006961795292508993, 'subsample': 0.18114504614263074, 'colsample_bytree': 0.11176000041170114, 'reg_alpha': 3.7555479526206483e-06, 'reg_lambda': 1.920075760266503e-08}. Best is trial 81 with value: 0.6747311827956989.\n",
      "[I 2023-06-06 18:00:47,864] Trial 93 finished with value: 0.6653225806451613 and parameters: {'max_depth': 9, 'learning_rate': 0.015351395764918601, 'n_estimators': 65, 'min_child_weight': 1, 'gamma': 0.09611619809893572, 'subsample': 0.32134753740664496, 'colsample_bytree': 0.0917191892168246, 'reg_alpha': 6.302293089787088e-05, 'reg_lambda': 5.5616839500167886e-08}. Best is trial 81 with value: 0.6747311827956989.\n",
      "[I 2023-06-06 18:00:47,944] Trial 94 finished with value: 0.6639784946236559 and parameters: {'max_depth': 8, 'learning_rate': 0.032384283317417877, 'n_estimators': 82, 'min_child_weight': 2, 'gamma': 0.0029577360866948764, 'subsample': 0.24996866102274234, 'colsample_bytree': 0.12281003173307699, 'reg_alpha': 1.3901749830730546e-05, 'reg_lambda': 3.053192628938884e-08}. Best is trial 81 with value: 0.6747311827956989.\n",
      "[I 2023-06-06 18:00:48,025] Trial 95 finished with value: 0.6706989247311828 and parameters: {'max_depth': 7, 'learning_rate': 0.012600774082915971, 'n_estimators': 102, 'min_child_weight': 4, 'gamma': 0.023838730536440766, 'subsample': 0.21434914588978005, 'colsample_bytree': 0.14247126550984252, 'reg_alpha': 1.0197691631862263e-08, 'reg_lambda': 1.082071825595147e-08}. Best is trial 81 with value: 0.6747311827956989.\n",
      "[I 2023-06-06 18:00:48,113] Trial 96 finished with value: 0.6706989247311828 and parameters: {'max_depth': 6, 'learning_rate': 0.011248416688183376, 'n_estimators': 158, 'min_child_weight': 6, 'gamma': 0.010990968518048578, 'subsample': 0.1937866369412974, 'colsample_bytree': 0.10505582044454703, 'reg_alpha': 5.416290037092263e-07, 'reg_lambda': 9.673143411197128e-08}. Best is trial 81 with value: 0.6747311827956989.\n",
      "[I 2023-06-06 18:00:48,198] Trial 97 finished with value: 0.6706989247311828 and parameters: {'max_depth': 9, 'learning_rate': 0.018638234612728826, 'n_estimators': 127, 'min_child_weight': 5, 'gamma': 0.7677386004972401, 'subsample': 0.17208333876375592, 'colsample_bytree': 0.0772988052088206, 'reg_alpha': 1.9017040056134392e-06, 'reg_lambda': 4.325798184698001e-07}. Best is trial 81 with value: 0.6747311827956989.\n",
      "[I 2023-06-06 18:00:48,367] Trial 98 finished with value: 0.6626344086021505 and parameters: {'max_depth': 8, 'learning_rate': 0.016101787558090663, 'n_estimators': 316, 'min_child_weight': 2, 'gamma': 0.22342325152803408, 'subsample': 0.13895582804163426, 'colsample_bytree': 0.044744261080972576, 'reg_alpha': 7.707606889065779e-07, 'reg_lambda': 4.3022243269827905e-08}. Best is trial 81 with value: 0.6747311827956989.\n",
      "[I 2023-06-06 18:00:48,515] Trial 99 finished with value: 0.6518817204301075 and parameters: {'max_depth': 9, 'learning_rate': 0.025528722812716106, 'n_estimators': 148, 'min_child_weight': 1, 'gamma': 0.06328877930738745, 'subsample': 0.25561274197384826, 'colsample_bytree': 0.06139071372412363, 'reg_alpha': 3.7372765837326675e-06, 'reg_lambda': 1.9566161685060876e-07}. Best is trial 81 with value: 0.6747311827956989.\n"
     ]
    }
   ],
   "source": [
    "study = optuna.create_study(direction='maximize')\n",
    "study.optimize(objective, n_trials=100)"
   ]
  },
  {
   "cell_type": "code",
   "execution_count": 30,
   "id": "63ee4223",
   "metadata": {},
   "outputs": [
    {
     "name": "stdout",
     "output_type": "stream",
     "text": [
      "Number of finished trials: 100\n",
      "Best trial:\n",
      "  Value: 0.6747311827956989\n",
      "  Params: \n",
      "    max_depth: 8\n",
      "    learning_rate: 0.027482111535622012\n",
      "    n_estimators: 63\n",
      "    min_child_weight: 2\n",
      "    gamma: 0.00645460043680281\n",
      "    subsample: 0.2166124537909851\n",
      "    colsample_bytree: 0.10237138139856099\n",
      "    reg_alpha: 1.843220980075756e-06\n",
      "    reg_lambda: 2.238158524702282e-08\n"
     ]
    }
   ],
   "source": [
    "print('Number of finished trials: {}'.format(len(study.trials)))\n",
    "print('Best trial:')\n",
    "trial = study.best_trial\n",
    "\n",
    "print('  Value: {}'.format(trial.value))\n",
    "print('  Params: ')\n",
    "\n",
    "for key, value in trial.params.items():\n",
    "    print('    {}: {}'.format(key, value))\n"
   ]
  },
  {
   "cell_type": "code",
   "execution_count": 31,
   "id": "78443495",
   "metadata": {},
   "outputs": [
    {
     "data": {
      "text/html": [
       "<style>#sk-container-id-3 {color: black;background-color: white;}#sk-container-id-3 pre{padding: 0;}#sk-container-id-3 div.sk-toggleable {background-color: white;}#sk-container-id-3 label.sk-toggleable__label {cursor: pointer;display: block;width: 100%;margin-bottom: 0;padding: 0.3em;box-sizing: border-box;text-align: center;}#sk-container-id-3 label.sk-toggleable__label-arrow:before {content: \"▸\";float: left;margin-right: 0.25em;color: #696969;}#sk-container-id-3 label.sk-toggleable__label-arrow:hover:before {color: black;}#sk-container-id-3 div.sk-estimator:hover label.sk-toggleable__label-arrow:before {color: black;}#sk-container-id-3 div.sk-toggleable__content {max-height: 0;max-width: 0;overflow: hidden;text-align: left;background-color: #f0f8ff;}#sk-container-id-3 div.sk-toggleable__content pre {margin: 0.2em;color: black;border-radius: 0.25em;background-color: #f0f8ff;}#sk-container-id-3 input.sk-toggleable__control:checked~div.sk-toggleable__content {max-height: 200px;max-width: 100%;overflow: auto;}#sk-container-id-3 input.sk-toggleable__control:checked~label.sk-toggleable__label-arrow:before {content: \"▾\";}#sk-container-id-3 div.sk-estimator input.sk-toggleable__control:checked~label.sk-toggleable__label {background-color: #d4ebff;}#sk-container-id-3 div.sk-label input.sk-toggleable__control:checked~label.sk-toggleable__label {background-color: #d4ebff;}#sk-container-id-3 input.sk-hidden--visually {border: 0;clip: rect(1px 1px 1px 1px);clip: rect(1px, 1px, 1px, 1px);height: 1px;margin: -1px;overflow: hidden;padding: 0;position: absolute;width: 1px;}#sk-container-id-3 div.sk-estimator {font-family: monospace;background-color: #f0f8ff;border: 1px dotted black;border-radius: 0.25em;box-sizing: border-box;margin-bottom: 0.5em;}#sk-container-id-3 div.sk-estimator:hover {background-color: #d4ebff;}#sk-container-id-3 div.sk-parallel-item::after {content: \"\";width: 100%;border-bottom: 1px solid gray;flex-grow: 1;}#sk-container-id-3 div.sk-label:hover label.sk-toggleable__label {background-color: #d4ebff;}#sk-container-id-3 div.sk-serial::before {content: \"\";position: absolute;border-left: 1px solid gray;box-sizing: border-box;top: 0;bottom: 0;left: 50%;z-index: 0;}#sk-container-id-3 div.sk-serial {display: flex;flex-direction: column;align-items: center;background-color: white;padding-right: 0.2em;padding-left: 0.2em;position: relative;}#sk-container-id-3 div.sk-item {position: relative;z-index: 1;}#sk-container-id-3 div.sk-parallel {display: flex;align-items: stretch;justify-content: center;background-color: white;position: relative;}#sk-container-id-3 div.sk-item::before, #sk-container-id-3 div.sk-parallel-item::before {content: \"\";position: absolute;border-left: 1px solid gray;box-sizing: border-box;top: 0;bottom: 0;left: 50%;z-index: -1;}#sk-container-id-3 div.sk-parallel-item {display: flex;flex-direction: column;z-index: 1;position: relative;background-color: white;}#sk-container-id-3 div.sk-parallel-item:first-child::after {align-self: flex-end;width: 50%;}#sk-container-id-3 div.sk-parallel-item:last-child::after {align-self: flex-start;width: 50%;}#sk-container-id-3 div.sk-parallel-item:only-child::after {width: 0;}#sk-container-id-3 div.sk-dashed-wrapped {border: 1px dashed gray;margin: 0 0.4em 0.5em 0.4em;box-sizing: border-box;padding-bottom: 0.4em;background-color: white;}#sk-container-id-3 div.sk-label label {font-family: monospace;font-weight: bold;display: inline-block;line-height: 1.2em;}#sk-container-id-3 div.sk-label-container {text-align: center;}#sk-container-id-3 div.sk-container {/* jupyter's `normalize.less` sets `[hidden] { display: none; }` but bootstrap.min.css set `[hidden] { display: none !important; }` so we also need the `!important` here to be able to override the default hidden behavior on the sphinx rendered scikit-learn.org. See: https://github.com/scikit-learn/scikit-learn/issues/21755 */display: inline-block !important;position: relative;}#sk-container-id-3 div.sk-text-repr-fallback {display: none;}</style><div id=\"sk-container-id-3\" class=\"sk-top-container\"><div class=\"sk-text-repr-fallback\"><pre>XGBClassifier(base_score=None, booster=None, callbacks=None,\n",
       "              colsample_bylevel=None, colsample_bynode=None,\n",
       "              colsample_bytree=0.10237138139856099, early_stopping_rounds=None,\n",
       "              enable_categorical=False, eval_metric=None, feature_types=None,\n",
       "              gamma=0.00645460043680281, gpu_id=None, grow_policy=None,\n",
       "              importance_type=None, interaction_constraints=None,\n",
       "              learning_rate=0.027482111535622012, max_bin=None,\n",
       "              max_cat_threshold=None, max_cat_to_onehot=None,\n",
       "              max_delta_step=None, max_depth=8, max_leaves=None,\n",
       "              min_child_weight=2, missing=nan, monotone_constraints=None,\n",
       "              n_estimators=63, n_jobs=None, num_parallel_tree=None,\n",
       "              predictor=None, random_state=None, ...)</pre><b>In a Jupyter environment, please rerun this cell to show the HTML representation or trust the notebook. <br />On GitHub, the HTML representation is unable to render, please try loading this page with nbviewer.org.</b></div><div class=\"sk-container\" hidden><div class=\"sk-item\"><div class=\"sk-estimator sk-toggleable\"><input class=\"sk-toggleable__control sk-hidden--visually\" id=\"sk-estimator-id-3\" type=\"checkbox\" checked><label for=\"sk-estimator-id-3\" class=\"sk-toggleable__label sk-toggleable__label-arrow\">XGBClassifier</label><div class=\"sk-toggleable__content\"><pre>XGBClassifier(base_score=None, booster=None, callbacks=None,\n",
       "              colsample_bylevel=None, colsample_bynode=None,\n",
       "              colsample_bytree=0.10237138139856099, early_stopping_rounds=None,\n",
       "              enable_categorical=False, eval_metric=None, feature_types=None,\n",
       "              gamma=0.00645460043680281, gpu_id=None, grow_policy=None,\n",
       "              importance_type=None, interaction_constraints=None,\n",
       "              learning_rate=0.027482111535622012, max_bin=None,\n",
       "              max_cat_threshold=None, max_cat_to_onehot=None,\n",
       "              max_delta_step=None, max_depth=8, max_leaves=None,\n",
       "              min_child_weight=2, missing=nan, monotone_constraints=None,\n",
       "              n_estimators=63, n_jobs=None, num_parallel_tree=None,\n",
       "              predictor=None, random_state=None, ...)</pre></div></div></div></div></div>"
      ],
      "text/plain": [
       "XGBClassifier(base_score=None, booster=None, callbacks=None,\n",
       "              colsample_bylevel=None, colsample_bynode=None,\n",
       "              colsample_bytree=0.10237138139856099, early_stopping_rounds=None,\n",
       "              enable_categorical=False, eval_metric=None, feature_types=None,\n",
       "              gamma=0.00645460043680281, gpu_id=None, grow_policy=None,\n",
       "              importance_type=None, interaction_constraints=None,\n",
       "              learning_rate=0.027482111535622012, max_bin=None,\n",
       "              max_cat_threshold=None, max_cat_to_onehot=None,\n",
       "              max_delta_step=None, max_depth=8, max_leaves=None,\n",
       "              min_child_weight=2, missing=nan, monotone_constraints=None,\n",
       "              n_estimators=63, n_jobs=None, num_parallel_tree=None,\n",
       "              predictor=None, random_state=None, ...)"
      ]
     },
     "execution_count": 31,
     "metadata": {},
     "output_type": "execute_result"
    }
   ],
   "source": [
    "params = trial.params\n",
    "XGB = XGBClassifier(**params)\n",
    "XGB.fit(X_train, y_train)\n"
   ]
  },
  {
   "cell_type": "code",
   "execution_count": 32,
   "id": "b200b34b",
   "metadata": {},
   "outputs": [],
   "source": [
    "XGB_pred = XGB.predict(X_val)\n"
   ]
  },
  {
   "cell_type": "code",
   "execution_count": 33,
   "id": "11ab252a",
   "metadata": {},
   "outputs": [
    {
     "name": "stdout",
     "output_type": "stream",
     "text": [
      "Accuracy after tuning: 67.47%\n"
     ]
    }
   ],
   "source": [
    "accuracy = accuracy_score(y_val, XGB_pred)\n",
    "print(\"Accuracy after tuning: %.2f%%\" % (accuracy * 100.0))"
   ]
  },
  {
   "cell_type": "code",
   "execution_count": 34,
   "id": "bc706b29",
   "metadata": {},
   "outputs": [
    {
     "name": "stdout",
     "output_type": "stream",
     "text": [
      "              precision    recall  f1-score   support\n",
      "\n",
      "           0       0.67      0.02      0.05       245\n",
      "           1       0.67      0.99      0.80       499\n",
      "\n",
      "    accuracy                           0.67       744\n",
      "   macro avg       0.67      0.51      0.43       744\n",
      "weighted avg       0.67      0.67      0.55       744\n",
      "\n"
     ]
    }
   ],
   "source": [
    "print(classification_report(y_val, XGB_pred))"
   ]
  },
  {
   "cell_type": "code",
   "execution_count": 35,
   "id": "62ddbffe",
   "metadata": {},
   "outputs": [],
   "source": [
    "\n",
    "XGB_submission = pd.read_csv('./sample_submission.csv')\n",
    "XGB_pred = pd.DataFrame(XGB_pred)\n",
    "XGB_submission['first_party_winner'] = XGB_pred\n",
    "XGB_submission.to_csv(\"./XGB_tryout_submission.csv\", index=False)"
   ]
  },
  {
   "cell_type": "code",
   "execution_count": null,
   "id": "b665be13",
   "metadata": {},
   "outputs": [],
   "source": []
  }
 ],
 "metadata": {
  "kernelspec": {
   "display_name": "Python 3 (ipykernel)",
   "language": "python",
   "name": "python3"
  },
  "language_info": {
   "codemirror_mode": {
    "name": "ipython",
    "version": 3
   },
   "file_extension": ".py",
   "mimetype": "text/x-python",
   "name": "python",
   "nbconvert_exporter": "python",
   "pygments_lexer": "ipython3",
   "version": "3.10.9"
  }
 },
 "nbformat": 4,
 "nbformat_minor": 5
}
